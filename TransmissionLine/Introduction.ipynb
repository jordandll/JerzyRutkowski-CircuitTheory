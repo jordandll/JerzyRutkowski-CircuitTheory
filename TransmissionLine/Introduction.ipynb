{
 "cells": [
  {
   "cell_type": "markdown",
   "id": "2e949450",
   "metadata": {},
   "source": [
    "# Introduction\n",
    "### *Chapter 5 Section 1* -- Transmission Line\n",
    "\n",
    "Transmission line commonly used to carry electrical energy and/or information over a\n",
    "distance is considered. It is assumed that a transmission line is any arrangement of two\n",
    "continuous conductors having the required length l and a uniform cross-section. In general,\n",
    "transmission line connects two circuits built of **lumped components**, each of which is usually\n",
    "designated to have one parameter dominant: inductance, capacitance, resistance or\n",
    "conductance which are lumped constants (parameters). Transmission system built of input\n",
    "circuit, the transmitter or source, transmission line and output circuit, the receiver or load, is\n",
    "shown in Fig. 5.1.1.  \n",
    "\n",
    "![Fig-5.1.1](Figures/Fig-5.1.1.png)"
   ]
  },
  {
   "cell_type": "markdown",
   "id": "8ee86fa8",
   "metadata": {},
   "source": [
    "Like any device that carries current and sustains a voltage, the transmission line must\n",
    "inevitably have some inductance, capacitance, resistance and conductance. The values of all\n",
    "four parameters (constants) increase with the line length. Thus, an axially uniform\n",
    "transmission line is characterized by its length l and **distributed constants** (parameters). They are called **per unit length parameters** or **primary parameters**:  \n",
    "\n",
    "* inductance per unit length $L_\\mathrm{ul} = L \\;[\\mathrm{H}/\\mathrm{m}]$,\n",
    "* capacitance per unit length $C_\\mathrm{ul} = C \\;[\\mathrm{F}/\\mathrm{m}]$,\n",
    "* resistance per unit length $R_\\mathrm{ul} = R \\;[\\Omega/\\mathrm{m}]$,\n",
    "* conductance per unit length $G_\\mathrm{ul} = G \\;[\\mathrm{S}/\\mathrm{m}]$."
   ]
  },
  {
   "cell_type": "markdown",
   "id": "6b4d171f",
   "metadata": {},
   "source": [
    "Inductance and resistance must act like series elements, since they each are additive when in\n",
    "series, while capacitance and conductance, which are each additive when in parallel, are shunt\n",
    "elements. Transmission line of any length can therefore be represented by dividing the line\n",
    "into small elements of length $\\Delta x\\to 0$, each of which is a two-port section having\n",
    "infinitesimally small components, as shown in Fig. 5.1.2.  \n",
    "\n",
    "![Fig-5.1.2](Figures/Fig-5.1.2.png)"
   ]
  },
  {
   "cell_type": "markdown",
   "id": "17aebcb6",
   "metadata": {},
   "source": [
    "Then, it is obvious that current or voltage at any distance $x$ is function of two arguments, time\n",
    "and distance:  \n",
    "\n",
    "\\begin{equation}\\tag{2}\n",
    "    i(t, x) = i_x(t)\\quad\\quad\\text{and}\\quad\\quad u(t, x) = u_x(t)\n",
    "\\end{equation}"
   ]
  },
  {
   "cell_type": "markdown",
   "id": "d2f2714d",
   "metadata": {},
   "source": [
    "Applying KVL to Fig. 5.1.2 two-port gives:  \n",
    "\n",
    "\\begin{equation}\\tag{3a}\n",
    "    u(t,x) = R\\Delta xi(t,x) + L\\Delta xi'(t,x) + u\\big(t,x+\\Delta x\\big)\\quad\\quad\\text{where }i'(t,x) = \\frac{\\partial i(t,x)}{\\partial t}\n",
    "\\end{equation}\n",
    "    "
   ]
  },
  {
   "cell_type": "markdown",
   "id": "5a300919",
   "metadata": {},
   "source": [
    "Subtracting throughout equation (3a) by $u\\big(t,x+\\Delta x\\big)$ and dividing throughout said equation by $-\\Delta x$ gives:  \n",
    "\n",
    "\\begin{equation}\\tag{3b}\n",
    "    \\frac{u(t, x+\\Delta x\\big) - u(t,x)}{\\Delta x} = \\frac{\\Delta u(t,x)}{\\Delta x}= -\\big(Ri(t,x) + Li'(t,x)\\big)\n",
    "\\end{equation}"
   ]
  },
  {
   "cell_type": "markdown",
   "id": "10620244",
   "metadata": {},
   "source": [
    "On the limit as $\\Delta x\\to0$, equation (3b) becomes,  \n",
    "\n",
    "\\begin{equation}\\tag{3}\n",
    "    \\frac{\\partial u(t,x)}{\\partial x} = -\\left(Ri(t,x) + L\\frac{\\partial i(t,x)}{\\partial t}\\right)\n",
    "\\end{equation}"
   ]
  },
  {
   "cell_type": "markdown",
   "id": "be73efaa",
   "metadata": {},
   "source": [
    "Similarly, applying KCL to fig-5.1.2 gives:  \n",
    "\n",
    "\\begin{equation}\\tag{4a}\n",
    "    i(t,x) = i\\big(t, x+\\Delta x\\big) + C\\Delta x \\frac{\\partial u\\big(t,x+\\Delta x\\big)}{\\partial t} + G\\Delta x u\\big(t, x + \\Delta x\\big)\n",
    "\\end{equation}"
   ]
  },
  {
   "cell_type": "markdown",
   "id": "8a8fece4",
   "metadata": {},
   "source": [
    "Subtracting throughout equation (4a) by $i\\big(t,x+\\Delta x\\big)$ and dividing throughout said equation by $\\Delta x$ gives:  \n",
    "\n",
    "\\begin{equation}\\tag{4b}\n",
    "    -\\frac{i\\big(t,x+\\Delta x\\big) - i(t,x)}{\\Delta x} = -\\frac{\\Delta i(t,x)}{\\Delta x}=C\\,\\frac{\\partial u\\big(t,x+\\Delta x\\big)}{\\partial t} + Gu\\big(t,x+\\Delta x\\big)\n",
    "\\end{equation}"
   ]
  },
  {
   "cell_type": "markdown",
   "id": "7e0e0d1a",
   "metadata": {},
   "source": [
    "On the limit as $\\Delta x\\to 0$, equation (4b) becomes:  \n",
    "\n",
    "\\begin{equation}\\tag{4}\n",
    "    -\\frac{\\partial i(t,x)}{\\partial x} = C\\,\\frac{\\partial u(t,x)}{\\partial t} + Gu(t,x)\n",
    "\\end{equation}"
   ]
  },
  {
   "cell_type": "markdown",
   "id": "f68d3e6c",
   "metadata": {},
   "source": [
    "Differential equations (5.1.3) and (5.1.4) are the general **transmission line equations**, so\n",
    "called **telegraphist’s equations**. Solution of these equations, designation of the current and/or\n",
    "voltage (5.1.2), for the given source and load, is the task of transmission line analysis. Two\n",
    "types of analyses are discussed: transient analysis for aperiodic input signal and ac-steady\n",
    "state analysis."
   ]
  },
  {
   "cell_type": "markdown",
   "id": "8e1aafaf",
   "metadata": {},
   "source": [
    "To solve the aforementioned differential equations (DEs), first, let $i_x(t):=i_x$ and $u_x(t):=u_x$.  Assuming the source as a Thevenin equivalent voltage of $E_\\mathrm{o}$ and an internal impedance (Thevenin impedance) of $Z_\\mathrm{t}(s)$ and the load has an impedance of $Z_l(s)$, via KVL and element equations,  \n",
    "\n",
    "\\begin{equation}\\tag{5a}\n",
    "    u_0(t) = E_\\mathrm{o} - R_\\mathrm{t}i_0(t) - L_\\mathrm{t}i_0'(t) - \\frac{1}{C}\\,\\int i_0(t)\\,\\mathrm{d}t\n",
    "\\end{equation}"
   ]
  },
  {
   "cell_type": "markdown",
   "id": "b73a27d5",
   "metadata": {},
   "source": [
    "Laplace transforming both sides of the above equation gives:  \n",
    "\n",
    "\\begin{equation}\\tag{5b}\n",
    "    U_0(s) = \\frac{E_\\mathrm{o}}{s} - R_\\mathrm{t}I_0(s) - sL_\\mathrm{t}I_0(s) + L_\\mathrm{t}i_0(0) - \\frac{I_0(s)}{sC} - \\frac{u_{C\\mathrm{t}}(0)}{s}\n",
    "\\end{equation}"
   ]
  },
  {
   "cell_type": "markdown",
   "id": "441d714e",
   "metadata": {},
   "source": [
    "Assuming $i_x(0)=0$, $u_x(0) = 0$ and $u_{C\\mathrm{t}}(0) = 0$, via equations (5a,b),  \n",
    "\n",
    "$$ E_\\mathrm{o} = L_\\mathrm{t}i_0'(0) \\quad\\implies\\quad i_0'(0) = \\frac{E_\\mathrm{o}}{L_\\mathrm{t}}$$"
   ]
  },
  {
   "cell_type": "markdown",
   "id": "07499406",
   "metadata": {},
   "source": [
    "and,  \n",
    "\n",
    "$$ U_0(s) = \\frac{E_\\mathrm{o}}{s} - R_\\mathrm{t}I_0(s) - sL_\\mathrm{t}I_0(s) - \\frac{I_0(s)}{sC}$$"
   ]
  },
  {
   "cell_type": "markdown",
   "id": "cf9328c4",
   "metadata": {},
   "source": [
    "Multiplying throughout by $sC$ gives:  \n",
    "\n",
    "$$ sCU_0(s) - CE_\\mathrm{o} = -I_0(s)\\big(sCR_\\mathrm{t} + s^2CL_\\mathrm{t} + 1\\big) $$"
   ]
  },
  {
   "cell_type": "markdown",
   "id": "2199d4bb",
   "metadata": {},
   "source": [
    "\\begin{equation}\\tag{6a}\n",
    "    I_0(s) = C\\,\\frac{E_\\mathrm{o} - sU_0(s)}{s^2CL_\\mathrm{t} + sCR_\\mathrm{t} + 1}\n",
    "\\end{equation}"
   ]
  },
  {
   "cell_type": "markdown",
   "id": "bab8f551",
   "metadata": {},
   "source": [
    "$$ = \\frac{E_\\mathrm{o}-sU_0(s)}{L_\\mathrm{t}D}\\quad\\quad\\text{where }D = s^2 + s\\,\\frac{R_\\mathrm{t}}{L_\\mathrm{t}} + \\frac{1}{C_\\mathrm{t}L_\\mathrm{t}}$$"
   ]
  },
  {
   "cell_type": "markdown",
   "id": "45b8a28b",
   "metadata": {},
   "source": [
    "$$ (s + \\alpha)^2 = s^2 + 2\\alpha s + \\alpha^2 \\quad\\implies\\quad 2\\alpha = \\frac{R_\\mathrm{t}}{L_\\mathrm{t}}$$"
   ]
  },
  {
   "cell_type": "markdown",
   "id": "d764e8c6",
   "metadata": {},
   "source": [
    "$$ \\alpha^2 + \\omega = \\frac{1}{C_\\mathrm{t}L_\\mathrm{t}}\\quad\\implies\\quad \\omega = \\frac{1}{C_\\mathrm{t}L_\\mathrm{t}} - \\frac{R_\\mathrm{t}^2}{4L_\\mathrm{t}^2}$$"
   ]
  },
  {
   "cell_type": "markdown",
   "id": "fb4a1a08",
   "metadata": {},
   "source": [
    "\\begin{equation}\\tag{7}\n",
    "    \\omega = \\frac{4L_\\mathrm{t} - C_\\mathrm{t}R_\\mathrm{t}^2}{4C_\\mathrm{t}L_\\mathrm{t}^2}\\quad\\quad\\text{and}\\quad\\quad \\alpha = \\frac{R_\\mathrm{t}}{2L_\\mathrm{t}}\n",
    "\\end{equation}"
   ]
  },
  {
   "cell_type": "markdown",
   "id": "e285e439",
   "metadata": {},
   "source": [
    "Thus,  \n",
    "\n",
    "\\begin{equation}\\tag{6a}\n",
    "    I_0(s) = \\frac{1}{L_\\mathrm{t}}\\,\\frac{E_\\mathrm{o} - sU_0(s)}{(s+\\alpha)^2 + \\omega}\n",
    "\\end{equation}"
   ]
  },
  {
   "cell_type": "markdown",
   "id": "cde1acb7",
   "metadata": {},
   "source": [
    "$$  = \\frac{1}{L_\\mathrm{t}}\\left(\\frac{E_\\mathrm{o}}{(s+\\alpha)^2 + \\omega} - U_0(s)\\,\\frac{s}{(s+\\alpha)^2 + \\omega}\\right) $$"
   ]
  },
  {
   "cell_type": "markdown",
   "id": "279f038b",
   "metadata": {},
   "source": [
    "\\begin{equation}\\tag{6a}\n",
    "    = \\frac{1}{L_\\mathrm{t}}\\left(\\frac{E_\\mathrm{o}}{\\omega}\\frac{\\omega}{(s+\\alpha)^2 +\\omega} - U_0(s)\\,\\frac{s+\\alpha}{(s+\\alpha)^2 + \\omega} + \\frac{U_0(s)\\alpha}{\\omega}\\frac{\\omega}{(s+\\alpha)^2 + \\omega}\\right)\n",
    "\\end{equation}"
   ]
  },
  {
   "cell_type": "markdown",
   "id": "514a0346",
   "metadata": {},
   "source": [
    "Inverse transforming throughout equation (6a) gives:  \n",
    "\n",
    "\\begin{equation}\\tag{8}\n",
    "    \\mathfrak{L}^{-1}\\{I_0(s)\\} = i_0(t) = \\frac{1}{L_\\mathrm{t}}\\left(\\frac{E_\\mathrm{o}}{\\omega}e^{-\\alpha t}\\sin\\omega t - (f*g)(t) + \\frac{\\alpha}{\\omega}(f*h)(t)\\right)\n",
    "\\end{equation}"
   ]
  },
  {
   "cell_type": "markdown",
   "id": "6651ff15",
   "metadata": {},
   "source": [
    "where,  \n",
    "* $f(t) = u_0(t)$,\n",
    "* $g(t) = e^{-\\alpha t}\\cos\\omega t$,\n",
    "* $(h * f)(t) = \\int_0^t f(\\tau)h(t-\\tau)\\,\\mathrm{d}\\tau$,\n",
    "* and $(g * f)(t) = \\int_0^t f(\\tau)g(t-\\tau)\\,\\mathrm{d}\\tau$."
   ]
  },
  {
   "cell_type": "markdown",
   "id": "4fafec4e",
   "metadata": {},
   "source": [
    "Note that '$*$' denotes [convolution](https://en.wikipedia.org/wiki/Convolution)."
   ]
  },
  {
   "cell_type": "markdown",
   "id": "64ebb4a6",
   "metadata": {},
   "source": [
    "The above equation can be simplified by converting each term that gives a sinusoid into it's complex number representation -- the direction of the complex number is equal to the phase angle of the sinusoid it is representing and the magnitude is equal to the amplitude of said sinusoid --  and then performing complex number arithmetic on the resulting expression to simplify it into one complex number and then converting said complex number into it a sinusoid that it may represent according to the aforementiond principles regarding sinusoid to complex number conversion."
   ]
  }
 ],
 "metadata": {
  "kernelspec": {
   "display_name": "Python 3 (ipykernel)",
   "language": "python",
   "name": "python3"
  },
  "language_info": {
   "codemirror_mode": {
    "name": "ipython",
    "version": 3
   },
   "file_extension": ".py",
   "mimetype": "text/x-python",
   "name": "python",
   "nbconvert_exporter": "python",
   "pygments_lexer": "ipython3",
   "version": "3.10.6"
  }
 },
 "nbformat": 4,
 "nbformat_minor": 5
}
