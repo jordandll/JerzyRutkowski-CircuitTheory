{
 "cells": [
  {
   "cell_type": "markdown",
   "id": "2e949450",
   "metadata": {},
   "source": [
    "# Introduction\n",
    "### *Chapter 5 Section 1* -- Transmission Line\n",
    "\n",
    "Transmission line commonly used to carry electrical energy and/or information over a\n",
    "distance is considered. It is assumed that a transmission line is any arrangement of two\n",
    "continuous conductors having the required length l and a uniform cross-section. In general,\n",
    "transmission line connects two circuits built of **lumped components**, each of which is usually\n",
    "designated to have one parameter dominant: inductance, capacitance, resistance or\n",
    "conductance which are lumped constants (parameters). Transmission system built of input\n",
    "circuit, the transmitter or source, transmission line and output circuit, the receiver or load, is\n",
    "shown in Fig. 5.1.1.  \n",
    "\n",
    "![Fig-5.1.1](Figures/Fig-5.1.1.png)"
   ]
  },
  {
   "cell_type": "markdown",
   "id": "8ee86fa8",
   "metadata": {},
   "source": [
    "Like any device that carries current and sustains a voltage, the transmission line must\n",
    "inevitably have some inductance, capacitance, resistance and conductance. The values of all\n",
    "four parameters (constants) increase with the line length. Thus, an axially uniform\n",
    "transmission line is characterized by its length l and **distributed constants** (parameters). They are called **per unit length parameters** or **primary parameters**:  \n",
    "\n",
    "* inductance per unit length $L_\\mathrm{ul} = L \\;[\\mathrm{H}/\\mathrm{m}]$,\n",
    "* capacitance per unit length $C_\\mathrm{ul} = C \\;[\\mathrm{F}/\\mathrm{m}]$,\n",
    "* resistance per unit length $R_\\mathrm{ul} = R \\;[\\Omega/\\mathrm{m}]$,\n",
    "* conductance per unit length $G_\\mathrm{ul} = G \\;[\\mathrm{S}/\\mathrm{m}]$."
   ]
  },
  {
   "cell_type": "markdown",
   "id": "6b4d171f",
   "metadata": {},
   "source": [
    "Inductance and resistance must act like series elements, since they each are additive when in\n",
    "series, while capacitance and conductance, which are each additive when in parallel, are shunt\n",
    "elements. Transmission line of any length can therefore be represented by dividing the line\n",
    "into small elements of length $\\Delta x\\to 0$, each of which is a two-port section having\n",
    "infinitesimally small components, as shown in Fig. 5.1.2.  \n",
    "\n",
    "![Fig-5.1.2](Figures/Fig-5.1.2.png)"
   ]
  },
  {
   "cell_type": "markdown",
   "id": "17aebcb6",
   "metadata": {},
   "source": [
    "Then, it is obvious that current or voltage at any distance x is function of two arguments, time\n",
    "and distance:  \n",
    "\n",
    "\\begin{equation}\\tag{2}\n",
    "    i(t, x) = i_x(t)\\quad\\quad\\text{and}\\quad\\quad u(t, x) = u_x(t)\n",
    "\\end{equation}"
   ]
  },
  {
   "cell_type": "markdown",
   "id": "d2f2714d",
   "metadata": {},
   "source": [
    "Applying KVL to Fig. 5.1.2 two-port gives:  \n",
    "\n",
    "\\begin{equation}\\tag{3a}\n",
    "    u(t,x) = R\\Delta xi(t,x) + L\\Delta xi'(t,x) + u\\big(t,x+\\Delta x\\big)\\quad\\quad\\text{where }i'(t,x) = \\frac{\\partial i(t,x)}{\\partial t}\n",
    "\\end{equation}\n",
    "    "
   ]
  },
  {
   "cell_type": "markdown",
   "id": "5a300919",
   "metadata": {},
   "source": [
    "Subtracting throughout equation (3a) by $u\\big(t,x+\\Delta x\\big)$ and dividing throughout said equation by $-\\Delta x$ gives:  \n",
    "\n",
    "\\begin{equation}\\tag{3b}\n",
    "    \\frac{u(t, x+\\Delta x\\big) - u(t,x)}{\\Delta x} = \\frac{\\Delta u(t,x)}{\\Delta x}= -\\big(Ri(t,x) + Li'(t,x)\\big)\n",
    "\\end{equation}"
   ]
  },
  {
   "cell_type": "markdown",
   "id": "10620244",
   "metadata": {},
   "source": [
    "On the limit as $\\Delta x\\to0$, equation (3b) becomes,  \n",
    "\n",
    "\\begin{equation}\\tag{3}\n",
    "    \\frac{\\partial u(t,x)}{\\partial x} = -\\left(Ri(t,x) + L\\frac{\\partial i(t,x)}{\\partial t}\\right)\n",
    "\\end{equation}"
   ]
  },
  {
   "cell_type": "markdown",
   "id": "be73efaa",
   "metadata": {},
   "source": [
    "Similarly, applying KCL to fig-5.1.2 gives:  \n",
    "\n",
    "\\begin{equation}\\tag{4a}\n",
    "    i(t,x) = i\\big(t, x+\\Delta x\\big) + C\\Delta x \\frac{\\partial u\\big(t,x+\\Delta x\\big)}{\\partial t} + G\\Delta x u\\big(t, x + \\Delta x\\big)\n",
    "\\end{equation}"
   ]
  },
  {
   "cell_type": "markdown",
   "id": "8a8fece4",
   "metadata": {},
   "source": [
    "Subtracting throughout equation (4a) by $i\\big(t,x+\\Delta x\\big)$ and dividing throughout said equation by $\\Delta x$ gives:  \n",
    "\n",
    "\\begin{equation}\\tag{4b}\n",
    "    -\\frac{i\\big(t,x+\\Delta x\\big) - i(t,x)}{\\Delta x} = -\\frac{\\Delta i(t,x)}{\\Delta x}=C\\,\\frac{\\partial u\\big(t,x+\\Delta x\\big)}{\\partial t} + Gu\\big(t,x+\\Delta x\\big)\n",
    "\\end{equation}"
   ]
  },
  {
   "cell_type": "markdown",
   "id": "7e0e0d1a",
   "metadata": {},
   "source": [
    "On the limit as $\\Delta x\\to 0$, equation (4b) becomes:  \n",
    "\n",
    "\\begin{equation}\\tag{4}\n",
    "    -\\frac{\\partial i(t,x)}{\\partial x} = C\\,\\frac{\\partial u\\big(t,x+\\Delta x\\big)}{\\partial t} + Gu\\big(t,x+\\Delta x\\big)\n",
    "\\end{equation}"
   ]
  },
  {
   "cell_type": "markdown",
   "id": "f68d3e6c",
   "metadata": {},
   "source": [
    "Differential equations (5.1.3) and (5.1.4) are the general **transmission line equations**, so\n",
    "called **telegraphist’s equations**. Solution of these equations, designation of the current and/or\n",
    "voltage (5.1.2), for the given source and load, is the task of transmission line analysis. Two\n",
    "types of analyses are discussed: transient analysis for aperiodic input signal and ac-steady\n",
    "state analysis."
   ]
  }
 ],
 "metadata": {
  "kernelspec": {
   "display_name": "Python 3 (ipykernel)",
   "language": "python",
   "name": "python3"
  },
  "language_info": {
   "codemirror_mode": {
    "name": "ipython",
    "version": 3
   },
   "file_extension": ".py",
   "mimetype": "text/x-python",
   "name": "python",
   "nbconvert_exporter": "python",
   "pygments_lexer": "ipython3",
   "version": "3.10.6"
  }
 },
 "nbformat": 4,
 "nbformat_minor": 5
}
