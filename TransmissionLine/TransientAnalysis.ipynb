{
 "cells": [
  {
   "cell_type": "markdown",
   "id": "867acd44",
   "metadata": {},
   "source": [
    "# Transient Analysis\n",
    "### *Chapter 5 Section 2* -- Transmission Line\n",
    "\n",
    "Differential equations (5.1.3) and (5.1.4) can be solved using Laplace transformation. Zero\n",
    "initial conditions are assumed.  \n",
    "\n",
    "\\begin{equation}\\tag{1}\n",
    "\t\\text{a: }\\;i(0,x) = i_x(0) = 0\\quad\\quad\\text{and}\\quad\\quad\\text{b: }\\;u(0,x)=u_x(0)=0\n",
    "\\end{equation}  \n",
    "\n",
    "Transmission system described in the $s$-domain is presented in Fig. 5.2.1.  \n",
    "\n",
    "![Fig-5.2.1](Figures/Fig-5.2.1.png)"
   ]
  },
  {
   "cell_type": "markdown",
   "id": "8d8fa24f",
   "metadata": {},
   "source": [
    "Skipping the mathematics, the following solution in $s$-domain is obtained:  \n",
    "\n",
    "\\begin{equation}\\tag{2a1}\n",
    "\tU_x(s) = U_0(s)\\cosh[\\gamma(s)x] - I_0(s)Z(s)\\sinh[\\gamma(s)x]\n",
    "\\end{equation}"
   ]
  },
  {
   "cell_type": "markdown",
   "id": "d9214947",
   "metadata": {},
   "source": [
    "\\begin{equation}\\tag{2a2}\n",
    "    I_x(s) = I_0(s)\\cosh[\\gamma(s)x] - \\frac{U_0(s)}{Z(s)}\\,\\sinh[\\gamma(s)x]\n",
    "\\end{equation}"
   ]
  },
  {
   "cell_type": "markdown",
   "id": "ec6713cb",
   "metadata": {},
   "source": [
    "\\begin{equation}\\tag{2b1}\n",
    "\tU_x(s) = U_l(s)\\cosh[\\gamma(s)(l-x)] - I_l(s)Z(s)\\sinh[\\gamma(s)(l-x)]\n",
    "\\end{equation}"
   ]
  },
  {
   "cell_type": "markdown",
   "id": "6ca24ae8",
   "metadata": {},
   "source": [
    "\\begin{equation}\\tag{2b2}\n",
    "    I_x(s) = I_l(s)\\cosh[\\gamma(s)(l-x)] - \\frac{U_l(s)}{Z(s)}\\,\\sinh[\\gamma(s)(l-x)]\n",
    "\\end{equation}"
   ]
  },
  {
   "cell_type": "markdown",
   "id": "ecead1ae",
   "metadata": {},
   "source": [
    "where,  \n",
    "\n",
    "\\begin{equation}\\tag{3}\n",
    "\tZ(s) = \\sqrt{\\frac{R+sL}{G+sC}}\n",
    "\\end{equation}\n",
    "\n",
    "and,  \n",
    "\n",
    "\\begin{equation}\\tag{4}\n",
    "\t\\gamma(s) = \\sqrt{(R+sL)(G+sC)}\n",
    "\\end{equation}  \n",
    "\n",
    "are the line *secondary parameters*, the so called the **characteristic impedance** $Z(s)$ and the\n",
    "**propagation constant** $\\gamma(s)$.  \n",
    "\n",
    "That way, the voltage and the current at a distance $x$ are expressed in terms of the input\n",
    "voltage and current (5.2.2a) or the output voltage and current (5.2.2b)."
   ]
  }
 ],
 "metadata": {
  "kernelspec": {
   "display_name": "Python 3 (ipykernel)",
   "language": "python",
   "name": "python3"
  },
  "language_info": {
   "codemirror_mode": {
    "name": "ipython",
    "version": 3
   },
   "file_extension": ".py",
   "mimetype": "text/x-python",
   "name": "python",
   "nbconvert_exporter": "python",
   "pygments_lexer": "ipython3",
   "version": "3.10.6"
  }
 },
 "nbformat": 4,
 "nbformat_minor": 5
}
