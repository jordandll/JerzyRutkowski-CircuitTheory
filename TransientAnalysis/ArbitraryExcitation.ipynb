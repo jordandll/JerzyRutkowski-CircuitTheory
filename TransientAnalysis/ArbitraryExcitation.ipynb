{
 "cells": [
  {
   "cell_type": "markdown",
   "id": "ecb5db08",
   "metadata": {},
   "source": [
    "# Circuits with Arbitrary Excitation\n",
    "### *Chapter 3.3* -- Transient Analysis\n",
    "\n",
    "Transient response caused by arbitrary aperiodic excitation will be considered. In most cases,\n",
    "circuit analysis is much more narrowly defined than that of finding all responses to all\n",
    "excitations. Very often it is limited to Single-Input-Single–Output (SISO) analysis. Then,\n",
    "transfer function approach is preferred, as presented in Chapter 2.7 for dc circuits. The same\n",
    "approach is preferred in transient analysis in circuits with arbitrary aperiodic excitation.\n",
    "Transfer function in $s$-domain will be defined at first. Then, its use to circuit transient analysis\n",
    "will be presented."
   ]
  },
  {
   "cell_type": "markdown",
   "id": "f3576f9e",
   "metadata": {},
   "source": [
    "## Transfer Function – Properties and Selected Examples\n",
    "\n",
    "Transient response may be considered as sum of two components: natural response and forced\n",
    "response, as presented in Fig. 3.2.1 for time-domain signals. After setting initial conditions to\n",
    "zero and $t$-domain to $s$-domain transformation, the SISO system described in the $s$-domain is\n",
    "obtained, as presented in Fig. 3.3.1.  \n",
    "\n",
    "![Fig-3.3.1](Figures/Fig-3.3.1.png)"
   ]
  },
  {
   "cell_type": "markdown",
   "id": "852e07c1",
   "metadata": {},
   "source": [
    "In the $s$-domain, a linear circuit input-output pair is related by the system of linear equations.\n",
    "Then, transfer function in the $s$-domain can be defined.  \n",
    "\n",
    "**Laplace transfer function** of a circuit is defined as the ratio of the response of the circuit to\n",
    "its excitation, expressed in the $s$-domain, with the assumption that all initial conditions are set\n",
    "to zero:  \n",
    "\n",
    "\\begin{equation}\\tag{1}\n",
    "    K(s)= \\frac{Y(s)}{X(s)}\n",
    "\\end{equation}    "
   ]
  },
  {
   "cell_type": "markdown",
   "id": "8b626991",
   "metadata": {},
   "source": [
    "Thus, problem of finding the transient response can be solved using the concept of Laplace\n",
    "transfer function, the algorithm is as follows.  "
   ]
  },
  {
   "cell_type": "markdown",
   "id": "64784b30",
   "metadata": {},
   "source": [
    "### Algorithm 3.3.1 – Laplace transfer function method of transient analysis\n",
    "1. Predict the response:\n",
    "    1. evaluate the circuit order,\n",
    "    2. designate boundary values $Y_0$, $Y_\\infty$\n",
    "    3. predict shape of the response, if possible.\n",
    "2. Find algebraic expression of the excitation, if given by a graph, $x=x(t)$ .\n",
    "3. Find the Laplace transform of excitation, $X(s)$.\n",
    "4. Find the circuit transfer function, $K(s)$ .\n",
    "5. Find the response in the $s$-domain,"
   ]
  }
 ],
 "metadata": {
  "kernelspec": {
   "display_name": "Python 3",
   "language": "python",
   "name": "python3"
  },
  "language_info": {
   "codemirror_mode": {
    "name": "ipython",
    "version": 3
   },
   "file_extension": ".py",
   "mimetype": "text/x-python",
   "name": "python",
   "nbconvert_exporter": "python",
   "pygments_lexer": "ipython3",
   "version": "3.8.10"
  }
 },
 "nbformat": 4,
 "nbformat_minor": 5
}
