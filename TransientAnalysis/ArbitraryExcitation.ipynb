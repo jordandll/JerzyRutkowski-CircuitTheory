{
 "cells": [
  {
   "cell_type": "markdown",
   "id": "2fb7b67e",
   "metadata": {},
   "source": [
    "# Circuits with Arbitrary Excitation\n",
    "### *Chapter 3.3* -- Transient Analysis\n",
    "\n",
    "Transient response caused by arbitrary aperiodic excitation will be considered. In most cases,\n",
    "circuit analysis is much more narrowly defined than that of finding all responses to all\n",
    "excitations. Very often it is limited to Single-Input-Single–Output (SISO) analysis. Then,\n",
    "transfer function approach is preferred, as presented in Chapter 2.7 for dc circuits. The same\n",
    "approach is preferred in transient analysis in circuits with arbitrary aperiodic excitation.\n",
    "Transfer function in $s$-domain will be defined at first. Then, its use to circuit transient analysis\n",
    "will be presented."
   ]
  },
  {
   "cell_type": "markdown",
   "id": "a0b8ae36",
   "metadata": {},
   "source": [
    "## Transfer Function – Properties and Selected Examples\n",
    "\n",
    "Transient response may be considered as sum of two components: natural response and forced\n",
    "response, as presented in Fig. 3.2.1 for time-domain signals. After setting initial conditions to\n",
    "zero and $t$-domain to $s$-domain transformation, the SISO system described in the $s$-domain is\n",
    "obtained, as presented in Fig. 3.3.1.  \n",
    "\n",
    "![Fig-3.3.1](Figures/Fig-3.3.1.png)"
   ]
  },
  {
   "cell_type": "markdown",
   "id": "c7a535a0",
   "metadata": {},
   "source": [
    "In the $s$-domain, a linear circuit input-output pair is related by the system of linear equations.\n",
    "Then, transfer function in the $s$-domain can be defined.  \n",
    "\n",
    "**Laplace transfer function** of a circuit is defined as the ratio of the response of the circuit to\n",
    "its excitation, expressed in the $s$-domain, with the assumption that all initial conditions are set\n",
    "to zero:  \n",
    "\n",
    "\\begin{equation}\\tag{1}\n",
    "    K(s)= \\frac{Y(s)}{X(s)}\n",
    "\\end{equation}    "
   ]
  },
  {
   "cell_type": "markdown",
   "id": "1dc3287f",
   "metadata": {},
   "source": [
    "Thus, problem of finding the transient response can be solved using the concept of Laplace\n",
    "transfer function, the algorithm is as follows.  "
   ]
  },
  {
   "cell_type": "markdown",
   "id": "24b0d8ee",
   "metadata": {},
   "source": [
    "### Algorithm 3.3.1 – Laplace transfer function method of transient analysis\n",
    "1. Predict the response:\n",
    "    1. evaluate the circuit order,\n",
    "    2. designate boundary values $Y_0$, $Y_\\infty$\n",
    "    3. predict shape of the response, if possible.\n",
    "2. Find algebraic expression of the excitation, if given by a graph, $x=x(t)$ .\n",
    "3. Find the Laplace transform of excitation, $X(s)$.\n",
    "4. Find the circuit transfer function, $K(s)$ .\n",
    "5. Find the response in the $s$-domain,  \n",
    "\\begin{equation}\\tag{1a}\n",
    "    Y(s)=K(s)X(s)\n",
    "\\end{equation}\n",
    "6. Find the inverse transformation $y=y(t)$.\n",
    "7. Plot the response. Check whether the obtained solution matches the predicted one."
   ]
  },
  {
   "cell_type": "markdown",
   "id": "546bde83",
   "metadata": {},
   "source": [
    "In the MIMO system, arbitrary forced $s$-domain output (response) due to all excitations\n",
    "(sources) is the superposition of the separate transfer functions for this output and each input\n",
    "times the corresponding $s$-domain inputs:  \n",
    "\n",
    "\\begin{equation}\\tag{1b}\n",
    "    Y_j(s) = \\sum_{i=0}^M K_{ij}(s)X_i(s) \\quad\\quad\\forall j\\in\\mathbb{N} \\,:\\, j\\le N\n",
    "\\end{equation}    "
   ]
  },
  {
   "cell_type": "markdown",
   "id": "5d4d3f60",
   "metadata": {},
   "source": [
    "Transfer function $K_{ij}(s)$ uniquely defines a circuit (system) with respect to one input signal $X_i(s)$\n",
    "and one output signal $Y_j(s)$ , impedance and admittance are the special cases. Before\n",
    "presenting use of this Laplace transfer function approach to exemplary circuit analysis,\n",
    "properties of the function will be discussed. Then, circuits that perform basic signal\n",
    "transformations in time-domain, integration and differentiation, will be studied."
   ]
  },
  {
   "cell_type": "markdown",
   "id": "5cd348d9",
   "metadata": {},
   "source": [
    "### Properties\n",
    "1. Transfer function is the ratio of two polynomials:  \n",
    "\n",
    "\\begin{equation}\\tag{2}\n",
    "    K(s) = K\\,\\frac{L(s)}{M(s)} = \\frac{\\displaystyle \\prod_{j=0}^{l} (s-q_j)}{\\displaystyle\\prod_{k=0}^m (s-s_k)}\n",
    "\\end{equation}    "
   ]
  },
  {
   "cell_type": "markdown",
   "id": "84eabc4b",
   "metadata": {},
   "source": [
    "where,\n",
    "* $q_j$ and $s_k$ are the roots of the numerator and denominator polynomials, or zeroes and poles of $K(s)$, respectively.\n",
    "* and $K$ is gain."
   ]
  },
  {
   "cell_type": "markdown",
   "id": "a725adc9",
   "metadata": {},
   "source": [
    "Roots and poles can be real or complex numbers and they may be expressed graphically,\n",
    "in the complex plane ($s$-plane), as the pole-zero plot, where the zeros are flagged by $\\mathbf{\\bullet}$  and\n",
    "the poles by $\\mathbf{\\diamond}$."
   ]
  },
  {
   "cell_type": "markdown",
   "id": "4c1eeadc",
   "metadata": {},
   "source": [
    "For practical circuits:\n",
    "    a) poles lie in the left half of the complex plane,\n",
    "    b) degree of the numerator polynomial can not be greater than degree of the\n",
    "denominator polynomial ($l\\le m$).\n",
    "Degree of the denominator polynomial designates the circuit order, $n=m$."
   ]
  },
  {
   "cell_type": "markdown",
   "id": "d24ebe67",
   "metadata": {},
   "source": [
    "2. The inverse transform of the Laplace transfer function, which is equal to the the transfer function in the time-domain, $\\mathfrak{L}^{-1}\\{K(s)\\}=k(t)$, is the **unit impulse response**.  If $X(s) = \\mathfrak{L}\\{\\delta(t)\\} = 1$, then $Y(s)=K(s)$ and $y(t)=k(t)$.  \n",
    "\n",
    "\\begin{equation}\\tag{3}\n",
    "    X(s) = \\mathfrak{L}\\{\\delta(t)\\} = 1 \\implies Y(s)=K(s)\\land y(t)=k(t)\n",
    "\\end{equation}    "
   ]
  },
  {
   "cell_type": "markdown",
   "id": "1c391702",
   "metadata": {},
   "source": [
    "3. The **step response** is the integral of the impulse response:\n",
    "\n",
    "\\begin{equation}\\tag{4}\n",
    "    \\text{If }\\;X(s) = \\mathfrak{L}\\{\\mathbf{1}(t)\\} = \\frac{1}{s}\\text{, then }\\;Y(s) = \\frac{1}{s}\\,K(s)\\;\\text{and}\\;y(t) = \\int_0^t k(t)\\,\\mathrm{d}t\n",
    "\\end{equation}    "
   ]
  },
  {
   "cell_type": "markdown",
   "id": "477efd08",
   "metadata": {},
   "source": [
    "or,\n",
    "\\begin{equation}\\tag{4}\n",
    "    X(s)=\\mathfrak{L}\\{\\mathbf{1}(t)\\} = \\frac{1}{s}\\implies Y(s)=\\frac{1}{s}\\,K(s) \\,\\land\\, y(t)=\\int_0^t k(t)\\,\\mathrm{d}t\n",
    "\\end{equation}    "
   ]
  },
  {
   "cell_type": "markdown",
   "id": "6c5e50d0",
   "metadata": {},
   "source": [
    "4. The time-domain response equals the **convolution** of the impulse response and the input:  \n",
    "\n",
    "\\begin{equation}\\tag{5}\n",
    "    y(t) = k(t) * x(t) = \\int_{-\\infty}^\\infty k(\\tau)\\,x(t-\\tau)\\,\\mathrm{d}\\tau = \\mathfrak{L}^{-1}\\{K(s)\\cdot X(s)\\}\n",
    "\\end{equation}    "
   ]
  },
  {
   "cell_type": "markdown",
   "id": "f50d2a20",
   "metadata": {},
   "source": [
    "### Transfer functions of selected circuits\n",
    "#### Integrator\n",
    "\n",
    "![Fig-3.3.2](Figures/Fig-3.3.2.png)"
   ]
  },
  {
   "cell_type": "markdown",
   "id": "aad95c84",
   "metadata": {},
   "source": [
    "Following Property 2 of the Laplace transformation (A4)  \n",
    "\n",
    "Laplace transfer function of the **ideal integrator** is:  \n",
    "\n",
    "\\begin{equation}\\tag{6}\n",
    "    K(s) = \\frac{1}{sT}\n",
    "\\end{equation}\n",
    "\n",
    "where, $T$ is the **integration constant**."
   ]
  },
  {
   "cell_type": "markdown",
   "id": "b0626a24",
   "metadata": {},
   "source": [
    "#### RC Circuit Realization of Voltage Integrator\n",
    "![Fig-3.3.2a](Figures/Fig-3.3.2a.png)"
   ]
  },
  {
   "cell_type": "markdown",
   "id": "e8f649d8",
   "metadata": {},
   "source": [
    "Note that the voltage running across the output terminals of the circuit in figure Fig. 3.3.2a, denoted as '$u_2$' in the time-domain circuit and '$U_2(s)$' in the $s$-domain equivalent circuit, is under open-circuit conditions.  Via KVL and element equations in the $s$-domain,  \n",
    "\n",
    "$$ U_1(s) = RI(s) + \\frac{1}{sC}\\,I_1(s) \\quad\\quad\\text{and}\\quad\\quad U_2(s) = \\frac{1}{sC}\\,I(s)$$"
   ]
  },
  {
   "cell_type": "markdown",
   "id": "1cf05e73",
   "metadata": {},
   "source": [
    "$$ I(s)\\,\\frac{sRC + 1}{sC} = U_1(s)$$"
   ]
  },
  {
   "cell_type": "markdown",
   "id": "22f5207e",
   "metadata": {},
   "source": [
    "$$ I(s) = \\frac{sC}{sRC+1}\\,U_1(s)$$"
   ]
  },
  {
   "cell_type": "markdown",
   "id": "948c1d8f",
   "metadata": {},
   "source": [
    "\\begin{equation}\\tag{7}\n",
    "    U_2(s) = \\frac{1}{sRC+1}\\,U_1(s) = \\frac{1}{sT+1}\\,U_1(s)\n",
    "\\end{equation}    "
   ]
  },
  {
   "cell_type": "markdown",
   "id": "fae499be",
   "metadata": {},
   "source": [
    "Here, the integration constant, denoted as '$T$', is given by:  \n",
    "\n",
    "$$ T = RC$$"
   ]
  },
  {
   "cell_type": "markdown",
   "id": "fbe3b5de",
   "metadata": {},
   "source": [
    "And the Laplace transfer function is:  \n",
    "\n",
    "\\begin{equation}\\tag{7a}\n",
    "    K(s) = \\frac{1}{sT+1}\n",
    "\\end{equation}    "
   ]
  },
  {
   "cell_type": "markdown",
   "id": "ab4b70e4",
   "metadata": {},
   "source": [
    "The pole-zero plots of the transfer function, for the ideal and the practical RC integrators are\n",
    "presented in Fig. 3.3.2b.  \n",
    "\n",
    "![Fig-3.3.2b](Figures/Fig-3.3.2b.png)"
   ]
  },
  {
   "cell_type": "markdown",
   "id": "69e3c677",
   "metadata": {},
   "source": [
    "The unit step input, $u_1=u_1(t)=U_1\\mathbf{1}(t)$ , will be used to compare responses of the ideal and the\n",
    "practical integrators. The integrator input in the $s$-domain:  \n",
    "\n",
    "\\begin{equation}\\tag{8}\n",
    "    U_1(s) = \\mathfrak{L}\\{U_1\\mathbf{1}(t)\\} = \\frac{U_1}{s}\n",
    "\\end{equation}    "
   ]
  },
  {
   "cell_type": "markdown",
   "id": "55bf593a",
   "metadata": {},
   "source": [
    "Then, the outputs are given by equations (3.3.9) and they are graphed in Fig. 3.3.3.  \n",
    "\n",
    "* **ideal integrator**:  \n",
    "\n",
    "\\begin{equation}\\tag{9a}\n",
    "    U_2(s)  = \\frac{1}{sT}\\,\\frac{U_1}{s} \\quad\\hat{=}\\quad u_2(t)= \\frac{U_1}{T}\\,t\n",
    "\\end{equation}    "
   ]
  },
  {
   "cell_type": "markdown",
   "id": "9284eb7a",
   "metadata": {},
   "source": [
    "* **RC integrator**:  \n",
    "\n",
    "\\begin{equation}\\tag{9b}\n",
    "    U_2(s) = \\frac{1}{sT+1}\\,\\frac{U_1}{s} \\quad\\hat{=}\\quad u_2(t) = U_1\\,\\big(1-e^{-t/T}\\big)\n",
    "\\end{equation}    "
   ]
  },
  {
   "cell_type": "markdown",
   "id": "4325d061",
   "metadata": {},
   "source": [
    "* and, in general:  \n",
    "\n",
    "\\begin{equation}\\tag{9}\n",
    "    U_2(s) = K(s)U_1(s)\\quad\\hat{=}\\quad u_2(t) = k(t)*u_1(t)\n",
    "\\end{equation}    "
   ]
  },
  {
   "cell_type": "markdown",
   "id": "bae0e954",
   "metadata": {},
   "source": [
    "![Fig-3.3.3](Figures/Fig-3.3.3.png)"
   ]
  },
  {
   "cell_type": "markdown",
   "id": "40342114",
   "metadata": {},
   "source": [
    "As can be observed,\n",
    "* the ideal integrator step response never attains steady state (the response pole is located in\n",
    "    the origin of the complex plane),\n",
    "* the RC integrator exhibits “good” integration for $t\\le T$ , then the integration decays to\n",
    "    zero, steady state is reached after $t_\\infty \\approxeq 5T$."
   ]
  },
  {
   "cell_type": "markdown",
   "id": "c76051ae",
   "metadata": {},
   "source": [
    "#### Differentiator\n",
    "![Fig-3.3.4](Figures/Fig-3.3.4.png)"
   ]
  },
  {
   "cell_type": "markdown",
   "id": "e336a784",
   "metadata": {},
   "source": [
    "Following Property 3 of Laplace transformation (A5)\n",
    "\n",
    "Laplace transfer function of the **ideal differentiator** is:  \n",
    "\n",
    "\\begin{equation}\\tag{10}\n",
    "    K(s)=sT\n",
    "\\end{equation}    "
   ]
  },
  {
   "cell_type": "markdown",
   "id": "46c4e703",
   "metadata": {},
   "source": [
    "where $T$ is the **differentiation constant**."
   ]
  },
  {
   "cell_type": "markdown",
   "id": "ae3cb21b",
   "metadata": {},
   "source": [
    "#### RC Circuit Realization of Voltage Differentiator  \n",
    "\n",
    "![Fig-3.3.4a](Figures/Fig-3.3.4a.png)"
   ]
  },
  {
   "cell_type": "markdown",
   "id": "a33c136f",
   "metadata": {},
   "source": [
    "Via KVL and element equations,  \n",
    "\n",
    "$$ U_1(s) = \\frac{1}{sC}\\,I(s) + RI(s) \\quad\\quad\\text{and}\\quad\\quad U_2(s) = RI(s)$$"
   ]
  },
  {
   "cell_type": "markdown",
   "id": "5ecc4f9a",
   "metadata": {},
   "source": [
    "$$ I(s)\\,\\frac{sRC + 1}{sC} = U_1(s)$$"
   ]
  },
  {
   "cell_type": "markdown",
   "id": "3ad11ff9",
   "metadata": {},
   "source": [
    "$$ I(s) = \\frac{sC}{sRC+1}\\,U_1(s)$$"
   ]
  },
  {
   "cell_type": "markdown",
   "id": "0a558a27",
   "metadata": {},
   "source": [
    "\\begin{equation}\\tag{11}\n",
    "    U_2(s) = \\frac{sRC}{sRC+1}\\,U_1(s) = \\frac{sT}{sT+1}\\,U_1(s)\n",
    "\\end{equation}    "
   ]
  },
  {
   "cell_type": "markdown",
   "id": "c77e801b",
   "metadata": {},
   "source": [
    "Then, its transfer function is:  \n",
    "\n",
    "\\begin{equation}\\tag{11a}\n",
    "    K(s) = \\frac{sT}{sT+1} \\quad\\quad\\text{where }\\; T=RC\n",
    "\\end{equation}    "
   ]
  },
  {
   "cell_type": "markdown",
   "id": "cbdcc451",
   "metadata": {},
   "source": [
    "Recall that $T$ is the differentiation constant."
   ]
  },
  {
   "cell_type": "markdown",
   "id": "3f4811fa",
   "metadata": {},
   "source": [
    "Note that the voltage running across the output terminals of the circuit in figure Fig 3.3.4a, $u_2(t)$, which corresponds to $U_2(s)$, is under open-circuit conditions."
   ]
  },
  {
   "cell_type": "markdown",
   "id": "b7492a88",
   "metadata": {},
   "source": [
    "The unit step input, $u_1(t)=U_1\\mathbf{1}(t)$, will be used to compare responses of the ideal and the\n",
    "practical differentiator. The differentiator input in the $s$-domain is given by equation (3.3.8).\n",
    "Then, the output are given by equations (3.3.12) and they are graphed in Fig. 3.3.5."
   ]
  },
  {
   "cell_type": "markdown",
   "id": "c1369197",
   "metadata": {},
   "source": [
    "* **ideal differentiator**:  \n",
    "\n",
    "\\begin{equation}\\tag{12a}\n",
    "    U_2(s) = TU_1 \\quad\\hat{=}\\quad u_2(t) = TU_1\\delta(t)\n",
    "\\end{equation}    "
   ]
  },
  {
   "cell_type": "markdown",
   "id": "410fdbc8",
   "metadata": {},
   "source": [
    "* **RC differentiator**:  \n",
    "\n",
    "\\begin{equation}\\tag{12b}\n",
    "    U_2(s) = \\frac{T}{sT+1}\\,U_1 \\quad\\hat{=}\\quad u_2(t) = U_1e^{-t/T}\n",
    "\\end{equation}    "
   ]
  },
  {
   "cell_type": "markdown",
   "id": "79c3e9fc",
   "metadata": {},
   "source": [
    "## Transer Function Based Transient Analysis - Examples\n",
    "Transfer function approach to transient analysis will be illustrated by exemplary circuits. Use\n",
    "of Algorithm 3.3.1 and its modification will be presented. In this modification, input signal is\n",
    "divided into linear segments, each segment described by step or/and ramp function, and\n",
    "sequence of analyses is performed."
   ]
  },
  {
   "cell_type": "markdown",
   "id": "f77ea530",
   "metadata": {},
   "source": [
    "### *Algorithm 3.3.1a* – Laplace transfer function method of transient analysis \n",
    "Sequence of analyses  \n",
    "\n",
    "1. Predict the response, if possible.\n",
    "2. Divide the input signal into linear segments:  $\\;x^1,x^2,\\dotsc,x^N \\,\\hat{=}\\, X^1(s),X^2(s),\\dotsc,X^N(s)$.  \n",
    "\n",
    "    \\begin{equation}\\tag{13}\n",
    "    x^i := x^i(t^i) = \\pm\\left(X^{i_0} + \\frac{X^{i_t} - X^{i_0}}{\\tau^i}\\,t^i\\right)\\,\\mathbf{1}(t^i)\n",
    "    \\end{equation}    \n",
    "    \n",
    "    where, \n",
    "\n",
    "    * $\\tau^i$ is the duration of the $i$'th segment, \n",
    "    * $X^{i_0}$ and $X^{i_t}$ are the initial and terminal values of the $i$'th segment respectively,  \n",
    "    * and, $t^i := t^i(t) = t-\\sum_{j=1}^i \\tau^{j-1}$; $\\;\\tau^0=0$ is one of the functions that $x^i(t)$ is composed of.  In other words, $t^i$ is the argument that is passed to $x^i(t^i)$.\n",
    "\n",
    "    Set $i=1$."
   ]
  },
  {
   "cell_type": "markdown",
   "id": "05355249",
   "metadata": {},
   "source": [
    "3. Find the circuit transfer functions $K(s)$ and $K_0(s)$ , where  \n",
    "\n",
    "    * $K(s)$ is the transfer function for the input signal, $X^i(s)$,\n",
    "    * and $K_0(s)$ is the transfer function for the initial condition (designated by the preceding segment) $X_0^i(s) = X_0^i/s$."
   ]
  },
  {
   "cell_type": "markdown",
   "id": "8ae34caa",
   "metadata": {},
   "source": [
    "4. For the $i$'th segment, find the output signal $y^i = y_n^i + y_f^i = \\mathfrak{L}^{-1}\\{Y_n^i(s) + Y_f^i(s)\\}$, where\n",
    "    * $y_n^i$ is the natural response caused by the $i$'th segment's initial condition $X_0^i$,\n",
    "    * and $y_f^i$ is the forced response caused by $x^i$."
   ]
  },
  {
   "cell_type": "markdown",
   "id": "e61ccf5c",
   "metadata": {},
   "source": [
    "5. If $i<N$ then set $i=i+1$ -- i.e. increase the value of $i$ by one -- find the initial condition, $X_0^i$, and GO TO step 3.  Otherwise, GO TO step 6.\n",
    "6. Plot the total response. Check whether the obtained solution matches the predicted one."
   ]
  },
  {
   "cell_type": "markdown",
   "id": "d23a0249",
   "metadata": {},
   "source": [
    "![Fig-3.3.6](Figures/Fig-3.3.6.png)"
   ]
  },
  {
   "cell_type": "markdown",
   "id": "349b622b",
   "metadata": {},
   "source": [
    "In Steps 2 and 3 of the non-modified Algorithm 3.3.1, the algebraic expression of the input\n",
    "signal (normally given by a graph) is designated and transformed into the $s$-domain. Step and\n",
    "pulse are the most common input signals. Laplace transforms of ideal signals are presented in\n",
    "Appendix A, practical step and practical pulse will be discussed hereafter."
   ]
  },
  {
   "cell_type": "markdown",
   "id": "1d843b11",
   "metadata": {},
   "source": [
    "### Practical step\n",
    "A practical step, i.e. step with nonzero rise time $\\tau_\\mathrm{r}$ , can be considered as addition of two\n",
    "ramps, as presented in Fig. 3.3.7.  \n",
    "\n",
    "$$ x = x(t) = x^1(t) + x^2(t) \\quad\\quad \\text{where }\\;x^1(t) = \\frac{X}{\\tau_\\mathrm{r}}\\,t\\mathbf{1}(t)\\quad\\text{and}\\quad x^2(t) = -x^1(t-\\tau_\\mathrm{r}) $$"
   ]
  },
  {
   "cell_type": "markdown",
   "id": "4309349d",
   "metadata": {},
   "source": [
    "The practical step Laplace transform is:  \n",
    "\n",
    "$$ X(s) = X^1(s) + X^2(s) \\quad\\text{where }\\;X^1(s) = \\mathfrak{L}\\{x^1(t)\\} = \\frac{X}{\\tau_\\mathrm{r}s^2}\\quad\\text{and}\\quad X^2(s) = \\mathfrak{L}\\{x^2(t)\\} = -\\frac{X}{\\tau_\\mathrm{r}s^2}\\,e^{-s\\tau_\\mathrm{r}}$$"
   ]
  },
  {
   "cell_type": "markdown",
   "id": "bf3e0900",
   "metadata": {},
   "source": [
    "$$ X(s) = \\frac{X}{\\tau_\\mathrm{r}s^2}\\,\\big(1-e^{-s\\tau_\\mathrm{r}}\\big)$$"
   ]
  },
  {
   "cell_type": "markdown",
   "id": "821850a5",
   "metadata": {},
   "source": [
    "![Fig-3.3.7](Figures/Fig-3.3.7.png)"
   ]
  },
  {
   "cell_type": "markdown",
   "id": "79ac9f57",
   "metadata": {},
   "source": [
    "### Practical pulse\n",
    "A practical pulse, i.e. pulse with nonzero rise and fall times, $\\tau_\\mathrm{r}=\\tau_1$ and $\\tau_\\mathrm{f}=\\tau_3 - \\tau_2$, can be\n",
    "considered as addition of four ramps, two of them are presented in Fig. 3.3.7, two other in Fig.\n",
    "3.3.8"
   ]
  },
  {
   "cell_type": "markdown",
   "id": "0cc531bb",
   "metadata": {},
   "source": [
    "![Fig-3.3.8](Figures/Fig-3.3.8.png)"
   ]
  },
  {
   "cell_type": "markdown",
   "id": "6cd42730",
   "metadata": {},
   "source": [
    "Let $f(t)$ be defined as:  \n",
    "\n",
    "$$ f(t) := -\\frac{X}{\\tau_\\mathrm{f}}\\,t\\,\\mathbf{1}(t)$$"
   ]
  },
  {
   "cell_type": "markdown",
   "id": "d5d3d359",
   "metadata": {},
   "source": [
    "$$ x^3(t) = f(t-\\tau_2)\\quad\\quad\\text{and}\\quad\\quad x^4(t) = -f(t-\\tau_3)$$"
   ]
  },
  {
   "cell_type": "markdown",
   "id": "d632ea25",
   "metadata": {},
   "source": [
    "Thus,\n",
    "$$ X(s) =\\frac{X}{\\tau_\\mathrm{r}s^2}\\,\\big(1-e^{-s\\tau_\\mathrm{r}}\\big) - \\frac{X}{\\tau_\\mathrm{f}s^2}\\,e^{-s\\tau_2} + \\frac{X}{\\tau_\\mathrm{f}s^2}\\,e^{-s\\tau_3} $$"
   ]
  },
  {
   "cell_type": "markdown",
   "id": "8ec1690f",
   "metadata": {},
   "source": [
    "$$ = \\frac{X}{\\tau_\\mathrm{r}s^2}\\,\\big(1-e^{-s\\tau_\\mathrm{r}}\\big) + \\frac{X}{\\tau_\\mathrm{f}s^2}\\,\\big(e^{-s\\tau_3}-e^{-s\\tau_2}\\big)$$"
   ]
  },
  {
   "cell_type": "markdown",
   "id": "d17c8740",
   "metadata": {},
   "source": [
    "### Example 3.3.1\n",
    "Find the ideal pulse response of the RC differentiator."
   ]
  },
  {
   "cell_type": "markdown",
   "id": "33cd661c",
   "metadata": {},
   "source": [
    "Via equation (A12) of the appendix of this textbook, the excitation or input signal is given by:  \n",
    "\n",
    "$$ x(t) = \\mathbf{1}(t) - \\mathbf{1}(t-\\tau)\\quad\\hat{=}\\quad X(s) = \\frac{1}{s}\\,\\big(1-e^{-s\\tau}\\big)$$"
   ]
  },
  {
   "cell_type": "markdown",
   "id": "258988aa",
   "metadata": {},
   "source": [
    "Recall that the transfer function of an RC differentiator is:  \n",
    "\n",
    "\\begin{equation}\\tag{11a}\n",
    "    K(s) = \\frac{sT}{sT+1} \\quad\\quad\\text{where }\\; T=RC\n",
    "\\end{equation}    "
   ]
  },
  {
   "cell_type": "markdown",
   "id": "622ee1d4",
   "metadata": {},
   "source": [
    "Thus,  \n",
    "\n",
    "$$ Y(s) = K(s)\\cdot X(s) = \\frac{T}{sT+1}\\,\\big(1-e^{-s\\tau}\\big)$$"
   ]
  },
  {
   "cell_type": "markdown",
   "id": "70770e25",
   "metadata": {},
   "source": [
    "and,\n",
    "$$ y(t) = e^{-t/T}\\,\\mathbf{1}(t) - e^{(\\tau-t)/T}\\,\\mathbf{1}(t-\\tau) = e^{-t/T}\\,\\big(\\mathbf{1}(t) - e^{\\tau/T}\\,\\mathbf{1}(t-\\tau)\\big)$$"
   ]
  },
  {
   "cell_type": "markdown",
   "id": "89b99649",
   "metadata": {},
   "source": [
    "Note that the above solution assumes a pulse height of one unit of voltage.  However, said solution can be generalized to input pulses of any height by simply multiplying the response by the arbitrary constant $E$.  \n",
    "\n",
    "Thus, if $x(t)=E\\big(\\mathbf{1}(t)-\\mathbf{1}(t-\\tau)\\big)$, then $y(t)=Ee^{-t/T}\\,\\big(\\mathbf{1}(t) - e^{\\tau/T}\\,\\mathbf{1}(t-\\tau)\\big)$."
   ]
  },
  {
   "cell_type": "markdown",
   "id": "0d0bdd8b",
   "metadata": {},
   "source": [
    "$$ x(t)=U_1\\big(\\mathbf{1}(t)-\\mathbf{1}(t-\\tau)\\big)\\implies y(t)=U_1e^{-t/T}\\,\\big(\\mathbf{1}(t) - e^{\\tau/T}\\,\\mathbf{1}(t-\\tau)\\big)$$"
   ]
  },
  {
   "cell_type": "markdown",
   "id": "e1fbe4dc",
   "metadata": {},
   "source": [
    "### Example 3.3.2\n",
    "Find ideal pulse response of the RC integrator.  \n",
    "\n",
    "$$x(t)=E\\big(\\mathbf{1}(t)-\\mathbf{1}(t-\\tau)\\big)\\quad\\hat{=}\\quad X(s) = \\frac{E}{s}\\,\\big(1-e^{-s\\tau}\\big)$$"
   ]
  },
  {
   "cell_type": "markdown",
   "id": "5587aac9",
   "metadata": {},
   "source": [
    "Recall that the Laplace transfer function of an RC integrator is:  \n",
    "\n",
    "\\begin{equation}\\tag{7a}\n",
    "    K(s) = \\frac{1}{sT+1}\n",
    "\\end{equation}    "
   ]
  },
  {
   "cell_type": "markdown",
   "id": "d9f93e26",
   "metadata": {},
   "source": [
    "$$ Y(s) = K(s)\\cdot X(s) = \\frac{E}{s(sT+1)}\\,\\big(1-e^{-s\\tau}\\big)$$"
   ]
  },
  {
   "cell_type": "markdown",
   "id": "21d33541",
   "metadata": {},
   "source": [
    "Let $F(s)$ and $f(t)$ be defined as:  \n",
    "\n",
    "$$ F(s):=\\frac{E}{s(sT+1)}\\quad\\quad\\hat{=}\\quad\\quad f(t):= \\mathfrak{L}^{-1}\\{F(s)\\} = E\\big(1-e^{-t/T}\\big)$$"
   ]
  },
  {
   "cell_type": "markdown",
   "id": "37707aa1",
   "metadata": {},
   "source": [
    "Thus,\n",
    "$$ y(t) = f(t) - f(t-\\tau)\\mathbf{1}(t-\\tau)$$"
   ]
  },
  {
   "cell_type": "markdown",
   "id": "34645834",
   "metadata": {},
   "source": [
    "## Drill Problems"
   ]
  },
  {
   "cell_type": "code",
   "execution_count": 1,
   "id": "a472fc40",
   "metadata": {},
   "outputs": [],
   "source": [
    "import numpy as np\n",
    "import matplotlib.pyplot as plt\n",
    "import sympy as sp"
   ]
  },
  {
   "cell_type": "markdown",
   "id": "abe8650b",
   "metadata": {},
   "source": [
    "#### Problem 1\n",
    "1. For the $E=1\\mathrm{V}$ step input, draw the RC differentiator (integrator) output, for $R=1000\\Omega$, and $C=1\\mu\\mathrm{F}$. Assume a) the ideal step, b) the practical step of $\\tau_\\mathrm{r}=1\\mathrm{s}$."
   ]
  },
  {
   "cell_type": "markdown",
   "id": "fe6f2dd8",
   "metadata": {},
   "source": [
    "In the case of **ideal step**:  \n",
    "\n",
    "$$ x(t) = E\\mathbf{1}(t) \\quad\\hat{=}\\quad X(s) = \\frac{E}{s}$$"
   ]
  },
  {
   "cell_type": "markdown",
   "id": "1303de66",
   "metadata": {},
   "source": [
    "Recall that the transfer function of the **RC differentiator** is:  \n",
    "\n",
    "\\begin{equation}\\tag{11a}\n",
    "    K(s) = \\frac{sT}{sT+1} \\quad\\quad\\text{where }\\; T=RC\n",
    "\\end{equation}    "
   ]
  },
  {
   "cell_type": "markdown",
   "id": "58ba04c1",
   "metadata": {},
   "source": [
    "Thus,  \n",
    "\n",
    "$$ Y(s) = K(s)\\cdot X(s) = \\frac{T}{sT+1}\\,E$$"
   ]
  },
  {
   "cell_type": "markdown",
   "id": "8516b4f8",
   "metadata": {},
   "source": [
    "and,\n",
    "$$ y(t) = Ee^{-t/T}\\,\\mathbf{1}(t)$$"
   ]
  },
  {
   "cell_type": "markdown",
   "id": "513c4770",
   "metadata": {},
   "source": [
    "Now, recall that the transfer function of the **RC integrator** is:  \n",
    "\n",
    "\\begin{equation}\\tag{7a}\n",
    "    K(s) = \\frac{1}{sT+1}\n",
    "\\end{equation}"
   ]
  },
  {
   "cell_type": "markdown",
   "id": "7959d2e2",
   "metadata": {},
   "source": [
    "Thus,\n",
    "$$ Y(s) = E\\,\\frac{1}{s(sT+1)} \\quad\\hat{=}\\quad y(t) = E\\big(1-e^{-t/T}\\big)$$"
   ]
  },
  {
   "cell_type": "markdown",
   "id": "f844eff6",
   "metadata": {},
   "source": [
    "In the case of the **practical step**:  First, let $\\tau_1:=\\tau_\\mathrm{r}$.  \n",
    "\n",
    "$$ x(t) = x^1(t) + x^2(t)\\quad\\text{where }\\; x^1(t) = \\frac{E}{\\tau_1}\\,t\\,\\mathbf{1}(t) \\quad\\text{and}\\quad x^2(t) = -x^1(t-\\tau_1)$$"
   ]
  },
  {
   "cell_type": "markdown",
   "id": "17f8a002",
   "metadata": {},
   "source": [
    "Now, let $f(t)$ be defined as:  \n",
    "\n",
    "$$ f(t) := \\frac{E}{\\tau_1}\\,t$$"
   ]
  },
  {
   "cell_type": "markdown",
   "id": "454d8560",
   "metadata": {},
   "source": [
    "Via the above definition and the caveats to the equation above it,  \n",
    "\n",
    "$$ x^1(t) = f(t)\\,\\mathbf{1}(t) \\quad\\quad\\text{and}\\quad\\quad x^2(t) = -f(t-\\tau_1)\\,\\mathbf{1}(t-\\tau_1)$$"
   ]
  },
  {
   "cell_type": "markdown",
   "id": "023e411e",
   "metadata": {},
   "source": [
    "Thus,\n",
    "$$ X(s) = \\frac{E}{\\tau_1s^2} - \\frac{E}{\\tau_1s^2}\\,e^{-s\\tau_1} = \\frac{E}{\\tau_1s^2}\\,\\big(1-e^{-s\\tau_1}\\big)$$"
   ]
  },
  {
   "cell_type": "markdown",
   "id": "121d40f9",
   "metadata": {},
   "source": [
    "The response, in the $s$-domain, denoted as '$Y(s)$', caused by running said practical step input through a **RC differentiator** is:  \n",
    "\n",
    "$$ Y(s) = K(s)\\cdot X(s) = \\frac{ET}{\\tau_1}\\,\\frac{1}{s(sT+1)}\\,\\big(1-e^{-s\\tau_1}\\big)$$"
   ]
  },
  {
   "cell_type": "markdown",
   "id": "edc6e39d",
   "metadata": {},
   "source": [
    "Let $G(s)$ be defined as:  \n",
    "\n",
    "$$ G(s) := \\frac{ET}{\\tau_1}\\,\\frac{1}{s(sT+1)}$$"
   ]
  },
  {
   "cell_type": "markdown",
   "id": "25aff610",
   "metadata": {},
   "source": [
    "The response in the $s$-domain, denoted as '$Y(s)$', can be broken down, term by term.  \n",
    "\n",
    "$$ Y^1(s) = G(s) \\quad\\quad\\text{and}\\quad\\quad Y^2(s) = -G(s)\\cdot e^{-s\\tau_1}$$"
   ]
  },
  {
   "cell_type": "markdown",
   "id": "72f6d8dd",
   "metadata": {},
   "source": [
    "$$ Y(s) = Y^1(s) + Y^2(s)\\quad\\hat{=}\\quad y(t) = y^1(t) + y^2(t)$$"
   ]
  },
  {
   "cell_type": "markdown",
   "id": "bc2c0917",
   "metadata": {},
   "source": [
    "$$ y^1(t) = g(t)\\cdot \\mathbf{1}(t) = \\frac{ET}{\\tau_1}\\,\\big(1-e^{-t/T}\\big)\\cdot \\mathbf{1}(t) \\quad\\quad \\text{and}\\quad\\quad y^2(t) = -g(t-\\tau_1)\\cdot \\mathbf{1}(t-\\tau_1)$$"
   ]
  },
  {
   "cell_type": "markdown",
   "id": "1ad7b4ff",
   "metadata": {},
   "source": [
    "And, the response, in the $s$-domain, denoted as '$Y(s)$', caused by running said practical step input through a **RC integrator** is:  \n",
    "\n",
    "$$ Y(s) = \\frac{E}{\\tau_1s}\\,\\frac{1}{s(sT+1)}\\,\\big(1-e^{-s\\tau_1}\\big)$$"
   ]
  },
  {
   "cell_type": "markdown",
   "id": "9f7c88ef",
   "metadata": {},
   "source": [
    "$$ Y(s) = \\frac{E}{\\tau_1}\\,\\big(1-e^{-s\\tau_1}\\big)\\,\\left(\\frac{Bs+D}{s^2} + \\frac{A}{sT+1}\\right)$$"
   ]
  },
  {
   "cell_type": "markdown",
   "id": "1d338b80",
   "metadata": {},
   "source": [
    "where,  \n",
    "\n",
    "$$ As^2 + (sT+1)(Bs+D) = As^2 + BTs^2 + Bs + DTs + D = 1 $$"
   ]
  },
  {
   "cell_type": "markdown",
   "id": "3d962e1d",
   "metadata": {},
   "source": [
    "$$ D = 1$$"
   ]
  },
  {
   "cell_type": "markdown",
   "id": "1caa8b34",
   "metadata": {},
   "source": [
    "$$ B = -T$$"
   ]
  },
  {
   "cell_type": "markdown",
   "id": "dc10b837",
   "metadata": {},
   "source": [
    "$$ A = T^2$$"
   ]
  },
  {
   "cell_type": "markdown",
   "id": "c83bc493",
   "metadata": {},
   "source": [
    "Now, let $F(s)$ be defined as:  \n",
    "\n",
    "$$ F(s):=\\frac{Bs+D}{s^2} + \\frac{A}{sT+1} = \\frac{1-Ts}{s^2} + \\frac{T^2}{sT+1}$$"
   ]
  },
  {
   "cell_type": "markdown",
   "id": "4562ef49",
   "metadata": {},
   "source": [
    "$$ f(t) = \\big(t-T+Te^{-t/T}\\big)\\mathbf{1}(t)$$"
   ]
  },
  {
   "cell_type": "markdown",
   "id": "eabc3ba7",
   "metadata": {},
   "source": [
    "Finally,  \n",
    "\n",
    "$$ y(t) = \\frac{E}{\\tau_1}\\,\\big(f(t) - f(t-\\tau_1)\\big)$$"
   ]
  },
  {
   "cell_type": "code",
   "execution_count": 2,
   "id": "64260af7",
   "metadata": {
    "code_folding": [
     0
    ]
   },
   "outputs": [
    {
     "data": {
      "text/plain": [
       "[<matplotlib.lines.Line2D at 0x7faa17ae92b0>]"
      ]
     },
     "execution_count": 2,
     "metadata": {},
     "output_type": "execute_result"
    },
    {
     "data": {
      "image/png": "[encoded data removed]",
      "text/plain": [
       "<Figure size 921.6x345.6 with 2 Axes>"
      ]
     },
     "metadata": {
      "needs_background": "light"
     },
     "output_type": "display_data"
    }
   ],
   "source": [
    "# Set the circuit parameters.\n",
    "E = 1; R = 1000; C=1e-6; tau_r=tau_1=tau=1\n",
    "\n",
    "# Identify the differentiation constant, denoted as 'T'.\n",
    "T = R*C\n",
    "\n",
    "# Create the time-domain.\n",
    "t = np.linspace(0, 5*T, num=200)\n",
    "\n",
    "# Identify the circuit response and excitation, denoted as 'y' and 'x' respectively.\n",
    "y = E*np.e**(-t/T)\n",
    "x = [E for i in range(200)]\n",
    "\n",
    "# Identify the integrator (ideal) response, denoted as 'y_int'\n",
    "y_i = y_int = E*(1-np.e**(-t/T))\n",
    "\n",
    "# Create the figure and ax1es objects.\n",
    "fig, (ax1, ax2) = plt.subplots(ncols=2, figsize=(2*6.4, 4.8))\n",
    "\n",
    "ax1.set_title('Ideal Step Input (Differentiator)', size=12)\n",
    "ax1.set_xlabel('time [ms]')\n",
    "ax1.set_ylabel('voltage [V]')\n",
    "ax1.grid()\n",
    "\n",
    "ax2.set_title('Ideal Step Input (Integrator)', size=12)\n",
    "ax2.set_xlabel('time [ms]')\n",
    "ax2.set_ylabel('voltage [V]')\n",
    "ax2.grid()\n",
    "\n",
    "# Plot the response (output) and excitation (input).\n",
    "ax1.plot(t*1000, y)\n",
    "ax2.plot(t*1000, y_i)"
   ]
  },
  {
   "cell_type": "code",
   "execution_count": 3,
   "id": "abeb4672",
   "metadata": {},
   "outputs": [],
   "source": [
    "def unit_step(t: float):\n",
    "    return 1 if t >= 0 else 0"
   ]
  },
  {
   "cell_type": "code",
   "execution_count": 4,
   "id": "9943c653",
   "metadata": {},
   "outputs": [],
   "source": [
    "def one(t):\n",
    "    return np.array(list(map(unit_step, t)))"
   ]
  },
  {
   "cell_type": "code",
   "execution_count": 5,
   "id": "11815ae5",
   "metadata": {},
   "outputs": [],
   "source": [
    "u = unit_step"
   ]
  },
  {
   "cell_type": "code",
   "execution_count": 6,
   "id": "011f0f2b",
   "metadata": {
    "code_folding": [
     0
    ]
   },
   "outputs": [
    {
     "data": {
      "text/plain": [
       "[<matplotlib.lines.Line2D at 0x7faa178c6fd0>]"
      ]
     },
     "execution_count": 6,
     "metadata": {},
     "output_type": "execute_result"
    },
    {
     "data": {
      "image/png": "[encoded data removed]",
      "text/plain": [
       "<Figure size 921.6x691.2 with 4 Axes>"
      ]
     },
     "metadata": {
      "needs_background": "light"
     },
     "output_type": "display_data"
    }
   ],
   "source": [
    "# Practical Step Input\n",
    "t = np.linspace(1-10*T, 1+5*T, num=200)\n",
    "t_1 = np.linspace(0, 5*T, num=200)\n",
    "\n",
    "x_1 = E*t\n",
    "x_2 = -E*(t-1)*np.array(list(map(u, t-1)))\n",
    "x = x_1 + x_2\n",
    "\n",
    "# Identify the response for the differentiator, and it's components.\n",
    "y_1 = E*T*(1-np.e**(-t/T))\n",
    "y_2 = -E*T*(1-np.e**(-(t-tau)/T))*np.array(list(map(u, t-tau)))\n",
    "y = y_1 + y_2\n",
    "\n",
    "y_1_left = E*T*(1-np.e**(-t_1/T))\n",
    "\n",
    "# Identify the response for the integrator, and it's components.\n",
    "f = t_1 - T + T*np.e**(-t_1/T)\n",
    "y1i_left = E*f\n",
    "h = t_1 - T + np.e**(-5)/1000\n",
    "f = t - T + T*np.e**(-t/T)\n",
    "y1i = E*f\n",
    "y2i = -E*(t - tau - T + T*np.e**((tau-t)/T))*np.array(list(map(u, t-tau)))\n",
    "yi = y1i + y2i\n",
    "\n",
    "\n",
    "# Create figure and axes obects.\n",
    "fig, ((ax1, ax2), (ax3, ax4)) = plt.subplots(2, 2, figsize=(6.4*2, 2*4.8))\n",
    "\n",
    "ax1.set_title('Practical Step Input (Differentiator)', size=12)\n",
    "ax1.set_xlabel('time [ms]')\n",
    "ax1.set_ylabel('voltage [mV]')\n",
    "ax1.grid()\n",
    "\n",
    "ax2.set_title('Practical Step Input (Differentiator)', size=12)\n",
    "ax2.set_xlabel('time [ms]')\n",
    "ax2.set_ylabel('voltage [mV]')\n",
    "ax2.grid()\n",
    "\n",
    "ax3.set_title('Practical Step Input (Integrator)', size=12)\n",
    "ax3.set_xlabel('time [ms]')\n",
    "ax3.set_ylabel('voltage [mV]')\n",
    "ax3.grid()\n",
    "\n",
    "ax4.set_title('Practical Step Input (Integrator)', size=12)\n",
    "ax4.set_xlabel('time [ms]')\n",
    "ax4.set_ylabel('voltage [mV]')\n",
    "ax4.grid()\n",
    "\n",
    "ax1.plot(t_1*1000, y_1_left*1000)\n",
    "ax2.plot(t*1000, y*1000)\n",
    "ax3.plot(t_1*1000, y1i_left*1000)\n",
    "ax3.plot(t_1*1000, h*1000, ls='dashed')\n",
    "ax4.plot(t*1000, yi)"
   ]
  },
  {
   "cell_type": "markdown",
   "id": "d5794f6b",
   "metadata": {},
   "source": [
    "Now, let's find the root(s) of $y(t)$ (the response caused by running the practical step input through an RC integrator).  \n",
    "\n",
    "$$ y(t) = \\frac{E}{\\tau_1}\\,\\big(f(t) - f(t-\\tau_1)\\big)$$"
   ]
  },
  {
   "cell_type": "markdown",
   "id": "e860c50f",
   "metadata": {},
   "source": [
    "Let $\\tau_1:=\\tau$."
   ]
  },
  {
   "cell_type": "markdown",
   "id": "0c2655c8",
   "metadata": {},
   "source": [
    "$$ f(t) = f(t-\\tau)$$"
   ]
  },
  {
   "cell_type": "markdown",
   "id": "2e83fe5f",
   "metadata": {},
   "source": [
    "$$  \\big(t-T+Te^{-t/T}\\big)\\mathbf{1}(t) =  \\big(t-\\tau-T+Te^{(\\tau-t)/T}\\big)\\mathbf{1}(t-\\tau)$$"
   ]
  },
  {
   "cell_type": "markdown",
   "id": "f1950ed1",
   "metadata": {},
   "source": [
    "Assuming $t\\ge\\tau$,  \n",
    "\n",
    "$$ Te^{-t/T} + \\tau = Te^{-t/T}e^{\\tau/T}$$"
   ]
  },
  {
   "cell_type": "markdown",
   "id": "89bbdef4",
   "metadata": {},
   "source": [
    "$$ Te^{-t/T}\\,\\big(1-e^{\\tau/T}\\big) = -\\tau$$"
   ]
  },
  {
   "cell_type": "markdown",
   "id": "5a7b0faf",
   "metadata": {},
   "source": [
    "$$ e^{-t/T} = -\\frac{\\tau}{T\\big(1-e^{\\tau/T}\\big)} = \\frac{\\tau}{T\\big(e^{\\tau/T}-1\\big)}$$"
   ]
  },
  {
   "cell_type": "markdown",
   "id": "a3bbfa17",
   "metadata": {},
   "source": [
    "$$ -\\frac{t}{T} = \\log\\tau - \\log T - \\log \\big(e^{\\tau/T}-1\\big)\\approxeq \\log\\tau - \\log T - 1000$$"
   ]
  },
  {
   "cell_type": "markdown",
   "id": "0ab553b8",
   "metadata": {},
   "source": [
    "$$ t = T\\big(1000 + \\log T - \\log \\tau\\big)$$"
   ]
  },
  {
   "cell_type": "code",
   "execution_count": 7,
   "id": "ad80d6b8",
   "metadata": {},
   "outputs": [
    {
     "data": {
      "text/plain": [
       "0.9990922447210179"
      ]
     },
     "execution_count": 7,
     "metadata": {},
     "output_type": "execute_result"
    }
   ],
   "source": [
    "t=T*(1000+np.log(T) - np.log(tau)) + 7e-3\n",
    "t - T + T*np.e**(-t/T)"
   ]
  },
  {
   "cell_type": "markdown",
   "id": "c3f01e3a",
   "metadata": {},
   "source": [
    "$$ f'(t) = 1 - e^{-t/T}\\quad\\quad\\text{and}\\quad\\quad f'(\\infty) = 1$$"
   ]
  },
  {
   "cell_type": "markdown",
   "id": "8809d123",
   "metadata": {},
   "source": [
    "Let $h(t)$ be defined as:  \n",
    "\n",
    "$$ h(t):= f'(5T)\\, t + b \\quad\\quad\\text{where }\\; h(5T) = f(5T)$$ "
   ]
  },
  {
   "cell_type": "markdown",
   "id": "d4fdbe87",
   "metadata": {},
   "source": [
    "$$ f'(5T)\\,5T + b = 4T + e^{-5}$$"
   ]
  },
  {
   "cell_type": "markdown",
   "id": "5d7d80f6",
   "metadata": {},
   "source": [
    "$$ b = 4T + e^{-5} - f'(5T)\\,5T = 4T + e^{-5} - 5T + 5T\\,e^{-5}$$"
   ]
  },
  {
   "cell_type": "markdown",
   "id": "88636dc0",
   "metadata": {},
   "source": [
    "Thus,  \n",
    "\n",
    "$$ h(t) = \\left(1-e^{-5}\\right)\\,t +  + e^{-5}- T + 5Te^{-5}$$"
   ]
  },
  {
   "cell_type": "markdown",
   "id": "71facaa0",
   "metadata": {},
   "source": [
    "#### Problem 2\n",
    "2. For the ideal pulse input of $E=1\\mathrm{V}$ and $\\tau= 1\\mathrm{s}$, draw the RC differentiator (integrator) output, for $R=1000\\Omega$ and $C=1\\mu\\mathrm{F}$."
   ]
  },
  {
   "cell_type": "markdown",
   "id": "b805b5ef",
   "metadata": {},
   "source": [
    "The input or excitation, denoted as '$x(t)$', is given by:  \n",
    "\n",
    "$$ x(t) = E\\big(\\mathbf{1}(t)-\\mathbf{1}(t-\\tau)\\big) \\quad\\quad\\hat{=}\\quad\\quad X(s)=\\frac{E}{s}\\,\\big(1-e^{-s\\tau}\\big)$$\n",
    "\n",
    "Recall that the transfer function of the **RC differentiator** is:  \n",
    "\n",
    "\\begin{equation}\\tag{11a}\n",
    "    K(s) = \\frac{sT}{sT+1} \\quad\\quad\\text{where }\\; T=RC\n",
    "\\end{equation}    "
   ]
  },
  {
   "cell_type": "markdown",
   "id": "20914813",
   "metadata": {},
   "source": [
    "$$ Y(s) = K(s)\\cdot X(s) = \\frac{T}{sT+1}\\,E\\,\\big(1-e^{-s\\tau}\\big)$$"
   ]
  },
  {
   "cell_type": "markdown",
   "id": "2f5bb4ac",
   "metadata": {},
   "source": [
    "Let $F(s)$ be defined as:  \n",
    "\n",
    "$$ F(s) = \\frac{T}{sT+1}\\quad\\quad\\hat{=}\\quad\\quad f(t) = e^{-t/T}\\mathbf{1}(t)$$"
   ]
  },
  {
   "cell_type": "markdown",
   "id": "9480d775",
   "metadata": {},
   "source": [
    "$$ y(t) = Ef(t) - Ef(t-\\tau) = E\\big(f(t)-f(t-\\tau)\\big)$$"
   ]
  },
  {
   "cell_type": "markdown",
   "id": "cea9b610",
   "metadata": {},
   "source": [
    "The first part of the above response has a duration of $\\tau$, the duration of the input pulse.  It is an exponential decline with a steady-state response of $0$.  Assuming $t\\ge \\tau$,  \n",
    "\n",
    "$$ y(t) = Ee^{-t/T}\\,\\big(1-e^{\\tau/T}\\big)\\approxeq -Ee^{(\\tau-t)/T}$$"
   ]
  },
  {
   "cell_type": "markdown",
   "id": "29b8981a",
   "metadata": {},
   "source": [
    "For a relatively brief moment after the input pulse ends at $t=\\tau$, the reponse is equal to $-E$ followed by a an exponential rise back to zero.  This secondary transient response lasts roughly $6T$.  The final steady-state response of $y(\\infty)=0$ last indefinitely."
   ]
  },
  {
   "cell_type": "markdown",
   "id": "37e2a0bf",
   "metadata": {},
   "source": [
    "Now, recall that the transfer function of the **RC integrator** is:  \n",
    "\n",
    "\\begin{equation}\\tag{7a}\n",
    "    K(s) = \\frac{1}{sT+1}\n",
    "\\end{equation}"
   ]
  },
  {
   "cell_type": "markdown",
   "id": "25c0699b",
   "metadata": {},
   "source": [
    "$$ Y(s) = \\frac{1}{s(sT+1)}\\,E\\,\\big(1-e^{-s\\tau}\\big)$$"
   ]
  },
  {
   "cell_type": "markdown",
   "id": "0183997d",
   "metadata": {},
   "source": [
    "Let $G(s)$ be defined as:  \n",
    "\n",
    "$$ G(s) := \\frac{1}{s(sT+1)} \\quad\\quad\\hat{=}\\quad\\quad g(t) = \\big(1-e^{-t/T}\\big)\\,\\mathbf{1}(t)$$"
   ]
  },
  {
   "cell_type": "markdown",
   "id": "22b0764d",
   "metadata": {},
   "source": [
    "Finally,  \n",
    "\n",
    "$$ y(t) = E\\,\\big(g(t)-g(t-\\tau)\\big)$$"
   ]
  },
  {
   "cell_type": "markdown",
   "id": "6defdaf5",
   "metadata": {},
   "source": [
    "The above response consists of two transient responses and two steady-state responses.  Initially, assuming $0\\le t < \\tau$, the response is given by:  \n",
    "\n",
    "$$ y(t) = Eg(t)$$"
   ]
  },
  {
   "cell_type": "markdown",
   "id": "45e26c00",
   "metadata": {},
   "source": [
    "Which has a transient response that last roughly $5T$ followed by a steady-state response of $y(t)=E$ for $5T\\le t < \\tau$.  In other words, the first steady-state response has a duration that is roughly equal to the duration of the input pulse.  \n",
    "\n",
    "When $t\\ge\\tau$, we have another transient response followed by a steady-state response of $y(\\infty)=0$, which, of course, last indefinitely."
   ]
  },
  {
   "cell_type": "markdown",
   "id": "41e58f4e",
   "metadata": {},
   "source": [
    "$$ y(t) = E\\big(e^{-t/T}e^{\\tau/T}-e^{-t/T}\\big) = Ee^{-t/T}\\,\\big(e^{\\tau/T}-1\\big)\\approxeq Ee^{(\\tau-t)/T} \\,\\vert_{ t\\ge \\tau}$$"
   ]
  },
  {
   "cell_type": "markdown",
   "id": "d4f89a58",
   "metadata": {},
   "source": [
    "This secondary response is an exponential decline."
   ]
  },
  {
   "cell_type": "markdown",
   "id": "d90669d3",
   "metadata": {},
   "source": [
    "#### Problem 3\n",
    "3. For the practical step input of $E=10\\mathrm{V}$ and $\\tau_\\mathrm{r}=\\tau=10\\mathrm{ms}$, draw the ideal differentiator (integrator) output.  Assume the differentiation (integration) constant $T=\\tau$."
   ]
  },
  {
   "cell_type": "markdown",
   "id": "73a44630",
   "metadata": {},
   "source": [
    "$$ x(t) = x^1(t) + x^2(t) \\quad\\text{where }\\; x^1(t) = \\frac{E}{\\tau}\\,t\\,\\mathbf{1}(t)\\quad\\text{and}\\quad x^2(t) = -x^1(t-\\tau)$$"
   ]
  },
  {
   "cell_type": "markdown",
   "id": "97568ca9",
   "metadata": {},
   "source": [
    "Thus,\n",
    "$$ x(t) = \\frac{E}{\\tau}\\,\\big(t\\,\\mathbf{1}(t) \\;-\\; (t-\\tau)\\,\\mathbf{1}(t-\\tau)\\big)$$"
   ]
  },
  {
   "cell_type": "markdown",
   "id": "cb227649",
   "metadata": {},
   "source": [
    "and,\n",
    "$$ X(s) = \\frac{E}{\\tau s^2} - \\frac{E}{\\tau s^2}\\,e^{-s\\tau} = \\frac{E}{\\tau s^2}\\,\\big(1-e^{-s\\tau}\\big)$$"
   ]
  },
  {
   "cell_type": "markdown",
   "id": "b55526dd",
   "metadata": {},
   "source": [
    "Recall that the transfer function of the **RC differentiator** is:  \n",
    "\n",
    "\\begin{equation}\\tag{11a}\n",
    "    K(s) = \\frac{sT}{sT+1} \\quad\\quad\\text{where }\\; T=RC\n",
    "\\end{equation}    "
   ]
  },
  {
   "cell_type": "markdown",
   "id": "7407374c",
   "metadata": {},
   "source": [
    "Note that, here, $T=RC=\\tau$."
   ]
  },
  {
   "cell_type": "markdown",
   "id": "99918bbc",
   "metadata": {},
   "source": [
    "$$ Y(s) = \\frac{1}{s(sT+1)}\\,\\frac{ET}{\\tau}\\,\\big(1-e^{-s\\tau}\\big)$$"
   ]
  },
  {
   "cell_type": "markdown",
   "id": "20a58ffd",
   "metadata": {},
   "source": [
    "Let $F(s)$ be defined as:  \n",
    "\n",
    "$$ F(s) := \\frac{1}{s(sT+1)} \\quad\\quad\\hat{=}\\quad\\quad f(t) = \\big(1-e^{-t/T}\\big)\\,\\mathbf{1}(t)$$"
   ]
  },
  {
   "cell_type": "markdown",
   "id": "4374d7dd",
   "metadata": {},
   "source": [
    "$$ y(t) = \\frac{ET}{\\tau}\\,\\big(f(t) - f(t-\\tau)\\big) = E\\,\\big(f(t)-f(t-T)\\big)$$"
   ]
  },
  {
   "cell_type": "markdown",
   "id": "163b6ad7",
   "metadata": {},
   "source": [
    "The above response consists of an initial exponential rise, with a duration of $\\tau=T$, followed by an exponential decline towards zero.\n",
    "\n",
    "Assuming $t\\ge\\tau=T$,  \n",
    "\n",
    "$$ y(t) = E\\big(e^{(T-t)/T}-e^{-t/T}\\big) = Ee^{-t/T}\\,\\big(e-1\\big)$$"
   ]
  },
  {
   "cell_type": "markdown",
   "id": "b99083ac",
   "metadata": {},
   "source": [
    "$$ y(\\tau_-) = E\\,\\big(1-e^{-1}\\big)\\approxeq 632.12\\mathrm{mV}$$"
   ]
  },
  {
   "cell_type": "markdown",
   "id": "d5631c26",
   "metadata": {},
   "source": [
    "$$ y(\\tau) = Ee^{-1}\\,\\big(e-1\\big) = E - Ee^{-1} = E\\,\\big(1-e^{-1}\\big) = y(\\tau_-)$$"
   ]
  },
  {
   "cell_type": "markdown",
   "id": "b8fad351",
   "metadata": {},
   "source": [
    "Now, recall that the transfer function of the **RC integrator** is:  \n",
    "\n",
    "\\begin{equation}\\tag{7a}\n",
    "    K(s) = \\frac{1}{sT+1}\n",
    "\\end{equation}"
   ]
  },
  {
   "cell_type": "markdown",
   "id": "84d5857c",
   "metadata": {},
   "source": [
    "$$ Y(s) = K(s)\\cdot X(s) = \\frac{E}{\\tau} \\,\\frac{1}{s^2(sT+1)}\\,\\big(1-e^{-s\\tau}\\big)$$"
   ]
  },
  {
   "cell_type": "markdown",
   "id": "c24e4811",
   "metadata": {},
   "source": [
    "$$  = \\frac{E}{\\tau}\\,\\big(1-e^{-s\\tau}\\big)\\,\\left(\\frac{Bs + D}{s^2} + \\frac{A}{sT+1}\\right)$$"
   ]
  },
  {
   "cell_type": "markdown",
   "id": "399b4822",
   "metadata": {},
   "source": [
    "where,  \n",
    "\n",
    "$$ As^2 + (Bs+D)(sT+1) = As^2 + BTs^2 + DTs + Bs + D = 1$$"
   ]
  },
  {
   "cell_type": "markdown",
   "id": "b3e6d408",
   "metadata": {},
   "source": [
    "$$ D = 1 $$"
   ]
  },
  {
   "cell_type": "markdown",
   "id": "67a9e95d",
   "metadata": {},
   "source": [
    "$$ B = -T$$"
   ]
  },
  {
   "cell_type": "markdown",
   "id": "e2bd6734",
   "metadata": {},
   "source": [
    "$$ A = T^2$$"
   ]
  },
  {
   "cell_type": "markdown",
   "id": "16cffcf1",
   "metadata": {},
   "source": [
    "Now let $G(s)$ be defined as:  \n",
    "\n",
    "$$ G(s) := \\frac{1-Ts}{s^2} + \\frac{T^2}{sT+1} = \\frac{1}{s^2} - \\frac{T}{s} + T\\,\\frac{T}{sT+1}$$"
   ]
  },
  {
   "cell_type": "markdown",
   "id": "17a8f8a7",
   "metadata": {},
   "source": [
    "$$ g(t) = \\big(t - T + Te^{-t/T} \\big)\\,\\mathbf{1}(t)$$"
   ]
  },
  {
   "cell_type": "markdown",
   "id": "a6ffa5b8",
   "metadata": {},
   "source": [
    "Finally,  \n",
    "\n",
    "$$ y(t) = \\frac{E}{\\tau}\\,\\big(g(t) - g(t-\\tau)\\big)$$"
   ]
  },
  {
   "cell_type": "markdown",
   "id": "13f8ea0e",
   "metadata": {},
   "source": [
    "Initially, there is a bit of an expotential decline in conjunction with a linear rise that lasts roughly $\\tau=T$.  \n",
    "\n",
    "$$ y(0) = \\frac{E}{T}\\,\\big(T-T) = 0$$"
   ]
  },
  {
   "cell_type": "markdown",
   "id": "a9aec7ee",
   "metadata": {},
   "source": [
    "$$ y(\\tau_-) = \\frac{E}{T}\\,Te^{-1} = Ee^{-1}\\approxeq 367.88\\mathrm{mV}$$"
   ]
  },
  {
   "cell_type": "markdown",
   "id": "6d2574f4",
   "metadata": {},
   "source": [
    "$$ \\frac{E}{T}\\,g'(t) = \\frac{E}{T}\\,\\big(1-e^{-t/T}\\big) = 0$$"
   ]
  },
  {
   "cell_type": "markdown",
   "id": "930b4cbc",
   "metadata": {},
   "source": [
    "$$ 1=e^{-t/T} \\implies -\\frac{t}{T} = \\log 1 \\implies t = -T\\,\\log 1 \\implies t = 0$$"
   ]
  },
  {
   "cell_type": "markdown",
   "id": "ac71633a",
   "metadata": {},
   "source": [
    "Assuming $t\\ge\\tau$,  \n",
    "\n",
    "$$ y(t) = \\frac{E}{T}\\,\\big(Te^{-t/T} + T - Te^{-t/T}e\\big) = E\\,\\big(1 - e^{-t/T}e + e^{-t/T}\\big)$$"
   ]
  },
  {
   "cell_type": "markdown",
   "id": "1fd56462",
   "metadata": {},
   "source": [
    "$$ y(\\tau) = Ee^{-1} = y(\\tau_-)$$"
   ]
  },
  {
   "cell_type": "markdown",
   "id": "1ad6ce00",
   "metadata": {},
   "source": [
    "Under state-state conditions,  \n",
    "\n",
    "$$ y(\\infty) = E$$"
   ]
  },
  {
   "cell_type": "code",
   "execution_count": 8,
   "id": "e406a230",
   "metadata": {
    "code_folding": [
     0
    ]
   },
   "outputs": [
    {
     "data": {
      "text/plain": [
       "[<matplotlib.lines.Line2D at 0x7faa178009a0>]"
      ]
     },
     "execution_count": 8,
     "metadata": {},
     "output_type": "execute_result"
    },
    {
     "data": {
      "image/png": "[encoded data removed]",
      "text/plain": [
       "<Figure size 432x288 with 1 Axes>"
      ]
     },
     "metadata": {
      "needs_background": "light"
     },
     "output_type": "display_data"
    }
   ],
   "source": [
    "# Set circuit parameters.\n",
    "E = 10; tau=T=10e-3\n",
    "\n",
    "t = np.linspace(0, T*6, num=200)\n",
    "\n",
    "y_1 = (t-T+T*np.e**(-t/T))*E/tau\n",
    "y_2 = -(E/tau)*(t-2*T+T*np.e**(-(t-tau)/T))*np.array(list(map(u, t-tau)))\n",
    "y = y_1+y_2\n",
    "\n",
    "fig, ax = plt.subplots()\n",
    "ax.set_title('Integrator', size=14)\n",
    "ax.set_xlabel('time [ms]')\n",
    "ax.set_ylabel('voltage [V]')\n",
    "ax.grid()\n",
    "\n",
    "ax.plot(t*1000, y)"
   ]
  },
  {
   "cell_type": "markdown",
   "id": "e6ae6314",
   "metadata": {},
   "source": [
    "#### Problem 4\n",
    "4. For the ideal pulse input: $E=10\\mathrm{V}$ and $\\tau=10\\mathrm{ms}$, draw the ideal integrator output. Assume the integration constant $T=\\tau$."
   ]
  },
  {
   "cell_type": "markdown",
   "id": "515a7d7d",
   "metadata": {},
   "source": [
    "The input or excitation, denoted as '$x(t)$', is given by:  \n",
    "\n",
    "$$ x(t) = E\\big(\\mathbf{1}(t)-\\mathbf{1}(t-\\tau)\\big) \\quad\\quad\\hat{=}\\quad\\quad X(s)=\\frac{E}{s}\\,\\big(1-e^{-s\\tau}\\big)$$"
   ]
  },
  {
   "cell_type": "markdown",
   "id": "38b95fb6",
   "metadata": {},
   "source": [
    "Recall that, for an ideal integrator:  \n",
    "\n",
    "\\begin{equation}\\tag{6}\n",
    "    K(s) = \\frac{1}{sT}\n",
    "\\end{equation}    "
   ]
  },
  {
   "cell_type": "markdown",
   "id": "4e324001",
   "metadata": {},
   "source": [
    "$$ Y(s) = K(s)\\cdot X(s) = \\frac{E}{s^2T}\\,\\big(1-e^{-s\\tau}\\big)$$"
   ]
  },
  {
   "cell_type": "markdown",
   "id": "4fc07084",
   "metadata": {},
   "source": [
    "Let $F(s)$ be defined as:  \n",
    "\n",
    "$$ F(s) := \\frac{E}{s^2T} \\quad\\quad\\hat{=}\\quad\\quad f(t) = \\frac{E}{T}\\,t\\,\\mathbf{1}(t)$$"
   ]
  },
  {
   "cell_type": "markdown",
   "id": "da932b92",
   "metadata": {},
   "source": [
    "Finally,  \n",
    "\n",
    "$$ y(t) = f(t) - f(t-\\tau) $$"
   ]
  },
  {
   "cell_type": "markdown",
   "id": "8a2ad2b9",
   "metadata": {},
   "source": [
    "The response consists of a linear rise to $E$ with a duration of $\\tau=10\\mathrm{ms}$.  Assuming $t\\ge\\tau$,  \n",
    "\n",
    "$$ y(t) = \\frac{E}{T}\\,\\big(t-t+T\\big) = E$$"
   ]
  },
  {
   "cell_type": "markdown",
   "id": "56209373",
   "metadata": {},
   "source": [
    "Basically, the response, $y(t)$, is a practical step output with a rise time of $\\tau_\\mathrm{r}=\\tau=10\\mathrm{ms}$ and a height of $E$."
   ]
  },
  {
   "cell_type": "markdown",
   "id": "100473f9",
   "metadata": {},
   "source": [
    "#### Problem 5\n",
    "5. For the practical pulse input of:  $E=10\\mathrm{V}$, $\\tau=10\\mathrm{ms}$, $\\tau_\\mathrm{r}=2\\mathrm{ms}$, and $\\tau_\\mathrm{f}=1\\mathrm{ms}$, draw the ideal differentiator output. Assume the differentiation constant $T=\\tau$."
   ]
  },
  {
   "cell_type": "markdown",
   "id": "572e0633",
   "metadata": {},
   "source": [
    "$$ \\tau_1=\\tau_\\mathrm{r} \\quad\\quad \\tau_2-\\tau_1 = \\tau \\quad\\quad \\tau_3-\\tau_2 = \\tau_\\mathrm{f}$$"
   ]
  },
  {
   "cell_type": "markdown",
   "id": "a316f6bc",
   "metadata": {},
   "source": [
    "$$ x(t) = x^1(t) + x^2(t) + x^3(t) + x^4(t)$$"
   ]
  },
  {
   "cell_type": "markdown",
   "id": "3dfa8b46",
   "metadata": {},
   "source": [
    "where,  \n",
    "\n",
    "$$ x^1(t) = \\frac{E}{\\tau_1}\\,t\\,\\mathbf{1}(t) \\quad\\quad x^2(t) = -x^1(t-\\tau_1) \\quad\\quad x^3(t) = \\frac{E}{\\tau_\\mathrm{f}}\\,(t-\\tau_2)\\,\\mathbf{1}(t-\\tau_2)\\quad\\quad x^4(t) = -\\frac{E}{\\tau_\\mathrm{f}}\\,(t-\\tau_3)\\,\\mathbf{1}(t-\\tau_3)$$"
   ]
  },
  {
   "cell_type": "markdown",
   "id": "f329ce92",
   "metadata": {},
   "source": [
    "$$ X(s) = \\frac{E}{s^2}\\,\\left(\\frac{1}{\\tau_1} - \\frac{1}{\\tau_1}\\,e^{-s\\tau_1} + \\frac{1}{\\tau_\\mathrm{f}}\\,e^{-s\\tau_2} - \\frac{1}{\\tau_\\mathrm{f}}\\,e^{-s\\tau_3}\\right) $$"
   ]
  },
  {
   "cell_type": "markdown",
   "id": "220fb59e",
   "metadata": {},
   "source": [
    "Recall that the Laplace transfer function of the ideal differentiator is:  \n",
    "\n",
    "\\begin{equation}\\tag{10}\n",
    "    K(s) = sT\n",
    "\\end{equation}    "
   ]
  },
  {
   "cell_type": "markdown",
   "id": "10d27882",
   "metadata": {},
   "source": [
    "$$ Y(s) = K(s)\\cdot X(s) = \\frac{ET}{s}\\,\\left(\\frac{1}{\\tau_1} - \\frac{1}{\\tau_1}\\,e^{-s\\tau_1} + \\frac{1}{\\tau_\\mathrm{f}}\\,e^{-s\\tau_2} - \\frac{1}{\\tau_\\mathrm{f}}\\,e^{-s\\tau_3}\\right)$$"
   ]
  },
  {
   "cell_type": "markdown",
   "id": "3d812c61",
   "metadata": {},
   "source": [
    "Let $F(s)$ be defined as:  \n",
    "\n",
    "$$ F(s) := \\frac{ET}{s}\\quad\\quad\\hat{=}\\quad\\quad f(t) = ET$$"
   ]
  },
  {
   "cell_type": "markdown",
   "id": "647a48d8",
   "metadata": {},
   "source": [
    "$$ y(t) = ET\\,\\left(\\frac{1}{\\tau_1}\\mathbf{1}(t) - \\frac{1}{\\tau_1}\\,\\mathbf{1}(t-\\tau_1) + \\frac{1}{\\tau_\\mathrm{f}}\\,\\mathbf{1}(t-\\tau_2) - \\frac{1}{\\tau_\\mathrm{f}}\\,\\mathbf{1}(t-\\tau_3)\\right)$$"
   ]
  },
  {
   "cell_type": "markdown",
   "id": "31177f84",
   "metadata": {},
   "source": [
    "#### Problem 6\n",
    "6. Find the ideal integrator ($T=2 \\mathrm{ms}$) output $u_2(5\\mathrm{ms})$, if $20\\mathrm{V}$ step is inputted."
   ]
  },
  {
   "cell_type": "markdown",
   "id": "aad7adb1",
   "metadata": {},
   "source": [
    "Let $E:=20\\mathrm{V}$.  \n",
    "\n",
    "$$ u_1(t) = E\\,\\mathbf{1}(t)\\quad\\quad\\hat{=}\\quad\\quad U_1(s) = \\frac{E}{s}$$"
   ]
  },
  {
   "cell_type": "markdown",
   "id": "f3c6ab37",
   "metadata": {},
   "source": [
    "Recall that, for an ideal integrator:  \n",
    "\n",
    "\\begin{equation}\\tag{6}\n",
    "    K(s) = \\frac{1}{sT}\n",
    "\\end{equation}    "
   ]
  },
  {
   "cell_type": "markdown",
   "id": "8f6dc6a2",
   "metadata": {},
   "source": [
    "$$ U_2(s) = \\frac{E}{s^2T} \\quad\\quad \\hat{=}\\quad\\quad u_2(t) = \\frac{E}{T}\\,t\\,\\mathbf{1}(t)$$"
   ]
  },
  {
   "cell_type": "code",
   "execution_count": 9,
   "id": "e8fbdb46",
   "metadata": {},
   "outputs": [
    {
     "data": {
      "text/plain": [
       "50.0"
      ]
     },
     "execution_count": 9,
     "metadata": {},
     "output_type": "execute_result"
    }
   ],
   "source": [
    "E = 20; T = 2e-3\n",
    "u_2 = lambda t: t*E/T if t >= 0 else 0\n",
    "u_2(5e-3)"
   ]
  },
  {
   "cell_type": "markdown",
   "id": "244c49f1",
   "metadata": {},
   "source": [
    "Now, would it matter if the input were a *practical step*?  Yes, but only if the rise time is less then or equal to $5\\mathrm{ms}$."
   ]
  },
  {
   "cell_type": "markdown",
   "id": "5ae83fee",
   "metadata": {},
   "source": [
    "#### Problem 7\n",
    "7. For the given voltage waveform of the RC integrator input, plot the output voltage.  Assume:  $RC << \\tau$.  \n",
    "\n",
    "![Fig-P.3.3.7](Figures/Fig-P.3.3.7.png)"
   ]
  },
  {
   "cell_type": "markdown",
   "id": "7cf12794",
   "metadata": {},
   "source": [
    "From left to right, we will start with the **first** waveform.  \n",
    "\n",
    "$$ x(t):=u_1(t) = E\\,\\big(\\mathbf{1}(t) - \\mathbf{1}(t-\\tau) - \\mathbf{1}(t-2\\tau) + \\mathbf{1}(t-3\\tau)\\big)$$\n",
    "\n",
    "$$ X(s) = \\frac{E}{s}\\,\\big(1-e^{-s\\tau} - e^{-2s\\tau} + e^{-3s\\tau}\\big)$$"
   ]
  },
  {
   "cell_type": "markdown",
   "id": "8e4e6e42",
   "metadata": {},
   "source": [
    "Assuming a practical integrator,  \n",
    "\n",
    "\\begin{equation}\\tag{7a}\n",
    "    K(s) = \\frac{1}{sT+1}\\quad\\quad\\text{where }\\; T=RC\n",
    "\\end{equation}"
   ]
  },
  {
   "cell_type": "markdown",
   "id": "513e7dac",
   "metadata": {},
   "source": [
    "Note that $T=RC <<\\tau$."
   ]
  },
  {
   "cell_type": "markdown",
   "id": "180089b9",
   "metadata": {},
   "source": [
    "$$ Y(s) = E\\,\\frac{1}{s(sT+1)}\\,\\big(1-e^{-s\\tau} - e^{-2s\\tau} + e^{-3s\\tau}\\big)$$"
   ]
  },
  {
   "cell_type": "markdown",
   "id": "24dab38f",
   "metadata": {},
   "source": [
    "Let $F(s)$ be defined as:  \n",
    "\n",
    "$$ F(s):=E\\,\\frac{1}{s(sT+1)} \\quad\\quad\\hat{=}\\quad\\quad f(t) = E\\,\\big(1-e^{-t/T}\\big)\\,\\mathbf{1}(t)$$"
   ]
  },
  {
   "cell_type": "markdown",
   "id": "bacfd205",
   "metadata": {},
   "source": [
    "$$ y(t) = f(t) - f(t-\\tau) - f(t-2\\tau) + f(t-3\\tau)$$"
   ]
  },
  {
   "cell_type": "markdown",
   "id": "edc091d7",
   "metadata": {},
   "source": [
    "The above response consists of four segments.  The first three each have a duration of $\\tau$ and the fourth segment lasts indefinitely.  Assuming $\\tau > 5T$, which is suggested by the assumption that $\\tau >> T$, each segment has enough time to reach steady-state.  \n",
    "\n",
    "First, there is an exponential rise to $E$ followed by an exponential decline back to zero followed by an even steeper exponential decline to $-E$ followed by an even steeper rise back to zero."
   ]
  },
  {
   "cell_type": "markdown",
   "id": "4ce4f538",
   "metadata": {},
   "source": [
    "The rise or fall of each segment becomes progressively steeper."
   ]
  },
  {
   "cell_type": "markdown",
   "id": "550fe1bf",
   "metadata": {},
   "source": [
    "$$ f(t-\\tau) = E\\,\\big(1-e^{-t/T}e^{\\tau/T}\\big)\\,\\mathbf{1}(t-\\tau)$$"
   ]
  },
  {
   "cell_type": "markdown",
   "id": "b8098e51",
   "metadata": {},
   "source": [
    "Assuming $\\tau\\le t < 2\\tau$,  \n",
    "\n",
    "$$ y(t) = E\\,\\big(e^{(\\tau-t)/T} - e^{-t/T}\\big) = Ee^{-t/T}\\,\\big(e^{\\tau/T}-1\\big)$$"
   ]
  },
  {
   "cell_type": "markdown",
   "id": "c584efaa",
   "metadata": {},
   "source": [
    "Assuming $2\\tau\\le t < 3\\tau$,  \n",
    "\n",
    "$$ y(t) =  Ee^{-t/T}\\,\\big(e^{2\\tau/T}+e^{\\tau/T}-1\\big) - E$$"
   ]
  },
  {
   "cell_type": "markdown",
   "id": "5dc18cbc",
   "metadata": {},
   "source": [
    "Finally, assuming $t\\ge 3\\tau$,  \n",
    "\n",
    "$$ y(t) = Ee^{-t/T}\\,\\big(e^{2\\tau/T}+e^{\\tau/T} - e^{3\\tau/T}-1\\big)$$"
   ]
  },
  {
   "cell_type": "code",
   "execution_count": 10,
   "id": "b73729c5",
   "metadata": {
    "code_folding": []
   },
   "outputs": [
    {
     "data": {
      "text/plain": [
       "<matplotlib.legend.Legend at 0x7faa177efe20>"
      ]
     },
     "execution_count": 10,
     "metadata": {},
     "output_type": "execute_result"
    },
    {
     "data": {
      "image/png": "[encoded data removed]",
      "text/plain": [
       "<Figure size 921.6x345.6 with 1 Axes>"
      ]
     },
     "metadata": {
      "needs_background": "light"
     },
     "output_type": "display_data"
    }
   ],
   "source": [
    "# Set circuit parameters.\n",
    "E=1; T=1e-3; tau=8*T\n",
    "\n",
    "t = np.linspace(0, 4*tau, num=500)\n",
    "x = E*(1 - one(t-tau) - one(t-2*tau) + one(t-3*tau))\n",
    "y1 = E*(1-np.e**(-t/T))\n",
    "y2 = -E*(1-np.e**(-(t-tau)/T))*one(t-tau)\n",
    "y3 = -E*(1-np.e**(-(t-2*tau)/T))*np.array(list(map(u, t-2*tau)))\n",
    "y4 = E*(1-np.e**(-(t-3*tau)/T))*np.array(list(map(u, t-3*tau)))\n",
    "y = y1+y2+y3+y4\n",
    "\n",
    "fig, ax = plt.subplots(figsize=(2*6.4, 4.8))\n",
    "ax.set_title('First Waveform Response', size=14)\n",
    "ax.set_xlabel('time [ms]')\n",
    "ax.set_ylabel('voltage [V]')\n",
    "ax.grid()\n",
    "\n",
    "ax.plot(t*1000, y, label='output')\n",
    "ax.plot(t*1000, x, label='input')\n",
    "ax.legend()"
   ]
  },
  {
   "cell_type": "markdown",
   "id": "bb14b41e",
   "metadata": {},
   "source": [
    "Now the **second** waveform.  \n",
    "\n",
    "$$ x(t) = E\\,\\big(\\mathbf{1}(t) - 2\\mathbf{1}(t-\\tau)\\big)\\quad\\quad\\hat{=}\\quad\\quad X(s) = \\frac{E}{s}\\,\\big(1 - 2e^{-s\\tau}\\big)$$"
   ]
  },
  {
   "cell_type": "markdown",
   "id": "6dc67021",
   "metadata": {},
   "source": [
    "Again, assuming a practical integrator,  \n",
    "\n",
    "\\begin{equation}\\tag{7a}\n",
    "    K(s) = \\frac{1}{sT+1}\\quad\\quad\\text{where }\\; T=RC\n",
    "\\end{equation}"
   ]
  },
  {
   "cell_type": "markdown",
   "id": "2d31951f",
   "metadata": {},
   "source": [
    "$$ Y(s) = E\\,\\frac{1}{s(sT+1)}\\,\\big(1-2e^{-s\\tau}\\big)$$"
   ]
  },
  {
   "cell_type": "markdown",
   "id": "e1a17260",
   "metadata": {},
   "source": [
    "$$ y(t) = f(t) - 2f(t-\\tau)$$"
   ]
  },
  {
   "cell_type": "markdown",
   "id": "a9422711",
   "metadata": {},
   "source": [
    "Recall that:  \n",
    "\n",
    "$$f(t) = E\\,\\big(1-e^{-t/T}\\big)\\,\\mathbf{1}(t)$$"
   ]
  },
  {
   "cell_type": "markdown",
   "id": "162156ec",
   "metadata": {},
   "source": [
    "The response starts off with a exponential rise to $E$.  Assuming $t\\ge\\tau$,  \n",
    "\n",
    "$$ y(t) = E\\,\\big(e^{(\\tau-t)/T} - e^{-t/T}-1\\big) = Ee^{-t/T}\\,\\big(e^{\\tau/T}-1\\big) - E$$"
   ]
  },
  {
   "cell_type": "markdown",
   "id": "2d4fc8a7",
   "metadata": {},
   "source": [
    "Said exponential rise is followed by an expotential decline to $-E$."
   ]
  },
  {
   "cell_type": "code",
   "execution_count": 11,
   "id": "bf9d0c3f",
   "metadata": {
    "code_folding": []
   },
   "outputs": [
    {
     "data": {
      "text/plain": [
       "<matplotlib.legend.Legend at 0x7faa17761e20>"
      ]
     },
     "execution_count": 11,
     "metadata": {},
     "output_type": "execute_result"
    },
    {
     "data": {
      "image/png": "[encoded data removed]",
      "text/plain": [
       "<Figure size 432x288 with 1 Axes>"
      ]
     },
     "metadata": {
      "needs_background": "light"
     },
     "output_type": "display_data"
    }
   ],
   "source": [
    "# Create new time domain.\n",
    "t = np.linspace(0, 2*tau, num=250)\n",
    "\n",
    "# Define the input and output functions.\n",
    "x = E*(1-2*one(t-tau))\n",
    "y1 = E*(1-np.e**(-t/T))\n",
    "y2 = -2*E*(1-np.e**(-(t-tau)/T))*one(t-tau)\n",
    "y = y1 + y2\n",
    "\n",
    "# Create figure and axes objects.\n",
    "fig, ax = plt.subplots()\n",
    "ax.set_title('Second Waveform Response', size=12)\n",
    "ax.set_xlabel('time [ms]')\n",
    "ax.set_ylabel('voltage [V]')\n",
    "ax.grid()\n",
    "\n",
    "ax.plot(t*1000, y, label='output')\n",
    "ax.plot(t*1000, x, label='input')\n",
    "ax.legend()"
   ]
  },
  {
   "cell_type": "markdown",
   "id": "8e742a3e",
   "metadata": {},
   "source": [
    "Finally, the **third** waveform.  \n",
    "\n",
    "$$ x(t) = E\\,\\big(\\mathbf{1}(t) + \\mathbf{1}(t-\\tau) - 2\\mathbf{1}(t-2\\tau)\\big)\\quad\\quad\\hat{=}\\quad\\quad X(s) = \\frac{E}{s}\\,\\big(1+ e^{-s\\tau} - 2e^{-2s\\tau}\\big)$$"
   ]
  },
  {
   "cell_type": "markdown",
   "id": "ab7fc868",
   "metadata": {},
   "source": [
    "$$ Y(s) = F(s)\\,\\big(1+ e^{-s\\tau} - 2e^{-2s\\tau}\\big)$$"
   ]
  },
  {
   "cell_type": "markdown",
   "id": "3fa407d3",
   "metadata": {},
   "source": [
    "Recall that:  \n",
    "\n",
    "$$f(t) = E\\,\\big(1-e^{-t/T}\\big)\\,\\mathbf{1}(t)$$"
   ]
  },
  {
   "cell_type": "markdown",
   "id": "563ce79b",
   "metadata": {},
   "source": [
    "$$ y(t) = f(t) + f(t-\\tau) - 2f(t-2\\tau)$$"
   ]
  },
  {
   "cell_type": "markdown",
   "id": "043d5bee",
   "metadata": {},
   "source": [
    "First there is an exponential rise to $E$.\n",
    "\n",
    "Assuming $\\tau\\le t < 2\\tau$,  \n",
    "\n",
    "$$ y(t) = E\\,\\big(2-e^{-t/T} - e^{-t/T}e^{\\tau/T}\\big) = E\\,\\Big(2-e^{-t/T}\\big(1+e^{\\tau/T}\\big)\\Big)$$"
   ]
  },
  {
   "cell_type": "markdown",
   "id": "c2b2c166",
   "metadata": {},
   "source": [
    "Said rise continues into the next segment to $2E$."
   ]
  },
  {
   "cell_type": "markdown",
   "id": "73096548",
   "metadata": {},
   "source": [
    "Now, assuming $t\\ge 2\\tau$,  \n",
    "\n",
    "$$ y(t) = E\\,\\big(e^{-t/T}e^{2\\tau/T} - e^{-t/T} - e^{-t/T}e^{\\tau/T}\\big) = Ee^{-t/T}\\,\\big(e^{2\\tau/T} - 1 - e^{\\tau/T}\\big)$$"
   ]
  },
  {
   "cell_type": "markdown",
   "id": "68ba9749",
   "metadata": {},
   "source": [
    "The final segment of the response is an exponential decline back to zero."
   ]
  },
  {
   "cell_type": "code",
   "execution_count": 12,
   "id": "9e715ec7",
   "metadata": {
    "code_folding": [
     0
    ]
   },
   "outputs": [
    {
     "data": {
      "text/plain": [
       "<matplotlib.legend.Legend at 0x7faa176de4c0>"
      ]
     },
     "execution_count": 12,
     "metadata": {},
     "output_type": "execute_result"
    },
    {
     "data": {
      "image/png": "[encoded data removed]",
      "text/plain": [
       "<Figure size 576x345.6 with 1 Axes>"
      ]
     },
     "metadata": {
      "needs_background": "light"
     },
     "output_type": "display_data"
    }
   ],
   "source": [
    "# Create new time domain.\n",
    "t = np.linspace(0, 3*tau, num=350)\n",
    "\n",
    "# Define input and output functions.\n",
    "x = E*(1 + one(t-tau) - 2*one(t-2*tau))\n",
    "y1 = E*(1-np.e**(-t/T))\n",
    "y2 = E*(1-np.e**(-(t-tau)/T))*one(t-tau)\n",
    "y3 = -2*E*(1-np.e**(-(t-2*tau)/T))*one(t-2*tau)\n",
    "y = y1 + y2 + y3\n",
    "\n",
    "# Create figure and axes objects.\n",
    "fig, ax = plt.subplots(figsize=(8, 4.8))\n",
    "ax.set_title('Third Waveform Response', size=14)\n",
    "ax.set_xlabel('time [ms]')\n",
    "ax.set_ylabel('voltage [V]')\n",
    "ax.grid()\n",
    "\n",
    "ax.plot(t*1000, y, label='output')\n",
    "ax.plot(t*1000, x, label='input')\n",
    "ax.legend()"
   ]
  },
  {
   "cell_type": "markdown",
   "id": "68f9e2c5",
   "metadata": {},
   "source": [
    "#### Problem 8\n",
    "8. Repeat Problem 3.3.7 for the RC differentiator.  \n",
    "\n",
    "![Fig-P.3.3.7](Figures/Fig-P.3.3.7.png)"
   ]
  },
  {
   "cell_type": "markdown",
   "id": "dc6ef964",
   "metadata": {},
   "source": [
    "From left to right, we will start with the **first** waveform.  \n",
    "\n",
    "$$ x(t):=u_1(t) = E\\,\\big(\\mathbf{1}(t) - \\mathbf{1}(t-\\tau) - \\mathbf{1}(t-2\\tau) + \\mathbf{1}(t-3\\tau)\\big)$$\n",
    "\n",
    "$$ X(s) = \\frac{E}{s}\\,\\big(1-e^{-s\\tau} - e^{-2s\\tau} + e^{-3s\\tau}\\big)$$"
   ]
  },
  {
   "cell_type": "markdown",
   "id": "46c60bec",
   "metadata": {},
   "source": [
    "Assuming a practical differentiator,  \n",
    "\n",
    "\\begin{equation}\\tag{11a}\n",
    "    K(s) = \\frac{sT}{sT+1} \\quad\\quad\\text{where }\\; T=RC\n",
    "\\end{equation}    "
   ]
  },
  {
   "cell_type": "markdown",
   "id": "0237e3df",
   "metadata": {},
   "source": [
    "Note that $T=RC <<\\tau$.  \n",
    "\n",
    "$$ Y(s) = E\\,\\frac{T}{sT+1}\\,\\big(1-e^{-s\\tau} - e^{-2s\\tau} + e^{-3s\\tau}\\big)$$"
   ]
  },
  {
   "cell_type": "markdown",
   "id": "0fe7501a",
   "metadata": {},
   "source": [
    "Let $F(s)$ be defined as:  \n",
    "\n",
    "$$ F(s) := E\\,\\frac{T}{sT+1}\\quad\\quad\\hat{=}\\quad\\quad f(t) = Ee^{-t/T}\\,\\mathbf{1}(t)$$"
   ]
  },
  {
   "cell_type": "markdown",
   "id": "be04e2b9",
   "metadata": {},
   "source": [
    "$$ y(t) = f(t) - f(t-\\tau) - f(t-2\\tau) + f(t-3\\tau)$$"
   ]
  },
  {
   "cell_type": "markdown",
   "id": "19878cc9",
   "metadata": {},
   "source": [
    "First there is an exponential decline from $E$ to zero.  \n",
    "\n",
    "Assuming $\\tau\\le t<2\\tau$,  \n",
    "\n",
    "$$ y(t) = E\\,\\big(e^{-t/T} - e^{-t/T}e^{\\tau/T}\\big) = Ee^{-t/T}\\,\\big(1-e^{\\tau/T}\\big)$$"
   ]
  },
  {
   "cell_type": "code",
   "execution_count": 13,
   "id": "861bd676",
   "metadata": {
    "code_folding": [
     0
    ]
   },
   "outputs": [
    {
     "data": {
      "text/plain": [
       "<matplotlib.legend.Legend at 0x7faa1764ea30>"
      ]
     },
     "execution_count": 13,
     "metadata": {},
     "output_type": "execute_result"
    },
    {
     "data": {
      "image/png": "[encoded data removed]",
      "text/plain": [
       "<Figure size 576x345.6 with 1 Axes>"
      ]
     },
     "metadata": {
      "needs_background": "light"
     },
     "output_type": "display_data"
    }
   ],
   "source": [
    "# Create new time domain.\n",
    "t = np.linspace(0, 4*tau, num=500)\n",
    "\n",
    "# Define input and output functions.\n",
    "x = E*(1 - one(t-tau) - one(t-2*tau) + one(t-3*tau))\n",
    "y1 = E*np.e**(-t/T)\n",
    "y2 = -E*np.e**(-(t-tau)/T)*one(t-tau)\n",
    "y3 = -E*np.e**(-(t-2*tau)/T)*one(t-2*tau)\n",
    "y4 = E*np.e**(-(t-3*tau)/T)*one(t-3*tau)\n",
    "y = y1 + y2 + y3 + y4\n",
    "\n",
    "# Create figure and axes objects.\n",
    "fig, ax = plt.subplots(figsize=(8, 4.8))\n",
    "ax.set_title('First Waveform Response', size=14)\n",
    "ax.set_xlabel('time [ms]')\n",
    "ax.set_ylabel('voltage [V]')\n",
    "ax.grid()\n",
    "\n",
    "ax.plot(t*1000, y, label='output')\n",
    "ax.plot(t*1000, x, label='input')\n",
    "ax.legend()"
   ]
  },
  {
   "cell_type": "markdown",
   "id": "2a68be05",
   "metadata": {},
   "source": [
    "Now the **second** waveform.  \n",
    "\n",
    "$$ x(t) = E\\,\\big(\\mathbf{1}(t) - 2\\mathbf{1}(t-\\tau)\\big)\\quad\\quad\\hat{=}\\quad\\quad X(s) = \\frac{E}{s}\\,\\big(1 - 2e^{-s\\tau}\\big)$$"
   ]
  },
  {
   "cell_type": "markdown",
   "id": "16527f94",
   "metadata": {},
   "source": [
    "Again, assuming a practical differentiator,  \n",
    "\n",
    "\\begin{equation}\\tag{11a}\n",
    "    K(s) = \\frac{sT}{sT+1} \\quad\\quad\\text{where }\\; T=RC\n",
    "\\end{equation}    "
   ]
  },
  {
   "cell_type": "markdown",
   "id": "08bb3f33",
   "metadata": {},
   "source": [
    "$$ Y(s) = F(s)\\,\\big(1-2e^{-s\\tau}\\big)$$"
   ]
  },
  {
   "cell_type": "markdown",
   "id": "4f1fadbe",
   "metadata": {},
   "source": [
    "$$ y(t) = f(t) - 2f(t-\\tau) \\quad\\quad\\text{where }\\;f(t) = Ee^{-t/T}\\,\\mathbf{1}(t)$$"
   ]
  },
  {
   "cell_type": "markdown",
   "id": "94c15411",
   "metadata": {},
   "source": [
    "Initially there is an exponential decline from $E$ to zero.  \n",
    "\n",
    "Assuming $t\\ge \\tau$,  \n",
    "\n",
    "$$ y(t) = E\\big(e^{-t/T}-2e^{-t/T}e^{\\tau/T}\\big) = Ee^{-t/T}\\,\\big(1-2e^{\\tau/T}\\big)$$"
   ]
  },
  {
   "cell_type": "markdown",
   "id": "80bbaf98",
   "metadata": {},
   "source": [
    "$$y(\\tau) = Ee^{-\\tau/T} - 2E \\approxeq -2E$$"
   ]
  },
  {
   "cell_type": "code",
   "execution_count": 14,
   "id": "d8b1b5a3",
   "metadata": {
    "code_folding": [
     0
    ]
   },
   "outputs": [
    {
     "data": {
      "text/plain": [
       "<matplotlib.legend.Legend at 0x7faa173a7910>"
      ]
     },
     "execution_count": 14,
     "metadata": {},
     "output_type": "execute_result"
    },
    {
     "data": {
      "image/png": "[encoded data removed]",
      "text/plain": [
       "<Figure size 460.8x345.6 with 1 Axes>"
      ]
     },
     "metadata": {
      "needs_background": "light"
     },
     "output_type": "display_data"
    }
   ],
   "source": [
    "# Create new time domain.\n",
    "t = np.linspace(0, 2*tau, num=200)\n",
    "\n",
    "# Define input and output functions.\n",
    "x = E*(1 - 2*one(t-tau))\n",
    "y1 = E*np.e**(-t/T)\n",
    "y2 = -2*E*np.e**(-(t-tau)/T)*one(t-tau)\n",
    "y = y1 + y2\n",
    "\n",
    "# Create figure and axes objects.\n",
    "fig, ax = plt.subplots(figsize=(6.4, 4.8))\n",
    "ax.set_title('Second Waveform Response', size=14)\n",
    "ax.set_xlabel('time [ms]')\n",
    "ax.set_ylabel('voltage [V]')\n",
    "ax.grid()\n",
    "\n",
    "ax.plot(t*1000, y, label='output')\n",
    "ax.plot(t*1000, x, label='input')\n",
    "ax.legend()"
   ]
  },
  {
   "cell_type": "markdown",
   "id": "99a020d3",
   "metadata": {},
   "source": [
    "The second segment features an abrupt jumpt to $-2E$ followed by an exponential rise back to zero."
   ]
  },
  {
   "cell_type": "markdown",
   "id": "ec6d5906",
   "metadata": {},
   "source": [
    "Finally, the **third** waveform.  \n",
    "\n",
    "$$ x(t) = E\\,\\big(\\mathbf{1}(t) + \\mathbf{1}(t-\\tau) - 2\\mathbf{1}(t-2\\tau)\\big)\\quad\\quad\\hat{=}\\quad\\quad X(s) = \\frac{E}{s}\\,\\big(1+ e^{-s\\tau} - 2e^{-2s\\tau}\\big)$$"
   ]
  },
  {
   "cell_type": "markdown",
   "id": "ae2e9edc",
   "metadata": {},
   "source": [
    "$$ Y(s) = F(s)\\,\\big(1+ e^{-s\\tau} - 2e^{-2s\\tau}\\big)$$"
   ]
  },
  {
   "cell_type": "markdown",
   "id": "8b0bf0a0",
   "metadata": {},
   "source": [
    "$$ y(t) = f(t) + f(t-\\tau) - 2f(t-2\\tau) \\quad\\quad\\text{where }\\;f(t)=Ee^{-t/T}\\,\\mathbf{1}(t)$$"
   ]
  },
  {
   "cell_type": "code",
   "execution_count": 16,
   "id": "10f64536",
   "metadata": {
    "code_folding": [
     0
    ]
   },
   "outputs": [
    {
     "data": {
      "text/plain": [
       "<matplotlib.legend.Legend at 0x7faa172b0430>"
      ]
     },
     "execution_count": 16,
     "metadata": {},
     "output_type": "execute_result"
    },
    {
     "data": {
      "image/png": "[encoded data removed]",
      "text/plain": [
       "<Figure size 576x345.6 with 1 Axes>"
      ]
     },
     "metadata": {
      "needs_background": "light"
     },
     "output_type": "display_data"
    }
   ],
   "source": [
    "# Create new time domain.\n",
    "t = np.linspace(0, 3*tau, num=350)\n",
    "\n",
    "# Define input and output functions.\n",
    "x = E*(1 + one(t-tau) - 2*one(t-2*tau))\n",
    "y1 = E*np.e**(-t/T)\n",
    "y2 = +E*np.e**(-(t-tau)/T)*one(t-tau)\n",
    "y3 = -2*E*np.e**(-(t-2*tau)/T)*one(t-2*tau)\n",
    "y = y1 + y2 + y3 \n",
    "\n",
    "# Create figure and axes objects.\n",
    "fig, ax = plt.subplots(figsize=(8, 4.8))\n",
    "ax.set_title('Third Waveform Response', size=14)\n",
    "ax.set_xlabel('time [ms]')\n",
    "ax.set_ylabel('voltage [V]')\n",
    "ax.grid()\n",
    "\n",
    "ax.plot(t*1000, y, label='output')\n",
    "ax.plot(t*1000, x, label='input')\n",
    "ax.legend()"
   ]
  },
  {
   "cell_type": "markdown",
   "id": "de07d961",
   "metadata": {},
   "source": [
    "#### Problem 9\n",
    "9. For the circuit shown, compute the transfer function $K(s) = U_\\mathrm{out}(s)/U_\\mathrm{in}(s)$. Sketch $u_\\mathrm{out}(t)$ if $u_\\mathrm{in}(t) = E\\,\\mathbf{1}(t)$.  \n",
    "\n",
    "![Fig-P.3.3.9](Figures/P.3.3.9.png)"
   ]
  },
  {
   "cell_type": "markdown",
   "id": "b8dc738e",
   "metadata": {},
   "source": [
    "Let $J_\\mathrm{s}:=\\beta i_\\mathrm{B}$.  The Thevenin equivalent of ($J_\\mathrm{s}$, $R$) is:  \n",
    "\n",
    "\\begin{equation}\\tag{9.1}\n",
    "    E_\\mathrm{o} = J_\\mathrm{s}R = \\beta i_\\mathrm{B} R\n",
    "\\end{equation}    "
   ]
  },
  {
   "cell_type": "markdown",
   "id": "5bb56dd6",
   "metadata": {},
   "source": [
    "Via KVL and element equations,  \n",
    "\n",
    "$$Ri_R - E_\\mathrm{o} - \\frac{1}{C}\\,\\int i_C\\,\\mathrm{d}t = 0 \\quad \\quad u_\\mathrm{out}(t):=y(t) = \\frac{1}{C}\\,\\int i_C\\,\\mathrm{d}t \\quad\\quad u_\\mathrm{in}(t) := x(t) = E\\,\\mathbf{1}(t) = 2Ri_\\mathrm{B}$$"
   ]
  },
  {
   "cell_type": "markdown",
   "id": "03aa7f1c",
   "metadata": {},
   "source": [
    "And, via KCL,  \n",
    "\n",
    "$$ i = i_C + i_R$$"
   ]
  },
  {
   "cell_type": "markdown",
   "id": "4709e190",
   "metadata": {},
   "source": [
    "Assuming open-circuit conditions across the output terminals, which is typically the case when finding $K(s)$,  \n",
    "\n",
    "$$ i = 0 \\implies i_C = -i_R$$"
   ]
  },
  {
   "cell_type": "markdown",
   "id": "342566d4",
   "metadata": {},
   "source": [
    "Laplace transforming throughout the above four KCL and KVL equations gives:  \n",
    "\n",
    "\\begin{equation}\\tag{9.2}\n",
    "\\text{a: }\\;RI_R(s) = \\frac{E_\\mathrm{o}}{s} + \\frac{1}{sC}\\,I_C(s) \\quad\\quad\\text{b: }\\; U_\\mathrm{out}(s) = Y(s) = \\frac{1}{sC}\\,I_C(s) \\quad\\quad \\text{c: }\\;U_\\mathrm{in}(s) =X(s)= \\frac{E}{s} = 2RI_\\mathrm{B}(s)\n",
    "\\end{equation}"
   ]
  },
  {
   "cell_type": "markdown",
   "id": "dfb996f8",
   "metadata": {},
   "source": [
    "and,\n",
    "\\begin{equation}\\tag{9.3}\n",
    "    I_C(s) = - I_R(s)\n",
    "\\end{equation}    "
   ]
  },
  {
   "cell_type": "markdown",
   "id": "c0ae1c4f",
   "metadata": {},
   "source": [
    "Via equations (9.2c) and (9.1),  \n",
    "\n",
    "$$ X(s) = 2\\,\\frac{E_\\mathrm{o}}{\\beta}$$\n",
    "\n",
    "\\begin{equation}\\tag{9.4}\n",
    "    E_\\mathrm{o} = 0.5\\beta X(s)\n",
    "\\end{equation}    "
   ]
  },
  {
   "cell_type": "markdown",
   "id": "01fbddc8",
   "metadata": {},
   "source": [
    "Via equations (9.4), (9.3), and (9.2a),  \n",
    "\n",
    "$$ -RI_C(s) = \\frac{\\beta X(s)}{2s} + \\frac{1}{sC}\\,I_C(s)$$"
   ]
  },
  {
   "cell_type": "markdown",
   "id": "e2f46546",
   "metadata": {},
   "source": [
    "$$ -2sRCI_C(s) = \\beta CX(s) + 2I_C(s)$$"
   ]
  },
  {
   "cell_type": "markdown",
   "id": "b54592c1",
   "metadata": {},
   "source": [
    "$$ -2I_C(s)(sRC+1) = \\beta CX(s)$$"
   ]
  },
  {
   "cell_type": "markdown",
   "id": "6a7672b0",
   "metadata": {},
   "source": [
    "\\begin{equation}\\tag{9.5}\n",
    "    I_C(s) = -\\frac{\\beta CX(s)}{2(sRC+1)}\n",
    "\\end{equation}    "
   ]
  },
  {
   "cell_type": "markdown",
   "id": "adf37dac",
   "metadata": {},
   "source": [
    "Finally, via equations (9.5) and (9.2b),  \n",
    "\n",
    "$$ Y(s) = -\\frac{\\beta X(s)}{2s(sRC+1)}$$"
   ]
  },
  {
   "cell_type": "markdown",
   "id": "3e152bda",
   "metadata": {},
   "source": [
    "\\begin{equation}\\tag{9.6}\n",
    "    K(s) = \\frac{Y(s)}{X(s)} = -0.5\\beta\\,\\frac{1}{s(sT+1)} \\quad\\quad\\text{where }\\; T = RC\n",
    "\\end{equation}    "
   ]
  },
  {
   "cell_type": "markdown",
   "id": "78c7bf53",
   "metadata": {},
   "source": [
    "$$ Y(s) = K(s)\\cdot X(s) = -0.5\\beta E\\,\\left(\\frac{As + B}{s^2} + \\frac{D}{sT+1}\\right)$$"
   ]
  },
  {
   "cell_type": "markdown",
   "id": "efae7cd5",
   "metadata": {},
   "source": [
    "where,\n",
    "$$ (As+B)(sT+1) + Ds^2 = ATs^2 + Ds^2 + BTs + As + B = 1$$"
   ]
  },
  {
   "cell_type": "markdown",
   "id": "f7180997",
   "metadata": {},
   "source": [
    "$$ B= 1 \\quad\\quad A = -T \\quad\\quad D = T^2$$"
   ]
  },
  {
   "cell_type": "markdown",
   "id": "1c1f043d",
   "metadata": {},
   "source": [
    "$$ Y(s) = -0.5\\beta E\\,\\left(\\frac{1}{s^2} - \\frac{T}{s} + T\\,\\frac{T}{sT+1}\\right)$$"
   ]
  },
  {
   "cell_type": "markdown",
   "id": "6e60479d",
   "metadata": {},
   "source": [
    "\\begin{equation}\\tag{9.7}\n",
    "    y(t) = -0.5\\beta E\\,\\big(t - T + Te^{-t/T}\\big)\n",
    "\\end{equation}    "
   ]
  }
 ],
 "metadata": {
  "kernelspec": {
   "display_name": "Python 3",
   "language": "python",
   "name": "python3"
  },
  "language_info": {
   "codemirror_mode": {
    "name": "ipython",
    "version": 3
   },
   "file_extension": ".py",
   "mimetype": "text/x-python",
   "name": "python",
   "nbconvert_exporter": "python",
   "pygments_lexer": "ipython3",
   "version": "3.8.10"
  }
 },
 "nbformat": 4,
 "nbformat_minor": 5
}
