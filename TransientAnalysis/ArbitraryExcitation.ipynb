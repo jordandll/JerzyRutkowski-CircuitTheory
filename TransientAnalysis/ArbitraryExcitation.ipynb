{
 "cells": [
  {
   "cell_type": "markdown",
   "id": "2fb7b67e",
   "metadata": {},
   "source": [
    "# Circuits with Arbitrary Excitation\n",
    "### *Chapter 3.3* -- Transient Analysis\n",
    "\n",
    "Transient response caused by arbitrary aperiodic excitation will be considered. In most cases,\n",
    "circuit analysis is much more narrowly defined than that of finding all responses to all\n",
    "excitations. Very often it is limited to Single-Input-Single–Output (SISO) analysis. Then,\n",
    "transfer function approach is preferred, as presented in Chapter 2.7 for dc circuits. The same\n",
    "approach is preferred in transient analysis in circuits with arbitrary aperiodic excitation.\n",
    "Transfer function in $s$-domain will be defined at first. Then, its use to circuit transient analysis\n",
    "will be presented."
   ]
  },
  {
   "cell_type": "markdown",
   "id": "a0b8ae36",
   "metadata": {},
   "source": [
    "## Transfer Function – Properties and Selected Examples\n",
    "\n",
    "Transient response may be considered as sum of two components: natural response and forced\n",
    "response, as presented in Fig. 3.2.1 for time-domain signals. After setting initial conditions to\n",
    "zero and $t$-domain to $s$-domain transformation, the SISO system described in the $s$-domain is\n",
    "obtained, as presented in Fig. 3.3.1.  \n",
    "\n",
    "![Fig-3.3.1](Figures/Fig-3.3.1.png)"
   ]
  },
  {
   "cell_type": "markdown",
   "id": "c7a535a0",
   "metadata": {},
   "source": [
    "In the $s$-domain, a linear circuit input-output pair is related by the system of linear equations.\n",
    "Then, transfer function in the $s$-domain can be defined.  \n",
    "\n",
    "**Laplace transfer function** of a circuit is defined as the ratio of the response of the circuit to\n",
    "its excitation, expressed in the $s$-domain, with the assumption that all initial conditions are set\n",
    "to zero:  \n",
    "\n",
    "\\begin{equation}\\tag{1}\n",
    "    K(s)= \\frac{Y(s)}{X(s)}\n",
    "\\end{equation}    "
   ]
  },
  {
   "cell_type": "markdown",
   "id": "1dc3287f",
   "metadata": {},
   "source": [
    "Thus, problem of finding the transient response can be solved using the concept of Laplace\n",
    "transfer function, the algorithm is as follows.  "
   ]
  },
  {
   "cell_type": "markdown",
   "id": "24b0d8ee",
   "metadata": {},
   "source": [
    "### Algorithm 3.3.1 – Laplace transfer function method of transient analysis\n",
    "1. Predict the response:\n",
    "    1. evaluate the circuit order,\n",
    "    2. designate boundary values $Y_0$, $Y_\\infty$\n",
    "    3. predict shape of the response, if possible.\n",
    "2. Find algebraic expression of the excitation, if given by a graph, $x=x(t)$ .\n",
    "3. Find the Laplace transform of excitation, $X(s)$.\n",
    "4. Find the circuit transfer function, $K(s)$ .\n",
    "5. Find the response in the $s$-domain,  \n",
    "\\begin{equation}\\tag{1a}\n",
    "    Y(s)=K(s)X(s)\n",
    "\\end{equation}\n",
    "6. Find the inverse transformation $y=y(t)$.\n",
    "7. Plot the response. Check whether the obtained solution matches the predicted one."
   ]
  },
  {
   "cell_type": "markdown",
   "id": "546bde83",
   "metadata": {},
   "source": [
    "In the MIMO system, arbitrary forced $s$-domain output (response) due to all excitations\n",
    "(sources) is the superposition of the separate transfer functions for this output and each input\n",
    "times the corresponding $s$-domain inputs:  \n",
    "\n",
    "\\begin{equation}\\tag{1b}\n",
    "    Y_j(s) = \\sum_{i=0}^M K_{ij}(s)X_i(s) \\quad\\quad\\forall j\\in\\mathbb{N} \\,:\\, j\\le N\n",
    "\\end{equation}    "
   ]
  },
  {
   "cell_type": "markdown",
   "id": "5d4d3f60",
   "metadata": {},
   "source": [
    "Transfer function $K_{ij}(s)$ uniquely defines a circuit (system) with respect to one input signal $X_i(s)$\n",
    "and one output signal $Y_j(s)$ , impedance and admittance are the special cases. Before\n",
    "presenting use of this Laplace transfer function approach to exemplary circuit analysis,\n",
    "properties of the function will be discussed. Then, circuits that perform basic signal\n",
    "transformations in time-domain, integration and differentiation, will be studied."
   ]
  },
  {
   "cell_type": "markdown",
   "id": "5cd348d9",
   "metadata": {},
   "source": [
    "### Properties\n",
    "1. Transfer function is the ratio of two polynomials:  \n",
    "\n",
    "\\begin{equation}\\tag{2}\n",
    "    K(s) = K\\,\\frac{L(s)}{M(s)} = \\frac{\\displaystyle \\prod_{j=0}^{l} (s-q_j)}{\\displaystyle\\prod_{k=0}^m (s-s_k)}\n",
    "\\end{equation}    "
   ]
  },
  {
   "cell_type": "markdown",
   "id": "84eabc4b",
   "metadata": {},
   "source": [
    "where,\n",
    "* $q_j$ and $s_k$ are the roots of the numerator and denominator polynomials, or zeroes and poles of $K(s)$, respectively.\n",
    "* and $K$ is gain."
   ]
  },
  {
   "cell_type": "markdown",
   "id": "a725adc9",
   "metadata": {},
   "source": [
    "Roots and poles can be real or complex numbers and they may be expressed graphically,\n",
    "in the complex plane ($s$-plane), as the pole-zero plot, where the zeros are flagged by $\\mathbf{\\bullet}$  and\n",
    "the poles by $\\mathbf{\\diamond}$."
   ]
  },
  {
   "cell_type": "markdown",
   "id": "4c1eeadc",
   "metadata": {},
   "source": [
    "For practical circuits:\n",
    "    a) poles lie in the left half of the complex plane,\n",
    "    b) degree of the numerator polynomial can not be greater than degree of the\n",
    "denominator polynomial ($l\\le m$).\n",
    "Degree of the denominator polynomial designates the circuit order, $n=m$."
   ]
  },
  {
   "cell_type": "markdown",
   "id": "d24ebe67",
   "metadata": {},
   "source": [
    "2. The inverse transform of the Laplace transfer function, which is equal to the the transfer function in the time-domain, $\\mathfrak{L}^{-1}\\{K(s)\\}=k(t)$, is the **unit impulse response**.  If $X(s) = \\mathfrak{L}\\{\\delta(t)\\} = 1$, then $Y(s)=K(s)$ and $y(t)=k(t)$.  \n",
    "\n",
    "\\begin{equation}\\tag{3}\n",
    "    X(s) = \\mathfrak{L}\\{\\delta(t)\\} = 1 \\implies Y(s)=K(s)\\land y(t)=k(t)\n",
    "\\end{equation}    "
   ]
  },
  {
   "cell_type": "markdown",
   "id": "1c391702",
   "metadata": {},
   "source": [
    "3. The **step response** is the integral of the impulse response:\n",
    "\n",
    "\\begin{equation}\\tag{4}\n",
    "    \\text{If }\\;X(s) = \\mathfrak{L}\\{\\mathbf{1}(t)\\} = \\frac{1}{s}\\text{, then }\\;Y(s) = \\frac{1}{s}\\,K(s)\\;\\text{and}\\;y(t) = \\int_0^t k(t)\\,\\mathrm{d}t\n",
    "\\end{equation}    "
   ]
  },
  {
   "cell_type": "markdown",
   "id": "477efd08",
   "metadata": {},
   "source": [
    "or,\n",
    "\\begin{equation}\\tag{4}\n",
    "    X(s)=\\mathfrak{L}\\{\\mathbf{1}(t)\\} = \\frac{1}{s}\\implies Y(s)=\\frac{1}{s}\\,K(s) \\,\\land\\, y(t)=\\int_0^t k(t)\\,\\mathrm{d}t\n",
    "\\end{equation}    "
   ]
  },
  {
   "cell_type": "markdown",
   "id": "6c5e50d0",
   "metadata": {},
   "source": [
    "4. The time-domain response equals the **convolution** of the impulse response and the input:  \n",
    "\n",
    "\\begin{equation}\\tag{5}\n",
    "    y(t) = k(t) * x(t) = \\int_{-\\infty}^\\infty k(\\tau)\\,x(t-\\tau)\\,\\mathrm{d}\\tau = \\mathfrak{L}^{-1}\\{K(s)\\cdot X(s)\\}\n",
    "\\end{equation}    "
   ]
  },
  {
   "cell_type": "markdown",
   "id": "f50d2a20",
   "metadata": {},
   "source": [
    "### Transfer functions of selected circuits\n",
    "#### Integrator\n",
    "\n",
    "![Fig-3.3.2](Figures/Fig-3.3.2.png)"
   ]
  },
  {
   "cell_type": "markdown",
   "id": "374b81b5",
   "metadata": {},
   "source": [
    "Following Property 2 of the Laplace transformation (A4)  \n",
    "\n",
    "Laplace transfer function of the **ideal integrator** is:  \n",
    "\n",
    "\\begin{equation}\\tag{6}\n",
    "    K(s) = \\frac{1}{sT}\n",
    "\\end{equation}\n",
    "\n",
    "where, $T$ is the **integration constant**."
   ]
  },
  {
   "cell_type": "markdown",
   "id": "96220758",
   "metadata": {},
   "source": [
    "#### RC Circuit Realization of Voltage Integrator\n",
    "![Fig-3.3.2a](Figures/Fig-3.3.2a.png)"
   ]
  },
  {
   "cell_type": "markdown",
   "id": "2dc5a739",
   "metadata": {},
   "source": [
    "The circuit in figure 3.3.2a is a two port element described by:  \n",
    "\n",
    "\\begin{equation}\\tag{M1}\n",
    "    \\mathbf{I} = \\mathbf{A}\\cdot\\mathbf{U}\n",
    "\\end{equation}    "
   ]
  },
  {
   "cell_type": "markdown",
   "id": "652eb59c",
   "metadata": {},
   "source": [
    "or,\n",
    "\\begin{equation}\\tag{M1a}\n",
    "    I_1(s) = A_{11}U_1(s) + A_{12}U_2(s)\n",
    "\\end{equation}    "
   ]
  },
  {
   "cell_type": "markdown",
   "id": "8adccb87",
   "metadata": {},
   "source": [
    "\\begin{equation}\\tag{M1b}\n",
    "    I_2(s) = A_{21}U_1(s) + A_{22}U_2(s)\n",
    "\\end{equation}"
   ]
  },
  {
   "cell_type": "markdown",
   "id": "ffac3bef",
   "metadata": {},
   "source": [
    "Note that $\\mathbf{A}$ is an admittance matrix, which corresponds to $\\mathbf{G}$, or, the conductance matrix, found in equations that describe multi-terminal elements in DC analysis.  Finding the $s$-domain equivalent circuit of a circuit that is nonlinear in the time-domain allows the equations found in chapter 2 section 9 of this textbook to be further generalized, using the concept of admittance, to describe circuits with capacitance and/or inductance."
   ]
  },
  {
   "cell_type": "markdown",
   "id": "62c03b68",
   "metadata": {},
   "source": [
    "$$ I_1(s) = I_3(s) - I_2(s) = sCU_2(s) - A_{21}U_1(s) - A_{22}U_2(s)$$"
   ]
  },
  {
   "cell_type": "markdown",
   "id": "90c475b4",
   "metadata": {},
   "source": [
    "$$ sCU_2(s) - A_{21}U_1(s) - A_{22}U_2(s) = A_{11}U_1(s) + A_{12}U_2(s)$$"
   ]
  },
  {
   "cell_type": "markdown",
   "id": "a8981615",
   "metadata": {},
   "source": [
    "$$ U_1(s)\\big(A_{11} + A_{21}\\big) = U_2(s)\\big(A_{12} + A_{22} - sC\\big)$$"
   ]
  },
  {
   "cell_type": "markdown",
   "id": "d1d71954",
   "metadata": {},
   "source": [
    "\\begin{equation}\\tag{7}\n",
    "    K(s) = \\frac{U_2(s)}{U_1(s)} = \\frac{A_{11}+A_{21}}{A_{12}+A_{22}-sC}\n",
    "\\end{equation}    "
   ]
  },
  {
   "cell_type": "markdown",
   "id": "0c05a4b4",
   "metadata": {},
   "source": [
    "Assuming $U_2=0$,  \n",
    "\n",
    "$$ I_1(s) = \\frac{U_1(s)}{R}$$"
   ]
  },
  {
   "cell_type": "markdown",
   "id": "c0d7bc59",
   "metadata": {},
   "source": [
    "$$ -I_1(s)=I_2(s) =- \\frac{U_1(s)}{R}$$"
   ]
  },
  {
   "cell_type": "markdown",
   "id": "150657fe",
   "metadata": {},
   "source": [
    "\\begin{equation}\\tag{M2}\n",
    "    A_{11} = \\frac{I_1(s)}{U_1(s)}_{\\big\\vert U_2=0} = \\frac{1}{R}=G\n",
    "\\end{equation}    "
   ]
  },
  {
   "cell_type": "markdown",
   "id": "5f1345d5",
   "metadata": {},
   "source": [
    "\\begin{equation}\\tag{M3}\n",
    "    A_{21} = A_{12}=\\frac{I_2(s)}{U_1(s)}_{\\big\\vert U_2=0} = -A_{11} = -G\n",
    "\\end{equation}    "
   ]
  },
  {
   "cell_type": "markdown",
   "id": "9d4f4d2e",
   "metadata": {},
   "source": [
    "Assuming $U_1=0$, via KCL,  \n",
    "\n",
    "$$ I_3(s) = I_1(s) + I_2(s)$$\n",
    "\n",
    "Via KVL and element equations,  \n",
    "\n",
    "$$ RI_1(s) = -\\frac{1}{sC}\\,I_3(s) = -\\frac{1}{sC}\\,\\big(I_1(s)+I_2(s)\\big)$$"
   ]
  },
  {
   "cell_type": "markdown",
   "id": "bb668720",
   "metadata": {},
   "source": [
    "$$ U_2(s) = \\frac{1}{sC}\\,\\big(I_1(s)+I_2(s)\\big)$$"
   ]
  },
  {
   "cell_type": "markdown",
   "id": "5ead93e0",
   "metadata": {},
   "source": [
    "$$ sCU_2(s) - I_2(s) = I_1(s)$$"
   ]
  },
  {
   "cell_type": "markdown",
   "id": "5e575400",
   "metadata": {},
   "source": [
    "$$ R\\big(sCU_2(s)-I_2(s)\\big) = U_2(s)$$"
   ]
  },
  {
   "cell_type": "markdown",
   "id": "7157966d",
   "metadata": {},
   "source": [
    "$$ RI_2(s) = sRCU_2(s) - U_2(s)$$"
   ]
  },
  {
   "cell_type": "markdown",
   "id": "58d6f8b3",
   "metadata": {},
   "source": [
    "\\begin{equation}\\tag{M4}\n",
    "    A_{22} = \\frac{I_2(s)}{U_2(s)}_{\\big\\vert U_1(s)=0} = sC - G\n",
    "\\end{equation}    "
   ]
  },
  {
   "cell_type": "markdown",
   "id": "8c0214af",
   "metadata": {},
   "source": [
    "$$ RI_1(s) = U_1(s)-U_2(s)$$"
   ]
  },
  {
   "cell_type": "markdown",
   "id": "1f6987c1",
   "metadata": {},
   "source": [
    "\\begin{equation}\\tag{M5}\n",
    "    I_1(s) = \\frac{U_1(s)-U_2(s)}{R}\n",
    "\\end{equation}    "
   ]
  },
  {
   "cell_type": "markdown",
   "id": "7a0b9772",
   "metadata": {},
   "source": [
    "Via equations (M5), (M2), (M3), and (M1a),  \n",
    "\n",
    "$$ \\frac{U_1(s)-U_2(s)}{R} = \\frac{U_1(s)}{R} - \\frac{$$"
   ]
  }
 ],
 "metadata": {
  "kernelspec": {
   "display_name": "Python 3",
   "language": "python",
   "name": "python3"
  },
  "language_info": {
   "codemirror_mode": {
    "name": "ipython",
    "version": 3
   },
   "file_extension": ".py",
   "mimetype": "text/x-python",
   "name": "python",
   "nbconvert_exporter": "python",
   "pygments_lexer": "ipython3",
   "version": "3.8.10"
  }
 },
 "nbformat": 4,
 "nbformat_minor": 5
}
