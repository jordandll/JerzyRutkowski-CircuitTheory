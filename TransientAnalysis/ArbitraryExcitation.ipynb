{
 "cells": [
  {
   "cell_type": "markdown",
   "id": "2fb7b67e",
   "metadata": {},
   "source": [
    "# Circuits with Arbitrary Excitation\n",
    "### *Chapter 3.3* -- Transient Analysis\n",
    "\n",
    "Transient response caused by arbitrary aperiodic excitation will be considered. In most cases,\n",
    "circuit analysis is much more narrowly defined than that of finding all responses to all\n",
    "excitations. Very often it is limited to Single-Input-Single–Output (SISO) analysis. Then,\n",
    "transfer function approach is preferred, as presented in Chapter 2.7 for dc circuits. The same\n",
    "approach is preferred in transient analysis in circuits with arbitrary aperiodic excitation.\n",
    "Transfer function in $s$-domain will be defined at first. Then, its use to circuit transient analysis\n",
    "will be presented."
   ]
  },
  {
   "cell_type": "markdown",
   "id": "a0b8ae36",
   "metadata": {},
   "source": [
    "## Transfer Function – Properties and Selected Examples\n",
    "\n",
    "Transient response may be considered as sum of two components: natural response and forced\n",
    "response, as presented in Fig. 3.2.1 for time-domain signals. After setting initial conditions to\n",
    "zero and $t$-domain to $s$-domain transformation, the SISO system described in the $s$-domain is\n",
    "obtained, as presented in Fig. 3.3.1.  \n",
    "\n",
    "![Fig-3.3.1](Figures/Fig-3.3.1.png)"
   ]
  },
  {
   "cell_type": "markdown",
   "id": "c7a535a0",
   "metadata": {},
   "source": [
    "In the $s$-domain, a linear circuit input-output pair is related by the system of linear equations.\n",
    "Then, transfer function in the $s$-domain can be defined.  \n",
    "\n",
    "**Laplace transfer function** of a circuit is defined as the ratio of the response of the circuit to\n",
    "its excitation, expressed in the $s$-domain, with the assumption that all initial conditions are set\n",
    "to zero:  \n",
    "\n",
    "\\begin{equation}\\tag{1}\n",
    "    K(s)= \\frac{Y(s)}{X(s)}\n",
    "\\end{equation}    "
   ]
  },
  {
   "cell_type": "markdown",
   "id": "1dc3287f",
   "metadata": {},
   "source": [
    "Thus, problem of finding the transient response can be solved using the concept of Laplace\n",
    "transfer function, the algorithm is as follows.  "
   ]
  },
  {
   "cell_type": "markdown",
   "id": "24b0d8ee",
   "metadata": {},
   "source": [
    "### Algorithm 3.3.1 – Laplace transfer function method of transient analysis\n",
    "1. Predict the response:\n",
    "    1. evaluate the circuit order,\n",
    "    2. designate boundary values $Y_0$, $Y_\\infty$\n",
    "    3. predict shape of the response, if possible.\n",
    "2. Find algebraic expression of the excitation, if given by a graph, $x=x(t)$ .\n",
    "3. Find the Laplace transform of excitation, $X(s)$.\n",
    "4. Find the circuit transfer function, $K(s)$ .\n",
    "5. Find the response in the $s$-domain,  \n",
    "\\begin{equation}\\tag{1a}\n",
    "    Y(s)=K(s)X(s)\n",
    "\\end{equation}\n",
    "6. Find the inverse transformation $y=y(t)$.\n",
    "7. Plot the response. Check whether the obtained solution matches the predicted one."
   ]
  },
  {
   "cell_type": "markdown",
   "id": "546bde83",
   "metadata": {},
   "source": [
    "In the MIMO system, arbitrary forced $s$-domain output (response) due to all excitations\n",
    "(sources) is the superposition of the separate transfer functions for this output and each input\n",
    "times the corresponding $s$-domain inputs:  \n",
    "\n",
    "\\begin{equation}\\tag{1b}\n",
    "    Y_j(s) = \\sum_{i=0}^M K_{ij}(s)X_i(s) \\quad\\quad\\forall j\\in\\mathbb{N} \\,:\\, j\\le N\n",
    "\\end{equation}    "
   ]
  },
  {
   "cell_type": "markdown",
   "id": "5d4d3f60",
   "metadata": {},
   "source": [
    "Transfer function $K_{ij}(s)$ uniquely defines a circuit (system) with respect to one input signal $X_i(s)$\n",
    "and one output signal $Y_j(s)$ , impedance and admittance are the special cases. Before\n",
    "presenting use of this Laplace transfer function approach to exemplary circuit analysis,\n",
    "properties of the function will be discussed. Then, circuits that perform basic signal\n",
    "transformations in time-domain, integration and differentiation, will be studied."
   ]
  },
  {
   "cell_type": "markdown",
   "id": "5cd348d9",
   "metadata": {},
   "source": [
    "### Properties\n",
    "1. Transfer function is the ratio of two polynomials:  \n",
    "\n",
    "\\begin{equation}\\tag{2}\n",
    "    K(s) = K\\,\\frac{L(s)}{M(s)} = \\frac{\\displaystyle \\prod_{j=0}^{l} (s-q_j)}{\\displaystyle\\prod_{k=0}^m (s-s_k)}\n",
    "\\end{equation}    "
   ]
  },
  {
   "cell_type": "markdown",
   "id": "84eabc4b",
   "metadata": {},
   "source": [
    "where,\n",
    "* $q_j$ and $s_k$ are the roots of the numerator and denominator polynomials, or zeroes and poles of $K(s)$, respectively.\n",
    "* and $K$ is gain."
   ]
  },
  {
   "cell_type": "markdown",
   "id": "a725adc9",
   "metadata": {},
   "source": [
    "Roots and poles can be real or complex numbers and they may be expressed graphically,\n",
    "in the complex plane ($s$-plane), as the pole-zero plot, where the zeros are flagged by $\\mathbf{\\bullet}$  and\n",
    "the poles by $\\mathbf{\\diamond}$."
   ]
  },
  {
   "cell_type": "markdown",
   "id": "4c1eeadc",
   "metadata": {},
   "source": [
    "For practical circuits:\n",
    "    a) poles lie in the left half of the complex plane,\n",
    "    b) degree of the numerator polynomial can not be greater than degree of the\n",
    "denominator polynomial ($l\\le m$).\n",
    "Degree of the denominator polynomial designates the circuit order, $n=m$."
   ]
  },
  {
   "cell_type": "markdown",
   "id": "d24ebe67",
   "metadata": {},
   "source": [
    "2. The inverse transform of the Laplace transfer function, which is equal to the the transfer function in the time-domain, $\\mathfrak{L}^{-1}\\{K(s)\\}=k(t)$, is the **unit impulse response**.  If $X(s) = \\mathfrak{L}\\{\\delta(t)\\} = 1$, then $Y(s)=K(s)$ and $y(t)=k(t)$.  \n",
    "\n",
    "\\begin{equation}\\tag{3}\n",
    "    X(s) = \\mathfrak{L}\\{\\delta(t)\\} = 1 \\implies Y(s)=K(s)\\land y(t)=k(t)\n",
    "\\end{equation}    "
   ]
  },
  {
   "cell_type": "markdown",
   "id": "1c391702",
   "metadata": {},
   "source": [
    "3. The **step response** is the integral of the impulse response:\n",
    "\n",
    "\\begin{equation}\\tag{4}\n",
    "    \\text{If }\\;X(s) = \\mathfrak{L}\\{\\mathbf{1}(t)\\} = \\frac{1}{s}\\text{, then }\\;Y(s) = \\frac{1}{s}\\,K(s)\\;\\text{and}\\;y(t) = \\int_0^t k(t)\\,\\mathrm{d}t\n",
    "\\end{equation}    "
   ]
  },
  {
   "cell_type": "markdown",
   "id": "477efd08",
   "metadata": {},
   "source": [
    "or,\n",
    "\\begin{equation}\\tag{4}\n",
    "    X(s)=\\mathfrak{L}\\{\\mathbf{1}(t)\\} = \\frac{1}{s}\\implies Y(s)=\\frac{1}{s}\\,K(s) \\,\\land\\, y(t)=\\int_0^t k(t)\\,\\mathrm{d}t\n",
    "\\end{equation}    "
   ]
  },
  {
   "cell_type": "markdown",
   "id": "6c5e50d0",
   "metadata": {},
   "source": [
    "4. The time-domain response equals the **convolution** of the impulse response and the input:  \n",
    "\n",
    "\\begin{equation}\\tag{5}\n",
    "    y(t) = k(t) * x(t) = \\int_{-\\infty}^\\infty k(\\tau)\\,x(t-\\tau)\\,\\mathrm{d}\\tau = \\mathfrak{L}^{-1}\\{K(s)\\cdot X(s)\\}\n",
    "\\end{equation}    "
   ]
  },
  {
   "cell_type": "markdown",
   "id": "f50d2a20",
   "metadata": {},
   "source": [
    "### Transfer functions of selected circuits\n",
    "#### Integrator\n",
    "\n",
    "![Fig-3.3.2](Figures/Fig-3.3.2.png)"
   ]
  },
  {
   "cell_type": "markdown",
   "id": "aad95c84",
   "metadata": {},
   "source": [
    "Following Property 2 of the Laplace transformation (A4)  \n",
    "\n",
    "Laplace transfer function of the **ideal integrator** is:  \n",
    "\n",
    "\\begin{equation}\\tag{6}\n",
    "    K(s) = \\frac{1}{sT}\n",
    "\\end{equation}\n",
    "\n",
    "where, $T$ is the **integration constant**."
   ]
  },
  {
   "cell_type": "markdown",
   "id": "b0626a24",
   "metadata": {},
   "source": [
    "#### RC Circuit Realization of Voltage Integrator\n",
    "![Fig-3.3.2a](Figures/Fig-3.3.2a.png)"
   ]
  },
  {
   "cell_type": "markdown",
   "id": "e8f649d8",
   "metadata": {},
   "source": [
    "Note that the voltage running across the output terminals of the circuit in figure Fig. 3.3.2a, denoted as '$u_2$' in the time-domain circuit and '$U_2(s)$' in the $s$-domain equivalent circuit, is under open-circuit conditions.  Via KVL and element equations in the $s$-domain,  \n",
    "\n",
    "$$ U_1(s) = RI(s) + \\frac{1}{sC}\\,I_1(s) \\quad\\quad\\text{and}\\quad\\quad U_2(s) = \\frac{1}{sC}\\,I(s)$$"
   ]
  },
  {
   "cell_type": "markdown",
   "id": "1cf05e73",
   "metadata": {},
   "source": [
    "$$ I(s)\\,\\frac{sRC + 1}{sC} = U_1(s)$$"
   ]
  },
  {
   "cell_type": "markdown",
   "id": "22f5207e",
   "metadata": {},
   "source": [
    "$$ I(s) = \\frac{sC}{sRC+1}\\,U_1(s)$$"
   ]
  },
  {
   "cell_type": "markdown",
   "id": "948c1d8f",
   "metadata": {},
   "source": [
    "\\begin{equation}\\tag{7}\n",
    "    U_2(s) = \\frac{1}{sRC+1}\\,U_1(s) = \\frac{1}{sT+1}\\,U_1(s)\n",
    "\\end{equation}    "
   ]
  },
  {
   "cell_type": "markdown",
   "id": "fae499be",
   "metadata": {},
   "source": [
    "Here, the integration constant, denoted as '$T$', is given by:  \n",
    "\n",
    "$$ T = RC$$"
   ]
  },
  {
   "cell_type": "markdown",
   "id": "fbe3b5de",
   "metadata": {},
   "source": [
    "And the Laplace transfer function is:  \n",
    "\n",
    "\\begin{equation}\\tag{7a}\n",
    "    K(s) = \\frac{1}{sT+1}\n",
    "\\end{equation}    "
   ]
  },
  {
   "cell_type": "markdown",
   "id": "ab4b70e4",
   "metadata": {},
   "source": [
    "The pole-zero plots of the transfer function, for the ideal and the practical RC integrators are\n",
    "presented in Fig. 3.3.2b.  \n",
    "\n",
    "![Fig-3.3.2b](Figures/Fig-3.3.2b.png)"
   ]
  },
  {
   "cell_type": "markdown",
   "id": "69e3c677",
   "metadata": {},
   "source": [
    "The unit step input, $u_1=u_1(t)=U_1\\mathbf{1}(t)$ , will be used to compare responses of the ideal and the\n",
    "practical integrators. The integrator input in the $s$-domain:  \n",
    "\n",
    "\\begin{equation}\\tag{8}\n",
    "    U_1(s) = \\mathfrak{L}\\{U_1\\mathbf{1}(t)\\} = \\frac{U_1}{s}\n",
    "\\end{equation}    "
   ]
  },
  {
   "cell_type": "markdown",
   "id": "55bf593a",
   "metadata": {},
   "source": [
    "Then, the outputs are given by equations (3.3.9) and they are graphed in Fig. 3.3.3.  \n",
    "\n",
    "* **ideal integrator**:  \n",
    "\n",
    "\\begin{equation}\\tag{9a}\n",
    "    U_2(s)  = \\frac{1}{sT}\\,\\frac{U_1}{s} \\quad\\hat{=}\\quad u_2(t)= \\frac{U_1}{T}\\,t\n",
    "\\end{equation}    "
   ]
  },
  {
   "cell_type": "markdown",
   "id": "9284eb7a",
   "metadata": {},
   "source": [
    "* **RC integrator**:  \n",
    "\n",
    "\\begin{equation}\\tag{9b}\n",
    "    U_2(s) = \\frac{1}{sT+1}\\,\\frac{U_1}{s} \\quad\\hat{=}\\quad u_2(t) = U_1\\,\\big(1-e^{-t/T}\\big)\n",
    "\\end{equation}    "
   ]
  },
  {
   "cell_type": "markdown",
   "id": "4325d061",
   "metadata": {},
   "source": [
    "* and, in general:  \n",
    "\n",
    "\\begin{equation}\\tag{9}\n",
    "    U_2(s) = K(s)U_1(s)\\quad\\hat{=}\\quad u_2(t) = k(t)*u_1(t)\n",
    "\\end{equation}    "
   ]
  },
  {
   "cell_type": "markdown",
   "id": "bae0e954",
   "metadata": {},
   "source": [
    "![Fig-3.3.3](Figures/Fig-3.3.3.png)"
   ]
  },
  {
   "cell_type": "markdown",
   "id": "40342114",
   "metadata": {},
   "source": [
    "As can be observed,\n",
    "* the ideal integrator step response never attains steady state (the response pole is located in\n",
    "    the origin of the complex plane),\n",
    "* the RC integrator exhibits “good” integration for $t\\le T$ , then the integration decays to\n",
    "    zero, steady state is reached after $t_\\infty \\approxeq 5T$."
   ]
  },
  {
   "cell_type": "markdown",
   "id": "2f8494b7",
   "metadata": {},
   "source": [
    "#### Differentiator\n",
    "![Fig-3.3.4](Figures/Fig-3.3.4.png)"
   ]
  },
  {
   "cell_type": "markdown",
   "id": "b86e2649",
   "metadata": {},
   "source": [
    "Following Property 3 of Laplace transformation (A5)\n",
    "\n",
    "Laplace transfer function of the **ideal differentiator** is:  \n",
    "\n",
    "\\begin{equation}\\tag{10}\n",
    "    K(s)=sT\n",
    "\\end{equation}    "
   ]
  },
  {
   "cell_type": "markdown",
   "id": "00411f17",
   "metadata": {},
   "source": [
    "where $T$ is the **differentiation constant**."
   ]
  },
  {
   "cell_type": "markdown",
   "id": "fafdce8c",
   "metadata": {},
   "source": [
    "#### RC Circuit Realization of Voltage Differentiator  \n",
    "\n",
    "![Fig-3.3.4a](Figures/Fig-3.3.4a.png)"
   ]
  },
  {
   "cell_type": "markdown",
   "id": "da94bfda",
   "metadata": {},
   "source": [
    "Via KVL and element equations,  \n",
    "\n",
    "$$ U_1(s) = \\frac{1}{sC}\\,I(s) + RI(s) \\quad\\quad\\text{and}\\quad\\quad U_2(s) = RI(s)$$"
   ]
  },
  {
   "cell_type": "markdown",
   "id": "9665473a",
   "metadata": {},
   "source": [
    "$$ I(s)\\,\\frac{sRC + 1}{sC} = U_1(s)$$"
   ]
  },
  {
   "cell_type": "markdown",
   "id": "ee5ee693",
   "metadata": {},
   "source": [
    "$$ I(s) = \\frac{sC}{sRC+1}\\,U_1(s)$$"
   ]
  },
  {
   "cell_type": "markdown",
   "id": "f9d2d22b",
   "metadata": {},
   "source": [
    "\\begin{equation}\\tag{11}\n",
    "    U_2(s) = \\frac{sRC}{sRC+1}\\,U_1(s) = \\frac{sT}{sT+1}\\,U_1(s)\n",
    "\\end{equation}    "
   ]
  },
  {
   "cell_type": "markdown",
   "id": "fad2cc37",
   "metadata": {},
   "source": [
    "Then, its transfer function is:  \n",
    "\n",
    "\\begin{equation}\\tag{11a}\n",
    "    K(s) = \\frac{sT}{sT+1} \\quad\\quad\\text{where }\\; T=RC\n",
    "\\end{equation}    "
   ]
  },
  {
   "cell_type": "markdown",
   "id": "cb8a5af4",
   "metadata": {},
   "source": [
    "Recall that $T$ is the differentiation constant."
   ]
  },
  {
   "cell_type": "markdown",
   "id": "d8770852",
   "metadata": {},
   "source": [
    "Note that the voltage running across the output terminals of the circuit in figure Fig 3.3.4a, $u_2(t)$, which corresponds to $U_2(s)$, is under open-circuit conditions."
   ]
  },
  {
   "cell_type": "markdown",
   "id": "2083b484",
   "metadata": {},
   "source": [
    "The unit step input, $u_1(t)=U_1\\mathbf{1}(t)$, will be used to compare responses of the ideal and the\n",
    "practical differentiator. The differentiator input in the $s$-domain is given by equation (3.3.8).\n",
    "Then, the output are given by equations (3.3.12) and they are graphed in Fig. 3.3.5."
   ]
  },
  {
   "cell_type": "markdown",
   "id": "98e6baaf",
   "metadata": {},
   "source": [
    "* **ideal differentiator**:  \n",
    "\n",
    "\\begin{equation}\\tag{12a}\n",
    "    U_2(s) = TU_1 \\quad\\hat{=}\\quad u_2(t) = TU_1\\delta(t)\n",
    "\\end{equation}    "
   ]
  },
  {
   "cell_type": "markdown",
   "id": "ce9a5f1b",
   "metadata": {},
   "source": [
    "* **RC differentiator**:  \n",
    "\n",
    "\\begin{equation}\\tag{12b}\n",
    "    U_2(s) = \\frac{T}{sT+1}\\,U_1 \\quad\\hat{=}\\quad u_2(t) = U_1e^{-t/T}\n",
    "\\end{equation}    "
   ]
  },
  {
   "cell_type": "markdown",
   "id": "16ef2867",
   "metadata": {},
   "source": [
    "## Transer Function Based Transient Analysis - Examples\n",
    "Transfer function approach to transient analysis will be illustrated by exemplary circuits. Use\n",
    "of Algorithm 3.3.1 and its modification will be presented. In this modification, input signal is\n",
    "divided into linear segments, each segment described by step or/and ramp function, and\n",
    "sequence of analyses is performed."
   ]
  },
  {
   "cell_type": "markdown",
   "id": "324f067d",
   "metadata": {},
   "source": [
    "### *Algorithm 3.3.1a* – Laplace transfer function method of transient analysis \n",
    "Sequence of analyses  \n",
    "\n",
    "1. Predict the response, if possible.\n",
    "2. Divide the input signal into linear segments:  $\\;x^1,x^2,\\dotsc,x^N \\,\\hat{=}\\, X^1(s),X^2(s),\\dotsc,X^N(s)$.  \n",
    "\n",
    "    \\begin{equation}\\tag{13}\n",
    "    x^i := x^i(t^i) = \\pm\\left(X^{i_0} + \\frac{X^{i_t} - X^{i_0}}{\\tau^i}\\,t^i\\right)\\,\\mathbf{1}(t^i)\n",
    "    \\end{equation}    \n",
    "    \n",
    "    where, \n",
    "\n",
    "    * $\\tau^i$ is the duration of the $i$'th segment, \n",
    "    * $X^{i_0}$ and $X^{i_t}$ are the initial and terminal values of the $i$'th segment respectively,  \n",
    "    * and, $t^i := t^i(t) = t-\\sum_{j=1}^i \\tau^{j-1}$; $\\;\\tau^0=0$ is one of the functions that $x^i(t)$ is composed of.  In other words, $t^i$ is the argument that is passed to $x^i(t^i)$.\n",
    "\n",
    "    Set $i=1$."
   ]
  },
  {
   "cell_type": "markdown",
   "id": "7aa92a53",
   "metadata": {},
   "source": [
    "3. Find the circuit transfer functions $K(s)$ and $K_0(s)$ , where  \n",
    "\n",
    "    * $K(s)$ is the transfer function for the input signal, $X^i(s)$,\n",
    "    * and $K_0(s)$ is the transfer function for the initial condition (designated by the preceding segment) $X_0^i(s) = X_0^i/s$."
   ]
  },
  {
   "cell_type": "markdown",
   "id": "495d3e9c",
   "metadata": {},
   "source": [
    "![Fig-3.3.6](Figures/Fig-3.3.6.png)"
   ]
  },
  {
   "cell_type": "markdown",
   "id": "c61841a2",
   "metadata": {},
   "source": [
    "In Steps 2 and 3 of the non-modified Algorithm 3.3.1, the algebraic expression of the input\n",
    "signal (normally given by a graph) is designated and transformed into the $s$-domain. Step and\n",
    "pulse are the most common input signals. Laplace transforms of ideal signals are presented in\n",
    "Appendix A, practical step and practical pulse will be discussed hereafter."
   ]
  },
  {
   "cell_type": "markdown",
   "id": "a761d383",
   "metadata": {},
   "source": [
    "### Practical step\n",
    "A practical step, i.e. step with nonzero rise time $\\tau_\\mathrm{r}$ , can be considered as addition of two\n",
    "ramps, as presented in Fig. 3.3.7.  \n",
    "\n",
    "$$ x = x(t) = x^1(t) + x^2(t) \\quad\\quad \\text{where }\\;x^1(t) = \\frac{X}{\\tau_\\mathrm{r}}\\,t\\mathbf{1}(t)\\quad\\text{and}\\quad x^2(t) = -x^1(t-\\tau_\\mathrm{r}) $$"
   ]
  },
  {
   "cell_type": "markdown",
   "id": "f2639f61",
   "metadata": {},
   "source": [
    "The practical step Laplace transform is:  \n",
    "\n",
    "$$ X(s) = X^1(s) + X^2(s) \\quad\\text{where }\\;X^1(s) = \\mathfrak{L}\\{x^1(t)\\} = \\frac{X}{\\tau_\\mathrm{r}s^2}\\quad\\text{and}\\quad X^2(s) = \\mathfrak{L}\\{x^2(t)\\} = -\\frac{X}{\\tau_\\mathrm{r}s^2}\\,e^{-s\\tau_\\mathrm{r}}$$"
   ]
  },
  {
   "cell_type": "markdown",
   "id": "4d8ded30",
   "metadata": {},
   "source": [
    "$$ X(s) = \\frac{X}{\\tau_\\mathrm{r}s^2}\\,\\big(1-e^{s\\tau_\\mathrm{r}}\\big)$$"
   ]
  },
  {
   "cell_type": "markdown",
   "id": "035dca72",
   "metadata": {},
   "source": [
    "![Fig-3.3.7](Figures/Fig-3.3.7.png)"
   ]
  }
 ],
 "metadata": {
  "kernelspec": {
   "display_name": "Python 3",
   "language": "python",
   "name": "python3"
  },
  "language_info": {
   "codemirror_mode": {
    "name": "ipython",
    "version": 3
   },
   "file_extension": ".py",
   "mimetype": "text/x-python",
   "name": "python",
   "nbconvert_exporter": "python",
   "pygments_lexer": "ipython3",
   "version": "3.8.10"
  }
 },
 "nbformat": 4,
 "nbformat_minor": 5
}
