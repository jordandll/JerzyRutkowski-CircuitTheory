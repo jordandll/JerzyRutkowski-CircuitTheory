{
 "cells": [
  {
   "cell_type": "markdown",
   "id": "de1868c1",
   "metadata": {},
   "source": [
    "## Drill problems 3.2"
   ]
  },
  {
   "cell_type": "code",
   "execution_count": 1,
   "id": "98344fb0",
   "metadata": {},
   "outputs": [],
   "source": [
    "import numpy as np\n",
    "import matplotlib.pyplot as plt"
   ]
  },
  {
   "cell_type": "markdown",
   "id": "ec1f2c27",
   "metadata": {},
   "source": [
    "#### Problem 1\n",
    "1. For the step input $u_1=E\\mathbf{1}(t)$ of two-port and the given output voltage (exponential\n",
    "    function), draw its simplest structure.  \n",
    "    \n",
    "![Fig-P.3.2.1](Figures/Fig-P.3.2.1.png)"
   ]
  },
  {
   "cell_type": "markdown",
   "id": "84be5b9b",
   "metadata": {},
   "source": [
    "Both plots are given by first order circuits."
   ]
  },
  {
   "cell_type": "markdown",
   "id": "1f635ce1",
   "metadata": {},
   "source": [
    "For the **left hand** plot:  \n",
    "\n",
    "\\begin{equation}\\tag{P1.1}\n",
    "    u_2 = 0.5Ee^{m t} + 0.5E = 0.5E\\big(e^{mt} + 1\\big)\n",
    "\\end{equation}    "
   ]
  },
  {
   "cell_type": "markdown",
   "id": "b03e1c4e",
   "metadata": {},
   "source": [
    "In the case of an $RC$ circuit, assuming the branches that the input ($i_1$) and output ($i_2$) currents flow through have a resistance of $R_1$ an $R_2$ respectively and one of the branchs connecting these two branches has a capacitance of $C$, via Ohm's Law, equation (P1.1) and the problem itself,  \n",
    "\n",
    "\\begin{equation}\\tag{P1.2}\n",
    "    \\text{a: }\\;i_{R_1} = \\frac{E}{R_1} = G_1E \\quad\\quad \\text{and}\\quad\\quad\\text{b: }\\;i_{R_2} = \\frac{u_2}{R_2} = 0.5G_2E\\big(e^{m t} + 1\\big)\n",
    "\\end{equation}    "
   ]
  },
  {
   "cell_type": "markdown",
   "id": "842305e8",
   "metadata": {},
   "source": [
    "Initially, the charge stored in the capacitor is equal to zero, and thus, so to is the voltage running across the capacitor.  \n",
    "\n",
    "$$ q(0) = 0\\implies U_{C0} = 0$$"
   ]
  },
  {
   "cell_type": "markdown",
   "id": "61a134e9",
   "metadata": {},
   "source": [
    "Via the fact that $U_{C0}=0$ in conjunction with KVL, the voltage dropped across the resistor, and thus the output voltage, is initally equal to the input voltage $u_1=E$.  \n",
    "\n",
    "$$ u_2(0) = u_1(0) - U_{C0} = E $$"
   ]
  },
  {
   "cell_type": "markdown",
   "id": "35d3504d",
   "metadata": {},
   "source": [
    "The capacitor of course charges over time, eventually reaching it's steady-state condition whereby it drops half of the input voltage, leaving the other half to be dropped across $R_2$.  \n",
    "\n",
    "$$ U_{C\\infty} = 0.5E \\implies u_2(\\infty)=0.5E$$"
   ]
  },
  {
   "cell_type": "markdown",
   "id": "6644c7d0",
   "metadata": {},
   "source": [
    "To test this, recall the capacitor element equation,  \n",
    "\n",
    "$$ u_3 = u_C = \\frac{1}{C}\\,\\int i_C\\,\\mathrm{d}t$$"
   ]
  },
  {
   "cell_type": "markdown",
   "id": "08a3660f",
   "metadata": {},
   "source": [
    "Since $U_{C0}=0$,  \n",
    "\n",
    "\\begin{equation}\\tag{P1.3}\n",
    "    u_C = u_C(t) = \\frac{1}{C}\\,\\int_0^t i_C\\,\\mathrm{d}t = 0.5E\\big(1-e^{mt}\\big)\n",
    "\\end{equation}    "
   ]
  },
  {
   "cell_type": "markdown",
   "id": "90299765",
   "metadata": {},
   "source": [
    "Differentiating throughout equation (P1.3) with respect to time and multiplying throughout the same equation by $C$ gives:  \n",
    "\n",
    "\\begin{equation}\\tag{P1.4}\n",
    "    i_C = -0.5mCEe^{mt}\n",
    "\\end{equation}    "
   ]
  },
  {
   "cell_type": "markdown",
   "id": "b1c32d85",
   "metadata": {},
   "source": [
    "Via KCL,  \n",
    "\n",
    "\\begin{equation}\\tag{P1.5}\n",
    "    \\text{a: }\\;i_1 = i_{R_1} + i_C \\quad\\quad \\text{and}\\quad\\quad \\text{b: }\\;i_{R_2} = i_2 +  i_C\n",
    "\\end{equation}    "
   ]
  },
  {
   "cell_type": "markdown",
   "id": "6c41dff2",
   "metadata": {},
   "source": [
    "Via equations (P1.5b) and (P1.2b),  \n",
    "\n",
    "$$ i_2 = 0.5G_2E \\quad\\quad\\text{and}\\quad\\quad -0.5mCEe^{mt} = 0.5G_2Ee^{mt}$$"
   ]
  },
  {
   "cell_type": "markdown",
   "id": "570ccfd4",
   "metadata": {},
   "source": [
    "Dividing throughout by $-0.5CEe^{mt}$ gives:  \n",
    "\n",
    "\\begin{equation}\\tag{P1.4a}\n",
    "    m = -\\frac{1}{R_2C}\n",
    "\\end{equation}    "
   ]
  },
  {
   "cell_type": "markdown",
   "id": "979ee164",
   "metadata": {},
   "source": [
    "Via equations (P1.4),  \n",
    "\n",
    "\\begin{equation}\\tag{P1.6}\n",
    "    i_C = i_C(t) = 0.5G_2Ee^{-t/T}\\quad\\quad\\text{where }\\;T = R_2C\n",
    "\\end{equation}    "
   ]
  },
  {
   "cell_type": "markdown",
   "id": "2588266d",
   "metadata": {},
   "source": [
    "Finally, via equations (P1.6), (P1.5a), and (P1.2a),  \n",
    "\n",
    "$$i_1=i_1(t) = G_1E + 0.5G_2Ee^{-t/T} = E\\big(G_1+0.5G_2e^{-t/T}\\big) $$"
   ]
  },
  {
   "cell_type": "markdown",
   "id": "f9bb6b8b",
   "metadata": {},
   "source": [
    "For the **right hand** plot,  \n",
    "\n",
    "\\begin{equation}\\tag{P1.r.1}\n",
    "    u_2 = u_2(t) = 0.5E\\big(1-e^{mt}\\big) + 0.5E = E\\big(1-0.5e^{mt}\\big)\n",
    "\\end{equation}    "
   ]
  },
  {
   "cell_type": "markdown",
   "id": "3aa217c0",
   "metadata": {},
   "source": [
    "Assuming the function of the two-port element is defined by a $RL$ two-port element and that the coil rests on one of the \"middle\" branchs, the voltage dropped across said coil is given by:  \n",
    "\n",
    "\\begin{equation}\\tag{P1.r.2}\n",
    "    u_3 = u_L = 0.5Ee^{mt} = Li_L'\n",
    "\\end{equation}    "
   ]
  },
  {
   "cell_type": "markdown",
   "id": "b3696e6f",
   "metadata": {},
   "source": [
    "\\begin{equation}\\tag{P1.r.3}\n",
    "    i_L = i_L(t) = \\frac{E}{2L}\\,\\int e^{mt}\\,\\mathrm{d} t = \\frac{E}{2mL}\\,e^{mt} + c\n",
    "\\end{equation}    "
   ]
  },
  {
   "cell_type": "markdown",
   "id": "91d63b4f",
   "metadata": {},
   "source": [
    "$$ i_L(0) = \\frac{E}{2mL} + c = 0$$"
   ]
  },
  {
   "cell_type": "markdown",
   "id": "76f0a350",
   "metadata": {},
   "source": [
    "Thus,\n",
    "\\begin{equation}\\tag{P1.r.3}\n",
    "    c = -\\frac{E}{2mL} \\quad\\quad\\text{and}\\quad\\quad i_L=i_L(t) = \\frac{E}{2mL}\\,\\big(e^{mt}-1\\big)\n",
    "\\end{equation}    "
   ]
  },
  {
   "cell_type": "markdown",
   "id": "6589de86",
   "metadata": {},
   "source": [
    "Via Ohm's Law,  \n",
    "\n",
    "\\begin{equation}\\tag{P1.r.4}\n",
    "    \\text{a: }\\;i_{R_1} = G_1E\\mathbf{1}(t) \\quad\\quad \\text{and}\\quad\\quad \\text{b: }\\;i_{R_2} = G_2E\\big(1-0.5e^{mt}\\big)\n",
    "\\end{equation}    "
   ]
  },
  {
   "cell_type": "markdown",
   "id": "a1efc1a8",
   "metadata": {},
   "source": [
    "And, via KCL,  \n",
    "\n",
    "\\begin{equation}\\tag{P1.r.5}\n",
    "    \\text{a: }\\;i_1 = i_{R_1} + i_L \\quad\\quad\\text{and}\\quad\\quad \\text{b: }\\;i_{R_2} = i_2 + i_L\n",
    "\\end{equation}    "
   ]
  },
  {
   "cell_type": "markdown",
   "id": "f1531802",
   "metadata": {},
   "source": [
    "$$ G_2E\\big(1-0.5e^{mt}\\big) = i_2 + \\frac{E}{2mL}\\,\\big(e^{mt}-1\\big)$$"
   ]
  },
  {
   "cell_type": "markdown",
   "id": "d75246a3",
   "metadata": {},
   "source": [
    "$$ i_2 = \\frac{E}{R_2}\\big(1-0.5e^{mt}\\big) - \\frac{E}{2mL}\\,\\big(e^{mt}-1\\big) = E\\,\\left(\\frac{1}{R_2}\\,\\big(1-0.5e^{mt}\\big) - \\frac{1}{2mL}\\,\\big(e^{mt}-1\\big)\\right) $$"
   ]
  },
  {
   "cell_type": "markdown",
   "id": "0c07d06a",
   "metadata": {},
   "source": [
    "$$ = E\\,\\frac{2mL\\big(1-0.5e^{mt}\\big) - R_2\\big(e^{mt} - 1\\big)}{2mR_2L} = E\\,\\frac{2mL + R_2 - e^{mt}(R_2+mL)}{2mR_2L} $$"
   ]
  },
  {
   "cell_type": "markdown",
   "id": "e76a17f5",
   "metadata": {},
   "source": [
    "\\begin{equation}\\tag{P1.r.6}\n",
    "    i_2=i_2(t)=  E\\,\\frac{2mL + R_2 - e^{mt}(R_2+mL)}{2mR_2L}\n",
    "\\end{equation}    "
   ]
  },
  {
   "cell_type": "markdown",
   "id": "56451d65",
   "metadata": {},
   "source": [
    "Via equations (P1.r.5a), (P1.r.3), and (P1.r.4a),  \n",
    "\n",
    "\\begin{equation}\\tag{P1.r.7}\n",
    "    i_1 = i_1(t) = \\frac{E}{R_1} + \\frac{E}{2mL}\\,\\big(e^{mt}-1\\big) = E\\,\\left(G_1 + \\frac{e^{mt}-1}{2mL}\\right)\n",
    "\\end{equation}    "
   ]
  },
  {
   "cell_type": "markdown",
   "id": "1124ee34",
   "metadata": {},
   "source": [
    "#### Problem 2\n",
    "2. Sketch voltage across the switch after its opening. Assume: a) overdamped, b)\n",
    "    underdamped case.  \n",
    "    \n",
    "![Fig-P.3.2.2](Figures/Fig-P.3.2.2.png)"
   ]
  },
  {
   "cell_type": "markdown",
   "id": "09790be4",
   "metadata": {},
   "source": [
    "For circuit **a)**:  *Before* the switch is opened, via KVL and element equations,  \n",
    "\n",
    "\\begin{equation}\\tag{P2.1}\n",
    "    \\text{a: }\\;E = Ri_E + Li_L'\\quad\\quad\\text{and}\\quad\\quad\\text{b: }\\;Li_L' = 2Ri_C + \\frac{1}{C}\\,\\int i_C\\,\\mathrm{d}t\n",
    "\\end{equation}"
   ]
  },
  {
   "cell_type": "markdown",
   "id": "bed34cdd",
   "metadata": {},
   "source": [
    "And, via KCL,  \n",
    "\n",
    "\\begin{equation}\\tag{P2.2}\n",
    "    i_E = i_L + i_C\n",
    "\\end{equation}    "
   ]
  },
  {
   "cell_type": "markdown",
   "id": "3fa51a2c",
   "metadata": {},
   "source": [
    "Via equations (P2.2) and (P2.1a),  \n",
    "\n",
    "$$E = R(i_L+i_C) + LI_L'$$"
   ]
  },
  {
   "cell_type": "markdown",
   "id": "e80a53e4",
   "metadata": {},
   "source": [
    "$$ Ri_C = E - Li_L' - Ri_L$$"
   ]
  },
  {
   "cell_type": "markdown",
   "id": "2a483e6c",
   "metadata": {},
   "source": [
    "\\begin{equation}\\tag{P2.3}\n",
    "    i_C = G(E-Li_L') - i_L\n",
    "\\end{equation}    "
   ]
  },
  {
   "cell_type": "markdown",
   "id": "787795e6",
   "metadata": {},
   "source": [
    "Differentiating throughout the equation obtained via equations (P2.3) and (P2.1b) with respect to time gives:  \n",
    "\n",
    "$$ Li_L'' = -2Li_L'' - 2Ri_L' + \\frac{1}{C}\\,\\big(G(E-Li_L') - i_L\\big)$$"
   ]
  },
  {
   "cell_type": "markdown",
   "id": "f914f706",
   "metadata": {},
   "source": [
    "$$ 3Li_L'' + 2Ri_L' + \\frac{L}{RC}i_L' + \\frac{1}{C}\\,i_L = \\frac{E}{RC}$$"
   ]
  },
  {
   "cell_type": "markdown",
   "id": "1ead563f",
   "metadata": {},
   "source": [
    "\\begin{equation}\\tag{P2.4}\n",
    "    3Li_L'' + \\frac{2R^2C + L}{RC}\\,i_L'  + \\frac{1}{C}\\,i_L = \\frac{E}{RC}\n",
    "\\end{equation}    "
   ]
  },
  {
   "cell_type": "markdown",
   "id": "62dd6293",
   "metadata": {},
   "source": [
    "Now, let's test the above equation against a different approach."
   ]
  },
  {
   "cell_type": "markdown",
   "id": "17c78723",
   "metadata": {},
   "source": [
    "Differentiating throughout equation (P2.1b) with respect to time gives:  \n",
    "\n",
    "$$ Li_L'' = 2Ri_C' + \\frac{1}{C}\\,i_C$$"
   ]
  },
  {
   "cell_type": "markdown",
   "id": "1a6caf82",
   "metadata": {},
   "source": [
    "Via the above equation and equation (P2.2),  \n",
    "\n",
    "$$ Li_L'' = 2Ri_E' - 2Ri_L' + \\frac{1}{C}\\,i_E - \\frac{1}{C}\\,i_L$$"
   ]
  },
  {
   "cell_type": "markdown",
   "id": "b276c247",
   "metadata": {},
   "source": [
    "And, via the above equation and equation (P2.1a),  \n",
    "\n",
    "$$ i_E = G(E-Li_L')$$"
   ]
  },
  {
   "cell_type": "markdown",
   "id": "20e5f302",
   "metadata": {},
   "source": [
    "and\n",
    "$$ Li_L'' = -2Li_L'' - 2Ri_L' + \\frac{E}{RC} - \\frac{L}{RC}\\,i_L' - \\frac{1}{C}\\,i_L$$"
   ]
  },
  {
   "cell_type": "markdown",
   "id": "fd94a43e",
   "metadata": {},
   "source": [
    "$$ 3Li_L'' + 2Ri_L' + \\frac{L}{RC}\\,i_L' + \\frac{1}{C}\\,i_L = \\frac{E}{RC}$$"
   ]
  },
  {
   "cell_type": "markdown",
   "id": "1c72c117",
   "metadata": {},
   "source": [
    "The test was passed."
   ]
  },
  {
   "cell_type": "markdown",
   "id": "55ba7be7",
   "metadata": {},
   "source": [
    "The form of the general solution to 2nd order homogenous DE (P2.4) depends on the relationship between the middle coefficient of the DE's AE and the leading and trailing coefficients.  \n",
    "\n",
    "$$ \\frac{2R^2C+L}{RC} \\stackrel{?}{=} 12\\frac{L}{C}$$"
   ]
  },
  {
   "cell_type": "markdown",
   "id": "8c099817",
   "metadata": {},
   "source": [
    "However, the steady-state conditions of the coil do not depend on said relationship.  \n",
    "\n",
    "\\begin{equation}\\tag{P2.5}\n",
    "    \\text{a: }\\;I_{L\\infty} = I_0 = \\frac{E}{R}\\quad\\quad\\text{and}\\quad\\quad\\text{b: }\\;U_{L\\infty} = 0\n",
    "\\end{equation}    "
   ]
  },
  {
   "cell_type": "markdown",
   "id": "8686b624",
   "metadata": {},
   "source": [
    "Via equation (P2.5), KVL and Ohm's Law,  \n",
    "\n",
    "$$I_{E\\infty} = \\frac{E}{R} $$"
   ]
  },
  {
   "cell_type": "markdown",
   "id": "9c7325eb",
   "metadata": {},
   "source": [
    "And, via the above equation and KCL,    \n",
    "\n",
    "$$ I_{C\\infty} = 0$$"
   ]
  },
  {
   "cell_type": "markdown",
   "id": "3183fcf3",
   "metadata": {},
   "source": [
    "The steady-state condition of the capacitor is:  \n",
    "\n",
    "\\begin{equation}\\tag{P2.6}\n",
    "    U_{C\\infty} = 0\n",
    "\\end{equation}    "
   ]
  },
  {
   "cell_type": "markdown",
   "id": "e292b98a",
   "metadata": {},
   "source": [
    "**After** the **switch is opened**, via equation (P2.6),  \n",
    "\n",
    "\\begin{equation}\\tag{P2.7}\n",
    "    U_{C0} = 0\n",
    "\\end{equation}    "
   ]
  },
  {
   "cell_type": "markdown",
   "id": "4fd9dbc0",
   "metadata": {},
   "source": [
    "\\begin{equation}\\tag{P2.13}\n",
    "    u = u(t) = E-u_L\n",
    "\\end{equation}    "
   ]
  },
  {
   "cell_type": "markdown",
   "id": "77c16762",
   "metadata": {},
   "source": [
    "\\begin{equation}\\tag{P2.10}\n",
    "    Li'' + 2Ri' + \\frac{1}{C}\\, i = 0\n",
    "\\end{equation}    "
   ]
  },
  {
   "cell_type": "markdown",
   "id": "5a0c41cb",
   "metadata": {},
   "source": [
    "\\begin{equation}\\tag{P2.9}\n",
    "    i = i(t) = Ae^{m_1 t} + Be^{m_2 t} \\quad\\quad\\text{where }\\;Lm^2 + 2Rm + \\frac{1}{C} = 0\n",
    "\\end{equation}    "
   ]
  },
  {
   "cell_type": "markdown",
   "id": "b31441a4",
   "metadata": {},
   "source": [
    "$$ m_1 = \\frac{-2R+\\sqrt{4R^2 - 4LC^{-1}}}{2L} = \\frac{-R+\\sqrt{R^2-LC^{-1}}}{L}$$"
   ]
  },
  {
   "cell_type": "markdown",
   "id": "94090e62",
   "metadata": {},
   "source": [
    "$$ m_2 = \\frac{-R-\\sqrt{R^2-LC^{-1}}}{L}$$"
   ]
  },
  {
   "cell_type": "markdown",
   "id": "e5fbb575",
   "metadata": {},
   "source": [
    "\\begin{equation}\\tag{P2.8a}\n",
    "    i(0) = A + B = \\frac{E}{R}\n",
    "\\end{equation}    "
   ]
  },
  {
   "cell_type": "markdown",
   "id": "6029a566",
   "metadata": {},
   "source": [
    "\\begin{equation}\\tag{P2.8b}\n",
    "    u_L(0) = 2Ri(0) = 2E = L(m_1A + m_2B)\n",
    "\\end{equation}    "
   ]
  },
  {
   "cell_type": "markdown",
   "id": "9aa64d01",
   "metadata": {},
   "source": [
    "$$ E = L\\big(m_1(EG - B) + m_2B\\big)$$"
   ]
  },
  {
   "cell_type": "markdown",
   "id": "bbaaa590",
   "metadata": {},
   "source": [
    "$$  = L(m_1EG -m1B  + m_2B) = L\\big(m_1EG + B(m_2-m_1)\\big) = m_1LEG + BL(m_2-m_1)$$"
   ]
  },
  {
   "cell_type": "markdown",
   "id": "27cf649b",
   "metadata": {},
   "source": [
    "$$ BL = \\frac{E - m_1LEG}{m_2-m_1}$$"
   ]
  },
  {
   "cell_type": "markdown",
   "id": "2a98711d",
   "metadata": {},
   "source": [
    "\\begin{equation}\\tag{P2.9b}\n",
    "    B = \\frac{E}{L}\\,\\frac{1-m_1LG}{m_2-m_1}\n",
    "\\end{equation}    "
   ]
  },
  {
   "cell_type": "markdown",
   "id": "b155c743",
   "metadata": {},
   "source": [
    "The denominator of the identity of $B$ is:  \n",
    "\n",
    "$$L(m_2-m_1)= -2\\sqrt{R^2-LC^{-1}}$$"
   ]
  },
  {
   "cell_type": "markdown",
   "id": "e8fe90a1",
   "metadata": {},
   "source": [
    "And, the numerator is:  \n",
    "\n",
    "$$ E(1-m_1LG) = E\\,\\Big(1 - G\\big(\\sqrt{R^2-LC{-1}}-R\\big)\\Big) = E\\big(2 - G\\sqrt{R^2-LC^{-1}}\\big) $$"
   ]
  },
  {
   "cell_type": "markdown",
   "id": "5ffd91bc",
   "metadata": {},
   "source": [
    "Thus, equation (P2.9b) can be rewritten as:  \n",
    "\n",
    "\\begin{equation}\\tag{P2.9b}\n",
    "    B = \\frac{E}{2R}-\\frac{E}{\\sqrt{R^2-LC^{-1}}} = E\\,\\left(\\frac{1}{2R}-\\frac{1}{\\sqrt{R^2-LC^{-1}}}\\right)\n",
    "\\end{equation}    "
   ]
  },
  {
   "cell_type": "markdown",
   "id": "069bfd72",
   "metadata": {},
   "source": [
    "Via equations (P2.9b) and (P2.8a),  \n",
    "\n",
    "\\begin{equation}\\tag{P2.9a}\n",
    "    A = E\\,\\left(\\frac{1}{2R}+\\frac{1}{\\sqrt{R^2-LC^{-1}}}\\right)\n",
    "\\end{equation}    "
   ]
  },
  {
   "cell_type": "markdown",
   "id": "f249f12f",
   "metadata": {},
   "source": [
    "Thus, the **specific solution** to DE (P2.10) is,  \n",
    "\n",
    "\\begin{equation}\\tag{P2.11}\n",
    "    i = i(t) = E\\,\\left(\\frac{1}{2R}+\\frac{1}{\\sqrt{R^2-LC^{-1}}}\\right)\\,e^{m_1 t} + E\\,\\left(\\frac{1}{2R}-\\frac{1}{\\sqrt{R^2-LC^{-1}}}\\right)\\,e^{m_2 t}\n",
    "\\end{equation}    "
   ]
  },
  {
   "cell_type": "markdown",
   "id": "b46d2246",
   "metadata": {},
   "source": [
    "And, the voltage running across the coil is given by:  \n",
    "\n",
    "\\begin{align*}\\tag{P2.12}\n",
    "    u_L=u_L(t) = Li'(t) &= L\\,\\big(m_1Ae^{m_1 t} + m_2Be^{m_2}\\big) \\\\\n",
    "     &= \\big(-R+\\sqrt{R^2-LC^{-1}}\\big)Ae^{m_1 t} + \\big(-R - \\sqrt{R^2-LC^{-1}}\\big)Be^{m_2 t}\n",
    "\\end{align*}     "
   ]
  },
  {
   "cell_type": "markdown",
   "id": "752fc166",
   "metadata": {},
   "source": [
    "The non-exponential factor of the left hand term simplifies to:  \n",
    "\n",
    "$$ \\big(\\sqrt{R^2-LC^{-1}}-R\\big)A = E\\,\\left(\\frac{\\sqrt{R^2-LC^{-1}}}{2R} - 0.5 + 1 - \\frac{R}{\\sqrt{R^2-LC^{-1}}}\\right)$$"
   ]
  },
  {
   "cell_type": "markdown",
   "id": "b84ff5f8",
   "metadata": {},
   "source": [
    "$$ = E\\,\\left(0.5 + \\frac{R^2-LC^{-1} - 2R^2}{2R\\sqrt{R^2-LC^{-1}}}\\right) = E\\,\\left(0.5 - \\frac{R^2+LC^{-1}}{2R\\sqrt{R^2-LC^{-1}}}\\right)$$"
   ]
  },
  {
   "cell_type": "markdown",
   "id": "fdae4d8c",
   "metadata": {},
   "source": [
    "And, the non-exponential factor of the right hand term simplifies to:  \n",
    "\n",
    "$$ \\big(-R-\\sqrt{R^2-LC^{-1}}\\big)B = E\\,\\left( -0.5 + \\frac{R}{\\sqrt{R^2-LC^{-1}}} - \\frac{\\sqrt{R^2-LC^{-1}}}{2R} + 1\\right) $$"
   ]
  },
  {
   "cell_type": "markdown",
   "id": "bdb9ce97",
   "metadata": {},
   "source": [
    "$$ = E\\,\\left(0.5 + \\frac{2R^2 - R^2 + LC^{-1}}{2R\\sqrt{R^2-LC^{-1}}}\\right) = E\\,\\left(0.5 + \\frac{R^2 + LC^{-1}}{2R\\sqrt{R^2-LC^{-1}}}\\right)$$"
   ]
  },
  {
   "cell_type": "markdown",
   "id": "70fc24ed",
   "metadata": {},
   "source": [
    "Thus, equation (P2.12) can be rewritten as:  \n",
    "\n",
    "\\begin{equation}\\tag{P2.12}\n",
    "    u_L = u_L(t) = E\\,\\left(0.5 - \\frac{R^2+LC^{-1}}{2R\\sqrt{R^2-LC^{-1}}}\\right)\\,e^{m_1 t} + E\\,\\left(0.5 + \\frac{R^2+LC^{-1}}{2R\\sqrt{R^2-LC^{-1}}}\\right)\\,e^{m_2 t}\n",
    "\\end{equation}    "
   ]
  },
  {
   "cell_type": "markdown",
   "id": "06247713",
   "metadata": {},
   "source": [
    "![Fig-3.2.2](Figures/Fig-P.3.2.2.png)"
   ]
  },
  {
   "cell_type": "markdown",
   "id": "4b18c8dd",
   "metadata": {},
   "source": [
    "As for circuit **b)**:  *Before* the switch is opened, via KCL and element equations,  \n",
    "\n",
    "\\begin{equation}\\tag{P2.b.1}\n",
    "    \\text{a: }\\;E = Ri_E + Ri_R\\quad\\quad\\text{and}\\quad\\quad\\text{b: }\\;Ri_R = Li_L' + \\frac{1}{C}\\,\\int i_L\\,\\mathrm{d}t\n",
    "\\end{equation}    "
   ]
  },
  {
   "cell_type": "markdown",
   "id": "06bb068c",
   "metadata": {},
   "source": [
    "And, via KCL,  \n",
    "\n",
    "\\begin{equation}\\tag{P2.b.2}\n",
    "    i_E = i_R + i_L\n",
    "\\end{equation}    "
   ]
  },
  {
   "cell_type": "markdown",
   "id": "00cf7876",
   "metadata": {},
   "source": [
    "$$E = R(i_R+i_L) + Ri_R = 2Ri_R + Ri_L$$"
   ]
  },
  {
   "cell_type": "markdown",
   "id": "660b45fc",
   "metadata": {},
   "source": [
    "$$ Ri_R = 0.5(E-Ri_L)$$"
   ]
  },
  {
   "cell_type": "markdown",
   "id": "058864cb",
   "metadata": {},
   "source": [
    "$$ 0.5(E - Ri_L) = Li_L' + \\frac{1}{C}\\,\\int i_L\\,\\mathrm{d}t$$"
   ]
  },
  {
   "cell_type": "markdown",
   "id": "51a0f9fc",
   "metadata": {},
   "source": [
    "$$ Li_L' + 0.5Ri_L + \\frac{1}{C}\\,\\int i_L\\,\\mathrm{d}t=0.5E$$"
   ]
  },
  {
   "cell_type": "markdown",
   "id": "e09d3514",
   "metadata": {},
   "source": [
    "Differentiating throughout the above equation with respect to time gives:  \n",
    "\n",
    "\\begin{equation}\\tag{P2.b.3}\n",
    "    Li_L'' + 0.5Ri_L' + \\frac{1}{C}\\,i_L = 0\n",
    "\\end{equation}    "
   ]
  },
  {
   "cell_type": "markdown",
   "id": "76100775",
   "metadata": {},
   "source": [
    "The transient response is irrelevant when it comes to the steady-state response of $i_L$, which is given by:  \n",
    "\n",
    "\\begin{equation}\\tag{P2.b.4}\n",
    "    I_{L\\infty} = 0\n",
    "\\end{equation}    "
   ]
  },
  {
   "cell_type": "markdown",
   "id": "b557f616",
   "metadata": {},
   "source": [
    "The steady-state response of the voltage running across the capacitor is, via KVL and Ohm's Law,  \n",
    "\n",
    "$$ U_{C\\infty} = RI_{R\\infty} = RI_{E\\infty}$$"
   ]
  },
  {
   "cell_type": "markdown",
   "id": "71b8c6dc",
   "metadata": {},
   "source": [
    "$$ I_{E\\infty} = \\frac{E}{2R}$$"
   ]
  },
  {
   "cell_type": "markdown",
   "id": "af2afbd2",
   "metadata": {},
   "source": [
    "Thus,\n",
    "\\begin{equation}\\tag{P2.b.5}\n",
    "    U_{C\\infty} = 0.5E\n",
    "\\end{equation}    "
   ]
  },
  {
   "cell_type": "markdown",
   "id": "85a0c7c1",
   "metadata": {},
   "source": [
    "**After** the **switch is opened**, via equations (P2.b.4) and (P2.b.5),  \n",
    "\n",
    "\\begin{equation}\\tag{P2.b.6}\n",
    "    \\text{a: }\\; I_0 = 0\\quad\\quad\\text{and}\\quad\\quad\\text{b: }\\;U_{C0} = 0.5E\n",
    "\\end{equation}    "
   ]
  },
  {
   "cell_type": "markdown",
   "id": "7569c6be",
   "metadata": {},
   "source": [
    "Via KCL,  \n",
    "\n",
    "\\begin{equation}\\tag{P2.b.7}\n",
    "    i = i_R = -i_L\n",
    "\\end{equation}    "
   ]
  },
  {
   "cell_type": "markdown",
   "id": "7cad416f",
   "metadata": {},
   "source": [
    "And, via KVL and Ohm's Law,  \n",
    "\n",
    "\\begin{equation}\\tag{P2.b.8}\n",
    "    u = u(t)= E-u_R = E - Ri\n",
    "\\end{equation}    "
   ]
  },
  {
   "cell_type": "markdown",
   "id": "fe4cb2ee",
   "metadata": {},
   "source": [
    "Via KVL and element equations,  \n",
    "\n",
    "\\begin{align*}\n",
    "    0&=-Li_L' + Ri_R - \\frac{1}{C}\\,\\int i_L\\,\\mathrm{d}t \\\\ \\\\\n",
    "     &= Li_R' + Ri_R + \\frac{1}{C}\\,\\int i_R\\,\\mathrm{d}t \\\\ \\\\\n",
    "     &= Li' + Ri + \\frac{1}{C}\\,\\int i\\,\\mathrm{d}t\n",
    "\\end{align*}     "
   ]
  },
  {
   "cell_type": "markdown",
   "id": "5c8af816",
   "metadata": {},
   "source": [
    "\\begin{equation}\\tag{P2.b.9}\n",
    "     Li'' + Ri' + \\frac{1}{C}\\,i = 0\n",
    "\\end{equation}    "
   ]
  },
  {
   "cell_type": "markdown",
   "id": "b6692c70",
   "metadata": {},
   "source": [
    "\\begin{equation}\\tag{P2.b.10}\n",
    "    i = i(t) = e^{-\\alpha t}\\,\\big(A\\,\\cos\\omega t + B\\,\\sin\\omega t\\big)\n",
    "\\end{equation}    "
   ]
  },
  {
   "cell_type": "markdown",
   "id": "3203280b",
   "metadata": {},
   "source": [
    "where,\n",
    "\\begin{equation}\\tag{P2.b.10a}\n",
    "    \\alpha = \\frac{R}{2L} \\quad\\quad\\text{and}\\quad\\quad \\omega = \\frac{\\sqrt{4LC^{1} - R^2}}{2L}\n",
    "\\end{equation}    "
   ]
  },
  {
   "cell_type": "markdown",
   "id": "eca991c3",
   "metadata": {},
   "source": [
    "Via equations (P2.b.10) and (P2.b.6a),  \n",
    "\n",
    "\\begin{equation}\\tag{P2.b.10a}\n",
    "    i(0) = A = 0\n",
    "\\end{equation}    "
   ]
  },
  {
   "cell_type": "markdown",
   "id": "5cd1f8bd",
   "metadata": {},
   "source": [
    "And, via KVL,  \n",
    "\n",
    "$$ U_{L0} = -U_{C0} = -0.5E$$"
   ]
  },
  {
   "cell_type": "markdown",
   "id": "50979d93",
   "metadata": {},
   "source": [
    "$$ u_L = u_L(t) = Li_L' = -Li' = \\alpha Le^{-\\alpha t}B\\,\\sin \\omega t - Le^{-\\alpha t}\\omega B \\,\\cos\\omega t = LBe^{-\\alpha t}\\,\\big(\\alpha \\,\\sin\\omega t- \\omega\\,\\cos\\omega t \\big)$$"
   ]
  },
  {
   "cell_type": "markdown",
   "id": "9ac3c9b4",
   "metadata": {},
   "source": [
    "$$ u_L(0) = -\\omega LB = -0.5E$$"
   ]
  },
  {
   "cell_type": "markdown",
   "id": "bb5d291a",
   "metadata": {},
   "source": [
    "\\begin{equation}\\tag{P2.b.10b}\n",
    "    B =  \\frac{E}{2\\omega L}\n",
    "\\end{equation}    "
   ]
  },
  {
   "cell_type": "markdown",
   "id": "35948a6e",
   "metadata": {},
   "source": [
    "The **specific solution** to equation (P2.b.9) is:  \n",
    "\n",
    "\\begin{equation}\\tag{P2.b.11}\n",
    "    i = i(t) = \\frac{E}{2\\omega L}\\,e^{-\\alpha t}\\sin\\omega t\n",
    "\\end{equation}    "
   ]
  },
  {
   "cell_type": "markdown",
   "id": "2e5cb1c0",
   "metadata": {},
   "source": [
    "Finally, via equations (P2.b.11) and (P2.b.8),  \n",
    "\n",
    "\\begin{equation}\\tag{P2.b.12}\n",
    "    u = u(t) = E - \\frac{RE}{2\\omega L}\\,e^{-\\alpha t}\\sin\\omega t\n",
    "\\end{equation}"
   ]
  },
  {
   "cell_type": "markdown",
   "id": "3ad96e54",
   "metadata": {},
   "source": [
    "$$ U_0 = U_\\infty = E$$"
   ]
  },
  {
   "cell_type": "markdown",
   "id": "e5ce9637",
   "metadata": {},
   "source": [
    "#### Problem 3\n",
    "3. Plot voltage across the switch after its opening.  \n",
    "\n",
    "![Fig-P.3.2.3](Figures/Fig-P.3.2.3.png)"
   ]
  },
  {
   "cell_type": "markdown",
   "id": "d1c52df0",
   "metadata": {},
   "source": [
    "For circuit **a)**:  Let $E$, $R$, and $L$ be defined as:  \n",
    "\n",
    "$$ E := 10\\mathrm{V}\\quad\\quad\\ R:=10\\Omega\\quad\\quad L:=1\\mathrm{H}$$"
   ]
  },
  {
   "cell_type": "markdown",
   "id": "9fddfa58",
   "metadata": {},
   "source": [
    "*Before* the switch is opened, via KVL and element equations,  \n",
    "\n",
    "\\begin{equation}\\tag{P3.1}\n",
    "    \\text{a: }\\;E = Ri_E + 2Ri_R\\quad\\quad\\text{and}\\quad\\quad\\text{b: }\\;2Ri_R = Li_L' + 2Ri_L\n",
    "\\end{equation}    "
   ]
  },
  {
   "cell_type": "markdown",
   "id": "2c0de728",
   "metadata": {},
   "source": [
    "And, via KCL,  \n",
    "\n",
    "\\begin{equation}\\tag{P3.2}\n",
    "    i_E = i_R + i_L\n",
    "\\end{equation}    "
   ]
  },
  {
   "cell_type": "markdown",
   "id": "b2a01a74",
   "metadata": {},
   "source": [
    "$$ E = Ri_R + Ri_L + 2Ri_R = 3Ri_R + Ri_L$$"
   ]
  },
  {
   "cell_type": "markdown",
   "id": "35757a82",
   "metadata": {},
   "source": [
    "\\begin{equation}\\tag{P3.3}\n",
    "    Ri_R = \\frac{E-Ri_L}{3}\n",
    "\\end{equation}    "
   ]
  },
  {
   "cell_type": "markdown",
   "id": "075c5089",
   "metadata": {},
   "source": [
    "Via equations (P3.3) and (P3.1b),  \n",
    "\n",
    "$$ \\frac{2}{3}\\,(E-Ri_L) = Li_L' + 2Ri_L$$"
   ]
  },
  {
   "cell_type": "markdown",
   "id": "05b6cbc6",
   "metadata": {},
   "source": [
    "$$ \\frac{2}{3}\\,E = Li_L' + 2Ri_L + \\frac{2}{3}\\,Ri_L$$ "
   ]
  },
  {
   "cell_type": "markdown",
   "id": "c29a4d40",
   "metadata": {},
   "source": [
    "\\begin{equation}\\tag{P3.4}\n",
    "    Li_L' + \\frac{8}{3}\\,Ri_L = \\frac{2}{3}\\,E\n",
    "\\end{equation}    "
   ]
  },
  {
   "cell_type": "markdown",
   "id": "87dc34df",
   "metadata": {},
   "source": [
    "\\begin{equation}\\tag{P3.5}\n",
    "    i_L = i_L(t) = 0.25GE + Ae^{m t}\n",
    "\\end{equation}    "
   ]
  },
  {
   "cell_type": "markdown",
   "id": "f7ce79d2",
   "metadata": {},
   "source": [
    "\\begin{equation}\\tag{P3.6}\n",
    "    \\text{a: }\\;I_{L\\infty}=\\frac{E}{4R}\\quad\\quad\\text{and}\\quad\\quad\\text{b: }\\;U_{L\\infty} = 0\n",
    "\\end{equation}    "
   ]
  },
  {
   "cell_type": "markdown",
   "id": "fcbf6aa9",
   "metadata": {},
   "source": [
    "**After** the **switch is opened**, via KCL,    \n",
    "\n",
    "\\begin{equation}\\tag{P3.7}\n",
    "    i = i_R = -i_L\n",
    "\\end{equation}    "
   ]
  },
  {
   "cell_type": "markdown",
   "id": "3701fa3c",
   "metadata": {},
   "source": [
    "And via equations (P3.6a) and (P3.7),  \n",
    "\n",
    "\\begin{equation}\\tag{P3.8}\n",
    "    \\text{a: }\\;I_{L0} = \\frac{E}{4R}\\quad\\quad\\text{and}\\quad\\quad\\text{b: }\\;I_{0} = -I_{L0} = -\\frac{E}{4R}\n",
    "\\end{equation}    "
   ]
  },
  {
   "cell_type": "markdown",
   "id": "6437611e",
   "metadata": {},
   "source": [
    "Via KVL and element equations,  \n",
    "\n",
    "$$ 2Ri_R = Li_L' + 2Ri_L$$"
   ]
  },
  {
   "cell_type": "markdown",
   "id": "8eae6edb",
   "metadata": {},
   "source": [
    "\\begin{align*}\\tag{P3.10}\n",
    "    0 &= -Li_L' + 2Ri_R - 2Ri_L \\\\\n",
    "     &= Li' + 4Ri \n",
    "\\end{align*}     "
   ]
  },
  {
   "cell_type": "markdown",
   "id": "d7d4773c",
   "metadata": {},
   "source": [
    "\\begin{equation}\\tag{P3.9}\n",
    "    i = i(t) = Ae^{m t}\\quad\\quad\\text{where }\\; Lm + 4R = 0\n",
    "\\end{equation}    "
   ]
  },
  {
   "cell_type": "markdown",
   "id": "b1af5ea1",
   "metadata": {},
   "source": [
    "\\begin{equation}\\tag{P3.9a}\n",
    "    m = - \\frac{4R}{L} = - 40\\,\\frac{\\Omega}{\\mathrm{H}}\n",
    "\\end{equation}    "
   ]
  },
  {
   "cell_type": "markdown",
   "id": "4331276e",
   "metadata": {},
   "source": [
    "$$ i(0) = A = -\\frac{E}{4R}$$"
   ]
  },
  {
   "cell_type": "markdown",
   "id": "0687e3e4",
   "metadata": {},
   "source": [
    "Thus, the **specific solution** to equation (P3.10) is,  \n",
    "\n",
    "\\begin{equation}\\tag{P3.11}\n",
    "    i = i(t) = -\\frac{E}{4R}\\,e^{m t} = -250e^{m t}\\mathrm{mA}\n",
    "\\end{equation}    "
   ]
  },
  {
   "cell_type": "markdown",
   "id": "3fa54e8e",
   "metadata": {},
   "source": [
    "\\begin{equation}\\tag{P3.12}\n",
    "    u = E - 2Ri = E + 0.5E e^{m t} = E\\big(1+0.5e^{m t}\\big)\n",
    "\\end{equation}    "
   ]
  },
  {
   "cell_type": "markdown",
   "id": "f7e21f46",
   "metadata": {},
   "source": [
    "$$ U_0 = 1.5E \\quad\\quad\\text{and}\\quad\\quad U_\\infty = E$$"
   ]
  },
  {
   "cell_type": "markdown",
   "id": "811b3ad7",
   "metadata": {},
   "source": [
    "![Fig-P.3.2.3](Figures/Fig-P.3.2.3.png)"
   ]
  },
  {
   "cell_type": "markdown",
   "id": "5437da1d",
   "metadata": {},
   "source": [
    "Now, for circuit **b)**:  Let $E$, $R$, and $C$ be defined as:  \n",
    "\n",
    "$$ E = 12\\mathrm{V}\\quad\\quad R = 1000\\Omega\\quad\\quad C = 1\\mu\\mathrm{F}$$"
   ]
  },
  {
   "cell_type": "markdown",
   "id": "80b93036",
   "metadata": {},
   "source": [
    "*Before* the switch is opened, via KVL and element equations,  \n",
    "\n",
    "\\begin{equation}\\tag{P3.b.1}\n",
    "    \\text{a: }\\;E = Ri_E + Ri_R\\quad\\quad\\text{and}\\quad\\quad\\text{b: }\\;Ri_R = \\frac{1}{C}\\,\\int i_C\\,\\mathrm{d}t + 2Ri_C\n",
    "\\end{equation}    "
   ]
  },
  {
   "cell_type": "markdown",
   "id": "b83a6e5d",
   "metadata": {},
   "source": [
    "And, via KCL,  \n",
    "\n",
    "\\begin{equation}\\tag{P3.b.2}\n",
    "    i_E = i_R + i_C\n",
    "\\end{equation}    "
   ]
  },
  {
   "cell_type": "markdown",
   "id": "4d1dcf5c",
   "metadata": {},
   "source": [
    "$$E = Ri_R + Ri_C + Ri_R = 2Ri_R + Ri_C$$"
   ]
  },
  {
   "cell_type": "markdown",
   "id": "eeb9169a",
   "metadata": {},
   "source": [
    "\\begin{equation}\\tag{P3.b.3}\n",
    "    Ri_R = 0.5(E - Ri_C)\n",
    "\\end{equation}    "
   ]
  },
  {
   "cell_type": "markdown",
   "id": "ddefa687",
   "metadata": {},
   "source": [
    "Via equations (P3.b.3) and (P3.b.1b) and equivalence principle,  \n",
    "\n",
    "$$0.5(E - Ri_C) = \\frac{1}{C}\\,\\int i_C\\,\\mathrm{d}t + 2Ri_C$$"
   ]
  },
  {
   "cell_type": "markdown",
   "id": "f708ca91",
   "metadata": {},
   "source": [
    "$$2.5Ri_C + \\frac{1}{C}\\,\\int i_C\\,\\mathrm{d}t = 0.5E$$"
   ]
  },
  {
   "cell_type": "markdown",
   "id": "392e40fa",
   "metadata": {},
   "source": [
    "\\begin{equation}\\tag{P3.b.4}\n",
    "    2.5Ri_C' + \\frac{1}{C}\\,i_C = 0\n",
    "\\end{equation}    "
   ]
  },
  {
   "cell_type": "markdown",
   "id": "6c491761",
   "metadata": {},
   "source": [
    "The general solution to equation (P3.b.4) is:  \n",
    "\n",
    "\\begin{equation}\\tag{P3.b.5}\n",
    "    i_C = i_C(t) = Ae^{m t} \\quad\\quad\\text{where }\\;2.5Rm + \\frac{1}{C} = 0\n",
    "\\end{equation}    "
   ]
  },
  {
   "cell_type": "markdown",
   "id": "b892c439",
   "metadata": {},
   "source": [
    "\\begin{equation}\\tag{P3.b.5a}\n",
    "    m = -\\frac{2}{5RC}\n",
    "\\end{equation}    "
   ]
  },
  {
   "cell_type": "markdown",
   "id": "5281f90b",
   "metadata": {},
   "source": [
    "We need to find $i_C(0)=I_{C0}$ to find $A$.  Via equations (P3.b.3) and (P3.b.1b) and equivalence principle,  \n",
    "\n",
    "$$ 0.5(E - RI_{C0}) = U_{C0} + 2RI_{C0}$$"
   ]
  },
  {
   "cell_type": "markdown",
   "id": "357dfb9b",
   "metadata": {},
   "source": [
    "$$ 2.5RI_{C0} = 0.5E - U_{C0}$$"
   ]
  },
  {
   "cell_type": "markdown",
   "id": "7a76aa3f",
   "metadata": {},
   "source": [
    "\\begin{equation}\\tag{P3.b.6}\n",
    "    I_{C0} = \\frac{2}{5R}\\,\\left(\\frac{E}{2}- U_{C0}\\right) = \\frac{E}{5R} - \\frac{2U_{C0}}{5R} = \\frac{E-2U_{C0}}{5R}\n",
    "\\end{equation}    "
   ]
  },
  {
   "cell_type": "markdown",
   "id": "52c6c435",
   "metadata": {},
   "source": [
    "Now we can find $A$.  Via equations (P3.b.6) and (P3.b.5),  \n",
    "\n",
    "\\begin{equation}\\tag{P3.b.7}\n",
    "    i_C(0) = A = \\frac{E-2U_{C0}}{5R}\n",
    "\\end{equation}    "
   ]
  },
  {
   "cell_type": "markdown",
   "id": "f0664855",
   "metadata": {},
   "source": [
    "Recall that:  \n",
    "\n",
    "$$ u_C = u_C(t) = \\frac{1}{C}\\,\\int_0^t i_C\\,\\mathrm{d}t + U_{C0}$$"
   ]
  },
  {
   "cell_type": "markdown",
   "id": "9f21c130",
   "metadata": {},
   "source": [
    "$$ \\int i_C\\,\\mathrm{d}t = \\frac{A}{m}\\,e^{m t} + c$$"
   ]
  },
  {
   "cell_type": "markdown",
   "id": "4b362418",
   "metadata": {},
   "source": [
    "Thus,\n",
    "$$ U_{C\\infty} = \\frac{1}{C}\\,\\int_0^\\infty i_C\\,\\mathrm{d}t + U_{C0} = -\\frac{A}{Cm} + U_{C0}$$"
   ]
  },
  {
   "cell_type": "markdown",
   "id": "9fb03395",
   "metadata": {},
   "source": [
    "$$ Cm = -\\frac{2}{5R} \\quad\\quad\\text{and}\\quad\\quad -\\frac{A}{Cm} = 0.5(E-2U_{C0}) = 0.5E - U_{C0}$$"
   ]
  },
  {
   "cell_type": "markdown",
   "id": "e7d76e30",
   "metadata": {},
   "source": [
    "Finally,\n",
    "\\begin{equation}\\tag{P3.b.8}\n",
    "    U_{C\\infty} = 0.5E\n",
    "\\end{equation}    "
   ]
  },
  {
   "cell_type": "markdown",
   "id": "7b7f576d",
   "metadata": {},
   "source": [
    "**After** the **switch is opened**.  \n",
    "\n",
    "$$U_{C0} = 0.5E \\quad\\quad \\text{and}\\quad\\quad i = i_R = -i_C$$"
   ]
  },
  {
   "cell_type": "markdown",
   "id": "7575ca5d",
   "metadata": {},
   "source": [
    "\\begin{align*}\n",
    "    0&= Ri_R - 2Ri_C - \\frac{1}{C}\\,\\int i_C\\,\\mathrm{d}t \\\\\n",
    "     &= Ri + 2Ri + \\frac{1}{C}\\,\\int i\\,\\mathrm{d} t \\\\\n",
    "     &= 3Ri +  \\frac{1}{C}\\,\\int i\\,\\mathrm{d} t \n",
    "\\end{align*}     "
   ]
  },
  {
   "cell_type": "markdown",
   "id": "07e4c82e",
   "metadata": {},
   "source": [
    "\\begin{equation}\\tag{P3.b.9}\n",
    "    3Ri' + \\frac{1}{C}\\, i = 0\n",
    "\\end{equation}    "
   ]
  },
  {
   "cell_type": "markdown",
   "id": "a43300c9",
   "metadata": {},
   "source": [
    "\\begin{equation}\\tag{P3.b.10}\n",
    "    i = i(t) = Ae^{m t}\\quad\\quad\\text{where }\\; 3Rm + \\frac{1}{C} = 0\n",
    "\\end{equation}    "
   ]
  },
  {
   "cell_type": "markdown",
   "id": "30917618",
   "metadata": {},
   "source": [
    "\\begin{equation}\\tag{P3.b.10a}\n",
    "    m = - \\frac{1}{3RC}\n",
    "\\end{equation}    "
   ]
  },
  {
   "cell_type": "markdown",
   "id": "f20baebc",
   "metadata": {},
   "source": [
    "Recall that:  \n",
    "\n",
    "\\begin{align*}\n",
    "    u_C= u_C(t) &= \\frac{1}{C}\\,\\int_0^t i_C\\,\\mathrm{d}t + U_{C0} \\\\ \\\\\n",
    "     &= -\\frac{1}{C}\\,\\int_0^t i \\,\\mathrm{d}t + U_{C0}\n",
    "\\end{align*}     "
   ]
  },
  {
   "cell_type": "markdown",
   "id": "d7649bf1",
   "metadata": {},
   "source": [
    "$$ U_{L\\infty} = -\\frac{1}{C}\\,\\int_0^\\infty i\\,\\mathrm{d}t + U_{C0} = 0$$"
   ]
  },
  {
   "cell_type": "markdown",
   "id": "6319441e",
   "metadata": {},
   "source": [
    "$$ 0.5E = \\frac{1}{C}\\,\\int_0^\\infty i\\,\\mathrm{d}t$$"
   ]
  },
  {
   "cell_type": "markdown",
   "id": "d994679e",
   "metadata": {},
   "source": [
    "$$\\int i\\,\\mathrm{d}t = \\frac{A}{m}\\,e^{mt} + c $$"
   ]
  },
  {
   "cell_type": "markdown",
   "id": "5419f568",
   "metadata": {},
   "source": [
    "Thus,\n",
    "$$ 0.5E = -\\frac{A}{mC}$$"
   ]
  },
  {
   "cell_type": "markdown",
   "id": "abab9cef",
   "metadata": {},
   "source": [
    "\\begin{equation}\\tag{P3.b.11}\n",
    "    A = -0.5mCE = \\frac{E}{6R}\n",
    "\\end{equation}    "
   ]
  },
  {
   "cell_type": "markdown",
   "id": "30effc05",
   "metadata": {},
   "source": [
    "Via equations (P3.b.11) and (P3.b.10), the **specific solution** to equation (P3.b.9) is:  \n",
    "\n",
    "\\begin{equation}\\tag{P3.b.12}\n",
    "    i = i(t) = \\frac{E}{6R}\\,e^{m t}\n",
    "\\end{equation}    "
   ]
  },
  {
   "cell_type": "markdown",
   "id": "96d9c1e9",
   "metadata": {},
   "source": [
    "\\begin{equation}\\tag{P3.b.13}\n",
    "    u = u(t) = E-Ri = E - \\frac{E}{6}\\,e^{m t} = E\\left(1-\\frac{1}{6}\\,e^{m t}\\right)\n",
    "\\end{equation}    "
   ]
  },
  {
   "cell_type": "markdown",
   "id": "17ec4929",
   "metadata": {},
   "source": [
    "$$ U_0 = \\frac{5}{6}\\,E\\quad\\quad\\text{and}\\quad\\quad U_\\infty = E$$"
   ]
  },
  {
   "cell_type": "code",
   "execution_count": 2,
   "id": "f1c0cb2f",
   "metadata": {
    "code_folding": []
   },
   "outputs": [
    {
     "data": {
      "text/plain": [
       "[<matplotlib.lines.Line2D at 0x7f2a403cdcd0>]"
      ]
     },
     "execution_count": 2,
     "metadata": {},
     "output_type": "execute_result"
    },
    {
     "data": {
      "image/png": "[encoded data removed]",
      "text/plain": [
       "<Figure size 432x288 with 1 Axes>"
      ]
     },
     "metadata": {
      "needs_background": "light"
     },
     "output_type": "display_data"
    }
   ],
   "source": [
    "# Set circuit parameters.\n",
    "E = 12; R = 1000; C = 1e-6; m = -1/(3*R*C)\n",
    "\n",
    "# Identify the time constant, denoted as 'T'.\n",
    "T = -1/m\n",
    "\n",
    "# Create the time domain.\n",
    "t = np.linspace(0, 6*T, num=200)\n",
    "\n",
    "# Identify the function that gives the switch voltage, denoted as 'u'.\n",
    "u = E*(1-np.e**(m*t)/6)\n",
    "\n",
    "# Create figures and axes objects.\n",
    "fig, ax = plt.subplots()\n",
    "ax.set_title(r'Switch voltage after opening.', size=14)\n",
    "ax.set_xlabel(r'time [ms]')\n",
    "ax.set_ylabel(r'voltage [V]')\n",
    "ax.grid()\n",
    "\n",
    "# Plot the voltage running across the switch (u).\n",
    "ax.plot(t*1000, u)"
   ]
  },
  {
   "cell_type": "code",
   "execution_count": 3,
   "id": "c25cb11d",
   "metadata": {},
   "outputs": [
    {
     "data": {
      "text/plain": [
       "(10.0, 11.995042495646668)"
      ]
     },
     "execution_count": 3,
     "metadata": {},
     "output_type": "execute_result"
    }
   ],
   "source": [
    "(min(u), max(u))"
   ]
  },
  {
   "cell_type": "markdown",
   "id": "ebff58ed",
   "metadata": {},
   "source": [
    "#### Problem 4\n",
    "4. Plot current that flows through the switch after its closing.  \n",
    "\n",
    "![Fig-P.3.2.4](Figures/Fig-P.3.2.4.png)"
   ]
  },
  {
   "cell_type": "markdown",
   "id": "6f171066",
   "metadata": {},
   "source": [
    "For circuit **a)**:  *Before* the switch is closed,  we have only the natural response of the coil.  Via KVL and element equations:  \n",
    "\n",
    "\\begin{equation}\\tag{P4.1}\n",
    "    \\text{a: }\\;u_J = RJ\\quad\\quad\\text{and}\\quad\\quad\\text{b: }\\;RJ = u + Ri_L + Ri_R = u + Ri_L\\quad\\quad\\text{and}\\quad\\quad\\text{c: }\\;Ri_L = Li_L'\n",
    "\\end{equation}    "
   ]
  },
  {
   "cell_type": "markdown",
   "id": "abc4acf5",
   "metadata": {},
   "source": [
    "$$ i_L = i_L(t) = \\frac{1}{L}\\,\\int u_L\\,\\mathrm{d}t = \\frac{1}{L}\\,\\int_0^t u_L\\,\\mathrm{d}t + I_{L0}$$"
   ]
  },
  {
   "cell_type": "markdown",
   "id": "510e16bf",
   "metadata": {},
   "source": [
    "\\begin{equation}\\tag{P4.2}\n",
    "    I_{L\\infty} = 0\n",
    "\\end{equation}    "
   ]
  },
  {
   "cell_type": "markdown",
   "id": "11a1a4b6",
   "metadata": {},
   "source": [
    "**After** the switch is close, we have the **forced reponse**.  Via KVL and element equations,  \n",
    "\n",
    "\\begin{equation}\\tag{P4.3}\n",
    "    \\text{a: }\\;u_J = Ri_1\\quad\\quad\\text{and}\\quad\\quad\\text{b: }\\;Ri_1 = Ri_2 + R(i_2 + i_L)\\quad\\quad\\text{and}\\quad\\quad\\text{c: }\\;Ri_2 = Li_L'\n",
    "\\end{equation}    "
   ]
  },
  {
   "cell_type": "markdown",
   "id": "fa8456f3",
   "metadata": {},
   "source": [
    "And, via KCL,  \n",
    "\n",
    "\\begin{equation}\\tag{P4.4}\n",
    "    J = i_1 + i_2 + i_L\n",
    "\\end{equation}    "
   ]
  },
  {
   "cell_type": "markdown",
   "id": "91f693ed",
   "metadata": {},
   "source": [
    "The current that flows through through the switch, henceforth $i$, is given by:  \n",
    "\n",
    "\\begin{equation}\\tag{P4.5}\n",
    "    i = i_2 + i_L\n",
    "\\end{equation}    "
   ]
  },
  {
   "cell_type": "markdown",
   "id": "cde4d24d",
   "metadata": {},
   "source": [
    "In equations (P4.3) and (P4.4), we have four independent equations and four unknowns to solve for.  Via equations (P4.4) and (P4.3a, b),  \n",
    "\n",
    "\\begin{equation}\\tag{P4.6}\n",
    "    \\text{a: }\\;u_J = R(J-i_2-i_L)\\quad\\quad\\text{and}\\quad\\quad\\text{b: }\\;R(J - i_2 - i_L) = 2Ri_2 + Ri_L\n",
    "\\end{equation}    "
   ]
  },
  {
   "cell_type": "markdown",
   "id": "c811f9f5",
   "metadata": {},
   "source": [
    "Via equations (P4.6b) and (P4.3c) and substitution,  \n",
    "\n",
    "\\begin{equation}\\tag{P4.7}\n",
    "    3Li_L'+ 2Ri_L = RJ\n",
    "\\end{equation}    "
   ]
  },
  {
   "cell_type": "markdown",
   "id": "b0241275",
   "metadata": {},
   "source": [
    "The general solution to equation (P4.7) is:  \n",
    "\n",
    "\\begin{equation}\\tag{P4.8}\n",
    "    i_L = i_L(t) = 0.5J + Ae^{m t}\\quad\\quad\\text{where }\\;3Lm + 2R = 0\n",
    "\\end{equation}    "
   ]
  },
  {
   "cell_type": "markdown",
   "id": "75160147",
   "metadata": {},
   "source": [
    "and,\n",
    "\\begin{equation}\\tag{P4.8a}\n",
    "    m = -\\frac{2R}{3L}\n",
    "\\end{equation}    "
   ]
  },
  {
   "cell_type": "markdown",
   "id": "48f8e00e",
   "metadata": {},
   "source": [
    "The IVP of equation (P4.8) is, via equation (P4.2),  \n",
    "\n",
    "$$ i_L(0) = 0.5J + A = 0$$"
   ]
  },
  {
   "cell_type": "markdown",
   "id": "93dcd9dc",
   "metadata": {},
   "source": [
    "Thus,  \n",
    "\n",
    "\\begin{equation}\\tag{P4.9}\n",
    "    A = -0.5J\n",
    "\\end{equation}    "
   ]
  },
  {
   "cell_type": "markdown",
   "id": "b7eafb60",
   "metadata": {},
   "source": [
    "The **specific solution** to equations (P4.7) is, via equations (P4.9) and (P4.8),  \n",
    "\n",
    "\\begin{equation}\\tag{P4.10}\n",
    "    i_L = i_L(t) = 0.5J\\big(1-e^{mt}\\big)\n",
    "\\end{equation}    "
   ]
  },
  {
   "cell_type": "markdown",
   "id": "bdc53520",
   "metadata": {},
   "source": [
    "Via equations (P4.10) and (P4.3c),  \n",
    "\n",
    "\\begin{equation}\\tag{P4.11}\n",
    "    i_2 = i_2(t) = -\\frac{LJ}{2R}\\,me^{mt} = \\frac{J}{3}\\,e^{m t}\n",
    "\\end{equation}    "
   ]
  },
  {
   "cell_type": "markdown",
   "id": "f7422256",
   "metadata": {},
   "source": [
    "Finally, via equations (P4.11), (P4.10), and (P4.5),  \n",
    "\n",
    "\\begin{equation}\\tag{P4.12}\n",
    "    i = i(t) = \\frac{J}{2} - \\frac{J}{2}\\,e^{mt} + \\frac{J}{3}\\,e^{m t} = \\frac{J}{2} + Je^{m t}\\,\\left(\\frac{1}{3}-\\frac{1}{2}\\right) = \\frac{J}{2} - \\frac{J}{6}\\,e^{m t} = 0.5J\\,\\left(1 - \\frac{1}{3}\\,e^{m t}\\right)\n",
    "\\end{equation}    "
   ]
  },
  {
   "cell_type": "markdown",
   "id": "01bcfe47",
   "metadata": {},
   "source": [
    "![Fig-P.3.2.4](Figures/Fig-P.3.2.4.png)"
   ]
  },
  {
   "cell_type": "markdown",
   "id": "f06e2572",
   "metadata": {},
   "source": [
    "Now, for circuit **b)**: *Before* the switch is closed there is only the **natural response** to consider.  Under steady-state conditions, we have:  \n",
    "\n",
    "\\begin{equation}\\tag{P4.b.1}\n",
    "    U_{C\\infty} = 0\n",
    "\\end{equation}    "
   ]
  },
  {
   "cell_type": "markdown",
   "id": "83eddbff",
   "metadata": {},
   "source": [
    "*After* the switch is closed we have the **forced response** to consider.  Via KVL and element equations,  \n",
    "\n",
    "\\begin{equation}\\tag{P4.b.2}\n",
    "    \\text{a: }\\;E = Ri_1\\quad\\quad\\text{and}\\quad\\quad\\text{b: }\\;Ri_1 = 2Ri_2 + Ri_C\\quad\\quad\\text{c: }\\;Ri_2 = \\frac{1}{C}\\,\\int i_C\\,\\mathrm{d}t = \\frac{1}{C}\\,\\int_0^t i_C\\,\\mathrm{d}t\n",
    "\\end{equation}"
   ]
  },
  {
   "cell_type": "markdown",
   "id": "ab7e22cf",
   "metadata": {},
   "source": [
    "And, via KCL,  \n",
    "\n",
    "\\begin{equation}\\tag{P4.b.3}\n",
    "    i = i_2 + i_C\n",
    "\\end{equation}    "
   ]
  },
  {
   "cell_type": "markdown",
   "id": "0e049c13",
   "metadata": {},
   "source": [
    "Recall that '$i$' denotes the current flowing through the switch."
   ]
  },
  {
   "cell_type": "markdown",
   "id": "f723a891",
   "metadata": {},
   "source": [
    "Via equations (P4.b.2a, b) and equivalence principle,  \n",
    "\n",
    "$$E = 2Ri_2 + Ri_C$$"
   ]
  },
  {
   "cell_type": "markdown",
   "id": "87d173a5",
   "metadata": {},
   "source": [
    "\\begin{equation}\\tag{P4.b.4}\n",
    "    Ri_2 = 0.5(E-Ri_C)\n",
    "\\end{equation}    "
   ]
  },
  {
   "cell_type": "markdown",
   "id": "3647a253",
   "metadata": {},
   "source": [
    "And, via equations (P4.b.4) and (P4.b.2c) and equivalence principle,  \n",
    "\n",
    "$$ 0.5(E-Ri_C) = \\frac{1}{C}\\,\\int i_C\\,\\mathrm{d}t$$"
   ]
  },
  {
   "cell_type": "markdown",
   "id": "f89117ed",
   "metadata": {},
   "source": [
    "\\begin{equation}\\tag{P4.b.5}\n",
    "    0.5Ri_C + \\frac{1}{C}\\,\\int i_C\\,\\mathrm{d}t = 0.5E\n",
    "\\end{equation}    "
   ]
  },
  {
   "cell_type": "markdown",
   "id": "26cb877f",
   "metadata": {},
   "source": [
    "\\begin{equation}\\tag{P4.b.6}\n",
    "    Ri_C' + \\frac{1}{C}\\,i_C = 0\n",
    "\\end{equation}"
   ]
  },
  {
   "cell_type": "markdown",
   "id": "722eb714",
   "metadata": {},
   "source": [
    "\\begin{equation}\\tag{P4.b.7}\n",
    "    i_C = i_C(t) = Ae^{m t}\\quad\\quad\\text{where }\\;Rm + \\frac{1}{C} = 0\n",
    "\\end{equation}    "
   ]
  },
  {
   "cell_type": "markdown",
   "id": "dd893bb7",
   "metadata": {},
   "source": [
    "and,\n",
    "\\begin{equation}\\tag{P4.b.7a}\n",
    "    m = -\\frac{1}{RC}\n",
    "\\end{equation}    "
   ]
  },
  {
   "cell_type": "markdown",
   "id": "9a517fc3",
   "metadata": {},
   "source": [
    "Via equation (P4.b.1), KVL, and Ohm's Law,  \n",
    "\n",
    "$$ U_{C0} = RI_{2,0}= Ri_2(0) = 0$$"
   ]
  },
  {
   "cell_type": "markdown",
   "id": "905d8ae6",
   "metadata": {},
   "source": [
    "Thus,  \n",
    "\n",
    "$$ I_{2,0} = i_2(0) = 0$$"
   ]
  },
  {
   "cell_type": "markdown",
   "id": "ddf1668a",
   "metadata": {},
   "source": [
    "Additionally,  \n",
    "\n",
    "$$ E = Ri_1(0) = Ri_C(0)$$"
   ]
  },
  {
   "cell_type": "markdown",
   "id": "80339a09",
   "metadata": {},
   "source": [
    "Dividing throughout by $R$ gives the IVP:  \n",
    "\n",
    "\\begin{equation}\\tag{P4.b.8}\n",
    "    i_1(0) = i_C(0) = I_{C0} = \\frac{E}{R}\n",
    "\\end{equation}    "
   ]
  },
  {
   "cell_type": "markdown",
   "id": "bf980059",
   "metadata": {},
   "source": [
    "Via equations (P4.b.8) and (P4.b.7), we can solve for $A$.  \n",
    "\n",
    "\\begin{equation}\\tag{P4.b.9}\n",
    "    i_C(0) = A = \\frac{E}{R}\n",
    "\\end{equation}    "
   ]
  },
  {
   "cell_type": "markdown",
   "id": "a794e7d9",
   "metadata": {},
   "source": [
    "And, via equations (P4.b.9) and (P4.b.7), the **specific solution** to equation (P4.b.6) is:  \n",
    "\n",
    "\\begin{equation}\\tag{P4.b.10}\n",
    "    i_C = i_C(t) = \\frac{E}{R}\\,e^{ mt}\n",
    "\\end{equation}    "
   ]
  },
  {
   "cell_type": "markdown",
   "id": "42ece08f",
   "metadata": {},
   "source": [
    "$$ \\int i_C\\,\\mathrm{d}t = \\frac{E}{mR}\\,e^{m t} + c = - ECe^{m t} + c$$\n"
   ]
  },
  {
   "cell_type": "markdown",
   "id": "9190168c",
   "metadata": {},
   "source": [
    "$$ i_2 = i_2(t) = \\frac{1}{RC}\\,\\int_0^t i_C\\,\\mathrm{d}t = - \\frac{E}{R}\\,e^{m t} + \\frac{E}{R} = \\frac{E}{R}\\,\\big(1 - e^{m t}\\big)$$"
   ]
  },
  {
   "cell_type": "markdown",
   "id": "bc3bd6b0",
   "metadata": {},
   "source": [
    "Finally,  \n",
    "\n",
    "\\begin{equation}\\tag{P4.b.11}\n",
    "    i = i(t) = \\frac{E}{R}\n",
    "\\end{equation}    "
   ]
  },
  {
   "cell_type": "markdown",
   "id": "24dfc435",
   "metadata": {},
   "source": [
    "#### Problem 5\n",
    "5. Plot the capacitor voltage after closing the switch  \n",
    "\n",
    "![Fig-P.3.2.5](Figures/Fig-P.3.2.5.png)"
   ]
  },
  {
   "cell_type": "markdown",
   "id": "fbef41a4",
   "metadata": {},
   "source": [
    "Before closing the switch, via KVL and element equations,  \n",
    "\n",
    "\\begin{equation}\\tag{P5.1}\n",
    "    \\text{a: }\\;E = 2R(i_2 + i_C) + Ri_2\\quad\\quad\\text{b: }\\;Ri_2 = \\frac{1}{C}\\,\\int i_C\\,\\mathrm{d}t\n",
    "\\end{equation}    "
   ]
  },
  {
   "cell_type": "markdown",
   "id": "ed570882",
   "metadata": {},
   "source": [
    "$$ E = 3Ri_2 + 2Ri_C = \\frac{3}{C}\\,\\int i_C\\,\\mathrm{d}t + 2Ri_C$$"
   ]
  },
  {
   "cell_type": "markdown",
   "id": "65c64453",
   "metadata": {},
   "source": [
    "\\begin{equation}\\tag{P5.2}\n",
    "    2Ri_C' + \\frac{3}{C}\\,i_C = 0\n",
    "\\end{equation}    "
   ]
  },
  {
   "cell_type": "markdown",
   "id": "6f384246",
   "metadata": {},
   "source": [
    "The general solution to equation (P5.2) is:  \n",
    "\n",
    "\\begin{equation}\\tag{P5.3}\n",
    "    i_C = i_C(t) = Ae^{m t}\\quad\\quad\\text{where }\\;2Rm + \\frac{3}{C} = 0\n",
    "\\end{equation}    "
   ]
  },
  {
   "cell_type": "markdown",
   "id": "c2885a17",
   "metadata": {},
   "source": [
    "and,\n",
    "\\begin{equation}\\tag{P5.3a}\n",
    "    m = -\\frac{3}{2RC}\n",
    "\\end{equation}    "
   ]
  },
  {
   "cell_type": "markdown",
   "id": "7d99446e",
   "metadata": {},
   "source": [
    "Under steady-state conditions, $I_{C\\infty}= 0$ and, via KVL and Ohm's Law,  \n",
    "\n",
    "$$ E = 3RI_\\infty$$"
   ]
  },
  {
   "cell_type": "markdown",
   "id": "6c0cd2df",
   "metadata": {},
   "source": [
    "\\begin{equation}\\tag{P5.4}\n",
    "    RI_{\\infty} = U_{C\\infty} = \\frac{E}{3}\n",
    "\\end{equation}    "
   ]
  },
  {
   "cell_type": "markdown",
   "id": "038ff30d",
   "metadata": {},
   "source": [
    "**After** the **switch is closed**, via KVL and element equations,  \n",
    "\n",
    "\\begin{equation}\\tag{P5.5}\n",
    "    \\text{a: }\\;E = Ri_2 + (Ri_2+ i_C) = 2Ri_2 + Ri_C\\quad\\quad\\text{and}\\quad\\quad\\text{b: }\\;Ri_2 = \\frac{1}{C}\\,\\int i_C\\,\\mathrm{d}t\n",
    "\\end{equation}    "
   ]
  },
  {
   "cell_type": "markdown",
   "id": "c5b84267",
   "metadata": {},
   "source": [
    "$$ E = \\frac{2}{C}\\,\\int i_C\\,\\mathrm{d}t + Ri_C$$"
   ]
  },
  {
   "cell_type": "markdown",
   "id": "ac1772ab",
   "metadata": {},
   "source": [
    "\\begin{equation}\\tag{P5.6}\n",
    "    Ri_C' + \\frac{2}{C}\\,i_C = 0\n",
    "\\end{equation}    "
   ]
  },
  {
   "cell_type": "markdown",
   "id": "b8d44892",
   "metadata": {},
   "source": [
    "The general solution to equation (P5.6) is:  \n",
    "\n",
    "\\begin{equation}\\tag{P5.7}\n",
    "    i_C = i_C(t) = Ae^{m t} \\quad\\quad\\text{where }\\;Rm + \\frac{2}{C} = 0\n",
    "\\end{equation}    "
   ]
  },
  {
   "cell_type": "markdown",
   "id": "0610af15",
   "metadata": {},
   "source": [
    "and,\n",
    "\\begin{equation}\\tag{P5.7a}\n",
    "    m = - \\frac{2}{RC}\n",
    "\\end{equation}    "
   ]
  },
  {
   "cell_type": "markdown",
   "id": "ad4c7e8b",
   "metadata": {},
   "source": [
    "For the IVP:  \n",
    "\n",
    "$$ U_{C0} = Ri_2(0) = \\frac{E}{3}$$"
   ]
  },
  {
   "cell_type": "markdown",
   "id": "497f9b2f",
   "metadata": {},
   "source": [
    "$$ E = 2Ri_2(0) + Ri_C(0)$$"
   ]
  },
  {
   "cell_type": "markdown",
   "id": "46018309",
   "metadata": {},
   "source": [
    "\\begin{equation}\\tag{P5.8}\n",
    "    i_C(0) = I_{C0} = \\frac{E}{R} - 2i_2(0) = \\frac{E}{R} - \\frac{2E}{3R} = \\frac{E}{R}\\,\\left(1 - \\frac{2}{3}\\right) = \\frac{E}{3R} = A\n",
    "\\end{equation}    "
   ]
  },
  {
   "cell_type": "markdown",
   "id": "78c5c8a3",
   "metadata": {},
   "source": [
    "Via equations (P5.8) and (P5.7), the **specific solution** to equation (P5.6) is:  \n",
    "\n",
    "\\begin{equation}\\tag{P5.9}\n",
    "    i_C = i_C(t) = \\frac{E}{3R}\\,e^{m t}\n",
    "\\end{equation}    "
   ]
  },
  {
   "cell_type": "markdown",
   "id": "681bbbc3",
   "metadata": {},
   "source": [
    "Recall that:  \n",
    "\n",
    "$$  u_C = u_C(t) = \\frac{1}{C}\\,\\int_0^t i_C\\,\\mathrm{d}t + \\frac{E}{3}$$"
   ]
  },
  {
   "cell_type": "markdown",
   "id": "86307b51",
   "metadata": {},
   "source": [
    "$$\\int i_C\\,\\mathrm{d} t = \\frac{E}{3mR}\\,e^{mt} + c = -\\frac{EC}{6}\\,e^{m t}$$\n"
   ]
  },
  {
   "cell_type": "markdown",
   "id": "0aaad244",
   "metadata": {},
   "source": [
    "Thus,\n",
    "\\begin{equation}\\tag{P5.10}\n",
    "    u_C = u_C(t) = -\\frac{E}{6}\\,e^{mt} + \\frac{E}{6} = \\frac{E}{6}\\big(1 - e^{mt}\\big) + \\frac{E}{3}\n",
    "\\end{equation}    "
   ]
  },
  {
   "cell_type": "markdown",
   "id": "0b856bf6",
   "metadata": {},
   "source": [
    "$$U_{C0} = \\frac{E}{3}\\quad\\quad\\text{and}\\quad\\quad U_{C\\infty} = 0.5E$$"
   ]
  },
  {
   "cell_type": "markdown",
   "id": "ba196843",
   "metadata": {},
   "source": [
    "### Problem 6\n",
    "6. Find resistance $R$ such that no transient response is present in the source current, denoted as '$i$'. Plot this\n",
    "    current.  \n",
    "    \n",
    "![Fig-P.3.2.6](Figures/Fig-P.3.2.6.png)"
   ]
  },
  {
   "cell_type": "markdown",
   "id": "415274fa",
   "metadata": {},
   "source": [
    "Let $E$, $C$, $L$, and $R_1$ be defined as:  \n",
    "\n",
    "$$ E=10\\mathrm{V}\\quad\\quad C = 1\\mu\\mathrm{F}\\quad\\quad L=1\\mathrm{H}\\quad\\quad R_1 = 2000\\Omega$$"
   ]
  },
  {
   "cell_type": "markdown",
   "id": "60810671",
   "metadata": {},
   "source": [
    "#### Time-domain Method"
   ]
  },
  {
   "cell_type": "markdown",
   "id": "ccf1fe33",
   "metadata": {},
   "source": [
    "*Before* the switch is closed, we have the **natural response**.  Via KVL and element equations,  \n",
    "\n",
    "\\begin{align*}\n",
    "    \\frac{1}{C}\\,\\int i_C\\,\\mathrm{d}t + Ri_C &=  \\frac{1}{C}\\,\\int_0^t i_C\\,\\mathrm{d}t + U_{C0} + Ri_C \\\\ \\\\\n",
    "     &= -\\frac{1}{C}\\,\\int_0^t i_L\\,\\mathrm{d}t + U_{C0} - Ri_L \\\\ \\\\\n",
    "     &= Li_L' + R_1i_L \n",
    "\\end{align*}     "
   ]
  },
  {
   "cell_type": "markdown",
   "id": "017981e8",
   "metadata": {},
   "source": [
    "Note that $i_L=-i_C$."
   ]
  },
  {
   "cell_type": "markdown",
   "id": "66599876",
   "metadata": {},
   "source": [
    "Thus,\n",
    "\\begin{equation}\\tag{P6.0a}\n",
    "    Li_L' + (R+R_1)i_L + \\frac{1}{C}\\,\\int_0^t i_L\\,\\mathrm{d}t - U_{C0} = 0\n",
    "\\end{equation}    "
   ]
  },
  {
   "cell_type": "markdown",
   "id": "e7f1506b",
   "metadata": {},
   "source": [
    "And, via KVL and element equations,  \n",
    "\n",
    "$$ E = u + Ri_C + \\frac{1}{C}\\,\\int i_C\\,\\mathrm{d}t = u - Ri_L - \\frac{1}{C}\\,\\int i_L\\,\\mathrm{d}t = u - Ri_L - \\frac{1}{C}\\,\\int_0^t i_L\\,\\mathrm{d}t + U_{C0}$$"
   ]
  },
  {
   "cell_type": "markdown",
   "id": "b599ce3c",
   "metadata": {},
   "source": [
    "\\begin{equation}\\tag{P6.0b}\n",
    "    E = u - Ri_L - \\frac{1}{C}\\,\\int_0^t i_L \\,\\mathrm{d}t + U_{C0}\n",
    "\\end{equation}    "
   ]
  },
  {
   "cell_type": "markdown",
   "id": "00e8152d",
   "metadata": {},
   "source": [
    "Here, '$u$' denotes the voltage dropped across the switch."
   ]
  },
  {
   "cell_type": "markdown",
   "id": "840f2db6",
   "metadata": {},
   "source": [
    "Differentiating throughout equation (P6.0a) with respect to time gives:  \n",
    "\n",
    "\\begin{equation}\\tag{P6.1}\n",
    "    Li_L'' + (R+R_1)i_L' + \\frac{1}{C}\\,i_L = 0\n",
    "\\end{equation}"
   ]
  },
  {
   "cell_type": "markdown",
   "id": "24c37069",
   "metadata": {},
   "source": [
    "#### $s$-Domain Method"
   ]
  },
  {
   "cell_type": "markdown",
   "id": "9a269d54",
   "metadata": {},
   "source": [
    "Transforming both sides of equation (P6.0a) gives:  \n",
    "\n",
    "\\begin{equation}\\tag{P6.2a}\n",
    "    L\\big(sI_L(s) - i_L(0)\\big) + (R+R_1)I_L(s) + \\frac{1}{sC}\\,I_L(s) - \\frac{u_C(0)}{s} = 0\n",
    "\\end{equation}    "
   ]
  },
  {
   "cell_type": "markdown",
   "id": "3cf8ed1a",
   "metadata": {},
   "source": [
    "The $s$-domain equivalent circuit of the right hand subcircuit, the one described by equation (P6.2a), is a series connection of four impedances, $Ls$, $R$, $R_1$, and $(sC)^{-1}$, and two voltage sources, $-LI_{L0}$ and $U_{C0}s^{-1}$."
   ]
  },
  {
   "cell_type": "markdown",
   "id": "7468b458",
   "metadata": {},
   "source": [
    "$$ \\frac{U_{C0}}{s} \\;\\text{--}\\; \\frac{1}{SC} \\;\\text{--}\\; R \\;\\text{--}\\; R_1 \\;\\text{--}\\; Ls\\;\\text{--}\\; LI_{L0}$$"
   ]
  },
  {
   "cell_type": "markdown",
   "id": "ffcbeee8",
   "metadata": {},
   "source": [
    "The Norton equivalent of $Ls$ -- $-LI_{L0}$ or ($R_L = Ls$, $E_L = -LI_{L0}$) is,  \n",
    "\n",
    "\\begin{equation}\\tag{P6.3a}\n",
    "    J_L = \\frac{E_L}{R_L} = - \\frac{I_{L0}}{s}\n",
    "\\end{equation}    "
   ]
  },
  {
   "cell_type": "markdown",
   "id": "43882873",
   "metadata": {},
   "source": [
    "Recall that:  \n",
    "\n",
    "\\begin{equation}\\tag{P6.3b}\n",
    "    U_L(s) = E_L + R_LI_L(s) = sLI_L(s) - LI_{L0}\n",
    "\\end{equation}    "
   ]
  },
  {
   "cell_type": "markdown",
   "id": "34dcd12f",
   "metadata": {},
   "source": [
    "or, an impedance of $Ls$ in parallel with a current source of $-I_{L0}s^{-1}$.  \n",
    "\n",
    "$$ Ls \\;\\text{//}\\; \\frac{I_{L0}}{s} $$"
   ]
  },
  {
   "cell_type": "markdown",
   "id": "5ba1f668",
   "metadata": {},
   "source": [
    "Thus, the $s$-domain equivalent circuit of the right hand subcircuit is:  \n",
    "\n",
    "\n",
    "$$\\frac{U_{C0}}{s} \\;\\text{--}\\;\\frac{1}{sC}\\;\\text{--}\\;R\\;\\text{--}\\;R_1\\;\\text{--}\\;Ls\\;\\text{//}\\;\\frac{I_{L0}}{s}$$"
   ]
  },
  {
   "cell_type": "markdown",
   "id": "ff46a2cc",
   "metadata": {},
   "source": [
    "Including the left hand subcircuit, we now have a circuit with three meshes instead of just two."
   ]
  },
  {
   "cell_type": "markdown",
   "id": "047de10a",
   "metadata": {},
   "source": [
    "Transforming both sides of equation (P6.0b) gives:  \n",
    "\n",
    "\\begin{equation}\\tag{P6.2b}\n",
    "    \\frac{E}{s} = U(s) - RI_L(s) - \\frac{1}{sC}\\,I_L(s) + \\frac{U_{C0}}{s}\n",
    "\\end{equation}    "
   ]
  },
  {
   "cell_type": "markdown",
   "id": "3c8428fd",
   "metadata": {},
   "source": [
    "$$ E = sU(s) - sRI_L(s) - \\frac{1}{C}\\,I_L(s) + U_{C0}$$"
   ]
  },
  {
   "cell_type": "markdown",
   "id": "ae8250f3",
   "metadata": {},
   "source": [
    "$$ I_L(s)\\,\\frac{sRC - 1}{C} = sU(s) + U_{C0} - E$$"
   ]
  },
  {
   "cell_type": "markdown",
   "id": "56754c31",
   "metadata": {},
   "source": [
    "Note that equation (P6.2b) can also be obtained by applying KVL and element equations to the $s$-domain equivalent circuit of left hand subcircuit.  Said subcircuit is:  \n",
    "\n",
    "$$\\frac{E}{s}\\;\\text{--}\\;U(s)\\;\\text{--}\\;R\\;\\text{--}\\; \\frac{1}{sC}\\;\\text{--}\\;\\frac{U_{C0}}{s}$$"
   ]
  },
  {
   "cell_type": "markdown",
   "id": "a1fadcde",
   "metadata": {},
   "source": [
    "Our three mesh $s$-domain equivalent circuit is thus described by:  \n",
    "\n",
    "$$\\left(\\frac{E}{s} \\;\\text{--}\\; U(s)\\right)  \\;\\text{//}\\; \\left(\\frac{U_{C0}}{s} \\;\\text{--}\\;\\frac{1}{sC} \\;\\text{--}\\;R\\right) \\;\\text{--}\\; R_1  \\;\\text{--}\\; Ls  \\;\\text{//}\\; \\frac{I_{C0}}{s}$$"
   ]
  },
  {
   "cell_type": "markdown",
   "id": "dfb0e83a",
   "metadata": {},
   "source": [
    "Note that the formal descriptions of the circuit layout do not take voltage arrowheads into consideration."
   ]
  },
  {
   "cell_type": "markdown",
   "id": "b1d5aae1",
   "metadata": {},
   "source": [
    "Now, with our three mesh $s$-domain equivalent circuit, via KVL and element equations,  \n",
    "\n",
    "\\begin{equation}\\tag{P6.4}\n",
    "    \\text{a: }\\;\\frac{U_{C0}}{s} = \\frac{1}{sC}\\,I_L(s) + RI_L(s) + R_1I_L(s) + sLI_{L2}(s)\\quad\\quad\\text{and}\\quad\\quad\\text{b: }\\;sLI_{L2}(s) = -U_J = U_L(s)\n",
    "\\end{equation}    "
   ]
  },
  {
   "cell_type": "markdown",
   "id": "d4cd6ac9",
   "metadata": {},
   "source": [
    "Via KCL,  \n",
    "\n",
    "\\begin{align*}\\tag{P6.5}\n",
    "    I_L(s) &= I_{L2}(s) + J_L(s) \\\\ \\\\ \n",
    "     &= I_{L2}(s) - \\frac{I_{L0}}{s}\n",
    "\\end{align*}    "
   ]
  },
  {
   "cell_type": "markdown",
   "id": "66b7385d",
   "metadata": {},
   "source": [
    "Now, via equation (P6.2a),  \n",
    "\n",
    "$$ sLI_L(s) + (R+R_1)I_L(s) + \\frac{1}{sC}\\,I_L(s)  = LI_{L0} + \\frac{U_{C0}}{s}$$"
   ]
  },
  {
   "cell_type": "markdown",
   "id": "77caf0f2",
   "metadata": {},
   "source": [
    "$$I_L(s)\\left(s^2L + (R+R_1)s + \\frac{1}{C}\\right) = sLI_{L0} + U_{C0}$$"
   ]
  },
  {
   "cell_type": "markdown",
   "id": "55061615",
   "metadata": {},
   "source": [
    "Via the fact that $i_L = -i_C$,  \n",
    "\n",
    "\\begin{equation}\\tag{P6.s.X}\n",
    "    I_L(s) = -I_C(s)\n",
    "\\end{equation}    "
   ]
  },
  {
   "cell_type": "markdown",
   "id": "c395296f",
   "metadata": {},
   "source": [
    "![Fig-P.3.2.6](Figures/Fig-P.3.2.6.png)"
   ]
  },
  {
   "cell_type": "markdown",
   "id": "6081a30c",
   "metadata": {},
   "source": [
    "After closing the switch, we have the **forced response**.  Via KVL and element equations,  \n",
    "\n",
    "\\begin{equation}\\tag{P6.a.1}\n",
    "    \\text{a: }\\;E = Ri_C + \\frac{1}{C}\\,\\int i_C\\,\\mathrm{d}t\\quad\\quad\\text{and}\\quad\\quad\\text{b: }\\;\\frac{1}{C}\\,\\int i_C\\,\\mathrm{d}t + Ri_C = Li_L' + R_1i_L\n",
    "\\end{equation}    "
   ]
  },
  {
   "cell_type": "markdown",
   "id": "a792b2b0",
   "metadata": {},
   "source": [
    "and,\n",
    "\\begin{equation}\\tag{P6.a.1c}\n",
    "    Li_L' + R_1i_L = E\n",
    "\\end{equation}    "
   ]
  },
  {
   "cell_type": "markdown",
   "id": "3febc221",
   "metadata": {},
   "source": [
    "And, via KCL,  \n",
    "\n",
    "\\begin{equation}\\tag{P6.a.2}\n",
    "    i = i_C + i_L\n",
    "\\end{equation}    "
   ]
  },
  {
   "cell_type": "markdown",
   "id": "42b8e0b7",
   "metadata": {},
   "source": [
    "Tranforming throughout equations (P6.a.1) and (P6.a.2) gives the following KVL equations in the $s$-domain:  \n",
    "\n",
    "\\begin{equation}\\tag{P6.a.3}\n",
    "    \\text{a: }\\;\\frac{E}{s} = RI_C(s) + \\frac{1}{sC}\\,I_C(s) + \\frac{U_{C0}}{s}\\quad\\quad\\text{and}\\quad\\quad\\text{b: }\\; \\frac{E}{s} = R_1I_L(s) + sLI_L(s) -LI_{L0}\n",
    "\\end{equation}    "
   ]
  },
  {
   "cell_type": "markdown",
   "id": "7e91720a",
   "metadata": {},
   "source": [
    "And the KCL equation:  \n",
    "\n",
    "\\begin{equation}\\tag{P6.a.4}\n",
    "    I(s) = I_C(s) + I_L(s)\n",
    "\\end{equation}    "
   ]
  },
  {
   "cell_type": "markdown",
   "id": "241a7f4c",
   "metadata": {},
   "source": [
    "Multiplying throughout equation (P6.a.3a) by $sC$ gives:  \n",
    "\n",
    "$$ EC = sRCI_C(s) + I_C(s) + CU_{C0}$$"
   ]
  },
  {
   "cell_type": "markdown",
   "id": "137a7436",
   "metadata": {},
   "source": [
    "$$ I_C(s) = \\frac{EC}{sRC + 1} + \\frac{CU_{C0}}{sRC+ 1}$$"
   ]
  },
  {
   "cell_type": "markdown",
   "id": "c9f92ccd",
   "metadata": {},
   "source": [
    "Let $T_C$ be defined as:  \n",
    "\n",
    "\\begin{equation}\\tag{P6.a.5a}\n",
    "    T_C := RC\n",
    "\\end{equation}    "
   ]
  },
  {
   "cell_type": "markdown",
   "id": "10e7ff9b",
   "metadata": {},
   "source": [
    "$$ I_C(s) = A\\,\\frac{T_C}{sT_C + 1} + B\\,\\frac{T_C}{sT_C+1}\\quad\\text{where }\\;AT_C = EC\\quad\\text{and}\\quad BT_C = CU_{C0}$$"
   ]
  },
  {
   "cell_type": "markdown",
   "id": "317ab2b7",
   "metadata": {},
   "source": [
    "$$ A = \\frac{EC}{RC} = \\frac{E}{R}\\quad\\quad\\text{and}\\quad\\quad B = \\frac{CU_{C0}}{RC} = \\frac{U_{C0}}{R}$$"
   ]
  },
  {
   "cell_type": "markdown",
   "id": "1d500203",
   "metadata": {},
   "source": [
    "Thus,  \n",
    "\n",
    "\\begin{equation}\\tag{P6.a.5}\n",
    "    I_C(s) = \\frac{E+U_{C0}}{R}\\,\\frac{T_C}{sT_C+1}\n",
    "\\end{equation}    "
   ]
  },
  {
   "cell_type": "markdown",
   "id": "5c0ed4e2",
   "metadata": {},
   "source": [
    "And, inverse transforming throughout equation (P6.a.5) gives:  \n",
    "\n",
    "\\begin{equation}\\tag{P6.a.6}\n",
    "    i_C = i_C(t) = \\frac{E + U_{C0}}{R}\\,e^{-t/T_C}\n",
    "\\end{equation}    "
   ]
  },
  {
   "cell_type": "markdown",
   "id": "a090c059",
   "metadata": {},
   "source": [
    "It should be observed that $i_C$ only has a transient response.  If $R=\\infty\\Omega$ then $i_C = 0$."
   ]
  },
  {
   "cell_type": "markdown",
   "id": "275245da",
   "metadata": {},
   "source": [
    "Via equation (P6.a.3b),  \n",
    "\n",
    "$$ I_L(s)(R_1+sL) = \\frac{E}{s}+LI_{L0}$$"
   ]
  },
  {
   "cell_type": "markdown",
   "id": "f322e44e",
   "metadata": {},
   "source": [
    "$$ I_L(s) = \\frac{E}{s(sL + R_1)} + \\frac{LI_{L0}}{sL+R_1}$$"
   ]
  },
  {
   "cell_type": "markdown",
   "id": "30826080",
   "metadata": {},
   "source": [
    "$$ I_L(s) = \\frac{EG_1}{s(sLG_1 + 1)} + \\frac{LG_1I_{L0}}{sLG_1 + 1}$$"
   ]
  },
  {
   "cell_type": "markdown",
   "id": "d3afaadc",
   "metadata": {},
   "source": [
    "Now let $T_L$ be defined as:  \n",
    "\n",
    "\\begin{equation}\\tag{P6.a.7a}\n",
    "    T_L := LG_1\n",
    "\\end{equation}"
   ]
  },
  {
   "cell_type": "markdown",
   "id": "a4cd4e00",
   "metadata": {},
   "source": [
    "\\begin{equation}\\tag{P6.a.7}\n",
    "    I_L(s) = \\frac{E}{R_1}\\,\\frac{1}{s(1+sT_L)} + I_{L0}\\,\\frac{T_L}{sT_L+1}\n",
    "\\end{equation}    "
   ]
  },
  {
   "cell_type": "markdown",
   "id": "d4d4c97c",
   "metadata": {},
   "source": [
    "Inverse transforming throughout equation (P6.a.7) gives:  \n",
    "\n",
    "\\begin{align*}\\tag{P6.a.8}\n",
    "    i_L = i_L(t) &= \\frac{E}{R_1}\\,\\big(1-e^{-t/T_L}\\big) + I_{L0}e^{-t/T_L} \\\\ \\\\\n",
    "     &= \\frac{E}{R_1} + e^{-t/T_L}\\,\\left(I_{L0}- \\frac{E}{R_1}\\right)\n",
    "\\end{align*}    "
   ]
  },
  {
   "cell_type": "markdown",
   "id": "b48f667d",
   "metadata": {},
   "source": [
    "Via equation (P6.a.1c),  \n",
    "\n",
    "$$ E = Li_L'(0) + R_1I_{L0} = L\\,\\frac{1}{T_L}\\,\\left(I_{L0} - \\frac{E}{R_1}\\right) + R_1I_{L0}$$"
   ]
  },
  {
   "cell_type": "markdown",
   "id": "77d3b8f7",
   "metadata": {},
   "source": [
    "$$ E = R_1\\,\\left(I_{L0} - \\frac{E}{R_1}\\right) + R_1I_{L0}$$"
   ]
  },
  {
   "cell_type": "markdown",
   "id": "774cfa80",
   "metadata": {},
   "source": [
    "$$ 2E = 2R_1I_{L0}$$"
   ]
  },
  {
   "cell_type": "markdown",
   "id": "276f8a43",
   "metadata": {},
   "source": [
    "\\begin{equation}\\tag{P6.a.8a}\n",
    "    I_{L0} = \\frac{E}{R_1}\n",
    "\\end{equation}    "
   ]
  },
  {
   "cell_type": "markdown",
   "id": "d57f7213",
   "metadata": {},
   "source": [
    "Via equation (P6.a.8a) and (P6.a.8),  \n",
    "\n",
    "\\begin{equation}\\tag{P6.a.9}\n",
    "    i_L = \\frac{E}{R_1}\n",
    "\\end{equation}    "
   ]
  },
  {
   "cell_type": "markdown",
   "id": "10ae848c",
   "metadata": {},
   "source": [
    "Finally, via equations (P6.a.9), (P6.a.6), and (P6.a.2), the source current, denoted as '$i$' has no transient response if $R=\\infty\\Omega$.  \n",
    "\n",
    "\\begin{equation}\\tag{P6.a.10}\n",
    "    i = \\frac{E}{R_1}_{\\big\\vert\\;R=\\infty\\Omega}\n",
    "\\end{equation}    "
   ]
  },
  {
   "cell_type": "code",
   "execution_count": 4,
   "id": "769d1b17",
   "metadata": {
    "code_folding": [
     0
    ]
   },
   "outputs": [
    {
     "data": {
      "text/plain": [
       "[<matplotlib.lines.Line2D at 0x7f2a402fc190>]"
      ]
     },
     "execution_count": 4,
     "metadata": {},
     "output_type": "execute_result"
    },
    {
     "data": {
      "image/png": "[encoded data removed]",
      "text/plain": [
       "<Figure size 432x288 with 1 Axes>"
      ]
     },
     "metadata": {
      "needs_background": "light"
     },
     "output_type": "display_data"
    }
   ],
   "source": [
    "# Set circuit parameters.\n",
    "E = 10; R_1 = 2000; L = 1; C = 1e-6; T = R*C\n",
    "\n",
    "# Assume the value of R.\n",
    "R = R_1\n",
    "\n",
    "# Create the time domain.\n",
    "t = np.linspace(0, 6*T, num=200)\n",
    "\n",
    "# Identify the function that gives the capacitor current, denoted as 'i_C'.\n",
    "i_C = np.e**(-t/T)*E/R_1\n",
    "\n",
    "# Create the figure and axes objects.\n",
    "fig, ax = plt.subplots()\n",
    "ax.set_title(r'Capacitor Current', size=14)\n",
    "ax.set_xlabel(r'time [ms]')\n",
    "ax.set_ylabel(r'current [mA]')\n",
    "ax.grid()\n",
    "\n",
    "# Plot the current flowing through the capacitor (i_C).\n",
    "ax.plot(t*1000, i_C*1000)"
   ]
  },
  {
   "cell_type": "code",
   "execution_count": 5,
   "id": "b6e71231",
   "metadata": {
    "code_folding": []
   },
   "outputs": [
    {
     "data": {
      "text/plain": [
       "<matplotlib.legend.Legend at 0x7f2a401b0e50>"
      ]
     },
     "execution_count": 5,
     "metadata": {},
     "output_type": "execute_result"
    },
    {
     "data": {
      "image/png": "[encoded data removed]",
      "text/plain": [
       "<Figure size 921.6x691.2 with 4 Axes>"
      ]
     },
     "metadata": {
      "needs_background": "light"
     },
     "output_type": "display_data"
    }
   ],
   "source": [
    "# Identify the time constant of i_L, denoted as 'T_1'.\n",
    "T_1 = L/R_1\n",
    "\n",
    "# Assume the value of R.\n",
    "R = R_1\n",
    "\n",
    "# Identify the time constant of i_C, denoted as 'T'.\n",
    "T = R*C\n",
    "\n",
    "# Create the time domains.\n",
    "t = np.linspace(0, 6*T, num=200)\n",
    "t_1 = np.linspace(0, 6*T_1, num=200)\n",
    "t_i = np.linspace(0, 6*T_1 if T_1>T else 6*T, num=200)\n",
    "\n",
    "# Identify the functions that give the circuit variables.\n",
    "i_L = E/R_1 * (1 - np.e**(-t_1/T_1))\n",
    "i_C = np.e**(-t/T)*E/R\n",
    "i = E/R_1 * (1 - np.e**(-t_i/T_1)) + np.e**(-t_i/T)*E/R\n",
    "diff = np.e**(-t_i/T)*E/R - np.e**(-t_i/T_1)*E/R_1\n",
    "\n",
    "# Create the figure and axes objects.\n",
    "fig, ((ax, ax1), (ax2, ax3)) = plt.subplots(2, 2, figsize=(12.8, 4.8*2))\n",
    "\n",
    "ax.set_title(r'Capacitor Current', size=14)\n",
    "ax.set_xlabel(r'time [ms]')\n",
    "ax.set_ylabel(r'current [mA]')\n",
    "ax.grid()\n",
    "\n",
    "ax1.set_title(r'Inductor Current', size=14)\n",
    "ax1.set_xlabel(r'time [ms]')\n",
    "ax1.set_ylabel(r'current [mA]')\n",
    "ax1.grid()\n",
    "\n",
    "ax2.set_title(r'Source Current ($i = i_C + i_L$)', size=14)\n",
    "ax2.set_xlabel(r'time [ms]')\n",
    "ax2.set_ylabel(r'current [mA]')\n",
    "ax2.grid()\n",
    "\n",
    "ax3.set_title(r'Difference in Transient Response', size=12)\n",
    "ax3.set_xlabel(r'time [ms]')\n",
    "ax3.set_ylabel(r'current [mA]')\n",
    "ax3.grid()\n",
    "\n",
    "\n",
    "# Plot the circuit variables.\n",
    "ax1.plot(t_1*1000, i_L*1000)\n",
    "ax.plot(t*1000, i_C*1000)\n",
    "ax2.plot(t_i*1000, i*1000)\n",
    "ax3.plot(t_i*1000, diff*1000, label = r'$\\frac{E}{R}\\,e^{-t/T} - \\frac{E}{R_1}\\,e^{-t/T_1}$')\n",
    "ax3.plot(t_i*1000, 1000*np.e**(-t_i/T)*E/R, label = r'$i_C$')\n",
    "ax3.plot(t_i*1000, 1000*E/R_1 * (1 - np.e**(-t_i/T_1)), label=r'$i_L$')\n",
    "ax3.legend()"
   ]
  },
  {
   "cell_type": "markdown",
   "id": "2e203fcd",
   "metadata": {},
   "source": [
    "#### Problem 7\n",
    "7. In a circuit of Fig 3.2.24 the switch is thrown at $t=0$ . Sketch the element currents and the\n",
    "    voltage if $R=\\infty\\Omega$, $L = 4\\mathrm{mH}$, and $C_L=1\\mathrm{pF}$ . Find the maximum energy stored in each element.  \n",
    "    \n",
    "![Fig-3.2.24](Figures/Fig-3.2.24.png)"
   ]
  },
  {
   "cell_type": "markdown",
   "id": "74defaa3",
   "metadata": {},
   "source": [
    "*Before* the switch is opened, via KVL and element equations,  \n",
    "\n",
    "\\begin{equation}\\tag{7.1}\n",
    "    \\text{a: }\\;E = R_\\mathrm{t}i + Li_L' \\quad\\quad\\text{and}\\quad\\quad\\text{b: }\\;Li_L' = Ri_R\n",
    "\\end{equation}    "
   ]
  },
  {
   "cell_type": "markdown",
   "id": "92b743b6",
   "metadata": {},
   "source": [
    "And, via KCL,  \n",
    "\n",
    "\\begin{equation}\\tag{7.2}\n",
    "    i = i_L + i_R\n",
    "\\end{equation}    "
   ]
  },
  {
   "cell_type": "markdown",
   "id": "1b1dd180",
   "metadata": {},
   "source": [
    "$$ i = i_L + \\frac{L}{R}\\,i_L'$$"
   ]
  },
  {
   "cell_type": "markdown",
   "id": "d6fe6591",
   "metadata": {},
   "source": [
    "$$ E = R_\\mathrm{t}\\left(i_L + \\frac{L}{R}\\,i_L'\\right) + Li_L'$$"
   ]
  },
  {
   "cell_type": "markdown",
   "id": "b1433594",
   "metadata": {},
   "source": [
    "\\begin{equation}\\tag{7.3}\n",
    "    \\frac{R_\\mathrm{t}L + RL}{R}\\,i_L' + R_\\mathrm{t}i_L = R_\\mathrm{t}i_L =E\n",
    "\\end{equation}    "
   ]
  },
  {
   "cell_type": "markdown",
   "id": "c1033ab4",
   "metadata": {},
   "source": [
    "The general solution to equation (7.3) is:  \n",
    "\n",
    "\\begin{equation}\\tag{7.4}\n",
    "    i_L = i_L(t) = \\frac{E}{R_\\mathrm{t}}\n",
    "\\end{equation}    "
   ]
  },
  {
   "cell_type": "markdown",
   "id": "f5de844d",
   "metadata": {},
   "source": [
    "And, under steady-state conditions:  \n",
    "\n",
    "\\begin{equation}\\tag{7.5}\n",
    "    I_{L\\infty} = \\frac{E}{R_\\mathrm{t}}\n",
    "\\end{equation}    "
   ]
  },
  {
   "cell_type": "markdown",
   "id": "0ebc0612",
   "metadata": {},
   "source": [
    "$$ w_L=w_L(t) = \\int_0^t i_Lu_L\\,\\mathrm{d}t + W_{L0} = \\int_0^t i_Lu_L\\,\\mathrm{d}t $$"
   ]
  },
  {
   "cell_type": "markdown",
   "id": "e38db707",
   "metadata": {},
   "source": [
    "$$ = \\left[\\int i_Lu_L\\,\\mathrm{d}t\\right]_{t=t} - \\left[\\int i_Lu_L\\,\\mathrm{d}t\\right]_{t=0}$$"
   ]
  },
  {
   "cell_type": "markdown",
   "id": "5353e0f9",
   "metadata": {},
   "source": [
    "$$\\int i_Lu_L\\,\\mathrm{d}t   = L\\,\\int i_L\\,\\frac{\\mathrm{d}i_L}{\\mathrm{d}t}\\,\\mathrm{d}t = L\\,\\int i_L\\,\\mathrm{d}i_L = L\\,\\frac{i_L^2}{2} + c$$"
   ]
  },
  {
   "cell_type": "markdown",
   "id": "aaa5c0b4",
   "metadata": {},
   "source": [
    "Via the above two equations,  \n",
    "\n",
    "$$ w_L =w_L(t) = 0.5L\\big[i_L^2\\big]_{t=t} - 0.5L\\big[i_L^2\\big]_{t=0} = 0$$"
   ]
  },
  {
   "cell_type": "markdown",
   "id": "b6e898be",
   "metadata": {},
   "source": [
    "Thus,  \n",
    "\n",
    "\\begin{equation}\\tag{7.X}\n",
    "    W_{L\\infty} = 0\n",
    "\\end{equation}    "
   ]
  },
  {
   "cell_type": "markdown",
   "id": "cdff166f",
   "metadata": {},
   "source": [
    "**After** the **switch is opened**, via element equations,  \n",
    "\n",
    "\\begin{equation}\\tag{7.6}\n",
    "    \\text{a: }\\;i_L = \\frac{1}{L}\\,\\int_0^t u\\,\\mathrm{d}t + I_{L0}\\quad\\quad\\text{b: }\\;i_C = C\\,\\frac{\\mathrm{d}u}{\\mathrm{d}t}\\quad\\quad\\text{c: }\\;i_R = Gu = 0\n",
    "\\end{equation}    "
   ]
  },
  {
   "cell_type": "markdown",
   "id": "0260fbef",
   "metadata": {},
   "source": [
    "And, via KCL,  \n",
    "\n",
    "\\begin{align*}\\tag{7.7}\n",
    "    -i_L &= i_C + i_R \\\\ \n",
    "     &= i_C\n",
    "\\end{align*}    "
   ]
  },
  {
   "cell_type": "markdown",
   "id": "d677d4c9",
   "metadata": {},
   "source": [
    "Note that, via equation (7.5) and the notion that $I_{L0} = I_{L0_-}$,  \n",
    "\n",
    "\\begin{equation}\\tag{7.5a}\n",
    "    I_{L0} = \\frac{E}{R_\\mathrm{t}}\n",
    "\\end{equation}    "
   ]
  },
  {
   "cell_type": "markdown",
   "id": "0a51cb85",
   "metadata": {},
   "source": [
    "Via equations (7.6) and (7.7),  \n",
    "\n",
    "\\begin{equation}\\tag{7.8}\n",
    "    Cu''  + \\frac{1}{L}\\,u = 0\n",
    "\\end{equation}    "
   ]
  },
  {
   "cell_type": "markdown",
   "id": "1609fd72",
   "metadata": {},
   "source": [
    "The general solution to equation (7.8) is:  \n",
    "\n",
    "\\begin{equation}\\tag{7.9}\n",
    "    u=u(t) = A\\cos\\omega t + B\\sin\\omega t \\quad\\text{where }\\;\\omega = \\frac{1}{\\sqrt{LC}}\n",
    "\\end{equation}    "
   ]
  },
  {
   "cell_type": "markdown",
   "id": "5a063047",
   "metadata": {},
   "source": [
    "Via equations (7.6b), (7.7) and (7.5a),  \n",
    "\n",
    "$$ i_C(0) = -i_L(0) = -\\frac{E}{R_\\mathrm{t}} = Cu'(0) $$"
   ]
  },
  {
   "cell_type": "markdown",
   "id": "e6c5884b",
   "metadata": {},
   "source": [
    "$$ u'(t) = \\omega\\,\\big(B\\cos\\omega t - A\\sin\\omega t\\big)$$"
   ]
  },
  {
   "cell_type": "markdown",
   "id": "87f697b4",
   "metadata": {},
   "source": [
    "$$ -\\frac{E}{R_\\mathrm{t}} = Cu'(0) = \\omega CB$$"
   ]
  },
  {
   "cell_type": "markdown",
   "id": "09f0e9a8",
   "metadata": {},
   "source": [
    "\\begin{equation}\\tag{7.9b}\n",
    "    B = -\\frac{E}{\\omega R_\\mathrm{t}C}\n",
    "\\end{equation}    "
   ]
  },
  {
   "cell_type": "markdown",
   "id": "d9f69230",
   "metadata": {},
   "source": [
    "Assuming $u(0)=0$,  \n",
    "\n",
    "\\begin{equation}\\tag{7.9a}\n",
    "    u(0) = A = 0\n",
    "\\end{equation}    "
   ]
  },
  {
   "cell_type": "markdown",
   "id": "3b46ed93",
   "metadata": {},
   "source": [
    "The specific solution to equation (7.8) is:  \n",
    "\n",
    "\\begin{equation}\\tag{7.10}\n",
    "    u = u(t) = -\\frac{E}{\\omega R_\\mathrm{t} C}\\,\\sin\\omega t\n",
    "\\end{equation}    "
   ]
  },
  {
   "cell_type": "markdown",
   "id": "aeb5da25",
   "metadata": {},
   "source": [
    "The current are:  \n",
    "\n",
    "\\begin{equation}\\tag{7.11b}\n",
    "    i_C = i_C(t) = -\\frac{E}{R_\\mathrm{t}}\\,\\cos\\omega t\n",
    "\\end{equation}    "
   ]
  },
  {
   "cell_type": "markdown",
   "id": "07d6a1fe",
   "metadata": {},
   "source": [
    "and,\n",
    "\\begin{equation}\\tag{7.11a}\n",
    "    i_L=i_L(t)=\\frac{E}{\\omega^2LR_\\mathrm{t}C}\\,\\big(\\cos\\omega t - 1\\big) + \\frac{E}{R_\\mathrm{t}} = -i_C\n",
    "\\end{equation}    "
   ]
  },
  {
   "cell_type": "code",
   "execution_count": 6,
   "id": "c1dbbc52",
   "metadata": {
    "code_folding": []
   },
   "outputs": [],
   "source": [
    "# Set the circuit parameters.\n",
    "E = 9; R_t = 560; L = 4e-3; C = 1e-12\n",
    "\n",
    "# Identify the damping resonant frequency.\n",
    "omega = 1/np.sqrt(L*C)\n",
    "\n",
    "# Identify the wavelength (wl)\n",
    "wl = 2*np.pi/omega\n",
    "\n",
    "# Create to time-domain.\n",
    "t = np.linspace(0, 3*wl, num=200)\n",
    "\n",
    "# Identify the circuit variables.\n",
    "u = -E/(omega*R_t*C)*np.sin(omega*t)\n",
    "i_C = -E/R_t * np.cos(omega*t)\n",
    "i_L = -i_C"
   ]
  },
  {
   "cell_type": "code",
   "execution_count": 7,
   "id": "e80e7b2e",
   "metadata": {},
   "outputs": [
    {
     "data": {
      "text/plain": [
       "3.97383530631844e-07"
      ]
     },
     "execution_count": 7,
     "metadata": {},
     "output_type": "execute_result"
    }
   ],
   "source": [
    "wl"
   ]
  },
  {
   "cell_type": "code",
   "execution_count": 8,
   "id": "8cf2a4c0",
   "metadata": {},
   "outputs": [
    {
     "data": {
      "text/plain": [
       "-0.01607142857142857"
      ]
     },
     "execution_count": 8,
     "metadata": {},
     "output_type": "execute_result"
    }
   ],
   "source": [
    "min(i_C)"
   ]
  },
  {
   "cell_type": "code",
   "execution_count": 9,
   "id": "911d113e",
   "metadata": {
    "code_folding": []
   },
   "outputs": [
    {
     "data": {
      "text/plain": [
       "<matplotlib.legend.Legend at 0x7f2a3fd42640>"
      ]
     },
     "execution_count": 9,
     "metadata": {},
     "output_type": "execute_result"
    },
    {
     "data": {
      "image/png": "[encoded data removed]",
      "text/plain": [
       "<Figure size 921.6x345.6 with 2 Axes>"
      ]
     },
     "metadata": {
      "needs_background": "light"
     },
     "output_type": "display_data"
    }
   ],
   "source": [
    "# Create the figure and axes objects.\n",
    "fig, (ax, ax2) = plt.subplots(ncols=2, figsize=(12.8, 4.8))\n",
    "ax.set_title('Voltage', size=14)\n",
    "ax.set_xlabel(r'time [$\\mu$s]')\n",
    "ax.set_ylabel('voltage [kV]')\n",
    "ax.grid()\n",
    "\n",
    "ax2.set_title('Current', size=14)\n",
    "ax2.set_xlabel(r'time [$\\mu$s]')\n",
    "ax2.set_ylabel('current [mA]')\n",
    "ax2.grid()\n",
    "\n",
    "# Plot the voltage (u).\n",
    "ax.plot(t*1e6, u/1e3)\n",
    "\n",
    "# Plot the currents, i_C and i_L.\n",
    "ax2.plot(t*1e6, i_C*1e3, label=r'$i_C$')\n",
    "ax2.plot(t*1e6, i_L*1e3, label=r'$i_L$')\n",
    "ax2.legend()"
   ]
  },
  {
   "cell_type": "markdown",
   "id": "ab9fd18c",
   "metadata": {},
   "source": [
    "The energy of each element is:  \n",
    "\n",
    "\\begin{equation}\\tag{7.12a}\n",
    "    w_L(t) = L\\,\\frac{i_L^2(t) - i_L^2(0)}{2} + W_{L0}\n",
    "\\end{equation}    "
   ]
  },
  {
   "cell_type": "markdown",
   "id": "90acc709",
   "metadata": {},
   "source": [
    "$$ w_C = w_C(t) = \\int_0^t i_Cu\\,\\mathrm{d}t + W_{C0} = \\int_0^t i_Cu\\,\\mathrm{d}t$$"
   ]
  },
  {
   "cell_type": "markdown",
   "id": "3f98c69e",
   "metadata": {},
   "source": [
    "$$ \\int i_Cu\\,\\mathrm{d}t = C\\int u\\,\\mathrm{d}u = 0.5Cu^2 + c$$"
   ]
  },
  {
   "cell_type": "markdown",
   "id": "28894624",
   "metadata": {},
   "source": [
    "\\begin{equation}\\tag{7.12b}\n",
    "    w_C = w_C(t) = 0.5C\\big(u^2(t) - u^2(0)\\big) = 0.5Cu^2\n",
    "\\end{equation}    "
   ]
  },
  {
   "cell_type": "code",
   "execution_count": 10,
   "id": "1987ca8d",
   "metadata": {},
   "outputs": [],
   "source": [
    "# Identify the energy of each element.\n",
    "w_L = 0.5*L*(i_C**2 - E**2/R_t**2)\n",
    "w_C = 0.5*C*u**2"
   ]
  },
  {
   "cell_type": "code",
   "execution_count": 11,
   "id": "ff343435",
   "metadata": {},
   "outputs": [
    {
     "data": {
      "text/plain": [
       "(-5.165494469098542e-07, 5.165494469098542e-07)"
      ]
     },
     "execution_count": 11,
     "metadata": {},
     "output_type": "execute_result"
    }
   ],
   "source": [
    "(min(w_L), max(w_C))"
   ]
  },
  {
   "cell_type": "code",
   "execution_count": 12,
   "id": "3bc082e5",
   "metadata": {},
   "outputs": [
    {
     "data": {
      "text/plain": [
       "<matplotlib.legend.Legend at 0x7f2a3fae0ac0>"
      ]
     },
     "execution_count": 12,
     "metadata": {},
     "output_type": "execute_result"
    },
    {
     "data": {
      "image/png": "[encoded data removed]",
      "text/plain": [
       "<Figure size 432x288 with 1 Axes>"
      ]
     },
     "metadata": {
      "needs_background": "light"
     },
     "output_type": "display_data"
    }
   ],
   "source": [
    "# Create the figure and axes objects.\n",
    "fig, ax = plt.subplots()\n",
    "ax.set_title('Energy of each Element', size=14)\n",
    "ax.set_xlabel(r'time [$\\mu$s]')\n",
    "ax.set_ylabel('energy [nJ]')\n",
    "ax.grid()\n",
    "\n",
    "# Plot the instantanous energy of each element.\n",
    "ax.plot(t*1e6, w_L*1e9, label=r'$w_L$')\n",
    "ax.plot(t*1e6, w_C*1e9, label=r'$w_C$')\n",
    "ax.legend()"
   ]
  },
  {
   "cell_type": "markdown",
   "id": "1aea95ac",
   "metadata": {},
   "source": [
    "The find the time at which each element reaches max energy, we must find the roots of their respective instantanous power.  \n",
    "\n",
    "$$ p_C = p_C(t) = i_Cu = \\frac{E^2}{\\omega R_\\mathrm{t}^2 C}\\,\\sin\\omega t \\cdot \\cos\\omega t$$"
   ]
  },
  {
   "cell_type": "markdown",
   "id": "48852d9a",
   "metadata": {},
   "source": [
    "Via the above equation and the notion that $0.5\\sin 2\\omega t = \\sin\\omega t \\cdot \\cos\\omega t$,  \n",
    "\n",
    "$$ p_C = p_C(t) =\\frac{E^2}{2\\omega R_\\mathrm{t}^2 C}\\,\\sin2\\omega t$$"
   ]
  },
  {
   "cell_type": "markdown",
   "id": "34353041",
   "metadata": {},
   "source": [
    "$$ p_C(t_\\max) = 0$$"
   ]
  },
  {
   "cell_type": "markdown",
   "id": "8fce0f76",
   "metadata": {},
   "source": [
    "$$ 2\\omega t_\\max = \\arcsin 0 = \\pi$$"
   ]
  },
  {
   "cell_type": "markdown",
   "id": "a2e33f27",
   "metadata": {},
   "source": [
    "\\begin{equation}\\tag{7.13a}\n",
    "    t_\\max = \\frac{\\pi}{2\\omega}\n",
    "\\end{equation}    "
   ]
  },
  {
   "cell_type": "code",
   "execution_count": 13,
   "id": "7dbf2afb",
   "metadata": {},
   "outputs": [
    {
     "data": {
      "text/plain": [
       "5.165816326530613e-07"
      ]
     },
     "execution_count": 13,
     "metadata": {},
     "output_type": "execute_result"
    }
   ],
   "source": [
    "t_max = np.pi/(2*omega)\n",
    "0.5*C*(-E/(omega*R_t*C)*np.sin(omega*t_max))**2"
   ]
  },
  {
   "cell_type": "code",
   "execution_count": 14,
   "id": "4126025d",
   "metadata": {},
   "outputs": [
    {
     "data": {
      "text/plain": [
       "5.165494469098542e-07"
      ]
     },
     "execution_count": 14,
     "metadata": {},
     "output_type": "execute_result"
    }
   ],
   "source": [
    "max(w_C)"
   ]
  },
  {
   "cell_type": "markdown",
   "id": "0e7f25e1",
   "metadata": {},
   "source": [
    "#### Problem 8\n",
    "8. In a circuit of Fig. 3.2.10 the practical coil voltage reaches the steady state value of $U_\\infty=0.5U_0$ after $t=5T=10\\mathrm{ms}$. Find the values of $L$ and $R_L$ .  \n",
    "\n",
    "![Fig-3.2.10](Figures/Fig-3.2.10.png)"
   ]
  },
  {
   "cell_type": "markdown",
   "id": "c136e0aa",
   "metadata": {},
   "source": [
    "Let $R_\\mathrm{t}:= R+R_L$."
   ]
  },
  {
   "cell_type": "markdown",
   "id": "e0ed337e",
   "metadata": {},
   "source": [
    "\\begin{equation}\\tag{8.1}\n",
    "    E = R_\\mathrm{t}i + Li'\n",
    "\\end{equation}    "
   ]
  },
  {
   "cell_type": "markdown",
   "id": "5006b2d6",
   "metadata": {},
   "source": [
    "\\begin{equation}\\tag{8.2}\n",
    "    U_0 = E - RI_0 = E\n",
    "\\end{equation}    "
   ]
  },
  {
   "cell_type": "markdown",
   "id": "371977a3",
   "metadata": {},
   "source": [
    "$$ E = RI_\\infty + R_LI_\\infty$$"
   ]
  },
  {
   "cell_type": "markdown",
   "id": "dba8f13e",
   "metadata": {},
   "source": [
    "$$ I_\\infty = \\frac{E}{R_\\mathrm{t}}$$"
   ]
  },
  {
   "cell_type": "markdown",
   "id": "d768522e",
   "metadata": {},
   "source": [
    "\\begin{equation}\\tag{8.3}\n",
    "    U_\\infty = U_{L\\infty} + R_LI_\\infty = R_LI_\\infty = R_L\\,\\frac{E}{R_\\mathrm{t}}\n",
    "\\end{equation}    "
   ]
  },
  {
   "cell_type": "markdown",
   "id": "ccebb693",
   "metadata": {},
   "source": [
    "Via equations (8.3) and (8.2) and the fact that $U_\\infty = 0.5U_0$,  \n",
    "\n",
    "$$ 2R_L\\frac{E}{R_\\mathrm{t}} = E$$"
   ]
  },
  {
   "cell_type": "markdown",
   "id": "09d204f9",
   "metadata": {},
   "source": [
    "$$ 2\\,\\frac{R_L}{R_\\mathrm{t}} = 1$$"
   ]
  },
  {
   "cell_type": "markdown",
   "id": "0b75bf96",
   "metadata": {},
   "source": [
    "$$ 2R_L = R_L + R$$"
   ]
  },
  {
   "cell_type": "markdown",
   "id": "a72c34c5",
   "metadata": {},
   "source": [
    "\\begin{equation}\\tag{8.4}\n",
    "    R_L = R\n",
    "\\end{equation}    "
   ]
  },
  {
   "cell_type": "markdown",
   "id": "25be6851",
   "metadata": {},
   "source": [
    "Via equations (8.4) and (8.1),  \n",
    "\n",
    "\\begin{equation}\\tag{8.5}\n",
    "    Li' + 2Ri = E\n",
    "\\end{equation}    "
   ]
  },
  {
   "cell_type": "markdown",
   "id": "831ee9ca",
   "metadata": {},
   "source": [
    "The general solution to equation (8.5) is:  \n",
    "\n",
    "\\begin{equation}\\tag{8.6}\n",
    "    i = i(t) = \\frac{E}{2R} + Ae^{m t}\\quad\\quad\\text{where }\\;Lm + 2R = 0\n",
    "\\end{equation}    "
   ]
  },
  {
   "cell_type": "markdown",
   "id": "0be596fe",
   "metadata": {},
   "source": [
    "\\begin{equation}\\tag{8.6a}\n",
    "    m = - \\frac{2R}{L}\n",
    "\\end{equation}    "
   ]
  },
  {
   "cell_type": "markdown",
   "id": "0627de04",
   "metadata": {},
   "source": [
    "The time constant is:  \n",
    "\n",
    "\\begin{equation}\\tag{8.6b}\n",
    "    T = -\\frac{1}{m} = \\frac{L}{2R} = 2\\mathrm{ms}\n",
    "\\end{equation}    "
   ]
  },
  {
   "cell_type": "markdown",
   "id": "07779e53",
   "metadata": {},
   "source": [
    "\\begin{equation}\\tag{8.8}\n",
    "    L = 4\\mathrm{ms}\\cdot R\n",
    "\\end{equation}    "
   ]
  },
  {
   "cell_type": "markdown",
   "id": "15d15cf7",
   "metadata": {},
   "source": [
    "Via the IVP of $I_0 = i(0) = 0$,  \n",
    "\n",
    "\\begin{equation}\\tag{8.6c}\n",
    "    \\frac{E}{2R} = -A\n",
    "\\end{equation}    "
   ]
  },
  {
   "cell_type": "markdown",
   "id": "a52b0dc0",
   "metadata": {},
   "source": [
    "Thus, the specific solution to equation (8.5) is:  \n",
    "\n",
    "\\begin{equation}\\tag{8.7}\n",
    "    i = i(t) = \\frac{E}{2R}\\,\\big(1-e^{m t}\\big)\n",
    "\\end{equation}    "
   ]
  },
  {
   "cell_type": "markdown",
   "id": "2582e22c",
   "metadata": {},
   "source": [
    "$$ i' = i'(t) = -m\\,\\frac{E}{2R}\\,e^{m t} = \\frac{E}{L}\\,e^{m t}$$"
   ]
  },
  {
   "cell_type": "markdown",
   "id": "2dc3cdc8",
   "metadata": {},
   "source": [
    "#### Problem 9\n",
    "9. Sketch $i(t)$ and $u_C(t)$ for the excitation graphed;  $e(t)=f(t)$, $A=E$.  \n",
    "\n",
    "![Fig-P.3.2.9](Figures/Fig-P.3.2.9.png)"
   ]
  },
  {
   "cell_type": "markdown",
   "id": "c22b674e",
   "metadata": {},
   "source": [
    "*Before* the step down in voltage -- i.e. when $t<0$ -- we have the forced response to consider.  In other words, the capacitor is charging and subsequently storing some of the energy released into the system by $e(t)$, all of this while the resistors dissipate the rest of the released energy in the form of heat."
   ]
  },
  {
   "cell_type": "markdown",
   "id": "fc2f9caf",
   "metadata": {},
   "source": [
    "$$ E = Ri + Ri_R\\quad\\quad\\text{and}\\quad\\quad Ri_R = \\frac{1}{C}\\int i_C\\,\\mathrm{d}t$$"
   ]
  },
  {
   "cell_type": "markdown",
   "id": "720a2bb7",
   "metadata": {},
   "source": [
    "$$ i = i_R + i_C$$"
   ]
  },
  {
   "cell_type": "markdown",
   "id": "71273573",
   "metadata": {},
   "source": [
    "$$ E = Ri + \\frac{1}{C}\\,\\int i_C\\,\\mathrm{d}t$$"
   ]
  },
  {
   "cell_type": "markdown",
   "id": "5ab8b705",
   "metadata": {},
   "source": [
    "$$ i = i_C + \\frac{1}{RC}\\,\\int i_C\\,\\mathrm{d}t$$"
   ]
  },
  {
   "cell_type": "markdown",
   "id": "4079f4e6",
   "metadata": {},
   "source": [
    "$$ E = Ri_C + \\frac{2}{C}\\,\\int i_C\\,\\mathrm{d}t$$"
   ]
  },
  {
   "cell_type": "markdown",
   "id": "97d6ae0b",
   "metadata": {},
   "source": [
    "\\begin{equation}\\tag{9.2}\n",
    "    Ri_C' + \\frac{2}{C}\\,i_C = 0\n",
    "\\end{equation}    "
   ]
  },
  {
   "cell_type": "markdown",
   "id": "ef1eebbb",
   "metadata": {},
   "source": [
    "The general solution to equation (9.2) is:  \n",
    "\n",
    "\\begin{equation}\\tag{9.3}\n",
    "    i_C = i_C(t) = Ae^{m t} \\quad\\quad\\text{where }\\; Rm + \\frac{2}{C}=0\n",
    "\\end{equation}    "
   ]
  },
  {
   "cell_type": "markdown",
   "id": "db04a8df",
   "metadata": {},
   "source": [
    "\\begin{equation}\\tag{9.3b}\n",
    "    m = -\\frac{2}{RC}\n",
    "\\end{equation}    "
   ]
  },
  {
   "cell_type": "markdown",
   "id": "c892d81d",
   "metadata": {},
   "source": [
    "Assuming $U_{C0}=0$,  \n",
    "\n",
    "$$ i_C(0) = i(0)$$\n",
    "\n",
    "and\n",
    "$$ E = RI_0 = Ri(0)= Ri_C(0) = RA$$"
   ]
  },
  {
   "cell_type": "markdown",
   "id": "2475d2c0",
   "metadata": {},
   "source": [
    "\\begin{equation}\\tag{9.3a}\n",
    "    A = \\frac{E}{R}\n",
    "\\end{equation}    "
   ]
  },
  {
   "cell_type": "markdown",
   "id": "7511ce65",
   "metadata": {},
   "source": [
    "The specific solution to equation (9.2) is:  \n",
    "\n",
    "\\begin{equation}\\tag{9.4}\n",
    "    i_C = i_C(t) = \\frac{E}{R}\\,e^{m t}\n",
    "\\end{equation}    "
   ]
  },
  {
   "cell_type": "markdown",
   "id": "052ca147",
   "metadata": {},
   "source": [
    "Finally,  \n",
    "\n",
    "$$ u_C = u_C(t) = \\frac{1}{C}\\,\\int_0^t i_C\\,\\mathrm{d}t = \\frac{E}{mRC}\\,\\big(e^{m t} - 1\\big) = 0.5E\\big(1-e^{m t}\\big)$$"
   ]
  },
  {
   "cell_type": "markdown",
   "id": "fbf150f4",
   "metadata": {},
   "source": [
    "and,\n",
    "$$ U_{C\\infty} = 0.5E$$"
   ]
  },
  {
   "cell_type": "markdown",
   "id": "54d653c7",
   "metadata": {},
   "source": [
    "$$ i_R = \\frac{E}{2R}\\,\\big(1-e^{mt}\\big)$$"
   ]
  },
  {
   "cell_type": "markdown",
   "id": "aa2aa2f6",
   "metadata": {},
   "source": [
    "$$ i = i(t) = \\frac{E}{R}e^{m t} + \\frac{E}{2R} - \\frac{E}{2R}\\,e^{m t} = \\frac{E}{2R} + \\frac{E}{2R}\\,e^{m t} = \\frac{E}{2R}\\,\\big(1+e^{m t}\\big)$$"
   ]
  },
  {
   "cell_type": "markdown",
   "id": "38277a49",
   "metadata": {},
   "source": [
    "*After* the step down in voltage -- i.e. when $t\\ge0$ -- we have both the forced and natural response to consider.  The capacitor start off with the voltage and therefore energy stored *before* the step down in $e(t)$.  It thereafter releases some of that energy back into the system before reaching steady-state.  During this transient response, the voltage of the capacitor, denoted as '$u_C$', decreases along with the current flowing out of it's positive pole (where it's voltage arrowhead points).  Under steady-state conditions, the aforementioned current has a magnitude of zero."
   ]
  },
  {
   "cell_type": "markdown",
   "id": "ed4f9cd7",
   "metadata": {},
   "source": [
    "$$ e(t) = 0.5E = Ri + Ri_R $$"
   ]
  },
  {
   "cell_type": "markdown",
   "id": "064e552b",
   "metadata": {},
   "source": [
    "$$ Ri_R(0) = u_C(0) = 0.5E$$"
   ]
  },
  {
   "cell_type": "markdown",
   "id": "1d04d7ef",
   "metadata": {},
   "source": [
    "\\begin{equation}\\tag{9.5}\n",
    "    i_R(0) = \\frac{E}{2R}\n",
    "\\end{equation}"
   ]
  },
  {
   "cell_type": "markdown",
   "id": "d53627c5",
   "metadata": {},
   "source": [
    "$$ e(t) = 0.5E = Ri(0) + Ri_R(0) = Ri(0) + 0.5E$$"
   ]
  },
  {
   "cell_type": "markdown",
   "id": "1bef902b",
   "metadata": {},
   "source": [
    "$$ Ri(0) = 0$$"
   ]
  },
  {
   "cell_type": "markdown",
   "id": "2da975bf",
   "metadata": {},
   "source": [
    "\\begin{equation}\\tag{9.6}\n",
    "    i(0) = 0\n",
    "\\end{equation}    "
   ]
  },
  {
   "cell_type": "markdown",
   "id": "3f5b0c0c",
   "metadata": {},
   "source": [
    "$$ i(0) - i_R(0) = i_C(0) = -\\frac{E}{2R}$$"
   ]
  },
  {
   "cell_type": "markdown",
   "id": "0f712e69",
   "metadata": {},
   "source": [
    "$$ i_C(0) = A = -\\frac{E}{2R}$$"
   ]
  },
  {
   "cell_type": "markdown",
   "id": "d7f74c0a",
   "metadata": {},
   "source": [
    "The specific solution is:  \n",
    "\n",
    "\\begin{equation}\\tag{9.7}\n",
    "    i_C = i_C(t) = -\\frac{E}{2R}\\,e^{m t}\n",
    "\\end{equation}    "
   ]
  },
  {
   "cell_type": "markdown",
   "id": "edd5060b",
   "metadata": {},
   "source": [
    "And,  \n",
    "\n",
    "$$ u_C = u_C(t) = \\frac{1}{C}\\,\\int_0^t i_C\\,\\mathrm{d}t + U_{C0} = \\frac{E}{2mRC}\\,\\big(1 -e^{m t}\\big) + 0.5E$$"
   ]
  },
  {
   "cell_type": "markdown",
   "id": "2b4c3104",
   "metadata": {},
   "source": [
    "$$ = \\frac{E}{4}\\,\\big(e^{m t}-1\\big) + 0.5E$$"
   ]
  },
  {
   "cell_type": "markdown",
   "id": "ff7ac7ef",
   "metadata": {},
   "source": [
    "$$ U_{C\\infty} = 0.25E$$"
   ]
  },
  {
   "cell_type": "markdown",
   "id": "ae4db75a",
   "metadata": {},
   "source": [
    "$$ i_R = \\frac{E}{4R}\\,\\big(e^{m t} - 1\\big) + \\frac{E}{2R}$$"
   ]
  },
  {
   "cell_type": "markdown",
   "id": "429be041",
   "metadata": {},
   "source": [
    "$$ i = i(t) = \\frac{E}{4R}-\\frac{E}{4R}\\,e^{m t} = \\frac{E}{4R}\\,\\big(1-e^{mt}\\big)$$"
   ]
  },
  {
   "cell_type": "markdown",
   "id": "663737cb",
   "metadata": {},
   "source": [
    "During the transient response, the resistor in parallel with the capacitor dissipates energy released from both the excitation and the capacitor.  Under steady-state conditions, it only dissipates energy released from said excitation.  Note that this is *after* the step down in voltage from $e(t)$."
   ]
  },
  {
   "cell_type": "markdown",
   "id": "6beebad0",
   "metadata": {},
   "source": [
    "#### Problem 10\n",
    "10. In a circuit of Fig. 3.2.16 the switch closes at $t=0$. Sketch the element voltages and the\n",
    "    mesh current assuming $R=0$, $L=4\\mathrm{mH}$, and $C=1\\mu\\mathrm{F}$. Find the maximum energy stored in $C$.  \n",
    "    \n",
    "![Fig-3.2.16a](Figures/Fig-3.2.16a.png)"
   ]
  },
  {
   "cell_type": "markdown",
   "id": "e40c67c6",
   "metadata": {},
   "source": [
    "We start off with no initial current or voltage running across the capacitor;  There is initially no energy stored in the circuit.  \n",
    "\n",
    "$$ I_0 = 0\\quad\\quad\\text{and}\\quad\\quad U_{C0} = 0$$"
   ]
  },
  {
   "cell_type": "markdown",
   "id": "bffc2450",
   "metadata": {},
   "source": [
    "Via KVL and element equations,  \n",
    "\n",
    "\\begin{equation}\\tag{10.1}\n",
    "    E = Li' + Ri + \\frac{1}{C}\\,\\int i\\mathrm{d} t\n",
    "\\end{equation}    "
   ]
  },
  {
   "cell_type": "markdown",
   "id": "41f08edc",
   "metadata": {},
   "source": [
    "\\begin{equation}\\tag{10.2}\n",
    "    Li'' + Ri' + \\frac{1}{C}\\,i = 0\n",
    "\\end{equation}    "
   ]
  },
  {
   "cell_type": "markdown",
   "id": "44e98453",
   "metadata": {},
   "source": [
    "The general solution to the above second order homogenous DE is:  \n",
    "\n",
    "\\begin{equation}\\tag{10.3}\n",
    "    i = i(t) = A\\,\\cos\\omega t + B\\,\\sin\\omega t\\quad\\quad\\text{where }\\; \\omega = \\frac{1}{\\sqrt{LC}}\n",
    "\\end{equation}    "
   ]
  },
  {
   "cell_type": "markdown",
   "id": "a3fbee6a",
   "metadata": {},
   "source": [
    "\\begin{equation}\\tag{10.3a}\n",
    "    i(0) = A = 0\n",
    "\\end{equation}    "
   ]
  },
  {
   "cell_type": "markdown",
   "id": "63ad7c24",
   "metadata": {},
   "source": [
    "$$ u_C = u_C(t) = \\frac{1}{C}\\,\\int_0^t i\\,\\mathrm{d}t$$"
   ]
  },
  {
   "cell_type": "markdown",
   "id": "498ee5f1",
   "metadata": {},
   "source": [
    "$$ \\int i\\,\\mathrm{d}t = -\\frac{B}{\\omega}\\,\\cos\\omega t + c = -B\\sqrt{LC}\\,\\cos\\omega t$$"
   ]
  },
  {
   "cell_type": "markdown",
   "id": "3f742a8c",
   "metadata": {},
   "source": [
    "$$ u_C = -B\\sqrt{\\frac{L}{C}}\\,\\big(\\cos\\omega t - 1\\big) = B\\sqrt{\\frac{L}{C}}\\,\\big(1-\\cos\\omega t\\big)$$"
   ]
  },
  {
   "cell_type": "markdown",
   "id": "de05e47a",
   "metadata": {},
   "source": [
    "Finding the specific solution to equation (10.2) in the time-domain failed.  Now we will try to solve the circuit in the $s$-**domain**."
   ]
  },
  {
   "cell_type": "markdown",
   "id": "f77742d1",
   "metadata": {},
   "source": [
    "Transforming throughout equation (10.1) gives:  \n",
    "\n",
    "$$ \\frac{E}{s} = sLI(s) + RI(s) + \\frac{1}{sC}\\,I(s)$$"
   ]
  },
  {
   "cell_type": "markdown",
   "id": "81be3a31",
   "metadata": {},
   "source": [
    "Since $R=0$,  \n",
    "\n",
    "$$ I(s)\\,\\left(sL + \\frac{1}{sC}\\right) = \\frac{E}{s}$$"
   ]
  },
  {
   "cell_type": "markdown",
   "id": "d2d12b8d",
   "metadata": {},
   "source": [
    "Multiplying throughout by $sC$ gives:  \n",
    "\n",
    "\\begin{equation}\\tag{10.4}\n",
    "    I(s)\\big(s^2CL + 1\\big) = EC\n",
    "\\end{equation}    "
   ]
  },
  {
   "cell_type": "markdown",
   "id": "2497bd5d",
   "metadata": {},
   "source": [
    "Note that:  \n",
    "\n",
    "\\begin{equation}\\tag{L3}\n",
    "    \\mathfrak{L}\\{\\sin \\omega t\\} = \\frac{\\omega}{s^2+\\omega^2}\n",
    "\\end{equation}    "
   ]
  },
  {
   "cell_type": "markdown",
   "id": "6d33c689",
   "metadata": {},
   "source": [
    "Let $\\omega$ be defined as:  \n",
    "\n",
    "$$ \\omega := \\frac{1}{\\sqrt{LC}}$$"
   ]
  },
  {
   "cell_type": "markdown",
   "id": "b4710423",
   "metadata": {},
   "source": [
    "Via equation (10.4),  \n",
    "\n",
    "$$ I(s) = EC\\,\\frac{\\omega}{s^2+\\omega^2}$$"
   ]
  },
  {
   "cell_type": "markdown",
   "id": "120b84e0",
   "metadata": {},
   "source": [
    "Via the above equation and equation (L3),  \n",
    "\n",
    "\\begin{equation}\\tag{10.5}\n",
    "    i = i(t) = EC\\,\\sin\\omega t\n",
    "\\end{equation}    "
   ]
  },
  {
   "cell_type": "markdown",
   "id": "d0c896c7",
   "metadata": {},
   "source": [
    "\\begin{equation}\\tag{10.6}\n",
    "    \\text{a: }\\;u_R = 0 \\quad\\quad \\text{and} \\quad\\quad \\text{b: }\\;u_L = Li' = \\omega ELC\\,\\cos\\omega t = E\\sqrt{LC}\\,\\cos\\omega t\n",
    "\\end{equation}    "
   ]
  },
  {
   "cell_type": "markdown",
   "id": "3be666e8",
   "metadata": {},
   "source": [
    "$$ u_C = u_C(t) = \\frac{1}{C}\\,\\int_0^t i\\,\\mathrm{d}t$$"
   ]
  },
  {
   "cell_type": "markdown",
   "id": "b5b3b578",
   "metadata": {},
   "source": [
    "$$ \\int i\\,\\mathrm{d}t = -\\frac{EC}{\\omega}\\,\\cos\\omega t + c= -E\\sqrt{C^3L}\\,\\cos\\omega t + c$$"
   ]
  },
  {
   "cell_type": "markdown",
   "id": "edf68b7f",
   "metadata": {},
   "source": [
    "\\begin{equation}\\tag{10.6c}\n",
    "    u_C = -E\\sqrt{LC}\\,\\big(\\cos\\omega t - 1\\big) = E\\sqrt{LC}\\,\\big(1-\\cos\\omega t\\big)\n",
    "\\end{equation}    "
   ]
  },
  {
   "cell_type": "markdown",
   "id": "1db60af7",
   "metadata": {},
   "source": [
    "#### Problem 12\n",
    "12. In Problem 3.2.9 circuit, sketch $i$ and $u_C$ , for the new excitation graphed: $e(t)=f(t)$ and $A=E$.  \n",
    "\n",
    "![Fig-P.3.2.12](Figures/Fig-P.3.2.12.svg)"
   ]
  },
  {
   "cell_type": "markdown",
   "id": "b78dbb6f",
   "metadata": {},
   "source": [
    "*Before* the step up in $e(t)$ we have only the forced response to consider.  Under steady-state conditions, the  voltage running across the capacitor, denoted as '$u_C$', is $U_{C\\infty}=0.5e(t) = 0.25E$.  Thus, *after* the step up in excitation voltage, $U_{C0}=0.25E$.  Still, there is only the forced response to consider."
   ]
  },
  {
   "cell_type": "markdown",
   "id": "43df3e20",
   "metadata": {},
   "source": [
    "Via KVL and element equations,  \n",
    "\n",
    "\\begin{equation}\\tag{12.1}\n",
    "    \\text{a: }\\;e(t) = E = Ri + Ri_R \\quad\\quad\\text{and}\\quad\\quad \\text{b: }\\;Ri_R = \\frac{1}{C}\\,\\int i_C\\,\\mathrm{d}t\n",
    "\\end{equation}    "
   ]
  },
  {
   "cell_type": "markdown",
   "id": "e1f62196",
   "metadata": {},
   "source": [
    "And, via KCL,  \n",
    "\n",
    "\\begin{equation}\\tag{12.2}\n",
    "    i = i_R + i_C\n",
    "\\end{equation}    "
   ]
  },
  {
   "cell_type": "markdown",
   "id": "030619cf",
   "metadata": {},
   "source": [
    "Via equations (12.1a,b) and substitution,  \n",
    "\n",
    "\\begin{equation}\\tag{12.3}\n",
    "    E = Ri + \\frac{1}{C}\\,\\int i_C\\,\\mathrm{d}t\n",
    "\\end{equation}    "
   ]
  },
  {
   "cell_type": "markdown",
   "id": "4c529667",
   "metadata": {},
   "source": [
    "Via equations (12.1b) and (12.2),  \n",
    "\n",
    "\\begin{equation}\\tag{12.4}\n",
    "    i = i_C + \\frac{1}{RC}\\,\\int i_C\\,\\mathrm{d}t\n",
    "\\end{equation}    "
   ]
  },
  {
   "cell_type": "markdown",
   "id": "faf15be7",
   "metadata": {},
   "source": [
    "And, via equations (12.4) and (12.3),  \n",
    "\n",
    "$$ E = Ri_C + \\frac{2}{C}\\,\\int i_C\\,\\mathrm{d}t$$"
   ]
  },
  {
   "cell_type": "markdown",
   "id": "5301faf1",
   "metadata": {},
   "source": [
    "\\begin{equation}\\tag{12.5}\n",
    "    Ri_C' + \\frac{2}{C}\\,i_C = 0\n",
    "\\end{equation}    "
   ]
  },
  {
   "cell_type": "markdown",
   "id": "eb2d3d2f",
   "metadata": {},
   "source": [
    "The general solution to equation (12.5) is:  \n",
    "\n",
    "\\begin{equation}\\tag{12.6}\n",
    "    i_C = i_C(t) = Be^{m t}\\quad\\quad\\text{where }\\; Rm + \\frac{2}{C} = 0\n",
    "\\end{equation}    "
   ]
  },
  {
   "cell_type": "markdown",
   "id": "9ab8d18f",
   "metadata": {},
   "source": [
    "\\begin{equation}\\tag{12.6a}\n",
    "    m = -\\frac{2}{RC}\n",
    "\\end{equation}    "
   ]
  },
  {
   "cell_type": "markdown",
   "id": "9e8c3284",
   "metadata": {},
   "source": [
    "Via equation (12.1b) and the IVP of $U_{C0}=0.25E$,  \n",
    "\n",
    "$$Ri_R(0) = U_{C0} = 0.25E$$\n",
    "\n",
    "$$ i_R = \\frac{E}{4R}$$"
   ]
  },
  {
   "cell_type": "markdown",
   "id": "b1528ca7",
   "metadata": {},
   "source": [
    "Via equation (12.1a) and the above two equations,  \n",
    "\n",
    "$$ E = Ri(0) + Ri_R(0)$$"
   ]
  },
  {
   "cell_type": "markdown",
   "id": "74a80c1f",
   "metadata": {},
   "source": [
    "$$ Ri(0) = E - 0.25E = 0.75E$$"
   ]
  },
  {
   "cell_type": "markdown",
   "id": "82313004",
   "metadata": {},
   "source": [
    "$$ i(0) = \\frac{3E}{4R}$$"
   ]
  },
  {
   "cell_type": "markdown",
   "id": "86a48de3",
   "metadata": {},
   "source": [
    "And, via equation (12.2),  \n",
    "\n",
    "$$ i_C(0) = i(0)-i_R(0) = \\frac{E}{2R}$$"
   ]
  },
  {
   "cell_type": "markdown",
   "id": "3022e66f",
   "metadata": {},
   "source": [
    "Via the above equation and equation (12.6),  \n",
    "\n",
    "\\begin{equation}\\tag{12.6b}\n",
    "    B = \\frac{E}{2R}\n",
    "\\end{equation}    "
   ]
  },
  {
   "cell_type": "markdown",
   "id": "40d64ab7",
   "metadata": {},
   "source": [
    "Thus, the specific soluton to equation (12.5) is:  \n",
    "\n",
    "\\begin{equation}\\tag{12.7}\n",
    "    i_C = i_C(t) = \\frac{E}{2R}\\,e^{m t}\n",
    "\\end{equation}    "
   ]
  },
  {
   "cell_type": "markdown",
   "id": "5931e92b",
   "metadata": {},
   "source": [
    "The voltage running across the capacitor is given by:  \n",
    "\n",
    "$$ u_C = u_C(t) = \\frac{1}{C}\\,\\int_0^t i_C \\,\\mathrm{d}t + U_{C0}$$"
   ]
  },
  {
   "cell_type": "markdown",
   "id": "68f1e772",
   "metadata": {},
   "source": [
    "$$ \\int i_C\\,\\mathrm{d}t = \\frac{E}{2mR}\\,e^{m t} + c = -0.25ECe^{m t} + c$$"
   ]
  },
  {
   "cell_type": "markdown",
   "id": "3c79ee6b",
   "metadata": {},
   "source": [
    "\\begin{align*}\\tag{12.8}\n",
    "    u_C &= -0.25E\\big(e^{m t} - 1\\big) + 0.25E \\\\\n",
    "     &= 0.25E\\big(1-e^{m t}\\big) + 0.25E \\\\\n",
    "     &= 0.25E\\big(2-e^{m t}\\big)\n",
    "\\end{align*}     "
   ]
  },
  {
   "cell_type": "markdown",
   "id": "41a7212b",
   "metadata": {},
   "source": [
    "The current flowing through the resistor in parallel with the capacitor is:  \n",
    "\n",
    "\\begin{equation}\\tag{12.9}\n",
    "    i_R = i_R(t) = \\frac{E}{4R}\\,\\big(2-e^{m t}\\big)\n",
    "\\end{equation}    "
   ]
  },
  {
   "cell_type": "markdown",
   "id": "06432c91",
   "metadata": {},
   "source": [
    "And,  \n",
    "\n",
    "\\begin{equation}\\tag{12.10}\n",
    "    i = \\frac{E}{2R} + \\frac{E}{4R}\\,e^{m t} = \\frac{E}{2R}\\,\\big(1+0.5e^{mt}\\big)\n",
    "\\end{equation}    "
   ]
  },
  {
   "cell_type": "markdown",
   "id": "f53aa733",
   "metadata": {},
   "source": [
    "#### Problem 13\n",
    "13. Sketch $i_L$ and $u$ , for a circuit shown and the excitations graphed in Problems 3.2.9\n",
    "    and 3.2.12:  $j(t)=f(t)$ and $A=J$.  \n",
    "    \n",
    "![Fig-P.3.2.13](Figures/Fig-P.3.2.13.svg)"
   ]
  },
  {
   "cell_type": "markdown",
   "id": "fbe13986",
   "metadata": {},
   "source": [
    "First, for the excitation graphed in problem 3.2.9, $j(t)=J$ when $t<0$ and $j(t)=0.5J$ when $t\\ge 0$.  In other words, there is a step down in current at $t=0$.  Before this step down, there is only the forced response to consider, whereby the inductor absorbs and stores energy in the form of a current.  \n",
    "\n",
    "After the step down in current, there is both a natural and forced response.  The inductor releases some, but not all, of the stored energy back into the system.\n",
    "\n",
    "*Before* the step down in $j(t)$, via KVL and element equations,  \n",
    "\n",
    "\\begin{equation}\\tag{13.1}\n",
    "    \\text{a: }\\;u=u(t) = Ri_R \\quad\\quad\\text{and}\\quad\\quad \\text{b: }\\;u = Li_L' + Ri_L\n",
    "\\end{equation}    "
   ]
  },
  {
   "cell_type": "markdown",
   "id": "953a9882",
   "metadata": {},
   "source": [
    "And, via KCL,  \n",
    "\n",
    "\\begin{equation}\\tag{13.2}\n",
    "    j(t) = J = i_R + i_L\n",
    "\\end{equation}    "
   ]
  },
  {
   "cell_type": "markdown",
   "id": "b37d6601",
   "metadata": {},
   "source": [
    "\\begin{equation}\\tag{13.4}\n",
    "    i_R=i_R(t) = \\frac{u}{R} = uG\n",
    "\\end{equation}    "
   ]
  },
  {
   "cell_type": "markdown",
   "id": "c4d683f5",
   "metadata": {},
   "source": [
    "The general solution to equation (13.1b) is:  \n",
    "\n",
    "\\begin{equation}\\tag{13.3}\n",
    "    i_L = i_L(t) = \\frac{u}{R} + Be^{m t}\\quad\\quad\\text{where }\\; Lm + R = 0\n",
    "\\end{equation}    "
   ]
  },
  {
   "cell_type": "markdown",
   "id": "2b341b5a",
   "metadata": {},
   "source": [
    "\\begin{equation}\\tag{13.3a}\n",
    "    m = -\\frac{R}{L}\n",
    "\\end{equation}    "
   ]
  },
  {
   "cell_type": "markdown",
   "id": "0cf7fb0a",
   "metadata": {},
   "source": [
    "Assuming $i_L(0)=0$,  \n",
    "\n",
    "$$ \\frac{u}{R} + B = 0$$"
   ]
  },
  {
   "cell_type": "markdown",
   "id": "712f91ba",
   "metadata": {},
   "source": [
    "\\begin{equation}\\tag{13.3b}\n",
    "    B = -\\frac{u}{R} = -uG\n",
    "\\end{equation}    "
   ]
  },
  {
   "cell_type": "markdown",
   "id": "ed2c2baf",
   "metadata": {},
   "source": [
    "The specific solution to equation (13.1b) is:  \n",
    "\n",
    "\\begin{equation}\\tag{13.5}\n",
    "    i_L = i_L(t) = \\frac{u}{R}\\,\\big(1-e^{m t}\\big)\n",
    "\\end{equation}    "
   ]
  },
  {
   "cell_type": "markdown",
   "id": "0419241e",
   "metadata": {},
   "source": [
    "\\begin{equation}\\tag{13.6}\n",
    "    I_{L\\infty} = \\frac{u}{R}\n",
    "\\end{equation}    "
   ]
  },
  {
   "cell_type": "markdown",
   "id": "cfb4527e",
   "metadata": {},
   "source": [
    "**After** the **step down** in $j(t)$, via KCL,  \n",
    "\n",
    "\\begin{equation}\\tag{13.2a}\n",
    "    j(t) = 0.5J = i_R + i_L\n",
    "\\end{equation}    "
   ]
  },
  {
   "cell_type": "markdown",
   "id": "1799681a",
   "metadata": {},
   "source": [
    "The general solution to equation (13.1b) remains the same.  However, the specific solution is, via equation (13.6) and the notion that $I_{L0_-} = I_{L0}$,  \n",
    "\n",
    "$$ i_L(0) = \\frac{u}{R} + B = \\frac{u}{R}$$"
   ]
  },
  {
   "cell_type": "markdown",
   "id": "328d65c6",
   "metadata": {},
   "source": [
    "$$ B=0$$"
   ]
  },
  {
   "cell_type": "markdown",
   "id": "167b07c8",
   "metadata": {},
   "source": [
    "\\begin{equation}\\tag{13.7}\n",
    "    i_L = i_L(t) = \\frac{u}{R}\n",
    "\\end{equation}    "
   ]
  },
  {
   "cell_type": "markdown",
   "id": "4e245148",
   "metadata": {},
   "source": [
    "Finally, via equations (13.7), (13.2a), and (13.4),  \n",
    "\n",
    "$$ j(t) = 0.5J = 2\\frac{u}{R}$$"
   ]
  },
  {
   "cell_type": "markdown",
   "id": "35def228",
   "metadata": {},
   "source": [
    "\\begin{equation}\\tag{13.8}\n",
    "    u = u(t) = 0.25JR\n",
    "\\end{equation}    "
   ]
  },
  {
   "cell_type": "markdown",
   "id": "b74d5100",
   "metadata": {},
   "source": [
    "Now, for the excitation graphed in problem 3.2.12, $j(t)=0.5J$ when $t<0$ and $j(t)=J$ when $t\\ge 0$.  Here, there is a step up in current at $t=0$.  Both before and after this step up, there is only the forced response to consider, whereby the inductor absorbs and stores energy delivered to it by current source in the form of a current.\n",
    "\n",
    "*Before* the step up in $j(t)$, the steady-state response of $i_L$ stays true to equation (13.6), and, thus, *after* the step up in $j(t)$, the initial value of $i_L$ is $i_L(0)=I_{L0}=uG$.  Furthermore, the specific solution to equation (13.1), which also applies here, stays true to equation (13.7).  \n",
    "\n",
    "Finally, via KCL, and equations (13.7) and (13.4),  \n",
    "\n",
    "$$ j(t) = J = 2\\frac{u}{R}$$"
   ]
  },
  {
   "cell_type": "markdown",
   "id": "7901c41a",
   "metadata": {},
   "source": [
    "Thus,  \n",
    "\n",
    "\\begin{equation}\\tag{13.9}\n",
    "    u = 0.5RJ\n",
    "\\end{equation}    "
   ]
  },
  {
   "cell_type": "markdown",
   "id": "19153116",
   "metadata": {},
   "source": [
    "#### Problem 14\n",
    "14. The switch opens at $t=0$. Sketch the voltage $u$.  \n",
    "\n",
    "![Fig-P.3.2.14](Figures/Fig-P.3.2.14.svg)"
   ]
  },
  {
   "cell_type": "markdown",
   "id": "88632559",
   "metadata": {},
   "source": [
    "Before the switch opens -- i.e. when $t<0$ -- we have only the forced response to consider, the capacitor absorbs and stores energy in the form of voltage, while the inductor absorbs and releases energy, but, under steady-state conditions, stores no energy."
   ]
  },
  {
   "cell_type": "markdown",
   "id": "7cd21702",
   "metadata": {},
   "source": [
    "Let $E$, $R$, $L$, and $C$ be defined as:  \n",
    "\n",
    "$$ E:=10\\mathrm{V}\\quad\\quad R:=10\\Omega\\quad\\quad L := 1\\mathrm{H}\\quad\\quad C=1\\mu\\mathrm{F}$$"
   ]
  },
  {
   "cell_type": "markdown",
   "id": "b8e57d34",
   "metadata": {},
   "source": [
    "Via KVL and element equations,  \n",
    "\n",
    "\\begin{equation}\\tag{14.1}\n",
    "        \\text{a: }\\;E=Ri + 2Ri_R + \\frac{1}{C}\\,\\int i\\,\\mathrm{d}t\\quad\\quad\\text{and}\\quad\\quad\\text{b: }\\;2Ri_R = Li_L' + 2Ri_L\n",
    "\\end{equation}        "
   ]
  },
  {
   "cell_type": "markdown",
   "id": "d818b1fc",
   "metadata": {},
   "source": [
    "And, via KCL,  \n",
    "\n",
    "\\begin{equation}\\tag{14.2}\n",
    "    i = i_R + i_L\n",
    "\\end{equation}    "
   ]
  },
  {
   "cell_type": "markdown",
   "id": "b008d72f",
   "metadata": {},
   "source": [
    "Via equations (14.2) and (14.1b),  \n",
    "\n",
    "\\begin{equation}\\tag{14.3}\n",
    "    i = 2i_L + \\frac{L}{2R}\\,i_L'\n",
    "\\end{equation}    "
   ]
  },
  {
   "cell_type": "markdown",
   "id": "9e6a6a86",
   "metadata": {},
   "source": [
    "Via equations (14.1a,b),  \n",
    "\n",
    "\\begin{equation}\\tag{14.4}\n",
    "    E = Ri + Li_L' + 2Ri_L + \\frac{1}{C}\\,\\int i\\,\\mathrm{d}t\n",
    "\\end{equation}    "
   ]
  },
  {
   "cell_type": "markdown",
   "id": "5755ee9a",
   "metadata": {},
   "source": [
    "And, via equations (14.4) and (14.3),  \n",
    "\n",
    "$$ E = 2Ri_L + 0.5Li_L' + Li_L' + 2Ri_L + \\frac{2}{C}\\,\\int i_L\\,\\mathrm{d}t + \\frac{L}{2RC}\\,i_L$$"
   ]
  },
  {
   "cell_type": "markdown",
   "id": "7016ef6e",
   "metadata": {},
   "source": [
    "$$ E = 4Ri_L + \\frac{L}{2RC}\\,i_L + 1.5Li_L' + \\frac{2}{C}\\,\\int i_L\\,\\mathrm{d}t$$"
   ]
  },
  {
   "cell_type": "markdown",
   "id": "6988ebbc",
   "metadata": {},
   "source": [
    "$$ = 1.5Li_L' + \\frac{8R^2C+L}{2RC}\\,i_L + \\frac{2}{C}\\,\\int i_L\\,\\mathrm{d}t$$"
   ]
  },
  {
   "cell_type": "markdown",
   "id": "74ba9057",
   "metadata": {},
   "source": [
    "$$ 1.5Li_L'' + \\frac{8R^2C + L}{2RC}\\,i_L' + \\frac{2}{C}\\,i_L = 0$$"
   ]
  },
  {
   "cell_type": "markdown",
   "id": "a26bbd5f",
   "metadata": {},
   "source": [
    "\\begin{equation}\\tag{14.5}\n",
    "    3RLCi_L'' + \\big(8R^2C+L\\big)i_L' + 4Ri_L = 0\n",
    "\\end{equation}    "
   ]
  },
  {
   "cell_type": "code",
   "execution_count": 15,
   "id": "44498bfb",
   "metadata": {},
   "outputs": [
    {
     "data": {
      "text/plain": [
       "0.9968006399999999"
      ]
     },
     "execution_count": 15,
     "metadata": {},
     "output_type": "execute_result"
    }
   ],
   "source": [
    "E = 10; R = 10; L = 1; C=1e-6\n",
    "(8*R**2*C + L)**2 - 4*4*3*R**2*L*C"
   ]
  },
  {
   "cell_type": "markdown",
   "id": "10bba693",
   "metadata": {},
   "source": [
    "The general solution to equation (14.5) is:  \n",
    "\n",
    "\\begin{equation}\\tag{14.6}\n",
    "    i_L = i_L(t) = Ae^{m_1 t} + Be^{m_2t}\n",
    "\\end{equation}    "
   ]
  },
  {
   "cell_type": "markdown",
   "id": "6c5eaf6e",
   "metadata": {},
   "source": [
    "Regardless of the value of the arbitrary constants $A$ and $B$, under steady-state conditions,  \n",
    "\n",
    "\\begin{equation}\\tag{14.7}\n",
    "    I_{L\\infty} = 0\n",
    "\\end{equation}    "
   ]
  },
  {
   "cell_type": "markdown",
   "id": "eac72a49",
   "metadata": {},
   "source": [
    "Via equation (14.6) and the assumption that $I_{L0}=0$,  \n",
    "\n",
    "\\begin{equation}\\tag{14.6a}\n",
    "    A = -B\n",
    "\\end{equation}    "
   ]
  },
  {
   "cell_type": "markdown",
   "id": "1c59c8dd",
   "metadata": {},
   "source": [
    "Via KVL, Ohm's Law, KCL, and the assumption that $I_{L0}=0$ and $U_{C0}=0$,  \n",
    "\n",
    "$$ E = 3RI_0$$"
   ]
  },
  {
   "cell_type": "markdown",
   "id": "c75aebf9",
   "metadata": {},
   "source": [
    "$$ I_0 = \\frac{E}{3R}$$"
   ]
  },
  {
   "cell_type": "markdown",
   "id": "6a201128",
   "metadata": {},
   "source": [
    "And, via the above equation, KVL, and element equations,  \n",
    "\n",
    "$$ u_L(0) = Li_L'(0) = m_1A + m_2B = 2RI_0 = \\frac{2}{3}\\,E$$"
   ]
  },
  {
   "cell_type": "markdown",
   "id": "c1e639c8",
   "metadata": {},
   "source": [
    "$$ A(m_1-m_2) = \\frac{2}{3}\\,E$$"
   ]
  },
  {
   "cell_type": "markdown",
   "id": "d23d6ae7",
   "metadata": {},
   "source": [
    "\\begin{equation}\\tag{14.6b}\n",
    "    A = \\frac{2E}{3(m_1-m_2)}\n",
    "\\end{equation}    "
   ]
  },
  {
   "cell_type": "code",
   "execution_count": 16,
   "id": "aa88214d",
   "metadata": {},
   "outputs": [
    {
     "data": {
      "text/plain": [
       "(3.0012019236556975e-05, 0.024989987980763514)"
      ]
     },
     "execution_count": 16,
     "metadata": {},
     "output_type": "execute_result"
    }
   ],
   "source": [
    "a = 3*R*L*C\n",
    "b = 8*R**2*C + L\n",
    "c = 4*R\n",
    "\n",
    "m_1 = (-b-np.sqrt(b**2-4*a*c))/(2*a)\n",
    "m_2 = (-b+np.sqrt(b**2-4*a*c))/(2*a)\n",
    "(-1/m_1, -1/m_2)"
   ]
  },
  {
   "cell_type": "markdown",
   "id": "e8f4b087",
   "metadata": {},
   "source": [
    "The specific solution to equation (14.5) is:  \n",
    "\n",
    "\\begin{equation}\\tag{14.8}\n",
    "    i_L = i_L(t) = \\frac{2E}{3(m_1-m_2)}\\,\\big(e^{m_1t} - e^{m_2t}\\big)\n",
    "\\end{equation}    "
   ]
  },
  {
   "cell_type": "markdown",
   "id": "7e173954",
   "metadata": {},
   "source": [
    "Via equations (14.3) and (14.8),  \n",
    "\n",
    "$$ i = i(t) = \\frac{4E}{3(m_1-m_2)}\\,\\big(e^{m_1t} - e^{m_2t}\\big) +  \\frac{L}{2R}\\,\\frac{2E}{3(m_1-m_2)}\\,\\big(m_1e^{m_1t}-m_2e^{m_2t}\\big)$$"
   ]
  },
  {
   "cell_type": "markdown",
   "id": "75df8e93",
   "metadata": {},
   "source": [
    "$$ \\int i\\,\\mathrm{d}t = \\frac{4E}{3(m_1-m_2)}\\,\\left(\\frac{e^{m_1t}}{m_1}-\\frac{e^{m_2t}}{m_2}\\right) + \\frac{L}{6R}\\,\\frac{2E}{m_1-m_2}\\,\\big(e^{m_1t}-e^{m_2t}\\big) + c$$"
   ]
  },
  {
   "cell_type": "markdown",
   "id": "82bf89f8",
   "metadata": {},
   "source": [
    "$$ u_C = u_C(t) = \\frac{1}{C}\\,\\int_0^t i\\,\\mathrm{d}t = \\frac{1}{C}\\,\\left( \\frac{4E}{3(m_1-m_2)}\\,\\left(\\frac{e^{m_1t}}{m_1}-\\frac{e^{m_2t}}{m_2}\\right) + \\frac{L}{6R}\\,\\frac{2E}{m_1-m_2}\\,\\big(e^{m_1t}-e^{m_2t}\\big) - \\frac{4E}{3(m_1-m_2)}\\,\\left(\\frac{1}{m_1}-\\frac{1}{m_2}\\right)\\right)$$"
   ]
  },
  {
   "cell_type": "markdown",
   "id": "4c13a416",
   "metadata": {},
   "source": [
    "Thus,  \n",
    "\n",
    "$$ U_{C\\infty} = \\frac{4E}{3C(m_2-m_1)}\\,\\frac{m_2-m_1}{m_1m_2} = \\frac{4E}{3Cm_1m_2} = E$$"
   ]
  },
  {
   "cell_type": "code",
   "execution_count": 17,
   "id": "6d741e09",
   "metadata": {},
   "outputs": [
    {
     "data": {
      "text/plain": [
       "10.000000000000027"
      ]
     },
     "execution_count": 17,
     "metadata": {},
     "output_type": "execute_result"
    }
   ],
   "source": [
    "U_C0 = 4*E/(3*C*m_1*m_2)\n",
    "U_C0"
   ]
  },
  {
   "cell_type": "markdown",
   "id": "a7f0b09a",
   "metadata": {},
   "source": [
    "After the switch opens -- i.e. when $t \\ge 0$ -- the capacitor maintains it's stored energy in the form of voltage, since the mesh it rests on is open-circuited, implying no change in charge can occur."
   ]
  },
  {
   "cell_type": "markdown",
   "id": "c85c058d",
   "metadata": {},
   "source": [
    "$$ u = E - U_{C\\infty} = 0$$"
   ]
  },
  {
   "cell_type": "markdown",
   "id": "65c3fcb5",
   "metadata": {},
   "source": [
    "#### Problem 15\n",
    "15. The switch is thrown at $t=0$ . Compute the energy stored in each capacitor at $t=\\infty$.  Sketch $u_C$.  \n",
    "\n",
    "![Fig-P.3.2.15](Figures/Fig-P.3.2.15.svg)"
   ]
  },
  {
   "cell_type": "markdown",
   "id": "fe28b833",
   "metadata": {},
   "source": [
    "Let $C$ be defined as:  \n",
    "\n",
    "$$ C := \\frac{C_1C_2}{C_1+C_2}$$"
   ]
  },
  {
   "cell_type": "markdown",
   "id": "7370142a",
   "metadata": {},
   "source": [
    "Via KVL and element equations:  \n",
    "\n",
    "\\begin{equation}\\tag{15.1}\n",
    "    E = Ri + \\frac{1}{C}\\,\\int i\\,\\mathrm{d}t\n",
    "\\end{equation}    "
   ]
  },
  {
   "cell_type": "markdown",
   "id": "d713ee63",
   "metadata": {},
   "source": [
    "\\begin{equation}\\tag{15.2}\n",
    "    Ri' + \\frac{1}{C}\\,i = 0\n",
    "\\end{equation}    "
   ]
  },
  {
   "cell_type": "markdown",
   "id": "b8abcd4d",
   "metadata": {},
   "source": [
    "The general solution to equation (15.2) is:  \n",
    "\n",
    "\\begin{equation}\\tag{15.3}\n",
    "    i = i(t) = Ae^{m t}\\quad\\quad\\text{where }\\;Rm + \\frac{1}{C}=0\n",
    "\\end{equation}    "
   ]
  },
  {
   "cell_type": "markdown",
   "id": "33fce319",
   "metadata": {},
   "source": [
    "\\begin{equation}\\tag{15.3a}\n",
    "    m = -\\frac{1}{RC}\n",
    "\\end{equation}    "
   ]
  },
  {
   "cell_type": "markdown",
   "id": "ab52c9e0",
   "metadata": {},
   "source": [
    "To solve for $A$ we will use the IVP of $U_{R0}=u_R(0) = Ri(0) = E$.  \n",
    "\n",
    "\\begin{equation}\\tag{15.3b}\n",
    "    i(0) = A = \\frac{E}{R}\n",
    "\\end{equation}"
   ]
  },
  {
   "cell_type": "markdown",
   "id": "fda29e67",
   "metadata": {},
   "source": [
    "The specific solution to equation (15.2) is:  \n",
    "\n",
    "\\begin{equation}\\tag{15.4}\n",
    "    i = i(t) = \\frac{E}{R}\\,e^{mt}\n",
    "\\end{equation}    "
   ]
  },
  {
   "cell_type": "markdown",
   "id": "f899b13a",
   "metadata": {},
   "source": [
    "$$ \\int i\\,\\mathrm{d}t = \\frac{E}{mR}\\,e^{m t} + c = - ECe^{m t} + c$$"
   ]
  },
  {
   "cell_type": "markdown",
   "id": "7bfeea88",
   "metadata": {},
   "source": [
    "\\begin{equation}\\tag{15.5}\n",
    "    u = u(t) = \\frac{1}{C_1}\\,\\int_0^t i\\,\\mathrm{d}t = \\quad\\quad\\text{and}\\quad\\quad u_C = u_C(t) = \\frac{1}{C_2}\\,\\int_0^t i\\,\\mathrm{d}t\n",
    "\\end{equation}    "
   ]
  },
  {
   "cell_type": "markdown",
   "id": "6398e660",
   "metadata": {},
   "source": [
    "Note that '$u$' denotes the voltage running across $C_1$."
   ]
  },
  {
   "cell_type": "markdown",
   "id": "52fea5eb",
   "metadata": {},
   "source": [
    "\\begin{equation}\\tag{15.5a}\n",
    "    u = u(t) = -\\frac{EC}{C_1}\\,\\big(e^{mt} - 1\\big) = \\frac{EC}{C_1}\\,\\big(1-e^{m t}\\big) = \\frac{EC_2}{C_1+C_2}\\,\\big(1-e^{mt}\\big)\n",
    "\\end{equation}    "
   ]
  },
  {
   "cell_type": "markdown",
   "id": "28767182",
   "metadata": {},
   "source": [
    "\\begin{equation}\\tag{15.5b}\n",
    "    u_C = u_C(t) = \\frac{EC_1}{C_1+C_2}\\,\\big(1-e^{mt}\\big)\n",
    "\\end{equation}    "
   ]
  },
  {
   "cell_type": "code",
   "execution_count": 18,
   "id": "195cccf9",
   "metadata": {},
   "outputs": [],
   "source": [
    "E=12; R=10; C_1 = 4e-6; C_2=6e-6"
   ]
  },
  {
   "cell_type": "markdown",
   "id": "1d7daf4f",
   "metadata": {},
   "source": [
    "The energy stored in each capacitor is given by:  \n",
    "\n",
    "\\begin{equation}\\tag{15.6}\n",
    "    w = w(t) = \\int_0^t iu\\,\\mathrm{d}t = C_1\\,\\int_0^tu\\,\\mathrm{d}u = 0.5C_1u^2 \\quad\\quad \\text{and}\\quad\\quad w_C = w_C(t) = C_2\\,\\int_0^t u_C\\,\\mathrm{d}u_C = 0.5C_2u_C^2\n",
    "\\end{equation}    "
   ]
  },
  {
   "cell_type": "markdown",
   "id": "7a99ebf0",
   "metadata": {},
   "source": [
    "Finally,  \n",
    "\n",
    "\\begin{equation}\\tag{15.7}\n",
    "    W_\\infty = 0.5C_1\\,\\frac{E^2C_2^2}{(C_1+C_2)^2} \\approxeq 103.68\\mu\\mathrm{J}\\quad\\quad\\text{and}\\quad\\quad W_{C\\infty} = 0.5C_2\\,\\frac{E^2C_1^2}{(C_1+C_2)^2} \\approxeq 69.12\\mu\\mathrm{J}\n",
    "\\end{equation}    "
   ]
  },
  {
   "cell_type": "code",
   "execution_count": 19,
   "id": "02c5438f",
   "metadata": {},
   "outputs": [
    {
     "data": {
      "text/plain": [
       "(103.68000000000004, 69.12000000000002)"
      ]
     },
     "execution_count": 19,
     "metadata": {},
     "output_type": "execute_result"
    }
   ],
   "source": [
    "W_infty = 0.5*C_1*E**2*C_2**2/(C_1+C_2)**2\n",
    "W_Cinfty = 0.5*C_2*E**2*C_1**2/(C_1+C_2)**2\n",
    "(W_infty*1e6, W_Cinfty*1e6)"
   ]
  },
  {
   "cell_type": "markdown",
   "id": "4fb9883f",
   "metadata": {},
   "source": [
    "Differentiating throughout equation (15.5) gives:  \n",
    "\n",
    "$$ i = C_1\\,\\frac{\\mathrm{d}u}{\\mathrm{d}t} \\quad\\quad\\text{and}\\quad\\quad i = C_2\\,\\frac{\\mathrm{d}u_C}{\\mathrm{d}t}$$"
   ]
  },
  {
   "cell_type": "markdown",
   "id": "630e246d",
   "metadata": {},
   "source": [
    "#### Problem 16\n",
    "16. The switch is thrown at $t=0$. Compute the energy stored in each inductor at $t=\\infty$.  Sketch $i_{L_2}$.  \n",
    "\n",
    "![Fig-P.3.2.16](Figures/Fig-P.3.2.16.png)"
   ]
  },
  {
   "cell_type": "markdown",
   "id": "090cdb79",
   "metadata": {},
   "source": [
    "Let $i_2:=i_{L_2}$.  \n",
    "\n",
    "After the switch is closed, via KVL and element equations,  \n",
    "\n",
    "\\begin{equation}\\tag{16.1}\n",
    "    \\text{a: }\\;E = Ri + L_2i_2'\\quad\\quad\\text{and}\\quad\\quad \\text{b: }\\;L_2i_2' = L_1i_1'\n",
    "\\end{equation}    "
   ]
  },
  {
   "cell_type": "markdown",
   "id": "a763ca6f",
   "metadata": {},
   "source": [
    "Note that '$i_1$' denotes the current flowing through $L_1$.  \n",
    "\n",
    "Via KVL,  \n",
    "\n",
    "\\begin{equation}\\tag{16.2}\n",
    "    i = i_1+ i_2\n",
    "\\end{equation}    "
   ]
  },
  {
   "cell_type": "markdown",
   "id": "b1c713fb",
   "metadata": {},
   "source": [
    "In terms of voltage, via KVL,  \n",
    "\n",
    "\\begin{equation}\\tag{16.3}\n",
    "    \\text{a: }\\;E = u_R + u_2 \\quad\\quad\\text{and}\\quad\\quad\\text{b: }\\;u_2=u_1\n",
    "\\end{equation}    "
   ]
  },
  {
   "cell_type": "markdown",
   "id": "2bb24031",
   "metadata": {},
   "source": [
    "Via element equations,  \n",
    "\n",
    "\\begin{equation}\\tag{16.4}\n",
    "    \\text{a: }\\; i = \\frac{u_R}{R} \\quad\\quad\\text{b: }\\;i_1 = \\frac{1}{L_1}\\,\\int_0^t u_1\\,\\mathrm{d}t\\quad\\quad\\text{c: }\\; i_2=\\frac{1}{L_2}\\,\\int_0^t u_2\\,\\mathrm{d}t\n",
    "\\end{equation}    "
   ]
  },
  {
   "cell_type": "markdown",
   "id": "733b7793",
   "metadata": {},
   "source": [
    "And, via equations (16.4) and (16.2),  \n",
    "\n",
    "\\begin{equation}\\tag{16.5}\n",
    "    \\frac{u_R}{R} = \\frac{1}{L_1}\\,\\int_0^t u_1\\,\\mathrm{d}t + \\frac{1}{L_2}\\,\\int_0^t u_2\\,\\mathrm{d}t\n",
    "\\end{equation}"
   ]
  },
  {
   "cell_type": "markdown",
   "id": "e3bd53ff",
   "metadata": {},
   "source": [
    "Via equations (16.5) and (16.3b),  \n",
    "\n",
    "\\begin{equation}\\tag{16.6}\n",
    "    \\frac{u_R}{R} = \\frac{1}{L_1}\\,\\int_0^t u_2\\,\\mathrm{d}t + \\frac{1}{L_2}\\,\\int_0^t u_2\\,\\mathrm{d}t = \\left(\\frac{1}{L_1}+\\frac{1}{L_2}\\right)\\,\\int_0^t u_2\\,\\mathrm{d}t = \\frac{L_1+L_2}{L_1L_2}\\,\\int_0^t u_2\\,\\mathrm{d}t\n",
    "\\end{equation}"
   ]
  },
  {
   "cell_type": "markdown",
   "id": "8ee466c7",
   "metadata": {},
   "source": [
    "And, via equations (16.6) and (16.3a),  \n",
    "\n",
    "\\begin{equation}\\tag{16.7}\n",
    "    u_2 + R\\,\\frac{L_1+L_2}{L_1L_2}\\,\\int_0^t u_2\\,\\mathrm{d}t = E\n",
    "\\end{equation}    "
   ]
  },
  {
   "cell_type": "markdown",
   "id": "fd539318",
   "metadata": {},
   "source": [
    "Differentiating throughout equation (16.7) with respect to time gives:  \n",
    "\n",
    "\\begin{equation}\\tag{16.8}\n",
    "    u_2' + R\\,\\frac{L_1+L_2}{L_1L_2}\\,u_2 = 0\n",
    "\\end{equation}    "
   ]
  },
  {
   "cell_type": "markdown",
   "id": "e0782c16",
   "metadata": {},
   "source": [
    "The general solution to equation (16.8) is:  \n",
    "\n",
    "\\begin{equation}\\tag{16.9}\n",
    "    u_2 = u_2(t) = Ae^{m t}\\quad\\quad\\text{where }\\;m + R\\,\\frac{L_1+L_2}{L_1L_2} = 0\n",
    "\\end{equation}    "
   ]
  },
  {
   "cell_type": "markdown",
   "id": "a0d58819",
   "metadata": {},
   "source": [
    "\\begin{equation}\\tag{16.9b}\n",
    "    m = -R\\,\\frac{L_1+L_2}{L_1L_2}\n",
    "\\end{equation}    "
   ]
  },
  {
   "cell_type": "markdown",
   "id": "f02a7e18",
   "metadata": {},
   "source": [
    "Via the fact that $i(0) = i_1(0) + i_2(0) = 0$, KVL, and Ohm's Law,  \n",
    "\n",
    "\\begin{equation}\\tag{16.9a}\n",
    "    u_2(0) = A = E\n",
    "\\end{equation}    "
   ]
  },
  {
   "cell_type": "markdown",
   "id": "e79ce5dd",
   "metadata": {},
   "source": [
    "Thus, the specific solution to equation (16.8) is:  \n",
    "\n",
    "\\begin{equation}\\tag{16.10}\n",
    "    u_2 = u_2(t) = Ee^{mt}\n",
    "\\end{equation}    "
   ]
  },
  {
   "cell_type": "markdown",
   "id": "8cef894a",
   "metadata": {},
   "source": [
    "The primtive integral of $u_2(t)$ is:  \n",
    "\n",
    "\\begin{equation}\\tag{16.11}\n",
    "    \\int u_2\\,\\mathrm{d}t = \\frac{E}{m}\\,e^{mt} + c\n",
    "\\end{equation}    "
   ]
  },
  {
   "cell_type": "markdown",
   "id": "425e9929",
   "metadata": {},
   "source": [
    "Via equations (16.11) and (16.4c),  \n",
    "\n",
    "\\begin{equation}\\tag{16.12}\n",
    "    i_2 = i_2(t) = \\frac{E}{mL_2}\\,\\big(e^{mt} - 1\\big) = \\frac{EL_1}{R(L_1+L_2)}\\,\\big(1-e^{mt}\\big)\n",
    "\\end{equation}"
   ]
  },
  {
   "cell_type": "markdown",
   "id": "cdb359ce",
   "metadata": {},
   "source": [
    "The energy stored in each inductor is:  \n",
    "\n",
    "\\begin{equation}\\tag{16.13}\n",
    "    \\text{a: }\\;w_1=w_1(t) = \\int_0^t u_1i_1\\,\\mathrm{d}t  = L_1\\,\\int_0^t i_1\\,\\mathrm{d}i_1 \\quad\\quad \\text{and}\\quad\\quad\\text{b: }\\;w_2=w_2(t) = L_2\\,\\int_0^t i_2\\,\\mathrm{d}i_2 = 0.5L_2i_2^2\n",
    "\\end{equation}    "
   ]
  },
  {
   "cell_type": "markdown",
   "id": "563445be",
   "metadata": {},
   "source": [
    "$$ \\int i_2\\,\\mathrm{d}i_2 = 0.5i_2^2 $$"
   ]
  },
  {
   "cell_type": "markdown",
   "id": "a72d3853",
   "metadata": {},
   "source": [
    "Via equations (16.11), (16.4b), and (16.3b),  \n",
    "\n",
    "\\begin{equation}\\tag{16.14}\n",
    "    i_1=i_1(t) = \\frac{E}{mL_1}\\,\\big(e^{mt} - 1\\big) = \\frac{EL_2}{R(L_1+L_2)}\\,\\big(1-e^{mt}\\big)\n",
    "\\end{equation}    "
   ]
  },
  {
   "cell_type": "markdown",
   "id": "12c37c5c",
   "metadata": {},
   "source": [
    "Thus,  \n",
    "\n",
    "\\begin{equation}\\tag{16.13a}\n",
    "    w_1=w_1(t) = 0.5L_1i_1^2\n",
    "\\end{equation}    "
   ]
  },
  {
   "cell_type": "markdown",
   "id": "bc971947",
   "metadata": {},
   "source": [
    "Finally, under steady-state conditions,  \n",
    "\n",
    "\\begin{equation}\\tag{16.15}\n",
    "    W_{1\\infty} = 0.5L_1\\,\\left(\\frac{EL_2}{R(L_1+L_2)}\\right)^2 \\approxeq 1.037\\mathrm{mH}\\quad\\quad\\text{and}\\quad\\quad W_{2\\infty} =  0.5L_2\\left(\\frac{EL_2}{R(L_1+L_2)}\\right)^2\\approxeq 1.555\\mathrm{mH}\n",
    "\\end{equation}    "
   ]
  },
  {
   "cell_type": "code",
   "execution_count": 20,
   "id": "0a177313",
   "metadata": {},
   "outputs": [],
   "source": [
    "E=12; R=10; L_2=6e-3; L_1=4e-3"
   ]
  },
  {
   "cell_type": "code",
   "execution_count": 21,
   "id": "bc53dc39",
   "metadata": {},
   "outputs": [
    {
     "data": {
      "text/plain": [
       "(0.0010368000000000003, 0.0015552000000000003)"
      ]
     },
     "execution_count": 21,
     "metadata": {},
     "output_type": "execute_result"
    }
   ],
   "source": [
    "W_1 = 0.5*L_1*(E*L_2/(R*(L_1+L_2)))**2\n",
    "W_2 = 0.5*L_2*(E*L_2/(R*(L_1+L_2)))**2\n",
    "(W_1, W_2)"
   ]
  },
  {
   "cell_type": "markdown",
   "id": "cda46775",
   "metadata": {},
   "source": [
    "#### Problem 17\n",
    "17. Find $i(t)$ after the switch opens at $t=0$.  \n",
    "\n",
    "![Fig-P.3.2.17](Figures/Fig-P.3.2.17.svg)"
   ]
  },
  {
   "cell_type": "markdown",
   "id": "5ed61802",
   "metadata": {},
   "source": [
    "Let $E$, $R$, and $L$ be defined as:  \n",
    "\n",
    "$$ E:= 10\\mathrm{V}\\quad\\quad R:=5\\Omega \\quad\\quad L:= 0.5\\mathrm{H}$$"
   ]
  },
  {
   "cell_type": "markdown",
   "id": "0791807c",
   "metadata": {},
   "source": [
    "The IVP is:  \n",
    "\n",
    "\\begin{equation}\\tag{17.0}\n",
    "    I_0 = -\\frac{4E}{2R} = -2\\frac{E}{R} = -2EG\n",
    "\\end{equation}    "
   ]
  },
  {
   "cell_type": "markdown",
   "id": "6a299361",
   "metadata": {},
   "source": [
    "After the switch opens, via KVL and element equations,  \n",
    "\n",
    "$$ E = 2Ri + 4E + Li' + Ri$$"
   ]
  },
  {
   "cell_type": "markdown",
   "id": "4e3345d3",
   "metadata": {},
   "source": [
    "\\begin{equation}\\tag{17.1}\n",
    "    3Ri + Li' =-3E \n",
    "\\end{equation}    "
   ]
  },
  {
   "cell_type": "markdown",
   "id": "47f7166f",
   "metadata": {},
   "source": [
    "The general solution to equation (17.1) is:  \n",
    "\n",
    "\\begin{equation}\\tag{17.2}\n",
    "    i = i(t) =  Ae^{mt} -\\frac{E}{R} \\quad\\quad\\text{where }\\; Lm + 3R = 0\n",
    "\\end{equation}    "
   ]
  },
  {
   "cell_type": "markdown",
   "id": "8c5afb8f",
   "metadata": {},
   "source": [
    "\\begin{equation}\\tag{17.2b}\n",
    "    m = -\\frac{3R}{L}\n",
    "\\end{equation}    "
   ]
  },
  {
   "cell_type": "markdown",
   "id": "47155ae1",
   "metadata": {},
   "source": [
    "Via equations (17.2) and (17.0),  \n",
    "\n",
    "$$ i(0) = A-\\frac{E}{R} = -2\\frac{E}{R}$$"
   ]
  },
  {
   "cell_type": "markdown",
   "id": "10b63d64",
   "metadata": {},
   "source": [
    "\\begin{equation}\\tag{17.3}\n",
    "    A = -\\frac{E}{R}\n",
    "\\end{equation}    "
   ]
  },
  {
   "cell_type": "markdown",
   "id": "99d7cd29",
   "metadata": {},
   "source": [
    "The specific solution to equation (17.1) is, via equations (17.3) and (17.2),  \n",
    "\n",
    "\\begin{equation}\\tag{17.4}\n",
    "    i = i(t) = -\\frac{E}{R}\\,\\big(e^{mt}+1\\big)\n",
    "\\end{equation}    "
   ]
  },
  {
   "cell_type": "markdown",
   "id": "0ee7d3c5",
   "metadata": {},
   "source": [
    "#### Problem 18\n",
    "18. Find $u(t)$ after the switch opens at $t=0$.  \n",
    "\n",
    "![Fig-P.3.2.18](Figures/Fig-P.3.2.18.svg)"
   ]
  },
  {
   "cell_type": "markdown",
   "id": "3f1962dd",
   "metadata": {},
   "source": [
    "Let $E$, $R$, and $C$ be defined as:  \n",
    "\n",
    "$$ E := 10\\mathrm{V}\\quad\\quad R:=2\\Omega \\quad\\quad C:= 1\\mu\\mathrm{F}$$"
   ]
  },
  {
   "cell_type": "markdown",
   "id": "51d96444",
   "metadata": {},
   "source": [
    "Before the switch opens, under steady-state conditions, no current flows through the capacitor.  Via KVL and Ohm's Law,  \n",
    "\n",
    "\\begin{equation}\\tag{18.1a}\n",
    "    U_{C\\infty} = 2E - 2RI_\\infty\n",
    "\\end{equation}    "
   ]
  },
  {
   "cell_type": "markdown",
   "id": "223f7c76",
   "metadata": {},
   "source": [
    "and,\n",
    "$$ -3E + 2RI_\\infty + 3RI_\\infty = -3E + 5RI_\\infty = 0$$"
   ]
  },
  {
   "cell_type": "markdown",
   "id": "cd6f84e6",
   "metadata": {},
   "source": [
    "\\begin{equation}\\tag{18.1b}\n",
    "    5RI_\\infty = 3E\n",
    "\\end{equation}    "
   ]
  },
  {
   "cell_type": "markdown",
   "id": "9c72990d",
   "metadata": {},
   "source": [
    "Via equations (18.1),  \n",
    "\n",
    "\\begin{equation}\\tag{18.2}\n",
    "    U_{C\\infty} = U_\\infty = 2E - \\frac{6}{5}\\,E = E\\,\\left(2-\\frac{6}{5}\\right) = E\\,\\frac{4}{5}\n",
    "\\end{equation}    "
   ]
  },
  {
   "cell_type": "markdown",
   "id": "602aabd2",
   "metadata": {},
   "source": [
    "**After** the **switch opens**, the IVP is, via the notion that $U_0 = U_{0_-}$ and equation (18.2),  \n",
    "\n",
    "\\begin{equation}\\tag{18.3}\n",
    "    U_0 = E\\,\\frac{4}{5} = 0.8E= 8\\mathrm{V}\n",
    "\\end{equation}    "
   ]
  },
  {
   "cell_type": "markdown",
   "id": "7423e8de",
   "metadata": {},
   "source": [
    "Via KVL and element equations,  \n",
    "\n",
    "$$3Ri = E + u = E + \\frac{1}{C}\\,\\int_0^t i_C\\,\\mathrm{d}t + 0.8E = 1.8E - \\frac{1}{C}\\,\\int_0^t i\\,\\mathrm{d}t$$"
   ]
  },
  {
   "cell_type": "markdown",
   "id": "538645b9",
   "metadata": {},
   "source": [
    "\\begin{equation}\\tag{18.4}\n",
    "    3Ri + \\frac{1}{C}\\,\\int_0^t i\\,\\mathrm{d}t = 1.8E\n",
    "\\end{equation}    "
   ]
  },
  {
   "cell_type": "markdown",
   "id": "05320615",
   "metadata": {},
   "source": [
    "Differentiating throughout equation (18.4) gives:  \n",
    "\n",
    "\\begin{equation}\\tag{18.5}\n",
    "    3Ri' + \\frac{1}{C}\\,i = 0\n",
    "\\end{equation}    "
   ]
  },
  {
   "cell_type": "markdown",
   "id": "c7efb422",
   "metadata": {},
   "source": [
    "The general solution to equation (18.5) is:  \n",
    "\n",
    "\\begin{equation}\\tag{18.6}\n",
    "    i = i(t) = Ae^{mt}\\quad\\quad\\text{where }\\; 3Rm + \\frac{1}{C}=0\n",
    "\\end{equation}    "
   ]
  },
  {
   "cell_type": "markdown",
   "id": "49b48d58",
   "metadata": {},
   "source": [
    "\\begin{equation}\\tag{18.6b}\n",
    "    m = -\\frac{1}{3RC}\n",
    "\\end{equation}    "
   ]
  },
  {
   "cell_type": "markdown",
   "id": "2194bb25",
   "metadata": {},
   "source": [
    "The primtive integral of $i(t)$ is:  \n",
    "\n",
    "$$ \\int i \\,\\mathrm{d}t = \\frac{A}{m}\\,e^{mt}$$"
   ]
  },
  {
   "cell_type": "markdown",
   "id": "f9ea522d",
   "metadata": {},
   "source": [
    "The voltage running across the capacitor is given by:  \n",
    "\n",
    "$$ u = u(t) = U_0 - \\frac{1}{C}\\,\\int_0^t i\\,\\mathrm{d}t = 0.8E - \\frac{A}{mC}\\,\\big(e^{mt}-1\\big) = 0.8E + \\frac{A}{mC}\\,\\big(1-e^{mt}\\big)$$"
   ]
  },
  {
   "cell_type": "markdown",
   "id": "5bb3e4b1",
   "metadata": {},
   "source": [
    "\\begin{equation}\\tag{18.7}\n",
    "    u = u(t) = 0.8E - 3AR\\,\\big(1-e^{mt}\\big) = 0.8E + 3AR\\,\\big(e^{mt}-1\\big)\n",
    "\\end{equation}"
   ]
  },
  {
   "cell_type": "markdown",
   "id": "bc79ba12",
   "metadata": {},
   "source": [
    "Via the fact that $I_\\infty=0$, Ohm's Law and KVL,  \n",
    "\n",
    "\\begin{equation}\\tag{18.8}\n",
    "    U_\\infty = -E = -10\\mathrm{V}\n",
    "\\end{equation}    "
   ]
  },
  {
   "cell_type": "markdown",
   "id": "7143f760",
   "metadata": {},
   "source": [
    "And, via equations (18.8) and (18.7),  \n",
    "\n",
    "$$ 0.8E - 3AR = -E$$"
   ]
  },
  {
   "cell_type": "markdown",
   "id": "1e9486b4",
   "metadata": {},
   "source": [
    "$$ 3AR = 1.8E$$"
   ]
  },
  {
   "cell_type": "markdown",
   "id": "7177845f",
   "metadata": {},
   "source": [
    "\\begin{equation}\\tag{18.6a}\n",
    "    A = \\frac{1.8E}{3R} = \\frac{3E}{5R} = 0.6EG\n",
    "\\end{equation}    "
   ]
  },
  {
   "cell_type": "markdown",
   "id": "f35e627b",
   "metadata": {},
   "source": [
    "Finally, via equations (18.6a) and (18.7),  \n",
    "\n",
    "$$ u = u(t) = \\frac{4}{5}\\,E + \\frac{9}{5}\\,E\\,\\big(e^{mt}-1\\big) = \\frac{E}{5}\\,\\Big(4 + 9\\big(e^{mt}-1\\big)\\Big)$$"
   ]
  },
  {
   "cell_type": "markdown",
   "id": "86af2cc2",
   "metadata": {},
   "source": [
    "\\begin{equation}\\tag{18.9}\n",
    "    u = u(t) = \\frac{E}{5}\\,\\big(9e^{mt} - 5\\big)\n",
    "\\end{equation}    "
   ]
  },
  {
   "cell_type": "markdown",
   "id": "f591a3e4",
   "metadata": {},
   "source": [
    "#### Problem 19\n",
    "19. The switch opens at $t=0$ . Sketch $u(t)$ and  $u_C(t)$ for $J=2\\mathrm{A}$, $C=1\\mu\\mathrm{F}$, $L=0.5\\mathrm{H}$; and: a) $R_x=R=1000\\Omega$, b) $R_x = 2R$.  \n",
    "\n",
    "![Fig-P.3.2.19](Figures/Fig-P.3.2.19.png)"
   ]
  },
  {
   "cell_type": "code",
   "execution_count": 22,
   "id": "8101d0ce",
   "metadata": {},
   "outputs": [],
   "source": [
    "J = 2; C = 1e-6; L = 0.5; R = 1000"
   ]
  },
  {
   "cell_type": "markdown",
   "id": "316b54bf",
   "metadata": {},
   "source": [
    "Before the switch opens, we have only the forced response to consider.  The Thevenin equivalent of $J//R$ is:  \n",
    "\n",
    "\\begin{equation}\\tag{19.1}\n",
    "    u=u(t) = E - Ri\n",
    "\\end{equation}    "
   ]
  },
  {
   "cell_type": "markdown",
   "id": "5115dc8f",
   "metadata": {},
   "source": [
    "Where the open-circuit voltage, denoted as '$E$', is:  \n",
    "\n",
    "\\begin{equation}\\tag{19.1a}\n",
    "    E = JR\n",
    "\\end{equation}    "
   ]
  },
  {
   "cell_type": "markdown",
   "id": "ff5835a4",
   "metadata": {},
   "source": [
    "And, of course,  \n",
    "\n",
    "\\begin{equation}\\tag{19.1b}\n",
    "    i = i(t) = J - \\frac{u}{R}\n",
    "\\end{equation}    "
   ]
  },
  {
   "cell_type": "markdown",
   "id": "8112c02c",
   "metadata": {},
   "source": [
    "Via KVL and element equations,  \n",
    "\n",
    "\\begin{equation}\\tag{19.2}\n",
    "    \\text{a: }\\;E = Ri + Li_L' + Ri_R\\quad\\quad\\text{b: }\\;Li_L' = R_xi_x\\quad\\quad\\text{c: }\\;Ri_R = \\frac{1}{C}\\,\\int i_C\\,\\mathrm{d}t\n",
    "\\end{equation}    "
   ]
  },
  {
   "cell_type": "markdown",
   "id": "f1f3ba41",
   "metadata": {},
   "source": [
    "And, via KCL,  \n",
    "\n",
    "\\begin{equation}\\tag{19.3}\n",
    "    \\text{a: }\\; i = i_L + i_x\\quad\\quad\\text{and}\\quad\\quad\\text{b: }\\;i = i_R + i_C\n",
    "\\end{equation}    "
   ]
  },
  {
   "cell_type": "markdown",
   "id": "fb6d5e86",
   "metadata": {},
   "source": [
    "Transforming throughout equation (19.2) gives:  \n",
    "\n",
    "\\begin{equation}\\tag{19.4}\n",
    "    \\text{a: }\\;\\frac{E}{s} = RI(s) + sLI_L(s) + RI_R(s)\\quad\\quad\\text{b: }\\;sLI_L(s) = R_xI_x(s)\\quad\\quad\\text{c: }\\;RI_R(s) = \\frac{1}{sC}\\,I_C(s)\n",
    "\\end{equation}    "
   ]
  },
  {
   "cell_type": "markdown",
   "id": "8d27bd3b",
   "metadata": {},
   "source": [
    "And, tranforming throughout equation (19.3) gives:  \n",
    "\n",
    "\\begin{equation}\\tag{19.5}\n",
    "    \\text{a: }\\;I(s) = I_L(s) + I_x(s)\\quad\\quad\\text{and}\\quad\\quad\\text{b: }\\;I(s) = I_R(s) + I_C(s)\n",
    "\\end{equation}    "
   ]
  },
  {
   "cell_type": "markdown",
   "id": "53d4e80c",
   "metadata": {},
   "source": [
    "Via equations (19.4b) and (19.5a),  \n",
    "\n",
    "\\begin{equation}\\tag{19.6}\n",
    "    I(s) = I_L(s) + s\\frac{L}{R_x}\\,I_L(s) = I_L(s)\\,\\left(1+s\\frac{L}{R_x}\\right) = I_L(s)\\,\\frac{R_x+sL}{R_x}\n",
    "\\end{equation}    "
   ]
  },
  {
   "cell_type": "markdown",
   "id": "e6cca459",
   "metadata": {},
   "source": [
    "And, via equations (19.4c) and (19.5b),  \n",
    "\n",
    "\\begin{equation}\\tag{19.7}\n",
    "    I(s) = \\frac{1}{sRC}\\,I_C(s) + I_C(s) = I_C(s)\\,\\left(\\frac{1}{sRC} + 1\\right) = I_C(s)\\,\\frac{1+sRC}{sRC}\n",
    "\\end{equation}    "
   ]
  },
  {
   "cell_type": "markdown",
   "id": "26551136",
   "metadata": {},
   "source": [
    "Via equations (19.4a,c) and (19.6),  \n",
    "\n",
    "\\begin{equation}\\tag{19.8}\n",
    "    \\frac{E}{s} = \\frac{R_x+sL}{R_x}\\,RI_L(s)+ sLI_L(s) + \\frac{1}{sC}\\,I_C(s)\n",
    "\\end{equation}    "
   ]
  },
  {
   "cell_type": "markdown",
   "id": "8fe45c82",
   "metadata": {},
   "source": [
    "And, via equations (19.6) and (19.7) and equivalence principle,  \n",
    "\n",
    "$$ I_C(s)\\,\\frac{1+sRC}{sRC} = I_L(s)\\,\\frac{R_x+sL}{R_x}$$"
   ]
  },
  {
   "cell_type": "markdown",
   "id": "2433bff4",
   "metadata": {},
   "source": [
    "\\begin{equation}\\tag{19.9}\n",
    "    I_C(s) = I_L(s)\\,\\frac{sRC(R_x+sL)}{R_x(1+sRC)}\n",
    "\\end{equation}    "
   ]
  },
  {
   "cell_type": "markdown",
   "id": "a36926ba",
   "metadata": {},
   "source": [
    "Via equations (19.9) and (19.8),  \n",
    "\n",
    "$$\\frac{E}{s} = \\frac{R_x+sL}{R_x}\\,RI_L(s)+ sLI_L(s) + \\frac{R(R_x+sL)}{R_x(1+sRC)}\\,I_L(s) $$"
   ]
  },
  {
   "cell_type": "markdown",
   "id": "f9d43a95",
   "metadata": {},
   "source": [
    "$$ \\frac{E}{s} = I_L(s)\\,\\frac{(R_x+sL)(1+sRC)R + sLR_x(1+sRC) + R(R_x+sL)}{R_x(1+sRC)}$$"
   ]
  },
  {
   "cell_type": "markdown",
   "id": "55c8e164",
   "metadata": {},
   "source": [
    "$$ \\frac{E}{s}= I_L(s)\\,\\frac{R^2LCs^2 + RLCR_xs^2 + 2sRL + sR^2R_xC + sLR_x + 2R_xR}{R_x(1+sRC)}$$"
   ]
  },
  {
   "cell_type": "code",
   "execution_count": 23,
   "id": "1519393c",
   "metadata": {},
   "outputs": [],
   "source": [
    "import sympy as sp"
   ]
  },
  {
   "cell_type": "code",
   "execution_count": 24,
   "id": "40f84a00",
   "metadata": {},
   "outputs": [
    {
     "data": {
      "text/latex": [
       "$\\displaystyle 1.0 s^{2} + 2500.0 s + 2000000$"
      ],
      "text/plain": [
       "1.0*s**2 + 2500.0*s + 2000000"
      ]
     },
     "execution_count": 24,
     "metadata": {},
     "output_type": "execute_result"
    }
   ],
   "source": [
    "s, R_x = sp.symbols('s R_x')\n",
    "n = R**2*L*C*s**2 + R*L*C*R_x*s**2 + 2*R*L*s + R**2*R_x*C*s + s*L*R_x + 2*R_x*R\n",
    "d = R_x*(1+s*R*C)\n",
    "n.subs(R_x, R)"
   ]
  },
  {
   "cell_type": "code",
   "execution_count": 25,
   "id": "e0be3294",
   "metadata": {},
   "outputs": [
    {
     "data": {
      "text/latex": [
       "$\\displaystyle s + 1000$"
      ],
      "text/plain": [
       "s + 1000"
      ]
     },
     "execution_count": 25,
     "metadata": {},
     "output_type": "execute_result"
    }
   ],
   "source": [
    "d.subs(R_x, R)"
   ]
  },
  {
   "cell_type": "markdown",
   "id": "ff4cdd5c",
   "metadata": {},
   "source": [
    "Thus, in the case of **a)** $R_x=R$,  \n",
    "\n",
    "\\begin{equation}\\tag{19.10}\n",
    "    I_L(s) = E\\,\\frac{s+1000}{s\\big(s^2+2500s + 2\\cdot10^6\\big)}\n",
    "\\end{equation}    "
   ]
  },
  {
   "cell_type": "markdown",
   "id": "c94c4b43",
   "metadata": {},
   "source": [
    "To find the inverse tranform of $I_L(s)$ we will use the partial fraction method.\n",
    "\n",
    "$$ I_L(s) = E\\,\\left(\\frac{A}{s} + \\frac{Bs + D}{s^2+2500s + 2\\cdot10^6} \\right)$$"
   ]
  },
  {
   "cell_type": "markdown",
   "id": "a9768976",
   "metadata": {},
   "source": [
    "where,\n",
    "$$ A\\big(s^2+2500s + 2\\cdot10^6\\big) + s(Bs+D) = s+1000$$"
   ]
  },
  {
   "cell_type": "markdown",
   "id": "8e906726",
   "metadata": {},
   "source": [
    "$$ 2\\cdot10^6A=1000$$"
   ]
  },
  {
   "cell_type": "markdown",
   "id": "6b7856ae",
   "metadata": {},
   "source": [
    "\\begin{equation}\\tag{19.10a}\n",
    "    A = 0.5\\cdot10^{-6}10^3 = 0.5\\cdot10^{-3}\n",
    "\\end{equation}    "
   ]
  },
  {
   "cell_type": "markdown",
   "id": "031d60f4",
   "metadata": {},
   "source": [
    "$$ A+B = 0$$"
   ]
  },
  {
   "cell_type": "markdown",
   "id": "c62a8fab",
   "metadata": {},
   "source": [
    "\\begin{equation}\\tag{19.10b}\n",
    "    B = -A = -0.5\\cdot10^{-3}\n",
    "\\end{equation}    "
   ]
  },
  {
   "cell_type": "markdown",
   "id": "359d2698",
   "metadata": {},
   "source": [
    "$$ 2500A + D = 1$$"
   ]
  },
  {
   "cell_type": "markdown",
   "id": "72b2c205",
   "metadata": {},
   "source": [
    "\\begin{equation}\\tag{19.10c}\n",
    "    D = 1-2500A = 1-2.5\\cdot10^3 0.5\\cdot10^{-3} = 1-\\frac{5}{4} = -0.25\n",
    "\\end{equation}    "
   ]
  },
  {
   "cell_type": "markdown",
   "id": "fdb106a7",
   "metadata": {},
   "source": [
    "Equation (19.10) can be rewritten as:  \n",
    "\n",
    "\\begin{equation}\\tag{19.10}\n",
    "    I_L(s) = E\\,\\left(\\frac{1}{2000s} - \\frac{0.5\\cdot10^{-3}s + 0.25}{s^2+2500s + 2\\cdot10^6}\\right)\n",
    "\\end{equation}    "
   ]
  },
  {
   "cell_type": "markdown",
   "id": "a0b4aa8b",
   "metadata": {},
   "source": [
    "To find the inverse transform of the term with a second degree polynomial in terms of $s$ as a denominator, we must complete the square of said polynomial, and, in doing so, find $a$ and $\\omega$ such that:  \n",
    "\n",
    "$$ (s-a)^2 + \\omega = s^2 -2as + a^2 + \\omega = s^2+2500s + 2\\cdot10^6$$"
   ]
  },
  {
   "cell_type": "markdown",
   "id": "304bab18",
   "metadata": {},
   "source": [
    "Thus,\n",
    "$$ -2a = 2500$$"
   ]
  },
  {
   "cell_type": "markdown",
   "id": "57f79c98",
   "metadata": {},
   "source": [
    "\\begin{equation}\\tag{19.11a}\n",
    "    a = - 1250\n",
    "\\end{equation}    "
   ]
  },
  {
   "cell_type": "markdown",
   "id": "d5116192",
   "metadata": {},
   "source": [
    "and,\n",
    "$$ a^2 + \\omega = 2\\cdot10^6$$"
   ]
  },
  {
   "cell_type": "markdown",
   "id": "cfc8ab68",
   "metadata": {},
   "source": [
    "\\begin{equation}\\tag{19.11b}\n",
    "    \\omega = 2\\cdot10^6 - a^2 = 437.5\\cdot10^3\n",
    "\\end{equation}    "
   ]
  },
  {
   "cell_type": "markdown",
   "id": "d019ba91",
   "metadata": {},
   "source": [
    "Under steady-state conditions, via equations (19.11a) and (19.11),  \n",
    "\n",
    "\\begin{equation}\\tag{19.12}\n",
    "    \\text{a: }\\;I_{L\\infty} = 0.5E\\cdot10^{-3}\\Omega^{-1} = 1\\mathrm{A}\n",
    "    \\quad\\quad\\text{b: }\\;U_{L\\infty} = 0\n",
    "\\end{equation}"
   ]
  },
  {
   "cell_type": "code",
   "execution_count": 26,
   "id": "ea203715",
   "metadata": {},
   "outputs": [
    {
     "data": {
      "text/plain": [
       "1.0"
      ]
     },
     "execution_count": 26,
     "metadata": {},
     "output_type": "execute_result"
    }
   ],
   "source": [
    "E = J*R\n",
    "I_Linf = E*0.5e-3\n",
    "I_Linf"
   ]
  },
  {
   "cell_type": "markdown",
   "id": "459be0a6",
   "metadata": {},
   "source": [
    "Which means that, $U_\\infty = R(J-I_{L\\infty}) = 1000\\Omega\\,1\\mathrm{A} = 1000\\mathrm{V}$.  Via equations (19.2b) and KVL,  \n",
    "\n",
    "\\begin{equation}\\tag{19.13}\n",
    "    U_{C\\infty} = U_\\infty = 1000\\mathrm{V}\n",
    "\\end{equation}    "
   ]
  },
  {
   "cell_type": "markdown",
   "id": "bcfb989d",
   "metadata": {},
   "source": [
    "In the case of **b)** $R_x=2R$,  \n",
    "\n",
    "$$ I_L(s) = 2E\\,\\frac{s+1000}{s\\big(1.5s^2 + 4000s + 4\\cdot10^6 \\big)}$$"
   ]
  },
  {
   "cell_type": "markdown",
   "id": "82dd87e9",
   "metadata": {},
   "source": [
    "\\begin{equation}\\tag{19.14}\n",
    "    I_L(s) = \\frac{3E}{4}\\,\\frac{s+1000}{s\\big(s^2 + 4\\cdot3^{-1}10^{3}s + 4\\cdot3^{-1}10^{6}\\big)}\n",
    "\\end{equation}    "
   ]
  },
  {
   "cell_type": "code",
   "execution_count": 27,
   "id": "a9cc7cd4",
   "metadata": {},
   "outputs": [
    {
     "data": {
      "text/latex": [
       "$\\displaystyle 1.5 s^{2} + 4000.0 s + 4000000$"
      ],
      "text/plain": [
       "1.5*s**2 + 4000.0*s + 4000000"
      ]
     },
     "execution_count": 27,
     "metadata": {},
     "output_type": "execute_result"
    }
   ],
   "source": [
    "n.subs(R_x, 2*R)"
   ]
  },
  {
   "cell_type": "code",
   "execution_count": 28,
   "id": "1f86bb6f",
   "metadata": {},
   "outputs": [
    {
     "data": {
      "text/latex": [
       "$\\displaystyle 2.0 s + 2000$"
      ],
      "text/plain": [
       "2.0*s + 2000"
      ]
     },
     "execution_count": 28,
     "metadata": {},
     "output_type": "execute_result"
    }
   ],
   "source": [
    "d.subs(R_x, 2*R)"
   ]
  },
  {
   "cell_type": "markdown",
   "id": "9dcec25b",
   "metadata": {},
   "source": [
    "Using the partial fraction method, equation (19.14) can be rewritten as:  \n",
    "\n",
    "\\begin{equation}\\tag{19.14}\n",
    "    I_L(s) = \\frac{3E}{4}\\,\\left(\\frac{A}{s} + \\frac{Bs + D}{s^2+4\\cdot3^{-1}10^3s + 4\\cdot3^{-1}10^6}\\right)\n",
    "\\end{equation}    "
   ]
  },
  {
   "cell_type": "markdown",
   "id": "765f15ea",
   "metadata": {},
   "source": [
    "where,\n",
    "$$ A\\big(s^2+4\\cdot3^{-1}10^3s + 4\\cdot3^{-1}10^6 \\big) + s(Bs+D) = s+1000$$"
   ]
  },
  {
   "cell_type": "markdown",
   "id": "b856b7d6",
   "metadata": {},
   "source": [
    "$$ A4\\cdot3^{-1}10^6 = 1000$$"
   ]
  },
  {
   "cell_type": "markdown",
   "id": "f636af52",
   "metadata": {},
   "source": [
    "\\begin{equation}\\tag{19.15a}\n",
    "    A = 0.75\\cdot10^{-6}10^3 = 0.75\\cdot10^{-3}\n",
    "\\end{equation}    "
   ]
  },
  {
   "cell_type": "markdown",
   "id": "318ca237",
   "metadata": {},
   "source": [
    "Thus, under steady-state conditions,  \n",
    "\n",
    "\\begin{equation}\\tag{19.16}\n",
    "    \\text{a: }\\; I_{L\\infty}=\\frac{9E}{16\\cdot10^3\\Omega} = 1.125\\mathrm{A} \\quad\\quad\\text{and}\\quad\\quad\\text{b: }\\; U_{L\\infty} = 0\n",
    "\\end{equation}"
   ]
  },
  {
   "cell_type": "code",
   "execution_count": 29,
   "id": "725b5bee",
   "metadata": {},
   "outputs": [
    {
     "data": {
      "text/plain": [
       "1.125"
      ]
     },
     "execution_count": 29,
     "metadata": {},
     "output_type": "execute_result"
    }
   ],
   "source": [
    "9*E/16000"
   ]
  },
  {
   "cell_type": "markdown",
   "id": "b659f686",
   "metadata": {},
   "source": [
    "$$ U_\\infty = R(J-I_{L\\infty}) = 875\\mathrm{V} $$"
   ]
  },
  {
   "cell_type": "code",
   "execution_count": 30,
   "id": "45734f79",
   "metadata": {},
   "outputs": [
    {
     "data": {
      "text/plain": [
       "875.0"
      ]
     },
     "execution_count": 30,
     "metadata": {},
     "output_type": "execute_result"
    }
   ],
   "source": [
    "U_inf = R*(J-1.125)\n",
    "U_inf"
   ]
  },
  {
   "cell_type": "markdown",
   "id": "4166c21f",
   "metadata": {},
   "source": [
    "Via the equation, equation (19.16b), and KVL,  \n",
    "\n",
    "\\begin{equation}\\tag{19.17}\n",
    "    U_{C\\infty}=U_\\infty=875\\mathrm{V}\n",
    "\\end{equation}    "
   ]
  },
  {
   "cell_type": "markdown",
   "id": "355c67d0",
   "metadata": {},
   "source": [
    "![Fig-P.3.2.19](Figures/Fig-P.3.2.19.png)"
   ]
  },
  {
   "cell_type": "markdown",
   "id": "51e6c131",
   "metadata": {},
   "source": [
    "**After** the **switch is opened**, via KVL and element equations:  \n",
    "\n",
    "\\begin{equation}\\tag{19.18}\n",
    "    \\text{a: }\\;E = u_\\mathrm{s} + Li_L' + Ri_R\\quad\\quad\\text{b: }\\;Li_L' = R_xi_x\\quad\\quad\\text{c: }\\;Ri_R = \\frac{1}{C}\\,\\int i_C\\,\\mathrm{d}t\n",
    "\\end{equation}    "
   ]
  },
  {
   "cell_type": "markdown",
   "id": "a24e11b7",
   "metadata": {},
   "source": [
    "Note that '$u_\\mathrm{s}$' denotes the voltage running across the, now open, switch."
   ]
  },
  {
   "cell_type": "markdown",
   "id": "d52e8628",
   "metadata": {},
   "source": [
    "And, via KCL,  \n",
    "\n",
    "\\begin{equation}\\tag{19.19}\n",
    "    \\text{a: }\\;i_L=-i_x\\quad\\quad\\text{and}\\quad\\quad\\text{b: }\\;i_R=-i_C\n",
    "\\end{equation}    "
   ]
  },
  {
   "cell_type": "markdown",
   "id": "08a592aa",
   "metadata": {},
   "source": [
    "Via equations (19.19a) and (19.18b),  \n",
    "\n",
    "\\begin{equation}\\tag{19.20}\n",
    "    Li_L' + R_xi_L = 0\n",
    "\\end{equation}    "
   ]
  },
  {
   "cell_type": "markdown",
   "id": "61740f9c",
   "metadata": {},
   "source": [
    "The general solution to equation (19.20) is:  \n",
    "\n",
    "\\begin{equation}\\tag{19.21}\n",
    "    i_L = i_L(t) = Ae^{m t}\\quad\\quad\\text{where }\\;Lm + R_x = 0\n",
    "\\end{equation}    "
   ]
  },
  {
   "cell_type": "markdown",
   "id": "6d35cb14",
   "metadata": {},
   "source": [
    "\\begin{equation}\\tag{19.21b}\n",
    "    m = -\\frac{R_x}{L}\n",
    "\\end{equation}    "
   ]
  },
  {
   "cell_type": "markdown",
   "id": "f9058a84",
   "metadata": {},
   "source": [
    "Via equations (19.16) and (19.12),  \n",
    "\n",
    "$$ A = \\begin{cases}\\tag{19.21a}\n",
    "1\\mathrm{A}&\\quad\\text{if }R_x=R \\\\\n",
    "1.125\\mathrm{A}&\\quad\\text{if }R_x=2R\n",
    "\\end{cases}$$"
   ]
  },
  {
   "cell_type": "markdown",
   "id": "abba5101",
   "metadata": {},
   "source": [
    "Now, via equations (19.19b) and (19.18c),  \n",
    "\n",
    "\\begin{equation}\\tag{19.22}\n",
    "    Ri_C + \\frac{1}{C}\\,\\int i_C\\,\\mathrm{d}t = 0\n",
    "\\end{equation}    "
   ]
  },
  {
   "cell_type": "markdown",
   "id": "4c14000a",
   "metadata": {},
   "source": [
    "\\begin{equation}\\tag{19.23}\n",
    "    Ri_C' + \\frac{1}{C}\\,i_C = 0\n",
    "\\end{equation}    "
   ]
  },
  {
   "cell_type": "markdown",
   "id": "7c353cd3",
   "metadata": {},
   "source": [
    "The general solution to equation (19.23) is:  \n",
    "\n",
    "\\begin{equation}\\tag{19.24}\n",
    "    i_C = i_C(t) = Be^{m_2 t}\\quad\\quad\\text{where }\\;Rm_2 + \\frac{1}{C}=0\n",
    "\\end{equation}    "
   ]
  },
  {
   "cell_type": "markdown",
   "id": "3a3d9db2",
   "metadata": {},
   "source": [
    "\\begin{equation}\\tag{19.24a}\n",
    "    m_2 = -\\frac{1}{RC}\n",
    "\\end{equation}    "
   ]
  },
  {
   "cell_type": "markdown",
   "id": "8dca94ca",
   "metadata": {},
   "source": [
    "The primitive integral of $i_C$ with respect to time is:  \n",
    "\n",
    "$$ \\int i_C\\,\\mathrm{d}t = \\frac{B}{m_2}\\,e^{m_2t} + c$$"
   ]
  },
  {
   "cell_type": "markdown",
   "id": "af577a72",
   "metadata": {},
   "source": [
    "Recall that:  \n",
    "\n",
    "$$ u_C = u_C(t) = \\frac{1}{C}\\,\\int_0^t i_C\\,\\mathrm{d}t + U_{C0} = \\frac{b}{m_2C}\\,\\big(e^{m_2t} - 1\\big) + U_{C0} = -RB\\,\\big(e^{m_2t}-1\\big) + U_{C0} = RB\\,\\big(1-e^{m_2t}\\big) + U_{C0}$$\n",
    "    "
   ]
  },
  {
   "cell_type": "markdown",
   "id": "8c49921f",
   "metadata": {},
   "source": [
    "$$ U_{C\\infty} = RB +U_{C0}=0 $$"
   ]
  },
  {
   "cell_type": "markdown",
   "id": "be57f3bf",
   "metadata": {},
   "source": [
    "\\begin{equation}\\tag{19.24b}\n",
    "    B = -\\frac{U_{C0}}{R}\n",
    "\\end{equation}    "
   ]
  },
  {
   "cell_type": "markdown",
   "id": "d4a4d342",
   "metadata": {},
   "source": [
    "Now, for future reference, via the steady-state values of $u_C$ *before* the switch was opened,  \n",
    "\n",
    "$$ U_{C0} = \\begin{cases}\\tag{19.25a}\n",
    "1000\\mathrm{V}&\\quad\\text{if }R_x=R \\\\\n",
    "850\\mathrm{V}&\\quad\\text{if }R_x=2R\n",
    "\\end{cases}\n",
    "$$"
   ]
  },
  {
   "cell_type": "markdown",
   "id": "94ecfbe5",
   "metadata": {},
   "source": [
    "Thus, the specific solution to equation (19.23) is:  \n",
    "\n",
    "\\begin{equation}\\tag{19.25}\n",
    "    i_C = i_C(t) = -\\frac{U_{C0}}{R}\\,e^{m_2t} \n",
    "\\end{equation}    "
   ]
  },
  {
   "cell_type": "markdown",
   "id": "baa17b1a",
   "metadata": {},
   "source": [
    "\\begin{equation}\\tag{19.26}\n",
    "    u_C=u_C(t) = U_{C0} - U_{C0}\\,\\big(1-e^{m_2t}\\big) = U_{C0}e^{m_2 t}\n",
    "\\end{equation}    "
   ]
  },
  {
   "cell_type": "markdown",
   "id": "79e49658",
   "metadata": {},
   "source": [
    "Finally,  \n",
    "\n",
    "\\begin{equation}\\tag{19.27}\n",
    "    u=u(t) = E = JR = 2000\\mathrm{V}\n",
    "\\end{equation}    "
   ]
  },
  {
   "cell_type": "markdown",
   "id": "827ab864",
   "metadata": {},
   "source": [
    "#### Problem 20\n",
    "20. The switch is moved from 1 to 2 at $t=0$.  Sketch $u_C(t)$ for $E_2=2E_1=20\\mathrm{V}$, $R=6\\Omega$, $R_1=4\\Omega$ and two values of $R_2$, a) $4\\Omega$, b) $14\\Omega$.  \n",
    "\n",
    "![Fig-P.3.2.20](Figures/Fig-P.3.2.20.png)"
   ]
  },
  {
   "cell_type": "code",
   "execution_count": 31,
   "id": "b348bffe",
   "metadata": {},
   "outputs": [],
   "source": [
    "E_2 = 20; E_1 = 10; R = 6; R_1 = 4"
   ]
  },
  {
   "cell_type": "markdown",
   "id": "6de96d89",
   "metadata": {},
   "source": [
    "Before the switch is moved, there is only the forced response to consider.  Via KVL and element equations,  \n",
    "\n",
    "\\begin{equation}\\tag{20.1}\n",
    "    \\text{a: }\\;E_1 = R_1i + Ri_R\\quad\\quad\\text{and}\\quad\\quad\\text{b: }\\;Ri_R = \\frac{1}{C}\\,\\int i_C\\,\\mathrm{d}t\n",
    "\\end{equation}    "
   ]
  },
  {
   "cell_type": "markdown",
   "id": "4e93cb9e",
   "metadata": {},
   "source": [
    "Via KCL,  \n",
    "\n",
    "\\begin{equation}\\tag{20.2}\n",
    "    i = i_R + i_C\n",
    "\\end{equation}    "
   ]
  },
  {
   "cell_type": "markdown",
   "id": "2757e5a3",
   "metadata": {},
   "source": [
    "$$ I_{C\\infty} = 0\\quad\\quad\\text{and}\\quad\\quad I_\\infty = I_{R\\infty}$$"
   ]
  },
  {
   "cell_type": "markdown",
   "id": "d19ab4df",
   "metadata": {},
   "source": [
    "$$ E_1 = R_1I_\\infty + RI_\\infty = I_\\infty(R_1+R) = I_\\infty\\cdot10\\Omega$$"
   ]
  },
  {
   "cell_type": "markdown",
   "id": "c68d031f",
   "metadata": {},
   "source": [
    "$$ I_\\infty = \\frac{E_1}{10\\Omega} = 1\\mathrm{A}$$"
   ]
  },
  {
   "cell_type": "markdown",
   "id": "9a760e58",
   "metadata": {},
   "source": [
    "\\begin{equation}\\tag{20.3}\n",
    "    U_{C\\infty} = RI_\\infty = 6\\mathrm{V}\n",
    "\\end{equation}    "
   ]
  },
  {
   "cell_type": "markdown",
   "id": "0d80f3ec",
   "metadata": {},
   "source": [
    "**After** the **switch is moved**, via KVL and element equations,  \n",
    "\n",
    "\\begin{equation}\\tag{20.4}\n",
    "    \\text{a: }\\;E_2 = R_2i + \\frac{1}{C}\\,\\int i_C\\,\\mathrm{d}t\\quad\\quad\\text{and}\\quad\\quad\\text{b: }\\;Ri_R = \\frac{1}{C}\\,\\int i_C\\,\\mathrm{d}t\n",
    "\\end{equation}"
   ]
  },
  {
   "cell_type": "markdown",
   "id": "cf3fab69",
   "metadata": {},
   "source": [
    "And, via KCL, equation (20.2) still holds true, but, note that '$i$' denotes a different current now.  \n",
    "\n",
    "\\begin{equation}\\tag{20.5}\n",
    "    E_2 = R_2(i_R + i_C) + \\frac{1}{C}\\,\\int i_C\\,\\mathrm{d}t\n",
    "\\end{equation}    "
   ]
  },
  {
   "cell_type": "markdown",
   "id": "ddefdc0e",
   "metadata": {},
   "source": [
    "$$ E_2 = R_2i_C + \\frac{R_2}{RC}\\,\\int i_C\\,\\mathrm{d}t + \\frac{1}{C}\\,\\int i_C\\,\\mathrm{d}t$$"
   ]
  },
  {
   "cell_type": "markdown",
   "id": "9803673f",
   "metadata": {},
   "source": [
    "\\begin{equation}\\tag{20.6}\n",
    "    R_2i_C' + i_C\\,\\frac{1}{C}\\,\\left(\\frac{R_2}{R} + 1\\right) = R_2i_C' + i_C\\,\\frac{R_2+R}{RC} = 0\n",
    "\\end{equation}    "
   ]
  },
  {
   "cell_type": "markdown",
   "id": "54a7b65e",
   "metadata": {},
   "source": [
    "The general solution to equation (20.6) is:  \n",
    "\n",
    "\\begin{equation}\\tag{20.7}\n",
    "    i_C = i_C(t) = Ae^{m t}\\quad\\quad\\text{where }\\; R_2m + \\frac{R_2+R}{RC} = 0\n",
    "\\end{equation}    "
   ]
  },
  {
   "cell_type": "markdown",
   "id": "6f5415aa",
   "metadata": {},
   "source": [
    "\\begin{equation}\\tag{20.7b}\n",
    "    m = - \\frac{R_2+R}{RR_2C}\n",
    "\\end{equation}    "
   ]
  },
  {
   "cell_type": "markdown",
   "id": "94932f4f",
   "metadata": {},
   "source": [
    "The primitive integral of $i_C(t)$ is:  \n",
    "\n",
    "$$ \\int i_C\\,\\mathrm{d}t = \\frac{A}{m}\\,e^{mt} + c$$"
   ]
  },
  {
   "cell_type": "markdown",
   "id": "97054bfd",
   "metadata": {},
   "source": [
    "\\begin{equation}\\tag{20.8}\n",
    "    u_C = u_C(t)= \\frac{1}{C}\\,\\int_0^t i_C\\,\\mathrm{d}t + U_{C0} = \\frac{A}{mC}\\,\\big(e^{mt} -1\\big) + U_{C0}\n",
    "\\end{equation}    "
   ]
  },
  {
   "cell_type": "markdown",
   "id": "b3509636",
   "metadata": {},
   "source": [
    "Once again,  \n",
    "\n",
    "$$ I_{C\\infty} = 0\\quad\\quad\\text{and}\\quad\\quad I_\\infty = I_{R\\infty}$$"
   ]
  },
  {
   "cell_type": "markdown",
   "id": "6dfd1de0",
   "metadata": {},
   "source": [
    "$$ I_\\infty = \\frac{E_2}{R_2+R} = \\frac{20\\mathrm{V}}{6\\Omega + R_2} = \\begin{cases}\n",
    "2\\mathrm{A}&\\quad\\text{if }R_2=4\\Omega \\\\\n",
    "1\\mathrm{A}&\\quad\\text{if }R_2=14\\Omega\n",
    "\\end{cases}\n",
    "$$"
   ]
  },
  {
   "cell_type": "code",
   "execution_count": 32,
   "id": "3c3fee29",
   "metadata": {},
   "outputs": [
    {
     "data": {
      "text/latex": [
       "$\\displaystyle 1$"
      ],
      "text/plain": [
       "1"
      ]
     },
     "execution_count": 32,
     "metadata": {},
     "output_type": "execute_result"
    }
   ],
   "source": [
    "R_2 = sp.symbols('R_2')\n",
    "I_inf = 20/(R+R_2)\n",
    "cases = (4,14)\n",
    "I_inf.subs(R_2, cases[1])"
   ]
  },
  {
   "cell_type": "markdown",
   "id": "08c71117",
   "metadata": {},
   "source": [
    "$$ U_{C\\infty} = RI_\\infty  = -\\frac{A}{mC} + U_{C0}$$"
   ]
  },
  {
   "cell_type": "markdown",
   "id": "cc422f60",
   "metadata": {},
   "source": [
    "$$ -\\frac{A}{mC} = RI_\\infty - U_{C0}$$"
   ]
  },
  {
   "cell_type": "markdown",
   "id": "01579f03",
   "metadata": {},
   "source": [
    "\\begin{equation}\\tag{20.8a}\n",
    "    A = mC(U_{C0}-RI_\\infty)\n",
    "\\end{equation}    "
   ]
  },
  {
   "cell_type": "code",
   "execution_count": 33,
   "id": "92fdfe0e",
   "metadata": {},
   "outputs": [
    {
     "data": {
      "text/latex": [
       "$\\displaystyle \\frac{5}{2}$"
      ],
      "text/plain": [
       "5/2"
      ]
     },
     "execution_count": 33,
     "metadata": {},
     "output_type": "execute_result"
    }
   ],
   "source": [
    "C = sp.symbols('C')\n",
    "m = -(R_2+R)/(R*R_2*C)\n",
    "U_inf = R*I_inf\n",
    "U_C0 = 6\n",
    "A=m*C*(U_C0-U_inf)\n",
    "A.subs(R_2,4)"
   ]
  },
  {
   "cell_type": "markdown",
   "id": "7f019720",
   "metadata": {},
   "source": [
    "Finally,  \n",
    "\n",
    "$$ u_C = u_C(t) = (U_{C0}-U_{C\\infty})\\big(e^{mt}-1\\big) + U_{C0} = 6\\mathrm{V}\\cdot\\begin{cases}\\tag{20.9}\n",
    "2-e^{-5t/(12C)}&\\quad\\text{if }R_2=4\\Omega \\\\\n",
    "1&\\quad\\text{if }R_2=14\\Omega\n",
    "\\end{cases}\n",
    "$$"
   ]
  },
  {
   "cell_type": "code",
   "execution_count": 34,
   "id": "bdbb85f2",
   "metadata": {},
   "outputs": [
    {
     "data": {
      "text/latex": [
       "$\\displaystyle 6$"
      ],
      "text/plain": [
       "6"
      ]
     },
     "execution_count": 34,
     "metadata": {},
     "output_type": "execute_result"
    }
   ],
   "source": [
    "t = sp.symbols('t')\n",
    "u_C = (U_C0 - U_inf)*(sp.exp((m*t))-1) + U_C0\n",
    "u_C.subs(R_2,14)"
   ]
  },
  {
   "cell_type": "markdown",
   "id": "c9ed0845",
   "metadata": {},
   "source": [
    "#### Problem 21\n",
    "21. The switch is moved from 1 to 2 at $t=0$.  Sketch $i(t)$, $u_{C_1}(t)$, $u_{C_2}(t)$, assuming $R_1=R_2=2000\\Omega$, $E=10\\mathrm{V}$, $C_1=4\\mu\\mathrm{F}$. $C_2=6\\mu\\mathrm{F}$.  \n",
    "\n",
    "![Fig-P.3.2.21](Figures/Fig-P.3.2.21.png)"
   ]
  },
  {
   "cell_type": "markdown",
   "id": "5c34cad6",
   "metadata": {},
   "source": [
    "Before the switch moves, there is only the forced response to consider.  After the switch moves, there is only the natural response to consider."
   ]
  },
  {
   "cell_type": "markdown",
   "id": "14e6039d",
   "metadata": {},
   "source": [
    "Let $u_{C_1}:= u_1$ and $u_{C_2}:=u_2$.  Under steady-state conditions, *before* the switch is moved, $U_{1\\infty} = E$, which means that *after* the switch is moved $U_{C_20}=E$.  Via KVL and element equations,  \n",
    "\n",
    "$$ \\frac{1}{C_1}\\,\\int i_C\\,\\mathrm{d}t = R_2i + \\frac{1}{C_2}\\,\\int i\\,\\mathrm{d}t$$"
   ]
  },
  {
   "cell_type": "markdown",
   "id": "3b899f3d",
   "metadata": {},
   "source": [
    "And, via KCL, $i_C=-i$.  Via the previous two equations,  \n",
    "\n",
    "$$ \\int i\\,\\mathrm{d}t\\,\\left(\\frac{1}{C_1} + \\frac{1}{C_2}\\right) + R_2i = \\int i\\,\\mathrm{d}t\\,\\frac{C_1+C_2}{C_1C_2} + R_2i = 0$$"
   ]
  },
  {
   "cell_type": "markdown",
   "id": "43ff7a70",
   "metadata": {},
   "source": [
    "\\begin{equation}\\tag{21.1}\n",
    "    R_2i' + \\frac{C_1+C_2}{C_1C_2}\\,i = 0\n",
    "\\end{equation}    "
   ]
  },
  {
   "cell_type": "markdown",
   "id": "108f5f44",
   "metadata": {},
   "source": [
    "The general solution to the above equations is:  \n",
    "\n",
    "\\begin{equation}\\tag{21.2}\n",
    "    i = i(t) = Ae^{mt}\\quad\\quad\\text{where }\\;R_2m + \\frac{C_1+C_2}{C_1C_2} = 0\n",
    "\\end{equation}    "
   ]
  },
  {
   "cell_type": "markdown",
   "id": "f01c606c",
   "metadata": {},
   "source": [
    "\\begin{equation}\\tag{21.2b}\n",
    "    m = -\\frac{C_1+C_2}{C_1C_2R}\n",
    "\\end{equation}    "
   ]
  },
  {
   "cell_type": "markdown",
   "id": "817b34aa",
   "metadata": {},
   "source": [
    "The primitive integral of $i(t)$ is:  \n",
    "\n",
    "$$ \\int i\\,\\mathrm{d}t = \\frac{A}{m}\\,e^{mt} + c$$"
   ]
  },
  {
   "cell_type": "markdown",
   "id": "942a08d1",
   "metadata": {},
   "source": [
    "\\begin{equation}\\tag{21.3}\n",
    "    u_1 = u_1(t) = \\frac{1}{C_1}\\,\\int i\\,\\mathrm{d}t\n",
    "\\end{equation}    "
   ]
  },
  {
   "cell_type": "markdown",
   "id": "41b06181",
   "metadata": {},
   "source": [
    "$$ u_2=u_2(t) = \\frac{1}{C_2}\\,\\int_0^t i\\,\\mathrm{d}t + E$$"
   ]
  },
  {
   "cell_type": "markdown",
   "id": "a27c0c47",
   "metadata": {},
   "source": [
    "\\begin{equation}\\tag{21.4}\n",
    "    u_2=u_2(t)= \\frac{A}{mC_2}\\,\\big(e^{mt} - 1\\big) + E\n",
    "\\end{equation}    "
   ]
  },
  {
   "cell_type": "markdown",
   "id": "868f73a2",
   "metadata": {},
   "source": [
    "Since $C_2$ discharges while $C_1$ charges,  \n",
    "\n",
    "$$ u_2(\\infty) = E-\\frac{A}{mC_2} = 0$$"
   ]
  },
  {
   "cell_type": "markdown",
   "id": "19f094fa",
   "metadata": {},
   "source": [
    "\\begin{equation}\\tag{21.4a}\n",
    "    A = mEC_2\n",
    "\\end{equation}    "
   ]
  },
  {
   "cell_type": "markdown",
   "id": "d71358a9",
   "metadata": {},
   "source": [
    "#### Problem 22\n",
    "22. An approximate sawtooth waveform is produced by charging and discharging a capacitor\n",
    "    with widely different time constants. Select the value of $R_1$ such that charging lasts one\n",
    "    time constant $T_1=2 \\mathrm{ms}$, and the value of $R_2$ such that discharging lasts $5T_2=0.1T_1$.  \n",
    "    \n",
    "![Fig-P.3.2.22](Figures/Fig-P.3.2.22.png)"
   ]
  },
  {
   "cell_type": "markdown",
   "id": "ae8bd7f3",
   "metadata": {},
   "source": [
    "While $C$ is charging, we have the forced response.  \n",
    "\n",
    "$$ R_1i_1' + \\frac{1}{C}\\, i_1 = 0$$"
   ]
  },
  {
   "cell_type": "markdown",
   "id": "232afd21",
   "metadata": {},
   "source": [
    "$$ i_1=i_1(t) = Ae^{m_1 t}\\quad\\quad\\text{where }\\;R_1m_1 + \\frac{1}{C} = 0$$"
   ]
  },
  {
   "cell_type": "markdown",
   "id": "28c1381b",
   "metadata": {},
   "source": [
    "$$ m_1 = -\\frac{1}{R_1C}\\quad\\quad\\text{and}\\quad\\quad T_1 = -\\frac{1}{m_1} = R_1C = 2\\mathrm{ms}$$"
   ]
  },
  {
   "cell_type": "markdown",
   "id": "ea378f9b",
   "metadata": {},
   "source": [
    "\\begin{equation}\\tag{22.1}\n",
    "    R_1 = \\frac{2\\mathrm{ms}}{C} = 2000\\Omega\n",
    "\\end{equation}    "
   ]
  },
  {
   "cell_type": "code",
   "execution_count": 35,
   "id": "f413529b",
   "metadata": {},
   "outputs": [
    {
     "data": {
      "text/plain": [
       "2000.0000000000002"
      ]
     },
     "execution_count": 35,
     "metadata": {},
     "output_type": "execute_result"
    }
   ],
   "source": [
    "T_1=2e-3; C = 1e-6\n",
    "R_1 = T_1/C\n",
    "R_1"
   ]
  },
  {
   "cell_type": "markdown",
   "id": "03beb06b",
   "metadata": {},
   "source": [
    "While $C$ is discharging, we have the natural response.  \n",
    "\n",
    "$$ R_2i_2 = \\frac{1}{C}\\,\\int i_1\\,\\mathrm{d}t \\quad\\quad\\text{and}\\quad\\quad i_1=-i_2$$"
   ]
  },
  {
   "cell_type": "markdown",
   "id": "41476b43",
   "metadata": {},
   "source": [
    "Thus,\n",
    "$$ R_2i_2' + \\frac{1}{C}\\,i_2 = 0$$"
   ]
  },
  {
   "cell_type": "markdown",
   "id": "b463a2fd",
   "metadata": {},
   "source": [
    "$$ T_2 = R_2C = \\frac{T_1}{50}$$"
   ]
  },
  {
   "cell_type": "markdown",
   "id": "cac2bfb4",
   "metadata": {},
   "source": [
    "\\begin{equation}\\tag{22.2}\n",
    "    R_2 = \\frac{T_1}{50C} = 40\\Omega\n",
    "\\end{equation}    "
   ]
  },
  {
   "cell_type": "code",
   "execution_count": 36,
   "id": "a37c5dc3",
   "metadata": {},
   "outputs": [
    {
     "data": {
      "text/plain": [
       "40.00000000000001"
      ]
     },
     "execution_count": 36,
     "metadata": {},
     "output_type": "execute_result"
    }
   ],
   "source": [
    "R_2 = T_1/(50*C)\n",
    "R_2"
   ]
  },
  {
   "cell_type": "markdown",
   "id": "2f552378",
   "metadata": {},
   "source": [
    "#### Problem 23\n",
    "23. Find $u(0_-)$ and sketch $u(t)$ after the switch opens at $t=0$. Assume $E=10\\mathrm{V}$, $R=1000\\Omega$, $C=1\\mu\\mathrm{F}$.  \n",
    "\n",
    "![Fig-P.3.2.23](Figures/Fig-P.3.2.23.svg)"
   ]
  },
  {
   "cell_type": "markdown",
   "id": "3ff09b71",
   "metadata": {},
   "source": [
    "Before the switch opens, via KVL and Ohm's Law,  \n",
    "\n",
    "$$ 2RI_{L\\infty} = E \\quad\\quad\\text{and}\\quad\\quad  I_{L\\infty} = \\frac{E}{2R} = 0.5EG$$"
   ]
  },
  {
   "cell_type": "markdown",
   "id": "a0a3f032",
   "metadata": {},
   "source": [
    "\\begin{equation}\\tag{23.1}\n",
    "    u(0_-) = RI_{L\\infty} = 0.5E = 5\\mathrm{V}\n",
    "\\end{equation}    "
   ]
  },
  {
   "cell_type": "markdown",
   "id": "fac14bd5",
   "metadata": {},
   "source": [
    "After the switch opens, via KVL and element equations,  \n",
    "\n",
    "$$E = 2Ri + Li' $$"
   ]
  },
  {
   "cell_type": "markdown",
   "id": "f9af19f2",
   "metadata": {},
   "source": [
    "$$ i = i(t) = \\frac{E}{2R} + Ae^{mt}\\quad\\quad\\text{where }\\;Lm + 2R = 0$$"
   ]
  },
  {
   "cell_type": "markdown",
   "id": "fdd3e469",
   "metadata": {},
   "source": [
    "$$ m = -\\frac{2R}{L}$$"
   ]
  },
  {
   "cell_type": "markdown",
   "id": "e5bf32fa",
   "metadata": {},
   "source": [
    "Via the IVP of $I_{0} = I_{0_-} = 0.5EG$ and the above general solution,  \n",
    "\n",
    "$$ i(0) = Ae^{mt} = 0$$"
   ]
  },
  {
   "cell_type": "markdown",
   "id": "58eb4107",
   "metadata": {},
   "source": [
    "Thus, the specific solution is:  \n",
    "\n",
    "$$ i=i(t) = 0.5EG$$"
   ]
  },
  {
   "cell_type": "markdown",
   "id": "90465262",
   "metadata": {},
   "source": [
    "Finally,  \n",
    "\n",
    "\\begin{equation}\\tag{23.2}\n",
    "    u=u(t) = Ri = 0.5E\n",
    "\\end{equation}    "
   ]
  },
  {
   "cell_type": "markdown",
   "id": "c629bd7c",
   "metadata": {},
   "source": [
    "#### Problem 24\n",
    "24. Sketch $u(t)$ after the switch opens at $t=0$. Assume $E=10\\mathrm{V}$, $R=1000\\Omega$, $C=1\\mu\\mathrm{F}$.\n",
    "\n",
    "![Fig-P.3.2.24](Figures/Fig-P.3.2.24.png)"
   ]
  },
  {
   "cell_type": "markdown",
   "id": "99f6a588",
   "metadata": {},
   "source": [
    "Before the switch is opened, the voltage running across $C$, denoted as '$u_1$', is, under steady-state conditions:  \n",
    "\n",
    "$$ U_{1\\infty} = E - RI_\\infty \\quad\\quad\\text{and}\\quad\\quad 2RI_\\infty=E$$"
   ]
  },
  {
   "cell_type": "markdown",
   "id": "602d160d",
   "metadata": {},
   "source": [
    "$$ I_\\infty = 0.5EG = \\frac{E}{2R}$$"
   ]
  },
  {
   "cell_type": "markdown",
   "id": "58e935e0",
   "metadata": {},
   "source": [
    "\\begin{equation}\\tag{24.1}\n",
    "    U_{1\\infty} = E-0.5E = 0.5E\n",
    "\\end{equation}    "
   ]
  },
  {
   "cell_type": "markdown",
   "id": "d5e98650",
   "metadata": {},
   "source": [
    "And, via KVL, Ohm's Law, and the fact that $I_\\infty = 0.5EG$, the voltage running across $2C$, denoted as '$u_2$', is, under steady-state conditions:  \n",
    "\n",
    "\\begin{equation}\\tag{24.2}\n",
    "    U_{2\\infty} = RI_{\\infty} = 0.5E\n",
    "\\end{equation}    "
   ]
  },
  {
   "cell_type": "markdown",
   "id": "ef220dc1",
   "metadata": {},
   "source": [
    "**After** the **switch is opened**, via KVL and element equations,  \n",
    "\n",
    "\\begin{equation}\\tag{24.3}\n",
    "    \\text{a: }\\;E=Ri_1 + \\frac{1}{C}\\,\\int i_1\\,\\mathrm{d}t\\quad\\quad\\text{b:}\\;\\frac{1}{C}\\,\\int i_1\\,\\mathrm{d}t = u + \\frac{1}{2C}\\,\\int i_C\\,\\mathrm{d}t\\quad\\quad\\text{c: }\\;\\frac{1}{2C}\\,\\int i_C\\,\\mathrm{d}t = Ri_2\n",
    "\\end{equation}    "
   ]
  },
  {
   "cell_type": "markdown",
   "id": "6baffbe7",
   "metadata": {},
   "source": [
    "Via the fact that $i_C=-i_2$ and equations (24.3b,c),  \n",
    "\n",
    "\\begin{equation}\\tag{24.4}\n",
    "    \\text{a: }\\;u = \\frac{1}{C}\\,\\int i_1\\,\\mathrm{d}t + \\frac{1}{2C}\\,\\int i_2\\,\\mathrm{d}t\\quad\\quad\\text{and}\\quad\\quad\\text{b: }\\;Ri_2 + \\frac{1}{2C}\\,\\int i_2\\,\\mathrm{d}t = 0\n",
    "\\end{equation}    "
   ]
  },
  {
   "cell_type": "markdown",
   "id": "6b0822b4",
   "metadata": {},
   "source": [
    "Differentiating throughout equations (24.3a) and (24.4b) with respect to time gives:  \n",
    "\n",
    "\\begin{equation}\\tag{24.5}\n",
    "    \\text{a: }\\;Ri_1' + \\frac{1}{C}\\,i_1 = 0\\quad\\quad\\text{and}\\quad\\quad\\text{b: }\\; Ri_2' + \\frac{1}{2C}\\,i_2= 0\n",
    "\\end{equation}    "
   ]
  },
  {
   "cell_type": "markdown",
   "id": "d52639c0",
   "metadata": {},
   "source": [
    "The general solutions to equations (24.5a,b) are:  \n",
    "\n",
    "\\begin{equation}\\tag{24.6}\n",
    "    i_1=i_1(t) = Ae^{m_1t}\\quad\\quad\\text{where }\\;Rm_1 + \\frac{1}{C} = 0\n",
    "\\end{equation}    "
   ]
  },
  {
   "cell_type": "markdown",
   "id": "a8d40fc6",
   "metadata": {},
   "source": [
    "\\begin{equation}\\tag{24.6b}\n",
    "    m_1 = -\\frac{1}{RC}\n",
    "\\end{equation}    "
   ]
  },
  {
   "cell_type": "markdown",
   "id": "e63fce61",
   "metadata": {},
   "source": [
    "and,\n",
    "\\begin{equation}\\tag{24.7}\n",
    "    i_2=i_2(t) = Be^{m_2 t}\\quad\\quad\\text{where }\\;Rm_2 + \\frac{1}{2C} = 0\n",
    "\\end{equation}    "
   ]
  },
  {
   "cell_type": "markdown",
   "id": "ed990bde",
   "metadata": {},
   "source": [
    "\\begin{equation}\\tag{24.7a}\n",
    "    m_2 = -\\frac{1}{2RC}\n",
    "\\end{equation}    "
   ]
  },
  {
   "cell_type": "markdown",
   "id": "3077ef0a",
   "metadata": {},
   "source": [
    "Let $m:=m_1$.  The general solutions to equations (24.5a,b) can be rewritten as:  \n",
    "\n",
    "\\begin{equation}\\tag{24.6}\n",
    "    i_1=i_1(t) = Ae^{mt}\n",
    "\\end{equation}    "
   ]
  },
  {
   "cell_type": "markdown",
   "id": "1b67c435",
   "metadata": {},
   "source": [
    "and,\n",
    "\\begin{equation}\\tag{24.7}\n",
    "    i_2=i_2(t) = Be^{0.5mt}\n",
    "\\end{equation}    "
   ]
  },
  {
   "cell_type": "markdown",
   "id": "b2696cfb",
   "metadata": {},
   "source": [
    "The IVP is:  \n",
    "\n",
    "$$ u_2(0) = Ri_2(0) = 0.5E $$"
   ]
  },
  {
   "cell_type": "markdown",
   "id": "d6a13119",
   "metadata": {},
   "source": [
    "Via the above two equations,  \n",
    "\n",
    "$$ i_2(0) = 0.5EG = B$$"
   ]
  },
  {
   "cell_type": "markdown",
   "id": "b82b3dbc",
   "metadata": {},
   "source": [
    "\\begin{equation}\\tag{24.8}\n",
    "    i_2=i_2(t)=\\frac{E}{2R}\\,e^{0.5mt}\n",
    "\\end{equation}    "
   ]
  },
  {
   "cell_type": "markdown",
   "id": "21f461b8",
   "metadata": {},
   "source": [
    "\\begin{equation}\\tag{24.10}\n",
    "    u_2=u_2(t) = Ri_2 = 0.5E\\,e^{0.5mt}\n",
    "\\end{equation}    "
   ]
  },
  {
   "cell_type": "markdown",
   "id": "82b8c45c",
   "metadata": {},
   "source": [
    "Under steady-state conditions,  \n",
    "\n",
    "$$ u_1(\\infty) = E$$"
   ]
  },
  {
   "cell_type": "markdown",
   "id": "5f5f3adc",
   "metadata": {},
   "source": [
    "Recall that:  \n",
    "\n",
    "$$ u_1 = u_1(t) = \\frac{1}{C}\\,\\int_0^t i_1\\,\\mathrm{d}t + 0.5E$$"
   ]
  },
  {
   "cell_type": "markdown",
   "id": "e8fa4859",
   "metadata": {},
   "source": [
    "$$ \\int i_1\\,\\mathrm{d}t = \\frac{A}{m}\\,e^{mt}+c$$"
   ]
  },
  {
   "cell_type": "markdown",
   "id": "15d92552",
   "metadata": {},
   "source": [
    "\\begin{equation}\\tag{24.11}\n",
    "    u_1=u_1(t) = \\frac{A}{mC}\\,\\big(e^{mt}-1\\big) + 0.5E\n",
    "\\end{equation}    "
   ]
  },
  {
   "cell_type": "markdown",
   "id": "9e79d9e2",
   "metadata": {},
   "source": [
    "$$ u_1(\\infty) = -\\frac{A}{mC} = 0.5E$$"
   ]
  },
  {
   "cell_type": "markdown",
   "id": "aa81af2a",
   "metadata": {},
   "source": [
    "\\begin{equation}\\tag{24.11a}\n",
    "    A = -0.5mCE = 0.5EG\n",
    "\\end{equation}    "
   ]
  },
  {
   "cell_type": "markdown",
   "id": "b490f9b9",
   "metadata": {},
   "source": [
    "\\begin{equation}\\tag{24.9}\n",
    "    i_1=i_1(t) = 0.5EGe^{mt}\n",
    "\\end{equation}    "
   ]
  },
  {
   "cell_type": "markdown",
   "id": "35a808fd",
   "metadata": {},
   "source": [
    "Via equations (24.11),  \n",
    "\n",
    "\\begin{equation}\\tag{24.12}\n",
    "    u_1=u_1(t) = \\frac{E}{2RC}\\,\\big(e^{mt}-1\\big) + 0.5E\n",
    "\\end{equation}    "
   ]
  },
  {
   "cell_type": "markdown",
   "id": "4997a6c9",
   "metadata": {},
   "source": [
    "Finally,  \n",
    "\n",
    "\\begin{equation}\\tag{24.13}\n",
    "    u = u_1+u_2 = 0.5Ee^{0.5mt} + \\frac{E}{2RC}\\,\\big(e^{mt}-1\\big)+0.5E\n",
    "\\end{equation}    "
   ]
  }
 ],
 "metadata": {
  "kernelspec": {
   "display_name": "Python 3",
   "language": "python",
   "name": "python3"
  },
  "language_info": {
   "codemirror_mode": {
    "name": "ipython",
    "version": 3
   },
   "file_extension": ".py",
   "mimetype": "text/x-python",
   "name": "python",
   "nbconvert_exporter": "python",
   "pygments_lexer": "ipython3",
   "version": "3.8.10"
  }
 },
 "nbformat": 4,
 "nbformat_minor": 5
}
