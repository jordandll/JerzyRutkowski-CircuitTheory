{
 "cells": [
  {
   "cell_type": "markdown",
   "id": "62eed2f2",
   "metadata": {},
   "source": [
    "## Drill problems 3.2"
   ]
  },
  {
   "cell_type": "code",
   "execution_count": 1,
   "id": "ea130d7d",
   "metadata": {},
   "outputs": [],
   "source": [
    "import numpy as np\n",
    "import matplotlib.pyplot as plt"
   ]
  },
  {
   "cell_type": "markdown",
   "id": "ec1f2c27",
   "metadata": {},
   "source": [
    "#### Problem 1\n",
    "1. For the step input $u_1=E\\mathbf{1}(t)$ of two-port and the given output voltage (exponential\n",
    "    function), draw its simplest structure.  \n",
    "    \n",
    "![Fig-P.3.2.1](Figures/Fig-P.3.2.1.png)"
   ]
  },
  {
   "cell_type": "markdown",
   "id": "84be5b9b",
   "metadata": {},
   "source": [
    "Both plots are given by first order circuits."
   ]
  },
  {
   "cell_type": "markdown",
   "id": "1f635ce1",
   "metadata": {},
   "source": [
    "For the **left hand** plot:  \n",
    "\n",
    "\\begin{equation}\\tag{P1.1}\n",
    "    u_2 = 0.5Ee^{m t} + 0.5E = 0.5E\\big(e^{mt} + 1\\big)\n",
    "\\end{equation}    "
   ]
  },
  {
   "cell_type": "markdown",
   "id": "b03e1c4e",
   "metadata": {},
   "source": [
    "In the case of an $RC$ circuit, assuming the branches that the input ($i_1$) and output ($i_2$) currents flow through have a resistance of $R_1$ an $R_2$ respectively and one of the branchs connecting these two branches has a capacitance of $C$, via Ohm's Law, equation (P1.1) and the problem itself,  \n",
    "\n",
    "\\begin{equation}\\tag{P1.2}\n",
    "    \\text{a: }\\;i_{R_1} = \\frac{E}{R_1} = G_1E \\quad\\quad \\text{and}\\quad\\quad\\text{b: }\\;i_{R_2} = \\frac{u_2}{R_2} = 0.5G_2E\\big(e^{m t} + 1\\big)\n",
    "\\end{equation}    "
   ]
  },
  {
   "cell_type": "markdown",
   "id": "842305e8",
   "metadata": {},
   "source": [
    "Initially, the charge stored in the capacitor is equal to zero, and thus, so to is the voltage running across the capacitor.  \n",
    "\n",
    "$$ q(0) = 0\\implies U_{C0} = 0$$"
   ]
  },
  {
   "cell_type": "markdown",
   "id": "61a134e9",
   "metadata": {},
   "source": [
    "Via the fact that $U_{C0}=0$ in conjunction with KVL, the voltage dropped across the resistor, and thus the output voltage, is initally equal to the input voltage $u_1=E$.  \n",
    "\n",
    "$$ u_2(0) = u_1(0) - U_{C0} = E $$"
   ]
  },
  {
   "cell_type": "markdown",
   "id": "35d3504d",
   "metadata": {},
   "source": [
    "The capacitor of course charges over time, eventually reaching it's steady-state condition whereby it drops half of the input voltage, leaving the other half to be dropped across $R_2$.  \n",
    "\n",
    "$$ U_{C\\infty} = 0.5E \\implies u_2(\\infty)=0.5E$$"
   ]
  },
  {
   "cell_type": "markdown",
   "id": "6644c7d0",
   "metadata": {},
   "source": [
    "To test this, recall the capacitor element equation,  \n",
    "\n",
    "$$ u_3 = u_C = \\frac{1}{C}\\,\\int i_C\\,\\mathrm{d}t$$"
   ]
  },
  {
   "cell_type": "markdown",
   "id": "08a3660f",
   "metadata": {},
   "source": [
    "Since $U_{C0}=0$,  \n",
    "\n",
    "\\begin{equation}\\tag{P1.3}\n",
    "    u_C = u_C(t) = \\frac{1}{C}\\,\\int_0^t i_C\\,\\mathrm{d}t = 0.5E\\big(1-e^{mt}\\big)\n",
    "\\end{equation}    "
   ]
  },
  {
   "cell_type": "markdown",
   "id": "90299765",
   "metadata": {},
   "source": [
    "Differentiating throughout equation (P1.3) with respect to time and multiplying throughout the same equation by $C$ gives:  \n",
    "\n",
    "\\begin{equation}\\tag{P1.4}\n",
    "    i_C = -0.5mCEe^{mt}\n",
    "\\end{equation}    "
   ]
  },
  {
   "cell_type": "markdown",
   "id": "b1c32d85",
   "metadata": {},
   "source": [
    "Via KCL,  \n",
    "\n",
    "\\begin{equation}\\tag{P1.5}\n",
    "    \\text{a: }\\;i_1 = i_{R_1} + i_C \\quad\\quad \\text{and}\\quad\\quad \\text{b: }\\;i_{R_2} = i_2 +  i_C\n",
    "\\end{equation}    "
   ]
  },
  {
   "cell_type": "markdown",
   "id": "6c41dff2",
   "metadata": {},
   "source": [
    "Via equations (P1.5b) and (P1.2b),  \n",
    "\n",
    "$$ i_2 = 0.5G_2E \\quad\\quad\\text{and}\\quad\\quad -0.5mCEe^{mt} = 0.5G_2Ee^{mt}$$"
   ]
  },
  {
   "cell_type": "markdown",
   "id": "570ccfd4",
   "metadata": {},
   "source": [
    "Dividing throughout by $-0.5CEe^{mt}$ gives:  \n",
    "\n",
    "\\begin{equation}\\tag{P1.4a}\n",
    "    m = -\\frac{1}{R_2C}\n",
    "\\end{equation}    "
   ]
  },
  {
   "cell_type": "markdown",
   "id": "979ee164",
   "metadata": {},
   "source": [
    "Via equations (P1.4),  \n",
    "\n",
    "\\begin{equation}\\tag{P1.6}\n",
    "    i_C = i_C(t) = 0.5G_2Ee^{-t/T}\\quad\\quad\\text{where }\\;T = R_2C\n",
    "\\end{equation}    "
   ]
  },
  {
   "cell_type": "markdown",
   "id": "2588266d",
   "metadata": {},
   "source": [
    "Finally, via equations (P1.6), (P1.5a), and (P1.2a),  \n",
    "\n",
    "$$i_1=i_1(t) = G_1E + 0.5G_2Ee^{-t/T} = E\\big(G_1+0.5G_2e^{-t/T}\\big) $$"
   ]
  },
  {
   "cell_type": "markdown",
   "id": "f9bb6b8b",
   "metadata": {},
   "source": [
    "For the **right hand** plot,  \n",
    "\n",
    "\\begin{equation}\\tag{P1.r.1}\n",
    "    u_2 = u_2(t) = 0.5E\\big(1-e^{mt}\\big) + 0.5E = E\\big(1-0.5e^{mt}\\big)\n",
    "\\end{equation}    "
   ]
  },
  {
   "cell_type": "markdown",
   "id": "3aa217c0",
   "metadata": {},
   "source": [
    "Assuming the function of the two-port element is defined by a $RL$ two-port element and that the coil rests on one of the \"middle\" branchs, the voltage dropped across said coil is given by:  \n",
    "\n",
    "\\begin{equation}\\tag{P1.r.2}\n",
    "    u_3 = u_L = 0.5Ee^{mt} = Li_L'\n",
    "\\end{equation}    "
   ]
  },
  {
   "cell_type": "markdown",
   "id": "b3696e6f",
   "metadata": {},
   "source": [
    "\\begin{equation}\\tag{P1.r.3}\n",
    "    i_L = i_L(t) = \\frac{E}{2L}\\,\\int e^{mt}\\,\\mathrm{d} t = \\frac{E}{2mL}\\,e^{mt} + c\n",
    "\\end{equation}    "
   ]
  },
  {
   "cell_type": "markdown",
   "id": "91d63b4f",
   "metadata": {},
   "source": [
    "$$ i_L(0) = \\frac{E}{2mL} + c = 0$$"
   ]
  },
  {
   "cell_type": "markdown",
   "id": "76f0a350",
   "metadata": {},
   "source": [
    "Thus,\n",
    "\\begin{equation}\\tag{P1.r.3}\n",
    "    c = -\\frac{E}{2mL} \\quad\\quad\\text{and}\\quad\\quad i_L=i_L(t) = \\frac{E}{2mL}\\,\\big(e^{mt}-1\\big)\n",
    "\\end{equation}    "
   ]
  },
  {
   "cell_type": "markdown",
   "id": "6589de86",
   "metadata": {},
   "source": [
    "Via Ohm's Law,  \n",
    "\n",
    "\\begin{equation}\\tag{P1.r.4}\n",
    "    \\text{a: }\\;i_{R_1} = G_1E\\mathbf{1}(t) \\quad\\quad \\text{and}\\quad\\quad \\text{b: }\\;i_{R_2} = G_2E\\big(1-0.5e^{mt}\\big)\n",
    "\\end{equation}    "
   ]
  },
  {
   "cell_type": "markdown",
   "id": "a1efc1a8",
   "metadata": {},
   "source": [
    "And, via KCL,  \n",
    "\n",
    "\\begin{equation}\\tag{P1.r.5}\n",
    "    \\text{a: }\\;i_1 = i_{R_1} + i_L \\quad\\quad\\text{and}\\quad\\quad \\text{b: }\\;i_{R_2} = i_2 + i_L\n",
    "\\end{equation}    "
   ]
  },
  {
   "cell_type": "markdown",
   "id": "f1531802",
   "metadata": {},
   "source": [
    "$$ G_2E\\big(1-0.5e^{mt}\\big) = i_2 + \\frac{E}{2mL}\\,\\big(e^{mt}-1\\big)$$"
   ]
  },
  {
   "cell_type": "markdown",
   "id": "d75246a3",
   "metadata": {},
   "source": [
    "$$ i_2 = \\frac{E}{R_2}\\big(1-0.5e^{mt}\\big) - \\frac{E}{2mL}\\,\\big(e^{mt}-1\\big) = E\\,\\left(\\frac{1}{R_2}\\,\\big(1-0.5e^{mt}\\big) - \\frac{1}{2mL}\\,\\big(e^{mt}-1\\big)\\right) $$"
   ]
  },
  {
   "cell_type": "markdown",
   "id": "0c07d06a",
   "metadata": {},
   "source": [
    "$$ = E\\,\\frac{2mL\\big(1-0.5e^{mt}\\big) - R_2\\big(e^{mt} - 1\\big)}{2mR_2L} = E\\,\\frac{2mL + R_2 - e^{mt}(R_2+mL)}{2mR_2L} $$"
   ]
  },
  {
   "cell_type": "markdown",
   "id": "e76a17f5",
   "metadata": {},
   "source": [
    "\\begin{equation}\\tag{P1.r.6}\n",
    "    i_2=i_2(t)=  E\\,\\frac{2mL + R_2 - e^{mt}(R_2+mL)}{2mR_2L}\n",
    "\\end{equation}    "
   ]
  },
  {
   "cell_type": "markdown",
   "id": "56451d65",
   "metadata": {},
   "source": [
    "Via equations (P1.r.5a), (P1.r.3), and (P1.r.4a),  \n",
    "\n",
    "\\begin{equation}\\tag{P1.r.7}\n",
    "    i_1 = i_1(t) = \\frac{E}{R_1} + \\frac{E}{2mL}\\,\\big(e^{mt}-1\\big) = E\\,\\left(G_1 + \\frac{e^{mt}-1}{2mL}\\right)\n",
    "\\end{equation}    "
   ]
  },
  {
   "cell_type": "markdown",
   "id": "1124ee34",
   "metadata": {},
   "source": [
    "#### Problem 2\n",
    "2. Sketch voltage across the switch after its opening. Assume: a) overdamped, b)\n",
    "    underdamped case.  \n",
    "    \n",
    "![Fig-P.3.2.2](Figures/Fig-P.3.2.2.png)"
   ]
  },
  {
   "cell_type": "markdown",
   "id": "09790be4",
   "metadata": {},
   "source": [
    "For circuit **a)**:  *Before* the switch is opened, via KVL and element equations,  \n",
    "\n",
    "\\begin{equation}\\tag{P2.1}\n",
    "    \\text{a: }\\;E = Ri_E + Li_L'\\quad\\quad\\text{and}\\quad\\quad\\text{b: }\\;Li_L' = 2Ri_C + \\frac{1}{C}\\,\\int i_C\\,\\mathrm{d}t\n",
    "\\end{equation}"
   ]
  },
  {
   "cell_type": "markdown",
   "id": "bed34cdd",
   "metadata": {},
   "source": [
    "And, via KCL,  \n",
    "\n",
    "\\begin{equation}\\tag{P2.2}\n",
    "    i_E = i_L + i_C\n",
    "\\end{equation}    "
   ]
  },
  {
   "cell_type": "markdown",
   "id": "3fa51a2c",
   "metadata": {},
   "source": [
    "Via equations (P2.2) and (P2.1a),  \n",
    "\n",
    "$$E = R(i_L+i_C) + LI_L'$$"
   ]
  },
  {
   "cell_type": "markdown",
   "id": "e80a53e4",
   "metadata": {},
   "source": [
    "$$ Ri_C = E - Li_L' - Ri_L$$"
   ]
  },
  {
   "cell_type": "markdown",
   "id": "2a483e6c",
   "metadata": {},
   "source": [
    "\\begin{equation}\\tag{P2.3}\n",
    "    i_C = G(E-Li_L') - i_L\n",
    "\\end{equation}    "
   ]
  },
  {
   "cell_type": "markdown",
   "id": "787795e6",
   "metadata": {},
   "source": [
    "Differentiating throughout the equation obtained via equations (P2.3) and (P2.1b) with respect to time gives:  \n",
    "\n",
    "$$ Li_L'' = -2Li_L'' - 2Ri_L' + \\frac{1}{C}\\,\\big(G(E-Li_L') - i_L\\big)$$"
   ]
  },
  {
   "cell_type": "markdown",
   "id": "f914f706",
   "metadata": {},
   "source": [
    "$$ 3Li_L'' + 2Ri_L' + \\frac{L}{RC}i_L' + \\frac{1}{C}\\,i_L = \\frac{E}{RC}$$"
   ]
  },
  {
   "cell_type": "markdown",
   "id": "1ead563f",
   "metadata": {},
   "source": [
    "\\begin{equation}\\tag{P2.4}\n",
    "    3Li_L'' + \\frac{2R^2C + L}{RC}\\,i_L'  + \\frac{1}{C}\\,i_L = \\frac{E}{RC}\n",
    "\\end{equation}    "
   ]
  },
  {
   "cell_type": "markdown",
   "id": "62dd6293",
   "metadata": {},
   "source": [
    "Now, let's test the above equation against a different approach."
   ]
  },
  {
   "cell_type": "markdown",
   "id": "17c78723",
   "metadata": {},
   "source": [
    "Differentiating throughout equation (P2.1b) with respect to time gives:  \n",
    "\n",
    "$$ Li_L'' = 2Ri_C' + \\frac{1}{C}\\,i_C$$"
   ]
  },
  {
   "cell_type": "markdown",
   "id": "1a6caf82",
   "metadata": {},
   "source": [
    "Via the above equation and equation (P2.2),  \n",
    "\n",
    "$$ Li_L'' = 2Ri_E' - 2Ri_L' + \\frac{1}{C}\\,i_E - \\frac{1}{C}\\,i_L$$"
   ]
  },
  {
   "cell_type": "markdown",
   "id": "b276c247",
   "metadata": {},
   "source": [
    "And, via the above equation and equation (P2.1a),  \n",
    "\n",
    "$$ i_E = G(E-Li_L')$$"
   ]
  },
  {
   "cell_type": "markdown",
   "id": "20e5f302",
   "metadata": {},
   "source": [
    "and\n",
    "$$ Li_L'' = -2Li_L'' - 2Ri_L' + \\frac{E}{RC} - \\frac{L}{RC}\\,i_L' - \\frac{1}{C}\\,i_L$$"
   ]
  },
  {
   "cell_type": "markdown",
   "id": "fd94a43e",
   "metadata": {},
   "source": [
    "$$ 3Li_L'' + 2Ri_L' + \\frac{L}{RC}\\,i_L' + \\frac{1}{C}\\,i_L = \\frac{E}{RC}$$"
   ]
  },
  {
   "cell_type": "markdown",
   "id": "1c72c117",
   "metadata": {},
   "source": [
    "The test was passed."
   ]
  },
  {
   "cell_type": "markdown",
   "id": "55ba7be7",
   "metadata": {},
   "source": [
    "The form of the general solution to 2nd order homogenous DE (P2.4) depends on the relationship between the middle coefficient of the DE's AE and the leading and trailing coefficients.  \n",
    "\n",
    "$$ \\frac{2R^2C+L}{RC} \\stackrel{?}{=} 12\\frac{L}{C}$$"
   ]
  },
  {
   "cell_type": "markdown",
   "id": "8c099817",
   "metadata": {},
   "source": [
    "However, the steady-state conditions of the coil do not depend on said relationship.  \n",
    "\n",
    "\\begin{equation}\\tag{P2.5}\n",
    "    \\text{a: }\\;I_{L\\infty} = I_0 = \\frac{E}{R}\\quad\\quad\\text{and}\\quad\\quad\\text{b: }\\;U_{L\\infty} = 0\n",
    "\\end{equation}    "
   ]
  },
  {
   "cell_type": "markdown",
   "id": "8686b624",
   "metadata": {},
   "source": [
    "Via equation (P2.5), KVL and Ohm's Law,  \n",
    "\n",
    "$$I_{E\\infty} = \\frac{E}{R} $$"
   ]
  },
  {
   "cell_type": "markdown",
   "id": "9c7325eb",
   "metadata": {},
   "source": [
    "And, via the above equation and KCL,    \n",
    "\n",
    "$$ I_{C\\infty} = 0$$"
   ]
  },
  {
   "cell_type": "markdown",
   "id": "3183fcf3",
   "metadata": {},
   "source": [
    "The steady-state condition of the capacitor is:  \n",
    "\n",
    "\\begin{equation}\\tag{P2.6}\n",
    "    U_{C\\infty} = 0\n",
    "\\end{equation}    "
   ]
  },
  {
   "cell_type": "markdown",
   "id": "e292b98a",
   "metadata": {},
   "source": [
    "**After** the **switch is opened**, via equation (P2.6),  \n",
    "\n",
    "\\begin{equation}\\tag{P2.7}\n",
    "    U_{C0} = 0\n",
    "\\end{equation}    "
   ]
  },
  {
   "cell_type": "markdown",
   "id": "4fd9dbc0",
   "metadata": {},
   "source": [
    "\\begin{equation}\\tag{P2.13}\n",
    "    u = u(t) = E-u_L\n",
    "\\end{equation}    "
   ]
  },
  {
   "cell_type": "markdown",
   "id": "77c16762",
   "metadata": {},
   "source": [
    "\\begin{equation}\\tag{P2.10}\n",
    "    Li'' + 2Ri' + \\frac{1}{C}\\, i = 0\n",
    "\\end{equation}    "
   ]
  },
  {
   "cell_type": "markdown",
   "id": "5a0c41cb",
   "metadata": {},
   "source": [
    "\\begin{equation}\\tag{P2.9}\n",
    "    i = i(t) = Ae^{m_1 t} + Be^{m_2 t} \\quad\\quad\\text{where }\\;Lm^2 + 2Rm + \\frac{1}{C} = 0\n",
    "\\end{equation}    "
   ]
  },
  {
   "cell_type": "markdown",
   "id": "b31441a4",
   "metadata": {},
   "source": [
    "$$ m_1 = \\frac{-2R+\\sqrt{4R^2 - 4LC^{-1}}}{2L} = \\frac{-R+\\sqrt{R^2-LC^{-1}}}{L}$$"
   ]
  },
  {
   "cell_type": "markdown",
   "id": "94090e62",
   "metadata": {},
   "source": [
    "$$ m_2 = \\frac{-R-\\sqrt{R^2-LC^{-1}}}{L}$$"
   ]
  },
  {
   "cell_type": "markdown",
   "id": "e5fbb575",
   "metadata": {},
   "source": [
    "\\begin{equation}\\tag{P2.8a}\n",
    "    i(0) = A + B = \\frac{E}{R}\n",
    "\\end{equation}    "
   ]
  },
  {
   "cell_type": "markdown",
   "id": "6029a566",
   "metadata": {},
   "source": [
    "\\begin{equation}\\tag{P2.8b}\n",
    "    u_L(0) = 2Ri(0) = 2E = L(m_1A + m_2B)\n",
    "\\end{equation}    "
   ]
  },
  {
   "cell_type": "markdown",
   "id": "9aa64d01",
   "metadata": {},
   "source": [
    "$$ E = L\\big(m_1(EG - B) + m_2B\\big)$$"
   ]
  },
  {
   "cell_type": "markdown",
   "id": "bbaaa590",
   "metadata": {},
   "source": [
    "$$  = L(m_1EG -m1B  + m_2B) = L\\big(m_1EG + B(m_2-m_1)\\big) = m_1LEG + BL(m_2-m_1)$$"
   ]
  },
  {
   "cell_type": "markdown",
   "id": "27cf649b",
   "metadata": {},
   "source": [
    "$$ BL = \\frac{E - m_1LEG}{m_2-m_1}$$"
   ]
  },
  {
   "cell_type": "markdown",
   "id": "2a98711d",
   "metadata": {},
   "source": [
    "\\begin{equation}\\tag{P2.9b}\n",
    "    B = \\frac{E}{L}\\,\\frac{1-m_1LG}{m_2-m_1}\n",
    "\\end{equation}    "
   ]
  },
  {
   "cell_type": "markdown",
   "id": "b155c743",
   "metadata": {},
   "source": [
    "The denominator of the identity of $B$ is:  \n",
    "\n",
    "$$L(m_2-m_1)= -2\\sqrt{R^2-LC^{-1}}$$"
   ]
  },
  {
   "cell_type": "markdown",
   "id": "e8fe90a1",
   "metadata": {},
   "source": [
    "And, the numerator is:  \n",
    "\n",
    "$$ E(1-m_1LG) = E\\,\\Big(1 - G\\big(\\sqrt{R^2-LC{-1}}-R\\big)\\Big) = E\\big(2 - G\\sqrt{R^2-LC^{-1}}\\big) $$"
   ]
  },
  {
   "cell_type": "markdown",
   "id": "5ffd91bc",
   "metadata": {},
   "source": [
    "Thus, equation (P2.9b) can be rewritten as:  \n",
    "\n",
    "\\begin{equation}\\tag{P2.9b}\n",
    "    B = \\frac{E}{2R}-\\frac{E}{\\sqrt{R^2-LC^{-1}}} = E\\,\\left(\\frac{1}{2R}-\\frac{1}{\\sqrt{R^2-LC^{-1}}}\\right)\n",
    "\\end{equation}    "
   ]
  },
  {
   "cell_type": "markdown",
   "id": "069bfd72",
   "metadata": {},
   "source": [
    "Via equations (P2.9b) and (P2.8a),  \n",
    "\n",
    "\\begin{equation}\\tag{P2.9a}\n",
    "    A = E\\,\\left(\\frac{1}{2R}+\\frac{1}{\\sqrt{R^2-LC^{-1}}}\\right)\n",
    "\\end{equation}    "
   ]
  },
  {
   "cell_type": "markdown",
   "id": "f249f12f",
   "metadata": {},
   "source": [
    "Thus, the **specific solution** to DE (P2.10) is,  \n",
    "\n",
    "\\begin{equation}\\tag{P2.11}\n",
    "    i = i(t) = E\\,\\left(\\frac{1}{2R}+\\frac{1}{\\sqrt{R^2-LC^{-1}}}\\right)\\,e^{m_1 t} + E\\,\\left(\\frac{1}{2R}-\\frac{1}{\\sqrt{R^2-LC^{-1}}}\\right)\\,e^{m_2 t}\n",
    "\\end{equation}    "
   ]
  },
  {
   "cell_type": "markdown",
   "id": "b46d2246",
   "metadata": {},
   "source": [
    "And, the voltage running across the coil is given by:  \n",
    "\n",
    "\\begin{align*}\\tag{P2.12}\n",
    "    u_L=u_L(t) = Li'(t) &= L\\,\\big(m_1Ae^{m_1 t} + m_2Be^{m_2}\\big) \\\\\n",
    "     &= \\big(-R+\\sqrt{R^2-LC^{-1}}\\big)Ae^{m_1 t} + \\big(-R - \\sqrt{R^2-LC^{-1}}\\big)Be^{m_2 t}\n",
    "\\end{align*}     "
   ]
  },
  {
   "cell_type": "markdown",
   "id": "752fc166",
   "metadata": {},
   "source": [
    "The non-exponential factor of the left hand term simplifies to:  \n",
    "\n",
    "$$ \\big(\\sqrt{R^2-LC^{-1}}-R\\big)A = E\\,\\left(\\frac{\\sqrt{R^2-LC^{-1}}}{2R} - 0.5 + 1 - \\frac{R}{\\sqrt{R^2-LC^{-1}}}\\right)$$"
   ]
  },
  {
   "cell_type": "markdown",
   "id": "b84ff5f8",
   "metadata": {},
   "source": [
    "$$ = E\\,\\left(0.5 + \\frac{R^2-LC^{-1} - 2R^2}{2R\\sqrt{R^2-LC^{-1}}}\\right) = E\\,\\left(0.5 - \\frac{R^2+LC^{-1}}{2R\\sqrt{R^2-LC^{-1}}}\\right)$$"
   ]
  },
  {
   "cell_type": "markdown",
   "id": "fdae4d8c",
   "metadata": {},
   "source": [
    "And, the non-exponential factor of the right hand term simplifies to:  \n",
    "\n",
    "$$ \\big(-R-\\sqrt{R^2-LC^{-1}}\\big)B = E\\,\\left( -0.5 + \\frac{R}{\\sqrt{R^2-LC^{-1}}} - \\frac{\\sqrt{R^2-LC^{-1}}}{2R} + 1\\right) $$"
   ]
  },
  {
   "cell_type": "markdown",
   "id": "bdb9ce97",
   "metadata": {},
   "source": [
    "$$ = E\\,\\left(0.5 + \\frac{2R^2 - R^2 + LC^{-1}}{2R\\sqrt{R^2-LC^{-1}}}\\right) = E\\,\\left(0.5 + \\frac{R^2 + LC^{-1}}{2R\\sqrt{R^2-LC^{-1}}}\\right)$$"
   ]
  },
  {
   "cell_type": "markdown",
   "id": "70fc24ed",
   "metadata": {},
   "source": [
    "Thus, equation (P2.12) can be rewritten as:  \n",
    "\n",
    "\\begin{equation}\\tag{P2.12}\n",
    "    u_L = u_L(t) = E\\,\\left(0.5 - \\frac{R^2+LC^{-1}}{2R\\sqrt{R^2-LC^{-1}}}\\right)\\,e^{m_1 t} + E\\,\\left(0.5 + \\frac{R^2+LC^{-1}}{2R\\sqrt{R^2-LC^{-1}}}\\right)\\,e^{m_2 t}\n",
    "\\end{equation}    "
   ]
  },
  {
   "cell_type": "markdown",
   "id": "06247713",
   "metadata": {},
   "source": [
    "![Fig-3.2.2](Figures/Fig-P.3.2.2.png)"
   ]
  },
  {
   "cell_type": "markdown",
   "id": "4b18c8dd",
   "metadata": {},
   "source": [
    "As for circuit **b)**:  *Before* the switch is opened, via KCL and element equations,  \n",
    "\n",
    "\\begin{equation}\\tag{P2.b.1}\n",
    "    \\text{a: }\\;E = Ri_E + Ri_R\\quad\\quad\\text{and}\\quad\\quad\\text{b: }\\;Ri_R = Li_L' + \\frac{1}{C}\\,\\int i_L\\,\\mathrm{d}t\n",
    "\\end{equation}    "
   ]
  },
  {
   "cell_type": "markdown",
   "id": "06bb068c",
   "metadata": {},
   "source": [
    "And, via KCL,  \n",
    "\n",
    "\\begin{equation}\\tag{P2.b.2}\n",
    "    i_E = i_R + i_L\n",
    "\\end{equation}    "
   ]
  },
  {
   "cell_type": "markdown",
   "id": "00cf7876",
   "metadata": {},
   "source": [
    "$$E = R(i_R+i_L) + Ri_R = 2Ri_R + Ri_L$$"
   ]
  },
  {
   "cell_type": "markdown",
   "id": "660b45fc",
   "metadata": {},
   "source": [
    "$$ Ri_R = 0.5(E-Ri_L)$$"
   ]
  },
  {
   "cell_type": "markdown",
   "id": "058864cb",
   "metadata": {},
   "source": [
    "$$ 0.5(E - Ri_L) = Li_L' + \\frac{1}{C}\\,\\int i_L\\,\\mathrm{d}t$$"
   ]
  },
  {
   "cell_type": "markdown",
   "id": "51a0f9fc",
   "metadata": {},
   "source": [
    "$$ Li_L' + 0.5Ri_L + \\frac{1}{C}\\,\\int i_L\\,\\mathrm{d}t=0.5E$$"
   ]
  },
  {
   "cell_type": "markdown",
   "id": "e09d3514",
   "metadata": {},
   "source": [
    "Differentiating throughout the above equation with respect to time gives:  \n",
    "\n",
    "\\begin{equation}\\tag{P2.b.3}\n",
    "    Li_L'' + 0.5Ri_L' + \\frac{1}{C}\\,i_L = 0\n",
    "\\end{equation}    "
   ]
  },
  {
   "cell_type": "markdown",
   "id": "76100775",
   "metadata": {},
   "source": [
    "The transient response is irrelevant when it comes to the steady-state response of $i_L$, which is given by:  \n",
    "\n",
    "\\begin{equation}\\tag{P2.b.4}\n",
    "    I_{L\\infty} = 0\n",
    "\\end{equation}    "
   ]
  },
  {
   "cell_type": "markdown",
   "id": "b557f616",
   "metadata": {},
   "source": [
    "The steady-state response of the voltage running across the capacitor is, via KVL and Ohm's Law,  \n",
    "\n",
    "$$ U_{C\\infty} = RI_{R\\infty} = RI_{E\\infty}$$"
   ]
  },
  {
   "cell_type": "markdown",
   "id": "71b8c6dc",
   "metadata": {},
   "source": [
    "$$ I_{E\\infty} = \\frac{E}{2R}$$"
   ]
  },
  {
   "cell_type": "markdown",
   "id": "af2afbd2",
   "metadata": {},
   "source": [
    "Thus,\n",
    "\\begin{equation}\\tag{P2.b.5}\n",
    "    U_{C\\infty} = 0.5E\n",
    "\\end{equation}    "
   ]
  },
  {
   "cell_type": "markdown",
   "id": "85a0c7c1",
   "metadata": {},
   "source": [
    "**After** the **switch is opened**, via equations (P2.b.4) and (P2.b.5),  \n",
    "\n",
    "\\begin{equation}\\tag{P2.b.6}\n",
    "    \\text{a: }\\; I_0 = 0\\quad\\quad\\text{and}\\quad\\quad\\text{b: }\\;U_{C0} = 0.5E\n",
    "\\end{equation}    "
   ]
  },
  {
   "cell_type": "markdown",
   "id": "7569c6be",
   "metadata": {},
   "source": [
    "Via KCL,  \n",
    "\n",
    "\\begin{equation}\\tag{P2.b.7}\n",
    "    i = i_R = -i_L\n",
    "\\end{equation}    "
   ]
  },
  {
   "cell_type": "markdown",
   "id": "7cad416f",
   "metadata": {},
   "source": [
    "And, via KVL and Ohm's Law,  \n",
    "\n",
    "\\begin{equation}\\tag{P2.b.8}\n",
    "    u = u(t)= E-u_R = E - Ri\n",
    "\\end{equation}    "
   ]
  },
  {
   "cell_type": "markdown",
   "id": "fe4cb2ee",
   "metadata": {},
   "source": [
    "Via KVL and element equations,  \n",
    "\n",
    "\\begin{align*}\n",
    "    0&=-Li_L' + Ri_R - \\frac{1}{C}\\,\\int i_L\\,\\mathrm{d}t \\\\ \\\\\n",
    "     &= Li_R' + Ri_R + \\frac{1}{C}\\,\\int i_R\\,\\mathrm{d}t \\\\ \\\\\n",
    "     &= Li' + Ri + \\frac{1}{C}\\,\\int i\\,\\mathrm{d}t\n",
    "\\end{align*}     "
   ]
  },
  {
   "cell_type": "markdown",
   "id": "5c8af816",
   "metadata": {},
   "source": [
    "\\begin{equation}\\tag{P2.b.9}\n",
    "     Li'' + Ri' + \\frac{1}{C}\\,i = 0\n",
    "\\end{equation}    "
   ]
  },
  {
   "cell_type": "markdown",
   "id": "b6692c70",
   "metadata": {},
   "source": [
    "\\begin{equation}\\tag{P2.b.10}\n",
    "    i = i(t) = e^{-\\alpha t}\\,\\big(A\\,\\cos\\omega t + B\\,\\sin\\omega t\\big)\n",
    "\\end{equation}    "
   ]
  },
  {
   "cell_type": "markdown",
   "id": "3203280b",
   "metadata": {},
   "source": [
    "where,\n",
    "\\begin{equation}\\tag{P2.b.10a}\n",
    "    \\alpha = \\frac{R}{2L} \\quad\\quad\\text{and}\\quad\\quad \\omega = \\frac{\\sqrt{4LC^{1} - R^2}}{2L}\n",
    "\\end{equation}    "
   ]
  },
  {
   "cell_type": "markdown",
   "id": "eca991c3",
   "metadata": {},
   "source": [
    "Via equations (P2.b.10) and (P2.b.6a),  \n",
    "\n",
    "\\begin{equation}\\tag{P2.b.10a}\n",
    "    i(0) = A = 0\n",
    "\\end{equation}    "
   ]
  },
  {
   "cell_type": "markdown",
   "id": "5cd1f8bd",
   "metadata": {},
   "source": [
    "And, via KVL,  \n",
    "\n",
    "$$ U_{L0} = -U_{C0} = -0.5E$$"
   ]
  },
  {
   "cell_type": "markdown",
   "id": "50979d93",
   "metadata": {},
   "source": [
    "$$ u_L = u_L(t) = Li_L' = -Li' = \\alpha Le^{-\\alpha t}B\\,\\sin \\omega t - Le^{-\\alpha t}\\omega B \\,\\cos\\omega t = LBe^{-\\alpha t}\\,\\big(\\alpha \\,\\sin\\omega t- \\omega\\,\\cos\\omega t \\big)$$"
   ]
  },
  {
   "cell_type": "markdown",
   "id": "9ac3c9b4",
   "metadata": {},
   "source": [
    "$$ u_L(0) = -\\omega LB = -0.5E$$"
   ]
  },
  {
   "cell_type": "markdown",
   "id": "bb5d291a",
   "metadata": {},
   "source": [
    "\\begin{equation}\\tag{P2.b.10b}\n",
    "    B =  \\frac{E}{2\\omega L}\n",
    "\\end{equation}    "
   ]
  },
  {
   "cell_type": "markdown",
   "id": "35948a6e",
   "metadata": {},
   "source": [
    "The **specific solution** to equation (P2.b.9) is:  \n",
    "\n",
    "\\begin{equation}\\tag{P2.b.11}\n",
    "    i = i(t) = \\frac{E}{2\\omega L}\\,e^{-\\alpha t}\\sin\\omega t\n",
    "\\end{equation}    "
   ]
  },
  {
   "cell_type": "markdown",
   "id": "2e5cb1c0",
   "metadata": {},
   "source": [
    "Finally, via equations (P2.b.11) and (P2.b.8),  \n",
    "\n",
    "\\begin{equation}\\tag{P2.b.12}\n",
    "    u = u(t) = E - \\frac{RE}{2\\omega L}\\,e^{-\\alpha t}\\sin\\omega t\n",
    "\\end{equation}"
   ]
  },
  {
   "cell_type": "markdown",
   "id": "3ad96e54",
   "metadata": {},
   "source": [
    "$$ U_0 = U_\\infty = E$$"
   ]
  },
  {
   "cell_type": "markdown",
   "id": "e5ce9637",
   "metadata": {},
   "source": [
    "#### Problem 3\n",
    "3. Plot voltage across the switch after its opening.  \n",
    "\n",
    "![Fig-P.3.2.3](Figures/Fig-P.3.2.3.png)"
   ]
  },
  {
   "cell_type": "markdown",
   "id": "d1c52df0",
   "metadata": {},
   "source": [
    "For circuit **a)**:  Let $E$, $R$, and $L$ be defined as:  \n",
    "\n",
    "$$ E := 10\\mathrm{V}\\quad\\quad\\ R:=10\\Omega\\quad\\quad L:=1\\mathrm{H}$$"
   ]
  },
  {
   "cell_type": "markdown",
   "id": "9fddfa58",
   "metadata": {},
   "source": [
    "*Before* the switch is opened, via KVL and element equations,  \n",
    "\n",
    "\\begin{equation}\\tag{P3.1}\n",
    "    \\text{a: }\\;E = Ri_E + 2Ri_R\\quad\\quad\\text{and}\\quad\\quad\\text{b: }\\;2Ri_R = Li_L' + 2Ri_L\n",
    "\\end{equation}    "
   ]
  },
  {
   "cell_type": "markdown",
   "id": "2c0de728",
   "metadata": {},
   "source": [
    "And, via KCL,  \n",
    "\n",
    "\\begin{equation}\\tag{P3.2}\n",
    "    i_E = i_R + i_L\n",
    "\\end{equation}    "
   ]
  },
  {
   "cell_type": "markdown",
   "id": "b2a01a74",
   "metadata": {},
   "source": [
    "$$ E = Ri_R + Ri_L + 2Ri_R = 3Ri_R + Ri_L$$"
   ]
  },
  {
   "cell_type": "markdown",
   "id": "35757a82",
   "metadata": {},
   "source": [
    "\\begin{equation}\\tag{P3.3}\n",
    "    Ri_R = \\frac{E-Ri_L}{3}\n",
    "\\end{equation}    "
   ]
  },
  {
   "cell_type": "markdown",
   "id": "075c5089",
   "metadata": {},
   "source": [
    "Via equations (P3.3) and (P3.1b),  \n",
    "\n",
    "$$ \\frac{2}{3}\\,(E-Ri_L) = Li_L' + 2Ri_L$$"
   ]
  },
  {
   "cell_type": "markdown",
   "id": "05b6cbc6",
   "metadata": {},
   "source": [
    "$$ \\frac{2}{3}\\,E = Li_L' + 2Ri_L + \\frac{2}{3}\\,Ri_L$$ "
   ]
  },
  {
   "cell_type": "markdown",
   "id": "c29a4d40",
   "metadata": {},
   "source": [
    "\\begin{equation}\\tag{P3.4}\n",
    "    Li_L' + \\frac{8}{3}\\,Ri_L = \\frac{2}{3}\\,E\n",
    "\\end{equation}    "
   ]
  },
  {
   "cell_type": "markdown",
   "id": "87dc34df",
   "metadata": {},
   "source": [
    "\\begin{equation}\\tag{P3.5}\n",
    "    i_L = i_L(t) = 0.25GE + Ae^{m t}\n",
    "\\end{equation}    "
   ]
  },
  {
   "cell_type": "markdown",
   "id": "f7ce79d2",
   "metadata": {},
   "source": [
    "\\begin{equation}\\tag{P3.6}\n",
    "    \\text{a: }\\;I_{L\\infty}=\\frac{E}{4R}\\quad\\quad\\text{and}\\quad\\quad\\text{b: }\\;U_{L\\infty} = 0\n",
    "\\end{equation}    "
   ]
  },
  {
   "cell_type": "markdown",
   "id": "fcbf6aa9",
   "metadata": {},
   "source": [
    "**After** the **switch is opened**, via KCL,    \n",
    "\n",
    "\\begin{equation}\\tag{P3.7}\n",
    "    i = i_R = -i_L\n",
    "\\end{equation}    "
   ]
  },
  {
   "cell_type": "markdown",
   "id": "3701fa3c",
   "metadata": {},
   "source": [
    "And via equations (P3.6a) and (P3.7),  \n",
    "\n",
    "\\begin{equation}\\tag{P3.8}\n",
    "    \\text{a: }\\;I_{L0} = \\frac{E}{4R}\\quad\\quad\\text{and}\\quad\\quad\\text{b: }\\;I_{0} = -I_{L0} = -\\frac{E}{4R}\n",
    "\\end{equation}    "
   ]
  },
  {
   "cell_type": "markdown",
   "id": "6437611e",
   "metadata": {},
   "source": [
    "Via KVL and element equations,  \n",
    "\n",
    "$$ 2Ri_R = Li_L' + 2Ri_L$$"
   ]
  },
  {
   "cell_type": "markdown",
   "id": "8eae6edb",
   "metadata": {},
   "source": [
    "\\begin{align*}\\tag{P3.10}\n",
    "    0 &= -Li_L' + 2Ri_R - 2Ri_L \\\\\n",
    "     &= Li' + 4Ri \n",
    "\\end{align*}     "
   ]
  },
  {
   "cell_type": "markdown",
   "id": "d7d4773c",
   "metadata": {},
   "source": [
    "\\begin{equation}\\tag{P3.9}\n",
    "    i = i(t) = Ae^{m t}\\quad\\quad\\text{where }\\; Lm + 4R = 0\n",
    "\\end{equation}    "
   ]
  },
  {
   "cell_type": "markdown",
   "id": "b1af5ea1",
   "metadata": {},
   "source": [
    "\\begin{equation}\\tag{P3.9a}\n",
    "    m = - \\frac{4R}{L} = - 40\\,\\frac{\\Omega}{\\mathrm{H}}\n",
    "\\end{equation}    "
   ]
  },
  {
   "cell_type": "markdown",
   "id": "4331276e",
   "metadata": {},
   "source": [
    "$$ i(0) = A = -\\frac{E}{4R}$$"
   ]
  },
  {
   "cell_type": "markdown",
   "id": "0687e3e4",
   "metadata": {},
   "source": [
    "Thus, the **specific solution** to equation (P3.10) is,  \n",
    "\n",
    "\\begin{equation}\\tag{P3.11}\n",
    "    i = i(t) = -\\frac{E}{4R}\\,e^{m t} = -250e^{m t}\\mathrm{mA}\n",
    "\\end{equation}    "
   ]
  },
  {
   "cell_type": "markdown",
   "id": "3fa54e8e",
   "metadata": {},
   "source": [
    "\\begin{equation}\\tag{P3.12}\n",
    "    u = E - 2Ri = E + 0.5E e^{m t} = E\\big(1+0.5e^{m t}\\big)\n",
    "\\end{equation}    "
   ]
  },
  {
   "cell_type": "markdown",
   "id": "f7e21f46",
   "metadata": {},
   "source": [
    "$$ U_0 = 1.5E \\quad\\quad\\text{and}\\quad\\quad U_\\infty = E$$"
   ]
  },
  {
   "cell_type": "markdown",
   "id": "811b3ad7",
   "metadata": {},
   "source": [
    "![Fig-P.3.2.3](Figures/Fig-P.3.2.3.png)"
   ]
  },
  {
   "cell_type": "markdown",
   "id": "5437da1d",
   "metadata": {},
   "source": [
    "Now, for circuit **b)**:  Let $E$, $R$, and $C$ be defined as:  \n",
    "\n",
    "$$ E = 12\\mathrm{V}\\quad\\quad R = 1000\\Omega\\quad\\quad C = 1\\mu\\mathrm{F}$$"
   ]
  },
  {
   "cell_type": "markdown",
   "id": "80b93036",
   "metadata": {},
   "source": [
    "*Before* the switch is opened, via KVL and element equations,  \n",
    "\n",
    "\\begin{equation}\\tag{P3.b.1}\n",
    "    \\text{a: }\\;E = Ri_E + Ri_R\\quad\\quad\\text{and}\\quad\\quad\\text{b: }\\;Ri_R = \\frac{1}{C}\\,\\int i_C\\,\\mathrm{d}t + 2Ri_C\n",
    "\\end{equation}    "
   ]
  },
  {
   "cell_type": "markdown",
   "id": "b83a6e5d",
   "metadata": {},
   "source": [
    "And, via KCL,  \n",
    "\n",
    "\\begin{equation}\\tag{P3.b.2}\n",
    "    i_E = i_R + i_C\n",
    "\\end{equation}    "
   ]
  },
  {
   "cell_type": "markdown",
   "id": "4d1dcf5c",
   "metadata": {},
   "source": [
    "$$E = Ri_R + Ri_C + Ri_R = 2Ri_R + Ri_C$$"
   ]
  },
  {
   "cell_type": "markdown",
   "id": "eeb9169a",
   "metadata": {},
   "source": [
    "\\begin{equation}\\tag{P3.b.3}\n",
    "    Ri_R = 0.5(E - Ri_C)\n",
    "\\end{equation}    "
   ]
  },
  {
   "cell_type": "markdown",
   "id": "ddefa687",
   "metadata": {},
   "source": [
    "Via equations (P3.b.3) and (P3.b.1b) and equivalence principle,  \n",
    "\n",
    "$$0.5(E - Ri_C) = \\frac{1}{C}\\,\\int i_C\\,\\mathrm{d}t + 2Ri_C$$"
   ]
  },
  {
   "cell_type": "markdown",
   "id": "f708ca91",
   "metadata": {},
   "source": [
    "$$2.5Ri_C + \\frac{1}{C}\\,\\int i_C\\,\\mathrm{d}t = 0.5E$$"
   ]
  },
  {
   "cell_type": "markdown",
   "id": "392e40fa",
   "metadata": {},
   "source": [
    "\\begin{equation}\\tag{P3.b.4}\n",
    "    2.5Ri_C' + \\frac{1}{C}\\,i_C = 0\n",
    "\\end{equation}    "
   ]
  },
  {
   "cell_type": "markdown",
   "id": "6c491761",
   "metadata": {},
   "source": [
    "The general solution to equation (P3.b.4) is:  \n",
    "\n",
    "\\begin{equation}\\tag{P3.b.5}\n",
    "    i_C = i_C(t) = Ae^{m t} \\quad\\quad\\text{where }\\;2.5Rm + \\frac{1}{C} = 0\n",
    "\\end{equation}    "
   ]
  },
  {
   "cell_type": "markdown",
   "id": "b892c439",
   "metadata": {},
   "source": [
    "\\begin{equation}\\tag{P3.b.5a}\n",
    "    m = -\\frac{2}{5RC}\n",
    "\\end{equation}    "
   ]
  },
  {
   "cell_type": "markdown",
   "id": "5281f90b",
   "metadata": {},
   "source": [
    "We need to find $i_C(0)=I_{C0}$ to find $A$.  Via equations (P3.b.3) and (P3.b.1b) and equivalence principle,  \n",
    "\n",
    "$$ 0.5(E - RI_{C0}) = U_{C0} + 2RI_{C0}$$"
   ]
  },
  {
   "cell_type": "markdown",
   "id": "357dfb9b",
   "metadata": {},
   "source": [
    "$$ 2.5RI_{C0} = 0.5E - U_{C0}$$"
   ]
  },
  {
   "cell_type": "markdown",
   "id": "7a76aa3f",
   "metadata": {},
   "source": [
    "\\begin{equation}\\tag{P3.b.6}\n",
    "    I_{C0} = \\frac{2}{5R}\\,\\left(\\frac{E}{2}- U_{C0}\\right) = \\frac{E}{5R} - \\frac{2U_{C0}}{5R} = \\frac{E-2U_{C0}}{5R}\n",
    "\\end{equation}    "
   ]
  },
  {
   "cell_type": "markdown",
   "id": "52c6c435",
   "metadata": {},
   "source": [
    "Now we can find $A$.  Via equations (P3.b.6) and (P3.b.5),  \n",
    "\n",
    "\\begin{equation}\\tag{P3.b.7}\n",
    "    i_C(0) = A = \\frac{E-2U_{C0}}{5R}\n",
    "\\end{equation}    "
   ]
  },
  {
   "cell_type": "markdown",
   "id": "f0664855",
   "metadata": {},
   "source": [
    "Recall that:  \n",
    "\n",
    "$$ u_C = u_C(t) = \\frac{1}{C}\\,\\int_0^t i_C\\,\\mathrm{d}t + U_{C0}$$"
   ]
  },
  {
   "cell_type": "markdown",
   "id": "9f21c130",
   "metadata": {},
   "source": [
    "$$ \\int i_C\\,\\mathrm{d}t = \\frac{A}{m}\\,e^{m t} + c$$"
   ]
  },
  {
   "cell_type": "markdown",
   "id": "4b362418",
   "metadata": {},
   "source": [
    "Thus,\n",
    "$$ U_{C\\infty} = \\frac{1}{C}\\,\\int_0^\\infty i_C\\,\\mathrm{d}t + U_{C0} = -\\frac{A}{Cm} + U_{C0}$$"
   ]
  },
  {
   "cell_type": "markdown",
   "id": "9fb03395",
   "metadata": {},
   "source": [
    "$$ Cm = -\\frac{2}{5R} \\quad\\quad\\text{and}\\quad\\quad -\\frac{A}{Cm} = 0.5(E-2U_{C0}) = 0.5E - U_{C0}$$"
   ]
  },
  {
   "cell_type": "markdown",
   "id": "e7d76e30",
   "metadata": {},
   "source": [
    "Finally,\n",
    "\\begin{equation}\\tag{P3.b.8}\n",
    "    U_{C\\infty} = 0.5E\n",
    "\\end{equation}    "
   ]
  },
  {
   "cell_type": "markdown",
   "id": "7b7f576d",
   "metadata": {},
   "source": [
    "**After** the **switch is opened**.  \n",
    "\n",
    "$$U_{C0} = 0.5E \\quad\\quad \\text{and}\\quad\\quad i = i_R = -i_C$$"
   ]
  },
  {
   "cell_type": "markdown",
   "id": "7575ca5d",
   "metadata": {},
   "source": [
    "\\begin{align*}\n",
    "    0&= Ri_R - 2Ri_C - \\frac{1}{C}\\,\\int i_C\\,\\mathrm{d}t \\\\\n",
    "     &= Ri + 2Ri + \\frac{1}{C}\\,\\int i\\,\\mathrm{d} t \\\\\n",
    "     &= 3Ri +  \\frac{1}{C}\\,\\int i\\,\\mathrm{d} t \n",
    "\\end{align*}     "
   ]
  },
  {
   "cell_type": "markdown",
   "id": "07e4c82e",
   "metadata": {},
   "source": [
    "\\begin{equation}\\tag{P3.b.9}\n",
    "    3Ri' + \\frac{1}{C}\\, i = 0\n",
    "\\end{equation}    "
   ]
  },
  {
   "cell_type": "markdown",
   "id": "a43300c9",
   "metadata": {},
   "source": [
    "\\begin{equation}\\tag{P3.b.10}\n",
    "    i = i(t) = Ae^{m t}\\quad\\quad\\text{where }\\; 3Rm + \\frac{1}{C} = 0\n",
    "\\end{equation}    "
   ]
  },
  {
   "cell_type": "markdown",
   "id": "30917618",
   "metadata": {},
   "source": [
    "\\begin{equation}\\tag{P3.b.10a}\n",
    "    m = - \\frac{1}{3RC}\n",
    "\\end{equation}    "
   ]
  },
  {
   "cell_type": "markdown",
   "id": "f20baebc",
   "metadata": {},
   "source": [
    "Recall that:  \n",
    "\n",
    "\\begin{align*}\n",
    "    u_C= u_C(t) &= \\frac{1}{C}\\,\\int_0^t i_C\\,\\mathrm{d}t + U_{C0} \\\\ \\\\\n",
    "     &= -\\frac{1}{C}\\,\\int_0^t i \\,\\mathrm{d}t + U_{C0}\n",
    "\\end{align*}     "
   ]
  },
  {
   "cell_type": "markdown",
   "id": "d7649bf1",
   "metadata": {},
   "source": [
    "$$ U_{L\\infty} = -\\frac{1}{C}\\,\\int_0^\\infty i\\,\\mathrm{d}t + U_{C0} = 0$$"
   ]
  },
  {
   "cell_type": "markdown",
   "id": "6319441e",
   "metadata": {},
   "source": [
    "$$ 0.5E = \\frac{1}{C}\\,\\int_0^\\infty i\\,\\mathrm{d}t$$"
   ]
  },
  {
   "cell_type": "markdown",
   "id": "d994679e",
   "metadata": {},
   "source": [
    "$$\\int i\\,\\mathrm{d}t = \\frac{A}{m}\\,e^{mt} + c $$"
   ]
  },
  {
   "cell_type": "markdown",
   "id": "5419f568",
   "metadata": {},
   "source": [
    "Thus,\n",
    "$$ 0.5E = -\\frac{A}{mC}$$"
   ]
  },
  {
   "cell_type": "markdown",
   "id": "abab9cef",
   "metadata": {},
   "source": [
    "\\begin{equation}\\tag{P3.b.11}\n",
    "    A = -0.5mCE = \\frac{E}{6R}\n",
    "\\end{equation}    "
   ]
  },
  {
   "cell_type": "markdown",
   "id": "30effc05",
   "metadata": {},
   "source": [
    "Via equations (P3.b.11) and (P3.b.10), the **specific solution** to equation (P3.b.9) is:  \n",
    "\n",
    "\\begin{equation}\\tag{P3.b.12}\n",
    "    i = i(t) = \\frac{E}{6R}\\,e^{m t}\n",
    "\\end{equation}    "
   ]
  },
  {
   "cell_type": "markdown",
   "id": "96d9c1e9",
   "metadata": {},
   "source": [
    "\\begin{equation}\\tag{P3.b.13}\n",
    "    u = u(t) = E-Ri = E - \\frac{E}{6}\\,e^{m t} = E\\left(1-\\frac{1}{6}\\,e^{m t}\\right)\n",
    "\\end{equation}    "
   ]
  },
  {
   "cell_type": "markdown",
   "id": "17ec4929",
   "metadata": {},
   "source": [
    "$$ U_0 = \\frac{5}{6}\\,E\\quad\\quad\\text{and}\\quad\\quad U_\\infty = E$$"
   ]
  },
  {
   "cell_type": "code",
   "execution_count": 8,
   "id": "56449cd0",
   "metadata": {
    "code_folding": []
   },
   "outputs": [
    {
     "data": {
      "text/plain": [
       "[<matplotlib.lines.Line2D at 0x7fcec8115940>]"
      ]
     },
     "execution_count": 8,
     "metadata": {},
     "output_type": "execute_result"
    },
    {
     "data": {
      "image/png": "[encoded data removed]",
      "text/plain": [
       "<Figure size 432x288 with 1 Axes>"
      ]
     },
     "metadata": {
      "needs_background": "light"
     },
     "output_type": "display_data"
    }
   ],
   "source": [
    "# Set circuit parameters.\n",
    "E = 12; R = 1000; C = 1e-6; m = -1/(3*R*C)\n",
    "\n",
    "# Identify the time constant, denoted as 'T'.\n",
    "T = -1/m\n",
    "\n",
    "# Create the time domain.\n",
    "t = np.linspace(0, 6*T, num=200)\n",
    "\n",
    "# Identify the function that gives the switch voltage, denoted as 'u'.\n",
    "u = E*(1-np.e**(m*t)/6)\n",
    "\n",
    "# Create figures and axes objects.\n",
    "fig, ax = plt.subplots()\n",
    "ax.set_title(r'Switch voltage after opening.', size=14)\n",
    "ax.set_xlabel(r'time [ms]')\n",
    "ax.set_ylabel(r'voltage [V]')\n",
    "ax.grid()\n",
    "\n",
    "# Plot the voltage running across the switch (u).\n",
    "ax.plot(t*1000, u)"
   ]
  },
  {
   "cell_type": "code",
   "execution_count": 7,
   "id": "7b167348",
   "metadata": {},
   "outputs": [
    {
     "data": {
      "text/plain": [
       "(10.0, 11.995042495646668)"
      ]
     },
     "execution_count": 7,
     "metadata": {},
     "output_type": "execute_result"
    }
   ],
   "source": [
    "(min(u), max(u))"
   ]
  },
  {
   "cell_type": "markdown",
   "id": "ebff58ed",
   "metadata": {},
   "source": [
    "#### Problem 4\n",
    "4. Plot current that flows through the switch after its closing.  \n",
    "\n",
    "![Fig-P.3.2.4](Figures/Fig-P.3.2.4.png)"
   ]
  },
  {
   "cell_type": "markdown",
   "id": "6f171066",
   "metadata": {},
   "source": [
    "For circuit **a)**:  *Before* the switch is closed,  we have only the natural response of the coil.  Via KVL and element equations:  \n",
    "\n",
    "\\begin{equation}\\tag{P4.1}\n",
    "    \\text{a: }\\;u_J = RJ\\quad\\quad\\text{and}\\quad\\quad\\text{b: }\\;RJ = u + Ri_L + Ri_R = u + Ri_L\\quad\\quad\\text{and}\\quad\\quad\\text{c: }\\;Ri_L = Li_L'\n",
    "\\end{equation}    "
   ]
  },
  {
   "cell_type": "markdown",
   "id": "abc4acf5",
   "metadata": {},
   "source": [
    "$$ i_L = i_L(t) = \\frac{1}{L}\\,\\int u_L\\,\\mathrm{d}t = \\frac{1}{L}\\,\\int_0^t u_L\\,\\mathrm{d}t + I_{L0}$$"
   ]
  },
  {
   "cell_type": "markdown",
   "id": "510e16bf",
   "metadata": {},
   "source": [
    "\\begin{equation}\\tag{P4.2}\n",
    "    I_{L\\infty} = 0\n",
    "\\end{equation}    "
   ]
  },
  {
   "cell_type": "markdown",
   "id": "11a1a4b6",
   "metadata": {},
   "source": [
    "**After** the switch is close, we have the **forced reponse**.  Via KVL and element equations,  \n",
    "\n",
    "\\begin{equation}\\tag{P4.3}\n",
    "    \\text{a: }\\;u_J = Ri_1\\quad\\quad\\text{and}\\quad\\quad\\text{b: }\\;Ri_1 = Ri_2 + R(i_2 + i_L)\\quad\\quad\\text{and}\\quad\\quad\\text{c: }\\;Ri_2 = Li_L'\n",
    "\\end{equation}    "
   ]
  },
  {
   "cell_type": "markdown",
   "id": "fa8456f3",
   "metadata": {},
   "source": [
    "And, via KCL,  \n",
    "\n",
    "\\begin{equation}\\tag{P4.4}\n",
    "    J = i_1 + i_2 + i_L\n",
    "\\end{equation}    "
   ]
  },
  {
   "cell_type": "markdown",
   "id": "91f693ed",
   "metadata": {},
   "source": [
    "The current that flows through through the switch, henceforth $i$, is given by:  \n",
    "\n",
    "\\begin{equation}\\tag{P4.5}\n",
    "    i = i_2 + i_L\n",
    "\\end{equation}    "
   ]
  },
  {
   "cell_type": "markdown",
   "id": "cde4d24d",
   "metadata": {},
   "source": [
    "In equations (P4.3) and (P4.4), we have four independent equations and four unknowns to solve for.  Via equations (P4.4) and (P4.3a, b),  \n",
    "\n",
    "\\begin{equation}\\tag{P4.6}\n",
    "    \\text{a: }\\;u_J = R(J-i_2-i_L)\\quad\\quad\\text{and}\\quad\\quad\\text{b: }\\;R(J - i_2 - i_L) = 2Ri_2 + Ri_L\n",
    "\\end{equation}    "
   ]
  },
  {
   "cell_type": "markdown",
   "id": "c811f9f5",
   "metadata": {},
   "source": [
    "Via equations (P4.6b) and (P4.3c) and substitution,  \n",
    "\n",
    "\\begin{equation}\\tag{P4.7}\n",
    "    3Li_L'+ 2Ri_L = RJ\n",
    "\\end{equation}    "
   ]
  },
  {
   "cell_type": "markdown",
   "id": "b0241275",
   "metadata": {},
   "source": [
    "The general solution to equation (P4.7) is:  \n",
    "\n",
    "\\begin{equation}\\tag{P4.8}\n",
    "    i_L = i_L(t) = 0.5J + Ae^{m t}\\quad\\quad\\text{where }\\;3Lm + 2R = 0\n",
    "\\end{equation}    "
   ]
  },
  {
   "cell_type": "markdown",
   "id": "75160147",
   "metadata": {},
   "source": [
    "and,\n",
    "\\begin{equation}\\tag{P4.8a}\n",
    "    m = -\\frac{2R}{3L}\n",
    "\\end{equation}    "
   ]
  },
  {
   "cell_type": "markdown",
   "id": "48f8e00e",
   "metadata": {},
   "source": [
    "The IVP of equation (P4.8) is, via equation (P4.2),  \n",
    "\n",
    "$$ i_L(0) = 0.5J + A = 0$$"
   ]
  },
  {
   "cell_type": "markdown",
   "id": "93dcd9dc",
   "metadata": {},
   "source": [
    "Thus,  \n",
    "\n",
    "\\begin{equation}\\tag{P4.9}\n",
    "    A = -0.5J\n",
    "\\end{equation}    "
   ]
  },
  {
   "cell_type": "markdown",
   "id": "b7eafb60",
   "metadata": {},
   "source": [
    "The **specific solution** to equations (P4.7) is, via equations (P4.9) and (P4.8),  \n",
    "\n",
    "\\begin{equation}\\tag{P4.10}\n",
    "    i_L = i_L(t) = 0.5J\\big(1-e^{mt}\\big)\n",
    "\\end{equation}    "
   ]
  },
  {
   "cell_type": "markdown",
   "id": "bdc53520",
   "metadata": {},
   "source": [
    "Via equations (P4.10) and (P4.3c),  \n",
    "\n",
    "\\begin{equation}\\tag{P4.11}\n",
    "    i_2 = i_2(t) = -\\frac{LJ}{2R}\\,me^{mt} = \\frac{J}{3}\\,e^{m t}\n",
    "\\end{equation}    "
   ]
  },
  {
   "cell_type": "markdown",
   "id": "f7422256",
   "metadata": {},
   "source": [
    "Finally, via equations (P4.11), (P4.10), and (P4.5),  \n",
    "\n",
    "\\begin{equation}\\tag{P4.12}\n",
    "    i = i(t) = \\frac{J}{2} - \\frac{J}{2}\\,e^{mt} + \\frac{J}{3}\\,e^{m t} = \\frac{J}{2} + Je^{m t}\\,\\left(\\frac{1}{3}-\\frac{1}{2}\\right) = \\frac{J}{2} - \\frac{J}{6}\\,e^{m t} = 0.5J\\,\\left(1 - \\frac{1}{3}\\,e^{m t}\\right)\n",
    "\\end{equation}    "
   ]
  },
  {
   "cell_type": "markdown",
   "id": "01bcfe47",
   "metadata": {},
   "source": [
    "![Fig-P.3.2.4](Figures/Fig-P.3.2.4.png)"
   ]
  },
  {
   "cell_type": "markdown",
   "id": "f06e2572",
   "metadata": {},
   "source": [
    "Now, for circuit **b)**: *Before* the switch is closed there is only the **natural response** to consider.  Under steady-state conditions, we have:  \n",
    "\n",
    "\\begin{equation}\\tag{P4.b.1}\n",
    "    U_{C\\infty} = 0\n",
    "\\end{equation}    "
   ]
  },
  {
   "cell_type": "markdown",
   "id": "83eddbff",
   "metadata": {},
   "source": [
    "*After* the switch is closed we have the **forced response** to consider.  Via KVL and element equations,  \n",
    "\n",
    "\\begin{equation}\\tag{P4.b.2}\n",
    "    \\text{a: }\\;E = Ri_1\\quad\\quad\\text{and}\\quad\\quad\\text{b: }\\;Ri_1 = 2Ri_2 + Ri_C\\quad\\quad\\text{c: }\\;Ri_2 = \\frac{1}{C}\\,\\int i_C\\,\\mathrm{d}t = \\frac{1}{C}\\,\\int_0^t i_C\\,\\mathrm{d}t\n",
    "\\end{equation}"
   ]
  },
  {
   "cell_type": "markdown",
   "id": "ab7e22cf",
   "metadata": {},
   "source": [
    "And, via KCL,  \n",
    "\n",
    "\\begin{equation}\\tag{P4.b.3}\n",
    "    i = i_2 + i_C\n",
    "\\end{equation}    "
   ]
  },
  {
   "cell_type": "markdown",
   "id": "0e049c13",
   "metadata": {},
   "source": [
    "Recall that '$i$' denotes the current flowing through the switch."
   ]
  },
  {
   "cell_type": "markdown",
   "id": "f723a891",
   "metadata": {},
   "source": [
    "Via equations (P4.b.2a, b) and equivalence principle,  \n",
    "\n",
    "$$E = 2Ri_2 + Ri_C$$"
   ]
  },
  {
   "cell_type": "markdown",
   "id": "87d173a5",
   "metadata": {},
   "source": [
    "\\begin{equation}\\tag{P4.b.4}\n",
    "    Ri_2 = 0.5(E-Ri_C)\n",
    "\\end{equation}    "
   ]
  },
  {
   "cell_type": "markdown",
   "id": "3647a253",
   "metadata": {},
   "source": [
    "And, via equations (P4.b.4) and (P4.b.2c) and equivalence principle,  \n",
    "\n",
    "$$ 0.5(E-Ri_C) = \\frac{1}{C}\\,\\int i_C\\,\\mathrm{d}t$$"
   ]
  },
  {
   "cell_type": "markdown",
   "id": "f89117ed",
   "metadata": {},
   "source": [
    "\\begin{equation}\\tag{P4.b.5}\n",
    "    0.5Ri_C + \\frac{1}{C}\\,\\int i_C\\,\\mathrm{d}t = 0.5E\n",
    "\\end{equation}    "
   ]
  },
  {
   "cell_type": "markdown",
   "id": "26cb877f",
   "metadata": {},
   "source": [
    "\\begin{equation}\\tag{P4.b.6}\n",
    "    Ri_C' + \\frac{1}{C}\\,i_C = 0\n",
    "\\end{equation}"
   ]
  },
  {
   "cell_type": "markdown",
   "id": "722eb714",
   "metadata": {},
   "source": [
    "\\begin{equation}\\tag{P4.b.7}\n",
    "    i_C = i_C(t) = Ae^{m t}\\quad\\quad\\text{where }\\;Rm + \\frac{1}{C} = 0\n",
    "\\end{equation}    "
   ]
  },
  {
   "cell_type": "markdown",
   "id": "dd893bb7",
   "metadata": {},
   "source": [
    "and,\n",
    "\\begin{equation}\\tag{P4.b.7a}\n",
    "    m = -\\frac{1}{RC}\n",
    "\\end{equation}    "
   ]
  },
  {
   "cell_type": "markdown",
   "id": "9a517fc3",
   "metadata": {},
   "source": [
    "Via equation (P4.b.1), KVL, and Ohm's Law,  \n",
    "\n",
    "$$ U_{C0} = RI_{2,0}= Ri_2(0) = 0$$"
   ]
  },
  {
   "cell_type": "markdown",
   "id": "905d8ae6",
   "metadata": {},
   "source": [
    "Thus,  \n",
    "\n",
    "$$ I_{2,0} = i_2(0) = 0$$"
   ]
  },
  {
   "cell_type": "markdown",
   "id": "ddf1668a",
   "metadata": {},
   "source": [
    "Additionally,  \n",
    "\n",
    "$$ E = Ri_1(0) = Ri_C(0)$$"
   ]
  },
  {
   "cell_type": "markdown",
   "id": "80339a09",
   "metadata": {},
   "source": [
    "Dividing throughout by $R$ gives the IVP:  \n",
    "\n",
    "\\begin{equation}\\tag{P4.b.8}\n",
    "    i_1(0) = i_C(0) = I_{C0} = \\frac{E}{R}\n",
    "\\end{equation}    "
   ]
  },
  {
   "cell_type": "markdown",
   "id": "bf980059",
   "metadata": {},
   "source": [
    "Via equations (P4.b.8) and (P4.b.7), we can solve for $A$.  \n",
    "\n",
    "\\begin{equation}\\tag{P4.b.9}\n",
    "    i_C(0) = A = \\frac{E}{R}\n",
    "\\end{equation}    "
   ]
  },
  {
   "cell_type": "markdown",
   "id": "a794e7d9",
   "metadata": {},
   "source": [
    "And, via equations (P4.b.9) and (P4.b.7), the **specific solution** to equation (P4.b.6) is:  \n",
    "\n",
    "\\begin{equation}\\tag{P4.b.10}\n",
    "    i_C = i_C(t) = \\frac{E}{R}\\,e^{ mt}\n",
    "\\end{equation}    "
   ]
  },
  {
   "cell_type": "markdown",
   "id": "42ece08f",
   "metadata": {},
   "source": [
    "$$ \\int i_C\\,\\mathrm{d}t = \\frac{E}{mR}\\,e^{m t} + c = - ECe^{m t} + c$$\n"
   ]
  },
  {
   "cell_type": "markdown",
   "id": "9190168c",
   "metadata": {},
   "source": [
    "$$ i_2 = i_2(t) = \\frac{1}{RC}\\,\\int_0^t i_C\\,\\mathrm{d}t = - \\frac{E}{R}\\,e^{m t} + \\frac{E}{R} = \\frac{E}{R}\\,\\big(1 - e^{m t}\\big)$$"
   ]
  },
  {
   "cell_type": "markdown",
   "id": "bc3bd6b0",
   "metadata": {},
   "source": [
    "Finally,  \n",
    "\n",
    "\\begin{equation}\\tag{P4.b.11}\n",
    "    i = i(t) = \\frac{E}{R}\n",
    "\\end{equation}    "
   ]
  },
  {
   "cell_type": "markdown",
   "id": "24dfc435",
   "metadata": {},
   "source": [
    "#### Problem 5\n",
    "5. Plot the capacitor voltage after closing the switch  \n",
    "\n",
    "![Fig-P.3.2.5](Figures/Fig-P.3.2.5.png)"
   ]
  },
  {
   "cell_type": "markdown",
   "id": "fbef41a4",
   "metadata": {},
   "source": [
    "Before closing the switch, via KVL and element equations,  \n",
    "\n",
    "\\begin{equation}\\tag{P5.1}\n",
    "    \\text{a: }\\;E = 2R(i_2 + i_C) + Ri_2\\quad\\quad\\text{b: }\\;Ri_2 = \\frac{1}{C}\\,\\int i_C\\,\\mathrm{d}t\n",
    "\\end{equation}    "
   ]
  },
  {
   "cell_type": "markdown",
   "id": "ed570882",
   "metadata": {},
   "source": [
    "$$ E = 3Ri_2 + 2Ri_C = \\frac{3}{C}\\,\\int i_C\\,\\mathrm{d}t + 2Ri_C$$"
   ]
  },
  {
   "cell_type": "markdown",
   "id": "65c64453",
   "metadata": {},
   "source": [
    "\\begin{equation}\\tag{P5.2}\n",
    "    2Ri_C' + \\frac{3}{C}\\,i_C = 0\n",
    "\\end{equation}    "
   ]
  },
  {
   "cell_type": "markdown",
   "id": "6f384246",
   "metadata": {},
   "source": [
    "The general solution to equation (P5.2) is:  \n",
    "\n",
    "\\begin{equation}\\tag{P5.3}\n",
    "    i_C = i_C(t) = Ae^{m t}\\quad\\quad\\text{where }\\;2Rm + \\frac{3}{C} = 0\n",
    "\\end{equation}    "
   ]
  },
  {
   "cell_type": "markdown",
   "id": "c2885a17",
   "metadata": {},
   "source": [
    "and,\n",
    "\\begin{equation}\\tag{P5.3a}\n",
    "    m = -\\frac{3}{2RC}\n",
    "\\end{equation}    "
   ]
  },
  {
   "cell_type": "markdown",
   "id": "7d99446e",
   "metadata": {},
   "source": [
    "Under steady-state conditions, $I_{C\\infty}= 0$ and, via KVL and Ohm's Law,  \n",
    "\n",
    "$$ E = 3RI_\\infty$$"
   ]
  },
  {
   "cell_type": "markdown",
   "id": "6c0cd2df",
   "metadata": {},
   "source": [
    "\\begin{equation}\\tag{P5.4}\n",
    "    RI_{\\infty} = U_{C\\infty} = \\frac{E}{3}\n",
    "\\end{equation}    "
   ]
  },
  {
   "cell_type": "markdown",
   "id": "038ff30d",
   "metadata": {},
   "source": [
    "**After** the **switch is closed**, via KVL and element equations,  \n",
    "\n",
    "\\begin{equation}\\tag{P5.5}\n",
    "    \\text{a: }\\;E = Ri_2 + (Ri_2+ i_C) = 2Ri_2 + Ri_C\\quad\\quad\\text{and}\\quad\\quad\\text{b: }\\;Ri_2 = \\frac{1}{C}\\,\\int i_C\\,\\mathrm{d}t\n",
    "\\end{equation}    "
   ]
  },
  {
   "cell_type": "markdown",
   "id": "c5b84267",
   "metadata": {},
   "source": [
    "$$ E = \\frac{2}{C}\\,\\int i_C\\,\\mathrm{d}t + Ri_C$$"
   ]
  },
  {
   "cell_type": "markdown",
   "id": "ac1772ab",
   "metadata": {},
   "source": [
    "\\begin{equation}\\tag{P5.6}\n",
    "    Ri_C' + \\frac{2}{C}\\,i_C = 0\n",
    "\\end{equation}    "
   ]
  },
  {
   "cell_type": "markdown",
   "id": "b8d44892",
   "metadata": {},
   "source": [
    "The general solution to equation (P5.6) is:  \n",
    "\n",
    "\\begin{equation}\\tag{P5.7}\n",
    "    i_C = i_C(t) = Ae^{m t} \\quad\\quad\\text{where }\\;Rm + \\frac{2}{C} = 0\n",
    "\\end{equation}    "
   ]
  },
  {
   "cell_type": "markdown",
   "id": "0610af15",
   "metadata": {},
   "source": [
    "and,\n",
    "\\begin{equation}\\tag{P5.7a}\n",
    "    m = - \\frac{2}{RC}\n",
    "\\end{equation}    "
   ]
  },
  {
   "cell_type": "markdown",
   "id": "ad4c7e8b",
   "metadata": {},
   "source": [
    "For the IVP:  \n",
    "\n",
    "$$ U_{C0} = Ri_2(0) = \\frac{E}{3}$$"
   ]
  },
  {
   "cell_type": "markdown",
   "id": "497f9b2f",
   "metadata": {},
   "source": [
    "$$ E = 2Ri_2(0) + Ri_C(0)$$"
   ]
  },
  {
   "cell_type": "markdown",
   "id": "46018309",
   "metadata": {},
   "source": [
    "\\begin{equation}\\tag{P5.8}\n",
    "    i_C(0) = I_{C0} = \\frac{E}{R} - 2i_2(0) = \\frac{E}{R} - \\frac{2E}{3R} = \\frac{E}{R}\\,\\left(1 - \\frac{2}{3}\\right) = \\frac{E}{3R} = A\n",
    "\\end{equation}    "
   ]
  },
  {
   "cell_type": "markdown",
   "id": "78c5c8a3",
   "metadata": {},
   "source": [
    "Via equations (P5.8) and (P5.7), the **specific solution** to equation (P5.6) is:  \n",
    "\n",
    "\\begin{equation}\\tag{P5.9}\n",
    "    i_C = i_C(t) = \\frac{E}{3R}\\,e^{m t}\n",
    "\\end{equation}    "
   ]
  },
  {
   "cell_type": "markdown",
   "id": "681bbbc3",
   "metadata": {},
   "source": [
    "Recall that:  \n",
    "\n",
    "$$  u_C = u_C(t) = \\frac{1}{C}\\,\\int_0^t i_C\\,\\mathrm{d}t + \\frac{E}{3}$$"
   ]
  },
  {
   "cell_type": "markdown",
   "id": "86307b51",
   "metadata": {},
   "source": [
    "$$\\int i_C\\,\\mathrm{d} t = \\frac{E}{3mR}\\,e^{mt} + c = -\\frac{EC}{6}\\,e^{m t}$$\n"
   ]
  },
  {
   "cell_type": "markdown",
   "id": "0aaad244",
   "metadata": {},
   "source": [
    "Thus,\n",
    "\\begin{equation}\\tag{P5.10}\n",
    "    u_C = u_C(t) = -\\frac{E}{6}\\,e^{mt} + \\frac{E}{6} = \\frac{E}{6}\\big(1 - e^{mt}\\big) + \\frac{E}{3}\n",
    "\\end{equation}    "
   ]
  },
  {
   "cell_type": "markdown",
   "id": "0b856bf6",
   "metadata": {},
   "source": [
    "$$U_{C0} = \\frac{E}{3}\\quad\\quad\\text{and}\\quad\\quad U_{C\\infty} = 0.5E$$"
   ]
  },
  {
   "cell_type": "markdown",
   "id": "ba196843",
   "metadata": {},
   "source": [
    "#### Problem 6\n",
    "6. Find resistance $R$ such that no transient response is present in the source current, denoted as '$i$'. Plot this\n",
    "    current.  \n",
    "    \n",
    "![Fig-P.3.2.6](Figures/Fig-P.3.2.6.png)"
   ]
  },
  {
   "cell_type": "markdown",
   "id": "415274fa",
   "metadata": {},
   "source": [
    "Let $E$, $C$, $L$, and $R_1$ be defined as:  \n",
    "\n",
    "$$ E=10\\mathrm{V}\\quad\\quad C = 1\\mu\\mathrm{F}\\quad\\quad L=1\\mathrm{H}\\quad\\quad R_1 = 2000\\Omega$$"
   ]
  },
  {
   "cell_type": "markdown",
   "id": "ccf1fe33",
   "metadata": {},
   "source": [
    "*Before* the switch is closed, we have the **natural response**.  Via KVL and element equation,  \n",
    "\n",
    "\\begin{align*}\n",
    "    \\frac{1}{C}\\,\\int i_C\\,\\mathrm{d}t + Ri_C &= -\\frac{1}{C}\\,\\int i_L\\,\\mathrm{d}t - Ri_L \\\\ \\\\\n",
    "     &= Li_L' + R_1i_L \n",
    "\\end{align*}     "
   ]
  },
  {
   "cell_type": "markdown",
   "id": "017981e8",
   "metadata": {},
   "source": [
    "Note that $i_L=-i_C$."
   ]
  },
  {
   "cell_type": "markdown",
   "id": "66599876",
   "metadata": {},
   "source": [
    "Thus,\n",
    "$$ Li_L' + (R+R_1)i_L + \\frac{1}{C}\\,\\int i_L\\,\\mathrm{d}t = 0$$"
   ]
  },
  {
   "cell_type": "markdown",
   "id": "840f2db6",
   "metadata": {},
   "source": [
    "Differentiating throughout the above equation with respect to time gives:  \n",
    "\n",
    "\\begin{equation}\\tag{P6.1}\n",
    "    Li_L'' + (R+R_1)i_L' + \\frac{1}{C}\\,i_L = 0\n",
    "\\end{equation}"
   ]
  },
  {
   "cell_type": "code",
   "execution_count": 9,
   "id": "73d8e5ab",
   "metadata": {},
   "outputs": [
    {
     "data": {
      "text/plain": [
       "True"
      ]
     },
     "execution_count": 9,
     "metadata": {},
     "output_type": "execute_result"
    }
   ],
   "source": [
    "2000**2 == 4e6"
   ]
  },
  {
   "cell_type": "markdown",
   "id": "11fe9361",
   "metadata": {},
   "source": [
    "Assuming $R=0$, we have a *critically damped* case, which means that the general solution to equation (P6.1) is:  \n",
    "\n",
    "\\begin{equation}\\tag{P6.2.1}\n",
    "    i_L = i_L(t) = e^{m t}(A + Bt)\\quad\\quad \\text{where }\\; m = -\\frac{R_1}{2L}\n",
    "\\end{equation}    "
   ]
  },
  {
   "cell_type": "markdown",
   "id": "39abf1f0",
   "metadata": {},
   "source": [
    "Recall that:  \n",
    "\n",
    "$$ u_C = u_C(t) = -\\frac{1}{C}\\,\\int_0^t i_L\\,\\mathrm{d}t + U_{C0}$$"
   ]
  },
  {
   "cell_type": "markdown",
   "id": "7f46160d",
   "metadata": {},
   "source": [
    "and that:  \n",
    "\n",
    "\\begin{equation}\\tag{P6.5}\n",
    "    u_C(\\infty) = U_{C\\infty} = -\\frac{1}{C}\\,\\int_0^\\infty i_L\\,\\mathrm{d}t + U_{C0} = 0\n",
    "\\end{equation}    "
   ]
  },
  {
   "cell_type": "markdown",
   "id": "f493ec0d",
   "metadata": {},
   "source": [
    "The primitive integral of $i_L$, in the critically damped case, is:  \n",
    "\n",
    "\\begin{equation}\\tag{P6.3}\n",
    "    \\int i_L\\,\\mathrm{d}t = e^{m t}(S + Pt) + c\n",
    "\\end{equation}    "
   ]
  },
  {
   "cell_type": "markdown",
   "id": "684e0654",
   "metadata": {},
   "source": [
    "where,  \n",
    "\n",
    "$$ me^{m t}(S+Pt) + Pe^{m t} = e^{m t}(A + Bt)$$"
   ]
  },
  {
   "cell_type": "markdown",
   "id": "67c972e4",
   "metadata": {},
   "source": [
    "$$ m(S + Pt) + P = A + Bt$$"
   ]
  },
  {
   "cell_type": "markdown",
   "id": "bff6edc4",
   "metadata": {},
   "source": [
    "$$ mP = B$$"
   ]
  },
  {
   "cell_type": "markdown",
   "id": "c34e8983",
   "metadata": {},
   "source": [
    "\\begin{equation}\\tag{P6.3a}\n",
    "    P = \\frac{B}{m} = - \\frac{2LB}{R_1}\n",
    "\\end{equation}    "
   ]
  },
  {
   "cell_type": "markdown",
   "id": "7677de83",
   "metadata": {},
   "source": [
    "$$ mS + P = A$$"
   ]
  },
  {
   "cell_type": "markdown",
   "id": "a7132aad",
   "metadata": {},
   "source": [
    "$$ mS = A - P = A - \\frac{B}{m}$$"
   ]
  },
  {
   "cell_type": "markdown",
   "id": "5beb7b5f",
   "metadata": {},
   "source": [
    "\\begin{equation}\\tag{P6.3b}\n",
    "    S = \\frac{A}{m} - \\frac{B}{m^2} = \\frac{mA - B}{m^2}\n",
    "\\end{equation}    "
   ]
  },
  {
   "cell_type": "markdown",
   "id": "3d9e8b6f",
   "metadata": {},
   "source": [
    "Via equations (P6.3),  \n",
    "\n",
    "\\begin{equation}\\tag{P6.4}\n",
    "    \\int i_L\\,\\mathrm{d}t = e^{m t}\\,\\left(\\frac{mA-B}{m^2} + \\frac{B}{m}\\,t\\right) + c = e^{mt}\\,\\frac{mA + mB - B}{m^2} + c = e^{m t}\\,\\frac{m(A+B) - B}{m^2} + c\n",
    "\\end{equation}    "
   ]
  },
  {
   "cell_type": "markdown",
   "id": "3e0fe6b1",
   "metadata": {},
   "source": [
    "And, via equations (P6.4) and (P6.5),  \n",
    "\n",
    "\\begin{equation}\\tag{P6.6}\n",
    "    \\frac{B - m(A+B)}{m^2} = U_{C0}\n",
    "\\end{equation}    "
   ]
  },
  {
   "cell_type": "markdown",
   "id": "f93e99ad",
   "metadata": {},
   "source": [
    "Via KVL, element equations, and equation (P6.2.1),  \n",
    "\n",
    "$$ U_{C0} = Li_L'(0) + R_1i_L(0) = R_1A + mA + B$$"
   ]
  },
  {
   "cell_type": "markdown",
   "id": "54a0d0ec",
   "metadata": {},
   "source": [
    "Assuming $R>0$, we have an *overdamped* case, which means that:  \n",
    "\n",
    "\\begin{equation}\\tag{P6.2.2}\n",
    "    i_L = i_L(t) = Ae^{m_1 t} + Be^{m_2 t}\n",
    "\\end{equation}"
   ]
  },
  {
   "cell_type": "markdown",
   "id": "9f510102",
   "metadata": {},
   "source": [
    "In either case, the under state-state conditions,  \n",
    "\n",
    "\\begin{equation}\\tag{P6.7}\n",
    "    \\text{a: }\\;U_{C\\infty} = 0\\quad\\quad\\text{and}\\quad\\quad\\text{b: }\\;I_{L\\infty} = -I_{C\\infty} = 0\n",
    "\\end{equation}    "
   ]
  },
  {
   "cell_type": "markdown",
   "id": "ded3b9bb",
   "metadata": {},
   "source": [
    "![Fig-P.3.2.6](Figures/Fig-P.3.2.6.png)"
   ]
  },
  {
   "cell_type": "markdown",
   "id": "6081a30c",
   "metadata": {},
   "source": [
    "After closing the switch, we have the **forced response**.  Via KVL and element equations,  \n",
    "\n",
    "\\begin{equation}\\tag{P6.a.1}\n",
    "    \\text{a: }\\;E = Ri_C + \\frac{1}{C}\\,\\int i_C\\,\\mathrm{d}t\\quad\\quad\\text{and}\\quad\\quad\\text{b: }\\;\\frac{1}{C}\\,\\int i_C\\,\\mathrm{d}t + Ri_C = Li_L' + R_1i_L\n",
    "\\end{equation}    "
   ]
  },
  {
   "cell_type": "markdown",
   "id": "a792b2b0",
   "metadata": {},
   "source": [
    "and,\n",
    "\\begin{equation}\\tag{P6.a.1c}\n",
    "    Li_L' + R_1i_L = E\n",
    "\\end{equation}    "
   ]
  },
  {
   "cell_type": "markdown",
   "id": "3febc221",
   "metadata": {},
   "source": [
    "And, via KCL,  \n",
    "\n",
    "\\begin{equation}\\tag{P6.a.2}\n",
    "    i = i_C + i_L\n",
    "\\end{equation}    "
   ]
  },
  {
   "cell_type": "markdown",
   "id": "3f76672d",
   "metadata": {},
   "source": [
    "Differentiating throughout equation (P6.a.1a) with respect to time gives:  \n",
    "\n",
    "\\begin{equation}\\tag{P6.a.3}\n",
    "    Ri_C' + \\frac{1}{C}\\,i_C = 0\n",
    "\\end{equation}    "
   ]
  },
  {
   "cell_type": "markdown",
   "id": "03a67698",
   "metadata": {},
   "source": [
    "The general solution to equation (P6.a.3) is:  \n",
    "\n",
    "\\begin{equation}\\tag{P6.a.4}\n",
    "    i_C = i_C(t)= Ae^{m t}\\quad\\quad\\text{where }\\; Rm + \\frac{1}{C} = 0\n",
    "\\end{equation}    "
   ]
  },
  {
   "cell_type": "markdown",
   "id": "40d6dce7",
   "metadata": {},
   "source": [
    "\\begin{equation}\\tag{P6.a.4a}\n",
    "    m = - \\frac{1}{RC}\n",
    "\\end{equation}    "
   ]
  },
  {
   "cell_type": "markdown",
   "id": "daa6d20d",
   "metadata": {},
   "source": [
    "Note that equation (P6.a.4a) implies that $R\\ne 0$, ruling out the *critically damped* case."
   ]
  },
  {
   "cell_type": "markdown",
   "id": "d409a303",
   "metadata": {},
   "source": [
    "Via equation (P6.7b),  \n",
    "\n",
    "\\begin{equation}\\tag{P6.a.5}\n",
    "    I_{L0} = i_L(0) = 0\n",
    "\\end{equation}    "
   ]
  },
  {
   "cell_type": "markdown",
   "id": "12508a92",
   "metadata": {},
   "source": [
    "And, via equations (P6.a.5), (P6.a.2), (P6.a.4),  \n",
    "\n",
    "$$ I_0 = I_{C0} = A$$"
   ]
  },
  {
   "cell_type": "markdown",
   "id": "02c4b96a",
   "metadata": {},
   "source": [
    "$$ i_C = I_0e^{m t}$$"
   ]
  },
  {
   "cell_type": "markdown",
   "id": "df218967",
   "metadata": {},
   "source": [
    "Via KVL and Ohm's Law,  \n",
    "\n",
    "$$ E = RI_0 + U_{C0} = RI_0$$"
   ]
  },
  {
   "cell_type": "markdown",
   "id": "c340b697",
   "metadata": {},
   "source": [
    "Thus, the **specific solution** to equation (P6.a.3) is:  \n",
    "\n",
    "\\begin{equation}\\tag{P6.a.6}\n",
    "    i_C = i_C(t) = \\frac{E}{R}\\,e^{m t}\n",
    "\\end{equation}    "
   ]
  },
  {
   "cell_type": "code",
   "execution_count": 13,
   "id": "031f7cbe",
   "metadata": {
    "code_folding": [
     0
    ]
   },
   "outputs": [
    {
     "data": {
      "text/plain": [
       "[<matplotlib.lines.Line2D at 0x7fcec54700d0>]"
      ]
     },
     "execution_count": 13,
     "metadata": {},
     "output_type": "execute_result"
    },
    {
     "data": {
      "image/png": "[encoded data removed]",
      "text/plain": [
       "<Figure size 432x288 with 1 Axes>"
      ]
     },
     "metadata": {
      "needs_background": "light"
     },
     "output_type": "display_data"
    }
   ],
   "source": [
    "# Set circuit parameters.\n",
    "E = 10; R_1 = 2000; L = 1; C = 1e-6; T = R*C\n",
    "\n",
    "# Assume the value of R.\n",
    "R = R_1\n",
    "\n",
    "# Create the time domain.\n",
    "t = np.linspace(0, 6*T, num=200)\n",
    "\n",
    "# Identify the function that gives the capacitor current, denoted as 'i_C'.\n",
    "i_C = np.e**(-t/T)*E/R_1\n",
    "\n",
    "# Create the figure and axes objects.\n",
    "fig, ax = plt.subplots()\n",
    "ax.set_title(r'Capacitor Current', size=14)\n",
    "ax.set_xlabel(r'time [ms]')\n",
    "ax.set_ylabel(r'current [mA]')\n",
    "ax.grid()\n",
    "\n",
    "# Plot the current flowing through the capacitor (i_C).\n",
    "ax.plot(t*1000, i_C*1000)"
   ]
  },
  {
   "cell_type": "code",
   "execution_count": 12,
   "id": "4ac38d18",
   "metadata": {},
   "outputs": [
    {
     "data": {
      "text/plain": [
       "(1.2393760883331798e-05, 0.005)"
      ]
     },
     "execution_count": 12,
     "metadata": {},
     "output_type": "execute_result"
    }
   ],
   "source": [
    "(min(i_C), max(i_C))"
   ]
  },
  {
   "cell_type": "markdown",
   "id": "ec6b0951",
   "metadata": {},
   "source": [
    "The general solution to equation (P6.a.1c) is:  \n",
    "\n",
    "\\begin{equation}\\tag{P6.a.7}\n",
    "    i_L = i_L(t) = \\frac{E}{R_1} + Be^{m_1 t} \\quad\\quad\\text{where }\\; Lm_1 + R_1 = 0\n",
    "\\end{equation}    "
   ]
  },
  {
   "cell_type": "markdown",
   "id": "99c4889f",
   "metadata": {},
   "source": [
    "\\begin{equation}\\tag{P6.a.7a}\n",
    "    m_1 = - \\frac{R_1}{L}\n",
    "\\end{equation}    "
   ]
  },
  {
   "cell_type": "markdown",
   "id": "85e9167a",
   "metadata": {},
   "source": [
    "Via equations (P6.a.7) and (P6.7b),  \n",
    "\n",
    "$$ i_L(0) = I_{L0} = \\frac{E}{R_1} + B = 0$$"
   ]
  },
  {
   "cell_type": "markdown",
   "id": "4689887e",
   "metadata": {},
   "source": [
    "\\begin{equation}\\tag{P6.a.8}\n",
    "    B = -\\frac{E}{R_1}\n",
    "\\end{equation}    "
   ]
  },
  {
   "cell_type": "markdown",
   "id": "c2cab7df",
   "metadata": {},
   "source": [
    "The **specific solution** to equation (P6.a.1c) is:  \n",
    "\n",
    "\\begin{equation}\\tag{P6.a.9}\n",
    "    i_L = i_L(t) = \\frac{E}{R_1}-\\frac{E}{R_1}\\,e^{m_1 } = \\frac{E}{R_1}\\,\\big(1-e^{m_1 t}\\big)\n",
    "\\end{equation}    "
   ]
  },
  {
   "cell_type": "code",
   "execution_count": 16,
   "id": "2691a60f",
   "metadata": {},
   "outputs": [
    {
     "data": {
      "text/plain": [
       "[<matplotlib.lines.Line2D at 0x7fcec5796490>]"
      ]
     },
     "execution_count": 16,
     "metadata": {},
     "output_type": "execute_result"
    },
    {
     "data": {
      "image/png": "[encoded data removed]",
      "text/plain": [
       "<Figure size 432x288 with 1 Axes>"
      ]
     },
     "metadata": {
      "needs_background": "light"
     },
     "output_type": "display_data"
    }
   ],
   "source": [
    "# Identify the time constant of i_L, denoted as 'T_1'.\n",
    "T_1 = L/R_1\n",
    "\n",
    "# Create the time domain.\n",
    "t = np.linspace(0, 6*T_1, num=200)\n",
    "\n",
    "# Identify the function that gives the inductor current, denoted as 'i_L'.\n",
    "i_L = E/R_1 * (1 - np.e**(-t/T_1))\n",
    "\n",
    "# Create the figure and axes objects.\n",
    "fig, ax = plt.subplots()\n",
    "ax.set_title(r'Inductor Current', size=14)\n",
    "ax.set_xlabel(r'time [ms]')\n",
    "ax.set_ylabel(r'current [mA]')\n",
    "ax.grid()\n",
    "\n",
    "# Plot the current flowing through the coil (inductor).\n",
    "ax.plot(t*1000, i_L*1000)"
   ]
  },
  {
   "cell_type": "code",
   "execution_count": 15,
   "id": "4029ff15",
   "metadata": {},
   "outputs": [
    {
     "data": {
      "text/plain": [
       "0.0005"
      ]
     },
     "execution_count": 15,
     "metadata": {},
     "output_type": "execute_result"
    }
   ],
   "source": [
    "T_1"
   ]
  },
  {
   "cell_type": "markdown",
   "id": "1f869d38",
   "metadata": {},
   "source": [
    "Both $i_L$ and $i_C$ have a transient response.  In order for $i$ to have no transient response, the two other ones must cancel each other out."
   ]
  },
  {
   "cell_type": "markdown",
   "id": "01e1dbd0",
   "metadata": {},
   "source": [
    "The time constant for $i_C$, denoted as '$T$', is:  \n",
    "\n",
    "\\begin{equation}\\tag{P6.a.4b}\n",
    "    T = -\\frac{1}{m} = RC\n",
    "\\end{equation}    "
   ]
  },
  {
   "cell_type": "markdown",
   "id": "7d024bcb",
   "metadata": {},
   "source": [
    "Thus, equation (P6.a.6) can be rewritten as:  \n",
    "\n",
    "\\begin{equation}\\tag{P6.a.6}\n",
    "    i_C = i_C(t) = \\frac{E}{R}\\,e^{-t/T}\n",
    "\\end{equation}    "
   ]
  },
  {
   "cell_type": "markdown",
   "id": "3741a52f",
   "metadata": {},
   "source": [
    "And, the time constant for $i_L$, denoted as '$T_1$', is:  \n",
    "\n",
    "\\begin{equation}\\tag{P6.a.7b}\n",
    "    T_1 = -\\frac{1}{m_1} = \\frac{L}{R_1}\n",
    "\\end{equation}    "
   ]
  },
  {
   "cell_type": "markdown",
   "id": "c2cf24d6",
   "metadata": {},
   "source": [
    "Thus, equation (P6.a.9) can be rewritten as:  \n",
    "\n",
    "\\begin{equation}\\tag{P6.a.9}\n",
    "    i_L = i_L(t) = \\frac{E}{R_1}\\,\\big(1-e^{-t/T_1}\\big)\n",
    "\\end{equation}    "
   ]
  },
  {
   "cell_type": "markdown",
   "id": "0ce4b20e",
   "metadata": {},
   "source": [
    "The larger the time constant of a circuit variable is, the longer it takes for said circuit variable to reach steady-state conditions."
   ]
  },
  {
   "cell_type": "markdown",
   "id": "7630ad47",
   "metadata": {},
   "source": [
    "Assuming $i = G_1E$ (i.e. no transient response),  \n",
    "\n",
    "$$ Ge^{m t} = G_1e^{m_1 t}$$"
   ]
  },
  {
   "cell_type": "markdown",
   "id": "51d414be",
   "metadata": {},
   "source": [
    "The above equality must hold true within the given timeframe, which depends on the relationship between $T$ and $T_1$.  \n",
    "\n",
    "$$ 0\\le t \\le \\begin{cases}\\tag{P6.a.10}\n",
    "    T &\\quad &\\text{if }\\;T>T_1 \\\\\n",
    "    T_1 &\\quad &\\text{if }\\;T_1>T\n",
    "\\end{cases}$$"
   ]
  },
  {
   "cell_type": "markdown",
   "id": "d158ef9c",
   "metadata": {},
   "source": [
    "Taking the natural logarithm of both sides gives:  \n",
    "\n",
    "$$ mt - \\log R = m_1 t - \\log R_1$$"
   ]
  },
  {
   "cell_type": "markdown",
   "id": "34833334",
   "metadata": {},
   "source": [
    "$$ -\\frac{1}{RC}\\,t - \\log R = -\\frac{R_1}{L}\\,t - \\log R_1$$"
   ]
  },
  {
   "cell_type": "markdown",
   "id": "c1930ee9",
   "metadata": {},
   "source": [
    "Via the above equation and the fact that:  \n",
    "\n",
    "$$ R_1 = 2\\,\\sqrt{\\frac{L}{C}}$$"
   ]
  },
  {
   "cell_type": "markdown",
   "id": "9b30a42f",
   "metadata": {},
   "source": [
    "$$ \\log R - \\log R_1 = \\frac{2}{\\sqrt{LC}}\\,t - \\frac{1}{RC}\\,t = \\frac{2R\\sqrt{C} - \\sqrt{L}}{RC\\sqrt{L}}\\,t = \\frac{2R\\sqrt{C} - 1}{RC}\\,t$$"
   ]
  },
  {
   "cell_type": "markdown",
   "id": "a332917b",
   "metadata": {},
   "source": [
    "\\begin{equation}\\tag{P6.a.11}\n",
    "    t = \\frac{RC(\\log R - \\log R_1)}{2R\\sqrt{C}-1}\n",
    "\\end{equation}    "
   ]
  },
  {
   "cell_type": "markdown",
   "id": "992b736e",
   "metadata": {},
   "source": [
    "Assuming $T>T_1$, via equation (P6.a.11) and premise (P6.a.10),  \n",
    "\n",
    "$$ \\frac{RC(\\log R - \\log R_1)}{2R\\sqrt{C}-1} \\le T = RC$$"
   ]
  },
  {
   "cell_type": "markdown",
   "id": "bef28936",
   "metadata": {},
   "source": [
    "Dividing throughout by $RC$ and multiplying throughout by the denominator of the left hand side of the above inequality gives, assuming $2R\\sqrt{C}>1$:  \n",
    "\n",
    "$$ \\log R - \\log R_1 \\le 2R\\sqrt{C} - 1$$"
   ]
  }
 ],
 "metadata": {
  "kernelspec": {
   "display_name": "Python 3",
   "language": "python",
   "name": "python3"
  },
  "language_info": {
   "codemirror_mode": {
    "name": "ipython",
    "version": 3
   },
   "file_extension": ".py",
   "mimetype": "text/x-python",
   "name": "python",
   "nbconvert_exporter": "python",
   "pygments_lexer": "ipython3",
   "version": "3.8.10"
  }
 },
 "nbformat": 4,
 "nbformat_minor": 5
}
