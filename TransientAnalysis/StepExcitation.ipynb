{
 "cells": [
  {
   "cell_type": "markdown",
   "id": "2a38f84a",
   "metadata": {},
   "source": [
    "# Circuits with Step Excitation\n",
    "\n",
    "### Transient Analysis- *Chapter 3.2*\n",
    "\n",
    "The transient response caused by a changing of the topology of a circuit with time-invariant (dc)\n",
    "excitation, by moving a switch at $t=0$, is considered at first. It is generally assumed that at $t=0_-$\n",
    ", all circuit variables (currents and voltages) are zero or/and constant."
   ]
  },
  {
   "cell_type": "markdown",
   "id": "5f2fb52b",
   "metadata": {},
   "source": [
    "In general, such response may be sum of two components:\n",
    "* natural response or zero-input response,\n",
    "* forced response or zero-state response."
   ]
  },
  {
   "cell_type": "markdown",
   "id": "db7c16e1",
   "metadata": {},
   "source": [
    "**Natural response** or **zero-input response**  \n",
    "\n",
    "\\begin{equation}\\tag{1a}\n",
    "    y_n(t) = y_n\n",
    "\\end{equation}\n",
    "\n",
    "is the result of initial capacitive and/or inductive energy stored within a circuit (i.e. the initial condition)."
   ]
  },
  {
   "cell_type": "markdown",
   "id": "0be56682",
   "metadata": {},
   "source": [
    "**Forced response** or **zero-state response**  \n",
    "\n",
    "\\begin{equation}\\tag{1b}\n",
    "    y_f(t) = y_f\n",
    "\\end{equation}\n",
    "\n",
    "is the result of excitations or independent sources acting on the circuit."
   ]
  },
  {
   "cell_type": "markdown",
   "id": "d7f62d60",
   "metadata": {},
   "source": [
    "Then, the total response, so called **complete response**:  \n",
    "\n",
    "\\begin{equation}\\tag{1c}\n",
    "    y = y_n + y_f\n",
    "\\end{equation}    "
   ]
  },
  {
   "cell_type": "markdown",
   "id": "21e1a544",
   "metadata": {},
   "source": [
    "is a superposition of the initial condition response with all independent sources zeroed and the\n",
    "response to independent sources with the initial conditions zeroed. Block diagram\n",
    "interpretation of this strategy is presented in Fig. 3.2.1, where x is the excitation, is the\n",
    "initial condition."
   ]
  },
  {
   "cell_type": "markdown",
   "id": "435fc88c",
   "metadata": {},
   "source": [
    "![Fig-3.2.1](Figures/Fig-3.2.1.png)"
   ]
  },
  {
   "cell_type": "markdown",
   "id": "4bac7b1d",
   "metadata": {},
   "source": [
    "## Forced Response\n",
    "After throwing a switch, the dc voltage source $E$ may be described by the unit step function, denoted as '$\\mathbf{1}()$', (3.2.3a) and the current source $J$ may be described by the unit step function (3.2.3b)."
   ]
  },
  {
   "cell_type": "markdown",
   "id": "5844a429",
   "metadata": {},
   "source": [
    "\\begin{equation}\\tag{3a}\n",
    "    e(t) = e = E\\mathbf{1}(t)\n",
    "\\end{equation}    "
   ]
  },
  {
   "cell_type": "markdown",
   "id": "b6daa674",
   "metadata": {},
   "source": [
    "\\begin{equation}\\tag{3b}\n",
    "    j(t) = j = J\\mathbf{1}(t)\n",
    "\\end{equation}    "
   ]
  },
  {
   "cell_type": "markdown",
   "id": "93bac924",
   "metadata": {},
   "source": [
    "Three different methods of transient analysis can be distinguished:\n",
    "* Time-domain method,\n",
    "* Laplace Transform or Operator method,\n",
    "* Method based on boundary values determination."
   ]
  },
  {
   "cell_type": "markdown",
   "id": "45d6d674",
   "metadata": {},
   "source": [
    "First two are applicable to both 1st order circuit and higher-order circuit, the last one is\n",
    "applicable only to the 1st order circuit. Use of all three methods will be presented on\n",
    "exemplary circuits."
   ]
  },
  {
   "cell_type": "markdown",
   "id": "9954b3a4",
   "metadata": {},
   "source": [
    "### First Order circuit – Time-domain method\n",
    "#### Example 3.2.1\n",
    "The simple one-loop RL circuit is presented in Fig. 3.2.2. Find the coil current and voltage\n",
    "after closing the switch, by means of the time-domain method."
   ]
  },
  {
   "cell_type": "markdown",
   "id": "da1dc538",
   "metadata": {},
   "source": [
    "There is no energy initially stored in the coil, $I_0=0$ . Then, only forced response should be\n",
    "considered. The dc circuits at boundary, initial and steady state, conditions are presented in\n",
    "Fig. 3.2.3. The boundary values of the circuit responses are collected in Table 3.2.1  \n",
    "\n",
    "![Fig-3.2.3](Figures/Fig-3.2.3.png)"
   ]
  },
  {
   "cell_type": "markdown",
   "id": "0146d06b",
   "metadata": {},
   "source": [
    "![Table-3.2.1](Figures/Table-3.2.1.png)"
   ]
  },
  {
   "cell_type": "markdown",
   "id": "de2fcc84",
   "metadata": {},
   "source": [
    "For the **initial condition** (left hand circuit):  Via KVL and Ohm's Law,  \n",
    "\n",
    "\\begin{equation}\\tag{M1}\n",
    "    E = RI_0 + U_0 = U_0\n",
    "\\end{equation}    "
   ]
  },
  {
   "cell_type": "markdown",
   "id": "df20bcbf",
   "metadata": {},
   "source": [
    "Which is stated in row 2 column 1 of Table 3.2.1."
   ]
  },
  {
   "cell_type": "markdown",
   "id": "15c2c28f",
   "metadata": {},
   "source": [
    "For the **steady state condition** (right hand circuit),  Via KVL and Ohm's Law,  \n",
    "\n",
    "\\begin{equation}\\tag{M2}\n",
    "    E = RI_\\infty + U_\\infty = RI_\\infty\n",
    "\\end{equation}    "
   ]
  },
  {
   "cell_type": "markdown",
   "id": "d89aa9ca",
   "metadata": {},
   "source": [
    "Thus,\n",
    "\\begin{equation}\\tag{M3}\n",
    "    I_\\infty = \\frac{E}{R}\n",
    "\\end{equation}    "
   ]
  },
  {
   "cell_type": "markdown",
   "id": "740d162d",
   "metadata": {},
   "source": [
    "Which is stated in row 1 column 2 of Table 3.2.1."
   ]
  },
  {
   "cell_type": "markdown",
   "id": "2f9dde6c",
   "metadata": {},
   "source": [
    "In general, when $t\\ge 0$, the voltages dropped across each element are given by:  \n",
    "\n",
    "\\begin{equation}\\tag{4}\n",
    "    \\text{a: }\\;u_R = Ri\\quad\\quad\\text{b: }\\;u = L\\frac{\\mathrm{d}i}{\\mathrm{d}t}\\quad\\quad\\text{c: }\\;E=u+u_R\n",
    "\\end{equation}    "
   ]
  },
  {
   "cell_type": "markdown",
   "id": "764ec826",
   "metadata": {},
   "source": [
    "Note that equation (4c) is obtained from KVL.  Via equations (4),  \n",
    "\n",
    "\\begin{equation}\\tag{5}\n",
    "    L\\frac{\\mathrm{d}i}{\\mathrm{d}t} + Ri = E\n",
    "\\end{equation}    "
   ]
  },
  {
   "cell_type": "markdown",
   "id": "732f4584",
   "metadata": {},
   "source": [
    "Which is a $1^{\\mathrm{st}}$ order differential equation (DE).  The solution to equation (5) has two part:  The steady-state response, and the transient exponential response."
   ]
  },
  {
   "cell_type": "markdown",
   "id": "7fe97fde",
   "metadata": {},
   "source": [
    "The **stead-state** response is:  \n",
    "\n",
    "\\begin{equation}\\tag{6a}\n",
    "    I_\\infty = \\frac{E}{R}\n",
    "\\end{equation}    "
   ]
  },
  {
   "cell_type": "markdown",
   "id": "7a37e9c8",
   "metadata": {},
   "source": [
    "And, the **transient exponential** response is of the form:  \n",
    "\n",
    "\\begin{equation}\\tag{6b}\n",
    "    i_\\infty = Be^{mt}\n",
    "\\end{equation}    "
   ]
  },
  {
   "cell_type": "markdown",
   "id": "9e347bf8",
   "metadata": {},
   "source": [
    "where $B\\in\\mathbb{R}$ is an arbitrary constant to be solved for using an inital value (IVP) or initial boundary problem (IBP), and $m$ is the root to the auxiliary equation (AE):  \n",
    "\n",
    "\\begin{equation}\\tag{5a}\n",
    "    Lm + R = 0\n",
    "\\end{equation}    "
   ]
  },
  {
   "cell_type": "markdown",
   "id": "8b43ab83",
   "metadata": {},
   "source": [
    "The total solution is:  \n",
    "\n",
    "\\begin{equation}\\tag{6}\n",
    "    i = I_\\infty + i_\\infty\n",
    "\\end{equation}    "
   ]
  },
  {
   "cell_type": "markdown",
   "id": "33151181",
   "metadata": {},
   "source": [
    "Via equations (M1), (5a) and (6b),  \n",
    "\n",
    "$$ u(0) = U_0 = E = L\\frac{\\mathrm{d}i(0)}{\\mathrm{d}t} = LBme^{0} = -RB$$"
   ]
  },
  {
   "cell_type": "markdown",
   "id": "e81684d7",
   "metadata": {},
   "source": [
    "Thus,\n",
    "\\begin{equation}\\tag{6c}\n",
    "    B = -\\frac{E}{R}\n",
    "\\end{equation}    "
   ]
  },
  {
   "cell_type": "markdown",
   "id": "f07a3e74",
   "metadata": {},
   "source": [
    "Via equations (6), (5a), and (6c),  \n",
    "\n",
    "\\begin{equation}\\tag{6}\n",
    "    i = \\frac{E}{R} - \\frac{E}{R}\\,e^{-Rt/L} = \\frac{E}{R}\\big(1-e^{-Rt/L}\\big)\n",
    "\\end{equation}    "
   ]
  },
  {
   "cell_type": "markdown",
   "id": "089d929d",
   "metadata": {},
   "source": [
    "The **time constant**, denoted as '$T$', is equal to the reciprocal of $\\alpha$, the solution to the equation:  \n",
    "\n",
    "$$ \\frac{\\mathrm{d}i_\\infty}{\\mathrm{d}t} + \\alpha i_\\infty = 0$$"
   ]
  },
  {
   "cell_type": "markdown",
   "id": "29f9d396",
   "metadata": {},
   "source": [
    "$$ mBe^{mt} + \\alpha Be^{mt} = 0$$"
   ]
  },
  {
   "cell_type": "markdown",
   "id": "6b7e08e3",
   "metadata": {},
   "source": [
    "\\begin{equation}\\tag{7}\n",
    "    \\alpha = -m = \\frac{R}{L} \\quad \\quad \\text{and}\\quad \\quad T = \\frac{1}{\\alpha} = \\frac{L}{R}\n",
    "\\end{equation}    "
   ]
  },
  {
   "cell_type": "markdown",
   "id": "873d2860",
   "metadata": {},
   "source": [
    "Equation (6) can thus be rewritten as:  \n",
    "\n",
    "\\begin{equation}\\tag{6}\n",
    "    i = I_\\infty\\,\\big(1-e^{-t/T}\\big)\n",
    "\\end{equation}    "
   ]
  },
  {
   "cell_type": "markdown",
   "id": "36f5e3c3",
   "metadata": {},
   "source": [
    "The voltage dropped across the coil, denoted as '$u$', is, via equations (6) and (4b),  \n",
    "\n",
    "$$ u = LI_\\infty \\frac{1}{T}\\,e^{-t/T}$$"
   ]
  },
  {
   "cell_type": "markdown",
   "id": "7085d4d2",
   "metadata": {},
   "source": [
    "\\begin{equation}\\tag{8}\n",
    "    u = RI_\\infty e^{-t/T} = Ee^{-t/T}\n",
    "\\end{equation}   "
   ]
  },
  {
   "cell_type": "markdown",
   "id": "54407257",
   "metadata": {},
   "source": [
    "Please note, that both responses (3.2.7) and (3.2.9) start at $t=0$ . They are not multiplied by\n",
    "the unit step for simplicity of description. The responses are graphed in Fig. 3.2.4.  \n",
    "\n",
    "![Fig-3.2.4](Figures/Fig-3.2.4.png)"
   ]
  },
  {
   "cell_type": "markdown",
   "id": "907f13bf",
   "metadata": {},
   "source": [
    "From (3.1.17b) and equation (6a), the total energy stored is:  \n",
    "\n",
    "\\begin{equation}\\tag{9a}\n",
    "    W_\\infty = \\frac{LI_\\infty^2}{2} = \\frac{LE^2}{2R^2}\n",
    "\\end{equation}    "
   ]
  },
  {
   "cell_type": "markdown",
   "id": "b91b50e7",
   "metadata": {},
   "source": [
    "The total energy supplied/dissipated at $t\\ge t_\\infty$ is:  \n",
    "\n",
    "\\begin{equation}\\tag{9b}\n",
    "    w \\approxeq \\frac{E^2}{R}\\,t\n",
    "\\end{equation}   "
   ]
  },
  {
   "cell_type": "markdown",
   "id": "1c5c51f8",
   "metadata": {},
   "source": [
    "The **proof** behind equaton (9b):  \n",
    "\n",
    "The total energy supplied at $t\\ge t_\\infty$ (during steady-state conditions), denoted as '$W$', is given by:  \n",
    "\n",
    "$$ W = \\int_0^t Ei \\,\\mathrm{d}t = E\\,\\int_0^t i\\,\\mathrm{d}t$$"
   ]
  },
  {
   "cell_type": "markdown",
   "id": "0ac3853c",
   "metadata": {},
   "source": [
    "Since $i\\approxeq I_\\infty$ at $t\\ge t_\\infty$, meaning the current is nearly time invariant at steady-state,  \n",
    "\n",
    "$$ W \\approxeq EI_\\infty t$$"
   ]
  },
  {
   "cell_type": "markdown",
   "id": "289e053a",
   "metadata": {},
   "source": [
    "Via the above equation and equation (6a),  \n",
    "\n",
    "$$ w:=W \\approxeq \\frac{E^2}{R}\\,t$$"
   ]
  },
  {
   "cell_type": "markdown",
   "id": "d2217c09",
   "metadata": {},
   "source": [
    "Q.E.D."
   ]
  },
  {
   "cell_type": "markdown",
   "id": "f789528a",
   "metadata": {},
   "source": [
    "### First Order Circuit – $s$-Domain Method\n",
    "The following algorithm of the $s$-domain method can be formulated."
   ]
  },
  {
   "cell_type": "markdown",
   "id": "c0ee5a10",
   "metadata": {},
   "source": [
    "#### Algorithm 3.2.1 – $s$-domain method\n",
    "1. Predict the response(s):\n",
    "    1. evaluate the circuit order,\n",
    "    2. designate initial condition(s), if present,\n",
    "    3. designate boundary values $Y_0$, $Y_\\infty$.  \n",
    "        To find initial condition(s) and boundary values, perform dc analysis three times with\n",
    "        each energy storage element replaced by a short-circuit or an open-circuit or an ideal\n",
    "        source, as presented in Table 3.1.1.\n",
    "        In the zero initial condition case:\n",
    "        * dc analysis at $t=0_-$ is omitted,  \n",
    "        * at $t=0$ , coil is replaced by an open-circuit and capacitor by a short-circuit.\n",
    "2. Build the circuit diagram at $s$-domain, formulate the analysis equations – generalized\n",
    "    Kirchhoff’s analysis or nodal analysis can be utilized.\n",
    "3. Solve the equations to find the response in $s$-domain, $Y(s)$.\n",
    "4. Find the inverse transformation $y(t)=y$ – dictionary approach or Heaviside’s\n",
    "    formula can be utilized.\n",
    "5. Plot the response(s). Check whether the obtained boundary values match the predicted\n",
    "    ones."
   ]
  },
  {
   "cell_type": "markdown",
   "id": "809a1bee",
   "metadata": {},
   "source": [
    "#### Example 3.2.2\n",
    "The simple one-loop $RC$ circuit is presented in Fig. 3.2.5. Find the capacitor current and\n",
    "voltage after closing the switch, by means of the $s$-domain method. Then, find total energy\n",
    "supplied, stored and dissipated."
   ]
  },
  {
   "cell_type": "markdown",
   "id": "c54aff3d",
   "metadata": {},
   "source": [
    "There is no energy initially stored in the capacitor, $U_0=0$. Then, only forced response should\n",
    "be considered. The dc circuits at boundary, initial and steady state, conditions are presented in\n",
    "Fig. 3.2.6. The boundary values of the circuit responses are collected in Table 3.2.2.  \n",
    "\n",
    "![Fig-3.2.5](Figures/Fig-3.2.5.png)"
   ]
  },
  {
   "cell_type": "markdown",
   "id": "343fe704",
   "metadata": {},
   "source": [
    "![Fig-3.2.6](Figures/Fig-3.2.6.png)"
   ]
  },
  {
   "cell_type": "markdown",
   "id": "54b61fdd",
   "metadata": {},
   "source": [
    "![Table-3.2.2](Figures/Table-3.2.2.png)"
   ]
  },
  {
   "cell_type": "markdown",
   "id": "d1d041f7",
   "metadata": {},
   "source": [
    "To obtain the $s$-domain equivalent circuit (the one on the right hand side of Figure 3.2.5):  Via KVL and the fact that $U_0=0$,  \n",
    "\n",
    "\\begin{equation}\\tag{M4}\n",
    "    E = u_R + u = Ri + \\frac{1}{C}\\,\\int i\\,\\mathrm{d}t = Ri + \\frac{1}{C}\\,\\int_0^t i\\,\\mathrm{d}t + U_0 = Ri + \\frac{1}{C}\\,\\int_0^t i\\,\\mathrm{d}t\n",
    "\\end{equation}    "
   ]
  },
  {
   "cell_type": "markdown",
   "id": "5fbd8f3d",
   "metadata": {},
   "source": [
    "Transforming both sides of the above equations gives:  \n",
    "\n",
    "$$ \\frac{E}{s} = RI(s) + U(s) = RI(s) + \\frac{1}{sC}\\,I(s) = I(s)\\left(R + \\frac{1}{sC}\\right) = I(s)\\,\\frac{sCR+1}{sC}$$"
   ]
  },
  {
   "cell_type": "markdown",
   "id": "b9fa646e",
   "metadata": {},
   "source": [
    "$$ E = I(s)\\,\\frac{sCR+1}{C}$$"
   ]
  },
  {
   "cell_type": "markdown",
   "id": "e83c75d5",
   "metadata": {},
   "source": [
    "\\begin{equation}\\tag{10}\n",
    "    I(s) = \\frac{EC}{sCR+1}\n",
    "\\end{equation}    "
   ]
  },
  {
   "cell_type": "markdown",
   "id": "fa0653aa",
   "metadata": {},
   "source": [
    "The inverse transform of equation (10), which identifies an an exponential decay function $I(s)$, is:  \n",
    "\n",
    "\\begin{equation}\\tag{11}\n",
    "    i(t) = i = \\mathfrak{L}^{-1}\\{I(s)\\} = \\mathfrak{L}^{-1}\\left\\{\\frac{E}{R}\\,\\frac{T}{sT+1}\\right\\} = \\frac{E}{R} \\,\\mathfrak{L}^{-1}\\left\\{\\frac{T}{sT+1}\\right\\}=\\frac{E}{R}\\,e^{-t/T}\\mathbf{1}(t)\n",
    "\\end{equation}    "
   ]
  },
  {
   "cell_type": "markdown",
   "id": "3ae82e1c",
   "metadata": {},
   "source": [
    "where the **time constant** is:  \n",
    "\n",
    "\\begin{equation}\\tag{11a}\n",
    "    T = CR\n",
    "\\end{equation}    "
   ]
  },
  {
   "cell_type": "markdown",
   "id": "9122efc1",
   "metadata": {},
   "source": [
    "Now, let's try to find $i(t)$ *without* using the Laplace transform, denoted as '$\\mathfrak{L}$'."
   ]
  },
  {
   "cell_type": "markdown",
   "id": "7931a2ca",
   "metadata": {},
   "source": [
    "Differentiating throughout equation (M4) with respect to time gives:  \n",
    "\n",
    "\\begin{equation}\\tag{M5}\n",
    "    Ri' + \\frac{1}{C}\\,i = 0\n",
    "\\end{equation}    "
   ]
  },
  {
   "cell_type": "markdown",
   "id": "67c22006",
   "metadata": {},
   "source": [
    "The generic solution to (M5) is of the form:  \n",
    "\n",
    "\\begin{equation}\\tag{M6}\n",
    "    i = Ae^{mt}\n",
    "\\end{equation}    "
   ]
  },
  {
   "cell_type": "markdown",
   "id": "30a37a71",
   "metadata": {},
   "source": [
    "where $A\\in\\mathbb{R}$ is an arbitrary constant to be solved for using an IVP or IBP, and $m$ is the solution to the AE:  \n",
    "\n",
    "\\begin{equation}\\tag{M6a}\n",
    "    Rm + \\frac{1}{C} = 0\n",
    "\\end{equation}    "
   ]
  },
  {
   "cell_type": "markdown",
   "id": "ad1a0993",
   "metadata": {},
   "source": [
    "$$ m = -\\frac{1}{RC}$$"
   ]
  },
  {
   "cell_type": "markdown",
   "id": "c21d2d0f",
   "metadata": {},
   "source": [
    "Now, to solve for $A$, first we will use the IVP of $U_0=0$.  \n",
    "\n",
    "\\begin{equation}\\tag{M7}\n",
    "    U_0 = u(0) = \\frac{q(0)}{C} = \\frac{1}{C}\\,\\left[\\int i\\,\\mathrm{d}t\\right]_{t=0} = 0\n",
    "\\end{equation}    "
   ]
  },
  {
   "cell_type": "markdown",
   "id": "acba3b3b",
   "metadata": {},
   "source": [
    "The primitive integral of $i$ is:  \n",
    "\n",
    "\\begin{equation}\\tag{M7a}\n",
    "    \\int i \\,\\mathrm{d}t = \\frac{A}{m}\\,e^{mt} + K\n",
    "\\end{equation}"
   ]
  },
  {
   "cell_type": "markdown",
   "id": "3e1f98c0",
   "metadata": {},
   "source": [
    "Via equations (M7a) and (M7),  \n",
    "\n",
    "$$ \\frac{1}{C}\\,\\left(\\frac{A}{m}+K\\right) = 0$$"
   ]
  },
  {
   "cell_type": "markdown",
   "id": "85806b9f",
   "metadata": {},
   "source": [
    "\\begin{equation}\\tag{M8}\n",
    "    K = -\\frac{A}{m}\n",
    "\\end{equation}    "
   ]
  },
  {
   "cell_type": "markdown",
   "id": "51c2be8e",
   "metadata": {},
   "source": [
    "Next, we will use the boundary condition $U_\\infty = E$.  \n",
    "\n",
    "\\begin{equation}\\tag{M9}\n",
    "    U_\\infty = \\frac{1}{C}\\,\\left[\\int i\\,\\mathrm{d}t\\right]_{t=\\infty} = E - RI_\\infty = E\n",
    "\\end{equation}"
   ]
  },
  {
   "cell_type": "markdown",
   "id": "137a7669",
   "metadata": {},
   "source": [
    "Via equations (M9) and (M8) and (M7a),  \n",
    "\n",
    "$$ U_\\infty = E = -\\frac{1}{C}\\frac{A}{m}$$"
   ]
  },
  {
   "cell_type": "markdown",
   "id": "0b8118ea",
   "metadata": {},
   "source": [
    "\\begin{equation}\\tag{M10}\n",
    "    A = - ECm = \\frac{E}{R}\n",
    "\\end{equation}    "
   ]
  },
  {
   "cell_type": "markdown",
   "id": "5cdd8b75",
   "metadata": {},
   "source": [
    "Finally, via equations (M10), (M6a), and (M6), the specific solution to (M4) is:  \n",
    "\n",
    "\\begin{equation}\\tag{M11}\n",
    "    i=i(t) = \\frac{E}{R}\\,e^{-t/(RC)}\n",
    "\\end{equation}    "
   ]
  },
  {
   "cell_type": "markdown",
   "id": "eb7d4d03",
   "metadata": {},
   "source": [
    "And, since the domain of $i$ is $t\\in[0,\\infty)$ or $0\\le t < \\infty$,  \n",
    "\n",
    "\\begin{equation}\\tag{M11}\n",
    "    i = i(t) = \\frac{E}{R}e^{-t/(RC)}\\,\\mathbf{1}(t)\n",
    "\\end{equation}    "
   ]
  },
  {
   "cell_type": "markdown",
   "id": "9af8ce23",
   "metadata": {},
   "source": [
    "The time constant $T$ is equal to the root of:  \n",
    "\n",
    "\\begin{align*}\\tag{M12}\n",
    "    g(t) &:= i'(0)t + i(0) \\\\\n",
    "     &= \\frac{E}{R}\\left(1 - \\frac{1}{RC}\\,t\\right)\n",
    "\\end{align*}    "
   ]
  },
  {
   "cell_type": "markdown",
   "id": "a619805c",
   "metadata": {},
   "source": [
    "$$ i'(t) = -\\frac{E}{R^2C}e^{-t/(RC)}$$"
   ]
  },
  {
   "cell_type": "markdown",
   "id": "203d501a",
   "metadata": {},
   "source": [
    "$$ g(T) = \\frac{E}{R}\\left(1 - \\frac{1}{RC}\\,T\\right) = 0$$"
   ]
  },
  {
   "cell_type": "markdown",
   "id": "5d88e696",
   "metadata": {},
   "source": [
    "$$ 1 = \\frac{T}{RC}$$"
   ]
  },
  {
   "cell_type": "markdown",
   "id": "5f556b68",
   "metadata": {},
   "source": [
    "\\begin{equation}\\tag{M13}\n",
    "    T = RC\n",
    "\\end{equation}"
   ]
  },
  {
   "cell_type": "markdown",
   "id": "0bc46446",
   "metadata": {},
   "source": [
    "Finally, via equations (M13) and (M11),  \n",
    "\n",
    "\\begin{equation}\\tag{M14}\n",
    "    i = i(t) = \\frac{E}{R}\\,e^{-t/T}\\,\\mathbf{1}(t)\n",
    "\\end{equation}    "
   ]
  },
  {
   "cell_type": "markdown",
   "id": "4205cd55",
   "metadata": {},
   "source": [
    "The relationship between $m$ and $T$ is, via equations (M13) and (M6a),  \n",
    "\n",
    "\\begin{equation}\\tag{M15}\n",
    "    m = -\\frac{1}{T}\n",
    "\\end{equation}    "
   ]
  },
  {
   "cell_type": "markdown",
   "id": "7e5dbe7f",
   "metadata": {},
   "source": [
    "The **voltage dropped across** the **capacitor** is:  \n",
    "\n",
    "\\begin{equation}\\tag{M16}\n",
    "    u = \\frac{1}{C}\\,\\int_0^t i\\,\\mathrm{d}t\n",
    "\\end{equation}    "
   ]
  },
  {
   "cell_type": "markdown",
   "id": "73ad5de3",
   "metadata": {},
   "source": [
    "The general integral of $i$ is:  \n",
    "\n",
    "\\begin{equation}\\tag{M7b}\n",
    "    \\int_0^t i\\,\\mathrm{d}t = \\frac{A}{m}\\,e^{mt} - \\frac{A}{m}e^0 = \\frac{A}{m}\\,\\big(e^{mt} - 1\\big) = \\frac{E}{Rm}\\,\\big(e^{-t/T} - 1\\big) = \\frac{ET}{R}\\,\\big(1 - e^{-t/T}\\big) = EC\\big(1-e^{-t/T}\\big)\n",
    "\\end{equation}    "
   ]
  },
  {
   "cell_type": "markdown",
   "id": "2ed4d8b6",
   "metadata": {},
   "source": [
    "Via equations (M7b) and (M16),  \n",
    "\n",
    "\\begin{equation}\\tag{13}\n",
    "    u = E\\big(1-e^{-t/T}\\big)\n",
    "\\end{equation}    "
   ]
  },
  {
   "cell_type": "markdown",
   "id": "2988c4cf",
   "metadata": {},
   "source": [
    "The larger the resistance, the longer it takes to reach steady-state, and vice versa."
   ]
  },
  {
   "cell_type": "markdown",
   "id": "4b0e1b3d",
   "metadata": {},
   "source": [
    "![Fig-3.2.7](Figures/Fig-3.2.7.png)"
   ]
  },
  {
   "cell_type": "markdown",
   "id": "b5a55e9f",
   "metadata": {},
   "source": [
    "In the **ideal case**, when $R=0$, via equation (10),   \n",
    "\n",
    "\\begin{equation}\\tag{17}\n",
    "    I(s) = EC\n",
    "\\end{equation}    "
   ]
  },
  {
   "cell_type": "markdown",
   "id": "9640ef43",
   "metadata": {},
   "source": [
    "Inverse transforming boths sides of equation (17) gives:  \n",
    "\n",
    "\\begin{equation}\\tag{17b}\n",
    "    i(t) = i = \\mathfrak{L}^{-1}\\{EC\\} = EC\\delta(t)\n",
    "\\end{equation}    "
   ]
  },
  {
   "cell_type": "markdown",
   "id": "0fe27e4f",
   "metadata": {},
   "source": [
    "In the practical case, when $R\\ne 0$, the charge $q$ is given by:  \n",
    "\n",
    "\\begin{equation}\\tag{16a}\n",
    "    q = \\int i\\,\\mathrm{d}t = \\int_0^t i\\,\\mathrm{d}t + Q_0 = \\int_0^t i\\,\\mathrm{d}t = EC\\big(1-e^{-t/T}\\big)\n",
    "\\end{equation}    "
   ]
  },
  {
   "cell_type": "markdown",
   "id": "a51ffb94",
   "metadata": {},
   "source": [
    "In both cases, the charge at steady-state, denoted as '$Q$', is given by:  \n",
    "\n",
    "\\begin{equation}\\tag{16b}\n",
    "    Q = \\int_0^\\infty i\\,\\mathrm{d}t = EC\n",
    "\\end{equation}    "
   ]
  },
  {
   "cell_type": "markdown",
   "id": "e4fda272",
   "metadata": {},
   "source": [
    "The **voltage dropped across** the **resistor** is, via Ohm's Law and equation (M14),  \n",
    "\n",
    "\\begin{equation}\\tag{M17}\n",
    "    u_R = Ri = Ee^{-t/T}\n",
    "\\end{equation}    "
   ]
  },
  {
   "cell_type": "markdown",
   "id": "dfcb87fb",
   "metadata": {},
   "source": [
    "The power dissipated by the resistor, denoted as '$P_R$', is:  \n",
    "\n",
    "\\begin{equation}\\tag{M18}\n",
    "    P_R = \\frac{u_R^2}{R} = \\frac{E^2}{R}\\,e^{-2t/T}\n",
    "\\end{equation}    "
   ]
  },
  {
   "cell_type": "markdown",
   "id": "1a96abf0",
   "metadata": {},
   "source": [
    "The primitive integral of $P_R$ is:  \n",
    "\n",
    "$$\\int P_R = -\\frac{T}{2}\\,\\frac{E^2}{R}\\,e^{-2t/T} = -0.5CE^2e^{-2t/T}$$"
   ]
  },
  {
   "cell_type": "markdown",
   "id": "09da237c",
   "metadata": {},
   "source": [
    "The energy dissipated by the resistor is:  \n",
    "\n",
    "\\begin{equation}\\tag{M19}\n",
    "    w_R = \\int_0^t P_R \\,\\mathrm{d}t = -0.5CE^2e^{-2t/T} + 0.5CE^2e^0 = 0.5CE^2\\big(1-e^{-2t/T}\\big)\n",
    "\\end{equation}    "
   ]
  },
  {
   "cell_type": "markdown",
   "id": "8f13763f",
   "metadata": {},
   "source": [
    "Via equations (M19) and (14) and equivalence principle,  \n",
    "\n",
    "\\begin{equation}\\tag{M19}\n",
    "    w_R = 0.5w_E\n",
    "\\end{equation}    "
   ]
  },
  {
   "cell_type": "markdown",
   "id": "6b02cde4",
   "metadata": {},
   "source": [
    "Via equation (M19) and conservation of energy principle, the **energy stored** in the **capacitor** is:  \n",
    "\n",
    "\\begin{equation}\\tag{15}\n",
    "    w_C = w = 0.5w_E\n",
    "\\end{equation}    "
   ]
  },
  {
   "cell_type": "markdown",
   "id": "8407c080",
   "metadata": {},
   "source": [
    "And, of course, at steady-state, we have:  \n",
    "\n",
    "\\begin{equation}\\tag{M19b}\n",
    "    W_{R\\infty} = 0.5W_{E\\infty} = 0.5E^2C\n",
    "\\end{equation}    "
   ]
  },
  {
   "cell_type": "markdown",
   "id": "4c4d10a2",
   "metadata": {},
   "source": [
    "and,\n",
    "\\begin{equation}\\tag{15b}\n",
    "    W_\\infty = 0.5W_{E\\infty} = 0.5E^2C\n",
    "\\end{equation}    "
   ]
  },
  {
   "cell_type": "markdown",
   "id": "dec78fcf",
   "metadata": {},
   "source": [
    "The **energy delivered** by the $E$, denoted as '$w_E$', is:  \n",
    "\n",
    "\\begin{equation}\\tag{14}\n",
    "    w_E := w_E(t) = \\int_0^t Ei\\,\\mathrm{d}t = E\\int_0^t i\\,\\mathrm{d}t = E^2C\\big(1-e^{-t/T}\\big)\n",
    "\\end{equation}    "
   ]
  },
  {
   "cell_type": "markdown",
   "id": "4dddb514",
   "metadata": {},
   "source": [
    "The energy delivered by $E$ at steady-state is given by:  \n",
    "\n",
    "\\begin{equation}\\tag{14b}\n",
    "    W_{E\\infty} = E\\int_0^\\infty i\\,\\mathrm{d}t = E^2C\n",
    "\\end{equation}    "
   ]
  },
  {
   "cell_type": "markdown",
   "id": "e4f95767",
   "metadata": {},
   "source": [
    "### First Order Circuit – Boundary Values Based Method\n",
    "Single energy storage element may be extracted from the 1st order circuit, and then such\n",
    "circuit can be considered as a resistive subcircuit loaded with an energy storage element.\n",
    "Thevenin’s theorem can be utilized and an arbitrary 1st order circuit can be reduced to the\n",
    "one-loop $RL$ or $RC$ circuit. The circuits described in the s-domain are presented in Fig. 3.2.8,\n",
    "where, $R_\\mathrm{t}$ is the Thevenin resistance - the resistance seen from terminals of the energy\n",
    "storage element after deactivating all sources.  \n",
    "\n",
    "![Fig-3.2.8](Figures/Fig-3.2.8.png)"
   ]
  },
  {
   "cell_type": "code",
   "execution_count": null,
   "id": "319fcfc7",
   "metadata": {},
   "outputs": [],
   "source": []
  },
  {
   "cell_type": "markdown",
   "id": "94fd2fe8",
   "metadata": {},
   "source": [
    "The obtained circuits have been already considered (Examples 3.2.1 and 3.2.2).Their time\n",
    "constants are given by equations (3.2.8) and (3.2.13).  \n",
    "\n",
    "![Fig-3.2.9](Figures/Fig-3.2.9.png)"
   ]
  },
  {
   "cell_type": "markdown",
   "id": "f5174b28",
   "metadata": {},
   "source": [
    "The 1st order circuit arbitrary response $y(t)=y$ , voltage or current, is the exponential\n",
    "function (A7b) uniquely described by the time constant $T$ and boundary values $Y_0$ and $Y_\\infty$ :  \n",
    "\n",
    "\\begin{equation}\\tag{18}\n",
    "    y = Y_\\infty\\big(1-e^{-t/T}\\big) + Y_0e^{-t/T}\\quad\\quad\\text{where }t\\ge 0\n",
    "\\end{equation}    "
   ]
  },
  {
   "cell_type": "markdown",
   "id": "5d1a998f",
   "metadata": {},
   "source": [
    "To ellaborate one equation (18):  Assuming the initial condition is $Y_0=0$, which has been the case so far in the previous two example,  \n",
    "\n",
    "$$ y = Y_\\infty\\big(1-e^{-t/T}\\big)$$"
   ]
  },
  {
   "cell_type": "markdown",
   "id": "a586e1af",
   "metadata": {},
   "source": [
    "For example, equation (13), which describes an $RC$ circuit with an initial condition of $U_0=0$, fits the above equation.  The steady-state condition is $U_\\infty=E$."
   ]
  },
  {
   "cell_type": "markdown",
   "id": "9ad07334",
   "metadata": {},
   "source": [
    "Assuming $U_0\\ne 0$,  \n",
    "\n",
    "\\begin{equation}\\tag{M20}\n",
    "    u = \\frac{1}{C}\\int_0^t i\\,\\mathrm{d}t + U_0\n",
    "\\end{equation}    "
   ]
  },
  {
   "cell_type": "markdown",
   "id": "c025d23e",
   "metadata": {},
   "source": [
    "Transforming both sides gives:  \n",
    "\n",
    "$$ U(s) = \\frac{1}{sC}\\,I(s) + \\frac{U_0}{s}$$"
   ]
  },
  {
   "cell_type": "markdown",
   "id": "7a9484c1",
   "metadata": {},
   "source": [
    "The voltage drops across the resistor and the voltage source in the $s$-domain are,  \n",
    "\n",
    "$$ E(s) = \\frac{E}{s} \\quad \\quad \\text{and} \\quad \\quad U_R(s) = RI(s)$$"
   ]
  },
  {
   "cell_type": "markdown",
   "id": "7a74b7e2",
   "metadata": {},
   "source": [
    "Via the above three equations and KVL,  \n",
    "\n",
    "\\begin{align*}\n",
    "    E(s) &= RI(s) + U(s) \\\\ \\\\\n",
    "    \\frac{E}{s} &= RI(s) + \\frac{1}{sC}\\,I(s) + \\frac{U_0}{s} \\\\ \\\\\n",
    "    E &= sRI(s) + \\frac{1}{C}\\,I(s) + U_0\n",
    "\\end{align*}"
   ]
  },
  {
   "cell_type": "markdown",
   "id": "cf232f50",
   "metadata": {},
   "source": [
    "$$ I(s)\\left(sR + \\frac{1}{C}\\right) = E - U_0$$"
   ]
  },
  {
   "cell_type": "markdown",
   "id": "69ae69bc",
   "metadata": {},
   "source": [
    "$$ I(s)\\,\\frac{sRC + 1}{C} = E-U_0$$"
   ]
  },
  {
   "cell_type": "markdown",
   "id": "a04af25a",
   "metadata": {},
   "source": [
    "$$ I(s) = \\frac{C(E-U_0)}{sRC + 1}$$"
   ]
  },
  {
   "cell_type": "markdown",
   "id": "4e0af4bf",
   "metadata": {},
   "source": [
    "Now let $T:=RC$.  \n",
    "\n",
    "$$ I(s) = \\frac{E}{R}\\frac{T}{sT+1} - \\frac{U_0}{R}\\frac{T}{sT+1} = \\frac{E-U_0}{R}\\,\\frac{T}{sT+1}$$"
   ]
  },
  {
   "cell_type": "markdown",
   "id": "9e932b03",
   "metadata": {},
   "source": [
    "Inverse transforming both sides of the above equation gives:  \n",
    "\n",
    "\\begin{equation}\\tag{M21}\n",
    "    i = i(t) = \\mathfrak{L}^{-1}\\{I(s)\\} = \\frac{E-U_0}{R}\\,e^{-t/T}\n",
    "\\end{equation}    "
   ]
  },
  {
   "cell_type": "markdown",
   "id": "a43855f2",
   "metadata": {},
   "source": [
    "\\begin{equation}\\tag{M22}\n",
    "    u = \\frac{E-U_0}{RC}\\,\\int_0^t e^{-t/T}\\,\\mathrm{d}t + U_0\n",
    "\\end{equation}    "
   ]
  },
  {
   "cell_type": "markdown",
   "id": "d0aad682",
   "metadata": {},
   "source": [
    "$$ \\int e^{-t/T} \\,\\mathrm{d}t = -Te^{-t/T} + K$$"
   ]
  },
  {
   "cell_type": "markdown",
   "id": "0fc9b609",
   "metadata": {},
   "source": [
    "\\begin{equation}\\tag{M23}\n",
    "    \\int_0^t e^{-t/T} = -Te^{-t/T} + Te^0 = T\\big(1 - e^{-t/T}\\big)\n",
    "\\end{equation}    "
   ]
  },
  {
   "cell_type": "markdown",
   "id": "94665547",
   "metadata": {},
   "source": [
    "Via equations (M23) and (M22),  \n",
    "\n",
    "\\begin{align*}\\tag{M24}\n",
    "    u &= (E-U_0)\\big(1-e^{-t/T}\\big) + U_0 \\\\\n",
    "     &= E - Ee^{-t/T} + U_0e^{-t/T} \\\\ \n",
    "     &= E\\big(1-e^{-t/T}\\big) + U_0e^{-t/T}\n",
    "\\end{align*}     "
   ]
  },
  {
   "cell_type": "markdown",
   "id": "473dc366",
   "metadata": {},
   "source": [
    "Equation (M24) fits equation (18).  Here, $E=U_\\infty$ is the steady-state condition."
   ]
  },
  {
   "cell_type": "markdown",
   "id": "a94c19dc",
   "metadata": {},
   "source": [
    "When $Y_0>Y_\\infty$ , the decaying function is obtained, when $Y_\\infty > Y_0$ , the rising one is, as presented in Fig. 3.2.9. The special case $Y_\\infty=Y_0$, is not considered. Then, algorithm of the boundary values\n",
    "method can be formulated."
   ]
  },
  {
   "cell_type": "markdown",
   "id": "578babea",
   "metadata": {},
   "source": [
    "#### Algorithm 3.2.2 - Boundary Values Based Method\n",
    "1. Predict the response(s):\n",
    "    1. evaluate the circuit order,\n",
    "    2. designate initial condition(s), if present,\n",
    "    3. designate boundary values .  \n",
    "    \n",
    "    To find initial condition(s) and boundary values, perform dc analysis three times with\n",
    "    energy storage element replaced by a short-circuit or an open-circuit or an ideal\n",
    "    source, as presented in Table 3.1.1.\n",
    "    In the zero initial condition case:\n",
    "    * dc analysis at $t=0_-$ is omitted,\n",
    "    * at $t=0$, coil is replaced by an open-circuit and capacitor by a short-circuit.  "
   ]
  },
  {
   "cell_type": "markdown",
   "id": "8442d771",
   "metadata": {},
   "source": [
    "    \n",
    "2. Find , equivalent resistance of the resistive part, with all sources deactivated. Then,\n",
    "    the time constant is given by (3.2.8) or (3.2.13).\n",
    "3. Plot the response – connect the boundary values by the exponential curve with\n",
    "    time constant $T$ (Fig.3.2.9).\n",
    "4. Express the response algebraically (3.2.17)."
   ]
  },
  {
   "cell_type": "markdown",
   "id": "daccfe82",
   "metadata": {},
   "source": [
    "#### Example 3.2.3\n",
    "The circuit, presented in Fig. 3.2.10, consists of the series connection of a dc practical voltage\n",
    "source that is switched at time $t=0$ across a practical coil. Find the response, voltage $u$\n",
    "across the practical coil.  \n",
    "\n",
    "![Fig-3.2.10.png](Figures/Fig-3.2.10.png)"
   ]
  },
  {
   "cell_type": "markdown",
   "id": "7fa42744",
   "metadata": {},
   "source": [
    "The time constant is:  \n",
    "\n",
    "\\begin{equation}\\tag{Ex3.1}\n",
    "    T = \\frac{L}{R_t}\n",
    "\\end{equation}    "
   ]
  },
  {
   "cell_type": "markdown",
   "id": "5a41cb98",
   "metadata": {},
   "source": [
    "\\begin{align*}\\tag{Ex3.2}\n",
    "    u &= E - Ri \\\\\n",
    "     &= R_L i + U_L \\\\\n",
    "     &= R_L i + Li'\n",
    "\\end{align*}     "
   ]
  },
  {
   "cell_type": "markdown",
   "id": "10de26ae",
   "metadata": {},
   "source": [
    "$$ U_L = Li'$$\n",
    "\n",
    "\\begin{equation}\\tag{Ex3.3}\n",
    "    i = \\frac{1}{L}\\,\\int U_L \\,\\mathrm{d}t = \\frac{1}{L}\\,\\int_0^t U_L\\,\\mathrm{d}t + I_0\n",
    "\\end{equation}    "
   ]
  },
  {
   "cell_type": "markdown",
   "id": "9fa18448",
   "metadata": {},
   "source": [
    "Transforming both sides of equation (Ex3.2) gives:  \n",
    "\n",
    "\\begin{equation}\n",
    "    U(s) = R_LI(s) + L\\big(sI(s) - I_0\\big) = \\frac{E}{s} - RI(s)\n",
    "\\end{equation}    "
   ]
  },
  {
   "cell_type": "markdown",
   "id": "16ac423f",
   "metadata": {},
   "source": [
    "$$ I(s)(R_L + sL + R) = \\frac{E}{s} + LI_0 = \\frac{E + sLI_0}{s}$$"
   ]
  },
  {
   "cell_type": "markdown",
   "id": "5d1a62c3",
   "metadata": {},
   "source": [
    "\\begin{equation}\\tag{Ex3.4}\n",
    "    I(s) = \\frac{E + sLI_0}{s(R_L + sL + R)}\n",
    "\\end{equation}    "
   ]
  },
  {
   "cell_type": "markdown",
   "id": "73b4cdef",
   "metadata": {},
   "source": [
    "Instead of using the Laplace transform, let's solve for $i$ in equation (Ex3.2) directly.  \n",
    "\n",
    "\\begin{equation}\\tag{Ex3.2}\n",
    "    E = (R+R_L)i + Li' = R_\\mathrm{t}i + Li'\n",
    "\\end{equation}    "
   ]
  },
  {
   "cell_type": "markdown",
   "id": "0ceec137",
   "metadata": {},
   "source": [
    "The general solution is of the form:  \n",
    "\n",
    "\\begin{equation}\\tag{Ex3.5}\n",
    "    i = i(t) = \\frac{E}{R_\\mathrm{t}} + Ae^{mt}\n",
    "\\end{equation}    "
   ]
  },
  {
   "cell_type": "markdown",
   "id": "84bc43b0",
   "metadata": {},
   "source": [
    "$$ mL + R_\\mathrm{t} = 0$$\n",
    "\n",
    "\\begin{equation}\\tag{Ex3.5a}\n",
    "    m = - \\frac{R_\\mathrm{t}}{L}\n",
    "\\end{equation}"
   ]
  },
  {
   "cell_type": "markdown",
   "id": "f45901e0",
   "metadata": {},
   "source": [
    "To solve for $A$ in equation (Ex3.5) we will use the fact that, since at $t=0$ the terminals of the coil are open-circuited,  \n",
    "\n",
    "\\begin{equation}\\tag{Ex3.6a}\n",
    "    i(0) = I_0 = 0\n",
    "\\end{equation}"
   ]
  },
  {
   "cell_type": "markdown",
   "id": "631998f0",
   "metadata": {},
   "source": [
    "and, via KVL and Ohm's Law,  \n",
    "$$ E = U_L(0)$$"
   ]
  },
  {
   "cell_type": "markdown",
   "id": "6931d3c1",
   "metadata": {},
   "source": [
    "![Fig-3.2.11](Figures/Fig-3.2.11.png)"
   ]
  },
  {
   "cell_type": "markdown",
   "id": "aa722eac",
   "metadata": {},
   "source": [
    "Via equation (Ex3.6a) and (Ex3.5) and equivalence principle,  \n",
    "\n",
    "$$ i(0) = \\frac{E}{R_\\mathrm{t}} + Ae^0 = 0$$"
   ]
  },
  {
   "cell_type": "markdown",
   "id": "a3e25643",
   "metadata": {},
   "source": [
    "\\begin{equation}\\tag{Ex3.5b}\n",
    "    A = -\\frac{E}{R_\\mathrm{t}}\n",
    "\\end{equation}"
   ]
  },
  {
   "cell_type": "markdown",
   "id": "fda14f38",
   "metadata": {},
   "source": [
    "Thus,\n",
    "\\begin{equation}\\tag{Ex3.5}\n",
    "    i = i(t) = \\frac{E}{R_\\mathrm{t}}\\,\\big(1 - e^{mt}\\big) = I_\\infty\\big(1-e^{mt}\\big)\n",
    "\\end{equation}    "
   ]
  },
  {
   "cell_type": "markdown",
   "id": "db0791df",
   "metadata": {},
   "source": [
    "The time constant $T$ is the solution to the following equation:  \n",
    "\n",
    "$$ I_\\infty = i'(0)T + I_0 = i'(0)T$$"
   ]
  },
  {
   "cell_type": "markdown",
   "id": "7fbfd6a4",
   "metadata": {},
   "source": [
    "\\begin{equation}\\tag{Ex3.7}\n",
    "    i'(t) = -mI_\\infty e^{mt}\n",
    "\\end{equation}    "
   ]
  },
  {
   "cell_type": "markdown",
   "id": "df7da9dc",
   "metadata": {},
   "source": [
    "$$ i'(0) = -mI_\\infty$$"
   ]
  },
  {
   "cell_type": "markdown",
   "id": "b7eed37f",
   "metadata": {},
   "source": [
    "Hence,\n",
    "\n",
    "\\begin{equation}\\tag{Ex3.1}\n",
    "    T = -\\frac{I_\\infty}{mI_\\infty} = -\\frac{1}{m} = \\frac{L}{R_\\mathrm{t}}\n",
    "\\end{equation}    "
   ]
  },
  {
   "cell_type": "markdown",
   "id": "47453484",
   "metadata": {},
   "source": [
    "Both equations (Ex3.7) and (Ex3.5) can be rewritten via equation (Ex3.1) and substitution,  \n",
    "\n",
    "\\begin{equation}\\tag{Ex3.5}\n",
    "    i = i(t) = I_\\infty\\big(1-e^{-t/T}\\big)\n",
    "\\end{equation}    "
   ]
  },
  {
   "cell_type": "markdown",
   "id": "2430ed7c",
   "metadata": {},
   "source": [
    "and,\n",
    "\\begin{equation}\\tag{Ex3.7}\n",
    "    i'(t) = i' = \\frac{I_\\infty}{T}\\,e^{-t/T}\n",
    "\\end{equation}    "
   ]
  },
  {
   "cell_type": "markdown",
   "id": "aaf38e40",
   "metadata": {},
   "source": [
    "Via equations (Ex3.5), (Ex3.7) and (Ex3.2),  \n",
    "\n",
    "$$ u = R_LI_\\infty\\big(1-e^{-t/T}\\big) + L\\frac{I_\\infty}{T}\\,e^{-t/T}$$"
   ]
  },
  {
   "cell_type": "markdown",
   "id": "741c1e70",
   "metadata": {},
   "source": [
    "\\begin{align*}\n",
    "    u &= R_LI_\\infty\\big(1-e^{-t/T}\\big) + R_\\mathrm{t}I_\\infty e^{-t/T} \\\\\n",
    "     &= R_LI_\\infty\\big(1-e^{-t/T}\\big) + Ee^{-t/T}\n",
    "\\end{align*}     "
   ]
  },
  {
   "cell_type": "markdown",
   "id": "a5082a54",
   "metadata": {},
   "source": [
    "![Fig-3.2.12](Figures/Fig-3.2.12.png)"
   ]
  },
  {
   "cell_type": "markdown",
   "id": "4abdc882",
   "metadata": {},
   "source": [
    "Thus,\n",
    "$$ U_0 =u(0) = R_\\mathrm{t}I_\\infty = E$$"
   ]
  },
  {
   "cell_type": "markdown",
   "id": "d61d7064",
   "metadata": {},
   "source": [
    "which was already given, and,  \n",
    "\n",
    "$$ U_\\infty = R_LI_\\infty = \\frac{R_L E}{R_L + R}$$"
   ]
  },
  {
   "cell_type": "markdown",
   "id": "a086bb63",
   "metadata": {},
   "source": [
    "#### Example 3.2.4\n",
    "\n",
    "Find the source current $i$ and the capacitor current $i_C$ for $t\\ge0$.  \n",
    "\n",
    "![Fig-3.2.13](Figures/Fig-3.2.13.png)"
   ]
  },
  {
   "cell_type": "markdown",
   "id": "b235c225",
   "metadata": {},
   "source": [
    "![Fig-3.2.14](Figures/Fig-3.2.14.png)"
   ]
  },
  {
   "cell_type": "markdown",
   "id": "69d32ac4",
   "metadata": {},
   "source": [
    "To find the **initial conditions** (on the left hand circuit):  Via KVL and Ohm's law,  \n",
    "\n",
    "\\begin{equation}\\tag{Ex4.1}\n",
    "    \\text{a: }\\;E = Ri_\\mathrm{l} \\quad \\quad \\text{b: }\\;E = Ri_\\mathrm{r} + Ri_{\\mathrm{r}1}  \\quad \\quad \\text{c: }\\;Ri_{\\mathrm{r}1} = Ri_C + \\frac{1}{C}\\int i_C\\,\\mathrm{d}t\n",
    "\\end{equation}"
   ]
  },
  {
   "cell_type": "markdown",
   "id": "0d79964d",
   "metadata": {},
   "source": [
    "At time $t=0$,  \n",
    "\n",
    "\\begin{equation}\\tag{Ex4.4}\n",
    "    u_C(0) = \\frac{1}{C}\\left[\\int i_C\\,\\mathrm{d}t\\right]_{t=0} = 0\n",
    "\\end{equation}    "
   ]
  },
  {
   "cell_type": "markdown",
   "id": "a297958a",
   "metadata": {},
   "source": [
    "Via equations (Ex4.4) and (Ex4.1c),  \n",
    "\n",
    "\\begin{equation}\\tag{Ex4.2}\n",
    "    Ri_{\\mathrm{r}1}(0) = Ri_C(0)\n",
    "\\end{equation}    "
   ]
  },
  {
   "cell_type": "markdown",
   "id": "e58f4f34",
   "metadata": {},
   "source": [
    "Via equations (Ex4.2) and (Ex4.1b),  \n",
    "\n",
    "\\begin{equation}\\tag{Ex4.5}\n",
    "    E = Ri_\\mathrm{r}(0) + Ri_C(0\n",
    "\\end{equation}    "
   ]
  },
  {
   "cell_type": "markdown",
   "id": "494f22a8",
   "metadata": {},
   "source": [
    "Via KCL,  \n",
    "\n",
    "\\begin{equation}\\tag{Ex4.3}\n",
    "    \\text{a: }\\; i = i_\\mathrm{l} + i_\\mathrm{r}\\quad \\quad \\text{b: }\\;i_\\mathrm{r} = i_{\\mathrm{r}1} + i_C\n",
    "\\end{equation}    "
   ]
  },
  {
   "cell_type": "markdown",
   "id": "1a79a7dd",
   "metadata": {},
   "source": [
    "Via equations (Ex4.3b) and (Ex4.5),  \n",
    "\n",
    "\\begin{equation}\\tag{Ex4.6}\n",
    "    E = R\\big(i_{\\mathrm{r}1}(0) + i_C(0)\\big) + Ri_C(0) = 2Ri_C(0) + Ri_{\\mathrm{r}1}(0)\n",
    "\\end{equation}    "
   ]
  },
  {
   "cell_type": "markdown",
   "id": "173ea48c",
   "metadata": {},
   "source": [
    "Via equations (Ex4.6) and (Ex4.2),  \n",
    "\n",
    "$$ E = 3Ri_C(0)$$"
   ]
  },
  {
   "cell_type": "markdown",
   "id": "7c0a00c4",
   "metadata": {},
   "source": [
    "\\begin{equation}\\tag{Ex4.7}\n",
    "    i_C(0) = I_{C0} = \\frac{E}{3R}\n",
    "\\end{equation}    "
   ]
  },
  {
   "cell_type": "markdown",
   "id": "f9a5ae43",
   "metadata": {},
   "source": [
    "Via equations (Ex4.3a) and (Ex4.1a),  \n",
    "\n",
    "\\begin{equation}\\tag{Ex4.8}\n",
    "    i_\\mathrm{r} = i - \\frac{E}{R}\n",
    "\\end{equation}    "
   ]
  },
  {
   "cell_type": "markdown",
   "id": "a17e2de5",
   "metadata": {},
   "source": [
    "And, via equations (Ex4.8) and (Ex4.5),  \n",
    "\n",
    "$$ Ri_\\mathrm{r}(0) = E - Ri_C(0)$$"
   ]
  },
  {
   "cell_type": "markdown",
   "id": "601aed72",
   "metadata": {},
   "source": [
    "\\begin{equation}\\tag{Ex4.9}\n",
    "    i_\\mathrm{r}(0) = \\frac{E}{R} - i_C(0)\n",
    "\\end{equation}    "
   ]
  },
  {
   "cell_type": "markdown",
   "id": "745e688b",
   "metadata": {},
   "source": [
    "Via equations (Ex4.9) and (Ex4.8),  \n",
    "\n",
    "$$ \\frac{E}{R} - i_C(0) = i(0) - \\frac{E}{R} $$"
   ]
  },
  {
   "cell_type": "markdown",
   "id": "41ec27ec",
   "metadata": {},
   "source": [
    "\\begin{equation}\\tag{Ex4.10}\n",
    "    i(0) = I_0 = 2\\frac{E}{R} - i_C(0)\n",
    "\\end{equation}    "
   ]
  },
  {
   "cell_type": "markdown",
   "id": "6bb12076",
   "metadata": {},
   "source": [
    "Via equations (Ex4.10) and (Ex4.7),  \n",
    "\n",
    "$$ I_0 = 2\\frac{E}{R} - \\frac{E}{3R} = \\frac{E}{R}\\,\\left(2-\\frac{1}{3}\\right)$$"
   ]
  },
  {
   "cell_type": "markdown",
   "id": "49987d38",
   "metadata": {},
   "source": [
    "\\begin{equation}\\tag{Ex4.11}\n",
    "    i(0) = I_0  = \\frac{E}{R}\\,\\frac{5}{3}\n",
    "\\end{equation}    "
   ]
  },
  {
   "cell_type": "markdown",
   "id": "2e824ff2",
   "metadata": {},
   "source": [
    "As for the **steady-state conditions** (the right-hand circuit):  Via KVL and Ohm's Law,  \n",
    "\n",
    "\\begin{equation}\\tag{Ex4.12}\n",
    "    \\text{a: }\\;Ri_\\mathrm{r}(\\infty) = u_C(\\infty) = U_{C\\infty}\\quad\\quad\\text{b: }\\;E = 2Ri_\\mathrm{r}(\\infty)\\quad\\quad \\text{c: }\\;Ri_\\mathrm{l}(\\infty) = E\n",
    "\\end{equation}    "
   ]
  },
  {
   "cell_type": "markdown",
   "id": "8fc2d6d8",
   "metadata": {},
   "source": [
    "Via equations (Ex4.12),  \n",
    "\n",
    "\\begin{equation}\\tag{Ex4.13}\n",
    "    U_{C\\infty} = 0.5E\n",
    "\\end{equation}    "
   ]
  },
  {
   "cell_type": "markdown",
   "id": "60ccce18",
   "metadata": {},
   "source": [
    "Via KCL,  \n",
    "\n",
    "\\begin{equation}\\tag{Ex4.14}\n",
    "    I_\\infty = i_\\mathrm{l}(\\infty) + i_\\mathrm{r}(\\infty)\n",
    "\\end{equation}    "
   ]
  },
  {
   "cell_type": "markdown",
   "id": "26af5829",
   "metadata": {},
   "source": [
    "Via equations (Ex4.14), (Ex4.12b), and (Ex4.12c),  \n",
    "\n",
    "$$ I_\\infty = \\frac{E}{R} + 0$$"
   ]
  }
 ],
 "metadata": {
  "kernelspec": {
   "display_name": "Python 3",
   "language": "python",
   "name": "python3"
  },
  "language_info": {
   "codemirror_mode": {
    "name": "ipython",
    "version": 3
   },
   "file_extension": ".py",
   "mimetype": "text/x-python",
   "name": "python",
   "nbconvert_exporter": "python",
   "pygments_lexer": "ipython3",
   "version": "3.8.10"
  }
 },
 "nbformat": 4,
 "nbformat_minor": 5
}
