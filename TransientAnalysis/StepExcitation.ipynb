{
 "cells": [
  {
   "cell_type": "markdown",
   "id": "2a38f84a",
   "metadata": {},
   "source": [
    "# Circuits with Step Excitation\n",
    "\n",
    "### Transient Analysis- *Chapter 3.2*\n",
    "\n",
    "The transient response caused by a changing of the topology of a circuit with time-invariant (dc)\n",
    "excitation, by moving a switch at $t=0$, is considered at first. It is generally assumed that at $t=0_-$\n",
    ", all circuit variables (currents and voltages) are zero or/and constant."
   ]
  },
  {
   "cell_type": "markdown",
   "id": "5f2fb52b",
   "metadata": {},
   "source": [
    "In general, such response may be sum of two components:\n",
    "* natural response or zero-input response,\n",
    "* forced response or zero-state response."
   ]
  },
  {
   "cell_type": "markdown",
   "id": "db7c16e1",
   "metadata": {},
   "source": [
    "**Natural response** or **zero-input response**  \n",
    "\n",
    "\\begin{equation}\\tag{1a}\n",
    "    y_n(t) = y_n\n",
    "\\end{equation}\n",
    "\n",
    "is the result of initial capacitive and/or inductive energy stored within a circuit (i.e. the initial condition)."
   ]
  },
  {
   "cell_type": "markdown",
   "id": "0be56682",
   "metadata": {},
   "source": [
    "**Forced response** or **zero-state response**  \n",
    "\n",
    "\\begin{equation}\\tag{1b}\n",
    "    y_f(t) = y_f\n",
    "\\end{equation}\n",
    "\n",
    "is the result of excitations or independent sources acting on the circuit."
   ]
  },
  {
   "cell_type": "markdown",
   "id": "d7f62d60",
   "metadata": {},
   "source": [
    "Then, the total response, so called **complete response**:  \n",
    "\n",
    "\\begin{equation}\\tag{1c}\n",
    "    y = y_n + y_f\n",
    "\\end{equation}    "
   ]
  },
  {
   "cell_type": "markdown",
   "id": "21e1a544",
   "metadata": {},
   "source": [
    "is a superposition of the initial condition response with all independent sources zeroed and the\n",
    "response to independent sources with the initial conditions zeroed. Block diagram\n",
    "interpretation of this strategy is presented in Fig. 3.2.1, where x is the excitation, is the\n",
    "initial condition."
   ]
  },
  {
   "cell_type": "markdown",
   "id": "435fc88c",
   "metadata": {},
   "source": [
    "![Fig-3.2.1](Figures/Fig-3.2.1.png)"
   ]
  },
  {
   "cell_type": "markdown",
   "id": "4bac7b1d",
   "metadata": {},
   "source": [
    "## Forced Response\n",
    "After throwing a switch, the dc voltage source $E$ may be described by the unit step function, denoted as '$\\mathbf{1}()$', (3.2.3a) and the current source $J$ may be described by the unit step function (3.2.3b)."
   ]
  },
  {
   "cell_type": "markdown",
   "id": "5844a429",
   "metadata": {},
   "source": [
    "\\begin{equation}\\tag{3a}\n",
    "    e(t) = e = E\\mathbf{1}(t)\n",
    "\\end{equation}    "
   ]
  },
  {
   "cell_type": "markdown",
   "id": "b6daa674",
   "metadata": {},
   "source": [
    "\\begin{equation}\\tag{3b}\n",
    "    j(t) = j = J\\mathbf{1}(t)\n",
    "\\end{equation}    "
   ]
  },
  {
   "cell_type": "markdown",
   "id": "93bac924",
   "metadata": {},
   "source": [
    "Three different methods of transient analysis can be distinguished:\n",
    "* Time-domain method,\n",
    "* Laplace Transform or Operator method,\n",
    "* Method based on boundary values determination."
   ]
  },
  {
   "cell_type": "markdown",
   "id": "45d6d674",
   "metadata": {},
   "source": [
    "First two are applicable to both 1st order circuit and higher-order circuit, the last one is\n",
    "applicable only to the 1st order circuit. Use of all three methods will be presented on\n",
    "exemplary circuits."
   ]
  },
  {
   "cell_type": "markdown",
   "id": "9954b3a4",
   "metadata": {},
   "source": [
    "### 1st Order circuit – Time-domain method\n",
    "#### Example 3.2.1\n",
    "The simple one-loop RL circuit is presented in Fig. 3.2.2. Find the coil current and voltage\n",
    "after closing the switch, by means of the time-domain method."
   ]
  },
  {
   "cell_type": "markdown",
   "id": "da1dc538",
   "metadata": {},
   "source": [
    "There is no energy initially stored in the coil, $I_0=0$ . Then, only forced response should be\n",
    "considered. The dc circuits at boundary, initial and steady state, conditions are presented in\n",
    "Fig. 3.2.3. The boundary values of the circuit responses are collected in Table 3.2.1  \n",
    "\n",
    "![Fig-3.2.3](Figures/Fig-3.2.3.png)"
   ]
  },
  {
   "cell_type": "markdown",
   "id": "0146d06b",
   "metadata": {},
   "source": [
    "![Table-3.2.1](Figures/Table-3.2.1.png)"
   ]
  },
  {
   "cell_type": "markdown",
   "id": "de2fcc84",
   "metadata": {},
   "source": [
    "For the **initial condition** (left hand circuit):  Via KVL and Ohm's Law,  \n",
    "\n",
    "\\begin{equation}\\tag{M1}\n",
    "    E = RI_0 + U_0 = U_0\n",
    "\\end{equation}    "
   ]
  },
  {
   "cell_type": "markdown",
   "id": "df20bcbf",
   "metadata": {},
   "source": [
    "Which is stated in row 2 column 1 of Table 3.2.1."
   ]
  },
  {
   "cell_type": "markdown",
   "id": "15c2c28f",
   "metadata": {},
   "source": [
    "For the **steady state condition** (right hand circuit),  Via KVL and Ohm's Law,  \n",
    "\n",
    "\\begin{equation}\\tag{M2}\n",
    "    E = RI_\\infty + U_\\infty = RI_\\infty\n",
    "\\end{equation}    "
   ]
  },
  {
   "cell_type": "markdown",
   "id": "d89aa9ca",
   "metadata": {},
   "source": [
    "Thus,\n",
    "\\begin{equation}\\tag{M3}\n",
    "    I_\\infty = \\frac{E}{R}\n",
    "\\end{equation}    "
   ]
  },
  {
   "cell_type": "markdown",
   "id": "740d162d",
   "metadata": {},
   "source": [
    "Which is stated in row 1 column 2 of Table 3.2.1."
   ]
  },
  {
   "cell_type": "markdown",
   "id": "2f9dde6c",
   "metadata": {},
   "source": [
    "In general, when $t\\ge 0$, the voltages dropped across each element are given by:  \n",
    "\n",
    "\\begin{equation}\\tag{4}\n",
    "    \\text{a: }\\;u_R = Ri\\quad\\quad\\text{b: }\\;u = L\\frac{\\mathrm{d}i}{\\mathrm{d}t}\\quad\\quad\\text{c: }\\;E=u+u_R\n",
    "\\end{equation}    "
   ]
  },
  {
   "cell_type": "markdown",
   "id": "764ec826",
   "metadata": {},
   "source": [
    "Note that equation (4c) is obtained from KVL.  Via equations (4),  \n",
    "\n",
    "\\begin{equation}\\tag{5}\n",
    "    L\\frac{\\mathrm{d}i}{\\mathrm{d}t} + Ri = E\n",
    "\\end{equation}    "
   ]
  },
  {
   "cell_type": "markdown",
   "id": "732f4584",
   "metadata": {},
   "source": [
    "Which is a $1^{\\mathrm{st}}$ order differential equation (DE).  The solution to equation (5) has two part:  The steady-state response, and the transient exponential response."
   ]
  },
  {
   "cell_type": "markdown",
   "id": "7fe97fde",
   "metadata": {},
   "source": [
    "The **stead-state** response is:  \n",
    "\n",
    "\\begin{equation}\\tag{6a}\n",
    "    I_\\infty = \\frac{E}{R}\n",
    "\\end{equation}    "
   ]
  },
  {
   "cell_type": "markdown",
   "id": "7a37e9c8",
   "metadata": {},
   "source": [
    "And, the **transient exponential** response is of the form:  \n",
    "\n",
    "\\begin{equation}\\tag{6b}\n",
    "    i_\\infty = Be^{mt}\n",
    "\\end{equation}    "
   ]
  },
  {
   "cell_type": "markdown",
   "id": "9e347bf8",
   "metadata": {},
   "source": [
    "where $B\\in\\mathbb{R}$ is an arbitrary constant to be solved for using an inital value (IVP) or initial boundary problem (IBP), and $m$ is the root to the auxiliary equation (AE):  \n",
    "\n",
    "\\begin{equation}\\tag{5a}\n",
    "    Lm + R = 0\n",
    "\\end{equation}    "
   ]
  },
  {
   "cell_type": "markdown",
   "id": "8b43ab83",
   "metadata": {},
   "source": [
    "The total solution is:  \n",
    "\n",
    "\\begin{equation}\\tag{6}\n",
    "    i = I_\\infty + i_\\infty\n",
    "\\end{equation}    "
   ]
  },
  {
   "cell_type": "markdown",
   "id": "33151181",
   "metadata": {},
   "source": [
    "Via equations (M1), (5a) and (6b),  \n",
    "\n",
    "$$ u(0) = U_0 = E = L\\frac{\\mathrm{d}i(0)}{\\mathrm{d}t} = LBme^{0} = -RB$$"
   ]
  },
  {
   "cell_type": "markdown",
   "id": "e81684d7",
   "metadata": {},
   "source": [
    "Thus,\n",
    "\\begin{equation}\\tag{6c}\n",
    "    B = -\\frac{E}{R}\n",
    "\\end{equation}    "
   ]
  },
  {
   "cell_type": "markdown",
   "id": "f07a3e74",
   "metadata": {},
   "source": [
    "Via equations (6), (5a), and (6c),  \n",
    "\n",
    "\\begin{equation}\\tag{6}\n",
    "    i = \\frac{E}{R} - \\frac{E}{R}\\,e^{-Rt/L} = \\frac{E}{R}\\big(1-e^{-Rt/L}\\big)\n",
    "\\end{equation}    "
   ]
  },
  {
   "cell_type": "markdown",
   "id": "089d929d",
   "metadata": {},
   "source": [
    "The **time constant**, denoted as '$T$', is equal to the reciprocal of $\\alpha$, the solution to the equation:  \n",
    "\n",
    "$$ \\frac{\\mathrm{d}i_\\infty}{\\mathrm{d}t} + \\alpha i_\\infty = 0$$"
   ]
  },
  {
   "cell_type": "markdown",
   "id": "29f9d396",
   "metadata": {},
   "source": [
    "$$ mBe^{mt} + \\alpha Be^{mt} = 0$$"
   ]
  },
  {
   "cell_type": "markdown",
   "id": "6b7e08e3",
   "metadata": {},
   "source": [
    "\\begin{equation}\\tag{7}\n",
    "    \\alpha = -m = \\frac{R}{L} \\quad \\quad \\text{and}\\quad \\quad T = \\frac{1}{\\alpha} = \\frac{L}{R}\n",
    "\\end{equation}    "
   ]
  },
  {
   "cell_type": "markdown",
   "id": "873d2860",
   "metadata": {},
   "source": [
    "Equation (6) can thus be rewritten as:  \n",
    "\n",
    "\\begin{equation}\\tag{6}\n",
    "    i = I_\\infty\\,\\big(1-e^{-t/T}\\big)\n",
    "\\end{equation}    "
   ]
  },
  {
   "cell_type": "markdown",
   "id": "36f5e3c3",
   "metadata": {},
   "source": [
    "The voltage dropped across the coil, denoted as '$u$', is, via equations (6) and (4b),  \n",
    "\n",
    "$$ u = LI_\\infty \\frac{1}{T}\\,e^{-t/T}$$"
   ]
  },
  {
   "cell_type": "markdown",
   "id": "7085d4d2",
   "metadata": {},
   "source": [
    "\\begin{equation}\\tag{8}\n",
    "    u = RI_\\infty e^{-t/T} = Ee^{-t/T}\n",
    "\\end{equation}   "
   ]
  },
  {
   "cell_type": "markdown",
   "id": "54407257",
   "metadata": {},
   "source": [
    "Please note, that both responses (3.2.7) and (3.2.9) start at $t=0$ . They are not multiplied by\n",
    "the unit step for simplicity of description. The responses are graphed in Fig. 3.2.4.  \n",
    "\n",
    "![Fig-3.2.4](Figures/Fig-3.2.4.png)"
   ]
  },
  {
   "cell_type": "markdown",
   "id": "907f13bf",
   "metadata": {},
   "source": [
    "From (3.1.17b) and equation (6a), the total energy stored is:  \n",
    "\n",
    "\\begin{equation}\\tag{9a}\n",
    "    W_\\infty = \\frac{LI_\\infty^2}{2} = \\frac{LE^2}{2R^2}\n",
    "\\end{equation}    "
   ]
  },
  {
   "cell_type": "markdown",
   "id": "b91b50e7",
   "metadata": {},
   "source": [
    "The total energy supplied/dissipated at $t\\ge t_\\infty$ is:  \n",
    "\n",
    "\\begin{equation}\\tag{9b}\n",
    "    w \\approxeq \\frac{E^2}{R}\\,t\n",
    "\\end{equation}   "
   ]
  },
  {
   "cell_type": "markdown",
   "id": "1c5c51f8",
   "metadata": {},
   "source": [
    "The **proof** behind equaton (9b):  \n",
    "\n",
    "The total energy supplied at $t\\ge t_\\infty$ (during steady-state conditions), denoted as '$W$', is given by:  \n",
    "\n",
    "$$ W = \\int_0^t Ei \\,\\mathrm{d}t = E\\,\\int_0^t i\\,\\mathrm{d}t$$"
   ]
  },
  {
   "cell_type": "markdown",
   "id": "0ac3853c",
   "metadata": {},
   "source": [
    "Since $i\\approxeq I_\\infty$ at $t\\ge t_\\infty$, meaning the current is nearly time invariant at steady-state,  \n",
    "\n",
    "$$ W \\approxeq EI_\\infty t$$"
   ]
  },
  {
   "cell_type": "markdown",
   "id": "289e053a",
   "metadata": {},
   "source": [
    "Via the above equation and equation (6a),  \n",
    "\n",
    "$$ w:=W \\approxeq \\frac{E^2}{R}\\,t$$"
   ]
  },
  {
   "cell_type": "markdown",
   "id": "d2217c09",
   "metadata": {},
   "source": [
    "Q.E.D."
   ]
  },
  {
   "cell_type": "markdown",
   "id": "f789528a",
   "metadata": {},
   "source": [
    "### 1st Order Circuit – $s$-Domain Method\n",
    "The following algorithm of the $s$-domain method can be formulated."
   ]
  },
  {
   "cell_type": "markdown",
   "id": "c0ee5a10",
   "metadata": {},
   "source": [
    "#### Algorithm 3.2.1 – $s$-domain method\n",
    "1. Predict the response(s):\n",
    "    1. evaluate the circuit order,\n",
    "    2. designate initial condition(s), if present,\n",
    "    3. designate boundary values $Y_0$, $Y_\\infty$.  \n",
    "        To find initial condition(s) and boundary values, perform dc analysis three times with\n",
    "        each energy storage element replaced by a short-circuit or an open-circuit or an ideal\n",
    "        source, as presented in Table 3.1.1.\n",
    "        In the zero initial condition case:\n",
    "        * dc analysis at $t=0_-$ is omitted,  \n",
    "        * at $t=0$ , coil is replaced by an open-circuit and capacitor by a short-circuit.\n",
    "2. Build the circuit diagram at $s$-domain, formulate the analysis equations – generalized\n",
    "    Kirchhoff’s analysis or nodal analysis can be utilized.\n",
    "3. Solve the equations to find the response in $s$-domain, $Y(s)$.\n",
    "4. Find the inverse transformation $y(t)=y$ – dictionary approach or Heaviside’s\n",
    "    formula can be utilized.\n",
    "5. Plot the response(s). Check whether the obtained boundary values match the predicted\n",
    "    ones."
   ]
  },
  {
   "cell_type": "markdown",
   "id": "809a1bee",
   "metadata": {},
   "source": [
    "#### Example 3.2.2\n",
    "The simple one-loop $RC$ circuit is presented in Fig. 3.2.5. Find the capacitor current and\n",
    "voltage after closing the switch, by means of the $s$-domain method. Then, find total energy\n",
    "supplied, stored and dissipated."
   ]
  },
  {
   "cell_type": "markdown",
   "id": "c54aff3d",
   "metadata": {},
   "source": [
    "There is no energy initially stored in the capacitor, $U_0=0$. Then, only forced response should\n",
    "be considered. The dc circuits at boundary, initial and steady state, conditions are presented in\n",
    "Fig. 3.2.6. The boundary values of the circuit responses are collected in Table 3.2.2.  \n",
    "\n",
    "![Fig-3.2.5](Figures/Fig-3.2.5.png)"
   ]
  },
  {
   "cell_type": "markdown",
   "id": "343fe704",
   "metadata": {},
   "source": [
    "![Fig-3.2.6](Figures/Fig-3.2.6.png)"
   ]
  },
  {
   "cell_type": "markdown",
   "id": "54b61fdd",
   "metadata": {},
   "source": [
    "![Table-3.2.2](Figures/Table-3.2.2.png)"
   ]
  },
  {
   "cell_type": "markdown",
   "id": "d1d041f7",
   "metadata": {},
   "source": [
    "To obtain the $s$-domain equivalent circuit (the one on the right hand side of Figure 3.2.5):  Via KVL and the fact that $U_0=0$,  \n",
    "\n",
    "\\begin{equation}\\tag{M4}\n",
    "    E = u_R + u = Ri + \\frac{1}{C}\\,\\int i\\,\\mathrm{d}t = Ri + \\frac{1}{C}\\,\\int_0^t i\\,\\mathrm{d}t + U_0 = Ri + \\frac{1}{C}\\,\\int_0^t i\\,\\mathrm{d}t\n",
    "\\end{equation}    "
   ]
  },
  {
   "cell_type": "markdown",
   "id": "5fbd8f3d",
   "metadata": {},
   "source": [
    "Transforming both sides of the above equations gives:  \n",
    "\n",
    "$$ \\frac{E}{s} = RI(s) + U(s) = RI(s) + \\frac{1}{sC}\\,I(s) = I(s)\\left(R + \\frac{1}{sC}\\right) = I(s)\\,\\frac{sCR+1}{sC}$$"
   ]
  },
  {
   "cell_type": "markdown",
   "id": "b9fa646e",
   "metadata": {},
   "source": [
    "$$ E = I(s)\\,\\frac{sCR+1}{C}$$"
   ]
  },
  {
   "cell_type": "markdown",
   "id": "e83c75d5",
   "metadata": {},
   "source": [
    "\\begin{equation}\\tag{10}\n",
    "    I(s) = \\frac{EC}{sCR+1}\n",
    "\\end{equation}    "
   ]
  },
  {
   "cell_type": "markdown",
   "id": "fa0653aa",
   "metadata": {},
   "source": [
    "The inverse transform of equation (10), which identifies an an exponential decay function $I(s)$, is:  \n",
    "\n",
    "\\begin{equation}\\tag{11}\n",
    "    i(t) = i = \\mathfrak{L}^{-1}\\{I(s)\\} = \\mathfrak{L}^{-1}\\left\\{\\frac{E}{R}\\,\\frac{T}{sT+1}\\right\\} = \\frac{E}{R} \\,\\mathfrak{L}^{-1}\\left\\{\\frac{T}{sT+1}\\right\\}=\\frac{E}{R}\\,e^{-t/T}\\mathbf{1}(t)\n",
    "\\end{equation}    "
   ]
  },
  {
   "cell_type": "markdown",
   "id": "3ae82e1c",
   "metadata": {},
   "source": [
    "where the **time constant** is:  \n",
    "\n",
    "\\begin{equation}\\tag{11a}\n",
    "    T = CR\n",
    "\\end{equation}    "
   ]
  },
  {
   "cell_type": "markdown",
   "id": "9122efc1",
   "metadata": {},
   "source": [
    "Now, let's try to find $i(t)$ *without* using the Laplace transform, denoted as '$\\mathfrak{L}$'."
   ]
  },
  {
   "cell_type": "markdown",
   "id": "7931a2ca",
   "metadata": {},
   "source": [
    "Differentiating throughout equation (M4) with respect to time gives:  \n",
    "\n",
    "\\begin{equation}\\tag{M5}\n",
    "    Ri' + \\frac{1}{C}\\,i = 0\n",
    "\\end{equation}    "
   ]
  },
  {
   "cell_type": "markdown",
   "id": "67c22006",
   "metadata": {},
   "source": [
    "The generic solution to (M5) is of the form:  \n",
    "\n",
    "\\begin{equation}\\tag{M6}\n",
    "    i = Ae^{mt}\n",
    "\\end{equation}    "
   ]
  },
  {
   "cell_type": "markdown",
   "id": "30a37a71",
   "metadata": {},
   "source": [
    "where $A\\in\\mathbb{R}$ is an arbitrary constant to be solved for using an IVP or IBP, and $m$ is the solution to the AE:  \n",
    "\n",
    "\\begin{equation}\\tag{M6a}\n",
    "    Rm + \\frac{1}{C} = 0\n",
    "\\end{equation}    "
   ]
  },
  {
   "cell_type": "markdown",
   "id": "ad1a0993",
   "metadata": {},
   "source": [
    "$$ m = -\\frac{1}{RC}$$"
   ]
  },
  {
   "cell_type": "markdown",
   "id": "c21d2d0f",
   "metadata": {},
   "source": [
    "Now, to solve for $A$, first we will use the IVP of $U_0=0$.  \n",
    "\n",
    "\\begin{equation}\\tag{M7}\n",
    "    U_0 = u(0) = \\frac{q(0)}{C} = \\frac{1}{C}\\,\\left[\\int i\\,\\mathrm{d}t\\right]_{t=0} = 0\n",
    "\\end{equation}    "
   ]
  },
  {
   "cell_type": "markdown",
   "id": "acba3b3b",
   "metadata": {},
   "source": [
    "The primitive integral of $i$ is:  \n",
    "\n",
    "\\begin{equation}\\tag{M7a}\n",
    "    \\int i \\,\\mathrm{d}t = \\frac{A}{m}\\,e^{mt} + K\n",
    "\\end{equation}"
   ]
  },
  {
   "cell_type": "markdown",
   "id": "dd3612e4",
   "metadata": {},
   "source": [
    "Via equations (M7a) and (M7),  \n",
    "\n",
    "$$ \\frac{1}{C}\\,\\left(\\frac{A}{m}+K\\right) = 0$$"
   ]
  },
  {
   "cell_type": "markdown",
   "id": "67e3f91a",
   "metadata": {},
   "source": [
    "\\begin{equation}\\tag{M8}\n",
    "    K = -\\frac{A}{m}\n",
    "\\end{equation}    "
   ]
  },
  {
   "cell_type": "markdown",
   "id": "8d2c51bd",
   "metadata": {},
   "source": [
    "Next, we will use the boundary condition $U_\\infty = E$.  \n",
    "\n",
    "\\begin{equation}\\tag{M9}\n",
    "    U_\\infty = \\frac{1}{C}\\,\\left[\\int i\\,\\mathrm{d}t\\right]_{t=\\infty} = E - RI_\\infty = E\n",
    "\\end{equation}"
   ]
  },
  {
   "cell_type": "markdown",
   "id": "904092ec",
   "metadata": {},
   "source": [
    "Via equations (M9) and (M8) and (M7a),  \n",
    "\n",
    "$$ U_\\infty = E = -\\frac{1}{C}\\frac{A}{m}$$"
   ]
  },
  {
   "cell_type": "markdown",
   "id": "8a961e44",
   "metadata": {},
   "source": [
    "\\begin{equation}\\tag{M10}\n",
    "    A = - ECm = \\frac{E}{R}\n",
    "\\end{equation}    "
   ]
  },
  {
   "cell_type": "markdown",
   "id": "c92c4625",
   "metadata": {},
   "source": [
    "Finally, via equations (M10), (M6a), and (M6), the specific solution to (M4) is:  \n",
    "\n",
    "\\begin{equation}\\tag{M11}\n",
    "    i=i(t) = \\frac{E}{R}\\,e^{-t/(RC)}\n",
    "\\end{equation}    "
   ]
  },
  {
   "cell_type": "markdown",
   "id": "a429e8db",
   "metadata": {},
   "source": [
    "And, since the domain of $i$ is $t\\in[0,\\infty)$ or $0\\le t < \\infty$,  \n",
    "\n",
    "\\begin{equation}\\tag{M11}\n",
    "    i = i(t) = \\frac{E}{R}e^{-t/(RC)}\\,\\mathbf{1}(t)\n",
    "\\end{equation}    "
   ]
  },
  {
   "cell_type": "markdown",
   "id": "1ab6e50e",
   "metadata": {},
   "source": [
    "The time constant $T$ is equal to the root of:  \n",
    "\n",
    "\\begin{align*}\\tag{M12}\n",
    "    g(t) &:= i'(0)t + i(0) \\\\\n",
    "     &= \\frac{E}{R}\\left(1 - \\frac{1}{RC}\\,t\\right)\n",
    "\\end{align*}    "
   ]
  },
  {
   "cell_type": "markdown",
   "id": "244b4e2e",
   "metadata": {},
   "source": [
    "$$ i'(t) = -\\frac{E}{R^2C}e^{-t/(RC)}$$"
   ]
  },
  {
   "cell_type": "markdown",
   "id": "58aac8e6",
   "metadata": {},
   "source": [
    "$$ g(T) = \\frac{E}{R}\\left(1 - \\frac{1}{RC}\\,T\\right) = 0$$"
   ]
  },
  {
   "cell_type": "markdown",
   "id": "8301ba95",
   "metadata": {},
   "source": [
    "$$ 1 = \\frac{T}{RC}$$"
   ]
  },
  {
   "cell_type": "markdown",
   "id": "180f78a0",
   "metadata": {},
   "source": [
    "\\begin{equation}\\tag{M13}\n",
    "    T = RC\n",
    "\\end{equation}"
   ]
  },
  {
   "cell_type": "markdown",
   "id": "dd06c64a",
   "metadata": {},
   "source": [
    "Finally, via equations (M13) and (M11),  \n",
    "\n",
    "\\begin{equation}\\tag{M14}\n",
    "    i = i(t) = \\frac{E}{R}\\,e^{-t/T}\\,\\mathbf{1}(t)\n",
    "\\end{equation}    "
   ]
  },
  {
   "cell_type": "markdown",
   "id": "2e49be7e",
   "metadata": {},
   "source": [
    "The relationship between $m$ and $T$ is, via equations (M13) and (M6a),  \n",
    "\n",
    "\\begin{equation}\\tag{M15}\n",
    "    m = -\\frac{1}{T}\n",
    "\\end{equation}    "
   ]
  },
  {
   "cell_type": "markdown",
   "id": "29cdf76b",
   "metadata": {},
   "source": [
    "The **voltage dropped across** the **capacitor** is:  \n",
    "\n",
    "\\begin{equation}\\tag{M16}\n",
    "    u = \\frac{1}{C}\\,\\int_0^t i\\,\\mathrm{d}t\n",
    "\\end{equation}    "
   ]
  },
  {
   "cell_type": "markdown",
   "id": "96ecce2e",
   "metadata": {},
   "source": [
    "The general integral of $i$ is:  \n",
    "\n",
    "\\begin{equation}\\tag{M7b}\n",
    "    \\int_0^t i\\,\\mathrm{d}t = \\frac{A}{m}\\,e^{mt} - \\frac{A}{m}e^0 = \\frac{A}{m}\\,\\big(e^{mt} - 1\\big) = \\frac{E}{Rm}\\,\\big(e^{-t/T} - 1\\big) = \\frac{ET}{R}\\,\\big(1 - e^{-t/T}\\big) = EC\\big(1-e^{-t/T}\\big)\n",
    "\\end{equation}    "
   ]
  },
  {
   "cell_type": "markdown",
   "id": "c3efff2f",
   "metadata": {},
   "source": [
    "Via equations (M7b) and (M16),  \n",
    "\n",
    "\\begin{equation}\\tag{13}\n",
    "    u = E\\big(1-e^{-t/T}\\big)\n",
    "\\end{equation}    "
   ]
  },
  {
   "cell_type": "markdown",
   "id": "d1108c6f",
   "metadata": {},
   "source": [
    "The larger the resistance, the longer it takes to reach steady-state, and vice versa."
   ]
  },
  {
   "cell_type": "markdown",
   "id": "a3febea9",
   "metadata": {},
   "source": [
    "The **voltage dropped across** the **resistor** is, via Ohm's Law and equation (M14),  \n",
    "\n",
    "\\begin{equation}\\tag{M17}\n",
    "    u_R = Ri = Ee^{-t/T}\n",
    "\\end{equation}    "
   ]
  },
  {
   "cell_type": "markdown",
   "id": "af55d671",
   "metadata": {},
   "source": [
    "The power dissipated by the resistor, denoted as '$P_R$', is:  \n",
    "\n",
    "\\begin{equation}\\tag{M18}\n",
    "    P_R = \\frac{u_R^2}{R} = \\frac{E^2}{R}\\,e^{-2t/T}\n",
    "\\end{equation}    "
   ]
  },
  {
   "cell_type": "markdown",
   "id": "dcdc2cf0",
   "metadata": {},
   "source": [
    "The primitive integral of $P_R$ is:  \n",
    "\n",
    "$$\\int P_R = -\\frac{T}{2}\\,\\frac{E^2}{R}\\,e^{-2t/T} = -0.5CE^2e^{-2t/T}$$"
   ]
  },
  {
   "cell_type": "markdown",
   "id": "f998d6f4",
   "metadata": {},
   "source": [
    "The energy dissipated by the resistor is:  \n",
    "\n",
    "\\begin{equation}\\tag{M19}\n",
    "    w_R = \\int_0^t P_R \\,\\mathrm{d}t = -0.5CE^2e^{-2t/T} + 0.5CE^2e^0 = 0.5CE^2\\big(1-e^{-2t/T}\\big)\n",
    "\\end{equation}    "
   ]
  },
  {
   "cell_type": "markdown",
   "id": "6efbefa0",
   "metadata": {},
   "source": [
    "Via equations (M19) and (14) and equivalence principle,  \n",
    "\n",
    "\\begin{equation}\\tag{M19}\n",
    "    w_R = 0.5w_E\n",
    "\\end{equation}    "
   ]
  },
  {
   "cell_type": "markdown",
   "id": "49642c92",
   "metadata": {},
   "source": [
    "Via equation (M19) and conservation of energy principle, the **energy stored** in the **capacitor** is:  \n",
    "\n",
    "\\begin{equation}\\tag{15}\n",
    "    w_C = w = 0.5w_E\n",
    "\\end{equation}    "
   ]
  },
  {
   "cell_type": "markdown",
   "id": "805a429a",
   "metadata": {},
   "source": [
    "The **energy delivered** by the $E$, denoted as '$w_E$', is:  \n",
    "\n",
    "\\begin{equation}\\tag{14}\n",
    "    w_E := w_E(t) = \\int_0^t Ei\\,\\mathrm{d}t = E\\int_0^t i\\,\\mathrm{d}t = E^2C\\big(1-e^{-t/T}\\big)\n",
    "\\end{equation}    "
   ]
  },
  {
   "cell_type": "markdown",
   "id": "8d0b7c82",
   "metadata": {},
   "source": [
    "The energy delivered by $E$ at steady-state is given by:  \n",
    "\n",
    "\\begin{equation}\\tag{14b}\n",
    "    W_{E\\infty} = E\\int_0^\\infty i\\,\\mathrm{d}t = E^2C\n",
    "\\end{equation}    "
   ]
  }
 ],
 "metadata": {
  "kernelspec": {
   "display_name": "Python 3",
   "language": "python",
   "name": "python3"
  },
  "language_info": {
   "codemirror_mode": {
    "name": "ipython",
    "version": 3
   },
   "file_extension": ".py",
   "mimetype": "text/x-python",
   "name": "python",
   "nbconvert_exporter": "python",
   "pygments_lexer": "ipython3",
   "version": "3.8.10"
  }
 },
 "nbformat": 4,
 "nbformat_minor": 5
}
