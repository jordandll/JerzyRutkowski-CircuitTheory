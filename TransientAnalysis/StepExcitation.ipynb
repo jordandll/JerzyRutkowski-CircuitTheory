{
 "cells": [
  {
   "cell_type": "markdown",
   "id": "2a38f84a",
   "metadata": {},
   "source": [
    "# Circuits with Step Excitation\n",
    "\n",
    "### Transient Analysis- *Chapter 3.2*\n",
    "\n",
    "The transient response caused by a changing of the topology of a circuit with time-invariant (dc)\n",
    "excitation, by moving a switch at $t=0$, is considered at first. It is generally assumed that at $t=0_-$\n",
    ", all circuit variables (currents and voltages) are zero or/and constant."
   ]
  },
  {
   "cell_type": "markdown",
   "id": "5f2fb52b",
   "metadata": {},
   "source": [
    "In general, such response may be sum of two components:\n",
    "* natural response or zero-input response,\n",
    "* forced response or zero-state response."
   ]
  },
  {
   "cell_type": "markdown",
   "id": "db7c16e1",
   "metadata": {},
   "source": [
    "**Natural response** or **zero-input response**  \n",
    "\n",
    "\\begin{equation}\\tag{1a}\n",
    "    y_n(t) = y_n\n",
    "\\end{equation}\n",
    "\n",
    "is the result of initial capacitive and/or inductive energy stored within a circuit (i.e. the initial condition)."
   ]
  },
  {
   "cell_type": "markdown",
   "id": "0be56682",
   "metadata": {},
   "source": [
    "**Forced response** or **zero-state response**  \n",
    "\n",
    "\\begin{equation}\\tag{1b}\n",
    "    y_f(t) = y_f\n",
    "\\end{equation}\n",
    "\n",
    "is the result of excitations or independent sources acting on the circuit."
   ]
  },
  {
   "cell_type": "markdown",
   "id": "d7f62d60",
   "metadata": {},
   "source": [
    "Then, the total response, so called **complete response**:  \n",
    "\n",
    "\\begin{equation}\\tag{1c}\n",
    "    y = y_n + y_f\n",
    "\\end{equation}    "
   ]
  },
  {
   "cell_type": "markdown",
   "id": "21e1a544",
   "metadata": {},
   "source": [
    "is a superposition of the initial condition response with all independent sources zeroed and the\n",
    "response to independent sources with the initial conditions zeroed. Block diagram\n",
    "interpretation of this strategy is presented in Fig. 3.2.1, where x is the excitation, is the\n",
    "initial condition."
   ]
  },
  {
   "cell_type": "markdown",
   "id": "435fc88c",
   "metadata": {},
   "source": [
    "![Fig-3.2.1](Figures/Fig-3.2.1.png)"
   ]
  },
  {
   "cell_type": "markdown",
   "id": "4bac7b1d",
   "metadata": {},
   "source": [
    "## Forced Response\n",
    "After throwing a switch, the dc voltage source $E$ may be described by the unit step function, denoted as '$\\mathbf{1}()$', (3.2.3a) and the current source $J$ may be described by the unit step function (3.2.3b)."
   ]
  },
  {
   "cell_type": "markdown",
   "id": "5844a429",
   "metadata": {},
   "source": [
    "\\begin{equation}\\tag{3a}\n",
    "    e(t) = e = E\\mathbf{1}(t)\n",
    "\\end{equation}    "
   ]
  },
  {
   "cell_type": "markdown",
   "id": "b6daa674",
   "metadata": {},
   "source": [
    "\\begin{equation}\\tag{3b}\n",
    "    j(t) = j = J\\mathbf{1}(t)\n",
    "\\end{equation}    "
   ]
  },
  {
   "cell_type": "markdown",
   "id": "93bac924",
   "metadata": {},
   "source": [
    "Three different methods of transient analysis can be distinguished:\n",
    "* Time-domain method,\n",
    "* Laplace Transform or Operator method,\n",
    "* Method based on boundary values determination."
   ]
  },
  {
   "cell_type": "markdown",
   "id": "45d6d674",
   "metadata": {},
   "source": [
    "First two are applicable to both 1st order circuit and higher-order circuit, the last one is\n",
    "applicable only to the 1st order circuit. Use of all three methods will be presented on\n",
    "exemplary circuits."
   ]
  },
  {
   "cell_type": "markdown",
   "id": "9954b3a4",
   "metadata": {},
   "source": [
    "### First Order circuit – Time-domain method\n",
    "#### Example 3.2.1\n",
    "The simple one-loop RL circuit is presented in Fig. 3.2.2. Find the coil current and voltage\n",
    "after closing the switch, by means of the time-domain method."
   ]
  },
  {
   "cell_type": "markdown",
   "id": "da1dc538",
   "metadata": {},
   "source": [
    "There is no energy initially stored in the coil, $I_0=0$ . Then, only forced response should be\n",
    "considered. The dc circuits at boundary, initial and steady state, conditions are presented in\n",
    "Fig. 3.2.3. The boundary values of the circuit responses are collected in Table 3.2.1  \n",
    "\n",
    "![Fig-3.2.3](Figures/Fig-3.2.3.png)"
   ]
  },
  {
   "cell_type": "markdown",
   "id": "0146d06b",
   "metadata": {},
   "source": [
    "![Table-3.2.1](Figures/Table-3.2.1.png)"
   ]
  },
  {
   "cell_type": "markdown",
   "id": "de2fcc84",
   "metadata": {},
   "source": [
    "For the **initial condition** (left hand circuit):  Via KVL and Ohm's Law,  \n",
    "\n",
    "\\begin{equation}\\tag{M1}\n",
    "    E = RI_0 + U_0 = U_0\n",
    "\\end{equation}    "
   ]
  },
  {
   "cell_type": "markdown",
   "id": "df20bcbf",
   "metadata": {},
   "source": [
    "Which is stated in row 2 column 1 of Table 3.2.1."
   ]
  },
  {
   "cell_type": "markdown",
   "id": "15c2c28f",
   "metadata": {},
   "source": [
    "For the **steady state condition** (right hand circuit),  Via KVL and Ohm's Law,  \n",
    "\n",
    "\\begin{equation}\\tag{M2}\n",
    "    E = RI_\\infty + U_\\infty = RI_\\infty\n",
    "\\end{equation}    "
   ]
  },
  {
   "cell_type": "markdown",
   "id": "d89aa9ca",
   "metadata": {},
   "source": [
    "Thus,\n",
    "\\begin{equation}\\tag{M3}\n",
    "    I_\\infty = \\frac{E}{R}\n",
    "\\end{equation}    "
   ]
  },
  {
   "cell_type": "markdown",
   "id": "740d162d",
   "metadata": {},
   "source": [
    "Which is stated in row 1 column 2 of Table 3.2.1."
   ]
  },
  {
   "cell_type": "markdown",
   "id": "2f9dde6c",
   "metadata": {},
   "source": [
    "In general, when $t\\ge 0$, the voltages dropped across each element are given by:  \n",
    "\n",
    "\\begin{equation}\\tag{4}\n",
    "    \\text{a: }\\;u_R = Ri\\quad\\quad\\text{b: }\\;u = L\\frac{\\mathrm{d}i}{\\mathrm{d}t}\\quad\\quad\\text{c: }\\;E=u+u_R\n",
    "\\end{equation}    "
   ]
  },
  {
   "cell_type": "markdown",
   "id": "764ec826",
   "metadata": {},
   "source": [
    "Note that equation (4c) is obtained from KVL.  Via equations (4),  \n",
    "\n",
    "\\begin{equation}\\tag{5}\n",
    "    L\\frac{\\mathrm{d}i}{\\mathrm{d}t} + Ri = E\n",
    "\\end{equation}    "
   ]
  },
  {
   "cell_type": "markdown",
   "id": "732f4584",
   "metadata": {},
   "source": [
    "Which is a $1^{\\mathrm{st}}$ order differential equation (DE).  The solution to equation (5) has two part:  The steady-state response, and the transient exponential response."
   ]
  },
  {
   "cell_type": "markdown",
   "id": "7fe97fde",
   "metadata": {},
   "source": [
    "The **stead-state** response is:  \n",
    "\n",
    "\\begin{equation}\\tag{6a}\n",
    "    I_\\infty = \\frac{E}{R}\n",
    "\\end{equation}    "
   ]
  },
  {
   "cell_type": "markdown",
   "id": "7a37e9c8",
   "metadata": {},
   "source": [
    "And, the **transient exponential** response is of the form:  \n",
    "\n",
    "\\begin{equation}\\tag{6b}\n",
    "    i_\\infty = Be^{mt}\n",
    "\\end{equation}    "
   ]
  },
  {
   "cell_type": "markdown",
   "id": "9e347bf8",
   "metadata": {},
   "source": [
    "where $B\\in\\mathbb{R}$ is an arbitrary constant to be solved for using an inital value (IVP) or initial boundary problem (IBP), and $m$ is the root to the auxiliary equation (AE):  \n",
    "\n",
    "\\begin{equation}\\tag{5a}\n",
    "    Lm + R = 0\n",
    "\\end{equation}    "
   ]
  },
  {
   "cell_type": "markdown",
   "id": "8b43ab83",
   "metadata": {},
   "source": [
    "The total solution is:  \n",
    "\n",
    "\\begin{equation}\\tag{6}\n",
    "    i = I_\\infty + i_\\infty\n",
    "\\end{equation}    "
   ]
  },
  {
   "cell_type": "markdown",
   "id": "33151181",
   "metadata": {},
   "source": [
    "Via equations (M1), (5a) and (6b),  \n",
    "\n",
    "$$ u(0) = U_0 = E = L\\frac{\\mathrm{d}i(0)}{\\mathrm{d}t} = LBme^{0} = -RB$$"
   ]
  },
  {
   "cell_type": "markdown",
   "id": "e81684d7",
   "metadata": {},
   "source": [
    "Thus,\n",
    "\\begin{equation}\\tag{6c}\n",
    "    B = -\\frac{E}{R}\n",
    "\\end{equation}    "
   ]
  },
  {
   "cell_type": "markdown",
   "id": "f07a3e74",
   "metadata": {},
   "source": [
    "Via equations (6), (5a), and (6c),  \n",
    "\n",
    "\\begin{equation}\\tag{6}\n",
    "    i = \\frac{E}{R} - \\frac{E}{R}\\,e^{-Rt/L} = \\frac{E}{R}\\big(1-e^{-Rt/L}\\big)\n",
    "\\end{equation}    "
   ]
  },
  {
   "cell_type": "markdown",
   "id": "089d929d",
   "metadata": {},
   "source": [
    "The **time constant**, denoted as '$T$', is equal to the reciprocal of $\\alpha$, the solution to the equation:  \n",
    "\n",
    "$$ \\frac{\\mathrm{d}i_\\infty}{\\mathrm{d}t} + \\alpha i_\\infty = 0$$"
   ]
  },
  {
   "cell_type": "markdown",
   "id": "29f9d396",
   "metadata": {},
   "source": [
    "$$ mBe^{mt} + \\alpha Be^{mt} = 0$$"
   ]
  },
  {
   "cell_type": "markdown",
   "id": "6b7e08e3",
   "metadata": {},
   "source": [
    "\\begin{equation}\\tag{7}\n",
    "    \\alpha = -m = \\frac{R}{L} \\quad \\quad \\text{and}\\quad \\quad T = \\frac{1}{\\alpha} = \\frac{L}{R}\n",
    "\\end{equation}    "
   ]
  },
  {
   "cell_type": "markdown",
   "id": "873d2860",
   "metadata": {},
   "source": [
    "Equation (6) can thus be rewritten as:  \n",
    "\n",
    "\\begin{equation}\\tag{6}\n",
    "    i = I_\\infty\\,\\big(1-e^{-t/T}\\big)\n",
    "\\end{equation}    "
   ]
  },
  {
   "cell_type": "markdown",
   "id": "36f5e3c3",
   "metadata": {},
   "source": [
    "The voltage dropped across the coil, denoted as '$u$', is, via equations (6) and (4b),  \n",
    "\n",
    "$$ u = LI_\\infty \\frac{1}{T}\\,e^{-t/T}$$"
   ]
  },
  {
   "cell_type": "markdown",
   "id": "7085d4d2",
   "metadata": {},
   "source": [
    "\\begin{equation}\\tag{8}\n",
    "    u = RI_\\infty e^{-t/T} = Ee^{-t/T}\n",
    "\\end{equation}   "
   ]
  },
  {
   "cell_type": "markdown",
   "id": "54407257",
   "metadata": {},
   "source": [
    "Please note, that both responses (3.2.7) and (3.2.9) start at $t=0$ . They are not multiplied by\n",
    "the unit step for simplicity of description. The responses are graphed in Fig. 3.2.4.  \n",
    "\n",
    "![Fig-3.2.4](Figures/Fig-3.2.4.png)"
   ]
  },
  {
   "cell_type": "markdown",
   "id": "907f13bf",
   "metadata": {},
   "source": [
    "From (3.1.17b) and equation (6a), the total energy stored is:  \n",
    "\n",
    "\\begin{equation}\\tag{9a}\n",
    "    W_\\infty = \\frac{LI_\\infty^2}{2} = \\frac{LE^2}{2R^2}\n",
    "\\end{equation}    "
   ]
  },
  {
   "cell_type": "markdown",
   "id": "b91b50e7",
   "metadata": {},
   "source": [
    "The total energy supplied/dissipated at $t\\ge t_\\infty$ is:  \n",
    "\n",
    "\\begin{equation}\\tag{9b}\n",
    "    w \\approxeq \\frac{E^2}{R}\\,t\n",
    "\\end{equation}   "
   ]
  },
  {
   "cell_type": "markdown",
   "id": "1c5c51f8",
   "metadata": {},
   "source": [
    "The **proof** behind equaton (9b):  \n",
    "\n",
    "The total energy supplied at $t\\ge t_\\infty$ (during steady-state conditions), denoted as '$W$', is given by:  \n",
    "\n",
    "$$ W = \\int_0^t Ei \\,\\mathrm{d}t = E\\,\\int_0^t i\\,\\mathrm{d}t$$"
   ]
  },
  {
   "cell_type": "markdown",
   "id": "0ac3853c",
   "metadata": {},
   "source": [
    "Since $i\\approxeq I_\\infty$ at $t\\ge t_\\infty$, meaning the current is nearly time invariant at steady-state,  \n",
    "\n",
    "$$ W \\approxeq EI_\\infty t$$"
   ]
  },
  {
   "cell_type": "markdown",
   "id": "289e053a",
   "metadata": {},
   "source": [
    "Via the above equation and equation (6a),  \n",
    "\n",
    "$$ w:=W \\approxeq \\frac{E^2}{R}\\,t$$"
   ]
  },
  {
   "cell_type": "markdown",
   "id": "d2217c09",
   "metadata": {},
   "source": [
    "Q.E.D."
   ]
  },
  {
   "cell_type": "markdown",
   "id": "f789528a",
   "metadata": {},
   "source": [
    "### First Order Circuit – $s$-Domain Method\n",
    "The following algorithm of the $s$-domain method can be formulated."
   ]
  },
  {
   "cell_type": "markdown",
   "id": "c0ee5a10",
   "metadata": {},
   "source": [
    "#### Algorithm 3.2.1 – $s$-domain method\n",
    "1. Predict the response(s):\n",
    "    1. evaluate the circuit order,\n",
    "    2. designate initial condition(s), if present,\n",
    "    3. designate boundary values $Y_0$, $Y_\\infty$.  \n",
    "        To find initial condition(s) and boundary values, perform dc analysis three times with\n",
    "        each energy storage element replaced by a short-circuit or an open-circuit or an ideal\n",
    "        source, as presented in Table 3.1.1.\n",
    "        In the zero initial condition case:\n",
    "        * dc analysis at $t=0_-$ is omitted,  \n",
    "        * at $t=0$ , coil is replaced by an open-circuit and capacitor by a short-circuit.\n",
    "2. Build the circuit diagram at $s$-domain, formulate the analysis equations – generalized\n",
    "    Kirchhoff’s analysis or nodal analysis can be utilized.\n",
    "3. Solve the equations to find the response in $s$-domain, $Y(s)$.\n",
    "4. Find the inverse transformation $y(t)=y$ – dictionary approach or Heaviside’s\n",
    "    formula can be utilized.\n",
    "5. Plot the response(s). Check whether the obtained boundary values match the predicted\n",
    "    ones."
   ]
  },
  {
   "cell_type": "markdown",
   "id": "809a1bee",
   "metadata": {},
   "source": [
    "#### Example 3.2.2\n",
    "The simple one-loop $RC$ circuit is presented in Fig. 3.2.5. Find the capacitor current and\n",
    "voltage after closing the switch, by means of the $s$-domain method. Then, find total energy\n",
    "supplied, stored and dissipated."
   ]
  },
  {
   "cell_type": "markdown",
   "id": "c54aff3d",
   "metadata": {},
   "source": [
    "There is no energy initially stored in the capacitor, $U_0=0$. Then, only forced response should\n",
    "be considered. The dc circuits at boundary, initial and steady state, conditions are presented in\n",
    "Fig. 3.2.6. The boundary values of the circuit responses are collected in Table 3.2.2.  \n",
    "\n",
    "![Fig-3.2.5](Figures/Fig-3.2.5.png)"
   ]
  },
  {
   "cell_type": "markdown",
   "id": "343fe704",
   "metadata": {},
   "source": [
    "![Fig-3.2.6](Figures/Fig-3.2.6.png)"
   ]
  },
  {
   "cell_type": "markdown",
   "id": "54b61fdd",
   "metadata": {},
   "source": [
    "![Table-3.2.2](Figures/Table-3.2.2.png)"
   ]
  },
  {
   "cell_type": "markdown",
   "id": "d1d041f7",
   "metadata": {},
   "source": [
    "To obtain the $s$-domain equivalent circuit (the one on the right hand side of Figure 3.2.5):  Via KVL and the fact that $U_0=0$,  \n",
    "\n",
    "\\begin{equation}\\tag{M4}\n",
    "    E = u_R + u = Ri + \\frac{1}{C}\\,\\int i\\,\\mathrm{d}t = Ri + \\frac{1}{C}\\,\\int_0^t i\\,\\mathrm{d}t + U_0 = Ri + \\frac{1}{C}\\,\\int_0^t i\\,\\mathrm{d}t\n",
    "\\end{equation}    "
   ]
  },
  {
   "cell_type": "markdown",
   "id": "5fbd8f3d",
   "metadata": {},
   "source": [
    "Transforming both sides of the above equations gives:  \n",
    "\n",
    "$$ \\frac{E}{s} = RI(s) + U(s) = RI(s) + \\frac{1}{sC}\\,I(s) = I(s)\\left(R + \\frac{1}{sC}\\right) = I(s)\\,\\frac{sCR+1}{sC}$$"
   ]
  },
  {
   "cell_type": "markdown",
   "id": "b9fa646e",
   "metadata": {},
   "source": [
    "$$ E = I(s)\\,\\frac{sCR+1}{C}$$"
   ]
  },
  {
   "cell_type": "markdown",
   "id": "e83c75d5",
   "metadata": {},
   "source": [
    "\\begin{equation}\\tag{10}\n",
    "    I(s) = \\frac{EC}{sCR+1}\n",
    "\\end{equation}    "
   ]
  },
  {
   "cell_type": "markdown",
   "id": "fa0653aa",
   "metadata": {},
   "source": [
    "The inverse transform of equation (10), which identifies an an exponential decay function $I(s)$, is:  \n",
    "\n",
    "\\begin{equation}\\tag{11}\n",
    "    i(t) = i = \\mathfrak{L}^{-1}\\{I(s)\\} = \\mathfrak{L}^{-1}\\left\\{\\frac{E}{R}\\,\\frac{T}{sT+1}\\right\\} = \\frac{E}{R} \\,\\mathfrak{L}^{-1}\\left\\{\\frac{T}{sT+1}\\right\\}=\\frac{E}{R}\\,e^{-t/T}\\mathbf{1}(t)\n",
    "\\end{equation}    "
   ]
  },
  {
   "cell_type": "markdown",
   "id": "3ae82e1c",
   "metadata": {},
   "source": [
    "where the **time constant** is:  \n",
    "\n",
    "\\begin{equation}\\tag{11a}\n",
    "    T = CR\n",
    "\\end{equation}    "
   ]
  },
  {
   "cell_type": "markdown",
   "id": "9122efc1",
   "metadata": {},
   "source": [
    "Now, let's try to find $i(t)$ *without* using the Laplace transform, denoted as '$\\mathfrak{L}$'."
   ]
  },
  {
   "cell_type": "markdown",
   "id": "7931a2ca",
   "metadata": {},
   "source": [
    "Differentiating throughout equation (M4) with respect to time gives:  \n",
    "\n",
    "\\begin{equation}\\tag{M5}\n",
    "    Ri' + \\frac{1}{C}\\,i = 0\n",
    "\\end{equation}    "
   ]
  },
  {
   "cell_type": "markdown",
   "id": "67c22006",
   "metadata": {},
   "source": [
    "The generic solution to (M5) is of the form:  \n",
    "\n",
    "\\begin{equation}\\tag{M6}\n",
    "    i = Ae^{mt}\n",
    "\\end{equation}    "
   ]
  },
  {
   "cell_type": "markdown",
   "id": "30a37a71",
   "metadata": {},
   "source": [
    "where $A\\in\\mathbb{R}$ is an arbitrary constant to be solved for using an IVP or IBP, and $m$ is the solution to the AE:  \n",
    "\n",
    "\\begin{equation}\\tag{M6a}\n",
    "    Rm + \\frac{1}{C} = 0\n",
    "\\end{equation}    "
   ]
  },
  {
   "cell_type": "markdown",
   "id": "ad1a0993",
   "metadata": {},
   "source": [
    "$$ m = -\\frac{1}{RC}$$"
   ]
  },
  {
   "cell_type": "markdown",
   "id": "c21d2d0f",
   "metadata": {},
   "source": [
    "Now, to solve for $A$, first we will use the IVP of $U_0=0$.  \n",
    "\n",
    "\\begin{equation}\\tag{M7}\n",
    "    U_0 = u(0) = \\frac{q(0)}{C} = \\frac{1}{C}\\,\\left[\\int i\\,\\mathrm{d}t\\right]_{t=0} = 0\n",
    "\\end{equation}    "
   ]
  },
  {
   "cell_type": "markdown",
   "id": "acba3b3b",
   "metadata": {},
   "source": [
    "The primitive integral of $i$ is:  \n",
    "\n",
    "\\begin{equation}\\tag{M7a}\n",
    "    \\int i \\,\\mathrm{d}t = \\frac{A}{m}\\,e^{mt} + K\n",
    "\\end{equation}"
   ]
  },
  {
   "cell_type": "markdown",
   "id": "3e1f98c0",
   "metadata": {},
   "source": [
    "Via equations (M7a) and (M7),  \n",
    "\n",
    "$$ \\frac{1}{C}\\,\\left(\\frac{A}{m}+K\\right) = 0$$"
   ]
  },
  {
   "cell_type": "markdown",
   "id": "85806b9f",
   "metadata": {},
   "source": [
    "\\begin{equation}\\tag{M8}\n",
    "    K = -\\frac{A}{m}\n",
    "\\end{equation}    "
   ]
  },
  {
   "cell_type": "markdown",
   "id": "51c2be8e",
   "metadata": {},
   "source": [
    "Next, we will use the boundary condition $U_\\infty = E$.  \n",
    "\n",
    "\\begin{equation}\\tag{M9}\n",
    "    U_\\infty = \\frac{1}{C}\\,\\left[\\int i\\,\\mathrm{d}t\\right]_{t=\\infty} = E - RI_\\infty = E\n",
    "\\end{equation}"
   ]
  },
  {
   "cell_type": "markdown",
   "id": "137a7669",
   "metadata": {},
   "source": [
    "Via equations (M9) and (M8) and (M7a),  \n",
    "\n",
    "$$ U_\\infty = E = -\\frac{1}{C}\\frac{A}{m}$$"
   ]
  },
  {
   "cell_type": "markdown",
   "id": "0b8118ea",
   "metadata": {},
   "source": [
    "\\begin{equation}\\tag{M10}\n",
    "    A = - ECm = \\frac{E}{R}\n",
    "\\end{equation}    "
   ]
  },
  {
   "cell_type": "markdown",
   "id": "5cdd8b75",
   "metadata": {},
   "source": [
    "Finally, via equations (M10), (M6a), and (M6), the specific solution to (M4) is:  \n",
    "\n",
    "\\begin{equation}\\tag{M11}\n",
    "    i=i(t) = \\frac{E}{R}\\,e^{-t/(RC)}\n",
    "\\end{equation}    "
   ]
  },
  {
   "cell_type": "markdown",
   "id": "eb7d4d03",
   "metadata": {},
   "source": [
    "And, since the domain of $i$ is $t\\in[0,\\infty)$ or $0\\le t < \\infty$,  \n",
    "\n",
    "\\begin{equation}\\tag{M11}\n",
    "    i = i(t) = \\frac{E}{R}e^{-t/(RC)}\\,\\mathbf{1}(t)\n",
    "\\end{equation}    "
   ]
  },
  {
   "cell_type": "markdown",
   "id": "9af8ce23",
   "metadata": {},
   "source": [
    "The time constant $T$ is equal to the root of:  \n",
    "\n",
    "\\begin{align*}\\tag{M12}\n",
    "    g(t) &:= i'(0)t + i(0) \\\\\n",
    "     &= \\frac{E}{R}\\left(1 - \\frac{1}{RC}\\,t\\right)\n",
    "\\end{align*}    "
   ]
  },
  {
   "cell_type": "markdown",
   "id": "a619805c",
   "metadata": {},
   "source": [
    "$$ i'(t) = -\\frac{E}{R^2C}e^{-t/(RC)}$$"
   ]
  },
  {
   "cell_type": "markdown",
   "id": "203d501a",
   "metadata": {},
   "source": [
    "$$ g(T) = \\frac{E}{R}\\left(1 - \\frac{1}{RC}\\,T\\right) = 0$$"
   ]
  },
  {
   "cell_type": "markdown",
   "id": "5d88e696",
   "metadata": {},
   "source": [
    "$$ 1 = \\frac{T}{RC}$$"
   ]
  },
  {
   "cell_type": "markdown",
   "id": "5f556b68",
   "metadata": {},
   "source": [
    "\\begin{equation}\\tag{M13}\n",
    "    T = RC\n",
    "\\end{equation}"
   ]
  },
  {
   "cell_type": "markdown",
   "id": "0bc46446",
   "metadata": {},
   "source": [
    "Finally, via equations (M13) and (M11),  \n",
    "\n",
    "\\begin{equation}\\tag{M14}\n",
    "    i = i(t) = \\frac{E}{R}\\,e^{-t/T}\\,\\mathbf{1}(t)\n",
    "\\end{equation}    "
   ]
  },
  {
   "cell_type": "markdown",
   "id": "4205cd55",
   "metadata": {},
   "source": [
    "The relationship between $m$ and $T$ is, via equations (M13) and (M6a),  \n",
    "\n",
    "\\begin{equation}\\tag{M15}\n",
    "    m = -\\frac{1}{T}\n",
    "\\end{equation}    "
   ]
  },
  {
   "cell_type": "markdown",
   "id": "7e5dbe7f",
   "metadata": {},
   "source": [
    "The **voltage dropped across** the **capacitor** is:  \n",
    "\n",
    "\\begin{equation}\\tag{M16}\n",
    "    u = \\frac{1}{C}\\,\\int_0^t i\\,\\mathrm{d}t\n",
    "\\end{equation}    "
   ]
  },
  {
   "cell_type": "markdown",
   "id": "73ad5de3",
   "metadata": {},
   "source": [
    "The general integral of $i$ is:  \n",
    "\n",
    "\\begin{equation}\\tag{M7b}\n",
    "    \\int_0^t i\\,\\mathrm{d}t = \\frac{A}{m}\\,e^{mt} - \\frac{A}{m}e^0 = \\frac{A}{m}\\,\\big(e^{mt} - 1\\big) = \\frac{E}{Rm}\\,\\big(e^{-t/T} - 1\\big) = \\frac{ET}{R}\\,\\big(1 - e^{-t/T}\\big) = EC\\big(1-e^{-t/T}\\big)\n",
    "\\end{equation}    "
   ]
  },
  {
   "cell_type": "markdown",
   "id": "2ed4d8b6",
   "metadata": {},
   "source": [
    "Via equations (M7b) and (M16),  \n",
    "\n",
    "\\begin{equation}\\tag{13}\n",
    "    u = E\\big(1-e^{-t/T}\\big)\n",
    "\\end{equation}    "
   ]
  },
  {
   "cell_type": "markdown",
   "id": "2988c4cf",
   "metadata": {},
   "source": [
    "The larger the resistance, the longer it takes to reach steady-state, and vice versa."
   ]
  },
  {
   "cell_type": "markdown",
   "id": "fafe5f90",
   "metadata": {},
   "source": [
    "![Fig-3.2.7](Figures/Fig-3.2.7.png)"
   ]
  },
  {
   "cell_type": "markdown",
   "id": "328c39b6",
   "metadata": {},
   "source": [
    "In the **ideal case**, when $R=0$, via equation (10),   \n",
    "\n",
    "\\begin{equation}\\tag{17}\n",
    "    I(s) = EC\n",
    "\\end{equation}    "
   ]
  },
  {
   "cell_type": "markdown",
   "id": "f52e602b",
   "metadata": {},
   "source": [
    "Inverse transforming boths sides of equation (17) gives:  \n",
    "\n",
    "\\begin{equation}\\tag{17b}\n",
    "    i(t) = i = \\mathfrak{L}^{-1}\\{EC\\} = EC\\delta(t)\n",
    "\\end{equation}    "
   ]
  },
  {
   "cell_type": "markdown",
   "id": "10e8e418",
   "metadata": {},
   "source": [
    "In the practical case, when $R\\ne 0$, the charge $q$ is given by:  \n",
    "\n",
    "\\begin{equation}\\tag{16a}\n",
    "    q = \\int i\\,\\mathrm{d}t = \\int_0^t i\\,\\mathrm{d}t + Q_0 = \\int_0^t i\\,\\mathrm{d}t = EC\\big(1-e^{-t/T}\\big)\n",
    "\\end{equation}    "
   ]
  },
  {
   "cell_type": "markdown",
   "id": "e4a89372",
   "metadata": {},
   "source": [
    "In both cases, the charge at steady-state, denoted as '$Q$', is given by:  \n",
    "\n",
    "\\begin{equation}\\tag{16b}\n",
    "    Q = \\int_0^\\infty i\\,\\mathrm{d}t = EC\n",
    "\\end{equation}    "
   ]
  },
  {
   "cell_type": "markdown",
   "id": "e4fda272",
   "metadata": {},
   "source": [
    "The **voltage dropped across** the **resistor** is, via Ohm's Law and equation (M14),  \n",
    "\n",
    "\\begin{equation}\\tag{M17}\n",
    "    u_R = Ri = Ee^{-t/T}\n",
    "\\end{equation}    "
   ]
  },
  {
   "cell_type": "markdown",
   "id": "dfcb87fb",
   "metadata": {},
   "source": [
    "The power dissipated by the resistor, denoted as '$P_R$', is:  \n",
    "\n",
    "\\begin{equation}\\tag{M18}\n",
    "    P_R = \\frac{u_R^2}{R} = \\frac{E^2}{R}\\,e^{-2t/T}\n",
    "\\end{equation}    "
   ]
  },
  {
   "cell_type": "markdown",
   "id": "1a96abf0",
   "metadata": {},
   "source": [
    "The primitive integral of $P_R$ is:  \n",
    "\n",
    "$$\\int P_R = -\\frac{T}{2}\\,\\frac{E^2}{R}\\,e^{-2t/T} = -0.5CE^2e^{-2t/T}$$"
   ]
  },
  {
   "cell_type": "markdown",
   "id": "09da237c",
   "metadata": {},
   "source": [
    "The energy dissipated by the resistor is:  \n",
    "\n",
    "\\begin{equation}\\tag{M19}\n",
    "    w_R = \\int_0^t P_R \\,\\mathrm{d}t = -0.5CE^2e^{-2t/T} + 0.5CE^2e^0 = 0.5CE^2\\big(1-e^{-2t/T}\\big)\n",
    "\\end{equation}    "
   ]
  },
  {
   "cell_type": "markdown",
   "id": "8f13763f",
   "metadata": {},
   "source": [
    "Via equations (M19) and (14) and equivalence principle,  \n",
    "\n",
    "\\begin{equation}\\tag{M19}\n",
    "    w_R = 0.5w_E\n",
    "\\end{equation}    "
   ]
  },
  {
   "cell_type": "markdown",
   "id": "6b02cde4",
   "metadata": {},
   "source": [
    "Via equation (M19) and conservation of energy principle, the **energy stored** in the **capacitor** is:  \n",
    "\n",
    "\\begin{equation}\\tag{15}\n",
    "    w_C = w = 0.5w_E\n",
    "\\end{equation}    "
   ]
  },
  {
   "cell_type": "markdown",
   "id": "8407c080",
   "metadata": {},
   "source": [
    "And, of course, at steady-state, we have:  \n",
    "\n",
    "\\begin{equation}\\tag{M19b}\n",
    "    W_{R\\infty} = 0.5W_{E\\infty} = 0.5E^2C\n",
    "\\end{equation}    "
   ]
  },
  {
   "cell_type": "markdown",
   "id": "4c4d10a2",
   "metadata": {},
   "source": [
    "and,\n",
    "\\begin{equation}\\tag{15b}\n",
    "    W_\\infty = 0.5W_{E\\infty} = 0.5E^2C\n",
    "\\end{equation}    "
   ]
  },
  {
   "cell_type": "markdown",
   "id": "dec78fcf",
   "metadata": {},
   "source": [
    "The **energy delivered** by the $E$, denoted as '$w_E$', is:  \n",
    "\n",
    "\\begin{equation}\\tag{14}\n",
    "    w_E := w_E(t) = \\int_0^t Ei\\,\\mathrm{d}t = E\\int_0^t i\\,\\mathrm{d}t = E^2C\\big(1-e^{-t/T}\\big)\n",
    "\\end{equation}    "
   ]
  },
  {
   "cell_type": "markdown",
   "id": "4dddb514",
   "metadata": {},
   "source": [
    "The energy delivered by $E$ at steady-state is given by:  \n",
    "\n",
    "\\begin{equation}\\tag{14b}\n",
    "    W_{E\\infty} = E\\int_0^\\infty i\\,\\mathrm{d}t = E^2C\n",
    "\\end{equation}    "
   ]
  },
  {
   "cell_type": "markdown",
   "id": "010dc002",
   "metadata": {},
   "source": [
    "### First Order Circuit – Boundary Values Based Method\n",
    "Single energy storage element may be extracted from the 1st order circuit, and then such\n",
    "circuit can be considered as a resistive subcircuit loaded with an energy storage element.\n",
    "Thevenin’s theorem can be utilized and an arbitrary 1st order circuit can be reduced to the\n",
    "one-loop $RL$ or $RC$ circuit. The circuits described in the s-domain are presented in Fig. 3.2.8,\n",
    "where, $R_\\mathrm{t}$ is the Thevenin resistance - the resistance seen from terminals of the energy\n",
    "storage element after deactivating all sources.  \n",
    "\n",
    "![Fig-3.2.8](Figures/Fig-3.2.8.png)"
   ]
  },
  {
   "cell_type": "markdown",
   "id": "62febbdd",
   "metadata": {},
   "source": [
    "The obtained circuits have been already considered (Examples 3.2.1 and 3.2.2).Their time\n",
    "constants are given by equations (3.2.8) and (3.2.13).  \n",
    "\n",
    "![Fig-3.2.9](Figures/Fig-3.2.9.png)"
   ]
  },
  {
   "cell_type": "markdown",
   "id": "05008839",
   "metadata": {},
   "source": [
    "The 1st order circuit arbitrary response $y(t)=y$ , voltage or current, is the exponential\n",
    "function (A7b) uniquely described by the time constant $T$ and boundary values $Y_0$ and $Y_\\infty$ :  \n",
    "\n",
    "\\begin{equation}\\tag{18}\n",
    "    y = Y_\\infty\\big(1-e^{-t/T}\\big) + Y_0e^{-t/T}\\quad\\quad\\text{where }t\\ge 0\n",
    "\\end{equation}    "
   ]
  },
  {
   "cell_type": "markdown",
   "id": "da154cab",
   "metadata": {},
   "source": [
    "To ellaborate one equation (18):  Assuming the initial condition is $Y_0=0$, which has been the case so far in the previous two example,  \n",
    "\n",
    "$$ y = Y_\\infty\\big(1-e^{-t/T}\\big)$$"
   ]
  },
  {
   "cell_type": "markdown",
   "id": "dd6b6b2e",
   "metadata": {},
   "source": [
    "For example, equation (13), which describes an $RC$ circuit with an initial condition of $U_0=0$, fits the above equation.  The steady-state condition is $U_\\infty=E$."
   ]
  },
  {
   "cell_type": "markdown",
   "id": "b5b46247",
   "metadata": {},
   "source": [
    "Assuming $U_0\\ne 0$,  \n",
    "\n",
    "\\begin{equation}\\tag{M20}\n",
    "    u = \\frac{1}{C}\\int_0^t i\\,\\mathrm{d}t + U_0\n",
    "\\end{equation}    "
   ]
  },
  {
   "cell_type": "markdown",
   "id": "ce299dbd",
   "metadata": {},
   "source": [
    "Transforming both sides gives:  \n",
    "\n",
    "$$ U(s) = \\frac{1}{sC}\\,I(s) + \\frac{U_0}{s}$$"
   ]
  },
  {
   "cell_type": "markdown",
   "id": "12da0585",
   "metadata": {},
   "source": [
    "The voltage drops across the resistor and the voltage source in the $s$-domain are,  \n",
    "\n",
    "$$ E(s) = \\frac{E}{s} \\quad \\quad \\text{and} \\quad \\quad U_R(s) = RI(s)$$"
   ]
  },
  {
   "cell_type": "markdown",
   "id": "9e0bacfb",
   "metadata": {},
   "source": [
    "Via the above three equations and KVL,  \n",
    "\n",
    "\\begin{align*}\n",
    "    E(s) &= RI(s) + U(s) \\\\ \\\\\n",
    "    \\frac{E}{s} &= RI(s) + \\frac{1}{sC}\\,I(s) + \\frac{U_0}{s} \\\\ \\\\\n",
    "    E &= sRI(s) + \\frac{1}{C}\\,I(s) + U_0\n",
    "\\end{align*}"
   ]
  },
  {
   "cell_type": "markdown",
   "id": "16ae73cf",
   "metadata": {},
   "source": [
    "$$ I(s)\\left(sR + \\frac{1}{C}\\right) = E - U_0$$"
   ]
  },
  {
   "cell_type": "markdown",
   "id": "433d2f0e",
   "metadata": {},
   "source": [
    "$$ I(s)\\,\\frac{sRC + 1}{C} = E-U_0$$"
   ]
  },
  {
   "cell_type": "markdown",
   "id": "f3994efe",
   "metadata": {},
   "source": [
    "$$ I(s) = \\frac{C(E-U_0)}{sRC + 1}$$"
   ]
  },
  {
   "cell_type": "markdown",
   "id": "505c0876",
   "metadata": {},
   "source": [
    "Now let $T:=RC$.  \n",
    "\n",
    "$$ I(s) = \\frac{E}{R}\\frac{T}{sT+1} - \\frac{U_0}{R}\\frac{T}{sT+1} = \\frac{E-U_0}{R}\\,\\frac{T}{sT+1}$$"
   ]
  },
  {
   "cell_type": "markdown",
   "id": "96627a1e",
   "metadata": {},
   "source": [
    "Inverse transforming both sides of the above equation gives:  \n",
    "\n",
    "\\begin{equation}\\tag{M21}\n",
    "    i = i(t) = \\mathfrak{L}^{-1}\\{I(s)\\} = \\frac{E-U_0}{R}\\,e^{-t/T}\n",
    "\\end{equation}    "
   ]
  },
  {
   "cell_type": "markdown",
   "id": "5ca0591d",
   "metadata": {},
   "source": [
    "\\begin{equation}\\tag{M22}\n",
    "    u = \\frac{E-U_0}{RC}\\,\\int_0^t e^{-t/T}\\,\\mathrm{d}t + U_0\n",
    "\\end{equation}    "
   ]
  },
  {
   "cell_type": "markdown",
   "id": "14af67d7",
   "metadata": {},
   "source": [
    "$$ \\int e^{-t/T} \\,\\mathrm{d}t = -Te^{-t/T} + K$$"
   ]
  },
  {
   "cell_type": "markdown",
   "id": "60c4f482",
   "metadata": {},
   "source": [
    "\\begin{equation}\\tag{M23}\n",
    "    \\int_0^t e^{-t/T} = -Te^{-t/T} + Te^0 = T\\big(1 - e^{-t/T}\\big)\n",
    "\\end{equation}    "
   ]
  },
  {
   "cell_type": "markdown",
   "id": "8adcd015",
   "metadata": {},
   "source": [
    "Via equations (M23) and (M22),  \n",
    "\n",
    "\\begin{align*}\\tag{M24}\n",
    "    u &= (E-U_0)\\big(1-e^{-t/T}\\big) + U_0 \\\\\n",
    "     &= E - Ee^{-t/T} + U_0e^{-t/T} \\\\ \n",
    "     &= E\\big(1-e^{-t/T}\\big) + U_0e^{-t/T}\n",
    "\\end{align*}     "
   ]
  },
  {
   "cell_type": "markdown",
   "id": "4f7c7470",
   "metadata": {},
   "source": [
    "Equation (M24) fits equation (18).  Here, $E=U_\\infty$ is the steady-state condition."
   ]
  },
  {
   "cell_type": "markdown",
   "id": "7ae97c80",
   "metadata": {},
   "source": [
    "When $Y_0>Y_\\infty$ , the decaying function is obtained, when $Y_\\infty > Y_0$ , the rising one is, as presented in Fig. 3.2.9. The special case $Y_\\infty=Y_0$, is not considered. Then, algorithm of the boundary values\n",
    "method can be formulated."
   ]
  },
  {
   "cell_type": "markdown",
   "id": "e7fc60a9",
   "metadata": {},
   "source": [
    "#### Algorithm 3.2.2 - Boundary Values Based Method\n",
    "1. Predict the response(s):\n",
    "    1. evaluate the circuit order,\n",
    "    2. designate initial condition(s), if present,\n",
    "    3. designate boundary values .  \n",
    "    \n",
    "    To find initial condition(s) and boundary values, perform dc analysis three times with\n",
    "    energy storage element replaced by a short-circuit or an open-circuit or an ideal\n",
    "    source, as presented in Table 3.1.1.\n",
    "    In the zero initial condition case:\n",
    "    * dc analysis at $t=0_-$ is omitted,\n",
    "    * at $t=0$, coil is replaced by an open-circuit and capacitor by a short-circuit.  "
   ]
  },
  {
   "cell_type": "markdown",
   "id": "7b7ae30f",
   "metadata": {},
   "source": [
    "    \n",
    "2. Find , equivalent resistance of the resistive part, with all sources deactivated. Then,\n",
    "    the time constant is given by (3.2.8) or (3.2.13).\n",
    "3. Plot the response – connect the boundary values by the exponential curve with\n",
    "    time constant $T$ (Fig.3.2.9).\n",
    "4. Express the response algebraically (3.2.17)."
   ]
  },
  {
   "cell_type": "markdown",
   "id": "9ae7a732",
   "metadata": {},
   "source": [
    "#### Example 3.2.3\n",
    "The circuit, presented in Fig. 3.2.10, consists of the series connection of a dc practical voltage\n",
    "source that is switched at time $t=0$ across a practical coil. Find the response, voltage $u$\n",
    "across the practical coil.  \n",
    "\n",
    "![Fig-3.2.10.png](Figures/Fig-3.2.10.png)"
   ]
  },
  {
   "cell_type": "markdown",
   "id": "85e8903c",
   "metadata": {},
   "source": [
    "The time constant is:  \n",
    "\n",
    "\\begin{equation}\\tag{Ex3.1}\n",
    "    T = \\frac{L}{R_t}\n",
    "\\end{equation}    "
   ]
  },
  {
   "cell_type": "markdown",
   "id": "c55ec3cd",
   "metadata": {},
   "source": [
    "\\begin{align*}\\tag{Ex3.2}\n",
    "    u &= E - Ri \\\\\n",
    "     &= R_L i + U_L \\\\\n",
    "     &= R_L i + Li'\n",
    "\\end{align*}     "
   ]
  },
  {
   "cell_type": "markdown",
   "id": "138d942e",
   "metadata": {},
   "source": [
    "$$ U_L = Li'$$\n",
    "\n",
    "\\begin{equation}\\tag{Ex3.3}\n",
    "    i = \\frac{1}{L}\\,\\int U_L \\,\\mathrm{d}t = \\frac{1}{L}\\,\\int_0^t U_L\\,\\mathrm{d}t + I_0\n",
    "\\end{equation}    "
   ]
  },
  {
   "cell_type": "markdown",
   "id": "6776ae68",
   "metadata": {},
   "source": [
    "Transforming both sides of equation (Ex3.2) gives:  \n",
    "\n",
    "\\begin{equation}\n",
    "    U(s) = R_LI(s) + L\\big(sI(s) - I_0\\big) = \\frac{E}{s} - RI(s)\n",
    "\\end{equation}    "
   ]
  },
  {
   "cell_type": "markdown",
   "id": "b135aca6",
   "metadata": {},
   "source": [
    "$$ I(s)(R_L + sL + R) = \\frac{E}{s} + LI_0 = \\frac{E + sLI_0}{s}$$"
   ]
  },
  {
   "cell_type": "markdown",
   "id": "f3c29d10",
   "metadata": {},
   "source": [
    "\\begin{equation}\\tag{Ex3.4}\n",
    "    I(s) = \\frac{E + sLI_0}{s(R_L + sL + R)} = \\frac{E}{s(R_L+sL+R)}\n",
    "\\end{equation}    "
   ]
  },
  {
   "cell_type": "markdown",
   "id": "64d2be0e",
   "metadata": {},
   "source": [
    "Instead of using the Laplace transform, let's solve for $i$ in equation (Ex3.2) directly.  \n",
    "\n",
    "\\begin{equation}\\tag{Ex3.2}\n",
    "    E = (R+R_L)i + Li' = R_\\mathrm{t}i + Li'\n",
    "\\end{equation}    "
   ]
  },
  {
   "cell_type": "markdown",
   "id": "68a8b937",
   "metadata": {},
   "source": [
    "The general solution is of the form:  \n",
    "\n",
    "\\begin{equation}\\tag{Ex3.5}\n",
    "    i = i(t) = \\frac{E}{R_\\mathrm{t}} + Ae^{mt}\n",
    "\\end{equation}    "
   ]
  },
  {
   "cell_type": "markdown",
   "id": "c0c727b1",
   "metadata": {},
   "source": [
    "$$ mL + R_\\mathrm{t} = 0$$\n",
    "\n",
    "\\begin{equation}\\tag{Ex3.5a}\n",
    "    m = - \\frac{R_\\mathrm{t}}{L}\n",
    "\\end{equation}"
   ]
  },
  {
   "cell_type": "markdown",
   "id": "8cd3574c",
   "metadata": {},
   "source": [
    "To solve for $A$ in equation (Ex3.5) we will use the fact that, since at $t=0$ the terminals of the coil are open-circuited,  \n",
    "\n",
    "\\begin{equation}\\tag{Ex3.6a}\n",
    "    i(0) = I_0 = 0\n",
    "\\end{equation}"
   ]
  },
  {
   "cell_type": "markdown",
   "id": "0dcf709a",
   "metadata": {},
   "source": [
    "and, via KVL and Ohm's Law,  \n",
    "$$ E = U_L(0)$$"
   ]
  },
  {
   "cell_type": "markdown",
   "id": "cbebeb06",
   "metadata": {},
   "source": [
    "![Fig-3.2.11](Figures/Fig-3.2.11.png)"
   ]
  },
  {
   "cell_type": "markdown",
   "id": "678bc409",
   "metadata": {},
   "source": [
    "Via equation (Ex3.6a) and (Ex3.5) and equivalence principle,  \n",
    "\n",
    "$$ i(0) = \\frac{E}{R_\\mathrm{t}} + Ae^0 = 0$$"
   ]
  },
  {
   "cell_type": "markdown",
   "id": "6d6db3db",
   "metadata": {},
   "source": [
    "\\begin{equation}\\tag{Ex3.5b}\n",
    "    A = -\\frac{E}{R_\\mathrm{t}}\n",
    "\\end{equation}"
   ]
  },
  {
   "cell_type": "markdown",
   "id": "b3280c8e",
   "metadata": {},
   "source": [
    "Thus,\n",
    "\\begin{equation}\\tag{Ex3.5}\n",
    "    i = i(t) = \\frac{E}{R_\\mathrm{t}}\\,\\big(1 - e^{mt}\\big) = I_\\infty\\big(1-e^{mt}\\big)\n",
    "\\end{equation}    "
   ]
  },
  {
   "cell_type": "markdown",
   "id": "74cb8b33",
   "metadata": {},
   "source": [
    "The time constant $T$ is the solution to the following equation:  \n",
    "\n",
    "$$ I_\\infty = i'(0)T + I_0 = i'(0)T$$"
   ]
  },
  {
   "cell_type": "markdown",
   "id": "99633e88",
   "metadata": {},
   "source": [
    "\\begin{equation}\\tag{Ex3.7}\n",
    "    i'(t) = -mI_\\infty e^{mt}\n",
    "\\end{equation}    "
   ]
  },
  {
   "cell_type": "markdown",
   "id": "77ad5d11",
   "metadata": {},
   "source": [
    "$$ i'(0) = -mI_\\infty$$"
   ]
  },
  {
   "cell_type": "markdown",
   "id": "416699f5",
   "metadata": {},
   "source": [
    "Hence,\n",
    "\n",
    "\\begin{equation}\\tag{Ex3.1}\n",
    "    T = -\\frac{I_\\infty}{mI_\\infty} = -\\frac{1}{m} = \\frac{L}{R_\\mathrm{t}}\n",
    "\\end{equation}    "
   ]
  },
  {
   "cell_type": "markdown",
   "id": "a7cb0244",
   "metadata": {},
   "source": [
    "Both equations (Ex3.7) and (Ex3.5) can be rewritten via equation (Ex3.1) and substitution,  \n",
    "\n",
    "\\begin{equation}\\tag{Ex3.5}\n",
    "    i = i(t) = I_\\infty\\big(1-e^{-t/T}\\big)\n",
    "\\end{equation}    "
   ]
  },
  {
   "cell_type": "markdown",
   "id": "43bd38d5",
   "metadata": {},
   "source": [
    "and,\n",
    "\\begin{equation}\\tag{Ex3.7}\n",
    "    i'(t) = i' = \\frac{I_\\infty}{T}\\,e^{-t/T}\n",
    "\\end{equation}    "
   ]
  },
  {
   "cell_type": "markdown",
   "id": "262c8bb2",
   "metadata": {},
   "source": [
    "Via equations (Ex3.5), (Ex3.7) and (Ex3.2),  \n",
    "\n",
    "$$ u = R_LI_\\infty\\big(1-e^{-t/T}\\big) + L\\frac{I_\\infty}{T}\\,e^{-t/T}$$"
   ]
  },
  {
   "cell_type": "markdown",
   "id": "591377c5",
   "metadata": {},
   "source": [
    "\\begin{align*}\n",
    "    u &= R_LI_\\infty\\big(1-e^{-t/T}\\big) + R_\\mathrm{t}I_\\infty e^{-t/T} \\\\\n",
    "     &= R_LI_\\infty\\big(1-e^{-t/T}\\big) + Ee^{-t/T}\n",
    "\\end{align*}     "
   ]
  },
  {
   "cell_type": "markdown",
   "id": "8c10cca1",
   "metadata": {},
   "source": [
    "![Fig-3.2.12](Figures/Fig-3.2.12.png)"
   ]
  },
  {
   "cell_type": "markdown",
   "id": "457919f7",
   "metadata": {},
   "source": [
    "Thus,\n",
    "$$ U_0 =u(0) = R_\\mathrm{t}I_\\infty = E$$"
   ]
  },
  {
   "cell_type": "markdown",
   "id": "bd7a7164",
   "metadata": {},
   "source": [
    "which was already given, and,  \n",
    "\n",
    "$$ U_\\infty = R_LI_\\infty = \\frac{R_L E}{R_L + R}$$"
   ]
  },
  {
   "cell_type": "markdown",
   "id": "97eaad3e",
   "metadata": {},
   "source": [
    "As a bonus, let's verify equation (Ex3.4) by transforming both sides of equation (Ex3.5).  \n",
    "\n",
    "$$ I(s) = I_\\infty\\,\\left(\\frac{1}{s} - \\frac{T}{1+sT}\\right)$$"
   ]
  },
  {
   "cell_type": "markdown",
   "id": "39088903",
   "metadata": {},
   "source": [
    "$$ I(s) = I_\\infty\\,\\frac{1}{s(1+sT)}$$"
   ]
  },
  {
   "cell_type": "markdown",
   "id": "c4d90d62",
   "metadata": {},
   "source": [
    "The denominator of the identity of $I(s)$ in the above equation is:  \n",
    "\n",
    "$$ s(R+R_L)(1+sT) = s(R+R_L + sL)$$"
   ]
  },
  {
   "cell_type": "markdown",
   "id": "dedbdb24",
   "metadata": {},
   "source": [
    "Which verifies equation (Ex3.4)."
   ]
  },
  {
   "cell_type": "markdown",
   "id": "5f27f9c9",
   "metadata": {},
   "source": [
    "#### Example 3.2.4\n",
    "\n",
    "Find the source current $i$ and the capacitor current $i_C$ for $t\\ge0$.  \n",
    "\n",
    "![Fig-3.2.13](Figures/Fig-3.2.13.png)"
   ]
  },
  {
   "cell_type": "markdown",
   "id": "7a45381f",
   "metadata": {},
   "source": [
    "![Fig-3.2.14](Figures/Fig-3.2.14.png)"
   ]
  },
  {
   "cell_type": "markdown",
   "id": "b2e9281d",
   "metadata": {},
   "source": [
    "To find the **initial conditions** (on the left hand circuit):  Via KVL and Ohm's law,  \n",
    "\n",
    "\\begin{equation}\\tag{Ex4.1}\n",
    "    \\text{a: }\\;E = Ri_\\mathrm{l} \\quad \\quad \\text{b: }\\;E = Ri_\\mathrm{r} + Ri_{\\mathrm{r}1}  \\quad \\quad \\text{c: }\\;Ri_{\\mathrm{r}1} = Ri_C + \\frac{1}{C}\\int i_C\\,\\mathrm{d}t\n",
    "\\end{equation}"
   ]
  },
  {
   "cell_type": "markdown",
   "id": "e9fe2f5a",
   "metadata": {},
   "source": [
    "At time $t=0$,  \n",
    "\n",
    "\\begin{equation}\\tag{Ex4.4}\n",
    "    u_C(0) = \\frac{1}{C}\\left[\\int i_C\\,\\mathrm{d}t\\right]_{t=0} = 0\n",
    "\\end{equation}    "
   ]
  },
  {
   "cell_type": "markdown",
   "id": "0b826a0c",
   "metadata": {},
   "source": [
    "Via equations (Ex4.4) and (Ex4.1c),  \n",
    "\n",
    "\\begin{equation}\\tag{Ex4.2}\n",
    "    Ri_{\\mathrm{r}1}(0) = Ri_C(0)\n",
    "\\end{equation}    "
   ]
  },
  {
   "cell_type": "markdown",
   "id": "8e45e209",
   "metadata": {},
   "source": [
    "Via equations (Ex4.2) and (Ex4.1b),  \n",
    "\n",
    "\\begin{equation}\\tag{Ex4.5}\n",
    "    E = Ri_\\mathrm{r}(0) + Ri_C(0\n",
    "\\end{equation}    "
   ]
  },
  {
   "cell_type": "markdown",
   "id": "5b3d737a",
   "metadata": {},
   "source": [
    "Via KCL,  \n",
    "\n",
    "\\begin{equation}\\tag{Ex4.3}\n",
    "    \\text{a: }\\; i = i_\\mathrm{l} + i_\\mathrm{r}\\quad \\quad \\text{b: }\\;i_\\mathrm{r} = i_{\\mathrm{r}1} + i_C\n",
    "\\end{equation}    "
   ]
  },
  {
   "cell_type": "markdown",
   "id": "038a2da2",
   "metadata": {},
   "source": [
    "Via equations (Ex4.3b) and (Ex4.5),  \n",
    "\n",
    "\\begin{equation}\\tag{Ex4.6}\n",
    "    E = R\\big(i_{\\mathrm{r}1}(0) + i_C(0)\\big) + Ri_C(0) = 2Ri_C(0) + Ri_{\\mathrm{r}1}(0)\n",
    "\\end{equation}    "
   ]
  },
  {
   "cell_type": "markdown",
   "id": "c1367b04",
   "metadata": {},
   "source": [
    "Via equations (Ex4.6) and (Ex4.2),  \n",
    "\n",
    "$$ E = 3Ri_C(0)$$"
   ]
  },
  {
   "cell_type": "markdown",
   "id": "77252890",
   "metadata": {},
   "source": [
    "\\begin{equation}\\tag{Ex4.7}\n",
    "    i_C(0) = I_{C0} = \\frac{E}{3R}\n",
    "\\end{equation}    "
   ]
  },
  {
   "cell_type": "markdown",
   "id": "fc904cfa",
   "metadata": {},
   "source": [
    "Via equations (Ex4.3a) and (Ex4.1a),  \n",
    "\n",
    "\\begin{equation}\\tag{Ex4.8}\n",
    "    i_\\mathrm{r} = i - \\frac{E}{R}\n",
    "\\end{equation}    "
   ]
  },
  {
   "cell_type": "markdown",
   "id": "fec5d7be",
   "metadata": {},
   "source": [
    "And, via equations (Ex4.8) and (Ex4.5),  \n",
    "\n",
    "$$ Ri_\\mathrm{r}(0) = E - Ri_C(0)$$"
   ]
  },
  {
   "cell_type": "markdown",
   "id": "31795cdb",
   "metadata": {},
   "source": [
    "\\begin{equation}\\tag{Ex4.9}\n",
    "    i_\\mathrm{r}(0) = \\frac{E}{R} - i_C(0)\n",
    "\\end{equation}    "
   ]
  },
  {
   "cell_type": "markdown",
   "id": "829ad0e9",
   "metadata": {},
   "source": [
    "Via equations (Ex4.9) and (Ex4.8),  \n",
    "\n",
    "$$ \\frac{E}{R} - i_C(0) = i(0) - \\frac{E}{R} $$"
   ]
  },
  {
   "cell_type": "markdown",
   "id": "99c85a24",
   "metadata": {},
   "source": [
    "\\begin{equation}\\tag{Ex4.10}\n",
    "    i(0) = I_0 = 2\\frac{E}{R} - i_C(0)\n",
    "\\end{equation}    "
   ]
  },
  {
   "cell_type": "markdown",
   "id": "ed3e326b",
   "metadata": {},
   "source": [
    "Via equations (Ex4.10) and (Ex4.7),  \n",
    "\n",
    "$$ I_0 = 2\\frac{E}{R} - \\frac{E}{3R} = \\frac{E}{R}\\,\\left(2-\\frac{1}{3}\\right)$$"
   ]
  },
  {
   "cell_type": "markdown",
   "id": "be5fc4ec",
   "metadata": {},
   "source": [
    "\\begin{equation}\\tag{Ex4.11}\n",
    "    i(0) = I_0  = \\frac{E}{R}\\,\\frac{5}{3}\n",
    "\\end{equation}    "
   ]
  },
  {
   "cell_type": "markdown",
   "id": "de8b100e",
   "metadata": {},
   "source": [
    "As for the **steady-state conditions** (the right-hand circuit):  Via KVL and Ohm's Law,  \n",
    "\n",
    "\\begin{equation}\\tag{Ex4.12}\n",
    "    \\text{a: }\\;Ri_\\mathrm{r}(\\infty) = u_C(\\infty) = U_{C\\infty}\\quad\\quad\\text{b: }\\;E = 2Ri_\\mathrm{r}(\\infty)\\quad\\quad \\text{c: }\\;Ri_\\mathrm{l}(\\infty) = E\n",
    "\\end{equation}    "
   ]
  },
  {
   "cell_type": "markdown",
   "id": "e04c5020",
   "metadata": {},
   "source": [
    "Via equations (Ex4.12),  \n",
    "\n",
    "\\begin{equation}\\tag{Ex4.13}\n",
    "    U_{C\\infty} = 0.5E\n",
    "\\end{equation}    "
   ]
  },
  {
   "cell_type": "markdown",
   "id": "d9f51db3",
   "metadata": {},
   "source": [
    "Via KCL,  \n",
    "\n",
    "\\begin{equation}\\tag{Ex4.14}\n",
    "    I_\\infty = i_\\mathrm{l}(\\infty) + i_\\mathrm{r}(\\infty)\n",
    "\\end{equation}    "
   ]
  },
  {
   "cell_type": "markdown",
   "id": "21727858",
   "metadata": {},
   "source": [
    "Via equations (Ex4.14), (Ex4.12b), and (Ex4.12c),  \n",
    "\n",
    "\\begin{equation}\\tag{Ex4.15}\n",
    "    I_\\infty = \\frac{E}{R} + 0.5\\frac{E}{R} = 1.5\\frac{E}{R}\n",
    "\\end{equation}    "
   ]
  },
  {
   "cell_type": "markdown",
   "id": "b9896a53",
   "metadata": {},
   "source": [
    "To find the **transient response**, first let's transform equations (Ex4.1) and (Ex4.3).  \n",
    "\n",
    "\\begin{equation}\\tag{Ex4.16}\n",
    "    \\text{a: }\\;\\frac{E}{s}=RI_\\mathrm{l}(s)\\quad\\quad\\text{b: }\\;\\frac{E}{s}=RI_\\mathrm{r}(s) + RI_{\\mathrm{r}1}(s)\\quad\\quad\\text{c: }\\;R_{\\mathrm{r}1}(s) = RI_C(s) + \\frac{I_C(s)}{sC}\n",
    "\\end{equation}    "
   ]
  },
  {
   "cell_type": "markdown",
   "id": "31451616",
   "metadata": {},
   "source": [
    "and,\n",
    "\\begin{equation}\\tag{Ex4.17}\n",
    "    \\text{a: }\\;I(s) = I_\\mathrm{l}(s) + I_\\mathrm{r}(s)\\quad\\quad\\text{b: }\\;I_\\mathrm{r}(s) = I_{\\mathrm{r}1}(s) + I_C(s)\n",
    "\\end{equation}    "
   ]
  },
  {
   "cell_type": "markdown",
   "id": "e4c8e114",
   "metadata": {},
   "source": [
    "Via equations (Ex4.16a) and (Ex4.17a),  \n",
    "\n",
    "\\begin{equation}\\tag{Ex4.18}\n",
    "    I(s) = \\frac{E}{sR} + I_\\mathrm{r}(s)\n",
    "\\end{equation}    "
   ]
  },
  {
   "cell_type": "markdown",
   "id": "d4156bfe",
   "metadata": {},
   "source": [
    "Via equations (Ex4.16b) and (Ex4.17b),  \n",
    "\n",
    "\\begin{equation}\\tag{Ex4.19}\n",
    "    \\frac{E}{s}  = 2RI_{\\mathrm{r}1}(s) + RI_C(s)\n",
    "\\end{equation}    "
   ]
  },
  {
   "cell_type": "markdown",
   "id": "99a367ce",
   "metadata": {},
   "source": [
    "Via equations (Ex4.19) and (Ex4.16c) and equivalence principle,  \n",
    "\n",
    "$$ 0.5\\left(\\frac{E}{s} - RI_C(s)\\right) = RI_C(s) + \\frac{I_C(s)}{sC}$$"
   ]
  },
  {
   "cell_type": "markdown",
   "id": "247a8088",
   "metadata": {},
   "source": [
    "$$ \\frac{E}{2s} = 1.5RI_C(s) + \\frac{I_C(s)}{sC}$$"
   ]
  },
  {
   "cell_type": "markdown",
   "id": "2f202341",
   "metadata": {},
   "source": [
    "$$ \\frac{E}{2} = I_C(s)\\,\\frac{1.5sCR + 1}{C}$$"
   ]
  },
  {
   "cell_type": "markdown",
   "id": "b41f5cc9",
   "metadata": {},
   "source": [
    "\\begin{equation}\\tag{Ex4.20}\n",
    "    I_C(s) = E\\,\\frac{C}{3sCR + 2}\n",
    "\\end{equation}    "
   ]
  },
  {
   "cell_type": "code",
   "execution_count": 1,
   "id": "e527e7f3",
   "metadata": {},
   "outputs": [],
   "source": [
    "import numpy as np\n",
    "import sympy as sp"
   ]
  },
  {
   "cell_type": "code",
   "execution_count": 2,
   "id": "453536e5",
   "metadata": {},
   "outputs": [],
   "source": [
    "# Declare circuit symbols\n",
    "I_l, I_r, I_r1, I_C, I = sp.symbols('I_l, I_r, I_r1, I_C, I')\n",
    "s, E, R, C = sp.symbols('s, E, R, C ')"
   ]
  },
  {
   "cell_type": "code",
   "execution_count": 3,
   "id": "4363d6be",
   "metadata": {},
   "outputs": [
    {
     "data": {
      "text/latex": [
       "$\\displaystyle \\left\\{\\left( \\frac{C E}{3 C R s + 2}, \\  \\frac{5 C E R s + 3 E}{3 C R^{2} s^{2} + 2 R s}, \\  \\frac{2 C E R s + E}{3 C R^{2} s^{2} + 2 R s}, \\  \\frac{E}{R s}, \\  \\frac{C E R s + E}{3 C R^{2} s^{2} + 2 R s}\\right)\\right\\}$"
      ],
      "text/plain": [
       "{(C*E/(3*C*R*s + 2), (5*C*E*R*s + 3*E)/(3*C*R**2*s**2 + 2*R*s), (2*C*E*R*s + E)/(3*C*R**2*s**2 + 2*R*s), E/(R*s), (C*E*R*s + E)/(3*C*R**2*s**2 + 2*R*s))}"
      ]
     },
     "execution_count": 3,
     "metadata": {},
     "output_type": "execute_result"
    }
   ],
   "source": [
    "# Populate list of equations.\n",
    "eq = [E/s - R*I_l, \\\n",
    "     E/s - R*I_r - R*I_r1, \\\n",
    "     R*I_r1 - R*I_C - I_C/(s*C), \\\n",
    "     I - I_l - I_r, \\\n",
    "     I_r - I_r1 - I_C]\n",
    "\n",
    "# Solve system of equations contained in 'eq'.\n",
    "sp.linsolve(eq, I_C, I, I_r, I_l, I_r1)"
   ]
  },
  {
   "cell_type": "markdown",
   "id": "205585f7",
   "metadata": {},
   "source": [
    "The time constant is $T=1.5CR$.  Thus, equation (Ex4.20) can be rewritten as:  \n",
    "\n",
    "$$I_C(s) = 0.5\\frac{EC}{sT + 1}$$"
   ]
  },
  {
   "cell_type": "markdown",
   "id": "6bd64d93",
   "metadata": {},
   "source": [
    "$$ \\gamma T = \\frac{EC}{2}$$"
   ]
  },
  {
   "cell_type": "markdown",
   "id": "bd377940",
   "metadata": {},
   "source": [
    "$$ \\gamma = \\frac{EC}{2T} = \\frac{E}{3R}$$"
   ]
  },
  {
   "cell_type": "markdown",
   "id": "95a36bc8",
   "metadata": {},
   "source": [
    "\\begin{equation}\\tag{Ex4.20}\n",
    "    I_C(s) = \\frac{E}{3R}\\,\\frac{T}{sT+1}\n",
    "\\end{equation}    "
   ]
  },
  {
   "cell_type": "markdown",
   "id": "0c58bc4c",
   "metadata": {},
   "source": [
    "Thus,\n",
    "\\begin{equation}\\tag{Ex4.21}\n",
    "    i_C(t) = i_C = \\frac{E}{3R}\\,e^{-t/T}\n",
    "\\end{equation}    "
   ]
  },
  {
   "cell_type": "markdown",
   "id": "a57d97aa",
   "metadata": {},
   "source": [
    "Whereas,"
   ]
  },
  {
   "cell_type": "markdown",
   "id": "cfb0da57",
   "metadata": {},
   "source": [
    "$$ I(s) = \\frac{5CE}{3sCR + 2} + \\frac{3E}{sR(3CRs + 2)}$$"
   ]
  },
  {
   "cell_type": "markdown",
   "id": "cacdabd2",
   "metadata": {},
   "source": [
    "$$ \\frac{5CE}{3sCR + 2} = 0.5\\frac{5CE}{1.5sCR + 1} = 0.5\\frac{5CE}{sT+1} = \\frac{5E}{3R}\\,\\frac{T}{sT+1}$$"
   ]
  },
  {
   "cell_type": "markdown",
   "id": "553656f3",
   "metadata": {},
   "source": [
    "\\begin{equation}\\tag{Ex4.22a}\n",
    "    \\frac{5E}{3R}\\,\\mathfrak{L}^{-1}\\left\\{\\frac{T}{sT+1}\\right\\} = \\frac{5E}{3R}\\,e^{-t/T}\n",
    "\\end{equation}    "
   ]
  },
  {
   "cell_type": "markdown",
   "id": "6bd1f6aa",
   "metadata": {},
   "source": [
    "$$ \\frac{3E}{sR(3CRs + 2)} = \\frac{3E}{2sR(sT + 1)}$$"
   ]
  },
  {
   "cell_type": "markdown",
   "id": "d3cc464e",
   "metadata": {},
   "source": [
    "\\begin{equation}\\tag{Ex4.22b}\n",
    "    \\frac{3E}{2R}\\,\\mathfrak{L}^{-1}\\left\\{\\frac{1}{s(sT+1)}\\right\\} = \\frac{3E}{2R}\\,\\big(1-e^{-t/T}\\big)\n",
    "\\end{equation}    "
   ]
  },
  {
   "cell_type": "markdown",
   "id": "95a91936",
   "metadata": {},
   "source": [
    "Therefore,  \n",
    "\n",
    "\\begin{equation}\\tag{Ex4.22}\n",
    "    i = i(t) = \\frac{E}{R}\\,\\left(\\frac{5}{3}\\,e^{-t/T} + \\frac{3}{2}\\,\\big(1-e^{-t/T}\\big)\\right)\n",
    "\\end{equation}    "
   ]
  },
  {
   "cell_type": "markdown",
   "id": "a435f911",
   "metadata": {},
   "source": [
    "### 2nd Order Circuit – Time-Domain Method\n",
    "The 2nd order circuit contains two energy storage elements, after an optional series-parallel\n",
    "simplification of homogeneous two-terminal circuit(s). Such circuit, in time-domain is\n",
    "described by the 2nd order differential equations."
   ]
  },
  {
   "cell_type": "markdown",
   "id": "dc1c7126",
   "metadata": {},
   "source": [
    "#### Example 3.2.5\n",
    "Series $RLC$ circuit is presented in Fig. 3.2.16a. Find the capacitor voltage and current after\n",
    "closing the switch at $t=0$.  \n",
    "\n",
    "![Fig-3.2.16a](Figures/Fig-3.2.16a.png)"
   ]
  },
  {
   "cell_type": "markdown",
   "id": "8631c98e",
   "metadata": {},
   "source": [
    "The KVL equation in the time-domain is:  \n",
    "\n",
    "\\begin{equation}\\tag{Ex5.1}\n",
    "    E = Li' + Ri + \\frac{1}{C}\\,\\int i\\,\\mathrm{d}t\n",
    "\\end{equation}    "
   ]
  },
  {
   "cell_type": "markdown",
   "id": "506b64d2",
   "metadata": {},
   "source": [
    "Which is an integro-differential equation.  At time $t=0$ we have the following IVPs:  \n",
    "\n",
    "\\begin{equation}\\tag{Ex5.IVP}\n",
    "    \\text{a: }\\;i(0)=I_0 = 0\\quad\\quad\\text{and}\\quad\\quad\\text{b: }\\;u_C(0) = U_{C0} = 0\n",
    "\\end{equation}    "
   ]
  },
  {
   "cell_type": "markdown",
   "id": "bb84c9f2",
   "metadata": {},
   "source": [
    "At steady-state, we have the following IBPs or boundary conditions:  \n",
    "\n",
    "\\begin{equation}\\tag{Ex5.IBP}\n",
    "    \\text{a: }\\;I_\\infty = 0\\quad\\quad\\text{and}\\quad\\quad\\text{b: }\\;U_{C\\infty} = E\n",
    "\\end{equation}    "
   ]
  },
  {
   "cell_type": "markdown",
   "id": "8bbd4f72",
   "metadata": {},
   "source": [
    "The voltage dropped across the capacitor is:  \n",
    "\n",
    "\\begin{equation}\\tag{Ex5.5}\n",
    "    u_C = u_C(t) = \\frac{1}{C}\\,\\int_0^t i\\,\\mathrm{d}t + U_{C0} \\quad \\text{where }\\;U_{C0} = u_C(0) = \\frac{q(0)}{C}\n",
    "\\end{equation}    "
   ]
  },
  {
   "cell_type": "markdown",
   "id": "287f8637",
   "metadata": {},
   "source": [
    "And, via the IVP (Ex5.IVPb),  \n",
    "\n",
    "\\begin{equation}\\tag{Ex5.5}\n",
    "    u_C = u_C(t) = \\frac{1}{C}\\,\\int_0^t i\\,\\mathrm{d}t\n",
    "\\end{equation}    "
   ]
  },
  {
   "cell_type": "markdown",
   "id": "d394993a",
   "metadata": {},
   "source": [
    "Differentiating through equation (Ex5.1) gives:  \n",
    "\n",
    "\\begin{equation}\\tag{Ex5.2}\n",
    "    Li'' + Ri' + \\frac{1}{C}\\,i = 0\n",
    "\\end{equation}    "
   ]
  },
  {
   "cell_type": "markdown",
   "id": "1bbd8be6",
   "metadata": {},
   "source": [
    "The general solution to equation (Ex5.2), a second order homogenous DE, may fit one of three forms.  Which form depends on the nature of the roots, denoted as '$m_1$' and '$m_2$', of the AE: \n",
    "\n",
    "\\begin{equation}\\tag{Ex5.2a}\n",
    "    Lm^2 + Rm + \\frac{1}{C} = 0\n",
    "\\end{equation}    "
   ]
  },
  {
   "cell_type": "markdown",
   "id": "74024c4b",
   "metadata": {},
   "source": [
    "The solution to the equation (Ex5.2a) is given by the quadratic formula.  \n",
    "\n",
    "$$ m = \\frac{-R\\pm\\sqrt{R^2-4LC^{-1}}}{2L}$$"
   ]
  },
  {
   "cell_type": "markdown",
   "id": "8cc0ee9c",
   "metadata": {},
   "source": [
    "or\n",
    "\\begin{equation}\\tag{Ex5.2b}\n",
    "    m_1 = \\frac{-R+\\sqrt{R^2-4LC^{-1}}}{2L} \\quad \\quad \\text{and}\\quad\\quad m_2=\\frac{-R-\\sqrt{R^2-4LC^{-1}}}{2L} \n",
    "\\end{equation}    "
   ]
  },
  {
   "cell_type": "markdown",
   "id": "028391b5",
   "metadata": {},
   "source": [
    "#### Real and Distinct Roots\n",
    "\n",
    "Assuming $R^2-4LC^{-1} > 0$, or, the argument passed to the square root function is positive, the general solution is of the form:  \n",
    "\n",
    "\\begin{equation}\\tag{Ex5.3.1}\n",
    "    i=i(t) = Ae^{m_1t} + Be^{m_2t}\n",
    "\\end{equation}    "
   ]
  },
  {
   "cell_type": "markdown",
   "id": "4c65f245",
   "metadata": {},
   "source": [
    "where $A,B\\in\\mathbb{R}$ are arbitrary constants to be solved for using one of the given IVPs or IBPs.  This type of general solution is, atleast in the context of circuit theory, known as **overdamped response**."
   ]
  },
  {
   "cell_type": "markdown",
   "id": "3470be58",
   "metadata": {},
   "source": [
    "Via equations (Ex5.3.1) and (Ex5.IVP),  \n",
    "\n",
    "$$ Ae^0 + Be^0 = A + B = 0$$"
   ]
  },
  {
   "cell_type": "markdown",
   "id": "bc3a1f1b",
   "metadata": {},
   "source": [
    "\\begin{equation}\\tag{Ex5.4.1}\n",
    "    A = -B\n",
    "\\end{equation}    "
   ]
  },
  {
   "cell_type": "markdown",
   "id": "ecfc1cd5",
   "metadata": {},
   "source": [
    "Thus,\n",
    "\\begin{equation}\\tag{Ex5.3.1}\n",
    "    i = i(t) = A\\big(e^{m_1t} - e^{m_2t}\\big) = B\\big(e^{m_2t} - e^{m_1t}\\big)\n",
    "\\end{equation}    "
   ]
  },
  {
   "cell_type": "markdown",
   "id": "673340a3",
   "metadata": {},
   "source": [
    "\\begin{equation}\\tag{Ex5.5.1a}\n",
    "    \\int i\\,\\mathrm{d}t = A\\,\\left(\\frac{e^{m_1t}}{m_1} - \\frac{e^{m_2t}}{m_2}\\right) + a= A\\,\\frac{m_2e^{m_1t} - m_1e^{m_2t}}{m_1m_2} + a\n",
    "\\end{equation}    "
   ]
  },
  {
   "cell_type": "markdown",
   "id": "48aa407c",
   "metadata": {},
   "source": [
    "Via equations (Ex5.5.1a), (Ex5.5), and (Ex5.IBPb),  \n",
    "\n",
    "$$ U_{C\\infty} = \\frac{1}{C}\\,\\int_0^\\infty i\\,\\mathrm{d}t = -A\\, \\frac{m_2-m_1}{m_2m_1C} = E$$"
   ]
  },
  {
   "cell_type": "markdown",
   "id": "8a9902dd",
   "metadata": {},
   "source": [
    "This leaves us with a **specific soluton** of:  \n",
    "\n",
    "\\begin{equation}\\tag{Ex5.6.1}\n",
    "    i = i(t) = EC\\,\\frac{m_1m_2}{m_1-m_2}\\,\\big(e^{m_1t} - e^{m_2t}\\big)\n",
    "\\end{equation}    "
   ]
  },
  {
   "cell_type": "markdown",
   "id": "27dd32fb",
   "metadata": {},
   "source": [
    "There are two time constants, $T_1$ and $T_2$.  They are given by:  \n",
    "\n",
    "\\begin{equation}\\tag{Ex5.7.1}\n",
    "    \\text{a: }\\;m_1 = -\\frac{1}{T_1} \\quad\\quad\\text{and}\\quad\\quad\\text{b: }\\;m_2 = -\\frac{1}{T_2}\n",
    "\\end{equation}    "
   ]
  },
  {
   "cell_type": "markdown",
   "id": "7e9f7401",
   "metadata": {},
   "source": [
    "Let $i_1$ and $i_2$ be defined as:  \n",
    "\n",
    "$$ i_1 := i_1(t) := EC\\,\\frac{m_1m_2}{m_1-m_2}\\,e^{m_1t} \\quad\\quad \\text{and} \\quad \\quad i_2:=i_2(t):=-EC\\,\\frac{m_1m_2}{m_1-m_2}\\,e^{m_2t} $$"
   ]
  },
  {
   "cell_type": "markdown",
   "id": "5fe0b8db",
   "metadata": {},
   "source": [
    "The two terms of the specific solution to the integro-differential equation (Ex5.1) are identified as $i_1$ and $i_2$.  Moreover, the time constants $T_1$ and $T_2$ satisfy the following equations:  \n",
    "\n",
    "$$ i_1'(0)T_1 + i_1(0) = 0 \\quad \\quad \\text{and} \\quad\\quad i_2'(0)T_2 + i_2(0) = 0$$"
   ]
  },
  {
   "cell_type": "markdown",
   "id": "ec77ac3e",
   "metadata": {},
   "source": [
    "$$ i_1'(0) = m_1i_1(0) \\quad \\quad \\text{and}\\quad\\quad i_2'(0)=m_2i_2(0) = -m_2i_1(0)$$"
   ]
  },
  {
   "cell_type": "markdown",
   "id": "1ee4e4a5",
   "metadata": {},
   "source": [
    "The denominator of the idenity of $i$ in equation (Ex5.6.1), in terms of the time constants, is:  \n",
    "\n",
    "$$ m_1-m_2 = \\frac{1}{T_2} - \\frac{1}{T_1} = \\frac{T_1-T_2}{T_1T_2}$$"
   ]
  },
  {
   "cell_type": "markdown",
   "id": "a203813d",
   "metadata": {},
   "source": [
    "And, the numerator,  \n",
    "\n",
    "$$ m_1m_2 = \\frac{1}{T_1T_2}$$"
   ]
  },
  {
   "cell_type": "markdown",
   "id": "71e8ff59",
   "metadata": {},
   "source": [
    "Thus, equation (Ex5.6.1) can be rewritten in terms of the time constants.  \n",
    "\n",
    "\\begin{equation}\\tag{Ex5.6.1}\n",
    "    i = i(t) = \\frac{EC}{T_1-T_2}\\,\\big(e^{-t/T_1} - e^{-t/T_2}\\big)\n",
    "\\end{equation}"
   ]
  },
  {
   "cell_type": "code",
   "execution_count": 4,
   "id": "d8984501",
   "metadata": {
    "code_folding": [
     0
    ]
   },
   "outputs": [
    {
     "data": {
      "text/latex": [
       "$\\displaystyle \\frac{C E \\left(- R - \\sqrt{R^{2} - \\frac{4 L}{C}}\\right) \\left(- R + \\sqrt{R^{2} - \\frac{4 L}{C}}\\right)}{4 L^{2} \\left(- \\frac{- R - \\sqrt{R^{2} - \\frac{4 L}{C}}}{2 L} + \\frac{- R + \\sqrt{R^{2} - \\frac{4 L}{C}}}{2 L}\\right)}$"
      ],
      "text/plain": [
       "C*E*(-R - sqrt(R**2 - 4*L/C))*(-R + sqrt(R**2 - 4*L/C))/(4*L**2*(-(-R - sqrt(R**2 - 4*L/C))/(2*L) + (-R + sqrt(R**2 - 4*L/C))/(2*L)))"
      ]
     },
     "execution_count": 4,
     "metadata": {},
     "output_type": "execute_result"
    }
   ],
   "source": [
    "# Declare the circuit symbol 'L', which denotes the inductance of the coil.\n",
    "L = sp.symbols('L')\n",
    "\n",
    "# Identify the roots of the AE, denoted as 'm_1' and 'm_2'.\n",
    "m_1 = (-R+sp.sqrt(R**2 - 4*L/C))/(2*L)\n",
    "m_2 = (-R-sp.sqrt(R**2 - 4*L/C))/(2*L)\n",
    "\n",
    "i_1_0 = E*C*m_1*m_2/(m_1-m_2)\n",
    "i_1_0"
   ]
  },
  {
   "cell_type": "markdown",
   "id": "b21d438c",
   "metadata": {},
   "source": [
    "The denominator of the above output cell simplifies to:  \n",
    "\n",
    "$$ 4L\\,\\sqrt{R^2-4LC^{-1}}$$"
   ]
  },
  {
   "cell_type": "markdown",
   "id": "ab71ae43",
   "metadata": {},
   "source": [
    "And,the numerator of the above output cell simplies to:  \n",
    "\n",
    "$$ CE\\big(R^2 - R^2 + 4LC^{-1}\\big) = 4EL$$"
   ]
  },
  {
   "cell_type": "markdown",
   "id": "e8dab8b4",
   "metadata": {},
   "source": [
    "Thus,\n",
    "$$ i_1(0) = -i_2(0) = \\frac{E}{\\sqrt{R^2-4LC^{-1}}}$$"
   ]
  },
  {
   "cell_type": "markdown",
   "id": "a957f818",
   "metadata": {},
   "source": [
    "And, in terms of the time constants,  \n",
    "\n",
    "$$ i_1(0) = -i_2(0) = \\frac{EC}{T_1-T_2}$$"
   ]
  },
  {
   "cell_type": "markdown",
   "id": "237c8aad",
   "metadata": {},
   "source": [
    "The voltage dropped across the "
   ]
  },
  {
   "cell_type": "markdown",
   "id": "ad48d376",
   "metadata": {},
   "source": [
    "#### Real and Equal Roots\n",
    "\n",
    "Assuming $R^2-4LC^{-1}=0$, the general solution is of the form:  \n",
    "\n",
    "\\begin{equation}\\tag{Ex5.3.2}\n",
    "    i = i(t) = e^{mt}(A+Bt)\n",
    "\\end{equation}    "
   ]
  },
  {
   "cell_type": "markdown",
   "id": "9633fdfd",
   "metadata": {},
   "source": [
    "where $A,B\\in\\mathbb{R}$ are arbitrary constants to be solved for using one of the given IVPs or IBPs.  This type of general solution is, atleast in the context of circuit theory, known as **critically-damped response**."
   ]
  },
  {
   "cell_type": "markdown",
   "id": "a2ec6680",
   "metadata": {},
   "source": [
    "\\begin{equation}\\tag{Ex5.3.2a}\n",
    "    i(0) = A= 0\n",
    "\\end{equation}    "
   ]
  },
  {
   "cell_type": "markdown",
   "id": "0556d9bd",
   "metadata": {},
   "source": [
    "Thus,  \n",
    "\n",
    "\\begin{equation}\\tag{Ex5.3.2}\n",
    "    i = i(t) = Bte^{mt}\n",
    "\\end{equation}    "
   ]
  },
  {
   "cell_type": "markdown",
   "id": "2d285c0e",
   "metadata": {},
   "source": [
    "$$ \\int i \\,\\mathrm{d}t = (aBt + b)e^{mt} + c$$"
   ]
  },
  {
   "cell_type": "markdown",
   "id": "74cf9c0d",
   "metadata": {},
   "source": [
    "$$ aBe^{mt} + m(aBt+b)e^{mt} = Bte^{mt}$$"
   ]
  },
  {
   "cell_type": "markdown",
   "id": "025f4619",
   "metadata": {},
   "source": [
    "$$ aB + m(aBt + b) = Bt$$"
   ]
  },
  {
   "cell_type": "markdown",
   "id": "8968a49e",
   "metadata": {},
   "source": [
    "$$ aB + mb = 0$$"
   ]
  },
  {
   "cell_type": "markdown",
   "id": "e6f5e33b",
   "metadata": {},
   "source": [
    "$$ maBt = Bt$$"
   ]
  },
  {
   "cell_type": "markdown",
   "id": "6bf0f938",
   "metadata": {},
   "source": [
    "$$ ma = 1$$"
   ]
  },
  {
   "cell_type": "markdown",
   "id": "89e04a37",
   "metadata": {},
   "source": [
    "$$ a = \\frac{1}{m}$$"
   ]
  },
  {
   "cell_type": "markdown",
   "id": "fa627df4",
   "metadata": {},
   "source": [
    "$$ \\frac{B}{m} + mb = 0$$"
   ]
  },
  {
   "cell_type": "markdown",
   "id": "fef65f02",
   "metadata": {},
   "source": [
    "$$ b = -\\frac{B}{m^2}$$"
   ]
  },
  {
   "cell_type": "markdown",
   "id": "72a32ca5",
   "metadata": {},
   "source": [
    "$$ \\int i\\,\\mathrm{d}t = \\left(\\frac{Bt}{m} - \\frac{B}{m^2}\\right)e^{mt} + c$$"
   ]
  },
  {
   "cell_type": "markdown",
   "id": "1b58aa96",
   "metadata": {},
   "source": [
    "$$  = \\frac{mt-1}{m^2}\\,Be^{mt} + c$$"
   ]
  },
  {
   "cell_type": "markdown",
   "id": "eee6dbe8",
   "metadata": {},
   "source": [
    "$$ U_{C\\infty} = \\frac{1}{Cm^2}\\,B = E$$"
   ]
  },
  {
   "cell_type": "markdown",
   "id": "81e1493b",
   "metadata": {},
   "source": [
    "\\begin{equation}\\tag{Ex5.3.2b}\n",
    "    B = Cm^2E\n",
    "\\end{equation}    "
   ]
  },
  {
   "cell_type": "markdown",
   "id": "32e81b3e",
   "metadata": {},
   "source": [
    "Since $m=-\\alpha$, the **specific solution** to equation (Ex5.1) is:  \n",
    "\n",
    "\\begin{equation}\\tag{5.6.2}\n",
    "    i = i(t) = C\\alpha^2E t e^{-\\alpha t} = \\frac{E}{L}\\,te^{-\\alpha t}\n",
    "\\end{equation}    "
   ]
  },
  {
   "cell_type": "markdown",
   "id": "e1a9b275",
   "metadata": {},
   "source": [
    "$$ \\alpha^2 = \\frac{R^2}{4L^2} $$"
   ]
  },
  {
   "cell_type": "markdown",
   "id": "f5e4b3b0",
   "metadata": {},
   "source": [
    "$$ R^2 = 4L\\frac{1}{C}$$"
   ]
  },
  {
   "cell_type": "markdown",
   "id": "def4d99c",
   "metadata": {},
   "source": [
    "$$ C\\alpha^2E t e^{-\\alpha t} = \\frac{CE}{LC}\\,t e^{-\\alpha t} = \\frac{E}{L}\\,te^{-\\alpha t}$$"
   ]
  },
  {
   "cell_type": "markdown",
   "id": "9cf5eb94",
   "metadata": {},
   "source": [
    "The **instantaneous voltage** dropped across the **capacitor** is:  \n",
    "\n",
    "$$ u_C = u_C(t) = \\frac{1}{C}\\,\\int_0^t i\\,\\mathrm{d}t$$"
   ]
  },
  {
   "cell_type": "markdown",
   "id": "b0a3316a",
   "metadata": {},
   "source": [
    "$$ \\int i \\,\\mathrm{d}t = \\frac{E}{L}\\,\\int te^{-\\alpha t}\\,\\mathrm{d}t = \\frac{E}{L}\\,(at + b)e^{-\\alpha t}$$"
   ]
  },
  {
   "cell_type": "markdown",
   "id": "f14ff46b",
   "metadata": {},
   "source": [
    "Such that:  \n",
    "\n",
    "$$ ae^{-\\alpha t} - \\alpha(at + b)e^{-\\alpha t} = te^{-\\alpha t}$$"
   ]
  },
  {
   "cell_type": "markdown",
   "id": "de949fd2",
   "metadata": {},
   "source": [
    "$$ a - \\alpha(at + b) = t$$"
   ]
  },
  {
   "cell_type": "markdown",
   "id": "fa774b68",
   "metadata": {},
   "source": [
    "$$ -\\alpha a t = t$$"
   ]
  },
  {
   "cell_type": "markdown",
   "id": "8e71ed76",
   "metadata": {},
   "source": [
    "$$ a = -\\frac{1}{\\alpha}$$"
   ]
  },
  {
   "cell_type": "markdown",
   "id": "b6b9c4cb",
   "metadata": {},
   "source": [
    "$$ a -\\alpha b = 0$$"
   ]
  },
  {
   "cell_type": "markdown",
   "id": "179cbf7e",
   "metadata": {},
   "source": [
    "$$ a = -\\frac{1}{\\alpha} = \\alpha b$$"
   ]
  },
  {
   "cell_type": "markdown",
   "id": "7e465537",
   "metadata": {},
   "source": [
    "$$ b = -\\frac{1}{\\alpha^2}$$"
   ]
  },
  {
   "cell_type": "markdown",
   "id": "d3fe1796",
   "metadata": {},
   "source": [
    "Thus,\n",
    "$$ \\int i\\,\\mathrm{d}t = -\\frac{E}{L}\\,\\left(\\frac{1}{\\alpha}\\,t + \\frac{1}{\\alpha^2}\\right)\\,e^{-\\alpha t}$$"
   ]
  },
  {
   "cell_type": "markdown",
   "id": "cd828c19",
   "metadata": {},
   "source": [
    "and,\n",
    "$$ u_C=u_C(t) = -\\frac{E}{CL}\\,\\left(\\frac{1}{\\alpha}\\,t + \\frac{1}{\\alpha^2}\\right)\\,e^{-\\alpha t} + \\frac{E}{\\alpha^2CL}$$"
   ]
  },
  {
   "cell_type": "markdown",
   "id": "24bf1483",
   "metadata": {},
   "source": [
    "$$ \\frac{E}{\\alpha^2CL} = \\frac{4EL}{R^2C} = \\frac{4EL}{4L} = E \\quad \\quad \\text{and} \\quad \\quad \\alpha^2CL = 1$$"
   ]
  },
  {
   "cell_type": "markdown",
   "id": "e883a3dc",
   "metadata": {},
   "source": [
    "Finally,  \n",
    "\\begin{equation}\\tag{Ex5.7.2}\n",
    "    u_C = u_C(t) = E-E(\\alpha t + 1)e^{-\\alpha t}\n",
    "\\end{equation}    "
   ]
  },
  {
   "cell_type": "markdown",
   "id": "717ceddb",
   "metadata": {},
   "source": [
    "and,\n",
    "\\begin{equation}\\tag{Ex5.7.2a}\n",
    "    U_{C\\infty} = u_C(\\infty) = E\n",
    "\\end{equation}    "
   ]
  },
  {
   "cell_type": "markdown",
   "id": "cfc8f3fd",
   "metadata": {},
   "source": [
    "#### Complex Roots\n",
    "\n",
    "Assuming $R^2-4LC^{-1}<0$, the general solution is of the form:  \n",
    "\n",
    "\\begin{equation}\\tag{Ex5.3.3}\n",
    "    i=i(t) =e^{-\\alpha t}(A\\,\\cos\\omega t + B\\,\\sin\\omega t)\n",
    "\\end{equation}    "
   ]
  },
  {
   "cell_type": "markdown",
   "id": "bb5cc187",
   "metadata": {},
   "source": [
    "where,\n",
    "\\begin{equation}\\tag{Ex5.3.3a}\n",
    "    m_1 = -\\alpha + j\\omega  \\quad\\quad\\text{and}\\quad\\quad m_2=-\\alpha - j\\omega\n",
    "\\end{equation}    "
   ]
  },
  {
   "cell_type": "markdown",
   "id": "5dc20376",
   "metadata": {},
   "source": [
    "\\begin{equation}\\tag{Ex5.3.3b}\n",
    "    \\alpha = \\frac{R}{2L} \\quad \\quad \\text{and} \\quad \\quad \\omega = \\frac{\\sqrt{4LC^{-1}-R^2}}{2L} = \\frac{2\\pi}{T}\n",
    "\\end{equation}    "
   ]
  },
  {
   "cell_type": "markdown",
   "id": "3c5c9a11",
   "metadata": {},
   "source": [
    "Note that $\\alpha$ is the so called **damping coefficient**, $\\omega$ is the **damped resonant frequency** and $A,B\\in\\mathbb{R}$ are arbitrary constants to be solved for using one of the given IVPs or IBPs.  Note that, here, $j=\\sqrt{-1}$."
   ]
  },
  {
   "cell_type": "markdown",
   "id": "6f391746",
   "metadata": {},
   "source": [
    "Also, the identity of $i$ in equation (Ex5.3.3) can be simplified to a one term expression via vector or complex number arithmetic.  Let $\\mathbf{A}$ and $\\mathbf{B}$ be defined as:  \n",
    "\n",
    "\n",
    "$$\\mathbf{B} := B\\angle 0^\\circ = B\\big(\\cos0 + j\\cdot \\sin0\\big) = B \\quad \\quad \\text{and}\\quad\\quad\\mathbf{A}  := A\\angle 90^\\circ = A\\big(\\cos0.5\\pi+ j\\cdot \\sin0.5\\pi\\big) = j\\cdot A $$"
   ]
  },
  {
   "cell_type": "markdown",
   "id": "76a697c0",
   "metadata": {},
   "source": [
    "Now let $\\mathbf{C}$ be defined as:  \n",
    "\n",
    "$$ \\mathbf{C} = \\mathbf{A} + \\mathbf{B} = B + j\\cdot A = |\\mathbf{C}|\\angle\\theta_C$$"
   ]
  },
  {
   "cell_type": "markdown",
   "id": "dbe44cc2",
   "metadata": {},
   "source": [
    "$$ |\\mathbf{C}| = \\sqrt{A^2+B^2} \\quad\\quad\\text{and}\\quad\\quad \\theta_C = \\arccos \\frac{B}{|\\mathbf{C}|}$$"
   ]
  },
  {
   "cell_type": "markdown",
   "id": "4a500781",
   "metadata": {},
   "source": [
    "$$ C_y(t) = A_y(t) + B_y(t) = B\\,\\sin\\omega t + A\\,\\sin(\\omega t + 0.5\\pi) = B\\,\\sin\\omega t + A\\,\\cos\\omega t$$"
   ]
  },
  {
   "cell_type": "markdown",
   "id": "f410f7c8",
   "metadata": {},
   "source": [
    "$$ \\mathbf{C} = |\\mathbf{C}|(\\cos\\theta_C + j\\cdot \\sin \\theta_C) \\quad\\quad\\text{and}\\quad\\quad C_y(t) = |\\mathbf{C}|\\,\\sin(\\omega t + \\theta_C) $$"
   ]
  },
  {
   "cell_type": "markdown",
   "id": "dee0b301",
   "metadata": {},
   "source": [
    "Via the above two equations that identify $C_y(t)$ and equivalence principle,    \n",
    "\n",
    "$$ B\\,\\sin\\omega t + A\\,\\cos\\omega t = |\\mathbf{C}|\\,\\sin(\\omega t + \\theta_C)$$"
   ]
  },
  {
   "cell_type": "markdown",
   "id": "b510c148",
   "metadata": {},
   "source": [
    "Via the above equation, equation (Ex5.3.3) and substitution,  \n",
    "\n",
    "$$ i = i(t) = e^{-\\alpha t}|\\mathbf{C}|\\,\\sin(\\omega t + \\theta_C)$$"
   ]
  },
  {
   "cell_type": "markdown",
   "id": "c3815392",
   "metadata": {},
   "source": [
    "This type of general solution is known as an **undamped response** when $\\alpha=0$ and an **underdamped response** otherwise."
   ]
  },
  {
   "cell_type": "markdown",
   "id": "930b687a",
   "metadata": {},
   "source": [
    "$$ I_0 = i(0) = A\\,\\cos\\omega t + B\\,\\sin\\omega t = 0$$"
   ]
  },
  {
   "cell_type": "markdown",
   "id": "05e8a6a2",
   "metadata": {},
   "source": [
    "\\begin{equation}\\tag{Ex5.4.3}\n",
    "    A = B\\,\\tan\\omega t\n",
    "\\end{equation}    "
   ]
  },
  {
   "cell_type": "markdown",
   "id": "41a542c9",
   "metadata": {},
   "source": [
    "Via equations (Ex5.4.3) and (Ex5.3.3),  \n",
    "\n",
    "\\begin{equation}\\tag{5.3.3}\n",
    "    i = i(t) = 2Be^{-\\alpha t}\\sin\\omega t\n",
    "\\end{equation}    "
   ]
  },
  {
   "cell_type": "markdown",
   "id": "85a3cfac",
   "metadata": {},
   "source": [
    "$$ U_{C\\infty} = \\frac{1}{C}\\,\\int_0^\\infty i \\,\\mathrm{d}t = \\frac{2B}{C}\\,\\int_0^\\infty e^{-\\alpha t}\\sin\\omega t \\,\\mathrm{d}t = E$$"
   ]
  },
  {
   "cell_type": "markdown",
   "id": "47b3b259",
   "metadata": {},
   "source": [
    "\\begin{equation}\\tag{Ex5.5.3}\n",
    "    \\int_0^\\infty e^{-\\alpha t}\\sin\\omega t \\,\\mathrm{d}t = \\frac{CE}{2B}\n",
    "\\end{equation}    "
   ]
  },
  {
   "cell_type": "markdown",
   "id": "4e7eb5af",
   "metadata": {},
   "source": [
    "$$ \\int e^{-\\alpha t}\\sin\\omega t \\,\\mathrm{d}t = e^{-\\alpha t}(a\\,\\sin\\omega t + b\\,\\cos\\omega t) + c$$"
   ]
  },
  {
   "cell_type": "markdown",
   "id": "dd9bfe4a",
   "metadata": {},
   "source": [
    "$$\\omega e^{-\\alpha t}(a\\,\\cos\\omega t - b\\,\\sin\\omega t) -\\alpha e^{-\\alpha t}(a\\,\\sin\\omega t + b\\,\\cos\\omega t) = e^{-\\alpha t}\\sin\\omega t$$"
   ]
  },
  {
   "cell_type": "markdown",
   "id": "7052e7ac",
   "metadata": {},
   "source": [
    "$$ \\omega(a\\,\\cos\\omega t - b\\,\\sin\\omega t) - \\alpha(a\\,\\sin\\omega t + b\\,\\cos\\omega t) = \\sin\\omega t$$"
   ]
  },
  {
   "cell_type": "markdown",
   "id": "e36b2026",
   "metadata": {},
   "source": [
    "In order for the above equation to hold true, we need to find $a$ and $b$ such that:  \n",
    "\n",
    "$$ -\\omega b \\,\\sin\\omega t - \\alpha a\\,\\sin\\omega t = \\sin \\omega t \\quad \\quad \\text{and} \\quad \\quad \\omega a\\,\\cos\\omega t -\\alpha b \\,\\cos \\omega t = 0 $$"
   ]
  },
  {
   "cell_type": "markdown",
   "id": "003cb563",
   "metadata": {},
   "source": [
    "$$ -\\omega b = 1 + \\alpha a \\quad \\quad \\text{and} \\quad \\quad \\omega a = \\alpha b$$"
   ]
  },
  {
   "cell_type": "markdown",
   "id": "6d8044f1",
   "metadata": {},
   "source": [
    "$$ a = \\frac{\\alpha b}{\\omega}$$"
   ]
  },
  {
   "cell_type": "markdown",
   "id": "9ae13f2a",
   "metadata": {},
   "source": [
    "$$- \\omega b = 1 + \\frac{\\alpha^2 b}{\\omega}$$"
   ]
  },
  {
   "cell_type": "markdown",
   "id": "8f77f506",
   "metadata": {},
   "source": [
    "$$ -\\omega^2b = \\omega + \\alpha^2b$$"
   ]
  },
  {
   "cell_type": "markdown",
   "id": "0d404af7",
   "metadata": {},
   "source": [
    "$$ b = - \\frac{\\omega}{\\omega^2 + \\alpha^2}$$"
   ]
  },
  {
   "cell_type": "markdown",
   "id": "0bdab69e",
   "metadata": {},
   "source": [
    "$$ a= -\\frac{\\alpha}{\\omega^2+\\alpha^2} $$"
   ]
  },
  {
   "cell_type": "markdown",
   "id": "812be196",
   "metadata": {},
   "source": [
    "Thus,\n",
    "$$ \\int e^{-\\alpha t}\\sin\\omega t\\,\\mathrm{d}t = -\\frac{e^{-\\alpha t}}{\\omega^2 + \\alpha^2}\\,(\\alpha\\,\\sin\\omega t + \\omega\\,\\cos\\omega t) + c$$"
   ]
  },
  {
   "cell_type": "markdown",
   "id": "d8533c04",
   "metadata": {},
   "source": [
    "and,\n",
    "$$ \\int_0^\\infty e^{-\\alpha t}\\sin\\omega t\\,\\mathrm{d}t = \\frac{\\omega}{\\omega^2+\\alpha^2}$$"
   ]
  },
  {
   "cell_type": "markdown",
   "id": "5cd1ddfb",
   "metadata": {},
   "source": [
    "Via the above equation and equation (Ex5.5.3),  \n",
    "\n",
    "$$ B = \\frac{CE(\\omega^2+\\alpha^2)}{2\\omega}$$"
   ]
  },
  {
   "cell_type": "markdown",
   "id": "516b8dfa",
   "metadata": {},
   "source": [
    "Via the above equation and equation (Ex5.4.3),  \n",
    "\n",
    "$$ A = \\frac{CE(\\omega^2+\\alpha^2)}{2\\omega}\\,\\tan\\omega t$$"
   ]
  },
  {
   "cell_type": "markdown",
   "id": "65a0332b",
   "metadata": {},
   "source": [
    "And, via the above two equations and equation (Ex5.3.3), the **specific solution** to equaton (Ex5.1) is:   \n",
    "\n",
    "\\begin{equation}\\tag{Ex5.6.3}\n",
    "    i = i(t) = CE\\,\\frac{\\omega^2 + \\alpha^2}{\\omega}\\,e^{-\\alpha t}\\sin\\omega t\n",
    "\\end{equation}    "
   ]
  },
  {
   "cell_type": "markdown",
   "id": "9d263bd2",
   "metadata": {},
   "source": [
    "$$ \\omega^2 + \\alpha^2 = \\frac{4LC^{-1}}{4L^2} =  \\frac{1}{LC}$$"
   ]
  },
  {
   "cell_type": "markdown",
   "id": "262adc40",
   "metadata": {},
   "source": [
    "$$ CE(\\omega^2+\\alpha^2) = \\frac{CE}{CL} = \\frac{E}{L}$$"
   ]
  },
  {
   "cell_type": "markdown",
   "id": "8c62286b",
   "metadata": {},
   "source": [
    "Thus,\n",
    "\\begin{equation}\\tag{Ex5.6.3}\n",
    "    i = i(t) = \\frac{E}{\\omega L}\\,e^{-\\alpha t}\\sin\\omega t\n",
    "\\end{equation}    "
   ]
  },
  {
   "cell_type": "markdown",
   "id": "63f91834",
   "metadata": {},
   "source": [
    "### Second Order Circuit – $s$-Domain Method\n",
    "The 2nd order circuit contains two energy storage elements, after an optional series-parallel\n",
    "simplification of homogeneous two-terminal circuit(s). Such circuit, in time-domain is\n",
    "described by the 2nd order differential equations. In the $s$-domain, denominator of the obtained\n",
    "solution is of the 2nd order. Use of Algorithm 3.2.1 to series $RLC$ circuit analysis will be\n",
    "discussed in details."
   ]
  },
  {
   "cell_type": "markdown",
   "id": "8a4ec8aa",
   "metadata": {},
   "source": [
    "Transforming both sides of equation (Ex5.1) gives:  \n",
    "\n",
    "\\begin{equation}\\tag{Ex5.s.1}\n",
    "    \\frac{E}{s} = sLI(s) + RI(s) + \\frac{I(s)}{sC}\n",
    "\\end{equation}    "
   ]
  },
  {
   "cell_type": "markdown",
   "id": "656ee414",
   "metadata": {},
   "source": [
    "![Fig-3.2.16b](Figures/Fig-3.2.16b.png)"
   ]
  },
  {
   "cell_type": "markdown",
   "id": "0533111b",
   "metadata": {},
   "source": [
    "The circuit $s$-domain diagram is presented in Fig. 3.2.16b. From element equations and KVL\n",
    "equation, the mesh current is, via equation (Ex5.s.1),  \n",
    "\n",
    "$$ EC = I(s)\\big(s^2LC + sRC + 1 \\big)$$"
   ]
  },
  {
   "cell_type": "markdown",
   "id": "4eea7d1a",
   "metadata": {},
   "source": [
    "\\begin{equation}\\tag{Ex5.s.2}\n",
    "    I(s) = \\frac{EC}{s^2LC + sRC + 1} = \\frac{E}{(s+m_1)(s+m_2)}\n",
    "\\end{equation}    "
   ]
  },
  {
   "cell_type": "markdown",
   "id": "8e16c997",
   "metadata": {},
   "source": [
    "## Natural Response\n",
    "The transient state after switching off all the excitations is considered. Then, the energy\n",
    "initially stored is dissipated on resistors, as a heat. All the circuit variables decay to zero, i.e.\n",
    "all steady state values are zero. Two exemplary circuits, source free $RC$ circuit and source free\n",
    "$RL$ circuit, will be considered."
   ]
  },
  {
   "cell_type": "markdown",
   "id": "994543ec",
   "metadata": {},
   "source": [
    "### Example 3.2.6\n",
    "Find the mesh current after throwing the switch.  \n",
    "\n",
    "![Fig-3.2.19](Figures/Fig-3.2.19.png)"
   ]
  },
  {
   "cell_type": "markdown",
   "id": "d341dd87",
   "metadata": {},
   "source": [
    "The dc circuits for $t=0_-$ and $t=0$ are presented in Fig. 3.2.19a.  \n",
    "\n",
    "![Fig-3.2.19a](Figures/Fig-3.2.19a.png)"
   ]
  },
  {
   "cell_type": "markdown",
   "id": "fbc6e09c",
   "metadata": {},
   "source": [
    "To ellaborate on the initial value of the capacitor's voltage drop, denoted as '$U_{C0}$', in Figure 3.2.19a:   \n",
    "\n",
    "$$ U_{C0} = \\frac{1}{C}\\,\\int_0^\\infty i\\,\\mathrm{d}t$$"
   ]
  },
  {
   "cell_type": "markdown",
   "id": "6303a9fe",
   "metadata": {},
   "source": [
    "Via equation (M11),  \n",
    "\n",
    "$$ i = i(t) = \\frac{E}{R}\\,e^{-t/(RC)}$$"
   ]
  },
  {
   "cell_type": "markdown",
   "id": "221e0f4b",
   "metadata": {},
   "source": [
    "The primitive integral of $i$ is:  \n",
    "\n",
    "$$ \\int i\\,\\mathrm{d}t = \\frac{E}{R}\\,\\int e^{-t/(RC)}\\,\\mathrm{d}t = - ECe^{-t/(RC)} + c$$"
   ]
  },
  {
   "cell_type": "markdown",
   "id": "d5c177d4",
   "metadata": {},
   "source": [
    "Thus,\n",
    "$$ U_{C0} = \\frac{1}{C}\\,EC = E$$"
   ]
  },
  {
   "cell_type": "markdown",
   "id": "08ddaa47",
   "metadata": {},
   "source": [
    "$$ I_{0_-} = i(\\infty) = 0$$"
   ]
  },
  {
   "cell_type": "markdown",
   "id": "b14c9aea",
   "metadata": {},
   "source": [
    "Via KVL:  \n",
    "\n",
    "$$ U_{C0} = E = -RI_0$$"
   ]
  },
  {
   "cell_type": "markdown",
   "id": "616ff1df",
   "metadata": {},
   "source": [
    "$$ I_0 = -\\frac{E}{R} = -i(0)$$"
   ]
  },
  {
   "cell_type": "markdown",
   "id": "5aa30ad7",
   "metadata": {},
   "source": [
    "Note that the negative sign implies that the direction of the current arrow in the right hand circuit was falsely assumed along with the voltage arrowhead of the resistor."
   ]
  },
  {
   "cell_type": "markdown",
   "id": "8e743219",
   "metadata": {},
   "source": [
    "Via the element equation for a capacitor, KVL and Ohm's Law,  \n",
    "\n",
    "\\begin{equation}\\tag{Ex6.1}\n",
    "    u_C = \\frac{1}{C}\\,\\int_0^t i_2 \\,\\mathrm{d}t + U_{C0} = -Ri_2\n",
    "\\end{equation}    "
   ]
  },
  {
   "cell_type": "markdown",
   "id": "3af7b6cf",
   "metadata": {},
   "source": [
    "Note that '$i_2$' denotes the instantaneous current flowing through the right hand circuit of Figure 3.2.19a."
   ]
  },
  {
   "cell_type": "markdown",
   "id": "0957b52c",
   "metadata": {},
   "source": [
    "Differentiating throughout both sides with respect to time gives:  \n",
    "\n",
    "$$ \\frac{1}{C}\\,i_2  = -R\\,\\frac{\\mathrm{d}i_2}{\\mathrm{d}t}$$"
   ]
  },
  {
   "cell_type": "markdown",
   "id": "3da4acc3",
   "metadata": {},
   "source": [
    "The general solution to the above DE is of the form:  \n",
    "\n",
    "$$ i_2 = i_2(t) = Ae^{mt} \\quad \\quad \\text{where }\\; Rm + \\frac{1}{C} = 0$$"
   ]
  },
  {
   "cell_type": "markdown",
   "id": "bc698be1",
   "metadata": {},
   "source": [
    "$$ m = - \\frac{1}{RC} $$"
   ]
  },
  {
   "cell_type": "markdown",
   "id": "7c8db456",
   "metadata": {},
   "source": [
    "To solve for the arbitrary constant $A\\in\\mathbb{R}$ we will use the IVP,  \n",
    "\n",
    "$$ i_2(0) = I_0 = A = -\\frac{E}{R}$$"
   ]
  },
  {
   "cell_type": "markdown",
   "id": "5169eefc",
   "metadata": {},
   "source": [
    "Thus, the **specific solution** is:  \n",
    "\n",
    "\\begin{equation}\\tag{Ex6.3}\n",
    "    i_2=i_2(t) = -\\frac{E}{R}\\,e^{-t/(RC)} = -\\frac{E}{R}\\,e^{-t/T} \\quad \\quad \\text{where }\\; T = RC\n",
    "\\end{equation}    "
   ]
  },
  {
   "cell_type": "markdown",
   "id": "6206cd72",
   "metadata": {},
   "source": [
    "This transient response is presented in Fig. 3.2.20, for small and large value of resistance\n",
    "$R (E=\\text{const}, C=\\text{const} )$.  \n",
    "\n",
    "![Fig-3.2.20](Figures/Fig-3.2.20.png)"
   ]
  },
  {
   "cell_type": "markdown",
   "id": "5299166b",
   "metadata": {},
   "source": [
    "As for the **charge**:  The initial charge is given by:  \n",
    "\n",
    "$$ q(0) = Q_0 = CU_{C0} = CE$$"
   ]
  },
  {
   "cell_type": "markdown",
   "id": "e60c5269",
   "metadata": {},
   "source": [
    "And, the instantaneous charge is given by:  \n",
    "\n",
    "$$ q = q(t) = Cu_C = \\int_0^t i_2\\,\\mathrm{d}t + Q_0$$"
   ]
  },
  {
   "cell_type": "markdown",
   "id": "5f6b26d6",
   "metadata": {},
   "source": [
    "$$ \\int i_2\\,\\mathrm{d}t = -\\frac{E}{R}\\,\\int e^{-t/T}\\,\\mathrm{d}t =  \\frac{ET}{R}\\,e^{-t/T} + c = ECe^{-t/T} + c$$"
   ]
  },
  {
   "cell_type": "markdown",
   "id": "782dbaaa",
   "metadata": {},
   "source": [
    "Via the above two equations:  \n",
    "\n",
    "\\begin{equation}\\tag{Ex6.4}\n",
    "    q = q(t) = ECe^{-t/T} - EC + Q_0 = ECe^{-t/T}\n",
    "\\end{equation}    "
   ]
  },
  {
   "cell_type": "markdown",
   "id": "6a8dc88a",
   "metadata": {},
   "source": [
    "Transforming both sides of equation (Ex6.1) gives:  \n",
    "\n",
    "\\begin{equation}\\tag{Ex6.2}\n",
    "    -RI_2(s) = \\frac{E}{s} + \\frac{I_2(s)}{sC}\n",
    "\\end{equation}    "
   ]
  },
  {
   "cell_type": "markdown",
   "id": "4887fd7d",
   "metadata": {},
   "source": [
    "Assuming $R=0$,  \n",
    "\n",
    "$$ \\frac{I_2(s)}{sC} = - \\frac{E}{s}$$"
   ]
  },
  {
   "cell_type": "markdown",
   "id": "4f76a568",
   "metadata": {},
   "source": [
    "$$ I_2(s) = -EC$$"
   ]
  },
  {
   "cell_type": "markdown",
   "id": "a6b0cabe",
   "metadata": {},
   "source": [
    "Inverse transforming both sides of the above equation gives:  \n",
    "\n",
    "\\begin{equation}\\tag{Ex6.3a}\n",
    "    i_2 = i_2(t) = -EC\\delta (t)|_{R=0}\n",
    "\\end{equation}    "
   ]
  },
  {
   "cell_type": "markdown",
   "id": "ea5486b7",
   "metadata": {},
   "source": [
    "### Example 3.2.6 – *cont.*\n",
    "Find the mesh current after changing position of the switch, taking into account the capacitor\n",
    "residual inductance, denoted as '$L_C$'.  \n",
    "\n",
    "![Fig-3.2.21](Figures/Fig-3.2.21.png)"
   ]
  },
  {
   "cell_type": "markdown",
   "id": "c9a59638",
   "metadata": {},
   "source": [
    "When the switch is still connected to point 1 (i.e. at time $t=0_-$ or *before* flipping the switch ), $I_{0_-}=0$, $U_{L0_-} = Li_1'(0_-) = 0$, and $U_{C0_-} = E$."
   ]
  },
  {
   "cell_type": "markdown",
   "id": "57141964",
   "metadata": {},
   "source": [
    "Since both the current and voltage need to be continuous, at time $t=0$ or when the switch is flipped, $I_0 = 0$ and $U_{C0} = E$."
   ]
  },
  {
   "cell_type": "markdown",
   "id": "5ab1388e",
   "metadata": {},
   "source": [
    "First, let's use the **time domain** method to find $i$ after the switch is flipped or connected to point 2.  Via KVL and element equation laws,  \n",
    "\n",
    "$$ u_C = -u_R - u_L $$"
   ]
  },
  {
   "cell_type": "markdown",
   "id": "6a31115f",
   "metadata": {},
   "source": [
    "$$ Li' + Ri + \\frac{1}{C}\\,\\int_0^t i\\,\\mathrm{d}t  = -E$$"
   ]
  },
  {
   "cell_type": "markdown",
   "id": "c731ca0c",
   "metadata": {},
   "source": [
    "Differentiating throughout both sides of the above equation gives:  \n",
    "\n",
    "$$ Li'' + Ri' + \\frac{1}{C}\\,i = 0$$"
   ]
  },
  {
   "cell_type": "markdown",
   "id": "6a4664b0",
   "metadata": {},
   "source": [
    "The above equation is a 2nd order homogenous DE.  We have already gone over the three types of general solutions that exist for this type of differential equation.  In either of the three cases $i(0)=I_0=0$, which has already been stated."
   ]
  },
  {
   "cell_type": "markdown",
   "id": "c106316c",
   "metadata": {},
   "source": [
    "$$ i = i(t) = \\begin{cases}\\tag{Ex6c.3}\n",
    "Ae^{m_1t} + Be^{m_2t} &\\quad &\\text{if }\\;R^2 > 4LC^{-1} \\\\\n",
    "e^{mt}(A + Bt)&\\quad &\\text{if }\\;R^2 = 4LC^{-1} \\\\\n",
    "e^{-\\alpha t}(A\\cos\\omega t + B\\sin\\omega t) &\\quad &\\text{if }\\;R^2<4LC^{-1}\n",
    "\\end{cases}$$"
   ]
  },
  {
   "cell_type": "markdown",
   "id": "65a08ba9",
   "metadata": {},
   "source": [
    "Using the IVP of $i(0) = 0$:  \n",
    "\n",
    "\n",
    "\\begin{matrix}\\tag{Ex6c.4}\n",
    "    i(0) &= A + B &= 0 &\\quad&\\text{if }\\;R^2>4LC^{-1} \\\\\n",
    "    i(0) &= A &= 0 &\\quad&\\text{if }\\;R^2\\le4LC^{-1}\n",
    "\\end{matrix}    "
   ]
  },
  {
   "cell_type": "markdown",
   "id": "74001899",
   "metadata": {},
   "source": [
    "And, using the steady-state or boundary condition of $U_{C\\infty} = 0$:  \n",
    "\n",
    "$$ u_C(\\infty) = U_{C\\infty} = \\frac{1}{C}\\,\\int_0^\\infty i\\,\\mathrm{d}t + E = 0$$"
   ]
  },
  {
   "cell_type": "markdown",
   "id": "1763c8ce",
   "metadata": {},
   "source": [
    "$$ \\int i \\,\\mathrm{d}t = \\frac{A}{m_1}\\,e^{m_1t} + \\frac{B}{m_2}\\,e^{m_2t} = B\\,\\left(\\frac{1}{m_2}\\,e^{m_2t} - \\frac{1}{m_1}\\,e^{m_1t}\\right) + c\\,\\Big\\vert_{\\,R^2>4LC^{-1}}$$"
   ]
  },
  {
   "cell_type": "markdown",
   "id": "7a3ee29f",
   "metadata": {},
   "source": [
    "$$ \\int i \\,\\mathrm{d}t  = \\frac{mt-1}{m^2}\\,Be^{mt} + c\\,\\Big\\vert_{\\,R^2=4LC^{-1}}$$"
   ]
  },
  {
   "cell_type": "markdown",
   "id": "635ba58c",
   "metadata": {},
   "source": [
    "and,\n",
    "$$ \\int i\\,\\mathrm{d}t = B\\,\\int e^{-\\alpha t}\\sin\\omega t\\,\\mathrm{d}t=-B\\,\\frac{e^{-\\alpha t}}{\\omega^2 + \\alpha^2}\\,(\\alpha\\,\\sin\\omega t + \\omega\\,\\cos\\omega t) + c\\,\\Big\\vert_{\\,R^2\\,<\\,4LC^{-1}}$$"
   ]
  },
  {
   "cell_type": "markdown",
   "id": "316c6e9b",
   "metadata": {},
   "source": [
    "Thus,  \n",
    "\n",
    "Assuming $R^2>4LC^{-1}$,  \n",
    "\n",
    "$$ \\frac{B}{C}\\,\\left(\\frac{1}{m_1}-\\frac{1}{m_2}\\right) = \\frac{B}{C}\\,\\frac{m_2-m_1}{m_1m_2} = -E$$"
   ]
  },
  {
   "cell_type": "markdown",
   "id": "9534257f",
   "metadata": {},
   "source": [
    "\\begin{equation}\\tag{Ex6c.5a}\n",
    "    B = \\frac{m_1m_2}{m_1-m_2}\\,EC\n",
    "\\end{equation}    "
   ]
  },
  {
   "cell_type": "markdown",
   "id": "b0018e02",
   "metadata": {},
   "source": [
    "Assuming $R^2=4LC^{-1}$,  \n",
    "\n",
    "$$ \\frac{B}{Cm^2} = -E$$"
   ]
  },
  {
   "cell_type": "markdown",
   "id": "48af0255",
   "metadata": {},
   "source": [
    "\\begin{equation}\\tag{Ex6c.5b}\n",
    "    B = -ECm^2\n",
    "\\end{equation}    "
   ]
  },
  {
   "cell_type": "markdown",
   "id": "3f309964",
   "metadata": {},
   "source": [
    "Assuming $R^2<4LC^{-1}$,  \n",
    "\n",
    "$$ \\frac{\\omega B}{C(\\omega^2+\\alpha^2)} = -E$$"
   ]
  },
  {
   "cell_type": "markdown",
   "id": "090d56db",
   "metadata": {},
   "source": [
    "\\begin{equation}\\tag{Ex6c.5c}\n",
    "    B = -\\frac{EC(\\omega^2+\\alpha^2)}{\\omega}\n",
    "\\end{equation}    "
   ]
  },
  {
   "cell_type": "markdown",
   "id": "89c8982a",
   "metadata": {},
   "source": [
    "Via equations (Ex6c.5), (Ex6c.4), and (Ex6c.3), the **specific solutions** are:  \n",
    "\n",
    "Assuming $R^2>4LC^{-1}$,  \n",
    "\n",
    "\\begin{equation}\\tag{Ex6c.6a}\n",
    "    i=i(t) = B\\big(e^{m_2t} - e^{m_1t}\\big) = \\frac{EC}{T_1-T_2}\\,\\big(e^{-t/T_2} - e^{-t/T_1}\\big)\\quad\\quad\\text{where }\\;T_1, T_2 = -\\frac{1}{m_1},-\\frac{1}{m_2}\n",
    "\\end{equation}    "
   ]
  },
  {
   "cell_type": "markdown",
   "id": "a8b37729",
   "metadata": {},
   "source": [
    "Assuming $R^2=4LC^{-1}$,  \n",
    "\n",
    "\\begin{equation}\\tag{Ex6c.6b}\n",
    "    i = i(t) = Bte^{mt} = -ECm^2 te^{mt} = -\\frac{E}{L}\\,te^{-\\alpha t} = -Kte^{-\\alpha t}\n",
    "\\end{equation}    "
   ]
  },
  {
   "cell_type": "markdown",
   "id": "7a6a31ae",
   "metadata": {},
   "source": [
    "Note that $K$ is the so called current gain."
   ]
  },
  {
   "cell_type": "markdown",
   "id": "70449237",
   "metadata": {},
   "source": [
    "Assuming $R^2<4LC^{-1}$,  \n",
    "\n",
    "\\begin{equation}\\tag{Ex6c.6c}\n",
    "    i=i(t) = Be^{-\\alpha t}\\sin\\omega t = -\\frac{EC(\\omega^2+\\alpha^2)}{\\omega}\\,e^{-\\alpha t}\\sin \\omega t = -\\frac{E}{\\omega L}\\,e^{-\\alpha t}\\sin\\omega t = -\\frac{K}{\\omega}\\,e^{-\\alpha  t}\\sin\\omega t\n",
    "\\end{equation}    "
   ]
  }
 ],
 "metadata": {
  "kernelspec": {
   "display_name": "Python 3",
   "language": "python",
   "name": "python3"
  },
  "language_info": {
   "codemirror_mode": {
    "name": "ipython",
    "version": 3
   },
   "file_extension": ".py",
   "mimetype": "text/x-python",
   "name": "python",
   "nbconvert_exporter": "python",
   "pygments_lexer": "ipython3",
   "version": "3.8.10"
  }
 },
 "nbformat": 4,
 "nbformat_minor": 5
}
