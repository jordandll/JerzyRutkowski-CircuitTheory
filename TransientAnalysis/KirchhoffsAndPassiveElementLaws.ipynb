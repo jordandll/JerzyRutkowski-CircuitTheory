{
 "cells": [
  {
   "cell_type": "markdown",
   "id": "a8aef2c8",
   "metadata": {},
   "source": [
    "# Kirchhoff’s Laws and Passive Element Laws\n",
    "### Chapter 3.1 -- *Transient Analysis*\n",
    "\n",
    "## Kirchhoff’s Laws\n",
    "Kirchhoff’s laws, discussed in Chapter 2.2 for constant values of currents and voltages, can be\n",
    "generalized into time-varying values."
   ]
  },
  {
   "cell_type": "markdown",
   "id": "cbb9c680",
   "metadata": {},
   "source": [
    "#### Kirchhoff’s Current Law\n",
    "At any instant of time, the algebraic sum of currents entering or leaving arbitrary node or\n",
    "cutset equals zero:  \n",
    "\n",
    "\\begin{equation}\\tag{1}\n",
    "    \\sum_{\\cdot j} i = 0\n",
    "\\end{equation}    "
   ]
  },
  {
   "cell_type": "markdown",
   "id": "8c354ff6",
   "metadata": {},
   "source": [
    "where '$\\sum_{\\cdot j}$' denotes algebraic sum of instantaneous currents entering or leaving the $j$-th node by the convention:  \n",
    "\n",
    "* $+$ , if current arrowhead is directed to the node (cutset),\n",
    "* $-$, if current arrowhead is directed from the node (cutset). "
   ]
  },
  {
   "cell_type": "markdown",
   "id": "b35eef39",
   "metadata": {},
   "source": [
    "Note that '$i$' denotes the instantaneous current as a function of time ('$t$')."
   ]
  },
  {
   "cell_type": "markdown",
   "id": "45f3803f",
   "metadata": {},
   "source": [
    "Via the linearity property of the Laplace transform, KCL in the $s$-domain is:  \n",
    "\n",
    "\\begin{equation}\\tag{1a}\n",
    "    \\sum_{\\cdot j}I(s) = 0\n",
    "\\end{equation}    "
   ]
  },
  {
   "cell_type": "markdown",
   "id": "0800d5ba",
   "metadata": {},
   "source": [
    "#### Kirchhoff’s Voltage Law\n",
    "At any instant of time, the algebraic sum of voltages around arbitrary loop or closed path\n",
    "equals zero,  \n",
    "\n",
    "\\begin{equation}\\tag{2}\n",
    "    \\sum_{\\mathrm{O}j} u = 0\n",
    "\\end{equation}    "
   ]
  },
  {
   "cell_type": "markdown",
   "id": "296e0204",
   "metadata": {},
   "source": [
    "where, '$\\sum_{\\mathrm{O}j}$' denotes the algebraic sum of voltages around the $j$-th loop (closed path), by the\n",
    "convention:\n",
    "* $+$ , if, voltage arrowhead has clockwise direction,\n",
    "* $-$ , if voltage arrowhead has anticlockwise direction."
   ]
  },
  {
   "cell_type": "markdown",
   "id": "cc0a17c1",
   "metadata": {},
   "source": [
    "Via the linearirty rule of the Laplace transform, KVL in the $s$-domain is:  \n",
    "\n",
    "\\begin{equation}\\tag{2a}\n",
    "    \\sum_{\\mathrm{O}j} U(s) = 0\n",
    "\\end{equation}    "
   ]
  },
  {
   "cell_type": "markdown",
   "id": "1935b4df",
   "metadata": {},
   "source": [
    "## Passive Element Laws\n",
    "Ideal passive circuit elements are considered. These elements can be divided into two classes:\n",
    "* Energy dissipating elements: resistors.\n",
    "* Energy storage elements: capacitors and coils."
   ]
  },
  {
   "cell_type": "markdown",
   "id": "4d01a9da",
   "metadata": {},
   "source": [
    "### Resistor\n",
    "A linear resistor presented in Fig. 3.1.1 is characterized by Ohm’s law (3.1.3):  \n",
    "\n",
    "\\begin{equation}\\tag{3}\n",
    "    u=Ri \\quad \\quad \\text{and} \\quad \\quad i=Gu\n",
    "\\end{equation}    "
   ]
  },
  {
   "cell_type": "markdown",
   "id": "7b940901",
   "metadata": {},
   "source": [
    "![Fig-3.1.1](Figures/Fig-3.1.1.png)"
   ]
  },
  {
   "cell_type": "markdown",
   "id": "864f835a",
   "metadata": {},
   "source": [
    "A resistor is uniquely characterized by its resistance $R$, in ohms $[\\Omega]=[\\mathrm{V}/\\mathrm{A}]$, or conductance $G$,\n",
    "in siemens $[\\mathrm{S}]=[\\mathrm{A}/\\mathrm{V}]$. Resistance (conductance) is a circuit constant, constant of\n",
    "proportionality relating the current and the voltage."
   ]
  },
  {
   "cell_type": "markdown",
   "id": "20454392",
   "metadata": {},
   "source": [
    "![Fig-3.1.2](Figures/Fig-3.1.2.png)"
   ]
  },
  {
   "cell_type": "markdown",
   "id": "6a6f6837",
   "metadata": {},
   "source": [
    "Via figure (3.1.2) and Ohm's Law,    \n",
    "\n",
    "$$ u = Ri$$\n",
    "\n",
    "and,\n",
    "$$\\begin{matrix}\n",
    "i :=i(t) = t\\,\\left[\\frac{\\mathrm{A}}{\\mathrm{s}}\\right] \\quad \\text{if }\\; 0_+ \\le t < 2\\mathrm{s}&\\hspace{1.5in} i &= 2\\mathrm{A} \\quad \\text{if }\\;2\\mathrm{s}\\le t < 4\\mathrm{s} \\\\\n",
    "i = -2t \\left[\\frac{\\mathrm{A}}{\\mathrm{s}}\\right] + 10\\mathrm{A} \\quad \\text{if }\\;4\\mathrm{s}\\le t < 6\\mathrm{s} &\\hspace{1.5in} i &= 2t\\left[\\frac{\\mathrm{A}}{\\mathrm{s}}\\right] - 14\\mathrm{A} \\quad \\text{if }\\;6\\mathrm{s}\\le t < 7\\mathrm{s}\n",
    "\\end{matrix}$$"
   ]
  },
  {
   "cell_type": "markdown",
   "id": "26be5153",
   "metadata": {},
   "source": [
    "The resistor's instantaneous power as a function of time is:  \n",
    "\n",
    "\\begin{equation}\\tag{4}\n",
    "    p = Ri^2 = Gu^2 \\ge 0\n",
    "\\end{equation}    "
   ]
  },
  {
   "cell_type": "markdown",
   "id": "16798e37",
   "metadata": {},
   "source": [
    "Then, energy dissipated between the initial time $t_0=0$ and arbitrary time $t<\\infty$ is always\n",
    "nonnegative:  \n",
    "\n",
    "\\begin{equation}\\tag{5}\n",
    "    w(t) = R\\int_0^t i^2\\mathrm{d}t = G\\int_0^t u^2\\mathrm{d}t\n",
    "\\end{equation}   "
   ]
  },
  {
   "cell_type": "markdown",
   "id": "d3d15945",
   "metadata": {},
   "source": [
    "\\begin{equation}\\tag{5a}\n",
    "    W_\\infty =w(\\infty) = R\\int_0^\\infty i^2\\mathrm{d}t\n",
    "\\end{equation}    "
   ]
  },
  {
   "cell_type": "markdown",
   "id": "69adef83",
   "metadata": {},
   "source": [
    "Fig. 3.1.2 presents exemplary plots of $u$, $i$ and $p$ in $1\\Omega$ resistor - the total energy dissipated is\n",
    "equal to the hatched area,$W_\\infty = 38/3 \\mathrm{J}$.  Proof:  \n",
    "\n",
    "$$ W_\\infty = w(7) = 1\\Omega\\left(\\int_0^{2\\mathrm{s}}t^2\\left[\\frac{\\mathrm{A}}{\\mathrm{s}}\\right]^2\\mathrm{d}t + \\int_{2\\mathrm{s}}^{4\\mathrm{s}}4\\mathrm{A}^2\\mathrm{d}t + \\int_{4\\mathrm{s}}^{6\\mathrm{s}}\\left(10\\mathrm{A} - 2t\\,\\left[\\frac{\\mathrm{A}}{\\mathrm{s}}\\right] \\right)^2 \\mathrm{d}t + \\int_{6\\mathrm{s}}^{7\\mathrm{s}}\\left(2t\\left[\\frac{\\mathrm{A}}{\\mathrm{s}}\\right]-14\\mathrm{A} \\right)^2\\mathrm{d}t\\right)$$"
   ]
  },
  {
   "cell_type": "markdown",
   "id": "8082e17a",
   "metadata": {},
   "source": [
    "Let's evaluate identity of $W_\\infty$ in the above equation term by term.  For the first term, the primitive integral is:   \n",
    "\n",
    "$$ \\int t^2\\,\\left[\\frac{\\mathrm{A}}{\\mathrm{s}}\\right]^2\\mathrm{d}t = \\frac{t^3}{3}\\,\\left[\\frac{\\mathrm{A}}{\\mathrm{s}}\\right] + K$$"
   ]
  },
  {
   "cell_type": "markdown",
   "id": "cc14b86a",
   "metadata": {},
   "source": [
    "thus,\n",
    "$$ \\int_0^{2\\mathrm{s}} t^2\\left[\\frac{\\mathrm{A}}{\\mathrm{s}}\\right]^2\\mathrm{d}t = \\frac{8\\mathrm{s}^3}{3}\\,\\left[\\frac{\\mathrm{A}}{\\mathrm{s}}\\right]^2 = \\frac{8}{3}\\,\\big[\\mathrm{s}\\cdot \\mathrm{A}^2\\big]$$"
   ]
  },
  {
   "cell_type": "markdown",
   "id": "6b9d56b9",
   "metadata": {},
   "source": [
    "For the second term:  \n",
    "\n",
    "$$ \\int 4\\mathrm{A}^2\\mathrm{d}t = 4\\mathrm{A}^2 t + K$$"
   ]
  },
  {
   "cell_type": "markdown",
   "id": "aaf49dcf",
   "metadata": {},
   "source": [
    "$$ \\int_{2\\mathrm{s}}^{4\\mathrm{s}}4\\mathrm{A}^2\\mathrm{d}t = 16\\big[\\mathrm{s}\\cdot\\mathrm{A}^2\\big] - 8\\big[\\mathrm{s}\\cdot\\mathrm{A}^2 \\big] = 8\\big[\\mathrm{s}\\cdot\\mathrm{A}^2 \\big]$$"
   ]
  },
  {
   "cell_type": "markdown",
   "id": "6d75c09a",
   "metadata": {},
   "source": [
    "For the third term:  \n",
    "\n",
    "\\begin{align*}\n",
    "    \\int\\left(10\\mathrm{A} - 2t\\,\\left[\\frac{\\mathrm{A}}{\\mathrm{s}}\\right]\\right)^2\\mathrm{d}t &= \\int \\left(4t^2\\,\\left[\\frac{\\mathrm{A}}{\\mathrm{s}}\\right]^2 - 40t\\,\\left[\\frac{\\mathrm{A}^2}{\\mathrm{s}}\\right] + 100\\mathrm{A}^2\\right)\\mathrm{d}t \\\\ \\\\\n",
    "     &= \\frac{4t^3}{3}\\,\\left[\\frac{\\mathrm{A}}{\\mathrm{s}}\\right]^2 - 20t^2\\,\\left[\\frac{\\mathrm{A}^2}{\\mathrm{s}}\\right] + 100t\\mathrm{A}^2 + K\n",
    "\\end{align*}     "
   ]
  },
  {
   "cell_type": "markdown",
   "id": "cf0b6927",
   "metadata": {},
   "source": [
    "$$ \\int_{4\\mathrm{s}}^{6\\mathrm{s}}\\left (10\\mathrm{A} - 2t\\left[\\frac{\\mathrm{A}}{\\mathrm{s}} \\right]\\right)^2\\mathrm{d}t = \\left( 2 + \\frac{2}{3}\\right)\\big[\\mathrm{s}\\cdot\\mathrm{A}^2\\big] = \\frac{8}{3}\\big[\\mathrm{s}\\cdot\\mathrm{A}^2\\big]$$"
   ]
  },
  {
   "cell_type": "code",
   "execution_count": 1,
   "id": "a414bbef",
   "metadata": {},
   "outputs": [],
   "source": [
    "f = lambda t: (4*t**3)/3 - 20*t**2 + 100*t"
   ]
  },
  {
   "cell_type": "code",
   "execution_count": 2,
   "id": "8b3d51be",
   "metadata": {},
   "outputs": [
    {
     "data": {
      "text/plain": [
       "2.6666666666666856"
      ]
     },
     "execution_count": 2,
     "metadata": {},
     "output_type": "execute_result"
    }
   ],
   "source": [
    "f(6)-f(4)"
   ]
  },
  {
   "cell_type": "markdown",
   "id": "59db51f3",
   "metadata": {},
   "source": [
    "Another way:  \n",
    "\n",
    "$$ \\int_{4\\mathrm{s}}^{6\\mathrm{s}}\\left(10\\mathrm{A}-2t\\left[\\frac{\\mathrm{A}}{\\mathrm{s}} \\right]\\right)^2\\mathrm{d}t = 4\\int_{4\\mathrm{s}}^{6\\mathrm{s}}\\left(5\\mathrm{A} - t\\left[\\frac{\\mathrm{A}}{\\mathrm{s}} \\right]\\right)^2\\mathrm{d}t = 4\\int_0^{2\\mathrm{s}}\\left(1\\mathrm{A} - t\\left[\\frac{\\mathrm{A}}{\\mathrm{s}} \\right] \\right)^2\\mathrm{d}t$$"
   ]
  },
  {
   "cell_type": "markdown",
   "id": "10e930d7",
   "metadata": {},
   "source": [
    "$$ 4\\int\\left(1\\mathrm{A}  - t\\left[\\frac{\\mathrm{A}}{\\mathrm{s}} \\right]\\right)^2\\mathrm{d}t = -\\frac{4}{3}\\left[\\frac{\\mathrm{s}}{\\mathrm{A}} \\right]\\left( 1\\mathrm{A} - t\\left[\\frac{\\mathrm{A}}{\\mathrm{s}} \\right]\\right)^3$$"
   ]
  },
  {
   "cell_type": "code",
   "execution_count": 3,
   "id": "8957147e",
   "metadata": {},
   "outputs": [],
   "source": [
    "g = lambda t: -(4/3)*(1-t)**3"
   ]
  },
  {
   "cell_type": "code",
   "execution_count": 4,
   "id": "ec8b5e1c",
   "metadata": {},
   "outputs": [
    {
     "data": {
      "text/plain": [
       "2.6666666666666665"
      ]
     },
     "execution_count": 4,
     "metadata": {},
     "output_type": "execute_result"
    }
   ],
   "source": [
    "g(2) - g(0)"
   ]
  },
  {
   "cell_type": "markdown",
   "id": "6abbdc42",
   "metadata": {},
   "source": [
    "For the fourth term:  \n",
    "\n",
    "$$ \\int_{6\\mathrm{s}}^{7\\mathrm{s}} \\left(2t\\left[\\frac{\\mathrm{A}}{\\mathrm{s}} \\right] - 14\\mathrm{A} \\right)^2\\mathrm{d}t = 0.5 \\int_{4\\mathrm{s}}^{6\\mathrm{s}}\\left(10\\mathrm{A} -  2t\\left[\\frac{\\mathrm{A}}{\\mathrm{s}} \\right] \\right)\\mathrm{d}t = \\frac{4}{3}\\big[\\mathrm{s}\\cdot\\mathrm{A}^2\\big]$$"
   ]
  },
  {
   "cell_type": "markdown",
   "id": "5f14f6ba",
   "metadata": {},
   "source": [
    "Finally,\n",
    "$$ W_\\infty = \\left(\\frac{16}{3} + 8 + \\frac{4}{3}\\right)\\big[\\mathrm{s}\\cdot\\mathrm{A}\\big] = \\frac{16 + 24 + 4}{3}\\big[\\mathrm{s}\\cdot\\mathrm{A}\\big] = $$"
   ]
  },
  {
   "cell_type": "markdown",
   "id": "90a10642",
   "metadata": {},
   "source": [
    "### Capacitor\n",
    "A capacitor is an element that consists of two conducting bodies (plates) that are separated by\n",
    "a dielectric. A linear capacitor presented in Fig. 3.1.4 is characterized by relationship\n",
    "(3.1.7):  \n",
    "\n",
    "![Fig-3.1.4](Figures/Fig-3.1.4.png)"
   ]
  },
  {
   "cell_type": "markdown",
   "id": "69a1d743",
   "metadata": {},
   "source": [
    "\\begin{equation}\\tag{7}\n",
    "    q = Cu\n",
    "\\end{equation}    "
   ]
  },
  {
   "cell_type": "markdown",
   "id": "bea4929e",
   "metadata": {},
   "source": [
    "A capacitor is uniquely characterized by its **capacitance**, denoted as '$C$', in **farads** $[\\mathrm{F}]=[\\mathrm{C}/\\mathrm{V}]=[\\mathrm{A}\\cdot \\mathrm{s}/\\mathrm{V}]$  (i.e. one farad is equal to one Coloumb (unit of charge) divided by one volt).  Capacitance is a circuit constant, constant of proportionality relating the charge and the voltage."
   ]
  },
  {
   "cell_type": "markdown",
   "id": "6c880296",
   "metadata": {},
   "source": [
    "Differentiating throughout equation (7) with respect to time gives the $i-u$ relationship of a capacitor.  \n",
    "\n",
    "\\begin{equation}\\tag{8a}\n",
    "    q' = \\frac{\\mathrm{d}q}{\\mathrm{d}t} = i = Cu' = C\\,\\frac{\\mathrm{d}u}{\\mathrm{d}t}\n",
    "\\end{equation}    "
   ]
  },
  {
   "cell_type": "markdown",
   "id": "0cc91e66",
   "metadata": {},
   "source": [
    "The voltage in terms of the current can be found by integrating throughout equation (8a) between\n",
    "times $t_0 = 0$ and $t$.  \n",
    "\n",
    "\\begin{equation}\\tag{8b}\n",
    "    u = \\frac{1}{C}\\,\\int i\\,\\mathrm{d}t = \\frac{1}{C}\\,\\int_0^t i \\,\\mathrm{d}t + U_0\n",
    "\\end{equation}    "
   ]
  },
  {
   "cell_type": "markdown",
   "id": "240971a9",
   "metadata": {},
   "source": [
    "where,\n",
    "\\begin{equation}\\tag{8c}\n",
    "    U_0 := u(0) = \\frac{q(0)}{C}\n",
    "\\end{equation}    "
   ]
  },
  {
   "cell_type": "markdown",
   "id": "19f894a8",
   "metadata": {},
   "source": [
    "is the voltage on the capacitor at time $t_0=0$, i.e. the initial condition.  The integral term in equation (8b) represents the voltage that accumulates on the capacitor in the interval from $t_0=0$ to $t$,\n",
    "whereas $U_0$ is that, which accumulates from $t=-\\infty$ to $t_0$ . The voltage $u(-\\infty)$ is taken to be\n",
    "zero."
   ]
  },
  {
   "cell_type": "markdown",
   "id": "d8c9e53c",
   "metadata": {},
   "source": [
    "The **principle of conservation of charge** implies that the **voltage on a capacitor is always\n",
    "continuous**, may not change abruptly, even though the current may be discontinuous."
   ]
  },
  {
   "cell_type": "markdown",
   "id": "a8fe7277",
   "metadata": {},
   "source": [
    "In particular, the voltage on a capacitor may not change abruptly at the inception of transient\n",
    "state, i.e. at $t_0=0$ . If $t=0_-$ is an instant of time just before $t=0$ , then  \n",
    "\n",
    "\\begin{equation}\\tag{8d}\n",
    "    U_0 = u(0_-)\n",
    "\\end{equation}    "
   ]
  },
  {
   "cell_type": "markdown",
   "id": "1c878e08",
   "metadata": {},
   "source": [
    "which means that a capacitor's initial condition is designated by its voltage just before inception\n",
    "of the transient state."
   ]
  },
  {
   "cell_type": "markdown",
   "id": "5ef9c854",
   "metadata": {},
   "source": [
    "The capacitor is the energy storage element. The energy stored in the electric field between $t=-\\infty$\n",
    "and arbitrary time $t<\\infty$ is  \n",
    "\n",
    "\\begin{equation}\\tag{9}\n",
    "    w = \\int_{-\\infty}^t p\\,\\mathrm{d}t = \\int_{-\\infty}^t iu \\,\\mathrm{d}t\n",
    "\\end{equation}    "
   ]
  },
  {
   "cell_type": "markdown",
   "id": "29cd4145",
   "metadata": {},
   "source": [
    "Substituting $i$ in equation (9) with it's identity in equation (8a) gives:  \n",
    "\n",
    "\\begin{equation}\\tag{9}\n",
    "    w = C\\int_{-\\infty}^t u\\,\\mathrm{d}u\n",
    "\\end{equation}    "
   ]
  },
  {
   "cell_type": "markdown",
   "id": "5fc6c64b",
   "metadata": {},
   "source": [
    "$$ f(t):=\\int u\\,\\mathrm{d}t = \\frac{u^2}{2} + K$$"
   ]
  },
  {
   "cell_type": "markdown",
   "id": "982b329a",
   "metadata": {},
   "source": [
    "\\begin{equation}\\tag{9a}\n",
    "    w = C(f(t) - f(-\\infty)) = C\\,\\frac{u^2}{2}\n",
    "\\end{equation}    "
   ]
  },
  {
   "cell_type": "markdown",
   "id": "4b8c3720",
   "metadata": {},
   "source": [
    "It should be observed, that energy stored at time $t$ is always nonnegative and it is designated\n",
    "by the capacitor constant and instantaneous value of voltage -- i.e. $w\\ge 0$ -- the way of reaching this value is\n",
    "meaningless. Energy stored at the steady state condition is:  \n",
    "\n",
    "\\begin{equation}\\tag{9b}\n",
    "    W = \\frac{CU_\\infty^2}{2} = \\text{const}\n",
    "\\end{equation}    "
   ]
  },
  {
   "cell_type": "markdown",
   "id": "0970d4d8",
   "metadata": {},
   "source": [
    "Transforming (Laplace transform) both sides of equation (8a) -- both the linearity rule or equation (A3) from the appendix and the differentiation rule or equation (A5) from the appendix are used -- gives the $I-U$ relationship in the $s$-domain.  \n",
    "\n",
    "\\begin{equation}\\tag{10a}\n",
    "    I(s) = sCU(s) - CU_0\n",
    "\\end{equation}    "
   ]
  },
  {
   "cell_type": "markdown",
   "id": "4342afc9",
   "metadata": {},
   "source": [
    "Which allows us to solve for $U(s)$ in terms of $I(s)$.  \n",
    "\n",
    "$$ sU(s) - U_0 = \\frac{1}{C}\\,I(s)$$"
   ]
  },
  {
   "cell_type": "markdown",
   "id": "637ba0c3",
   "metadata": {},
   "source": [
    "\\begin{equation}\\tag{10b}\n",
    "    U(s) = \\frac{1}{sC}\\,I(s) + \\frac{U_0}{s}\n",
    "\\end{equation}    "
   ]
  },
  {
   "cell_type": "markdown",
   "id": "27a4dea4",
   "metadata": {},
   "source": [
    "Equation (10b) fits an $s$-domain equivalent circuit consisting of an ideal voltage source of $E:=E_\\mathrm{o}=-U_0/s$ in series with a conductance of $G:=G_\\mathrm{t}=sC$."
   ]
  },
  {
   "cell_type": "markdown",
   "id": "ba9f4f4b",
   "metadata": {},
   "source": [
    "![Fig-3.1.6](Figures/Fig-3.1.6.png)"
   ]
  },
  {
   "cell_type": "markdown",
   "id": "b47ea5cf",
   "metadata": {},
   "source": [
    "To explain the relationship between the right hand subcircuit in figure (3.1.6) and equation (10a):  Via KCL,  \n",
    "\n",
    "$$ I_G - I(s) - J = 0$$"
   ]
  },
  {
   "cell_type": "markdown",
   "id": "3ba6c132",
   "metadata": {},
   "source": [
    "$$ I(s) = I_G - J = sCU(s) - CU_0$$"
   ]
  },
  {
   "cell_type": "markdown",
   "id": "78f5e696",
   "metadata": {},
   "source": [
    "Hence equation (10a).  Note that the current source is absorbing power;  It's (voltage) arrowhead points in the opposite direction as the current flowing through it.  The conductance $G$ that is in parallel with $J$ is also absorbing power.  It follows passive sign convention.  Via KVL and Ohm's Law, $ U_G =-U_J$.  Via the fact that $U_G$ is positive, $U_J$ is negative while the current flowing through the current source, $J=CU_0$, is positive;  Thus, $P_J = U_J J < 0$.  The negative value of $P_J$ in conjunction with the fact that the current source follows active sign convention means that the current source is absorbing power.  This makes sense since the subcircuit under consideration is the $s$-domain equivalent of a passive element, the capacitor."
   ]
  },
  {
   "cell_type": "markdown",
   "id": "70450793",
   "metadata": {},
   "source": [
    "As has been stated before, the energy stored in the capacitor, denoted as '$w$', is non-negative.  However, the instantaneous power may change signs, unlike the components of the $s$-domain equivalent circuit, which always have non-negative power absorbtion.  \n",
    "\n",
    "But, note the units of the terms of equation (10a) and, in turn, the elements of the right hand subcircuit.  The current source $J=CU_0$ is equal to the product of the capacitance and the initial voltage drop, which is measured in farads times volts, which is equal to the standard unit of charge, the coloumb  $[\\mathrm{F}\\!\\cdot\\!\\mathrm{V}]=[\\mathrm{C}]$.  However, current is defined as the change in charge over time, which is measured in coloumbs per second or amps $[\\mathrm{C}/\\mathrm{s} = \\mathrm{A}]$.  \n",
    "\n",
    "To explain this apparent conflict, first recall that the power of the current source is given by $P_J = U_J J$, which has units of measurement of farad times volts squared, which is equal to the joule, the standard unit of energy $[\\mathrm{F}\\cdot\\mathrm{V}^2 = \\mathrm{C}\\cdot\\mathrm{V} = \\mathrm{J}]$.  The consistently non-negative power absorbed in the $s$-domain corresponds to the consistently non-negative energy absorbed in the $t$-domain."
   ]
  },
  {
   "cell_type": "markdown",
   "id": "e5429042",
   "metadata": {},
   "source": [
    "Second, note that transforming (Laplace tranform) a circuit variable, or any type of variable, that is a function of time results in a variable that is a function of $s$ and has units that are equal to the product of a unit of time (conventionally the second $[\\mathrm{s}]$) and the unit of the variable being transformed.  Transforming the current flowing through the capacitor results in a variable measured in coloumbs which is equal to the product of one amp and one second $[\\mathrm{C}=\\mathrm{A}\\cdot\\mathrm{s}]$."
   ]
  },
  {
   "cell_type": "markdown",
   "id": "04c8b826",
   "metadata": {},
   "source": [
    "### Coil (Inductor)\n",
    "A coil or inductor is an element that consists of a coiled conducting wire around a core. A\n",
    "coil with toroidal core is presented in Fig. 3.1.7, together with its electric analog.  \n",
    "\n",
    "![Fig-3.1.7](Figures/Fig-3.1.7.png)"
   ]
  },
  {
   "cell_type": "markdown",
   "id": "9d5cc482",
   "metadata": {},
   "source": [
    "A current flowing through the coil produces a magnetic flux\n",
    "$\\phi$. The total flux linked by the $z$\n",
    "turns of the coil, denoted as '$\\phi_\\mathrm{t}$' , is given by:  \n",
    "\n",
    "\\begin{equation}\\tag{11}\n",
    "    \\phi_\\mathrm{t} = z\\phi\n",
    "\\end{equation}    "
   ]
  },
  {
   "cell_type": "markdown",
   "id": "e3d6bb2e",
   "metadata": {},
   "source": [
    "The aforementioned total flux is often referred to as the **flux linkage**."
   ]
  },
  {
   "cell_type": "markdown",
   "id": "91fcb5f1",
   "metadata": {},
   "source": [
    "Assuming a linear core (e.g. an air core), via equations (6) and (7) in [Chapter 2.13](../DC-Analysis/MagneticCircuits.ipynb#Magnetic-Voltage) in conjunction with KVL,  \n",
    "\n",
    "\\begin{equation}\\tag{12a}\n",
    "    f = iz = u_\\mathrm{m} = \\phi R_\\mathrm{m} = \\phi \\frac{l}{\\mu_0 \\mu_\\mathrm{r} S}\n",
    "\\end{equation}    "
   ]
  },
  {
   "cell_type": "markdown",
   "id": "eb418499",
   "metadata": {},
   "source": [
    "Via equations (12a) and (11),  \n",
    "\n",
    "\\begin{equation}\\tag{12}\n",
    "    \\phi_\\mathrm{t} = iz^2G_\\mathrm{m} = i\\,\\frac{z^2\\mu_0\\mu_\\mathrm{r}S}{l}\n",
    "\\end{equation}    "
   ]
  },
  {
   "cell_type": "markdown",
   "id": "15ad649e",
   "metadata": {},
   "source": [
    "Then, constant of proportionality relating the total flux and the current, a circuit constant\n",
    "characterizing uniquely the coil, can be introduced. This constant $L$ is called the **inductance**.\n",
    "Its unit is **henry** $[\\mathrm{H}]=[\\mathrm{Wb}/\\mathrm{A}]=[\\mathrm{V}\\!\\cdot\\!\\mathrm{s}\\,/A]$.  \n",
    "\n",
    "\\begin{equation}\\tag{13}\n",
    "    \\phi_\\mathrm{t} = Li\n",
    "\\end{equation}    "
   ]
  },
  {
   "cell_type": "markdown",
   "id": "f6bc2681",
   "metadata": {},
   "source": [
    "In general, inductance is directly proportional to the square of the number of turns and core\n",
    "permeability, then it is proportional to the core dimensions. For the core presented in Fig.\n",
    "3.1.7, the inductance is  \n",
    "\n",
    "\\begin{equation}\\tag{14}\n",
    "    L = \\frac{z^2\\mu_u\\mu_\\mathrm{r}S}{l} = z^2G_\\mathrm{m}\n",
    "\\end{equation}    "
   ]
  },
  {
   "cell_type": "markdown",
   "id": "f430eeb0",
   "metadata": {},
   "source": [
    "![Fig-3.1.8](Figures/Fig-3.1.8.png)"
   ]
  },
  {
   "cell_type": "markdown",
   "id": "e4566924",
   "metadata": {},
   "source": [
    "Circuit symbol for a coil is presented in Fig. 3.1.8. To find a coil relationship,\n",
    "**Faraday’s law** should be recalled.  \n",
    "\n",
    "When the magnetic flux linking a coil changes, a voltage directly proportional to the rate of\n",
    "flux change is induced in a coil:  \n",
    "\n",
    "\\begin{equation}\\tag{15}\n",
    "    u = z\\,\\frac{\\mathrm{d}\\phi}{\\mathrm{d}t} = \\frac{\\mathrm{d}\\phi_\\mathrm{t}}{\\mathrm{d}t}\n",
    "\\end{equation}    "
   ]
  },
  {
   "cell_type": "markdown",
   "id": "10d52d5d",
   "metadata": {},
   "source": [
    "Via Faraday's Law -- or, equation (15) -- and the equation given by differentiating throughout equation (13) with respect to time in conjunction with equivalence principle,  \n",
    "\n",
    "\\begin{equation}\\tag{16}\n",
    "    u = L \\frac{\\mathrm{d}i}{\\mathrm{d}t}\n",
    "\\end{equation}    "
   ]
  },
  {
   "cell_type": "markdown",
   "id": "9942a235",
   "metadata": {},
   "source": [
    "The current in terms of the voltage can be found by integrating both sides of (3.1.16a)\n",
    "between times $t_0=0$ and $t$.  \n",
    "\n",
    "\\begin{equation}\\tag{16b}\n",
    "    i = \\frac{1}{L}\\,\\int u\\,\\mathrm{d}t = \\frac{1}{L}\\,\\int_0^t u\\,\\mathrm{d}t + I_0\n",
    "\\end{equation}    "
   ]
  },
  {
   "cell_type": "markdown",
   "id": "0388f4e2",
   "metadata": {},
   "source": [
    "where,\n",
    "\\begin{equation}\\tag{16c}\n",
    "    I_0 = i(0) = \\frac{\\phi_\\mathrm{t}(0)}{L}\n",
    "\\end{equation}    "
   ]
  },
  {
   "cell_type": "markdown",
   "id": "5b60ff89",
   "metadata": {},
   "source": [
    "is the current at time $t_0=0$, the coil's initial condition."
   ]
  },
  {
   "cell_type": "markdown",
   "id": "0512b400",
   "metadata": {},
   "source": [
    "The **principle of conservation of flux** implies that the **current through a coil is always\n",
    "continuous**, may not change abruptly, even though the voltage may be discontinuous."
   ]
  },
  {
   "cell_type": "markdown",
   "id": "965b2d43",
   "metadata": {},
   "source": [
    "In particular, the current may not change abruptly at the inception of transient state, at\n",
    "$t=t_0=0$. If $t=0_-$ is an instant of time just before $t=0$ , then  \n",
    "\n",
    "\\begin{equation}\\tag{16d}\n",
    "    I_0 = i(0_-)\n",
    "\\end{equation}    "
   ]
  },
  {
   "cell_type": "markdown",
   "id": "6c11716e",
   "metadata": {},
   "source": [
    "which means that a coil's initial condition is designated by its current just before inception of the\n",
    "transient state.  \n",
    "\n",
    "The coil is the energy storage element. The energy stored in the magnetic field between $t=-\\infty$\n",
    "and arbitrary time $t < \\infty$ is  \n",
    "\n",
    "\\begin{equation}\\tag{17}\n",
    "    w = \\int_{-\\infty}^t iu\\,\\mathrm{d}t = L\\,\\int_{-\\infty}^t i\\,\\mathrm{d}i\n",
    "\\end{equation}    "
   ]
  },
  {
   "cell_type": "markdown",
   "id": "d74039fb",
   "metadata": {},
   "source": [
    "Via equation (17) and the assumption that $i(-\\infty)=0$,  \n",
    "\n",
    "\\begin{equation}\\tag{17a}\n",
    "    w = L\\,\\frac{i^2}{2} = 0.5\\phi_\\mathrm{t}i = 0.5z\\phi i = 0.5 f\\phi\n",
    "\\end{equation}    "
   ]
  },
  {
   "cell_type": "markdown",
   "id": "9cd15bca",
   "metadata": {},
   "source": [
    "It should be observed, that energy stored at time $t$ is always nonnegative and it is designated\n",
    "by the coil constant $L$ and instantaneous value of current $i$, the way of reaching this value is\n",
    "meaningless. Energy stored at the steady state condition is:  \n",
    "\n",
    "\\begin{equation}\\tag{17b}\n",
    "    W = \\frac{LI_\\infty^2}{2} = \\text{const}\n",
    "\\end{equation}    \n",
    "    "
   ]
  },
  {
   "cell_type": "markdown",
   "id": "c7ebaa0f",
   "metadata": {},
   "source": [
    "Transforming both sides of equation (16b) gives:  \n",
    "\n",
    "\\begin{equation}\\tag{18a}\n",
    "    I(s) = \\frac{1}{sL}\\,U(s) + \\frac{I_0}{s}\n",
    "\\end{equation}    "
   ]
  },
  {
   "cell_type": "markdown",
   "id": "c8405cb8",
   "metadata": {},
   "source": [
    "and, doing to the same to equation (16) gives:  \n",
    "\n",
    "\\begin{equation}\\tag{18b}\n",
    "    U(s) = sLI(s) - LI_0\n",
    "\\end{equation}    "
   ]
  },
  {
   "cell_type": "markdown",
   "id": "22b568dc",
   "metadata": {},
   "source": [
    "Below are the $s$-domain equivalent circuits for an inductor (coil).  \n",
    "\n",
    "![Fig-3.1.10](Figures/Fig-3.1.10.png)"
   ]
  },
  {
   "cell_type": "markdown",
   "id": "bfb7b4d5",
   "metadata": {},
   "source": [
    "## Passive Elements – Summary\n",
    "The three passive elements: resistor, capacitor and coil, are characterized by three circuit\n",
    "constants: resistance $R$, capacitance $C$ and inductance $L$, and described by four circuit\n",
    "variables: voltage, current, charge and total flux. Graph depicted in Fig. 3.1.11 presents\n",
    "relationships between these variables. As should be observed, only total flux and charge are\n",
    "not related.  \n",
    "\n",
    "![Fig-3.1.11](Figures/Fig-3.1.11.png)"
   ]
  },
  {
   "cell_type": "markdown",
   "id": "69f689be",
   "metadata": {},
   "source": [
    "It has been assumed that all elements are ideal. Practical capacitor and coil are discussed in\n",
    "Chapter 4, their circuit models built of ideal elements are presented."
   ]
  },
  {
   "cell_type": "markdown",
   "id": "cc84c6e7",
   "metadata": {},
   "source": [
    "### Coil and Capacitor Boundary Behavior\n",
    "Taking into account $i-u$ relationships of energy storage elements and flux or charge\n",
    "conservation principle, their boundary behavior can be analyzed.\n",
    "\n",
    "* At the initial time, $t=t_0=0$, the capacitor voltage is equal to the initial condition\n",
    "    (3.1.8c), the coil current is equal to the initial condition (3.1.16c), what results from the\n",
    "    charge or flux preservation principle. Then, at this instant of time, capacitor may be\n",
    "    replaced by the dc voltage source $U_0$, coil may be replaced by the dc current source $I_0$\n",
    "    and the dc analysis can be performed, to find all other circuit variables.\n",
    "* At the steady state, at $t=0_-$ or$t=\\infty$ , all circuit variables are constant, including coil\n",
    "    currents and capacitor voltages. Then, the coil voltage is zero and it can be replaced by the\n",
    "    short circuit, the capacitor current is zero and it can be replaced by the open circuit.  \n",
    "    \n",
    "![Table-3.1.1](Figures/Table-3.1.1.png)"
   ]
  },
  {
   "cell_type": "markdown",
   "id": "f2c49e49",
   "metadata": {},
   "source": [
    "Coil and capacitor models at boundary conditions are presented in Table 3.1.1.\n",
    "Knowledge of the circuit order and the response boundary values allow to predict the general\n",
    "form of the response. In the $1^\\mathrm{st}$ order circuit this knowledge, together with knowledge of the\n",
    "time constant, allows to give the exact solution. This approach is discussed in the next section\n",
    "of this Chapter.  \n",
    "\n",
    "All three $s$-domain element equations, (3.1.6), (3.1.10) and (3.1.18), contain a term that relates\n",
    "the voltage $U(s)$ and the current $I(s)$ . Energy storage element equations also contain a term\n",
    "designated by the element initial condition. The factor of proportionality between the voltage\n",
    "and the current in the first term is the element impedance $Z(s)$ . **Impedance** is defined as the\n",
    "ratio of $U(s)$ to$I(s)$ when initial condition $X_0=0$, where $X_0$ is either $U_0$ or $I_0$ (which ever one applies).  \n",
    "\n",
    "\\begin{equation}\\tag{19a}\n",
    "    Z(s) = \\frac{U(s)}{I(s)}_{\\big\\vert X_0=0}\n",
    "\\end{equation}    "
   ]
  },
  {
   "cell_type": "markdown",
   "id": "be354253",
   "metadata": {},
   "source": [
    "For example, in the case of equation (18b), which describes the $u-i$ relationship of the coil (inductor) in the $s$-domain, assuming $X_0=I_0=0$,  \n",
    "\n",
    "$$ U(s) = sLI(s)$$\n",
    "\n",
    "Thus,\n",
    "$$Z(s) = sL = \\frac{U(s)}{I(s)}$$"
   ]
  },
  {
   "cell_type": "markdown",
   "id": "853b4831",
   "metadata": {},
   "source": [
    "The reciprocal of the impedance is called the **admittance** $Y(s)$.  \n",
    "\n",
    "\\begin{equation}\\tag{19b}\n",
    "    Y(s) = \\frac{I(s)}{U(s)}_{\\big\\vert X_0=0}\n",
    "\\end{equation}    "
   ]
  },
  {
   "cell_type": "markdown",
   "id": "ac69cf14",
   "metadata": {},
   "source": [
    "For example, in the case of equation (10a), which describes the $i-u$ relationship of the capacitor in the $s$-domain, assuming $X_0=U_0=0$,  \n",
    "\n",
    "$$ I(s) = sCU(s)$$\n",
    "\n",
    "Thus,\n",
    "$$ Y(s) = sC = \\frac{I(s)}{U(s)}$$"
   ]
  },
  {
   "cell_type": "markdown",
   "id": "5dad9c54",
   "metadata": {},
   "source": [
    "Impedances and admittances of the three elements are presented in Table 3.1.2"
   ]
  },
  {
   "cell_type": "markdown",
   "id": "6a08d675",
   "metadata": {},
   "source": [
    "![Table-3.1.2](Figures/Table-3.1.2.png)"
   ]
  },
  {
   "cell_type": "markdown",
   "id": "4b5f9d80",
   "metadata": {},
   "source": [
    "A resistor equivalent consists only of the impedance $Z(s)=R$. The energy storage element equivalent\n",
    "consists of a pure impedance connected in series with an initial condition designated voltage\n",
    "source or a pure admittance connected in parallel with an initial condition designated current\n",
    "source.  \n",
    "\n",
    "For zero initial conditions and the introduced term of impedance/admittance, an element\n",
    "equations in the $s$-domain can be presented in the generalized form  "
   ]
  },
  {
   "cell_type": "markdown",
   "id": "07f4e32b",
   "metadata": {},
   "source": [
    "\\begin{equation}\\tag{20}\n",
    "    U(s) = Z(s)I(s) \\quad \\quad \\text{and} \\quad \\quad I(s)=Y(s)U(s)\n",
    "\\end{equation}    "
   ]
  },
  {
   "cell_type": "markdown",
   "id": "1784c52a",
   "metadata": {},
   "source": [
    "Also known as Ohm's Law in the $s$-domain."
   ]
  },
  {
   "cell_type": "markdown",
   "id": "fe532b7b",
   "metadata": {},
   "source": [
    "## Drill Problems\n",
    "#### Problem 1\n",
    "1. Find equivalent capacitance of two capacitors connected in series (parallel)."
   ]
  },
  {
   "cell_type": "markdown",
   "id": "eb297014",
   "metadata": {},
   "source": [
    "Via KVL,  \n",
    "\n",
    "\\begin{equation}\\tag{1.1}\n",
    "    u = u_1 + u_2\n",
    "\\end{equation}    "
   ]
  },
  {
   "cell_type": "markdown",
   "id": "e499c7c0",
   "metadata": {},
   "source": [
    "Via equation (8a),  \n",
    "\n",
    "\\begin{equation}\\tag{1.2}\n",
    "    i = C_1\\frac{\\mathrm{d}u_1}{\\mathrm{d}t} \\quad \\quad \\text{and}\\quad\\quad i = C_2\\frac{\\mathrm{d}u_2}{\\mathrm{d}t}\n",
    "\\end{equation}    "
   ]
  },
  {
   "cell_type": "markdown",
   "id": "88b131d6",
   "metadata": {},
   "source": [
    "Via equations (1.2) and equivalence principle,  \n",
    "\n",
    "$$ C_1\\mathrm{d}u_1 = C_2\\mathrm{d}u_2$$"
   ]
  },
  {
   "cell_type": "markdown",
   "id": "cf9a6d0e",
   "metadata": {},
   "source": [
    "Thus,\n",
    "$$ C_1u_1 = C_2u_2 + C_2K$$"
   ]
  },
  {
   "cell_type": "markdown",
   "id": "fd2bd8fd",
   "metadata": {},
   "source": [
    "\\begin{equation}\\tag{1.3}\n",
    "    u_1 = \\frac{C_2}{C_1}\\,u_2 + \\frac{C_2}{C_1}\\,K\n",
    "\\end{equation}    "
   ]
  },
  {
   "cell_type": "markdown",
   "id": "7ed5e6d1",
   "metadata": {},
   "source": [
    "Via equations (1.1) and (1.3) and substitution,  \n",
    "\n",
    "\\begin{align*}\\tag{1.4}\n",
    "    u &= u_2\\left(\\frac{C_2}{C_1}+1 \\right) + \\frac{C_2}{C_1}\\,K  \\\\ \\\\\n",
    "     &= u_2\\frac{C_2+C_1}{C_1} +  \\frac{C_2}{C_1}\\,K \n",
    "\\end{align*}     "
   ]
  },
  {
   "cell_type": "markdown",
   "id": "9a530732",
   "metadata": {},
   "source": [
    "Integrating throughout equations (1.2) with respect to time gives:  \n",
    "\n",
    "\\begin{equation}\\tag{1.5}\n",
    "    \\text{a: }\\;u_1 = \\frac{1}{C_1}\\,\\int i\\,\\mathrm{d}t = \\frac{1}{C_1}\\,\\int_0^t i\\,\\mathrm{d}t + u_1(0) \\quad \\quad \\text{and} \\quad \\quad \\text{b: }\\;u_2 = \\frac{1}{C_2}\\,\\int_0^t i\\,\\mathrm{d}t + u_2(0)\n",
    "\\end{equation}    "
   ]
  },
  {
   "cell_type": "markdown",
   "id": "d4ce93f7",
   "metadata": {},
   "source": [
    "Via equation (1.5b),  \n",
    "\n",
    "\\begin{equation}\\tag{1.12}\n",
    "    \\int_0^t i\\,\\mathrm{d}t = C_2\\big(u_2 - u_2(0)\\big)\n",
    "\\end{equation}    "
   ]
  },
  {
   "cell_type": "markdown",
   "id": "b2f06631",
   "metadata": {},
   "source": [
    "And, via equations (1.12) and (1.5a),  \n",
    "\n",
    "\\begin{equation}\\tag{1.13}\n",
    "    u_1 = \\frac{C_2}{C_1}\\,\\big(u_2 - u_2(0) \\big) + u_1(0)\n",
    "\\end{equation}    "
   ]
  },
  {
   "cell_type": "markdown",
   "id": "9aee5a64",
   "metadata": {},
   "source": [
    "Via equations (1.13) and (1.1),  \n",
    "\n",
    "\\begin{align*}\\tag{1.14}\n",
    "    u &= u_2\\left(\\frac{C_2}{C_1} + 1 \\right) - \\frac{C_2}{C_1}\\,u_2(0) + u_1(0) \\\\ \\\\\n",
    "     &= u_2\\,\\frac{C_1+C_2}{C_1} - \\frac{C_2}{C_1}\\,u_2(0) + u_1(0)\n",
    "\\end{align*}     "
   ]
  },
  {
   "cell_type": "markdown",
   "id": "78dbdfd0",
   "metadata": {},
   "source": [
    "Via equations (1.14) and (1.5b),  \n",
    "\n",
    "\\begin{equation}\\tag{1.15}\n",
    "    u = \\frac{C_1+C_2}{C_1C_2}\\,\\int_0^ti\\,\\mathrm{d}t+ u_2(0) + u_1(0)\n",
    "\\end{equation}    "
   ]
  },
  {
   "cell_type": "markdown",
   "id": "f0d7d9d6",
   "metadata": {},
   "source": [
    "where the equivalent capacitance, denoted as '$C$', is:  \n",
    "\n",
    "\\begin{equation}\\tag{1.15a}\n",
    "    C = \\frac{C_1C_2}{C_1+C_2}\n",
    "\\end{equation}    \n",
    "\n",
    "and the initial condition, denoted as '$U_0$', is:  \n",
    "\n",
    "\\begin{equation}\\tag{1.15b}\n",
    "    U_0 = u(0) = u_1(0)+u_2(0)\n",
    "\\end{equation}    "
   ]
  },
  {
   "cell_type": "markdown",
   "id": "fcc3da6b",
   "metadata": {},
   "source": [
    "As a side note, via equations (1.13) and (1.3),  \n",
    "\n",
    "$$ u_1(0) - \\frac{C_2}{C_1}\\,u_2(0) = \\frac{C_2}{C_1}\\,K $$"
   ]
  },
  {
   "cell_type": "markdown",
   "id": "b45657d4",
   "metadata": {},
   "source": [
    "$$ K = \\frac{C_1}{C_2}\\,u_1(0) - u_2(0)$$"
   ]
  },
  {
   "cell_type": "markdown",
   "id": "a9440f76",
   "metadata": {},
   "source": [
    "Via equations (1.4) and (1.5),  \n",
    "\n",
    "$$ u = \\frac{C_1+C_2}{C_1C_2}\\,\\int_0^t i\\,\\mathrm{d}t  + u_2(0)\\,\\frac{C_1+C_2}{C_1} + \\frac{C_2}{C_1}\\,K$$"
   ]
  },
  {
   "cell_type": "markdown",
   "id": "7421b15b",
   "metadata": {},
   "source": [
    "Thus,  \n",
    "\n",
    "\\begin{equation}\\tag{1.6}\n",
    "    u = \\frac{1}{C}\\int_0^ti\\,\\mathrm{d}t + \\frac{u_2(0)(C_1+C_2)+C_2K}{C_1}\n",
    "\\end{equation}    "
   ]
  },
  {
   "cell_type": "markdown",
   "id": "aa4c9b9c",
   "metadata": {},
   "source": [
    "where the equivalent capacitance, denoted as '$C$', is:  \n",
    "\n",
    "\\begin{equation}\\tag{1.6a}\n",
    "    C = \\frac{C_1C_2}{C_1+C_2}\n",
    "\\end{equation}    "
   ]
  },
  {
   "cell_type": "markdown",
   "id": "98bba444",
   "metadata": {},
   "source": [
    "Now, for the **parallel** configuration:  Via KCL,  \n",
    "\n",
    "\\begin{equation}\\tag{1.7}\n",
    "    i = i_1 + i_2\n",
    "\\end{equation}    "
   ]
  },
  {
   "cell_type": "markdown",
   "id": "d0c104e4",
   "metadata": {},
   "source": [
    "And, via KVL and equation (8b),  \n",
    "\n",
    "$$ \\frac{1}{C_1}\\int i_1\\,\\mathrm{d}t = \\frac{1}{C_2}\\int i_2\\,\\mathrm{d}t$$\n",
    "\n",
    "$$ \\frac{i_1}{C_1} = \\frac{i_2}{C_2}$$"
   ]
  },
  {
   "cell_type": "markdown",
   "id": "7fc5909b",
   "metadata": {},
   "source": [
    "\\begin{equation}\\tag{1.8}\n",
    "    i_1 = \\frac{C_1}{C_2}\\,i_2\n",
    "\\end{equation}    "
   ]
  },
  {
   "cell_type": "markdown",
   "id": "a914445f",
   "metadata": {},
   "source": [
    "Via equations (1.8) and (1.7),  \n",
    "\n",
    "\\begin{align*}\\tag{1.9}\n",
    "    i &= i_2\\left(\\frac{C_1}{C_2} + 1 \\right) \\\\ \\\\\n",
    "     &= i_2\\,\\frac{C_1+C_2}{C_2}\n",
    "\\end{align*}     "
   ]
  },
  {
   "cell_type": "markdown",
   "id": "d02631b3",
   "metadata": {},
   "source": [
    "Via KVL and equation (8b),  \n",
    "\n",
    "$$ u = u_2 = \\frac{1}{C_2}\\,\\int i_2\\,\\mathrm{d}t$$"
   ]
  },
  {
   "cell_type": "markdown",
   "id": "140a75ac",
   "metadata": {},
   "source": [
    "Differentiating throughout the above equation with respect to time gives:  \n",
    "\n",
    "$$ \\frac{\\mathrm{d}u}{\\mathrm{d}t} = \\frac{i_2}{C_2}$$"
   ]
  },
  {
   "cell_type": "markdown",
   "id": "e9031ca9",
   "metadata": {},
   "source": [
    "\\begin{equation}\\tag{1.10}\n",
    "    i_2 = C_2\\,\\frac{\\mathrm{d}u}{\\mathrm{d}t}\n",
    "\\end{equation}    "
   ]
  },
  {
   "cell_type": "markdown",
   "id": "50876b22",
   "metadata": {},
   "source": [
    "Via equations (1.10) and (1.9),  \n",
    "\n",
    "\\begin{equation}\\tag{1.11}\n",
    "    i = (C_1+C_2)\\,\\frac{\\mathrm{d}u}{\\mathrm{d}t}\n",
    "\\end{equation}    "
   ]
  },
  {
   "cell_type": "markdown",
   "id": "81e10466",
   "metadata": {},
   "source": [
    "#### Problem 2\n",
    "2. Write down (with reasoning) the dc voltage divider equations for two capacitors\n",
    "    connected in series."
   ]
  },
  {
   "cell_type": "markdown",
   "id": "dd730a1b",
   "metadata": {},
   "source": [
    "Assuming $u_2=u_\\mathrm{L}$ is the output signal and $E=u=u_1+u_2$ is the input signal, via equation (1.14) and substitution,  \n",
    "\n",
    "\\begin{equation}\\tag{2.1}\n",
    "    E = u_\\mathrm{L}\\,\\frac{C_1+C_2}{C_1} - \\frac{C_2}{C_1}\\,u_2(0) + u_1(0)\n",
    "\\end{equation}    "
   ]
  },
  {
   "cell_type": "markdown",
   "id": "59f7c066",
   "metadata": {},
   "source": [
    "Thus,\n",
    "$$ u_\\mathrm{L} \\,\\frac{C_1+C_2}{C_1} = E - u_1(0) + \\frac{C_2}{C_1}\\,u_2(0)$$"
   ]
  },
  {
   "cell_type": "markdown",
   "id": "a56ea84d",
   "metadata": {},
   "source": [
    "$$ u_\\mathrm{L} = \\frac{C_1}{C_1+C_2}\\,\\big(E - u_1(0) \\big) + \\frac{C_2}{C_1+C_2}\\,u_2(0)$$"
   ]
  },
  {
   "cell_type": "markdown",
   "id": "a617a284",
   "metadata": {},
   "source": [
    "\\begin{equation}\\tag{2.2}\n",
    "    u_\\mathrm{L} = \\frac{C_1\\big(E- u_1(0) \\big) + C_2u_2(0)}{C_1+C_2}\n",
    "\\end{equation}    "
   ]
  },
  {
   "cell_type": "markdown",
   "id": "936c1f34",
   "metadata": {},
   "source": [
    "Since $E$ is a DC voltage source, it is always at steady-state, thus $E=E_0$.  And, via equation (1.15b), $E_0=u_1(0) + u_2(0)$, which means that,  \n",
    "\n",
    "\\begin{equation}\\tag{2.3}\n",
    "    u_\\mathrm{L} = \\frac{C_1u_2(0) + C_2u_2(0)}{C_1+C_2} = u_2(0)\n",
    "\\end{equation}    "
   ]
  },
  {
   "cell_type": "markdown",
   "id": "fcb80db9",
   "metadata": {},
   "source": [
    "Equation (2.3) implies that $u_\\mathrm{L}$ is always at steady-state and is equal to the initial condition of $u_2(0)$.  Finally, via equations (2.3) and (8c),  \n",
    "\n",
    "\\begin{equation}\\tag{2.4}\n",
    "    u_\\mathrm{L} = \\frac{q_2(0)}{C_2}\n",
    "\\end{equation}    "
   ]
  },
  {
   "cell_type": "markdown",
   "id": "358cb80b",
   "metadata": {},
   "source": [
    "#### Problem 3\n",
    "3. Find equivalent inductance of two coils connected in series (parallel)."
   ]
  },
  {
   "cell_type": "markdown",
   "id": "e69163c1",
   "metadata": {},
   "source": [
    "Via KVL and equation (16a), which is the equation that describes the $u-i$ relationship of a coil (inductor),  \n",
    "\n",
    "$$ u = \\frac{\\mathrm{d}i}{\\mathrm{d}t}\\,(L_1 + L_2) =  L\\frac{\\mathrm{d}i}{\\mathrm{d}t}$$"
   ]
  },
  {
   "cell_type": "markdown",
   "id": "5f23f657",
   "metadata": {},
   "source": [
    "Thus, the equivalent inductance, denoted as '$L$', is given by:  \n",
    "\n",
    "\\begin{equation}\\tag{3.1}\n",
    "    L = L_1+L_2\n",
    "\\end{equation}    "
   ]
  },
  {
   "cell_type": "markdown",
   "id": "dfb8bbda",
   "metadata": {},
   "source": [
    "As for the **parallel** configuration:  Via KCL,  \n",
    "\n",
    "\\begin{equation}\\tag{3.2}\n",
    "    i = i_1 + i_2\n",
    "\\end{equation}    "
   ]
  },
  {
   "cell_type": "markdown",
   "id": "7aa2cb30",
   "metadata": {},
   "source": [
    "Via KVL,    \n",
    "\n",
    "\\begin{equation}\\tag{3.3}\n",
    "    \\text{a: }\\;u=u_1\\quad \\quad \\text{b: }\\;u=u_2\\quad\\quad\\text{c: }\\;u_1=u_2\n",
    "\\end{equation}    "
   ]
  },
  {
   "cell_type": "markdown",
   "id": "b9338eec",
   "metadata": {},
   "source": [
    "Via integrating throughout equation (16a) in conjunction with equation (3.3a) and substitution,  \n",
    "\n",
    "\\begin{equation}\\tag{3.4a}\n",
    "    i_1 = \\frac{1}{L_1}\\,\\int u\\,\\mathrm{d}t = \\frac{1}{L_1}\\,\\int_0^t u\\,\\mathrm{d}t + i_1(0)\n",
    "\\end{equation}    "
   ]
  },
  {
   "cell_type": "markdown",
   "id": "a7165e75",
   "metadata": {},
   "source": [
    "Thus, after skipping a few steps,  \n",
    "\n",
    "$$ L_1\\big(i_1-i_1(0)\\big) = L_2\\big(i_2-i_2(0) \\big)$$"
   ]
  },
  {
   "cell_type": "markdown",
   "id": "2ad6c07b",
   "metadata": {},
   "source": [
    "\\begin{equation}\\tag{3.5}\n",
    "    i_1 = \\frac{L_2}{L_1}\\,\\big(i_2-i_2(0)\\big) + i_1(0)\n",
    "\\end{equation}    "
   ]
  },
  {
   "cell_type": "markdown",
   "id": "db3672d7",
   "metadata": {},
   "source": [
    "Via equations (3.5) and (3.2),  \n",
    "\n",
    "\\begin{align*}\\tag{3.6}\n",
    "    i &= i_2\\,\\left( \\frac{L_2}{L_1} + 1\\right)- \\frac{L_2}{L_1}\\,i_2(0) + i_1(0) \\\\ \\\\\n",
    "    i &= i_2\\,\\frac{L_2+L_1}{L_1} - \\frac{L_2}{L_1}\\,i_2(0) + i_1(0) \n",
    "\\end{align*}    "
   ]
  },
  {
   "cell_type": "markdown",
   "id": "e56a2526",
   "metadata": {},
   "source": [
    "Via integrating throughout equation (16a) in conjunction with equations (3.3b)and (3.6) and substitution,  \n",
    "\n",
    "$$ i = \\frac{L_2+L_1}{L_1L_2}\\,\\int_0^t u\\,\\mathrm{d}t + \\frac{L_1+L_2}{L_1}\\,i_2(0) - \\frac{L_2}{L_1}\\,i_2(0) + i_1(0)$$"
   ]
  },
  {
   "cell_type": "markdown",
   "id": "487e9497",
   "metadata": {},
   "source": [
    "\\begin{align*}\\tag{3.7}\n",
    "    i &= \\frac{L_2+L_1}{L_1L_2}\\,\\int_0^t u\\,\\mathrm{d}t + i_1(0)+i_2(0) \\\\ \\\\\n",
    "    i &= \\frac{1}{L}\\,\\int_0^t u\\,\\mathrm{d}t + I_0\n",
    "\\end{align*}    "
   ]
  },
  {
   "cell_type": "markdown",
   "id": "8721a2fa",
   "metadata": {},
   "source": [
    "#### Problem 4\n",
    "4. Write down (with reasoning) the dc current divider equations for two inductors connected\n",
    "    in parallel"
   ]
  },
  {
   "cell_type": "markdown",
   "id": "ff14eab2",
   "metadata": {},
   "source": [
    "Recall that, in this scenario, the equivalent inductance ($L$) and initial condition ($I_0$) are given by:  \n",
    "\n",
    "\\begin{equation}\\tag{4.1}\n",
    "    \\text{a: }\\; L = \\frac{L_1L_2}{L_1+L_2} \\quad \\quad \\text{and}\\quad\\quad\\text{b: }\\; I_0 = i(0) = i_1(0) + i_2(0)\n",
    "\\end{equation}    "
   ]
  },
  {
   "cell_type": "markdown",
   "id": "a675e841",
   "metadata": {},
   "source": [
    "And, the $i-u$ relationship is given by:  \n",
    "\n",
    "\\begin{equation}\\tag{4.1}\n",
    "    i = \\frac{1}{L}\\,\\int_0^t u\\,\\mathrm{d}t + I_0\n",
    "\\end{equation}    "
   ]
  },
  {
   "cell_type": "markdown",
   "id": "408018cf",
   "metadata": {},
   "source": [
    "Assuming $J = i = i_1 + i_2$ is the input signal and $i_2=i_\\mathrm{L}$ is the output signal, via equations (4.1) and (3.3b) and substitution,  \n",
    "\n",
    "$$ i = \\frac{1}{L}\\,\\int_0^t u_2\\,\\mathrm{d}t + I_0$$"
   ]
  },
  {
   "cell_type": "markdown",
   "id": "6f3f0ab0",
   "metadata": {},
   "source": [
    "\\begin{equation}\\tag{4.2}\n",
    "    \\int_0^t u_2\\,\\mathrm{d}t = L(i- I_0)\n",
    "\\end{equation}    "
   ]
  },
  {
   "cell_type": "markdown",
   "id": "ce4db6dd",
   "metadata": {},
   "source": [
    "Via integrating throughout equation (16a) with respect to time,  \n",
    "\n",
    "$$ i_2 = \\frac{1}{L_2}\\,\\int_0^t u_2\\,\\mathrm{d}t + i_2(0)$$"
   ]
  },
  {
   "cell_type": "markdown",
   "id": "b55a5e79",
   "metadata": {},
   "source": [
    "\\begin{equation}\\tag{4.3}\n",
    "    \\int_0^t u_2\\,\\mathrm{d}t = L_2\\big(i_2-i_2(0)\\big)\n",
    "\\end{equation}    "
   ]
  },
  {
   "cell_type": "markdown",
   "id": "184f8c4b",
   "metadata": {},
   "source": [
    "Finally, via equations (4.3) and (4.2) and equivalence principle,  \n",
    "\n",
    "\\begin{equation}\\tag{4.4}\n",
    "    i_2=i_\\mathrm{L} = \\frac{L}{L_2}\\,(i-I_0) + i_2(0)\n",
    "\\end{equation}    "
   ]
  },
  {
   "cell_type": "markdown",
   "id": "220c377a",
   "metadata": {},
   "source": [
    "#### Problem 5\n",
    "5. A coil of $z=200$ turns of wire is wound on a steel core having a mean length of $l=0.1 \\mathrm{m}$ and a\n",
    "    cross section of $S=4 \\cdot10^{-4} \\mathrm{m}^2$. The relative permeability at the rated current of the coil is $\\mu_\\mathrm{r}=1000$. Determine the inductance $L$ of the coil."
   ]
  },
  {
   "cell_type": "markdown",
   "id": "82ce43dc",
   "metadata": {},
   "source": [
    "Recall that:  \n",
    "\n",
    "\\begin{equation}\\tag{14}\n",
    "    L = \\frac{z^2\\mu_\\mathrm{r}\\mu_0 S}{l}\n",
    "\\end{equation}    "
   ]
  },
  {
   "cell_type": "code",
   "execution_count": 5,
   "id": "bea210b9",
   "metadata": {},
   "outputs": [],
   "source": [
    "import numpy as np"
   ]
  },
  {
   "cell_type": "code",
   "execution_count": 6,
   "id": "5ff958d9",
   "metadata": {},
   "outputs": [
    {
     "data": {
      "text/plain": [
       "0.20106192982974674"
      ]
     },
     "execution_count": 6,
     "metadata": {},
     "output_type": "execute_result"
    }
   ],
   "source": [
    "z = 200; l = 0.1; S = 4e-4; mu_r = 1000\n",
    "mu_0 = np.pi*4e-7\n",
    "L = z**2*mu_r*mu_0*S/l\n",
    "L"
   ]
  },
  {
   "cell_type": "markdown",
   "id": "e69b9c97",
   "metadata": {},
   "source": [
    "Thus,\n",
    "\\begin{equation}\\tag{5.1}\n",
    "    L \\approxeq 201.06\\mathrm{mH}\n",
    "\\end{equation}    "
   ]
  },
  {
   "cell_type": "markdown",
   "id": "0c85564c",
   "metadata": {},
   "source": [
    "#### Problem 6\n",
    "6. Constant current of $I = 5 \\mathrm{mA}$ produces flux of $\\varPhi=2.5\\cdot 10^{-4}\\, \\mathrm{Wb}$ in a coil of $z=200$ turns. What energy is stored in this coil?"
   ]
  },
  {
   "cell_type": "markdown",
   "id": "ce207a0a",
   "metadata": {},
   "source": [
    "Via equation (17b), the energy stored in the coil, denoted as '$W$', is given by:  \n",
    "\n",
    "\\begin{equation}\\tag{6.1}\n",
    "    W = \\frac{LI^2}{2}\n",
    "\\end{equation}    "
   ]
  },
  {
   "cell_type": "markdown",
   "id": "51e85b2a",
   "metadata": {},
   "source": [
    "Via magnetic KVL and magnetic Ohm's Law,  \n",
    "\n",
    "$$ F = Iz = 1\\mathrm{At} = U_\\mathrm{m} = R_\\mathrm{m}\\varPhi $$"
   ]
  },
  {
   "cell_type": "markdown",
   "id": "93efd6eb",
   "metadata": {},
   "source": [
    "\\begin{equation}\\tag{6.2}\n",
    "    R_\\mathrm{m} = \\frac{Iz}{\\varPhi} = \\frac{1\\mathrm{At}}{2.5\\cdot10^{-4}\\,\\mathrm{Wb}} = \n",
    "\\end{equation}    "
   ]
  },
  {
   "cell_type": "code",
   "execution_count": 7,
   "id": "f84fc11c",
   "metadata": {},
   "outputs": [
    {
     "data": {
      "text/plain": [
       "4166.666666666667"
      ]
     },
     "execution_count": 7,
     "metadata": {},
     "output_type": "execute_result"
    }
   ],
   "source": [
    "1/2.4e-4"
   ]
  },
  {
   "cell_type": "markdown",
   "id": "c160e274",
   "metadata": {},
   "source": [
    "Via equations (12) and (13) and equivalence principle,  \n",
    "\n",
    "\\begin{equation}\\tag{6.3}\n",
    "    L = \\frac{z^2}{R_\\mathrm{m}} = \\frac{z\\varPhi}{I}\n",
    "\\end{equation}    "
   ]
  },
  {
   "cell_type": "markdown",
   "id": "721ac479",
   "metadata": {},
   "source": [
    "Via equations (6.3) and (6.1),  \n",
    "\n",
    "\\begin{equation}\\tag{6.4}\n",
    "    W = \\frac{z\\varPhi I}{2} = 0.125\\mathrm{mJ}\n",
    "\\end{equation}    "
   ]
  },
  {
   "cell_type": "code",
   "execution_count": 8,
   "id": "6d69eb5e",
   "metadata": {},
   "outputs": [
    {
     "data": {
      "text/plain": [
       "0.000125"
      ]
     },
     "execution_count": 8,
     "metadata": {},
     "output_type": "execute_result"
    }
   ],
   "source": [
    "200*(2.5e-4)*(5e-3)/2"
   ]
  },
  {
   "cell_type": "markdown",
   "id": "db5aac78",
   "metadata": {},
   "source": [
    "#### Problem 7\n",
    "7. Constant current of $I=5 \\mathrm{mA}$ charges a $C=1\\mu\\mathrm{F}$ capacitor for $t=10\\mathrm{s}$ (seconds). What energy is stored\n",
    "    after this period of time (energy initially stored is zero)?"
   ]
  },
  {
   "cell_type": "markdown",
   "id": "b42ba982",
   "metadata": {},
   "source": [
    "The initial condition is $U_0=0$ which implies that $q(0)=0$.  The charge at time $t=10\\mathrm{s}$ is given by:  \n",
    "\n",
    "\\begin{equation}\\tag{7.1}\n",
    "    q(t) = q(10\\mathrm{s}) = I \\cdot t = 50\\mathrm{mC}\n",
    "\\end{equation}    "
   ]
  },
  {
   "cell_type": "markdown",
   "id": "ba85c3c8",
   "metadata": {},
   "source": [
    "Recall that:  \n",
    "\n",
    "$$ u(t)C = q(t)$$\n",
    "\n",
    "\\begin{equation}\\tag{7.2}\n",
    "    u(t) =u(10\\mathrm{s}) = \\frac{q(10\\mathrm{s})}{C} = 50\\mathrm{mC} \\cdot 10^6\\,\\mathrm{F}^{-1}\n",
    "\\end{equation}    "
   ]
  },
  {
   "cell_type": "markdown",
   "id": "4e173055",
   "metadata": {},
   "source": [
    "The energy stored is thus,  \n",
    "\n",
    "\\begin{equation}\\tag{7.3}\n",
    "    w(t) = w(10\\mathrm{s}) = q(t)u(t) = 2500\\mu\\mathrm{C}^2 \\cdot 10^{6}\\,\\mathrm{F}^{-1} = 2500\\mathrm{C}^2\\,\\mathrm{F}^{-1} = 2500\\mathrm{J}\n",
    "\\end{equation}    "
   ]
  },
  {
   "cell_type": "markdown",
   "id": "4858018d",
   "metadata": {},
   "source": [
    "For **a different** method:  Via equation (9a),  \n",
    "\n",
    "\\begin{equation}\\tag{7.4}\n",
    "    w(t) = \\frac{Cu^2(t)}{2} = \\frac{q^2(t)}{2C} = 1250\\mathrm{J}\n",
    "\\end{equation}    "
   ]
  },
  {
   "cell_type": "markdown",
   "id": "6a9c0ef6",
   "metadata": {},
   "source": [
    "The second method is the correct one.  The first commits the misconception that the work done to move every unit of charge stored in the capacitor at time $t=10\\mathrm{s}$, which is equal to $q(t)=q(10\\mathrm{s})$, across the terminals of the capacitor, which is given by $u(t)q(t)$, is the same as the energy stored in the capactior at time $t=10\\mathrm{s}$."
   ]
  },
  {
   "cell_type": "markdown",
   "id": "4346b236",
   "metadata": {},
   "source": [
    "#### Problem 8\n",
    "8. A coil of $z=200$ turns is wrapped on a sheet-steel core ($B-H$ curve - Fig. 2.9.2) having a\n",
    "    cross section of $S=2 \\mathrm{cm}^2$ and a mean length of $l= 20 \\mathrm{cm}$. If a flux of $\\varPhi=2.5\\cdot10^{-4}\\,\\mathrm{Wb}$ is developed in the core, what current $I$ must flow in the coil ?"
   ]
  },
  {
   "cell_type": "markdown",
   "id": "418fa4d5",
   "metadata": {},
   "source": [
    "Recall that $U_\\mathrm{m} = Hl$.  Via magnetic KVL,  \n",
    "\n",
    "\\begin{equation}\\tag{8.1}\n",
    "    F = zI = Hl\n",
    "\\end{equation}    "
   ]
  },
  {
   "cell_type": "markdown",
   "id": "9fee44e2",
   "metadata": {},
   "source": [
    "Also, recall that: \n",
    "\n",
    "\\begin{equation}\\tag{8.2}\n",
    "    B=\\frac{\\varPhi}{S} = \\frac{2.5\\cdot10^{-4}\\,\\mathrm{Wb}}{2\\cdot 10^{-4}\\,\\mathrm{m}^2} = \\frac{2.5\\mathrm{Wb}}{2\\mathrm{m}^2} = 1.25\\mathrm{T}\n",
    "\\end{equation}    "
   ]
  },
  {
   "cell_type": "markdown",
   "id": "b502bd32",
   "metadata": {},
   "source": [
    "Note that $ 1.1\\mathrm{T}<B<1.4\\mathrm{T}$.  To find the function $f(H)$ that relates $H$ to $B$ in the range that $B$ actually falls in we need to solve for $b$.  \n",
    "\n",
    "$$ B = f(H) = \\frac{0.3\\mathrm{T}\\cdot\\mathrm{m}}{750\\mathrm{At}}\\,H + b$$"
   ]
  },
  {
   "cell_type": "markdown",
   "id": "0519eae2",
   "metadata": {},
   "source": [
    "$$ f(250[\\mathrm{At}/\\mathrm{m}]) = 1.1\\mathrm{T} = 0.1\\mathrm{T} + b$$"
   ]
  },
  {
   "cell_type": "markdown",
   "id": "2fe0a03c",
   "metadata": {},
   "source": [
    "$$ b = 1\\mathrm{T}$$"
   ]
  },
  {
   "cell_type": "markdown",
   "id": "632513d8",
   "metadata": {},
   "source": [
    "Thus,\n",
    "\\begin{equation}\\tag{8.3}\n",
    "    B = f(H) = \\frac{0.1\\mathrm{T}\\cdot\\mathrm{m}}{250\\mathrm{At}}\\,H + 1\\mathrm{T}\n",
    "\\end{equation}    "
   ]
  },
  {
   "cell_type": "markdown",
   "id": "a2d7fd0f",
   "metadata": {},
   "source": [
    "Via equations (8.2) and (8.3),  \n",
    "\n",
    "$$ \\frac{0.1\\mathrm{T}\\cdot\\mathrm{m}}{250\\mathrm{At}} \\, H = 0.25\\mathrm{T}$$"
   ]
  },
  {
   "cell_type": "markdown",
   "id": "2ba61162",
   "metadata": {},
   "source": [
    "\\begin{equation}\\tag{8.4}\n",
    "    H = 625\\,\\frac{\\mathrm{At}}{\\mathrm{m}}\n",
    "\\end{equation}    "
   ]
  },
  {
   "cell_type": "code",
   "execution_count": 10,
   "id": "baa2cae2",
   "metadata": {},
   "outputs": [
    {
     "data": {
      "text/plain": [
       "625.0"
      ]
     },
     "execution_count": 10,
     "metadata": {},
     "output_type": "execute_result"
    }
   ],
   "source": [
    "0.25*250/0.1"
   ]
  },
  {
   "cell_type": "markdown",
   "id": "66e87fc4",
   "metadata": {},
   "source": [
    "Via equations (8.4) and (8.1),  \n",
    "\n",
    "\\begin{equation}\\tag{8.5}\n",
    "    I = \\frac{Hl}{z} = 625\\mathrm{mA}\n",
    "\\end{equation}   "
   ]
  },
  {
   "cell_type": "code",
   "execution_count": 11,
   "id": "ed11d1f7",
   "metadata": {},
   "outputs": [
    {
     "data": {
      "text/plain": [
       "0.625"
      ]
     },
     "execution_count": 11,
     "metadata": {},
     "output_type": "execute_result"
    }
   ],
   "source": [
    "625*0.2/200"
   ]
  },
  {
   "cell_type": "markdown",
   "id": "206f5ea3",
   "metadata": {},
   "source": [
    "#### Problem 9\n",
    "9. A cast iron-core ($B-H$ curve - Fig. 2.9.2) has a cross section of $S=0.5 \\mathrm{cm}^2$ and a mean\n",
    "    length of $l=10 \\mathrm{cm}$. If a coil placed on the core develops a mmf of $F=100 \\mathrm{At}$, determine the flux $\\varPhi$ produced in the core. Find cast iron permeabilities and inductances for $z=104$ turns ($I=10 \\mathrm{mA}$)."
   ]
  },
  {
   "cell_type": "markdown",
   "id": "e52f64a2",
   "metadata": {},
   "source": [
    "Via magnetic KVL and Ohm's Law,  \n",
    "\n",
    "\\begin{equation}\\tag{9.1a}\n",
    "    F = Iz = U_{\\mathrm{m}1} = Hl\n",
    "\\end{equation}    "
   ]
  },
  {
   "cell_type": "markdown",
   "id": "7fbddab9",
   "metadata": {},
   "source": [
    "and,\n",
    "\\begin{equation}\\tag{9.1b}\n",
    "    F = U_{\\mathrm{m}2} = R_{\\mathrm{m}2}\\varPhi \\quad \\text{where }R_{\\mathrm{m}2} = \\frac{l}{\\mu_\\mathrm{r}\\mu_0 S}\n",
    "\\end{equation}    "
   ]
  },
  {
   "cell_type": "markdown",
   "id": "b2bb387b",
   "metadata": {},
   "source": [
    "Here, '$U_{\\mathrm{m}1}$' and '$U_{\\mathrm{m}2}$' denote the magnetic voltage dropped across the core magnetic element (nonlinear element) and the diamagnetic element (linear element) respectively.  Of course, via equations (9.1) and equivalence principle,  \n",
    "\n",
    "\\begin{equation}\\tag{9.1c}\n",
    "    H = \\frac{\\varPhi}{\\mu_\\mathrm{r}\\mu_0S}\n",
    "\\end{equation}    "
   ]
  },
  {
   "cell_type": "markdown",
   "id": "e3ab9c0c",
   "metadata": {},
   "source": [
    "Via equation (9.1a) and values given in the problem,  \n",
    "\n",
    "\\begin{equation}\\tag{9.2}\n",
    "    H = \\frac{F}{l} = \\frac{100\\mathrm{At}}{10\\mathrm{cm}} = 1000 \\frac{\\mathrm{At}}{\\mathrm{m}}\n",
    "\\end{equation}    "
   ]
  },
  {
   "cell_type": "markdown",
   "id": "f1ebfb05",
   "metadata": {},
   "source": [
    "Since $H < 3000 [\\mathrm{At}/\\mathrm{m}]$, we need to find the function that gives the first segment of the $B-H$ curve for a cast iron core.  \n",
    "\n",
    "\\begin{equation}\\tag{9.3}\n",
    "    B =\\frac{\\varPhi}{S}= f(H) = \\frac{0.6\\mathrm{T}\\cdot\\mathrm{m}}{3000\\mathrm{At}}\\,H = \\frac{1\\mathrm{T}\\cdot\\mathrm{m}}{5000\\mathrm{At}}\\,H\n",
    "\\end{equation}    "
   ]
  },
  {
   "cell_type": "markdown",
   "id": "7db90cdd",
   "metadata": {},
   "source": [
    "Thus,\n",
    "\\begin{equation}\\tag{9.4}\n",
    "    \\varPhi = 10^{-8}\\,\\mathrm{Wb}\n",
    "\\end{equation}    "
   ]
  },
  {
   "cell_type": "code",
   "execution_count": 16,
   "id": "61d8af8a",
   "metadata": {},
   "outputs": [
    {
     "data": {
      "text/plain": [
       "1e-08"
      ]
     },
     "execution_count": 16,
     "metadata": {},
     "output_type": "execute_result"
    }
   ],
   "source": [
    "(0.5e-4)/5000"
   ]
  },
  {
   "cell_type": "markdown",
   "id": "1e418097",
   "metadata": {},
   "source": [
    "Via equations (9.1c) and (9.4),  \n",
    "\n",
    "\\begin{equation}\\tag{9.5}\n",
    "    \\mu_\\mathrm{r} = \\frac{\\varPhi}{H\\mu_0 S} \\approxeq 1.592\n",
    "\\end{equation}    "
   ]
  },
  {
   "cell_type": "code",
   "execution_count": 20,
   "id": "ef8a817b",
   "metadata": {},
   "outputs": [
    {
     "data": {
      "text/plain": [
       "0.15915494309189535"
      ]
     },
     "execution_count": 20,
     "metadata": {},
     "output_type": "execute_result"
    }
   ],
   "source": [
    "mu_r = (1e-8)/(1000*(0.5e-4)*np.pi*4e-7)\n",
    "mu_r"
   ]
  },
  {
   "cell_type": "markdown",
   "id": "dc79f224",
   "metadata": {},
   "source": [
    "Finally,\n",
    "\\begin{equation}\\tag{9.6}\n",
    "    L = \\frac{z^2\\mu_\\mathrm{r}\\mu_0 S}{l} \\approxeq 1.082\\cdot10^{-6}\\,\\mathrm{H}\n",
    "\\end{equation}    "
   ]
  },
  {
   "cell_type": "code",
   "execution_count": 21,
   "id": "ee27d159",
   "metadata": {},
   "outputs": [
    {
     "data": {
      "text/plain": [
       "1.0816e-06"
      ]
     },
     "execution_count": 21,
     "metadata": {},
     "output_type": "execute_result"
    }
   ],
   "source": [
    "z = 104; l = 0.1; S = 0.5e-4\n",
    "L = z**2*mu_r*mu_0*S/l\n",
    "L"
   ]
  },
  {
   "cell_type": "markdown",
   "id": "8f389f2c",
   "metadata": {},
   "source": [
    "That's a *very* low inductance.  Let's try a different method beginning where we left off at equation (9.4)."
   ]
  },
  {
   "cell_type": "markdown",
   "id": "f55db090",
   "metadata": {},
   "source": [
    "Recall that the flux linkage $\\varPhi_\\mathrm{t}$ (a.k.a. total flux) is given by:  \n",
    "\n",
    "\\begin{equation}\\tag{11}\n",
    "    \\varPhi_\\mathrm{t} = z\\varPhi = 1.04\\cdot10^{-6}\\,\\mathrm{Wb}\n",
    "\\end{equation}    "
   ]
  },
  {
   "cell_type": "markdown",
   "id": "7e65acbb",
   "metadata": {},
   "source": [
    "Assuming $z=104$,  \n",
    "\n",
    "$$ I = \\frac{F}{z} \\approxeq 961.54\\mathrm{mA}$$"
   ]
  },
  {
   "cell_type": "code",
   "execution_count": 24,
   "id": "aae3bb6e",
   "metadata": {},
   "outputs": [
    {
     "data": {
      "text/plain": [
       "0.9615384615384616"
      ]
     },
     "execution_count": 24,
     "metadata": {},
     "output_type": "execute_result"
    }
   ],
   "source": [
    "I = 100/104\n",
    "I"
   ]
  },
  {
   "cell_type": "markdown",
   "id": "2298eba5",
   "metadata": {},
   "source": [
    "Via equation (13),  \n",
    "\n",
    "\\begin{equation}\\tag{9.7}\n",
    "    L = \\frac{\\varPhi_\\mathrm{t}}{I} \\approxeq 1.082\\cdot10^{-6}\\,\\mathrm{H}\n",
    "\\end{equation}    "
   ]
  },
  {
   "cell_type": "code",
   "execution_count": 25,
   "id": "b048bc8f",
   "metadata": {},
   "outputs": [
    {
     "data": {
      "text/plain": [
       "1.0816e-06"
      ]
     },
     "execution_count": 25,
     "metadata": {},
     "output_type": "execute_result"
    }
   ],
   "source": [
    "(1.04e-6)/I"
   ]
  },
  {
   "cell_type": "markdown",
   "id": "b5a69154",
   "metadata": {},
   "source": [
    "Assuming a **current of** $I=10\\mathrm{mA}$,  \n",
    "\n",
    "\\begin{equation}\\tag{9.8}\n",
    "    z = \\frac{F}{I} = \\frac{10^{2}}{10^{-2}} = 10^4\n",
    "\\end{equation}    "
   ]
  },
  {
   "cell_type": "markdown",
   "id": "28fe5e17",
   "metadata": {},
   "source": [
    "Via equations (9.8) and (11),  \n",
    "\n",
    "\\begin{equation}\\tag{9.9}\n",
    "    \\varPhi_\\mathrm{t} = z\\varPhi = 10^{-4}\\,\\mathrm{Wb}\n",
    "\\end{equation}    "
   ]
  },
  {
   "cell_type": "markdown",
   "id": "d9a5d357",
   "metadata": {},
   "source": [
    "Finally, via equation (13),  \n",
    "\n",
    "\\begin{equation}\\tag{9.10}\n",
    "    L = \\frac{\\varPhi_\\mathrm{t}}{I} = 10^{-2}\\,\\mathrm{H}\n",
    "\\end{equation}    "
   ]
  },
  {
   "cell_type": "markdown",
   "id": "4c1746dd",
   "metadata": {},
   "source": [
    "#### Problem 10\n",
    "10. What constant current $I$ is required to charge a $2\\mu\\mathrm{F}$ capacitor from $0\\mathrm{V}$ to $5 \\mathrm{V}$ in $2 \\mathrm{ms}$?"
   ]
  },
  {
   "cell_type": "markdown",
   "id": "cbb14c71",
   "metadata": {},
   "source": [
    "$$ u = u(t) = \\frac{1}{C}\\,\\int i \\, \\mathrm{d}t = \\frac{1}{C}\\,(It + b)$$"
   ]
  },
  {
   "cell_type": "markdown",
   "id": "9336712b",
   "metadata": {},
   "source": [
    "$$ u(0\\mathrm{s}) = 0\\mathrm{V} = b$$"
   ]
  },
  {
   "cell_type": "markdown",
   "id": "89a66764",
   "metadata": {},
   "source": [
    "$$ u = \\frac{1}{C}\\,It$$"
   ]
  },
  {
   "cell_type": "markdown",
   "id": "9532dd6d",
   "metadata": {},
   "source": [
    "$$ u(2\\mathrm{ms}) = 5\\mathrm{V} = \\frac{1}{C}\\,I\\,2\\mathrm{ms} = 10^3\\Omega\\,I$$"
   ]
  },
  {
   "cell_type": "markdown",
   "id": "f7495caa",
   "metadata": {},
   "source": [
    "FInally,  \n",
    "\n",
    "$$ I = 5\\cdot10^{-3}\\,\\mathrm{A} = 5\\mathrm{mA}$$"
   ]
  },
  {
   "cell_type": "markdown",
   "id": "bce60c5f",
   "metadata": {},
   "source": [
    "#### Problem 11\n",
    "11. A constant current of $I=10 \\mathrm{mA}$ is charging a $2\\mu\\mathrm{F}$ capacitor. If the capacitor initial voltage is zero, find the charge, voltage and energy stored after $10 \\mathrm{ms}$."
   ]
  },
  {
   "cell_type": "markdown",
   "id": "5f7c4db3",
   "metadata": {},
   "source": [
    "$$ U_0 = u(0)= \\frac{q(0)}{C} = 0$$"
   ]
  },
  {
   "cell_type": "markdown",
   "id": "8efb2dc7",
   "metadata": {},
   "source": [
    "Thus,\n",
    "$$ q(0) = 0$$"
   ]
  },
  {
   "cell_type": "markdown",
   "id": "8edbd27a",
   "metadata": {},
   "source": [
    "Recall that:  \n",
    "\n",
    "$$ u = \\frac{1}{C}\\,\\int i \\,\\mathrm{d}t = \\frac{1}{C}\\,(10\\mathrm{mA}\\,t) + U_0 = 5\\cdot10^3\\,[\\mathrm{V}/\\mathrm{s}]\\,t$$"
   ]
  },
  {
   "cell_type": "markdown",
   "id": "b5511f78",
   "metadata": {},
   "source": [
    "$$ u(10\\mathrm{ms}) = 50\\mathrm{V}$$"
   ]
  },
  {
   "cell_type": "markdown",
   "id": "766cef3f",
   "metadata": {},
   "source": [
    "$$ q(10\\mathrm{ms}) = Cu(10\\mathrm{ms}) = 100\\mu\\mathrm{C}$$"
   ]
  },
  {
   "cell_type": "code",
   "execution_count": 27,
   "id": "493905e4",
   "metadata": {},
   "outputs": [
    {
     "data": {
      "text/plain": [
       "0.0025"
      ]
     },
     "execution_count": 27,
     "metadata": {},
     "output_type": "execute_result"
    }
   ],
   "source": [
    "C= 2e-6; u = 50\n",
    "w = (C*u**2)/2\n",
    "w"
   ]
  }
 ],
 "metadata": {
  "kernelspec": {
   "display_name": "Python 3",
   "language": "python",
   "name": "python3"
  },
  "language_info": {
   "codemirror_mode": {
    "name": "ipython",
    "version": 3
   },
   "file_extension": ".py",
   "mimetype": "text/x-python",
   "name": "python",
   "nbconvert_exporter": "python",
   "pygments_lexer": "ipython3",
   "version": "3.8.10"
  }
 },
 "nbformat": 4,
 "nbformat_minor": 5
}
