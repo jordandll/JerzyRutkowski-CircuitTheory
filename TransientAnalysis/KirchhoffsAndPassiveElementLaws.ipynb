{
 "cells": [
  {
   "cell_type": "markdown",
   "id": "a8aef2c8",
   "metadata": {},
   "source": [
    "# Kirchhoff’s Laws and Passive Element Laws\n",
    "### Chapter 3.1 -- *Transient Analysis*\n",
    "\n",
    "## Kirchhoff’s Laws\n",
    "Kirchhoff’s laws, discussed in Chapter 2.2 for constant values of currents and voltages, can be\n",
    "generalized into time-varying values."
   ]
  },
  {
   "cell_type": "markdown",
   "id": "efb3f4e2",
   "metadata": {},
   "source": [
    "#### Kirchhoff’s Current Law\n",
    "At any instant of time, the algebraic sum of currents entering or leaving arbitrary node or\n",
    "cutset equals zero:  \n",
    "\n",
    "\\begin{equation}\\tag{1}\n",
    "    \\sum_{\\cdot j} i = 0\n",
    "\\end{equation}    "
   ]
  },
  {
   "cell_type": "markdown",
   "id": "2ea72cac",
   "metadata": {},
   "source": [
    "where '$\\sum_{\\cdot j}$' denotes algebraic sum of instantaneous currents entering or leaving the $j$-th node by the convention:  \n",
    "\n",
    "* $+$ , if current arrowhead is directed to the node (cutset),\n",
    "* $-$, if current arrowhead is directed from the node (cutset). "
   ]
  },
  {
   "cell_type": "markdown",
   "id": "c67a2cc3",
   "metadata": {},
   "source": [
    "Note that '$i$' denotes the instantaneous current as a function of time ('$t$')."
   ]
  },
  {
   "cell_type": "markdown",
   "id": "d0d61a0f",
   "metadata": {},
   "source": [
    "Via the linearity property of the Laplace transform, KCL in the $s$-domain is:  \n",
    "\n",
    "\\begin{equation}\\tag{1a}\n",
    "    \\sum_{\\cdot j}I(s) = 0\n",
    "\\end{equation}    "
   ]
  },
  {
   "cell_type": "markdown",
   "id": "439e5e71",
   "metadata": {},
   "source": [
    "#### Kirchhoff’s Voltage Law\n",
    "At any instant of time, the algebraic sum of voltages around arbitrary loop or closed path\n",
    "equals zero,  \n",
    "\n",
    "\\begin{equation}\\tag{2}\n",
    "    \\sum_{\\mathrm{O}j} u = 0\n",
    "\\end{equation}    "
   ]
  },
  {
   "cell_type": "markdown",
   "id": "1ba2d5b0",
   "metadata": {},
   "source": [
    "where, '$\\sum_{\\mathrm{O}j}$' denotes the algebraic sum of voltages around the $j$-th loop (closed path), by the\n",
    "convention:\n",
    "* $+$ , if, voltage arrowhead has clockwise direction,\n",
    "* $-$ , if voltage arrowhead has anticlockwise direction."
   ]
  },
  {
   "cell_type": "markdown",
   "id": "c7c0c7a3",
   "metadata": {},
   "source": [
    "Via the linearirty rule of the Laplace transform, KVL in the $s$-domain is:  \n",
    "\n",
    "\\begin{equation}\\tag{2a}\n",
    "    \\sum_{\\mathrm{O}j} U(s) = 0\n",
    "\\end{equation}    "
   ]
  },
  {
   "cell_type": "markdown",
   "id": "1935b4df",
   "metadata": {},
   "source": [
    "## Passive Element Laws\n",
    "Ideal passive circuit elements are considered. These elements can be divided into two classes:\n",
    "* Energy dissipating elements: resistors.\n",
    "* Energy storage elements: capacitors and coils."
   ]
  },
  {
   "cell_type": "markdown",
   "id": "7be5624a",
   "metadata": {},
   "source": [
    "### Resistor\n",
    "A linear resistor presented in Fig. 3.1.1 is characterized by Ohm’s law (3.1.3):  \n",
    "\n",
    "\\begin{equation}\\tag{3}\n",
    "    u=Ri \\quad \\quad \\text{and} \\quad \\quad i=Gu\n",
    "\\end{equation}    "
   ]
  },
  {
   "cell_type": "markdown",
   "id": "e5971c7f",
   "metadata": {},
   "source": [
    "![Fig-3.1.1](Figures/Fig-3.1.1.png)"
   ]
  },
  {
   "cell_type": "markdown",
   "id": "a13f4aa4",
   "metadata": {},
   "source": [
    "A resistor is uniquely characterized by its resistance $R$, in ohms $[\\Omega]=[\\mathrm{V}/\\mathrm{A}]$, or conductance $G$,\n",
    "in siemens $[\\mathrm{S}]=[\\mathrm{A}/\\mathrm{V}]$. Resistance (conductance) is a circuit constant, constant of\n",
    "proportionality relating the current and the voltage."
   ]
  },
  {
   "cell_type": "markdown",
   "id": "1f541a62",
   "metadata": {},
   "source": [
    "![Fig-3.1.2](Figures/Fig-3.1.2.png)"
   ]
  },
  {
   "cell_type": "markdown",
   "id": "82764fc0",
   "metadata": {},
   "source": [
    "Via figure (3.1.2) and Ohm's Law,    \n",
    "\n",
    "$$ u = Ri$$\n",
    "\n",
    "and,\n",
    "$$\\begin{matrix}\n",
    "i :=i(t) = t\\,\\left[\\frac{\\mathrm{A}}{\\mathrm{s}}\\right] \\quad \\text{if }\\; 0_+ \\le t < 2\\mathrm{s}&\\hspace{1.5in} i &= 2\\mathrm{A} \\quad \\text{if }\\;2\\mathrm{s}\\le t < 4\\mathrm{s} \\\\\n",
    "i = -2t \\left[\\frac{\\mathrm{A}}{\\mathrm{s}}\\right] + 10\\mathrm{A} \\quad \\text{if }\\;4\\mathrm{s}\\le t < 6\\mathrm{s} &\\hspace{1.5in} i &= 2t\\left[\\frac{\\mathrm{A}}{\\mathrm{s}}\\right] - 14\\mathrm{A} \\quad \\text{if }\\;6\\mathrm{s}\\le t < 7\\mathrm{s}\n",
    "\\end{matrix}$$"
   ]
  },
  {
   "cell_type": "markdown",
   "id": "d0a8540b",
   "metadata": {},
   "source": [
    "The resistor's instantaneous power as a function of time is:  \n",
    "\n",
    "\\begin{equation}\\tag{4}\n",
    "    p = Ri^2 = Gu^2 \\ge 0\n",
    "\\end{equation}    "
   ]
  },
  {
   "cell_type": "markdown",
   "id": "98515608",
   "metadata": {},
   "source": [
    "Then, energy dissipated between the initial time $t_0=0$ and arbitrary time $t<\\infty$ is always\n",
    "nonnegative:  \n",
    "\n",
    "\\begin{equation}\\tag{5}\n",
    "    w(t) = R\\int_0^t i^2\\mathrm{d}t = G\\int_0^t u^2\\mathrm{d}t\n",
    "\\end{equation}   "
   ]
  },
  {
   "cell_type": "markdown",
   "id": "2f225fec",
   "metadata": {},
   "source": [
    "\\begin{equation}\\tag{5a}\n",
    "    W_\\infty =w(\\infty) = R\\int_0^\\infty i^2\\mathrm{d}t\n",
    "\\end{equation}    "
   ]
  },
  {
   "cell_type": "markdown",
   "id": "c0dabdfe",
   "metadata": {},
   "source": [
    "Fig. 3.1.2 presents exemplary plots of $u$, $i$ and $p$ in $1\\Omega$ resistor - the total energy dissipated is\n",
    "equal to the hatched area,$W_\\infty = 38/3 \\mathrm{J}$.  Proof:  \n",
    "\n",
    "$$ W_\\infty = w(7) = 1\\Omega\\left(\\int_0^{2\\mathrm{s}}t^2\\left[\\frac{\\mathrm{A}}{\\mathrm{s}}\\right]^2\\mathrm{d}t + \\int_{2\\mathrm{s}}^{4\\mathrm{s}}4\\mathrm{A}^2\\mathrm{d}t + \\int_{4\\mathrm{s}}^{6\\mathrm{s}}\\left(10\\mathrm{A} - 2t\\,\\left[\\frac{\\mathrm{A}}{\\mathrm{s}}\\right] \\right)^2 \\mathrm{d}t + \\int_{6\\mathrm{s}}^{7\\mathrm{s}}\\left(2t\\left[\\frac{\\mathrm{A}}{\\mathrm{s}}\\right]-14\\mathrm{A} \\right)^2\\mathrm{d}t\\right)$$"
   ]
  },
  {
   "cell_type": "markdown",
   "id": "a67d1141",
   "metadata": {},
   "source": [
    "Let's evaluate identity of $W_\\infty$ in the above equation term by term.  For the first term, the primitive integral is:   \n",
    "\n",
    "$$ \\int t^2\\,\\left[\\frac{\\mathrm{A}}{\\mathrm{s}}\\right]^2\\mathrm{d}t = \\frac{t^3}{3}\\,\\left[\\frac{\\mathrm{A}}{\\mathrm{s}}\\right] + K$$"
   ]
  },
  {
   "cell_type": "markdown",
   "id": "4b2d9a8f",
   "metadata": {},
   "source": [
    "thus,\n",
    "$$ \\int_0^{2\\mathrm{s}} t^2\\left[\\frac{\\mathrm{A}}{\\mathrm{s}}\\right]^2\\mathrm{d}t = \\frac{8\\mathrm{s}^3}{3}\\,\\left[\\frac{\\mathrm{A}}{\\mathrm{s}}\\right]^2 = \\frac{8}{3}\\,\\big[\\mathrm{s}\\cdot \\mathrm{A}^2\\big]$$"
   ]
  },
  {
   "cell_type": "markdown",
   "id": "eca880e3",
   "metadata": {},
   "source": [
    "For the second term:  \n",
    "\n",
    "$$ \\int 4\\mathrm{A}^2\\mathrm{d}t = 4\\mathrm{A}^2 t + K$$"
   ]
  },
  {
   "cell_type": "markdown",
   "id": "249cbe85",
   "metadata": {},
   "source": [
    "$$ \\int_{2\\mathrm{s}}^{4\\mathrm{s}}4\\mathrm{A}^2\\mathrm{d}t = 16\\big[\\mathrm{s}\\cdot\\mathrm{A}^2\\big] - 8\\big[\\mathrm{s}\\cdot\\mathrm{A}^2 \\big] = 8\\big[\\mathrm{s}\\cdot\\mathrm{A}^2 \\big]$$"
   ]
  },
  {
   "cell_type": "markdown",
   "id": "6296868b",
   "metadata": {},
   "source": [
    "For the third term:  \n",
    "\n",
    "\\begin{align*}\n",
    "    \\int\\left(10\\mathrm{A} - 2t\\,\\left[\\frac{\\mathrm{A}}{\\mathrm{s}}\\right]\\right)^2\\mathrm{d}t &= \\int \\left(4t^2\\,\\left[\\frac{\\mathrm{A}}{\\mathrm{s}}\\right]^2 - 40t\\,\\left[\\frac{\\mathrm{A}^2}{\\mathrm{s}}\\right] + 100\\mathrm{A}^2\\right)\\mathrm{d}t \\\\ \\\\\n",
    "     &= \\frac{4t^3}{3}\\,\\left[\\frac{\\mathrm{A}}{\\mathrm{s}}\\right]^2 - 20t^2\\,\\left[\\frac{\\mathrm{A}^2}{\\mathrm{s}}\\right] + 100t\\mathrm{A}^2 + K\n",
    "\\end{align*}     "
   ]
  },
  {
   "cell_type": "markdown",
   "id": "b033d368",
   "metadata": {},
   "source": [
    "$$ \\int_{4\\mathrm{s}}^{6\\mathrm{s}}\\left (10\\mathrm{A} - 2t\\left[\\frac{\\mathrm{A}}{\\mathrm{s}} \\right]\\right)^2\\mathrm{d}t = \\left( 2 + \\frac{2}{3}\\right)\\big[\\mathrm{s}\\cdot\\mathrm{A}^2\\big] = \\frac{8}{3}\\big[\\mathrm{s}\\cdot\\mathrm{A}^2\\big]$$"
   ]
  },
  {
   "cell_type": "code",
   "execution_count": 8,
   "id": "abf5787d",
   "metadata": {},
   "outputs": [],
   "source": [
    "f = lambda t: (4*t**3)/3 - 20*t**2 + 100*t"
   ]
  },
  {
   "cell_type": "code",
   "execution_count": 9,
   "id": "13e16fc6",
   "metadata": {},
   "outputs": [
    {
     "data": {
      "text/plain": [
       "2.6666666666666856"
      ]
     },
     "execution_count": 9,
     "metadata": {},
     "output_type": "execute_result"
    }
   ],
   "source": [
    "f(6)-f(4)"
   ]
  },
  {
   "cell_type": "markdown",
   "id": "c0b69f05",
   "metadata": {},
   "source": [
    "Another way:  \n",
    "\n",
    "$$ \\int_{4\\mathrm{s}}^{6\\mathrm{s}}\\left(10\\mathrm{A}-2t\\left[\\frac{\\mathrm{A}}{\\mathrm{s}} \\right]\\right)^2\\mathrm{d}t = 4\\int_{4\\mathrm{s}}^{6\\mathrm{s}}\\left(5\\mathrm{A} - t\\left[\\frac{\\mathrm{A}}{\\mathrm{s}} \\right]\\right)^2\\mathrm{d}t = 4\\int_0^{2\\mathrm{s}}\\left(1\\mathrm{A} - t\\left[\\frac{\\mathrm{A}}{\\mathrm{s}} \\right] \\right)^2\\mathrm{d}t$$"
   ]
  },
  {
   "cell_type": "markdown",
   "id": "893bd127",
   "metadata": {},
   "source": [
    "$$ 4\\int\\left(1\\mathrm{A}  - t\\left[\\frac{\\mathrm{A}}{\\mathrm{s}} \\right]\\right)^2\\mathrm{d}t = -\\frac{4}{3}\\left[\\frac{\\mathrm{s}}{\\mathrm{A}} \\right]\\left( 1\\mathrm{A} - t\\left[\\frac{\\mathrm{A}}{\\mathrm{s}} \\right]\\right)^3$$"
   ]
  },
  {
   "cell_type": "code",
   "execution_count": 10,
   "id": "e4e0b798",
   "metadata": {},
   "outputs": [],
   "source": [
    "g = lambda t: -(4/3)*(1-t)**3"
   ]
  },
  {
   "cell_type": "code",
   "execution_count": 11,
   "id": "0f12e7c4",
   "metadata": {},
   "outputs": [
    {
     "data": {
      "text/plain": [
       "2.6666666666666665"
      ]
     },
     "execution_count": 11,
     "metadata": {},
     "output_type": "execute_result"
    }
   ],
   "source": [
    "g(2) - g(0)"
   ]
  },
  {
   "cell_type": "markdown",
   "id": "0f93cac4",
   "metadata": {},
   "source": [
    "For the fourth term:  \n",
    "\n",
    "$$ \\int_{6\\mathrm{s}}^{7\\mathrm{s}} \\left(2t\\left[\\frac{\\mathrm{A}}{\\mathrm{s}} \\right] - 14\\mathrm{A} \\right)^2\\mathrm{d}t = 0.5 \\int_{4\\mathrm{s}}^{6\\mathrm{s}}\\left(10\\mathrm{A} -  2t\\left[\\frac{\\mathrm{A}}{\\mathrm{s}} \\right] \\right)\\mathrm{d}t = \\frac{4}{3}\\big[\\mathrm{s}\\cdot\\mathrm{A}^2\\big]$$"
   ]
  },
  {
   "cell_type": "markdown",
   "id": "1810c98d",
   "metadata": {},
   "source": [
    "Finally,\n",
    "$$ W_\\infty = \\left(\\frac{16}{3} + 8 + \\frac{4}{3}\\right)\\big[\\mathrm{s}\\cdot\\mathrm{A}\\big] = \\frac{16 + 24 + 4}{3}\\big[\\mathrm{s}\\cdot\\mathrm{A}\\big] = $$"
   ]
  },
  {
   "cell_type": "markdown",
   "id": "dd257ff6",
   "metadata": {},
   "source": [
    "### Capacitor\n",
    "A capacitor is an element that consists of two conducting bodies (plates) that are separated by\n",
    "a dielectric. A linear capacitor presented in Fig. 3.1.4 is characterized by relationship\n",
    "(3.1.7):  \n",
    "\n",
    "![Fig-3.1.4](Figures/Fig-3.1.4.png)"
   ]
  },
  {
   "cell_type": "markdown",
   "id": "21dd79ee",
   "metadata": {},
   "source": [
    "\\begin{equation}\\tag{7}\n",
    "    q = Cu\n",
    "\\end{equation}    "
   ]
  },
  {
   "cell_type": "markdown",
   "id": "ec443be5",
   "metadata": {},
   "source": [
    "A capacitor is uniquely characterized by its **capacitance**, denoted as '$C$', in **farads** $[\\mathrm{F}]=[\\mathrm{C}/\\mathrm{V}]=[\\mathrm{A}\\cdot \\mathrm{s}/\\mathrm{V}]$  (i.e. one farad is equal to one Coloumb (unit of charge) divided by one volt).  Capacitance is a circuit constant, constant of proportionality relating the charge and the voltage."
   ]
  },
  {
   "cell_type": "markdown",
   "id": "2bac6404",
   "metadata": {},
   "source": [
    "Differentiating throughout equation (7) with respect to time gives the $i-u$ relationship of a capacitor.  \n",
    "\n",
    "\\begin{equation}\\tag{8a}\n",
    "    q' = \\frac{\\mathrm{d}q}{\\mathrm{d}t} = i = Cu' = C\\,\\frac{\\mathrm{d}u}{\\mathrm{d}t}\n",
    "\\end{equation}    "
   ]
  },
  {
   "cell_type": "markdown",
   "id": "dc725a39",
   "metadata": {},
   "source": [
    "The voltage in terms of the current can be found by integrating throughout equation (8a) between\n",
    "times $t_0 = 0$ and $t$.  \n",
    "\n",
    "\\begin{equation}\\tag{8b}\n",
    "    u = \\frac{1}{C}\\,\\int i\\,\\mathrm{d}t = \\frac{1}{C}\\,\\int_0^t i \\,\\mathrm{d}t + U_0\n",
    "\\end{equation}    "
   ]
  },
  {
   "cell_type": "markdown",
   "id": "9d9b0d06",
   "metadata": {},
   "source": [
    "where,\n",
    "\\begin{equation}\\tag{8c}\n",
    "    U_0 := u(0) = \\frac{q(0)}{C}\n",
    "\\end{equation}    "
   ]
  },
  {
   "cell_type": "markdown",
   "id": "1d3b45db",
   "metadata": {},
   "source": [
    "is the voltage on the capacitor at time $t_0=0$, i.e. the initial condition.  The integral term in equation (8b) represents the voltage that accumulates on the capacitor in the interval from $t_0=0$ to $t$,\n",
    "whereas $U_0$ is that, which accumulates from $t=-\\infty$ to $t_0$ . The voltage $u(-\\infty)$ is taken to be\n",
    "zero."
   ]
  },
  {
   "cell_type": "markdown",
   "id": "9ba7b791",
   "metadata": {},
   "source": [
    "The **principle of conservation of charge** implies that the **voltage on a capacitor is always\n",
    "continuous**, may not change abruptly, even though the current may be discontinuous."
   ]
  },
  {
   "cell_type": "markdown",
   "id": "833183b5",
   "metadata": {},
   "source": [
    "In particular, the voltage on a capacitor may not change abruptly at the inception of transient\n",
    "state, i.e. at $t_0=0$ . If $t=0_-$ is an instant of time just before $t=0$ , then  \n",
    "\n",
    "\\begin{equation}\\tag{8d}\n",
    "    U_0 = u(0_-)\n",
    "\\end{equation}    "
   ]
  },
  {
   "cell_type": "markdown",
   "id": "0b280d63",
   "metadata": {},
   "source": [
    "which means that a capacitor's initial condition is designated by its voltage just before inception\n",
    "of the transient state."
   ]
  },
  {
   "cell_type": "markdown",
   "id": "d686e7a9",
   "metadata": {},
   "source": [
    "The capacitor is the energy storage element. The energy stored in the electric field between $t=-\\infty$\n",
    "and arbitrary time $t<\\infty$ is  \n",
    "\n",
    "\\begin{equation}\\tag{9}\n",
    "    w = \\int_{-\\infty}^t p\\,\\mathrm{d}t = \\int_{-\\infty}^t iu \\,\\mathrm{d}t\n",
    "\\end{equation}    "
   ]
  },
  {
   "cell_type": "markdown",
   "id": "0380becc",
   "metadata": {},
   "source": [
    "Substituting $i$ in equation (9) with it's identity in equation (8a) gives:  \n",
    "\n",
    "\\begin{equation}\\tag{9}\n",
    "    w = C\\int_{-\\infty}^t u\\,\\mathrm{d}u\n",
    "\\end{equation}    "
   ]
  },
  {
   "cell_type": "markdown",
   "id": "d7b90f87",
   "metadata": {},
   "source": [
    "$$ f(t):=\\int u\\,\\mathrm{d}t = \\frac{u^2}{2} + K$$"
   ]
  },
  {
   "cell_type": "markdown",
   "id": "545345d7",
   "metadata": {},
   "source": [
    "\\begin{equation}\\tag{9a}\n",
    "    w = C(f(t) - f(-\\infty)) = C\\,\\frac{u^2}{2}\n",
    "\\end{equation}    "
   ]
  },
  {
   "cell_type": "markdown",
   "id": "f0350454",
   "metadata": {},
   "source": [
    "### Coil (Inductor)\n",
    "A coil or inductor is an element that consists of a coiled conducting wire around a core. A\n",
    "coil with toroidal core is presented in Fig. 3.1.7, together with its electric analog.  \n",
    "\n",
    "![Fig-3.1.7](Figures/Fig-3.1.7.png)"
   ]
  },
  {
   "cell_type": "markdown",
   "id": "43d74e08",
   "metadata": {},
   "source": [
    "A current flowing through the coil produces a magnetic flux\n",
    "$\\phi$. The total flux linked by the $z$\n",
    "turns of the coil, denoted as '$\\phi_\\mathrm{t}$' , is given by:  \n",
    "\n",
    "\\begin{equation}\\tag{11}\n",
    "    \\phi_\\mathrm{t} = z\\phi\n",
    "\\end{equation}    "
   ]
  }
 ],
 "metadata": {
  "kernelspec": {
   "display_name": "Python 3",
   "language": "python",
   "name": "python3"
  },
  "language_info": {
   "codemirror_mode": {
    "name": "ipython",
    "version": 3
   },
   "file_extension": ".py",
   "mimetype": "text/x-python",
   "name": "python",
   "nbconvert_exporter": "python",
   "pygments_lexer": "ipython3",
   "version": "3.8.10"
  }
 },
 "nbformat": 4,
 "nbformat_minor": 5
}
