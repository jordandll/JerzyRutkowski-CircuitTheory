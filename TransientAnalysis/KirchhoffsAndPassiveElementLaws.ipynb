{
 "cells": [
  {
   "cell_type": "markdown",
   "id": "a8aef2c8",
   "metadata": {},
   "source": [
    "# Kirchhoff’s Laws and Passive Element Laws\n",
    "### Chapter 3.1 -- *Transient Analysis*\n",
    "\n",
    "## Kirchhoff’s Laws\n",
    "Kirchhoff’s laws, discussed in Chapter 2.2 for constant values of currents and voltages, can be\n",
    "generalized into time-varying values."
   ]
  },
  {
   "cell_type": "markdown",
   "id": "cbb9c680",
   "metadata": {},
   "source": [
    "#### Kirchhoff’s Current Law\n",
    "At any instant of time, the algebraic sum of currents entering or leaving arbitrary node or\n",
    "cutset equals zero:  \n",
    "\n",
    "\\begin{equation}\\tag{1}\n",
    "    \\sum_{\\cdot j} i = 0\n",
    "\\end{equation}    "
   ]
  },
  {
   "cell_type": "markdown",
   "id": "8c354ff6",
   "metadata": {},
   "source": [
    "where '$\\sum_{\\cdot j}$' denotes algebraic sum of instantaneous currents entering or leaving the $j$-th node by the convention:  \n",
    "\n",
    "* $+$ , if current arrowhead is directed to the node (cutset),\n",
    "* $-$, if current arrowhead is directed from the node (cutset). "
   ]
  },
  {
   "cell_type": "markdown",
   "id": "b35eef39",
   "metadata": {},
   "source": [
    "Note that '$i$' denotes the instantaneous current as a function of time ('$t$')."
   ]
  },
  {
   "cell_type": "markdown",
   "id": "45f3803f",
   "metadata": {},
   "source": [
    "Via the linearity property of the Laplace transform, KCL in the $s$-domain is:  \n",
    "\n",
    "\\begin{equation}\\tag{1a}\n",
    "    \\sum_{\\cdot j}I(s) = 0\n",
    "\\end{equation}    "
   ]
  },
  {
   "cell_type": "markdown",
   "id": "0800d5ba",
   "metadata": {},
   "source": [
    "#### Kirchhoff’s Voltage Law\n",
    "At any instant of time, the algebraic sum of voltages around arbitrary loop or closed path\n",
    "equals zero,  \n",
    "\n",
    "\\begin{equation}\\tag{2}\n",
    "    \\sum_{\\mathrm{O}j} u = 0\n",
    "\\end{equation}    "
   ]
  },
  {
   "cell_type": "markdown",
   "id": "296e0204",
   "metadata": {},
   "source": [
    "where, '$\\sum_{\\mathrm{O}j}$' denotes the algebraic sum of voltages around the $j$-th loop (closed path), by the\n",
    "convention:\n",
    "* $+$ , if, voltage arrowhead has clockwise direction,\n",
    "* $-$ , if voltage arrowhead has anticlockwise direction."
   ]
  },
  {
   "cell_type": "markdown",
   "id": "cc0a17c1",
   "metadata": {},
   "source": [
    "Via the linearirty rule of the Laplace transform, KVL in the $s$-domain is:  \n",
    "\n",
    "\\begin{equation}\\tag{2a}\n",
    "    \\sum_{\\mathrm{O}j} U(s) = 0\n",
    "\\end{equation}    "
   ]
  },
  {
   "cell_type": "markdown",
   "id": "1935b4df",
   "metadata": {},
   "source": [
    "## Passive Element Laws\n",
    "Ideal passive circuit elements are considered. These elements can be divided into two classes:\n",
    "* Energy dissipating elements: resistors.\n",
    "* Energy storage elements: capacitors and coils."
   ]
  },
  {
   "cell_type": "markdown",
   "id": "4d01a9da",
   "metadata": {},
   "source": [
    "### Resistor\n",
    "A linear resistor presented in Fig. 3.1.1 is characterized by Ohm’s law (3.1.3):  \n",
    "\n",
    "\\begin{equation}\\tag{3}\n",
    "    u=Ri \\quad \\quad \\text{and} \\quad \\quad i=Gu\n",
    "\\end{equation}    "
   ]
  },
  {
   "cell_type": "markdown",
   "id": "7b940901",
   "metadata": {},
   "source": [
    "![Fig-3.1.1](Figures/Fig-3.1.1.png)"
   ]
  },
  {
   "cell_type": "markdown",
   "id": "864f835a",
   "metadata": {},
   "source": [
    "A resistor is uniquely characterized by its resistance $R$, in ohms $[\\Omega]=[\\mathrm{V}/\\mathrm{A}]$, or conductance $G$,\n",
    "in siemens $[\\mathrm{S}]=[\\mathrm{A}/\\mathrm{V}]$. Resistance (conductance) is a circuit constant, constant of\n",
    "proportionality relating the current and the voltage."
   ]
  },
  {
   "cell_type": "markdown",
   "id": "20454392",
   "metadata": {},
   "source": [
    "![Fig-3.1.2](Figures/Fig-3.1.2.png)"
   ]
  },
  {
   "cell_type": "markdown",
   "id": "6a6f6837",
   "metadata": {},
   "source": [
    "Via figure (3.1.2) and Ohm's Law,    \n",
    "\n",
    "$$ u = Ri$$\n",
    "\n",
    "and,\n",
    "$$\\begin{matrix}\n",
    "i :=i(t) = t\\,\\left[\\frac{\\mathrm{A}}{\\mathrm{s}}\\right] \\quad \\text{if }\\; 0_+ \\le t < 2\\mathrm{s}&\\hspace{1.5in} i &= 2\\mathrm{A} \\quad \\text{if }\\;2\\mathrm{s}\\le t < 4\\mathrm{s} \\\\\n",
    "i = -2t \\left[\\frac{\\mathrm{A}}{\\mathrm{s}}\\right] + 10\\mathrm{A} \\quad \\text{if }\\;4\\mathrm{s}\\le t < 6\\mathrm{s} &\\hspace{1.5in} i &= 2t\\left[\\frac{\\mathrm{A}}{\\mathrm{s}}\\right] - 14\\mathrm{A} \\quad \\text{if }\\;6\\mathrm{s}\\le t < 7\\mathrm{s}\n",
    "\\end{matrix}$$"
   ]
  },
  {
   "cell_type": "markdown",
   "id": "26be5153",
   "metadata": {},
   "source": [
    "The resistor's instantaneous power as a function of time is:  \n",
    "\n",
    "\\begin{equation}\\tag{4}\n",
    "    p = Ri^2 = Gu^2 \\ge 0\n",
    "\\end{equation}    "
   ]
  },
  {
   "cell_type": "markdown",
   "id": "16798e37",
   "metadata": {},
   "source": [
    "Then, energy dissipated between the initial time $t_0=0$ and arbitrary time $t<\\infty$ is always\n",
    "nonnegative:  \n",
    "\n",
    "\\begin{equation}\\tag{5}\n",
    "    w(t) = R\\int_0^t i^2\\mathrm{d}t = G\\int_0^t u^2\\mathrm{d}t\n",
    "\\end{equation}   "
   ]
  },
  {
   "cell_type": "markdown",
   "id": "d3d15945",
   "metadata": {},
   "source": [
    "\\begin{equation}\\tag{5a}\n",
    "    W_\\infty =w(\\infty) = R\\int_0^\\infty i^2\\mathrm{d}t\n",
    "\\end{equation}    "
   ]
  },
  {
   "cell_type": "markdown",
   "id": "69adef83",
   "metadata": {},
   "source": [
    "Fig. 3.1.2 presents exemplary plots of $u$, $i$ and $p$ in $1\\Omega$ resistor - the total energy dissipated is\n",
    "equal to the hatched area,$W_\\infty = 38/3 \\mathrm{J}$.  Proof:  \n",
    "\n",
    "$$ W_\\infty = w(7) = 1\\Omega\\left(\\int_0^{2\\mathrm{s}}t^2\\left[\\frac{\\mathrm{A}}{\\mathrm{s}}\\right]^2\\mathrm{d}t + \\int_{2\\mathrm{s}}^{4\\mathrm{s}}4\\mathrm{A}^2\\mathrm{d}t + \\int_{4\\mathrm{s}}^{6\\mathrm{s}}\\left(10\\mathrm{A} - 2t\\,\\left[\\frac{\\mathrm{A}}{\\mathrm{s}}\\right] \\right)^2 \\mathrm{d}t + \\int_{6\\mathrm{s}}^{7\\mathrm{s}}\\left(2t\\left[\\frac{\\mathrm{A}}{\\mathrm{s}}\\right]-14\\mathrm{A} \\right)^2\\mathrm{d}t\\right)$$"
   ]
  },
  {
   "cell_type": "markdown",
   "id": "8082e17a",
   "metadata": {},
   "source": [
    "Let's evaluate identity of $W_\\infty$ in the above equation term by term.  For the first term, the primitive integral is:   \n",
    "\n",
    "$$ \\int t^2\\,\\left[\\frac{\\mathrm{A}}{\\mathrm{s}}\\right]^2\\mathrm{d}t = \\frac{t^3}{3}\\,\\left[\\frac{\\mathrm{A}}{\\mathrm{s}}\\right] + K$$"
   ]
  },
  {
   "cell_type": "markdown",
   "id": "cc14b86a",
   "metadata": {},
   "source": [
    "thus,\n",
    "$$ \\int_0^{2\\mathrm{s}} t^2\\left[\\frac{\\mathrm{A}}{\\mathrm{s}}\\right]^2\\mathrm{d}t = \\frac{8\\mathrm{s}^3}{3}\\,\\left[\\frac{\\mathrm{A}}{\\mathrm{s}}\\right]^2 = \\frac{8}{3}\\,\\big[\\mathrm{s}\\cdot \\mathrm{A}^2\\big]$$"
   ]
  },
  {
   "cell_type": "markdown",
   "id": "6b9d56b9",
   "metadata": {},
   "source": [
    "For the second term:  \n",
    "\n",
    "$$ \\int 4\\mathrm{A}^2\\mathrm{d}t = 4\\mathrm{A}^2 t + K$$"
   ]
  },
  {
   "cell_type": "markdown",
   "id": "aaf49dcf",
   "metadata": {},
   "source": [
    "$$ \\int_{2\\mathrm{s}}^{4\\mathrm{s}}4\\mathrm{A}^2\\mathrm{d}t = 16\\big[\\mathrm{s}\\cdot\\mathrm{A}^2\\big] - 8\\big[\\mathrm{s}\\cdot\\mathrm{A}^2 \\big] = 8\\big[\\mathrm{s}\\cdot\\mathrm{A}^2 \\big]$$"
   ]
  },
  {
   "cell_type": "markdown",
   "id": "6d75c09a",
   "metadata": {},
   "source": [
    "For the third term:  \n",
    "\n",
    "\\begin{align*}\n",
    "    \\int\\left(10\\mathrm{A} - 2t\\,\\left[\\frac{\\mathrm{A}}{\\mathrm{s}}\\right]\\right)^2\\mathrm{d}t &= \\int \\left(4t^2\\,\\left[\\frac{\\mathrm{A}}{\\mathrm{s}}\\right]^2 - 40t\\,\\left[\\frac{\\mathrm{A}^2}{\\mathrm{s}}\\right] + 100\\mathrm{A}^2\\right)\\mathrm{d}t \\\\ \\\\\n",
    "     &= \\frac{4t^3}{3}\\,\\left[\\frac{\\mathrm{A}}{\\mathrm{s}}\\right]^2 - 20t^2\\,\\left[\\frac{\\mathrm{A}^2}{\\mathrm{s}}\\right] + 100t\\mathrm{A}^2 + K\n",
    "\\end{align*}     "
   ]
  },
  {
   "cell_type": "markdown",
   "id": "cf0b6927",
   "metadata": {},
   "source": [
    "$$ \\int_{4\\mathrm{s}}^{6\\mathrm{s}}\\left (10\\mathrm{A} - 2t\\left[\\frac{\\mathrm{A}}{\\mathrm{s}} \\right]\\right)^2\\mathrm{d}t = \\left( 2 + \\frac{2}{3}\\right)\\big[\\mathrm{s}\\cdot\\mathrm{A}^2\\big] = \\frac{8}{3}\\big[\\mathrm{s}\\cdot\\mathrm{A}^2\\big]$$"
   ]
  },
  {
   "cell_type": "code",
   "execution_count": 1,
   "id": "a414bbef",
   "metadata": {},
   "outputs": [],
   "source": [
    "f = lambda t: (4*t**3)/3 - 20*t**2 + 100*t"
   ]
  },
  {
   "cell_type": "code",
   "execution_count": 2,
   "id": "8b3d51be",
   "metadata": {},
   "outputs": [
    {
     "data": {
      "text/plain": [
       "2.6666666666666856"
      ]
     },
     "execution_count": 2,
     "metadata": {},
     "output_type": "execute_result"
    }
   ],
   "source": [
    "f(6)-f(4)"
   ]
  },
  {
   "cell_type": "markdown",
   "id": "59db51f3",
   "metadata": {},
   "source": [
    "Another way:  \n",
    "\n",
    "$$ \\int_{4\\mathrm{s}}^{6\\mathrm{s}}\\left(10\\mathrm{A}-2t\\left[\\frac{\\mathrm{A}}{\\mathrm{s}} \\right]\\right)^2\\mathrm{d}t = 4\\int_{4\\mathrm{s}}^{6\\mathrm{s}}\\left(5\\mathrm{A} - t\\left[\\frac{\\mathrm{A}}{\\mathrm{s}} \\right]\\right)^2\\mathrm{d}t = 4\\int_0^{2\\mathrm{s}}\\left(1\\mathrm{A} - t\\left[\\frac{\\mathrm{A}}{\\mathrm{s}} \\right] \\right)^2\\mathrm{d}t$$"
   ]
  },
  {
   "cell_type": "markdown",
   "id": "10e930d7",
   "metadata": {},
   "source": [
    "$$ 4\\int\\left(1\\mathrm{A}  - t\\left[\\frac{\\mathrm{A}}{\\mathrm{s}} \\right]\\right)^2\\mathrm{d}t = -\\frac{4}{3}\\left[\\frac{\\mathrm{s}}{\\mathrm{A}} \\right]\\left( 1\\mathrm{A} - t\\left[\\frac{\\mathrm{A}}{\\mathrm{s}} \\right]\\right)^3$$"
   ]
  },
  {
   "cell_type": "code",
   "execution_count": 3,
   "id": "8957147e",
   "metadata": {},
   "outputs": [],
   "source": [
    "g = lambda t: -(4/3)*(1-t)**3"
   ]
  },
  {
   "cell_type": "code",
   "execution_count": 4,
   "id": "ec8b5e1c",
   "metadata": {},
   "outputs": [
    {
     "data": {
      "text/plain": [
       "2.6666666666666665"
      ]
     },
     "execution_count": 4,
     "metadata": {},
     "output_type": "execute_result"
    }
   ],
   "source": [
    "g(2) - g(0)"
   ]
  },
  {
   "cell_type": "markdown",
   "id": "6abbdc42",
   "metadata": {},
   "source": [
    "For the fourth term:  \n",
    "\n",
    "$$ \\int_{6\\mathrm{s}}^{7\\mathrm{s}} \\left(2t\\left[\\frac{\\mathrm{A}}{\\mathrm{s}} \\right] - 14\\mathrm{A} \\right)^2\\mathrm{d}t = 0.5 \\int_{4\\mathrm{s}}^{6\\mathrm{s}}\\left(10\\mathrm{A} -  2t\\left[\\frac{\\mathrm{A}}{\\mathrm{s}} \\right] \\right)\\mathrm{d}t = \\frac{4}{3}\\big[\\mathrm{s}\\cdot\\mathrm{A}^2\\big]$$"
   ]
  },
  {
   "cell_type": "markdown",
   "id": "5f14f6ba",
   "metadata": {},
   "source": [
    "Finally,\n",
    "$$ W_\\infty = \\left(\\frac{16}{3} + 8 + \\frac{4}{3}\\right)\\big[\\mathrm{s}\\cdot\\mathrm{A}\\big] = \\frac{16 + 24 + 4}{3}\\big[\\mathrm{s}\\cdot\\mathrm{A}\\big] = $$"
   ]
  },
  {
   "cell_type": "markdown",
   "id": "90a10642",
   "metadata": {},
   "source": [
    "### Capacitor\n",
    "A capacitor is an element that consists of two conducting bodies (plates) that are separated by\n",
    "a dielectric. A linear capacitor presented in Fig. 3.1.4 is characterized by relationship\n",
    "(3.1.7):  \n",
    "\n",
    "![Fig-3.1.4](Figures/Fig-3.1.4.png)"
   ]
  },
  {
   "cell_type": "markdown",
   "id": "69a1d743",
   "metadata": {},
   "source": [
    "\\begin{equation}\\tag{7}\n",
    "    q = Cu\n",
    "\\end{equation}    "
   ]
  },
  {
   "cell_type": "markdown",
   "id": "bea4929e",
   "metadata": {},
   "source": [
    "A capacitor is uniquely characterized by its **capacitance**, denoted as '$C$', in **farads** $[\\mathrm{F}]=[\\mathrm{C}/\\mathrm{V}]=[\\mathrm{A}\\cdot \\mathrm{s}/\\mathrm{V}]$  (i.e. one farad is equal to one Coloumb (unit of charge) divided by one volt).  Capacitance is a circuit constant, constant of proportionality relating the charge and the voltage."
   ]
  },
  {
   "cell_type": "markdown",
   "id": "6c880296",
   "metadata": {},
   "source": [
    "Differentiating throughout equation (7) with respect to time gives the $i-u$ relationship of a capacitor.  \n",
    "\n",
    "\\begin{equation}\\tag{8a}\n",
    "    q' = \\frac{\\mathrm{d}q}{\\mathrm{d}t} = i = Cu' = C\\,\\frac{\\mathrm{d}u}{\\mathrm{d}t}\n",
    "\\end{equation}    "
   ]
  },
  {
   "cell_type": "markdown",
   "id": "0cc91e66",
   "metadata": {},
   "source": [
    "The voltage in terms of the current can be found by integrating throughout equation (8a) between\n",
    "times $t_0 = 0$ and $t$.  \n",
    "\n",
    "\\begin{equation}\\tag{8b}\n",
    "    u = \\frac{1}{C}\\,\\int i\\,\\mathrm{d}t = \\frac{1}{C}\\,\\int_0^t i \\,\\mathrm{d}t + U_0\n",
    "\\end{equation}    "
   ]
  },
  {
   "cell_type": "markdown",
   "id": "240971a9",
   "metadata": {},
   "source": [
    "where,\n",
    "\\begin{equation}\\tag{8c}\n",
    "    U_0 := u(0) = \\frac{q(0)}{C}\n",
    "\\end{equation}    "
   ]
  },
  {
   "cell_type": "markdown",
   "id": "19f894a8",
   "metadata": {},
   "source": [
    "is the voltage on the capacitor at time $t_0=0$, i.e. the initial condition.  The integral term in equation (8b) represents the voltage that accumulates on the capacitor in the interval from $t_0=0$ to $t$,\n",
    "whereas $U_0$ is that, which accumulates from $t=-\\infty$ to $t_0$ . The voltage $u(-\\infty)$ is taken to be\n",
    "zero."
   ]
  },
  {
   "cell_type": "markdown",
   "id": "d8c9e53c",
   "metadata": {},
   "source": [
    "The **principle of conservation of charge** implies that the **voltage on a capacitor is always\n",
    "continuous**, may not change abruptly, even though the current may be discontinuous."
   ]
  },
  {
   "cell_type": "markdown",
   "id": "a8fe7277",
   "metadata": {},
   "source": [
    "In particular, the voltage on a capacitor may not change abruptly at the inception of transient\n",
    "state, i.e. at $t_0=0$ . If $t=0_-$ is an instant of time just before $t=0$ , then  \n",
    "\n",
    "\\begin{equation}\\tag{8d}\n",
    "    U_0 = u(0_-)\n",
    "\\end{equation}    "
   ]
  },
  {
   "cell_type": "markdown",
   "id": "1c878e08",
   "metadata": {},
   "source": [
    "which means that a capacitor's initial condition is designated by its voltage just before inception\n",
    "of the transient state."
   ]
  },
  {
   "cell_type": "markdown",
   "id": "5ef9c854",
   "metadata": {},
   "source": [
    "The capacitor is the energy storage element. The energy stored in the electric field between $t=-\\infty$\n",
    "and arbitrary time $t<\\infty$ is  \n",
    "\n",
    "\\begin{equation}\\tag{9}\n",
    "    w = \\int_{-\\infty}^t p\\,\\mathrm{d}t = \\int_{-\\infty}^t iu \\,\\mathrm{d}t\n",
    "\\end{equation}    "
   ]
  },
  {
   "cell_type": "markdown",
   "id": "29cd4145",
   "metadata": {},
   "source": [
    "Substituting $i$ in equation (9) with it's identity in equation (8a) gives:  \n",
    "\n",
    "\\begin{equation}\\tag{9}\n",
    "    w = C\\int_{-\\infty}^t u\\,\\mathrm{d}u\n",
    "\\end{equation}    "
   ]
  },
  {
   "cell_type": "markdown",
   "id": "5fc6c64b",
   "metadata": {},
   "source": [
    "$$ f(t):=\\int u\\,\\mathrm{d}t = \\frac{u^2}{2} + K$$"
   ]
  },
  {
   "cell_type": "markdown",
   "id": "982b329a",
   "metadata": {},
   "source": [
    "\\begin{equation}\\tag{9a}\n",
    "    w = C(f(t) - f(-\\infty)) = C\\,\\frac{u^2}{2}\n",
    "\\end{equation}    "
   ]
  },
  {
   "cell_type": "markdown",
   "id": "5713dab6",
   "metadata": {},
   "source": [
    "It should be observed, that energy stored at time $t$ is always nonnegative and it is designated\n",
    "by the capacitor constant and instantaneous value of voltage -- i.e. $w\\ge 0$ -- the way of reaching this value is\n",
    "meaningless. Energy stored at the steady state condition is:  \n",
    "\n",
    "\\begin{equation}\\tag{9b}\n",
    "    W = \\frac{CU_\\infty^2}{2} = \\text{const}\n",
    "\\end{equation}    "
   ]
  },
  {
   "cell_type": "markdown",
   "id": "0970d4d8",
   "metadata": {},
   "source": [
    "Transforming (Laplace transform) both sides of equation (8a) -- both the linearity rule or equation (A3) from the appendix and the differentiation rule or equation (A5) from the appendix are used -- gives the $I-U$ relationship in the $s$-domain.  \n",
    "\n",
    "\\begin{equation}\\tag{10a}\n",
    "    I(s) = sCU(s) - CU_0\n",
    "\\end{equation}    "
   ]
  },
  {
   "cell_type": "markdown",
   "id": "4342afc9",
   "metadata": {},
   "source": [
    "Which allows us to solve for $U(s)$ in terms of $I(s)$.  \n",
    "\n",
    "$$ sU(s) - U_0 = \\frac{1}{C}\\,I(s)$$"
   ]
  },
  {
   "cell_type": "markdown",
   "id": "637ba0c3",
   "metadata": {},
   "source": [
    "\\begin{equation}\\tag{10b}\n",
    "    U(s) = \\frac{1}{sC}\\,I(s) + \\frac{U_0}{s}\n",
    "\\end{equation}    "
   ]
  },
  {
   "cell_type": "markdown",
   "id": "27a4dea4",
   "metadata": {},
   "source": [
    "Equation (10b) fits an $s$-domain equivalent circuit consisting of an ideal voltage source of $E:=E_\\mathrm{o}=-U_0/s$ in series with a conductance of $G:=G_\\mathrm{t}=sC$."
   ]
  },
  {
   "cell_type": "markdown",
   "id": "4c54ee99",
   "metadata": {},
   "source": [
    "![Fig-3.1.6](Figures/Fig-3.1.6.png)"
   ]
  },
  {
   "cell_type": "markdown",
   "id": "2a4a6cf0",
   "metadata": {},
   "source": [
    "To explain the relationship between the right hand subcircuit in figure (3.1.6) and equation (10a):  Via KCL,  \n",
    "\n",
    "$$ I_G - I(s) - J = 0$$"
   ]
  },
  {
   "cell_type": "markdown",
   "id": "903e3efe",
   "metadata": {},
   "source": [
    "$$ I(s) = I_G - J = sCU(s) - CU_0$$"
   ]
  },
  {
   "cell_type": "markdown",
   "id": "784b713a",
   "metadata": {},
   "source": [
    "Hence equation (10a).  Note that the current source is absorbing power;  It's (voltage) arrowhead points in the opposite direction as the current flowing through it.  The conductance $G$ that is in parallel with $J$ is also absorbing power.  It follows passive sign convention.  Via KVL and Ohm's Law, $ U_G =-U_J$.  Via the fact that $U_G$ is positive, $U_J$ is negative while the current flowing through the current source, $J=CU_0$, is positive;  Thus, $P_J = U_J J < 0$.  The negative value of $P_J$ in conjunction with the fact that the current source follows active sign convention means that the current source is absorbing power.  This makes sense since the subcircuit under consideration is the $s$-domain equivalent of a passive element, the capacitor."
   ]
  },
  {
   "cell_type": "markdown",
   "id": "526d9b19",
   "metadata": {},
   "source": [
    "As has been stated before, the energy stored in the capacitor, denoted as '$w$', is non-negative.  However, the instantaneous power may change signs, unlike the components of the $s$-domain equivalent circuit, which always have non-negative power absorbtion.  \n",
    "\n",
    "But, note the units of the terms of equation (10a) and, in turn, the elements of the right hand subcircuit.  The current source $J=CU_0$ is equal to the product of the capacitance and the initial voltage drop, which is measured in farads times volts, which is equal to the standard unit of charge, the coloumb  $[\\mathrm{F}\\!\\cdot\\!\\mathrm{V}]=[\\mathrm{C}]$.  However, current is defined as the change in charge over time, which is measured in coloumbs per second or amps $[\\mathrm{C}/\\mathrm{s} = \\mathrm{A}]$.  \n",
    "\n",
    "To explain this apparent conflict, first recall that the power of the current source is given by $P_J = U_J J$, which has units of measurement of farad times volts squared, which is equal to the joule, the standard unit of energy $[\\mathrm{F}\\cdot\\mathrm{V}^2 = \\mathrm{C}\\cdot\\mathrm{V} = \\mathrm{J}]$.  The consistently non-negative power absorbed in the $s$-domain corresponds to the consistently non-negative energy absorbed in the $t$-domain."
   ]
  },
  {
   "cell_type": "markdown",
   "id": "a0503385",
   "metadata": {},
   "source": [
    "Second, note that transforming (Laplace tranform) a circuit variable, or any type of variable, that is a function of time results in a variable that is a function of $s$ and has units that are equal to the product of a unit of time (conventionally the second $[\\mathrm{s}]$) and the unit of the variable being transformed.  Transforming the current flowing through the capacitor results in a variable measured in coloumbs which is equal to the product of one amp and one second $[\\mathrm{C}=\\mathrm{A}\\cdot\\mathrm{s}]$."
   ]
  },
  {
   "cell_type": "markdown",
   "id": "04c8b826",
   "metadata": {},
   "source": [
    "### Coil (Inductor)\n",
    "A coil or inductor is an element that consists of a coiled conducting wire around a core. A\n",
    "coil with toroidal core is presented in Fig. 3.1.7, together with its electric analog.  \n",
    "\n",
    "![Fig-3.1.7](Figures/Fig-3.1.7.png)"
   ]
  },
  {
   "cell_type": "markdown",
   "id": "9d5cc482",
   "metadata": {},
   "source": [
    "A current flowing through the coil produces a magnetic flux\n",
    "$\\phi$. The total flux linked by the $z$\n",
    "turns of the coil, denoted as '$\\phi_\\mathrm{t}$' , is given by:  \n",
    "\n",
    "\\begin{equation}\\tag{11}\n",
    "    \\phi_\\mathrm{t} = z\\phi\n",
    "\\end{equation}    "
   ]
  },
  {
   "cell_type": "markdown",
   "id": "e3d6bb2e",
   "metadata": {},
   "source": [
    "The aforementioned total flux is often referred to as the **flux linkage**."
   ]
  },
  {
   "cell_type": "markdown",
   "id": "91fcb5f1",
   "metadata": {},
   "source": [
    "Assuming a linear core (e.g. an air core), via equations (6) and (7) in [Chapter 2.13](../DC-Analysis/MagneticCircuits.ipynb#Magnetic-Voltage) in conjunction with KVL,  \n",
    "\n",
    "\\begin{equation}\\tag{12a}\n",
    "    f = iz = u_\\mathrm{m} = \\phi R_\\mathrm{m} = \\phi \\frac{l}{\\mu_0 \\mu_\\mathrm{r} S}\n",
    "\\end{equation}    "
   ]
  },
  {
   "cell_type": "markdown",
   "id": "eb418499",
   "metadata": {},
   "source": [
    "Via equations (12a) and (11),  \n",
    "\n",
    "\\begin{equation}\\tag{12}\n",
    "    \\phi_\\mathrm{t} = iz^2G_\\mathrm{m} = i\\,\\frac{z^2\\mu_0\\mu_\\mathrm{r}S}{l}\n",
    "\\end{equation}    "
   ]
  },
  {
   "cell_type": "markdown",
   "id": "15ad649e",
   "metadata": {},
   "source": [
    "Then, constant of proportionality relating the total flux and the current, a circuit constant\n",
    "characterizing uniquely the coil, can be introduced. This constant $L$ is called the **inductance**.\n",
    "Its unit is **henry** $[\\mathrm{H}]=[\\mathrm{Wb}/\\mathrm{A}]=[\\mathrm{V}\\!\\cdot\\!\\mathrm{s}\\,/A]$.  \n",
    "\n",
    "\\begin{equation}\\tag{13}\n",
    "    \\phi_\\mathrm{t} = Li\n",
    "\\end{equation}    "
   ]
  },
  {
   "cell_type": "markdown",
   "id": "f6bc2681",
   "metadata": {},
   "source": [
    "In general, inductance is directly proportional to the square of the number of turns and core\n",
    "permeability, then it is proportional to the core dimensions. For the core presented in Fig.\n",
    "3.1.7, the inductance is  \n",
    "\n",
    "\\begin{equation}\\tag{14}\n",
    "    L = \\frac{z^2\\mu_u\\mu_\\mathrm{r}S}{l} = z^2G_\\mathrm{m}\n",
    "\\end{equation}    "
   ]
  },
  {
   "cell_type": "markdown",
   "id": "f430eeb0",
   "metadata": {},
   "source": [
    "![Fig-3.1.8](Figures/Fig-3.1.8.png)"
   ]
  },
  {
   "cell_type": "markdown",
   "id": "e4566924",
   "metadata": {},
   "source": [
    "Circuit symbol for a coil is presented in Fig. 3.1.8. To find a coil relationship,\n",
    "**Faraday’s law** should be recalled.  \n",
    "\n",
    "When the magnetic flux linking a coil changes, a voltage directly proportional to the rate of\n",
    "flux change is induced in a coil:  \n",
    "\n",
    "\\begin{equation}\\tag{15}\n",
    "    u = z\\,\\frac{\\mathrm{d}\\phi}{\\mathrm{d}t} = \\frac{\\mathrm{d}\\phi_\\mathrm{t}}{\\mathrm{d}t}\n",
    "\\end{equation}    "
   ]
  },
  {
   "cell_type": "markdown",
   "id": "10d52d5d",
   "metadata": {},
   "source": [
    "Via Faraday's Law -- or, equation (15) -- and the equation given by differentiating throughout equation (13) with respect to time in conjunction with equivalence principle,  \n",
    "\n",
    "\\begin{equation}\\tag{16}\n",
    "    u = L \\frac{\\mathrm{d}i}{\\mathrm{d}t}\n",
    "\\end{equation}    "
   ]
  },
  {
   "cell_type": "markdown",
   "id": "9942a235",
   "metadata": {},
   "source": [
    "The current in terms of the voltage can be found by integrating both sides of (3.1.16a)\n",
    "between times $t_0=0$ and $t$.  \n",
    "\n",
    "\\begin{equation}\\tag{16b}\n",
    "    i = \\frac{1}{L}\\,\\int u\\,\\mathrm{d}t = \\frac{1}{L}\\,\\int_0^t u\\,\\mathrm{d}t + I_0\n",
    "\\end{equation}    "
   ]
  },
  {
   "cell_type": "markdown",
   "id": "0388f4e2",
   "metadata": {},
   "source": [
    "where,\n",
    "\\begin{equation}\\tag{16c}\n",
    "    I_0 = i(0) = \\frac{\\phi_\\mathrm{t}(0)}{L}\n",
    "\\end{equation}    "
   ]
  },
  {
   "cell_type": "markdown",
   "id": "5b60ff89",
   "metadata": {},
   "source": [
    "is the current at time $t_0=0$, the coil's initial condition."
   ]
  },
  {
   "cell_type": "markdown",
   "id": "0512b400",
   "metadata": {},
   "source": [
    "The **principle of conservation of flux** implies that the **current through a coil is always\n",
    "continuous**, may not change abruptly, even though the voltage may be discontinuous."
   ]
  },
  {
   "cell_type": "markdown",
   "id": "965b2d43",
   "metadata": {},
   "source": [
    "In particular, the current may not change abruptly at the inception of transient state, at\n",
    "$t=t_0=0$. If $t=0_-$ is an instant of time just before $t=0$ , then  \n",
    "\n",
    "\\begin{equation}\\tag{16d}\n",
    "    I_0 = i(0_-)\n",
    "\\end{equation}    "
   ]
  },
  {
   "cell_type": "markdown",
   "id": "6c11716e",
   "metadata": {},
   "source": [
    "which means that a coil's initial condition is designated by its current just before inception of the\n",
    "transient state.  \n",
    "\n",
    "The coil is the energy storage element. The energy stored in the magnetic field between $t=-\\infty$\n",
    "and arbitrary time $t < \\infty$ is  \n",
    "\n",
    "\\begin{equation}\\tag{17}\n",
    "    w = \\int_{-\\infty}^t iu\\,\\mathrm{d}t = L\\,\\int_{-\\infty}^t i\\,\\mathrm{d}i\n",
    "\\end{equation}    "
   ]
  },
  {
   "cell_type": "markdown",
   "id": "d74039fb",
   "metadata": {},
   "source": [
    "Via equation (17) and the assumption that $i(-\\infty)=0$,  \n",
    "\n",
    "\\begin{equation}\\tag{17a}\n",
    "    w = L\\,\\frac{i^2}{2} = 0.5\\phi_\\mathrm{t}i = 0.5z\\phi i = 0.5 f\\phi\n",
    "\\end{equation}    "
   ]
  },
  {
   "cell_type": "markdown",
   "id": "9d278671",
   "metadata": {},
   "source": [
    "It should be observed, that energy stored at time $t$ is always nonnegative and it is designated\n",
    "by the coil constant $L$ and instantaneous value of current $i$, the way of reaching this value is\n",
    "meaningless. Energy stored at the steady state condition is:  \n",
    "\n",
    "\\begin{equation}\\tag{17b}\n",
    "    W = \\frac{LI_\\infty^2}{2} = \\text{const}\n",
    "\\end{equation}    \n",
    "    "
   ]
  },
  {
   "cell_type": "markdown",
   "id": "1889819f",
   "metadata": {},
   "source": [
    "Transforming both sides of equation (16b) gives:  \n",
    "\n",
    "\\begin{equation}\\tag{18a}\n",
    "    I(s) = \\frac{1}{sL}\\,U(s) + \\frac{I_0}{s}\n",
    "\\end{equation}    "
   ]
  },
  {
   "cell_type": "markdown",
   "id": "07dc3b33",
   "metadata": {},
   "source": [
    "and, doing to the same to equation (16) gives:  \n",
    "\n",
    "\\begin{equation}\\tag{18b}\n",
    "    U(s) = sLI(s) - LI_0\n",
    "\\end{equation}    "
   ]
  },
  {
   "cell_type": "markdown",
   "id": "0011f6c6",
   "metadata": {},
   "source": [
    "Below are the $s$-domain equivalent circuits for an inductor (coil).  \n",
    "\n",
    "![Fig-3.1.10](Figures/Fig-3.1.10.png)"
   ]
  },
  {
   "cell_type": "markdown",
   "id": "1d3e94d9",
   "metadata": {},
   "source": [
    "## Passive Elements – Summary\n",
    "The three passive elements: resistor, capacitor and coil, are characterized by three circuit\n",
    "constants: resistance $R$, capacitance $C$ and inductance $L$, and described by four circuit\n",
    "variables: voltage, current, charge and total flux. Graph depicted in Fig. 3.1.11 presents\n",
    "relationships between these variables. As should be observed, only total flux and charge are\n",
    "not related.  \n",
    "\n",
    "![Fig-3.1.11](Figures/Fig-3.1.11.png)"
   ]
  },
  {
   "cell_type": "markdown",
   "id": "953e0650",
   "metadata": {},
   "source": [
    "It has been assumed that all elements are ideal. Practical capacitor and coil are discussed in\n",
    "Chapter 4, their circuit models built of ideal elements are presented."
   ]
  },
  {
   "cell_type": "markdown",
   "id": "4be47855",
   "metadata": {},
   "source": [
    "### Coil and Capacitor Boundary Behavior\n",
    "Taking into account $i-u$ relationships of energy storage elements and flux or charge\n",
    "conservation principle, their boundary behavior can be analyzed.\n",
    "\n",
    "* At the initial time, $t=t_0=0$, the capacitor voltage is equal to the initial condition\n",
    "    (3.1.8c), the coil current is equal to the initial condition (3.1.16c), what results from the\n",
    "    charge or flux preservation principle. Then, at this instant of time, capacitor may be\n",
    "    replaced by the dc voltage source $U_0$, coil may be replaced by the dc current source $I_0$\n",
    "    and the dc analysis can be performed, to find all other circuit variables.\n",
    "* At the steady state, at $t=0_-$ or$t=\\infty$ , all circuit variables are constant, including coil\n",
    "    currents and capacitor voltages. Then, the coil voltage is zero and it can be replaced by the\n",
    "    short circuit, the capacitor current is zero and it can be replaced by the open circuit.  \n",
    "    \n",
    "![Table-3.1.1](Figures/Table-3.1.1.png)"
   ]
  },
  {
   "cell_type": "markdown",
   "id": "1bb6b096",
   "metadata": {},
   "source": [
    "Coil and capacitor models at boundary conditions are presented in Table 3.1.1.\n",
    "Knowledge of the circuit order and the response boundary values allow to predict the general\n",
    "form of the response. In the $1^\\mathrm{st}$ order circuit this knowledge, together with knowledge of the\n",
    "time constant, allows to give the exact solution. This approach is discussed in the next section\n",
    "of this Chapter.  \n",
    "\n",
    "All three $s$-domain element equations, (3.1.6), (3.1.10) and (3.1.18), contain a term that relates\n",
    "the voltage $U(s)$ and the current $I(s)$ . Energy storage element equations also contain a term\n",
    "designated by the element initial condition. The factor of proportionality between the voltage\n",
    "and the current in the first term is the element impedance $Z(s)$ . **Impedance** is defined as the\n",
    "ratio of $U(s)$ to$I(s)$ when initial condition $X_0=0$, where $X_0$ is either $U_0$ or $I_0$ (which ever one applies).  \n",
    "\n",
    "\\begin{equation}\\tag{19a}\n",
    "    Z(s) = \\frac{U(s)}{I(s)}_{\\big\\vert X_0=0}\n",
    "\\end{equation}    "
   ]
  },
  {
   "cell_type": "markdown",
   "id": "0a10e754",
   "metadata": {},
   "source": [
    "For example, in the case of equation (18b), which describes the $u-i$ relationship of the coil (inductor) in the $s$-domain, assuming $X_0=I_0=0$,  \n",
    "\n",
    "$$ U(s) = sLI(s)$$\n",
    "\n",
    "Thus,\n",
    "$$Z(s) = sL = \\frac{U(s)}{I(s)}$$"
   ]
  },
  {
   "cell_type": "markdown",
   "id": "aa5d7ce4",
   "metadata": {},
   "source": [
    "The reciprocal of the impedance is called the **admittance** $Y(s)$.  \n",
    "\n",
    "\\begin{equation}\\tag{19b}\n",
    "    Y(s) = \\frac{I(s)}{U(s)}_{\\big\\vert X_0=0}\n",
    "\\end{equation}    "
   ]
  },
  {
   "cell_type": "markdown",
   "id": "77b0084b",
   "metadata": {},
   "source": [
    "For example, in the case of equation (10a), which describes the $i-u$ relationship of the capacitor in the $s$-domain, assuming $X_0=U_0=0$,  \n",
    "\n",
    "$$ I(s) = sCU(s)$$\n",
    "\n",
    "Thus,\n",
    "$$ Y(s) = sC = \\frac{I(s)}{U(s)}$$"
   ]
  },
  {
   "cell_type": "markdown",
   "id": "49f8e0e1",
   "metadata": {},
   "source": [
    "Impedances and admittances of the three elements are presented in Table 3.1.2"
   ]
  },
  {
   "cell_type": "markdown",
   "id": "72f52f4b",
   "metadata": {},
   "source": [
    "![Table-3.1.2](Figures/Table-3.1.2.png)"
   ]
  },
  {
   "cell_type": "markdown",
   "id": "d0cb408b",
   "metadata": {},
   "source": [
    "A resistor equivalent consists only of the impedance $Z(s)=R$. The energy storage element equivalent\n",
    "consists of a pure impedance connected in series with an initial condition designated voltage\n",
    "source or a pure admittance connected in parallel with an initial condition designated current\n",
    "source.  \n",
    "\n",
    "For zero initial conditions and the introduced term of impedance/admittance, an element\n",
    "equations in the $s$-domain can be presented in the generalized form  "
   ]
  },
  {
   "cell_type": "markdown",
   "id": "15c9bba0",
   "metadata": {},
   "source": [
    "\\begin{equation}\\tag{20}\n",
    "    U(s) = Z(s)I(s) \\quad \\quad \\text{and} \\quad \\quad I(s)=Y(s)U(s)\n",
    "\\end{equation}    "
   ]
  },
  {
   "cell_type": "markdown",
   "id": "c4133f61",
   "metadata": {},
   "source": [
    "Also known as Ohm's Law in the $s$-domain."
   ]
  },
  {
   "cell_type": "markdown",
   "id": "d176e725",
   "metadata": {},
   "source": [
    "## Drill Problems\n",
    "#### Problem 1\n",
    "1. Find equivalent capacitance of two capacitors connected in series (parallel)."
   ]
  },
  {
   "cell_type": "markdown",
   "id": "c1d30374",
   "metadata": {},
   "source": [
    "Via KVL,  \n",
    "\n",
    "\\begin{equation}\\tag{1.1}\n",
    "    u = u_1 + u_2\n",
    "\\end{equation}    "
   ]
  },
  {
   "cell_type": "markdown",
   "id": "abedcef0",
   "metadata": {},
   "source": [
    "Via equation (8a),  \n",
    "\n",
    "\\begin{equation}\\tag{1.2}\n",
    "    i = C_1\\frac{\\mathrm{d}u_1}{\\mathrm{d}t} \\quad \\quad \\text{and}\\quad\\quad i = C_2\\frac{\\mathrm{d}u_2}{\\mathrm{d}t}\n",
    "\\end{equation}    "
   ]
  },
  {
   "cell_type": "markdown",
   "id": "4532d6e5",
   "metadata": {},
   "source": [
    "Via equations (1.2) and equivalence principle,  \n",
    "\n",
    "$$ C_1\\mathrm{d}u_1 = C_2\\mathrm{d}u_2$$"
   ]
  },
  {
   "cell_type": "markdown",
   "id": "cc6a75b2",
   "metadata": {},
   "source": [
    "Thus,\n",
    "$$ C_1u_1 = C_2u_2 + C_2K$$"
   ]
  },
  {
   "cell_type": "markdown",
   "id": "0a721ed5",
   "metadata": {},
   "source": [
    "\\begin{equation}\\tag{1.3}\n",
    "    u_1 = \\frac{C_2}{C_1}\\,u_2 + \\frac{C_2}{C_1}\\,K\n",
    "\\end{equation}    "
   ]
  },
  {
   "cell_type": "markdown",
   "id": "601bf55b",
   "metadata": {},
   "source": [
    "Via equations (1.1) and (1.3) and substitution,  \n",
    "\n",
    "\\begin{align*}\\tag{1.4}\n",
    "    u &= u_2\\left(\\frac{C_2}{C_1}+1 \\right) + \\frac{C_2}{C_1}\\,K  \\\\ \\\\\n",
    "     &= u_2\\frac{C_2+C_1}{C_1} +  \\frac{C_2}{C_1}\\,K \n",
    "\\end{align*}     "
   ]
  },
  {
   "cell_type": "markdown",
   "id": "829513e2",
   "metadata": {},
   "source": [
    "Integrating throughout equations (1.2) with respect to time gives:  \n",
    "\n",
    "\\begin{equation}\\tag{1.5}\n",
    "    u_1 = \\frac{1}{C_1}\\,\\int i\\,\\mathrm{d}t = \\frac{1}{C_1}\\,\\int_0^t i\\,\\mathrm{d}t + u_1(0) \\quad \\quad \\text{and} \\quad \\quad u_2 = \\frac{1}{C_2}\\,\\int_0^t i\\,\\mathrm{d}t + u_2(0)\n",
    "\\end{equation}    "
   ]
  },
  {
   "cell_type": "markdown",
   "id": "8dd04d9f",
   "metadata": {},
   "source": [
    "Via equations (1.4) and (1.5),  \n",
    "\n",
    "$$ u = \\frac{C_1+C_2}{C_1C_2}\\,\\int_0^t i\\,\\mathrm{d}t  + u_2(0)\\,\\frac{C_1+C_2}{C_1} + \\frac{C_2}{C_1}\\,K$$"
   ]
  },
  {
   "cell_type": "markdown",
   "id": "e441870b",
   "metadata": {},
   "source": [
    "Thus,  \n",
    "\n",
    "\\begin{equation}\\tag{1.6}\n",
    "    u = \\frac{1}{C}\\int_0^ti\\,\\mathrm{d}t + \\frac{u_2(0)(C_1+C_2)+C_2K}{C_1}\n",
    "\\end{equation}    "
   ]
  },
  {
   "cell_type": "markdown",
   "id": "eb1f3599",
   "metadata": {},
   "source": [
    "where the equivalent capacitance, denoted as '$C$', is:  \n",
    "\n",
    "\\begin{equation}\\tag{1.6a}\n",
    "    C = \\frac{C_1C_2}{C_1+C_2}\n",
    "\\end{equation}    "
   ]
  },
  {
   "cell_type": "markdown",
   "id": "2c88ef19",
   "metadata": {},
   "source": [
    "Now, for the **parallel** configuration:  Via KCL,  \n",
    "\n",
    "\\begin{equation}\\tag{1.7}\n",
    "    i = i_1 + i_2\n",
    "\\end{equation}    "
   ]
  },
  {
   "cell_type": "markdown",
   "id": "12f8dfb5",
   "metadata": {},
   "source": [
    "And, via KVL and equation (8b),  \n",
    "\n",
    "$$ \\frac{1}{C_1}\\int i_1\\,\\mathrm{d}t = \\frac{1}{C_2}\\int i_2\\,\\mathrm{d}t$$\n",
    "\n",
    "$$ \\frac{i_1}{C_1} = \\frac{i_2}{C_2}$$"
   ]
  },
  {
   "cell_type": "markdown",
   "id": "dbc6be43",
   "metadata": {},
   "source": [
    "\\begin{equation}\\tag{1.8}\n",
    "    i_1 = \\frac{C_1}{C_2}\\,i_2\n",
    "\\end{equation}    "
   ]
  },
  {
   "cell_type": "markdown",
   "id": "2350e9ab",
   "metadata": {},
   "source": [
    "Via equations (1.8) and (1.7),  \n",
    "\n",
    "\\begin{align*}\\tag{1.9}\n",
    "    i &= i_2\\left(\\frac{C_1}{C_2} + 1 \\right) \\\\ \\\\\n",
    "     &= i_2\\,\\frac{C_1+C_2}{C_2}\n",
    "\\end{align*}     "
   ]
  },
  {
   "cell_type": "markdown",
   "id": "5e656057",
   "metadata": {},
   "source": [
    "Via KVL and equation (8b),  \n",
    "\n",
    "$$ u = u_2 = \\frac{1}{C_2}\\,\\int i_2\\,\\mathrm{d}t$$"
   ]
  },
  {
   "cell_type": "markdown",
   "id": "3b72fe61",
   "metadata": {},
   "source": [
    "Differentiating throughout the above equation gives:  \n",
    "\n",
    "$$ \\frac{\\mathrm{d}u}{\\mathrm{d}t} = \\frac{i_2}{C_2}$$"
   ]
  },
  {
   "cell_type": "markdown",
   "id": "4e18c4eb",
   "metadata": {},
   "source": [
    "\\begin{equation}\\tag{1.10}\n",
    "    i_2 = C_2\\,\\frac{\\mathrm{d}u}{\\mathrm{d}t}\n",
    "\\end{equation}    "
   ]
  },
  {
   "cell_type": "markdown",
   "id": "cdb24302",
   "metadata": {},
   "source": [
    "Via equations (1.10) and (1.9),  \n",
    "\n",
    "\\begin{equation}\\tag{1.11}\n",
    "    i = (C_1+C_2)\\,\\frac{\\mathrm{d}u}{\\mathrm{d}t}\n",
    "\\end{equation}    "
   ]
  }
 ],
 "metadata": {
  "kernelspec": {
   "display_name": "Python 3",
   "language": "python",
   "name": "python3"
  },
  "language_info": {
   "codemirror_mode": {
    "name": "ipython",
    "version": 3
   },
   "file_extension": ".py",
   "mimetype": "text/x-python",
   "name": "python",
   "nbconvert_exporter": "python",
   "pygments_lexer": "ipython3",
   "version": "3.8.10"
  }
 },
 "nbformat": 4,
 "nbformat_minor": 5
}
