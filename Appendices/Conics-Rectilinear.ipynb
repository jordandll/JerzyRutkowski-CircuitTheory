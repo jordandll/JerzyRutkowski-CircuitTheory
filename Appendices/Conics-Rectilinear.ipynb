{
 "cells": [
  {
   "cell_type": "markdown",
   "id": "9b7a1054-ef8b-4f25-bc6f-e6631faeb181",
   "metadata": {},
   "source": [
    "# Conic Equations\n",
    "\n",
    "Herein we will look at ways to obtain equations that give the three types of conics, ellipses, parabolas, and hyperbolas -- circles excluded -- in $x,y$ rectilinear coordinates.  Note that this notebook is complimentary to [this notebook](ConicSection.ipynb) about conic sections (conics)."
   ]
  },
  {
   "cell_type": "markdown",
   "id": "cc4f4429-6e70-43cf-bbda-3343cecf7e04",
   "metadata": {},
   "source": [
    "![ellipse](Figures/ellipse.png)"
   ]
  },
  {
   "cell_type": "markdown",
   "id": "a74743f4-4925-4c93-93db-bdcf18c15dc3",
   "metadata": {},
   "source": [
    "First, suppose that the focus $F$, directrix $L$, and every conic found in the above figure rests on a vector plane whose point of origin is at $F'$, the point of incidence between $L$ and the perpendicular dropped from $F$ to the directrix.  The unit vector $\\mathbf{i}$ rests on $L$ and the unit vector $\\mathbf{j}$ points towards the focus.  The terminal point of the variable vector $\\mathbf{P}$ tracks -- one may think of this as plotting -- the conic in question;  In the case of the figure found above, $P$ tracks the hyperbola."
   ]
  },
  {
   "cell_type": "markdown",
   "id": "642031ce-c0b0-44e9-9ae3-84296fda9aa9",
   "metadata": {},
   "source": [
    "Now let $\\mathbf{Q}$ be defined by $\\mathbf{P} + \\mathbf{Q} = \\mathbf{F}$, where $\\mathbf{F}$ is a vector whose terminal point is the focus.  It now follows that:  \n",
    "\n",
    "$$ |\\mathbf{Q}| = |PF| = e\\cdot|PP'| = eP_y \\quad\\quad\\text{and}\\quad\\quad F_y = |\\mathbf{F}| = |FF'| = p$$"
   ]
  },
  {
   "cell_type": "markdown",
   "id": "530c5df7-1b9b-4446-854e-c497bc8a1c7f",
   "metadata": {},
   "source": [
    "Note that $p$ is sometimes referredd to as the focal parameter."
   ]
  },
  {
   "cell_type": "markdown",
   "id": "48e8a81c-7f2c-4777-b559-ca55af2038f9",
   "metadata": {},
   "source": [
    "Let $y^*$, $x$ and $x^*$ be defined as $y^*:=P_y$ and $x:=x^*:=P_x$.  It now follows that $|\\mathbf{Q}| = ey^*$.  The following holds true:  \n",
    "\n",
    "$$ Q_x = -P_x = -x \\quad\\quad\\text{and}\\quad\\quad P_y + Q_y = y^* + Q_y = p$$"
   ]
  },
  {
   "cell_type": "markdown",
   "id": "ef31b013-e906-4ed0-a1be-cca7f5439954",
   "metadata": {},
   "source": [
    "\\begin{equation}\\tag{1}\n",
    "    |\\mathbf{Q}| = \\sqrt{Q_x^2 + Q_y^2} = \\sqrt{x^{*2} + \\big(p - y^*\\big)^2} = ey^* \n",
    "\\end{equation}"
   ]
  },
  {
   "cell_type": "markdown",
   "id": "9378475d-1353-4c62-9e17-04e7eced4c69",
   "metadata": {},
   "source": [
    "With equation (1) we have an equation that gives our conic in $x^*,y^*$ rectilinear coordinates in a coordinate system whereby the axes rests on the vector plane, has a point of origin at the origin of the vector plane, $\\mathbf{i}$ rests on the $x^*$-axis and points in the positive direction of said axis, and $\\mathbf{j}$ rests on the $y^*$-axis and points on the positive direction of said axis."
   ]
  },
  {
   "cell_type": "markdown",
   "id": "9ecec165-0f64-49a0-b3bf-0df2b5b3400f",
   "metadata": {},
   "source": [
    "Now, let $y$ be defined as $y:=y^* + p$.  Via this definition, the definition of $x$, equation (1) and substitution,  \n",
    "\n",
    "\\begin{equation}\\tag{2}\n",
    "    \\sqrt{x^2 + \\big(2p - y\\big)^2} = e\\big(y-p\\big)\n",
    "\\end{equation}"
   ]
  },
  {
   "cell_type": "markdown",
   "id": "74eeec9c-d0b3-430b-9750-42d73bcb63d0",
   "metadata": {},
   "source": [
    "With equation (2) we have an equation that gives our conic in $x,y$ rectilinear coordinates in a coordinate system whereby the axes has a point of origin at $F$, the $x$-axis is parallel to the $x^*$-axis, the $x$ and $x^*$ axis share the same positive direction, as do the $y$-axis and $y^*$-axis."
   ]
  },
  {
   "cell_type": "markdown",
   "id": "364c17e6-ea10-4918-afc0-e1d80d918c2f",
   "metadata": {},
   "source": [
    "## Analysis\n",
    "In this section we will analyse both equations (1) and (2) and the conics given by them.  First, let's begin with equation (1) by rearranging it.  "
   ]
  },
  {
   "cell_type": "markdown",
   "id": "f30e43a4-591b-46aa-8e62-aff712780489",
   "metadata": {},
   "source": [
    "Squaring both sides of equation (1) gives:  \n",
    "\n",
    "\\begin{equation}\\tag{1.1}\n",
    "    x^{*2} = \\big(ey^*\\big)^2 - \\big(p-y^*\\big)^2 = y^{*2}\\big(e^2 - 1\\big) + 2py^* - p^2\n",
    "\\end{equation}"
   ]
  },
  {
   "cell_type": "markdown",
   "id": "78e02ce1-5f72-4ea2-96c3-a7e381785a82",
   "metadata": {},
   "source": [
    "Does the quadratic polynomial in terms of $y^*$ on the right hand side of equation (1.1) have any real roots?  \n",
    "\n",
    "$$ 4p^2 \\;\\overset{?}{<}\\; -4p^2\\big(e^2-1\\big)\\quad\\quad\\implies\\quad 1\\overset{?}{<} 1-e^2$$"
   ]
  },
  {
   "cell_type": "markdown",
   "id": "2a85583a-a2bd-46be-8f6d-000849b8a7e3",
   "metadata": {},
   "source": [
    "$$ e^2\\overset{?}{<}0 $$"
   ]
  },
  {
   "cell_type": "markdown",
   "id": "bb4725b7-fc4d-4281-a959-395acf50f841",
   "metadata": {},
   "source": [
    "Since $e^2>0$, the aforemention polynomial, henceforth '$f\\big(y^*\\big)$', has two real roots.  Those roots are,  \n",
    "\n",
    "$$ R_y^* = \\frac{-2p\\pm\\sqrt{4p^2 + 4p^2\\big(e^2-1\\big)}}{2\\big(e^2-1\\big)} = \\frac{-p \\pm pe}{e^2-1} = p\\,\\frac{-1\\pm e}{e^2-1}\\quad\\quad\\text{where } e\\ne 1$$"
   ]
  },
  {
   "cell_type": "markdown",
   "id": "2f79968d-78ff-4598-a57b-d51629474f9d",
   "metadata": {},
   "source": [
    "\\begin{align*}\n",
    "    R_y^* &= \\left\\{p\\,\\frac{1+e}{1-e^2}, \\; p\\,\\frac{e-1}{e^2-1}\\right\\} \\\\ \\\\\n",
    "     &= \\left\\{\\frac{p}{1-e},\\;\\frac{p}{1+e}\\right\\} \\quad\\quad\\text{where }e\\ne1\n",
    "\\end{align*}"
   ]
  },
  {
   "cell_type": "markdown",
   "id": "a4835b0e-d435-48e9-af2c-ddd71ad801f5",
   "metadata": {},
   "source": [
    "For future reference, let $R_{y,p}^*$ and $R_{y,n}^*$ be defined as:  \n",
    "\n",
    "$$ R_{y,p}^* := \\frac{p}{1+e} \\quad\\quad\\text{and}\\quad\\quad R_{y,n}^* := \\frac{p}{1-e}$$"
   ]
  },
  {
   "cell_type": "markdown",
   "id": "480fa74c-d722-405e-a81a-d4501e9b834c",
   "metadata": {},
   "source": [
    "Note that $f\\big(R_y^*\\big) = R_y^{*2}\\big(e^2-1\\big) + 2pR_y^* - p^2 = 0$, where $e\\ne1$."
   ]
  },
  {
   "cell_type": "markdown",
   "id": "7fd228ef-c0e9-484f-80f2-16782883cea3",
   "metadata": {},
   "source": [
    "In the case of an **ellipse**, or, assuming $0<e<1$, both roots are positive and the leading coefficient of $f\\big(R_y^*\\big)$ is negative, which, in conjunction with the notion that $R_{y,p}^* < R_{y,n}^*$ when $0<e<1$, means that equation (1.1) has no real solution when $y^* > R_{y,n}^*$ or $y^* < R_{y,p}^*$.  This is consistent with the major axis being given by: \n",
    "\n",
    "$$2A = R_{y,n}^* - R_{y,p}^* = -\\frac{p}{e-1} - \\frac{p}{e+1} = -p\\,\\frac{e+1 + e-1}{e^2-1} = \\frac{2pe}{1-e^2}_{\\big | 0\\,<\\,e\\,<\\,1}$$"
   ]
  },
  {
   "cell_type": "markdown",
   "id": "f608c3be-c3cb-4885-b7b4-d98cb496a47d",
   "metadata": {},
   "source": [
    "In the case of a **hyperbola**, or, assuming $e>1$, one root is negative and the other is positive and the leading coefficient of $f\\big(y^*\\big)$ is positive, which, in conjunction with the notion that $R_{y,n}^* < R_{y,p}^*$ when $e>1$, means that equation (1.1) and no real solution when $y^* < R_{y,p}^*$ or $y^* > R_{y,n}^*$.  This is consistent "
   ]
  }
 ],
 "metadata": {
  "kernelspec": {
   "display_name": "Python 3 (ipykernel)",
   "language": "python",
   "name": "python3"
  },
  "language_info": {
   "codemirror_mode": {
    "name": "ipython",
    "version": 3
   },
   "file_extension": ".py",
   "mimetype": "text/x-python",
   "name": "python",
   "nbconvert_exporter": "python",
   "pygments_lexer": "ipython3",
   "version": "3.10.6"
  }
 },
 "nbformat": 4,
 "nbformat_minor": 5
}
