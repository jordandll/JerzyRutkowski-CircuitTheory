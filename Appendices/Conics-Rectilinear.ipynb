{
 "cells": [
  {
   "cell_type": "markdown",
   "id": "9b7a1054-ef8b-4f25-bc6f-e6631faeb181",
   "metadata": {},
   "source": [
    "# Conic Equations\n",
    "\n",
    "Herein we will look at ways to obtain equations that give the three types of conics, ellipses, parabolas, and hyperbolas -- circles excluded -- in $x,y$ rectilinear coordinates.  Note that this notebook is complimentary to [this notebook](ConicSection.ipynb) about conic sections (conics)."
   ]
  },
  {
   "cell_type": "markdown",
   "id": "cc4f4429-6e70-43cf-bbda-3343cecf7e04",
   "metadata": {},
   "source": [
    "![ellipse](Figures/ellipse.png)"
   ]
  },
  {
   "cell_type": "markdown",
   "id": "a74743f4-4925-4c93-93db-bdcf18c15dc3",
   "metadata": {},
   "source": [
    "First, suppose that the focus $F$, directrix $L$, and every conic found in the above figure rests on a vector plane whose point of origin is at $F'$, the point of incidence between $L$ and the perpendicular dropped from $F$ to the directrix.  The unit vector $\\mathbf{i}$ rests on $L$ and the unit vector $\\mathbf{j}$ points towards the focus.  The terminal point of the variable vector $\\mathbf{P}$ tracks -- one may think of this as plotting -- the conic in question;  In the case of the figure found above, $P$ tracks the hyperbola."
   ]
  },
  {
   "cell_type": "markdown",
   "id": "642031ce-c0b0-44e9-9ae3-84296fda9aa9",
   "metadata": {},
   "source": [
    "Now let $\\mathbf{Q}$ be defined by $\\mathbf{P} + \\mathbf{Q} = \\mathbf{F}$, where $\\mathbf{F}$ is a vector whose terminal point is the focus.  It now follows that:  \n",
    "\n",
    "$$ |\\mathbf{Q}| = |PF| = e\\cdot|PP'| = eP_y \\quad\\quad\\text{and}\\quad\\quad F_y = |\\mathbf{F}| = |FF'| = p$$"
   ]
  },
  {
   "cell_type": "markdown",
   "id": "530c5df7-1b9b-4446-854e-c497bc8a1c7f",
   "metadata": {},
   "source": [
    "Note that $p$ is sometimes referred to as the focal parameter."
   ]
  },
  {
   "cell_type": "markdown",
   "id": "48e8a81c-7f2c-4777-b559-ca55af2038f9",
   "metadata": {},
   "source": [
    "Let $y^*$, $x$ and $x^*$ be defined as $y^*:=P_y$ and $x:=x^*:=P_x$.  It now follows that $|\\mathbf{Q}| = ey^*$.  The following holds true:  \n",
    "\n",
    "$$ Q_x = -P_x = -x \\quad\\quad\\text{and}\\quad\\quad P_y + Q_y = y^* + Q_y = p$$"
   ]
  },
  {
   "cell_type": "markdown",
   "id": "ef31b013-e906-4ed0-a1be-cca7f5439954",
   "metadata": {},
   "source": [
    "\\begin{equation}\\tag{1}\n",
    "    |\\mathbf{Q}| = \\sqrt{Q_x^2 + Q_y^2} = \\sqrt{x^{*2} + \\big(p - y^*\\big)^2} = ey^* \n",
    "\\end{equation}"
   ]
  },
  {
   "cell_type": "markdown",
   "id": "9378475d-1353-4c62-9e17-04e7eced4c69",
   "metadata": {},
   "source": [
    "With equation (1) we have an equation that gives our conic in $x^*,y^*$ rectilinear coordinates in a coordinate system whereby the axes rests on the vector plane, has a point of origin at the origin of the vector plane, $\\mathbf{i}$ rests on the $x^*$-axis and points in the positive direction of said axis, and $\\mathbf{j}$ rests on the $y^*$-axis and points on the positive direction of said axis."
   ]
  },
  {
   "cell_type": "markdown",
   "id": "9ecec165-0f64-49a0-b3bf-0df2b5b3400f",
   "metadata": {},
   "source": [
    "Now, let $y$ be defined as $y:=y^* + p$.  Via this definition, the definition of $x$, equation (1) and substitution,  \n",
    "\n",
    "\\begin{equation}\\tag{2}\n",
    "    \\sqrt{x^2 + y^2} = e(y+p)\n",
    "\\end{equation}"
   ]
  },
  {
   "cell_type": "markdown",
   "id": "74eeec9c-d0b3-430b-9750-42d73bcb63d0",
   "metadata": {},
   "source": [
    "With equation (2) we have an equation that gives our conic in $x,y$ rectilinear coordinates in a coordinate system whereby the axes has a point of origin at $F$, the $x$-axis is parallel to the $x^*$-axis, the $x$ and $x^*$ axis share the same positive direction, as do the $y$-axis and $y^*$-axis."
   ]
  },
  {
   "cell_type": "markdown",
   "id": "364c17e6-ea10-4918-afc0-e1d80d918c2f",
   "metadata": {},
   "source": [
    "## Analysis\n",
    "In this section we will analyse both equations (1) and (2) and the conics given by them.  First, let's begin with equation (1) by rearranging it.  "
   ]
  },
  {
   "cell_type": "markdown",
   "id": "f30e43a4-591b-46aa-8e62-aff712780489",
   "metadata": {},
   "source": [
    "Squaring both sides of equation (1) gives:  \n",
    "\n",
    "\\begin{equation}\\tag{1.1}\n",
    "    x^{*2} = \\big(ey^*\\big)^2 - \\big(p-y^*\\big)^2 = y^{*2}\\big(e^2 - 1\\big) + 2py^* - p^2\n",
    "\\end{equation}"
   ]
  },
  {
   "cell_type": "markdown",
   "id": "78e02ce1-5f72-4ea2-96c3-a7e381785a82",
   "metadata": {},
   "source": [
    "Does the quadratic polynomial in terms of $y^*$ on the right hand side of equation (1.1) have any real roots?  \n",
    "\n",
    "$$ 4p^2 \\;\\overset{?}{<}\\; -4p^2\\big(e^2-1\\big)\\quad\\quad\\implies\\quad 1\\overset{?}{<} 1-e^2$$"
   ]
  },
  {
   "cell_type": "markdown",
   "id": "2a85583a-a2bd-46be-8f6d-000849b8a7e3",
   "metadata": {},
   "source": [
    "$$ e^2\\overset{?}{<}0 $$"
   ]
  },
  {
   "cell_type": "markdown",
   "id": "bb4725b7-fc4d-4281-a959-395acf50f841",
   "metadata": {},
   "source": [
    "Since $e^2>0$, the aforemention polynomial, henceforth '$f\\big(y^*\\big)$', has two real roots.  Those roots are,  \n",
    "\n",
    "$$ R_y^* = \\frac{-2p\\pm\\sqrt{4p^2 + 4p^2\\big(e^2-1\\big)}}{2\\big(e^2-1\\big)} = \\frac{-p \\pm pe}{e^2-1} = p\\,\\frac{-1\\pm e}{e^2-1}\\quad\\quad\\text{where } e\\ne 1$$"
   ]
  },
  {
   "cell_type": "markdown",
   "id": "2f79968d-78ff-4598-a57b-d51629474f9d",
   "metadata": {},
   "source": [
    "\\begin{align*}\n",
    "    R_y^* &= \\left\\{p\\,\\frac{1+e}{1-e^2}, \\; p\\,\\frac{e-1}{e^2-1}\\right\\} \\\\ \\\\\n",
    "     &= \\left\\{\\frac{p}{1-e},\\;\\frac{p}{1+e}\\right\\} \\quad\\quad\\text{where }e\\ne1\n",
    "\\end{align*}"
   ]
  },
  {
   "cell_type": "markdown",
   "id": "a4835b0e-d435-48e9-af2c-ddd71ad801f5",
   "metadata": {},
   "source": [
    "For future reference, let $R_{y,p}^*$ and $R_{y,n}^*$ be defined as:  \n",
    "\n",
    "$$ R_{y,p}^* := \\frac{p}{1+e} \\quad\\quad\\text{and}\\quad\\quad R_{y,n}^* := \\frac{p}{1-e}$$"
   ]
  },
  {
   "cell_type": "markdown",
   "id": "480fa74c-d722-405e-a81a-d4501e9b834c",
   "metadata": {},
   "source": [
    "Note that $f\\big(R_y^*\\big) = R_y^{*2}\\big(e^2-1\\big) + 2pR_y^* - p^2 = 0$, where $e\\ne1$."
   ]
  },
  {
   "cell_type": "markdown",
   "id": "7fd228ef-c0e9-484f-80f2-16782883cea3",
   "metadata": {},
   "source": [
    "In the case of an **ellipse**, or, assuming $0<e<1$, both roots are positive and the leading coefficient of $f\\big(R_y^*\\big)$ is negative, which, in conjunction with the notion that $R_{y,p}^* < R_{y,n}^*$ when $0<e<1$, means that equation (1.1) has no real solution when $y^* > R_{y,n}^*$ or $y^* < R_{y,p}^*$.  This is consistent with the major axis being given by: \n",
    "\n",
    "\\begin{equation}\\tag{3a}\n",
    "    2A = R_{y,n}^* - R_{y,p}^* = -\\frac{p}{e-1} - \\frac{p}{e+1} = -p\\,\\frac{e+1 + e-1}{e^2-1} = \\frac{2pe}{1-e^2}_{\\big | 0\\,<\\,e\\,<\\,1}\n",
    "\\end{equation}"
   ]
  },
  {
   "cell_type": "markdown",
   "id": "f608c3be-c3cb-4885-b7b4-d98cb496a47d",
   "metadata": {},
   "source": [
    "In the case of a **hyperbola**, or, assuming $e>1$, one root is negative and the other is positive and the leading coefficient of $f\\big(y^*\\big)$ is positive, which, in conjunction with the notion that $R_{y,n}^* < R_{y,p}^*$ when $e>1$, means that equation (1.1) and no real solution when $y^* < R_{y,p}^*$ or $y^* > R_{y,n}^*$.  This is consistent with the major axis being given by:  \n",
    "\n",
    "\\begin{equation}\\tag{3b}\n",
    "    2A = R_{y,p}^* - R_{y,n}^* = \\frac{p}{e+1} + \\frac{p}{e-1} = p\\,\\frac{e-1 + e+1}{e^2-1} = \\frac{2pe}{e^2-1}_{\\big|e\\,>\\,1}\n",
    "\\end{equation}"
   ]
  },
  {
   "cell_type": "markdown",
   "id": "eeb6b78d-0c44-48d2-892e-dd835f549607",
   "metadata": {},
   "source": [
    "Via equations (3a,b),  \n",
    "\n",
    "\\begin{equation}\\tag{3}\n",
    "    A = \\frac{pe}{\\big|1-e^2\\big|}\n",
    "\\end{equation}"
   ]
  },
  {
   "cell_type": "markdown",
   "id": "a5ca3dd0-25cc-4b84-ab6b-52a8d9db2917",
   "metadata": {},
   "source": [
    "Now lets rearrange equation (1) such that $y^*$ is on one side of the equation.  Via equation (1.1) and the quadratic equation,  \n",
    "\n",
    "\\begin{align*}\\tag{1.2}\n",
    "    y^* &= \\frac{-2p\\pm\\sqrt{4p^2 + 4\\big(e^2-1\\big)\\big(p^2 + x^{*2}\\big)}}{2\\big(e^2-1\\big)} = \\frac{-p\\pm\\sqrt{p^2 + \\big(e^2-1\\big)\\big(p^2+ x^{*2}\\big)}}{e^2-1} \\\\ \\\\\n",
    "     &= \\frac{-p\\pm\\sqrt{(pe)^2 + x^{*2}\\big(e^2-1\\big)}}{e^2-1}\\quad\\quad\\text{where }e\\ne1\n",
    "\\end{align*}"
   ]
  },
  {
   "cell_type": "markdown",
   "id": "1ebe7e47-b96f-464d-89b4-52a82c2cec21",
   "metadata": {},
   "source": [
    "Now let $g(x^*)$ be defined as the quadratic polynomial passed as an argument to the square root in the above equation.  In the case of a **hyperbola**, $g(x^*)>0\\;\\forall x^*\\in\\mathbb{R}$, and thus equation (1.2) has a real solution for all $x^*\\in\\mathbb{R}$."
   ]
  },
  {
   "cell_type": "markdown",
   "id": "573723ed-970e-4b53-ad61-44d48ebfe4de",
   "metadata": {},
   "source": [
    "In the case of an **ellipse** however, the leading coefficient of $g(x^*)$ is negative, and thus said function is negative for some $x^*\\in\\mathbb{R}$.  Moreover, when said function is negative, $y^*$ has no real value.  To find the range of value for which $y^*$ does have a real value, let's first find the roots of $g(x^*)$.  \n",
    "\n",
    "$$ R_x^{*2}\\big(e^2-1\\big) + (pe)^2 = 0 \\quad\\implies\\quad R_x^* = \\pm\\frac{pe}{\\sqrt{1-e^2}}$$"
   ]
  },
  {
   "cell_type": "markdown",
   "id": "172e6f8e-326c-4f7a-aa8a-ea70922c77df",
   "metadata": {},
   "source": [
    "For future reference, let $R_{x,p}^*$ and $R_{x,n}^*$ be defined as the positive and negative part of the solution to $g(R_x^*)=0$ respectively.\n",
    "\n",
    "It now follows that equation (1.2) has no real solution when $x^* < R_{x,n}^*$ or $x^* > R_{x,p}^*$.  This is consistent with the minor axis being given by:  \n",
    "\n",
    "\\begin{equation}\\tag{4}\n",
    "    2B = R_{x,p}^* - R_{x,n}^* = \\frac{2pe}{\\sqrt{1-e^2}}\n",
    "\\end{equation}"
   ]
  },
  {
   "cell_type": "markdown",
   "id": "73183e7f-8b08-4752-abb3-1cad6cbb6995",
   "metadata": {},
   "source": [
    "Next, let's rearrange equation (2);  Squaring both sides of which gives:  \n",
    "\n",
    "\\begin{align*}\\tag{2.1}\n",
    "    x^2 &= e^2(y+p)^2 - y^2 = e^2\\big(y^2 + 2py + p^2\\big) - y^2 \\\\\n",
    "     &= y^2\\big(e^2 - 1\\big) + 2e^2py + (ep)^2\n",
    "\\end{align*}"
   ]
  },
  {
   "cell_type": "markdown",
   "id": "3da59e65-5fc9-4a85-9005-eb403f56a5d8",
   "metadata": {},
   "source": [
    "Now, let $f^*(y)$ be defined as the quadratic polynomial (assuming $e\\ne1$) in terms of $y$, on the right hand side of equation (2.1).  The roots of this polynomial, denoted as $R_y$, should be given by:  $R_y = R_y^* - p$.  Let's verify this proposition.  \n",
    "\n",
    "**Proposition**:  \n",
    "\n",
    "\\begin{align*}\\tag{2.2}\n",
    "    R_y=R_y^* - p &= \\left\\{\\frac{p}{1-e},\\;\\frac{p}{1+e}\\right\\} - p \\\\ \\\\\n",
    "     &= \\left\\{\\frac{pe}{1-e},\\;-\\frac{pe}{1+e}\\right\\}\n",
    "\\end{align*}"
   ]
  },
  {
   "cell_type": "markdown",
   "id": "b0f2cabd-4af7-432a-9660-29aa5333462a",
   "metadata": {},
   "source": [
    "**Proof**:  Via the notion that $f^*(R_y)=0$ and the quadratic formula,  \n",
    "\n",
    "\\begin{align*}\n",
    "    R_y &= \\frac{-2pe^2\\pm\\sqrt{4p^2e^4 + 4\\big(1-e^2\\big)(ep)^2}}{2\\big(e^2-1\\big)} = \\frac{-pe^2\\pm pe}{e^2-1} \\\\ \\\\\n",
    "     &= pe\\,\\frac{-e\\pm 1}{(e+1)(e-1)} = pe\\cdot\\left\\{-\\frac{e-1}{(e-1)(e+1)},\\;-\\frac{e+1}{(e+1)(e-1)}\\right\\} \\\\ \\\\\n",
    "     &= -\\left\\{\\frac{pe}{e+1},\\;\\frac{pe}{e-1}\\right\\} = \\left\\{-\\frac{pe}{e+1},\\;\\frac{pe}{1-e}\\right\\}\n",
    "\\end{align*}"
   ]
  },
  {
   "cell_type": "markdown",
   "id": "2e01da8e-f6af-4ff0-abb2-6ec5ec4cc4fa",
   "metadata": {},
   "source": [
    "Q.E.D."
   ]
  },
  {
   "cell_type": "markdown",
   "id": "1e250ea5-e3d5-4f13-a86c-a58f8d0cd95a",
   "metadata": {},
   "source": [
    "Now, let's rearrange equation (2) such that $y$ is on one side of the equation.  Via equation (2.1) and the quadratic formula,  \n",
    "\n",
    "\\begin{align*}\\tag{2.3}\n",
    "    y &= \\frac{-2e^2p\\pm\\sqrt{4p^2e^4 + 4\\big(1-e^2\\big)\\big((ep)^2 - x^2\\big)}}{2\\big(e^2-1\\big)} \\\\ \\\\\n",
    "\\end{align*}"
   ]
  },
  {
   "cell_type": "markdown",
   "id": "810f499b-b44f-4412-9f12-3e0f359b3344",
   "metadata": {},
   "source": [
    "$$ = \\frac{-e^2p\\pm\\sqrt{p^2e^4 + \\big(1-e^2\\big)\\big((ep)^2 - x^2\\big)}}{e^2-1}$$"
   ]
  },
  {
   "cell_type": "markdown",
   "id": "a2f10143-1599-475f-8379-69bcd8c8e3e0",
   "metadata": {},
   "source": [
    "$$ = \\frac{-e^2p\\pm\\sqrt{(ep)^2+\\big(e^2-1\\big)x^2}}{e^2-1}$$"
   ]
  },
  {
   "cell_type": "markdown",
   "id": "f479b610-a351-4d5a-b67f-c6170deabb5f",
   "metadata": {},
   "source": [
    "Let $g^*(x)$ be defined as the argument passed to the square root in the above equation.  \n",
    "\n",
    "$$ g^*(x) = \\big(e^2-1\\big)x^2 + (ep)^2$$"
   ]
  },
  {
   "cell_type": "markdown",
   "id": "da3ff0a9-4621-4a82-bb19-3ec28a76ae6d",
   "metadata": {},
   "source": [
    "In the case of a **hyperbola**, the leading coefficent of $g^*(x)$ is positive, and thus $y\\in\\mathbb{R}\\,\\forall x\\in\\mathbb{R}\\;\\iff\\;e>1$.  "
   ]
  },
  {
   "cell_type": "markdown",
   "id": "7b132425-8b59-405a-8e53-313da8be1dad",
   "metadata": {},
   "source": [
    "In the case of an **ellipse**, the leading coefficient of $g^*(x)$ is negative, implying that $g^*(x)$ is negative for some $x\\in\\mathbb{R}$, and thus $y\\notin\\mathbb{R}$ for some $x\\in\\mathbb{R}$.  "
   ]
  },
  {
   "cell_type": "markdown",
   "id": "22db02af-9f47-4378-a250-8da47334a650",
   "metadata": {},
   "source": [
    "The roots of $g^*(x)$ are given by:  \n",
    "\n",
    "$$ g^*(R_x) = 0 \\quad\\implies\\quad R_x = \\pm\\frac{pe}{\\sqrt{1-e^2}} = R_x^*$$"
   ]
  },
  {
   "cell_type": "markdown",
   "id": "4c390dc3-6909-4216-bc89-0e613599155e",
   "metadata": {},
   "source": [
    "# Conic Parameters\n",
    "In addition to the eccentricity ($e$), foci, and directrix, various geometric features and lengths are associated with a conic section.\n",
    "\n",
    "### Principle Axis\n",
    "The principal axis is the line joining the foci of an ellipse or hyperbola, and its midpoint is the curve's center. A parabola has no center."
   ]
  },
  {
   "cell_type": "markdown",
   "id": "d5d2f446-f4da-40b7-ba34-0a0827f47c87",
   "metadata": {},
   "source": [
    "### Linear Eccentricity\n",
    "The linear eccentricity ($c$) is the distance between the center and a focus."
   ]
  },
  {
   "cell_type": "markdown",
   "id": "24686dce-30a1-4714-be34-587493069976",
   "metadata": {},
   "source": [
    "Let $f(x):=y$.  Via equation (2.3),  \n",
    "\n",
    "$$ f(0)= \\frac{-e^2p\\pm ep}{e^2-1} = ep\\,\\frac{-e\\pm 1}{(e+1)(e-1)} = -ep\\,\\left\\{\\frac{1}{e-1},\\;\\frac{1}{1+e}\\right\\} = R_y\\quad\\quad\\text{where }e\\ne1$$"
   ]
  },
  {
   "cell_type": "markdown",
   "id": "023e2ac6-e200-4ba4-bbd6-cdf0f24ce169",
   "metadata": {},
   "source": [
    "The positive and negative part of the above solution, denoted as '$R_{y,p}$' and '$R_{y,n}$' respectively, are given by:  \n",
    "\n",
    "$$ R_{y,p} = \\frac{ep}{1-e} \\quad\\quad\\text{and}\\quad\\quad R_{y,n} = \\frac{ep}{e+1}$$"
   ]
  },
  {
   "cell_type": "markdown",
   "id": "9d25c0aa-2107-4070-b5d8-42489280484a",
   "metadata": {},
   "source": [
    "### Latus Rectum\n",
    "The latus rectum is the chord parallel to the directrix and passing through a focus; its half-length is the semi-latus rectum ($\\ell$)."
   ]
  },
  {
   "cell_type": "markdown",
   "id": "46af911a-6144-4c85-b0d4-5afd8999f555",
   "metadata": {},
   "source": [
    "If $y=0$ then $\\ell=|x|$.  Thus, via equation (2.1),  \n",
    "\n",
    "$$ \\ell = pe$$"
   ]
  },
  {
   "cell_type": "markdown",
   "id": "8e842a72-4df3-4339-be23-9c58f6a1a795",
   "metadata": {},
   "source": [
    "### Focal Parameter\n",
    "The focal parameter ($p$) is the distance from a focus to the corresponding directrix."
   ]
  },
  {
   "cell_type": "markdown",
   "id": "73fd2afd-3f51-4512-ace5-df0e269dc4ab",
   "metadata": {},
   "source": [
    "### Major Axis\n",
    "The major axis is the chord between the two vertices: the longest chord of an ellipse, the shortest chord between the branches of a hyperbola. Its half-length is the semi-major axis ($A$). When an ellipse or hyperbola are in standard position as in the equations below, with foci on the $x$-axis and center at the origin, the vertices of the conic have coordinates $(−A, 0)$ and $(A, 0)$, with a non-negative."
   ]
  },
  {
   "cell_type": "markdown",
   "id": "9ecac2d3-b196-41e2-8e7f-db440440d650",
   "metadata": {},
   "source": [
    "Recall equation (3).  \n",
    "\n",
    "\\begin{equation}\\tag{3}\n",
    "    A = \\frac{pe}{\\big|1-e^2\\big|}\n",
    "\\end{equation}"
   ]
  },
  {
   "cell_type": "markdown",
   "id": "a5b802bc-963b-4ba9-b3b2-339da0ce8a74",
   "metadata": {},
   "source": [
    "### Minor Axis\n",
    "The minor axis is the shortest diameter of an ellipse, and its half-length is the semi-minor axis ($B$), the same value b as in the standard equation below. By analogy, for a hyperbola the parameter $B$ in the standard equation is also called the semi-minor axis.  \n",
    "\n",
    "Dividing throughout equation (4) by $2$ gives:  \n",
    "\n",
    "\\begin{equation}\\tag{4}\n",
    "    B = \\frac{pe}{\\sqrt{1-e^2}}\n",
    "\\end{equation}"
   ]
  },
  {
   "cell_type": "markdown",
   "id": "8edfff0e-1a56-49cd-a240-67d97948f81e",
   "metadata": {},
   "source": [
    "The following relations hold:  \n",
    "\n",
    "* $\\ell = pe$\n",
    "* $c=ae$\n",
    "* $p+c = \\displaystyle\\frac{a}{e}$"
   ]
  },
  {
   "cell_type": "markdown",
   "id": "6ad44729-e14f-4a08-9443-cf422ab972f8",
   "metadata": {},
   "source": [
    "# Conic Definitions\n",
    "\n",
    "## Ellipse\n",
    "Alternatively, an ellipse can be defined in terms of two focus points, as the locus of points for which the sum of the distances to the two foci is $2A$  "
   ]
  },
  {
   "cell_type": "markdown",
   "id": "97a850ba-0211-42aa-a75c-87e0e5b680d8",
   "metadata": {},
   "source": [
    "## Hyperbola \n",
    "While a hyperbola is the locus for which the difference of distances is $2A$. (Here a is the semi-major axis defined below.)   \n",
    "\n",
    "![hyperbola-2foci](Figures/hyperbola-2foci.png)"
   ]
  },
  {
   "cell_type": "markdown",
   "id": "a6a50325-3c7c-4e35-844b-6866466c0f08",
   "metadata": {},
   "source": [
    "Let $F$ and $\\mathbf{Q}$ be redefined as $F:=F_2$ and $\\mathbf{P} + \\mathbf{Q} = \\mathbf{F}$, where the terminal point of the variable vector $\\mathbf{P}$ tracks (or plots) the hyperbola.  Note that all of the aforementioned vectors rest on a vector plane whose point of origin is $F_1$, whose unit vector $\\mathbf{j}$ points away from $F_2$, and whose unit vector $\\mathbf{i}$ is parallel to the directrix (the black horizontal line in the above figure)."
   ]
  },
  {
   "cell_type": "markdown",
   "id": "05c1b98a-ab8f-44da-8862-e3f3ee9a14e4",
   "metadata": {},
   "source": [
    "## Parabola\n",
    "A parabola may also be defined in terms of its focus and latus rectum line (parallel to the directrix and passing through the focus): it is the locus of points whose distance to the focus plus or minus the distance to the line is equal to $2A$; plus if the point is between the directrix and the latus rectum, minus otherwise."
   ]
  }
 ],
 "metadata": {
  "kernelspec": {
   "display_name": "Python 3 (ipykernel)",
   "language": "python",
   "name": "python3"
  },
  "language_info": {
   "codemirror_mode": {
    "name": "ipython",
    "version": 3
   },
   "file_extension": ".py",
   "mimetype": "text/x-python",
   "name": "python",
   "nbconvert_exporter": "python",
   "pygments_lexer": "ipython3",
   "version": "3.10.6"
  },
  "toc-autonumbering": false,
  "toc-showtags": false
 },
 "nbformat": 4,
 "nbformat_minor": 5
}
