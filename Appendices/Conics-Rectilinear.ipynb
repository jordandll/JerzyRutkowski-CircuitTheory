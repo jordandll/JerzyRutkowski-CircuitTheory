{
 "cells": [
  {
   "cell_type": "markdown",
   "id": "9b7a1054-ef8b-4f25-bc6f-e6631faeb181",
   "metadata": {},
   "source": [
    "# Conic Equations\n",
    "\n",
    "Herein we will look at ways to obtain equations that give the three types of conics, ellipses, parabolas, and hyperbolas -- circles excluded -- in $x,y$ rectilinear coordinates.  Note that this notebook is complimentary to [this notebook](ConicSection.ipynb) about conic sections (conics)."
   ]
  },
  {
   "cell_type": "markdown",
   "id": "cc4f4429-6e70-43cf-bbda-3343cecf7e04",
   "metadata": {},
   "source": [
    "![ellipse](Figures/ellipse.png)"
   ]
  },
  {
   "cell_type": "markdown",
   "id": "a74743f4-4925-4c93-93db-bdcf18c15dc3",
   "metadata": {},
   "source": [
    "First, suppose that the focus $F$, directrix $L$, and every conic found in the above figure rests on a vector plane whose point of origin is at $F'$, the point of incidence between $L$ and the perpendicular dropped from $F$ to the directrix.  The unit vector $\\mathbf{i}$ rests on $L$ and the unit vector $\\mathbf{j}$ points towards the focus.  The terminal point of the variable vector $\\mathbf{P}$ tracks -- one may think of this as plotting -- the conic in question;  In the case of the figure found above, $P$ tracks the hyperbola."
   ]
  },
  {
   "cell_type": "markdown",
   "id": "642031ce-c0b0-44e9-9ae3-84296fda9aa9",
   "metadata": {},
   "source": [
    "Now let $\\mathbf{Q}$ be defined by $\\mathbf{P} + \\mathbf{Q} = \\mathbf{F}$, where $\\mathbf{F}$ is a vector whose terminal point is the focus.  It now follows that:  \n",
    "\n",
    "$$ |\\mathbf{Q}| = |PF| = e\\cdot|PP'| = eP_y \\quad\\quad\\text{and}\\quad\\quad F_y = |\\mathbf{F}| = |FF'| = p$$"
   ]
  },
  {
   "cell_type": "markdown",
   "id": "530c5df7-1b9b-4446-854e-c497bc8a1c7f",
   "metadata": {},
   "source": [
    "Note that $p$ is sometimes referred to as the focal parameter."
   ]
  },
  {
   "cell_type": "markdown",
   "id": "48e8a81c-7f2c-4777-b559-ca55af2038f9",
   "metadata": {},
   "source": [
    "Let $y^*$, $x$ and $x^*$ be defined as $y^*:=P_y$ and $x:=x^*:=P_x$.  It now follows that $|\\mathbf{Q}| = ey^*$.  The following holds true:  \n",
    "\n",
    "$$ Q_x = -P_x = -x \\quad\\quad\\text{and}\\quad\\quad P_y + Q_y = y^* + Q_y = p$$"
   ]
  },
  {
   "cell_type": "markdown",
   "id": "ef31b013-e906-4ed0-a1be-cca7f5439954",
   "metadata": {},
   "source": [
    "\\begin{equation}\\tag{1}\n",
    "    |\\mathbf{Q}| = \\sqrt{Q_x^2 + Q_y^2} = \\sqrt{x^{*2} + \\big(p - y^*\\big)^2} = ey^* \n",
    "\\end{equation}"
   ]
  },
  {
   "cell_type": "markdown",
   "id": "9378475d-1353-4c62-9e17-04e7eced4c69",
   "metadata": {},
   "source": [
    "With equation (1) we have an equation that gives our conic in $x^*,y^*$ rectilinear coordinates in a coordinate system whereby the axes rests on the vector plane, has a point of origin at the origin of the vector plane, $\\mathbf{i}$ rests on the $x^*$-axis and points in the positive direction of said axis, and $\\mathbf{j}$ rests on the $y^*$-axis and points on the positive direction of said axis."
   ]
  },
  {
   "cell_type": "markdown",
   "id": "9ecec165-0f64-49a0-b3bf-0df2b5b3400f",
   "metadata": {},
   "source": [
    "Now, let $y'$ be defined as $y':=y^* - p$ and $x':=x^*$.  Via this definition, the definition of $x'$, equation (1) and substitution,  \n",
    "\n",
    "\\begin{equation}\\tag{2}\n",
    "    \\sqrt{x'^2 + y'^2} = e(y'+p)\n",
    "\\end{equation}"
   ]
  },
  {
   "cell_type": "markdown",
   "id": "74eeec9c-d0b3-430b-9750-42d73bcb63d0",
   "metadata": {},
   "source": [
    "With equation (2) we have an equation that gives our conic in $x,y$ rectilinear coordinates in a coordinate system whereby the axes has a point of origin at $F$, the $x$-axis is parallel to the $x^*$-axis, the $x$ and $x^*$ axis share the same positive direction, as do the $y$-axis and $y^*$-axis."
   ]
  },
  {
   "cell_type": "markdown",
   "id": "8a9b85e9-07ef-407d-92bf-c6d92e93bd80",
   "metadata": {},
   "source": [
    "Now, suppose there exists an $\\hat{x},\\hat{y}$-axes with a point of origin at the center, as defined [below](#Principle-Axis), of the conic, or, the critical point, in the case of a parabola;  The $\\hat{y}$-axis has a positive direction that is the same as $y$-axis and the $\\hat{x}$-axis has a positive direction that is the same as the $x$-axis.  It now follows that:  \n",
    "\n",
    "$$ x=\\hat{x}\\quad\\quad\\text{and}\\quad\\quad y = \\begin{cases}\n",
    "\\hat{y} + c &\\quad\\text{if }\\;0<e<1 \\\\\n",
    "\\hat{y} - c &\\quad\\text{if }\\;e\\ge1\n",
    "\\end{cases}$$"
   ]
  },
  {
   "cell_type": "markdown",
   "id": "830ad3b4-89dc-4a59-b459-4b54b38a6440",
   "metadata": {},
   "source": [
    "Under this $\\hat{x},\\hat{y}$-rectilinear coordinate system, the conic in question is given by:  \n",
    "\n",
    "\\begin{align*}\n",
    "    \\hat{x}^2 + \\big(\\hat{y}\\pm c\\big)^2 &= e^2\\big(\\hat{y}\\pm c+p\\big)^2 \\\\\n",
    "    \\hat{x}^2 + \\hat{y}^2 \\pm 2c\\hat{y} + c^2 &= e^2\\big(\\hat{y}^2  + c^2 + p^2 \\pm 2c\\hat{y} + 2p\\hat{y} \\pm 2cp\\big)\n",
    "\\end{align*}"
   ]
  },
  {
   "cell_type": "markdown",
   "id": "9d1be963-7f62-41c9-a64a-177700b5d90c",
   "metadata": {},
   "source": [
    "Thus,  \n",
    "\n",
    "\\begin{align*}\\tag{6}\n",
    "    \\hat{x}^2 &= \\hat{y}^2\\big(e^2-1\\big) + 2\\hat{y}\\big(\\pm c \\pm ce^2 + pe^2\\big) - c^2 + e^2\\big(c^2\\pm2cp+p^2\\big) \\\\\n",
    "      &= \\hat{y}^2\\big(e^2-1\\big) + 2\\hat{y}\\big(\\pm c \\pm ce^2 + pe^2\\big) - c^2 + e^2(c\\pm p)^2 \\\\\n",
    "      &= \\hat{y}^2\\big(e^2-1\\big) + 2\\hat{y}\\Big(\\pm c\\big(1-e^2\\big) + pe^2\\Big) - c^2 + e^2(c\\pm p)^2\n",
    "\\end{align*}"
   ]
  },
  {
   "cell_type": "markdown",
   "id": "f27d6e72-4c50-42be-99e1-b797fa7115dc",
   "metadata": {},
   "source": [
    "### Parabola\n",
    "Via equations (6) and (5c) and substitution, a parabola is given by the following equation:  \n",
    "\n",
    "$$ \\hat{x}^2 = 2p\\hat{y} - 0.25p^2+ 0.25p^2 = 4A\\hat{y}$$"
   ]
  },
  {
   "cell_type": "markdown",
   "id": "039aa29c-6edd-4cad-8b70-c38b6f192c6d",
   "metadata": {},
   "source": [
    "\\begin{equation}\\tag{6c}\n",
    "    \\hat{x}^2 = 4A\\hat{y}_{\\big|e=1}\n",
    "\\end{equation}"
   ]
  },
  {
   "cell_type": "markdown",
   "id": "391060df-d7d7-4255-9caf-cd65663458e2",
   "metadata": {},
   "source": [
    "### Ellipse\n",
    "\n",
    "$$ \\hat{x}^2 = \\hat{y}^2\\big(e^2-1\\big)  - (Ae)^2 + e^2(c+p)^2 = \\hat{y}^2\\big(e^2-1\\big) - (Ae)^2 + A^2 = \\hat{y}^2\\big(e^2-1\\big) + A^2\\big(1-e^2\\big)$$"
   ]
  },
  {
   "cell_type": "markdown",
   "id": "4e1d7ac8-94f0-42a8-bfef-f8a7e4850ef8",
   "metadata": {},
   "source": [
    "$$ = \\hat{y}^2\\big(e^2-1\\big) + \\frac{(pe)^2}{1-e^2}$$"
   ]
  },
  {
   "cell_type": "markdown",
   "id": "563c4584-d628-46b7-ad87-3a0dcb9ee849",
   "metadata": {},
   "source": [
    "Thus,  \n",
    "\n",
    "$$ \\frac{\\hat{x}^2}{A^2\\big(1-e^2\\big)} = 1-\\left(\\frac{\\hat{y}}{A}\\right)^2$$"
   ]
  },
  {
   "cell_type": "markdown",
   "id": "d81ff791-ec5c-40df-a175-2abea50b64df",
   "metadata": {},
   "source": [
    "Finally,  \n",
    "\n",
    "\\begin{equation}\\tag{6a}\n",
    "    \\left(\\frac{\\hat{x}}{B}\\right)^2 + \\left(\\frac{\\hat{y}}{A}\\right)^2 = 1_{\\big|0\\,<\\,e\\,<\\,1}\n",
    "\\end{equation}"
   ]
  },
  {
   "cell_type": "markdown",
   "id": "e7c55e33-8b74-4129-b9b7-a41c2fd8508f",
   "metadata": {},
   "source": [
    "### Hyperbola\n",
    "\n",
    "$$ \\hat{x}^2 = \\hat{y}^2\\big(e^2-1\\big) - c^2 + e^2(c-p)^2 = \\hat{y}^2\\big(e^2-1\\big) + c^2\\big(e^2-1\\big) + (pe)^2 - 2pe^2c$$"
   ]
  },
  {
   "cell_type": "markdown",
   "id": "bab8cd05-42dc-4fb7-ae38-7c4c3c462983",
   "metadata": {},
   "source": [
    "$$  = \\hat{y}^2\\big(e^2-1\\big) + (pe)^2 - pe^2c$$"
   ]
  },
  {
   "cell_type": "markdown",
   "id": "98e76724-df78-4120-b0b8-4672a2c30f47",
   "metadata": {},
   "source": [
    "Multiplying throughout the above equation by $e^2-1$ gives:  \n",
    "\n",
    "$$ \\hat{x}^2\\big(e^2-1\\big) = \\hat{y}^2\\big(e^2-1\\big)^2 + (pe)^2\\big(e^2-1\\big) - p^2e^4$$"
   ]
  },
  {
   "cell_type": "markdown",
   "id": "2de6285c-f5ac-4651-8077-0c6ce2daa0ce",
   "metadata": {},
   "source": [
    "$$ = \\hat{y}^2\\big(e^2-1\\big)^2 - (pe)^2$$"
   ]
  },
  {
   "cell_type": "markdown",
   "id": "618637b5-6610-41cf-a6f1-2a490004852a",
   "metadata": {},
   "source": [
    "Dividing throughout above $(pe)^2$ gives:  \n",
    "\n",
    "\\begin{equation}\\tag{6b}\n",
    "    1 = \\left(\\frac{\\hat{y}}{A}\\right)^2 - \\left(\\frac{\\hat{x}}{B}\\right)^2_{\\big|e\\,>\\,1}\n",
    "\\end{equation}"
   ]
  },
  {
   "cell_type": "markdown",
   "id": "d87c7b55-17c1-4289-820a-e23eb355df52",
   "metadata": {},
   "source": [
    "## Rotation of Axes\n",
    "\n",
    "Now, let's rotate the $\\hat{y},\\hat{x}$-axes such that $x=\\hat{y}$ and $y=\\hat{x}$.  Our conics in, in stardard position, are now given by:  \n",
    "\n",
    "#### Ellipse\n",
    "\n",
    "\\begin{equation}\\tag{6a}\n",
    "    \\left(\\frac{y}{B}\\right)^2 + \\left(\\frac{x}{A}\\right)^2 = 1_{\\big|0\\,<\\,e\\,<\\,1}\n",
    "\\end{equation}"
   ]
  },
  {
   "cell_type": "code",
   "execution_count": 1,
   "id": "c35994ac-5672-47c5-b703-080f0b873721",
   "metadata": {
    "tags": []
   },
   "outputs": [],
   "source": [
    "import matplotlib.pyplot as plt\n",
    "import numpy as np"
   ]
  },
  {
   "cell_type": "code",
   "execution_count": 3,
   "id": "e969a416-139b-4a2d-b2bd-7bceb4b4524a",
   "metadata": {
    "jupyter": {
     "source_hidden": true
    },
    "tags": []
   },
   "outputs": [
    {
     "data": {
      "text/plain": [
       "[<matplotlib.lines.Line2D at 0x7f3a792b8310>,\n",
       " <matplotlib.lines.Line2D at 0x7f3a792b83d0>]"
      ]
     },
     "execution_count": 3,
     "metadata": {},
     "output_type": "execute_result"
    },
    {
     "data": {
      "image/png": "[encoded data removed]",
      "text/plain": [
       "<Figure size 640x480 with 1 Axes>"
      ]
     },
     "metadata": {},
     "output_type": "display_data"
    }
   ],
   "source": [
    "# Define the parameters\n",
    "p = 1; e=0.5\n",
    "A = p*e/(1-e**2)\n",
    "B = A*np.sqrt(1-e**2)\n",
    "c = A*e\n",
    "\n",
    "# Create the domains\n",
    "x = np.linspace(-A, A, num=200)\n",
    "theta = np.linspace(0, 2*np.pi, num=200)\n",
    "\n",
    "# Define the functions\n",
    "y = np.sqrt(B**2 - x**2*B**2/A**2)\n",
    "\n",
    "# Create the figure and axes objects.\n",
    "fig, ax = plt.subplots()\n",
    "ax.set_title('Ellipse', size=14)\n",
    "\n",
    "# Plot the ellipse.\n",
    "ax.plot(x, y, x, -y, color='r')\n",
    "ax.plot(A*np.cos(theta), B*np.sin(theta), color='b', ls='dashed')\n",
    "ax.plot(-A*e, 0, A*e, 0, color='black', marker='o')"
   ]
  },
  {
   "cell_type": "code",
   "execution_count": 4,
   "id": "e5db4c9d-c0b9-4f3f-8f68-88632feb1955",
   "metadata": {
    "jupyter": {
     "source_hidden": true
    },
    "tags": []
   },
   "outputs": [
    {
     "data": {
      "text/plain": [
       "[<matplotlib.lines.Line2D at 0x7f3a79397850>]"
      ]
     },
     "execution_count": 4,
     "metadata": {},
     "output_type": "execute_result"
    },
    {
     "data": {
      "image/png": "[encoded data removed]",
      "text/plain": [
       "<Figure size 640x480 with 1 Axes>"
      ]
     },
     "metadata": {},
     "output_type": "display_data"
    }
   ],
   "source": [
    "# Define the magnitude or distance.\n",
    "r = B/np.sqrt(1-e**2*np.cos(theta)**2)\n",
    "\n",
    "# Create figure and axes objects.\n",
    "fig, ax = plt.subplots(subplot_kw=dict(projection='polar'))\n",
    "ax.set_title('Ellipse', size=14)\n",
    "\n",
    "# Plot the ellipse.\n",
    "ax.plot(theta, r)"
   ]
  },
  {
   "cell_type": "markdown",
   "id": "4612c8b2-d28e-40da-be8b-e7eae9e01052",
   "metadata": {},
   "source": [
    "![ellipse](https://upload.wikimedia.org/wikipedia/commons/a/a4/Conic_section_-_standard_forms_of_an_ellipse.png)"
   ]
  },
  {
   "cell_type": "markdown",
   "id": "61082ba8-f101-4e0f-a330-1f113e881257",
   "metadata": {},
   "source": [
    "Note, the equation in the above figure that gives our ellipse in polar coordinates, with $r$ being the distance from the reference point, which is either focal point."
   ]
  },
  {
   "cell_type": "markdown",
   "id": "6426331b-d36b-4da3-8100-d0462a9df6eb",
   "metadata": {},
   "source": [
    "Now, let's suppose the paradigm is such that the reference point is at center and the reference angle is such that polar coordinates of $(r=a,\\theta=0)$ corresponds to rectilinear coordinates of $(a,0)$.  It now follows that:  \n",
    "\n",
    "\\begin{equation}\\tag{7.1}\n",
    "    \\text{a: }\\;\\cos\\theta = \\frac{x}{r} \\quad\\quad \\text{a: }\\;\\sin\\theta = \\frac{y}{r} \\quad\\quad \\text{c: }\\;x^2 + y^2 = r^2\n",
    "\\end{equation}"
   ]
  },
  {
   "cell_type": "markdown",
   "id": "e6175b7f-e654-4b9e-8183-9732b47e1b3d",
   "metadata": {},
   "source": [
    "Multiplying throughout equation (6a) by $B^2$ gives:  \n",
    "\n",
    "\\begin{equation}\\tag{7.2}\n",
    "    y^2 + \\frac{B^2}{A^2}\\,x^2 = B^2\n",
    "\\end{equation}"
   ]
  },
  {
   "cell_type": "markdown",
   "id": "b8670e86-1b3e-4197-8369-b926c4c99bf3",
   "metadata": {},
   "source": [
    "Via the above equation, equation (7.1c), and substitution,  \n",
    "\n",
    "$$ r^2 - x^2 + \\left(\\frac{B}{A}\\right)^2\\,x^2 = B^2$$"
   ]
  },
  {
   "cell_type": "markdown",
   "id": "5ef25f28-97ea-46d5-bf44-6511b63d92a2",
   "metadata": {},
   "source": [
    "$$ r^2\\sin^2\\theta + \\big(1-e^2\\big)r^2\\cos^2\\theta = B^2$$"
   ]
  },
  {
   "cell_type": "markdown",
   "id": "0064b3ec-1685-48bd-a50b-93c233c0d7a4",
   "metadata": {},
   "source": [
    "$$ r^2 \\big(1-e^2\\cos^2\\theta\\big) = B^2$$"
   ]
  },
  {
   "cell_type": "markdown",
   "id": "bc2f8906-e6cf-4318-9acb-47f553208909",
   "metadata": {},
   "source": [
    "$$r^2\\left(1-\\frac{c^2}{A^2}\\,\\cos^2\\theta\\right) = B^2$$"
   ]
  },
  {
   "cell_type": "markdown",
   "id": "71427dc5-34d6-4bbf-b742-e885554dd5ab",
   "metadata": {},
   "source": [
    "$$ r^2\\big(A^2 - c^2\\cos^2\\theta\\big) = A^2B^2$$\n",
    "\n",
    "Finally, the equation that gives our ellipse, in polar coordinates, under this new polar coordinate paradigm, is:  "
   ]
  },
  {
   "cell_type": "markdown",
   "id": "0b18eea7-fec7-4cb8-aae0-af1a3d167882",
   "metadata": {},
   "source": [
    "\\begin{equation}\\tag{7.3}\n",
    "    r = \\frac{AB}{\\sqrt{A^2 - c^2\\cos^2\\theta}}\n",
    "\\end{equation}"
   ]
  },
  {
   "cell_type": "markdown",
   "id": "20c66bf8-f962-4b5b-83d0-f04e4f4f1727",
   "metadata": {},
   "source": [
    "$$ = \\frac{B}{\\sqrt{1-e^2\\cos^2\\theta}}$$"
   ]
  },
  {
   "cell_type": "markdown",
   "id": "3f70282b-e003-4be1-a4ec-e46db645e934",
   "metadata": {},
   "source": [
    "#### Hyperbola\n",
    "\n",
    "A hyperbola is given by:  \n",
    "\n",
    "\\begin{equation}\\tag{6b}\n",
    "    1 = \\left(\\frac{x}{A}\\right)^2 - \\left(\\frac{y}{B}\\right)^2_{\\big|e\\,>\\,1}\n",
    "\\end{equation}\n",
    "\n",
    "A hyperbola is also parametrically defined as:  \n",
    "\n",
    "$$ (a\\sec\\theta, b\\tan\\theta) \\quad\\quad\\text{or}\\quad\\quad (\\pm a\\cosh\\psi, b\\sinh\\psi)$$"
   ]
  },
  {
   "cell_type": "markdown",
   "id": "93bfb6b9-bf8b-4e15-b45f-9071df0981cf",
   "metadata": {},
   "source": [
    "The following equation gives our hyperbola in polar coordinates, with either focal point serving as the point of reference.  \n",
    "\n",
    "$$ r:=r(\\theta) = \\frac{B^2}{A-c\\cos\\theta}$$"
   ]
  },
  {
   "cell_type": "markdown",
   "id": "2b8ecc66-940a-4f1c-b700-c063b13dda8b",
   "metadata": {},
   "source": [
    "![hyperbola](https://upload.wikimedia.org/wikipedia/commons/e/eb/Conic_section_-_standard_forms_of_a_hyperbola.png)"
   ]
  },
  {
   "cell_type": "markdown",
   "id": "65f80662-ca22-46b2-84c3-4e34f168ae5b",
   "metadata": {},
   "source": [
    "Now, let's assume a new polar coodinate paradigm whereby the point of reference is at the center of the hyperbola and the reference angle is such that a polar coordinate of $(r=a,\\theta=0)$ corresponds to a rectilinear coordinate of $(a,0)$.  Via equations (7.1a,b), (6b), and substitution,  \n",
    "\n",
    "$$ 1 = r^2\\left(\\frac{\\cos^2\\theta}{A^2} - \\frac{\\sin^2\\theta}{B^2}\\right)$$\n",
    "\n"
   ]
  },
  {
   "cell_type": "markdown",
   "id": "9da9592c-1e3a-441b-b12f-caa996aa3f6b",
   "metadata": {},
   "source": [
    "$$ (AB)^2 = r^2\\big(B^2\\cos^2\\theta - A^2\\sin^2\\theta\\big)$$"
   ]
  },
  {
   "cell_type": "markdown",
   "id": "f64b5561-1faf-4bf3-ba23-7fe1c4184534",
   "metadata": {},
   "source": [
    "$$ = r^2\\Big(B^2 - \\sin^2\\theta\\big(A^2+B^2\\big)\\Big)$$"
   ]
  },
  {
   "cell_type": "markdown",
   "id": "3d99e63d-1b83-4190-8ada-a03954016648",
   "metadata": {},
   "source": [
    "$$A^2+B^2 = \\frac{(pe)^2 + (pe)^2\\big(e^2-1\\big)}{\\big(e^2-1\\big)^2} = \\frac{p^2e^4}{\\big(e^2-1\\big)^2} = c^2$$"
   ]
  },
  {
   "cell_type": "markdown",
   "id": "c032dcaa-025d-455b-82c8-5272201e08ae",
   "metadata": {},
   "source": [
    "Thus,  \n",
    "\n",
    "$$ (AB)^2 = r^2\\big(B^2 - c^2\\sin^2\\theta\\big)$$"
   ]
  },
  {
   "cell_type": "markdown",
   "id": "36dbc91d-f3d1-4bc4-a738-0d2c3b043ed2",
   "metadata": {},
   "source": [
    "Finally,  \n",
    "\n",
    "\\begin{equation}\\tag{8.1}\n",
    "    r = \\frac{AB}{\\sqrt{B^2-c^2\\sin^2\\theta}}\n",
    "\\end{equation}"
   ]
  },
  {
   "cell_type": "markdown",
   "id": "da4335bc-1e62-4e0c-95be-b08fba9649cf",
   "metadata": {},
   "source": [
    "Note that the diagonal lines in the above figure are given by:  \n",
    "\n",
    "$$ y = \\tan\\theta_\\infty x \\quad\\quad\\text{where }r(\\theta_\\infty) = \\infty$$"
   ]
  },
  {
   "cell_type": "markdown",
   "id": "dbdeda17-f7a3-4a58-81e1-034f0c39bece",
   "metadata": {},
   "source": [
    "Roots to the denominator of the definition of $r(\\theta)$, according to equation (8.1), in terms of $\\theta$ is $\\theta_\\infty$.  \n",
    "\n",
    "$$ B^2 - c^2\\sin^2\\theta_\\infty = 0 \\quad\\implies\\quad \\sin\\theta_\\infty = \\frac{B}{c} $$"
   ]
  },
  {
   "cell_type": "markdown",
   "id": "8b6343aa-396f-40e9-a9d6-ac042eb38290",
   "metadata": {},
   "source": [
    "Thus,  \n",
    "\n",
    "$$\\theta_\\infty =\\arccos\\frac{1}{e} $$"
   ]
  },
  {
   "cell_type": "markdown",
   "id": "cd678604-5c21-4a6b-92fe-f01bd5a7336b",
   "metadata": {},
   "source": [
    "#### Parabola\n",
    "\\begin{equation}\\tag{6c}\n",
    "    y^2 = 4Ax_{\\big|e=1}\n",
    "\\end{equation}"
   ]
  },
  {
   "cell_type": "markdown",
   "id": "364c17e6-ea10-4918-afc0-e1d80d918c2f",
   "metadata": {},
   "source": [
    "## Analysis\n",
    "In this section we will analyse both equations (1) and (2) and the conics given by them.  First, let's begin with equation (1) by rearranging it.  "
   ]
  },
  {
   "cell_type": "markdown",
   "id": "f30e43a4-591b-46aa-8e62-aff712780489",
   "metadata": {},
   "source": [
    "Squaring both sides of equation (1) gives:  \n",
    "\n",
    "\\begin{equation}\\tag{1.1}\n",
    "    x^{*2} = \\big(ey^*\\big)^2 - \\big(p-y^*\\big)^2 = y^{*2}\\big(e^2 - 1\\big) + 2py^* - p^2\n",
    "\\end{equation}"
   ]
  },
  {
   "cell_type": "markdown",
   "id": "78e02ce1-5f72-4ea2-96c3-a7e381785a82",
   "metadata": {},
   "source": [
    "Does the quadratic polynomial in terms of $y^*$ on the right hand side of equation (1.1) have any real roots?  \n",
    "\n",
    "$$ 4p^2 \\;\\overset{?}{<}\\; -4p^2\\big(e^2-1\\big)\\quad\\quad\\implies\\quad 1\\overset{?}{<} 1-e^2$$"
   ]
  },
  {
   "cell_type": "markdown",
   "id": "2a85583a-a2bd-46be-8f6d-000849b8a7e3",
   "metadata": {},
   "source": [
    "$$ e^2\\overset{?}{<}0 $$"
   ]
  },
  {
   "cell_type": "markdown",
   "id": "bb4725b7-fc4d-4281-a959-395acf50f841",
   "metadata": {},
   "source": [
    "Since $e^2>0$, the aforemention polynomial, henceforth '$f\\big(y^*\\big)$', has two real roots.  Those roots are,  \n",
    "\n",
    "$$ R_y^* = \\frac{-2p\\pm\\sqrt{4p^2 + 4p^2\\big(e^2-1\\big)}}{2\\big(e^2-1\\big)} = \\frac{-p \\pm pe}{e^2-1} = p\\,\\frac{-1\\pm e}{e^2-1}\\quad\\quad\\text{where } e\\ne 1$$"
   ]
  },
  {
   "cell_type": "markdown",
   "id": "2f79968d-78ff-4598-a57b-d51629474f9d",
   "metadata": {},
   "source": [
    "\\begin{align*}\n",
    "    R_y^* &= \\left\\{p\\,\\frac{1+e}{1-e^2}, \\; p\\,\\frac{e-1}{e^2-1}\\right\\} \\\\ \\\\\n",
    "     &= \\left\\{\\frac{p}{1-e},\\;\\frac{p}{1+e}\\right\\} \\quad\\quad\\text{where }e\\ne1\n",
    "\\end{align*}"
   ]
  },
  {
   "cell_type": "markdown",
   "id": "a4835b0e-d435-48e9-af2c-ddd71ad801f5",
   "metadata": {},
   "source": [
    "For future reference, let $R_{y,p}^*$ and $R_{y,n}^*$ be defined as:  \n",
    "\n",
    "$$ R_{y,p}^* := \\frac{p}{1+e} \\quad\\quad\\text{and}\\quad\\quad R_{y,n}^* := \\frac{p}{1-e}$$"
   ]
  },
  {
   "cell_type": "markdown",
   "id": "480fa74c-d722-405e-a81a-d4501e9b834c",
   "metadata": {},
   "source": [
    "Note that $f\\big(R_y^*\\big) = R_y^{*2}\\big(e^2-1\\big) + 2pR_y^* - p^2 = 0$, where $e\\ne1$."
   ]
  },
  {
   "cell_type": "markdown",
   "id": "7fd228ef-c0e9-484f-80f2-16782883cea3",
   "metadata": {},
   "source": [
    "In the case of an **ellipse**, or, assuming $0<e<1$, both roots are positive and the leading coefficient of $f\\big(R_y^*\\big)$ is negative, which, in conjunction with the notion that $R_{y,p}^* < R_{y,n}^*$ when $0<e<1$, means that equation (1.1) has no real solution when $y^* > R_{y,n}^*$ or $y^* < R_{y,p}^*$.  This is consistent with the major axis being given by: \n",
    "\n",
    "\\begin{equation}\\tag{3a}\n",
    "    2A = R_{y,n}^* - R_{y,p}^* = -\\frac{p}{e-1} - \\frac{p}{e+1} = -p\\,\\frac{e+1 + e-1}{e^2-1} = \\frac{2pe}{1-e^2}_{\\big | 0\\,<\\,e\\,<\\,1}\n",
    "\\end{equation}"
   ]
  },
  {
   "cell_type": "markdown",
   "id": "f608c3be-c3cb-4885-b7b4-d98cb496a47d",
   "metadata": {},
   "source": [
    "In the case of a **hyperbola**, or, assuming $e>1$, one root is negative and the other is positive and the leading coefficient of $f\\big(y^*\\big)$ is positive, which, in conjunction with the notion that $R_{y,n}^* < R_{y,p}^*$ when $e>1$, means that equation (1.1) and no real solution when $y^* < R_{y,p}^*$ or $y^* > R_{y,n}^*$.  This is consistent with the major axis being given by:  \n",
    "\n",
    "\\begin{equation}\\tag{3b}\n",
    "    2A = R_{y,p}^* - R_{y,n}^* = \\frac{p}{e+1} + \\frac{p}{e-1} = p\\,\\frac{e-1 + e+1}{e^2-1} = \\frac{2pe}{e^2-1}_{\\big|e\\,>\\,1}\n",
    "\\end{equation}"
   ]
  },
  {
   "cell_type": "markdown",
   "id": "eeb6b78d-0c44-48d2-892e-dd835f549607",
   "metadata": {},
   "source": [
    "Via equations (3a,b),  \n",
    "\n",
    "\\begin{equation}\\tag{3}\n",
    "    A = \\frac{pe}{\\big|1-e^2\\big|}\n",
    "\\end{equation}"
   ]
  },
  {
   "cell_type": "markdown",
   "id": "a5ca3dd0-25cc-4b84-ab6b-52a8d9db2917",
   "metadata": {},
   "source": [
    "Now lets rearrange equation (1) such that $y^*$ is on one side of the equation.  Via equation (1.1) and the quadratic equation,  \n",
    "\n",
    "\\begin{align*}\\tag{1.2}\n",
    "    y^* &= \\frac{-2p\\pm\\sqrt{4p^2 + 4\\big(e^2-1\\big)\\big(p^2 + x^{*2}\\big)}}{2\\big(e^2-1\\big)} = \\frac{-p\\pm\\sqrt{p^2 + \\big(e^2-1\\big)\\big(p^2+ x^{*2}\\big)}}{e^2-1} \\\\ \\\\\n",
    "     &= \\frac{-p\\pm\\sqrt{(pe)^2 + x^{*2}\\big(e^2-1\\big)}}{e^2-1}\\quad\\quad\\text{where }e\\ne1\n",
    "\\end{align*}"
   ]
  },
  {
   "cell_type": "markdown",
   "id": "1ebe7e47-b96f-464d-89b4-52a82c2cec21",
   "metadata": {},
   "source": [
    "Now let $g(x^*)$ be defined as the quadratic polynomial passed as an argument to the square root in the above equation.  In the case of a **hyperbola**, $g(x^*)>0\\;\\forall x^*\\in\\mathbb{R}$, and thus equation (1.2) has a real solution for all $x^*\\in\\mathbb{R}$."
   ]
  },
  {
   "cell_type": "markdown",
   "id": "573723ed-970e-4b53-ad61-44d48ebfe4de",
   "metadata": {},
   "source": [
    "In the case of an **ellipse** however, the leading coefficient of $g(x^*)$ is negative, and thus said function is negative for some $x^*\\in\\mathbb{R}$.  Moreover, when said function is negative, $y^*$ has no real value.  To find the range of value for which $y^*$ does have a real value, let's first find the roots of $g(x^*)$.  \n",
    "\n",
    "$$ R_x^{*2}\\big(e^2-1\\big) + (pe)^2 = 0 \\quad\\implies\\quad R_x^* = \\pm\\frac{pe}{\\sqrt{1-e^2}}$$"
   ]
  },
  {
   "cell_type": "markdown",
   "id": "172e6f8e-326c-4f7a-aa8a-ea70922c77df",
   "metadata": {},
   "source": [
    "For future reference, let $R_{x,p}^*$ and $R_{x,n}^*$ be defined as the positive and negative part of the solution to $g(R_x^*)=0$ respectively.\n",
    "\n",
    "It now follows that equation (1.2) has no real solution when $x^* < R_{x,n}^*$ or $x^* > R_{x,p}^*$.  This is consistent with the minor axis being given by:  \n",
    "\n",
    "\\begin{equation}\\tag{4}\n",
    "    2B = R_{x,p}^* - R_{x,n}^* = \\frac{2pe}{\\sqrt{1-e^2}}\n",
    "\\end{equation}"
   ]
  },
  {
   "cell_type": "markdown",
   "id": "73183e7f-8b08-4752-abb3-1cad6cbb6995",
   "metadata": {},
   "source": [
    "Next, let's rearrange equation (2);  Squaring both sides of which gives:  \n",
    "\n",
    "\\begin{align*}\\tag{2.1}\n",
    "    x^2 &= e^2(y+p)^2 - y^2 = e^2\\big(y^2 + 2py + p^2\\big) - y^2 \\\\\n",
    "     &= y^2\\big(e^2 - 1\\big) + 2e^2py + (ep)^2\n",
    "\\end{align*}"
   ]
  },
  {
   "cell_type": "markdown",
   "id": "3da59e65-5fc9-4a85-9005-eb403f56a5d8",
   "metadata": {},
   "source": [
    "Now, let $f^*(y)$ be defined as the quadratic polynomial (assuming $e\\ne1$) in terms of $y$, on the right hand side of equation (2.1).  The roots of this polynomial, denoted as $R_y$, should be given by:  $R_y = R_y^* - p$.  Let's verify this proposition.  \n",
    "\n",
    "**Proposition**:  \n",
    "\n",
    "\\begin{align*}\\tag{2.2}\n",
    "    R_y=R_y^* - p &= \\left\\{\\frac{p}{1-e},\\;\\frac{p}{1+e}\\right\\} - p \\\\ \\\\\n",
    "     &= \\left\\{\\frac{pe}{1-e},\\;-\\frac{pe}{1+e}\\right\\}\n",
    "\\end{align*}"
   ]
  },
  {
   "cell_type": "markdown",
   "id": "b0f2cabd-4af7-432a-9660-29aa5333462a",
   "metadata": {},
   "source": [
    "**Proof**:  Via the notion that $f^*(R_y)=0$ and the quadratic formula,  \n",
    "\n",
    "\\begin{align*}\n",
    "    R_y &= \\frac{-2pe^2\\pm\\sqrt{4p^2e^4 + 4\\big(1-e^2\\big)(ep)^2}}{2\\big(e^2-1\\big)} = \\frac{-pe^2\\pm pe}{e^2-1} \\\\ \\\\\n",
    "     &= pe\\,\\frac{-e\\pm 1}{(e+1)(e-1)} = pe\\cdot\\left\\{-\\frac{e-1}{(e-1)(e+1)},\\;-\\frac{e+1}{(e+1)(e-1)}\\right\\} \\\\ \\\\\n",
    "     &= -\\left\\{\\frac{pe}{e+1},\\;\\frac{pe}{e-1}\\right\\} = \\left\\{-\\frac{pe}{e+1},\\;\\frac{pe}{1-e}\\right\\}\n",
    "\\end{align*}"
   ]
  },
  {
   "cell_type": "markdown",
   "id": "2e01da8e-f6af-4ff0-abb2-6ec5ec4cc4fa",
   "metadata": {},
   "source": [
    "Q.E.D."
   ]
  },
  {
   "cell_type": "markdown",
   "id": "1e250ea5-e3d5-4f13-a86c-a58f8d0cd95a",
   "metadata": {},
   "source": [
    "Now, let's rearrange equation (2) such that $y$ is on one side of the equation.  Via equation (2.1) and the quadratic formula,  \n",
    "\n",
    "\\begin{align*}\\tag{2.3}\n",
    "    y &= \\frac{-2e^2p\\pm\\sqrt{4p^2e^4 + 4\\big(1-e^2\\big)\\big((ep)^2 - x^2\\big)}}{2\\big(e^2-1\\big)} \\\\ \\\\\n",
    "\\end{align*}"
   ]
  },
  {
   "cell_type": "markdown",
   "id": "810f499b-b44f-4412-9f12-3e0f359b3344",
   "metadata": {},
   "source": [
    "$$ = \\frac{-e^2p\\pm\\sqrt{p^2e^4 + \\big(1-e^2\\big)\\big((ep)^2 - x^2\\big)}}{e^2-1}$$"
   ]
  },
  {
   "cell_type": "markdown",
   "id": "a2f10143-1599-475f-8379-69bcd8c8e3e0",
   "metadata": {},
   "source": [
    "$$ = \\frac{-e^2p\\pm\\sqrt{(ep)^2+\\big(e^2-1\\big)x^2}}{e^2-1}\\quad\\quad\\text{where }e\\ne1$$"
   ]
  },
  {
   "cell_type": "markdown",
   "id": "a090d012-f51b-4323-a647-0fb11ed99960",
   "metadata": {},
   "source": [
    "A special case is reserved for a **parabola** -- e.g. when $e=1$.  Via equation (2.1),  \n",
    "\n",
    "$$ 2e^2py = x^2 - (ep)^2_{\\big|e=1}$$"
   ]
  },
  {
   "cell_type": "markdown",
   "id": "34d20303-6d30-4ea4-9d01-89be2031d6c5",
   "metadata": {},
   "source": [
    "Dividing throughout the above equation by $2e^2p$ gives:  \n",
    "\n",
    "\\begin{equation}\\tag{2.3a}\n",
    "    y = \\frac{x^2}{2e^2p} - 0.5p \\quad\\quad\\text{where }e=1\n",
    "\\end{equation}"
   ]
  },
  {
   "cell_type": "markdown",
   "id": "f479b610-a351-4d5a-b67f-c6170deabb5f",
   "metadata": {},
   "source": [
    "Let $g^*(x)$ be defined as the argument passed to the square root in the above equation.  \n",
    "\n",
    "$$ g^*(x) = \\big(e^2-1\\big)x^2 + (ep)^2$$"
   ]
  },
  {
   "cell_type": "markdown",
   "id": "da3ff0a9-4621-4a82-bb19-3ec28a76ae6d",
   "metadata": {},
   "source": [
    "In the case of a **hyperbola**, the leading coefficent of $g^*(x)$ is positive, and thus $y\\in\\mathbb{R}\\,\\forall x\\in\\mathbb{R}\\;\\iff\\;e>1$.  "
   ]
  },
  {
   "cell_type": "markdown",
   "id": "7b132425-8b59-405a-8e53-313da8be1dad",
   "metadata": {},
   "source": [
    "In the case of an **ellipse**, the leading coefficient of $g^*(x)$ is negative, implying that $g^*(x)$ is negative for some $x\\in\\mathbb{R}$, and thus $y\\notin\\mathbb{R}$ for some $x\\in\\mathbb{R}$.  "
   ]
  },
  {
   "cell_type": "markdown",
   "id": "22db02af-9f47-4378-a250-8da47334a650",
   "metadata": {},
   "source": [
    "The roots of $g^*(x)$ are given by:  \n",
    "\n",
    "$$ g^*(R_x) = 0 \\quad\\implies\\quad R_x = \\pm\\frac{pe}{\\sqrt{1-e^2}} = R_x^*$$"
   ]
  },
  {
   "cell_type": "markdown",
   "id": "4c390dc3-6909-4216-bc89-0e613599155e",
   "metadata": {},
   "source": [
    "# Conic Parameters\n",
    "In addition to the eccentricity ($e$), foci, and directrix, various geometric features and lengths are associated with a conic section.\n",
    "\n",
    "### Principle Axis\n",
    "The principal axis is the line joining the foci of an ellipse or hyperbola, and its midpoint is the curve's center. A parabola has no center."
   ]
  },
  {
   "cell_type": "markdown",
   "id": "d5d2f446-f4da-40b7-ba34-0a0827f47c87",
   "metadata": {},
   "source": [
    "### Linear Eccentricity\n",
    "The linear eccentricity ($c$) is the distance between the center and a focus."
   ]
  },
  {
   "cell_type": "markdown",
   "id": "24686dce-30a1-4714-be34-587493069976",
   "metadata": {},
   "source": [
    "Let $f(x):=y$.  Via equation (2.3),  \n",
    "\n",
    "$$ f(0)= \\frac{-e^2p\\pm ep}{e^2-1} = ep\\,\\frac{-e\\pm 1}{(e+1)(e-1)} = -ep\\,\\left\\{\\frac{1}{e-1},\\;\\frac{1}{1+e}\\right\\} = R_y\\quad\\quad\\text{where }e\\ne1$$"
   ]
  },
  {
   "cell_type": "markdown",
   "id": "023e2ac6-e200-4ba4-bbd6-cdf0f24ce169",
   "metadata": {},
   "source": [
    "The positive and negative part of the above solution, denoted as '$R_{y,p}$' and '$R_{y,n}$' respectively, are given by:  \n",
    "\n",
    "$$ R_{y,p} = \\frac{ep}{1-e} \\quad\\quad\\text{and}\\quad\\quad R_{y,n} = -\\frac{ep}{e+1}$$"
   ]
  },
  {
   "cell_type": "markdown",
   "id": "952a2cff-bbe7-4f10-a112-39493ca420a6",
   "metadata": {},
   "source": [
    "For future reference, note that $|R_{y,p}| > |R_{y,n}|$."
   ]
  },
  {
   "cell_type": "markdown",
   "id": "6ca1b3d4-878e-44b1-bfe1-4731d530c9b9",
   "metadata": {},
   "source": [
    "In the case of an **ellipse**:  \n",
    "\n",
    "\\begin{equation}\\tag{5a}\n",
    "    c = A - |R_{y,n}| = \\frac{pe}{1-e^2} - \\frac{pe}{e+1} = -\\frac{pe}{(e+1)(e-1)} - \\frac{pe}{e+1} = -\\frac{pe^2}{e^2-1} = \\frac{pe^2}{1-e^2}_{\\big|0\\,<\\,e\\,<\\,1}\n",
    "\\end{equation}"
   ]
  },
  {
   "cell_type": "markdown",
   "id": "d193217d-1527-4157-a685-e61c1722bdd8",
   "metadata": {},
   "source": [
    "And, in the case of a **hyperbola**:  \n",
    "\n",
    "\\begin{equation}\\tag{5b}\n",
    "    c = A + |R_{y,n}| = \\frac{pe}{e+1}- \\frac{pe}{e^2-1} = \\frac{pe^2}{e^2-1}_{\\big|e\\,>\\,1}\n",
    "\\end{equation}"
   ]
  },
  {
   "cell_type": "markdown",
   "id": "9d25c0aa-2107-4070-b5d8-42489280484a",
   "metadata": {},
   "source": [
    "### Latus Rectum\n",
    "The latus rectum is the chord parallel to the directrix and passing through a focus; its half-length is the semi-latus rectum ($\\ell$)."
   ]
  },
  {
   "cell_type": "markdown",
   "id": "46af911a-6144-4c85-b0d4-5afd8999f555",
   "metadata": {},
   "source": [
    "If $y=0$ then $\\ell=|x|$.  Thus, via equation (2.1),  \n",
    "\n",
    "$$ \\ell = pe$$"
   ]
  },
  {
   "cell_type": "markdown",
   "id": "8e842a72-4df3-4339-be23-9c58f6a1a795",
   "metadata": {},
   "source": [
    "### Focal Parameter\n",
    "The focal parameter ($p$) is the distance from a focus to the corresponding directrix."
   ]
  },
  {
   "cell_type": "markdown",
   "id": "73fd2afd-3f51-4512-ace5-df0e269dc4ab",
   "metadata": {},
   "source": [
    "### Major Axis\n",
    "The major axis is the chord between the two vertices: the longest chord of an ellipse, the shortest chord between the branches of a hyperbola. Its half-length is the semi-major axis ($A$). When an ellipse or hyperbola are in standard position as in the equations below, with foci on the $x$-axis and center at the origin, the vertices of the conic have coordinates $(−A, 0)$ and $(A, 0)$, with a non-negative."
   ]
  },
  {
   "cell_type": "markdown",
   "id": "9ecac2d3-b196-41e2-8e7f-db440440d650",
   "metadata": {},
   "source": [
    "Recall equation (3).  \n",
    "\n",
    "\\begin{equation}\\tag{3}\n",
    "    A = \\frac{pe}{\\big|1-e^2\\big|}\n",
    "\\end{equation}"
   ]
  },
  {
   "cell_type": "markdown",
   "id": "a5b802bc-963b-4ba9-b3b2-339da0ce8a74",
   "metadata": {},
   "source": [
    "### Minor Axis\n",
    "The minor axis is the shortest diameter of an ellipse, and its half-length is the semi-minor axis ($B$), the same value b as in the standard equation below. By analogy, for a hyperbola the parameter $B$ in the standard equation is also called the semi-minor axis.  \n",
    "\n",
    "Dividing throughout equation (4) by $2$ gives:  \n",
    "\n",
    "\\begin{equation}\\tag{4}\n",
    "    B = \\frac{pe}{\\sqrt{1-e^2}}\n",
    "\\end{equation}"
   ]
  },
  {
   "cell_type": "markdown",
   "id": "8edfff0e-1a56-49cd-a240-67d97948f81e",
   "metadata": {},
   "source": [
    "The following relations hold:  \n",
    "\n",
    "* $\\ell = pe$\n",
    "* $c=ae$\n",
    "* $p+c = \\displaystyle\\frac{a}{e}$"
   ]
  },
  {
   "cell_type": "markdown",
   "id": "022549c9-3e3b-4e43-bfa7-5e943e59dea6",
   "metadata": {},
   "source": [
    "# Conic Definitions\n",
    "Let $F$ and $\\mathbf{Q}$ be redefined as $F:=F_2$ and $\\mathbf{P} + \\mathbf{Q} = \\mathbf{F}$, where the terminal point of the variable vector $\\mathbf{P}$ tracks (or plots) the hyperbola.  Note that all of the aforementioned vectors rest on a vector plane whose point of origin is $F_1$, whose unit vector $\\mathbf{j}$ points away from $F_2$, and whose unit vector $\\mathbf{i}$ is parallel to the directrix (the black horizontal line in the above figure)."
   ]
  },
  {
   "cell_type": "markdown",
   "id": "5ba70237-d3cc-45d5-b902-1036abdf11dd",
   "metadata": {},
   "source": [
    "## Ellipse\n",
    "Alternatively, an ellipse can be defined in terms of two focus points, as the locus of points for which the sum of the distances to the two foci is $2A$.  \n",
    "\n",
    "**Proposition**:  $\\mathbf{F} = 2c\\mathbf{j}$, which implies that $F_y = 2c$ and $F_x=0$.\n",
    "\n",
    "**Proof**:  \n",
    "\n",
    "Via this definition of an ellipse,  \n",
    "\n",
    "$$|\\mathbf{P}| + |\\mathbf{Q}| = 2A$$"
   ]
  },
  {
   "cell_type": "markdown",
   "id": "c82e5917-0caa-46ee-868e-ab70153fbf77",
   "metadata": {},
   "source": [
    "\\begin{equation}\\tag{5.1}\n",
    "    \\sqrt{P_x^2 + P_y^2} + \\sqrt{Q_y^2 + Q_x^2} = \\frac{2pe}{1-e^2}\n",
    "\\end{equation}"
   ]
  },
  {
   "cell_type": "markdown",
   "id": "f959f890-2139-42f7-abc5-da4c1ce2f5b2",
   "metadata": {},
   "source": [
    "Via equations (5.1) and (2.1), the definition of $\\mathbf{Q}$, and substitution,  \n",
    "\n",
    "$$ \\sqrt{P_y^2\\big(e^2 - 1\\big) + 2e^2pP_y + (ep)^2 + P_y^2} + \\sqrt{(F_y-P_y)^2 + (F_x-P_x)^2} = \\frac{2pe}{1-e^2}$$"
   ]
  },
  {
   "cell_type": "markdown",
   "id": "a26012d0-c876-474f-a19e-3c0853a70b26",
   "metadata": {},
   "source": [
    "$$ e\\sqrt{P_y^2 + 2pP_y + p^2} + \\sqrt{F_y^2 - 2F_yP_y + P_y^2 + F_x^2 - 2F_xP_x + P_x^2} = \\frac{2pe}{1-e^2}$$"
   ]
  },
  {
   "cell_type": "markdown",
   "id": "09b7081c-10cc-490b-914d-79c29d741ffb",
   "metadata": {},
   "source": [
    "$$ e|P_y+p| + \\frac{2pe}{e^2-1} = \\sqrt{(F_y-P_y)^2 + (F_x-P_x)^2}$$"
   ]
  },
  {
   "cell_type": "markdown",
   "id": "ee691c4e-c3b4-4171-8c30-1a93af62da58",
   "metadata": {},
   "source": [
    "Squaring both sides of the above equation gives:  \n",
    "\n",
    "$$ e^2(P_y+p)^2 + 4A^2 + 4Ae|P_y+p| = P_y^2 - 2F_yP_y + F_y^2 + P_x^2 - 2F_xP_x + F_x^2$$"
   ]
  },
  {
   "cell_type": "markdown",
   "id": "eb9e5943-bb72-43fb-807e-fb8c8f22ad7f",
   "metadata": {},
   "source": [
    "Via the above equation and equation (2.1) and substitution,  \n",
    "\n",
    "\\begin{align*}\n",
    "    e^2(P_y+p)^2 + 4A^2 + 4Ae|P_y+p| &= P_y^2 - 2F_yP_y + F_y^2 + P_y^2\\big(e^2-1\\big) + 2e^2pP_y + (ep)^2 - 2F_xP_x + F_x^2 \\\\\n",
    "    e^2\\big(P_y^2 + 2pP_y + p^2\\big) + 4A^2 + 4Ae|P_y+p|&= e^2P_y^2 - 2F_yP_y + 2e^2pP_y +(ep)^2+ F_y^2 + F_x^2 - 2F_xP_x\n",
    "\\end{align*}"
   ]
  },
  {
   "cell_type": "markdown",
   "id": "9a0a8cc6-5afb-44b5-af83-4374925bcac3",
   "metadata": {},
   "source": [
    "$$ 4A^2 + 4Ae|P_y+p| + 2P_yF_y-F_y^2 - F_x^2 + 2F_xP_x = 0$$"
   ]
  },
  {
   "cell_type": "markdown",
   "id": "2dfb2278-6af6-4a7a-9029-4a0670067826",
   "metadata": {},
   "source": [
    "Via the above equation and the quadratic formula,  \n",
    "\n",
    "\\begin{equation}\\tag{5.2}\n",
    "    F_y = \\frac{2P_y\\pm \\sqrt{4P_y^2 +4 H}}{2}\n",
    "\\end{equation}"
   ]
  },
  {
   "cell_type": "markdown",
   "id": "26e3e304-5535-490d-a3e6-b92e5c9f1f67",
   "metadata": {},
   "source": [
    "$$ = P_y\\pm\\sqrt{P_y^2 + H}$$"
   ]
  },
  {
   "cell_type": "markdown",
   "id": "716b9445-35aa-4033-b276-5d51d31966e7",
   "metadata": {},
   "source": [
    "where  \n",
    "\n",
    "\\begin{equation}\\tag{5.2a}\n",
    "    H = 4A^2 + 4Ae|P_y+p| - F_x^2 + 2F_xP_x\n",
    "\\end{equation}"
   ]
  },
  {
   "cell_type": "markdown",
   "id": "bcb58875-fd2e-4763-86db-715851b95bde",
   "metadata": {},
   "source": [
    "Via the above two equatons,  \n",
    "\n",
    "$$ F_y\\in\\mathbb{R}\\;\\iff\\; F_x=0$$"
   ]
  },
  {
   "cell_type": "markdown",
   "id": "8d4ddf1d-8fb4-4653-b2fa-c32ad1127dc3",
   "metadata": {},
   "source": [
    "Whereas $F_y\\in\\mathbb{R}$, therefore $F_x=0$."
   ]
  },
  {
   "cell_type": "markdown",
   "id": "9557c907-76e1-4fd3-9bb4-fd904efaeaab",
   "metadata": {},
   "source": [
    "$$ F_y\\in\\mathbb{R}\\therefore F_x=0$$"
   ]
  },
  {
   "cell_type": "markdown",
   "id": "8fcb1d7a-48c2-4072-87df-ac047f97eebc",
   "metadata": {},
   "source": [
    "Via the above proposition (the fact that $F_x=0$), equation (5.2), and substitution,  \n",
    "\n",
    "$$ F_y = P_y\\pm\\sqrt{P_y^2 + 4Ae|P_y+p| + 4A^2}$$"
   ]
  },
  {
   "cell_type": "markdown",
   "id": "959a4459-12db-4df7-85ba-cb3ef9d1bfef",
   "metadata": {},
   "source": [
    "Now, let $f(P_y)$ be defined as the argument passed to the square root in  the above equation.  If $f(P_y)$ has exactly one root, then said square root \"simplifies\" to a linear polynomial in terms of $P_y$.  \n",
    "\n",
    "$$ P_y^2 + 4A^2 + 4Ae|P_y+p| = 0 \\quad\\implies\\quad 4Ae(P_y+p) = \\pm\\big(P_y^2 + 4A^2\\big)$$"
   ]
  },
  {
   "cell_type": "markdown",
   "id": "6df38140-0880-4bc3-868f-ce07c8d68ed8",
   "metadata": {},
   "source": [
    "Thus,  \n",
    "\n",
    "$$ \\pm P_y^2 + 4AeP_y + 4Aep \\pm 4A^2 = 0$$"
   ]
  },
  {
   "cell_type": "markdown",
   "id": "5c5c9ebc-12d5-49da-84c5-27d665737d5e",
   "metadata": {},
   "source": [
    "Now, we must find out the nature of the relationship described below to find out the number of roots $f(P_y)$ has.  \n",
    "\n",
    "$$ 16(Ae)^2\\overset{?}{=} \\pm4\\big(4Aep \\pm 4A^2\\big)$$"
   ]
  },
  {
   "cell_type": "markdown",
   "id": "f40df8e5-dece-4e0e-9d4b-802648fccd89",
   "metadata": {},
   "source": [
    "Dividing throughout by $4A$ gives:  \n",
    "\n",
    "$$ Ae^2 \\overset{?}{=}\\pm\\big(ep\\pm A\\big) \\quad\\implies\\quad Ae^2 \\pm ep \\pm A \\overset{?}{=} 0$$"
   ]
  },
  {
   "cell_type": "markdown",
   "id": "13cc694b-930d-4fd3-8d5d-d79f939f255f",
   "metadata": {},
   "source": [
    "$$ Ae^2 - ep \\pm A = \\frac{e^3p \\pm ep \\pm ep\\big(e^2-1\\big)}{1-e^2} $$"
   ]
  },
  {
   "cell_type": "markdown",
   "id": "0612821b-a2db-4f07-b293-42d9af175168",
   "metadata": {},
   "source": [
    "The above equation is consistent with the notion that $f(P_y)$ has exactly one root.  Said root is:  \n",
    "\n",
    "$$ \\pm2Ae$$"
   ]
  },
  {
   "cell_type": "markdown",
   "id": "65e6afdb-1384-4237-aea4-0c11da6007be",
   "metadata": {},
   "source": [
    "Thus:  \n",
    "\n",
    "$$ F_y = P_y\\pm(P_y\\pm2Ae)$$"
   ]
  },
  {
   "cell_type": "markdown",
   "id": "ddba937f-b643-4990-a806-81adb1893193",
   "metadata": {},
   "source": [
    "The above equation is consistent with the notion that $F_y = 2Ae = 2c$."
   ]
  },
  {
   "cell_type": "markdown",
   "id": "97a850ba-0211-42aa-a75c-87e0e5b680d8",
   "metadata": {},
   "source": [
    "## Hyperbola \n",
    "While a hyperbola is the locus for which the difference of distances is $2A$. (Here a is the semi-major axis defined below.)   \n",
    "\n",
    "![hyperbola-2foci](Figures/hyperbola-2foci.png)"
   ]
  },
  {
   "cell_type": "markdown",
   "id": "05c1b98a-ab8f-44da-8862-e3f3ee9a14e4",
   "metadata": {},
   "source": [
    "## Parabola\n",
    "A parabola may also be defined in terms of its focus and latus rectum line (parallel to the directrix and passing through the focus): it is the locus of points whose distance to the focus plus or minus the distance to the line is equal to $2A$; plus if the point is between the directrix and the latus rectum, minus otherwise."
   ]
  },
  {
   "cell_type": "markdown",
   "id": "ff464cba-fbe4-423a-86ca-4bfa0c343c36",
   "metadata": {},
   "source": [
    "Via equation (2.3a),  \n",
    "\n",
    "$$ P_y = \\frac{P_x^2}{2p} - 0.5p$$"
   ]
  },
  {
   "cell_type": "markdown",
   "id": "2a5a2a27-3ca8-4ece-af88-8c8144460b05",
   "metadata": {},
   "source": [
    "And, as implied by the definition of a parabola,  \n",
    "\n",
    "$$ |\\mathbf{P}| - P_y = \\sqrt{P_x^2 + P_y^2} - P_y = 2A  $$"
   ]
  },
  {
   "cell_type": "markdown",
   "id": "5f4e219f-467b-4710-b5d2-3fc1fdcc8846",
   "metadata": {},
   "source": [
    "Via the above equation and equation (2.1) and substitution,  \n",
    "\n",
    "$$ \\sqrt{2pP_y + p^2 + P_y^2} - P_y = |P_y+p| - P_y = 2A $$"
   ]
  },
  {
   "cell_type": "markdown",
   "id": "a9dc18fe-d0b9-4e1f-b68c-f7358620adad",
   "metadata": {},
   "source": [
    "Thus,  \n",
    "\n",
    "$$ P_y + p \\pm P_y = \\pm2A$$"
   ]
  },
  {
   "cell_type": "markdown",
   "id": "e2f0d0c6-9bc8-4623-96b5-651b9c363ad1",
   "metadata": {},
   "source": [
    "Finally,  \n",
    "\n",
    "\\begin{equation}\\tag{3c}\n",
    "    A = 0.5p_{\\big|e=1}\n",
    "\\end{equation}"
   ]
  },
  {
   "cell_type": "markdown",
   "id": "b1bd896c-ccfd-45a2-b7bc-900893366016",
   "metadata": {},
   "source": [
    "And, via the fact that $c = Ae = A$, the above equation, and equivalence principle,  \n",
    "\n",
    "\\begin{equation}\\tag{5c}\n",
    "    c = A = 0.5p_{\\big|e=1}\n",
    "\\end{equation}"
   ]
  }
 ],
 "metadata": {
  "kernelspec": {
   "display_name": "Python 3 (ipykernel)",
   "language": "python",
   "name": "python3"
  },
  "language_info": {
   "codemirror_mode": {
    "name": "ipython",
    "version": 3
   },
   "file_extension": ".py",
   "mimetype": "text/x-python",
   "name": "python",
   "nbconvert_exporter": "python",
   "pygments_lexer": "ipython3",
   "version": "3.10.12"
  },
  "toc-autonumbering": false,
  "toc-showtags": false
 },
 "nbformat": 4,
 "nbformat_minor": 5
}
