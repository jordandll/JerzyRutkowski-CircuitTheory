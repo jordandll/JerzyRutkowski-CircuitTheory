{
 "cells": [
  {
   "cell_type": "markdown",
   "id": "9b7a1054-ef8b-4f25-bc6f-e6631faeb181",
   "metadata": {},
   "source": [
    "# Conic Equations\n",
    "\n",
    "Herein we will look at ways to obtain equations that give the three types of conics, ellipses, parabolas, and hyperbolas -- circles excluded -- in $x,y$ rectilinear coordinates.  Note that this notebook is complimentary to [this notebook](ConicSection.ipynb) about conic sections (conics)."
   ]
  },
  {
   "cell_type": "markdown",
   "id": "cc4f4429-6e70-43cf-bbda-3343cecf7e04",
   "metadata": {},
   "source": [
    "![ellipse](Figures/ellipse.png)"
   ]
  },
  {
   "cell_type": "markdown",
   "id": "a74743f4-4925-4c93-93db-bdcf18c15dc3",
   "metadata": {},
   "source": [
    "First, suppose that the focus $F$, directrix $L$, and every conic found in the above figure rests on a vector plane whose point of origin is at $F'$, the point of incidence between $L$ and the perpendicular dropped from $F$ to the directrix.  The unit vector $\\mathbf{i}$ rests on $L$ and the unit vector $\\mathbf{j}$ points towards the focus.  The terminal point of the variable vector $\\mathbf{P}$ tracks -- one may think of this as plotting -- the conic in question;  In the case of the figure found above, $P$ tracks the hyperbola."
   ]
  },
  {
   "cell_type": "markdown",
   "id": "642031ce-c0b0-44e9-9ae3-84296fda9aa9",
   "metadata": {},
   "source": [
    "Now let $\\mathbf{Q}$ be defined by $\\mathbf{P} + \\mathbf{Q} = \\mathbf{F}$, where $\\mathbf{F}$ is a vector whose terminal point is the focus.  It now follows that:  \n",
    "\n",
    "$$ |\\mathbf{Q}| = |PF| = e\\cdot|PP'| = eP_y$$"
   ]
  },
  {
   "cell_type": "markdown",
   "id": "48e8a81c-7f2c-4777-b559-ca55af2038f9",
   "metadata": {},
   "source": [
    "Let $y^*$, $x$ and $x^*$ be defined as $y^*:=P_y$ and $x:=x^*:=P_x$.  It now follows that $|\\mathbf{Q}| = ey^*$.  The following holds true:  \n",
    "\n",
    "$$ Q_x = -P_x = -x \\quad\\quad\\text{and}\\quad\\quad P_y + Q_y = y^* + Q_y = F_y$$"
   ]
  },
  {
   "cell_type": "markdown",
   "id": "ef31b013-e906-4ed0-a1be-cca7f5439954",
   "metadata": {},
   "source": [
    "\\begin{equation}\\tag{1}\n",
    "    |\\mathbf{Q}| = \\sqrt{Q_x^2 + Q_y^2} = \\sqrt{x^{*2} + \\big(F_y - y^*\\big)^2} = ey^* \n",
    "\\end{equation}"
   ]
  },
  {
   "cell_type": "markdown",
   "id": "9378475d-1353-4c62-9e17-04e7eced4c69",
   "metadata": {},
   "source": [
    "With equation (1) we have an equation that gives our conic in $x^*,y^*$ rectilinear coordinates in a coordinate system whereby the axes rests on the vector plane, has a point of origin at the origin of the vector plane, $\\mathbf{i}$ rests on the $x^*$-axis and points in the positive direction of said axis, and $\\mathbf{j}$ rests on the $y^*$-axis and points on the positive direction of said axis."
   ]
  },
  {
   "cell_type": "markdown",
   "id": "9ecec165-0f64-49a0-b3bf-0df2b5b3400f",
   "metadata": {},
   "source": [
    "Now, let $y$ be defined as $y:=y^* + F_y$.  Via this definition, the definition of $x$, equation (1) and substitution,  \n",
    "\n",
    "\\begin{equation}\\tag{2}\n",
    "    \\sqrt{x^2 + \\big(2F_y - y\\big)^2} = e\\big(y-F_y\\big)\n",
    "\\end{equation}"
   ]
  },
  {
   "cell_type": "markdown",
   "id": "74eeec9c-d0b3-430b-9750-42d73bcb63d0",
   "metadata": {},
   "source": [
    "With equation (2) we have an equation that gives our conic in $x,y$ rectilinear coordinates in a coordinate system whereby the axes has a point of origin at $F$, the $x$-axis is parallel to the $x^*$-axis, the $x$ and $x^*$ axis share the same positive direction, as do the $y$-axis and $y^*$-axis."
   ]
  }
 ],
 "metadata": {
  "kernelspec": {
   "display_name": "Python 3 (ipykernel)",
   "language": "python",
   "name": "python3"
  },
  "language_info": {
   "codemirror_mode": {
    "name": "ipython",
    "version": 3
   },
   "file_extension": ".py",
   "mimetype": "text/x-python",
   "name": "python",
   "nbconvert_exporter": "python",
   "pygments_lexer": "ipython3",
   "version": "3.10.6"
  }
 },
 "nbformat": 4,
 "nbformat_minor": 5
}
