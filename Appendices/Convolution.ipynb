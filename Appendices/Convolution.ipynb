{
 "cells": [
  {
   "cell_type": "markdown",
   "id": "20a33cc2",
   "metadata": {},
   "source": [
    "# Convolution\n",
    "### *Appendix*  D"
   ]
  },
  {
   "cell_type": "code",
   "execution_count": 1,
   "id": "c820df8a",
   "metadata": {},
   "outputs": [],
   "source": [
    "import numpy as np\n",
    "import matplotlib.pyplot as plt"
   ]
  },
  {
   "cell_type": "markdown",
   "id": "e6cc7b73",
   "metadata": {},
   "source": [
    "Convolution is a mathematical operation performed on two functions.  It is applied in circuit theory, specifically in chapter 3 section 3 of this textbook."
   ]
  },
  {
   "cell_type": "markdown",
   "id": "688ebe84",
   "metadata": {},
   "source": [
    "### Example\n",
    "\n",
    "Let $f(t)$ and $g(t)$ be defined as:  \n",
    "\n",
    "$$ f(t) := u(t) - u(t-1) \\quad\\quad \\text{and}\\quad\\quad g(t):=f(t)\\cdot(1-t)$$"
   ]
  },
  {
   "cell_type": "markdown",
   "id": "436de3ec",
   "metadata": {},
   "source": [
    "Here, $u(t)$ is the unit-step function."
   ]
  },
  {
   "cell_type": "code",
   "execution_count": 20,
   "id": "a0098351",
   "metadata": {
    "code_folding": [
     0
    ]
   },
   "outputs": [
    {
     "data": {
      "text/plain": [
       "<matplotlib.legend.Legend at 0x7f91538be9d0>"
      ]
     },
     "execution_count": 20,
     "metadata": {},
     "output_type": "execute_result"
    },
    {
     "data": {
      "image/png": "[encoded data removed]",
      "text/plain": [
       "<Figure size 432x288 with 1 Axes>"
      ]
     },
     "metadata": {
      "needs_background": "light"
     },
     "output_type": "display_data"
    }
   ],
   "source": [
    "# Create the time domain.\n",
    "t = np.linspace(-1,2,num=50)\n",
    "\n",
    "# Define the unit-step function.\n",
    "u = lambda tau: int(1) if tau > 0 else int(0)\n",
    "# Define the square impulse (f) and sawtooth impulse (g) functions.\n",
    "f = lambda tau: u(tau) - u(tau-1)\n",
    "g = lambda tau: f(tau)*(1-tau)\n",
    "\n",
    "fig, ax = plt.subplots()\n",
    "ax.grid()\n",
    "\n",
    "ax.plot(t, list(map(f, t)), label=r'$f(t)$')\n",
    "ax.plot(t, list(map(g, t)), label=r'$g(t)$')\n",
    "ax.legend()"
   ]
  },
  {
   "cell_type": "markdown",
   "id": "f198f73d",
   "metadata": {},
   "source": [
    "Now, let $h(t)$ be defined as:  \n",
    "\n",
    "$$ h(t):= f(t)*g(t) = \\int_{-\\infty}^\\infty f(\\tau)\\,g(t-\\tau)\\,\\mathrm{d}\\tau$$"
   ]
  },
  {
   "cell_type": "markdown",
   "id": "b18937d0",
   "metadata": {},
   "source": [
    "Let $g^*$ be defined as $g^*(\\tau\\,\\vert\\, t) = f(\\tau)\\cdot(\\tau + 1 + t)$.  \n",
    "\n",
    "$$ h(t) = \\int_0^t f(\\tau)\\,g^*(\\tau \\,\\vert\\, t)\\,\\mathrm{d}\\tau$$"
   ]
  },
  {
   "cell_type": "code",
   "execution_count": 18,
   "id": "1ce4685e",
   "metadata": {},
   "outputs": [
    {
     "data": {
      "text/plain": [
       "0"
      ]
     },
     "execution_count": 18,
     "metadata": {},
     "output_type": "execute_result"
    }
   ],
   "source": [
    "f"
   ]
  },
  {
   "cell_type": "markdown",
   "id": "65ebfb44",
   "metadata": {},
   "source": [
    "## Bilateral Laplace Transform\n",
    "\n",
    "Let $F$ and $G$ be defined as:  \n",
    "\n",
    "\\begin{equation}\\tag{1}\n",
    "    F := \\int_a^b f(x)\\,\\mathrm{d}x \\quad\\quad\\text{and}\\quad\\quad G := \\int_a^b g(y)\\,\\mathrm{d}y\n",
    "\\end{equation}    "
   ]
  },
  {
   "cell_type": "markdown",
   "id": "9e9d8ed0",
   "metadata": {},
   "source": [
    "\\begin{equation}\\tag{2}\n",
    "    F = \\mathrm{d}x\\big(f(x_0) + f(x_1) + \\dots + f(x_n)\\big) \\quad\\quad \\text{and}\\quad\\quad G = \\mathrm{d}y\\big(g(y_0) + g(y_1) + \\dots + g(y_m)\\big)\n",
    "\\end{equation}    "
   ]
  },
  {
   "cell_type": "markdown",
   "id": "09fae263",
   "metadata": {},
   "source": [
    "where,\n",
    "$$ x_0=y_0=a \\quad\\quad x_n=y_m=b \\quad\\quad x_{i+1}-x_i = \\mathrm{d}x \\quad\\quad y_{i+1} - y_i = \\mathrm{d}y$$"
   ]
  },
  {
   "cell_type": "markdown",
   "id": "e3cfe2f4",
   "metadata": {},
   "source": [
    "$$ n\\cdot\\mathrm{d}x = m\\cdot\\mathrm{d}y= a-b $$"
   ]
  },
  {
   "cell_type": "markdown",
   "id": "3dd29a78",
   "metadata": {},
   "source": [
    "$$ F\\cdot G = \\int_a^b f(x)\\,\\mathrm{d}t \\cdot \\int_a^b g(y)\\,\\mathrm{d}y = \\mathrm{d}x\\,\\mathrm{d}y\\big(f(x_0) + f(x_1) + \\dots + f(x_n)\\big)\\big(g(y_0) + g(y_1) + \\dots + g(y_m)\\big)$$"
   ]
  },
  {
   "cell_type": "markdown",
   "id": "813e4305",
   "metadata": {},
   "source": [
    "$$ = \\mathrm{d}x\\,\\mathrm{d}y\\Big(f(x_0)\\big(g(y_0) + g(y_1) + \\dots + g(y_m)\\big) + f(x_1)\\big(g(y_0) + g(y_1) + \\dots + g(y_m)\\big) + \\dots + f(x_n)\\big(g(y_0) + g(y_1) + \\dots + g(y_m)\\big) \\Big)$$"
   ]
  },
  {
   "cell_type": "markdown",
   "id": "1e1ed829",
   "metadata": {},
   "source": [
    "$$ = \\int_a^b \\int_a^b f(x)g(y)\\,\\mathrm{d}y\\,\\mathrm{d}x$$"
   ]
  },
  {
   "cell_type": "markdown",
   "id": "1884f359",
   "metadata": {},
   "source": []
  }
 ],
 "metadata": {
  "kernelspec": {
   "display_name": "Python 3",
   "language": "python",
   "name": "python3"
  },
  "language_info": {
   "codemirror_mode": {
    "name": "ipython",
    "version": 3
   },
   "file_extension": ".py",
   "mimetype": "text/x-python",
   "name": "python",
   "nbconvert_exporter": "python",
   "pygments_lexer": "ipython3",
   "version": "3.8.10"
  }
 },
 "nbformat": 4,
 "nbformat_minor": 5
}
