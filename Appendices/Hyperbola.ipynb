{
 "cells": [
  {
   "cell_type": "markdown",
   "id": "605f6c43",
   "metadata": {},
   "source": [
    "# Hyperbola\n",
    "\n",
    "A hyperbola is one of the three [conic sections](ConicSection.ipynb) -- the others being the parabola and the ellipse, while the circle is a special case."
   ]
  }
 ],
 "metadata": {
  "kernelspec": {
   "display_name": "Python 3 (ipykernel)",
   "language": "python",
   "name": "python3"
  },
  "language_info": {
   "codemirror_mode": {
    "name": "ipython",
    "version": 3
   },
   "file_extension": ".py",
   "mimetype": "text/x-python",
   "name": "python",
   "nbconvert_exporter": "python",
   "pygments_lexer": "ipython3",
   "version": "3.10.6"
  }
 },
 "nbformat": 4,
 "nbformat_minor": 5
}
