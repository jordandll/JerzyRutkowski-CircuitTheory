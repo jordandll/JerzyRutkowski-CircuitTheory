{
 "cells": [
  {
   "cell_type": "markdown",
   "id": "b59c232e-b5cf-4bc4-a9e6-c8c3395d9fd1",
   "metadata": {},
   "source": [
    "# Trig Identities\n",
    "\n",
    "**Proposition**:  \n",
    "\n",
    "\\begin{equation}\\tag{1}\n",
    "    \\sin2\\theta = 2\\sin\\theta\\cos\\theta\n",
    "\\end{equation}"
   ]
  },
  {
   "cell_type": "markdown",
   "id": "6424ab17-c7d1-43d6-8b4c-2ae3251782bc",
   "metadata": {},
   "source": [
    "**Proof**:  \n",
    "\n",
    "Suppose there exists an isocseles triangle with a top angle of $2\\theta$, two bottom angles of $\\beta$, and two legs with a length of $1$.  It follows that the base $b$ has a length $b=2\\sin\\theta$ and that $2\\theta + 2\\beta = \\pi$.  Now, let $c:=\\sin2\\theta$.  Via Pythagorean's theorem,  \n",
    "\n",
    "$$ c^2 + a^2 = b^2\\quad\\quad\\text{where }\\;\\cos\\beta = \\frac{a}{b}$$"
   ]
  },
  {
   "cell_type": "markdown",
   "id": "eb7e696b-253a-4a67-9039-9cae7120e1d9",
   "metadata": {},
   "source": [
    "$$ \\sin\\beta = \\sin2\\theta \\quad\\quad \\beta = 0.5\\pi - \\theta$$"
   ]
  },
  {
   "cell_type": "markdown",
   "id": "d42d1c86-b553-454d-9d5f-9f1ccd8abba2",
   "metadata": {},
   "source": [
    "Thus,  \n",
    "\n",
    "$$ \\sin^2 2\\theta + 4\\sin^2\\sin^2\\theta = 4\\sin^2\\theta$$"
   ]
  },
  {
   "cell_type": "markdown",
   "id": "10e77699-da7f-440a-b80d-e87d16151d3e",
   "metadata": {},
   "source": [
    "$$ \\sin^2 2\\theta = 4\\sin^2\\theta\\big(1-\\cos^2\\theta\\big) = 4\\sin^2\\cos^2\\theta$$"
   ]
  },
  {
   "cell_type": "markdown",
   "id": "11a47794-cbe9-4203-b752-056dfe3e967c",
   "metadata": {},
   "source": [
    "$$ \\sin2\\theta = 2\\sin\\theta\\cos\\theta$$"
   ]
  },
  {
   "cell_type": "markdown",
   "id": "de8fdd1b-2d34-4334-9957-fe2f60fa42ab",
   "metadata": {},
   "source": [
    "Q.E.D."
   ]
  },
  {
   "cell_type": "markdown",
   "id": "b0e31b50-f129-4136-9471-2033d0a2d18b",
   "metadata": {},
   "source": [
    "**Proposition**:  \n",
    "\n",
    "\\begin{equation}\\tag{2}\n",
    "    \\cos^2 \\theta = 0.5\\big(\\cos2\\theta + 1\\big)\n",
    "\\end{equation}"
   ]
  },
  {
   "cell_type": "markdown",
   "id": "001a387a-f25b-47d5-b7b1-ea2717a8b253",
   "metadata": {},
   "source": [
    "**Proof**:  \n",
    "\n",
    "$$ \\frac{\\mathrm{d}\\cos^2\\theta}{\\mathrm{d}\\theta} = -2\\sin\\theta\\cos\\theta = -\\sin2\\theta$$"
   ]
  },
  {
   "cell_type": "markdown",
   "id": "955fa7a3-8551-4e83-8bf8-9c8f3326b6a7",
   "metadata": {},
   "source": [
    "$$ -\\int\\sin2\\theta\\,\\mathrm{d}\\theta = 0.5\\cos2\\theta + K$$"
   ]
  },
  {
   "cell_type": "markdown",
   "id": "b4a140a0-cbd5-4719-825a-e380e026f439",
   "metadata": {},
   "source": [
    "Via the above two equations and equivalence principle,  \n",
    "\n",
    "$$ 0.5\\cos2\\theta + K = \\cos^2\\theta$$"
   ]
  },
  {
   "cell_type": "markdown",
   "id": "dd96a1c5-a2e9-42e6-8dce-1ac4692b3f6c",
   "metadata": {},
   "source": [
    "Assuming $\\theta=0$, the solution to the above is:  \n",
    "\n",
    "$$ K = 0.5$$"
   ]
  },
  {
   "cell_type": "markdown",
   "id": "7db13824-4e13-429a-8b1e-f7078f7c3481",
   "metadata": {},
   "source": [
    "Q.E.D."
   ]
  },
  {
   "cell_type": "markdown",
   "id": "2dd20a60-e0da-46cb-a5a9-6f51c9314c38",
   "metadata": {},
   "source": [
    "**Proposition**:  \n",
    "\n",
    "\\begin{equation}\\tag{3}\n",
    "    \\sin^2\\theta = 0.5\\big(1-\\cos2\\theta\\big)\n",
    "\\end{equation}"
   ]
  }
 ],
 "metadata": {
  "kernelspec": {
   "display_name": "Python 3 (ipykernel)",
   "language": "python",
   "name": "python3"
  },
  "language_info": {
   "codemirror_mode": {
    "name": "ipython",
    "version": 3
   },
   "file_extension": ".py",
   "mimetype": "text/x-python",
   "name": "python",
   "nbconvert_exporter": "python",
   "pygments_lexer": "ipython3",
   "version": "3.10.6"
  }
 },
 "nbformat": 4,
 "nbformat_minor": 5
}
