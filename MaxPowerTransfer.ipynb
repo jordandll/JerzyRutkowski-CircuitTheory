{
 "cells": [
  {
   "cell_type": "markdown",
   "id": "a2d458df",
   "metadata": {},
   "source": [
    "# Maximum Power Transfer Theorem\n",
    "Consider a source-load single loop circuit, as presented in Fig. 2.5.11a and the following\n",
    "problem:\n",
    "For the given source, characterized by parameters $E_\\mathrm{o}$ and $R_\\mathrm{t}$, find the load resistance ($R_\\mathrm{l}$) such\n",
    "that the maximum power available from the source is transferred to this load."
   ]
  },
  {
   "cell_type": "markdown",
   "id": "a38f2982",
   "metadata": {},
   "source": [
    "The power absorbed by the load is:  \n",
    "\n",
    "\\begin{equation}\\tag{1}\n",
    "    P_\\mathrm{l} = I^2R_\\mathrm{l} = \\left( \\frac{E_\\mathrm{o}}{R_\\mathrm{t} + R_\\mathrm{l}}\\right)^2R_\\mathrm{l} = f(R_\\mathrm{l})\n",
    "\\end{equation}    "
   ]
  },
  {
   "cell_type": "markdown",
   "id": "887601d5",
   "metadata": {},
   "source": [
    "To find the value of $R_\\mathrm{l}$ that maximizes this power, the differential calculus to find where the\n",
    "derivative equals zero can be used:  \n",
    "\n",
    "\\begin{equation}\\tag{2}\n",
    "    \\frac{\\mathrm{d}P_\\mathrm{l}}{\\mathrm{d}R_\\mathrm{l}} = 0 \\implies R_\\mathrm{l} = R_\\mathrm{t}\n",
    "\\end{equation}    "
   ]
  },
  {
   "cell_type": "markdown",
   "id": "4edd5c1c",
   "metadata": {},
   "source": [
    "Or, to put it another way, $f'(R_\\mathrm{t}) = 0$."
   ]
  },
  {
   "cell_type": "markdown",
   "id": "05a8004c",
   "metadata": {},
   "source": [
    "The proof for the above relationship:  \n",
    "\n",
    "$$ f'(R_\\mathrm{l}) = I^2 - 2R_\\mathrm{l}\\,\\frac{E_\\mathrm{o}^2}{(R_\\mathrm{t} + R_\\mathrm{l})^3}$$"
   ]
  },
  {
   "cell_type": "markdown",
   "id": "04caeef9",
   "metadata": {},
   "source": [
    "$$ f'(R_\\mathrm{t}) = \\frac{E_\\mathrm{o}^2}{4R_\\mathrm{t}^2} - 2R_\\mathrm{t}\\,\\frac{E_\\mathrm{o}^2}{8R_\\mathrm{t}^3} = 0$$"
   ]
  },
  {
   "cell_type": "markdown",
   "id": "0b865851",
   "metadata": {},
   "source": [
    "The maximum power delivered by a source represented by its Thevenin equivalent is attained\n",
    "when the load resistance ($R_\\mathrm{l}$) is equal to the internal resistance ($R_\\mathrm{t}$)."
   ]
  },
  {
   "cell_type": "markdown",
   "id": "92d23712",
   "metadata": {},
   "source": [
    "In general, the roots ($R$) of $f'(R_\\mathrm{l})$ are given by:  \n",
    "\n",
    "$$ f'(R) = 0$$"
   ]
  },
  {
   "cell_type": "markdown",
   "id": "5b707a77",
   "metadata": {},
   "source": [
    "$$ E_\\mathrm{o}^2 - 2R\\,\\frac{E_\\mathrm{o}^2}{R_\\mathrm{t} + R} = 0$$"
   ]
  },
  {
   "cell_type": "markdown",
   "id": "152b6db6",
   "metadata": {},
   "source": [
    "$$ 1 - \\frac{2R}{R_\\mathrm{t}+R} = 0$$"
   ]
  },
  {
   "cell_type": "markdown",
   "id": "ff62355b",
   "metadata": {},
   "source": [
    "$$ \\frac{2R}{R_\\mathrm{t}+R} = 1$$"
   ]
  },
  {
   "cell_type": "markdown",
   "id": "c64e7bbf",
   "metadata": {},
   "source": [
    "$$ R_\\mathrm{t} + R = 2R$$"
   ]
  },
  {
   "cell_type": "markdown",
   "id": "3d8c12f2",
   "metadata": {},
   "source": [
    "$$ R = R_\\mathrm{t}$$"
   ]
  },
  {
   "cell_type": "markdown",
   "id": "5a388c83",
   "metadata": {},
   "source": [
    "The normalized plot $P_\\mathrm{l}\\,\\mathrm{/}\\,P_\\mathrm{l}^\\max$ as a function of $R_\\mathrm{l}\\,/\\,R_\\mathrm{t}$  is presented in Fig. 2.6.1, together with the system\n",
    "efficiency plot."
   ]
  },
  {
   "cell_type": "markdown",
   "id": "9dc25410",
   "metadata": {},
   "source": [
    "**Efficiency of power transfer** is defined as ratio of the power delivered to a load from a\n",
    "practical source to the power supplied by the emf (the Thevenin equivalent voltage or the Norton equivalent current).  \n",
    "\n",
    "\\begin{equation}\\tag{3}\n",
    "    \\eta \\% = \\frac{P_\\mathrm{l}}{P_{E_\\mathrm{o}}}\\,100\\% = \\frac{I^2R_\\mathrm{l}}{IE_\\mathrm{o}}\\,100\\% = \\frac{R_\\mathrm{l}}{R_\\mathrm{t}+R_\\mathrm{l}}\\,100\\%\n",
    "\\end{equation}    "
   ]
  },
  {
   "cell_type": "markdown",
   "id": "e5d6cefc",
   "metadata": {},
   "source": [
    "The above follows from the following:  Via KVL and Ohm's law,  \n",
    "\n",
    "$$ U - R_\\mathrm{l}I = E_\\mathrm{o} - R_\\mathrm{t}I - R_\\mathrm{l}I= 0$$"
   ]
  },
  {
   "cell_type": "markdown",
   "id": "f8869923",
   "metadata": {},
   "source": [
    "$$ E_\\mathrm{o} = I(R_\\mathrm{t} + R_\\mathrm{l})$$"
   ]
  },
  {
   "cell_type": "markdown",
   "id": "3c04eb6a",
   "metadata": {},
   "source": [
    "$$ \\frac{1}{R_\\mathrm{t} + R_\\mathrm{l}} = \\frac{I}{E_\\mathrm{o}}$$"
   ]
  },
  {
   "cell_type": "markdown",
   "id": "41822214",
   "metadata": {},
   "source": [
    "Under **maximum power transfer** conditions:"
   ]
  },
  {
   "cell_type": "markdown",
   "id": "92f7f266",
   "metadata": {},
   "source": [
    "\\begin{equation}\\tag{4a}\n",
    "    P_\\mathrm{l} = P_\\mathrm{l}^\\max = f(R_\\mathrm{t}) = \\frac{E_\\mathrm{o}^2}{4 R_\\mathrm{t}}\n",
    "\\end{equation}"
   ]
  },
  {
   "cell_type": "markdown",
   "id": "5dc22994",
   "metadata": {},
   "source": [
    "\\begin{equation}\\tag{4b}\n",
    "    I = \\frac{E_\\mathrm{o}}{2R_\\mathrm{t}}\n",
    "\\end{equation}    "
   ]
  },
  {
   "cell_type": "markdown",
   "id": "968bd6a3",
   "metadata": {},
   "source": [
    "and,\n",
    "\\begin{equation}\\tag{4c}\n",
    "    \\eta \\% = 50\\%\n",
    "\\end{equation}    "
   ]
  },
  {
   "cell_type": "markdown",
   "id": "92ade5f9",
   "metadata": {},
   "source": [
    " $$\\frac{f(R_\\mathrm{l})}{f(R_\\mathrm{t})} = \\frac{4R_\\mathrm{l}R_\\mathrm{t}}{(R_\\mathrm{t}+R_\\mathrm{l})^2}$$"
   ]
  },
  {
   "cell_type": "markdown",
   "id": "45339836",
   "metadata": {},
   "source": [
    "### Example 2.6.2\n",
    "In the circuit shown in Fig. 2.6.2, suppose $E_x$ is adjustable. Find its value such that the\n",
    "maximum power is transferred from A to B. What is the value of $P_\\mathrm{l}^\\max$.  \n",
    "\n",
    "![Fig-2.6.2](Figures/Fig-2.6.2.png)"
   ]
  },
  {
   "cell_type": "markdown",
   "id": "e8354cec",
   "metadata": {},
   "source": [
    "There are two ways to find the Norton/Thevenin equivalents (in terms of $E_x$) of subcircuit B."
   ]
  },
  {
   "cell_type": "markdown",
   "id": "87893574",
   "metadata": {},
   "source": [
    "#### Method 1\n",
    "\n",
    "Via KVL and Ohm's Law,  \n",
    "\n",
    "$$ 200\\Omega\\,I + 50\\Omega\\,I - E_x = 0$$"
   ]
  },
  {
   "cell_type": "markdown",
   "id": "96c2a661",
   "metadata": {},
   "source": [
    "$$ 250\\Omega\\,I = E_x $$"
   ]
  },
  {
   "cell_type": "markdown",
   "id": "3b11fea6",
   "metadata": {},
   "source": [
    "$$E_\\mathrm{o} = 200\\Omega\\,I = \\frac{2}{2.5}\\,E_x$$"
   ]
  },
  {
   "cell_type": "markdown",
   "id": "5c58a00a",
   "metadata": {},
   "source": [
    "$$ G_\\mathrm{t} = \\frac{1}{200\\Omega} + \\frac{1}{50\\Omega} = \\frac{5}{200\\Omega} = \\frac{1}{40}\\,\\mathrm{S}$$"
   ]
  },
  {
   "cell_type": "markdown",
   "id": "e0805f45",
   "metadata": {},
   "source": [
    "$$ R_\\mathrm{t} = 40\\Omega$$"
   ]
  },
  {
   "cell_type": "markdown",
   "id": "cf464e52",
   "metadata": {},
   "source": [
    "$$ J_\\mathrm{s} = E_\\mathrm{o}G_\\mathrm{t} = \\frac{1}{50\\Omega}\\,E_\\mathrm{x}$$"
   ]
  },
  {
   "cell_type": "markdown",
   "id": "ba5793c3",
   "metadata": {},
   "source": [
    "#### Method 2\n",
    "\n",
    "The second method involves obtaining the Norton equivalent of the subcircuit consisting of the $50\\Omega$ resistance and the voltage source $E_x$ first, and then combining that subcircuit with the $200\\Omega$ resistance that is in parallel with said subcircuit into one subcircuit.  The internal conductance ($G_\\mathrm{t}$) of that subcircuit is equal to the sum of the conductances that are in parallel with each other therein."
   ]
  },
  {
   "cell_type": "markdown",
   "id": "f4ef67de",
   "metadata": {},
   "source": [
    "The power absorbed by the load ($P_\\mathrm{l}$) is:  \n",
    "\n",
    "\\begin{align*}\n",
    "    P_\\mathrm{l} = IU &= -U(J_\\mathrm{s} - G_\\mathrm{t}U) \\\\\n",
    "     &= UG_\\mathrm{t}(U - E_\\mathrm{o})\n",
    "\\end{align*}    "
   ]
  },
  {
   "cell_type": "markdown",
   "id": "23abc4f6",
   "metadata": {},
   "source": [
    "$$ \\frac{\\mathrm{d}P_\\mathrm{l}}{\\mathrm{d}U} = G_\\mathrm{t}(2U-E_\\mathrm{o})$$"
   ]
  },
  {
   "cell_type": "markdown",
   "id": "3511c786",
   "metadata": {},
   "source": [
    "We need to find $E_x$ such that:  \n",
    "\n",
    "\\begin{equation}\n",
    "    0 = 2U-E_\\mathrm{o} \n",
    "\\end{equation}     "
   ]
  },
  {
   "cell_type": "markdown",
   "id": "85cd94c9",
   "metadata": {},
   "source": [
    "$$ E_\\mathrm{o}= 20\\mathrm{V} = 2U$$"
   ]
  },
  {
   "cell_type": "markdown",
   "id": "09da3ca3",
   "metadata": {},
   "source": [
    "Thus,  \n",
    "\n",
    "\\begin{equation}\\tag{Ex-2.1}\n",
    "    U = 10\\mathrm{V}\n",
    "\\end{equation}    "
   ]
  },
  {
   "cell_type": "markdown",
   "id": "b459f1ae",
   "metadata": {},
   "source": [
    "Via equation (8) of the [Thevenin-Norton](Thevenin-Norton.ipynb#Active-Two-Terminal-Subcircuit) section,  \n",
    "\n",
    "$$ U = 10\\mathrm{V} = 20\\mathrm{V} - 100\\Omega\\,I$$"
   ]
  },
  {
   "cell_type": "markdown",
   "id": "45af7f17",
   "metadata": {},
   "source": [
    "$$ 100\\Omega\\,I = 10\\mathrm{V}$$"
   ]
  },
  {
   "cell_type": "markdown",
   "id": "5adee948",
   "metadata": {},
   "source": [
    "\\begin{equation}\\tag{Ex-2.2}\n",
    "    I = 0.1\\mathrm{A}\n",
    "\\end{equation}    "
   ]
  },
  {
   "cell_type": "markdown",
   "id": "eaf184f7",
   "metadata": {},
   "source": [
    "Via equation (Ex-2.1), KVL, and Ohm's Law,  \n",
    "\n",
    "\\begin{equation}\\tag{Ex-2.3}\n",
    "    U = 10\\mathrm{V} = 200\\Omega\\,I_1\n",
    "\\end{equation}    "
   ]
  },
  {
   "cell_type": "markdown",
   "id": "1f33feef",
   "metadata": {},
   "source": [
    "$$ I_1 = \\frac{1}{20}\\,\\mathrm{A} = 50\\mathrm{mA}$$"
   ]
  },
  {
   "cell_type": "markdown",
   "id": "e0e21661",
   "metadata": {},
   "source": [
    "Via KCL and equation (Ex-2.2),  \n",
    "\n",
    "\\begin{equation}\\tag{Ex-2.4}\n",
    "    I = 0.1\\mathrm{A} = I_1 + I_2\n",
    "\\end{equation}    "
   ]
  },
  {
   "cell_type": "markdown",
   "id": "16166aeb",
   "metadata": {},
   "source": [
    "Via the above two equations and substitution,  \n",
    "\n",
    "\\begin{equation}\\tag{Ex-2.5}\n",
    "    I_2 = 100\\mathrm{mA} - 50\\mathrm{mA} = 50\\mathrm{mA}\n",
    "\\end{equation}    "
   ]
  },
  {
   "cell_type": "markdown",
   "id": "9b5f0f2b",
   "metadata": {},
   "source": [
    "Finally, via KVL and Ohm's Law,  \n",
    "\n",
    "$$ 200\\Omega\\,I_1 - 50\\Omega\\,I_2 - E_x = 0$$"
   ]
  },
  {
   "cell_type": "markdown",
   "id": "8ddd8f91",
   "metadata": {},
   "source": [
    "\\begin{equation}\\tag{Ex-2.6}\n",
    "    E_x = 200\\Omega\\,I_1 - 50\\Omega\\,I_2 = 150\\Omega\\cdot 50\\mathrm{mA} = 7.5\\mathrm{V}\n",
    "\\end{equation}    "
   ]
  },
  {
   "cell_type": "code",
   "execution_count": 1,
   "id": "895d7b20",
   "metadata": {},
   "outputs": [
    {
     "data": {
      "text/plain": [
       "7.5"
      ]
     },
     "execution_count": 1,
     "metadata": {},
     "output_type": "execute_result"
    }
   ],
   "source": [
    "E_x = 150*0.05\n",
    "E_x"
   ]
  },
  {
   "cell_type": "markdown",
   "id": "8c06ad73",
   "metadata": {},
   "source": [
    "## Drill Problems"
   ]
  },
  {
   "cell_type": "code",
   "execution_count": 2,
   "id": "8c41bac5",
   "metadata": {},
   "outputs": [],
   "source": [
    "import numpy as np\n",
    "import matplotlib.pyplot as plt"
   ]
  },
  {
   "cell_type": "code",
   "execution_count": 5,
   "id": "9cfe4fd4",
   "metadata": {},
   "outputs": [],
   "source": [
    "def P_l_gen(E_o, R_t):\n",
    "    return lambda R_l: R_l*(E_o/(R_t + R_l))**2"
   ]
  },
  {
   "cell_type": "markdown",
   "id": "45c6459c",
   "metadata": {},
   "source": [
    "#### Problem 1\n",
    "1. What should be the load of a practical source($J_\\mathrm{s}=10\\mathrm{A}$, $G_\\mathrm{t}=1\\mathrm{S}$) , such that the system efficiency is $\\eta \\% = 75\\%$.\n"
   ]
  },
  {
   "cell_type": "markdown",
   "id": "25c35448",
   "metadata": {},
   "source": [
    "$$ R_\\mathrm{t} = 1\\Omega$$"
   ]
  },
  {
   "cell_type": "markdown",
   "id": "07cf8ee2",
   "metadata": {},
   "source": [
    "Via equation (3),  \n",
    "\n",
    "$$ \\frac{R_\\mathrm{l}}{R_\\mathrm{t} + R_\\mathrm{l}} \\,100\\%= \\eta \\%$$"
   ]
  },
  {
   "cell_type": "markdown",
   "id": "248cb1fe",
   "metadata": {},
   "source": [
    "$$ \\frac{R_\\mathrm{l}}{1\\Omega + R_\\mathrm{l}} = 0.75$$"
   ]
  },
  {
   "cell_type": "markdown",
   "id": "3dc3053d",
   "metadata": {},
   "source": [
    "$$ R_\\mathrm{l} = 0.75\\Omega + 0.75R_\\mathrm{l}$$"
   ]
  },
  {
   "cell_type": "markdown",
   "id": "dd0162d9",
   "metadata": {},
   "source": [
    "$$ 0.25R_\\mathrm{l} = 0.75\\Omega$$"
   ]
  },
  {
   "cell_type": "markdown",
   "id": "e5af0aee",
   "metadata": {},
   "source": [
    "$$ R_\\mathrm{l} = 3\\Omega$$"
   ]
  },
  {
   "cell_type": "markdown",
   "id": "a13b4854",
   "metadata": {},
   "source": [
    "#### Problem 2\n",
    "2. A practical linear source has been loaded, first by an ideal voltmeter, then, by ammeter of $R_\\mathrm{A} = 100\\Omega$. The indications are $15 \\mathrm{V}$ and $0.1 \\mathrm{A}$, respectively. Draw $I-U$ relationship -- or, in other words, plot $I(U)$ --\n",
    "    find load resistance and the power transferred at the maximum power transfer condition."
   ]
  },
  {
   "cell_type": "markdown",
   "id": "9d1d5273",
   "metadata": {},
   "source": [
    "$$ E_\\mathrm{o} = 15\\mathrm{V}$$"
   ]
  },
  {
   "cell_type": "markdown",
   "id": "c725855d",
   "metadata": {},
   "source": [
    "Via KVL and Ohm's Law,  \n",
    "\n",
    "\\begin{align*}\n",
    "    0 &= U - R_\\mathrm{A}I \\\\\n",
    "     &= 15\\mathrm{V} - R_\\mathrm{t}0.1\\mathrm{A} - 10\\mathrm{V} \\\\\n",
    "     &= 5\\mathrm{V} - R_\\mathrm{t}100\\mathrm{mA}\n",
    "\\end{align*}     "
   ]
  },
  {
   "cell_type": "markdown",
   "id": "56cd247f",
   "metadata": {},
   "source": [
    "$$ R_\\mathrm{t} = 50\\Omega$$"
   ]
  },
  {
   "cell_type": "markdown",
   "id": "ee476d22",
   "metadata": {},
   "source": [
    "\\begin{equation}\\tag{2.3}\n",
    "    U = 15\\mathrm{V} - 50\\Omega\\,I\n",
    "\\end{equation}    "
   ]
  },
  {
   "cell_type": "markdown",
   "id": "f54ba41d",
   "metadata": {},
   "source": [
    "$$ R_\\mathrm{l} = R_\\mathrm{t} = 50\\Omega$$"
   ]
  },
  {
   "cell_type": "markdown",
   "id": "a2dd741c",
   "metadata": {},
   "source": [
    "$$P_\\mathrm{l}^\\max = \\frac{E_\\mathrm{o}^2}{4R_\\mathrm{t}^2} = 22.5\\mathrm{mW}$$"
   ]
  },
  {
   "cell_type": "code",
   "execution_count": 4,
   "id": "fdaa2f95",
   "metadata": {},
   "outputs": [
    {
     "data": {
      "text/plain": [
       "0.0225"
      ]
     },
     "execution_count": 4,
     "metadata": {},
     "output_type": "execute_result"
    }
   ],
   "source": [
    "(15**2)/(4*50**2)"
   ]
  },
  {
   "cell_type": "markdown",
   "id": "a80a0656",
   "metadata": {},
   "source": [
    "$$ I = 300\\mathrm{mA} - 20\\mathrm{mS}\\,U$$"
   ]
  },
  {
   "cell_type": "code",
   "execution_count": 8,
   "id": "b38041a2",
   "metadata": {},
   "outputs": [
    {
     "data": {
      "text/plain": [
       "15.0"
      ]
     },
     "execution_count": 8,
     "metadata": {},
     "output_type": "execute_result"
    }
   ],
   "source": [
    "300/20"
   ]
  },
  {
   "cell_type": "code",
   "execution_count": 9,
   "id": "a427ea19",
   "metadata": {
    "code_folding": [
     0
    ]
   },
   "outputs": [
    {
     "data": {
      "text/plain": [
       "[<matplotlib.lines.Line2D at 0x7f6925c1f220>]"
      ]
     },
     "execution_count": 9,
     "metadata": {},
     "output_type": "execute_result"
    },
    {
     "data": {
      "image/png": "[encoded data removed]",
      "text/plain": [
       "<Figure size 432x288 with 1 Axes>"
      ]
     },
     "metadata": {
      "needs_background": "light"
     },
     "output_type": "display_data"
    }
   ],
   "source": [
    "# Plot I vs U.\n",
    "U = np.linspace(0, 20, num=100)\n",
    "I = 0.3 - 0.02*U\n",
    "\n",
    "fig, ax = plt.subplots()\n",
    "ax.set_title(r'$I$ vs. $U$', size=16)\n",
    "ax.set_xlabel('input voltage ($U$) (volts)')\n",
    "ax.set_ylabel('current (mA)')\n",
    "\n",
    "ax.plot(U, I*1000)"
   ]
  },
  {
   "cell_type": "markdown",
   "id": "4096a6fc",
   "metadata": {},
   "source": [
    "#### Problem 3\n",
    "3. A practical source of($E_\\mathrm{o}=10 \\mathrm{V}$, $R_\\mathrm{t}=10\\Omega$), has been loaded by a resistor of variable resistance $R=R_\\mathrm{l}\\in\\mathbb{R}\\; : \\; 2\\le R \\le 8$.  Find the minimum and the maximum power supplied."
   ]
  },
  {
   "cell_type": "code",
   "execution_count": 6,
   "id": "7c46fb87",
   "metadata": {},
   "outputs": [
    {
     "data": {
      "text/plain": [
       "(1.388888888888889, 2.469135802469136)"
      ]
     },
     "execution_count": 6,
     "metadata": {},
     "output_type": "execute_result"
    }
   ],
   "source": [
    "P_l = P_l_gen(10, 10)\n",
    "(P_l(2), P_l(8))"
   ]
  },
  {
   "cell_type": "code",
   "execution_count": 11,
   "id": "71c68132",
   "metadata": {
    "code_folding": [
     0
    ]
   },
   "outputs": [
    {
     "data": {
      "text/plain": [
       "[<matplotlib.lines.Line2D at 0x7f6925fe9160>]"
      ]
     },
     "execution_count": 11,
     "metadata": {},
     "output_type": "execute_result"
    },
    {
     "data": {
      "image/png": "[encoded data removed]",
      "text/plain": [
       "<Figure size 432x288 with 1 Axes>"
      ]
     },
     "metadata": {
      "needs_background": "light"
     },
     "output_type": "display_data"
    }
   ],
   "source": [
    "# Plot the power supplied.\n",
    "R = R_l = np.linspace(2, 16, num=100)\n",
    "\n",
    "fig, ax = plt.subplots()\n",
    "ax.set_title('Power Supplied', size=16)\n",
    "ax.set_xlabel('Load resistance (ohms)')\n",
    "ax.set_ylabel('Power supplied (watts)')\n",
    "\n",
    "ax.plot(R, P_l(R))"
   ]
  },
  {
   "cell_type": "markdown",
   "id": "8c4e4177",
   "metadata": {},
   "source": [
    "#### Problem 4\n",
    "4. A practical source ($E_\\mathrm{o}=4\\mathrm{V}$, $R_\\mathrm{t}=2\\Omega$), has been loaded by a resistor. Find range of its resistance $R:=R_\\mathrm{l}\\in\\mathbb{R}\\; : \\; R_\\min \\le R \\le R_\\max$ so that the power transferred is $0.5\\mathrm{W}\\le P_\\mathrm{l} \\le 1\\mathrm{W}$."
   ]
  },
  {
   "cell_type": "markdown",
   "id": "88a8d0ce",
   "metadata": {},
   "source": [
    "The max power transferred ($P_\\mathrm{l}^\\max$) occurs when $R_\\mathrm{l}=R_\\mathrm{t}=2\\Omega$ and is given by:  \n",
    "\n",
    "$$ P_\\mathrm{l}^\\max = \\frac{E_\\mathrm{o}^2}{4R_\\mathrm{t}^2} = \\frac{4}{4}\\,\\mathrm{W} = 1\\mathrm{W}$$"
   ]
  },
  {
   "cell_type": "markdown",
   "id": "5cf0427e",
   "metadata": {},
   "source": [
    "Which means that, $R_\\max = R_\\mathrm{t} = 2\\Omega$."
   ]
  },
  {
   "cell_type": "markdown",
   "id": "29dcee76",
   "metadata": {},
   "source": [
    "Via equation (1),  \n",
    "\n",
    "\\begin{align*}\n",
    "    P_\\mathrm{l} = 0.5\\mathrm{W} &= \\left( \\frac{E_\\mathrm{o}}{R_\\mathrm{t} + R_\\mathrm{l}}\\right)^2R_\\mathrm{l} \\\\\n",
    "     &= \\left(\\frac{4\\mathrm{V}}{2\\Omega + R_\\min} \\right)^2R_\\min\n",
    "\\end{align*}     "
   ]
  },
  {
   "cell_type": "markdown",
   "id": "1635ed92",
   "metadata": {},
   "source": [
    "Multiplying throughout the above equation by $(2\\Omega + R_\\min)^2$ gives:  \n",
    "\n",
    "$$ 0.5\\mathrm{W}\\,(2\\Omega + R_\\min)^2 = 16\\mathrm{V}^2\\,R_\\min$$"
   ]
  },
  {
   "cell_type": "markdown",
   "id": "1fba30d1",
   "metadata": {},
   "source": [
    "$$ 0.5\\mathrm{W}\\,(R_\\min^2 + 4\\Omega \\, R_\\min + 4\\Omega^2) = 16\\mathrm{V}^2\\,R_\\min$$"
   ]
  },
  {
   "cell_type": "markdown",
   "id": "ade9df98",
   "metadata": {},
   "source": [
    "$$ 0.5\\mathrm{W}\\,(R_\\min^2 + 4\\Omega^2) = 14\\mathrm{V}^2\\,R_\\min$$"
   ]
  },
  {
   "cell_type": "markdown",
   "id": "6515197f",
   "metadata": {},
   "source": [
    "Which leaves us with the following quadratic equation,  \n",
    "\n",
    "$$ 0.5\\mathrm{W}\\,R_\\min^2 - 14\\mathrm{V}^2\\,R_\\min + 2\\Omega^2\\mathrm{W} = 0$$"
   ]
  },
  {
   "cell_type": "markdown",
   "id": "1931c273",
   "metadata": {},
   "source": [
    "Dividing throughout by $\\mathrm{W}$ gives:  \n",
    "\n",
    "$$ 0.5R_\\min^2 - 14\\Omega\\,R_\\min + 2\\Omega^2 = 0$$"
   ]
  },
  {
   "cell_type": "markdown",
   "id": "6d33a4c6",
   "metadata": {},
   "source": [
    "Via the quadratic formula,  \n",
    "\n",
    "$$ R_\\min = \\frac{-b\\pm\\sqrt{b^2-4ac}}{2a}$$"
   ]
  },
  {
   "cell_type": "code",
   "execution_count": 12,
   "id": "3b0acd2d",
   "metadata": {},
   "outputs": [
    {
     "data": {
      "text/plain": [
       "(27.856406460551018, 0.14359353944898245)"
      ]
     },
     "execution_count": 12,
     "metadata": {},
     "output_type": "execute_result"
    }
   ],
   "source": [
    "a, b, c = 0.5, -14, 2\n",
    "((-b+np.sqrt(b**2 - 4*a*c))/(2*a), (-b-np.sqrt(b**2 - 4*a*c))/(2*a))"
   ]
  },
  {
   "cell_type": "markdown",
   "id": "f94cab7f",
   "metadata": {},
   "source": [
    "#### Problem 5\n",
    "5. A battery has open-circuit voltage of $9 \\mathrm{V}$ and short-circuit current of $3 \\mathrm{A}$. Find the load\n",
    "    resistance at 25% efficiency of the system."
   ]
  },
  {
   "cell_type": "markdown",
   "id": "9d7ffaa2",
   "metadata": {},
   "source": [
    "$$ E_\\mathrm{o}=9\\mathrm{V} \\quad J_\\mathrm{s} = 3\\mathrm{A} \\quad R_\\mathrm{t} = \\frac{9\\mathrm{V}}{3\\mathrm{A}} = 3\\Omega$$"
   ]
  },
  {
   "cell_type": "markdown",
   "id": "723161ec",
   "metadata": {},
   "source": [
    "Via equation (1),  \n",
    "\n",
    "$$ P_\\mathrm{l} = \\left( \\frac{E_\\mathrm{o}}{R_\\mathrm{t}+R_\\mathrm{l}}\\right)^2R_\\mathrm{l} = \\left(\\frac{9\\mathrm{V}}{3\\Omega + R_\\mathrm{l}} \\right)^2R_\\mathrm{l}$$"
   ]
  },
  {
   "cell_type": "markdown",
   "id": "7986fc48",
   "metadata": {},
   "source": [
    "Via equation (3),  \n",
    "\n",
    "$$ \\eta \\% = 25\\% = \\frac{R_\\mathrm{l}}{3\\Omega + R_\\mathrm{l}}\\,100\\%$$"
   ]
  },
  {
   "cell_type": "markdown",
   "id": "a0fccf93",
   "metadata": {},
   "source": [
    "$$ R_\\mathrm{l} = 0.25(3\\Omega+R_\\mathrm{l})$$"
   ]
  },
  {
   "cell_type": "markdown",
   "id": "76d8151c",
   "metadata": {},
   "source": [
    "$$ 0.75R_\\mathrm{l} = 0.75\\Omega$$"
   ]
  },
  {
   "cell_type": "markdown",
   "id": "9212b3b9",
   "metadata": {},
   "source": [
    "$$ R_\\mathrm{l}=1\\Omega$$"
   ]
  },
  {
   "cell_type": "markdown",
   "id": "cf5f66dc",
   "metadata": {},
   "source": [
    "#### Problem 6\n",
    "6. Find the minimum and the maximum power transferred from a practical source of ($J_\\mathrm{s}=1.5\\mathrm{A}$, $0.25\\mathrm{S}$)."
   ]
  }
 ],
 "metadata": {
  "kernelspec": {
   "display_name": "Python 3",
   "language": "python",
   "name": "python3"
  },
  "language_info": {
   "codemirror_mode": {
    "name": "ipython",
    "version": 3
   },
   "file_extension": ".py",
   "mimetype": "text/x-python",
   "name": "python",
   "nbconvert_exporter": "python",
   "pygments_lexer": "ipython3",
   "version": "3.8.10"
  }
 },
 "nbformat": 4,
 "nbformat_minor": 5
}
