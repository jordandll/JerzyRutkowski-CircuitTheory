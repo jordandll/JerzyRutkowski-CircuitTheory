{
 "cells": [
  {
   "cell_type": "markdown",
   "id": "1d0cb193",
   "metadata": {},
   "source": [
    "# Dependent (Controlled) Elements\n",
    "### Chapter 2.10 - *DC Analysis*"
   ]
  },
  {
   "cell_type": "markdown",
   "id": "d2d91eca",
   "metadata": {},
   "source": [
    "### Arbitrary Dependent Element\n",
    "\n",
    "Two-terminal elements are normally characterized by an analytic function, linear or nonlinear,\n",
    "of one argument (2.1.4). Another category of elements can be distinguished, namely\n",
    "dependent or controlled elements. A controlled element is described by the following\n",
    "relationship:  \n",
    "\n",
    "\\begin{equation}\\tag{1}\n",
    "    I = f(U, X) \\;\\text{or}\\; U=g(I, X)\n",
    "\\end{equation}    "
   ]
  },
  {
   "cell_type": "markdown",
   "id": "731b67bb",
   "metadata": {},
   "source": [
    "Then, such element is described by a family of $I$-$U$ characteristics, with $X$ as the second\n",
    "parameter, so called control variable, which can be: temperature ($t$), lightning flux ($\\Phi$), other\n",
    "voltage ($U_c$) or other current ($I_c$) . The two latter elements are called the controlled sources and\n",
    "they will be discussed in details."
   ]
  },
  {
   "cell_type": "markdown",
   "id": "0d7705e0",
   "metadata": {},
   "source": [
    "### Controlled Sources\n",
    "\n",
    "A controlled source is a source that provides a current or voltage that is dependent on other\n",
    "current or voltage elsewhere in the circuit."
   ]
  },
  {
   "cell_type": "markdown",
   "id": "f0feb094",
   "metadata": {},
   "source": [
    "## Usage in Element Modeling\n",
    "\n",
    "__Use of controlled sources to element modeling.__  \n",
    "\n",
    "Controlled sources are used in modeling of circuit elements, such as transistor, operational\n",
    "amplifier or any other multi-terminal element."
   ]
  },
  {
   "cell_type": "markdown",
   "id": "6ccbeb48",
   "metadata": {},
   "source": [
    "### Transistor\n",
    "\n",
    "A transistor circuit symbol and the simplified model, for the common emitter mode of\n",
    "operation, are presented in Fig. 2.10.3. As can be seen, the CCCS is used. Then, after\n",
    "linearization of a diode characteristic (2.12.1c), i.e. its replacement by the voltage source $U_f$ ,\n",
    "the transistor equations are:"
   ]
  },
  {
   "cell_type": "markdown",
   "id": "57f1637c",
   "metadata": {},
   "source": [
    "$$\\begin{bmatrix}\\tag{3}I_\\mathrm{B}\\\\I_\\mathrm{C}\\end{bmatrix} = \\mathbf{G}\\cdot\\begin{bmatrix}\n",
    "U_\\mathrm{BE}\\\\U_\\mathrm{CE}\\end{bmatrix}+\\mathbf{J}$$"
   ]
  },
  {
   "cell_type": "markdown",
   "id": "82789b84",
   "metadata": {},
   "source": [
    "where,\n",
    "$$\\mathbf{G} = \\begin{bmatrix}\\tag{3}\n",
    "G_\\mathrm{B} &0\\\\\n",
    "\\beta G_\\mathrm{B} &0\n",
    "\\end{bmatrix},\\quad\\text{and}\\quad\\mathbf{J} = \\begin{bmatrix}-U_fG_\\mathrm{B} \\\\ -U_f\\beta G_\\mathrm{B}\n",
    "\\end{bmatrix}$$"
   ]
  },
  {
   "cell_type": "markdown",
   "id": "c3013b05",
   "metadata": {},
   "source": [
    "\\begin{align*}\\tag{3a}\n",
    "    I_\\mathrm{B} &= G_\\mathrm{B}U_\\mathrm{BE} - U_fG_\\mathrm{B} \\\\\n",
    "     &= G_\\mathrm{B}(U_\\mathrm{BE} - U_f)\n",
    "\\end{align*}     "
   ]
  },
  {
   "cell_type": "markdown",
   "id": "478854dd",
   "metadata": {},
   "source": [
    "and,\n",
    "\\begin{equation}\\tag{3b}\n",
    "    I_\\mathrm{C} = \\beta G_\\mathrm{B}(U_\\mathrm{BE} - U_f)\n",
    "\\end{equation}    "
   ]
  },
  {
   "cell_type": "markdown",
   "id": "6f156290",
   "metadata": {},
   "source": [
    "![Fig-2.10.3](Figures/Fig-2.10.3.png)"
   ]
  },
  {
   "cell_type": "markdown",
   "id": "53492433",
   "metadata": {},
   "source": [
    "For the assumed model, the transistor is characterized by the conductance matrix, $\\mathbf{G}$,\n",
    "and the short-circuit current vector, $\\mathbf{J}$, both of which are identified in equation (3);  And then practically by the two parameters (for a silicon transistor, $U_f=0.7\\mathrm{V}$):  \n",
    "\n",
    "* the current gain ($\\beta$)\n",
    "* the base resistance ($R_\\mathrm{B}$)"
   ]
  },
  {
   "cell_type": "markdown",
   "id": "41f8fe99",
   "metadata": {},
   "source": [
    "It should be observed that the resistance matrix ($\\mathbf{R}$) does not exist."
   ]
  },
  {
   "cell_type": "markdown",
   "id": "902ad309",
   "metadata": {},
   "source": [
    "Herein is the **proof** of the identities of $\\mathbf{G}$ and $\\mathbf{J}$ found in equation (3).  Recall that:  \n",
    "\n",
    "\\begin{equation}\\tag{3.1}\n",
    "    G_{11} = \\frac{I_\\mathrm{B}}{U_{BE}}_{\\Big|U_\\mathrm{CE}=0;\\;\\mathbf{J}=0}\n",
    "\\end{equation}    "
   ]
  },
  {
   "cell_type": "markdown",
   "id": "0661bc18",
   "metadata": {},
   "source": [
    "and,\n",
    "\\begin{equation}\\tag{3.2}\n",
    "    G_{21} = \\frac{I_\\mathrm{C}}{U_\\mathrm{BE}}_{\\Big|U_\\mathrm{CE}=0;\\;\\mathbf{J}=0}\n",
    "\\end{equation}    "
   ]
  },
  {
   "cell_type": "markdown",
   "id": "937775d1",
   "metadata": {},
   "source": [
    "Via equation (3.2) and the fact that $I_\\mathrm{C}=\\beta I_\\mathrm{B}$,  \n",
    "\n",
    "\\begin{equation}\\tag{3.2a}\n",
    "    G_{21}=\\frac{\\beta I_\\mathrm{B}}{U_\\mathrm{BE}}_{\\Big|U_\\mathrm{CE}=0;\\;\\mathbf{J}=0}\n",
    "\\end{equation}    "
   ]
  },
  {
   "cell_type": "markdown",
   "id": "9d93cfa2",
   "metadata": {},
   "source": [
    "Via equations (3.2a) and (3.1) and substitution,  \n",
    "\n",
    "\\begin{equation}\\tag{3.2b}\n",
    "    G_{21} = \\beta G_{11}\n",
    "\\end{equation}    "
   ]
  },
  {
   "cell_type": "markdown",
   "id": "397cd3e0",
   "metadata": {},
   "source": [
    "Via KVL and Ohm's Law,  \n",
    "\n",
    "\\begin{equation}\\tag{3.3}\n",
    "    U_\\mathrm{BE} = R_\\mathrm{B}I_\\mathrm{B} + U_f\n",
    "\\end{equation}    "
   ]
  },
  {
   "cell_type": "markdown",
   "id": "5c0e93af",
   "metadata": {},
   "source": [
    "and,\n",
    "$$U_f = U_{I_\\mathrm{C}} + U_\\mathrm{CE} $$"
   ]
  },
  {
   "cell_type": "markdown",
   "id": "ce4fe997",
   "metadata": {},
   "source": [
    "Via the above equation and the assumption that $U_\\mathrm{CE}=0$,  \n",
    "\n",
    "\\begin{equation}\\tag{3.4}\n",
    "    U_f=U_{I_\\mathrm{C}}\n",
    "\\end{equation}    "
   ]
  },
  {
   "cell_type": "markdown",
   "id": "453180a7",
   "metadata": {},
   "source": [
    "Assuming $U_\\mathrm{BE},U_\\mathrm{CE}=0$ (i.e. short-circuit conditions), via equation (3),  \n",
    "\n",
    "\\begin{equation}\\tag{3.5}\n",
    "    J_\\mathrm{B} = I_\\mathrm{B}\\quad\\text{and}\\quad J_\\mathrm{C} = I_\\mathrm{C} = \\beta I_\\mathrm{B} = \\beta J_\\mathrm{B}\n",
    "\\end{equation}    "
   ]
  },
  {
   "cell_type": "markdown",
   "id": "84db28df",
   "metadata": {},
   "source": [
    "Via KVL and Ohm's Law, under short-circuit conditions,  \n",
    "\n",
    "$$ R_\\mathrm{B}I_\\mathrm{B} = R_\\mathrm{B}J_\\mathrm{B} = -U_f$$"
   ]
  },
  {
   "cell_type": "markdown",
   "id": "c6e1678d",
   "metadata": {},
   "source": [
    "Thus,\n",
    "\\begin{equation}\\tag{3.J.B}\n",
    "    J_\\mathrm{B} = -U_fG_\\mathrm{B}\n",
    "\\end{equation}    "
   ]
  },
  {
   "cell_type": "markdown",
   "id": "1c5ba9cf",
   "metadata": {},
   "source": [
    "Which is consistent with the identity of $\\mathbf{J}$ in equation (3)."
   ]
  },
  {
   "cell_type": "markdown",
   "id": "c6f214ea",
   "metadata": {},
   "source": [
    "Via equations (3.J.B) and (3.5) and substitution,  \n",
    "\n",
    "\\begin{equation}\\tag{3.J.C}\n",
    "    J_\\mathrm{C} = -\\beta U_f G_\\mathrm{B}\n",
    "\\end{equation}    "
   ]
  },
  {
   "cell_type": "markdown",
   "id": "a4a18ffd",
   "metadata": {},
   "source": [
    "The above equation is also consistent with equation (3).  Now, assuming $\\mathbf{J}=0$, via equations (3.J),  \n",
    "\n",
    "\\begin{equation}\\tag{3.6}\n",
    "    U_f=0_{\\big|\\mathbf{J}=0}\n",
    "\\end{equation}    "
   ]
  },
  {
   "cell_type": "markdown",
   "id": "02a8dc2d",
   "metadata": {},
   "source": [
    "Via equations (3.6) and (3.3),  \n",
    "\n",
    "\\begin{equation}\\tag{3.3a}\n",
    "    U_\\mathrm{BE} = R_\\mathrm{B}I_\\mathrm{B}\n",
    "\\end{equation}    "
   ]
  },
  {
   "cell_type": "markdown",
   "id": "37e75509",
   "metadata": {},
   "source": [
    "Via equations (3.3a) and (3.1),  \n",
    "\n",
    "\\begin{equation}\\tag{3.1a}\n",
    "    G_{11} = \\frac{1}{R_\\mathrm{B}} = G_\\mathrm{B}\n",
    "\\end{equation}    "
   ]
  },
  {
   "cell_type": "markdown",
   "id": "a10762cc",
   "metadata": {},
   "source": [
    "And, of course, via equations (3.1a) and (3.2b),  \n",
    "\n",
    "\\begin{equation}\\tag{3.1b}\n",
    "    G_{21} = \\beta G_\\mathrm{B}\n",
    "\\end{equation}    "
   ]
  },
  {
   "cell_type": "markdown",
   "id": "fa1f6452",
   "metadata": {},
   "source": [
    "The above two equations are consistent with the identity of $\\mathbf{G}$ in equation (3).  Now, to find the values of the second column of $\\mathbf{G}$, first recall that:  \n",
    "\n",
    "\\begin{equation}\\tag{3.7}\n",
    "    G_{12} = \\frac{I_\\mathrm{B}}{U_{CE}}_{\\Big|U_\\mathrm{BE}=0;\\;\\mathbf{J}=0}\n",
    "\\end{equation}    "
   ]
  },
  {
   "cell_type": "markdown",
   "id": "725d94fc",
   "metadata": {},
   "source": [
    "and,\n",
    "\\begin{equation}\\tag{3.8}\n",
    "    G_{22}=\\frac{I_\\mathrm{C}}{U_\\mathrm{CE}}_{\\Big|U_\\mathrm{BE}=0;\\;\\mathbf{J}=0}\n",
    "\\end{equation}    "
   ]
  },
  {
   "cell_type": "markdown",
   "id": "ceff82a9",
   "metadata": {},
   "source": [
    "Assuming $U_\\mathrm{BE}=0$ and $\\mathbf{J}=0$, via KVL and Ohm's Law,  \n",
    "\n",
    "$$ R_\\mathrm{B}I_\\mathrm{B} = -U_f = 0$$"
   ]
  },
  {
   "cell_type": "markdown",
   "id": "ee43d730",
   "metadata": {},
   "source": [
    "Thus,\n",
    "\\begin{equation}\\tag{3.9}\n",
    "    I_\\mathrm{B}=0\n",
    "\\end{equation}    "
   ]
  },
  {
   "cell_type": "markdown",
   "id": "376950ad",
   "metadata": {},
   "source": [
    "and,\n",
    "\\begin{equation}\\tag{3.7a}\n",
    "    G_{12} = 0\n",
    "\\end{equation}    "
   ]
  },
  {
   "cell_type": "markdown",
   "id": "542864b0",
   "metadata": {},
   "source": [
    "And, via equation (3.9) and the fact that $I_\\mathrm{C}=\\beta I_\\mathrm{B}$,  \n",
    "\n",
    "\\begin{equation}\\tag{3.10}\n",
    "    I_\\mathrm{C}=0\n",
    "\\end{equation}    "
   ]
  },
  {
   "cell_type": "markdown",
   "id": "f0a3e20f",
   "metadata": {},
   "source": [
    "Finally, via equations (3.10) and (3.8),  \n",
    "\n",
    "\\begin{equation}\\tag{3.8a}\n",
    "    G_{22} = 0\n",
    "\\end{equation}    "
   ]
  },
  {
   "cell_type": "markdown",
   "id": "febe56f1",
   "metadata": {},
   "source": [
    "### Operational Amplifier\n",
    "An operational amplifier (op-amp) circuit symbol and the model are presented in Fig. 2.10.4.\n",
    "As can be seen, the VCVS is used.  \n",
    "\n",
    "![Fig-2.10.4](Figures/Fig-2.10.4.png)"
   ]
  },
  {
   "cell_type": "markdown",
   "id": "5948195d",
   "metadata": {},
   "source": [
    "For the assumed model, an op-amp is characterized by equations (4), i.e. by two\n",
    "resistances ($R_{in}$ and $R_{out}$) and one control coefficient ($k$)."
   ]
  },
  {
   "cell_type": "markdown",
   "id": "ea4e8e24",
   "metadata": {},
   "source": [
    "$$\\mathbf{I} = \\begin{bmatrix}\\tag{4}I_{in}\\\\I_{out}\\end{bmatrix} = \\mathbf{G}\\cdot\\begin{bmatrix}U_{in}\\\\U_{out}\n",
    "\\end{bmatrix}$$"
   ]
  },
  {
   "cell_type": "markdown",
   "id": "44c6518f",
   "metadata": {},
   "source": [
    "where,\n",
    "$$\\mathbf{G}=\\begin{bmatrix}\\tag{4}\n",
    "G_{in} &0\\\\\n",
    "-kG_{out} &G_{out}\n",
    "\\end{bmatrix}$$"
   ]
  },
  {
   "cell_type": "markdown",
   "id": "6be21148",
   "metadata": {},
   "source": [
    "Or,"
   ]
  },
  {
   "cell_type": "markdown",
   "id": "33d5cbd3",
   "metadata": {},
   "source": [
    "\\begin{equation}\\tag{4a}\n",
    "    I_{in} = G_{in}U_{in}\n",
    "\\end{equation}    "
   ]
  },
  {
   "cell_type": "markdown",
   "id": "b9a88055",
   "metadata": {},
   "source": [
    "and,\n",
    "\\begin{align*}\\tag{4b}\n",
    "    I_{out} &= G_{out}U_{out} - kG_{out}U_{in} \\\\\n",
    "     &= G_{out}(U_{out} - kU_{in})\n",
    "\\end{align*}     "
   ]
  },
  {
   "cell_type": "markdown",
   "id": "b3adb730",
   "metadata": {},
   "source": [
    "Herein is the **proof** for the identity of $\\mathbf{G}$ in equation (4).  First, recall that:  \n",
    "\n",
    "\\begin{equation}\\tag{4.1}\n",
    "    G_{11} = \\frac{I_{in}}{U_{in}}_{\\Big|U_{out}=0}\n",
    "\\end{equation}    "
   ]
  },
  {
   "cell_type": "markdown",
   "id": "9d47faf2",
   "metadata": {},
   "source": [
    "Via KVL and Ohm's Law,  \n",
    "\n",
    "\\begin{equation}\\tag{4.2}\n",
    "    U_{in} = R_{in}I_{in}\n",
    "\\end{equation}    "
   ]
  },
  {
   "cell_type": "markdown",
   "id": "ee0ad739",
   "metadata": {},
   "source": [
    "And, via equations (4.2) and (4.1) and substitution,  \n",
    "\n",
    "\\begin{equation}\\tag{4.1a}\n",
    "    G_{11} = \\frac{1}{R_{in}} = G_{in}\n",
    "\\end{equation}    "
   ]
  },
  {
   "cell_type": "markdown",
   "id": "edcc1cde",
   "metadata": {},
   "source": [
    "Next, recall that:  \n",
    "\n",
    "\\begin{equation}\\tag{4.3}\n",
    "    G_{21} = \\frac{I_{out}}{U_{in}}_{\\Big|U_{out}=0}\n",
    "\\end{equation}   "
   ]
  },
  {
   "cell_type": "markdown",
   "id": "25a1dbdb",
   "metadata": {},
   "source": [
    "Via KVL and Ohm's Law,  \n",
    "\n",
    "$$ kU_{in} + R_{out}I_{out} - U_{out} = 0$$\n",
    "\n",
    "$$ kU_{in} + R_{out}I_{out} = 0$$\n",
    "\n",
    "$$ kU_{in}=-R_{out}I_{out}$$"
   ]
  },
  {
   "cell_type": "markdown",
   "id": "39aad940",
   "metadata": {},
   "source": [
    "\\begin{equation}\\tag{4.4}\n",
    "    I_{out} = - \\frac{kU_{in}}{R_{out}} = -kG_{out}U_{in}\n",
    "\\end{equation}    "
   ]
  },
  {
   "cell_type": "markdown",
   "id": "ae92e63d",
   "metadata": {},
   "source": [
    "Via equations (4.4) and (4.3) and substitution,  \n",
    "\n",
    "\\begin{equation}\\tag{4.3a}\n",
    "    G_{21} = -kG_{out}\n",
    "\\end{equation}    "
   ]
  },
  {
   "cell_type": "markdown",
   "id": "81d2dd53",
   "metadata": {},
   "source": [
    "Now, recall that:  \n",
    "\n",
    "\\begin{equation}\\tag{4.5}\n",
    "    G_{22} = \\frac{I_{out}}{U_{out}}_{\\Big|U_{in}=0}\n",
    "\\end{equation}    "
   ]
  },
  {
   "cell_type": "markdown",
   "id": "4b477ed7",
   "metadata": {},
   "source": [
    "Assuming $U_{in}=0$, via KVL and Ohm's Law,  \n",
    "\n",
    "\\begin{equation}\\tag{4.6}\n",
    "    R_{out}I_{out} = U_{out}\n",
    "\\end{equation}    "
   ]
  },
  {
   "cell_type": "markdown",
   "id": "644765d6",
   "metadata": {},
   "source": [
    "Via equations (4.6) and (4.5),  \n",
    "\n",
    "\\begin{equation}\\tag{4.5a}\n",
    "    G_{22} = \\frac{1}{R_{out}} = G_{out}\n",
    "\\end{equation}    "
   ]
  },
  {
   "cell_type": "markdown",
   "id": "dd7ee0b3",
   "metadata": {},
   "source": [
    "Finally, recall that:  \n",
    "\n",
    "\\begin{equation}\\tag{4.7}\n",
    "    G_{12} = \\frac{I_{in}}{U_{out}}_{\\Big|U_{in}=0}\n",
    "\\end{equation}    "
   ]
  },
  {
   "cell_type": "markdown",
   "id": "a7699e32",
   "metadata": {},
   "source": [
    "Assuming $U_{in}=0$, via Ohm's Law,  \n",
    "\n",
    "$$ R_{in}I_{in} = U_{in} = 0$$"
   ]
  },
  {
   "cell_type": "markdown",
   "id": "b7f1a7b4",
   "metadata": {},
   "source": [
    "Thus,\n",
    "\\begin{equation}\\tag{4.8}\n",
    "    I_{in}=0\n",
    "\\end{equation}    "
   ]
  },
  {
   "cell_type": "markdown",
   "id": "5afb911d",
   "metadata": {},
   "source": [
    "and,\n",
    "\\begin{equation}\\tag{4.7a}\n",
    "    G_{12} = 0\n",
    "\\end{equation}    "
   ]
  },
  {
   "cell_type": "markdown",
   "id": "731c1c52",
   "metadata": {},
   "source": [
    "### Arbitrary Three-terminal or Two-port Element\n",
    "An arbitrary linear active three-terminal element (Fig. 2.9.2) or two-port (Fig. 2.9.5) can be\n",
    "described by equations (2.9.20). These equations are KVL equations and equivalent circuit\n",
    "built of two-terminal elements can be constructed, as presented in Fig. 2.10.5. For a two-port\n",
    "element, connection denoted by the bold line should be removed.  \n",
    "\n",
    "![Fig-2.10.5](Figures/Fig-2.10.5.png)"
   ]
  },
  {
   "cell_type": "markdown",
   "id": "05eff09b",
   "metadata": {},
   "source": [
    "### Analysis of circuits containing controlled sources\n",
    "\n",
    "If a circuit contains controlled source(s), then such circuit nodal equations should be\n",
    "supplemented by equation(s) of controlled source(s), with controlling variable(s) expressed by\n",
    "nodal voltages."
   ]
  },
  {
   "cell_type": "markdown",
   "id": "49074910",
   "metadata": {},
   "source": [
    "#### Example 2.10.1\n",
    "Find nodal equations of the circuit presented in Fig. 2.10.6.  \n",
    "\n",
    "![Fig-2.10.6](Figures/Fig-2.10.6.png)"
   ]
  },
  {
   "cell_type": "markdown",
   "id": "28ac3d74",
   "metadata": {},
   "source": [
    "Assume that $G_4$'s voltage arrowhead points to the right, which implies that the current flowing through $G_4$, denoted as '$I_2$', flows into node $\\mathrm{B}$."
   ]
  },
  {
   "cell_type": "markdown",
   "id": "cb4f0a3c",
   "metadata": {},
   "source": [
    "In the following system of nodal equations, node $\\mathrm{C}$ is the reference node."
   ]
  },
  {
   "cell_type": "markdown",
   "id": "8613777d",
   "metadata": {},
   "source": [
    "Via KVL and Ohm's Law,  \n",
    "\n",
    "$$ V_\\mathrm{A} + I_1R_1 - E_1 = 0$$"
   ]
  },
  {
   "cell_type": "markdown",
   "id": "86924092",
   "metadata": {},
   "source": [
    "Multiplying throught the above equation by $G_1$ gives:  \n",
    "\n",
    "$$ G_1V_\\mathrm{A} + I_1 - G_1E_1 = 0$$"
   ]
  },
  {
   "cell_type": "markdown",
   "id": "155399a9",
   "metadata": {},
   "source": [
    "Thus,\n",
    "\\begin{equation}\\tag{Ex1.1}\n",
    "    I_1 = G_1(E_1-V_\\mathrm{A})\n",
    "\\end{equation}    "
   ]
  },
  {
   "cell_type": "markdown",
   "id": "62a31b4b",
   "metadata": {},
   "source": [
    "Via KCL, Ohm's Law, and equation (Ex1.1),  \n",
    "\n",
    "\\begin{align*}\\tag{Ex1.2A}\n",
    "    0 &= I_1 + J_5 - G_2(V_\\mathrm{A}-V_\\mathrm{B}) \\\\\n",
    "     &= G_1(E_1 - V_\\mathrm{A}) + k_5U_3 - G_2(V_\\mathrm{A} - V_\\mathrm{B}) \\\\\n",
    "     &= V_\\mathrm{B}(G_2+k_5)+G_1E_1-V_\\mathrm{A}(G_1 + G_2)\n",
    "\\end{align*}     "
   ]
  },
  {
   "cell_type": "markdown",
   "id": "50ef319f",
   "metadata": {},
   "source": [
    "Via KVL and Ohm's Law,  \n",
    "\n",
    "$$ V_\\mathrm{B} + R_4I_2 - E_4 = 0$$"
   ]
  },
  {
   "cell_type": "markdown",
   "id": "039c2e72",
   "metadata": {},
   "source": [
    "$$ G_4V_\\mathrm{B} + I_2 - G_4E_4 = 0$$"
   ]
  },
  {
   "cell_type": "markdown",
   "id": "2d9ff1a3",
   "metadata": {},
   "source": [
    "Thus,\n",
    "\\begin{align*}\\tag{Ex1.3}\n",
    "    I_2 &= G_4(E_4-V_\\mathrm{B}) \\\\\n",
    "     &= G_4\\big(k_4G_1(E_1-V_\\mathrm{A}) - V_\\mathrm{B} \\big)\n",
    "\\end{align*}     "
   ]
  },
  {
   "cell_type": "markdown",
   "id": "b6ec120b",
   "metadata": {},
   "source": [
    "Via KCL, Ohm's Law, and equation (Ex1.3),  \n",
    "\n",
    "\\begin{align*}\\tag{Ex1.2B}\n",
    "    0 &= G_2(V_\\mathrm{A}-V_\\mathrm{B}) + I_2 - V_\\mathrm{B}G_3 \\\\\n",
    "     &=  V_\\mathrm{A}(G_2 - k_4G_1G_4)- V_\\mathrm{B}(G_4+G_3+G_2) + k_4G_1G_4E_1\n",
    "\\end{align*}     "
   ]
  },
  {
   "cell_type": "markdown",
   "id": "4417008c",
   "metadata": {},
   "source": [
    "#### Example 2.10.2\n",
    "Find the $U - I$ circuit relationship and then the Thevenin equivalent.  \n",
    "\n",
    "![Fig-2.10.7](Figures/Fig-2.10.7.png)"
   ]
  },
  {
   "cell_type": "markdown",
   "id": "139eb074",
   "metadata": {},
   "source": [
    "Via KVL and Ohm's Law,  \n",
    "\n",
    "$$ R_1I_1 - kI_1 - R_2I - U = 0$$"
   ]
  },
  {
   "cell_type": "markdown",
   "id": "23b32a41",
   "metadata": {},
   "source": [
    "\\begin{equation}\\tag{Ex2.1}\n",
    "    U = I_1(R_1-k_1) - R_2I\n",
    "\\end{equation}    "
   ]
  },
  {
   "cell_type": "markdown",
   "id": "a536979c",
   "metadata": {},
   "source": [
    "Via KCL,  \n",
    "\n",
    "$$ J - I_1 - I = 0$$"
   ]
  },
  {
   "cell_type": "markdown",
   "id": "539c53a8",
   "metadata": {},
   "source": [
    "\\begin{equation}\\tag{Ex2.2}\n",
    "    I_1 = J-I\n",
    "\\end{equation}    "
   ]
  },
  {
   "cell_type": "markdown",
   "id": "74e11b40",
   "metadata": {},
   "source": [
    "Via equations (Ex2.2) and (Ex2.1),  \n",
    "\n",
    "\\begin{align*}\\tag{Ex2.1}\n",
    "    U &= (J-I)(R_1-k_1) - R_2I \\\\\n",
    "     &= I(k_1-R_1-R_2)+ J(R_1-k_1)\n",
    "\\end{align*}     "
   ]
  },
  {
   "cell_type": "markdown",
   "id": "2c2a19f8",
   "metadata": {},
   "source": [
    "The open-circuit voltage, denoted as '$E_\\mathrm{o}$', is thus,  \n",
    "\n",
    "\\begin{equation}\\tag{Ex2.3}\n",
    "    E_\\mathrm{o} = U_{\\big|I=0} = J(R_1-k_1)\n",
    "\\end{equation}    "
   ]
  },
  {
   "cell_type": "markdown",
   "id": "08ad9eaf",
   "metadata": {},
   "source": [
    "And, the short-circuit current, denoted as '$J_\\mathrm{s}$', is given by:  \n",
    "\n",
    "\\begin{equation}\\tag{Ex2.4}\n",
    "    J_\\mathrm{s} = I_{\\big|U=0} = - J\\,\\frac{R_1-k_1}{k_1-R_1-R_2} = J\\,\\frac{k_1-R_1}{k_1-R_1-R_2}\n",
    "\\end{equation}    "
   ]
  },
  {
   "cell_type": "markdown",
   "id": "3fd1dc10",
   "metadata": {},
   "source": [
    "The internal resistance, denoted as '$R_\\mathrm{t}$', is given by:  \n",
    "\n",
    "\\begin{equation}\\tag{Ex2.5}\n",
    "    R_\\mathrm{t} = \\frac{E_\\mathrm{o}}{J_\\mathrm{s}} = -(k_1-R_1-R_2) = R_1+R_2-k_1\n",
    "\\end{equation}    "
   ]
  },
  {
   "cell_type": "markdown",
   "id": "7f5359ce",
   "metadata": {},
   "source": [
    "Finally, rewriting equation (Ex2.1) in term of $E_\\mathrm{o}$ and $R_\\mathrm{t}$ gives:  \n",
    "\n",
    "\\begin{equation}\\tag{Ex2.1}\n",
    "    U = E_\\mathrm{o} - R_\\mathrm{t}I\n",
    "\\end{equation}    "
   ]
  },
  {
   "cell_type": "markdown",
   "id": "62a82ab3",
   "metadata": {},
   "source": [
    "#### Example 2.10.3\n",
    "This example illustrates the proper use of superposition theorem when there are dependent sources\n",
    "present in a circuit."
   ]
  },
  {
   "cell_type": "markdown",
   "id": "a6849621",
   "metadata": {},
   "source": [
    "Two subcircuits are separated by an ideal voltage source as shown. Find $I_E$. The circuit\n",
    "parameters are:  \n",
    "\n",
    "* $J = 5\\mathrm{A}$\n",
    "* $E = 20\\mathrm{V}$\n",
    "* $k = 2 \\frac{\\mathrm{V}}{\\mathrm{V}}$\n",
    "* $R_1 = 3\\Omega$\n",
    "* $R_2 = 10\\Omega$  \n",
    "\n",
    "![Fig-2.10.8](Figures/Fig-2.10.8.png)"
   ]
  },
  {
   "cell_type": "markdown",
   "id": "4ed29300",
   "metadata": {},
   "source": [
    "An ideal voltage source isolates two subcircuits, however the substitution theorem can not be\n",
    "applied as the controlling variable and the dependent source are located in different\n",
    "subcircuits.  \n",
    "\n",
    "When superposition is applied, then only independent sources give the superposition\n",
    "components. Thus, the example circuit can be divided into two subcircuits, as shown."
   ]
  },
  {
   "cell_type": "markdown",
   "id": "f21b44c2",
   "metadata": {},
   "source": [
    "To find $I_E$, first note that it is given by:  \n",
    "\n",
    "\\begin{equation}\\tag{Ex3.1}\n",
    "    I_E = I_E^J + I_E^E\n",
    "\\end{equation}    "
   ]
  },
  {
   "cell_type": "markdown",
   "id": "7e9be65d",
   "metadata": {},
   "source": [
    "Also, assume that the voltage arrowhead of $R_2$ point to the right, implying that the current that flows through $R_2$, denoted as '$I_\\mathrm{r}$', flows into the top node of the circuit."
   ]
  },
  {
   "cell_type": "markdown",
   "id": "62533868",
   "metadata": {},
   "source": [
    "The voltage running across the **left hand subcircuit** in the superposition component without $E$, (i.e. the **left hand superposition component**) denoted as '$U_\\mathrm{l}^J$' is given by, via KVL and Ohm's Law,  \n",
    "\n",
    "$$ U_J^J - V_{R_1} - U_\\mathrm{l}^J = U_J^J - R_1J - U_\\mathrm{l}^J= 0$$"
   ]
  },
  {
   "cell_type": "markdown",
   "id": "f4ee9116",
   "metadata": {},
   "source": [
    "\\begin{equation}\\tag{Ex3.2}\n",
    "    U_\\mathrm{l}^J = U_J^J - R_1J\n",
    "\\end{equation}    "
   ]
  },
  {
   "cell_type": "markdown",
   "id": "d409deda",
   "metadata": {},
   "source": [
    "Via equation (Ex3.2) and the fact that $U_\\mathrm{l}^J=0$, which follows from the fact that there is no (or neglibible) resistance along the branch that $I_E^J$ flows through, implying there is zero (or negligible) voltage dropped across said branch, which is, via KVL, equal to $U_\\mathrm{l}^J$,  \n",
    "\n",
    "\\begin{equation}\\tag{Ex3.4}\n",
    "    U_J^J = R_1J = 3\\Omega\\,5\\mathrm{A} = 15\\mathrm{V}\n",
    "\\end{equation}    "
   ]
  },
  {
   "cell_type": "markdown",
   "id": "13c18318",
   "metadata": {},
   "source": [
    "The voltage running across the right hand subcircuit ($U_\\mathrm{r}^J$) is given by, via KVL and Ohm's Law,  \n",
    "\n",
    "$$ U_\\mathrm{r}^J + U_{R_2} - kU_J^J = U_\\mathrm{r}^J +R_2I_\\mathrm{r}^J - kU_J^J =0$$"
   ]
  },
  {
   "cell_type": "markdown",
   "id": "10666ab5",
   "metadata": {},
   "source": [
    "\\begin{equation}\\tag{Ex3.3}\n",
    "    U_\\mathrm{r}^J = kU_J^J - R_2I_\\mathrm{r}^J\n",
    "\\end{equation}    "
   ]
  },
  {
   "cell_type": "markdown",
   "id": "db223bde",
   "metadata": {},
   "source": [
    "Via equations (Ex3.3) and (Ex3.4) and the fact that $U_\\mathrm{r}^J=0$,  \n",
    "\n",
    "$$ R_2I_\\mathrm{r}^J = kU_J^J $$\n",
    "\n",
    "$$ 10\\Omega\\,I_\\mathrm{r}^J = 30\\mathrm{V}$$\n",
    "\n",
    "\\begin{equation}\\tag{Ex3.5}\n",
    "    I_\\mathrm{r}^J = 3\\mathrm{A}\n",
    "\\end{equation}    \n",
    "    "
   ]
  },
  {
   "cell_type": "markdown",
   "id": "2c1d24cd",
   "metadata": {},
   "source": [
    "Via KCL, equation (Ex3.5), and the fact that $J=5\\mathrm{A}$,  \n",
    "\n",
    "\\begin{equation}\\tag{Ex3.6}\n",
    "    I_E^J = I_\\mathrm{r}^J + J = 3\\mathrm{A} + 5\\mathrm{A} = 8\\mathrm{A}\n",
    "\\end{equation}"
   ]
  },
  {
   "cell_type": "markdown",
   "id": "bef6d237",
   "metadata": {},
   "source": [
    "The following information about the Thevenin and Norton equivalent circuits is trivial."
   ]
  },
  {
   "cell_type": "markdown",
   "id": "a722ec86",
   "metadata": {},
   "source": [
    "The short-circuit current of the left hand subcircuit, denoted as '$J_{\\mathrm{s}1}$', is given by:  \n",
    "\n",
    "$$ J_{\\mathrm{s}1} = J_{\\big|U_\\mathrm{l}^J=0} = G_1U_J^J$$"
   ]
  },
  {
   "cell_type": "markdown",
   "id": "61d48ba9",
   "metadata": {},
   "source": [
    "And, the open-circuit voltage ($E_{\\mathrm{o}1}$) is given by, assuming $J=0$:  \n",
    "\n",
    "$$ E_{\\mathrm{o}1} = U_\\mathrm{l}^J = U_J^J $$"
   ]
  },
  {
   "cell_type": "markdown",
   "id": "827ac8cd",
   "metadata": {},
   "source": [
    "The internal resistance of the left hand subcircuit is thus,  \n",
    "\n",
    "$$ R_{\\mathrm{t}1} = \\frac{E_{\\mathrm{o}1}}{J_{\\mathrm{s}1}} = \\frac{1}{G_1} = R_1$$"
   ]
  },
  {
   "cell_type": "markdown",
   "id": "996806f8",
   "metadata": {},
   "source": [
    "**Another apparent (*but flawed*) way** of finding $I_E$ involves only the basic laws of circuit theory (e.g. KVL, KCL, and Ohm's Law)."
   ]
  },
  {
   "cell_type": "markdown",
   "id": "894c94d7",
   "metadata": {},
   "source": [
    "Via KVL and Ohm's Law,  \n",
    "\n",
    "$$ U_J - R_1J - E = 0$$"
   ]
  },
  {
   "cell_type": "markdown",
   "id": "64ca0dd4",
   "metadata": {},
   "source": [
    "$$ U_J = E + R_1J = 20\\mathrm{V} + 3\\Omega\\,5\\mathrm{A} = 35\\mathrm{V}$$"
   ]
  },
  {
   "cell_type": "markdown",
   "id": "763e565a",
   "metadata": {},
   "source": [
    "Via KVL,  \n",
    "\n",
    "$$ E + U_{R_2} - kU_J = 0$$"
   ]
  },
  {
   "cell_type": "markdown",
   "id": "15cd5fb2",
   "metadata": {},
   "source": [
    "$$ U_{R_2} = kU_J - E = 70\\mathrm{V} - 20\\mathrm{V} = 50\\mathrm{V}$$"
   ]
  },
  {
   "cell_type": "markdown",
   "id": "4136bc2e",
   "metadata": {},
   "source": [
    "Finally, via KCL and Ohm's Law,  \n",
    "\n",
    "$$ U_{R_2}G_2 + J - I_E = 0 $$"
   ]
  },
  {
   "cell_type": "markdown",
   "id": "62b73886",
   "metadata": {},
   "source": [
    "$$ I_E = J + U_{R_2}G_2 = 5\\mathrm{A} + \\frac{1}{10}\\,\\mathrm{S}\\,50\\mathrm{V}= 10\\mathrm{A} $$"
   ]
  },
  {
   "cell_type": "code",
   "execution_count": 1,
   "id": "f13fe3cc",
   "metadata": {},
   "outputs": [
    {
     "data": {
      "text/plain": [
       "21.666666666666668"
      ]
     },
     "execution_count": 1,
     "metadata": {},
     "output_type": "execute_result"
    }
   ],
   "source": [
    "5+50/3"
   ]
  }
 ],
 "metadata": {
  "kernelspec": {
   "display_name": "Python 3",
   "language": "python",
   "name": "python3"
  },
  "language_info": {
   "codemirror_mode": {
    "name": "ipython",
    "version": 3
   },
   "file_extension": ".py",
   "mimetype": "text/x-python",
   "name": "python",
   "nbconvert_exporter": "python",
   "pygments_lexer": "ipython3",
   "version": "3.8.10"
  }
 },
 "nbformat": 4,
 "nbformat_minor": 5
}
