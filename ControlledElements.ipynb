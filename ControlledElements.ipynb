{
 "cells": [
  {
   "cell_type": "markdown",
   "id": "e9a7d052",
   "metadata": {},
   "source": [
    "# Dependent (Controlled) Elements\n",
    "### Chapter 2.10 - *DC Analysis*"
   ]
  },
  {
   "cell_type": "markdown",
   "id": "11181636",
   "metadata": {},
   "source": [
    "### Arbitrary Dependent Element\n",
    "\n",
    "Two-terminal elements are normally characterized by an analytic function, linear or nonlinear,\n",
    "of one argument (2.1.4). Another category of elements can be distinguished, namely\n",
    "dependent or controlled elements. A controlled element is described by the following\n",
    "relationship:  \n",
    "\n",
    "\\begin{equation}\\tag{1}\n",
    "    I = f(U, X) \\;\\text{or}\\; U=g(I, X)\n",
    "\\end{equation}    "
   ]
  },
  {
   "cell_type": "markdown",
   "id": "b51e4b86",
   "metadata": {},
   "source": [
    "Then, such element is described by a family of $I$-$U$ characteristics, with $X$ as the second\n",
    "parameter, so called control variable, which can be: temperature ($t$), lightning flux ($\\Phi$), other\n",
    "voltage ($U_c$) or other current ($I_c$) . The two latter elements are called the controlled sources and\n",
    "they will be discussed in details."
   ]
  },
  {
   "cell_type": "markdown",
   "id": "e93cb960",
   "metadata": {},
   "source": [
    "### Controlled Sources\n",
    "\n",
    "A controlled source is a source that provides a current or voltage that is dependent on other\n",
    "current or voltage elsewhere in the circuit."
   ]
  },
  {
   "cell_type": "markdown",
   "id": "b891e23f",
   "metadata": {},
   "source": [
    "## Usage in Element Modeling\n",
    "\n",
    "__Use of controlled sources to element modeling.__  \n",
    "\n",
    "Controlled sources are used in modeling of circuit elements, such as transistor, operational\n",
    "amplifier or any other multi-terminal element."
   ]
  },
  {
   "cell_type": "markdown",
   "id": "325f7d8d",
   "metadata": {},
   "source": [
    "### Transistor\n",
    "\n",
    "A transistor circuit symbol and the simplified model, for the common emitter mode of\n",
    "operation, are presented in Fig. 2.10.3. As can be seen, the CCCS is used. Then, after\n",
    "linearization of a diode characteristic (2.12.1c), i.e. its replacement by the voltage source $U_f$ ,\n",
    "the transistor equations are:"
   ]
  },
  {
   "cell_type": "markdown",
   "id": "911a4eb1",
   "metadata": {},
   "source": [
    "$$\\begin{bmatrix}\\tag{3}I_\\mathrm{B}\\\\I_\\mathrm{C}\\end{bmatrix} = \\mathbf{G}\\cdot\\begin{bmatrix}\n",
    "U_\\mathrm{BE}\\\\U_\\mathrm{CE}\\end{bmatrix}+\\mathbf{J}$$"
   ]
  },
  {
   "cell_type": "markdown",
   "id": "27ca1d50",
   "metadata": {},
   "source": [
    "where,\n",
    "$$\\mathbf{G} = \\begin{bmatrix}\\tag{3}\n",
    "G_\\mathrm{B} &0\\\\\n",
    "\\beta G_\\mathrm{B} &0\n",
    "\\end{bmatrix},\\quad\\text{and}\\quad\\mathbf{J} = \\begin{bmatrix}-U_fG_\\mathrm{B} \\\\ -U_f\\beta G_\\mathrm{B}\n",
    "\\end{bmatrix}$$"
   ]
  },
  {
   "cell_type": "markdown",
   "id": "6f215a2f",
   "metadata": {},
   "source": [
    "\\begin{align*}\\tag{3a}\n",
    "    I_\\mathrm{B} &= G_\\mathrm{B}U_\\mathrm{BE} - U_fG_\\mathrm{B} \\\\\n",
    "     &= G_\\mathrm{B}(U_\\mathrm{BE} - U_f)\n",
    "\\end{align*}     "
   ]
  },
  {
   "cell_type": "markdown",
   "id": "95c96c51",
   "metadata": {},
   "source": [
    "and,\n",
    "\\begin{equation}\\tag{3b}\n",
    "    I_\\mathrm{C} = \\beta G_\\mathrm{B}(U_\\mathrm{BE} - U_f)\n",
    "\\end{equation}    "
   ]
  },
  {
   "cell_type": "markdown",
   "id": "37eb0ea7",
   "metadata": {},
   "source": [
    "![Fig-2.10.3](Figures/Fig-2.10.3.png)"
   ]
  },
  {
   "cell_type": "markdown",
   "id": "d2c72d84",
   "metadata": {},
   "source": [
    "For the assumed model, the transistor is characterized by the conductance matrix, $\\mathbf{G}$,\n",
    "and the short-circuit current vector, $\\mathbf{J}$, both of which are identified in equation (3);  And then practically by the two parameters (for a silicon transistor, $U_f=0.7\\mathrm{V}$):  \n",
    "\n",
    "* the current gain ($\\beta$)\n",
    "* the base resistance ($R_\\mathrm{B}$)"
   ]
  },
  {
   "cell_type": "markdown",
   "id": "4947b5e1",
   "metadata": {},
   "source": [
    "It should be observed that the resistance matrix ($\\mathbf{R}$) does not exist."
   ]
  }
 ],
 "metadata": {
  "kernelspec": {
   "display_name": "Python 3",
   "language": "python",
   "name": "python3"
  },
  "language_info": {
   "codemirror_mode": {
    "name": "ipython",
    "version": 3
   },
   "file_extension": ".py",
   "mimetype": "text/x-python",
   "name": "python",
   "nbconvert_exporter": "python",
   "pygments_lexer": "ipython3",
   "version": "3.8.10"
  }
 },
 "nbformat": 4,
 "nbformat_minor": 5
}
