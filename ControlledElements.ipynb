{
 "cells": [
  {
   "cell_type": "markdown",
   "id": "0ba578cc",
   "metadata": {},
   "source": [
    "# Dependent (Controlled) Elements\n",
    "### Chapter 2.10 - *DC Analysis*"
   ]
  },
  {
   "cell_type": "markdown",
   "id": "96d9e7ab",
   "metadata": {},
   "source": [
    "### Arbitrary Dependent Element\n",
    "\n",
    "Two-terminal elements are normally characterized by an analytic function, linear or nonlinear,\n",
    "of one argument (2.1.4). Another category of elements can be distinguished, namely\n",
    "dependent or controlled elements. A controlled element is described by the following\n",
    "relationship:  \n",
    "\n",
    "\\begin{equation}\\tag{1}\n",
    "    I = f(U, X) \\;\\text{or}\\; U=g(I, X)\n",
    "\\end{equation}    "
   ]
  },
  {
   "cell_type": "markdown",
   "id": "90448c46",
   "metadata": {},
   "source": [
    "Then, such element is described by a family of $I$-$U$ characteristics, with $X$ as the second\n",
    "parameter, so called control variable, which can be: temperature ($t$), lightning flux ($\\Phi$), other\n",
    "voltage ($U_c$) or other current ($I_c$) . The two latter elements are called the controlled sources and\n",
    "they will be discussed in details."
   ]
  },
  {
   "cell_type": "markdown",
   "id": "495d42a5",
   "metadata": {},
   "source": [
    "### Controlled Sources\n",
    "\n",
    "A controlled source is a source that provides a current or voltage that is dependent on other\n",
    "current or voltage elsewhere in the circuit."
   ]
  },
  {
   "cell_type": "markdown",
   "id": "bb7b67a9",
   "metadata": {},
   "source": [
    "## Usage in Element Modeling\n",
    "\n",
    "__Use of controlled sources to element modeling.__  \n",
    "\n",
    "Controlled sources are used in modeling of circuit elements, such as transistor, operational\n",
    "amplifier or any other multi-terminal element."
   ]
  },
  {
   "cell_type": "markdown",
   "id": "032e8543",
   "metadata": {},
   "source": [
    "### Transistor\n",
    "\n",
    "A transistor circuit symbol and the simplified model, for the common emitter mode of\n",
    "operation, are presented in Fig. 2.10.3. As can be seen, the CCCS is used. Then, after\n",
    "linearization of a diode characteristic (2.12.1c), i.e. its replacement by the voltage source $U_f$ ,\n",
    "the transistor equations are:"
   ]
  },
  {
   "cell_type": "markdown",
   "id": "7850de9d",
   "metadata": {},
   "source": [
    "$$\\begin{bmatrix}\\tag{3}I_\\mathrm{B}\\\\I_\\mathrm{C}\\end{bmatrix} = \\mathbf{G}\\cdot\\begin{bmatrix}\n",
    "U_\\mathrm{BE}\\\\U_\\mathrm{CE}\\end{bmatrix}+\\mathbf{J}$$"
   ]
  },
  {
   "cell_type": "markdown",
   "id": "2058af42",
   "metadata": {},
   "source": [
    "where,\n",
    "$$\\mathbf{G} = \\begin{bmatrix}\\tag{3}\n",
    "G_\\mathrm{B} &0\\\\\n",
    "\\beta G_\\mathrm{B} &0\n",
    "\\end{bmatrix},\\quad\\text{and}\\quad\\mathbf{J} = \\begin{bmatrix}-U_fG_\\mathrm{B} \\\\ -U_f\\beta G_\\mathrm{B}\n",
    "\\end{bmatrix}$$"
   ]
  },
  {
   "cell_type": "markdown",
   "id": "a36c7b02",
   "metadata": {},
   "source": [
    "\\begin{align*}\\tag{3a}\n",
    "    I_\\mathrm{B} &= G_\\mathrm{B}U_\\mathrm{BE} - U_fG_\\mathrm{B} \\\\\n",
    "     &= G_\\mathrm{B}(U_\\mathrm{BE} - U_f)\n",
    "\\end{align*}     "
   ]
  },
  {
   "cell_type": "markdown",
   "id": "1f947d7f",
   "metadata": {},
   "source": [
    "and,\n",
    "\\begin{equation}\\tag{3b}\n",
    "    I_\\mathrm{C} = \\beta G_\\mathrm{B}(U_\\mathrm{BE} - U_f)\n",
    "\\end{equation}    "
   ]
  },
  {
   "cell_type": "markdown",
   "id": "856b7745",
   "metadata": {},
   "source": [
    "![Fig-2.10.3](Figures/Fig-2.10.3.png)"
   ]
  },
  {
   "cell_type": "markdown",
   "id": "190043ca",
   "metadata": {},
   "source": [
    "For the assumed model, the transistor is characterized by the conductance matrix, $\\mathbf{G}$,\n",
    "and the short-circuit current vector, $\\mathbf{J}$, both of which are identified in equation (3);  And then practically by the two parameters (for a silicon transistor, $U_f=0.7\\mathrm{V}$):  \n",
    "\n",
    "* the current gain ($\\beta$)\n",
    "* the base resistance ($R_\\mathrm{B}$)"
   ]
  },
  {
   "cell_type": "markdown",
   "id": "a96770d9",
   "metadata": {},
   "source": [
    "It should be observed that the resistance matrix ($\\mathbf{R}$) does not exist."
   ]
  },
  {
   "cell_type": "markdown",
   "id": "e6be78c8",
   "metadata": {},
   "source": [
    "Herein is the **proof** of the identities of $\\mathbf{G}$ and $\\mathbf{J}$ found in equation (3).  Recall that:  \n",
    "\n",
    "\\begin{equation}\\tag{3.1}\n",
    "    G_{11} = \\frac{I_\\mathrm{B}}{U_{BE}}_{\\Big|U_\\mathrm{CE}=0;\\;\\mathbf{J}=0}\n",
    "\\end{equation}    "
   ]
  },
  {
   "cell_type": "markdown",
   "id": "6a95f34a",
   "metadata": {},
   "source": [
    "and,\n",
    "\\begin{equation}\\tag{3.2}\n",
    "    G_{21} = \\frac{I_\\mathrm{C}}{U_\\mathrm{BE}}_{\\Big|U_\\mathrm{CE}=0;\\;\\mathbf{J}=0}\n",
    "\\end{equation}    "
   ]
  },
  {
   "cell_type": "markdown",
   "id": "36acc34e",
   "metadata": {},
   "source": [
    "Via equation (3.2) and the fact that $I_\\mathrm{C}=\\beta I_\\mathrm{B}$,  \n",
    "\n",
    "\\begin{equation}\\tag{3.2a}\n",
    "    G_{21}=\\frac{\\beta I_\\mathrm{B}}{U_\\mathrm{BE}}_{\\Big|U_\\mathrm{CE}=0;\\;\\mathbf{J}=0}\n",
    "\\end{equation}    "
   ]
  },
  {
   "cell_type": "markdown",
   "id": "354d3b2c",
   "metadata": {},
   "source": [
    "Via equations (3.2a) and (3.1) and substitution,  \n",
    "\n",
    "\\begin{equation}\\tag{3.2b}\n",
    "    G_{21} = \\beta G_{11}\n",
    "\\end{equation}    "
   ]
  },
  {
   "cell_type": "markdown",
   "id": "55d21f1c",
   "metadata": {},
   "source": [
    "Via KVL and Ohm's Law,  \n",
    "\n",
    "\\begin{equation}\\tag{3.3}\n",
    "    U_\\mathrm{BE} = R_\\mathrm{B}I_\\mathrm{B} + U_f\n",
    "\\end{equation}    "
   ]
  },
  {
   "cell_type": "markdown",
   "id": "2873e7e9",
   "metadata": {},
   "source": [
    "and,\n",
    "$$U_f = U_{I_\\mathrm{C}} + U_\\mathrm{CE} $$"
   ]
  },
  {
   "cell_type": "markdown",
   "id": "a846e0d9",
   "metadata": {},
   "source": [
    "Via the above equation and the assumption that $U_\\mathrm{CE}=0$,  \n",
    "\n",
    "\\begin{equation}\\tag{3.4}\n",
    "    U_f=U_{I_\\mathrm{C}}\n",
    "\\end{equation}    "
   ]
  },
  {
   "cell_type": "markdown",
   "id": "6a9396d3",
   "metadata": {},
   "source": [
    "Via KCL,  \n",
    "\n",
    "$$ J = I_\\mathrm{B} + I_\\mathrm{C} = I_\\mathrm{B}(1+\\beta)$$"
   ]
  },
  {
   "cell_type": "markdown",
   "id": "dd52d2bd",
   "metadata": {},
   "source": [
    "Via the above equation and the notion that $J=0$, which is implied by the assumption that $\\mathbf{J}=0$,  \n",
    "\n",
    "$$ I_\\mathrm{B}(1+\\beta)=0$$\n",
    "\n",
    "and\n",
    "$$ $$"
   ]
  },
  {
   "cell_type": "code",
   "execution_count": null,
   "id": "d1de00ec",
   "metadata": {},
   "outputs": [],
   "source": []
  }
 ],
 "metadata": {
  "kernelspec": {
   "display_name": "Python 3",
   "language": "python",
   "name": "python3"
  },
  "language_info": {
   "codemirror_mode": {
    "name": "ipython",
    "version": 3
   },
   "file_extension": ".py",
   "mimetype": "text/x-python",
   "name": "python",
   "nbconvert_exporter": "python",
   "pygments_lexer": "ipython3",
   "version": "3.8.10"
  }
 },
 "nbformat": 4,
 "nbformat_minor": 5
}
