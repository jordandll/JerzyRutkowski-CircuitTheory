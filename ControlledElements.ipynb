{
 "cells": [
  {
   "cell_type": "markdown",
   "id": "d66128db",
   "metadata": {},
   "source": [
    "# Dependent (Controlled) Elements\n",
    "### Chapter 2.10 - *DC Analysis*"
   ]
  },
  {
   "cell_type": "markdown",
   "id": "3144d550",
   "metadata": {},
   "source": [
    "### Arbitrary Dependent Element\n",
    "\n",
    "Two-terminal elements are normally characterized by an analytic function, linear or nonlinear,\n",
    "of one argument (2.1.4). Another category of elements can be distinguished, namely\n",
    "dependent or controlled elements. A controlled element is described by the following\n",
    "relationship:  \n",
    "\n",
    "\\begin{equation}\\tag{1}\n",
    "    I = f(U, X) \\;\\text{or}\\; U=g(I, X)\n",
    "\\end{equation}    "
   ]
  },
  {
   "cell_type": "markdown",
   "id": "cdbc976d",
   "metadata": {},
   "source": [
    "Then, such element is described by a family of $I$-$U$ characteristics, with $X$ as the second\n",
    "parameter, so called control variable, which can be: temperature ($t$), lightning flux ($\\Phi$), other\n",
    "voltage ($U_c$) or other current ($I_c$) . The two latter elements are called the controlled sources and\n",
    "they will be discussed in details."
   ]
  },
  {
   "cell_type": "markdown",
   "id": "e69aad7d",
   "metadata": {},
   "source": [
    "### Controlled Sources\n",
    "\n",
    "A controlled source is a source that provides a current or voltage that is dependent on other\n",
    "current or voltage elsewhere in the circuit."
   ]
  },
  {
   "cell_type": "markdown",
   "id": "b773bb36",
   "metadata": {},
   "source": [
    "## Usage in Element Modeling\n",
    "\n",
    "__Use of controlled sources to element modeling.__  \n",
    "\n",
    "Controlled sources are used in modeling of circuit elements, such as transistor, operational\n",
    "amplifier or any other multi-terminal element."
   ]
  },
  {
   "cell_type": "markdown",
   "id": "4a5062dd",
   "metadata": {},
   "source": [
    "### Transistor\n",
    "\n",
    "A transistor circuit symbol and the simplified model, for the common emitter mode of\n",
    "operation, are presented in Fig. 2.10.3. As can be seen, the CCCS is used. Then, after\n",
    "linearization of a diode characteristic (2.12.1c), i.e. its replacement by the voltage source $U_f$ ,\n",
    "the transistor equations are:"
   ]
  },
  {
   "cell_type": "markdown",
   "id": "6481508b",
   "metadata": {},
   "source": [
    "$$\\begin{bmatrix}\\tag{3}I_\\mathrm{B}\\\\I_\\mathrm{C}\\end{bmatrix} = \\mathbf{G}\\cdot\\begin{bmatrix}\n",
    "U_\\mathrm{BE}\\\\U_\\mathrm{CE}\\end{bmatrix}+\\mathbf{J}$$"
   ]
  },
  {
   "cell_type": "markdown",
   "id": "94af71ae",
   "metadata": {},
   "source": [
    "where,\n",
    "$$\\mathbf{G} = \\begin{bmatrix}\\tag{3}\n",
    "G_\\mathrm{B} &0\\\\\n",
    "\\beta G_\\mathrm{B} &0\n",
    "\\end{bmatrix},\\quad\\text{and}\\quad\\mathbf{J} = \\begin{bmatrix}-U_fG_\\mathrm{B} \\\\ -U_f\\beta G_\\mathrm{B}\n",
    "\\end{bmatrix}$$"
   ]
  },
  {
   "cell_type": "markdown",
   "id": "258f9cde",
   "metadata": {},
   "source": [
    "\\begin{align*}\\tag{3a}\n",
    "    I_\\mathrm{B} &= G_\\mathrm{B}U_\\mathrm{BE} - U_fG_\\mathrm{B} \\\\\n",
    "     &= G_\\mathrm{B}(U_\\mathrm{BE} - U_f)\n",
    "\\end{align*}     "
   ]
  },
  {
   "cell_type": "markdown",
   "id": "5587b960",
   "metadata": {},
   "source": [
    "and,\n",
    "\\begin{equation}\\tag{3b}\n",
    "    I_\\mathrm{C} = \\beta G_\\mathrm{B}(U_\\mathrm{BE} - U_f)\n",
    "\\end{equation}    "
   ]
  },
  {
   "cell_type": "markdown",
   "id": "6446e92f",
   "metadata": {},
   "source": [
    "![Fig-2.10.3](Figures/Fig-2.10.3.png)"
   ]
  },
  {
   "cell_type": "markdown",
   "id": "3bb3a947",
   "metadata": {},
   "source": [
    "For the assumed model, the transistor is characterized by the conductance matrix, $\\mathbf{G}$,\n",
    "and the short-circuit current vector, $\\mathbf{J}$, both of which are identified in equation (3);  And then practically by the two parameters (for a silicon transistor, $U_f=0.7\\mathrm{V}$):  \n",
    "\n",
    "* the current gain ($\\beta$)\n",
    "* the base resistance ($R_\\mathrm{B}$)"
   ]
  },
  {
   "cell_type": "markdown",
   "id": "ee7d7a5a",
   "metadata": {},
   "source": [
    "It should be observed that the resistance matrix ($\\mathbf{R}$) does not exist."
   ]
  },
  {
   "cell_type": "markdown",
   "id": "0d0103c6",
   "metadata": {},
   "source": [
    "Herein is the **proof** of the identities of $\\mathbf{G}$ and $\\mathbf{J}$ found in equation (3).  Recall that:  \n",
    "\n",
    "\\begin{equation}\\tag{3.1}\n",
    "    G_{11} = \\frac{I_\\mathrm{B}}{U_{BE}}_{\\Big|U_\\mathrm{CE}=0;\\;\\mathbf{J}=0}\n",
    "\\end{equation}    "
   ]
  },
  {
   "cell_type": "markdown",
   "id": "5dd4a5bf",
   "metadata": {},
   "source": [
    "and,\n",
    "\\begin{equation}\\tag{3.2}\n",
    "    G_{21} = \\frac{I_\\mathrm{C}}{U_\\mathrm{BE}}_{\\Big|U_\\mathrm{CE}=0;\\;\\mathbf{J}=0}\n",
    "\\end{equation}    "
   ]
  },
  {
   "cell_type": "markdown",
   "id": "e42409b3",
   "metadata": {},
   "source": [
    "Via equation (3.2) and the fact that $I_\\mathrm{C}=\\beta I_\\mathrm{B}$,  \n",
    "\n",
    "\\begin{equation}\\tag{3.2a}\n",
    "    G_{21}=\\frac{\\beta I_\\mathrm{B}}{U_\\mathrm{BE}}_{\\Big|U_\\mathrm{CE}=0;\\;\\mathbf{J}=0}\n",
    "\\end{equation}    "
   ]
  },
  {
   "cell_type": "markdown",
   "id": "f408e6bf",
   "metadata": {},
   "source": [
    "Via equations (3.2a) and (3.1) and substitution,  \n",
    "\n",
    "\\begin{equation}\\tag{3.2b}\n",
    "    G_{21} = \\beta G_{11}\n",
    "\\end{equation}    "
   ]
  },
  {
   "cell_type": "markdown",
   "id": "c697fbdd",
   "metadata": {},
   "source": [
    "Via KVL and Ohm's Law,  \n",
    "\n",
    "\\begin{equation}\\tag{3.3}\n",
    "    U_\\mathrm{BE} = R_\\mathrm{B}I_\\mathrm{B} + U_f\n",
    "\\end{equation}    "
   ]
  },
  {
   "cell_type": "markdown",
   "id": "a5c42b02",
   "metadata": {},
   "source": [
    "and,\n",
    "$$U_f = U_{I_\\mathrm{C}} + U_\\mathrm{CE} $$"
   ]
  },
  {
   "cell_type": "markdown",
   "id": "6a1eab67",
   "metadata": {},
   "source": [
    "Via the above equation and the assumption that $U_\\mathrm{CE}=0$,  \n",
    "\n",
    "\\begin{equation}\\tag{3.4}\n",
    "    U_f=U_{I_\\mathrm{C}}\n",
    "\\end{equation}    "
   ]
  },
  {
   "cell_type": "markdown",
   "id": "69639c50",
   "metadata": {},
   "source": [
    "Assuming $U_\\mathrm{BE},U_\\mathrm{CE}=0$ (i.e. short-circuit conditions), via equation (3),  \n",
    "\n",
    "\\begin{equation}\\tag{3.5}\n",
    "    J_\\mathrm{B} = I_\\mathrm{B}\\quad\\text{and}\\quad J_\\mathrm{C} = I_\\mathrm{C} = \\beta I_\\mathrm{B} = \\beta J_\\mathrm{B}\n",
    "\\end{equation}    "
   ]
  },
  {
   "cell_type": "markdown",
   "id": "7b0135c6",
   "metadata": {},
   "source": [
    "Via KVL and Ohm's Law, under short-circuit conditions,  \n",
    "\n",
    "$$ R_\\mathrm{B}I_\\mathrm{B} = R_\\mathrm{B}J_\\mathrm{B} = -U_f$$"
   ]
  },
  {
   "cell_type": "markdown",
   "id": "cc1c4d89",
   "metadata": {},
   "source": [
    "Thus,\n",
    "\\begin{equation}\\tag{3.J.B}\n",
    "    J_\\mathrm{B} = -U_fG_\\mathrm{B}\n",
    "\\end{equation}    "
   ]
  },
  {
   "cell_type": "markdown",
   "id": "426d75ce",
   "metadata": {},
   "source": [
    "Which is consistent with the identity of $\\mathbf{J}$ in equation (3)."
   ]
  },
  {
   "cell_type": "markdown",
   "id": "d40bf678",
   "metadata": {},
   "source": [
    "Via equations (3.J.B) and (3.5) and substitution,  \n",
    "\n",
    "\\begin{equation}\\tag{3.J.C}\n",
    "    J_\\mathrm{C} = -\\beta U_f G_\\mathrm{B}\n",
    "\\end{equation}    "
   ]
  },
  {
   "cell_type": "markdown",
   "id": "c9f163d3",
   "metadata": {},
   "source": [
    "The above equation is also consistent with equation (3).  Now, assuming $\\mathbf{J}=0$, via equations (3.J),  \n",
    "\n",
    "\\begin{equation}\\tag{3.6}\n",
    "    U_f=0_{\\big|\\mathbf{J}=0}\n",
    "\\end{equation}    "
   ]
  },
  {
   "cell_type": "markdown",
   "id": "9767df6c",
   "metadata": {},
   "source": [
    "Via equations (3.6) and (3.3),  \n",
    "\n",
    "\\begin{equation}\\tag{3.3a}\n",
    "    U_\\mathrm{BE} = R_\\mathrm{B}I_\\mathrm{B}\n",
    "\\end{equation}    "
   ]
  },
  {
   "cell_type": "markdown",
   "id": "056c1fbd",
   "metadata": {},
   "source": [
    "Via equations (3.3a) and (3.1),  \n",
    "\n",
    "\\begin{equation}\\tag{3.1a}\n",
    "    G_{11} = \\frac{1}{R_\\mathrm{B}} = G_\\mathrm{B}\n",
    "\\end{equation}    "
   ]
  },
  {
   "cell_type": "markdown",
   "id": "0e8b9964",
   "metadata": {},
   "source": [
    "And, of course, via equations (3.1a) and (3.2b),  \n",
    "\n",
    "\\begin{equation}\\tag{3.1b}\n",
    "    G_{21} = \\beta G_\\mathrm{B}\n",
    "\\end{equation}    "
   ]
  },
  {
   "cell_type": "markdown",
   "id": "61710bb7",
   "metadata": {},
   "source": [
    "The above two equations are consistent with the identity of $\\mathbf{G}$ in equation (3).  Now, to find the values of the second column of $\\mathbf{G}$, first recall that:  \n",
    "\n",
    "\\begin{equation}\\tag{3.7}\n",
    "    G_{12} = \\frac{I_\\mathrm{B}}{U_{CE}}_{\\Big|U_\\mathrm{BE}=0;\\;\\mathbf{J}=0}\n",
    "\\end{equation}    "
   ]
  },
  {
   "cell_type": "markdown",
   "id": "39b6742b",
   "metadata": {},
   "source": [
    "and,\n",
    "\\begin{equation}\\tag{3.8}\n",
    "    G_{22}=\\frac{I_\\mathrm{C}}{U_\\mathrm{CE}}_{\\Big|U_\\mathrm{BE}=0;\\;\\mathbf{J}=0}\n",
    "\\end{equation}    "
   ]
  },
  {
   "cell_type": "markdown",
   "id": "8147e9c5",
   "metadata": {},
   "source": [
    "Assuming $U_\\mathrm{BE}=0$ and $\\mathbf{J}=0$, via KVL and Ohm's Law,  \n",
    "\n",
    "$$ R_\\mathrm{B}I_\\mathrm{B} = -U_f = 0$$"
   ]
  },
  {
   "cell_type": "markdown",
   "id": "0ca6b857",
   "metadata": {},
   "source": [
    "Thus,\n",
    "\\begin{equation}\\tag{3.9}\n",
    "    I_\\mathrm{B}=0\n",
    "\\end{equation}    "
   ]
  },
  {
   "cell_type": "markdown",
   "id": "80d1b865",
   "metadata": {},
   "source": [
    "and,\n",
    "\\begin{equation}\\tag{3.7a}\n",
    "    G_{12} = 0\n",
    "\\end{equation}    "
   ]
  },
  {
   "cell_type": "markdown",
   "id": "95c62597",
   "metadata": {},
   "source": [
    "And, via equation (3.9) and the fact that $I_\\mathrm{C}=\\beta I_\\mathrm{B}$,  \n",
    "\n",
    "\\begin{equation}\\tag{3.10}\n",
    "    I_\\mathrm{C}=0\n",
    "\\end{equation}    "
   ]
  },
  {
   "cell_type": "markdown",
   "id": "07207e32",
   "metadata": {},
   "source": [
    "Finally, via equations (3.10) and (3.8),  \n",
    "\n",
    "\\begin{equation}\\tag{3.8a}\n",
    "    G_{22} = 0\n",
    "\\end{equation}    "
   ]
  },
  {
   "cell_type": "markdown",
   "id": "908a0a44",
   "metadata": {},
   "source": [
    "### Operational Amplifier\n",
    "An operational amplifier (op-amp) circuit symbol and the model are presented in Fig. 2.10.4.\n",
    "As can be seen, the VCVS is used.  \n",
    "\n",
    "![Fig-2.10.4](Figures/Fig-2.10.4.png)"
   ]
  },
  {
   "cell_type": "markdown",
   "id": "b84d826e",
   "metadata": {},
   "source": [
    "For the assumed model, an op-amp is characterized by equations (4), i.e. by two\n",
    "resistances ($R_{in}$ and $R_{out}$) and one control coefficient ($k$)."
   ]
  },
  {
   "cell_type": "markdown",
   "id": "0db93681",
   "metadata": {},
   "source": [
    "$$\\mathbf{I} = \\begin{bmatrix}\\tag{4}I_{in}\\\\I_{out}\\end{bmatrix} = \\mathbf{G}\\cdot\\begin{bmatrix}U_{in}\\\\U_{out}\n",
    "\\end{bmatrix}$$"
   ]
  },
  {
   "cell_type": "markdown",
   "id": "6643b242",
   "metadata": {},
   "source": [
    "where,\n",
    "$$\\mathbf{G}=\\begin{bmatrix}\\tag{4}\n",
    "G_{in} &0\\\\\n",
    "-kG_{out} &G_{out}\n",
    "\\end{bmatrix}$$"
   ]
  },
  {
   "cell_type": "markdown",
   "id": "36710923",
   "metadata": {},
   "source": [
    "Or,"
   ]
  },
  {
   "cell_type": "markdown",
   "id": "55e6cf8f",
   "metadata": {},
   "source": [
    "\\begin{equation}\\tag{4a}\n",
    "    I_{in} = G_{in}U_{in}\n",
    "\\end{equation}    "
   ]
  },
  {
   "cell_type": "markdown",
   "id": "3822ffe5",
   "metadata": {},
   "source": [
    "and,\n",
    "\\begin{align*}\\tag{4b}\n",
    "    I_{out} &= G_{out}U_{out} - kG_{out}U_{in} \\\\\n",
    "     &= G_{out}(U_{out} - kU_{in})\n",
    "\\end{align*}     "
   ]
  },
  {
   "cell_type": "markdown",
   "id": "587c2c8a",
   "metadata": {},
   "source": [
    "Herein is the **proof** for the identity of $\\mathbf{G}$ in equation (4).  First, recall that:  \n",
    "\n",
    "\\begin{equation}\\tag{4.1}\n",
    "    G_{11} = \\frac{I_{in}}{U_{in}}_{\\Big|U_{out}=0}\n",
    "\\end{equation}    "
   ]
  },
  {
   "cell_type": "markdown",
   "id": "8ecc08b1",
   "metadata": {},
   "source": [
    "Via KVL and Ohm's Law,  \n",
    "\n",
    "\\begin{equation}\\tag{4.2}\n",
    "    U_{in} = R_{in}I_{in}\n",
    "\\end{equation}    "
   ]
  },
  {
   "cell_type": "markdown",
   "id": "a065e958",
   "metadata": {},
   "source": [
    "And, via equations (4.2) and (4.1) and substitution,  \n",
    "\n",
    "\\begin{equation}\\tag{4.1a}\n",
    "    G_{11} = \\frac{1}{R_{in}} = G_{in}\n",
    "\\end{equation}    "
   ]
  },
  {
   "cell_type": "markdown",
   "id": "8df7965e",
   "metadata": {},
   "source": [
    "Next, recall that:  \n",
    "\n",
    "\\begin{equation}\\tag{4.3}\n",
    "    G_{21} = \\frac{I_{out}}{U_{in}}_{\\Big|U_{out}=0}\n",
    "\\end{equation}   "
   ]
  },
  {
   "cell_type": "markdown",
   "id": "b61c5ceb",
   "metadata": {},
   "source": [
    "Via KVL and Ohm's Law,  \n",
    "\n",
    "$$ kU_{in} + R_{out}I_{out} - U_{out} = 0$$\n",
    "\n",
    "$$ kU_{in} + R_{out}I_{out} = 0$$\n",
    "\n",
    "$$ kU_{in}=-R_{out}I_{out}$$"
   ]
  },
  {
   "cell_type": "markdown",
   "id": "66ed1f7d",
   "metadata": {},
   "source": [
    "\\begin{equation}\\tag{4.4}\n",
    "    I_{out} = - \\frac{kU_{in}}{R_{out}} = -kG_{out}U_{in}\n",
    "\\end{equation}    "
   ]
  },
  {
   "cell_type": "markdown",
   "id": "5ec3763d",
   "metadata": {},
   "source": [
    "Via equations (4.4) and (4.3) and substitution,  \n",
    "\n",
    "\\begin{equation}\\tag{4.3a}\n",
    "    G_{21} = -kG_{out}\n",
    "\\end{equation}    "
   ]
  },
  {
   "cell_type": "markdown",
   "id": "32ff0a58",
   "metadata": {},
   "source": [
    "Now, recall that:  \n",
    "\n",
    "\\begin{equation}\\tag{4.5}\n",
    "    G_{22} = \\frac{I_{out}}{U_{out}}_{\\Big|U_{in}=0}\n",
    "\\end{equation}    "
   ]
  },
  {
   "cell_type": "markdown",
   "id": "79d408ac",
   "metadata": {},
   "source": [
    "Assuming $U_{in}=0$, via KVL and Ohm's Law,  \n",
    "\n",
    "\\begin{equation}\\tag{4.6}\n",
    "    R_{out}I_{out} = U_{out}\n",
    "\\end{equation}    "
   ]
  },
  {
   "cell_type": "markdown",
   "id": "49d4ffdf",
   "metadata": {},
   "source": [
    "Via equations (4.6) and (4.5),  \n",
    "\n",
    "\\begin{equation}\\tag{4.5a}\n",
    "    G_{22} = \\frac{1}{R_{out}} = G_{out}\n",
    "\\end{equation}    "
   ]
  },
  {
   "cell_type": "markdown",
   "id": "cea65258",
   "metadata": {},
   "source": [
    "Finally, recall that:  \n",
    "\n",
    "\\begin{equation}\\tag{4.7}\n",
    "    G_{12} = \\frac{I_{in}}{U_{out}}_{\\Big|U_{in}=0}\n",
    "\\end{equation}    "
   ]
  },
  {
   "cell_type": "markdown",
   "id": "b4960f0e",
   "metadata": {},
   "source": [
    "Assuming $U_{in}=0$, via Ohm's Law,  \n",
    "\n",
    "$$ R_{in}I_{in} = U_{in} = 0$$"
   ]
  },
  {
   "cell_type": "markdown",
   "id": "0a3f8cd4",
   "metadata": {},
   "source": [
    "Thus,\n",
    "\\begin{equation}\\tag{4.8}\n",
    "    I_{in}=0\n",
    "\\end{equation}    "
   ]
  },
  {
   "cell_type": "markdown",
   "id": "590ec7ed",
   "metadata": {},
   "source": [
    "and,\n",
    "\\begin{equation}\\tag{4.7a}\n",
    "    G_{12} = 0\n",
    "\\end{equation}    "
   ]
  }
 ],
 "metadata": {
  "kernelspec": {
   "display_name": "Python 3",
   "language": "python",
   "name": "python3"
  },
  "language_info": {
   "codemirror_mode": {
    "name": "ipython",
    "version": 3
   },
   "file_extension": ".py",
   "mimetype": "text/x-python",
   "name": "python",
   "nbconvert_exporter": "python",
   "pygments_lexer": "ipython3",
   "version": "3.8.10"
  }
 },
 "nbformat": 4,
 "nbformat_minor": 5
}
