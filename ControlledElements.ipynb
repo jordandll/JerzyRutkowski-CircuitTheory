{
 "cells": [
  {
   "cell_type": "markdown",
   "id": "717fecad",
   "metadata": {},
   "source": [
    "# Dependent (Controlled) Elements\n",
    "### Chapter 2.10 - *DC Analysis*"
   ]
  },
  {
   "cell_type": "markdown",
   "id": "5b91dbcc",
   "metadata": {},
   "source": [
    "### Arbitrary Dependent Element\n",
    "\n",
    "Two-terminal elements are normally characterized by an analytic function, linear or nonlinear,\n",
    "of one argument (2.1.4). Another category of elements can be distinguished, namely\n",
    "dependent or controlled elements. A controlled element is described by the following\n",
    "relationship:  \n",
    "\n",
    "\\begin{equation}\\tag{1}\n",
    "    I = f(U, X) \\;\\text{or}\\; U=g(I, X)\n",
    "\\end{equation}    "
   ]
  },
  {
   "cell_type": "markdown",
   "id": "e4bfd3af",
   "metadata": {},
   "source": [
    "Then, such element is described by a family of $I$-$U$ characteristics, with $X$ as the second\n",
    "parameter, so called control variable, which can be: temperature ($t$), lightning flux ($\\Phi$), other\n",
    "voltage ($U_c$) or other current ($I_c$) . The two latter elements are called the controlled sources and\n",
    "they will be discussed in details."
   ]
  },
  {
   "cell_type": "markdown",
   "id": "e577ecae",
   "metadata": {},
   "source": [
    "### Controlled Sources\n",
    "\n",
    "A controlled source is a source that provides a current or voltage that is dependent on other\n",
    "current or voltage elsewhere in the circuit."
   ]
  },
  {
   "cell_type": "markdown",
   "id": "6d8e42c8",
   "metadata": {},
   "source": [
    "## Usage in Element Modeling\n",
    "\n",
    "__Use of controlled sources to element modeling.__  \n",
    "\n",
    "Controlled sources are used in modeling of circuit elements, such as transistor, operational\n",
    "amplifier or any other multi-terminal element."
   ]
  },
  {
   "cell_type": "markdown",
   "id": "8cac9050",
   "metadata": {},
   "source": [
    "### Transistor\n",
    "\n",
    "A transistor circuit symbol and the simplified model, for the common emitter mode of\n",
    "operation, are presented in Fig. 2.10.3. As can be seen, the CCCS is used. Then, after\n",
    "linearization of a diode characteristic (2.12.1c), i.e. its replacement by the voltage source $U_f$ ,\n",
    "the transistor equations are:"
   ]
  },
  {
   "cell_type": "markdown",
   "id": "2b7dab88",
   "metadata": {},
   "source": [
    "$$\\begin{bmatrix}\\tag{3}I_\\mathrm{B}\\\\I_\\mathrm{C}\\end{bmatrix} = \\mathbf{G}\\cdot\\begin{bmatrix}\n",
    "U_\\mathrm{BE}\\\\U_\\mathrm{CE}\\end{bmatrix}+\\mathbf{J}$$"
   ]
  },
  {
   "cell_type": "markdown",
   "id": "65632f6b",
   "metadata": {},
   "source": [
    "where,\n",
    "$$\\mathbf{G} = \\begin{bmatrix}\\tag{3}\n",
    "G_\\mathrm{B} &0\\\\\n",
    "\\beta G_\\mathrm{B} &0\n",
    "\\end{bmatrix},\\quad\\text{and}\\quad\\mathbf{J} = \\begin{bmatrix}-U_fG_\\mathrm{B} \\\\ -U_f\\beta G_\\mathrm{B}\n",
    "\\end{bmatrix}$$"
   ]
  },
  {
   "cell_type": "markdown",
   "id": "890656a5",
   "metadata": {},
   "source": [
    "\\begin{align*}\\tag{3a}\n",
    "    I_\\mathrm{B} &= G_\\mathrm{B}U_\\mathrm{BE} - U_fG_\\mathrm{B} \\\\\n",
    "     &= G_\\mathrm{B}(U_\\mathrm{BE} - U_f)\n",
    "\\end{align*}     "
   ]
  },
  {
   "cell_type": "markdown",
   "id": "62476f94",
   "metadata": {},
   "source": [
    "and,\n",
    "\\begin{equation}\\tag{3b}\n",
    "    I_\\mathrm{C} = \\beta G_\\mathrm{B}(U_\\mathrm{BE} - U_f)\n",
    "\\end{equation}    "
   ]
  },
  {
   "cell_type": "markdown",
   "id": "9ba73b62",
   "metadata": {},
   "source": [
    "![Fig-2.10.3](Figures/Fig-2.10.3.png)"
   ]
  },
  {
   "cell_type": "markdown",
   "id": "521faafe",
   "metadata": {},
   "source": [
    "For the assumed model, the transistor is characterized by the conductance matrix, $\\mathbf{G}$,\n",
    "and the short-circuit current vector, $\\mathbf{J}$, both of which are identified in equation (3);  And then practically by the two parameters (for a silicon transistor, $U_f=0.7\\mathrm{V}$):  \n",
    "\n",
    "* the current gain ($\\beta$)\n",
    "* the base resistance ($R_\\mathrm{B}$)"
   ]
  },
  {
   "cell_type": "markdown",
   "id": "a39e7692",
   "metadata": {},
   "source": [
    "It should be observed that the resistance matrix ($\\mathbf{R}$) does not exist."
   ]
  },
  {
   "cell_type": "markdown",
   "id": "68b995e6",
   "metadata": {},
   "source": [
    "Herein is the **proof** of the identities of $\\mathbf{G}$ and $\\mathbf{J}$ found in equation (3).  Recall that:  \n",
    "\n",
    "\\begin{equation}\\tag{3.1}\n",
    "    G_{11} = \\frac{I_\\mathrm{B}}{U_{BE}}_{\\Big|U_\\mathrm{CE}=0;\\;\\mathbf{J}=0}\n",
    "\\end{equation}    "
   ]
  },
  {
   "cell_type": "markdown",
   "id": "ad59d9e6",
   "metadata": {},
   "source": [
    "and,\n",
    "\\begin{equation}\\tag{3.2}\n",
    "    G_{21} = \\frac{I_\\mathrm{C}}{U_\\mathrm{BE}}_{\\Big|U_\\mathrm{CE}=0;\\;\\mathbf{J}=0}\n",
    "\\end{equation}    "
   ]
  },
  {
   "cell_type": "markdown",
   "id": "52d37a38",
   "metadata": {},
   "source": [
    "Via equation (3.2) and the fact that $I_\\mathrm{C}=\\beta I_\\mathrm{B}$,  \n",
    "\n",
    "\\begin{equation}\\tag{3.2a}\n",
    "    G_{21}=\\frac{\\beta I_\\mathrm{B}}{U_\\mathrm{BE}}_{\\Big|U_\\mathrm{CE}=0;\\;\\mathbf{J}=0}\n",
    "\\end{equation}    "
   ]
  },
  {
   "cell_type": "markdown",
   "id": "b0b1756f",
   "metadata": {},
   "source": [
    "Via equations (3.2a) and (3.1) and substitution,  \n",
    "\n",
    "\\begin{equation}\\tag{3.2b}\n",
    "    G_{21} = \\beta G_{11}\n",
    "\\end{equation}    "
   ]
  },
  {
   "cell_type": "markdown",
   "id": "99e65283",
   "metadata": {},
   "source": [
    "Via KVL and Ohm's Law,  \n",
    "\n",
    "\\begin{equation}\\tag{3.3}\n",
    "    U_\\mathrm{BE} = R_\\mathrm{B}I_\\mathrm{B} + U_f\n",
    "\\end{equation}    "
   ]
  },
  {
   "cell_type": "markdown",
   "id": "cb648594",
   "metadata": {},
   "source": [
    "and,\n",
    "$$U_f = U_{I_\\mathrm{C}} + U_\\mathrm{CE} $$"
   ]
  },
  {
   "cell_type": "markdown",
   "id": "8a8218f6",
   "metadata": {},
   "source": [
    "Via the above equation and the assumption that $U_\\mathrm{CE}=0$,  \n",
    "\n",
    "\\begin{equation}\\tag{3.4}\n",
    "    U_f=U_{I_\\mathrm{C}}\n",
    "\\end{equation}    "
   ]
  },
  {
   "cell_type": "markdown",
   "id": "b8f2df4f",
   "metadata": {},
   "source": [
    "Assuming $U_\\mathrm{BE},U_\\mathrm{CE}=0$ (i.e. short-circuit conditions), via equation (3),  \n",
    "\n",
    "\\begin{equation}\\tag{3.5}\n",
    "    J_\\mathrm{B} = I_\\mathrm{B}\\quad\\text{and}\\quad J_\\mathrm{C} = I_\\mathrm{C} = \\beta I_\\mathrm{B} = \\beta J_\\mathrm{B}\n",
    "\\end{equation}    "
   ]
  },
  {
   "cell_type": "markdown",
   "id": "061cb7dc",
   "metadata": {},
   "source": [
    "Via KVL and Ohm's Law, under short-circuit conditions,  \n",
    "\n",
    "$$ R_\\mathrm{B}I_\\mathrm{B} = R_\\mathrm{B}J_\\mathrm{B} = -U_f$$"
   ]
  },
  {
   "cell_type": "markdown",
   "id": "f3fd60a2",
   "metadata": {},
   "source": [
    "Thus,\n",
    "\\begin{equation}\\tag{3.J.B}\n",
    "    J_\\mathrm{B} = -U_fG_\\mathrm{B}\n",
    "\\end{equation}    "
   ]
  },
  {
   "cell_type": "markdown",
   "id": "5a4c722d",
   "metadata": {},
   "source": [
    "Which is consistent with the identity of $\\mathbf{J}$ in equation (3)."
   ]
  },
  {
   "cell_type": "markdown",
   "id": "46ec2550",
   "metadata": {},
   "source": [
    "Via equations (3.J.B) and (3.5) and substitution,  \n",
    "\n",
    "\\begin{equation}\\tag{3.J.C}\n",
    "    J_\\mathrm{C} = -\\beta U_f G_\\mathrm{B}\n",
    "\\end{equation}    "
   ]
  },
  {
   "cell_type": "markdown",
   "id": "aa1c303d",
   "metadata": {},
   "source": [
    "The above equation is also consistent with equation (3).  Now, assuming $\\mathbf{J}=0$, via equations (3.J),  \n",
    "\n",
    "\\begin{equation}\\tag{3.6}\n",
    "    U_f=0_{\\big|\\mathbf{J}=0}\n",
    "\\end{equation}    "
   ]
  },
  {
   "cell_type": "markdown",
   "id": "654666f8",
   "metadata": {},
   "source": [
    "Via equations (3.6) and (3.3),  \n",
    "\n",
    "\\begin{equation}\\tag{3.3a}\n",
    "    U_\\mathrm{BE} = R_\\mathrm{B}I_\\mathrm{B}\n",
    "\\end{equation}    "
   ]
  },
  {
   "cell_type": "markdown",
   "id": "7d02a8b9",
   "metadata": {},
   "source": [
    "Via equations (3.3a) and (3.1),  \n",
    "\n",
    "\\begin{equation}\\tag{3.1a}\n",
    "    G_{11} = \\frac{1}{R_\\mathrm{B}} = G_\\mathrm{B}\n",
    "\\end{equation}    "
   ]
  }
 ],
 "metadata": {
  "kernelspec": {
   "display_name": "Python 3",
   "language": "python",
   "name": "python3"
  },
  "language_info": {
   "codemirror_mode": {
    "name": "ipython",
    "version": 3
   },
   "file_extension": ".py",
   "mimetype": "text/x-python",
   "name": "python",
   "nbconvert_exporter": "python",
   "pygments_lexer": "ipython3",
   "version": "3.8.10"
  }
 },
 "nbformat": 4,
 "nbformat_minor": 5
}
