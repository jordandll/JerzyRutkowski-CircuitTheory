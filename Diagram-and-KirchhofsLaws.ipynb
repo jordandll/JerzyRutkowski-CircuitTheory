{
 "cells": [
  {
   "cell_type": "markdown",
   "id": "4eff0689",
   "metadata": {},
   "source": [
    "# Circuit Theory - Jerzy Rutkowski\n",
    "### *Chapter 2 - DC Analysis*"
   ]
  },
  {
   "cell_type": "markdown",
   "id": "810d385a",
   "metadata": {},
   "source": [
    "These are the so called drill problems found in Jerzy Rutkowski's online text book about circuit theory."
   ]
  },
  {
   "cell_type": "markdown",
   "id": "d74a4b74",
   "metadata": {},
   "source": [
    "## *Chapter 2.2* - Circuit Diagram and Kirchhof’s Laws"
   ]
  },
  {
   "cell_type": "markdown",
   "id": "828d53ab",
   "metadata": {},
   "source": [
    "**Problem 1:**  \n",
    "\n",
    "Calculate voltage $U_\\mathrm{AB}$."
   ]
  },
  {
   "cell_type": "markdown",
   "id": "19b0fc25",
   "metadata": {},
   "source": [
    "![P.2.2.1-diagram](P-2-2-1.png)"
   ]
  },
  {
   "cell_type": "markdown",
   "id": "14cb16d6",
   "metadata": {},
   "source": [
    "Via KVL,  \n",
    "\n",
    "$$ 10\\mathrm{V} - U_\\mathrm{AC} - U_\\mathrm{CD} = 0$$\n",
    "\n",
    "and,\n",
    "$$ U_\\mathrm{BE} - U_\\mathrm{GF} = 0$$"
   ]
  },
  {
   "cell_type": "markdown",
   "id": "5572bff9",
   "metadata": {},
   "source": [
    "Via the above two equations and Ohm's Law,  \n",
    "\n",
    "\\begin{equation}\\tag{1}\n",
    "    10\\mathrm{V} = 2\\Omega\\,I_\\mathrm{AC} + 3\\Omega\\,I_\\mathrm{CD}\n",
    "\\end{equation}\n",
    "\n",
    "and,\n",
    "\\begin{equation}\\tag{2}\n",
    "    2\\Omega\\,I_\\mathrm{BE} = 4\\Omega\\,I_\\mathrm{GF}\n",
    "\\end{equation}    "
   ]
  },
  {
   "cell_type": "markdown",
   "id": "a8afeab1",
   "metadata": {},
   "source": [
    "Via the fact that there is a cutset around nodes $\\mathrm{GF}$ in conjunction with KCL,  \n",
    "\n",
    "$$ I_\\mathrm{EF} - I_\\mathrm{GB} = 0$$"
   ]
  },
  {
   "cell_type": "markdown",
   "id": "e7f91819",
   "metadata": {},
   "source": [
    "Via the fact that $I_\\mathrm{GB} = I_\\mathrm{GE} = I_\\mathrm{BE}$, the above equation, and substitution,  \n",
    "\n",
    "\\begin{equation}\\tag{3}\n",
    "    I_\\mathrm{EF} - I_\\mathrm{BE} = 0\n",
    "\\end{equation}    "
   ]
  },
  {
   "cell_type": "markdown",
   "id": "1727a9fa",
   "metadata": {},
   "source": [
    "Via KCL,  \n",
    "\n",
    "$$ I_\\mathrm{CE} + I_\\mathrm{BE} - I_\\mathrm{EF} = 0$$\n",
    "$$ I_\\mathrm{CE} + 0 = 0$$"
   ]
  },
  {
   "cell_type": "markdown",
   "id": "5c96f17a",
   "metadata": {},
   "source": [
    "\\begin{equation}\\tag{4}\n",
    "    I_\\mathrm{CE} = 0\n",
    "\\end{equation}    "
   ]
  },
  {
   "cell_type": "markdown",
   "id": "4f67dc2d",
   "metadata": {},
   "source": [
    "Via KCL,  \n",
    "\n",
    "\\begin{equation}\\tag{5}\n",
    "    I_\\mathrm{BE} + I_\\mathrm{GF} = 9\\mathrm{A}\n",
    "\\end{equation}    "
   ]
  },
  {
   "cell_type": "markdown",
   "id": "8aaa0e50",
   "metadata": {},
   "source": [
    "Using equations (2) and (5) we can solve for the currents contained therein."
   ]
  },
  {
   "cell_type": "markdown",
   "id": "c9129877",
   "metadata": {},
   "source": [
    "Via equation (2),  \n",
    "\n",
    "$$ I_\\mathrm{GF} = 0.5I_\\mathrm{BE}$$"
   ]
  },
  {
   "cell_type": "markdown",
   "id": "98f85ae9",
   "metadata": {},
   "source": [
    "Via the above equation, equation (5), and substitution,  \n",
    "\n",
    "$$ I_\\mathrm{BE}\\,(1 + 0.5) = 9\\mathrm{A}$$"
   ]
  },
  {
   "cell_type": "markdown",
   "id": "0ac8674c",
   "metadata": {},
   "source": [
    "Thus,\n",
    "\\begin{equation}\\tag{6}\n",
    "    I_\\mathrm{BE} = 6\\mathrm{A}\n",
    "\\end{equation}    "
   ]
  },
  {
   "cell_type": "markdown",
   "id": "b097a1ac",
   "metadata": {},
   "source": [
    "Which means that,  \n",
    "\n",
    "\\begin{equation}\\tag{7}\n",
    "    U_\\mathrm{BE} = 12\\mathrm{V}\n",
    "\\end{equation}    "
   ]
  },
  {
   "cell_type": "markdown",
   "id": "16b24e88",
   "metadata": {},
   "source": [
    "Now, to find $U_\\mathrm{AC}$, we must first find $I_\\mathrm{AC}$.  Via KCL,  \n",
    "\n",
    "$$ I_\\mathrm{AC} - I_\\mathrm{CD} - I_\\mathrm{CE} = 0$$\n",
    "$$ I_\\mathrm{AC} - I_\\mathrm{CD} = 0$$"
   ]
  },
  {
   "cell_type": "markdown",
   "id": "4352cf26",
   "metadata": {},
   "source": [
    "$$ I_\\mathrm{AC} = I_\\mathrm{CD}$$"
   ]
  },
  {
   "cell_type": "markdown",
   "id": "50d0a815",
   "metadata": {},
   "source": [
    "Via the above equation, equation (1), and substitution,  \n",
    "\n",
    "$$ 5\\Omega\\,I_\\mathrm{AC} = 10\\mathrm{V}$$"
   ]
  },
  {
   "cell_type": "markdown",
   "id": "04fa4138",
   "metadata": {},
   "source": [
    "Dividing throughout by $5\\Omega$ gives:  \n",
    "\n",
    "\\begin{equation}\\tag{8}\n",
    "    I_\\mathrm{AC}= I_\\mathrm{CD} = 2\\mathrm{A}\n",
    "\\end{equation}    "
   ]
  },
  {
   "cell_type": "markdown",
   "id": "04888e09",
   "metadata": {},
   "source": [
    "Via the above equation and Ohm's Law,  \n",
    "\n",
    "$$ U_\\mathrm{AC} = 4\\mathrm{V}$$"
   ]
  },
  {
   "cell_type": "markdown",
   "id": "a2c44b85",
   "metadata": {},
   "source": [
    "Via KVL,  \n",
    "\n",
    "$$U_\\mathrm{AC} + 7\\mathrm{V} -U_\\mathrm{AB} - U_\\mathrm{BE} = 0$$"
   ]
  },
  {
   "cell_type": "markdown",
   "id": "65817e41",
   "metadata": {},
   "source": [
    "Thus,\n",
    "\\begin{align*}\n",
    "    U_\\mathrm{AB} &= U_\\mathrm{AC} + 7\\mathrm{V} - U_\\mathrm{BE} \\\\\n",
    "     &= (4 + 7 - 12)\\,\\mathrm{V} \\\\\n",
    "     &= -1\\mathrm{V}\n",
    "\\end{align*}     "
   ]
  },
  {
   "cell_type": "markdown",
   "id": "0c0edc84",
   "metadata": {},
   "source": [
    "**Problem 2:**  \n",
    "\n",
    "![Fig-P.2.2.2](P-2-2-2.svg)"
   ]
  },
  {
   "cell_type": "markdown",
   "id": "adfe560a",
   "metadata": {},
   "source": [
    "An ideal ammeter has zero resistance."
   ]
  },
  {
   "cell_type": "markdown",
   "id": "e4595489",
   "metadata": {},
   "source": [
    "Via KVL,  \n",
    "\n",
    "\\begin{equation}\\tag{2.1}\n",
    "    U_\\mathrm{AC} + U_\\mathrm{BA} + U_\\mathrm{CB} = 0\n",
    "\\end{equation}    \n",
    "\n",
    "and,\n",
    "\\begin{equation}\\tag{2.2}\n",
    "    U_\\mathrm{CB} - U_\\mathrm{DC} - U_\\mathrm{BD} = 0\n",
    "\\end{equation}    "
   ]
  }
 ],
 "metadata": {
  "kernelspec": {
   "display_name": "Python 3",
   "language": "python",
   "name": "python3"
  },
  "language_info": {
   "codemirror_mode": {
    "name": "ipython",
    "version": 3
   },
   "file_extension": ".py",
   "mimetype": "text/x-python",
   "name": "python",
   "nbconvert_exporter": "python",
   "pygments_lexer": "ipython3",
   "version": "3.8.10"
  }
 },
 "nbformat": 4,
 "nbformat_minor": 5
}
