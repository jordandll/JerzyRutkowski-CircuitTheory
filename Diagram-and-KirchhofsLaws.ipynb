{
 "cells": [
  {
   "cell_type": "markdown",
   "id": "fa6937e5",
   "metadata": {},
   "source": [
    "# Circuit Theory - Jerzy Rutkowski\n",
    "### *Chapter 2 - DC Analysis*"
   ]
  },
  {
   "cell_type": "markdown",
   "id": "438591a0",
   "metadata": {},
   "source": [
    "These are the so called drill problems found in Jerzy Rutkowski's online text book about circuit theory."
   ]
  },
  {
   "cell_type": "markdown",
   "id": "ef9a0dca",
   "metadata": {},
   "source": [
    "## *Chapter 2.2* - Circuit Diagram and Kirchhof’s Laws"
   ]
  },
  {
   "cell_type": "markdown",
   "id": "2653f0bb",
   "metadata": {},
   "source": [
    "**Problem 1:**  \n",
    "\n",
    "Calculate voltage $U_\\mathrm{AB}$."
   ]
  },
  {
   "cell_type": "markdown",
   "id": "0c1cc367",
   "metadata": {},
   "source": [
    "![P.2.2.1-diagram](P-2-2-1.png)"
   ]
  },
  {
   "cell_type": "markdown",
   "id": "eb4ce5fe",
   "metadata": {},
   "source": [
    "Via KVL,  \n",
    "\n",
    "$$ 10\\mathrm{V} - U_\\mathrm{AC} - U_\\mathrm{CD} = 0$$\n",
    "\n",
    "and,\n",
    "$$ U_\\mathrm{BE} - U_\\mathrm{GF} = 0$$"
   ]
  },
  {
   "cell_type": "markdown",
   "id": "e38a8ec7",
   "metadata": {},
   "source": [
    "Via the above two equations and Ohm's Law,  \n",
    "\n",
    "\\begin{equation}\\tag{1}\n",
    "    10\\mathrm{V} = 2\\Omega\\,I_\\mathrm{AC} + 3\\Omega\\,I_\\mathrm{CD}\n",
    "\\end{equation}\n",
    "\n",
    "and,\n",
    "\\begin{equation}\\tag{2}\n",
    "    2\\Omega\\,I_\\mathrm{BE} = 4\\Omega\\,I_\\mathrm{GF}\n",
    "\\end{equation}    "
   ]
  }
 ],
 "metadata": {
  "kernelspec": {
   "display_name": "Python 3",
   "language": "python",
   "name": "python3"
  },
  "language_info": {
   "codemirror_mode": {
    "name": "ipython",
    "version": 3
   },
   "file_extension": ".py",
   "mimetype": "text/x-python",
   "name": "python",
   "nbconvert_exporter": "python",
   "pygments_lexer": "ipython3",
   "version": "3.8.10"
  }
 },
 "nbformat": 4,
 "nbformat_minor": 5
}
