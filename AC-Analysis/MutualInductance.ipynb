{
 "cells": [
  {
   "cell_type": "markdown",
   "id": "2136ebdd",
   "metadata": {},
   "source": [
    "# Mutual Inductance and Transformers\n",
    "### *Chapter 4 Section 7* -- AC Steady State Analysis\n",
    "\n",
    "The previous analysis of a coil assumed that the only flux linking a coil was that due to its\n",
    "own current, and consequently, the only voltage induced was that due to this current. In this\n",
    "Chapter coupled coils and phenomenon of mutual inductance will be discussed. A two-port\n",
    "equations expressing voltages by currents, both in time-domain and frequency-domain, will\n",
    "be considered. Then, the most practical use of this phenomenon in transformers will be\n",
    "studied. Basic transformer built of practical coils will be considered at first, next an ideal\n",
    "transformer. Finally the ideal transformer based model of practical transformer will be\n",
    "described."
   ]
  },
  {
   "cell_type": "markdown",
   "id": "7b9fca49",
   "metadata": {},
   "source": [
    "## Mutual Inductance – Basic Transformer\n",
    "Consider two coupled coils, as shown in Fig. 4.7.1.  \n",
    "\n",
    "![Fig-4.7.1](Figures/Fig-4.7.1.png)"
   ]
  },
  {
   "cell_type": "markdown",
   "id": "eff1cc60",
   "metadata": {},
   "source": [
    "The current $i_1$ produces in coil 1 flux $\\phi_{11}$. Part of this flux threads coil 2, the remainder is coil 1's leakage flux. They are denoted '$\\phi_{21}$' and '$\\phi_{l1}$' respectively.  Similarly, $i_2$ produces in coil 2 flux $\\phi_{22}$ that is split into two fluxes, $\\phi_{12}$ and $\\phi_{l2}$.  \n",
    "\n",
    "\\begin{equation}\\tag{1a}\n",
    "\t\\phi_{11} = \\phi_{21} + \\phi_{l1}\n",
    "\\end{equation}\n",
    "\n",
    "\\begin{equation}\\tag{1b}\n",
    "\t\\phi_{22} = \\phi_{12} + \\phi_{l2}\n",
    "\\end{equation}"
   ]
  },
  {
   "cell_type": "markdown",
   "id": "80df2cbe",
   "metadata": {},
   "source": [
    "Electric analog of this magnetic circuit is presented in Fig. 4.7.2  \n",
    "\n",
    "![Fig-4.7.2](Figures/Fig-4.7.2.png)"
   ]
  },
  {
   "cell_type": "markdown",
   "id": "4996ceac",
   "metadata": {},
   "source": [
    "Via KCL,  \n",
    "\n",
    "\\begin{equation}\\tag{2.1}\n",
    "    \\text{a: }\\;\\phi_{11} + \\phi_{12} - \\phi_{l1} = \\phi \\quad\\quad\\text{and}\\quad\\quad \\text{b: }\\;\\phi = \\phi_{22} + \\phi_{21} - \\phi_{l2}\n",
    "\\end{equation}"
   ]
  },
  {
   "cell_type": "markdown",
   "id": "0a4b69a0",
   "metadata": {},
   "source": [
    "Via the above two equations and equivalance principle,  \n",
    "\n",
    "$$ \\phi_{11} + \\phi_{12} - \\phi_{l1} = \\phi_{22} + \\phi_{21} - \\phi_{l2}$$"
   ]
  },
  {
   "cell_type": "markdown",
   "id": "5e6b0f49",
   "metadata": {},
   "source": [
    "Via the above equation and equations (1a,b),  \n",
    "\n",
    "$$ \\phi_{21} + \\phi_{12} = \\phi_{12} + \\phi_{21}$$"
   ]
  },
  {
   "cell_type": "markdown",
   "id": "ccfb424b",
   "metadata": {},
   "source": [
    "The electric analog in figure 4.7.2 is thus consistent with equations (1a,b)."
   ]
  },
  {
   "cell_type": "markdown",
   "id": "c2a084ba",
   "metadata": {},
   "source": [
    "Via KVL and Ohm's Law,  \n",
    "\n",
    "\\begin{equation}\\tag{2.2}\n",
    "    \\text{a: }\\;U_{l1} = \\phi_{l1}R_{l1} = i_1z_1 \\quad\\quad \\text{b: }\\; U_m = R_m\\phi = i_1z_1 + i_2z_2 \\quad\\quad\\text{c: }\\; i_2z_2 = \\phi_{l2}R_{l2} = U_{l2}\n",
    "\\end{equation}"
   ]
  },
  {
   "cell_type": "markdown",
   "id": "fb4114a8",
   "metadata": {},
   "source": [
    "And, via equations (2.1a) and (1b), or equations (2.1b) and (1a),    \n",
    "\n",
    "\\begin{equation}\\tag{2.3}\n",
    "    \\phi = \\phi_{11} + \\phi_{22} - \\phi_{l1} - \\phi_{l2}\n",
    "\\end{equation}"
   ]
  },
  {
   "cell_type": "markdown",
   "id": "f6e0dc96",
   "metadata": {},
   "source": [
    "where $R_{l1}$ and $R_{l2}$ are the magnetic resistances of the leakages, and $R_m$ is a core magnetic resistance.  \n",
    "\n",
    "Superposition principle can be applied and a circuit of Fig. 4.7.2 can be split into two\n",
    "subcircuits, as presented in Fig. 4.7.2a.  \n",
    "\n",
    "![Fig-4.7.2a](Figures/Fig-4.7.2a.png)"
   ]
  },
  {
   "cell_type": "markdown",
   "id": "fe183e41",
   "metadata": {},
   "source": [
    "$$ i_1z_1 = \\sideset{_{1\\,}}{_m}U = R_m\\phi_{21} = R_{l1}\\phi_{l1}$$"
   ]
  },
  {
   "cell_type": "markdown",
   "id": "1bc78762",
   "metadata": {},
   "source": [
    "$$ i_2z_2 = \\sideset{_{2\\,}}{_m}U = R_m\\phi_{12} = R_{l2}\\phi_{l2}$$"
   ]
  },
  {
   "cell_type": "markdown",
   "id": "5b885617",
   "metadata": {},
   "source": [
    "Via the above two equations and superposition principle,  \n",
    "\n",
    "$$ U_m = \\sideset{_{1\\,}}{_m}U + \\sideset{_{2\\,}}{_m}U$$"
   ]
  },
  {
   "cell_type": "markdown",
   "id": "ddb80d70",
   "metadata": {},
   "source": [
    "The total flux threading coil 1 is the sum of two components:  \n",
    "\n",
    "\\begin{equation}\\tag{2a}\n",
    "\t\\phi_{t1} = z_1\\phi_1 = z_1\\phi_{11}\\pm z_1\\phi_{12} = z_1\\left(\\frac{i_1z_1}{R_{l1}} + \\frac{i_1z_1}{R_m}\\right) \\pm z_1\\frac{i_2z_2}{R_m} = L_1i_1 \\pm Mi_2\n",
    "\\end{equation}"
   ]
  },
  {
   "cell_type": "markdown",
   "id": "db8aac28",
   "metadata": {},
   "source": []
  }
 ],
 "metadata": {
  "kernelspec": {
   "display_name": "Python 3",
   "language": "python",
   "name": "python3"
  },
  "language_info": {
   "codemirror_mode": {
    "name": "ipython",
    "version": 3
   },
   "file_extension": ".py",
   "mimetype": "text/x-python",
   "name": "python",
   "nbconvert_exporter": "python",
   "pygments_lexer": "ipython3",
   "version": "3.8.10"
  }
 },
 "nbformat": 4,
 "nbformat_minor": 5
}
