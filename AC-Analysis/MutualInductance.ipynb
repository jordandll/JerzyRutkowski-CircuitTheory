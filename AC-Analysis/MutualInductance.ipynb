{
 "cells": [
  {
   "cell_type": "markdown",
   "id": "2136ebdd",
   "metadata": {},
   "source": [
    "# Mutual Inductance and Transformers\n",
    "### *Chapter 4 Section 7* -- AC Steady State Analysis\n",
    "\n",
    "The previous analysis of a coil assumed that the only flux linking a coil was that due to its\n",
    "own current, and consequently, the only voltage induced was that due to this current. In this\n",
    "Chapter coupled coils and phenomenon of mutual inductance will be discussed. A two-port\n",
    "equations expressing voltages by currents, both in time-domain and frequency-domain, will\n",
    "be considered. Then, the most practical use of this phenomenon in transformers will be\n",
    "studied. Basic transformer built of practical coils will be considered at first, next an ideal\n",
    "transformer. Finally the ideal transformer based model of practical transformer will be\n",
    "described."
   ]
  },
  {
   "cell_type": "markdown",
   "id": "7b9fca49",
   "metadata": {},
   "source": [
    "## Mutual Inductance – Basic Transformer\n",
    "Consider two coupled coils, as shown in Fig. 4.7.1.  \n",
    "\n",
    "![Fig-4.7.1](Figures/Fig-4.7.1.png)"
   ]
  },
  {
   "cell_type": "markdown",
   "id": "eff1cc60",
   "metadata": {},
   "source": [
    "The current $i_1$ produces in coil 1 flux $\\phi_{11}$. Part of this flux threads coil 2, the remainder is coil 1's leakage flux. They are denoted '$\\phi_{21}$' and '$\\phi_{l1}$' respectively.  Similarly, $i_2$ produces in coil 2 flux $\\phi_{22}$ that is split into two fluxes, $\\phi_{12}$ and $\\phi_{l2}$.  \n",
    "\n",
    "\\begin{equation}\\tag{1a}\n",
    "\t\\phi_{11} = \\phi_{21} + \\phi_{l1}\n",
    "\\end{equation}\n",
    "\n",
    "\\begin{equation}\\tag{1b}\n",
    "\t\\phi_{22} = \\phi_{12} + \\phi_{l2}\n",
    "\\end{equation}"
   ]
  },
  {
   "cell_type": "markdown",
   "id": "80df2cbe",
   "metadata": {},
   "source": [
    "Electric analog of this magnetic circuit is presented in Fig. 4.7.2  \n",
    "\n",
    "![Fig-4.7.2](Figures/Fig-4.7.2.png)"
   ]
  },
  {
   "cell_type": "markdown",
   "id": "4996ceac",
   "metadata": {},
   "source": [
    "Via KCL,  \n",
    "\n",
    "\\begin{equation}\\tag{2.1}\n",
    "    \\text{a: }\\;\\phi_{11} + \\phi_{12} - \\phi_{l1} = \\phi \\quad\\quad\\text{and}\\quad\\quad \\text{b: }\\;\\phi = \\phi_{22} + \\phi_{21} - \\phi_{l2}\n",
    "\\end{equation}"
   ]
  },
  {
   "cell_type": "markdown",
   "id": "0a4b69a0",
   "metadata": {},
   "source": [
    "Via the above two equations and equivalance principle,  \n",
    "\n",
    "$$ \\phi_{11} + \\phi_{12} - \\phi_{l1} = \\phi_{22} + \\phi_{21} - \\phi_{l2}$$"
   ]
  },
  {
   "cell_type": "markdown",
   "id": "5e6b0f49",
   "metadata": {},
   "source": [
    "Via the above equation and equations (1a,b),  \n",
    "\n",
    "$$ \\phi_{21} + \\phi_{12} = \\phi_{12} + \\phi_{21}$$"
   ]
  },
  {
   "cell_type": "markdown",
   "id": "ccfb424b",
   "metadata": {},
   "source": [
    "The electric analog in figure 4.7.2 is thus consistent with equations (1a,b)."
   ]
  },
  {
   "cell_type": "markdown",
   "id": "c2a084ba",
   "metadata": {},
   "source": [
    "Via KVL and Ohm's Law,  \n",
    "\n",
    "\\begin{equation}\\tag{2.2}\n",
    "    \\text{a: }\\;U_{l1} = \\phi_{l1}R_{l1} = i_1z_1 \\quad\\quad \\text{b: }\\; U_m = R_m\\phi = i_1z_1 + i_2z_2 \\quad\\quad\\text{c: }\\; i_2z_2 = \\phi_{l2}R_{l2} = U_{l2}\n",
    "\\end{equation}"
   ]
  },
  {
   "cell_type": "markdown",
   "id": "fb4114a8",
   "metadata": {},
   "source": [
    "And, via equations (2.1a) and (1b), or equations (2.1b) and (1a),    \n",
    "\n",
    "\\begin{equation}\\tag{2.3}\n",
    "    \\phi = \\phi_{11} + \\phi_{22} - \\phi_{l1} - \\phi_{l2}\n",
    "\\end{equation}"
   ]
  },
  {
   "cell_type": "markdown",
   "id": "f6e0dc96",
   "metadata": {},
   "source": [
    "where $R_{l1}$ and $R_{l2}$ are the magnetic resistances of the leakages, and $R_m$ is a core magnetic resistance.  \n",
    "\n",
    "Superposition principle can be applied and a circuit of Fig. 4.7.2 can be split into two\n",
    "subcircuits, as presented in Fig. 4.7.2a.  \n",
    "\n",
    "![Fig-4.7.2a](Figures/Fig-4.7.2a.png)"
   ]
  },
  {
   "cell_type": "markdown",
   "id": "dca6e5ce",
   "metadata": {},
   "source": [
    "\\begin{equation}\\tag{2a.1}\n",
    "    i_1z_1 = \\sideset{_{1\\,}}{_m}U = R_m\\phi_{21} = R_{l1}\\phi_{l1}\n",
    "\\end{equation}"
   ]
  },
  {
   "cell_type": "markdown",
   "id": "a5bec4d4",
   "metadata": {},
   "source": [
    "\\begin{equation}\\tag{2a.2}\n",
    "    i_2z_2 = \\sideset{_{2\\,}}{_m}U = R_m\\phi_{12} = R_{l2}\\phi_{l2}\n",
    "\\end{equation}"
   ]
  },
  {
   "cell_type": "markdown",
   "id": "9248e0af",
   "metadata": {},
   "source": [
    "Via the above two equations and superposition principle,  \n",
    "\n",
    "$$ U_m = \\sideset{_{1\\,}}{_m}U + \\sideset{_{2\\,}}{_m}U$$"
   ]
  },
  {
   "cell_type": "markdown",
   "id": "b15ae2bc",
   "metadata": {},
   "source": [
    "The total flux threading coil 1 is the sum of two components:  \n",
    "\n",
    "\\begin{equation}\\tag{2a}\n",
    "\t\\phi_{t1} = z_1\\phi_1 = z_1\\phi_{11}\\pm z_1\\phi_{12} = z_1\\left(\\frac{i_1z_1}{R_{l1}} + \\frac{i_1z_1}{R_m}\\right) \\pm z_1\\frac{i_2z_2}{R_m} = L_1i_1 \\pm Mi_2\n",
    "\\end{equation}"
   ]
  },
  {
   "cell_type": "markdown",
   "id": "0a010885",
   "metadata": {},
   "source": [
    "The total flux threading coil 2 is the sum of two components:  \n",
    "\n",
    "\\begin{equation}\\tag{2b}\n",
    "\t\\phi_{t2} = z_2\\phi_2 = z_2\\phi_{22}\\pm z_2\\phi_{21} = z_2\\left(\\frac{i_2z_2}{R_{l2}} + \\frac{i_2z_2}{R_m}\\right) \\pm z_2\\frac{i_1z_1}{R_m} = L_2i_2 \\pm Mi_1\n",
    "\\end{equation}"
   ]
  },
  {
   "cell_type": "markdown",
   "id": "d9ee2c4d",
   "metadata": {},
   "source": [
    "The proof for equation (2a) is:  \n",
    "\n",
    "$$ \\phi_{t1} = z_1\\phi_1 \\quad\\quad\\text{where }\\; \\phi_1 = \\phi_{11} \\pm \\phi_{12}$$"
   ]
  },
  {
   "cell_type": "markdown",
   "id": "d512ed3b",
   "metadata": {},
   "source": [
    "Via equations (1a) and (2a.1),  \n",
    "\n",
    "$$ \\phi_{11} = \\phi_{21} + \\phi_{l1} = \\frac{i_1z_1}{R_m} + \\frac{i_1z_1}{R_{l1}}$$"
   ]
  },
  {
   "cell_type": "markdown",
   "id": "f70a2193",
   "metadata": {},
   "source": [
    "And, via equation (2a.2),  \n",
    "\n",
    "$$ \\phi_{12} = \\frac{i_2z_2}{R_m}$$"
   ]
  },
  {
   "cell_type": "markdown",
   "id": "cdd042c8",
   "metadata": {},
   "source": [
    "Via the above three equations,  \n",
    "\n",
    "$$ \\phi_{t1} = z_1\\left(\\frac{i_1z_1}{R_{l1}} + \\frac{i_1z_1}{R_m}\\right) \\pm z_1\\frac{i_2z_2}{R_m}$$"
   ]
  },
  {
   "cell_type": "markdown",
   "id": "4fc4dae1",
   "metadata": {},
   "source": [
    "Based on equation (2a),  \n",
    "\n",
    "\\begin{equation}\\tag{2a.3}\n",
    "    \\text{a: }\\;L_1 = z_1^2\\frac{R_m + R_{l1}}{R_{l1}R_m} \\quad\\quad\\text{and}\\quad\\quad \\text{b: }\\;M = \\frac{z_1z_2}{R_m}\n",
    "\\end{equation}"
   ]
  },
  {
   "cell_type": "markdown",
   "id": "f8bdc856",
   "metadata": {},
   "source": [
    "And, based on equation (2b),  \n",
    "\n",
    "\\begin{equation}\\tag{2a.3c}\n",
    "    L_2 = z_2^2\\frac{R_m + R_{l2}}{R_{l2}R_m}\n",
    "\\end{equation}"
   ]
  },
  {
   "cell_type": "markdown",
   "id": "1c402719",
   "metadata": {},
   "source": [
    "Constant of proportionality between one coil current and a flux that is produces in the coupled\n",
    "coil is called the **mutual inductance** $M$. This constant can be expressed by self inductances of individual coils.  \n",
    "\n",
    "\\begin{equation}\\tag{3}\n",
    "\tM = k\\sqrt{L_1L_2}\n",
    "\\end{equation}"
   ]
  },
  {
   "cell_type": "markdown",
   "id": "d2c1c274",
   "metadata": {},
   "source": [
    "where, $0\\le k \\le 1$ is the **coefficient of coupling**, a measure of the degree to which the flux\n",
    "produced by one coil threads another. If there is no coupling then, $k=0\\;\\implies\\;M=0$ . For\n",
    "tightly coupled coils, which is the most desirable situation, $k=1\\;\\implies\\;M=\\sqrt{L_1L_2}$. Via equation \n",
    "(2), two-port equations can be obtained.  \n",
    "\n",
    "\\begin{equation}\\tag{4a}\n",
    "    u_1 = \\frac{\\mathrm{d}\\phi_{t1}}{\\mathrm{d}t} = L_1i_1'(t)\\pm Mi_2'(t)\n",
    "\\end{equation}\n",
    "\n",
    "\\begin{equation}\\tag{4b}\n",
    "    u_2 = \\frac{\\mathrm{d}\\phi_{t2}}{\\mathrm{d}t} = L_2i_2'(t)\\pm Mi_1'(t)\n",
    "\\end{equation}"
   ]
  },
  {
   "cell_type": "markdown",
   "id": "dbbab6a3",
   "metadata": {},
   "source": [
    "The plus or minus is used because the fluxes produced by the coupled coils may point in the same or opposite direction.  In the case of the magnetic circuit shown in figure 4.7.1, the fluxes point in the same direction and thus the plus sign is used in the appropriate equations."
   ]
  },
  {
   "cell_type": "markdown",
   "id": "aeaa0fb3",
   "metadata": {},
   "source": [
    "Via equations (2a.3a,c),  \n",
    "\n",
    "$$ L_1L_2 = z_1^2z_2^2\\frac{R_m^2 + R_m(R_{l1} + R_{l2}) + R_{l1}R_{l2}}{R_{l1}R_{l2}R_m^2}$$"
   ]
  },
  {
   "cell_type": "markdown",
   "id": "3ec910b6",
   "metadata": {},
   "source": [
    "And, via the above equation and equations (2a.3b) and (3),  \n",
    "\n",
    "\\begin{equation}\\tag{2a.4}\n",
    "    k = \\sqrt{\\frac{R_{l1}R_{l2}}{(R_m+R_{l1})(R_m+R_{l2})}}\n",
    "\\end{equation}"
   ]
  },
  {
   "cell_type": "markdown",
   "id": "d3da8f82",
   "metadata": {},
   "source": [
    "### Dot convention\n",
    "Currents entering the dotted ends are creating additive fluxes. Dotted ends have a positive\n",
    "voltage at the same time.  \n",
    "\n",
    "A circuit symbol of coupled coils is presented in Fig. 4.7.3.  \n",
    "\n",
    "![Fig-4.7.3](Figures/Fig-4.7.3.png)"
   ]
  },
  {
   "cell_type": "markdown",
   "id": "5f165f98",
   "metadata": {},
   "source": [
    "Using the phasor notation, coupled coils equations are:  \n",
    "\n",
    "\\begin{equation}\\tag{5a}\n",
    "    U_1(j\\omega) = j\\omega L_1I_1(j\\omega) \\pm j\\omega MI_2(j\\omega)\n",
    "\\end{equation}"
   ]
  },
  {
   "cell_type": "markdown",
   "id": "8a09b6f7",
   "metadata": {},
   "source": [
    "\\begin{equation}\\tag{5b}\n",
    "    U_2(j\\omega) = j\\omega L_2I_2(j\\omega)\\pm j\\omega MI_1(j\\omega)\n",
    "\\end{equation}"
   ]
  },
  {
   "cell_type": "markdown",
   "id": "d37f9639",
   "metadata": {},
   "source": [
    "#### Example 4.7.1\n",
    "Consider two practical coupled coils connected in series, as shown in Fig. 4.7.4. Find the\n",
    "circuit equivalent.  \n",
    "\n",
    "![Fig-4.7.4](Figures/Fig-4.7.4.svg)"
   ]
  },
  {
   "cell_type": "markdown",
   "id": "eb43b9f9",
   "metadata": {},
   "source": [
    "$$ U_1(j\\omega) = R_1I_1(j\\omega) + j\\omega L_1I_1(j\\omega) + j\\omega MI_2(j\\omega)$$"
   ]
  },
  {
   "cell_type": "markdown",
   "id": "43ee0bc6",
   "metadata": {},
   "source": [
    "$$ U_2(j\\omega) = R_I2(j\\omega) + j\\omega L_2I_2(j\\omega) + j\\omega MI_1(j\\omega)$$"
   ]
  },
  {
   "cell_type": "markdown",
   "id": "9f2f8368",
   "metadata": {},
   "source": [
    "Via the fact that $I(j\\omega) = I_1(j\\omega) = I_2(j\\omega)$, $U(j\\omega) = U_1(j\\omega)+U_2(j\\omega)$, and the above two equations,  \n",
    "\n",
    "\\begin{equation}\\tag{6a}\n",
    "    U(j\\omega) = I(j\\omega)\\big(R_1 + R_2 + j\\omega(L_1+L_2 + 2M)\\big)\n",
    "\\end{equation}"
   ]
  },
  {
   "cell_type": "markdown",
   "id": "cc21a44e",
   "metadata": {},
   "source": [
    "\\begin{equation}\\tag{6b}\n",
    "    U(j\\omega) = I(j\\omega)(R_s + j\\omega L_s)\n",
    "\\end{equation}"
   ]
  },
  {
   "cell_type": "markdown",
   "id": "9b321bcd",
   "metadata": {},
   "source": [
    "Thus,  \n",
    "\n",
    "\\begin{equation}\\tag{7}\n",
    "    \\text{a: }\\;L_s = L_1+L_2+2M \\quad\\quad\\text{and}\\quad\\quad \\text{b: }\\;R_s = R_1+R_2\n",
    "\\end{equation}"
   ]
  },
  {
   "cell_type": "markdown",
   "id": "5e7785c4",
   "metadata": {},
   "source": [
    "The equivalent series inductance of two coupled coils is sum of self inductances plus the\n",
    "doubled mutual inductance. For negative coupling the doubled mutual inductance should be\n",
    "subtracted."
   ]
  },
  {
   "cell_type": "markdown",
   "id": "03076782",
   "metadata": {},
   "source": [
    "#### Example 4.7.2\n",
    "A coil of $z=100$ turns connected to a $U=100\\mathrm{V}$, $\\omega=1000r\\,\\mathrm{rad}/\\mathrm{s}$ supply has the following parameters: $L=1\\mathrm{H}$, $R=10\\Omega$ . Consider a short-circuit of one turn. Study the effect of such failure.  \n",
    "\n",
    "A coil with one turn shorted can be considered as pair of coupled coils, as presented in Fig.\n",
    "4.7.5.  \n",
    "\n",
    "![Fig-4.7.5](Figures/Fig-4.7.5.png)"
   ]
  },
  {
   "cell_type": "markdown",
   "id": "e700f473",
   "metadata": {},
   "source": [
    "Via equation (3.1.14),  \n",
    "\n",
    "$$ R_m = \\frac{z^2}{L} = 10\\mathrm{k}\\Omega $$"
   ]
  },
  {
   "cell_type": "markdown",
   "id": "8522b6e8",
   "metadata": {},
   "source": [
    "$$ L_1 = \\frac{99^2}{R_m}\\cdot0.99 = 970.299\\mathrm{mH} \\quad\\quad\\text{and}\\quad\\quad R_1 = 9.9\\Omega$$"
   ]
  },
  {
   "cell_type": "code",
   "execution_count": 15,
   "id": "54634664",
   "metadata": {},
   "outputs": [
    {
     "data": {
      "text/plain": [
       "0.970299"
      ]
     },
     "execution_count": 15,
     "metadata": {},
     "output_type": "execute_result"
    }
   ],
   "source": [
    "z = 100; L = 1; R = 10; U = 100; omega = 1000\n",
    "R_m = z**2/L\n",
    "L_1 = 0.99*99**2/R_m; R_1=9.9\n",
    "L_1"
   ]
  },
  {
   "cell_type": "markdown",
   "id": "fd866488",
   "metadata": {},
   "source": [
    "$$ L_2 = \\frac{1}{R_m}\\cdot0.01 = 0.1\\mathrm{mH} \\quad\\quad\\text{and}\\quad\\quad R_2 = 0.1\\Omega$$"
   ]
  },
  {
   "cell_type": "code",
   "execution_count": 16,
   "id": "b951f84b",
   "metadata": {},
   "outputs": [
    {
     "data": {
      "text/plain": [
       "0.0001"
      ]
     },
     "execution_count": 16,
     "metadata": {},
     "output_type": "execute_result"
    }
   ],
   "source": [
    "L_2 = 1/R_m; R_2 = 0.1\n",
    "L_2"
   ]
  },
  {
   "cell_type": "markdown",
   "id": "33b54884",
   "metadata": {},
   "source": [
    "**Prior** to the short circuit:  \n",
    "\n",
    "$$ U(j\\omega) = RI(j\\omega) + j\\omega LI(j\\omega) \\quad\\implies\\quad I(j\\omega) = \\frac{U}{R+j\\omega L} $$"
   ]
  },
  {
   "cell_type": "markdown",
   "id": "14f1fba7",
   "metadata": {},
   "source": [
    "$$ I(\\omega) = \\frac{U}{\\sqrt{R^2+(\\omega L)^2}} \\approxeq 99.995\\mathrm{mA}$$"
   ]
  },
  {
   "cell_type": "code",
   "execution_count": 6,
   "id": "10b778a6",
   "metadata": {},
   "outputs": [],
   "source": [
    "from math import sqrt"
   ]
  },
  {
   "cell_type": "code",
   "execution_count": 7,
   "id": "b4347a67",
   "metadata": {},
   "outputs": [
    {
     "data": {
      "text/plain": [
       "0.09999500037496875"
      ]
     },
     "execution_count": 7,
     "metadata": {},
     "output_type": "execute_result"
    }
   ],
   "source": [
    "I = U/sqrt(R**2 + (omega*L)**2)\n",
    "I"
   ]
  },
  {
   "cell_type": "markdown",
   "id": "fa5686ba",
   "metadata": {},
   "source": [
    "$$ \\alpha_i = -\\arccos \\frac{R}{\\sqrt{R^2+(\\omega L)^2}} \\approxeq -89.43^{\\circ}$$"
   ]
  },
  {
   "cell_type": "code",
   "execution_count": 8,
   "id": "17e62498",
   "metadata": {},
   "outputs": [],
   "source": [
    "import numpy as np\n",
    "import matplotlib.pyplot as plt"
   ]
  },
  {
   "cell_type": "code",
   "execution_count": 10,
   "id": "9bc28b24",
   "metadata": {},
   "outputs": [
    {
     "data": {
      "text/plain": [
       "89.42706130231652"
      ]
     },
     "execution_count": 10,
     "metadata": {},
     "output_type": "execute_result"
    }
   ],
   "source": [
    "alpha_i = np.arccos(R / sqrt(R**2+(omega*L)**2))\n",
    "np.degrees(alpha_i)"
   ]
  },
  {
   "cell_type": "markdown",
   "id": "96079479",
   "metadata": {},
   "source": [
    "The dissipated power is:  \n",
    "\n",
    "\\begin{equation}\n",
    "    P = I^2(\\omega)R = \\frac{U^2R}{R^2 + (\\omega L)^2} = \\frac{10^5}{100 + 10^6}\\,\\mathrm{W} \\approxeq 0.1\\mathrm{W}\n",
    "\\end{equation}"
   ]
  },
  {
   "cell_type": "code",
   "execution_count": 24,
   "id": "e558ba61",
   "metadata": {},
   "outputs": [
    {
     "data": {
      "text/plain": [
       "0.0999900009999"
      ]
     },
     "execution_count": 24,
     "metadata": {},
     "output_type": "execute_result"
    }
   ],
   "source": [
    "P = 10**5/(100+10**6)\n",
    "P"
   ]
  },
  {
   "cell_type": "markdown",
   "id": "2b988c6a",
   "metadata": {},
   "source": [
    "**After** the short circuit:  \n",
    "\n",
    "\\begin{equation}\\tag{2.1}\n",
    "    U(j\\omega) = R_1I_1(j\\omega) + j\\omega L_1I_1(j\\omega) + j\\omega MI_2(j\\omega)\n",
    "\\end{equation}\n",
    "\n",
    "$$ 0 = R_2I_2(j\\omega) + j\\omega L_2I_2(j\\omega) + j\\omega MI_1(j\\omega)$$"
   ]
  },
  {
   "cell_type": "markdown",
   "id": "32e29c6f",
   "metadata": {},
   "source": [
    "\\begin{equation}\\tag{2.2}\n",
    "    I_2(j\\omega) = -\\frac{j\\omega MI_1(j\\omega)}{R_2 + j\\omega L_2}\n",
    "\\end{equation}"
   ]
  },
  {
   "cell_type": "markdown",
   "id": "544c6361",
   "metadata": {},
   "source": [
    "Via equations (2.1,2),  \n",
    "\n",
    "$$ U(j\\omega) = I_1(j\\omega)\\left(R_1 + j\\omega L_1 + \\frac{(\\omega M)^2}{R_2 + j\\omega L_2}\\right) = Z(j\\omega)I(j\\omega)$$"
   ]
  },
  {
   "cell_type": "markdown",
   "id": "2e2439bd",
   "metadata": {},
   "source": [
    "The impedance is given by:  \n",
    "\n",
    "$$ Z(j\\omega) = R_1 + \\frac{(\\omega M)^2}{R_2^2 + (\\omega L_2)^2} + j\\omega L_1 - j\\frac{\\omega L_2}{R_2^2 + (\\omega L_2)^2}$$"
   ]
  },
  {
   "cell_type": "markdown",
   "id": "fe83aed5",
   "metadata": {},
   "source": [
    "\\begin{equation}\\tag{2.3}\n",
    "    = R_1 + \\frac{(\\omega M)^2R_2}{R_2^2 + (\\omega L_2)^2} + j\\omega\\left(L_1 - \\frac{(\\omega M)^2L_2}{R_2^2 + (\\omega L_2)^2}\\right)\n",
    "\\end{equation}"
   ]
  },
  {
   "cell_type": "code",
   "execution_count": 21,
   "id": "e7c8db1c",
   "metadata": {},
   "outputs": [
    {
     "data": {
      "text/plain": [
       "(495.04949999999997+485.1495j)"
      ]
     },
     "execution_count": 21,
     "metadata": {},
     "output_type": "execute_result"
    }
   ],
   "source": [
    "Z = complex(R_1 + (omega*M)**2*R_2/(R_2**2 + (omega*L_2)**2), \\\n",
    "            omega*L_1 - omega*(omega*M)**2*L_2/(R_2**2 +(omega*L_2)**2))\n",
    "Z"
   ]
  },
  {
   "cell_type": "code",
   "execution_count": 22,
   "id": "5df67a73",
   "metadata": {},
   "outputs": [
    {
     "data": {
      "text/plain": [
       "693.1407106789356"
      ]
     },
     "execution_count": 22,
     "metadata": {},
     "output_type": "execute_result"
    }
   ],
   "source": [
    "sqrt(Z.real**2 + Z.imag**2)"
   ]
  },
  {
   "cell_type": "markdown",
   "id": "d1e0fd85",
   "metadata": {},
   "source": [
    "\\begin{equation}\\tag{2.3a}\n",
    "    Z(\\omega) \\approxeq 693.14\\Omega\n",
    "\\end{equation}"
   ]
  },
  {
   "cell_type": "markdown",
   "id": "4c23765f",
   "metadata": {},
   "source": [
    "Finally,  \n",
    "\n",
    "\\begin{equation}\\tag{2.4}\n",
    "    I(\\omega) = \\frac{U}{Z(\\omega)} \\approxeq 144.27\\mathrm{mA}\n",
    "\\end{equation}"
   ]
  },
  {
   "cell_type": "code",
   "execution_count": 25,
   "id": "fedf29c5",
   "metadata": {},
   "outputs": [
    {
     "data": {
      "text/plain": [
       "0.14427085072243034"
      ]
     },
     "execution_count": 25,
     "metadata": {},
     "output_type": "execute_result"
    }
   ],
   "source": [
    "I_rms = U/sqrt(Z.real**2 + Z.imag**2)\n",
    "I_rms"
   ]
  },
  {
   "cell_type": "markdown",
   "id": "04d1fe44",
   "metadata": {},
   "source": [
    "Assuming a coupling coefficient of $k=1$, i.e. assuming no flux leakage,  \n",
    "\n",
    "\\begin{equation}\\tag{2.4}\n",
    "    M = \\sqrt{L_1L_2} \\approxeq 9.85 \\mathrm{mH}\n",
    "\\end{equation}"
   ]
  },
  {
   "cell_type": "code",
   "execution_count": 14,
   "id": "ecbdcafd",
   "metadata": {},
   "outputs": [
    {
     "data": {
      "text/plain": [
       "0.009850375627355537"
      ]
     },
     "execution_count": 14,
     "metadata": {},
     "output_type": "execute_result"
    }
   ],
   "source": [
    "M = sqrt(L_1*L_2)\n",
    "M"
   ]
  },
  {
   "cell_type": "markdown",
   "id": "bf1e3d26",
   "metadata": {},
   "source": [
    "Finally, the dissipated power is given by:  \n",
    "\n",
    "\\begin{equation}\\tag{2.5}\n",
    "    P = I^2(\\omega)\\mathbf{Z}_\\mathfrak{Re} \\approxeq 10.3\\mathrm{W}\n",
    "\\end{equation}"
   ]
  },
  {
   "cell_type": "code",
   "execution_count": 26,
   "id": "e15b797f",
   "metadata": {},
   "outputs": [
    {
     "data": {
      "text/plain": [
       "10.303999089125245"
      ]
     },
     "execution_count": 26,
     "metadata": {},
     "output_type": "execute_result"
    }
   ],
   "source": [
    "I_rms**2*Z.real"
   ]
  },
  {
   "cell_type": "markdown",
   "id": "ddc711fa",
   "metadata": {},
   "source": [
    "The impedance magnitude practically has not changed, and consequently rms current remains\n",
    "unchanged, however the resistance and then dissipated power has increased 100 times !!! This\n",
    "causes rapid increase of temperature, an isolation melts and next turns are shorted, what\n",
    "completely destroys (burns) the coil."
   ]
  }
 ],
 "metadata": {
  "kernelspec": {
   "display_name": "Python 3",
   "language": "python",
   "name": "python3"
  },
  "language_info": {
   "codemirror_mode": {
    "name": "ipython",
    "version": 3
   },
   "file_extension": ".py",
   "mimetype": "text/x-python",
   "name": "python",
   "nbconvert_exporter": "python",
   "pygments_lexer": "ipython3",
   "version": "3.8.10"
  }
 },
 "nbformat": 4,
 "nbformat_minor": 5
}
