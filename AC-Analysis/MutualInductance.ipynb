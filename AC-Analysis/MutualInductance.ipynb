{
 "cells": [
  {
   "cell_type": "markdown",
   "id": "2136ebdd",
   "metadata": {},
   "source": [
    "# Mutual Inductance and Transformers\n",
    "### *Chapter 4 Section 7* -- AC Steady State Analysis\n",
    "\n",
    "The previous analysis of a coil assumed that the only flux linking a coil was that due to its\n",
    "own current, and consequently, the only voltage induced was that due to this current. In this\n",
    "Chapter coupled coils and phenomenon of mutual inductance will be discussed. A two-port\n",
    "equations expressing voltages by currents, both in time-domain and frequency-domain, will\n",
    "be considered. Then, the most practical use of this phenomenon in transformers will be\n",
    "studied. Basic transformer built of practical coils will be considered at first, next an ideal\n",
    "transformer. Finally the ideal transformer based model of practical transformer will be\n",
    "described."
   ]
  },
  {
   "cell_type": "markdown",
   "id": "7b9fca49",
   "metadata": {},
   "source": [
    "## Mutual Inductance – Basic Transformer\n",
    "Consider two coupled coils, as shown in Fig. 4.7.1.  \n",
    "\n",
    "![Fig-4.7.1](Figures/Fig-4.7.1.png)"
   ]
  },
  {
   "cell_type": "markdown",
   "id": "eff1cc60",
   "metadata": {},
   "source": [
    "The current $i_1$ produces in coil 1 flux $\\phi_{11}$. Part of this flux threads coil 2, the remainder is coil 1's leakage flux. They are denoted '$\\phi_{21}$' and '$\\phi_{l1}$' respectively.  Similarly, $i_2$ produces in coil 2 flux $\\phi_{22}$ that is split into two fluxes, $\\phi_{12}$ and $\\phi_{l2}$.  \n",
    "\n",
    "\\begin{equation}\\tag{1a}\n",
    "\t\\phi_{11} = \\phi_{21} + \\phi_{l1}\n",
    "\\end{equation}\n",
    "\n",
    "\\begin{equation}\\tag{1b}\n",
    "\t\\phi_{22} = \\phi_{12} + \\phi_{l2}\n",
    "\\end{equation}"
   ]
  },
  {
   "cell_type": "markdown",
   "id": "80df2cbe",
   "metadata": {},
   "source": [
    "Electric analog of this magnetic circuit is presented in Fig. 4.7.2  \n",
    "\n",
    "![Fig-4.7.2](Figures/Fig-4.7.2.png)"
   ]
  },
  {
   "cell_type": "markdown",
   "id": "4996ceac",
   "metadata": {},
   "source": [
    "Via KCL,  \n",
    "\n",
    "\\begin{equation}\\tag{2.1}\n",
    "    \\text{a: }\\;\\phi_{11} + \\phi_{12} - \\phi_{l1} = \\phi \\quad\\quad\\text{and}\\quad\\quad \\text{b: }\\;\\phi = \\phi_{22} + \\phi_{21} - \\phi_{l2}\n",
    "\\end{equation}"
   ]
  },
  {
   "cell_type": "markdown",
   "id": "0a4b69a0",
   "metadata": {},
   "source": [
    "Via the above two equations and equivalance principle,  \n",
    "\n",
    "$$ \\phi_{11} + \\phi_{12} - \\phi_{l1} = \\phi_{22} + \\phi_{21} - \\phi_{l2}$$"
   ]
  },
  {
   "cell_type": "markdown",
   "id": "5e6b0f49",
   "metadata": {},
   "source": [
    "Via the above equation and equations (1a,b),  \n",
    "\n",
    "$$ \\phi_{21} + \\phi_{12} = \\phi_{12} + \\phi_{21}$$"
   ]
  },
  {
   "cell_type": "markdown",
   "id": "ccfb424b",
   "metadata": {},
   "source": [
    "The electric analog in figure 4.7.2 is thus consistent with equations (1a,b)."
   ]
  },
  {
   "cell_type": "markdown",
   "id": "c2a084ba",
   "metadata": {},
   "source": [
    "Via KVL and Ohm's Law,  \n",
    "\n",
    "\\begin{equation}\\tag{2.2}\n",
    "    \\text{a: }\\;U_{l1} = \\phi_{l1}R_{l1} = i_1z_1 \\quad\\quad \\text{b: }\\; U_m = R_m\\phi = i_1z_1 + i_2z_2 \\quad\\quad\\text{c: }\\; i_2z_2 = \\phi_{l2}R_{l2} = U_{l2}\n",
    "\\end{equation}"
   ]
  },
  {
   "cell_type": "markdown",
   "id": "fb4114a8",
   "metadata": {},
   "source": [
    "And, via equations (2.1a) and (1b), or equations (2.1b) and (1a),    \n",
    "\n",
    "\\begin{equation}\\tag{2.3}\n",
    "    \\phi = \\phi_{11} + \\phi_{22} - \\phi_{l1} - \\phi_{l2}\n",
    "\\end{equation}"
   ]
  },
  {
   "cell_type": "markdown",
   "id": "f6e0dc96",
   "metadata": {},
   "source": [
    "where $R_{l1}$ and $R_{l2}$ are the magnetic resistances of the leakages, and $R_m$ is a core magnetic resistance.  \n",
    "\n",
    "Superposition principle can be applied and a circuit of Fig. 4.7.2 can be split into two\n",
    "subcircuits, as presented in Fig. 4.7.2a.  \n",
    "\n",
    "![Fig-4.7.2a](Figures/Fig-4.7.2a.png)"
   ]
  },
  {
   "cell_type": "markdown",
   "id": "dca6e5ce",
   "metadata": {},
   "source": [
    "\\begin{equation}\\tag{2a.1}\n",
    "    i_1z_1 = \\sideset{_{1\\,}}{_m}U = R_m\\phi_{21} = R_{l1}\\phi_{l1}\n",
    "\\end{equation}"
   ]
  },
  {
   "cell_type": "markdown",
   "id": "a5bec4d4",
   "metadata": {},
   "source": [
    "\\begin{equation}\\tag{2a.2}\n",
    "    i_2z_2 = \\sideset{_{2\\,}}{_m}U = R_m\\phi_{12} = R_{l2}\\phi_{l2}\n",
    "\\end{equation}"
   ]
  },
  {
   "cell_type": "markdown",
   "id": "9248e0af",
   "metadata": {},
   "source": [
    "Via the above two equations and superposition principle,  \n",
    "\n",
    "$$ U_m = \\sideset{_{1\\,}}{_m}U + \\sideset{_{2\\,}}{_m}U$$"
   ]
  },
  {
   "cell_type": "markdown",
   "id": "b15ae2bc",
   "metadata": {},
   "source": [
    "The total flux threading coil 1 is the sum of two components:  \n",
    "\n",
    "\\begin{equation}\\tag{2a}\n",
    "\t\\phi_{t1} = z_1\\phi_1 = z_1\\phi_{11}\\pm z_1\\phi_{12} = z_1\\left(\\frac{i_1z_1}{R_{l1}} + \\frac{i_1z_1}{R_m}\\right) \\pm z_1\\frac{i_2z_2}{R_m} = L_1i_1 \\pm Mi_2\n",
    "\\end{equation}"
   ]
  },
  {
   "cell_type": "markdown",
   "id": "0a010885",
   "metadata": {},
   "source": [
    "The total flux threading coil 2 is the sum of two components:  \n",
    "\n",
    "\\begin{equation}\\tag{2b}\n",
    "\t\\phi_{t2} = z_2\\phi_2 = z_2\\phi_{22}\\pm z_2\\phi_{21} = z_2\\left(\\frac{i_2z_2}{R_{l2}} + \\frac{i_2z_2}{R_m}\\right) \\pm z_2\\frac{i_1z_1}{R_m} = L_2i_2 \\pm Mi_1\n",
    "\\end{equation}"
   ]
  },
  {
   "cell_type": "markdown",
   "id": "d9ee2c4d",
   "metadata": {},
   "source": [
    "The proof for equation (2a) is:  \n",
    "\n",
    "$$ \\phi_{t1} = z_1\\phi_1 \\quad\\quad\\text{where }\\; \\phi_1 = \\phi_{11} \\pm \\phi_{12}$$"
   ]
  },
  {
   "cell_type": "markdown",
   "id": "d512ed3b",
   "metadata": {},
   "source": [
    "Via equations (1a) and (2a.1),  \n",
    "\n",
    "$$ \\phi_{11} = \\phi_{21} + \\phi_{l1} = \\frac{i_1z_1}{R_m} + \\frac{i_1z_1}{R_{l1}}$$"
   ]
  },
  {
   "cell_type": "markdown",
   "id": "f70a2193",
   "metadata": {},
   "source": [
    "And, via equation (2a.2),  \n",
    "\n",
    "$$ \\phi_{12} = \\frac{i_2z_2}{R_m}$$"
   ]
  },
  {
   "cell_type": "markdown",
   "id": "cdd042c8",
   "metadata": {},
   "source": [
    "Via the above three equations,  \n",
    "\n",
    "$$ \\phi_{t1} = z_1\\left(\\frac{i_1z_1}{R_{l1}} + \\frac{i_1z_1}{R_m}\\right) \\pm z_1\\frac{i_2z_2}{R_m}$$"
   ]
  },
  {
   "cell_type": "markdown",
   "id": "4fc4dae1",
   "metadata": {},
   "source": [
    "Based on equation (2a),  \n",
    "\n",
    "\\begin{equation}\\tag{2a.3}\n",
    "    \\text{a: }\\;L_1 = z_1^2\\frac{R_m + R_{l1}}{R_{l1}R_m} \\quad\\quad\\text{and}\\quad\\quad \\text{b: }\\;M = \\frac{z_1z_2}{R_m}\n",
    "\\end{equation}"
   ]
  },
  {
   "cell_type": "markdown",
   "id": "f8bdc856",
   "metadata": {},
   "source": [
    "And, based on equation (2b),  \n",
    "\n",
    "\\begin{equation}\\tag{2a.3c}\n",
    "    L_2 = z_2^2\\frac{R_m + R_{l2}}{R_{l2}R_m}\n",
    "\\end{equation}"
   ]
  },
  {
   "cell_type": "markdown",
   "id": "1c402719",
   "metadata": {},
   "source": [
    "Constant of proportionality between one coil current and a flux that is produces in the coupled\n",
    "coil is called the **mutual inductance** $M$. This constant can be expressed by self inductances of individual coils.  \n",
    "\n",
    "\\begin{equation}\\tag{3}\n",
    "\tM = k\\sqrt{L_1L_2}\n",
    "\\end{equation}"
   ]
  },
  {
   "cell_type": "markdown",
   "id": "d2c1c274",
   "metadata": {},
   "source": [
    "where, $0\\le k \\le 1$ is the **coefficient of coupling**, a measure of the degree to which the flux\n",
    "produced by one coil threads another. If there is no coupling then, $k=0\\;\\implies\\;M=0$ . For\n",
    "tightly coupled coils, which is the most desirable situation, $k=1\\;\\implies\\;M=\\sqrt{L_1L_2}$. Via equation \n",
    "(2), two-port equations can be obtained.  \n",
    "\n",
    "\\begin{equation}\\tag{4a}\n",
    "    u_1 = \\frac{\\mathrm{d}\\phi_{t1}}{\\mathrm{d}t} = L_1i_1'(t)\\pm Mi_2'(t)\n",
    "\\end{equation}\n",
    "\n",
    "\\begin{equation}\\tag{4b}\n",
    "    u_2 = \\frac{\\mathrm{d}\\phi_{t2}}{\\mathrm{d}t} = L_2i_2'(t)\\pm Mi_1'(t)\n",
    "\\end{equation}"
   ]
  },
  {
   "cell_type": "markdown",
   "id": "dbbab6a3",
   "metadata": {},
   "source": [
    "The plus or minus is used because the fluxes produced by the coupled coils may point in the same or opposite direction.  In the case of the magnetic circuit shown in figure 4.7.1, the fluxes point in the same direction and thus the plus sign is used in the appropriate equations."
   ]
  },
  {
   "cell_type": "markdown",
   "id": "aeaa0fb3",
   "metadata": {},
   "source": [
    "Via equations (2a.3a,c),  \n",
    "\n",
    "$$ L_1L_2 = z_1^2z_2^2\\frac{R_m^2 + R_m(R_{l1} + R_{l2}) + R_{l1}R_{l2}}{R_{l1}R_{l2}R_m^2}$$"
   ]
  },
  {
   "cell_type": "markdown",
   "id": "3ec910b6",
   "metadata": {},
   "source": [
    "And, via the above equation and equations (2a.3b) and (3),  \n",
    "\n",
    "\\begin{equation}\\tag{2a.4}\n",
    "    k = \\sqrt{\\frac{R_{l1}R_{l2}}{(R_m+R_{l1})(R_m+R_{l2})}}\n",
    "\\end{equation}"
   ]
  },
  {
   "cell_type": "markdown",
   "id": "d3da8f82",
   "metadata": {},
   "source": [
    "### Dot convention\n",
    "Currents entering the dotted ends are creating additive fluxes. Dotted ends have a positive\n",
    "voltage at the same time.  \n",
    "\n",
    "A circuit symbol of coupled coils is presented in Fig. 4.7.3.  \n",
    "\n",
    "![Fig-4.7.3](Figures/Fig-4.7.3.png)"
   ]
  },
  {
   "cell_type": "markdown",
   "id": "5f165f98",
   "metadata": {},
   "source": [
    "Using the phasor notation, coupled coils equations are:  \n",
    "\n",
    "\\begin{equation}\\tag{5a}\n",
    "    U_1(j\\omega) = j\\omega L_1I_1(j\\omega) \\pm j\\omega MI_2(j\\omega)\n",
    "\\end{equation}"
   ]
  },
  {
   "cell_type": "markdown",
   "id": "8a09b6f7",
   "metadata": {},
   "source": [
    "\\begin{equation}\\tag{5b}\n",
    "    U_2(j\\omega) = j\\omega L_2I_2(j\\omega)\\pm j\\omega MI_1(j\\omega)\n",
    "\\end{equation}"
   ]
  },
  {
   "cell_type": "markdown",
   "id": "d37f9639",
   "metadata": {},
   "source": [
    "#### Example 4.7.1\n",
    "Consider two practical coupled coils connected in series, as shown in Fig. 4.7.4. Find the\n",
    "circuit equivalent.  \n",
    "\n",
    "![Fig-4.7.4](Figures/Fig-4.7.4.svg)"
   ]
  },
  {
   "cell_type": "markdown",
   "id": "eb43b9f9",
   "metadata": {},
   "source": [
    "$$ U_1(j\\omega) = R_1I_1(j\\omega) + j\\omega L_1I_1(j\\omega) + j\\omega MI_2(j\\omega)$$"
   ]
  },
  {
   "cell_type": "markdown",
   "id": "43ee0bc6",
   "metadata": {},
   "source": [
    "$$ U_2(j\\omega) = R_I2(j\\omega) + j\\omega L_2I_2(j\\omega) + j\\omega MI_1(j\\omega)$$"
   ]
  },
  {
   "cell_type": "markdown",
   "id": "9f2f8368",
   "metadata": {},
   "source": [
    "Via the fact that $I(j\\omega) = I_1(j\\omega) = I_2(j\\omega)$, $U(j\\omega) = U_1(j\\omega)+U_2(j\\omega)$, and the above two equations,  \n",
    "\n",
    "\\begin{equation}\\tag{6a}\n",
    "    U(j\\omega) = I(j\\omega)\\big(R_1 + R_2 + j\\omega(L_1+L_2 + 2M)\\big)\n",
    "\\end{equation}"
   ]
  },
  {
   "cell_type": "markdown",
   "id": "cc21a44e",
   "metadata": {},
   "source": [
    "\\begin{equation}\\tag{6b}\n",
    "    U(j\\omega) = I(j\\omega)(R_s + j\\omega L_s)\n",
    "\\end{equation}"
   ]
  },
  {
   "cell_type": "markdown",
   "id": "9b321bcd",
   "metadata": {},
   "source": [
    "Thus,  \n",
    "\n",
    "\\begin{equation}\\tag{7}\n",
    "    \\text{a: }\\;L_s = L_1+L_2+2M \\quad\\quad\\text{and}\\quad\\quad \\text{b: }\\;R_s = R_1+R_2\n",
    "\\end{equation}"
   ]
  },
  {
   "cell_type": "markdown",
   "id": "5e7785c4",
   "metadata": {},
   "source": [
    "The equivalent series inductance of two coupled coils is sum of self inductances plus the\n",
    "doubled mutual inductance. For negative coupling the doubled mutual inductance should be\n",
    "subtracted."
   ]
  },
  {
   "cell_type": "markdown",
   "id": "03076782",
   "metadata": {},
   "source": [
    "#### Example 4.7.2\n",
    "A coil of $z=100$ turns connected to a $U=100\\mathrm{V}$, $\\omega=1000r\\,\\mathrm{rad}/\\mathrm{s}$ supply has the following parameters: $L=1\\mathrm{H}$, $R=10\\Omega$ . Consider a short-circuit of one turn. Study the effect of such failure.  \n",
    "\n",
    "A coil with one turn shorted can be considered as pair of coupled coils, as presented in Fig.\n",
    "4.7.5.  \n",
    "\n",
    "![Fig-4.7.5](Figures/Fig-4.7.5.png)"
   ]
  },
  {
   "cell_type": "markdown",
   "id": "e700f473",
   "metadata": {},
   "source": [
    "Via equation (3.1.14),  \n",
    "\n",
    "$$ R_m = \\frac{z^2}{L} = 10\\mathrm{k}\\Omega $$"
   ]
  },
  {
   "cell_type": "markdown",
   "id": "8522b6e8",
   "metadata": {},
   "source": [
    "$$ L_1 = \\frac{99^2}{R_m}\\cdot0.99 = 970.299\\mathrm{mH} \\quad\\quad\\text{and}\\quad\\quad R_1 = 9.9\\Omega$$"
   ]
  },
  {
   "cell_type": "code",
   "execution_count": 1,
   "id": "54634664",
   "metadata": {},
   "outputs": [
    {
     "data": {
      "text/plain": [
       "0.970299"
      ]
     },
     "execution_count": 1,
     "metadata": {},
     "output_type": "execute_result"
    }
   ],
   "source": [
    "z = 100; L = 1; R = 10; U = 100; omega = 1000\n",
    "R_m = z**2/L\n",
    "L_1 = 0.99*99**2/R_m; R_1=9.9\n",
    "L_1"
   ]
  },
  {
   "cell_type": "markdown",
   "id": "fd866488",
   "metadata": {},
   "source": [
    "$$ L_2 = \\frac{1}{R_m}\\cdot0.01 = 0.1\\mathrm{mH} \\quad\\quad\\text{and}\\quad\\quad R_2 = 0.1\\Omega$$"
   ]
  },
  {
   "cell_type": "code",
   "execution_count": 2,
   "id": "b951f84b",
   "metadata": {},
   "outputs": [
    {
     "data": {
      "text/plain": [
       "0.0001"
      ]
     },
     "execution_count": 2,
     "metadata": {},
     "output_type": "execute_result"
    }
   ],
   "source": [
    "L_2 = 1/R_m; R_2 = 0.1\n",
    "L_2"
   ]
  },
  {
   "cell_type": "markdown",
   "id": "33b54884",
   "metadata": {},
   "source": [
    "**Prior** to the short circuit:  \n",
    "\n",
    "$$ U(j\\omega) = RI(j\\omega) + j\\omega LI(j\\omega) \\quad\\implies\\quad I(j\\omega) = \\frac{U}{R+j\\omega L} $$"
   ]
  },
  {
   "cell_type": "markdown",
   "id": "14f1fba7",
   "metadata": {},
   "source": [
    "$$ I(\\omega) = \\frac{U}{\\sqrt{R^2+(\\omega L)^2}} \\approxeq 99.995\\mathrm{mA}$$"
   ]
  },
  {
   "cell_type": "code",
   "execution_count": 3,
   "id": "10b778a6",
   "metadata": {},
   "outputs": [],
   "source": [
    "from math import sqrt"
   ]
  },
  {
   "cell_type": "code",
   "execution_count": 4,
   "id": "b4347a67",
   "metadata": {},
   "outputs": [
    {
     "data": {
      "text/plain": [
       "0.09999500037496875"
      ]
     },
     "execution_count": 4,
     "metadata": {},
     "output_type": "execute_result"
    }
   ],
   "source": [
    "I = U/sqrt(R**2 + (omega*L)**2)\n",
    "I"
   ]
  },
  {
   "cell_type": "markdown",
   "id": "fa5686ba",
   "metadata": {},
   "source": [
    "$$ \\alpha_i = -\\arccos \\frac{R}{\\sqrt{R^2+(\\omega L)^2}} \\approxeq -89.43^{\\circ}$$"
   ]
  },
  {
   "cell_type": "code",
   "execution_count": 5,
   "id": "17e62498",
   "metadata": {},
   "outputs": [],
   "source": [
    "import numpy as np\n",
    "import matplotlib.pyplot as plt"
   ]
  },
  {
   "cell_type": "code",
   "execution_count": 6,
   "id": "9bc28b24",
   "metadata": {},
   "outputs": [
    {
     "data": {
      "text/plain": [
       "89.42706130231652"
      ]
     },
     "execution_count": 6,
     "metadata": {},
     "output_type": "execute_result"
    }
   ],
   "source": [
    "alpha_i = np.arccos(R / sqrt(R**2+(omega*L)**2))\n",
    "np.degrees(alpha_i)"
   ]
  },
  {
   "cell_type": "markdown",
   "id": "96079479",
   "metadata": {},
   "source": [
    "The dissipated power is:  \n",
    "\n",
    "\\begin{equation}\n",
    "    P = I^2(\\omega)R = \\frac{U^2R}{R^2 + (\\omega L)^2} = \\frac{10^5}{100 + 10^6}\\,\\mathrm{W} \\approxeq 0.1\\mathrm{W}\n",
    "\\end{equation}"
   ]
  },
  {
   "cell_type": "code",
   "execution_count": 7,
   "id": "e558ba61",
   "metadata": {},
   "outputs": [
    {
     "data": {
      "text/plain": [
       "0.0999900009999"
      ]
     },
     "execution_count": 7,
     "metadata": {},
     "output_type": "execute_result"
    }
   ],
   "source": [
    "P = 10**5/(100+10**6)\n",
    "P"
   ]
  },
  {
   "cell_type": "markdown",
   "id": "2b988c6a",
   "metadata": {},
   "source": [
    "**After** the short circuit:  \n",
    "\n",
    "\\begin{equation}\\tag{2.1}\n",
    "    U(j\\omega) = R_1I_1(j\\omega) + j\\omega L_1I_1(j\\omega) + j\\omega MI_2(j\\omega)\n",
    "\\end{equation}\n",
    "\n",
    "$$ 0 = R_2I_2(j\\omega) + j\\omega L_2I_2(j\\omega) + j\\omega MI_1(j\\omega)$$"
   ]
  },
  {
   "cell_type": "markdown",
   "id": "04d1fe44",
   "metadata": {},
   "source": [
    "Assuming a coupling coefficient of $k=1$, i.e. assuming no flux leakage,  \n",
    "\n",
    "\\begin{equation}\\tag{2.4}\n",
    "    M = \\sqrt{L_1L_2} \\approxeq 9.85 \\mathrm{mH}\n",
    "\\end{equation}"
   ]
  },
  {
   "cell_type": "code",
   "execution_count": 8,
   "id": "ecbdcafd",
   "metadata": {},
   "outputs": [
    {
     "data": {
      "text/plain": [
       "0.009850375627355537"
      ]
     },
     "execution_count": 8,
     "metadata": {},
     "output_type": "execute_result"
    }
   ],
   "source": [
    "M = sqrt(L_1*L_2)\n",
    "M"
   ]
  },
  {
   "cell_type": "markdown",
   "id": "32e29c6f",
   "metadata": {},
   "source": [
    "\\begin{equation}\\tag{2.2}\n",
    "    I_2(j\\omega) = -\\frac{j\\omega MI_1(j\\omega)}{R_2 + j\\omega L_2}\n",
    "\\end{equation}"
   ]
  },
  {
   "cell_type": "markdown",
   "id": "544c6361",
   "metadata": {},
   "source": [
    "Via equations (2.1,2),  \n",
    "\n",
    "$$ U(j\\omega) = I_1(j\\omega)\\left(R_1 + j\\omega L_1 + \\frac{(\\omega M)^2}{R_2 + j\\omega L_2}\\right) = Z(j\\omega)I(j\\omega)$$"
   ]
  },
  {
   "cell_type": "markdown",
   "id": "2e2439bd",
   "metadata": {},
   "source": [
    "The impedance is given by:  \n",
    "\n",
    "$$ Z(j\\omega) = R_1 + \\frac{(\\omega M)^2}{R_2^2 + (\\omega L_2)^2} + j\\omega L_1 - j\\frac{\\omega L_2}{R_2^2 + (\\omega L_2)^2}$$"
   ]
  },
  {
   "cell_type": "markdown",
   "id": "fe83aed5",
   "metadata": {},
   "source": [
    "\\begin{equation}\\tag{2.3}\n",
    "    = R_1 + \\frac{(\\omega M)^2R_2}{R_2^2 + (\\omega L_2)^2} + j\\omega\\left(L_1 - \\frac{(\\omega M)^2L_2}{R_2^2 + (\\omega L_2)^2}\\right)\n",
    "\\end{equation}"
   ]
  },
  {
   "cell_type": "code",
   "execution_count": 9,
   "id": "e7c8db1c",
   "metadata": {},
   "outputs": [
    {
     "data": {
      "text/plain": [
       "(495.04949999999997+485.1495j)"
      ]
     },
     "execution_count": 9,
     "metadata": {},
     "output_type": "execute_result"
    }
   ],
   "source": [
    "Z = complex(R_1 + (omega*M)**2*R_2/(R_2**2 + (omega*L_2)**2), \\\n",
    "            omega*L_1 - omega*(omega*M)**2*L_2/(R_2**2 +(omega*L_2)**2))\n",
    "Z"
   ]
  },
  {
   "cell_type": "code",
   "execution_count": 10,
   "id": "5df67a73",
   "metadata": {},
   "outputs": [
    {
     "data": {
      "text/plain": [
       "693.1407106789356"
      ]
     },
     "execution_count": 10,
     "metadata": {},
     "output_type": "execute_result"
    }
   ],
   "source": [
    "sqrt(Z.real**2 + Z.imag**2)"
   ]
  },
  {
   "cell_type": "markdown",
   "id": "d1e0fd85",
   "metadata": {},
   "source": [
    "\\begin{equation}\\tag{2.3a}\n",
    "    Z(\\omega) \\approxeq 693.14\\Omega\n",
    "\\end{equation}"
   ]
  },
  {
   "cell_type": "markdown",
   "id": "4c23765f",
   "metadata": {},
   "source": [
    "Finally,  \n",
    "\n",
    "\\begin{equation}\\tag{2.4}\n",
    "    I(\\omega) = \\frac{U}{Z(\\omega)} \\approxeq 144.27\\mathrm{mA}\n",
    "\\end{equation}"
   ]
  },
  {
   "cell_type": "code",
   "execution_count": 11,
   "id": "fedf29c5",
   "metadata": {},
   "outputs": [
    {
     "data": {
      "text/plain": [
       "0.14427085072243034"
      ]
     },
     "execution_count": 11,
     "metadata": {},
     "output_type": "execute_result"
    }
   ],
   "source": [
    "I_rms = U/sqrt(Z.real**2 + Z.imag**2)\n",
    "I_rms"
   ]
  },
  {
   "cell_type": "markdown",
   "id": "bf1e3d26",
   "metadata": {},
   "source": [
    "Finally, the dissipated power is given by:  \n",
    "\n",
    "\\begin{equation}\\tag{2.5}\n",
    "    P = I^2(\\omega)\\mathbf{Z}_\\mathfrak{Re} \\approxeq 10.3\\mathrm{W}\n",
    "\\end{equation}"
   ]
  },
  {
   "cell_type": "code",
   "execution_count": 12,
   "id": "e15b797f",
   "metadata": {},
   "outputs": [
    {
     "data": {
      "text/plain": [
       "10.303999089125245"
      ]
     },
     "execution_count": 12,
     "metadata": {},
     "output_type": "execute_result"
    }
   ],
   "source": [
    "I_rms**2*Z.real"
   ]
  },
  {
   "cell_type": "markdown",
   "id": "ddc711fa",
   "metadata": {},
   "source": [
    "The impedance magnitude practically has not changed, and consequently rms current remains\n",
    "unchanged, however the resistance and then dissipated power has increased 100 times !!! This\n",
    "causes rapid increase of temperature, an isolation melts and next turns are shorted, what\n",
    "completely destroys (burns) the coil."
   ]
  },
  {
   "cell_type": "markdown",
   "id": "57a4d103",
   "metadata": {},
   "source": [
    "**Basic transformer**, an air-core (liear) transformer built of two coupled coils is considered\n",
    "next.  \n",
    "\n",
    "A transformer is an electronic device that uses magnetically coupled coils to transfer energy\n",
    "from one circuit to another. This device has two ports available for connection to external\n",
    "circuitry. One of this ports is called the **primary port** and usually it is connected to an\n",
    "external source. The other port is called the **secondary port** and usually it is connected to a\n",
    "load. Then, terms primary/secondary circuit, winding, voltage or current are used. The\n",
    "primary circuit has been simplified to its Thevenin equivalent, the load has been reduced to its\n",
    "equivalent impedance. It should be emphasized, that the primary and the secondary circuit are\n",
    "electrically isolated. Basic transformer circuit described in phasor domain is presented in Fig.\n",
    "4.7.6. For simplicity of further derivations, it has been assumed that coils are resistanceless.  \n",
    "\n",
    "![Fig-4.7.6](Figures/Fig-4.7.6.png)"
   ]
  },
  {
   "cell_type": "markdown",
   "id": "d55454b5",
   "metadata": {},
   "source": [
    "Transformer itself is described in phasor domain by equations (4.7.4b). The secondary circuit\n",
    "(load) is described by the following equation  \n",
    "\n",
    "\\begin{equation}\\tag{9}\n",
    "    U_2(j\\omega) = -Z_l(j\\omega)I_2(j\\omega)\n",
    "\\end{equation}"
   ]
  },
  {
   "cell_type": "markdown",
   "id": "323b40d1",
   "metadata": {},
   "source": [
    "\\begin{equation}\\tag{9a}\n",
    "    U_2(j\\omega) = j\\omega L_2I_2(j\\omega) + j\\omega MI_1(j\\omega)\n",
    "\\end{equation}"
   ]
  },
  {
   "cell_type": "markdown",
   "id": "c8cf33af",
   "metadata": {},
   "source": [
    "Via equations (9) and (9a),  \n",
    "\n",
    "$$ j\\omega MI_1(j\\omega) = -I_2(j\\omega)\\big(j\\omega L_2 + Z_l(j\\omega)\\big)$$"
   ]
  },
  {
   "cell_type": "markdown",
   "id": "99ac42d6",
   "metadata": {},
   "source": [
    "$$\\frac{I_1(j\\omega)}{I_2(j\\omega)} = -\\frac{j\\omega L_2 + Z_l(j\\omega)}{j\\omega M}$$"
   ]
  },
  {
   "cell_type": "markdown",
   "id": "af0ec630",
   "metadata": {},
   "source": [
    "\\begin{equation}\\tag{M1}\n",
    "    \\frac{I_2(j\\omega)}{I_1(j\\omega)} = -\\frac{j\\omega M}{j\\omega L_2 + Z_l(j\\omega)}\n",
    "\\end{equation}"
   ]
  },
  {
   "cell_type": "markdown",
   "id": "ee3b629d",
   "metadata": {},
   "source": [
    "The load current and voltage do not satisfy the passive sign convention, and, for that reason, the\n",
    "minus sign appears at the right side of equation (4.7.9). It is interesting to study the\n",
    "impedance looking into the primary port.  \n",
    "\n",
    "\\begin{equation}\\tag{10}\n",
    "    Z_1(j\\omega)=\\frac{U_1(j\\omega)}{I_1(j\\omega)}\n",
    "\\end{equation}"
   ]
  },
  {
   "cell_type": "markdown",
   "id": "34507bc4",
   "metadata": {},
   "source": [
    "\\begin{equation}\\tag{M2}\n",
    "    U_1(j\\omega)=E_\\mathrm{o}(j\\omega) - Z_\\mathrm{t}(j\\omega)I_1(j\\omega) = j\\omega L_1I_1(j\\omega) + j\\omega MI_2(j\\omega)\n",
    "\\end{equation}"
   ]
  },
  {
   "cell_type": "markdown",
   "id": "43c3622f",
   "metadata": {},
   "source": [
    "$$ I_1(j\\omega)\\big(Z_\\mathrm{t}(j\\omega) + j\\omega L_1\\big) = E_\\mathrm{o}(j\\omega) - j\\omega MI_2(j\\omega)$$"
   ]
  },
  {
   "cell_type": "markdown",
   "id": "bd1b7331",
   "metadata": {},
   "source": [
    "Via equations (10) and (M2),  \n",
    "\n",
    "$$ Z_1(j\\omega) = j\\omega L_1 + j\\omega M \\,\\frac{I_2(j\\omega)}{I_1(j\\omega)}$$"
   ]
  },
  {
   "cell_type": "markdown",
   "id": "bec42982",
   "metadata": {},
   "source": [
    "And, via the above equation and equation (M1),  \n",
    "\n",
    "\\begin{equation}\\tag{10a}\n",
    "    Z_1(j\\omega) = j\\omega L_1 + \\frac{(\\omega M)^2}{j\\omega L_2 + Z_l(j\\omega)}\n",
    "\\end{equation}"
   ]
  },
  {
   "cell_type": "markdown",
   "id": "7ee92195",
   "metadata": {},
   "source": [
    "The first term depends on the primary coil while the second term is due to the coupling, so\n",
    "called the **reflected impedance**.  \n",
    "\n",
    "\\begin{equation}\\tag{10b}\n",
    "    Z_r(j\\omega) = \\frac{(\\omega M)^2}{j\\omega L_2 + Z_l(j\\omega)} = \\frac{(\\omega M)^2}{R_l + j\\big(\\omega L_2 + X_l(\\omega)\\big)}  = R_r + jX_r(\\omega)\n",
    "\\end{equation}"
   ]
  },
  {
   "cell_type": "markdown",
   "id": "c5efbcb3",
   "metadata": {},
   "source": [
    "Let $Z_l(j\\omega):=\\mathbf{Z_l}$, which is consistent with the phasor and complex number notation used throughout this notebook.  \n",
    "\n",
    "$$ Z_r(j\\omega) = \\frac{(\\omega M)^2}{\\mathfrak{Re}\\{\\mathbf{Z_l}\\} + j\\big(\\omega L_2 + \\mathfrak{Im}\\{\\mathbf{Z_l}\\}\\big)} = (\\omega M)^2\\,\\frac{R_l - j\\big(\\omega L_2 + X_l(\\omega)\\big)}{R_l^2 + \\big(\\omega L_2 + X_l(\\omega) \\big)^2}$$"
   ]
  },
  {
   "cell_type": "markdown",
   "id": "90735d1e",
   "metadata": {},
   "source": [
    "Then, the transformer together with its load can be replaced by series connection of two\n",
    "impedances. The obtained one-loop circuit, presented in Fig. 4.7.7, is often used to simplify\n",
    "analysis of the basic transformer circuit of Fig. 4.7.6.  \n",
    "\n",
    "![Fig-4.7.7](Figures/Fig-4.7.7.png)"
   ]
  },
  {
   "cell_type": "markdown",
   "id": "e379bae4",
   "metadata": {},
   "source": [
    "Then, the transformer together with its load can be replaced by series connection of two\n",
    "impedances. The obtained one-loop circuit, presented in Fig. 4.7.7, is often used to simplify\n",
    "analysis of the basic transformer circuit of Fig. 4.7.6."
   ]
  },
  {
   "cell_type": "markdown",
   "id": "ddb9fd6d",
   "metadata": {},
   "source": [
    "## Ideal Transformer\n",
    "A transformer scales, or transforms, the voltage, current and impedance levels of the circuit.\n",
    "The secondary-to-primary current and voltage ratios will be discussed for an ideal transformer\n",
    "that may be thought of as the first-order model of an iron-core transformer (complex model\n",
    "will be discussed in the next section of this Chapter). An **ideal transformer** satisfies the\n",
    "following three assumptions.\n",
    "\n",
    "1. Windings are resistanceless:  $R_1=R_2=0$.\n",
    "2. Leakage fluxes are equal to zero:  $\\phi_{l1}=\\phi_{l2}=0\\;\\implies\\;k=1$.\n",
    "3. The core magnetic material has unboundedly large permeability $\\mu_r$, implying that the reluctance or magnetic resistance $R_m$ of the core is equal to zero, implying that the primary and secondary inductance, denoted as '$L_1$' and '$L_2$' respectively, are also unboundedly large;  Their ratio, however, is finite.  \n",
    "\n",
    "$$ \\mu_r = \\infty \\quad\\implies\\quad R_m = 0\\quad\\implies\\quad L_1,L_2=\\infty$$  \n",
    "    \\begin{equation}\\tag{14}\n",
    "        \\frac{L_2}{L_1} = \\left(\\frac{z_2}{z_1}\\right)^2 = n^2\\ne\\infty\n",
    "    \\end{equation}\n",
    "    Note that the above equation follows from equations (2a,b).\n"
   ]
  },
  {
   "cell_type": "markdown",
   "id": "78ad8a6f",
   "metadata": {},
   "source": [
    "Via equations (2) and the three assumption of an ideal transformer,  \n",
    "\n",
    "$$ z_1\\phi_1 = z_1\\phi = \\frac{z_1^2i_1 \\pm z_1z_2i_2}{R_m} = L_1i_1 \\pm \\sqrt{L_1L_2}i_2$$\n",
    "\n",
    "and  \n",
    "\n",
    "$$ z_2\\phi_2 = z_2\\phi= \\frac{z_2^2i_2 \\pm z_1z_2i_1}{R_m} = L_2i_2 \\pm \\sqrt{L_1L_2}i_1$$"
   ]
  },
  {
   "cell_type": "markdown",
   "id": "48db7fde",
   "metadata": {},
   "source": [
    "Via the above two equations and equivalence principle,  \n",
    "\n",
    "$$ \\frac{L_1i_1 \\pm \\sqrt{L_1L_2}i_2}{z_1^2i_1 \\pm z_1z_2i_2} = \\frac{L_2i_2 \\pm \\sqrt{L_1L_2}i_1}{z_2^2i_2 \\pm z_1z_2i_1}$$"
   ]
  },
  {
   "cell_type": "markdown",
   "id": "d99336f3",
   "metadata": {},
   "source": [
    "$$ \\frac{L_1i_1 \\pm \\sqrt{L_1L_2}i_2}{z_1} = \\frac{L_2i_2 \\pm \\sqrt{L_1L_2}i_1}{z_2} $$"
   ]
  },
  {
   "cell_type": "markdown",
   "id": "83c97610",
   "metadata": {},
   "source": [
    "Which implies that:  \n",
    "\n",
    "$$ \\frac{z_2}{z_1}\\left(i_1\\pm \\sqrt{\\frac{L_2}{L_1}}\\,i_2 \\right) = \\frac{L_2}{L_1}\\,i_2 \\pm \\sqrt{\\frac{L_2}{L_1}}\\,i_1$$"
   ]
  },
  {
   "cell_type": "markdown",
   "id": "8d3b3d15",
   "metadata": {},
   "source": [
    "$$ \\frac{z_2}{z_1}\\,\\frac{i_1\\sqrt{L_1}\\pm i_2\\sqrt{L_2}}{\\sqrt{L_1}} = \\frac{L_2i_2 \\pm \\sqrt{L_1L_2}i_1}{L_1}$$"
   ]
  },
  {
   "cell_type": "markdown",
   "id": "130b1c51",
   "metadata": {},
   "source": [
    "$$ \\frac{z_2}{z_1} = \\frac{L_2i_2 \\pm i_1\\sqrt{L_1L_2}}{L_1i_1 \\pm i_2\\sqrt{L_1L_2}}$$"
   ]
  },
  {
   "cell_type": "markdown",
   "id": "6a357a5f",
   "metadata": {},
   "source": [
    "Squaring both sides of the above equations gives:  \n",
    "\n",
    "$$ \\left(\\frac{z_2}{z_1}\\right)^2 = \\frac{(L_2i_2)^2 \\pm 2i_1i_2L_2\\sqrt{L_1L_2} + i_1^2L_1L_2}{(L_1i_1)^2 \\pm 2i_1i_2L_1\\sqrt{L_1L_2} + i_2^2L_1L_2}$$"
   ]
  },
  {
   "cell_type": "markdown",
   "id": "153cdff3",
   "metadata": {},
   "source": [
    "$$ = \\frac{L_2}{L_1}\\,\\frac{L_2i_2^2 \\pm 2i_1i_2M + i_1^2L_1}{L_1i_1^2 \\pm 2i_1i_2M + i_2^2L_2} = \\frac{L_2}{L_1}$$"
   ]
  },
  {
   "cell_type": "markdown",
   "id": "a39d62d9",
   "metadata": {},
   "source": [
    "Q.E.D."
   ]
  },
  {
   "cell_type": "markdown",
   "id": "abb66889",
   "metadata": {},
   "source": [
    "An ideal transformer electric analog is presented in Fig. 4.7.8.  \n",
    "\n",
    "![Fig-4.7.8](Figures/Fig-4.7.8.png)"
   ]
  },
  {
   "cell_type": "markdown",
   "id": "42d34a9c",
   "metadata": {},
   "source": [
    "Whereas windings are resistanceless (assumption 1) and same flux flows through both coils\n",
    "(assumption 2), therefore their voltages are:  \n",
    "\n",
    "\\begin{equation}\\tag{11}\n",
    "    u_1 = z_1\\,\\frac{\\mathrm{d}\\phi}{\\mathrm{d}t} \\quad\\quad\\text{and}\\quad\\quad u_2 = z_2\\,\\frac{\\mathrm{d}\\phi}{\\mathrm{d}t}\n",
    "\\end{equation}"
   ]
  },
  {
   "cell_type": "markdown",
   "id": "bbd454ab",
   "metadata": {},
   "source": [
    "As the core magnetic resistance (voltage) is zero (assumption 3), then the currents are related\n",
    "by the following KVL equation:  \n",
    "\n",
    "\\begin{equation}\\tag{12}\n",
    "     i_1z_1 + i_2z_2 = R_m\\phi = u_m = 0\n",
    "\\end{equation}"
   ]
  },
  {
   "cell_type": "markdown",
   "id": "95b9b4c0",
   "metadata": {},
   "source": [
    "Via equations (11) amd (12), secondary-to-primary current and voltage ratios are:  \n",
    "\n",
    "\\begin{equation}\\tag{13}\n",
    "    \\text{a: }\\;\\frac{u_2}{u_1} = \\frac{z_2}{z_1} = n \\quad\\quad\\text{and}\\quad\\quad \\text{b: }\\;\\frac{i_2}{i_1} = -\\frac{z_1}{z_2} = -\\frac{1}{n}\n",
    "\\end{equation}"
   ]
  },
  {
   "cell_type": "markdown",
   "id": "196c0783",
   "metadata": {},
   "source": [
    "where,  \n",
    "\n",
    "\\begin{equation}\\tag{14}\n",
    "    n = \\frac{z_2}{z_1}\n",
    "\\end{equation}"
   ]
  },
  {
   "cell_type": "markdown",
   "id": "21bab609",
   "metadata": {},
   "source": [
    "is the only parameter that characterizes an ideal transformer, so called **turns ratio**. Its value\n",
    "defines the transformer character:  \n",
    "\n",
    "* $n>1$:  step-up transformer.\n",
    "* $n<1$:  step-down transformer.\n",
    "* $n=1$:  isolating transformer."
   ]
  },
  {
   "cell_type": "markdown",
   "id": "94d4c4af",
   "metadata": {},
   "source": [
    "It is worth to observe, that an ideal transformer secondary-to-primary current and voltage\n",
    "ratios are fixed, independent of load and frequency. An ideal transformer phasor equations are:  \n",
    "\n",
    "\\begin{equation}\\tag{15}\n",
    "    \\text{a: }\\;U_2(j\\omega) = n\\,U_1(j\\omega)\\quad\\quad\\text{and}\\quad\\quad\\text{b: }\\;I_2(j\\omega) = -\\frac{1}{n}\\,I_1(j\\omega)\n",
    "\\end{equation}"
   ]
  },
  {
   "cell_type": "markdown",
   "id": "f179c6b1",
   "metadata": {},
   "source": [
    "The circuit symbol for an ideal transformer is similar to that for nonideal transformer (Fig.\n",
    "4.6.6) except that the turns ratio is specified rather than inductances (all three are infinitely\n",
    "large) and pair of parallel lines is drawn. An ideal transformer with primary source and\n",
    "secondary load is presented in Fig. 4.7.9.  \n",
    "\n",
    "![Fig-4.7.9](Figures/Fig-4.7.9.png)"
   ]
  },
  {
   "cell_type": "markdown",
   "id": "9acec0b5",
   "metadata": {},
   "source": [
    "$$ U_2(j\\omega) = -Z_l(j\\omega)I_2(j\\omega) = Z_l(j\\omega)I_1(j\\omega)\\,\\frac{1}{n}$$"
   ]
  },
  {
   "cell_type": "markdown",
   "id": "5d4e9e65",
   "metadata": {},
   "source": [
    "$$ n\\,U_1(j\\omega) = Z_l(j\\omega)I_1(j\\omega)\\,\\frac{1}{n}$$"
   ]
  },
  {
   "cell_type": "markdown",
   "id": "bc2cc9ac",
   "metadata": {},
   "source": [
    "$$ Z_1(j\\omega) = \\frac{U_1(j\\omega)}{I_1(j\\omega)}$$"
   ]
  },
  {
   "cell_type": "markdown",
   "id": "537baa54",
   "metadata": {},
   "source": [
    "Via the above two equations, impedance looking into the primary port is:  \n",
    "\n",
    "\\begin{equation}\\tag{16}\n",
    "    Z_1(j\\omega) = Z_l(j\\omega)\\,\\frac{1}{n^2}\n",
    "\\end{equation}"
   ]
  },
  {
   "cell_type": "markdown",
   "id": "4585398c",
   "metadata": {},
   "source": [
    "Thus, an ideal transformer together with its secondary load $Z_l(j\\omega)$ is equivalent to an\n",
    "impedance of $Z_1(j\\omega)$ reflected into the primary circuit. Then, apart of previously\n",
    "discussed uses to isolate two circuits and step-up or step down a voltage level, an ideal\n",
    "transformer can be used to impedance scale a load such that maximum power transfer\n",
    "condition is achieved. The latter use will be illustrated in the next example."
   ]
  },
  {
   "cell_type": "markdown",
   "id": "6f10d071",
   "metadata": {},
   "source": [
    "### Example 4.7.3\n",
    "An audio amplifier produces the Thevenin equivalent voltage phasor $E_\\mathrm{o}(j\\omega)$ through an impedance (resistance) of $Z_\\mathrm{t}(j\\omega) = R_\\mathrm{t}=72\\Omega$.  The produced power is to be delivered to a load speaker with an impedance (resistance) of $Z_l(j\\omega)=R_l=8\\Omega$ through an ideal transformer.  Determination of the turns ratio, denoted as '$n$', to maximize the power supplied by the source (or, the power absorbed by the speaker) is the task.  The amplifier-transformer-speaker circuit is presented in figure 4.7.9.  \n",
    "\n",
    "For the maximum power transfer, the load (speaker) impedance $Z_l(j\\omega)$ seen by the source (i.e. the impedance reflected into the primary circuit of the amplifier, denoted as '$Z_1(j\\omega)$') should be equal to the complex conjugate of the source impedance, which is purely real or resistive;  $Z_\\mathrm{t}(j\\omega) = R_\\mathrm{t} = 72\\Omega$.  Thus, for the maximum power supplied to the speaker from the amplifier,  "
   ]
  },
  {
   "cell_type": "markdown",
   "id": "0ce69540",
   "metadata": {},
   "source": [
    "\\begin{equation}\\tag{17}\n",
    "\tZ_1(j\\omega) = \\frac{1}{n^2}\\,R_l = R_\\mathrm{t}\\quad\\implies\\quad n = \\sqrt{\\frac{R_l}{R_\\mathrm{t}}} = \\frac{1}{3}\n",
    "\\end{equation}"
   ]
  },
  {
   "cell_type": "code",
   "execution_count": 13,
   "id": "e2b3f5dc",
   "metadata": {},
   "outputs": [
    {
     "data": {
      "text/plain": [
       "9.0"
      ]
     },
     "execution_count": 13,
     "metadata": {},
     "output_type": "execute_result"
    }
   ],
   "source": [
    "72/8"
   ]
  },
  {
   "cell_type": "markdown",
   "id": "e6d45431",
   "metadata": {},
   "source": [
    "Which means that a $1\\!:\\!3$ step-down transformer should be used to impedance match the source to the give load (the speaker, in this case)."
   ]
  },
  {
   "cell_type": "markdown",
   "id": "fc11295b",
   "metadata": {},
   "source": [
    "In some practical applications, transformer is replaced by an **autotransformer**.\n",
    "Autotransformer is built of a single winding with the **tap point**. Then, it can be considered as\n",
    "two coupled coils connected in series. Primary circuit is connected between the tap point and\n",
    "one terminal of the winding, secondary circuit is connected to winding terminals, as presented\n",
    "in Fig. 4.7.10a. Same effect can be obtained by series connection of two-winding transformer\n",
    "coils, as presented in Fig. 4.7.10b.  \n",
    "\n",
    "![Fig-4.7.10a](Figures/Fig-4.7.10a.png)\n",
    "\n",
    "![Fig-4.7.10b](Figures/Fig-4.7.10b.png)"
   ]
  },
  {
   "cell_type": "markdown",
   "id": "be1cb154",
   "metadata": {},
   "source": [
    "Via equation (12) and the fact that both $I_1(j\\omega)$ and $I_2(j\\omega)$ flow through $z_1$,  \n",
    "\n",
    "\\begin{equation}\\tag{3.3}\n",
    "    z_1(i_1 + i_2) = -z_2i_2\n",
    "\\end{equation}"
   ]
  },
  {
   "cell_type": "markdown",
   "id": "41af1378",
   "metadata": {},
   "source": [
    "$$ i_1 = -ni_2 - i_2 = -i_2(n+1) \\quad\\implies\\quad I_1(j\\omega) = -I_2(j\\omega)(n+1)$$"
   ]
  },
  {
   "cell_type": "markdown",
   "id": "415b42ea",
   "metadata": {},
   "source": [
    "And, via equation (2a,b), the assumptions that an ideal (auto)transformer satisfies, and the fact that both $i_1$ and $i_2$ flow through $z_1$,  \n",
    "\n",
    "\n",
    "$$ z_1\\phi_1 = z_1\\phi = z_1\\phi_{11} \\pm z_1\\phi_{12} = (i_1+i_2)\\,\\frac{z_1^2}{R_m} \\pm i_2z_1\\,\\frac{z_2}{R_m} = L_1(i_1+i_2) \\pm Mi_2$$"
   ]
  },
  {
   "cell_type": "markdown",
   "id": "d6bc1c11",
   "metadata": {},
   "source": [
    "\\begin{equation}\\tag{3.1}\n",
    "    z_1\\phi_1 = z_1\\phi= \\frac{(i_1+i_2)z_1^2 \\pm i_2z_1z_2}{R_m}\n",
    "\\end{equation}"
   ]
  },
  {
   "cell_type": "markdown",
   "id": "af58ea96",
   "metadata": {},
   "source": [
    "$$ z_2\\phi_2 = z_2\\phi_{22}\\pm z_2\\phi_{21} = i_2\\,\\frac{z_2^2}{R_m} \\pm (i_1+i_2)z_2\\,\\frac{z_1}{R_m} = L_2i_2 \\pm M(i_1+i_2)$$"
   ]
  },
  {
   "cell_type": "markdown",
   "id": "1eaf258c",
   "metadata": {},
   "source": [
    "\\begin{equation}\\tag{3.2}\n",
    "    z_2\\phi_2 = z_2\\phi=\\frac{i_2z_1^2 \\pm (i_1+i_2)z_1z_2}{R_m}\n",
    "\\end{equation}"
   ]
  },
  {
   "cell_type": "markdown",
   "id": "b6fcef09",
   "metadata": {},
   "source": [
    "Differentiating throughout equations (3.1) and (3.2) with respect to time gives:  \n",
    "\n",
    "\\begin{equation}\\tag{3.1a}\n",
    "    u_1 = z_1\\,\\frac{\\mathrm{d}\\phi}{\\mathrm{d}t} \n",
    "\\end{equation}"
   ]
  },
  {
   "cell_type": "markdown",
   "id": "97f3c082",
   "metadata": {},
   "source": [
    "\\begin{equation}\\tag{3.2a}\n",
    "    u_2 = z_2\\,\\frac{\\mathrm{d}\\phi}{\\mathrm{d}t} + u_1\n",
    "\\end{equation}"
   ]
  },
  {
   "cell_type": "markdown",
   "id": "8afffdf2",
   "metadata": {},
   "source": [
    "Via equations (3.2a) and (3.1a) and equivalence principle,  \n",
    "\n",
    "$$ u_2 = u_1n + u_1 = u_1(n+1) \\quad\\implies\\quad U_2(j\\omega) = U_1(j\\omega)(n+1)$$"
   ]
  },
  {
   "cell_type": "markdown",
   "id": "befbb950",
   "metadata": {},
   "source": [
    "Thus, the turns ratio is:  \n",
    "\n",
    "$$ n_a = \\frac{z_2}{z_1} + 1 = \\frac{z_2 + z_1}{z_1}$$"
   ]
  },
  {
   "cell_type": "markdown",
   "id": "cff58f42",
   "metadata": {},
   "source": [
    "The impedance looking into the primary port, denoted as '$Z_1(j\\omega)$', is given by:  \n",
    "\n",
    "$$ Z_1(j\\omega) = \\frac{U_1(j\\omega)}{I_1(j\\omega)} \\quad\\quad\\text{and}\\quad\\quad U_1(j\\omega) = \\frac{U_2(j\\omega)}{n+1}$$"
   ]
  },
  {
   "cell_type": "markdown",
   "id": "f41bf155",
   "metadata": {},
   "source": [
    "and,  \n",
    "\n",
    "$$ U_2(j\\omega) = -Z_l(j\\omega)I_2(j\\omega) \\quad\\implies\\quad U_2(j\\omega) = Z_l(j\\omega)I_1(j\\omega)\\,\\frac{1}{n+1}$$"
   ]
  },
  {
   "cell_type": "markdown",
   "id": "5dcec0cb",
   "metadata": {},
   "source": [
    "Finally,  \n",
    "\n",
    "$$ Z_1(j\\omega) = \\frac{Z_l(j\\omega)}{(n+1)^2}$$"
   ]
  },
  {
   "cell_type": "markdown",
   "id": "83ed6830",
   "metadata": {},
   "source": [
    "It should be emphasized, that an autotransformer couples primary and secondary circuit both\n",
    "electrically and magnetically (no electrical isolation between circuits)."
   ]
  },
  {
   "cell_type": "markdown",
   "id": "502aec1d",
   "metadata": {},
   "source": [
    "## Practical Iron-Core Transformer\n",
    "\n",
    "In a practical iron-core transformer all three nonidealities: leakage fluxes, winding losses and\n",
    "nonideality of magnetic material have to be taken into account. One model of a practical\n",
    "transformer has been already discussed. The other, commonly used model consists of an ideal\n",
    "transformer supplemented by elements representing nonidealities. Leakage fluxes and\n",
    "winding losses are taken into account by series connection of the leakage inductance $L_{l1}$ ( $L_{l2}$ ) and winding resistance $R_1$ ($R_2$ ) in series with the primary (secondary) winding of an ideal transformer. Nonideality or practicality of a magnetic material (non-infinite inductancesMLL ,, 21 ) is taken into account by parallel connection of inductance $L_m$ (magnetization inductance of a core) with the primary winding. The obtained practical transformer circuit is presented in Fig. 4.7.11.  \n",
    "\n",
    "![Fig-4.7.11](Figures/Fig-4.7.11.png)"
   ]
  },
  {
   "cell_type": "markdown",
   "id": "a124e574",
   "metadata": {},
   "source": [
    "In the model *without* the supplemental coils representing nonidealities (practicalities), via differentiating throughout equations (2a,b) with respect to time,  \n",
    "\n",
    "$$ u_1 = i_1'z_1^2\\,\\left(\\frac{1}{R_{l1}} + \\frac{1}{R_m}\\right) + i_2'z_1\\,\\frac{z_2}{R_m} + R_1i_1$$  "
   ]
  },
  {
   "cell_type": "markdown",
   "id": "d363eb56",
   "metadata": {},
   "source": [
    "\\begin{equation}\\tag{M3a}\n",
    "    = i_1'z_1^2\\,\\frac{R_m + R_{l1}}{R_{l1}R_m} + i_2'z_1\\,\\frac{z_2}{R_m} + R_1i_1\n",
    "\\end{equation}"
   ]
  },
  {
   "cell_type": "markdown",
   "id": "acc2a946",
   "metadata": {},
   "source": [
    "and\n",
    "\n",
    " $$u_2 = i_2'z_2^2\\,\\left(\\frac{1}{R_{l2}} + \\frac{1}{R_m}\\right) + i_1'z_2\\,\\frac{z_1}{R_m} + R_2i_2$$"
   ]
  },
  {
   "cell_type": "markdown",
   "id": "3fd12add",
   "metadata": {},
   "source": [
    "\\begin{equation}\\tag{M4a}\n",
    "    = i_2'z_2^2\\,\\frac{R_m + R_{l2}}{R_{l2}R_m} + i_1'z_2\\,\\frac{z_1}{R_m} + R_2i_2\n",
    "\\end{equation}"
   ]
  },
  {
   "cell_type": "markdown",
   "id": "52f3b468",
   "metadata": {},
   "source": [
    "In the frequency domain:  \n",
    "\n",
    "\\begin{equation}\\tag{M3b}\n",
    "    U_1(j\\omega) = j\\omega L_1I_1(j\\omega) + j\\omega MI_2(j\\omega) + R_1I_1(j\\omega)\n",
    "\\end{equation}"
   ]
  },
  {
   "cell_type": "markdown",
   "id": "69631c43",
   "metadata": {},
   "source": [
    "and,  \n",
    "\n",
    "\\begin{equation}\\tag{M4b}\n",
    "    U_2(j\\omega) = j\\omega L_2I_2(j\\omega) + j\\omega MI_1(j\\omega) + R_2I_2(j\\omega)\n",
    "\\end{equation}"
   ]
  },
  {
   "cell_type": "markdown",
   "id": "aa8b24ed",
   "metadata": {},
   "source": [
    "where,  \n",
    "\n",
    "\\begin{equation}\\tag{M5}\n",
    "    \\text{a: }\\;L_1 = z_1^2\\,\\frac{R_m+R_{l1}}{R_{l1}R_m}\\quad\\quad\\text{b: }\\;L_2 = z_2^2\\frac{R_m+R_{l2}}{R_{l2}R_m}\\quad\\quad\\text{c: }\\;M = \\frac{z_1z_2}{R_m}\n",
    "\\end{equation}"
   ]
  },
  {
   "cell_type": "markdown",
   "id": "c91cdcb3",
   "metadata": {},
   "source": [
    "In the model *with* the supplemental coils, via KVL, element equations, and differentiating throughout equations (2a,b) with respect to time,  \n",
    "\n",
    "\\begin{equation}\\tag{M6}\n",
    "    \\text{a: }\\;u_1 = R_1i_1 + L_{l1}i_1' + L_mi_{1a}' \\quad\\quad\\text{and}\\quad\\quad \\text{b: }\\;L_mi_{1a}' = u_1^* = L_1i_{1b}' + Mi_2' = z_1\\phi'\n",
    "\\end{equation}"
   ]
  },
  {
   "cell_type": "markdown",
   "id": "14befb36",
   "metadata": {},
   "source": [
    "\\begin{equation}\\tag{M7}\n",
    "    \\text{a: }\\;u_2 = R_2i_2 + L_{l2}i_2' + L_2i_2' + Mi_{1b}' \\quad\\quad\\text{and}\\quad\\quad \\text{b: }\\;u_2^* = z_2\\phi' = L_2i_2' + M_{1b}'\n",
    "\\end{equation}"
   ]
  },
  {
   "cell_type": "markdown",
   "id": "22c38459",
   "metadata": {},
   "source": [
    "Via equations (M6b) and (M7b) and equivalence principle,  \n",
    "\n",
    "\\begin{equation}\\tag{M13}\n",
    "    \\frac{u_1^*}{z_1} = \\frac{u_2^*}{z_2}\n",
    "\\end{equation}"
   ]
  },
  {
   "cell_type": "markdown",
   "id": "bc0b21b2",
   "metadata": {},
   "source": [
    "\\begin{equation}\\tag{M8}\n",
    "    \\text{a: }\\;u_1 = R_1i_1 + L_{l1}i_1' + u_1^* \\quad\\quad\\text{and}\\quad\\quad \\text{b: }\\;u_2 = R_2i_2+ L_{l2}i_2' + nu_1^*\n",
    "\\end{equation}"
   ]
  },
  {
   "cell_type": "markdown",
   "id": "9b893f0b",
   "metadata": {},
   "source": [
    "Via KCL,  $i_1 = i_{1a} + i_{1b}$.  \n",
    "\n",
    "$$ L_mi_{1a}' = L_1\\big(i_1' - i_{1a}'\\big) +Mi_2'$$"
   ]
  },
  {
   "cell_type": "markdown",
   "id": "281cae61",
   "metadata": {},
   "source": [
    "$$ i_{1a}'(L_m + L_1) = L_1i_1' + Mi_2' \\quad\\implies\\quad i_{1a}' = \\frac{L_1i_1' + Mi_2'}{L_m + L_1}$$"
   ]
  },
  {
   "cell_type": "markdown",
   "id": "734160b2",
   "metadata": {},
   "source": [
    "\\begin{equation}\\tag{M9}\n",
    "    u_1^* = L_m\\,\\frac{L_1i_1' + Mi_2'}{L_m + L_1}\n",
    "\\end{equation}"
   ]
  },
  {
   "cell_type": "markdown",
   "id": "eae5b618",
   "metadata": {},
   "source": [
    "Via equations (M9) and (M8a,b),  \n",
    "\n",
    "$$ u_1 = R_1i_1 + L_{l1}i_1' + L_m\\,\\frac{L_1i_1' + Mi_2'}{L_m + L_1} \\quad\\quad \\text{and}\\quad\\quad u_2 = R_2i_2 + L_{l2}i_2' + nL_m\\,\\frac{L_1i_1' + Mi_2'}{L_m + L_1}$$"
   ]
  },
  {
   "cell_type": "markdown",
   "id": "da1dc08f",
   "metadata": {},
   "source": [
    "Recall that, via equation (2a) and the assumptions that an ideal transformer makes,  \n",
    "\n",
    "$$ L_1 = \\frac{z_1^2}{R_m} \\quad\\quad\\text{and}\\quad\\quad M = \\frac{z_1z_2}{R_m}$$"
   ]
  },
  {
   "cell_type": "markdown",
   "id": "d206b0ad",
   "metadata": {},
   "source": [
    "Via the above two equations and equivalence principle,  \n",
    "\n",
    "$$ \\frac{z_1^2}{L_1} = \\frac{z_1z_2}{M} \\quad\\implies\\quad M = \\frac{L_1z_2}{z_1} = L_1n$$"
   ]
  },
  {
   "cell_type": "markdown",
   "id": "f531a04b",
   "metadata": {},
   "source": [
    "Thus,  \n",
    "\n",
    "\\begin{equation}\\tag{M10}\n",
    "    \\text{a: }\\;u_1 = R_1i_1 + L_{l1}i_1' + L_mL_1\\,\\frac{i_1' + ni_2'}{L_m + L_1} \\quad\\quad\\text{and}\\quad\\quad \\text{b: }\\;u_2 = R_2i_2 + L_{l2}i_2' + nL_mL_1\\,\\frac{i_1' + ni_2'}{L_m+L_1}\n",
    "\\end{equation}"
   ]
  },
  {
   "cell_type": "markdown",
   "id": "ae0e390f",
   "metadata": {},
   "source": [
    "Via the above two equations, equation (2a), and the assumptions that an ideal transformer satisfies,  \n",
    "\n",
    "\\begin{equation}\\tag{M11}\n",
    "    \\text{a: }\\;u_1 = R_1i_1 + L_{l1}i_1' + L_m\\big(i_1' + ni_2'\\big) \\quad\\quad\\text{and}\\quad\\quad \\text{b: }\\; u_2 = R_2i_2 + L_{l2}i_2' + nL_m\\big(i_1' + ni_2'\\big)\n",
    "\\end{equation}"
   ]
  },
  {
   "cell_type": "markdown",
   "id": "7732ba99",
   "metadata": {},
   "source": [
    "Now, considering *both* models, via the above two equations and equations (M3a) and (M4a),  \n",
    "\n",
    "$$ L_{l1}i_1' + L_m\\big(i_1' + ni_2'\\big) \\cong i_1'z_1^2\\,\\left(\\frac{1}{R_{l1}} + \\frac{1}{R_m}\\right) + i_2'z_1\\,\\frac{z_2}{R_m}$$"
   ]
  },
  {
   "cell_type": "markdown",
   "id": "ee238030",
   "metadata": {},
   "source": [
    "$$ L_{l1}i_1' \\;\\hat{=}\\; \\frac{i_1'z_1^2}{R_{l1}} \\quad\\implies\\quad L_{l1} = \\frac{z_1^2}{R_{l1}} \\quad\\quad\\text{and}\\quad\\quad L_mi_1' \\;\\hat{=}\\; \\frac{i_1' z_1^2}{R_m} \\quad\\implies\\quad L_m = \\frac{z_1^2}{R_m}$$"
   ]
  },
  {
   "cell_type": "markdown",
   "id": "ca3c1757",
   "metadata": {},
   "source": [
    "Via equivalence principle,  \n",
    "\n",
    "$$ L_{l1}R_{l1} = L_mR_m$$"
   ]
  },
  {
   "cell_type": "markdown",
   "id": "212b3d56",
   "metadata": {},
   "source": [
    "$$ nL_mi_2' \\;\\hat{=}\\; i_2'\\,\\frac{z_1z_2}{R_m}\\quad\\implies\\quad nL_m = \\frac{z_1z_2}{R_m}$$"
   ]
  },
  {
   "cell_type": "markdown",
   "id": "54a662a9",
   "metadata": {},
   "source": [
    "$$ L_{l2}i_2' + nL_m\\big(i_1' + ni_2'\\big)\\cong i_2'z_2^2\\,\\left(\\frac{1}{R_{l2}} + \\frac{1}{R_m}\\right) + i_1'z_2\\,\\frac{z_1}{R_m}$$"
   ]
  },
  {
   "cell_type": "markdown",
   "id": "505bcef0",
   "metadata": {},
   "source": [
    "$$ L_{l2} = \\frac{z_2^2}{R_{l2}} \\quad\\quad\\text{and}\\quad\\quad n^2L_m = \\frac{z_2^2}{R_m} \\quad\\quad\\text{and}\\quad\\quad nL_m = \\frac{z_1z_2}{R_m}$$"
   ]
  },
  {
   "cell_type": "markdown",
   "id": "9f00101d",
   "metadata": {},
   "source": [
    "Via the above three equations,  \n",
    "\n",
    "$$ L_{l2}R_{l2} = n^2L_mR_m$$"
   ]
  },
  {
   "cell_type": "markdown",
   "id": "e9fbcba6",
   "metadata": {},
   "source": [
    "Via differentiating throughout the equaton obtain by KCL and equation (M6b),  \n",
    "\n",
    "$$ i_{1b}' = i_1' - \\frac{L_1i_1' + Mi_2'}{L_m + L_1}$$"
   ]
  },
  {
   "cell_type": "markdown",
   "id": "52635b0c",
   "metadata": {},
   "source": [
    "And, via equations (2a,b) and equivalence principle,  \n",
    "\n",
    "$$ \\frac{L_2}{L_1} = \\frac{z_2^2}{z_1^2} = n^2 $$"
   ]
  },
  {
   "cell_type": "markdown",
   "id": "ba6835de",
   "metadata": {},
   "source": [
    "The series equivalent of the primary winding is:  \n",
    "\n",
    "$$ U_1(j\\omega) = I_1(j\\omega)\\big(R_1 + X(j\\omega)\\big) + j\\omega MI_2(j\\omega) \\quad\\text{where }\\; X(j\\omega) = j\\omega L_{l1} + X_1(j\\omega)$$"
   ]
  },
  {
   "cell_type": "markdown",
   "id": "f2058ce2",
   "metadata": {},
   "source": [
    "$$ B_1(j\\omega) = \\frac{1}{j\\omega L_m} + \\frac{1}{j \\omega L_1} = -j\\,\\frac{1}{\\omega L_m} \\quad\\implies\\quad X_1(j\\omega) = j\\omega L_m$$"
   ]
  },
  {
   "cell_type": "markdown",
   "id": "e55c76ec",
   "metadata": {},
   "source": [
    "\\begin{equation}\\tag{M13a}\n",
    "    U_1(j\\omega) = I_1(j\\omega)\\big(R_1 + j\\omega(L_{l1} + L_m)\\big) + j\\omega MI_2(j\\omega)\n",
    "\\end{equation}"
   ]
  },
  {
   "cell_type": "markdown",
   "id": "0797ac56",
   "metadata": {},
   "source": [
    "And, the secondary winding,  \n",
    "\n",
    "$$ U_2(j\\omega) = R_2I_2(j\\omega) + j\\omega L_{l2}I_2(j\\omega) + j\\omega L_2I_2(j\\omega) + j\\omega MI_1(j\\omega)$$"
   ]
  },
  {
   "cell_type": "markdown",
   "id": "7dafb61c",
   "metadata": {},
   "source": [
    "\\begin{equation}\\tag{M13b}\n",
    "    I_2(j\\omega) = \\frac{U_2(j\\omega) - j\\omega MI_1(j\\omega)}{R_2 + j\\omega(L_{l2} + L_2)}\n",
    "\\end{equation}"
   ]
  },
  {
   "cell_type": "markdown",
   "id": "1f1b9680",
   "metadata": {},
   "source": [
    "Via equations (M13a,b) and substitution,  \n",
    "\n",
    "$$ U_1(j\\omega) = I_1(j\\omega)\\big(R_1 + j\\omega(L_{l1}+L_m)\\big) + \\frac{j\\omega MU_2(j\\omega) + \\omega^2M^2I_1(j\\omega)}{R_2 + j\\omega(L_{l2} + L_2)}$$"
   ]
  },
  {
   "cell_type": "markdown",
   "id": "c6fb78a3",
   "metadata": {},
   "source": [
    "$$ = I_1(j\\omega)\\big(R_1 + j\\omega(L_{l1} + L_m)\\big) + \\omega M\\big(\\omega M I_1(j\\omega) + jU_2(j\\omega)\\big)\\,\\frac{R_2 - j\\omega(L_{l2}+L_2)}{R_2^2 + \\omega^2(L_{l2}+L_2)^2}$$"
   ]
  },
  {
   "cell_type": "markdown",
   "id": "9a92203f",
   "metadata": {},
   "source": [
    "$$ U_1(j\\omega) = I_1(j\\omega)\\big(R_1 + j\\omega(L_{l1} + L_m)\\big)$$"
   ]
  },
  {
   "cell_type": "markdown",
   "id": "423abc2f",
   "metadata": {},
   "source": [
    "\\begin{equation}\\tag{M14}\n",
    "    I_1(j\\omega) = \\frac{U_1(j\\omega)}{R_1 + j\\omega(L_{l1} +L_m)}\n",
    "\\end{equation}"
   ]
  },
  {
   "cell_type": "markdown",
   "id": "9ec1ebf8",
   "metadata": {},
   "source": [
    "Equations (M11a,b) in the frequency domain are:   \n",
    "\n",
    "\\begin{equation}\\tag{12a}\n",
    "    U_1(j\\omega) = R_1I_1(j\\omega) + j\\omega L_{l1}I_1(j\\omega) + j\\omega L_m\\big(I_1(j\\omega) + nI_2(j\\omega)\\big) \n",
    "\\end{equation}"
   ]
  },
  {
   "cell_type": "markdown",
   "id": "792ba937",
   "metadata": {},
   "source": [
    "\\begin{equation}\\tag{12b}\n",
    "    U_2(j\\omega) = R_2I_2(j\\omega) + j\\omega L_{l2}I_2(j\\omega) + j\\omega L_m n\\big(I_1(j\\omega) + nI_2(j\\omega)\\big)\n",
    "\\end{equation}"
   ]
  },
  {
   "cell_type": "markdown",
   "id": "ef560f10",
   "metadata": {},
   "source": [
    "$$ I_2(j\\omega) = \\frac{U_2(j\\omega) - j\\omega L_m n I_1(j\\omega)}{R_2 + j\\omega\\big(L_{l2} + L_m n^2\\big)}$$"
   ]
  },
  {
   "cell_type": "markdown",
   "id": "e1fd9cbe",
   "metadata": {},
   "source": [
    "Via the above equation and equation (12a) and substitution,  \n",
    "\n",
    "$$ U_1(j\\omega) = R_1I_1(j\\omega) + j\\omega L_{l1}I_1(j\\omega) + j\\omega L_m\\left(I_1(j\\omega) + \\frac{U_2(j\\omega) - j\\omega L_m n I_1(j\\omega)}{R_2 + j\\omega\\big(L_{l2} + L_m n^2\\big)}\\right)$$"
   ]
  },
  {
   "cell_type": "markdown",
   "id": "cbc0cae1",
   "metadata": {},
   "source": [
    "Multiplying throughout the above equation by the denominator of the identity of $I_2(j\\omega)$ gives:  \n",
    "\n",
    "$$\\Big(R_2 + j\\omega\\big(L_{l2} + L_m n^2\\big) \\Big)U_1(j\\omega) = I_1(j\\omega)\\Big( R_2 + j\\omega\\big(L_{l2} + L_m n^2\\big)\\Big)\\big(R_1 + j\\omega L_{l1}\\big) + j\\omega L_mI_1(j\\omega)\\Big(R_2 + j\\omega\\big(L_{l2} + L_m n^2\\big)\\Big) + j\\omega L_m\\big(U_2(j\\omega) - j\\omega L_mnI_1(j\\omega)\\big) $$"
   ]
  },
  {
   "cell_type": "markdown",
   "id": "3cee61cf",
   "metadata": {},
   "source": [
    "$$ I_1(j\\omega) = \\frac{\\Big(R_2 + j\\omega\\big(L_{l2} + L_m n^2\\big) \\Big)U_1(j\\omega) + j\\omega L_mU_2(j\\omega)  }{\\Big( R_2 + j\\omega\\big(L_{l2} + L_m n^2\\big)\\Big)\\big(R_1 + j\\omega L_{l1}\\big) + j\\omega L_m\\Big(R_2 + j\\omega\\big(L_{l2} + L_m n^2\\big)\\Big) + (\\omega L_m)^2n}$$"
   ]
  },
  {
   "cell_type": "markdown",
   "id": "1e3bcb73",
   "metadata": {},
   "source": [
    "$$ = \\frac{R_2U_1(j\\omega) + j\\omega\\Big(U_1(j\\omega)\\big(L_{l2} + L_mn^2\\big) + L_mU_2(j\\omega)\\Big)}{(\\omega L_m)^2n + R_1R_2 - \\omega^2L_{l1}\\big(L_{l2} + L_mn^2\\big) + j\\omega\\Big(L_{l1}R_2 + R_1\\big(L_{l2} + L_mn^2\\big) + L_mR_2\\Big) - \\omega^2L_m\\big(L_{l2} + L_mn^2\\big)}$$"
   ]
  },
  {
   "cell_type": "markdown",
   "id": "96b83407",
   "metadata": {},
   "source": [
    "The KVL equations that describe the circuit in figure 4.7.11 in the frequency domain are:  \n",
    "\n",
    "$$ U_1(j\\omega) = R_1I_1(j\\omega) + j\\omega L_{l1}I_1(j\\omega) + j\\omega L_mI_{1a}(j\\omega) $$"
   ]
  },
  {
   "cell_type": "markdown",
   "id": "4068c8ae",
   "metadata": {},
   "source": [
    "$$ U_2(j\\omega) = R_2I_2(j\\omega) + j\\omega L_{l2}I_2(j\\omega) + j\\omega nL_mI_{1a}(j\\omega)$$"
   ]
  },
  {
   "cell_type": "markdown",
   "id": "5bbc67ca",
   "metadata": {},
   "source": [
    "$$ j\\omega L_mI_{1a}(j\\omega) = j\\omega L_1I_{1b}(j\\omega) + j\\omega MI_2(j\\omega)$$"
   ]
  },
  {
   "cell_type": "markdown",
   "id": "fe20c110",
   "metadata": {},
   "source": [
    "To recap,  \n",
    "\n",
    "\\begin{equation}\\tag{M12}\n",
    "    \\text{a: }\\;L_{l1} = \\frac{z_1^2}{R_{l1}} \\quad\\quad \\text{b: }\\;L_{l2} = \\frac{z_2^2}{R_{l2}} \\quad\\quad \\text{c: }\\;L_m = \\frac{z_1^2}{R_m}\n",
    "\\end{equation}"
   ]
  }
 ],
 "metadata": {
  "kernelspec": {
   "display_name": "Python 3 (ipykernel)",
   "language": "python",
   "name": "python3"
  },
  "language_info": {
   "codemirror_mode": {
    "name": "ipython",
    "version": 3
   },
   "file_extension": ".py",
   "mimetype": "text/x-python",
   "name": "python",
   "nbconvert_exporter": "python",
   "pygments_lexer": "ipython3",
   "version": "3.10.6"
  }
 },
 "nbformat": 4,
 "nbformat_minor": 5
}
