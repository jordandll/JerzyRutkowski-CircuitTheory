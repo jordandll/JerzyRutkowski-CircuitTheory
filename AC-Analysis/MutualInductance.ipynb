{
 "cells": [
  {
   "cell_type": "markdown",
   "id": "2136ebdd",
   "metadata": {},
   "source": [
    "# Mutual Inductance and Transformers\n",
    "### *Chapter 4 Section 7* -- AC Steady State Analysis\n",
    "\n",
    "The previous analysis of a coil assumed that the only flux linking a coil was that due to its\n",
    "own current, and consequently, the only voltage induced was that due to this current. In this\n",
    "Chapter coupled coils and phenomenon of mutual inductance will be discussed. A two-port\n",
    "equations expressing voltages by currents, both in time-domain and frequency-domain, will\n",
    "be considered. Then, the most practical use of this phenomenon in transformers will be\n",
    "studied. Basic transformer built of practical coils will be considered at first, next an ideal\n",
    "transformer. Finally the ideal transformer based model of practical transformer will be\n",
    "described."
   ]
  },
  {
   "cell_type": "markdown",
   "id": "7b9fca49",
   "metadata": {},
   "source": [
    "## Mutual Inductance – Basic Transformer\n",
    "Consider two coupled coils, as shown in Fig. 4.7.1.  \n",
    "\n",
    "![Fig-4.7.1](Figures/Fig-4.7.1.png)"
   ]
  },
  {
   "cell_type": "markdown",
   "id": "eff1cc60",
   "metadata": {},
   "source": [
    "The current $i_1$ produces in coil 1 flux $\\phi_{11}$. Part of this flux threads coil 2, the remainder is coil 1's leakage flux. They are denoted '$\\phi_{21}$' and '$\\phi_{l1}$' respectively.  Similarly, $i_2$ produces in coil 2 flux $\\phi_{22}$ that is split into two fluxes, $\\phi_{12}$ and $\\phi_{l2}$.  \n",
    "\n",
    "\\begin{equation}\\tag{1a}\n",
    "\t\\phi_{11} = \\phi_{21} + \\phi_{l1}\n",
    "\\end{equation}\n",
    "\n",
    "\\begin{equation}\\tag{1b}\n",
    "\t\\phi_{22} = \\phi_{12} + \\phi_{l2}\n",
    "\\end{equation}"
   ]
  },
  {
   "cell_type": "markdown",
   "id": "80df2cbe",
   "metadata": {},
   "source": [
    "Electric analog of this magnetic circuit is presented in Fig. 4.7.2  \n",
    "\n",
    "![Fig-4.7.2](Figures/Fig-4.7.2.png)"
   ]
  },
  {
   "cell_type": "markdown",
   "id": "4996ceac",
   "metadata": {},
   "source": [
    "Via KCL,  \n",
    "\n",
    "\\begin{equation}\\tag{2.1}\n",
    "    \\text{a: }\\;\\phi_{11} + \\phi_{12} - \\phi_{l1} = \\phi \\quad\\quad\\text{and}\\quad\\quad \\text{b: }\\;\\phi = \\phi_{22} + \\phi_{21} - \\phi_{l2}\n",
    "\\end{equation}"
   ]
  },
  {
   "cell_type": "markdown",
   "id": "0a4b69a0",
   "metadata": {},
   "source": [
    "Via the above two equations and equivalance principle,  \n",
    "\n",
    "$$ \\phi_{11} + \\phi_{12} - \\phi_{l1} = \\phi_{22} + \\phi_{21} - \\phi_{l2}$$"
   ]
  },
  {
   "cell_type": "markdown",
   "id": "5e6b0f49",
   "metadata": {},
   "source": [
    "Via the above equation and equations (1a,b),  \n",
    "\n",
    "$$ \\phi_{21} + \\phi_{12} = \\phi_{12} + \\phi_{21}$$"
   ]
  },
  {
   "cell_type": "markdown",
   "id": "ccfb424b",
   "metadata": {},
   "source": [
    "The electric analog in figure 4.7.2 is thus consistent with equations (1a,b)."
   ]
  },
  {
   "cell_type": "markdown",
   "id": "c2a084ba",
   "metadata": {},
   "source": [
    "Via KVL and Ohm's Law,  \n",
    "\n",
    "\\begin{equation}\\tag{2.2}\n",
    "    \\text{a: }\\;U_{l1} = \\phi_{l1}R_{l1} = i_1z_1 \\quad\\quad \\text{b: }\\; U_m = R_m\\phi = i_1z_1 + i_2z_2 \\quad\\quad\\text{c: }\\; i_2z_2 = \\phi_{l2}R_{l2} = U_{l2}\n",
    "\\end{equation}"
   ]
  },
  {
   "cell_type": "markdown",
   "id": "fb4114a8",
   "metadata": {},
   "source": [
    "And, via equations (2.1a) and (1b), or equations (2.1b) and (1a),    \n",
    "\n",
    "\\begin{equation}\\tag{2.3}\n",
    "    \\phi = \\phi_{11} + \\phi_{22} - \\phi_{l1} - \\phi_{l2}\n",
    "\\end{equation}"
   ]
  },
  {
   "cell_type": "markdown",
   "id": "f6e0dc96",
   "metadata": {},
   "source": [
    "where $R_{l1}$ and $R_{l2}$ are the magnetic resistances of the leakages, and $R_m$ is a core magnetic resistance.  \n",
    "\n",
    "Superposition principle can be applied and a circuit of Fig. 4.7.2 can be split into two\n",
    "subcircuits, as presented in Fig. 4.7.2a.  \n",
    "\n",
    "![Fig-4.7.2a](Figures/Fig-4.7.2a.png)"
   ]
  },
  {
   "cell_type": "markdown",
   "id": "dca6e5ce",
   "metadata": {},
   "source": [
    "\\begin{equation}\\tag{2a.1}\n",
    "    i_1z_1 = \\sideset{_{1\\,}}{_m}U = R_m\\phi_{21} = R_{l1}\\phi_{l1}\n",
    "\\end{equation}"
   ]
  },
  {
   "cell_type": "markdown",
   "id": "a5bec4d4",
   "metadata": {},
   "source": [
    "\\begin{equation}\\tag{2a.2}\n",
    "    i_2z_2 = \\sideset{_{2\\,}}{_m}U = R_m\\phi_{12} = R_{l2}\\phi_{l2}\n",
    "\\end{equation}"
   ]
  },
  {
   "cell_type": "markdown",
   "id": "9248e0af",
   "metadata": {},
   "source": [
    "Via the above two equations and superposition principle,  \n",
    "\n",
    "$$ U_m = \\sideset{_{1\\,}}{_m}U + \\sideset{_{2\\,}}{_m}U$$"
   ]
  },
  {
   "cell_type": "markdown",
   "id": "b15ae2bc",
   "metadata": {},
   "source": [
    "The total flux threading coil 1 is the sum of two components:  \n",
    "\n",
    "\\begin{equation}\\tag{2a}\n",
    "\t\\phi_{t1} = z_1\\phi_1 = z_1\\phi_{11}\\pm z_1\\phi_{12} = z_1\\left(\\frac{i_1z_1}{R_{l1}} + \\frac{i_1z_1}{R_m}\\right) \\pm z_1\\frac{i_2z_2}{R_m} = L_1i_1 \\pm Mi_2\n",
    "\\end{equation}"
   ]
  },
  {
   "cell_type": "markdown",
   "id": "0a010885",
   "metadata": {},
   "source": [
    "The total flux threading coil 2 is the sum of two components:  \n",
    "\n",
    "\\begin{equation}\\tag{2b}\n",
    "\t\\phi_{t2} = z_2\\phi_2 = z_2\\phi_{22}\\pm z_2\\phi_{21} = z_2\\left(\\frac{i_2z_2}{R_{l2}} + \\frac{i_2z_2}{R_m}\\right) \\pm z_2\\frac{i_1z_1}{R_m} = L_2i_2 \\pm Mi_1\n",
    "\\end{equation}"
   ]
  },
  {
   "cell_type": "markdown",
   "id": "d9ee2c4d",
   "metadata": {},
   "source": [
    "The proof for equation (2a) is:  \n",
    "\n",
    "$$ \\phi_{t1} = z_1\\phi_1 \\quad\\quad\\text{where }\\; \\phi_1 = \\phi_{11} \\pm \\phi_{12}$$"
   ]
  },
  {
   "cell_type": "markdown",
   "id": "d512ed3b",
   "metadata": {},
   "source": [
    "Via equations (1a) and (2a.1),  \n",
    "\n",
    "$$ \\phi_{11} = \\phi_{21} + \\phi_{l1} = \\frac{i_1z_1}{R_m} + \\frac{i_1z_1}{R_{l1}}$$"
   ]
  },
  {
   "cell_type": "markdown",
   "id": "f70a2193",
   "metadata": {},
   "source": [
    "And, via equation (2a.2),  \n",
    "\n",
    "$$ \\phi_{12} = \\frac{i_2z_2}{R_m}$$"
   ]
  },
  {
   "cell_type": "markdown",
   "id": "cdd042c8",
   "metadata": {},
   "source": [
    "Via the above three equations,  \n",
    "\n",
    "$$ \\phi_{t1} = z_1\\left(\\frac{i_1z_1}{R_{l1}} + \\frac{i_1z_1}{R_m}\\right) \\pm z_1\\frac{i_2z_2}{R_m}$$"
   ]
  },
  {
   "cell_type": "markdown",
   "id": "4fc4dae1",
   "metadata": {},
   "source": [
    "Based on equation (2a),  \n",
    "\n",
    "\\begin{equation}\\tag{2a.3}\n",
    "    \\text{a: }\\;L_1 = z_1^2\\frac{R_m + R_{l1}}{R_{l1}R_m} \\quad\\quad\\text{and}\\quad\\quad \\text{b: }\\;M = \\frac{z_1z_2}{R_m}\n",
    "\\end{equation}"
   ]
  },
  {
   "cell_type": "markdown",
   "id": "f8bdc856",
   "metadata": {},
   "source": [
    "And, based on equation (2b),  \n",
    "\n",
    "\\begin{equation}\\tag{2a.3c}\n",
    "    L_2 = z_2^2\\frac{R_m + R_{l2}}{R_{l2}R_m}\n",
    "\\end{equation}"
   ]
  },
  {
   "cell_type": "markdown",
   "id": "1c402719",
   "metadata": {},
   "source": [
    "Constant of proportionality between one coil current and a flux that is produces in the coupled\n",
    "coil is called the **mutual inductance** $M$. This constant can be expressed by self inductances of individual coils.  \n",
    "\n",
    "\\begin{equation}\\tag{3}\n",
    "\tM = k\\sqrt{L_1L_2}\n",
    "\\end{equation}"
   ]
  },
  {
   "cell_type": "markdown",
   "id": "d2c1c274",
   "metadata": {},
   "source": [
    "where, $0\\le k \\le 1$ is the **coefficient of coupling**, a measure of the degree to which the flux\n",
    "produced by one coil threads another. If there is no coupling then, $k=0\\;\\implies\\;M=0$ . For\n",
    "tightly coupled coils, which is the most desirable situation, $k=1\\;\\implies\\;M=\\sqrt{L_1L_2}$. Via equation \n",
    "(2), two-port equations can be obtained.  \n",
    "\n",
    "\\begin{equation}\\tag{4a}\n",
    "    u_1 = \\frac{\\mathrm{d}\\phi_{t1}}{\\mathrm{d}t} = L_1i_1'(t)\\pm Mi_2'(t)\n",
    "\\end{equation}\n",
    "\n",
    "\\begin{equation}\\tag{4b}\n",
    "    u_2 = \\frac{\\mathrm{d}\\phi_{t2}}{\\mathrm{d}t} = L_2i_2'(t)\\pm Mi_1'(t)\n",
    "\\end{equation}"
   ]
  },
  {
   "cell_type": "markdown",
   "id": "dbbab6a3",
   "metadata": {},
   "source": [
    "The plus or minus is used because the fluxes produced by the coupled coils may point in the same or opposite direction.  In the case of the magnetic circuit shown in figure 4.7.1, the fluxes point in the same direction and thus the plus sign is used in the appropriate equations."
   ]
  },
  {
   "cell_type": "markdown",
   "id": "aeaa0fb3",
   "metadata": {},
   "source": [
    "Via equations (2a.3a,c),  \n",
    "\n",
    "$$ L_1L_2 = z_1^2z_2^2\\frac{R_m^2 + R_m(R_{l1} + R_{l2}) + R_{l1}R_{l2}}{R_{l1}R_{l2}R_m^2}$$"
   ]
  },
  {
   "cell_type": "markdown",
   "id": "3ec910b6",
   "metadata": {},
   "source": [
    "And, via the above equation and equations (2a.3b) and (3),  \n",
    "\n",
    "\\begin{equation}\\tag{2a.4}\n",
    "    k = \\sqrt{\\frac{R_{l1}R_{l2}}{(R_m+R_{l1})(R_m+R_{l2})}}\n",
    "\\end{equation}"
   ]
  },
  {
   "cell_type": "markdown",
   "id": "969e573e",
   "metadata": {},
   "source": [
    "### Dot convention\n",
    "Currents entering the dotted ends are creating additive fluxes. Dotted ends have a positive\n",
    "voltage at the same time.  \n",
    "\n",
    "A circuit symbol of coupled coils is presented in Fig. 4.7.3.  \n",
    "\n",
    "![Fig-4.7.3](Figures/Fig-4.7.3.png)"
   ]
  },
  {
   "cell_type": "markdown",
   "id": "5c1d2ded",
   "metadata": {},
   "source": [
    "Using the phasor notation, coupled coils equations are:  \n",
    "\n",
    "\\begin{equation}\\tag{5a}\n",
    "    U_1(j\\omega) = j\\omega L_1I_1(j\\omega) \\pm j\\omega MI_2(j\\omega)\n",
    "\\end{equation}"
   ]
  },
  {
   "cell_type": "markdown",
   "id": "2672d1f1",
   "metadata": {},
   "source": [
    "\\begin{equation}\\tag{5b}\n",
    "    U_2(j\\omega) = j\\omega L_2I_2(j\\omega)\\pm j\\omega MI_1(j\\omega)\n",
    "\\end{equation}"
   ]
  },
  {
   "cell_type": "markdown",
   "id": "06277cb0",
   "metadata": {},
   "source": [
    "#### Example 4.7.1\n",
    "Consider two practical coupled coils connected in series, as shown in Fig. 4.7.4. Find the\n",
    "circuit equivalent.  \n",
    "\n",
    "![Fig-4.7.4](Figures/Fig-4.7.4.svg)"
   ]
  },
  {
   "cell_type": "markdown",
   "id": "c64ca860",
   "metadata": {},
   "source": [
    "$$ U_1(j\\omega) = R_1I_1(j\\omega) + j\\omega L_1I_1(j\\omega) + j\\omega MI_2(j\\omega)$$"
   ]
  },
  {
   "cell_type": "markdown",
   "id": "88c02da3",
   "metadata": {},
   "source": [
    "$$ U_2(j\\omega) = R_I2(j\\omega) + j\\omega L_2I_2(j\\omega) + j\\omega MI_1(j\\omega)$$"
   ]
  },
  {
   "cell_type": "markdown",
   "id": "fe741398",
   "metadata": {},
   "source": [
    "Via the fact that $I(j\\omega) = I_1(j\\omega) = I_2(j\\omega)$, $U(j\\omega) = U_1(j\\omega)+U_2(j\\omega)$, and the above two equations,  \n",
    "\n",
    "\\begin{equation}\\tag{6a}\n",
    "    U(j\\omega) = I(j\\omega)\\big(R_1 + R_2 + j\\omega(L_1+L_2 + 2M)\\big)\n",
    "\\end{equation}"
   ]
  },
  {
   "cell_type": "markdown",
   "id": "c4bbc4bd",
   "metadata": {},
   "source": [
    "\\begin{equation}\\tag{6b}\n",
    "    U(j\\omega) = I(j\\omega)(R_s + j\\omega L_s)\n",
    "\\end{equation}"
   ]
  },
  {
   "cell_type": "markdown",
   "id": "012fb19d",
   "metadata": {},
   "source": [
    "Thus,  \n",
    "\n",
    "\\begin{equation}\\tag{7}\n",
    "    \\text{a: }\\;L_s = L_1+L_2+2M \\quad\\quad\\text{and}\\quad\\quad \\text{b: }\\;R_s = R_1+R_2\n",
    "\\end{equation}"
   ]
  }
 ],
 "metadata": {
  "kernelspec": {
   "display_name": "Python 3",
   "language": "python",
   "name": "python3"
  },
  "language_info": {
   "codemirror_mode": {
    "name": "ipython",
    "version": 3
   },
   "file_extension": ".py",
   "mimetype": "text/x-python",
   "name": "python",
   "nbconvert_exporter": "python",
   "pygments_lexer": "ipython3",
   "version": "3.8.10"
  }
 },
 "nbformat": 4,
 "nbformat_minor": 5
}
