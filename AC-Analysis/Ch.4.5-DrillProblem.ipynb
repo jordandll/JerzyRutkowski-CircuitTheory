{
 "cells": [
  {
   "cell_type": "markdown",
   "id": "3490f593",
   "metadata": {},
   "source": [
    "# Transfer Function in the Frequency Domain -- Frequency Response\n",
    "### *Chapter 4 Section 5* -- AC Steady State Analysis\n",
    "## Drill Problems"
   ]
  },
  {
   "cell_type": "markdown",
   "id": "4a0b7762",
   "metadata": {},
   "source": [
    "#### Problem 1\n",
    "1. Draw the amplitude response in logarithmic scale (Bode plot) for the transfer function\n",
    "$$ K(s) = \\frac{A+Bs}{C+Ds}$$\n",
    "    and the following combinations of its coefficients:\n",
    "    1. $A=0.1$, $B=0$, $C=1$, $D=10$; \n",
    "    2. $A=1$, $B=0.1$, $C=0$, $D=1$; \n",
    "    3. $A=0$, $B=10$, $C=1$, $D=10$.   "
   ]
  },
  {
   "cell_type": "markdown",
   "id": "cba38a6d",
   "metadata": {},
   "source": [
    "$$ K_\\mathrm{dB}(\\omega) = 20\\log\\Gamma + 10\\log\\big(1 + \\omega^2 T_{L1}^2\\big) - 10\\log\\big(1+\\omega^2 T_{M1}^2\\big)$$"
   ]
  },
  {
   "cell_type": "markdown",
   "id": "dcc3cd4b",
   "metadata": {},
   "source": [
    "where,  \n",
    "\n",
    "$$ \\Gamma = \\frac{A}{C}\\quad\\quad T_{L1} = \\frac{B}{A}\\quad\\quad T_{M1} = \\frac{D}{C}$$"
   ]
  },
  {
   "cell_type": "markdown",
   "id": "714b3c52",
   "metadata": {},
   "source": [
    "In the **case of A**:  \n",
    "\n",
    "$$ \\Gamma = 0.1 \\quad\\quad T_{L1} = 0\\quad\\quad T_{M1} = 10$$"
   ]
  },
  {
   "cell_type": "markdown",
   "id": "6eb6e201",
   "metadata": {},
   "source": [
    "Thus,  \n",
    "\n",
    "$$ K_\\mathrm{dB}(\\omega) = -20 - 10\\log\\big(1 + 100\\omega^2\\big)$$"
   ]
  },
  {
   "cell_type": "markdown",
   "id": "99a125e4",
   "metadata": {},
   "source": [
    "Thus cutoff frequency is:  \n",
    "\n",
    "$$ \\omega_\\mathrm{c} = \\frac{1}{T_{M1}} = 0.1\\,\\mathrm{rad}/\\mathrm{s}$$"
   ]
  },
  {
   "cell_type": "markdown",
   "id": "272ae834",
   "metadata": {},
   "source": [
    "The radian frequency $\\omega$ as a function of one interval on the domain of $K_\\mathrm{dB}$ at the logarithmic scale is given by:  \n",
    "\n",
    "$$ \\omega = \\omega(x) = 10^{x-2}\\omega_\\mathrm{c} = 10^{x-3}\\,\\mathrm{rad}/\\mathrm{s}$$"
   ]
  },
  {
   "cell_type": "markdown",
   "id": "4dc4a104",
   "metadata": {},
   "source": [
    "The Bode plot is given by $f(x)$, where,  \n",
    "\n",
    "$$ f(x) = -20 \\quad\\quad\\text{for }\\; \\omega \\le \\omega_\\mathrm{c}$$"
   ]
  },
  {
   "cell_type": "markdown",
   "id": "49c17bb1",
   "metadata": {},
   "source": [
    "Note that:  \n",
    "\n",
    "$$ \\omega \\le \\omega_\\mathrm{c} \\quad\\implies\\quad x-3 \\le -1 \\quad\\implies\\quad x \\le 2$$"
   ]
  },
  {
   "cell_type": "markdown",
   "id": "c0fe34ff",
   "metadata": {},
   "source": [
    "And,  \n",
    "\n",
    "$$ f(x) = -40 - 20\\log10^{x-3} = -40 - 20(x-3) = 20 - 20x \\quad\\quad\\text{for }\\;x\\ge 2$$"
   ]
  }
 ],
 "metadata": {
  "kernelspec": {
   "display_name": "Python 3",
   "language": "python",
   "name": "python3"
  },
  "language_info": {
   "codemirror_mode": {
    "name": "ipython",
    "version": 3
   },
   "file_extension": ".py",
   "mimetype": "text/x-python",
   "name": "python",
   "nbconvert_exporter": "python",
   "pygments_lexer": "ipython3",
   "version": "3.8.10"
  }
 },
 "nbformat": 4,
 "nbformat_minor": 5
}
