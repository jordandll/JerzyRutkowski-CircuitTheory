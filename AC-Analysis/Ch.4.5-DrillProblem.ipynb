{
 "cells": [
  {
   "cell_type": "markdown",
   "id": "28266d1a",
   "metadata": {},
   "source": [
    "# Transfer Function in the Frequency Domain -- Frequency Response\n",
    "### *Chapter 4 Section 5* -- AC Steady State Analysis"
   ]
  },
  {
   "cell_type": "markdown",
   "id": "1ee53981",
   "metadata": {},
   "source": [
    "## Drill Problems"
   ]
  },
  {
   "cell_type": "code",
   "execution_count": 1,
   "id": "094dbc66",
   "metadata": {},
   "outputs": [],
   "source": [
    "import numpy as np\n",
    "import matplotlib.pyplot as plt"
   ]
  },
  {
   "cell_type": "markdown",
   "id": "55576433",
   "metadata": {},
   "source": [
    "#### Problem 1\n",
    "1. Draw the amplitude response in logarithmic scale (Bode plot) for the transfer function\n",
    "$$ K(s) = \\frac{A+Bs}{C+Ds}$$\n",
    "    and the following combinations of its coefficients:\n",
    "    1. $A=0.1$, $B=0$, $C=1$, $D=10$; \n",
    "    2. $A=1$, $B=0.1$, $C=0$, $D=1$; \n",
    "    3. $A=0$, $B=10$, $C=1$, $D=10$.   "
   ]
  },
  {
   "cell_type": "markdown",
   "id": "09cf4377",
   "metadata": {},
   "source": [
    "$$ K_\\mathrm{dB}(\\omega) = 20\\log\\Gamma + 10\\log\\big(1 + \\omega^2 T_{L1}^2\\big) - 10\\log\\big(1+\\omega^2 T_{M1}^2\\big)$$"
   ]
  },
  {
   "cell_type": "markdown",
   "id": "4a666edd",
   "metadata": {},
   "source": [
    "where,  \n",
    "\n",
    "$$ \\Gamma = \\frac{A}{C}\\quad\\quad T_{L1} = \\frac{B}{A}\\quad\\quad T_{M1} = \\frac{D}{C}$$"
   ]
  },
  {
   "cell_type": "markdown",
   "id": "8d3eac00",
   "metadata": {},
   "source": [
    "In the **case of A**:  \n",
    "\n",
    "$$ \\Gamma = 0.1 \\quad\\quad T_{L1} = 0\\quad\\quad T_{M1} = 10$$"
   ]
  },
  {
   "cell_type": "markdown",
   "id": "8c6bf648",
   "metadata": {},
   "source": [
    "Thus,  \n",
    "\n",
    "$$ K_\\mathrm{dB}(\\omega) = -20 - 10\\log\\big(1 + 100\\omega^2\\big)$$"
   ]
  },
  {
   "cell_type": "markdown",
   "id": "e38b7e26",
   "metadata": {},
   "source": [
    "Thus cutoff frequency is:  \n",
    "\n",
    "$$ \\omega_\\mathrm{c} = \\frac{1}{T_{M1}} = 0.1\\,\\mathrm{rad}/\\mathrm{s}$$"
   ]
  },
  {
   "cell_type": "markdown",
   "id": "7b7f9321",
   "metadata": {},
   "source": [
    "The radian frequency $\\omega$ as a function of one interval on the $\\omega$-axis  at the logarithmic scale is given by:  \n",
    "\n",
    "$$ \\omega = \\omega(x) = 10^{x-2}\\omega_\\mathrm{c} = 10^{x-3}\\,\\mathrm{rad}/\\mathrm{s}$$"
   ]
  },
  {
   "cell_type": "markdown",
   "id": "5f0ff96a",
   "metadata": {},
   "source": [
    "The *uncorrected* Bode plot is given by $f(x)$, where,  \n",
    "\n",
    "$$ f(x) = -20 \\quad\\quad\\text{for }\\; \\omega \\le \\omega_\\mathrm{c}$$"
   ]
  },
  {
   "cell_type": "markdown",
   "id": "75c840a6",
   "metadata": {},
   "source": [
    "Note that:  \n",
    "\n",
    "$$ \\omega \\le \\omega_\\mathrm{c} \\quad\\implies\\quad x-3 \\le -1 \\quad\\implies\\quad x \\le 2$$"
   ]
  },
  {
   "cell_type": "markdown",
   "id": "a4d0fa76",
   "metadata": {},
   "source": [
    "And,  \n",
    "\n",
    "$$ f(x) = -40 - 20\\log10^{x-3} = -40 - 20(x-3) = 20 - 20x \\quad\\quad\\text{for }\\;x\\ge 2$$"
   ]
  },
  {
   "cell_type": "code",
   "execution_count": 2,
   "id": "e87bce31",
   "metadata": {},
   "outputs": [],
   "source": [
    "log = np.log10\n",
    "sqrt = np.sqrt"
   ]
  },
  {
   "cell_type": "code",
   "execution_count": 4,
   "id": "5597b40c",
   "metadata": {
    "code_folding": [
     0
    ]
   },
   "outputs": [
    {
     "data": {
      "text/plain": [
       "<matplotlib.legend.Legend at 0x7fbf73a2a370>"
      ]
     },
     "execution_count": 4,
     "metadata": {},
     "output_type": "execute_result"
    },
    {
     "data": {
      "image/png": "[encoded data removed]",
      "text/plain": [
       "<Figure size 432x288 with 1 Axes>"
      ]
     },
     "metadata": {
      "needs_background": "light"
     },
     "output_type": "display_data"
    }
   ],
   "source": [
    "# Create the radian frequency domain at the logarithmic scale.\n",
    "x = np.linspace(0, 4, num=200)\n",
    "omega = 10**(x-3)\n",
    "\n",
    "# Define the functions that give the (un)corrected Bode plot(s).\n",
    "K_dB = -20-10*log(1+100*omega**2)\n",
    "f = [-20 if x_i <= 2 else 20 - 20*x_i for x_i in x]\n",
    "\n",
    "# Create the figure and axes objects.\n",
    "fig, ax = plt.subplots()\n",
    "ax.set_title('Bode Plot', size=14)\n",
    "ax.set_xlabel('radian frequency [rad/s]')\n",
    "ax.set_ylabel('gain [dB]')\n",
    "\n",
    "ax.set_xticks([0,1,2,3,4], [r'$10^{' + str(i - 3) + r'}$' for i in range(5)])\n",
    "ax.set_yticks([-20, -23, -40, -60])\n",
    "ax.grid()\n",
    "\n",
    "# Plot the data.\n",
    "ax.plot(x, K_dB, label='corrected')\n",
    "ax.plot(x, f, label='uncorrected')\n",
    "ax.legend()"
   ]
  },
  {
   "cell_type": "markdown",
   "id": "bbb1be1c",
   "metadata": {},
   "source": [
    "In the **case of B**:  \n",
    "\n",
    "$$ K(j\\omega) = \\frac{1 + j0.1\\omega}{j\\omega} = 0.1-j\\frac{1}{\\omega} = \\frac{0.1\\omega - j}{\\omega}$$"
   ]
  },
  {
   "cell_type": "markdown",
   "id": "ee943501",
   "metadata": {},
   "source": [
    "$$ K(\\omega) = \\sqrt{0.01 + \\frac{1}{\\omega^2}}\\quad\\implies\\quad K_\\mathrm{dB}(\\omega) = 10\\log\\left(0.01+ \\frac{1}{\\omega^2}\\right)$$"
   ]
  },
  {
   "cell_type": "markdown",
   "id": "b60a3e0d",
   "metadata": {},
   "source": [
    "$$ K_\\mathrm{dB}(\\omega) = 10\\log\\frac{\\omega^2 + 100}{100\\omega^2} = 10\\log\\big(\\omega^2+100\\big) -20\\log(10\\omega) = 10\\log\\big(\\omega^2+100\\big) - 20 - 20\\log\\omega$$"
   ]
  },
  {
   "cell_type": "markdown",
   "id": "425fc5a9",
   "metadata": {},
   "source": [
    "$$  = 10\\log\\Big(100\\big((0.1\\omega)^2 + 1\\big)\\Big) - 20 - 20\\log\\omega$$"
   ]
  },
  {
   "cell_type": "markdown",
   "id": "33fd50ee",
   "metadata": {},
   "source": [
    "The gain, in decibels, is given by:  \n",
    "\n",
    "$$ K_\\mathrm{dB}(\\omega) = 10\\log\\big((0.1\\omega)^2+1\\big) - 20\\log\\omega$$"
   ]
  },
  {
   "cell_type": "markdown",
   "id": "e494197f",
   "metadata": {},
   "source": [
    "The cutoff frequency is given by:  \n",
    "\n",
    "$$ \\omega_\\mathrm{c} = 10\\,\\mathrm{rad}/\\mathrm{s}$$"
   ]
  },
  {
   "cell_type": "markdown",
   "id": "f2104af2",
   "metadata": {},
   "source": [
    "The radian frequency $\\omega$ as a function of one interval on the the $\\omega$-axis  at the logarithmic scale is given by:  \n",
    "\n",
    "$$ \\omega = \\omega(x) = 10^{x-2}\\omega_\\mathrm{c} = 10^{x-1}$$"
   ]
  },
  {
   "cell_type": "markdown",
   "id": "b5332177",
   "metadata": {},
   "source": [
    "Finally, the *uncorrected* Bode plot is given by $f(x)$, where,  \n",
    "\n",
    "$$ f(x) = -20(x-1) = 20(1-x) \\quad\\quad\\text{for }\\;\\omega\\le\\omega_\\mathrm{c}$$"
   ]
  },
  {
   "cell_type": "markdown",
   "id": "e986fb14",
   "metadata": {},
   "source": [
    "$$ \\omega\\le\\omega_\\mathrm{c} \\quad\\implies\\quad x-1\\le1 \\quad\\implies\\quad x\\le2$$"
   ]
  },
  {
   "cell_type": "markdown",
   "id": "b155ea38",
   "metadata": {},
   "source": [
    "$$ f(x) = 20\\log(0.1\\omega) - 20\\log\\omega = 20\\log0.1 = -20\\quad\\quad\\text{for}\\;x\\ge2$$"
   ]
  },
  {
   "cell_type": "markdown",
   "id": "d5e0315a",
   "metadata": {},
   "source": [
    "In the **case of C**)  $A=0$, $B=10$, $C=1$, $D=10$:  "
   ]
  },
  {
   "cell_type": "markdown",
   "id": "cf90a230",
   "metadata": {},
   "source": [
    "$$ K(j\\omega) = \\frac{j10\\omega}{1 + j10\\omega} \\quad\\implies\\quad K(\\omega) = \\frac{10\\omega}{\\sqrt{1 + 100\\omega^2}}$$"
   ]
  },
  {
   "cell_type": "markdown",
   "id": "edb91625",
   "metadata": {},
   "source": [
    "The gain, in decibels, is given by:  \n",
    "\n",
    "$$ K_\\mathrm{dB}(\\omega) = 20\\log(10\\omega) - 10\\log\\big(1+100\\omega^2\\big) = 20 + 20\\log\\omega - 10\\log\\big(1+(10\\omega)^2\\big)$$"
   ]
  },
  {
   "cell_type": "markdown",
   "id": "c57832dd",
   "metadata": {},
   "source": [
    "The cutoff frequency is:  \n",
    "\n",
    "$$ \\omega_\\mathrm{c} = 0.1\\,\\mathrm{rad}\\,\\mathrm{s} $$"
   ]
  },
  {
   "cell_type": "markdown",
   "id": "b96c068c",
   "metadata": {},
   "source": [
    "The radian frequency $\\omega$ as a function of one interval on the $\\omega$-axis  at the logarithmic scale is given by:  \n",
    "\n",
    "$$ \\omega = \\omega(x) = 10^{x-2}\\omega_\\mathrm{c} = 10^{x-3}\\,\\mathrm{rad}/\\mathrm{s}$$"
   ]
  },
  {
   "cell_type": "markdown",
   "id": "e7a7d44e",
   "metadata": {},
   "source": [
    "Finally, the *uncorrected* Bode plot is given by:  \n",
    "\n",
    "$$ f(x) = 20 + 20(x-3) = 20x -40\\quad\\quad\\text{for }\\;\\omega\\le\\omega_\\mathrm{c}$$"
   ]
  },
  {
   "cell_type": "markdown",
   "id": "fde834e5",
   "metadata": {},
   "source": [
    "$$ \\omega\\le\\omega_\\mathrm{c}\\quad\\implies\\quad x-3\\le-1\\quad\\implies\\quad x\\le2$$"
   ]
  },
  {
   "cell_type": "markdown",
   "id": "822f585d",
   "metadata": {},
   "source": [
    "and,  \n",
    "\n",
    "$$ f(x) = 20x - 40 - 20\\log(10\\omega) = 20x - 40 - 20 - 20(x-3) = 0 \\quad\\quad\\text{for }\\;x\\ge2$$"
   ]
  },
  {
   "cell_type": "markdown",
   "id": "631237bb",
   "metadata": {},
   "source": [
    "#### Problem 2\n",
    "2. Draw the logarithmic plot of the RC high(low)-pass filter, $R=10\\mathrm{k}\\Omega$, $C=1\\mu\\mathrm{F}$."
   ]
  },
  {
   "cell_type": "markdown",
   "id": "a3996977",
   "metadata": {},
   "source": [
    "For the **high pass filter**:  \n",
    "\n",
    "\\begin{equation}\\tag{3}\n",
    "    K(j\\omega) = \\frac{1}{1+j\\omega T}\\quad\\quad\\text{where }\\;T = RC\n",
    "\\end{equation}"
   ]
  },
  {
   "cell_type": "markdown",
   "id": "2a54de47",
   "metadata": {},
   "source": [
    "And,  \n",
    "\n",
    "$$ K(\\omega) = \\frac{1}{\\sqrt{1+(\\omega T)^2}} \\quad\\implies\\quad K_\\mathrm{dB}(\\omega) = -10\\log\\big(1+(\\omega T)^2\\big)$$"
   ]
  },
  {
   "cell_type": "markdown",
   "id": "17e00776",
   "metadata": {},
   "source": [
    "The cutoff or half-power frequency is:  \n",
    "\n",
    "$$ \\omega_\\mathrm{c} = \\frac{1}{T} = \\frac{1}{RC} = \\frac{1}{10\\mathrm{m}[\\Omega\\cdot\\mathrm{F}]} = 100\\,\\mathrm{rad}/\\mathrm{s}$$"
   ]
  },
  {
   "cell_type": "markdown",
   "id": "ce3a35e5",
   "metadata": {},
   "source": [
    "The radian frequency $\\omega$ as a function of one interval on the $\\omega$-axis at the logarithmic scale is given by:  \n",
    "\n",
    "$$\\omega = \\omega(x) = 10^{x-2}\\omega_\\mathrm{c} = 10^x\\,\\mathrm{rad}/\\mathrm{s}$$"
   ]
  },
  {
   "cell_type": "markdown",
   "id": "dd111993",
   "metadata": {},
   "source": [
    "The *uncorrected* Bode plot is given by:  \n",
    "\n",
    "$$ f(x) = 0 \\quad\\quad\\text{for }\\;\\omega\\le\\omega_\\mathrm{c}$$"
   ]
  },
  {
   "cell_type": "markdown",
   "id": "8a94d111",
   "metadata": {},
   "source": [
    "$$ \\omega\\le\\omega_\\mathrm{c} \\quad\\implies\\quad x\\le2$$"
   ]
  },
  {
   "cell_type": "markdown",
   "id": "4367fb4d",
   "metadata": {},
   "source": [
    "and,  \n",
    "\n",
    "$$ f(x) = -20\\log\\big(0.01\\omega(x)\\big) = 40 - 20x \\quad\\quad\\text{for }\\;x\\ge2$$"
   ]
  }
 ],
 "metadata": {
  "kernelspec": {
   "display_name": "Python 3",
   "language": "python",
   "name": "python3"
  },
  "language_info": {
   "codemirror_mode": {
    "name": "ipython",
    "version": 3
   },
   "file_extension": ".py",
   "mimetype": "text/x-python",
   "name": "python",
   "nbconvert_exporter": "python",
   "pygments_lexer": "ipython3",
   "version": "3.8.10"
  }
 },
 "nbformat": 4,
 "nbformat_minor": 5
}
