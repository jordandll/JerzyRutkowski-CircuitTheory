{
 "cells": [
  {
   "cell_type": "markdown",
   "id": "c0d92bdd",
   "metadata": {},
   "source": [
    "# Transfer Function in the Frequency Domain -- Frequency Response\n",
    "### *Chapter 4 Section 5* -- AC Steady State Analysis"
   ]
  },
  {
   "cell_type": "markdown",
   "id": "c6b62573",
   "metadata": {},
   "source": [
    "## Drill Problems"
   ]
  },
  {
   "cell_type": "code",
   "execution_count": 1,
   "id": "4eb7bac8",
   "metadata": {},
   "outputs": [],
   "source": [
    "import numpy as np\n",
    "import matplotlib.pyplot as plt"
   ]
  },
  {
   "cell_type": "markdown",
   "id": "02b7ee95",
   "metadata": {},
   "source": [
    "#### Problem 1\n",
    "1. Draw the amplitude response in logarithmic scale (Bode plot) for the transfer function\n",
    "$$ K(s) = \\frac{A+Bs}{C+Ds}$$\n",
    "    and the following combinations of its coefficients:\n",
    "    1. $A=0.1$, $B=0$, $C=1$, $D=10$; \n",
    "    2. $A=1$, $B=0.1$, $C=0$, $D=1$; \n",
    "    3. $A=0$, $B=10$, $C=1$, $D=10$.   "
   ]
  },
  {
   "cell_type": "markdown",
   "id": "b7e8bfb8",
   "metadata": {},
   "source": [
    "$$ K_\\mathrm{dB}(\\omega) = 20\\log\\Gamma + 10\\log\\big(1 + \\omega^2 T_{L1}^2\\big) - 10\\log\\big(1+\\omega^2 T_{M1}^2\\big)$$"
   ]
  },
  {
   "cell_type": "markdown",
   "id": "de4dac86",
   "metadata": {},
   "source": [
    "where,  \n",
    "\n",
    "$$ \\Gamma = \\frac{A}{C}\\quad\\quad T_{L1} = \\frac{B}{A}\\quad\\quad T_{M1} = \\frac{D}{C}$$"
   ]
  },
  {
   "cell_type": "markdown",
   "id": "4b59cf07",
   "metadata": {},
   "source": [
    "In the **case of A**:  \n",
    "\n",
    "$$ \\Gamma = 0.1 \\quad\\quad T_{L1} = 0\\quad\\quad T_{M1} = 10$$"
   ]
  },
  {
   "cell_type": "markdown",
   "id": "d485eff7",
   "metadata": {},
   "source": [
    "Thus,  \n",
    "\n",
    "$$ K_\\mathrm{dB}(\\omega) = -20 - 10\\log\\big(1 + 100\\omega^2\\big)$$"
   ]
  },
  {
   "cell_type": "markdown",
   "id": "9e6c06f2",
   "metadata": {},
   "source": [
    "Thus cutoff frequency is:  \n",
    "\n",
    "$$ \\omega_\\mathrm{c} = \\frac{1}{T_{M1}} = 0.1\\,\\mathrm{rad}/\\mathrm{s}$$"
   ]
  },
  {
   "cell_type": "markdown",
   "id": "220bdc11",
   "metadata": {},
   "source": [
    "The radian frequency $\\omega$ as a function of one interval on the $\\omega$-axis  at the logarithmic scale is given by:  \n",
    "\n",
    "$$ \\omega = \\omega(x) = 10^{x-2}\\omega_\\mathrm{c} = 10^{x-3}\\,\\mathrm{rad}/\\mathrm{s}$$"
   ]
  },
  {
   "cell_type": "markdown",
   "id": "f8c3db9f",
   "metadata": {},
   "source": [
    "The *uncorrected* Bode plot is given by $f(x)$, where,  \n",
    "\n",
    "$$ f(x) = -20 \\quad\\quad\\text{for }\\; \\omega \\le \\omega_\\mathrm{c}$$"
   ]
  },
  {
   "cell_type": "markdown",
   "id": "6fe9f6df",
   "metadata": {},
   "source": [
    "Note that:  \n",
    "\n",
    "$$ \\omega \\le \\omega_\\mathrm{c} \\quad\\implies\\quad x-3 \\le -1 \\quad\\implies\\quad x \\le 2$$"
   ]
  },
  {
   "cell_type": "markdown",
   "id": "238e36c7",
   "metadata": {},
   "source": [
    "And,  \n",
    "\n",
    "$$ f(x) = -40 - 20\\log10^{x-3} = -40 - 20(x-3) = 20 - 20x \\quad\\quad\\text{for }\\;x\\ge 2$$"
   ]
  },
  {
   "cell_type": "code",
   "execution_count": 2,
   "id": "ae81454e",
   "metadata": {},
   "outputs": [],
   "source": [
    "log = np.log10\n",
    "sqrt = np.sqrt"
   ]
  },
  {
   "cell_type": "code",
   "execution_count": 4,
   "id": "05a35ce2",
   "metadata": {
    "code_folding": [
     0
    ]
   },
   "outputs": [
    {
     "data": {
      "text/plain": [
       "<matplotlib.legend.Legend at 0x7fbf73a2a370>"
      ]
     },
     "execution_count": 4,
     "metadata": {},
     "output_type": "execute_result"
    },
    {
     "data": {
      "image/png": "[encoded data removed]",
      "text/plain": [
       "<Figure size 432x288 with 1 Axes>"
      ]
     },
     "metadata": {
      "needs_background": "light"
     },
     "output_type": "display_data"
    }
   ],
   "source": [
    "# Create the radian frequency domain at the logarithmic scale.\n",
    "x = np.linspace(0, 4, num=200)\n",
    "omega = 10**(x-3)\n",
    "\n",
    "# Define the functions that give the (un)corrected Bode plot(s).\n",
    "K_dB = -20-10*log(1+100*omega**2)\n",
    "f = [-20 if x_i <= 2 else 20 - 20*x_i for x_i in x]\n",
    "\n",
    "# Create the figure and axes objects.\n",
    "fig, ax = plt.subplots()\n",
    "ax.set_title('Bode Plot', size=14)\n",
    "ax.set_xlabel('radian frequency [rad/s]')\n",
    "ax.set_ylabel('gain [dB]')\n",
    "\n",
    "ax.set_xticks([0,1,2,3,4], [r'$10^{' + str(i - 3) + r'}$' for i in range(5)])\n",
    "ax.set_yticks([-20, -23, -40, -60])\n",
    "ax.grid()\n",
    "\n",
    "# Plot the data.\n",
    "ax.plot(x, K_dB, label='corrected')\n",
    "ax.plot(x, f, label='uncorrected')\n",
    "ax.legend()"
   ]
  },
  {
   "cell_type": "markdown",
   "id": "f3c95252",
   "metadata": {},
   "source": [
    "In the **case of B**:  \n",
    "\n",
    "$$ K(j\\omega) = \\frac{1 + j0.1\\omega}{j\\omega} = 0.1-j\\frac{1}{\\omega} = \\frac{0.1\\omega - j}{\\omega}$$"
   ]
  },
  {
   "cell_type": "markdown",
   "id": "f1f4dec7",
   "metadata": {},
   "source": [
    "$$ K(\\omega) = \\sqrt{0.01 + \\frac{1}{\\omega^2}}\\quad\\implies\\quad K_\\mathrm{dB}(\\omega) = 10\\log\\left(0.01+ \\frac{1}{\\omega^2}\\right)$$"
   ]
  },
  {
   "cell_type": "markdown",
   "id": "0dc50609",
   "metadata": {},
   "source": [
    "$$ K_\\mathrm{dB}(\\omega) = 10\\log\\frac{\\omega^2 + 100}{100\\omega^2} = 10\\log\\big(\\omega^2+100\\big) -20\\log(10\\omega) = 10\\log\\big(\\omega^2+100\\big) - 20 - 20\\log\\omega$$"
   ]
  },
  {
   "cell_type": "markdown",
   "id": "bbdb6342",
   "metadata": {},
   "source": [
    "$$  = 10\\log\\Big(100\\big((0.1\\omega)^2 + 1\\big)\\Big) - 20 - 20\\log\\omega$$"
   ]
  },
  {
   "cell_type": "markdown",
   "id": "3b448761",
   "metadata": {},
   "source": [
    "The gain, in decibels, is given by:  \n",
    "\n",
    "$$ K_\\mathrm{dB}(\\omega) = 10\\log\\big((0.1\\omega)^2+1\\big) - 20\\log\\omega$$"
   ]
  },
  {
   "cell_type": "markdown",
   "id": "f0c06c68",
   "metadata": {},
   "source": [
    "The cutoff frequency is given by:  \n",
    "\n",
    "$$ \\omega_\\mathrm{c} = 10\\,\\mathrm{rad}/\\mathrm{s}$$"
   ]
  },
  {
   "cell_type": "markdown",
   "id": "125fdfe3",
   "metadata": {},
   "source": [
    "The radian frequency $\\omega$ as a function of one interval on the the $\\omega$-axis  at the logarithmic scale is given by:  \n",
    "\n",
    "$$ \\omega = \\omega(x) = 10^{x-2}\\omega_\\mathrm{c} = 10^{x-1}$$"
   ]
  },
  {
   "cell_type": "markdown",
   "id": "503c1c57",
   "metadata": {},
   "source": [
    "Finally, the *uncorrected* Bode plot is given by $f(x)$, where,  \n",
    "\n",
    "$$ f(x) = -20(x-1) = 20(1-x) \\quad\\quad\\text{for }\\;\\omega\\le\\omega_\\mathrm{c}$$"
   ]
  },
  {
   "cell_type": "markdown",
   "id": "4f29643a",
   "metadata": {},
   "source": [
    "$$ \\omega\\le\\omega_\\mathrm{c} \\quad\\implies\\quad x-1\\le1 \\quad\\implies\\quad x\\le2$$"
   ]
  },
  {
   "cell_type": "markdown",
   "id": "cdc60ca8",
   "metadata": {},
   "source": [
    "$$ f(x) = 20\\log(0.1\\omega) - 20\\log\\omega = 20\\log0.1 = -20\\quad\\quad\\text{for}\\;x\\ge2$$"
   ]
  },
  {
   "cell_type": "code",
   "execution_count": 6,
   "id": "059fd54d",
   "metadata": {
    "code_folding": [
     0
    ]
   },
   "outputs": [
    {
     "data": {
      "text/plain": [
       "<matplotlib.legend.Legend at 0x7fbf735b82b0>"
      ]
     },
     "execution_count": 6,
     "metadata": {},
     "output_type": "execute_result"
    },
    {
     "data": {
      "image/png": "[encoded data removed]",
      "text/plain": [
       "<Figure size 432x288 with 1 Axes>"
      ]
     },
     "metadata": {
      "needs_background": "light"
     },
     "output_type": "display_data"
    }
   ],
   "source": [
    "# Create the radian frequency domain at the logarithmic scale.\n",
    "x = np.linspace(0, 4, num=200)\n",
    "omega = 10**(x-1)\n",
    "\n",
    "# Define the functions that give the (un)corrected Bode plot(s).\n",
    "K_dB = 10*log((0.1*omega)**2 + 1) - 20*log(omega)\n",
    "f = [20*(1-x_i) if x_i <= 2 else -20 for x_i in x]\n",
    "\n",
    "# Create the figure and axes objects.\n",
    "fig, ax = plt.subplots()\n",
    "ax.set_title('Bode Plot', size=14)\n",
    "ax.set_xlabel('radian frequency [rad/s]')\n",
    "ax.set_ylabel('gain [dB]')\n",
    "\n",
    "ax.set_xticks([0,1,2,3,4], [r'$10^{' + str(i - 1) + r'}$' for i in range(5)])\n",
    "ax.set_yticks([20, 0, -20, -17])\n",
    "ax.grid()\n",
    "\n",
    "# Plot the data.\n",
    "ax.plot(x, K_dB, label='corrected')\n",
    "ax.plot(x, f, label='uncorrected')\n",
    "ax.legend()"
   ]
  },
  {
   "cell_type": "markdown",
   "id": "d65a3825",
   "metadata": {},
   "source": [
    "In the **case of C**)  $A=0$, $B=10$, $C=1$, $D=10$:  "
   ]
  },
  {
   "cell_type": "markdown",
   "id": "e5ab4848",
   "metadata": {},
   "source": [
    "$$ K(j\\omega) = \\frac{j10\\omega}{1 + j10\\omega} \\quad\\implies\\quad K(\\omega) = \\frac{10\\omega}{\\sqrt{1 + 100\\omega^2}}$$"
   ]
  },
  {
   "cell_type": "markdown",
   "id": "684476e1",
   "metadata": {},
   "source": [
    "The gain, in decibels, is given by:  \n",
    "\n",
    "$$ K_\\mathrm{dB}(\\omega) = 20\\log(10\\omega) - 10\\log\\big(1+100\\omega^2\\big) = 20 + 20\\log\\omega - 10\\log\\big(1+(10\\omega)^2\\big)$$"
   ]
  },
  {
   "cell_type": "markdown",
   "id": "780199c9",
   "metadata": {},
   "source": [
    "The cutoff frequency is:  \n",
    "\n",
    "$$ \\omega_\\mathrm{c} = 0.1\\,\\mathrm{rad}\\,\\mathrm{s} $$"
   ]
  },
  {
   "cell_type": "markdown",
   "id": "e81ff838",
   "metadata": {},
   "source": [
    "The radian frequency $\\omega$ as a function of one interval on the $\\omega$-axis  at the logarithmic scale is given by:  \n",
    "\n",
    "$$ \\omega = \\omega(x) = 10^{x-2}\\omega_\\mathrm{c} = 10^{x-3}\\,\\mathrm{rad}/\\mathrm{s}$$"
   ]
  },
  {
   "cell_type": "markdown",
   "id": "1578311e",
   "metadata": {},
   "source": [
    "Finally, the *uncorrected* Bode plot is given by:  \n",
    "\n",
    "$$ f(x) = 20 + 20(x-3) = 20x -40\\quad\\quad\\text{for }\\;\\omega\\le\\omega_\\mathrm{c}$$"
   ]
  },
  {
   "cell_type": "markdown",
   "id": "58147b06",
   "metadata": {},
   "source": [
    "$$ \\omega\\le\\omega_\\mathrm{c}\\quad\\implies\\quad x-3\\le-1\\quad\\implies\\quad x\\le2$$"
   ]
  },
  {
   "cell_type": "markdown",
   "id": "f76dafc3",
   "metadata": {},
   "source": [
    "and,  \n",
    "\n",
    "$$ f(x) = 20x - 40 - 20\\log(10\\omega) = 20x - 40 - 20 - 20(x-3) = 0 \\quad\\quad\\text{for }\\;x\\ge2$$"
   ]
  },
  {
   "cell_type": "markdown",
   "id": "f062d56b",
   "metadata": {},
   "source": [
    "#### Problem 2\n",
    "2. Draw the logarithmic plot of the RC high(low)-pass filter, $R=10\\mathrm{k}\\Omega$, $C=1\\mu\\mathrm{F}$."
   ]
  },
  {
   "cell_type": "markdown",
   "id": "8eb8ad27",
   "metadata": {},
   "source": [
    "For the **low pass filter**:  \n",
    "\n",
    "\\begin{equation}\\tag{3}\n",
    "    K(j\\omega) = \\frac{1}{1+j\\omega T}\\quad\\quad\\text{where }\\;T = RC\n",
    "\\end{equation}"
   ]
  },
  {
   "cell_type": "markdown",
   "id": "ff6edd5a",
   "metadata": {},
   "source": [
    "And,  \n",
    "\n",
    "$$ K(\\omega) = \\frac{1}{\\sqrt{1+(\\omega T)^2}} \\quad\\implies\\quad K_\\mathrm{dB}(\\omega) = -10\\log\\big(1+(\\omega T)^2\\big)$$"
   ]
  },
  {
   "cell_type": "markdown",
   "id": "32edc62f",
   "metadata": {},
   "source": [
    "The cutoff or half-power frequency is:  \n",
    "\n",
    "$$ \\omega_\\mathrm{c} = \\frac{1}{T} = \\frac{1}{RC} = \\frac{1}{10\\mathrm{m}[\\Omega\\cdot\\mathrm{F}]} = 100\\,\\mathrm{rad}/\\mathrm{s}$$"
   ]
  },
  {
   "cell_type": "markdown",
   "id": "6fbaf245",
   "metadata": {},
   "source": [
    "The radian frequency $\\omega$ as a function of one interval on the $\\omega$-axis at the logarithmic scale is given by:  \n",
    "\n",
    "$$\\omega = \\omega(x) = 10^{x-2}\\omega_\\mathrm{c} = 10^x\\,\\mathrm{rad}/\\mathrm{s}$$"
   ]
  },
  {
   "cell_type": "markdown",
   "id": "1c831a48",
   "metadata": {},
   "source": [
    "The *uncorrected* Bode plot is given by:  \n",
    "\n",
    "$$ f(x) = 0 \\quad\\quad\\text{for }\\;\\omega\\le\\omega_\\mathrm{c}$$"
   ]
  },
  {
   "cell_type": "markdown",
   "id": "8471c325",
   "metadata": {},
   "source": [
    "$$ \\omega\\le\\omega_\\mathrm{c} \\quad\\implies\\quad x\\le2$$"
   ]
  },
  {
   "cell_type": "markdown",
   "id": "f136d534",
   "metadata": {},
   "source": [
    "and,  \n",
    "\n",
    "$$ f(x) = -20\\log\\big(0.01\\omega(x)\\big) = 40 - 20x \\quad\\quad\\text{for }\\;x\\ge2$$"
   ]
  },
  {
   "cell_type": "markdown",
   "id": "5aef266d",
   "metadata": {},
   "source": [
    "Now, for the **high pass filter**:  \n",
    "\n",
    "$$ K(j\\omega) = \\frac{j\\omega T}{j\\omega T+1} \\quad\\quad\\text{where }\\; T=RC = 10\\mathrm{ms} = 0.01\\mathrm{s}$$"
   ]
  },
  {
   "cell_type": "markdown",
   "id": "63896d64",
   "metadata": {},
   "source": [
    "$$ K(\\omega) \\frac{\\omega T}{\\sqrt{1+(\\omega T)^2}} \\quad\\implies\\quad K_\\mathrm{dB}(\\omega) = 20\\log(\\omega T) - 10\\log\\big(1+(\\omega T)^2\\big)$$"
   ]
  },
  {
   "cell_type": "markdown",
   "id": "3f31ecb5",
   "metadata": {},
   "source": [
    "$$ K_\\mathrm{dB}(\\omega) = 20\\log\\omega  - 40 - 10\\log\\big(1+(\\omega T)^2\\big)$$"
   ]
  },
  {
   "cell_type": "markdown",
   "id": "db58df28",
   "metadata": {},
   "source": [
    "The cutoff frequency is given by:  \n",
    "\n",
    "$$ \\omega_\\mathrm{c} = \\frac{1}{T} = 100\\,\\mathrm{rad}/\\mathrm{s}$$"
   ]
  },
  {
   "cell_type": "markdown",
   "id": "8e96da12",
   "metadata": {},
   "source": [
    "The radian frequency $\\omega$ as a function of one interval on the $\\omega$-axis at the logarithmic scale is given by:  \n",
    "\n",
    "$$ \\omega = \\omega(x) = 10^{x-2}\\omega_\\mathrm{c} = 10^x\\,\\mathrm{rad}/\\mathrm{s}$$"
   ]
  },
  {
   "cell_type": "markdown",
   "id": "94368f52",
   "metadata": {},
   "source": [
    "Finally, the *uncorrected* Bode plot is given by:  \n",
    "\n",
    "$$ f(x) = 20x - 40 \\quad\\quad\\text{for }\\; x\\le2$$"
   ]
  },
  {
   "cell_type": "markdown",
   "id": "3a61909f",
   "metadata": {},
   "source": [
    "and,  \n",
    "\n",
    "$$ f(x) = 20x - 40 - 20\\log(\\omega T) = 0 \\quad\\quad\\text{for }\\;x\\ge2$$"
   ]
  },
  {
   "cell_type": "markdown",
   "id": "03e1f8ed",
   "metadata": {},
   "source": [
    "#### Problem 3\n",
    "3. Draw the logarithmic plot of the ideal integrator (differentiator) characterized by the integration (differentiation) constant $T=10\\mathrm{s}$."
   ]
  },
  {
   "cell_type": "markdown",
   "id": "cbf16cf6",
   "metadata": {},
   "source": [
    "For the ideal **integrator**:  \n",
    "\n",
    "$$ K(j\\omega) = \\frac{1}{j\\omega T} \\quad\\implies\\quad K(\\omega) = \\frac{1}{\\omega T} \\quad\\implies\\quad K_\\mathrm{dB}(\\omega) = -20\\log(\\omega T) = -20-20\\log\\omega$$"
   ]
  },
  {
   "cell_type": "markdown",
   "id": "fd8c4e96",
   "metadata": {},
   "source": [
    "The cutoff or half-power frequency is given by:  \n",
    "\n",
    "$$ K(\\omega_\\mathrm{c}) = \\frac{1}{\\sqrt{2}} \\quad\\implies\\quad \\omega_\\mathrm{c}T = \\sqrt{2}$$"
   ]
  },
  {
   "cell_type": "markdown",
   "id": "05efdb09",
   "metadata": {},
   "source": [
    "$$ \\omega_\\mathrm{c} = \\frac{\\sqrt{2}}{10}\\,\\left[\\frac{\\mathrm{rad}}{\\mathrm{s}}\\right]$$"
   ]
  },
  {
   "cell_type": "markdown",
   "id": "349288d9",
   "metadata": {},
   "source": [
    "The radian frequency $\\omega$ as a function of one interval on the $\\omega$-axis at the logarithmic scale is given by:  \n",
    "\n",
    "$$ \\omega = \\omega(x) = 10^{x-2}\\omega_\\mathrm{c} = 10^{x-3}\\sqrt{2}\\,\\mathrm{rad}/\\mathrm{s}$$"
   ]
  },
  {
   "cell_type": "markdown",
   "id": "9568d54b",
   "metadata": {},
   "source": [
    "The bode plot is given by:  \n",
    "\n",
    "$$ f(x) = -20 - 20(x-3) - 10\\log2 = 40 - 20x -10\\log2$$"
   ]
  },
  {
   "cell_type": "markdown",
   "id": "94f518e3",
   "metadata": {},
   "source": [
    "And, for the ideal **differentiator**:  \n",
    "\n",
    "$$ K(j\\omega) = j \\omega T \\quad\\implies\\quad K(\\omega) = \\omega T \\quad\\implies\\quad K_\\mathrm{dB}(\\omega) = 20\\log(\\omega T)$$"
   ]
  },
  {
   "cell_type": "markdown",
   "id": "ac1df3c0",
   "metadata": {},
   "source": [
    "$$ K_\\mathrm{dB}(\\omega) = 20 + 20\\log\\omega$$"
   ]
  },
  {
   "cell_type": "markdown",
   "id": "040f76cf",
   "metadata": {},
   "source": [
    "$$ \\omega_\\mathrm{c} = \\frac{1}{10\\sqrt{2}} = 0.1\\sqrt{2}\\,\\mathrm{rad}/\\mathrm{s}$$"
   ]
  },
  {
   "cell_type": "markdown",
   "id": "d3313180",
   "metadata": {},
   "source": [
    "$$ \\omega = \\omega(x) = 10^{x-2}\\omega_\\mathrm{c} = 10^{x-3}\\sqrt{2}\\,\\mathrm{rad}/\\mathrm{s} $$"
   ]
  },
  {
   "cell_type": "markdown",
   "id": "9cc578cf",
   "metadata": {},
   "source": [
    "$$ f(x) = 20 + 20(x-3) + 10\\log2 = 20x + 10\\log2 - 40$$"
   ]
  }
 ],
 "metadata": {
  "kernelspec": {
   "display_name": "Python 3",
   "language": "python",
   "name": "python3"
  },
  "language_info": {
   "codemirror_mode": {
    "name": "ipython",
    "version": 3
   },
   "file_extension": ".py",
   "mimetype": "text/x-python",
   "name": "python",
   "nbconvert_exporter": "python",
   "pygments_lexer": "ipython3",
   "version": "3.8.10"
  }
 },
 "nbformat": 4,
 "nbformat_minor": 5
}
