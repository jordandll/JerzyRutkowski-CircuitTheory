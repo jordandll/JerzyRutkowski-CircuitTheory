{
 "cells": [
  {
   "cell_type": "markdown",
   "id": "87ae9c2a",
   "metadata": {},
   "source": [
    "# Transfer Function in the Frequency Domain -- Frequency Response\n",
    "### *Chapter 4 Section 5* -- AC Steady State Analysis\n",
    "## Drill Problems"
   ]
  },
  {
   "cell_type": "markdown",
   "id": "9ed39065",
   "metadata": {},
   "source": [
    "#### Problem 1\n",
    "1. Draw the amplitude response in logarithmic scale (Bode plot) for the transfer function\n",
    "$$ K(s) = \\frac{A+Bs}{C+Ds}$$\n",
    "    and the following combinations of its coefficients:\n",
    "    1. $A=0.1$, $B=0$, $C=1$, $D=10$; \n",
    "    2. $A=1$, $B=0.1$, $C=0$, $D=1$; \n",
    "    3. $A=0$, $B=10$, $C=1$, $D=10$.   "
   ]
  },
  {
   "cell_type": "markdown",
   "id": "8ef8422b",
   "metadata": {},
   "source": [
    "$$ K_\\mathrm{dB}(\\omega) = 20\\log\\Gamma + 10\\log\\big(1 + \\omega^2 T_{L1}^2\\big) - 10\\log\\big(1+\\omega^2 T_{M1}^2\\big)$$"
   ]
  },
  {
   "cell_type": "markdown",
   "id": "fc322d74",
   "metadata": {},
   "source": [
    "where,  \n",
    "\n",
    "$$ \\Gamma = \\frac{A}{C}\\quad\\quad T_{L1} = \\frac{B}{A}\\quad\\quad T_{M1} = \\frac{D}{C}$$"
   ]
  },
  {
   "cell_type": "markdown",
   "id": "ec515615",
   "metadata": {},
   "source": [
    "In the **case of A**:  \n",
    "\n",
    "$$ \\Gamma = 0.1 \\quad\\quad T_{L1} = 0\\quad\\quad T_{M1} = 10$$"
   ]
  },
  {
   "cell_type": "markdown",
   "id": "742d580f",
   "metadata": {},
   "source": [
    "Thus,  \n",
    "\n",
    "$$ K_\\mathrm{dB}(\\omega) = -20 - 10\\log\\big(1 + 100\\omega^2\\big)$$"
   ]
  },
  {
   "cell_type": "markdown",
   "id": "3ef5a6f2",
   "metadata": {},
   "source": [
    "Thus cutoff frequency is:  \n",
    "\n",
    "$$ \\omega_\\mathrm{c} = \\frac{1}{T_{M1}} = 0.1\\,\\mathrm{rad}/\\mathrm{s}$$"
   ]
  },
  {
   "cell_type": "markdown",
   "id": "6a9f935c",
   "metadata": {},
   "source": [
    "The radian frequency $\\omega$ as a function of one interval on the domain of $K_\\mathrm{dB}$ at the logarithmic scale is given by:  \n",
    "\n",
    "$$ \\omega = \\omega(x) = 10^{x-2}\\omega_\\mathrm{c} = 10^{x-3}\\,\\mathrm{rad}/\\mathrm{s}$$"
   ]
  },
  {
   "cell_type": "markdown",
   "id": "6a8d2251",
   "metadata": {},
   "source": [
    "The *uncorrected* Bode plot is given by $f(x)$, where,  \n",
    "\n",
    "$$ f(x) = -20 \\quad\\quad\\text{for }\\; \\omega \\le \\omega_\\mathrm{c}$$"
   ]
  },
  {
   "cell_type": "markdown",
   "id": "cf40f26a",
   "metadata": {},
   "source": [
    "Note that:  \n",
    "\n",
    "$$ \\omega \\le \\omega_\\mathrm{c} \\quad\\implies\\quad x-3 \\le -1 \\quad\\implies\\quad x \\le 2$$"
   ]
  },
  {
   "cell_type": "markdown",
   "id": "a9d390a1",
   "metadata": {},
   "source": [
    "And,  \n",
    "\n",
    "$$ f(x) = -40 - 20\\log10^{x-3} = -40 - 20(x-3) = 20 - 20x \\quad\\quad\\text{for }\\;x\\ge 2$$"
   ]
  },
  {
   "cell_type": "markdown",
   "id": "3734d479",
   "metadata": {},
   "source": [
    "In the **case of B**:  \n",
    "\n",
    "$$ K(j\\omega) = \\frac{1 + j0.1\\omega}{j\\omega} = 0.1-j\\frac{1}{\\omega} = \\frac{0.1\\omega - j}{\\omega}$$"
   ]
  },
  {
   "cell_type": "markdown",
   "id": "65ef9104",
   "metadata": {},
   "source": [
    "$$ K(\\omega) = \\sqrt{0.01 + \\frac{1}{\\omega^2}}\\quad\\implies\\quad K_\\mathrm{dB}(\\omega) = 10\\log\\left(0.01+ \\frac{1}{\\omega^2}\\right)$$"
   ]
  },
  {
   "cell_type": "markdown",
   "id": "9ea9db23",
   "metadata": {},
   "source": [
    "$$ K_\\mathrm{dB}(\\omega) = 10\\log\\frac{\\omega^2 + 100}{100\\omega^2} = 10\\log\\big(\\omega^2+100\\big) -20\\log(10\\omega) = 10\\log\\big(\\omega^2+100\\big) - 20 - 20\\log\\omega$$"
   ]
  },
  {
   "cell_type": "markdown",
   "id": "e8a8b731",
   "metadata": {},
   "source": [
    "$$  = 10\\log\\Big(100\\big((0.1\\omega)^2 + 1\\big)\\Big) - 20 - 20\\log\\omega$$"
   ]
  },
  {
   "cell_type": "markdown",
   "id": "7413079e",
   "metadata": {},
   "source": [
    "The gain, in decibels, is given by:  \n",
    "\n",
    "$$ K_\\mathrm{dB}(\\omega) = 10\\log\\big((0.1\\omega)^2+1\\big) - 20\\log\\omega$$"
   ]
  },
  {
   "cell_type": "markdown",
   "id": "81916da6",
   "metadata": {},
   "source": [
    "The cutoff frequency is given by:  \n",
    "\n",
    "$$ \\omega_\\mathrm{c} = 10\\,\\mathrm{rad}/\\mathrm{s}$$"
   ]
  },
  {
   "cell_type": "markdown",
   "id": "5e41687e",
   "metadata": {},
   "source": [
    "The radian frequency $\\omega$ as a function of one interval on the domain of $K_\\mathrm{dB}$ at the logarithmic scale is given by:  \n",
    "\n",
    "$$ \\omega = \\omega(x) = 10^{x-2}\\omega_\\mathrm{c} = 10^{x-1}$$"
   ]
  },
  {
   "cell_type": "markdown",
   "id": "208ca4c9",
   "metadata": {},
   "source": [
    "Finally, the *uncorrected* Bode plot is given by $f(x)$, where,  \n",
    "\n",
    "$$ f(x) = -20(x-1) = 20(1-x) \\quad\\quad\\text{for }\\;\\omega\\le\\omega_\\mathrm{c}$$"
   ]
  },
  {
   "cell_type": "markdown",
   "id": "5ec54c21",
   "metadata": {},
   "source": [
    "$$ \\omega\\le\\omega_\\mathrm{c} \\quad\\implies\\quad x-1\\le1 \\quad\\implies\\quad x\\le2$$"
   ]
  },
  {
   "cell_type": "markdown",
   "id": "46f3244a",
   "metadata": {},
   "source": [
    "$$ f(x) = 20\\log(0.1\\omega) - 20\\log\\omega = 20\\log0.1 = -20\\quad\\quad\\text{for}\\;x\\ge2$$"
   ]
  },
  {
   "cell_type": "markdown",
   "id": "f12a531b",
   "metadata": {},
   "source": [
    "In the **case of C**)  $A=0$, $B=10$, $C=1$, $D=10$:  "
   ]
  },
  {
   "cell_type": "markdown",
   "id": "d8b18d3b",
   "metadata": {},
   "source": [
    "$$ K(j\\omega) = \\frac{j10\\omega}{1 + j10\\omega} \\quad\\implies\\quad K(\\omega) = \\frac{10\\omega}{\\sqrt{1 + 100\\omega^2}}$$"
   ]
  },
  {
   "cell_type": "markdown",
   "id": "bfd4cec3",
   "metadata": {},
   "source": [
    "The gain, in decibels, is given by:  \n",
    "\n",
    "$$ K_\\mathrm{dB}(\\omega) = 20\\log(10\\omega) - 10\\log\\big(1+100\\omega^2\\big) = 20 + 20\\log\\omega - 10\\log\\big(1+(10\\omega)^2\\big)$$"
   ]
  },
  {
   "cell_type": "markdown",
   "id": "ea7d1efd",
   "metadata": {},
   "source": [
    "The cutoff frequency is:  \n",
    "\n",
    "$$ \\omega_\\mathrm{c} = 0.1\\,\\mathrm{rad}\\,\\mathrm{s} $$"
   ]
  },
  {
   "cell_type": "markdown",
   "id": "4b863a10",
   "metadata": {},
   "source": [
    "The radian frequency $\\omega$ as a function of one interval on the domain of $K_\\mathrm{dB}$ at the logarithmic scale is given by:  \n",
    "\n",
    "$$ \\omega = \\omega(x) = 10^{x-2}\\omega_\\mathrm{c} = 10^{x-3}\\,\\mathrm{rad}/\\mathrm{s}$$"
   ]
  },
  {
   "cell_type": "markdown",
   "id": "8749d852",
   "metadata": {},
   "source": [
    "Finally, the *uncorrected* Bode plot is given by:  \n",
    "\n",
    "$$ f(x) = 20 + 20(x-3) = 20x -40\\quad\\quad\\text{for }\\;\\omega\\le\\omega_\\mathrm{c}$$"
   ]
  },
  {
   "cell_type": "markdown",
   "id": "051ec879",
   "metadata": {},
   "source": [
    "$$ \\omega\\le\\omega_\\mathrm{c}\\quad\\implies\\quad x-3\\le-1\\quad\\implies\\quad x\\le2$$"
   ]
  },
  {
   "cell_type": "markdown",
   "id": "b26c6617",
   "metadata": {},
   "source": [
    "and,  \n",
    "\n",
    "$$ f(x) = 20x - 40 - 20\\log(10\\omega) = 20x - 40 - 20 - 20(x-3) = 0 \\quad\\quad\\text{for }\\;x\\ge2$$"
   ]
  },
  {
   "cell_type": "markdown",
   "id": "5d9d46a0",
   "metadata": {},
   "source": [
    "#### Problem 2\n",
    "2. Draw the logarithmic plot of the RC high(low)-pass filter, $R=10\\mathrm{k}\\Omega$, $C=1\\mu\\mathrm{F}$."
   ]
  }
 ],
 "metadata": {
  "kernelspec": {
   "display_name": "Python 3",
   "language": "python",
   "name": "python3"
  },
  "language_info": {
   "codemirror_mode": {
    "name": "ipython",
    "version": 3
   },
   "file_extension": ".py",
   "mimetype": "text/x-python",
   "name": "python",
   "nbconvert_exporter": "python",
   "pygments_lexer": "ipython3",
   "version": "3.8.10"
  }
 },
 "nbformat": 4,
 "nbformat_minor": 5
}
