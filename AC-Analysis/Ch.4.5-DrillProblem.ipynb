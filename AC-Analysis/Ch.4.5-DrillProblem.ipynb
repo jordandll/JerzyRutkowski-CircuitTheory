{
 "cells": [
  {
   "cell_type": "markdown",
   "id": "2ffd1103",
   "metadata": {},
   "source": [
    "# Transfer Function in the Frequency Domain -- Frequency Response\n",
    "### *Chapter 4 Section 5* -- AC Steady State Analysis"
   ]
  },
  {
   "cell_type": "markdown",
   "id": "55fe2bed",
   "metadata": {},
   "source": [
    "## Drill Problems"
   ]
  },
  {
   "cell_type": "code",
   "execution_count": 1,
   "id": "3dbc3416",
   "metadata": {},
   "outputs": [],
   "source": [
    "import numpy as np\n",
    "import matplotlib.pyplot as plt"
   ]
  },
  {
   "cell_type": "markdown",
   "id": "295c08e0",
   "metadata": {},
   "source": [
    "#### Problem 1\n",
    "1. Draw the amplitude response in logarithmic scale (Bode plot) for the transfer function\n",
    "$$ K(s) = \\frac{A+Bs}{C+Ds}$$\n",
    "    and the following combinations of its coefficients:\n",
    "    1. $A=0.1$, $B=0$, $C=1$, $D=10$; \n",
    "    2. $A=1$, $B=0.1$, $C=0$, $D=1$; \n",
    "    3. $A=0$, $B=10$, $C=1$, $D=10$.   "
   ]
  },
  {
   "cell_type": "markdown",
   "id": "afcc4da6",
   "metadata": {},
   "source": [
    "$$ K_\\mathrm{dB}(\\omega) = 20\\log\\Gamma + 10\\log\\big(1 + \\omega^2 T_{L1}^2\\big) - 10\\log\\big(1+\\omega^2 T_{M1}^2\\big)$$"
   ]
  },
  {
   "cell_type": "markdown",
   "id": "be73aa80",
   "metadata": {},
   "source": [
    "where,  \n",
    "\n",
    "$$ \\Gamma = \\frac{A}{C}\\quad\\quad T_{L1} = \\frac{B}{A}\\quad\\quad T_{M1} = \\frac{D}{C}$$"
   ]
  },
  {
   "cell_type": "markdown",
   "id": "f8afc8aa",
   "metadata": {},
   "source": [
    "In the **case of A**:  \n",
    "\n",
    "$$ \\Gamma = 0.1 \\quad\\quad T_{L1} = 0\\quad\\quad T_{M1} = 10$$"
   ]
  },
  {
   "cell_type": "markdown",
   "id": "478186c9",
   "metadata": {},
   "source": [
    "Thus,  \n",
    "\n",
    "$$ K_\\mathrm{dB}(\\omega) = -20 - 10\\log\\big(1 + 100\\omega^2\\big)$$"
   ]
  },
  {
   "cell_type": "markdown",
   "id": "609132fe",
   "metadata": {},
   "source": [
    "Thus cutoff frequency is:  \n",
    "\n",
    "$$ \\omega_\\mathrm{c} = \\frac{1}{T_{M1}} = 0.1\\,\\mathrm{rad}/\\mathrm{s}$$"
   ]
  },
  {
   "cell_type": "markdown",
   "id": "14ba24cc",
   "metadata": {},
   "source": [
    "The radian frequency $\\omega$ as a function of one interval on the $\\omega$-axis  at the logarithmic scale is given by:  \n",
    "\n",
    "$$ \\omega = \\omega(x) = 10^{x-2}\\omega_\\mathrm{c} = 10^{x-3}\\,\\mathrm{rad}/\\mathrm{s}$$"
   ]
  },
  {
   "cell_type": "markdown",
   "id": "bc3090e3",
   "metadata": {},
   "source": [
    "The *uncorrected* Bode plot is given by $f(x)$, where,  \n",
    "\n",
    "$$ f(x) = -20 \\quad\\quad\\text{for }\\; \\omega \\le \\omega_\\mathrm{c}$$"
   ]
  },
  {
   "cell_type": "markdown",
   "id": "e24bf99f",
   "metadata": {},
   "source": [
    "Note that:  \n",
    "\n",
    "$$ \\omega \\le \\omega_\\mathrm{c} \\quad\\implies\\quad x-3 \\le -1 \\quad\\implies\\quad x \\le 2$$"
   ]
  },
  {
   "cell_type": "markdown",
   "id": "e9246421",
   "metadata": {},
   "source": [
    "And,  \n",
    "\n",
    "$$ f(x) = -40 - 20\\log10^{x-3} = -40 - 20(x-3) = 20 - 20x \\quad\\quad\\text{for }\\;x\\ge 2$$"
   ]
  },
  {
   "cell_type": "code",
   "execution_count": 2,
   "id": "80f81e51",
   "metadata": {},
   "outputs": [],
   "source": [
    "log = np.log10\n",
    "sqrt = np.sqrt"
   ]
  },
  {
   "cell_type": "code",
   "execution_count": 3,
   "id": "ec391efb",
   "metadata": {
    "code_folding": [
     0
    ]
   },
   "outputs": [
    {
     "data": {
      "text/plain": [
       "<matplotlib.legend.Legend at 0x7fd30de1deb0>"
      ]
     },
     "execution_count": 3,
     "metadata": {},
     "output_type": "execute_result"
    },
    {
     "data": {
      "image/png": "[encoded data removed]",
      "text/plain": [
       "<Figure size 432x288 with 1 Axes>"
      ]
     },
     "metadata": {
      "needs_background": "light"
     },
     "output_type": "display_data"
    }
   ],
   "source": [
    "# Create the radian frequency domain at the logarithmic scale.\n",
    "x = np.linspace(0, 4, num=200)\n",
    "omega = 10**(x-3)\n",
    "\n",
    "# Define the functions that give the (un)corrected Bode plot(s).\n",
    "K_dB = -20-10*log(1+100*omega**2)\n",
    "f = [-20 if x_i <= 2 else 20 - 20*x_i for x_i in x]\n",
    "\n",
    "# Create the figure and axes objects.\n",
    "fig, ax = plt.subplots()\n",
    "ax.set_title('Bode Plot', size=14)\n",
    "ax.set_xlabel('radian frequency [rad/s]')\n",
    "ax.set_ylabel('gain [dB]')\n",
    "\n",
    "ax.set_xticks([0,1,2,3,4], [r'$10^{' + str(i - 3) + r'}$' for i in range(5)])\n",
    "ax.set_yticks([-20, -23, -40, -60])\n",
    "ax.grid()\n",
    "\n",
    "# Plot the data.\n",
    "ax.plot(x, K_dB, label='corrected')\n",
    "ax.plot(x, f, label='uncorrected')\n",
    "ax.legend()"
   ]
  },
  {
   "cell_type": "markdown",
   "id": "83161b62",
   "metadata": {},
   "source": [
    "In the **case of B**:  \n",
    "\n",
    "$$ K(j\\omega) = \\frac{1 + j0.1\\omega}{j\\omega} = 0.1-j\\frac{1}{\\omega} = \\frac{0.1\\omega - j}{\\omega}$$"
   ]
  },
  {
   "cell_type": "markdown",
   "id": "24b3a6d4",
   "metadata": {},
   "source": [
    "$$ K(\\omega) = \\sqrt{0.01 + \\frac{1}{\\omega^2}}\\quad\\implies\\quad K_\\mathrm{dB}(\\omega) = 10\\log\\left(0.01+ \\frac{1}{\\omega^2}\\right)$$"
   ]
  },
  {
   "cell_type": "markdown",
   "id": "27521725",
   "metadata": {},
   "source": [
    "$$ K_\\mathrm{dB}(\\omega) = 10\\log\\frac{\\omega^2 + 100}{100\\omega^2} = 10\\log\\big(\\omega^2+100\\big) -20\\log(10\\omega) = 10\\log\\big(\\omega^2+100\\big) - 20 - 20\\log\\omega$$"
   ]
  },
  {
   "cell_type": "markdown",
   "id": "fa5221b8",
   "metadata": {},
   "source": [
    "$$  = 10\\log\\Big(100\\big((0.1\\omega)^2 + 1\\big)\\Big) - 20 - 20\\log\\omega$$"
   ]
  },
  {
   "cell_type": "markdown",
   "id": "4203ef55",
   "metadata": {},
   "source": [
    "The gain, in decibels, is given by:  \n",
    "\n",
    "$$ K_\\mathrm{dB}(\\omega) = 10\\log\\big((0.1\\omega)^2+1\\big) - 20\\log\\omega$$"
   ]
  },
  {
   "cell_type": "markdown",
   "id": "0accf844",
   "metadata": {},
   "source": [
    "The cutoff frequency is given by:  \n",
    "\n",
    "$$ \\omega_\\mathrm{c} = 10\\,\\mathrm{rad}/\\mathrm{s}$$"
   ]
  },
  {
   "cell_type": "markdown",
   "id": "ec1b7fef",
   "metadata": {},
   "source": [
    "The radian frequency $\\omega$ as a function of one interval on the the $\\omega$-axis  at the logarithmic scale is given by:  \n",
    "\n",
    "$$ \\omega = \\omega(x) = 10^{x-2}\\omega_\\mathrm{c} = 10^{x-1}$$"
   ]
  },
  {
   "cell_type": "markdown",
   "id": "46672cd5",
   "metadata": {},
   "source": [
    "Finally, the *uncorrected* Bode plot is given by $f(x)$, where,  \n",
    "\n",
    "$$ f(x) = -20(x-1) = 20(1-x) \\quad\\quad\\text{for }\\;\\omega\\le\\omega_\\mathrm{c}$$"
   ]
  },
  {
   "cell_type": "markdown",
   "id": "edc265e3",
   "metadata": {},
   "source": [
    "$$ \\omega\\le\\omega_\\mathrm{c} \\quad\\implies\\quad x-1\\le1 \\quad\\implies\\quad x\\le2$$"
   ]
  },
  {
   "cell_type": "markdown",
   "id": "9582d079",
   "metadata": {},
   "source": [
    "$$ f(x) = 20\\log(0.1\\omega) - 20\\log\\omega = 20\\log0.1 = -20\\quad\\quad\\text{for}\\;x\\ge2$$"
   ]
  },
  {
   "cell_type": "code",
   "execution_count": 4,
   "id": "1093ec18",
   "metadata": {
    "code_folding": [
     0
    ]
   },
   "outputs": [
    {
     "data": {
      "text/plain": [
       "<matplotlib.legend.Legend at 0x7fd30bc64520>"
      ]
     },
     "execution_count": 4,
     "metadata": {},
     "output_type": "execute_result"
    },
    {
     "data": {
      "image/png": "[encoded data removed]",
      "text/plain": [
       "<Figure size 432x288 with 1 Axes>"
      ]
     },
     "metadata": {
      "needs_background": "light"
     },
     "output_type": "display_data"
    }
   ],
   "source": [
    "# Create the radian frequency domain at the logarithmic scale.\n",
    "x = np.linspace(0, 4, num=200)\n",
    "omega = 10**(x-1)\n",
    "\n",
    "# Define the functions that give the (un)corrected Bode plot(s).\n",
    "K_dB = 10*log((0.1*omega)**2 + 1) - 20*log(omega)\n",
    "f = [20*(1-x_i) if x_i <= 2 else -20 for x_i in x]\n",
    "\n",
    "# Create the figure and axes objects.\n",
    "fig, ax = plt.subplots()\n",
    "ax.set_title('Bode Plot', size=14)\n",
    "ax.set_xlabel('radian frequency [rad/s]')\n",
    "ax.set_ylabel('gain [dB]')\n",
    "\n",
    "ax.set_xticks([0,1,2,3,4], [r'$10^{' + str(i - 1) + r'}$' for i in range(5)])\n",
    "ax.set_yticks([20, 0, -20, -17])\n",
    "ax.grid()\n",
    "\n",
    "# Plot the data.\n",
    "ax.plot(x, K_dB, label='corrected')\n",
    "ax.plot(x, f, label='uncorrected')\n",
    "ax.legend()"
   ]
  },
  {
   "cell_type": "markdown",
   "id": "a5f7aa15",
   "metadata": {},
   "source": [
    "In the **case of C**)  $A=0$, $B=10$, $C=1$, $D=10$:  "
   ]
  },
  {
   "cell_type": "markdown",
   "id": "3db3724f",
   "metadata": {},
   "source": [
    "$$ K(j\\omega) = \\frac{j10\\omega}{1 + j10\\omega} \\quad\\implies\\quad K(\\omega) = \\frac{10\\omega}{\\sqrt{1 + 100\\omega^2}}$$"
   ]
  },
  {
   "cell_type": "markdown",
   "id": "1e3522ad",
   "metadata": {},
   "source": [
    "The gain, in decibels, is given by:  \n",
    "\n",
    "$$ K_\\mathrm{dB}(\\omega) = 20\\log(10\\omega) - 10\\log\\big(1+100\\omega^2\\big) = 20 + 20\\log\\omega - 10\\log\\big(1+(10\\omega)^2\\big)$$"
   ]
  },
  {
   "cell_type": "markdown",
   "id": "18e4e476",
   "metadata": {},
   "source": [
    "The cutoff frequency is:  \n",
    "\n",
    "$$ \\omega_\\mathrm{c} = 0.1\\,\\mathrm{rad}\\,\\mathrm{s} $$"
   ]
  },
  {
   "cell_type": "markdown",
   "id": "939a5281",
   "metadata": {},
   "source": [
    "The radian frequency $\\omega$ as a function of one interval on the $\\omega$-axis  at the logarithmic scale is given by:  \n",
    "\n",
    "$$ \\omega = \\omega(x) = 10^{x-2}\\omega_\\mathrm{c} = 10^{x-3}\\,\\mathrm{rad}/\\mathrm{s}$$"
   ]
  },
  {
   "cell_type": "markdown",
   "id": "9ceb6ed4",
   "metadata": {},
   "source": [
    "Finally, the *uncorrected* Bode plot is given by:  \n",
    "\n",
    "$$ f(x) = 20 + 20(x-3) = 20x -40\\quad\\quad\\text{for }\\;\\omega\\le\\omega_\\mathrm{c}$$"
   ]
  },
  {
   "cell_type": "markdown",
   "id": "b825e588",
   "metadata": {},
   "source": [
    "$$ \\omega\\le\\omega_\\mathrm{c}\\quad\\implies\\quad x-3\\le-1\\quad\\implies\\quad x\\le2$$"
   ]
  },
  {
   "cell_type": "markdown",
   "id": "5bc11dcb",
   "metadata": {},
   "source": [
    "and,  \n",
    "\n",
    "$$ f(x) = 20x - 40 - 20\\log(10\\omega) = 20x - 40 - 20 - 20(x-3) = 0 \\quad\\quad\\text{for }\\;x\\ge2$$"
   ]
  },
  {
   "cell_type": "markdown",
   "id": "a9146b93",
   "metadata": {},
   "source": [
    "#### Problem 2\n",
    "2. Draw the logarithmic plot of the RC high(low)-pass filter, $R=10\\mathrm{k}\\Omega$, $C=1\\mu\\mathrm{F}$."
   ]
  },
  {
   "cell_type": "markdown",
   "id": "bff515ce",
   "metadata": {},
   "source": [
    "For the **low pass filter**:  \n",
    "\n",
    "\\begin{equation}\\tag{3}\n",
    "    K(j\\omega) = \\frac{1}{1+j\\omega T}\\quad\\quad\\text{where }\\;T = RC\n",
    "\\end{equation}"
   ]
  },
  {
   "cell_type": "markdown",
   "id": "c827ced7",
   "metadata": {},
   "source": [
    "And,  \n",
    "\n",
    "$$ K(\\omega) = \\frac{1}{\\sqrt{1+(\\omega T)^2}} \\quad\\implies\\quad K_\\mathrm{dB}(\\omega) = -10\\log\\big(1+(\\omega T)^2\\big)$$"
   ]
  },
  {
   "cell_type": "markdown",
   "id": "04ee1c43",
   "metadata": {},
   "source": [
    "The cutoff or half-power frequency is:  \n",
    "\n",
    "$$ \\omega_\\mathrm{c} = \\frac{1}{T} = \\frac{1}{RC} = \\frac{1}{10\\mathrm{m}[\\Omega\\cdot\\mathrm{F}]} = 100\\,\\mathrm{rad}/\\mathrm{s}$$"
   ]
  },
  {
   "cell_type": "markdown",
   "id": "3b7d80c6",
   "metadata": {},
   "source": [
    "The radian frequency $\\omega$ as a function of one interval on the $\\omega$-axis at the logarithmic scale is given by:  \n",
    "\n",
    "$$\\omega = \\omega(x) = 10^{x-2}\\omega_\\mathrm{c} = 10^x\\,\\mathrm{rad}/\\mathrm{s}$$"
   ]
  },
  {
   "cell_type": "markdown",
   "id": "730dd6a6",
   "metadata": {},
   "source": [
    "The *uncorrected* Bode plot is given by:  \n",
    "\n",
    "$$ f(x) = 0 \\quad\\quad\\text{for }\\;\\omega\\le\\omega_\\mathrm{c}$$"
   ]
  },
  {
   "cell_type": "markdown",
   "id": "5f4ae777",
   "metadata": {},
   "source": [
    "$$ \\omega\\le\\omega_\\mathrm{c} \\quad\\implies\\quad x\\le2$$"
   ]
  },
  {
   "cell_type": "markdown",
   "id": "6314a03a",
   "metadata": {},
   "source": [
    "and,  \n",
    "\n",
    "$$ f(x) = -20\\log\\big(0.01\\omega(x)\\big) = 40 - 20x \\quad\\quad\\text{for }\\;x\\ge2$$"
   ]
  },
  {
   "cell_type": "markdown",
   "id": "382f69ca",
   "metadata": {},
   "source": [
    "Now, for the **high pass filter**:  \n",
    "\n",
    "$$ K(j\\omega) = \\frac{j\\omega T}{j\\omega T+1} \\quad\\quad\\text{where }\\; T=RC = 10\\mathrm{ms} = 0.01\\mathrm{s}$$"
   ]
  },
  {
   "cell_type": "markdown",
   "id": "64057c7b",
   "metadata": {},
   "source": [
    "$$ K(\\omega) \\frac{\\omega T}{\\sqrt{1+(\\omega T)^2}} \\quad\\implies\\quad K_\\mathrm{dB}(\\omega) = 20\\log(\\omega T) - 10\\log\\big(1+(\\omega T)^2\\big)$$"
   ]
  },
  {
   "cell_type": "markdown",
   "id": "67252937",
   "metadata": {},
   "source": [
    "$$ K_\\mathrm{dB}(\\omega) = 20\\log\\omega  - 40 - 10\\log\\big(1+(\\omega T)^2\\big)$$"
   ]
  },
  {
   "cell_type": "markdown",
   "id": "55513cac",
   "metadata": {},
   "source": [
    "The cutoff frequency is given by:  \n",
    "\n",
    "$$ \\omega_\\mathrm{c} = \\frac{1}{T} = 100\\,\\mathrm{rad}/\\mathrm{s}$$"
   ]
  },
  {
   "cell_type": "markdown",
   "id": "2a8b14e7",
   "metadata": {},
   "source": [
    "The radian frequency $\\omega$ as a function of one interval on the $\\omega$-axis at the logarithmic scale is given by:  \n",
    "\n",
    "$$ \\omega = \\omega(x) = 10^{x-2}\\omega_\\mathrm{c} = 10^x\\,\\mathrm{rad}/\\mathrm{s}$$"
   ]
  },
  {
   "cell_type": "markdown",
   "id": "44fc9079",
   "metadata": {},
   "source": [
    "Finally, the *uncorrected* Bode plot is given by:  \n",
    "\n",
    "$$ f(x) = 20x - 40 \\quad\\quad\\text{for }\\; x\\le2$$"
   ]
  },
  {
   "cell_type": "markdown",
   "id": "e79a82ad",
   "metadata": {},
   "source": [
    "and,  \n",
    "\n",
    "$$ f(x) = 20x - 40 - 20\\log(\\omega T) = 0 \\quad\\quad\\text{for }\\;x\\ge2$$"
   ]
  },
  {
   "cell_type": "markdown",
   "id": "95908fcd",
   "metadata": {},
   "source": [
    "#### Problem 3\n",
    "3. Draw the logarithmic plot of the ideal integrator (differentiator) characterized by the integration (differentiation) constant $T=10\\mathrm{s}$."
   ]
  },
  {
   "cell_type": "markdown",
   "id": "55cf8a59",
   "metadata": {},
   "source": [
    "For the ideal **integrator**:  \n",
    "\n",
    "$$ K(j\\omega) = \\frac{1}{j\\omega T} \\quad\\implies\\quad K(\\omega) = \\frac{1}{\\omega T} \\quad\\implies\\quad K_\\mathrm{dB}(\\omega) = -20\\log(\\omega T) = -20-20\\log\\omega$$"
   ]
  },
  {
   "cell_type": "markdown",
   "id": "5396a136",
   "metadata": {},
   "source": [
    "The cutoff or half-power frequency is given by:  \n",
    "\n",
    "$$ K(\\omega_\\mathrm{c}) = \\frac{1}{\\sqrt{2}} \\quad\\implies\\quad \\omega_\\mathrm{c}T = \\sqrt{2}$$"
   ]
  },
  {
   "cell_type": "markdown",
   "id": "69c60ca7",
   "metadata": {},
   "source": [
    "$$ \\omega_\\mathrm{c} = \\frac{\\sqrt{2}}{10}\\,\\left[\\frac{\\mathrm{rad}}{\\mathrm{s}}\\right]$$"
   ]
  },
  {
   "cell_type": "markdown",
   "id": "82914604",
   "metadata": {},
   "source": [
    "The radian frequency $\\omega$ as a function of one interval on the $\\omega$-axis at the logarithmic scale is given by:  \n",
    "\n",
    "$$ \\omega = \\omega(x) = 10^{x-2}\\omega_\\mathrm{c} = 10^{x-3}\\sqrt{2}\\,\\mathrm{rad}/\\mathrm{s}$$"
   ]
  },
  {
   "cell_type": "markdown",
   "id": "bbe29676",
   "metadata": {},
   "source": [
    "The bode plot is given by:  \n",
    "\n",
    "$$ f(x) = -20 - 20(x-3) - 10\\log2 = 40 - 20x -10\\log2$$"
   ]
  },
  {
   "cell_type": "markdown",
   "id": "5d4c7f82",
   "metadata": {},
   "source": [
    "And, for the ideal **differentiator**:  \n",
    "\n",
    "$$ K(j\\omega) = j \\omega T \\quad\\implies\\quad K(\\omega) = \\omega T \\quad\\implies\\quad K_\\mathrm{dB}(\\omega) = 20\\log(\\omega T)$$"
   ]
  },
  {
   "cell_type": "markdown",
   "id": "9da8fff7",
   "metadata": {},
   "source": [
    "$$ K_\\mathrm{dB}(\\omega) = 20 + 20\\log\\omega$$"
   ]
  },
  {
   "cell_type": "markdown",
   "id": "bd31eac1",
   "metadata": {},
   "source": [
    "$$ \\omega_\\mathrm{c} = \\frac{1}{10\\sqrt{2}} = 0.1\\sqrt{2}\\,\\mathrm{rad}/\\mathrm{s}$$"
   ]
  },
  {
   "cell_type": "markdown",
   "id": "1da4ecb6",
   "metadata": {},
   "source": [
    "$$ \\omega = \\omega(x) = 10^{x-2}\\omega_\\mathrm{c} = 10^{x-3}\\sqrt{2}\\,\\mathrm{rad}/\\mathrm{s} $$"
   ]
  },
  {
   "cell_type": "markdown",
   "id": "5c68f02c",
   "metadata": {},
   "source": [
    "$$ f(x) = 20 + 20(x-3) + 10\\log2 = 20x + 10\\log2 - 40$$"
   ]
  },
  {
   "cell_type": "markdown",
   "id": "3333716f",
   "metadata": {},
   "source": [
    "#### Problem 4\n",
    "4. What is the simplest structure of a filter giving the following amplitude response?  \n",
    "\n",
    "![Fig-P.4.5.4](Figures/Fig-P.4.5.4.png)"
   ]
  },
  {
   "cell_type": "markdown",
   "id": "6caa78b8",
   "metadata": {},
   "source": [
    "A two-port element with a capacitor resting on it's only middle branch and a resistor connected in series with a coil both resting on the input side of said two-port element has a frequency response of:  \n",
    "\n",
    "$$ K(j\\omega) = \\frac{1}{j\\omega C Z(j\\omega)} \\quad\\quad\\text{where }\\;Z(j\\omega) = R + j\\omega L + \\frac{1}{j\\omega C} = R + \\frac{1-\\omega^2LC}{j\\omega C}$$"
   ]
  },
  {
   "cell_type": "markdown",
   "id": "02617d25",
   "metadata": {},
   "source": [
    "$$ Z(j\\omega) = R + j\\,\\frac{\\omega^2LC - 1}{\\omega C}$$"
   ]
  },
  {
   "cell_type": "markdown",
   "id": "8cb7faf1",
   "metadata": {},
   "source": [
    "\\begin{equation}\\tag{4.1}\n",
    "    K(\\omega) = \\frac{1}{\\omega C Z(\\omega)} = \\frac{1}{\\sqrt{(\\omega RC)^2 + \\big(\\omega^2LC - 1\\big)^2}}\n",
    "\\end{equation}"
   ]
  },
  {
   "cell_type": "markdown",
   "id": "23d3276f",
   "metadata": {},
   "source": [
    "The half-power frequency is given by:  \n",
    "\n",
    "$$ K(\\omega_\\mathrm{c}) = \\frac{1}{\\sqrt{2}} \\quad\\implies\\quad (\\omega_\\mathrm{c} RC)^2 + \\big(\\omega_\\mathrm{c}^2LC - 1\\big)^2 = 2$$"
   ]
  },
  {
   "cell_type": "markdown",
   "id": "a5e25700",
   "metadata": {},
   "source": [
    "$$ \\omega_\\mathrm{c}^4(LC)^2 - 2\\omega_\\mathrm{c}^2LC +1 + \\omega_\\mathrm{c}^2(RC)^2 =2$$"
   ]
  },
  {
   "cell_type": "markdown",
   "id": "541527ea",
   "metadata": {},
   "source": [
    "$$ \\omega_\\mathrm{c}^4(LC)^2 + \\omega_\\mathrm{c}^2\\big((RC)^2 - 2LC\\big) - 1 = 0$$"
   ]
  },
  {
   "cell_type": "markdown",
   "id": "71cbdb55",
   "metadata": {},
   "source": [
    "Via the above equation and the quadratic formula,  \n",
    "\n",
    "$$ \\omega_\\mathrm{c}^2 = \\frac{2LC-(RC)^2\\pm\\sqrt{\\big((RC)^2-2LC\\big)^2 + 4(LC)^2}}{2(LC)^2}$$"
   ]
  },
  {
   "cell_type": "markdown",
   "id": "ee73d161",
   "metadata": {},
   "source": [
    "The above equation has only one real valued solution,  \n",
    "\n",
    "$$ \\omega_\\mathrm{c} = \\frac{\\sqrt{2LC-(RC)^2+\\sqrt{\\big((RC)^2-2LC\\big)^2 + 4(LC)^2}}}{\\sqrt{2}LC}$$"
   ]
  },
  {
   "cell_type": "markdown",
   "id": "6a89def7",
   "metadata": {},
   "source": [
    "Equation (4.1) gives the curve found in plot a) in figure P.4.5.4.  To verify this, assume that $R=1000\\Omega$, $L=1\\mathrm{H}$, and $C=1\\mu\\mathrm{F}$."
   ]
  },
  {
   "cell_type": "code",
   "execution_count": 5,
   "id": "0d98595a",
   "metadata": {},
   "outputs": [
    {
     "data": {
      "text/plain": [
       "1272.0196495140688"
      ]
     },
     "execution_count": 5,
     "metadata": {},
     "output_type": "execute_result"
    }
   ],
   "source": [
    "R = 1000; L = 1; C = 1e-6\n",
    "omega_c = sqrt(2*L*C-(R*C)**2 + sqrt(((R*C)**2-2*L*C)**2 + 4*(L*C)**2))/(L*C*sqrt(2))\n",
    "omega_c"
   ]
  },
  {
   "cell_type": "code",
   "execution_count": 6,
   "id": "97b6c6b0",
   "metadata": {
    "code_folding": [
     0
    ]
   },
   "outputs": [],
   "source": [
    "# Create the frequency domain.\n",
    "omega = np.linspace(0, 2*omega_c, num=200)\n",
    "f = omega / (2*np.pi)\n",
    "\n",
    "# Define the gain.\n",
    "K = 1/sqrt((omega*R*C)**2 + (omega**2*L*C - 1)**2)"
   ]
  },
  {
   "cell_type": "code",
   "execution_count": 7,
   "id": "e2640092",
   "metadata": {},
   "outputs": [
    {
     "data": {
      "text/plain": [
       "(1.1546762841748524, 0.16571104182871396)"
      ]
     },
     "execution_count": 7,
     "metadata": {},
     "output_type": "execute_result"
    }
   ],
   "source": [
    "(max(K), min(K))"
   ]
  },
  {
   "cell_type": "code",
   "execution_count": 8,
   "id": "08e99a22",
   "metadata": {},
   "outputs": [
    {
     "data": {
      "text/plain": [
       "0.7071067811865475"
      ]
     },
     "execution_count": 8,
     "metadata": {},
     "output_type": "execute_result"
    }
   ],
   "source": [
    "1/sqrt(2)"
   ]
  },
  {
   "cell_type": "code",
   "execution_count": 9,
   "id": "300f2ca9",
   "metadata": {
    "code_folding": [
     0
    ]
   },
   "outputs": [
    {
     "data": {
      "text/plain": [
       "[<matplotlib.lines.Line2D at 0x7fd30bc703a0>]"
      ]
     },
     "execution_count": 9,
     "metadata": {},
     "output_type": "execute_result"
    },
    {
     "data": {
      "image/png": "[encoded data removed]",
      "text/plain": [
       "<Figure size 432x288 with 1 Axes>"
      ]
     },
     "metadata": {
      "needs_background": "light"
     },
     "output_type": "display_data"
    }
   ],
   "source": [
    "# Create the figure and axes objects.\n",
    "fig, ax = plt.subplots()\n",
    "ax.set_title('Gain', size=14)\n",
    "ax.set_xlabel('radian frequency [rad/s]')\n",
    "ax.set_ylabel('gain')\n",
    "\n",
    "ax.set_xticks([0, 0.5*omega_c, omega_c, 1.5*omega_c], ['0', f'{0.5*omega_c:.2f}', r'$\\omega_\\mathrm{c}$', \\\n",
    "                                                       f'{1.5*omega_c:.2f}'])\n",
    "ax.set_yticks([0, 1/sqrt(2), 1], ['0', r'$\\frac{1}{\\sqrt{2}}$', '1'])\n",
    "ax.grid()\n",
    "\n",
    "# Plot the data.\n",
    "ax.plot(omega, K)"
   ]
  },
  {
   "cell_type": "markdown",
   "id": "35ba9856",
   "metadata": {},
   "source": [
    "A two-port element with a coil resting on the only middle branch and a capacitor resting on the input side of the two-port element will give the amplitude response shown in **plot b)**.  The dashed vertical line is given by the resonant frequency."
   ]
  },
  {
   "cell_type": "markdown",
   "id": "0afc516c",
   "metadata": {},
   "source": [
    "A two-port element with a resistor connected in series with a coil both resting on it's only middle branch and a capacitor resting on it's input side will give the amplitude response shown in **plot c)**.  At $\\omega=0$, the capacitor is an open-circuit, dropping all of the input voltage, and subsequently allowing no current to pass through the middle branch, implying an output voltage of zero.  As $\\omega$ approaches infinity, the voltage dropped across the capacitor approaches zero, leaving all of the input voltage to drop across the output terminals."
   ]
  },
  {
   "cell_type": "markdown",
   "id": "ccc9408b",
   "metadata": {},
   "source": [
    "#### Problem 5\n",
    "5. Sketch amplitude response $K(\\omega)$ of the given filters.  \n",
    "\n",
    "![Fig-P.4.5.5](Figures/Fig-P.4.5.5.png)"
   ]
  },
  {
   "cell_type": "markdown",
   "id": "9349825f",
   "metadata": {},
   "source": [
    "For filter **a)**:  "
   ]
  },
  {
   "cell_type": "markdown",
   "id": "84fd09d4",
   "metadata": {},
   "source": [
    "$$ K(\\omega) = \\frac{X_1(\\omega)}{X(\\omega)}$$"
   ]
  },
  {
   "cell_type": "markdown",
   "id": "5b69f5c8",
   "metadata": {},
   "source": [
    "$$ X_1(\\omega) = \\frac{\\omega^2LC-1}{\\omega C}\\quad\\quad\\text{and}\\quad\\quad X(\\omega) = \\frac{\\omega^2LC-2}{\\omega C}$$"
   ]
  },
  {
   "cell_type": "markdown",
   "id": "3557c24b",
   "metadata": {},
   "source": [
    "$$ K(\\omega) = \\frac{\\omega^2LC-1}{\\omega^2LC - 2}$$"
   ]
  },
  {
   "cell_type": "markdown",
   "id": "a43a15ae",
   "metadata": {},
   "source": [
    "At $\\omega=0$, or, in the case of a DC input signal, both capacitors are open-circuits, each dropping half of the input voltage, implying that $K(0)=0.5$.  As $\\omega$ approaches infinity, the capacitors become short-circuits, leaving all of the input voltage to drop across the coil, implying that $K(\\infty)=1$."
   ]
  },
  {
   "cell_type": "markdown",
   "id": "392817ab",
   "metadata": {},
   "source": [
    "At resonance, the amplitude response is zero.  \n",
    "\n",
    "$$ K(\\omega_\\mathrm{r}) = 0 \\quad\\implies\\quad \\omega_\\mathrm{r} = \\frac{1}{\\sqrt{LC}}$$"
   ]
  },
  {
   "cell_type": "markdown",
   "id": "e7387215",
   "metadata": {},
   "source": [
    "Furthermore, since,  \n",
    "\n",
    "$$ \\omega^2LC - 2 < 0 \\quad\\implies\\quad \\omega < \\sqrt{\\frac{2}{LC}} = \\sqrt{2}\\omega_\\mathrm{r}$$"
   ]
  },
  {
   "cell_type": "markdown",
   "id": "155fef0e",
   "metadata": {},
   "source": [
    "and,  \n",
    "\n",
    "$$ \\omega^2LC - 1 > 0 \\quad\\implies\\quad \\omega > \\frac{1}{\\sqrt{LC}} = \\omega_\\mathrm{r}$$"
   ]
  },
  {
   "cell_type": "markdown",
   "id": "36a3bb92",
   "metadata": {},
   "source": [
    "$$ K(\\omega) < 0 \\quad\\iff\\quad \\omega_\\mathrm{r} < \\omega < \\sqrt{2}\\omega_\\mathrm{r}$$"
   ]
  },
  {
   "cell_type": "markdown",
   "id": "0845df7a",
   "metadata": {},
   "source": [
    "$$ K\\big(\\sqrt{2}\\omega_\\mathrm{r}\\big) = \\infty$$"
   ]
  },
  {
   "cell_type": "markdown",
   "id": "30e415ff",
   "metadata": {},
   "source": [
    "The half-power frequency is given by:  \n",
    "\n",
    "$$ K(\\omega_\\mathrm{c}) = \\frac{1}{\\sqrt{2}} \\quad\\implies\\quad \\sqrt{2}\\big(\\omega_\\mathrm{c}^2LC-1\\big) = \\omega_\\mathrm{c}^2LC-2$$"
   ]
  },
  {
   "cell_type": "markdown",
   "id": "3b4e20f6",
   "metadata": {},
   "source": [
    "$$ \\omega_\\mathrm{c}^2LC\\big(\\sqrt{2} - 1\\big) = \\sqrt{2} - 2$$"
   ]
  },
  {
   "cell_type": "markdown",
   "id": "b0e08ae0",
   "metadata": {},
   "source": [
    "$$ \\omega_\\mathrm{c} = \\sqrt{\\frac{\\sqrt{2}-2}{LC\\big(\\sqrt{2}-1\\big)}}$$"
   ]
  },
  {
   "cell_type": "markdown",
   "id": "38e95ef8",
   "metadata": {},
   "source": [
    "Which is not real valued."
   ]
  },
  {
   "cell_type": "markdown",
   "id": "faa20bb2",
   "metadata": {},
   "source": [
    "Assuming $L=1\\mathrm{H}$ and $C=1\\mu\\mathrm{F}$,"
   ]
  },
  {
   "cell_type": "code",
   "execution_count": 13,
   "id": "4d5e2ef6",
   "metadata": {},
   "outputs": [],
   "source": [
    "L = 1; C = 1e-6\n",
    "omega_r = 1/sqrt(L*C)"
   ]
  },
  {
   "cell_type": "code",
   "execution_count": 22,
   "id": "0404c735",
   "metadata": {
    "code_folding": []
   },
   "outputs": [
    {
     "data": {
      "text/plain": [
       "[<matplotlib.lines.Line2D at 0x7fd3077c7850>]"
      ]
     },
     "execution_count": 22,
     "metadata": {},
     "output_type": "execute_result"
    },
    {
     "data": {
      "image/png": "[encoded data removed]",
      "text/plain": [
       "<Figure size 432x288 with 1 Axes>"
      ]
     },
     "metadata": {
      "needs_background": "light"
     },
     "output_type": "display_data"
    }
   ],
   "source": [
    "# Create the frequency domain.\n",
    "omega = np.linspace(0, 5*omega_r, num=1000)\n",
    "\n",
    "# Define the gain.\n",
    "K = (omega**2*L*C-1)/(omega**2*L*C-2)\n",
    "\n",
    "fig, ax = plt.subplots()\n",
    "ax.set_title('Amplitude Response', size=14)\n",
    "ax.set_xlabel('radian frequency [rad/s]')\n",
    "ax.set_ylabel('gain')\n",
    "\n",
    "ax.set_xticks([0, omega_r, sqrt(2)*omega_r], ['0', r'$\\omega_\\mathrm{r}$', r'$\\sqrt{2}\\omega_\\mathrm{r}$'])\n",
    "ax.set_yticks([-10**2, -10, -1, 0, 1, 10, 10**2])\n",
    "ax.set_yscale('symlog')\n",
    "ax.grid()\n",
    "\n",
    "ax.plot(omega, abs(K))"
   ]
  },
  {
   "cell_type": "markdown",
   "id": "95131564",
   "metadata": {},
   "source": [
    "For filter **b)**:  \n",
    "\n",
    "$$ K(\\omega) = \\frac{|X_1(\\omega)|}{|X(\\omega)|} \\quad\\quad\\text{where }\\;X_1(\\omega) = \\omega L - \\frac{1}{\\omega C} = \\frac{\\omega^2LC-1}{\\omega C}$$"
   ]
  },
  {
   "cell_type": "markdown",
   "id": "3120a02f",
   "metadata": {},
   "source": [
    "and,  \n",
    "\n",
    "$$ X(\\omega) = 2\\omega L - \\frac{1}{\\omega C} = \\frac{2\\omega^2LC - 1}{\\omega C}$$"
   ]
  },
  {
   "cell_type": "markdown",
   "id": "518705cb",
   "metadata": {},
   "source": [
    "Or,    \n",
    "\n",
    "$$ K(\\omega) = \\left|\\frac{\\omega^2LC-1}{2\\omega^2LC-1}\\right| $$"
   ]
  },
  {
   "cell_type": "markdown",
   "id": "fc08ef1a",
   "metadata": {},
   "source": [
    "At $\\omega=0$, or, when the input signal is a DC signal, the capacitor is an open-circuit, and thus, all of the input voltage is dropped across the output terminals, implying that $K(0) = 1$.  As $\\omega$ approaches infinity, the capacitor becomes a short-circuit and the two coils each drop half of the input voltage, implying that $K(\\infty) = 0.5$"
   ]
  },
  {
   "cell_type": "markdown",
   "id": "b6fd1282",
   "metadata": {},
   "source": [
    "Does the amplitude response go above one?  \n",
    "\n",
    "$$ K(\\omega) > 1 \\quad\\implies\\quad $$"
   ]
  }
 ],
 "metadata": {
  "kernelspec": {
   "display_name": "Python 3",
   "language": "python",
   "name": "python3"
  },
  "language_info": {
   "codemirror_mode": {
    "name": "ipython",
    "version": 3
   },
   "file_extension": ".py",
   "mimetype": "text/x-python",
   "name": "python",
   "nbconvert_exporter": "python",
   "pygments_lexer": "ipython3",
   "version": "3.8.10"
  }
 },
 "nbformat": 4,
 "nbformat_minor": 5
}
