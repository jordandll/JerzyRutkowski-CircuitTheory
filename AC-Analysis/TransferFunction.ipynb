{
 "cells": [
  {
   "cell_type": "markdown",
   "id": "555572ba",
   "metadata": {},
   "source": [
    "# Transfer Function in Frequency Domain -- Frequency Response\n",
    "### *Chapter 4 Section 5* -- AC Steady-State Analysis\n",
    "\n",
    "In most cases, ac steady-state analysis is much narrowly defined than that of finding all\n",
    "responses (amplitudes and phases) at single frequency excitation. A convenient way to test a\n",
    "linear circuit is to inject a sinusoid as the input and observe the sinusoidal steady-state output\n",
    "(amplitude and/or phase) at different frequencies. In many practical circuits, observation of\n",
    "response variations with frequency, the so called **frequency response**, is the fundamental part\n",
    "of ac analysis. In such case, the analysis is limited to the SISO analysis and the transfer\n",
    "function approach is utilized. The SISO circuit described in the frequency domain is presented\n",
    "in Fig. 4.5.1 – to avoid collision of notations, frequency-domain signals are denoted as '$F_x(j\\omega)$'\n",
    "and '$F_y(j\\omega)$' ,while the $s$-domain signals have been denoted as '$X(s)$' and '$Y(s)$'.  \n",
    "\n",
    "![Fig-4.5.1](Figures/Fig-4.5.1.png)"
   ]
  },
  {
   "cell_type": "markdown",
   "id": "9e95f107",
   "metadata": {},
   "source": [
    "The **frequency response function** $K(j\\omega)$ , or, the transfer function $K(s)$ with $s$ replaced by $j\\omega$, scales the input phasor to yield the output phasor.  \n",
    "\n",
    "\\begin{equation}\\tag{1}\n",
    "\tK(j\\omega) = K(s)_{\\big\\vert s=j\\omega} = \\frac{F_y(j\\omega)}{F_x(j\\omega)} = K(\\omega)e^{j\\varphi(\\omega)} = K(\\omega)\\,\\angle\\varphi(\\omega)\n",
    "\\end{equation}"
   ]
  },
  {
   "cell_type": "markdown",
   "id": "d8ed4056",
   "metadata": {},
   "source": [
    "where,  \n",
    "\n",
    "\\begin{equation}\\tag{1a}\n",
    "    K(\\omega) = \\frac{F_y(\\omega)}{F_x(\\omega)}\n",
    "\\end{equation}"
   ]
  },
  {
   "cell_type": "markdown",
   "id": "015a24e0",
   "metadata": {},
   "source": [
    "and,  \n",
    "\n",
    "\\begin{equation}\\tag{1b}\n",
    "    \\varphi(\\omega) = \\alpha_y(\\omega) - \\alpha_x(\\omega)\n",
    "\\end{equation}"
   ]
  },
  {
   "cell_type": "markdown",
   "id": "db985633",
   "metadata": {},
   "source": [
    "The curves for gain $K(\\omega)$ versus $\\omega$ and phase shift $\\varphi(\\omega)$ versus $\\omega$ are called the **magnitude** or **amplitude** (frequency) **response** and **phase response**, respectively."
   ]
  },
  {
   "cell_type": "markdown",
   "id": "9f72da93",
   "metadata": {},
   "source": [
    "The SISO circuit gain $K(\\omega)$ and phase shift $\\varphi(\\omega)$ completely describe how the circuit responds to inputs at any frequency.  \n",
    "\n",
    "For the two-terminal circuit, if $F_x(j\\omega)$ is its current $I(j\\omega)$ and $F_y(j\\omega)$ is its voltage $U(j\\omega)$\n",
    ", or vice-versa, then $K(j\\omega)=Z(j\\omega)$ or $K(j\\omega)=Y(j\\omega)$ , respectively, and this case has been already discussed in the preceding Chapter. In electronics, in most practical applications two- port is considered, as shown in Fig. 4.5.2. Then, the frequency response function (magnitude response) is the ratio of two voltages:  \n",
    "\n",
    "\\begin{equation}\\tag{2}\n",
    "\tK(j\\omega) = \\frac{U_y(j\\omega)}{U_x(j\\omega)}\\quad\\quad\\text{and}\\quad\\quad K(\\omega) = \\frac{U_y(\\omega)}{U_x(\\omega)}\n",
    "\\end{equation}"
   ]
  },
  {
   "cell_type": "markdown",
   "id": "ef5a06b1",
   "metadata": {},
   "source": [
    "![Fig-4.5.2](Figures/Fig-4.5.2.png)"
   ]
  },
  {
   "cell_type": "markdown",
   "id": "0ed59f7d",
   "metadata": {},
   "source": [
    "The circuit frequency response can be expressed graphically. The locus of the frequency\n",
    "response function can be plotted in the complex plan, or separate curves for phase shift and\n",
    "magnitude versus $\\omega$ can be graphed. The latter one is normally graphed in logarithmic scale,\n",
    "as described in the next section of this Chapter."
   ]
  },
  {
   "cell_type": "markdown",
   "id": "8f7bf21a",
   "metadata": {},
   "source": [
    "### Example 4.5.1\n",
    "Plot the locus of the frequency response function, the phase response and the magnitude\n",
    "response of the two-port RC circuit shown in Fig. 4.5.3.  \n",
    "\n",
    "![Fig-4.5.3](Figures/Fig-4.5.3.png)"
   ]
  },
  {
   "cell_type": "markdown",
   "id": "9449a4ed",
   "metadata": {},
   "source": [
    "$$ K(j\\omega) = \\frac{Z_C(j\\omega)}{Z(j\\omega)}\\quad\\quad\\text{where }\\;Z(j\\omega) = R - j\\frac{1}{\\omega C} \\quad\\text{and}\\quad Z_C(j\\omega) = -j\\frac{1}{\\omega C}$$"
   ]
  },
  {
   "cell_type": "markdown",
   "id": "ae314a24",
   "metadata": {},
   "source": [
    "$$ K(j\\omega) = \\frac{1}{j\\omega C\\,\\left(R + \\frac{1}{j\\omega C}\\right)} = \\frac{1}{1+j\\omega RC}$$"
   ]
  },
  {
   "cell_type": "markdown",
   "id": "854a6df2",
   "metadata": {},
   "source": [
    "Finally,  \n",
    "\n",
    "\\begin{equation}\\tag{3}\n",
    "    K(j\\omega) = \\frac{1}{1+j\\omega T}\\quad\\quad\\text{where }\\;T = RC\n",
    "\\end{equation}"
   ]
  },
  {
   "cell_type": "markdown",
   "id": "fd486ee4",
   "metadata": {},
   "source": [
    "Note that frequency response function $K(j\\omega)$ is equal to the transfer function $K(s)$ of the practical RC voltage integrator shown in figure (3.3.2a).  Indeed, the circuit shown in figure (4.5.3) and (3.3.2a) are equivalent;  They are just in different domains: one the frequency domain, the other, the $s$-domain."
   ]
  },
  {
   "cell_type": "markdown",
   "id": "beb7bacf",
   "metadata": {},
   "source": [
    "$$ K(j\\omega) = K(s) = \\frac{1}{1+sT}_{\\big\\vert s=j\\omega}$$"
   ]
  },
  {
   "cell_type": "markdown",
   "id": "056a8d63",
   "metadata": {},
   "source": [
    "The magnitude response is given by:  \n",
    "\n",
    "\\begin{equation}\\tag{3a}\n",
    "    K(\\omega) = \\frac{|X_C(\\omega)|}{Z(\\omega)} = \\frac{1}{\\omega C \\sqrt{R^2 + \\frac{1}{\\omega^2C^2}}} = \\frac{1}{\\sqrt{1+\\omega^2T^2}}\n",
    "\\end{equation}"
   ]
  },
  {
   "cell_type": "markdown",
   "id": "0e76d128",
   "metadata": {},
   "source": [
    "And, for the phase response:  \n",
    "\n",
    "$$ \\varphi_Z(\\omega) = \\varphi_Z = -\\arcsin\\frac{1}{\\omega CZ(\\omega)} = -\\arcsin K(\\omega)$$"
   ]
  },
  {
   "cell_type": "markdown",
   "id": "383a8dab",
   "metadata": {},
   "source": [
    "and,  \n",
    "\n",
    "$$ \\varphi_C(\\omega) = \\varphi_C = -90^\\circ$$"
   ]
  },
  {
   "cell_type": "markdown",
   "id": "585f63bb",
   "metadata": {},
   "source": [
    "\\begin{equation}\\tag{3b}\n",
    "    \\varphi(\\omega) = \\varphi = \\arcsin K(\\omega) - 90^\\circ = -\\arctan\\omega RC = -\\arctan\\omega T\n",
    "\\end{equation}"
   ]
  },
  {
   "cell_type": "markdown",
   "id": "50c43f6e",
   "metadata": {},
   "source": [
    "The frequency response function, gain and phase shift, are collected in Table 4.5.1, for three\n",
    "characteristic frequencies.  \n",
    "\n",
    "![Table-4.5.1](Figures/Table-4.5.1.png)"
   ]
  },
  {
   "cell_type": "markdown",
   "id": "134e2898",
   "metadata": {},
   "source": [
    "It can be proved that locus described by the function (4.5.3) is a semicircle, as shown in Fig.\n",
    "4.5.4. The amplitude response (**gain curve**) and phase response (**phase shift curve**) are\n",
    "presented in Fig. 4.5.5.  \n",
    "\n",
    "![Fig-4.5.4](Figures/Fig-4.5.4.png)\n",
    "\n",
    "![Fig-4.5.5](Figures/Fig-4.5.5.png)"
   ]
  },
  {
   "cell_type": "markdown",
   "id": "3ce226f5",
   "metadata": {},
   "source": [
    "### Bode (Logarithmic) Plot\n",
    "The use of linear scale to measure gain has its limitations. Small dynamic range it makes\n",
    "available for graphing is the most important drawback of such scale. It is desirable to have\n",
    "equal ratios mapped into equal displacements and this can be achieved by using a logarithmic\n",
    "scale.  \n",
    "\n",
    "On a logarithmic scale, equal intervals represent a certain multiple, an increase of unity in the\n",
    "common logarithm, $\\log_{10}(x) := \\log(x)$ , represents multiplication by ten:  \n",
    "\n",
    "\\begin{equation}\\tag{4}\n",
    "\t\\omega_2 = 10\\omega_1\\quad\\implies\\quad \\log\\frac{\\omega_2}{\\omega_1} = \\log10 = 1\n",
    "\\end{equation}  \n",
    "\n",
    "![Fig-4.5.6](Figures/Fig-4.5.6.png)"
   ]
  },
  {
   "cell_type": "markdown",
   "id": "e62bc7c4",
   "metadata": {},
   "source": [
    "In case of frequency such an interval is called a decade. In case of magnitude such an interval\n",
    "is called bell. For some practical reasons $10\\cdot\\mathrm{bel} = \\mathbf{decibel}\\, [\\mathrm{dB}]$ was adopted, first for the power ratio:  \n",
    "\n",
    "\\begin{equation}\\tag{5}\n",
    "    10\\,\\log\\frac{P_y(\\omega)}{P_x(\\omega)}\n",
    "\\end{equation}"
   ]
  },
  {
   "cell_type": "markdown",
   "id": "0613a4bc",
   "metadata": {},
   "source": [
    "From this ratio, the voltage gain in logarithmic scale is obtained.  \n",
    "\n",
    "\\begin{equation}\\tag{5a}\n",
    "    \\frac{P_y(\\omega)}{P_x(\\omega)} = \\frac{U_y^2(\\omega)G}{U_x^2(\\omega)G} \\quad\\implies\\quad K_\\mathrm{dB}(\\omega) = 10\\,\\log\\frac{U_y^2(\\omega)}{U_x^2(\\omega)} = 10\\,\\log K^2(\\omega) = 20\\,\\log K(\\omega)\n",
    "\\end{equation}"
   ]
  },
  {
   "cell_type": "markdown",
   "id": "9e206f65",
   "metadata": {},
   "source": [
    "Or, simply:  \n",
    "\n",
    "\\begin{equation}\\tag{5a}\n",
    "    K_\\mathrm{dB}(\\omega) = 20\\,\\log K(\\omega)\n",
    "\\end{equation}"
   ]
  },
  {
   "cell_type": "markdown",
   "id": "005f9f89",
   "metadata": {},
   "source": [
    "Then, for voltages (or currents) the gain is measured in decibels by twenty times its common\n",
    "logarithm. Table 4.5.1 presents the common decibel conversion table.  \n",
    "\n",
    "![Table-4.5.2](Figures/Table-4.5.2.png)"
   ]
  },
  {
   "cell_type": "markdown",
   "id": "397a71d0",
   "metadata": {},
   "source": [
    "An exact plot of gain versus frequency (logarithmic plot) is somewhat tedious to produce. In\n",
    "the 1930s the German-born engineer Hendrick Bode devised a simple method for graphing\n",
    "the logarithmic plot, it bears his name **Bode gain plot**.  \n",
    "\n",
    "Consider a transfer function (3.3.2) with $s$ replaced by $\\omega j$."
   ]
  }
 ],
 "metadata": {
  "kernelspec": {
   "display_name": "Python 3",
   "language": "python",
   "name": "python3"
  },
  "language_info": {
   "codemirror_mode": {
    "name": "ipython",
    "version": 3
   },
   "file_extension": ".py",
   "mimetype": "text/x-python",
   "name": "python",
   "nbconvert_exporter": "python",
   "pygments_lexer": "ipython3",
   "version": "3.8.10"
  }
 },
 "nbformat": 4,
 "nbformat_minor": 5
}
