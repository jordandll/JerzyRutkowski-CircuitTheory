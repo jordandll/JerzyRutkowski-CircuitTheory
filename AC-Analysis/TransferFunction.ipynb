{
 "cells": [
  {
   "cell_type": "markdown",
   "id": "643682e8",
   "metadata": {},
   "source": [
    "# Transfer Function in Frequency Domain -- Frequency Response\n",
    "### *Chapter 4 Section 5* -- AC Steady-State Analysis\n",
    "\n",
    "In most cases, ac steady-state analysis is much narrowly defined than that of finding all\n",
    "responses (amplitudes and phases) at single frequency excitation. A convenient way to test a\n",
    "linear circuit is to inject a sinusoid as the input and observe the sinusoidal steady-state output\n",
    "(amplitude and/or phase) at different frequencies. In many practical circuits, observation of\n",
    "response variations with frequency, the so called **frequency response**, is the fundamental part\n",
    "of ac analysis. In such case, the analysis is limited to the SISO analysis and the transfer\n",
    "function approach is utilized. The SISO circuit described in the frequency domain is presented\n",
    "in Fig. 4.5.1 – to avoid collision of notations, frequency-domain signals are denoted as '$F_x(j\\omega)$'\n",
    "and '$F_y(j\\omega)$' ,while the $s$-domain signals have been denoted as '$X(s)$' and '$Y(s)$'.  \n",
    "\n",
    "![Fig-4.5.1](Figures/Fig-4.5.1.png)"
   ]
  },
  {
   "cell_type": "markdown",
   "id": "fb15ddd0",
   "metadata": {},
   "source": [
    "The **frequency response function** $K(j\\omega)$ , or, the transfer function $K(s)$ with $s$ replaced by $j\\omega$, scales the input phasor to yield the output phasor.  \n",
    "\n",
    "\\begin{equation}\\tag{1}\n",
    "\tK(j\\omega) = K(s)_{\\big\\vert s=j\\omega} = \\frac{F_y(j\\omega)}{F_x(j\\omega)} = K(\\omega)e^{j\\varphi(\\omega)} = K(\\omega)\\,\\angle\\varphi(\\omega)\n",
    "\\end{equation}"
   ]
  },
  {
   "cell_type": "markdown",
   "id": "35f48461",
   "metadata": {},
   "source": [
    "where,  \n",
    "\n",
    "\\begin{equation}\\tag{1a}\n",
    "    K(\\omega) = \\frac{F_y(\\omega)}{F_x(\\omega)}\n",
    "\\end{equation}"
   ]
  },
  {
   "cell_type": "markdown",
   "id": "5d268555",
   "metadata": {},
   "source": [
    "and,  \n",
    "\n",
    "\\begin{equation}\\tag{1b}\n",
    "    \\varphi(\\omega) = \\alpha_y(\\omega) - \\alpha_x(\\omega)\n",
    "\\end{equation}"
   ]
  },
  {
   "cell_type": "markdown",
   "id": "d4ccf844",
   "metadata": {},
   "source": [
    "The curves for gain $K(\\omega)$ versus $\\omega$ and phase shift $\\varphi(\\omega)$ versus $\\omega$ are called the **magnitude** or **amplitude** (frequency) **response** and **phase response**, respectively."
   ]
  },
  {
   "cell_type": "markdown",
   "id": "49e85b86",
   "metadata": {},
   "source": [
    "The SISO circuit gain $K(\\omega)$ and phase shift $\\varphi(\\omega)$ completely describe how the circuit responds to inputs at any frequency.  \n",
    "\n",
    "For the two-terminal circuit, if $F_x(j\\omega)$ is its current $I(j\\omega)$ and $F_y(j\\omega)$ is its voltage $U(j\\omega)$\n",
    ", or vice-versa, then $K(j\\omega)=Z(j\\omega)$ or $K(j\\omega)=Y(j\\omega)$ , respectively, and this case has been already discussed in the preceding Chapter. In electronics, in most practical applications two- port is considered, as shown in Fig. 4.5.2. Then, the frequency response function (magnitude response) is the ratio of two voltages:  \n",
    "\n",
    "\\begin{equation}\\tag{2}\n",
    "\tK(j\\omega) = \\frac{U_y(j\\omega)}{U_x(j\\omega)}\\quad\\quad\\text{and}\\quad\\quad K(\\omega) = \\frac{U_y(\\omega)}{U_x(\\omega)}\n",
    "\\end{equation}"
   ]
  },
  {
   "cell_type": "markdown",
   "id": "60c0fb51",
   "metadata": {},
   "source": [
    "![Fig-4.5.2](Figures/Fig-4.5.2.png)"
   ]
  },
  {
   "cell_type": "markdown",
   "id": "7f66aee9",
   "metadata": {},
   "source": [
    "The circuit frequency response can be expressed graphically. The locus of the frequency\n",
    "response function can be plotted in the complex plan, or separate curves for phase shift and\n",
    "magnitude versus $\\omega$ can be graphed. The latter one is normally graphed in logarithmic scale,\n",
    "as described in the next section of this Chapter."
   ]
  },
  {
   "cell_type": "markdown",
   "id": "6f957bce",
   "metadata": {},
   "source": [
    "### Example 4.5.1\n",
    "Plot the locus of the frequency response function, the phase response and the magnitude\n",
    "response of the two-port RC circuit shown in Fig. 4.5.3.  \n",
    "\n",
    "![Fig-4.5.3](Figures/Fig-4.5.3.png)"
   ]
  },
  {
   "cell_type": "markdown",
   "id": "4fe791eb",
   "metadata": {},
   "source": [
    "$$ K(j\\omega) = \\frac{Z_C(j\\omega)}{Z(j\\omega)}\\quad\\quad\\text{where }\\;Z(j\\omega) = R - j\\frac{1}{\\omega C} \\quad\\text{and}\\quad Z_C(j\\omega) = -j\\frac{1}{\\omega C}$$"
   ]
  },
  {
   "cell_type": "markdown",
   "id": "c9df8892",
   "metadata": {},
   "source": [
    "$$ K(j\\omega) = \\frac{1}{j\\omega C\\,\\left(R + \\frac{1}{j\\omega C}\\right)} = \\frac{1}{1+j\\omega RC}$$"
   ]
  },
  {
   "cell_type": "markdown",
   "id": "9db42c91",
   "metadata": {},
   "source": [
    "Finally,  \n",
    "\n",
    "\\begin{equation}\\tag{3}\n",
    "    K(j\\omega) = \\frac{1}{1+j\\omega T}\\quad\\quad\\text{where }\\;T = RC\n",
    "\\end{equation}"
   ]
  },
  {
   "cell_type": "markdown",
   "id": "d15f9a78",
   "metadata": {},
   "source": [
    "Note that frequency response function $K(j\\omega)$ is equal to the transfer function $K(s)$ of the practical RC voltage integrator shown in figure (3.3.2a).  Indeed, the circuit shown in figure (4.5.3) and (3.3.2a) are equivalent;  They are just in different domains: one the frequency domain, the other, the $s$-domain."
   ]
  },
  {
   "cell_type": "markdown",
   "id": "08748558",
   "metadata": {},
   "source": [
    "$$ K(j\\omega) = K(s) = \\frac{1}{1+sT}_{\\big\\vert s=j\\omega}$$"
   ]
  },
  {
   "cell_type": "markdown",
   "id": "27cf542b",
   "metadata": {},
   "source": [
    "The magnitude response is given by:  \n",
    "\n",
    "\\begin{equation}\\tag{3a}\n",
    "    K(\\omega) = \\frac{|X_C(\\omega)|}{Z(\\omega)} = \\frac{1}{\\omega C \\sqrt{R^2 + \\frac{1}{\\omega^2C^2}}} = \\frac{1}{\\sqrt{1+\\omega^2T^2}}\n",
    "\\end{equation}"
   ]
  },
  {
   "cell_type": "markdown",
   "id": "3685a083",
   "metadata": {},
   "source": [
    "And, for the phase response:  \n",
    "\n",
    "$$ \\varphi_Z(\\omega) = \\varphi_Z = -\\arcsin\\frac{1}{\\omega CZ(\\omega)} = -\\arcsin K(\\omega)$$"
   ]
  },
  {
   "cell_type": "markdown",
   "id": "6ea45e66",
   "metadata": {},
   "source": [
    "and,  \n",
    "\n",
    "$$ \\varphi_C(\\omega) = \\varphi_C = -90^\\circ$$"
   ]
  },
  {
   "cell_type": "markdown",
   "id": "c139879e",
   "metadata": {},
   "source": [
    "\\begin{equation}\\tag{3b}\n",
    "    \\varphi(\\omega) = \\varphi = \\arcsin K(\\omega) - 90^\\circ = -\\arctan\\omega RC = -\\arctan\\omega T\n",
    "\\end{equation}"
   ]
  },
  {
   "cell_type": "markdown",
   "id": "8fa7d0de",
   "metadata": {},
   "source": [
    "The frequency response function, gain and phase shift, are collected in Table 4.5.1, for three\n",
    "characteristic frequencies.  \n",
    "\n",
    "![Table-4.5.1](Figures/Table-4.5.1.png)"
   ]
  },
  {
   "cell_type": "markdown",
   "id": "9e906eaa",
   "metadata": {},
   "source": [
    "It can be proved that locus described by the function (4.5.3) is a semicircle, as shown in Fig.\n",
    "4.5.4. The amplitude response (**gain curve**) and phase response (**phase shift curve**) are\n",
    "presented in Fig. 4.5.5.  \n",
    "\n",
    "![Fig-4.5.4](Figures/Fig-4.5.4.png)\n",
    "\n",
    "![Fig-4.5.5](Figures/Fig-4.5.5.png)"
   ]
  },
  {
   "cell_type": "markdown",
   "id": "16750644",
   "metadata": {},
   "source": [
    "### Bode (Logarithmic) Plot\n",
    "The use of linear scale to measure gain has its limitations. Small dynamic range it makes\n",
    "available for graphing is the most important drawback of such scale. It is desirable to have\n",
    "equal ratios mapped into equal displacements and this can be achieved by using a logarithmic\n",
    "scale.  \n",
    "\n",
    "On a logarithmic scale, equal intervals represent a certain multiple, an increase of unity in the\n",
    "common logarithm, $\\log_{10}(x) := \\log(x)$ , represents multiplication by ten:  \n",
    "\n",
    "\\begin{equation}\\tag{4}\n",
    "\t\\omega_2 = 10\\omega_1\\quad\\implies\\quad \\log\\frac{\\omega_2}{\\omega_1} = \\log10 = 1\n",
    "\\end{equation}  \n",
    "\n",
    "![Fig-4.5.6](Figures/Fig-4.5.6.png)"
   ]
  },
  {
   "cell_type": "markdown",
   "id": "62b327f0",
   "metadata": {},
   "source": [
    "In case of frequency such an interval is called a decade. In case of magnitude such an interval\n",
    "is called bell. For some practical reasons $10\\cdot\\mathrm{bel} = \\mathbf{decibel}\\, [\\mathrm{dB}]$ was adopted, first for the power ratio:  \n",
    "\n",
    "\\begin{equation}\\tag{5}\n",
    "    10\\,\\log\\frac{P_y(\\omega)}{P_x(\\omega)}\n",
    "\\end{equation}"
   ]
  },
  {
   "cell_type": "markdown",
   "id": "ff86cb3a",
   "metadata": {},
   "source": [
    "From this ratio, the voltage gain in logarithmic scale is obtained.  \n",
    "\n",
    "\\begin{equation}\\tag{5a}\n",
    "    \\frac{P_y(\\omega)}{P_x(\\omega)} = \\frac{U_y^2(\\omega)G}{U_x^2(\\omega)G} \\quad\\implies\\quad K_\\mathrm{dB}(\\omega) = 10\\,\\log\\frac{U_y^2(\\omega)}{U_x^2(\\omega)} = 10\\,\\log K^2(\\omega) = 20\\,\\log K(\\omega)\n",
    "\\end{equation}"
   ]
  },
  {
   "cell_type": "markdown",
   "id": "53ab5858",
   "metadata": {},
   "source": [
    "Or, simply:  \n",
    "\n",
    "\\begin{equation}\\tag{5a}\n",
    "    K_\\mathrm{dB}(\\omega) = 20\\,\\log K(\\omega)\n",
    "\\end{equation}"
   ]
  },
  {
   "cell_type": "markdown",
   "id": "50ea52ff",
   "metadata": {},
   "source": [
    "Then, for voltages (or currents) the gain is measured in decibels by twenty times its common\n",
    "logarithm. Table 4.5.1 presents the common decibel conversion table.  \n",
    "\n",
    "![Table-4.5.2](Figures/Table-4.5.2.png)"
   ]
  },
  {
   "cell_type": "markdown",
   "id": "ad60337b",
   "metadata": {},
   "source": [
    "An exact plot of gain versus frequency (logarithmic plot) is somewhat tedious to produce. In\n",
    "the 1930s the German-born engineer Hendrick Bode devised a simple method for graphing\n",
    "the logarithmic plot, it bears his name **Bode gain plot**.  \n",
    "\n",
    "Consider a transfer function [(3.3.2)](../TransientAnalysis/ArbitraryExcitation.ipynb#Properties) with $s$ replaced by $j\\omega$.  "
   ]
  },
  {
   "cell_type": "markdown",
   "id": "889c4de9",
   "metadata": {},
   "source": [
    "\\begin{equation}\\tag{6}\n",
    "    K(j\\omega) = K\\,\\frac{L(j\\omega)}{M(j\\omega)}\\; =\\; K\\,\\frac{\\displaystyle \\prod_{j=1}^{l} (j\\omega-q_j)}{\\displaystyle\\prod_{k=1}^m (j\\omega-s_k)}\\; = \\; C\\frac{\\displaystyle \\prod_{j=1}^l \\big(1+j\\omega T_{Lj}\\big)}{\\displaystyle \\prod_{k=1}^m\\big(1+j\\omega T_{Mk}\\big)}\n",
    "\\end{equation}  "
   ]
  },
  {
   "cell_type": "markdown",
   "id": "fc73b767",
   "metadata": {},
   "source": [
    "where,\n",
    "* $q_j$ and $s_k$ are the roots of the numerator and denominator polynomials, or zeroes and poles of $K(j\\omega)$, respectively.\n",
    "* and $K=\\text{const}$ is the gain.  \n",
    "* $\\displaystyle T_{Lj} = -\\frac{1}{q_j}$, and $\\displaystyle T_{Mk} = -\\frac{1}{s_k}$ are time constants."
   ]
  },
  {
   "cell_type": "markdown",
   "id": "b5f62986",
   "metadata": {},
   "source": [
    "Then, the gain in logarithmic scale is given by:  \n",
    "\n",
    "\\begin{align*}\\tag{7}\n",
    "\tK_\\mathrm{dB}(\\omega) &= 20\\log C + \\sum_{j=1}^l 20\\log\\sqrt{1+(\\omega T_{Lj})^2} - \\sum_{k=1}^m 20\\log\\sqrt{1+(\\omega T_{Mk})^2} \\\\\n",
    "\t &= 20\\log C + 10\\sum_{j=1}^l \\log\\big(1+(\\omega T_{Lj})^2 \\big) - 10\\sum_{k=1}^m\\log\\big(1+(\\omega T_{Mk})^2\\big)\n",
    "\\end{align*}"
   ]
  },
  {
   "cell_type": "markdown",
   "id": "666243ac",
   "metadata": {},
   "source": [
    "The strategy for plotting the gain in decibels will be to plot each term of (4.5.7) separately and then add these component plots graphically.  \n",
    "\n",
    "The graph of the first term clearly is a flat straight line at the level of $20\\log C$.  \n",
    "\n",
    "The graph of a term $f(\\omega) = 20\\log\\sqrt{1+(\\omega T)^2} = 10\\log\\big(1+(\\omega T)^2\\big)$ can be approximated by two linear segments, as presented in Fig. 4.5.7.  \n",
    "\n",
    "\\begin{equation}\\tag{8a}\n",
    "\t\\text{I.}\\quad \\omega T \\ll 1 \\;\\equiv\\; \\omega \\ll \\omega_c = \\frac{1}{T}\\quad\\implies\\quad f(\\omega) \\approxeq 0\n",
    "\\end{equation}\n",
    "\n",
    "\\begin{equation}\\tag{8b}\n",
    "\t\\text{II.}\\quad \\omega T \\gg 1 \\;\\equiv\\; \\omega \\gg \\omega_c = \\frac{1}{T}\\quad\\implies\\quad f(\\omega) \\approxeq20\\log(\\omega T)\n",
    "\\end{equation}"
   ]
  },
  {
   "cell_type": "markdown",
   "id": "ead94394",
   "metadata": {},
   "source": [
    "![Fig-4.5.7](Figures/Fig-4.5.7.png)"
   ]
  },
  {
   "cell_type": "markdown",
   "id": "4925a5d8",
   "metadata": {},
   "source": [
    "Here,  \n",
    "\n",
    "$$ \\omega = \\omega(x) = 10^{x-2}\\omega_c = \\frac{10^{x-2}}{T}$$"
   ]
  },
  {
   "cell_type": "markdown",
   "id": "0f0b6cdb",
   "metadata": {},
   "source": [
    "Via the above equation and equaton (8b),  \n",
    "\n",
    "\\begin{equation}\\tag{M1}\n",
    "    f(x) = f(\\omega)\\circ\\omega(x) = 20\\log10^{x-2} = 20x - 20 = 20(x-2)\\quad\\text{where }\\;\\omega \\gg \\omega_c\n",
    "\\end{equation}"
   ]
  },
  {
   "cell_type": "markdown",
   "id": "6e2129cf",
   "metadata": {},
   "source": [
    "\\begin{equation}\\tag{M1a}\n",
    "    f'(x) = 20\n",
    "\\end{equation}"
   ]
  },
  {
   "cell_type": "markdown",
   "id": "dc075a6d",
   "metadata": {},
   "source": [
    "Such plot of PWL approximation, a pair of lines meeting at the **break frequency** or **cut-off\n",
    "frequency** $\\omega_c$, is called the **uncorrected Bode plot**. It is worth to observe that slope of the\n",
    "second segment (4.5.8b) is equal to 20 dB/decade (which is implied by equation (M1a). The true or **corrected Bode plot** is denoted\n",
    "by the dashed curve. Note that the maximum error occurs at the break frequency and it is\n",
    "equal to 3 dB. Far from this frequency the uncorrected and corrected plots merge smoothly.\n",
    "The technique for using component graphs to generate Bode plot will be illustrated in\n",
    "Example 4.5.2."
   ]
  },
  {
   "cell_type": "markdown",
   "id": "6abc9f31",
   "metadata": {},
   "source": [
    "### Example 4.5.2\n",
    "Find Bode plot of the following transfer function:  \n",
    "\n",
    "\\begin{equation}\\tag{9}\n",
    "\tK(s) = 10\\frac{1+s}{1+s10}\n",
    "\\end{equation}  "
   ]
  },
  {
   "cell_type": "markdown",
   "id": "06979932",
   "metadata": {},
   "source": [
    "![Fig-4.5.8](Figures/Fig-4.5.8.png)"
   ]
  },
  {
   "cell_type": "markdown",
   "id": "54849d67",
   "metadata": {},
   "source": [
    "Replacing $s$ with $j\\omega$ in equation (9) gives:  \n",
    "\n",
    "\\begin{equation}\\tag{M2}\n",
    "    K(j\\omega) = 10\\frac{1+j\\omega}{1+j10\\omega}\n",
    "\\end{equation}"
   ]
  },
  {
   "cell_type": "markdown",
   "id": "1c4ecf7d",
   "metadata": {},
   "source": [
    "The numerator and denominator polynomials of $0.1\\cdot K(j\\omega)$ are:  \n",
    "\n",
    "$$ L^*(j\\omega) = 1+j\\omega \\quad\\quad\\text{and}\\quad\\quad M^*(j\\omega) = 1+10j\\omega$$"
   ]
  },
  {
   "cell_type": "markdown",
   "id": "8dc5af22",
   "metadata": {},
   "source": [
    "Thus,  \n",
    "\n",
    "$$ K(j\\omega) = 10\\frac{L^*(j\\omega)}{M^*(j\\omega)}$$"
   ]
  },
  {
   "cell_type": "markdown",
   "id": "4f84dff0",
   "metadata": {},
   "source": [
    "The roots of the above two polynomials are given by:  \n",
    "\n",
    "\\begin{equation}\\tag{M2}\n",
    "    L^*(q_1) = 0 \\quad\\text{and}\\quad M^*(s_1) = 0 \\quad\\implies\\quad q_1=-1 \\quad\\text{and}\\quad s_1 = -0.1\n",
    "\\end{equation}"
   ]
  },
  {
   "cell_type": "markdown",
   "id": "edd39061",
   "metadata": {},
   "source": [
    "Thus,  \n",
    "\n",
    "$$ L(j\\omega) = j\\omega - q_1 = j\\omega + 1 \\quad\\quad\\text{and}\\quad\\quad M(j\\omega) = j\\omega - s_1 = j\\omega + 0.1$$"
   ]
  },
  {
   "cell_type": "markdown",
   "id": "f1d97ed3",
   "metadata": {},
   "source": [
    "Now, we must find the gain, denoted as '$K$', such that:  \n",
    "\n",
    "$$ K(j\\omega) = K\\frac{L(j\\omega)}{M(j\\omega)} = K\\frac{L^*(j\\omega)}{j\\omega+0.1} = 10\\frac{L^*(j\\omega)}{1+10j\\omega}$$"
   ]
  },
  {
   "cell_type": "markdown",
   "id": "7d30e4e5",
   "metadata": {},
   "source": [
    "\\begin{equation}\\tag{M3}\n",
    "    K = 10\\frac{j\\omega + 0.1}{10j\\omega + 1} = 1\n",
    "\\end{equation}"
   ]
  },
  {
   "cell_type": "markdown",
   "id": "586f2417",
   "metadata": {},
   "source": [
    "The time constants are:  \n",
    "\n",
    "\\begin{equation}\\tag{M4}\n",
    "    \\text{a: }\\;T_{L1} = -\\frac{1}{q_1} = 1\\quad\\quad\\text{and}\\quad\\quad\\text{b: }\\;T_{M1} = -\\frac{1}{s_1} = 10\n",
    "\\end{equation}"
   ]
  },
  {
   "cell_type": "markdown",
   "id": "401e6b34",
   "metadata": {},
   "source": [
    "Now, we must find $C$ -- note that, here, '$C$' no longer denotes capacitance -- such that:  \n",
    "\n",
    "$$ K\\frac{L(j\\omega)}{M(j\\omega)} = \\frac{j\\omega + 1}{j\\omega + 0.1} = C\\frac{1+j\\omega T_{L1}}{1+j\\omega T_{M1}} = C\\frac{1+j\\omega}{1+10j\\omega}$$"
   ]
  },
  {
   "cell_type": "markdown",
   "id": "ba518077",
   "metadata": {},
   "source": [
    "\\begin{equation}\\tag{M5}\n",
    "    C = \\frac{1+10j\\omega}{j\\omega+0.1} = 10\\frac{0.1+j\\omega}{0.1+j\\omega} = 10\n",
    "\\end{equation}"
   ]
  },
  {
   "cell_type": "markdown",
   "id": "5948b79a",
   "metadata": {},
   "source": [
    "Via equations (M4), (M5), and (7), the gain, in decibels, is:  \n",
    "\n",
    "\\begin{equation}\\tag{M6}\n",
    "    K_\\mathrm{dB}(\\omega) = 20 + 10\\log\\big(1 + \\omega^2\\big) - 10\\log\\big(1 + 100\\omega^2 \\big)\n",
    "\\end{equation}"
   ]
  },
  {
   "cell_type": "markdown",
   "id": "b62736e0",
   "metadata": {},
   "source": [
    "The expression that defines $K_\\mathrm{dB}(\\omega)$ consists of three terms: $f_0(\\omega) = 20$, $f_1(\\omega) = 10\\log\\big(1+\\omega^2\\big)$, and $f_2(\\omega) = -10\\log\\big(1+100\\omega^2\\big)$;  Each of which will be graphed seperately, and then these graphs will be added together to give the final graph of $K_\\mathrm{dB}(\\omega)$."
   ]
  },
  {
   "cell_type": "markdown",
   "id": "73ff7573",
   "metadata": {},
   "source": [
    "The graph of the first term, $f_0(\\omega)$ (the dashed line made of relatively small segments in figure 4.5.8) is of course a horizontal line at $20\\mathrm{dB}$.  Via premises (8a,b) and the identity of $f_1(\\omega)$, the cut-off frequency $\\omega_{c1}$ of $f_1(\\omega)$ is:  \n",
    "\n",
    "\\begin{equation}\\tag{M7a}\n",
    "    \\omega_{c1} = \\frac{1}{T_{L1}} = -q_1= 1\\,\\mathrm{rad}/\\mathrm{s}\n",
    "\\end{equation}"
   ]
  },
  {
   "cell_type": "markdown",
   "id": "d6dd27ad",
   "metadata": {},
   "source": [
    "\\begin{equation}\\tag{M7b}\n",
    "    f_1(\\omega) \\approxeq 0 \\quad\\quad\\text{where }\\; \\omega \\ll \\omega_{c1}\n",
    "\\end{equation}"
   ]
  },
  {
   "cell_type": "markdown",
   "id": "1ffa37fb",
   "metadata": {},
   "source": [
    "and,  \n",
    "\n",
    "\\begin{equation}\\tag{M7c}\n",
    "    f_1(\\omega)\\approxeq 20\\log\\omega \\quad\\quad \\text{where }\\; \\omega \\gg \\omega_{c1}\n",
    "\\end{equation}"
   ]
  },
  {
   "cell_type": "markdown",
   "id": "43b0b57b",
   "metadata": {},
   "source": [
    "When graphing the second term, $f_1(\\omega)$, the radian frequency, $\\omega$, as a function of one interval or unity on a logarithmic scale is given by:  \n",
    "\n",
    "\\begin{equation}\\tag{M8a}\n",
    "    \\omega = \\omega(x) = 10^{x-2}\\omega_{c1} = 10^{x-2}\n",
    "\\end{equation}"
   ]
  },
  {
   "cell_type": "markdown",
   "id": "b0864fa3",
   "metadata": {},
   "source": [
    "Thus the approximate graph or uncorrected Bode plot of $f_1(\\omega)$ (the dashed line made of relatively large segments in figure 4.5.8) is given by:  \n",
    "\n",
    "\\begin{equation}\\tag{M8b}\n",
    "    f_1(x) = f_1(\\omega) \\circ \\omega(x) = 20(x-2) \\quad\\quad \\text{for }\\;x \\ge 2\n",
    "\\end{equation}"
   ]
  },
  {
   "cell_type": "markdown",
   "id": "b6c4c8ba",
   "metadata": {},
   "source": [
    "and,  \n",
    "\n",
    "\\begin{equation}\\tag{M8c}\n",
    "    f_1(x) = 0 \\quad\\quad\\text{for }\\; 0<x<2\n",
    "\\end{equation}"
   ]
  },
  {
   "cell_type": "markdown",
   "id": "231fa388",
   "metadata": {},
   "source": [
    "As for the third term:  \n",
    "\n",
    "\\begin{equation}\\tag{M9a}\n",
    "    \\omega_{c2} = \\frac{1}{T_{M1}} = -s_1 = 0.1\\,\\mathrm{rad}/\\mathrm{s}\n",
    "\\end{equation}"
   ]
  },
  {
   "cell_type": "markdown",
   "id": "23a902a2",
   "metadata": {},
   "source": [
    "\\begin{equation}\\tag{M9b}\n",
    "    f_2(\\omega) \\approxeq 0 \\quad\\quad\\text{where }\\;\\omega\\ll\\omega_{c2}\n",
    "\\end{equation}"
   ]
  },
  {
   "cell_type": "markdown",
   "id": "1bf0cb0f",
   "metadata": {},
   "source": [
    "and,  \n",
    "\n",
    "\\begin{equation}\\tag{M9c}\n",
    "    f_2(\\omega) \\approxeq -20\\log(10\\omega) = -20(1 + \\log\\omega) \\quad\\quad \\text{where }\\;\\omega\\gg\\omega_{c2}\n",
    "\\end{equation}"
   ]
  },
  {
   "cell_type": "markdown",
   "id": "0482dc42",
   "metadata": {},
   "source": [
    "When graphing the third term, $f_2(\\omega)$, the radian frequency, $\\omega$, as a function of one interval or unity on a logarithmic scale is given by:  \n",
    "\n",
    "\\begin{equation}\\tag{M10a}\n",
    "    \\omega = \\omega(x) = 10^{x-2}\\omega_{c1} = 10^{x-2}\n",
    "\\end{equation}"
   ]
  },
  {
   "cell_type": "markdown",
   "id": "eaeefaf9",
   "metadata": {},
   "source": [
    "Thus the approximate graph or uncorrected Bode plot of $f_2(\\omega)$ (the dashed line made of relatively large segments in figure 4.5.8) is given by:  \n",
    "\n",
    "\\begin{equation}\\tag{M10b}\n",
    "    f_2(x) = f_2(\\omega)\\circ\\omega(x) = -20(x-1) = 20(1-x)\n",
    "\\end{equation}"
   ]
  }
 ],
 "metadata": {
  "kernelspec": {
   "display_name": "Python 3",
   "language": "python",
   "name": "python3"
  },
  "language_info": {
   "codemirror_mode": {
    "name": "ipython",
    "version": 3
   },
   "file_extension": ".py",
   "mimetype": "text/x-python",
   "name": "python",
   "nbconvert_exporter": "python",
   "pygments_lexer": "ipython3",
   "version": "3.8.10"
  }
 },
 "nbformat": 4,
 "nbformat_minor": 5
}
