{
 "cells": [
  {
   "cell_type": "markdown",
   "id": "8647ac01",
   "metadata": {},
   "source": [
    "# Figure 4.4.21"
   ]
  },
  {
   "cell_type": "markdown",
   "id": "c88e7b88",
   "metadata": {},
   "source": [
    "![Fig-4.4.21](Figures/Fig-4.4.21.png)\n",
    "\n",
    "$$ U_L(\\omega) = X_L(\\omega)I(\\omega) = \\omega L \\,\\frac{U}{\\sqrt{R^2 + X^2(\\omega)}} = \\omega L\\frac{U}{Z(\\omega)}$$\n",
    "\n",
    "$$ U_C(\\omega) = X_C(\\omega)I(\\omega) = \\frac{U}{\\omega C\\sqrt{R^2 + X^2(\\omega)}} = \\frac{U}{\\omega CZ(\\omega)}$$\n",
    "\n",
    "$$ U_L'(\\omega) = L\\frac{U}{Z(\\omega)} - 0.5\\omega L\\,\\frac{2UX(\\omega)X'(\\omega)}{Z^3(\\omega)}$$\n",
    "\n",
    "Recall that:  \n",
    "\n",
    "$$ X(\\omega) = \\frac{\\omega^2LC - 1}{\\omega C} \\quad\\implies\\quad X'(\\omega) = 2\\omega L - \\frac{X(\\omega)}{\\omega}$$\n",
    "\n",
    "$$ U_L'(\\max \\omega_L) = 0 \\quad\\implies\\quad 1 = \\max \\omega_L  \\,\\frac{X(\\max\\omega_L)X'(\\max\\omega_L)}{Z^2(\\max\\omega_L)}$$\n",
    "\n",
    "$$ R^2 + X^2(\\max\\omega_L) = \\max\\omega_L\\,\\left(2\\max\\omega_L LX(\\max\\omega_L) - \\frac{X^2(\\max\\omega_L)}{\\max\\omega_L}\\right)$$\n",
    "\n",
    "Let $\\omega_\\max := \\max\\omega_L$.  \n",
    "\n",
    "$$ R^2 + \\frac{2X^2(\\omega_\\max)}{\\omega_\\max} = 2\\omega_\\max LX(\\omega_\\max)$$\n",
    "\n",
    "$$ R^2 + 2\\,\\frac{\\big(\\omega_\\max^2 LC - 1\\big)^2}{\\omega_\\max^3 C^2} = 2L\\,\\frac{\\omega_\\max^2LC-1}{C}$$"
   ]
  }
 ],
 "metadata": {
  "kernelspec": {
   "display_name": "Python 3",
   "language": "python",
   "name": "python3"
  },
  "language_info": {
   "codemirror_mode": {
    "name": "ipython",
    "version": 3
   },
   "file_extension": ".py",
   "mimetype": "text/x-python",
   "name": "python",
   "nbconvert_exporter": "python",
   "pygments_lexer": "ipython3",
   "version": "3.8.10"
  }
 },
 "nbformat": 4,
 "nbformat_minor": 5
}
