{
 "cells": [
  {
   "cell_type": "markdown",
   "id": "b3bfcb5f",
   "metadata": {},
   "source": [
    "# Figure 4.4.19\n",
    "\n",
    "![Fig-4.4.19](Figures/Fig-4.4.19.png)"
   ]
  },
  {
   "cell_type": "markdown",
   "id": "68ec9731",
   "metadata": {},
   "source": [
    "To ellaborate on Fig-4.4.19:  \n",
    "\n",
    "$$ Z(\\omega) = \\sqrt{R^2+X^2(\\omega)}\\quad\\quad\\text{where }\\;X(\\omega) = \\omega L - \\frac{1}{\\omega C} = \\frac{\\omega^2LC-1}{\\omega C}$$"
   ]
  },
  {
   "cell_type": "markdown",
   "id": "b23e553a",
   "metadata": {},
   "source": [
    "and,  \n",
    "\n",
    "$$ \\varphi = \\varphi(\\omega) = \\arcsin\\frac{X(\\omega)}{Z(\\omega)}$$"
   ]
  }
 ],
 "metadata": {
  "kernelspec": {
   "display_name": "Python 3",
   "language": "python",
   "name": "python3"
  },
  "language_info": {
   "codemirror_mode": {
    "name": "ipython",
    "version": 3
   },
   "file_extension": ".py",
   "mimetype": "text/x-python",
   "name": "python",
   "nbconvert_exporter": "python",
   "pygments_lexer": "ipython3",
   "version": "3.8.10"
  }
 },
 "nbformat": 4,
 "nbformat_minor": 5
}
