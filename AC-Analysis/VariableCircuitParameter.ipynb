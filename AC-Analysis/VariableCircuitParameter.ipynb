{
 "cells": [
  {
   "cell_type": "markdown",
   "id": "1f35af2c",
   "metadata": {},
   "source": [
    "# Analysis of Circuit Response \n",
    "## When One Circuit Parameter Varies\n",
    "### *Chapter 4 Section 6* -- AC Steady State Analysis\n",
    "In some practical applications, the study of a circuit's behavior, when one of it's constants (parameters), henceforth '$q$', such as: resistance $R$, inductance $L$ or capacitance $C$, varies from $Q_\\min$ to $Q_\\max$, is necessary at the design stage. A locus of the circuit phasor response when $q$ varies is plotted in the complex\n",
    "plane and its two shapes will be discussed:\n",
    "\n",
    "1. (half)line,\n",
    "2. (semi)circle.\n",
    "\n",
    "The technique for plotting such loci will be illustrated in Example 4.6.1."
   ]
  },
  {
   "cell_type": "markdown",
   "id": "03148085",
   "metadata": {},
   "source": [
    "### Example 4.6.1a – straight line example\n",
    "For the input voltage $U(j\\omega)=U(\\omega)=U=10/\\sqrt{2}\\mathrm{V}$, plot the locus of the input current phasor, assuming $C$ varies\n",
    "from $0$ to infinity. Other circuit constants are: $\\omega L = R = 10\\Omega$, $\\omega=\\sqrt{2}\\,\\mathrm{rad}/\\mathrm{s}$.  \n",
    "\n",
    "$$ q = C \\quad\\quad Q_\\min = 0 \\quad\\quad Q_\\max = \\infty$$\n",
    "\n",
    "![Fig-4.6.1](Figures/Fig-4.6.1.png)"
   ]
  },
  {
   "cell_type": "markdown",
   "id": "743a1ab9",
   "metadata": {},
   "source": [
    "\\begin{equation}\\tag{M1}\n",
    "    I(jq) = Y(jq)U\n",
    "\\end{equation}"
   ]
  },
  {
   "cell_type": "markdown",
   "id": "04a214e4",
   "metadata": {},
   "source": [
    "Here, '$Y(jq)$' denotes the admittance of the series equivalent circuit and $I(jq)$ is the input current phase as a function of the capacitance, denoted as 'q', which is the variable of the function, instead of the usual $\\omega$.  \n",
    "\n",
    "$$ Y(jq) = Y_1(jq) + j\\omega q = \\frac{1}{R+j\\omega L} + j\\omega q = \\frac{1 + j\\omega qR - \\omega^2qL}{R+j\\omega L}$$"
   ]
  },
  {
   "cell_type": "markdown",
   "id": "b9218093",
   "metadata": {},
   "source": [
    "Let\n",
    "$$ L(jq) := 1 - \\omega^2q L + j\\omega qR \\quad\\quad\\text{and}\\quad\\quad M(jq) = R + j\\omega L$$"
   ]
  },
  {
   "cell_type": "markdown",
   "id": "eff62112",
   "metadata": {},
   "source": [
    "$$ Y(jq) = \\frac{L(jq)}{M(jq)} = \\frac{L(q)}{M(q)}\\,\\angle\\big(\\varphi_{L}(jq) - \\varphi_M(jq)\\big)$$"
   ]
  },
  {
   "cell_type": "markdown",
   "id": "039a4e04",
   "metadata": {},
   "source": [
    "$$ Y(jq) = L(jq)\\,\\frac{M^*(jq)}{M^2(q)} $$"
   ]
  },
  {
   "cell_type": "markdown",
   "id": "18163af3",
   "metadata": {},
   "source": [
    "$$L(jq)M^*(jq) = R - j\\omega L - \\omega^2qRL + j\\omega^3qL^2 + j\\omega qR^2 + \\omega^2qRL$$"
   ]
  },
  {
   "cell_type": "markdown",
   "id": "5371cc91",
   "metadata": {},
   "source": [
    "$$ = R + j\\big(\\omega^3qL^2 + \\omega qR^2 - \\omega L \\big)$$"
   ]
  },
  {
   "cell_type": "markdown",
   "id": "910c2fa5",
   "metadata": {},
   "source": [
    "Finally,  \n",
    "\n",
    "\\begin{equation}\\tag{M2}\n",
    "    Y(jq) = \\frac{R+j\\big(\\omega^3qL^2 + \\omega qR^2 - \\omega L \\big)}{R^2 + \\omega^2L^2}\n",
    "\\end{equation}"
   ]
  },
  {
   "cell_type": "markdown",
   "id": "3104e1c6",
   "metadata": {},
   "source": [
    "Let $\\mathbf{I}:=I(jq)$.  It now follows that $|\\mathbf{I}| = I(q) = \\sqrt{\\mathfrak{Re}\\{\\mathbf{I}\\}^2 + \\mathfrak{Im}\\{\\mathbf{I}\\}^2}$.  Via equations (M1) and (M2),  \n",
    "\n",
    "\\begin{equation}\\tag{M3a}\n",
    "    \\mathfrak{Re}\\{\\mathbf{I}\\} = \\frac{UR}{R^2+\\omega^2L^2} = \\frac{U}{2R}= \\frac{1}{2\\sqrt{2}}\\,\\mathrm{A} =\\text{const}\n",
    "\\end{equation}"
   ]
  },
  {
   "cell_type": "markdown",
   "id": "fa394bf6",
   "metadata": {},
   "source": [
    "and,  \n",
    "\n",
    "\\begin{equation}\\tag{M3b}\n",
    "    \\mathfrak{Im}\\{\\mathbf{I}\\} = \\mathfrak{Im}\\{\\mathbf{I}\\}(q) = U\\,\\frac{q\\big(\\omega^3L^2 + \\omega R^2\\big) - \\omega L}{R^2+\\omega^2L^2}\n",
    "\\end{equation}"
   ]
  },
  {
   "cell_type": "markdown",
   "id": "7b17c41b",
   "metadata": {},
   "source": [
    "Since the real part of $I(jq)$ is constant, and the imaginary part varies with $q$, the locus plot of input phasor current is a vertical line, or, a line that is parallel to the imaginary axis on the complex plane.  Moreover, since  \n",
    "$$ \\mathfrak{Im}\\{\\mathbf{I}\\}(Q_\\min) = -\\frac{\\omega UL}{R^2+\\omega^2L^2} = -\\frac{U}{2R} = -\\frac{1}{2\\sqrt{2}}\\,\\mathrm{A}$$"
   ]
  },
  {
   "cell_type": "code",
   "execution_count": 1,
   "id": "68bf729b",
   "metadata": {},
   "outputs": [
    {
     "data": {
      "text/plain": [
       "0.35355339059327373"
      ]
     },
     "execution_count": 1,
     "metadata": {},
     "output_type": "execute_result"
    }
   ],
   "source": [
    "from math import sqrt\n",
    "1/(2*sqrt(2))"
   ]
  },
  {
   "cell_type": "code",
   "execution_count": 3,
   "id": "9ccea604",
   "metadata": {},
   "outputs": [
    {
     "data": {
      "text/plain": [
       "(0.35355339059327373-0.35355339059327373j)"
      ]
     },
     "execution_count": 3,
     "metadata": {},
     "output_type": "execute_result"
    }
   ],
   "source": [
    "complex(10/sqrt(2), 0)/complex(10, 10)"
   ]
  },
  {
   "cell_type": "markdown",
   "id": "e7ac1be8",
   "metadata": {},
   "source": [
    "and,  \n",
    "\n",
    "$$ \\mathfrak{Im}\\{\\mathbf{I}\\}(Q_\\max) = \\infty$$"
   ]
  },
  {
   "cell_type": "markdown",
   "id": "8ef41d73",
   "metadata": {},
   "source": [
    "the aforementioned line's end points are given by the complex coordinates $\\big(\\mathfrak{Re}\\{\\mathbf{I}\\}, -j\\mathfrak{Re}\\{\\mathbf{I}\\}\\big)$ and $\\big(\\mathfrak{Re}\\{\\mathbf{I}\\}, j\\infty\\big)$."
   ]
  },
  {
   "cell_type": "markdown",
   "id": "a3d758c1",
   "metadata": {},
   "source": [
    "Now, let $I(jq):=\\mathbf{A} + \\mathbf{B}q$.  Via this definition of $I(jq)$ and equations (M3a,b),    \n",
    "\n",
    "$$ \\mathbf{A} = \\frac{U}{2R^2}\\,\\big(R - jR\\big) = \\frac{U}{2R}\\,(1-j) = \\frac{1}{2\\sqrt{2}}\\,\\mathrm{A}\\,(1-j)$$"
   ]
  },
  {
   "cell_type": "markdown",
   "id": "1d9241ef",
   "metadata": {},
   "source": [
    "and,  \n",
    "\n",
    "$$ \\mathbf{B} = j\\frac{U\\big(\\omega^3L^2 + \\omega R^2\\big)}{2R^2} = j\\,\\frac{2\\omega UR^2}{2R^2} = j\\omega U = 10\\,\\left[\\frac{\\mathrm{A}}{\\mathrm{F}}\\right]$$"
   ]
  },
  {
   "cell_type": "markdown",
   "id": "ed42c2ea",
   "metadata": {},
   "source": [
    "Note that the answer that the textbook gives is wrong!  And, thus, the locus plot in figure 4.6.3 is also wrong.  However, it does get the vertical line part correct."
   ]
  },
  {
   "cell_type": "markdown",
   "id": "34355b49",
   "metadata": {},
   "source": [
    "Now, let $\\mathbf{A}:=1-j$, $\\mathbf{B}:=1+2j$, and $F(jq):= \\mathbf{F}:=\\mathbf{A}+\\mathbf{B}q$.  It now follows that:  \n",
    "\n",
    "$$ F(jq) = 1 + q +j(2q - 1)\\quad\\implies\\quad $$ "
   ]
  },
  {
   "cell_type": "markdown",
   "id": "e7cd6bde",
   "metadata": {},
   "source": [
    "$$ \\mathfrak{Re}\\{\\mathbf{F}\\} = \\mathfrak{Re}\\{\\mathbf{F}\\}(q) = 1 + q \\quad\\quad\\text{and}\\quad\\quad \\mathfrak{Im}\\{\\mathbf{F}\\} = \\mathfrak{Im}\\{\\mathbf{F}\\}(q) = 2q-1$$"
   ]
  },
  {
   "cell_type": "markdown",
   "id": "57c44977",
   "metadata": {},
   "source": [
    "To plot the locus of $F(jq)$, we must find the imaginary part of $F(jq)$ as a function of the real part of $F(jq)$, denoted as '$\\mathfrak{Im}\\{\\mathbf{F}\\}\\big(\\mathfrak{Re}\\{\\mathbf{F}\\}\\big)$'."
   ]
  },
  {
   "cell_type": "markdown",
   "id": "edcadf82",
   "metadata": {},
   "source": [
    "$$ q = \\mathfrak{Re}\\{\\mathbf{F}\\} - 1$$"
   ]
  },
  {
   "cell_type": "markdown",
   "id": "368b295a",
   "metadata": {},
   "source": [
    "\\begin{equation}\\tag{M4}\n",
    "    \\mathfrak{Im}\\{\\mathbf{F}\\}\\big(\\mathfrak{Re}\\{\\mathbf{F}\\}\\big) = 2\\big(\\mathfrak{Re}\\{\\mathbf{F}\\}-1\\big) - 1 = 2\\mathfrak{Re}\\{\\mathbf{F}\\} - 3\n",
    "\\end{equation}"
   ]
  },
  {
   "cell_type": "markdown",
   "id": "2527a3d8",
   "metadata": {},
   "source": [
    "The aforementioned plot is found in figure 4.6.2.  \n",
    "\n",
    "![Fig-4.6.2](Figures/Fig-4.6.2.png)"
   ]
  }
 ],
 "metadata": {
  "kernelspec": {
   "display_name": "Python 3",
   "language": "python",
   "name": "python3"
  },
  "language_info": {
   "codemirror_mode": {
    "name": "ipython",
    "version": 3
   },
   "file_extension": ".py",
   "mimetype": "text/x-python",
   "name": "python",
   "nbconvert_exporter": "python",
   "pygments_lexer": "ipython3",
   "version": "3.8.10"
  }
 },
 "nbformat": 4,
 "nbformat_minor": 5
}
