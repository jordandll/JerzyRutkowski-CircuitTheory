{
 "cells": [
  {
   "cell_type": "markdown",
   "id": "d8d88d72",
   "metadata": {},
   "source": [
    "# Analysis of Circuit Response \n",
    "## When One Circuit Parameter Varies\n",
    "### *Chapter 4 Section 6* -- AC Steady State Analysis\n",
    "In some practical applications, the study of a circuit's behavior, when one of it's constants (parameters), henceforth '$q$', such as: resistance $R$, inductance $L$ or capacitance $C$, varies from $Q_\\min$ to $Q_\\max$, is necessary at the design stage. A locus of the circuit phasor response when $q$ varies is plotted in the complex\n",
    "plane and its two shapes will be discussed:\n",
    "\n",
    "1. (half)line,\n",
    "2. (semi)circle.\n",
    "\n",
    "The technique for plotting such loci will be illustrated in Example 4.6.1."
   ]
  },
  {
   "cell_type": "markdown",
   "id": "a7b69c2c",
   "metadata": {},
   "source": [
    "### Example 4.6.1a – straight line example\n",
    "For the input voltage $U(j\\omega)=U(\\omega)=U=10/\\sqrt{2}\\mathrm{V}$, plot the locus of the input current phasor, assuming $C$ varies\n",
    "from $0$ to infinity. Other circuit constants are: $\\omega L = R = 10\\Omega$, $\\omega=\\sqrt{2}\\,\\mathrm{rad}/\\mathrm{s}$.  \n",
    "\n",
    "$$ q = C \\quad\\quad Q_\\min = 0 \\quad\\quad Q_\\max = \\infty$$\n",
    "\n",
    "![Fig-4.6.1](Figures/Fig-4.6.1.png)"
   ]
  },
  {
   "cell_type": "markdown",
   "id": "88fff017",
   "metadata": {},
   "source": [
    "\\begin{equation}\\tag{M1}\n",
    "    I(jq) = Y(jq)U\n",
    "\\end{equation}"
   ]
  },
  {
   "cell_type": "markdown",
   "id": "9e105389",
   "metadata": {},
   "source": [
    "Here, '$Y(jq)$' denotes the admittance of the series equivalent circuit and $I(jq)$ is the input current phase as a function of the capacitance, denoted as 'q', which is the variable of the function, instead of the usual $\\omega$.  \n",
    "\n",
    "$$ Y(jq) = Y_1(jq) + j\\omega q = \\frac{1}{R+j\\omega L} + j\\omega q = \\frac{1 + j\\omega qR - \\omega^2qL}{R+j\\omega L}$$"
   ]
  },
  {
   "cell_type": "markdown",
   "id": "240a308e",
   "metadata": {},
   "source": [
    "Let\n",
    "$$ L(jq) := 1 - \\omega^2q L + j\\omega qR \\quad\\quad\\text{and}\\quad\\quad M(jq) = R + j\\omega L$$"
   ]
  },
  {
   "cell_type": "markdown",
   "id": "b4390fd0",
   "metadata": {},
   "source": [
    "$$ Y(jq) = \\frac{L(jq)}{M(jq)} = \\frac{L(q)}{M(q)}\\,\\angle\\big(\\varphi_{L}(jq) - \\varphi_M(jq)\\big)$$"
   ]
  },
  {
   "cell_type": "markdown",
   "id": "0eac0df2",
   "metadata": {},
   "source": [
    "$$ Y(jq) = L(jq)\\,\\frac{M^*(jq)}{M^2(q)} $$"
   ]
  },
  {
   "cell_type": "markdown",
   "id": "83ca50dd",
   "metadata": {},
   "source": [
    "$$L(jq)M^*(jq) = R - j\\omega L - \\omega^2qRL + j\\omega^3qL^2 + j\\omega qR^2 + \\omega^2qRL$$"
   ]
  },
  {
   "cell_type": "markdown",
   "id": "b62de14f",
   "metadata": {},
   "source": [
    "$$ = R + j\\big(\\omega^3qL^2 + \\omega qR^2 - \\omega L \\big)$$"
   ]
  },
  {
   "cell_type": "markdown",
   "id": "54d9eafe",
   "metadata": {},
   "source": [
    "Finally,  \n",
    "\n",
    "\\begin{equation}\\tag{M2}\n",
    "    Y(jq) = \\frac{R+j\\big(\\omega^3qL^2 + \\omega qR^2 - \\omega L \\big)}{R^2 + \\omega^2L^2}\n",
    "\\end{equation}"
   ]
  },
  {
   "cell_type": "markdown",
   "id": "680c4ed3",
   "metadata": {},
   "source": [
    "Let $\\mathbf{I}:=I(jq)$.  It now follows that $|\\mathbf{I}| = I(q) = \\sqrt{\\mathfrak{Re}\\{\\mathbf{I}\\}^2 + \\mathfrak{Im}\\{\\mathbf{I}\\}^2}$.  Via equations (M1) and (M2),  \n",
    "\n",
    "\\begin{equation}\\tag{M3a}\n",
    "    \\mathfrak{Re}\\{\\mathbf{I}\\} = \\frac{UR}{R^2+\\omega^2L^2} = \\frac{U}{2R}= \\frac{1}{2\\sqrt{2}}\\,\\mathrm{A} =\\text{const}\n",
    "\\end{equation}"
   ]
  },
  {
   "cell_type": "markdown",
   "id": "8963705f",
   "metadata": {},
   "source": [
    "and,  \n",
    "\n",
    "\\begin{equation}\\tag{M3b}\n",
    "    \\mathfrak{Im}\\{\\mathbf{I}\\} = \\mathfrak{Im}\\{\\mathbf{I}\\}(q) = U\\,\\frac{q\\big(\\omega^3L^2 + \\omega R^2\\big) - \\omega L}{R^2+\\omega^2L^2}\n",
    "\\end{equation}"
   ]
  },
  {
   "cell_type": "markdown",
   "id": "ab6fcefd",
   "metadata": {},
   "source": [
    "Since the real part of $I(jq)$ is constant, and the imaginary part varies with $q$, the locus plot of input phasor current is a vertical line, or, a line that is parallel to the imaginary axis on the complex plane.  Moreover, since  \n",
    "$$ \\mathfrak{Im}\\{\\mathbf{I}\\}(Q_\\min) = -\\frac{\\omega UL}{R^2+\\omega^2L^2} = -\\frac{U}{2R} = -\\frac{1}{2\\sqrt{2}}\\,\\mathrm{A}$$"
   ]
  },
  {
   "cell_type": "code",
   "execution_count": 1,
   "id": "72cbe9c9",
   "metadata": {},
   "outputs": [
    {
     "data": {
      "text/plain": [
       "0.35355339059327373"
      ]
     },
     "execution_count": 1,
     "metadata": {},
     "output_type": "execute_result"
    }
   ],
   "source": [
    "from math import sqrt\n",
    "1/(2*sqrt(2))"
   ]
  },
  {
   "cell_type": "code",
   "execution_count": 3,
   "id": "30aeb03a",
   "metadata": {},
   "outputs": [
    {
     "data": {
      "text/plain": [
       "(0.35355339059327373-0.35355339059327373j)"
      ]
     },
     "execution_count": 3,
     "metadata": {},
     "output_type": "execute_result"
    }
   ],
   "source": [
    "complex(10/sqrt(2), 0)/complex(10, 10)"
   ]
  },
  {
   "cell_type": "markdown",
   "id": "c8efedb7",
   "metadata": {},
   "source": [
    "and,  \n",
    "\n",
    "$$ \\mathfrak{Im}\\{\\mathbf{I}\\}(Q_\\max) = \\infty$$"
   ]
  },
  {
   "cell_type": "markdown",
   "id": "8472118f",
   "metadata": {},
   "source": [
    "the aforementioned line's end points are given by the complex coordinates $\\big(\\mathfrak{Re}\\{\\mathbf{I}\\}, -j\\mathfrak{Re}\\{\\mathbf{I}\\}\\big)$ and $\\big(\\mathfrak{Re}\\{\\mathbf{I}\\}, j\\infty\\big)$."
   ]
  },
  {
   "cell_type": "markdown",
   "id": "e57add62",
   "metadata": {},
   "source": [
    "Now, let $I(jq):=\\mathbf{A} + \\mathbf{B}q$.  Via this definition of $I(jq)$ and equations (M3a,b),    \n",
    "\n",
    "$$ \\mathbf{A} = \\frac{U}{2R^2}\\,\\big(R - jR\\big) = \\frac{U}{2R}\\,(1-j) = \\frac{1}{2\\sqrt{2}}\\,\\mathrm{A}\\,(1-j)$$"
   ]
  },
  {
   "cell_type": "markdown",
   "id": "99471c3f",
   "metadata": {},
   "source": [
    "and,  \n",
    "\n",
    "$$ \\mathbf{B} = j\\frac{U\\big(\\omega^3L^2 + \\omega R^2\\big)}{2R^2} = j\\,\\frac{2\\omega UR^2}{2R^2} = j\\omega U = 10\\,\\left[\\frac{\\mathrm{A}}{\\mathrm{F}}\\right]$$"
   ]
  },
  {
   "cell_type": "markdown",
   "id": "b8a5068b",
   "metadata": {},
   "source": [
    "Note that the answer that the textbook gives is wrong!  And, thus, the locus plot in figure 4.6.3 is also wrong.  However, it does get the vertical line part correct."
   ]
  },
  {
   "cell_type": "markdown",
   "id": "2311a617",
   "metadata": {},
   "source": [
    "Now, let $\\mathbf{A}:=1-j$, $\\mathbf{B}:=1+2j$, and $F(jq):= \\mathbf{F}:=\\mathbf{A}+\\mathbf{B}q$.  It now follows that:  \n",
    "\n",
    "$$ F(jq) = 1 + q +j(2q - 1)\\quad\\implies\\quad $$ "
   ]
  },
  {
   "cell_type": "markdown",
   "id": "ff7f86ed",
   "metadata": {},
   "source": [
    "$$ \\mathfrak{Re}\\{\\mathbf{F}\\} = \\mathfrak{Re}\\{\\mathbf{F}\\}(q) = 1 + q \\quad\\quad\\text{and}\\quad\\quad \\mathfrak{Im}\\{\\mathbf{F}\\} = \\mathfrak{Im}\\{\\mathbf{F}\\}(q) = 2q-1$$"
   ]
  },
  {
   "cell_type": "markdown",
   "id": "603fa055",
   "metadata": {},
   "source": [
    "To plot the locus of $F(jq)$, we must find the imaginary part of $F(jq)$ as a function of the real part of $F(jq)$, denoted as '$\\mathfrak{Im}\\{\\mathbf{F}\\}\\big(\\mathfrak{Re}\\{\\mathbf{F}\\}\\big)$'."
   ]
  },
  {
   "cell_type": "markdown",
   "id": "a507b4ca",
   "metadata": {},
   "source": [
    "$$ q = \\mathfrak{Re}\\{\\mathbf{F}\\} - 1$$"
   ]
  },
  {
   "cell_type": "markdown",
   "id": "cc5960a4",
   "metadata": {},
   "source": [
    "\\begin{equation}\\tag{M4}\n",
    "    \\mathfrak{Im}\\{\\mathbf{F}\\}\\big(\\mathfrak{Re}\\{\\mathbf{F}\\}\\big) = 2\\big(\\mathfrak{Re}\\{\\mathbf{F}\\}-1\\big) - 1 = 2\\mathfrak{Re}\\{\\mathbf{F}\\} - 3\n",
    "\\end{equation}"
   ]
  },
  {
   "cell_type": "markdown",
   "id": "c850f2f0",
   "metadata": {},
   "source": [
    "The aforementioned plot is found in figure 4.6.2.  \n",
    "\n",
    "![Fig-4.6.2](Figures/Fig-4.6.2.png)"
   ]
  },
  {
   "cell_type": "markdown",
   "id": "5f80f754",
   "metadata": {},
   "source": [
    "### Example 4.6.1b – semicircle example\n",
    "For the circuit of Fig. 4.6.1 and the input voltage $U(j\\omega)=U=10/\\sqrt{2}\\mathrm{V}$ , plot the locus of the input current phasor, assuming $L$ varies from $0$ to infinity. Other circuit constants are:  \n",
    "\n",
    "$$ \\frac{1}{\\omega C} = 4R\\quad\\quad R=10\\Omega\\quad\\quad \\omega=\\sqrt{2}\\,\\mathrm{rad}/\\mathrm{s}$$  \n",
    "\n",
    "$$ q = L \\quad\\quad Q_\\min=0\\quad\\quad Q_\\max=\\infty$$  \n",
    "\n",
    "![Fig-4.6.1](Figures/Fig-4.6.1.png)"
   ]
  },
  {
   "cell_type": "markdown",
   "id": "bcaeebd2",
   "metadata": {},
   "source": [
    "Via KCL,  \n",
    "\n",
    "\\begin{equation}\\tag{1b.1}\n",
    "    I(jq) = I_L(jq) + I_C(jq)\n",
    "\\end{equation}"
   ]
  },
  {
   "cell_type": "markdown",
   "id": "b06906f5",
   "metadata": {},
   "source": [
    "where,  \n",
    "\n",
    "\\begin{equation}\\tag{1b.1}\n",
    "    \\text{a: }\\;I_L(jq) = \\frac{U}{R + j\\omega q} = U\\frac{R - j\\omega q}{R^2+\\omega^2q^2} \\quad\\quad\\text{and}\\quad\\quad\\text{b: }\\;I_C(jq) = j0.25GU\n",
    "\\end{equation}"
   ]
  },
  {
   "cell_type": "markdown",
   "id": "9f4c79a9",
   "metadata": {},
   "source": [
    "\\begin{equation}\\tag{1b.2}\n",
    "    \\mathbf{I}= I(jq) = U\\frac{R - j\\omega q + j0.25G\\big(R^2+\\omega^2q^2\\big)}{R^2+\\omega^2q^2}\n",
    "\\end{equation}"
   ]
  },
  {
   "cell_type": "markdown",
   "id": "ac9c0ced",
   "metadata": {},
   "source": [
    "\\begin{equation}\\tag{1b.2a}\n",
    "    \\mathbf{I}_\\mathfrak{Re} := \\mathfrak{Re}\\{\\mathbf{I}\\} = \\frac{UR}{R^2+\\omega^2q^2}\n",
    "\\end{equation}"
   ]
  },
  {
   "cell_type": "markdown",
   "id": "99b21e1e",
   "metadata": {},
   "source": [
    "\\begin{equation}\\tag{1b.2b}\n",
    "    \\mathbf{I}_\\mathfrak{Im} = U\\frac{0.25G\\big(R^2+\\omega^2q^2\\big) - \\omega q}{R^2+\\omega^2q^2} = 0.25GU - \\frac{\\omega q U}{R^2+\\omega^2q^2}\n",
    "\\end{equation}"
   ]
  },
  {
   "cell_type": "code",
   "execution_count": 4,
   "id": "e700bd00",
   "metadata": {},
   "outputs": [],
   "source": [
    "import numpy as np\n",
    "import matplotlib.pyplot as plt"
   ]
  },
  {
   "cell_type": "code",
   "execution_count": 6,
   "id": "34c39f65",
   "metadata": {
    "code_folding": [
     0
    ]
   },
   "outputs": [
    {
     "data": {
      "text/plain": [
       "[<matplotlib.lines.Line2D at 0x7f05fe033eb0>]"
      ]
     },
     "execution_count": 6,
     "metadata": {},
     "output_type": "execute_result"
    },
    {
     "data": {
      "image/png": "[encoded data removed]",
      "text/plain": [
       "<Figure size 432x288 with 1 Axes>"
      ]
     },
     "metadata": {
      "needs_background": "light"
     },
     "output_type": "display_data"
    }
   ],
   "source": [
    "# Set the circuit characteristics.\n",
    "R = 10;  omega = np.sqrt(2); X_C = 4*R; U = 10/np.sqrt(2)\n",
    "G = 1/R; \n",
    "\n",
    "# Create the inductance or q-domain.\n",
    "q = np.linspace(0, 1e3, num=1000)\n",
    "\n",
    "# Define the real and imaginary parts of the input current phasor.\n",
    "I_Re = U*R/(R**2+omega**2*q**2)\n",
    "I_Im = 0.25*G*U - omega*q*U/(R**2+omega**2*q**2)\n",
    "\n",
    "# Create the figure and axes objects.\n",
    "fig, ax = plt.subplots()\n",
    "ax.set_title('Input Current Phasor Locus', size=13)\n",
    "ax.set_xlabel('real-axis')\n",
    "ax.set_ylabel('imaginary-axis')\n",
    "ax.grid()\n",
    "\n",
    "# Plot the locus.\n",
    "ax.plot(I_Re, I_Im)"
   ]
  },
  {
   "cell_type": "markdown",
   "id": "e2a6017a",
   "metadata": {},
   "source": [
    "$$ \\mathbf{I}_\\mathfrak{Re}(Q_\\min) = \\frac{U}{R} = \\frac{1}{\\sqrt{2}}\\,\\mathrm{A} = \\max \\mathbf{I}_\\mathfrak{Re}$$"
   ]
  },
  {
   "cell_type": "code",
   "execution_count": 10,
   "id": "eb24e76e",
   "metadata": {},
   "outputs": [
    {
     "data": {
      "text/plain": [
       "(0.7071067811865475, 0.7071067811865475)"
      ]
     },
     "execution_count": 10,
     "metadata": {},
     "output_type": "execute_result"
    }
   ],
   "source": [
    "(1/sqrt(2), max(I_Re))"
   ]
  },
  {
   "cell_type": "markdown",
   "id": "7e01bea6",
   "metadata": {},
   "source": [
    "$$ \\mathbf{I}_\\mathfrak{Re}(Q_\\max) = 0 = \\min \\mathbf{I}_\\mathfrak{Re}$$"
   ]
  },
  {
   "cell_type": "code",
   "execution_count": 8,
   "id": "09897396",
   "metadata": {},
   "outputs": [
    {
     "data": {
      "text/plain": [
       "3.5353571380758325e-05"
      ]
     },
     "execution_count": 8,
     "metadata": {},
     "output_type": "execute_result"
    }
   ],
   "source": [
    "min(I_Re)"
   ]
  },
  {
   "cell_type": "markdown",
   "id": "983e35bc",
   "metadata": {},
   "source": [
    "$$ \\mathbf{I}_\\mathfrak{Im}(Q_\\min) = \\mathbf{I}_\\mathfrak{Im}(Q_\\max) = \\max \\mathbf{I}_\\mathfrak{Im} = 0.25GU = \\frac{1}{4\\sqrt{2}}\\,\\mathrm{A}$$"
   ]
  },
  {
   "cell_type": "code",
   "execution_count": 12,
   "id": "d4da39b5",
   "metadata": {},
   "outputs": [
    {
     "data": {
      "text/plain": [
       "(0.17677669529663687, 0.17677669529663687)"
      ]
     },
     "execution_count": 12,
     "metadata": {},
     "output_type": "execute_result"
    }
   ],
   "source": [
    "(1/(4*sqrt(2)), max(I_Im))"
   ]
  },
  {
   "cell_type": "markdown",
   "id": "281202e0",
   "metadata": {},
   "source": [
    "Via the above three equations, the two end points of our semicircle lotus plot are given by the following complex coordinates:  \n",
    "\n",
    "$$ \\left(0, j\\frac{1}{4\\sqrt{2}}\\right)\\mathrm{A}\\quad\\quad\\text{and}\\quad\\quad \\left(\\frac{1}{\\sqrt{2}}, j\\frac{1}{4\\sqrt{2}}\\right)\\mathrm{A} $$"
   ]
  },
  {
   "cell_type": "markdown",
   "id": "9bb1f10d",
   "metadata": {},
   "source": [
    "And, the center point of the circle that our semicircle rests on is given by:  \n",
    "\n",
    "$$ \\left(\\frac{1}{2\\sqrt{2}}, j\\frac{1}{4\\sqrt{2}}\\right)\\mathrm{A}$$"
   ]
  },
  {
   "cell_type": "markdown",
   "id": "bb2e7401",
   "metadata": {},
   "source": [
    "And, the radius of said circle is:  \n",
    "\n",
    "$$ r = \\frac{1}{2\\sqrt{2}}\\,\\mathrm{A}$$"
   ]
  },
  {
   "cell_type": "markdown",
   "id": "2d01aff2",
   "metadata": {},
   "source": [
    "The input current phasor is thus given by:  \n",
    "\n",
    "\\begin{equation}\\tag{1b.5}\n",
    "    I(jq) = \\frac{1}{2\\sqrt{2}}\\,\\mathrm{A}+ j\\frac{1}{4\\sqrt{2}}\\,\\mathrm{A} + F(jq)\n",
    "\\end{equation}"
   ]
  },
  {
   "cell_type": "markdown",
   "id": "a74cafe9",
   "metadata": {},
   "source": [
    "where,  \n",
    "\n",
    "\\begin{equation}\\tag{1b.5a}\n",
    "    |\\mathbf{F}| = F(q) = \\sqrt{\\mathbf{F}_\\mathfrak{Re}^2 + \\mathbf{F}_\\mathfrak{Im}^2} = r = \\frac{1}{2\\sqrt{2}}\\,\\mathrm{A}\n",
    "\\end{equation}"
   ]
  },
  {
   "cell_type": "markdown",
   "id": "0f2abdfd",
   "metadata": {},
   "source": [
    "Via equations (1b.2) and (1b.5),  \n",
    "\n",
    "$$ F(jq) = \\mathbf{F} = \\frac{UR}{R^2+\\omega^2q^2} - \\frac{1}{2\\sqrt{2}}\\,\\mathrm{A} + j\\left(\\frac{U}{4R} - \\frac{\\omega q U}{R^2+\\omega^2q^2} - \\frac{1}{4\\sqrt{2}}\\,\\mathrm{A}\\right)$$"
   ]
  },
  {
   "cell_type": "markdown",
   "id": "570684ac",
   "metadata": {},
   "source": [
    "$$ = \\frac{100}{\\sqrt{2}\\big(100 + 2q^2\\big)} - \\frac{1}{2\\sqrt{2}}\\,\\mathrm{A} - j\\,\\frac{10q}{100 + 2q^2}$$"
   ]
  },
  {
   "cell_type": "markdown",
   "id": "49dbe354",
   "metadata": {},
   "source": [
    "\\begin{equation}\\tag{1b.6}\n",
    "     = \\frac{100 - 2q^2}{2\\sqrt{2}\\big(100+2q^2\\big)} - j\\frac{10q}{100+2q^2}\n",
    "\\end{equation}"
   ]
  },
  {
   "cell_type": "markdown",
   "id": "b3ad4acc",
   "metadata": {},
   "source": [
    "\\begin{equation}\\tag{1b.6a}\n",
    "    \\mathbf{F}_\\mathfrak{Re} = \\mathbf{F}_\\mathfrak{Re}(q) = \\frac{100-2q^2}{2\\sqrt{2}\\big(100+2q^2\\big)}\n",
    "\\end{equation}"
   ]
  },
  {
   "cell_type": "markdown",
   "id": "c80d51a6",
   "metadata": {},
   "source": [
    "\\begin{equation}\\tag{1b.6b}\n",
    "    \\mathbf{F}_\\mathfrak{Im} = \\mathbf{F}_\\mathfrak{Im}(q) = -\\frac{10q}{100+2q^2}\n",
    "\\end{equation}"
   ]
  },
  {
   "cell_type": "markdown",
   "id": "f6c5cc96",
   "metadata": {},
   "source": [
    "$$ \\mathbf{F}_\\mathfrak{Re}^2 = \\frac{4q^4 - 400q^2 + 100^2}{8\\big(100+2q^2\\big)^2} \\quad\\quad\\text{and}\\quad\\quad \\mathbf{F}_\\mathfrak{Im}^2 = \\frac{100q^2}{\\big(100+2q^2\\big)^2}$$"
   ]
  },
  {
   "cell_type": "markdown",
   "id": "6d1c00a8",
   "metadata": {},
   "source": [
    "$$ \\mathbf{F}_\\mathfrak{Re}^2+ \\mathbf{F}_\\mathfrak{Im}^2 = \\mathbf{F}_\\mathfrak{Re}^2 + \\frac{800q^2}{8\\big(100+2q^2\\big)^2} = \\frac{4q^4 + 400q^2 + 100^2}{8\\big(100+2q^2\\big)^2} = \\frac{1}{8}\\,\\mathrm{A}^2$$"
   ]
  },
  {
   "cell_type": "markdown",
   "id": "16984d01",
   "metadata": {},
   "source": [
    "Taking the square root of both sides of the above equation gives equation (1b.5a)."
   ]
  },
  {
   "cell_type": "markdown",
   "id": "54ebb9a5",
   "metadata": {},
   "source": [
    "For the locus plot of $\\mathbf{I}$ to be a (semi)circle, $\\mathbf{I}_\\mathfrak{Im}\\big(\\mathbf{I}_\\mathfrak{Re}\\big)$ must be of the form:  \n",
    "\n",
    "\\begin{equation}\\tag{1b.3}\n",
    "    \\mathbf{I}_\\mathfrak{Im}\\big(\\mathbf{I}_\\mathfrak{Re}\\big) = y_0 - \\sqrt{r^2 + \\big(\\mathbf{I}_\\mathfrak{Re} - x_0\\big)^2}\n",
    "\\end{equation}"
   ]
  },
  {
   "cell_type": "markdown",
   "id": "40b32955",
   "metadata": {},
   "source": [
    "where,  $x_0$ and $y_0$ are the real and imaginary complex coordinates of the center of the circle that the semicircle rests on respectively, and $r$ is the radius of said circle."
   ]
  },
  {
   "cell_type": "markdown",
   "id": "21fd5bfc",
   "metadata": {},
   "source": [
    "Via equation (1b.2a),  \n",
    "\n",
    "$$ R^2+\\omega^2q^2 = \\frac{UR}{\\mathbf{I}_\\mathfrak{Re}} \\quad\\implies\\quad q^2 = \\frac{UR}{\\omega^2\\mathbf{I}_\\mathfrak{Re}} - \\frac{R^2}{\\omega^2} = \\frac{UR - R^2\\mathbf{I}_\\mathfrak{Re}}{\\omega^2\\mathbf{I}_\\mathfrak{Re}}$$"
   ]
  },
  {
   "cell_type": "markdown",
   "id": "20e56fb5",
   "metadata": {},
   "source": [
    "\\begin{equation}\\tag{1b.4}\n",
    "    q = \\frac{\\sqrt{R}}{\\omega\\sqrt{\\mathbf{I}_\\mathfrak{Re}}}\\,\\sqrt{U - R\\mathbf{I}_\\mathfrak{Re}}\n",
    "\\end{equation}"
   ]
  },
  {
   "cell_type": "markdown",
   "id": "ea18f42a",
   "metadata": {},
   "source": [
    "$$ R^2+\\omega^2q^2 = R^2 + R\\frac{U - R\\mathbf{I}_\\mathfrak{Re}}{\\mathbf{I}_\\mathfrak{Re}} = \\frac{R^2\\mathbf{I}_\\mathfrak{Re} + RU - R\\mathbf{I}_\\mathfrak{Re}}{\\mathbf{I}_\\mathfrak{Re}} = \\frac{R}{\\mathbf{I}_\\mathfrak{Re}}\\big(R\\mathbf{I}_\\mathfrak{Re} + U - \\mathbf{I}_\\mathfrak{Re}\\big)$$"
   ]
  },
  {
   "cell_type": "markdown",
   "id": "155ce587",
   "metadata": {},
   "source": [
    "$$ \\omega q U = U\\sqrt{\\frac{R}{\\mathbf{I}_\\mathfrak{Re}}}\\sqrt{U-R\\mathbf{I}_\\mathfrak{Re}}$$"
   ]
  },
  {
   "cell_type": "markdown",
   "id": "75cb32ac",
   "metadata": {},
   "source": [
    "$$ \\frac{\\omega qU}{R^2+\\omega^2q^2} = U\\sqrt{\\frac{\\mathbf{I}_\\mathfrak{Re}}{R}}\\frac{\\sqrt{U-R\\mathbf{I}_\\mathfrak{Re}}}{\\mathbf{I}_\\mathfrak{Re}(R-1)+U}$$"
   ]
  },
  {
   "cell_type": "markdown",
   "id": "f67a9f05",
   "metadata": {},
   "source": [
    "## Drill Problems\n",
    "\n",
    "#### Problems 1\n",
    "1. Plot, in the complex plane, a locus of the current $I(j\\omega)$ that flows through: a) RC parallel circuit $R=10\\Omega$, $C\\in(0,\\infty)$;  b) RL series circuit $R=10\\Omega$, $L\\in(0,\\infty)$, supplied from $U(j\\omega) = U = 10\\mathrm{V}$ source."
   ]
  },
  {
   "cell_type": "markdown",
   "id": "96d208ef",
   "metadata": {},
   "source": [
    "In the case of **a)**  \n",
    "\n",
    "$$  q = C\\quad\\quad Q_\\min = 0\\quad\\quad Q_\\max = \\infty$$"
   ]
  },
  {
   "cell_type": "markdown",
   "id": "e33da4d5",
   "metadata": {},
   "source": [
    "$$ I(jq) = U\\big(G + j\\omega q\\big) \\quad\\implies\\quad \\mathbf{I}_\\mathfrak{Re} = UG = 1\\mathrm{A} \\quad\\text{and}\\quad \\mathbf{I}_\\mathfrak{Im} = 10\\mathrm{V}\\cdot \\omega q$$"
   ]
  },
  {
   "cell_type": "markdown",
   "id": "136317c6",
   "metadata": {},
   "source": [
    "The locus is a vertical line (i.e. a line that is parallel to the imaginary axis) that starts at $\\big(1\\mathrm{A}, 0\\big)$ and ends at $\\big(1\\mathrm{A}, \\infty\\big)$."
   ]
  },
  {
   "cell_type": "markdown",
   "id": "604f8461",
   "metadata": {},
   "source": [
    "In the case of **b)**  \n",
    "\n",
    "$$ I(jq) = \\frac{U}{R + j\\omega q} = U\\frac{R - j\\omega q}{R^2+\\omega^2q^2}$$"
   ]
  },
  {
   "cell_type": "markdown",
   "id": "21ce6548",
   "metadata": {},
   "source": [
    "$$ \\mathbf{I}_\\mathfrak{Re} = \\mathbf{I}_\\mathfrak{Re}(q) = \\frac{UR}{R^2+\\omega^2q^2} = \\frac{100}{100+(\\omega q)^2}$$"
   ]
  },
  {
   "cell_type": "markdown",
   "id": "48ec479c",
   "metadata": {},
   "source": [
    "$$ \\mathbf{I}_\\mathfrak{Im} = \\mathbf{I}_\\mathfrak{Im}(q) = - \\frac{10\\omega q}{100 + (\\omega q)^2}$$"
   ]
  },
  {
   "cell_type": "markdown",
   "id": "8682cace",
   "metadata": {},
   "source": [
    "$$ \\mathbf{I}_\\mathfrak{Re}(Q_\\min) = \\max \\mathbf{I}_\\mathfrak{Re} = 1\\mathrm{A} \\quad\\quad \\text{and}\\quad\\quad \\mathbf{I}_\\mathfrak{Re}(Q_\\max) = \\min \\mathbf{I}_\\mathfrak{Re} = 0$$"
   ]
  },
  {
   "cell_type": "markdown",
   "id": "8f3ded5d",
   "metadata": {},
   "source": [
    "$$ \\mathbf{I}_\\mathfrak{Im}(Q_\\min) = \\mathbf{I}_\\mathfrak{Im}(Q_\\max) = 0$$"
   ]
  },
  {
   "cell_type": "markdown",
   "id": "3735b96d",
   "metadata": {},
   "source": [
    "It appears we have a semicircle with a radius of $r=0.5\\mathrm{A}$ that rests on a circle with a center point of $\\big(0.5\\mathrm{A}, 0 \\big)$."
   ]
  },
  {
   "cell_type": "markdown",
   "id": "d58b9862",
   "metadata": {},
   "source": [
    "#### Problem 2\n",
    "2. Plot in the complex plane a locus of voltage $U(j\\omega)$ at the terminals of: a) RC series circuit $R=10\\Omega$, $C\\in(0,\\infty)$;  b) RL series circuit $R=10\\Omega$, $L\\in(0,\\infty)$, supplied from a $I(j\\omega)=I=10\\mathrm{A}$ current source."
   ]
  },
  {
   "cell_type": "markdown",
   "id": "209580d7",
   "metadata": {},
   "source": [
    "In the case of **a)**  \n",
    "\n",
    "$$ U(jq) = I\\left(R - j\\frac{1}{\\omega q}\\right) = 100\\mathrm{V} - j\\frac{10\\mathrm{A}}{\\omega q}$$"
   ]
  },
  {
   "cell_type": "markdown",
   "id": "7a678739",
   "metadata": {},
   "source": [
    "$$ \\mathbf{U}_\\mathfrak{Re} = 100\\mathrm{V}\\quad\\quad\\text{and}\\quad \\mathbf{U}_\\mathfrak{Im} = \\mathbf{U}_\\mathfrak{Im}(q) = -\\frac{10\\mathrm{A}}{\\omega q}$$"
   ]
  },
  {
   "cell_type": "markdown",
   "id": "3641af03",
   "metadata": {},
   "source": [
    "The locus plot is a line that is parallel to the imaginary axis that starts $\\big(100\\mathrm{V}, 0\\big)$ and ends at $\\big(100\\mathrm{V}, -\\infty\\big)$."
   ]
  },
  {
   "cell_type": "markdown",
   "id": "841aaaf1",
   "metadata": {},
   "source": [
    "In the case of **b)**  \n",
    "\n",
    "$$ \\mathbf{U}_\\mathfrak{Re} = 100\\mathrm{V}\\quad\\quad\\text{and}\\quad\\quad \\mathbf{U}_\\mathfrak{Im} = \\mathbf{U}_\\mathfrak{Im}(q) = 10\\mathrm{A}\\cdot \\omega q$$"
   ]
  },
  {
   "cell_type": "markdown",
   "id": "13471d74",
   "metadata": {},
   "source": [
    "The locus plot is a line that is parallel to the imaginary axis that starts $\\big(100\\mathrm{V}, 0\\big)$ and ends at $\\big(100\\mathrm{V}, \\infty\\big)$."
   ]
  },
  {
   "cell_type": "markdown",
   "id": "86db7ee9",
   "metadata": {},
   "source": [
    "#### Problem 3\n",
    "3. For the RC high-pass filter (Fig. 4.5.12) find the gain $K=U_y/U_x$ in terms of $R$ and $C$.  \n",
    "\n",
    "![Fig-4.5.12](Figures/Fig-4.5.12.png)"
   ]
  },
  {
   "cell_type": "markdown",
   "id": "eef9aa36",
   "metadata": {},
   "source": [
    "$$ K(j\\omega) = \\frac{R}{R - j|X_C|} $$"
   ]
  }
 ],
 "metadata": {
  "kernelspec": {
   "display_name": "Python 3",
   "language": "python",
   "name": "python3"
  },
  "language_info": {
   "codemirror_mode": {
    "name": "ipython",
    "version": 3
   },
   "file_extension": ".py",
   "mimetype": "text/x-python",
   "name": "python",
   "nbconvert_exporter": "python",
   "pygments_lexer": "ipython3",
   "version": "3.8.10"
  }
 },
 "nbformat": 4,
 "nbformat_minor": 5
}
