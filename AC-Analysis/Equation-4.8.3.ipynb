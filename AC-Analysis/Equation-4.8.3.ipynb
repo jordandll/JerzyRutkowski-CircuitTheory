{
 "cells": [
  {
   "cell_type": "markdown",
   "id": "e8a18ff1",
   "metadata": {},
   "source": [
    "### Equation 4.8.3 \n",
    "\n",
    "Herein is the proof for equation [(4.8.3)](ThreePhaseCircuits.ipynb).  \n",
    "\n",
    "\\begin{equation}\\tag{3}\n",
    "\t\\sum_{i=1}^3 E_i(j\\omega) = 0\n",
    "\\end{equation}"
   ]
  },
  {
   "cell_type": "markdown",
   "id": "a0ebd144",
   "metadata": {},
   "source": [
    "$$ \\sum_{i=1}^3 E_i(j\\omega) = E\\big(\\cos 0^\\circ + 2\\cos 120^\\circ + j\\sin0^\\circ + j\\sin120^\\circ - j\\sin120^\\circ\\big) = 0$$"
   ]
  },
  {
   "cell_type": "code",
   "execution_count": 2,
   "id": "35f290c7",
   "metadata": {},
   "outputs": [],
   "source": [
    "import numpy as np"
   ]
  },
  {
   "cell_type": "code",
   "execution_count": 3,
   "id": "337d828d",
   "metadata": {},
   "outputs": [],
   "source": [
    "np.degrees?"
   ]
  },
  {
   "cell_type": "code",
   "execution_count": 4,
   "id": "9e7bd534",
   "metadata": {},
   "outputs": [
    {
     "data": {
      "text/plain": [
       "-0.9999999999999996"
      ]
     },
     "execution_count": 4,
     "metadata": {},
     "output_type": "execute_result"
    }
   ],
   "source": [
    "2*np.cos(np.radians(120))"
   ]
  }
 ],
 "metadata": {
  "kernelspec": {
   "display_name": "Python 3 (ipykernel)",
   "language": "python",
   "name": "python3"
  },
  "language_info": {
   "codemirror_mode": {
    "name": "ipython",
    "version": 3
   },
   "file_extension": ".py",
   "mimetype": "text/x-python",
   "name": "python",
   "nbconvert_exporter": "python",
   "pygments_lexer": "ipython3",
   "version": "3.10.6"
  }
 },
 "nbformat": 4,
 "nbformat_minor": 5
}
