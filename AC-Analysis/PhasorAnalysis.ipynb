{
 "cells": [
  {
   "cell_type": "markdown",
   "id": "43d7957f",
   "metadata": {},
   "source": [
    "# Phasor Analysis\n",
    "### *Chapter 4.2* -- AC Steady-State Analysis\n",
    "\n",
    "## Kirchhoffs’s Laws\n",
    "\n",
    "### Kirchhoff’s Current Law\n",
    "If sinusoidal excitation is applied to a circuit, then sinusoidal currents (4.1.1) flow through the\n",
    "elements. If cosinusoidal excitation is applied to a circuit, then cosinusoidal currents, say\n",
    "$i' = i'(t) = I\\sqrt{2}\\,\\cos(\\omega t + \\alpha_i)$, flow through the elements. KCL holds for both excitations, then it also holds for the complex excitation (defined in Appendix B):  \n",
    "\n",
    "$$ \\sum_{\\bullet i} i'(t) + ji(t) = \\sum_{\\bullet i} \\hat{i} = \\sum_{\\bullet i} \\sqrt{2}\\,I(j\\omega)e^{j\\omega t} = 0$$"
   ]
  },
  {
   "cell_type": "markdown",
   "id": "6dcfda4c",
   "metadata": {},
   "source": [
    "Dividing throughout the above equation by the common factor of $e^{j\\omega t}\\sqrt{2}$ gives the KCL for phasors."
   ]
  },
  {
   "cell_type": "markdown",
   "id": "4343df8f",
   "metadata": {},
   "source": [
    "The phasor algebraic sum of all currents at a node (cutset) is equal to zero.  \n",
    "\n",
    "\\begin{equation}\\tag{1}\n",
    "    \\sum_{\\bullet\\,i}I(j\\omega) = \\sum_{\\bullet\\,i} Ie^{j\\alpha_i} = I\\,\\big(\\cos\\alpha_i + j\\,\\sin\\alpha_i\\big) = 0\n",
    "\\end{equation}    "
   ]
  },
  {
   "cell_type": "markdown",
   "id": "18c0b5bf",
   "metadata": {},
   "source": [
    "### Kirchhoff’s Voltage Law\n",
    "A similar development will also establish KVL.\n",
    "The phasor algebraic sum of all voltages around a loop (closed path) is equal to zero.  \n",
    "\n",
    "\\begin{equation}\\tag{2}\n",
    "    \\sum_{\\bigcirc\\,i} U(j\\omega) = \\sum_{\\bullet\\,u} Ue^{j\\alpha_u} = \\sum_{\\bullet\\,u} U\\big(\\cos\\alpha_u + j\\,\\sin\\alpha_u\\big) = 0\n",
    "\\end{equation}    "
   ]
  },
  {
   "cell_type": "markdown",
   "id": "64b8f959",
   "metadata": {},
   "source": [
    "## Element Laws\n",
    "### Resistor\n",
    "Formulating Ohm's Law with sinusoidal voltage and current gives:  \n",
    "\n",
    "\\begin{equation}\\tag{3}\n",
    "    U\\sqrt{2}\\,\\sin(\\omega t + \\alpha_u) = RI\\sqrt{2}\\,\\sin(\\omega t + \\alpha_i)\n",
    "\\end{equation}    "
   ]
  },
  {
   "cell_type": "markdown",
   "id": "b60f09d0",
   "metadata": {},
   "source": [
    "Thus, the relationship between RMS voltage and RMS current is effectively Ohm's Law, and there is no phase shift caused resistance, as equation (3b) implies.  \n",
    "\n",
    "\\begin{equation}\\tag{4}\n",
    "    \\text{a: }\\;U=RI \\quad\\quad\\text{and}\\quad\\quad\\text{b: }\\;\\alpha_u = \\alpha_i\n",
    "\\end{equation}"
   ]
  }
 ],
 "metadata": {
  "kernelspec": {
   "display_name": "Python 3",
   "language": "python",
   "name": "python3"
  },
  "language_info": {
   "codemirror_mode": {
    "name": "ipython",
    "version": 3
   },
   "file_extension": ".py",
   "mimetype": "text/x-python",
   "name": "python",
   "nbconvert_exporter": "python",
   "pygments_lexer": "ipython3",
   "version": "3.8.10"
  }
 },
 "nbformat": 4,
 "nbformat_minor": 5
}
