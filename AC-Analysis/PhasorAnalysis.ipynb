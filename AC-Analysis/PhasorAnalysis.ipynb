{
 "cells": [
  {
   "cell_type": "markdown",
   "id": "4315a089",
   "metadata": {},
   "source": [
    "# Phasor Analysis\n",
    "### *Chapter 4.2* -- AC Steady-State Analysis\n",
    "\n",
    "## Kirchhoffs’s Laws\n",
    "\n",
    "### Kirchhoff’s Current Law\n",
    "If sinusoidal excitation is applied to a circuit, then sinusoidal currents (4.1.1) flow through the\n",
    "elements. If cosinusoidal excitation is applied to a circuit, then cosinusoidal currents, say\n",
    "$i' = i'(t) = I\\sqrt{2}\\,\\cos(\\omega t + \\alpha_i)$, flow through the elements. KCL holds for both excitations, then it also holds for the complex excitation (defined in Appendix B):  \n",
    "\n",
    "$$ \\sum_{\\bullet\\,i} i'(t) + ji(t) = \\sum_{\\bullet\\,i} \\hat{i} = \\sum_{\\bullet\\,i} \\sqrt{2}\\,I(j\\omega)e^{j\\omega t} = 0$$"
   ]
  },
  {
   "cell_type": "markdown",
   "id": "6bf87e77",
   "metadata": {},
   "source": [
    "Dividing throughout the above equation by the common factor of $e^{j\\omega t}\\sqrt{2}$ gives the KCL for phasors."
   ]
  },
  {
   "cell_type": "markdown",
   "id": "a419b774",
   "metadata": {},
   "source": [
    "The phasor algebraic sum of all currents at a node (cutset) is equal to zero.  \n",
    "\n",
    "\\begin{equation}\\tag{1}\n",
    "    \\sum_{\\bullet\\,i}I(j\\omega) = \\sum_{\\bullet\\,i} Ie^{j\\alpha_i} = I\\,\\big(\\cos\\alpha_i + j\\,\\sin\\alpha_i\\big) = 0\n",
    "\\end{equation}    "
   ]
  },
  {
   "cell_type": "markdown",
   "id": "653d1f5a",
   "metadata": {},
   "source": [
    "### Kirchhoff’s Voltage Law\n",
    "A similar development will also establish KVL.\n",
    "The phasor algebraic sum of all voltages around a loop (closed path) is equal to zero.  \n",
    "\n",
    "\\begin{equation}\\tag{2}\n",
    "    \\sum_{\\bigcirc\\,i} U(j\\omega) = \\sum_{\\bullet\\,u} Ue^{j\\alpha_u} = \\sum_{\\bullet\\,u} U\\big(\\cos\\alpha_u + j\\,\\sin\\alpha_u\\big) = 0\n",
    "\\end{equation}    "
   ]
  },
  {
   "cell_type": "markdown",
   "id": "5f3d83dd",
   "metadata": {},
   "source": [
    "## Element Laws\n",
    "### Resistor\n",
    "Setting sinusoids into the Ohm’s law, the following equation is obtained:  \n",
    "\n",
    "\\begin{equation}\\tag{3}\n",
    "    U\\sqrt{2}\\,\\sin(\\omega t + \\alpha_u) = RI\\sqrt{2}\\,\\sin(\\omega t + \\alpha_i)\n",
    "\\end{equation}    "
   ]
  },
  {
   "cell_type": "markdown",
   "id": "b061bc20",
   "metadata": {},
   "source": [
    "Thus, the relationship between RMS voltage and RMS current is effectively Ohm's Law, and there is no phase shift caused by resistance, as equation (3b) implies.  \n",
    "\n",
    "\\begin{equation}\\tag{4}\n",
    "    \\text{a: }\\;U=RI \\quad\\quad\\text{and}\\quad\\quad\\text{b: }\\;\\alpha_u = \\alpha_i\n",
    "\\end{equation}"
   ]
  },
  {
   "cell_type": "markdown",
   "id": "9947af7b",
   "metadata": {},
   "source": [
    "Via equations (4) and equation (5b) from [chapter 4.1](RMS-Value.ipynb#Complex-Number-Representation),  \n",
    "\n",
    "\\begin{equation}\\tag{5a}\n",
    "    U(j\\omega) = Ue^{j\\alpha_u} = RIe^{j\\alpha_i} = RI(j\\omega)\n",
    "\\end{equation}    "
   ]
  },
  {
   "cell_type": "markdown",
   "id": "1a60dd7b",
   "metadata": {},
   "source": [
    "Finally, Ohm's Laws for phasors can be formulated.  \n",
    "\n",
    "\\begin{equation}\\tag{5}\n",
    "    \\text{a: }\\;U(j\\omega) = RI(j\\omega)\\quad\\quad\\text{and}\\quad\\quad\\text{b: }\\;I(j\\omega) = GU(j\\omega)\n",
    "\\end{equation}    "
   ]
  },
  {
   "cell_type": "markdown",
   "id": "c65db9ef",
   "metadata": {},
   "source": [
    "Circuit symbols for a resistor described in time and frequency domains are presented in Fig.\n",
    "4.2.1.  \n",
    "\n",
    "![Fig-4.2.1](Figures/Fig-4.2.1.svg)"
   ]
  },
  {
   "cell_type": "markdown",
   "id": "92c54157",
   "metadata": {},
   "source": [
    "### Inductor\n",
    "Setting sinusoids into the inductor law (3.1.16a) gives:   \n",
    "\n",
    "\\begin{equation}\\tag{6}\n",
    "    U\\sqrt{2}\\,\\sin(\\omega t + \\alpha_u) = LI\\sqrt{2}\\,\\sin'(\\omega t + \\alpha_i) = \\omega LI\\sqrt{2}\\,\\cos(\\omega t + \\alpha_i) = \\omega LI\\sqrt{2}\\,\\sin(\\omega t + \\alpha_i + 0.5\\pi)\n",
    "\\end{equation}    "
   ]
  },
  {
   "cell_type": "markdown",
   "id": "b47d9603",
   "metadata": {},
   "source": [
    "or, simply,  \n",
    "\n",
    "\\begin{equation}\\tag{6}\n",
    "    U\\sqrt{2}\\,\\sin(\\omega t+\\alpha_u) = \\omega LI\\sqrt{2}\\,\\sin(\\omega t + \\alpha_i + 0.5\\pi)\n",
    "\\end{equation}    "
   ]
  },
  {
   "cell_type": "markdown",
   "id": "fc92a23c",
   "metadata": {},
   "source": [
    "Thus,  \n",
    "\n",
    "\\begin{equation}\\tag{7}\n",
    "    \\text{a: }\\;U=\\omega LI \\quad\\quad\\text{and}\\quad\\quad\\text{b: }\\;\\alpha_u = \\alpha_i + 0.5\\pi\n",
    "\\end{equation}"
   ]
  },
  {
   "cell_type": "markdown",
   "id": "98e54964",
   "metadata": {},
   "source": [
    "and,  \n",
    "\n",
    "\\begin{align*}\\tag{8a}\n",
    "    U(j\\omega) &= \\omega LI(j\\omega) = Ue^{j\\alpha_u} = \\omega LIe^{j\\alpha_i}e^{j0.5\\pi} \\\\\n",
    "     &= \\omega LI(j\\omega)e^{j0.5\\pi} = \\omega LI(j\\omega)\\big(\\cos(0.5\\pi) + j\\sin(0.5\\pi)\\big) = j\\omega LI(j\\omega)\n",
    "\\end{align*}     "
   ]
  },
  {
   "cell_type": "markdown",
   "id": "0bfa7571",
   "metadata": {},
   "source": [
    "As equation (7b) implies, inductance causes a phase shift of $0.5\\pi$ or $90$ degrees.  In other words, inductance causes the voltage dropped across the associated coil to lead the current flowing through said coil by an angle of $90$ degrees or $0.5\\pi$."
   ]
  },
  {
   "cell_type": "markdown",
   "id": "53a75ef9",
   "metadata": {},
   "source": [
    "Finally, the inductor law for phasors can be formulated.  \n",
    "\n",
    "\\begin{equation}\\tag{8a}\n",
    "    U(j\\omega) = j\\omega LI(j\\omega) = \\omega LI\\angle(\\alpha_i+0.5\\pi)\n",
    "\\end{equation}    "
   ]
  },
  {
   "cell_type": "markdown",
   "id": "25740bf3",
   "metadata": {},
   "source": [
    "\\begin{equation}\\tag{8b}\n",
    "    I(j\\omega) = \\frac{U(j\\omega)}{j\\omega L} = -\\frac{jU(j\\omega)}{\\omega L} = \\frac{U}{\\omega L}\\,\\angle(\\alpha_u - 0.5\\pi) = -\\frac{U}{\\omega L}\\,\\angle(\\alpha_u+0.5\\pi)\n",
    "\\end{equation}    "
   ]
  },
  {
   "cell_type": "markdown",
   "id": "fcc80ae4",
   "metadata": {},
   "source": [
    "Circuit symbols for a coil described in time and frequency domains are presented in Fig.\n",
    "4.2.2.  \n",
    "\n",
    "![Fig-4.2.2](Figures/Fig-4.2.2.png)"
   ]
  },
  {
   "cell_type": "markdown",
   "id": "308d62b4",
   "metadata": {},
   "source": [
    "### Capacitor\n",
    "Setting sinusoids into the capacitor law (3.1.8a), the following equation is obtained:  \n",
    "\n",
    "\\begin{equation}\\tag{3.1.8a}\n",
    "    i = C\\,\\frac{\\mathrm{d}u}{\\mathrm{d}t}\n",
    "\\end{equation}    "
   ]
  },
  {
   "cell_type": "markdown",
   "id": "734fe748",
   "metadata": {},
   "source": [
    "\\begin{equation}\\tag{9}\n",
    "    I\\sqrt{2}\\,\\sin(\\omega t + \\alpha_i) = \\omega CU\\sqrt{2}\\,\\sin(\\omega t + \\alpha_u + 0.5\\pi)\n",
    "\\end{equation}    "
   ]
  },
  {
   "cell_type": "markdown",
   "id": "8cc161e6",
   "metadata": {},
   "source": [
    "Thus,  \n",
    "\n",
    "\\begin{equation}\\tag{10}\n",
    "    \\text{a: }\\; U = \\frac{I}{\\omega C}\\quad\\quad\\text{and}\\quad\\quad\\text{b: }\\;\\alpha_i= \\alpha_u + 0.5\\pi\n",
    "\\end{equation}    "
   ]
  },
  {
   "cell_type": "markdown",
   "id": "8652b0b3",
   "metadata": {},
   "source": [
    "And,\n",
    "\\begin{equation}\\tag{11a}\n",
    "    I(j\\omega) = \\omega CU(j\\omega)e^{j0.5\\pi} = j\\omega CU(j\\omega)\n",
    "\\end{equation}    "
   ]
  },
  {
   "cell_type": "markdown",
   "id": "9d4e10e2",
   "metadata": {},
   "source": [
    "Finally, the capcitor law for phasors can be formulated.  \n",
    "\n",
    "\\begin{equation}\\tag{11}\n",
    "    \\text{a: }\\;I(j\\omega) = j\\omega CU(j\\omega)\\quad\\quad\\text{and}\\quad\\quad\\text{b: }\\;U(j\\omega) = -\\frac{jI(j\\omega)}{\\omega C} = \\frac{I(j\\omega)}{j\\omega C}\n",
    "\\end{equation}    "
   ]
  },
  {
   "cell_type": "markdown",
   "id": "192d8491",
   "metadata": {},
   "source": [
    "Circuit symbols for a capacitor described in time and frequency domains are shown in Fig.\n",
    "4.2.3.  \n",
    "\n",
    "![Fig-4.2.3](Figures/Fig-4.2.3.png)"
   ]
  },
  {
   "cell_type": "markdown",
   "id": "e2bd31ec",
   "metadata": {},
   "source": [
    "## General Two-Terminal Phasor Circuit, Phasor Impedance\n",
    "\n",
    "Element equations (5), (8) and (11) can be expressed in the general form:  \n",
    "\n",
    "\\begin{equation}\\tag{12}\n",
    "    \\text{a: }\\;U(j\\omega)=Z(j\\omega)I(j\\omega)\\quad\\quad\\text{and}\\quad\\quad\\text{b: }\\;I(j\\omega)=Y(j\\omega)U(j\\omega)\n",
    "\\end{equation}    "
   ]
  },
  {
   "cell_type": "markdown",
   "id": "bff4cbcc",
   "metadata": {},
   "source": [
    "where,  \n",
    "\n",
    "$$ Z(j\\omega) = \\frac{1}{Y(j\\omega)} = \\begin{cases}\\tag{13}\n",
    "R&\\quad\\quad\\text{resistance} \\\\\n",
    "j\\omega L&\\quad\\quad\\text{inductance} \\\\\n",
    "1/(j\\omega C) &\\quad\\quad\\text{capacitance}\n",
    "\\end{cases}$$"
   ]
  },
  {
   "cell_type": "markdown",
   "id": "78102f3b",
   "metadata": {},
   "source": [
    "is called the element **complex impedance**, is called the **complex admittance**. As can\n",
    "be observed, these impedances (admittances) are the $s$-domain impedances (admittances),\n",
    "collected in Table 3.1.2, with $s=j\\omega$."
   ]
  },
  {
   "cell_type": "markdown",
   "id": "48397d8c",
   "metadata": {},
   "source": [
    "Consider a general phasor subcircuit with two accessible terminals, as presented in Fig. 4.2.4.  \n",
    "\n",
    "![Fig-4.2.4](Figures/Fig-4.2.4.png)"
   ]
  },
  {
   "cell_type": "markdown",
   "id": "3418158a",
   "metadata": {},
   "source": [
    "The equivalent impedance of such subcircuit can be defined, as the ratio of the phasor voltage\n",
    "to the phasor current:  \n",
    "\n",
    "\\begin{equation}\\tag{14a}\n",
    "    Z(j\\omega) = Z(s)_{\\big\\vert s=j\\omega} = \\frac{U(j\\omega)}{I(j\\omega)} = Z(\\omega)e^{j\\varphi(\\omega)} = R(\\omega)+jX(\\omega)\n",
    "\\end{equation}    "
   ]
  },
  {
   "cell_type": "markdown",
   "id": "a86034a2",
   "metadata": {},
   "source": [
    "Here,\n",
    "$$ R(\\omega) + jX(\\omega) = Z(\\omega)\\angle \\varphi(\\omega)$$"
   ]
  },
  {
   "cell_type": "markdown",
   "id": "7f98bfc7",
   "metadata": {},
   "source": [
    "For the sake of simplicity, let $\\varphi(\\omega):=\\varphi$ and $Z(\\omega):=Z$.  \n",
    "\n",
    "$$ Z = Z(\\omega) = \\sqrt{R^2 + X^2} \\quad\\quad\\text{and}\\quad\\quad \\varphi = \\arcsin \\frac{X}{Z}$$"
   ]
  },
  {
   "cell_type": "markdown",
   "id": "7378093e",
   "metadata": {},
   "source": [
    "\\begin{equation}\\tag{M1}\n",
    "    \\text{a: }\\;Z\\cos\\varphi = R \\quad\\quad\\text{and}\\quad\\quad \\text{b: }\\;Z\\sin\\varphi = X\n",
    "\\end{equation}    "
   ]
  },
  {
   "cell_type": "markdown",
   "id": "7e6a0707",
   "metadata": {},
   "source": [
    "Via equations (M1a) and (M2a),  \n",
    "\n",
    "\\begin{equation}\\tag{M4a}\n",
    "    R = \\frac{ZG}{Y} = \\frac{G}{Y^2} = \\frac{G}{G^2+B^2}\n",
    "\\end{equation}    "
   ]
  },
  {
   "cell_type": "markdown",
   "id": "02e5c42c",
   "metadata": {},
   "source": [
    "And, via equations (M1b) and (M2b),  \n",
    "\n",
    "\\begin{equation}\\tag{M4b}\n",
    "    X = -\\frac{ZB}{Y} = - \\frac{B}{Y^2} = -\\frac{B}{G^2+B^2}\n",
    "\\end{equation}    "
   ]
  },
  {
   "cell_type": "markdown",
   "id": "05a186fa",
   "metadata": {},
   "source": [
    "Note that equation (14) is consistent with the equation obtained from applying KVL and element equations to the middle subcircuit.  \n",
    "\n",
    "$$ U(j\\omega) = RI(j\\omega) + jXI(j\\omega) = I(j\\omega)(R + jX)$$"
   ]
  },
  {
   "cell_type": "markdown",
   "id": "4b3bdcb0",
   "metadata": {},
   "source": [
    "\\begin{equation}\\tag{14a}\n",
    "    \\frac{U(j\\omega)}{I(j\\omega)} = R + jX\n",
    "\\end{equation}    "
   ]
  },
  {
   "cell_type": "markdown",
   "id": "ae56ace1",
   "metadata": {},
   "source": [
    "Reciprocalizing throughout equation (14) gives the equivalent admittance:  \n",
    "\n",
    "\\begin{equation}\\tag{14b}\n",
    "    Y(j\\omega) = Y(s)_{\\big | s=j\\omega} = \\frac{I(j\\omega)}{U(j\\omega)} = Y(\\omega)e^{-j\\varphi(\\omega)} = G(\\omega) + jB(\\omega)\n",
    "\\end{equation}    "
   ]
  },
  {
   "cell_type": "markdown",
   "id": "22058038",
   "metadata": {},
   "source": [
    "Again, for the sake of simplicity, let $Y(\\omega):=Y$."
   ]
  },
  {
   "cell_type": "markdown",
   "id": "0acb8466",
   "metadata": {},
   "source": [
    "$$ Y = \\sqrt{G^2 + B^2} \\quad\\quad\\text{and}\\quad\\quad \\varphi = -\\arcsin\\frac{B}{Y} = \\arcsin\\frac{X}{Z} = -\\arcsin BZ $$"
   ]
  },
  {
   "cell_type": "markdown",
   "id": "b01ce5c3",
   "metadata": {},
   "source": [
    "\\begin{equation}\\tag{M2}\n",
    "    \\text{a: }\\;Y\\cos -\\varphi = Y\\cos\\varphi = G \\quad\\quad\\text{and}\\quad\\quad \\text{b: }\\;Y\\sin-\\varphi = -Y\\sin\\varphi = B\n",
    "\\end{equation}"
   ]
  },
  {
   "cell_type": "markdown",
   "id": "314bcd17",
   "metadata": {},
   "source": [
    "Via equations (M2a) and (M1a),  \n",
    "\n",
    "\\begin{equation}\\tag{M3a}\n",
    "    \\frac{G}{Y} = GZ = \\frac{R}{Z} \\implies G = \\frac{R}{R^2+X^2}\n",
    "\\end{equation}    "
   ]
  },
  {
   "cell_type": "markdown",
   "id": "a2d7bb7a",
   "metadata": {},
   "source": [
    "And, via the right hand equation above equations (M2),  \n",
    "\n",
    "\\begin{equation}\\tag{M3b}\n",
    "    \\sin\\varphi = -BZ = \\frac{X}{Z}\\implies X = -B(R^2+X^2) \\implies B = -\\frac{X}{R^2+X^2}\n",
    "\\end{equation}    "
   ]
  },
  {
   "cell_type": "markdown",
   "id": "835cf1d2",
   "metadata": {},
   "source": [
    "It is important to stress that impedance (admittance) is a complex number that scales one\n",
    "phasor to produce another, but it is not a phasor. The modulus (magnitude) of impedance is\n",
    "the ratio of effective values of the voltage and the current and the angle is the difference of the\n",
    "voltage and the current angles, as presented in equations (4.2.15) – once again, for simplicity of\n",
    "description, argument $\\omega$ is omitted (fixed frequency is assumed)."
   ]
  },
  {
   "cell_type": "markdown",
   "id": "a18819d9",
   "metadata": {},
   "source": [
    "$$ \\frac{U(j\\omega)}{I(j\\omega)} = \\frac{Ue^{j\\alpha_u}}{Ie^{j\\alpha_i}} = \\frac{U}{I}\\,e^{j(\\alpha_u-\\alpha_i)} = Ze^{j(\\alpha_u-\\alpha_i)} = Ze^{j\\varphi}$$"
   ]
  },
  {
   "cell_type": "markdown",
   "id": "76a9e707",
   "metadata": {},
   "source": [
    "Via the above equations,  \n",
    "\n",
    "\\begin{equation}\\tag{15}\n",
    "    Z = \\frac{U}{I}\\quad\\quad\\text{and}\\quad\\quad \\varphi=\\alpha_u-\\alpha_i\n",
    "\\end{equation}    "
   ]
  },
  {
   "cell_type": "markdown",
   "id": "e1ed5353",
   "metadata": {},
   "source": [
    "![Fig-4.2.4](Figures/Fig-4.2.4.png)"
   ]
  },
  {
   "cell_type": "markdown",
   "id": "7b5fb067",
   "metadata": {},
   "source": [
    "$$ \\frac{1}{R} + \\frac{1}{jX} = G - \\frac{j}{X}  = \\frac{X - jR}{RX}$$"
   ]
  },
  {
   "cell_type": "markdown",
   "id": "fe73b6ef",
   "metadata": {},
   "source": [
    "$$ I(j\\omega)\\,\\frac{RX}{X-jR} = U(j\\omega)$$"
   ]
  },
  {
   "cell_type": "markdown",
   "id": "98f22300",
   "metadata": {},
   "source": [
    "$$ \\frac{XR}{X-jR} = \\frac{XR}{\\sqrt{X^2 + R^2}}\\,\\angle\\!-\\!\\lambda = \\frac{XR}{Z}\\,\\angle\\!-\\!\\lambda\\quad\\quad\\text{where }\\;\\sin\\lambda = -\\frac{R}{Z}$$"
   ]
  },
  {
   "cell_type": "markdown",
   "id": "22f8175e",
   "metadata": {},
   "source": [
    "Via the above equation and equation (M2a),  \n",
    "\n",
    "$$ \\sin-\\lambda = \\cos \\varphi = \\cos-\\varphi = \\frac{G}{Y} = \\frac{Z}{R}$$"
   ]
  },
  {
   "cell_type": "markdown",
   "id": "d8783d3f",
   "metadata": {},
   "source": [
    "$$ \\cos\\lambda = \\frac{X}{Z} = -BZ = -\\frac{B}{Y}$$"
   ]
  },
  {
   "cell_type": "markdown",
   "id": "400d6eb9",
   "metadata": {},
   "source": [
    "Thus,  \n",
    "\n",
    "$$ I(j\\omega)\\,\\big(-BXR + jX) = U(j\\omega)$$"
   ]
  }
 ],
 "metadata": {
  "kernelspec": {
   "display_name": "Python 3",
   "language": "python",
   "name": "python3"
  },
  "language_info": {
   "codemirror_mode": {
    "name": "ipython",
    "version": 3
   },
   "file_extension": ".py",
   "mimetype": "text/x-python",
   "name": "python",
   "nbconvert_exporter": "python",
   "pygments_lexer": "ipython3",
   "version": "3.8.10"
  }
 },
 "nbformat": 4,
 "nbformat_minor": 5
}
