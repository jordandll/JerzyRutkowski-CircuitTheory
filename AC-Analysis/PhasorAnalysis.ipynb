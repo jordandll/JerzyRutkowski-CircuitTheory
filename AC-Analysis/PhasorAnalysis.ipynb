{
 "cells": [
  {
   "cell_type": "markdown",
   "id": "4315a089",
   "metadata": {},
   "source": [
    "# Phasor Analysis\n",
    "### *Chapter 4.2* -- AC Steady-State Analysis\n",
    "\n",
    "## Kirchhoffs’s Laws\n",
    "\n",
    "### Kirchhoff’s Current Law\n",
    "If sinusoidal excitation is applied to a circuit, then sinusoidal currents (4.1.1) flow through the\n",
    "elements. If cosinusoidal excitation is applied to a circuit, then cosinusoidal currents, say\n",
    "$i' = i'(t) = I\\sqrt{2}\\,\\cos(\\omega t + \\alpha_i)$, flow through the elements. KCL holds for both excitations, then it also holds for the complex excitation (defined in Appendix B):  \n",
    "\n",
    "$$ \\sum_{\\bullet\\,i} i'(t) + ji(t) = \\sum_{\\bullet\\,i} \\hat{i} = \\sum_{\\bullet\\,i} \\sqrt{2}\\,I(j\\omega)e^{j\\omega t} = 0$$"
   ]
  },
  {
   "cell_type": "markdown",
   "id": "6bf87e77",
   "metadata": {},
   "source": [
    "Dividing throughout the above equation by the common factor of $e^{j\\omega t}\\sqrt{2}$ gives the KCL for phasors."
   ]
  },
  {
   "cell_type": "markdown",
   "id": "a419b774",
   "metadata": {},
   "source": [
    "The phasor algebraic sum of all currents at a node (cutset) is equal to zero.  \n",
    "\n",
    "\\begin{equation}\\tag{1}\n",
    "    \\sum_{\\bullet\\,i}I(j\\omega) = \\sum_{\\bullet\\,i} Ie^{j\\alpha_i} = I\\,\\big(\\cos\\alpha_i + j\\,\\sin\\alpha_i\\big) = 0\n",
    "\\end{equation}    "
   ]
  },
  {
   "cell_type": "markdown",
   "id": "653d1f5a",
   "metadata": {},
   "source": [
    "### Kirchhoff’s Voltage Law\n",
    "A similar development will also establish KVL.\n",
    "The phasor algebraic sum of all voltages around a loop (closed path) is equal to zero.  \n",
    "\n",
    "\\begin{equation}\\tag{2}\n",
    "    \\sum_{\\bigcirc\\,i} U(j\\omega) = \\sum_{\\bullet\\,u} Ue^{j\\alpha_u} = \\sum_{\\bullet\\,u} U\\big(\\cos\\alpha_u + j\\,\\sin\\alpha_u\\big) = 0\n",
    "\\end{equation}    "
   ]
  },
  {
   "cell_type": "markdown",
   "id": "5f3d83dd",
   "metadata": {},
   "source": [
    "## Element Laws\n",
    "### Resistor\n",
    "Setting sinusoids into the Ohm’s law, the following equation is obtained:  \n",
    "\n",
    "\\begin{equation}\\tag{3}\n",
    "    U\\sqrt{2}\\,\\sin(\\omega t + \\alpha_u) = RI\\sqrt{2}\\,\\sin(\\omega t + \\alpha_i)\n",
    "\\end{equation}    "
   ]
  },
  {
   "cell_type": "markdown",
   "id": "b061bc20",
   "metadata": {},
   "source": [
    "Thus, the relationship between RMS voltage and RMS current is effectively Ohm's Law, and there is no phase shift caused by resistance, as equation (3b) implies.  \n",
    "\n",
    "\\begin{equation}\\tag{4}\n",
    "    \\text{a: }\\;U=RI \\quad\\quad\\text{and}\\quad\\quad\\text{b: }\\;\\alpha_u = \\alpha_i\n",
    "\\end{equation}"
   ]
  },
  {
   "cell_type": "markdown",
   "id": "9947af7b",
   "metadata": {},
   "source": [
    "Via equations (4) and equation (5b) from [chapter 4.1](RMS-Value.ipynb#Complex-Number-Representation),  \n",
    "\n",
    "\\begin{equation}\\tag{5a}\n",
    "    U(j\\omega) = Ue^{j\\alpha_u} = RIe^{j\\alpha_i} = RI(j\\omega)\n",
    "\\end{equation}    "
   ]
  },
  {
   "cell_type": "markdown",
   "id": "1a60dd7b",
   "metadata": {},
   "source": [
    "Finally, Ohm's Laws for phasors can be formulated.  \n",
    "\n",
    "\\begin{equation}\\tag{5}\n",
    "    \\text{a: }\\;U(j\\omega) = RI(j\\omega)\\quad\\quad\\text{and}\\quad\\quad\\text{b: }\\;I(j\\omega) = GU(j\\omega)\n",
    "\\end{equation}    "
   ]
  },
  {
   "cell_type": "markdown",
   "id": "c65db9ef",
   "metadata": {},
   "source": [
    "Circuit symbols for a resistor described in time and frequency domains are presented in Fig.\n",
    "4.2.1.  \n",
    "\n",
    "![Fig-4.2.1](Figures/Fig-4.2.1.svg)"
   ]
  },
  {
   "cell_type": "markdown",
   "id": "92c54157",
   "metadata": {},
   "source": [
    "### Inductor\n",
    "Setting sinusoids into the inductor law (3.1.16a) gives:   \n",
    "\n",
    "\\begin{equation}\\tag{6}\n",
    "    U\\sqrt{2}\\,\\sin(\\omega t + \\alpha_u) = LI\\sqrt{2}\\,\\sin'(\\omega t + \\alpha_i) = \\omega LI\\sqrt{2}\\,\\cos(\\omega t + \\alpha_i) = \\omega LI\\sqrt{2}\\,\\sin(\\omega t + \\alpha_i + 0.5\\pi)\n",
    "\\end{equation}    "
   ]
  },
  {
   "cell_type": "markdown",
   "id": "b47d9603",
   "metadata": {},
   "source": [
    "or, simply,  \n",
    "\n",
    "\\begin{equation}\\tag{6}\n",
    "    U\\sqrt{2}\\,\\sin(\\omega t+\\alpha_u) = \\omega LI\\sqrt{2}\\,\\sin(\\omega t + \\alpha_i + 0.5\\pi)\n",
    "\\end{equation}    "
   ]
  },
  {
   "cell_type": "markdown",
   "id": "fc92a23c",
   "metadata": {},
   "source": [
    "Thus,  \n",
    "\n",
    "\\begin{equation}\\tag{7}\n",
    "    \\text{a: }\\;U=\\omega LI \\quad\\quad\\text{and}\\quad\\quad\\text{b: }\\;\\alpha_u = \\alpha_i + 0.5\\pi\n",
    "\\end{equation}"
   ]
  },
  {
   "cell_type": "markdown",
   "id": "98e54964",
   "metadata": {},
   "source": [
    "and,  \n",
    "\n",
    "\\begin{align*}\\tag{8a}\n",
    "    U(j\\omega) &= \\omega LI(j\\omega) = Ue^{j\\alpha_u} = \\omega LIe^{j\\alpha_i}e^{j0.5\\pi} \\\\\n",
    "     &= \\omega LI(j\\omega)e^{j0.5\\pi} = \\omega LI(j\\omega)\\big(\\cos(0.5\\pi) + j\\sin(0.5\\pi)\\big) = j\\omega LI(j\\omega)\n",
    "\\end{align*}     "
   ]
  },
  {
   "cell_type": "markdown",
   "id": "0bfa7571",
   "metadata": {},
   "source": [
    "As equation (7b) implies, inductance causes a phase shift of $0.5\\pi$ or $90$ degrees.  In other words, inductance causes the voltage dropped across the associated coil to lead the current flowing through said coil by an angle of $90$ degrees or $0.5\\pi$."
   ]
  },
  {
   "cell_type": "markdown",
   "id": "53a75ef9",
   "metadata": {},
   "source": [
    "Finally, the inductor law for phasors can be formulated.  \n",
    "\n",
    "\\begin{equation}\\tag{8a}\n",
    "    U(j\\omega) = j\\omega LI(j\\omega) = \\omega LI\\angle(\\alpha_i+0.5\\pi)\n",
    "\\end{equation}    "
   ]
  },
  {
   "cell_type": "markdown",
   "id": "25740bf3",
   "metadata": {},
   "source": [
    "\\begin{equation}\\tag{8b}\n",
    "    I(j\\omega) = \\frac{U(j\\omega)}{j\\omega L} = -\\frac{jU(j\\omega)}{\\omega L} = \\frac{U}{\\omega L}\\,\\angle(\\alpha_u - 0.5\\pi) = -\\frac{U}{\\omega L}\\,\\angle(\\alpha_u+0.5\\pi)\n",
    "\\end{equation}    "
   ]
  },
  {
   "cell_type": "markdown",
   "id": "fcc80ae4",
   "metadata": {},
   "source": [
    "Circuit symbols for a coil described in time and frequency domains are presented in Fig.\n",
    "4.2.2.  \n",
    "\n",
    "![Fig-4.2.2](Figures/Fig-4.2.2.png)"
   ]
  },
  {
   "cell_type": "markdown",
   "id": "308d62b4",
   "metadata": {},
   "source": [
    "### Capacitor\n",
    "Setting sinusoids into the capacitor law (3.1.8a), the following equation is obtained:  \n",
    "\n",
    "\\begin{equation}\\tag{3.1.8a}\n",
    "    i = C\\,\\frac{\\mathrm{d}u}{\\mathrm{d}t}\n",
    "\\end{equation}    "
   ]
  },
  {
   "cell_type": "markdown",
   "id": "734fe748",
   "metadata": {},
   "source": [
    "\\begin{equation}\\tag{9}\n",
    "    I\\sqrt{2}\\,\\sin(\\omega t + \\alpha_i) = \\omega CU\\sqrt{2}\\,\\sin(\\omega t + \\alpha_u + 0.5\\pi)\n",
    "\\end{equation}    "
   ]
  },
  {
   "cell_type": "markdown",
   "id": "8cc161e6",
   "metadata": {},
   "source": [
    "Thus,  \n",
    "\n",
    "\\begin{equation}\\tag{10}\n",
    "    \\text{a: }\\; U = \\frac{I}{\\omega C}\\quad\\quad\\text{and}\\quad\\quad\\text{b: }\\;\\alpha_i= \\alpha_u + 0.5\\pi\n",
    "\\end{equation}    "
   ]
  },
  {
   "cell_type": "markdown",
   "id": "8652b0b3",
   "metadata": {},
   "source": [
    "And,\n",
    "\\begin{equation}\\tag{11a}\n",
    "    I(j\\omega) = \\omega CU(j\\omega)e^{j0.5\\pi} = j\\omega CU(j\\omega)\n",
    "\\end{equation}    "
   ]
  },
  {
   "cell_type": "markdown",
   "id": "9d4e10e2",
   "metadata": {},
   "source": [
    "Finally, the capcitor law for phasors can be formulated.  \n",
    "\n",
    "\\begin{equation}\\tag{11}\n",
    "    \\text{a: }\\;I(j\\omega) = j\\omega CU(j\\omega)\\quad\\quad\\text{and}\\quad\\quad\\text{b: }\\;U(j\\omega) = -\\frac{jI(j\\omega)}{\\omega C} = \\frac{I(j\\omega)}{j\\omega C}\n",
    "\\end{equation}    "
   ]
  },
  {
   "cell_type": "markdown",
   "id": "192d8491",
   "metadata": {},
   "source": [
    "Circuit symbols for a capacitor described in time and frequency domains are shown in Fig.\n",
    "4.2.3.  \n",
    "\n",
    "![Fig-4.2.3](Figures/Fig-4.2.3.png)"
   ]
  },
  {
   "cell_type": "markdown",
   "id": "e2bd31ec",
   "metadata": {},
   "source": [
    "## General Two-Terminal Phasor Circuit, Phasor Impedance\n",
    "\n",
    "Element equations (5), (8) and (11) can be expressed in the general form:  \n",
    "\n",
    "\\begin{equation}\\tag{12}\n",
    "    \\text{a: }\\;U(j\\omega)=Z(j\\omega)I(j\\omega)\\quad\\quad\\text{and}\\quad\\quad\\text{b: }\\;I(j\\omega)=Y(j\\omega)U(j\\omega)\n",
    "\\end{equation}    "
   ]
  },
  {
   "cell_type": "markdown",
   "id": "bff4cbcc",
   "metadata": {},
   "source": [
    "where,  \n",
    "\n",
    "$$ Z(j\\omega) = \\frac{1}{Y(j\\omega)} = \\begin{cases}\\tag{13}\n",
    "R&\\quad\\quad\\text{resistance} \\\\\n",
    "j\\omega L&\\quad\\quad\\text{inductance} \\\\\n",
    "1/(j\\omega C) &\\quad\\quad\\text{capacitance}\n",
    "\\end{cases}$$"
   ]
  },
  {
   "cell_type": "markdown",
   "id": "78102f3b",
   "metadata": {},
   "source": [
    "is called the element **complex impedance**, is called the **complex admittance**. As can\n",
    "be observed, these impedances (admittances) are the $s$-domain impedances (admittances),\n",
    "collected in Table 3.1.2, with $s=j\\omega$."
   ]
  },
  {
   "cell_type": "markdown",
   "id": "48397d8c",
   "metadata": {},
   "source": [
    "Consider a general phasor subcircuit with two accessible terminals, as presented in Fig. 4.2.4.  \n",
    "\n",
    "![Fig-4.2.4](Figures/Fig-4.2.4.png)"
   ]
  },
  {
   "cell_type": "markdown",
   "id": "3418158a",
   "metadata": {},
   "source": [
    "The equivalent impedance of such subcircuit can be defined, as the ratio of the phasor voltage\n",
    "to the phasor current:  \n",
    "\n",
    "\\begin{equation}\\tag{14a}\n",
    "    Z(j\\omega) = Z(s)_{\\big\\vert s=j\\omega} = \\frac{U(j\\omega)}{I(j\\omega)} = Z(\\omega)e^{j\\varphi(\\omega)} = R(\\omega)+jX(\\omega)\n",
    "\\end{equation}    "
   ]
  },
  {
   "cell_type": "markdown",
   "id": "a86034a2",
   "metadata": {},
   "source": [
    "Here,\n",
    "$$ R(\\omega) + jX(\\omega) = Z(\\omega)\\angle \\varphi(\\omega)$$"
   ]
  },
  {
   "cell_type": "markdown",
   "id": "7f98bfc7",
   "metadata": {},
   "source": [
    "For the sake of simplicity, let $\\varphi(\\omega):=\\varphi$ and $Z(\\omega):=Z$.  \n",
    "\n",
    "$$ Z = Z(\\omega) = \\sqrt{R^2 + X^2} \\quad\\quad\\text{and}\\quad\\quad \\varphi = \\arcsin \\frac{X}{Z}$$"
   ]
  },
  {
   "cell_type": "markdown",
   "id": "7378093e",
   "metadata": {},
   "source": [
    "\\begin{equation}\\tag{M1}\n",
    "    \\text{a: }\\;Z\\cos\\varphi = R \\quad\\quad\\text{and}\\quad\\quad \\text{b: }\\;Z\\sin\\varphi = X\n",
    "\\end{equation}    "
   ]
  },
  {
   "cell_type": "markdown",
   "id": "7e6a0707",
   "metadata": {},
   "source": [
    "Via equations (M1a) and (M2a),  \n",
    "\n",
    "\\begin{equation}\\tag{M4a}\n",
    "    R = \\frac{ZG}{Y} = \\frac{G}{Y^2} = \\frac{G}{G^2+B^2}\n",
    "\\end{equation}    "
   ]
  },
  {
   "cell_type": "markdown",
   "id": "02e5c42c",
   "metadata": {},
   "source": [
    "And, via equations (M1b) and (M2b),  \n",
    "\n",
    "\\begin{equation}\\tag{M4b}\n",
    "    X = -\\frac{ZB}{Y} = - \\frac{B}{Y^2} = -\\frac{B}{G^2+B^2}\n",
    "\\end{equation}    "
   ]
  },
  {
   "cell_type": "markdown",
   "id": "05a186fa",
   "metadata": {},
   "source": [
    "Note that equation (14) is consistent with the equation obtained from applying KVL and element equations to the middle subcircuit.  \n",
    "\n",
    "$$ U(j\\omega) = RI(j\\omega) + jXI(j\\omega) = I(j\\omega)(R + jX)$$"
   ]
  },
  {
   "cell_type": "markdown",
   "id": "4b3bdcb0",
   "metadata": {},
   "source": [
    "\\begin{equation}\\tag{14a}\n",
    "    \\frac{U(j\\omega)}{I(j\\omega)} = R + jX\n",
    "\\end{equation}    "
   ]
  },
  {
   "cell_type": "markdown",
   "id": "ae56ace1",
   "metadata": {},
   "source": [
    "Reciprocalizing throughout equation (14) gives the equivalent admittance:  \n",
    "\n",
    "\\begin{equation}\\tag{14b}\n",
    "    Y(j\\omega) = Y(s)_{\\big | s=j\\omega} = \\frac{I(j\\omega)}{U(j\\omega)} = Y(\\omega)e^{-j\\varphi(\\omega)} = G(\\omega) + jB(\\omega)\n",
    "\\end{equation}    "
   ]
  },
  {
   "cell_type": "markdown",
   "id": "22058038",
   "metadata": {},
   "source": [
    "Again, for the sake of simplicity, let $Y(\\omega):=Y$."
   ]
  },
  {
   "cell_type": "markdown",
   "id": "0acb8466",
   "metadata": {},
   "source": [
    "$$ Y = \\sqrt{G^2 + B^2} \\quad\\quad\\text{and}\\quad\\quad \\varphi = -\\arcsin\\frac{B}{Y} = \\arcsin\\frac{X}{Z} = -\\arcsin BZ $$"
   ]
  },
  {
   "cell_type": "markdown",
   "id": "b01ce5c3",
   "metadata": {},
   "source": [
    "\\begin{equation}\\tag{M2}\n",
    "    \\text{a: }\\;Y\\cos -\\varphi = Y\\cos\\varphi = G \\quad\\quad\\text{and}\\quad\\quad \\text{b: }\\;Y\\sin-\\varphi = -Y\\sin\\varphi = B\n",
    "\\end{equation}"
   ]
  },
  {
   "cell_type": "markdown",
   "id": "314bcd17",
   "metadata": {},
   "source": [
    "Via equations (M2a) and (M1a),  \n",
    "\n",
    "\\begin{equation}\\tag{M3a}\n",
    "    \\frac{G}{Y} = GZ = \\frac{R}{Z} \\implies G = \\frac{R}{R^2+X^2}\n",
    "\\end{equation}    "
   ]
  },
  {
   "cell_type": "markdown",
   "id": "a2d7bb7a",
   "metadata": {},
   "source": [
    "And, via the right hand equation above equations (M2),  \n",
    "\n",
    "\\begin{equation}\\tag{M3b}\n",
    "    \\sin\\varphi = -BZ = \\frac{X}{Z}\\implies X = -B(R^2+X^2) \\implies B = -\\frac{X}{R^2+X^2}\n",
    "\\end{equation}    "
   ]
  },
  {
   "cell_type": "markdown",
   "id": "835cf1d2",
   "metadata": {},
   "source": [
    "It is important to stress that impedance (admittance) is a complex number that scales one\n",
    "phasor to produce another, but it is not a phasor. The modulus (magnitude) of impedance is\n",
    "the ratio of effective values of the voltage and the current and the angle is the difference of the\n",
    "voltage and the current angles, as presented in equations (4.2.15) – once again, for simplicity of\n",
    "description, argument $\\omega$ is omitted (fixed frequency is assumed)."
   ]
  },
  {
   "cell_type": "markdown",
   "id": "a18819d9",
   "metadata": {},
   "source": [
    "$$ \\frac{U(j\\omega)}{I(j\\omega)} = \\frac{Ue^{j\\alpha_u}}{Ie^{j\\alpha_i}} = \\frac{U}{I}\\,e^{j(\\alpha_u-\\alpha_i)} = Ze^{j(\\alpha_u-\\alpha_i)} = Ze^{j\\varphi}$$"
   ]
  },
  {
   "cell_type": "markdown",
   "id": "76a9e707",
   "metadata": {},
   "source": [
    "Via the above equations,  \n",
    "\n",
    "\\begin{equation}\\tag{15}\n",
    "    Z = \\frac{U}{I}\\quad\\quad\\text{and}\\quad\\quad \\varphi=\\alpha_u-\\alpha_i\n",
    "\\end{equation}    "
   ]
  },
  {
   "cell_type": "markdown",
   "id": "fa36eb26",
   "metadata": {},
   "source": [
    "### Example 4.2.1\n",
    "Find the series and parallel equivalents of the circuit presented in Fig. 4.2.11, \n",
    "$R_1=5\\Omega$, $R_2=10\\Omega$, $\\omega L = 15\\Omega$, $1/(\\omega C) = 10\\Omega$, $\\omega = 1000 \\mathrm{rad}/\\mathrm{s}$.  \n",
    "\n",
    "![Fig-4.2.11](Figures/Fig-4.2.11.png)"
   ]
  },
  {
   "cell_type": "markdown",
   "id": "4557aa0c",
   "metadata": {},
   "source": [
    "$$ Z(j\\omega) = Z_1(j\\omega) + A_2(j\\omega) \\quad\\quad\\text{where }\\; Z_1 = R_1 + j\\omega L \\quad\\text{and}\\quad A_2(j\\omega) = \\frac{1}{Z_2(j\\omega)}$$"
   ]
  },
  {
   "cell_type": "markdown",
   "id": "c9786ab3",
   "metadata": {},
   "source": [
    "and,\n",
    "$$ Z_2(j\\omega) = \\frac{1}{R_2} + j\\omega C = G_2 + j\\omega C$$"
   ]
  },
  {
   "cell_type": "code",
   "execution_count": 1,
   "id": "0b7d884e",
   "metadata": {},
   "outputs": [],
   "source": [
    "R_1 = 5; R_2 = 10; omega = 1000; C = 1/(omega * 10); L = 15/omega\n",
    "Z_2 = complex(1/R_2, omega*C)"
   ]
  },
  {
   "cell_type": "code",
   "execution_count": 2,
   "id": "6bde07cd",
   "metadata": {},
   "outputs": [
    {
     "data": {
      "text/plain": [
       "(10+10j)"
      ]
     },
     "execution_count": 2,
     "metadata": {},
     "output_type": "execute_result"
    }
   ],
   "source": [
    "A_2 = 1/Z_2\n",
    "Z_1 = complex(R_1, omega*L)\n",
    "Z = Z_1 + A_2\n",
    "Z"
   ]
  },
  {
   "cell_type": "markdown",
   "id": "2279ca1c",
   "metadata": {},
   "source": [
    "Thus,  \n",
    "\n",
    "$$ Z(j\\omega) = R_\\mathrm{s} + jX_\\mathrm{s} = R_\\mathrm{s} + j\\omega L_\\mathrm{s} = 10\\Omega + j10\\Omega = 10\\sqrt{2}\\,\\Omega\\,\\angle 45^\\circ = Z\\,\\angle 45^\\circ$$"
   ]
  },
  {
   "cell_type": "code",
   "execution_count": 3,
   "id": "37e95110",
   "metadata": {},
   "outputs": [],
   "source": [
    "import numpy as np"
   ]
  },
  {
   "cell_type": "code",
   "execution_count": 4,
   "id": "17a7a698",
   "metadata": {},
   "outputs": [
    {
     "data": {
      "text/plain": [
       "44.99999999999999"
      ]
     },
     "execution_count": 4,
     "metadata": {},
     "output_type": "execute_result"
    }
   ],
   "source": [
    "np.degrees(np.arcsin(1/np.sqrt(2)))"
   ]
  },
  {
   "cell_type": "markdown",
   "id": "31548c7b",
   "metadata": {},
   "source": [
    "Recall that:  \n",
    "\n",
    "\\begin{equation}\\tag{17a}\n",
    "    G = \\frac{R}{R^2+X^2} \\quad\\quad\\text{and}\\quad\\quad B = -\\frac{X}{R^2+X^2}\n",
    "\\end{equation}    "
   ]
  },
  {
   "cell_type": "markdown",
   "id": "78938850",
   "metadata": {},
   "source": [
    "Formulating the above pair of equations with $R=R_\\mathrm{s}$ and $X=X_\\mathrm{s}$ gives:  \n",
    "\n",
    "$$ G = \\frac{1}{R_\\mathrm{p}} = \\frac{R_\\mathrm{s}}{Z^2} = \\frac{10\\Omega}{200\\Omega^2} = 0.05\\mathrm{S}$$"
   ]
  },
  {
   "cell_type": "markdown",
   "id": "2ed72bf2",
   "metadata": {},
   "source": [
    "and,\n",
    "$$ B = -\\frac{1}{\\omega L_\\mathrm{p}}=- \\frac{X_\\mathrm{s}}{Z^2} = -\\frac{10\\Omega}{200\\Omega^2} = -0.05\\mathrm{S}$$"
   ]
  },
  {
   "cell_type": "markdown",
   "id": "a8260dd9",
   "metadata": {},
   "source": [
    "Finally, via the above two equations,  \n",
    "\n",
    "$$ R_\\mathrm{p} = 20\\Omega \\quad\\quad\\text{and}\\quad\\quad L_\\mathrm{p} = \\frac{20\\Omega}{\\omega} = 20\\mathrm{mH}$$"
   ]
  },
  {
   "cell_type": "markdown",
   "id": "7c9729a7",
   "metadata": {},
   "source": [
    "![Fig-4.2.12](Figures/Fig-4.2.12.png)"
   ]
  },
  {
   "cell_type": "markdown",
   "id": "a8073b80",
   "metadata": {},
   "source": [
    "## Algorithm of AC Steady-State Analysis\n",
    "The Kirchhoff’s laws (4.2.1) and (4.2.2), together with element laws (4.2.5), (4.2.8) and\n",
    "(4.2.11), can be used to formulate circuit equations in the phasor-domain. The analysis is\n",
    "therefore identical to the resistive circuit analysis, with impedances replacing resistances and\n",
    "phasors replacing DC currents and voltages, nodal analysis can be applied. Then, algorithm of\n",
    "AC steady-state analysis can be formulated."
   ]
  },
  {
   "cell_type": "markdown",
   "id": "d08dc30d",
   "metadata": {},
   "source": [
    "#### Algorithm 4.2.1 Phasor method of AC steady-state analysis\n",
    "1. Built a phasor circuit.\n",
    "2. Formulate phasor equations, nodal method can be applied.\n",
    "3. Solve the equations to find phasors describing currents and voltages.\n",
    "4. Express the solution graphically, by means of the phasor diagram."
   ]
  },
  {
   "cell_type": "markdown",
   "id": "45ab735e",
   "metadata": {},
   "source": [
    "Transformation of the solution to the time-domain is trivial. Once phasors are found, they can\n",
    "be converted immediately to the time-domain sinusoidal answers. Phasor diagram is helpful in\n",
    "checking correctness of the solution, also allows to read phase shifts between phasors."
   ]
  },
  {
   "cell_type": "markdown",
   "id": "5e41967e",
   "metadata": {},
   "source": [
    "### Example 4.2.2\n",
    "Find the mesh current, element voltages and voltage $U_\\mathrm{CA}(j\\omega)$ ; draw the phasor diagram:  $x=x(t) = 10\\sin\\big(\\omega t + 45^\\circ\\big)\\,\\mathrm{V}$, $X_L=\\omega L = 20\\Omega$, $|X_C| = 1/(\\omega C) = 10\\Omega$, $R=10\\Omega$, and $\\omega=314\\mathrm{rad}/\\mathrm{s}$.  \n",
    "\n",
    "![Fig-4.2.13](Figures/Fig-4.2.13.png)"
   ]
  },
  {
   "cell_type": "code",
   "execution_count": 5,
   "id": "77349f51",
   "metadata": {},
   "outputs": [],
   "source": [
    "R = 10; omega = 314; L = 20/omega; C = 1/(omega*10)"
   ]
  },
  {
   "cell_type": "markdown",
   "id": "1ec6aaf7",
   "metadata": {},
   "source": [
    "$$ E(j\\omega) = \\frac{10\\mathrm{V}}{\\sqrt{2}}\\,\\angle 45^\\circ = \\frac{10\\mathrm{V}}{\\sqrt{2}}\\,\\big(\\cos0.25\\pi + j\\sin0.25\\pi\\big) = 5\\mathrm{V}\\,(1+j)$$"
   ]
  },
  {
   "cell_type": "code",
   "execution_count": 6,
   "id": "e3402dff",
   "metadata": {},
   "outputs": [
    {
     "data": {
      "text/plain": [
       "0.7071067811865475"
      ]
     },
     "execution_count": 6,
     "metadata": {},
     "output_type": "execute_result"
    }
   ],
   "source": [
    "np.cos(0.25*np.pi)\n",
    "np.sin(0.25*np.pi)"
   ]
  },
  {
   "cell_type": "code",
   "execution_count": 7,
   "id": "54f5bb7c",
   "metadata": {},
   "outputs": [
    {
     "data": {
      "text/plain": [
       "(5+4.999999999999999j)"
      ]
     },
     "execution_count": 7,
     "metadata": {},
     "output_type": "execute_result"
    }
   ],
   "source": [
    "E = complex(10*np.cos(0.25*np.pi), 10*np.sin(0.25*np.pi))/np.sqrt(2)\n",
    "E"
   ]
  },
  {
   "cell_type": "markdown",
   "id": "32282f2e",
   "metadata": {},
   "source": [
    "The series impedance is:  \n",
    "\n",
    "$$ Z(j\\omega) = R + jX_L - j|X_C| = 10\\,\\sqrt{2}\\,\\angle 45^\\circ$$"
   ]
  },
  {
   "cell_type": "code",
   "execution_count": 8,
   "id": "7194875c",
   "metadata": {},
   "outputs": [
    {
     "data": {
      "text/plain": [
       "(10+10j)"
      ]
     },
     "execution_count": 8,
     "metadata": {},
     "output_type": "execute_result"
    }
   ],
   "source": [
    "Z = complex(R, omega*L - 1/(omega*C))\n",
    "Z"
   ]
  },
  {
   "cell_type": "markdown",
   "id": "188ff40f",
   "metadata": {},
   "source": [
    "The mush current is:  \n",
    "\n",
    "$$ I(j\\omega) = \\frac{E(j\\omega)}{Z(j\\omega)} = 0.5\\mathrm{A}$$"
   ]
  },
  {
   "cell_type": "code",
   "execution_count": 9,
   "id": "ac11ef5d",
   "metadata": {},
   "outputs": [
    {
     "data": {
      "text/plain": [
       "(0.5-4.4408920985006264e-17j)"
      ]
     },
     "execution_count": 9,
     "metadata": {},
     "output_type": "execute_result"
    }
   ],
   "source": [
    "I = E/Z\n",
    "I"
   ]
  },
  {
   "cell_type": "markdown",
   "id": "e339a91d",
   "metadata": {},
   "source": [
    "$$ U_L = 0.5\\mathrm{A}\\cdot 20\\Omega\\,\\angle90^\\circ = 10\\mathrm{V}\\,\\angle 90^\\circ$$"
   ]
  },
  {
   "cell_type": "markdown",
   "id": "94a25ba1",
   "metadata": {},
   "source": [
    "$$ U_R = 5\\mathrm{V} \\quad\\quad\\text{and}\\quad\\quad U_C = 0.5\\mathrm{A}\\cdot 10\\Omega\\,\\angle\\!-\\!90^\\circ = -5\\mathrm{V}\\,\\angle 90^\\circ$$"
   ]
  },
  {
   "cell_type": "markdown",
   "id": "bb6a7f10",
   "metadata": {},
   "source": [
    "Via KVL,  \n",
    "\n",
    "$$ U_\\mathrm{CA} = U_C + U_R = 5\\mathrm{V}\\,\\big(1-j) = 5\\sqrt{2}\\,\\mathrm{V}\\,\\angle\\!-\\!45^\\circ$$"
   ]
  },
  {
   "cell_type": "markdown",
   "id": "e6ed7a61",
   "metadata": {},
   "source": [
    "## Drill Problems\n",
    "#### Problem 1\n",
    "1. What reactance of: a) inductive character, b) capacitive character, should be connected in series with $j100 \\Omega$ coil such that at $U=200\\mathrm{V}$ supply, coil voltage drops by $50\\mathrm{\\%}$, i.e. down to $100 \\mathrm{V}$?  \n",
    "\n",
    "![Fig-P.4.2.1](Figures/Fig-P.4.2.1.png)"
   ]
  },
  {
   "cell_type": "markdown",
   "id": "b221f2de",
   "metadata": {},
   "source": [
    "**a)** inductive character:  "
   ]
  },
  {
   "cell_type": "markdown",
   "id": "1d76c69f",
   "metadata": {},
   "source": [
    "$$ I(j\\omega)= \\frac{100}{j100} = -j = 1\\mathrm{A}\\,\\angle\\!-\\!90^\\circ = -1\\mathrm{A}\\,\\angle90^\\circ$$"
   ]
  },
  {
   "cell_type": "markdown",
   "id": "4f695f85",
   "metadata": {},
   "source": [
    "$$jX(j\\omega)I(j\\omega) = U - U_L = 100\\mathrm{V}$$"
   ]
  },
  {
   "cell_type": "markdown",
   "id": "6b06c94c",
   "metadata": {},
   "source": [
    "$$ X(j\\omega) = 100\\Omega$$"
   ]
  },
  {
   "cell_type": "markdown",
   "id": "39757338",
   "metadata": {},
   "source": [
    "**b)** capacitive character:  \n",
    "\n",
    "$$ I(j\\omega) = -\\frac{100}{j100} = j = 1\\mathrm{A}\\,\\angle 90^\\circ$$"
   ]
  },
  {
   "cell_type": "markdown",
   "id": "c3ba8fa8",
   "metadata": {},
   "source": [
    "$$ jX(j\\omega)I(j\\omega) = U - U_L = 300\\mathrm{V}$$"
   ]
  },
  {
   "cell_type": "markdown",
   "id": "6cc0c544",
   "metadata": {},
   "source": [
    "$$ -X(j\\omega) = 300\\Omega$$"
   ]
  },
  {
   "cell_type": "markdown",
   "id": "d7329129",
   "metadata": {},
   "source": [
    "#### Problem 2\n",
    "2. Sketch the phasor diagram and read the voltage $U_\\mathrm{BA}(j\\omega)$: $R_1=R_2=X_L = |X_C| = 10\\Omega$, $E(j\\omega)=10\\mathrm{V}$. Repeat calculations (drawing) for: a)$R_1=0$ , b) $R_2=0$.  \n",
    "\n",
    "![Fig-P.4.2.2](Figures/Fig-P.4.2.2.png)"
   ]
  },
  {
   "cell_type": "markdown",
   "id": "53e7db9e",
   "metadata": {},
   "source": [
    "Via KVL and element equation:  \n",
    "\n",
    "$$ E(j\\omega) = (R_1 +jX_L)I_1(j\\omega) = Z_1(j\\omega)I_1(j\\omega) \\quad\\quad\\text{and}\\quad\\quad E(j\\omega) = (R_2-jB_C)I_2(j\\omega) = Z_2(j\\omega)I_2(j\\omega)$$"
   ]
  },
  {
   "cell_type": "markdown",
   "id": "f5d286e8",
   "metadata": {},
   "source": [
    "$$ I_1(j\\omega) = \\frac{E(j\\omega)}{Z_1(j\\omega)} = \\frac{10\\mathrm{V}}{10\\sqrt{2}\\,\\Omega\\,\\angle 45^\\circ} = \\frac{1}{\\sqrt{2}}\\,\\mathrm{A}\\,\\angle\\!-\\!45^\\circ \\quad\\quad\\hat{=}\\quad\\quad i_1=i_1(t)= \\sin\\big(\\omega t - 45^\\circ\\big)\\,\\mathrm{A}$$"
   ]
  },
  {
   "cell_type": "markdown",
   "id": "05b22302",
   "metadata": {},
   "source": [
    "$$ Z_2(j\\omega) = 10\\Omega - j10\\Omega = 10\\sqrt{2}\\,\\Omega\\,\\angle \\!-\\!45^\\circ$$"
   ]
  },
  {
   "cell_type": "markdown",
   "id": "b0ac295b",
   "metadata": {},
   "source": [
    "$$ I_2(j\\omega) = \\frac{1}{\\sqrt{2}}\\,\\mathrm{A}\\,\\angle 45^\\circ \\quad\\quad\\hat{=}\\quad\\quad i_2=i_2(t) = \\sin\\big(\\omega t + 45^\\circ\\big)\\,\\mathrm{A}$$"
   ]
  },
  {
   "cell_type": "code",
   "execution_count": 10,
   "id": "331a2786",
   "metadata": {},
   "outputs": [
    {
     "data": {
      "text/plain": [
       "0.9999500037496876"
      ]
     },
     "execution_count": 10,
     "metadata": {},
     "output_type": "execute_result"
    }
   ],
   "source": [
    "10/np.sqrt(100.01)"
   ]
  },
  {
   "cell_type": "markdown",
   "id": "5fa742f7",
   "metadata": {},
   "source": [
    "$$ U_\\mathrm{BA}(j\\omega) = R_1I_1(j\\omega) - R_2I_2(j\\omega) = \\frac{10}{\\sqrt{2}}\\cdot -2j = -j10\\sqrt{2}\\mathrm{V} = -10\\sqrt{2}\\,\\mathrm{V}\\,\\angle90^\\circ \\quad\\quad\\hat{=}\\quad\\quad u_\\mathrm{BA} = u_\\mathrm{BA}(t) = 20\\sin\\big(\\omega t - 90^\\circ\\big)\\,\\mathrm{V}$$"
   ]
  },
  {
   "cell_type": "markdown",
   "id": "d63d13f6",
   "metadata": {},
   "source": [
    "**a)** $R_1=0$:  \n",
    "\n",
    "$$ I_1(j\\omega) = \\frac{10\\mathrm{V}}{j10\\Omega} = -1\\mathrm{A}\\,\\angle90^\\circ \\quad\\quad\\hat{=}\\quad\\quad i_1= i_1(t) = \\sqrt{2}\\sin\\big(\\omega t - 90^\\circ\\big)\\,\\mathrm{A}$$"
   ]
  },
  {
   "cell_type": "markdown",
   "id": "8751f70f",
   "metadata": {},
   "source": [
    "$$ U_\\mathrm{BA}(j\\omega) = -R_2I_2(j\\omega) = -\\frac{10\\mathrm{V}}{\\sqrt{2}}\\,\\angle 45^\\circ\\quad\\quad\\hat{=}\\quad\\quad u_\\mathrm{BA}(t) = -10\\mathrm{V}\\sin\\big(\\omega t + 45^\\circ\\big)$$"
   ]
  },
  {
   "cell_type": "markdown",
   "id": "94e15c23",
   "metadata": {},
   "source": [
    "**b)** $R_2=0$:  \n",
    "\n",
    "$$ U_\\mathrm{BA}(j\\omega) = R_1I_1(j\\omega) = \\frac{10\\mathrm{V}}{\\sqrt{2}}\\,\\angle\\!-\\!45^\\circ \\quad\\quad\\hat{=}\\quad\\quad u_\\mathrm{BA}(t) = 10\\mathrm{V}\\sin\\big(\\omega t - 45^\\circ\\big)$$"
   ]
  },
  {
   "cell_type": "markdown",
   "id": "5cc0e61e",
   "metadata": {},
   "source": [
    "#### Problem 3\n",
    "3. Find the effective value of the mesh current and the coil voltage.  \n",
    "\n",
    "![Fig-P.4.2.3](Figures/Fig-P.4.2.3.png)"
   ]
  },
  {
   "cell_type": "markdown",
   "id": "b3e3253f",
   "metadata": {},
   "source": [
    "$$ I(j\\omega) = \\frac{20\\mathrm{V}}{10\\sqrt{2}\\Omega\\,\\angle45^\\circ} = \\sqrt{2}\\mathrm{A}\\,\\angle\\!-\\!45^\\circ$$"
   ]
  },
  {
   "cell_type": "markdown",
   "id": "0a25a87c",
   "metadata": {},
   "source": [
    "$$ U_L(j\\omega) = j\\omega L I(j\\omega) = 10\\Omega\\,\\angle90^\\circ \\cdot \\sqrt{2}\\mathrm{A}\\,\\angle\\!-\\!45^\\circ = 10\\sqrt{2}\\mathrm{V}\\,\\angle45^\\circ$$"
   ]
  },
  {
   "cell_type": "markdown",
   "id": "ccb3225f",
   "metadata": {},
   "source": [
    "$$ u_L(t) = 20\\mathrm{V}\\sin\\big(100 t + 45^\\circ\\big)$$"
   ]
  },
  {
   "cell_type": "markdown",
   "id": "52100c26",
   "metadata": {},
   "source": [
    "#### Problem 4\n",
    "4. For the parallel $RL$ circuit, find the total RMS current if RMS currents of elements are:  $I_R=4\\mathrm{A}$, $I_L=3\\mathrm{A}$."
   ]
  },
  {
   "cell_type": "markdown",
   "id": "579232f3",
   "metadata": {},
   "source": [
    "$$ I(j\\omega) = I_R(j\\omega) + I_L(j\\omega)$$"
   ]
  },
  {
   "cell_type": "markdown",
   "id": "e38e1f81",
   "metadata": {},
   "source": [
    "$$ U(j\\omega) = RI_R(j\\omega) = jX_LI_L(j\\omega)$$"
   ]
  },
  {
   "cell_type": "markdown",
   "id": "e2afa869",
   "metadata": {},
   "source": [
    "$$ I_R(j\\omega) = I_R\\angle0^\\circ = 4\\mathrm{A} \\quad\\quad\\text{and}\\quad\\quad I_L(j\\omega) = -I_L\\angle90^\\circ = -3\\mathrm{A}\\,\\angle90^\\circ$$"
   ]
  },
  {
   "cell_type": "markdown",
   "id": "78121586",
   "metadata": {},
   "source": [
    "$$ I(j\\omega) = 4\\mathrm{A} - j3\\mathrm{A} \\implies I(\\omega) = I = \\sqrt{4^2+3^2}\\mathrm{A} = 5\\mathrm{A}$$"
   ]
  },
  {
   "cell_type": "markdown",
   "id": "2f5e5269",
   "metadata": {},
   "source": [
    "#### Problem 5\n",
    "5. For the series $RL$ circuit, find the total RMS voltage if the RMS voltage of elements are:  $U_R=4\\mathrm{V}$, $U_L=3\\mathrm{V}$."
   ]
  },
  {
   "cell_type": "markdown",
   "id": "d4b412cb",
   "metadata": {},
   "source": [
    "$$ U(j\\omega) = U_R(j\\omega) + U_L(j\\omega)$$"
   ]
  },
  {
   "cell_type": "markdown",
   "id": "5b9cf2b5",
   "metadata": {},
   "source": [
    "$$ I(j\\omega) = \\frac{U_R(j\\omega)}{R} = \\frac{U_L(j\\omega)}{jX_L} = I(\\omega)\\angle0^\\circ$$"
   ]
  },
  {
   "cell_type": "markdown",
   "id": "a19851c0",
   "metadata": {},
   "source": [
    "$$ U_R(j\\omega) = U_R\\angle0^\\circ \\quad\\quad\\text{and}\\quad\\quad U_L(j\\omega) = U_L\\angle90^\\circ$$"
   ]
  },
  {
   "cell_type": "markdown",
   "id": "416154df",
   "metadata": {},
   "source": [
    "$$ U(j\\omega) = U_R + jU_L \\implies U(\\omega) = U = 5\\mathrm{V}$$"
   ]
  },
  {
   "cell_type": "markdown",
   "id": "510a089b",
   "metadata": {},
   "source": [
    "#### Problem 6\n",
    "6. Repeat Problems 4.2.4 and 4.2.5 with $L$ replaced by $C$."
   ]
  },
  {
   "cell_type": "markdown",
   "id": "d19b3994",
   "metadata": {},
   "source": [
    "The effective values in both problems remain the same."
   ]
  },
  {
   "cell_type": "markdown",
   "id": "b51b9aa2",
   "metadata": {},
   "source": [
    "#### Problem 7\n",
    "7. Find the effective value of the mesh current and the capacitor voltage.  \n",
    "\n",
    "![Fig-P.4.2.7](Figures/Fig-P.4.2.7.png)"
   ]
  },
  {
   "cell_type": "markdown",
   "id": "9345e91f",
   "metadata": {},
   "source": [
    "$$ I(j\\omega) = \\frac{20\\mathrm{V}}{10\\sqrt{2}\\Omega\\,\\angle\\!-\\!45^\\circ} = \\sqrt{2}\\mathrm{A}\\,\\angle45^\\circ$$"
   ]
  },
  {
   "cell_type": "markdown",
   "id": "90e69caf",
   "metadata": {},
   "source": [
    "$$ U_C(j\\omega) = -j10\\Omega\\cdot I(j\\omega) = 10\\Omega\\,\\angle\\!-\\!90^\\circ \\cdot \\sqrt{2}\\mathrm{A}\\,\\angle45^\\circ = 10\\sqrt{2}\\mathrm{V}\\,\\angle\\!-\\!45^\\circ$$"
   ]
  },
  {
   "cell_type": "markdown",
   "id": "ae8d8366",
   "metadata": {},
   "source": [
    "$$ u_C(t) = 20\\mathrm{V}\\sin\\big(100t - 45^\\circ\\big)$$"
   ]
  },
  {
   "cell_type": "markdown",
   "id": "33e70ec2",
   "metadata": {},
   "source": [
    "#### Problem 8\n",
    "8. The RMS voltages of the RLC series circuit are: $U_R=10\\mathrm{V}$, $U_C=4\\mathrm{V}$, and $U_L = 3\\mathrm{V}$. Find the supply RMS voltage."
   ]
  },
  {
   "cell_type": "markdown",
   "id": "f51210d0",
   "metadata": {},
   "source": [
    "$$ U = \\sqrt{U_R^2 + (U_L-U_C)^2} = \\sqrt{101}\\mathrm{V}$$"
   ]
  },
  {
   "cell_type": "markdown",
   "id": "7201fd42",
   "metadata": {},
   "source": [
    "#### Problem 9\n",
    "9. A two-terminal circuit is a series connection of resistor and energy storage element.  Identify character of this element and find both constants $R$ and $C$ or $L$ if the circuit voltage and current are:  $u=u(t)=12\\sqrt{2}\\sin\\big(100t\\big)\\,\\mathrm{V}$ and $i=i(t)=3\\sin\\big(100t + 45^\\circ\\big)\\,\\mathrm{A}$."
   ]
  },
  {
   "cell_type": "markdown",
   "id": "1f586bba",
   "metadata": {},
   "source": [
    "$$ U(j\\omega) = U\\angle0^\\circ = 12\\mathrm{V}\\,\\angle0^\\circ \\quad\\quad\\text{and}\\quad\\quad I(j\\omega) = I\\angle45^\\circ = \\frac{3\\mathrm{A}}{\\sqrt{2}}\\,\\angle45^\\circ$$"
   ]
  },
  {
   "cell_type": "markdown",
   "id": "8d954909",
   "metadata": {},
   "source": [
    "$$ U(j\\omega) = RI(j\\omega) + jXI(j\\omega) \\implies R + jX = \\frac{U(j\\omega)}{I(j\\omega)} = \\frac{12\\sqrt{2}\\Omega}{3}\\,\\angle\\!-\\!45^\\circ$$"
   ]
  },
  {
   "cell_type": "markdown",
   "id": "fd73edb4",
   "metadata": {},
   "source": [
    "$$ R+jX = 4\\sqrt{2}\\Omega\\,\\angle\\!-\\!45^\\circ$$"
   ]
  },
  {
   "cell_type": "markdown",
   "id": "521ab035",
   "metadata": {},
   "source": [
    "The energy storing element has capacitive character -- and so to does the two-terminal element."
   ]
  },
  {
   "cell_type": "markdown",
   "id": "2d1911f5",
   "metadata": {},
   "source": [
    "$$ R=4\\Omega \\quad\\quad\\text{and}\\quad\\quad X = -4\\Omega$$"
   ]
  },
  {
   "cell_type": "markdown",
   "id": "80c6437b",
   "metadata": {},
   "source": [
    "$$ X = -\\frac{1}{100C} = -4\\Omega \\implies C = \\frac{1}{400}\\,\\mathrm{F}$$"
   ]
  },
  {
   "cell_type": "markdown",
   "id": "8af36929",
   "metadata": {},
   "source": [
    "#### Problem 10\n",
    "10. Sketch the phasor diagram mapping the topology. Assume:  $E(j\\omega)=E$, $X_L=R$, $|X_C|=$ a) $X_L$, b) $2X_L$, c) $0.5X_L$.  \n",
    "\n",
    "![Fig-P.4.2.10](Figures/Fig-P.4.2.10.svg)"
   ]
  },
  {
   "cell_type": "markdown",
   "id": "0c8247fa",
   "metadata": {},
   "source": [
    "In the case of **a)** $|X_C|=X_L$:  \n",
    "\n",
    "$$Z(j\\omega) = R \\quad\\quad\\text{and}\\quad\\quad I(j\\omega) = \\frac{E}{R}$$"
   ]
  },
  {
   "cell_type": "markdown",
   "id": "b18a2bde",
   "metadata": {},
   "source": [
    "$$ U_R(j\\omega) = E \\quad\\quad U_L(j\\omega) = E\\,\\angle90^\\circ \\quad\\quad U_C(j\\omega) = -E\\,\\angle90^\\circ$$"
   ]
  },
  {
   "cell_type": "markdown",
   "id": "2320da92",
   "metadata": {},
   "source": [
    "![phasor-P.4.2.10](Figures/phasor-P.4.2.10a.svg)"
   ]
  },
  {
   "cell_type": "markdown",
   "id": "7180a86f",
   "metadata": {},
   "source": [
    "Based on the above phasor diagram,  \n",
    "\n",
    "$$ U_\\mathrm{CA}(j\\omega) = E(j\\omega) - U_C(j\\omega) = U_R(j\\omega) + U_L(j\\omega) = E\\sqrt{2}\\,\\angle45^\\circ$$"
   ]
  },
  {
   "cell_type": "markdown",
   "id": "d30870b9",
   "metadata": {},
   "source": [
    "and\n",
    "$$ U_\\mathrm{BD}(j\\omega) = U_C(j\\omega) + U_R(j\\omega) = E(j\\omega) - U_L(j\\omega) = E\\sqrt{2}\\,\\angle\\!-\\!45^\\circ$$"
   ]
  },
  {
   "cell_type": "markdown",
   "id": "77a8d2aa",
   "metadata": {},
   "source": [
    "To verify the above two equation,  \n",
    "\n",
    "$$ U_\\mathrm{CA}(j\\omega) = E + Ej = E(1+j) = E\\sqrt{2}\\,\\angle45^\\circ$$"
   ]
  },
  {
   "cell_type": "markdown",
   "id": "59b7ad55",
   "metadata": {},
   "source": [
    "and\n",
    "$$ U_\\mathrm{BD}(j\\omega) = E-Ej = E(1-j) = E\\sqrt{2}\\,\\angle\\!-\\!45^\\circ$$"
   ]
  },
  {
   "cell_type": "markdown",
   "id": "83b74932",
   "metadata": {},
   "source": [
    "In the case of **b)** $|X_C| = 2X_L$:  \n",
    "\n",
    "$$ Z(j\\omega) = R + j(X_L - 2X_L) = R - jR = R(1-j) = R\\sqrt{2}\\,\\angle\\!-\\!45^\\circ$$"
   ]
  },
  {
   "cell_type": "markdown",
   "id": "684a8523",
   "metadata": {},
   "source": [
    "$$ I(j\\omega) = \\frac{E}{R\\sqrt{2}}\\,\\angle45^\\circ$$"
   ]
  },
  {
   "cell_type": "markdown",
   "id": "964c3a11",
   "metadata": {},
   "source": [
    "$$ U_R(j\\omega) = \\frac{E}{\\sqrt{2}}\\,\\angle45^\\circ \\quad\\quad U_L(j\\omega) = \\frac{E}{\\sqrt{2}}\\,\\angle135^\\circ\\quad\\quad U_C(j\\omega) = E\\sqrt{2}\\,\\angle\\!-\\!45^\\circ = -2U_L(j\\omega)$$"
   ]
  },
  {
   "cell_type": "markdown",
   "id": "072625f4",
   "metadata": {},
   "source": [
    "![phasor-P.4.2.10b](Figures/phasor-P.4.2.10b.svg)"
   ]
  },
  {
   "cell_type": "markdown",
   "id": "1a526e08",
   "metadata": {},
   "source": [
    "In the case of **c)** $|X_C|=0.5X_L$:  \n",
    "\n",
    "$$ Z(j\\omega) = R + j0.5R = R(1+j0.5) = R\\sqrt{1.25}\\,\\angle \\arctan0.5 \\approxeq R\\sqrt{1.25}\\,\\angle26.56^\\circ $$"
   ]
  },
  {
   "cell_type": "code",
   "execution_count": 11,
   "id": "574e76c7",
   "metadata": {},
   "outputs": [
    {
     "data": {
      "text/plain": [
       "1.4565919222914052"
      ]
     },
     "execution_count": 11,
     "metadata": {},
     "output_type": "execute_result"
    }
   ],
   "source": [
    "np.arctan(0.5)*np.pi"
   ]
  }
 ],
 "metadata": {
  "kernelspec": {
   "display_name": "Python 3",
   "language": "python",
   "name": "python3"
  },
  "language_info": {
   "codemirror_mode": {
    "name": "ipython",
    "version": 3
   },
   "file_extension": ".py",
   "mimetype": "text/x-python",
   "name": "python",
   "nbconvert_exporter": "python",
   "pygments_lexer": "ipython3",
   "version": "3.8.10"
  }
 },
 "nbformat": 4,
 "nbformat_minor": 5
}
