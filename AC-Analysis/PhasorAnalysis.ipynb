{
 "cells": [
  {
   "cell_type": "markdown",
   "id": "cc1f749e",
   "metadata": {},
   "source": [
    "# Phasor Analysis\n",
    "### *Chapter 4.2* -- AC Steady-State Analysis\n",
    "\n",
    "## Kirchhoffs’s Laws\n",
    "\n",
    "### Kirchhoff’s Current Law\n",
    "If sinusoidal excitation is applied to a circuit, then sinusoidal currents (4.1.1) flow through the\n",
    "elements. If cosinusoidal excitation is applied to a circuit, then cosinusoidal currents, say\n",
    "$i' = i'(t) = I\\sqrt{2}\\,\\cos(\\omega t + \\alpha_i)$, flow through the elements. KCL holds for both excitations, then it also holds for the complex excitation (defined in Appendix B):  \n",
    "\n",
    "$$ \\sum_{\\bullet\\,i} i'(t) + ji(t) = \\sum_{\\bullet\\,i} \\hat{i} = \\sum_{\\bullet\\,i} \\sqrt{2}\\,I(j\\omega)e^{j\\omega t} = 0$$"
   ]
  },
  {
   "cell_type": "markdown",
   "id": "0101eb30",
   "metadata": {},
   "source": [
    "Dividing throughout the above equation by the common factor of $e^{j\\omega t}\\sqrt{2}$ gives the KCL for phasors."
   ]
  },
  {
   "cell_type": "markdown",
   "id": "e22b56c5",
   "metadata": {},
   "source": [
    "The phasor algebraic sum of all currents at a node (cutset) is equal to zero.  \n",
    "\n",
    "\\begin{equation}\\tag{1}\n",
    "    \\sum_{\\bullet\\,i}I(j\\omega) = \\sum_{\\bullet\\,i} Ie^{j\\alpha_i} = I\\,\\big(\\cos\\alpha_i + j\\,\\sin\\alpha_i\\big) = 0\n",
    "\\end{equation}    "
   ]
  },
  {
   "cell_type": "markdown",
   "id": "996b66f6",
   "metadata": {},
   "source": [
    "### Kirchhoff’s Voltage Law\n",
    "A similar development will also establish KVL.\n",
    "The phasor algebraic sum of all voltages around a loop (closed path) is equal to zero.  \n",
    "\n",
    "\\begin{equation}\\tag{2}\n",
    "    \\sum_{\\bigcirc\\,i} U(j\\omega) = \\sum_{\\bullet\\,u} Ue^{j\\alpha_u} = \\sum_{\\bullet\\,u} U\\big(\\cos\\alpha_u + j\\,\\sin\\alpha_u\\big) = 0\n",
    "\\end{equation}    "
   ]
  },
  {
   "cell_type": "markdown",
   "id": "0e9b69dd",
   "metadata": {},
   "source": [
    "## Element Laws\n",
    "### Resistor\n",
    "Setting sinusoids into the Ohm’s law, the following equation is obtained:  \n",
    "\n",
    "\\begin{equation}\\tag{3}\n",
    "    U\\sqrt{2}\\,\\sin(\\omega t + \\alpha_u) = RI\\sqrt{2}\\,\\sin(\\omega t + \\alpha_i)\n",
    "\\end{equation}    "
   ]
  },
  {
   "cell_type": "markdown",
   "id": "73e71cb7",
   "metadata": {},
   "source": [
    "Thus, the relationship between RMS voltage and RMS current is effectively Ohm's Law, and there is no phase shift caused by resistance, as equation (3b) implies.  \n",
    "\n",
    "\\begin{equation}\\tag{4}\n",
    "    \\text{a: }\\;U=RI \\quad\\quad\\text{and}\\quad\\quad\\text{b: }\\;\\alpha_u = \\alpha_i\n",
    "\\end{equation}"
   ]
  },
  {
   "cell_type": "markdown",
   "id": "1af2522c",
   "metadata": {},
   "source": [
    "Via equations (4) and equation (5b) from [chapter 4.1](RMS-Value.ipynb#Complex-Number-Representation),  \n",
    "\n",
    "\\begin{equation}\\tag{5a}\n",
    "    U(j\\omega) = Ue^{j\\alpha_u} = RIe^{j\\alpha_i} = RI(j\\omega)\n",
    "\\end{equation}    "
   ]
  },
  {
   "cell_type": "markdown",
   "id": "951aeeeb",
   "metadata": {},
   "source": [
    "Finally, Ohm's Laws for phasors can be formulated.  \n",
    "\n",
    "\\begin{equation}\\tag{5}\n",
    "    \\text{a: }\\;U(j\\omega) = RI(j\\omega)\\quad\\quad\\text{and}\\quad\\quad\\text{b: }\\;I(j\\omega) = GU(j\\omega)\n",
    "\\end{equation}    "
   ]
  },
  {
   "cell_type": "markdown",
   "id": "5fd7a541",
   "metadata": {},
   "source": [
    "Circuit symbols for a resistor described in time and frequency domains are presented in Fig.\n",
    "4.2.1.  \n",
    "\n",
    "![Fig-4.2.1](Figures/Fig-4.2.1.svg)"
   ]
  },
  {
   "cell_type": "markdown",
   "id": "aa789ef7",
   "metadata": {},
   "source": [
    "### Inductor\n",
    "Setting sinusoids into the inductor law (3.1.16a) gives:   \n",
    "\n",
    "\\begin{equation}\\tag{6}\n",
    "    U\\sqrt{2}\\,\\sin(\\omega t + \\alpha_u) = LI\\sqrt{2}\\,\\sin'(\\omega t + \\alpha_i) = \\omega LI\\sqrt{2}\\,\\cos(\\omega t + \\alpha_i) = \\omega LI\\sqrt{2}\\,\\sin(\\omega t + \\alpha_i + 0.5\\pi)\n",
    "\\end{equation}    "
   ]
  },
  {
   "cell_type": "markdown",
   "id": "247b8435",
   "metadata": {},
   "source": [
    "or, simply,  \n",
    "\n",
    "\\begin{equation}\\tag{6}\n",
    "    U\\sqrt{2}\\,\\sin(\\omega t+\\alpha_u) = \\omega LI\\sqrt{2}\\,\\sin(\\omega t + \\alpha_i + 0.5\\pi)\n",
    "\\end{equation}    "
   ]
  },
  {
   "cell_type": "markdown",
   "id": "5493e1d0",
   "metadata": {},
   "source": [
    "Thus,  \n",
    "\n",
    "\\begin{equation}\\tag{7}\n",
    "    \\text{a: }\\;U=\\omega LI \\quad\\quad\\text{and}\\quad\\quad\\text{b: }\\;\\alpha_u = \\alpha_i + 0.5\\pi\n",
    "\\end{equation}"
   ]
  },
  {
   "cell_type": "markdown",
   "id": "f881bac0",
   "metadata": {},
   "source": [
    "and,  \n",
    "\n",
    "\\begin{align*}\\tag{8a}\n",
    "    U(j\\omega) &= \\omega LI(j\\omega) = Ue^{j\\alpha_u} = \\omega LIe^{j\\alpha_i}e^{j0.5\\pi} \\\\\n",
    "     &= \\omega LI(j\\omega)e^{j0.5\\pi} = \\omega LI(j\\omega)\\big(\\cos(0.5\\pi) + j\\sin(0.5\\pi)\\big) = j\\omega LI(j\\omega)\n",
    "\\end{align*}     "
   ]
  },
  {
   "cell_type": "markdown",
   "id": "0eff8c1a",
   "metadata": {},
   "source": [
    "As equation (7b) implies, inductance causes a phase shift of $0.5\\pi$ or $90$ degrees.  In other words, inductance causes the voltage dropped across the associated coil to lead the current flowing through said coil by an angle of $90$ degrees or $0.5\\pi$."
   ]
  },
  {
   "cell_type": "markdown",
   "id": "f4999d1e",
   "metadata": {},
   "source": [
    "Finally, the inductor law for phasors can be formulated.  \n",
    "\n",
    "\\begin{equation}\\tag{8a}\n",
    "    U(j\\omega) = j\\omega LI(j\\omega) = \\omega LI\\angle(\\alpha_i+0.5\\pi)\n",
    "\\end{equation}    "
   ]
  },
  {
   "cell_type": "markdown",
   "id": "93f72f03",
   "metadata": {},
   "source": [
    "\\begin{equation}\\tag{8b}\n",
    "    I(j\\omega) = \\frac{U(j\\omega)}{j\\omega L} = -\\frac{jU(j\\omega)}{\\omega L} = \\frac{U}{\\omega L}\\,\\angle(\\alpha_u - 0.5\\pi) = -\\frac{U}{\\omega L}\\,\\angle(\\alpha_u+0.5\\pi)\n",
    "\\end{equation}    "
   ]
  },
  {
   "cell_type": "markdown",
   "id": "4b5cba1f",
   "metadata": {},
   "source": [
    "Circuit symbols for a coil described in time and frequency domains are presented in Fig.\n",
    "4.2.2.  \n",
    "\n",
    "![Fig-4.2.2](Figures/Fig-4.2.2.png)"
   ]
  },
  {
   "cell_type": "markdown",
   "id": "295c03bb",
   "metadata": {},
   "source": [
    "### Capacitor\n",
    "Setting sinusoids into the capacitor law (3.1.8a), the following equation is obtained:  \n",
    "\n",
    "$$ i = i(t) = I\\sqrt{2}\\,\\sin(\\omega t + \\alpha_i) = I\\sqrt{2}\\,\\sin\\theta$$\n",
    "\n",
    "$$ U\\sqrt{2}\\,\\sin(\\omega t + \\alpha_u) = \\frac{1}{C}\\,\\int_0^t i\\,\\mathrm{d}t + U_{C0} = \\frac{1}{C}\\,\\int_0^t i\\,\\mathrm{d}t +  U\\sqrt{2}\\,\\sin\\alpha_u$$"
   ]
  },
  {
   "cell_type": "markdown",
   "id": "7e55a725",
   "metadata": {},
   "source": [
    "$$ \\int i\\,\\mathrm{d}t = -\\frac{I\\sqrt{2}}{\\omega}\\,\\cos\\theta + c = -\\frac{I\\sqrt{2}}{\\omega}\\,\\sin(\\theta + 0.5\\pi)+c$$"
   ]
  },
  {
   "cell_type": "markdown",
   "id": "eeff40f3",
   "metadata": {},
   "source": [
    "\\begin{align*}\n",
    "     U\\sqrt{2}\\,\\big(\\sin(\\omega t + \\alpha_u) - \\sin\\alpha_u\\big) &= \\frac{I\\sqrt{2}}{\\omega C}\\,\\big(\\cos\\alpha_i -\\cos(\\omega t + \\alpha_i\\big) \\\\ \\\\\n",
    "      &= \\frac{I\\sqrt{2}}{\\omega C}\\,\\big(\\sin(\\alpha_i + 0.5\\pi) - \\sin(\\omega t + \\alpha_i + 0.5\\pi)\\big)\n",
    "\\end{align*}"
   ]
  },
  {
   "cell_type": "markdown",
   "id": "ffaa4e03",
   "metadata": {},
   "source": [
    "Thus,  \n",
    "\n",
    "\\begin{equation}\\tag{10}\n",
    "    \\text{a: }\\; U = \\frac{I}{\\omega C}\\quad\\quad\\text{and}\\quad\\quad\\text{b: }\\;\\alpha_u = -\\alpha_i - 0.5\\pi\n",
    "\\end{equation}    "
   ]
  },
  {
   "cell_type": "markdown",
   "id": "de9583f5",
   "metadata": {},
   "source": [
    "$$ U\\sqrt{2}\\,\\big(\\cos\\omega t - 1 + j\\sin\\omega t\\big)= U\\sqrt{2\\big((\\cos\\omega t - 1)^2 + \\sin^2\\omega t\\big)}\\angle \\arccos \\frac{\\cos\\omega t - 1}{\\sqrt{(\\cos\\omega t - 1)^2 + \\sin^2\\omega t}}$$"
   ]
  },
  {
   "cell_type": "markdown",
   "id": "6f0be131",
   "metadata": {},
   "source": [
    "$$ = 2U\\sqrt{1-\\cos\\omega t}\\angle\\arccos\\frac{\\cos\\omega t - 1}{\\sqrt{2(1-\\cos\\omega t)}}$$"
   ]
  },
  {
   "cell_type": "markdown",
   "id": "71511f4e",
   "metadata": {},
   "source": [
    "\\begin{equation}\\tag{9}\n",
    "   "
   ]
  }
 ],
 "metadata": {
  "kernelspec": {
   "display_name": "Python 3",
   "language": "python",
   "name": "python3"
  },
  "language_info": {
   "codemirror_mode": {
    "name": "ipython",
    "version": 3
   },
   "file_extension": ".py",
   "mimetype": "text/x-python",
   "name": "python",
   "nbconvert_exporter": "python",
   "pygments_lexer": "ipython3",
   "version": "3.8.10"
  }
 },
 "nbformat": 4,
 "nbformat_minor": 5
}
