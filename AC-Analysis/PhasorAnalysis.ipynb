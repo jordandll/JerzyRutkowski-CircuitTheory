{
 "cells": [
  {
   "cell_type": "markdown",
   "id": "6382302f",
   "metadata": {},
   "source": [
    "# Phasor Analysis\n",
    "### *Chapter 4.2* -- AC Steady-State Analysis\n",
    "\n",
    "## Kirchhoffs’s Laws\n",
    "\n",
    "### Kirchhoff’s Current Law\n",
    "If sinusoidal excitation is applied to a circuit, then sinusoidal currents (4.1.1) flow through the\n",
    "elements. If cosinusoidal excitation is applied to a circuit, then cosinusoidal currents, say\n",
    "$i' = i'(t) = I\\sqrt{2}\\,\\cos(\\omega t + \\alpha_i)$, flow through the elements. KCL holds for both excitations, then it also holds for the complex excitation (defined in Appendix B):  \n",
    "\n",
    "$$ \\sum_{\\bullet\\,i} i'(t) + ji(t) = \\sum_{\\bullet\\,i} \\hat{i} = \\sum_{\\bullet\\,i} \\sqrt{2}\\,I(j\\omega)e^{j\\omega t} = 0$$"
   ]
  },
  {
   "cell_type": "markdown",
   "id": "50e166e9",
   "metadata": {},
   "source": [
    "Dividing throughout the above equation by the common factor of $e^{j\\omega t}\\sqrt{2}$ gives the KCL for phasors."
   ]
  },
  {
   "cell_type": "markdown",
   "id": "1d0be273",
   "metadata": {},
   "source": [
    "The phasor algebraic sum of all currents at a node (cutset) is equal to zero.  \n",
    "\n",
    "\\begin{equation}\\tag{1}\n",
    "    \\sum_{\\bullet\\,i}I(j\\omega) = \\sum_{\\bullet\\,i} Ie^{j\\alpha_i} = I\\,\\big(\\cos\\alpha_i + j\\,\\sin\\alpha_i\\big) = 0\n",
    "\\end{equation}    "
   ]
  },
  {
   "cell_type": "markdown",
   "id": "9fba6df6",
   "metadata": {},
   "source": [
    "### Kirchhoff’s Voltage Law\n",
    "A similar development will also establish KVL.\n",
    "The phasor algebraic sum of all voltages around a loop (closed path) is equal to zero.  \n",
    "\n",
    "\\begin{equation}\\tag{2}\n",
    "    \\sum_{\\bigcirc\\,i} U(j\\omega) = \\sum_{\\bullet\\,u} Ue^{j\\alpha_u} = \\sum_{\\bullet\\,u} U\\big(\\cos\\alpha_u + j\\,\\sin\\alpha_u\\big) = 0\n",
    "\\end{equation}    "
   ]
  },
  {
   "cell_type": "markdown",
   "id": "d3d1b7c6",
   "metadata": {},
   "source": [
    "## Element Laws\n",
    "### Resistor\n",
    "Setting sinusoids into the Ohm’s law, the following equation is obtained:  \n",
    "\n",
    "\\begin{equation}\\tag{3}\n",
    "    U\\sqrt{2}\\,\\sin(\\omega t + \\alpha_u) = RI\\sqrt{2}\\,\\sin(\\omega t + \\alpha_i)\n",
    "\\end{equation}    "
   ]
  },
  {
   "cell_type": "markdown",
   "id": "f9b199c2",
   "metadata": {},
   "source": [
    "Thus, the relationship between RMS voltage and RMS current is effectively Ohm's Law, and there is no phase shift caused by resistance, as equation (3b) implies.  \n",
    "\n",
    "\\begin{equation}\\tag{4}\n",
    "    \\text{a: }\\;U=RI \\quad\\quad\\text{and}\\quad\\quad\\text{b: }\\;\\alpha_u = \\alpha_i\n",
    "\\end{equation}"
   ]
  },
  {
   "cell_type": "markdown",
   "id": "a95a1ea5",
   "metadata": {},
   "source": [
    "Via equations (4) and equation (5b) from [chapter 4.1](RMS-Value.ipynb#Complex-Number-Representation),  \n",
    "\n",
    "\\begin{equation}\\tag{5a}\n",
    "    U(j\\omega) = Ue^{j\\alpha_u} = RIe^{j\\alpha_i} = RI(j\\omega)\n",
    "\\end{equation}    "
   ]
  },
  {
   "cell_type": "markdown",
   "id": "41e2227b",
   "metadata": {},
   "source": [
    "Finally, Ohm's Laws for phasors can be formulated.  \n",
    "\n",
    "\\begin{equation}\\tag{5}\n",
    "    \\text{a: }\\;U(j\\omega) = RI(j\\omega)\\quad\\quad\\text{and}\\quad\\quad\\text{b: }\\;I(j\\omega) = GU(j\\omega)\n",
    "\\end{equation}    "
   ]
  },
  {
   "cell_type": "markdown",
   "id": "6e33971c",
   "metadata": {},
   "source": [
    "Circuit symbols for a resistor described in time and frequency domains are presented in Fig.\n",
    "4.2.1.  \n",
    "\n",
    "![Fig-4.2.1](Figures/Fig-4.2.1.svg)"
   ]
  },
  {
   "cell_type": "markdown",
   "id": "6c22d91b",
   "metadata": {},
   "source": [
    "### Inductor\n",
    "Setting sinusoids into the inductor law (3.1.16a) gives:   \n",
    "\n",
    "\\begin{equation}\\tag{6}\n",
    "    U\\sqrt{2}\\,\\sin(\\omega t + \\alpha_u) = LI\\sqrt{2}\\,\\sin'(\\omega t + \\alpha_i) = \\omega LI\\sqrt{2}\\,\\cos(\\omega t + \\alpha_i) = \\omega LI\\sqrt{2}\\,\\sin(\\omega t + \\alpha_i + 0.5\\pi)\n",
    "\\end{equation}    "
   ]
  },
  {
   "cell_type": "markdown",
   "id": "7f7798eb",
   "metadata": {},
   "source": [
    "or, simply,  \n",
    "\n",
    "\\begin{equation}\\tag{6}\n",
    "    U\\sqrt{2}\\,\\sin(\\omega t+\\alpha_u) = \\omega LI\\sqrt{2}\\,\\sin(\\omega t + \\alpha_i + 0.5\\pi)\n",
    "\\end{equation}    "
   ]
  },
  {
   "cell_type": "markdown",
   "id": "ba2ed098",
   "metadata": {},
   "source": [
    "Thus,  \n",
    "\n",
    "\\begin{equation}\\tag{7}\n",
    "    \\text{a: }\\;U=\\omega LI \\quad\\quad\\text{and}\\quad\\quad\\text{b: }\\;\\alpha_u = \\alpha_i + 0.5\\pi\n",
    "\\end{equation}"
   ]
  },
  {
   "cell_type": "markdown",
   "id": "9319bcde",
   "metadata": {},
   "source": [
    "and,  \n",
    "\n",
    "\\begin{align*}\\tag{8a}\n",
    "    U(j\\omega) &= \\omega LI(j\\omega) = Ue^{j\\alpha_u} = \\omega LIe^{j\\alpha_i}e^{j0.5\\pi} \\\\\n",
    "     &= \\omega LI(j\\omega)e^{j0.5\\pi} = \\omega LI(j\\omega)\\big(\\cos(0.5\\pi) + j\\sin(0.5\\pi)\\big) = j\\omega LI(j\\omega)\n",
    "\\end{align*}     "
   ]
  },
  {
   "cell_type": "markdown",
   "id": "e8875e6a",
   "metadata": {},
   "source": [
    "As equation (7b) implies, inductance causes a phase shift of $0.5\\pi$ or $90$ degrees.  In other words, inductance causes the voltage dropped across the associated coil to lead the current flowing through said coil by an angle of $90$ degrees or $0.5\\pi$."
   ]
  },
  {
   "cell_type": "markdown",
   "id": "e4465025",
   "metadata": {},
   "source": [
    "Finally, the inductor law for phasors can be formulated.  \n",
    "\n",
    "\\begin{equation}\\tag{8a}\n",
    "    U(j\\omega) = j\\omega LI(j\\omega) = \\omega LI\\angle(\\alpha_i+0.5\\pi)\n",
    "\\end{equation}    "
   ]
  },
  {
   "cell_type": "markdown",
   "id": "05a60329",
   "metadata": {},
   "source": [
    "\\begin{equation}\\tag{8b}\n",
    "    I(j\\omega) = \\frac{U(j\\omega)}{j\\omega L} = -\\frac{jU(j\\omega)}{\\omega L} = \\frac{U}{\\omega L}\\,\\angle(\\alpha_u - 0.5\\pi) = -\\frac{U}{\\omega L}\\,\\angle(\\alpha_u+0.5\\pi)\n",
    "\\end{equation}    "
   ]
  },
  {
   "cell_type": "markdown",
   "id": "10d90a22",
   "metadata": {},
   "source": [
    "Circuit symbols for a coil described in time and frequency domains are presented in Fig.\n",
    "4.2.2.  \n",
    "\n",
    "![Fig-4.2.2](Figures/Fig-4.2.2.png)"
   ]
  },
  {
   "cell_type": "markdown",
   "id": "a5490271",
   "metadata": {},
   "source": [
    "### Capacitor\n",
    "Setting sinusoids into the capacitor law (3.1.8a), the following equation is obtained:  \n",
    "\n",
    "\\begin{equation}\\tag{3.1.8a}\n",
    "    i = C\\,\\frac{\\mathrm{d}u}{\\mathrm{d}t}\n",
    "\\end{equation}    "
   ]
  },
  {
   "cell_type": "markdown",
   "id": "00539b0f",
   "metadata": {},
   "source": [
    "\\begin{equation}\\tag{9}\n",
    "    I\\sqrt{2}\\,\\sin(\\omega t + \\alpha_i) = \\omega CU\\sqrt{2}\\,\\sin(\\omega t + \\alpha_u + 0.5\\pi)\n",
    "\\end{equation}    "
   ]
  },
  {
   "cell_type": "markdown",
   "id": "d8a3b498",
   "metadata": {},
   "source": [
    "Thus,  \n",
    "\n",
    "\\begin{equation}\\tag{10}\n",
    "    \\text{a: }\\; U = \\frac{I}{\\omega C}\\quad\\quad\\text{and}\\quad\\quad\\text{b: }\\;\\alpha_i= \\alpha_u + 0.5\\pi\n",
    "\\end{equation}    "
   ]
  },
  {
   "cell_type": "markdown",
   "id": "442d86a2",
   "metadata": {},
   "source": [
    "And,\n",
    "\\begin{equation}\\tag{11a}\n",
    "    I(j\\omega) = \\omega CU(j\\omega)e^{j0.5\\pi} = j\\omega CU(j\\omega)\n",
    "\\end{equation}    "
   ]
  },
  {
   "cell_type": "markdown",
   "id": "1e0c58ff",
   "metadata": {},
   "source": [
    "Finally, the capcitor law for phasors can be formulated.  \n",
    "\n",
    "\\begin{equation}\\tag{11}\n",
    "    \\text{a: }\\;I(j\\omega) = j\\omega CU(j\\omega)\\quad\\quad\\text{and}\\quad\\quad\\text{b: }\\;U(j\\omega) = -\\frac{jI(j\\omega)}{\\omega C} = \\frac{I(j\\omega)}{j\\omega C}\n",
    "\\end{equation}    "
   ]
  },
  {
   "cell_type": "markdown",
   "id": "3f0fe2b7",
   "metadata": {},
   "source": [
    "Circuit symbols for a capacitor described in time and frequency domains are shown in Fig.\n",
    "4.2.3.  \n",
    "\n",
    "![Fig-4.2.3](Figures/Fig-4.2.3.png)"
   ]
  }
 ],
 "metadata": {
  "kernelspec": {
   "display_name": "Python 3",
   "language": "python",
   "name": "python3"
  },
  "language_info": {
   "codemirror_mode": {
    "name": "ipython",
    "version": 3
   },
   "file_extension": ".py",
   "mimetype": "text/x-python",
   "name": "python",
   "nbconvert_exporter": "python",
   "pygments_lexer": "ipython3",
   "version": "3.8.10"
  }
 },
 "nbformat": 4,
 "nbformat_minor": 5
}
