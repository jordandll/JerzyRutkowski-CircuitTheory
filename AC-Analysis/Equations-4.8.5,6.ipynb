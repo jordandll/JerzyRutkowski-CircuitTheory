{
 "cells": [
  {
   "cell_type": "code",
   "execution_count": 1,
   "id": "72bbcb16",
   "metadata": {},
   "outputs": [],
   "source": [
    "import numpy as np"
   ]
  },
  {
   "cell_type": "markdown",
   "id": "9f0f38c8",
   "metadata": {},
   "source": [
    "### Equations 4.8.5 and 4.8.6\n",
    "Herein is the proof for equations [(4.8.5)](ThreePhaseCircuits.ipynb#Wye-Wye-Systems) and [(4.8.6)](ThreePhaseCircuits.ipynb#Wye-Wye-Systems).  \n",
    "\n",
    "\\begin{align*}\\tag{5}\n",
    "\t\\text{a: }\\;U_{31}(j\\omega) &= V_3(j\\omega) - V_1(j\\omega) = U\\angle150^\\circ \\\\ \\text{b: }\\;U_{23}(j\\omega) &= V_2(j\\omega) - V_3(j\\omega) = U\\angle270^\\circ\\\\ \\text{c: }\\;U_{12}(j\\omega) &= V_1(j\\omega) - V_2(j\\omega) = U\\angle30^\\circ\n",
    "\\end{align*}"
   ]
  },
  {
   "cell_type": "markdown",
   "id": "9d992524",
   "metadata": {},
   "source": [
    "$$ U_{31}(j\\omega) = E\\big(\\cos120^\\circ - 1 + j\\sin120^\\circ \\big) = E\\left(-1.5 + j\\,\\frac{\\sqrt{3}}{2}\\right) = 0.5E\\big(-3 + j\\sqrt{3}\\big)$$"
   ]
  },
  {
   "cell_type": "markdown",
   "id": "2dfced39",
   "metadata": {},
   "source": [
    "$$ U = 0.5E\\sqrt{9 + 3} = E\\sqrt{3} \\quad\\quad\\text{and}\\quad\\quad \\sin150^\\circ = \\frac{E\\sqrt{3}}{E2\\sqrt{3}} = 0.5$$"
   ]
  },
  {
   "cell_type": "code",
   "execution_count": 9,
   "id": "6038a6f6",
   "metadata": {},
   "outputs": [
    {
     "data": {
      "text/plain": [
       "0.49999999999999994"
      ]
     },
     "execution_count": 9,
     "metadata": {},
     "output_type": "execute_result"
    }
   ],
   "source": [
    "np.sin(np.radians(150))"
   ]
  },
  {
   "cell_type": "code",
   "execution_count": 3,
   "id": "473a90f3",
   "metadata": {},
   "outputs": [
    {
     "data": {
      "text/plain": [
       "0.8660254037844387"
      ]
     },
     "execution_count": 3,
     "metadata": {},
     "output_type": "execute_result"
    }
   ],
   "source": [
    "np.sin(np.radians(120))"
   ]
  },
  {
   "cell_type": "code",
   "execution_count": 2,
   "id": "65a11d18",
   "metadata": {},
   "outputs": [
    {
     "data": {
      "text/plain": [
       "-0.4999999999999998"
      ]
     },
     "execution_count": 2,
     "metadata": {},
     "output_type": "execute_result"
    }
   ],
   "source": [
    "np.cos(np.radians(120))"
   ]
  },
  {
   "cell_type": "code",
   "execution_count": 8,
   "id": "92882656",
   "metadata": {},
   "outputs": [
    {
     "data": {
      "text/plain": [
       "0.8660254037844386"
      ]
     },
     "execution_count": 8,
     "metadata": {},
     "output_type": "execute_result"
    }
   ],
   "source": [
    "np.sqrt(3)/2"
   ]
  }
 ],
 "metadata": {
  "kernelspec": {
   "display_name": "Python 3 (ipykernel)",
   "language": "python",
   "name": "python3"
  },
  "language_info": {
   "codemirror_mode": {
    "name": "ipython",
    "version": 3
   },
   "file_extension": ".py",
   "mimetype": "text/x-python",
   "name": "python",
   "nbconvert_exporter": "python",
   "pygments_lexer": "ipython3",
   "version": "3.10.6"
  }
 },
 "nbformat": 4,
 "nbformat_minor": 5
}
