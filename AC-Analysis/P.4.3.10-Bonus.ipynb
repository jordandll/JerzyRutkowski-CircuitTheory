{
 "cells": [
  {
   "cell_type": "code",
   "execution_count": 2,
   "id": "ebcdd3a6",
   "metadata": {},
   "outputs": [],
   "source": [
    "import numpy as np\n",
    "import matplotlib.pyplot as plt"
   ]
  },
  {
   "cell_type": "markdown",
   "id": "f36e07ab",
   "metadata": {},
   "source": [
    "#### Problem 10\n",
    "10. At what frequency would the capacitive load receive maximum power and what would be the value of that maximum.  \n",
    "\n",
    "![Fig-P.4.3.10](Figures/Fig-P.4.3.10.png)"
   ]
  },
  {
   "cell_type": "markdown",
   "id": "9f5b1708",
   "metadata": {},
   "source": [
    "$$ f = \\frac{\\omega}{2\\pi}$$"
   ]
  },
  {
   "cell_type": "markdown",
   "id": "ad964a9a",
   "metadata": {},
   "source": [
    "$$ |X_C| = X_C = \\frac{1}{\\omega C} = \\omega L$$"
   ]
  },
  {
   "cell_type": "markdown",
   "id": "cedeb5ba",
   "metadata": {},
   "source": [
    "$$ \\omega^2 = \\frac{1}{CL} \\implies \\omega = \\frac{1}{\\sqrt{LC}} = 1000\\,\\mathrm{rad}/\\mathrm{s}$$"
   ]
  },
  {
   "cell_type": "code",
   "execution_count": 3,
   "id": "f0e37c85",
   "metadata": {},
   "outputs": [
    {
     "data": {
      "text/plain": [
       "1000.0"
      ]
     },
     "execution_count": 3,
     "metadata": {},
     "output_type": "execute_result"
    }
   ],
   "source": [
    "L = 1; C = 1e-6\n",
    "omega = 1/np.sqrt(L*C)\n",
    "omega"
   ]
  },
  {
   "cell_type": "markdown",
   "id": "790cce60",
   "metadata": {},
   "source": [
    "Finally,  \n",
    "\n",
    "$$ f = \\frac{500}{\\pi}$$"
   ]
  },
  {
   "cell_type": "markdown",
   "id": "e9a16cb7",
   "metadata": {},
   "source": [
    "The maximum power is given by:  \n",
    "\n",
    "$$ P = UI\\cos\\varphi = I^2R_\\mathrm{l} = 10\\mathrm{W} \\quad\\quad\\text{where }\\; I = \\frac{20\\mathrm{V}}{2000\\Omega} = 10\\mathrm{mA} $$"
   ]
  },
  {
   "cell_type": "markdown",
   "id": "66d3ff96",
   "metadata": {},
   "source": [
    "## Bonus\n",
    "**Bonus**:  Assume that $\\omega = 500\\,\\mathrm{rad}/\\mathrm{s}$, $C=1\\mathrm{mF}$, and $L=2\\mathrm{H}$.  \n",
    "\n",
    "$$ E(j\\omega) = E= 20\\mathrm{V} \\quad\\quad Z(j\\omega) = 2000\\Omega + 1000\\Omega - j\\frac{1}{\\omega C} \\quad \\quad I(j\\omega) = \\frac{E}{Z(j\\omega)}$$"
   ]
  },
  {
   "cell_type": "code",
   "execution_count": 4,
   "id": "2f4bc5e8",
   "metadata": {},
   "outputs": [
    {
     "data": {
      "text/plain": [
       "2235.1742661367593"
      ]
     },
     "execution_count": 4,
     "metadata": {},
     "output_type": "execute_result"
    }
   ],
   "source": [
    "R = 2000; omega = 500; C = 1e-3; L = 2; X_L = L*omega; X_C = 1/(omega*C)\n",
    "X = X_L-X_C\n",
    "Z = np.sqrt(R**2 + X**2)\n",
    "Z"
   ]
  },
  {
   "cell_type": "code",
   "execution_count": 5,
   "id": "4aac3b8b",
   "metadata": {},
   "outputs": [
    {
     "data": {
      "text/plain": [
       "26.519196221271503"
      ]
     },
     "execution_count": 5,
     "metadata": {},
     "output_type": "execute_result"
    }
   ],
   "source": [
    "varphi = np.arcsin(X/Z)\n",
    "alpha_i = -varphi\n",
    "np.degrees(varphi)"
   ]
  },
  {
   "cell_type": "code",
   "execution_count": 6,
   "id": "bd1b1c2d",
   "metadata": {},
   "outputs": [
    {
     "data": {
      "text/plain": [
       "0.00894784818481634"
      ]
     },
     "execution_count": 6,
     "metadata": {},
     "output_type": "execute_result"
    }
   ],
   "source": [
    "E = 20\n",
    "Zj = complex(R,X)\n",
    "I = E/Z\n",
    "I"
   ]
  },
  {
   "cell_type": "code",
   "execution_count": 7,
   "id": "e45e50bd",
   "metadata": {},
   "outputs": [
    {
     "data": {
      "text/plain": [
       "0.012566370614359173"
      ]
     },
     "execution_count": 7,
     "metadata": {},
     "output_type": "execute_result"
    }
   ],
   "source": [
    "# Find the time period (T).\n",
    "T = 2*np.pi/omega\n",
    "T"
   ]
  },
  {
   "cell_type": "markdown",
   "id": "994e1cb1",
   "metadata": {},
   "source": [
    "$$ I(j\\omega) = \\frac{E}{Z}\\,\\angle\\!-\\!\\varphi \\approxeq 8.95\\mathrm{mA}\\,\\angle\\!-\\!26.52^\\circ \\quad\\quad\\hat{=}\\quad\\quad i = i(t) = I\\sqrt{2}\\sin\\big(\\omega t -\\varphi\\big)$$"
   ]
  },
  {
   "cell_type": "markdown",
   "id": "d0fe41c0",
   "metadata": {},
   "source": [
    "Which implies that:  \n",
    "\n",
    "$$ \\alpha_u = 0^\\circ \\quad\\quad\\text{and}\\quad\\quad\\alpha_i = -\\varphi \\approxeq -26.52^\\circ \\quad\\quad\\text{and}\\quad\\quad I = I(\\omega) \\approxeq 8.95\\mathrm{mA}$$"
   ]
  },
  {
   "cell_type": "markdown",
   "id": "42abcec4",
   "metadata": {},
   "source": [
    "Note that $\\alpha_u$ is the phase angle of the excitation or voltage source.  Now recall that  \n",
    "\n",
    "\\begin{equation}\\tag{1}\n",
    "    p = ui = U\\sqrt{2}\\sin\\big(\\omega t + \\alpha_u\\big)I\\sqrt{2}\\sin\\big(\\omega t - \\alpha_i\\big) = UI\\cos\\big(\\alpha_u+\\alpha_i\\big) - UI\\cos\\big(2\\omega t + \\alpha_u + \\alpha_i\\big)\n",
    "\\end{equation}"
   ]
  },
  {
   "cell_type": "markdown",
   "id": "c745bf68",
   "metadata": {},
   "source": [
    "Via equation (1) and the fact that $\\alpha_u=0^\\circ$,  \n",
    "\n",
    "$$ p = p(t) = UI\\cos\\varphi - UI\\cos\\big(\\omega t - \\varphi\\big) = UI\\,\\big(\\cos\\varphi - \\cos\\theta\\big)$$"
   ]
  },
  {
   "cell_type": "markdown",
   "id": "f56617ea",
   "metadata": {},
   "source": [
    "\\begin{equation}\\tag{10.7}\n",
    "    p = p(t)= EI\\big(\\cos\\varphi-\\cos\\theta\\big) = EI\\Big(\\cos\\varphi - \\cos\\big(\\omega t -\\varphi\\big)\\Big)\n",
    "\\end{equation}"
   ]
  },
  {
   "cell_type": "markdown",
   "id": "f6669baf",
   "metadata": {},
   "source": [
    "$$ \\int p\\,\\mathrm{d}t = UIt\\cos\\varphi - \\frac{UI}{2\\omega}\\,\\sin\\theta + c$$"
   ]
  },
  {
   "cell_type": "markdown",
   "id": "f1e484df",
   "metadata": {},
   "source": [
    "The **instantaneous energy** is given by:  \n",
    "\n",
    "\\begin{equation}\\tag{10.6}\n",
    "    w = w(t) = \\int_0^t p\\,\\mathrm{d}t =  UIt\\cos\\varphi - \\frac{UI}{2\\omega}\\,\\sin\\theta - \\frac{UI}{2\\omega}\\,\\sin\\varphi\n",
    "\\end{equation}"
   ]
  },
  {
   "cell_type": "markdown",
   "id": "36ad2623",
   "metadata": {},
   "source": [
    "$$ = EI\\,\\left(t\\cos\\varphi - \\frac{1}{2\\omega}\\,\\sin\\varphi - \\frac{1}{2\\omega}\\,\\sin\\big(\\omega t - \\varphi\\big)\\right)$$"
   ]
  },
  {
   "cell_type": "markdown",
   "id": "360591b2",
   "metadata": {},
   "source": [
    "$$ w(T) = EIT\\cos\\varphi = PT$$"
   ]
  },
  {
   "cell_type": "markdown",
   "id": "c6c21dcb",
   "metadata": {},
   "source": [
    "As can be observed, the energy delivered to the circuit by the voltage source in one time period $T$ is equal to the energy dissipated by the resistance of the circuit in that same time period, which is consistent with the fact that the storage elements, $L$ and $C$, store zero energy every $nT$, where $n\\in\\mathbb{Z}$."
   ]
  },
  {
   "cell_type": "markdown",
   "id": "62c3ef12",
   "metadata": {},
   "source": [
    "### Circuit Attributes  \n",
    "\n",
    "$$ P = IE\\cos\\varphi = I^2R \\approxeq 160.13\\mathrm{mW} \\quad\\quad Q = IE\\sin\\varphi = I^2X$$"
   ]
  },
  {
   "cell_type": "code",
   "execution_count": 8,
   "id": "7f927aa3",
   "metadata": {},
   "outputs": [
    {
     "data": {
      "text/plain": [
       "0.16012797427704217"
      ]
     },
     "execution_count": 8,
     "metadata": {},
     "output_type": "execute_result"
    }
   ],
   "source": [
    "P = I*E*np.cos(varphi)\n",
    "P"
   ]
  },
  {
   "cell_type": "markdown",
   "id": "d43c7c78",
   "metadata": {},
   "source": [
    "The energy dissipated by the load after one period ($T$) is:  \n",
    "\n",
    "$$ W_T = PT = TI^2R = TIE\\cos\\varphi \\approxeq 2.01\\mathrm{mJ}$$"
   ]
  },
  {
   "cell_type": "code",
   "execution_count": 9,
   "id": "181063b9",
   "metadata": {},
   "outputs": [
    {
     "data": {
      "text/plain": [
       "0.0020122274704918843"
      ]
     },
     "execution_count": 9,
     "metadata": {},
     "output_type": "execute_result"
    }
   ],
   "source": [
    "W_T = T*E*I*np.cos(varphi)\n",
    "W_T"
   ]
  },
  {
   "cell_type": "markdown",
   "id": "13f314fd",
   "metadata": {},
   "source": [
    "And, the energy dissipated after $n$ periods, where n is a positive whole number, is:  \n",
    "\n",
    "$$ W_n = nTP = nTI^2 = nTIE\\cos\\varphi$$"
   ]
  },
  {
   "cell_type": "code",
   "execution_count": 10,
   "id": "d062148a",
   "metadata": {},
   "outputs": [
    {
     "data": {
      "text/plain": [
       "0.01006113735245942"
      ]
     },
     "execution_count": 10,
     "metadata": {},
     "output_type": "execute_result"
    }
   ],
   "source": [
    "5*W_T"
   ]
  },
  {
   "cell_type": "markdown",
   "id": "2840364e",
   "metadata": {},
   "source": [
    "$$ p = ui = 2EI\\sin\\omega t\\sin\\big(\\omega t -\\varphi\\big)$$"
   ]
  },
  {
   "cell_type": "markdown",
   "id": "6406cf1b",
   "metadata": {},
   "source": [
    "### Resistor Attributes \n",
    "\n",
    "$$ U_R(j\\omega) = RI(j\\omega) = RI\\,\\angle\\!-\\!\\varphi \\quad\\quad\\hat{=}\\quad\\quad u_R = u_R(t) = RI\\sqrt{2}\\sin\\big(\\omega t - \\varphi\\big)$$"
   ]
  },
  {
   "cell_type": "markdown",
   "id": "7991771a",
   "metadata": {},
   "source": [
    "$$ p_R = p_R(t) = 2RI^2\\sin^2\\theta = RI^2\\big(1-\\cos2\\theta\\big)\\quad\\quad\\text{where }\\;\\theta = \\theta(t) = \\omega t -\\varphi$$"
   ]
  },
  {
   "cell_type": "markdown",
   "id": "ae339d6b",
   "metadata": {},
   "source": [
    "#### Instantaneous Energy\n",
    "$$ w_R = w_R(t) = \\int_0^t p_R\\,\\mathrm{d}t $$"
   ]
  },
  {
   "cell_type": "markdown",
   "id": "2fa6f4b9",
   "metadata": {},
   "source": [
    "$$ \\int p_R\\,\\mathrm{d}t = RI^2 t - \\frac{RI^2}{2\\omega}\\,\\sin2\\theta = RI^2\\,\\left(t - \\frac{1}{2\\omega}\\,\\sin2\\theta\\right)$$"
   ]
  },
  {
   "cell_type": "markdown",
   "id": "f6208bcf",
   "metadata": {},
   "source": [
    "$$ w_R = w_R(t) = RI^2\\,\\left(t - \\frac{1}{2\\omega}\\,\\sin2\\theta\\right) - \\frac{RI^2}{2\\omega}\\,\\sin2\\varphi$$"
   ]
  },
  {
   "cell_type": "markdown",
   "id": "285e6922",
   "metadata": {},
   "source": [
    "$$  = RI^2\\left(t -\\frac{1}{2\\omega}\\big(\\sin2\\varphi + \\sin2\\theta\\big)\\right)$$"
   ]
  },
  {
   "cell_type": "markdown",
   "id": "6f4c6b4a",
   "metadata": {},
   "source": [
    "$$ w_R(T) = RI^2T = W_T $$"
   ]
  },
  {
   "cell_type": "markdown",
   "id": "d5b1341e",
   "metadata": {},
   "source": [
    "Via the above equation and the fact that:  \n",
    "\n",
    "$$ \\cos\\varphi = \\frac{R}{Z} \\quad\\quad\\text{and}\\quad\\quad  E=IZ$$"
   ]
  },
  {
   "cell_type": "markdown",
   "id": "fa70fc47",
   "metadata": {},
   "source": [
    "$$ w_R(T) = RI^2T = TRI\\,\\frac{E}{Z} = TIE\\,\\frac{R}{Z} = TIE\\cos\\varphi = W_T$$"
   ]
  },
  {
   "cell_type": "markdown",
   "id": "3d104400",
   "metadata": {},
   "source": [
    "And,  \n",
    "\n",
    "$$ w_R(nT) = W_n$$"
   ]
  },
  {
   "cell_type": "markdown",
   "id": "d7f312d7",
   "metadata": {},
   "source": [
    "### Inductor Attributes\n",
    "\n",
    "$$ U_L(j\\omega) = j\\omega L I(j\\omega) = \\omega LI\\,\\angle\\big(90^\\circ - \\varphi\\big) \\quad\\quad\\hat{=}\\quad\\quad u_L = u_L(t) = \\omega LI\\sqrt{2}\\sin\\big(\\omega t + 90^\\circ - \\varphi\\big)$$"
   ]
  },
  {
   "cell_type": "markdown",
   "id": "38f1fb14",
   "metadata": {},
   "source": [
    "$$ u_L = u_L(t) = \\omega LI\\sqrt{2}\\cos\\big(\\omega t -\\varphi\\big)$$"
   ]
  },
  {
   "cell_type": "markdown",
   "id": "1792c943",
   "metadata": {},
   "source": [
    "\\begin{equation}\\tag{10.3}\n",
    "    p_L = p_L(t) = 2\\omega LI^2\\cos\\theta\\sin\\theta = \\omega LI\\sin2\\theta\n",
    "\\end{equation}"
   ]
  },
  {
   "cell_type": "markdown",
   "id": "9d48b85e",
   "metadata": {},
   "source": [
    "#### Instantaneous Energy\n",
    "\n",
    "$$ \\int p_L\\,\\mathrm{d}t = -0.5LI\\cos2\\theta + c$$"
   ]
  },
  {
   "cell_type": "markdown",
   "id": "a57047da",
   "metadata": {},
   "source": [
    "\\begin{equation}\\tag{10.4}\n",
    "    w_L = w_L(t) = \\int_0^t p_L\\,\\mathrm{d}t = 0.5LI\\,\\big(\\cos2\\varphi - \\cos2\\theta\\big)\n",
    "\\end{equation}    "
   ]
  },
  {
   "cell_type": "markdown",
   "id": "61643a4b",
   "metadata": {},
   "source": [
    "$$ w_L(T) = 0$$"
   ]
  },
  {
   "cell_type": "markdown",
   "id": "62e05a91",
   "metadata": {},
   "source": [
    "Moreover, \n",
    "\n",
    "\\begin{equation}\\tag{10.1}\n",
    "    w_L(0.5nT)=0 \\quad\\quad\\text{where }\\; n\\in\\mathbb{Z}\n",
    "\\end{equation}    "
   ]
  },
  {
   "cell_type": "markdown",
   "id": "cf79b63a",
   "metadata": {},
   "source": [
    "The extremums of $w_L(t)$ (peaks and troughs or min and max values of $w_L$) occur at the roots $t_\\mathrm{e}$ of $p_L(t)$.  \n",
    "\n",
    "$$ p_L(t_\\mathrm{e}) = 0 \\quad\\implies\\quad 2\\theta(t_\\mathrm{e}) = \\arcsin 0  = n\\pi \\quad\\text{where }n\\text{ is an even integer.}$$"
   ]
  },
  {
   "cell_type": "markdown",
   "id": "ba07e840",
   "metadata": {},
   "source": [
    "\\begin{equation}\\tag{10.6}\n",
    "    2\\theta(t_\\mathrm{e}) = \\arcsin 0 = n\\pi \\quad\\text{where }n\\text{ is an even integer.}\n",
    "\\end{equation}"
   ]
  },
  {
   "cell_type": "markdown",
   "id": "da76b56b",
   "metadata": {},
   "source": [
    "$$ \\omega t_\\mathrm{e} = 0.5n\\pi + \\varphi \\quad \\implies \\quad t_\\mathrm{e} = \\frac{n90^\\circ + \\varphi}{\\omega}$$"
   ]
  },
  {
   "cell_type": "markdown",
   "id": "d4187683",
   "metadata": {},
   "source": [
    "\\begin{equation}\\tag{10.5}\n",
    "     t_\\mathrm{e} = \\frac{n90^\\circ + \\varphi}{\\omega}\n",
    "\\end{equation}"
   ]
  },
  {
   "cell_type": "markdown",
   "id": "86cd7413",
   "metadata": {},
   "source": [
    "Moreover,  \n",
    "\n",
    "\\begin{equation}\\tag{10.5}\n",
    "    \\text{a: }\\;t_\\min = \\frac{\\varphi}{\\omega} \\quad\\quad\\text{and}\\quad\\quad\\text{b: }\\;t_\\max = \\frac{90^\\circ + \\varphi}{\\omega}\n",
    "\\end{equation}"
   ]
  },
  {
   "cell_type": "markdown",
   "id": "792c90f3",
   "metadata": {},
   "source": [
    "Via equations (10.6) and (10.4),  \n",
    "\n",
    "$$ \\min w_L = w_L(t_\\min) = 0.5LI\\big(\\cos2\\varphi - 1\\big) \\quad\\quad\\text{and}\\quad\\quad \\max w_L = w_L(t_\\max) = 0.5LI\\big(\\cos2\\varphi + 1\\big)$$"
   ]
  },
  {
   "cell_type": "code",
   "execution_count": 20,
   "id": "e156ed06",
   "metadata": {},
   "outputs": [
    {
     "data": {
      "text/plain": [
       "(-3.5676883299011823, 14.328008039731499)"
      ]
     },
     "execution_count": 20,
     "metadata": {},
     "output_type": "execute_result"
    }
   ],
   "source": [
    "min_w_L = 0.5*L*I*(np.cos(2*varphi)-1)\n",
    "max_w_L = 0.5*L*I*(np.cos(2*varphi)+1)\n",
    "(min_w_L*1e3, max_w_L*1e3)"
   ]
  },
  {
   "cell_type": "markdown",
   "id": "a4c573f7",
   "metadata": {},
   "source": [
    "### Capacitor Attributes\n",
    "\n",
    "$$ U_C(j\\omega) -j\\frac{1}{\\omega C}\\,I(j\\omega) = \\frac{I}{\\omega C}\\,\\angle\\!-\\!\\big(\\varphi + 90^\\circ\\big) \\quad\\quad\\hat{=}\\quad\\quad u_C = u_C(t) = \\frac{I\\sqrt{2}}{\\omega C}\\,\\sin\\big(\\omega t - \\varphi - 90^\\circ\\big)$$"
   ]
  },
  {
   "cell_type": "markdown",
   "id": "5f0b0f2c",
   "metadata": {},
   "source": [
    "$$ u_C = u_C(t) = -\\frac{I\\sqrt{2}}{\\omega C}\\,\\cos\\big(\\omega t - \\varphi\\big)$$"
   ]
  },
  {
   "cell_type": "markdown",
   "id": "ff9f3b83",
   "metadata": {},
   "source": [
    "$$ p_C = p_C(t) = u_C i = -\\frac{2I^2}{\\omega C}\\,\\cos\\theta\\sin\\theta = - \\frac{I^2}{\\omega C}\\,\\sin2\\theta$$"
   ]
  },
  {
   "cell_type": "markdown",
   "id": "269646c2",
   "metadata": {},
   "source": [
    "#### Instantaneous Energy\n",
    "\n",
    "$$\\int p_C\\,\\mathrm{d}t = \\frac{I^2}{2\\omega^2C}\\,\\cos2\\theta + c $$"
   ]
  },
  {
   "cell_type": "markdown",
   "id": "c1a265bf",
   "metadata": {},
   "source": [
    "$$ w_C = w_C(t) = \\frac{I^2}{2\\omega^2 C}\\,\\big(\\cos2\\theta - \\cos2\\varphi\\big)$$"
   ]
  },
  {
   "cell_type": "markdown",
   "id": "9945a1b3",
   "metadata": {},
   "source": [
    "\\begin{equation}\\tag{10.2}\n",
    "    w_C(0.5nT) = 0\\quad\\quad\\text{where }\\; n\\in\\mathbb{Z}\n",
    "\\end{equation}"
   ]
  },
  {
   "cell_type": "code",
   "execution_count": 12,
   "id": "49653c8c",
   "metadata": {},
   "outputs": [
    {
     "data": {
      "text/plain": [
       "(1.6012797427704216e-07, 0.00894784818481634)"
      ]
     },
     "execution_count": 12,
     "metadata": {},
     "output_type": "execute_result"
    }
   ],
   "source": [
    "W_C = I**2/(2*omega**2*C); W_L = 0.5*L*I;\n",
    "(W_C, W_L)"
   ]
  },
  {
   "cell_type": "code",
   "execution_count": 13,
   "id": "453a6297",
   "metadata": {
    "code_folding": []
   },
   "outputs": [
    {
     "data": {
      "text/plain": [
       "<matplotlib.legend.Legend at 0x7f175f66d940>"
      ]
     },
     "execution_count": 13,
     "metadata": {},
     "output_type": "execute_result"
    },
    {
     "data": {
      "image/png": "[encoded data removed]",
      "text/plain": [
       "<Figure size 936x360 with 2 Axes>"
      ]
     },
     "metadata": {
      "needs_background": "light"
     },
     "output_type": "display_data"
    }
   ],
   "source": [
    "# Create the time domain\n",
    "t = np.linspace(0, 1.5*T, num=200)\n",
    "\n",
    "theta = omega*t - varphi\n",
    "\n",
    "# Define the excitation voltage (x).\n",
    "x = E*np.sqrt(2)*np.sin(omega*t)\n",
    "\n",
    "# Identify the circuit attributes.\n",
    "i = I*np.sqrt(2)*np.sin(theta)\n",
    "\n",
    "u = E*np.sqrt(2)*np.sin(theta)\n",
    "u_R = R*I*np.sqrt(2)*np.sin(theta)\n",
    "u_L = omega*L*I*np.sqrt(2)*np.cos(theta)\n",
    "u_C = -(I*np.sqrt(2))/(omega*C)*np.cos(theta)\n",
    "\n",
    "p =i*x\n",
    "p_R = i*u_R\n",
    "p_L = i*u_L\n",
    "p_C = i*u_C\n",
    "\n",
    "# Instantaneous energy.\n",
    "w_R = R*I**2*(t-(np.sin(2*varphi)+np.sin(2*theta))/(2*omega))\n",
    "w_L = 0.5*L*I*(np.cos(2*varphi) - np.cos(2*theta))\n",
    "w_C = ((np.cos(2*theta)-np.cos(2*varphi))*I**2)/(2*omega**2*C)\n",
    "\n",
    "# Create figure and axes objects.\n",
    "fig, ax = plt.subplots(figsize=(13,5))\n",
    "ax.set_title('Voltage and Energy', size=13)\n",
    "ax.set_ylabel('energy [mJ]')\n",
    "ax.set_xlabel('time [ms]')\n",
    "ax.grid()\n",
    "\n",
    "axu = ax.twinx()\n",
    "axu.set_ylabel('voltage [V]')\n",
    "\n",
    "# Plot data.\n",
    "ax.plot(t*1000, w_R*1e3, color = 'r', label=r'$w_R$')\n",
    "ax.plot(t*1000, w_L*1e3, color = 'blue', label=r'$w_L$')\n",
    "axu.plot(t*1000, u_R, color = 'r', ls='--', label=r'$u_R$')\n",
    "axu.plot(t*1000, u_L, color = 'blue', ls='--', label=r'$u_L$')\n",
    "ax.legend()\n",
    "axu.legend()"
   ]
  },
  {
   "cell_type": "code",
   "execution_count": 21,
   "id": "2f9b2c3b",
   "metadata": {},
   "outputs": [
    {
     "data": {
      "text/plain": [
       "(-0.003567688329901182, 0.014328008039731499)"
      ]
     },
     "execution_count": 21,
     "metadata": {},
     "output_type": "execute_result"
    }
   ],
   "source": [
    "(min_w_L, max_w_L)"
   ]
  },
  {
   "cell_type": "code",
   "execution_count": 14,
   "id": "795f2bed",
   "metadata": {},
   "outputs": [
    {
     "data": {
      "text/plain": [
       "6.283185307179586"
      ]
     },
     "execution_count": 14,
     "metadata": {},
     "output_type": "execute_result"
    }
   ],
   "source": [
    "U_R = R*I; U_L = omega*L*I; U_C = I/(omega*C)\n",
    "T*500"
   ]
  }
 ],
 "metadata": {
  "kernelspec": {
   "display_name": "Python 3",
   "language": "python",
   "name": "python3"
  },
  "language_info": {
   "codemirror_mode": {
    "name": "ipython",
    "version": 3
   },
   "file_extension": ".py",
   "mimetype": "text/x-python",
   "name": "python",
   "nbconvert_exporter": "python",
   "pygments_lexer": "ipython3",
   "version": "3.8.10"
  }
 },
 "nbformat": 4,
 "nbformat_minor": 5
}
