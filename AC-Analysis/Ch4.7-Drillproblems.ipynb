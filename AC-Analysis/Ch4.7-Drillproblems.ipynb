{
 "cells": [
  {
   "cell_type": "markdown",
   "id": "394922b4",
   "metadata": {},
   "source": [
    "## Drill Problems  \n",
    "\n",
    "### *Chapter 4 Section 7* - AC Steady State Analysis"
   ]
  },
  {
   "cell_type": "code",
   "execution_count": 1,
   "id": "5f8ea75b",
   "metadata": {},
   "outputs": [],
   "source": [
    "import numpy as np\n",
    "import matplotlib.pyplot as plt"
   ]
  },
  {
   "cell_type": "markdown",
   "id": "3cc6b4da",
   "metadata": {},
   "source": [
    "#### Problem 1\n",
    "1. Find equivalent inductance of two ideal coupled coils connected in parallel."
   ]
  },
  {
   "cell_type": "markdown",
   "id": "e1e18f7b",
   "metadata": {},
   "source": [
    "$$ L_\\mathrm{p} = \\infty$$"
   ]
  },
  {
   "cell_type": "markdown",
   "id": "75cfbc08",
   "metadata": {},
   "source": [
    "#### Problem 2\n",
    "2. A low-frequency amplifier has an output impedance of $5\\mathrm{k}\\Omega$. It is to supply a maximum amount of power to an $8\\Omega$ load (speaker). What should be the turns ratio of the matching transformer."
   ]
  },
  {
   "cell_type": "markdown",
   "id": "c343882d",
   "metadata": {},
   "source": [
    "\\begin{equation}\\tag{2.1}\n",
    "     Z_l(j\\omega) = 8\\Omega = -\\frac{U_2(j\\omega)}{I_2(j\\omega)} = -\\frac{nU_1(j\\omega)}{I_2(j\\omega)}\n",
    "\\end{equation}"
   ]
  },
  {
   "cell_type": "markdown",
   "id": "fab8950c",
   "metadata": {},
   "source": [
    "Assuming the 'output impedance' is the input impedance (or, the impedance looking into the primary port),  \n",
    "\n",
    "\\begin{equation}\\tag{2.2}\n",
    "    Z_1(j\\omega) = 5000\\Omega  = \\frac{U_1(j\\omega)}{I_1(j\\omega)}\n",
    "\\end{equation}"
   ]
  },
  {
   "cell_type": "markdown",
   "id": "e651b135",
   "metadata": {},
   "source": [
    "Via KVL and element equations,  \n",
    "\n",
    "\\begin{equation}\\tag{2.3}\n",
    "    U_1(j\\omega) = E_\\mathrm{o} - Z_\\mathrm{t}(j\\omega)I_1(j\\omega) = E_\\mathrm{o} - Z_l^*(j\\omega)I_1(j\\omega) = E_\\mathrm{o} - Z_l(j\\omega)\n",
    "\\end{equation}"
   ]
  },
  {
   "cell_type": "markdown",
   "id": "844212b3",
   "metadata": {},
   "source": [
    "Recall that, under maximum power transfer conditions, the internal impedance of the practical voltage source serving as an input to the transformer is equal to the complex conjugate of the load impedance, hence the fact that $Z_\\mathrm{t}(j\\omega) = Z_l^*(j\\omega) = 8\\Omega$."
   ]
  },
  {
   "cell_type": "markdown",
   "id": "9bfadf40",
   "metadata": {},
   "source": [
    "Via equations (2.2) and (2.1),  \n",
    "\n",
    "\\begin{equation}\\tag{2.4}\n",
    "    Z_l(j\\omega) = -nZ_1(j\\omega)\\,\\frac{I_1(j\\omega)}{I_2(j\\omega)} = n^2Z_1(j\\omega)\n",
    "\\end{equation}"
   ]
  },
  {
   "cell_type": "markdown",
   "id": "b1c09207",
   "metadata": {},
   "source": [
    "Finally,  \n",
    "\n",
    "\\begin{equation}\\tag{2.5}\n",
    "    n = \\frac{z_2}{z_1} = \\sqrt{\\frac{Z_l(j\\omega)}{Z_1(j\\omega)}} = 0.04\n",
    "\\end{equation}"
   ]
  },
  {
   "cell_type": "code",
   "execution_count": 2,
   "id": "d8efc9dd",
   "metadata": {},
   "outputs": [],
   "source": [
    "sqrt = np.sqrt"
   ]
  },
  {
   "cell_type": "code",
   "execution_count": 3,
   "id": "7adca74b",
   "metadata": {},
   "outputs": [
    {
     "data": {
      "text/plain": [
       "0.04"
      ]
     },
     "execution_count": 3,
     "metadata": {},
     "output_type": "execute_result"
    }
   ],
   "source": [
    "n = sqrt(8/5000)\n",
    "n"
   ]
  },
  {
   "cell_type": "markdown",
   "id": "ba95e088",
   "metadata": {},
   "source": [
    "#### Problem 3\n",
    "3. For an ideal transformer of $z_1 = 20$, $z_2=100$, and $Z_l(j\\omega) = j1000\\Omega$ load impedance, find $u_1$ if $i_1=50\\sqrt{2}\\,\\sin314t\\, \\mathrm{mA}$."
   ]
  },
  {
   "cell_type": "markdown",
   "id": "8bd24f0d",
   "metadata": {},
   "source": [
    "$$ n = \\frac{z_2}{z_1} = 5 \\quad\\quad\\text{and}\\quad\\quad I_1(j\\omega) = 50\\mathrm{mA} \\quad\\quad\\text{and}\\quad\\quad \\omega = 314\\,\\frac{\\mathrm{rad}}{\\mathrm{s}}$$"
   ]
  },
  {
   "cell_type": "markdown",
   "id": "028b00b3",
   "metadata": {},
   "source": [
    "$$ U_2(j\\omega) = nU_1(j\\omega) = -Z_l(j\\omega)I_2(j\\omega)$$"
   ]
  },
  {
   "cell_type": "markdown",
   "id": "0c6baaae",
   "metadata": {},
   "source": [
    "$$ I_2(j\\omega) = -\\frac{I_1(j\\omega)}{n} $$"
   ]
  },
  {
   "cell_type": "markdown",
   "id": "d4046eab",
   "metadata": {},
   "source": [
    "Via the above two equations,  \n",
    "\n",
    "$$ U_1(j\\omega) = Z_l(j\\omega)\\,\\frac{I_1(j\\omega)}{n^2} = j2\\mathrm{V} = 2\\mathrm{V}\\,\\angle90^\\circ$$"
   ]
  },
  {
   "cell_type": "markdown",
   "id": "e45dc9b3",
   "metadata": {},
   "source": [
    "$$ u_1 = 2\\sqrt{2}\\,\\sin\\big(314t + 90^\\circ\\big)\\,\\mathrm{V}$$"
   ]
  },
  {
   "cell_type": "code",
   "execution_count": 5,
   "id": "901d098b",
   "metadata": {},
   "outputs": [
    {
     "data": {
      "text/plain": [
       "2.0"
      ]
     },
     "execution_count": 5,
     "metadata": {},
     "output_type": "execute_result"
    }
   ],
   "source": [
    "U_1 = 50/25\n",
    "U_1"
   ]
  },
  {
   "cell_type": "markdown",
   "id": "5e722b31",
   "metadata": {},
   "source": [
    "#### Problem 4\n",
    "4. An ideal transformer of $n=1$ is is loaded by a) $1\\mathrm{H}$ inductance, b) $1\\mu\\mathrm{F}$ capacitance. For the measured input voltage of $u_1=100\\sqrt{2}\\,\\sin1000t\\,\\mathrm{V}$, find $i_1$ ."
   ]
  },
  {
   "cell_type": "markdown",
   "id": "1b3bab54",
   "metadata": {},
   "source": [
    "In both cases:  \n",
    "\n",
    "$$ U_1(j\\omega) = 100\\mathrm{V} \\quad\\quad\\text{and}\\quad\\quad \\omega = 1000\\,\\frac{\\mathrm{rad}}{\\mathrm{s}}$$"
   ]
  },
  {
   "cell_type": "markdown",
   "id": "e57c5ebb",
   "metadata": {},
   "source": [
    "$$ I_1(j\\omega) = \\frac{n^2U_1(j\\omega)}{Z_l(j\\omega)} = \\frac{100\\mathrm{V}}{Z_l(j\\omega)}$$"
   ]
  },
  {
   "cell_type": "markdown",
   "id": "7c400f0d",
   "metadata": {},
   "source": [
    "In the case of **a)**  \n",
    "\n",
    "$$ Z_l(j\\omega) = j\\omega L \\quad\\text{where }L = 1\\mathrm{H}$$"
   ]
  },
  {
   "cell_type": "markdown",
   "id": "d3994f49",
   "metadata": {},
   "source": [
    "$$ I_1(j\\omega) = -j\\frac{100\\mathrm{V}}{\\omega L} = -0.1\\mathrm{A}\\,\\angle90^\\circ  $$"
   ]
  },
  {
   "cell_type": "markdown",
   "id": "f2724a12",
   "metadata": {},
   "source": [
    "$$ i_1 = 0.1\\sqrt{2}\\,\\sin\\big(1000t - 90^\\circ\\big)\\,\\mathrm{A}$$"
   ]
  },
  {
   "cell_type": "markdown",
   "id": "7944a951",
   "metadata": {},
   "source": [
    "And, in the case of **b)**  \n",
    "\n",
    "$$ Z_l(j\\omega) = -j\\,\\frac{1}{\\omega C} = \\frac{1}{j\\omega C}\\quad\\text{where }C = 1\\mu\\mathrm{F}$$"
   ]
  },
  {
   "cell_type": "markdown",
   "id": "550c52b8",
   "metadata": {},
   "source": [
    "$$ I_1(j\\omega) =j\\omega C \\cdot 100\\mathrm{V} = j0.1\\mathrm{A}$$"
   ]
  },
  {
   "cell_type": "markdown",
   "id": "ea788d27",
   "metadata": {},
   "source": [
    "$$ i_1 = 0.1\\sqrt{2}\\,\\sin\\big(1000t + 90^\\circ\\big)\\,\\mathrm{A}$$"
   ]
  },
  {
   "cell_type": "markdown",
   "id": "39e4c540",
   "metadata": {},
   "source": [
    "#### Problem 5\n",
    "5. An ideal transformer of $n=1$ is loaded by $Z_l(j\\omega) = 10\\Omega + j10\\Omega$ . For the measured input current of $i_1 = 2\\sin314t\\,\\mathrm{A}$, find the real power supplied to the load."
   ]
  },
  {
   "cell_type": "markdown",
   "id": "5c1a6cda",
   "metadata": {},
   "source": [
    "$$ I_1(j\\omega) = \\sqrt{2}\\,\\mathrm{A} \\quad\\quad\\text{and}\\quad\\quad \\omega = 314\\,\\frac{\\mathrm{rad}}{\\mathrm{s}}$$"
   ]
  },
  {
   "cell_type": "markdown",
   "id": "c403003c",
   "metadata": {},
   "source": [
    "$$ I_2(j\\omega) = nI_1(j\\omega) = \\sqrt{2}\\,\\mathrm{A}$$"
   ]
  },
  {
   "cell_type": "markdown",
   "id": "e8721e90",
   "metadata": {},
   "source": [
    "$$ P = R_l I_2^2(j\\omega) = 10\\Omega \\cdot 2\\mathrm{A}^2 = 20\\mathrm{W}$$"
   ]
  }
 ],
 "metadata": {
  "kernelspec": {
   "display_name": "Python 3 (ipykernel)",
   "language": "python",
   "name": "python3"
  },
  "language_info": {
   "codemirror_mode": {
    "name": "ipython",
    "version": 3
   },
   "file_extension": ".py",
   "mimetype": "text/x-python",
   "name": "python",
   "nbconvert_exporter": "python",
   "pygments_lexer": "ipython3",
   "version": "3.10.6"
  }
 },
 "nbformat": 4,
 "nbformat_minor": 5
}
