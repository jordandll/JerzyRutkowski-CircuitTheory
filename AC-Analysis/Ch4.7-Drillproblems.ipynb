{
 "cells": [
  {
   "cell_type": "markdown",
   "id": "394922b4",
   "metadata": {},
   "source": [
    "## Drill Problems  \n",
    "\n",
    "### *Chapter 4 Section 7* - AC Steady State Analysis"
   ]
  },
  {
   "cell_type": "code",
   "execution_count": 1,
   "id": "f5b4d0e8",
   "metadata": {},
   "outputs": [],
   "source": [
    "import numpy as np\n",
    "import matplotlib.pyplot as plt"
   ]
  },
  {
   "cell_type": "markdown",
   "id": "3cc6b4da",
   "metadata": {},
   "source": [
    "#### Problem 1\n",
    "1. Find equivalent inductance of two ideal coupled coils connected in parallel."
   ]
  },
  {
   "cell_type": "markdown",
   "id": "e1e18f7b",
   "metadata": {},
   "source": [
    "$$ L_\\mathrm{p} = \\infty$$"
   ]
  },
  {
   "cell_type": "markdown",
   "id": "01ea2835",
   "metadata": {},
   "source": [
    "#### Problem 2\n",
    "2. A low-frequency amplifier has an output impedance of $5\\mathrm{k}\\Omega$. It is to supply a maximum amount of power to an $8\\Omega$ load (speaker). What should be the turns ratio of the matching transformer."
   ]
  },
  {
   "cell_type": "markdown",
   "id": "3965200d",
   "metadata": {},
   "source": [
    "\\begin{equation}\\tag{2.1}\n",
    "     Z_l(j\\omega) = 8\\Omega = -\\frac{U_2(j\\omega)}{I_2(j\\omega)} = -\\frac{nU_1(j\\omega)}{I_2(j\\omega)}\n",
    "\\end{equation}"
   ]
  },
  {
   "cell_type": "markdown",
   "id": "3ae9be1c",
   "metadata": {},
   "source": [
    "Assuming the 'output impedance' is the input impedance (or, the impedance looking into the primary port),  \n",
    "\n",
    "\\begin{equation}\\tag{2.2}\n",
    "    Z_1(j\\omega) = 5000\\Omega  = \\frac{U_1(j\\omega)}{I_1(j\\omega)}\n",
    "\\end{equation}"
   ]
  },
  {
   "cell_type": "markdown",
   "id": "6981e92d",
   "metadata": {},
   "source": [
    "Via KVL and element equations,  \n",
    "\n",
    "\\begin{equation}\\tag{2.3}\n",
    "    U_1(j\\omega) = E_\\mathrm{o} - Z_\\mathrm{t}(j\\omega)I_1(j\\omega) = E_\\mathrm{o} - Z_l^*(j\\omega)I_1(j\\omega) = E_\\mathrm{o} - Z_l(j\\omega)\n",
    "\\end{equation}"
   ]
  },
  {
   "cell_type": "markdown",
   "id": "4b4822e3",
   "metadata": {},
   "source": [
    "Recall that, under maximum power transfer conditions, the internal impedance of the practical voltage source serving as an input to the transformer is equal to the complex conjugate of the load impedance, hence the fact that $Z_\\mathrm{t}(j\\omega) = Z_l^*(j\\omega) = 8\\Omega$."
   ]
  },
  {
   "cell_type": "markdown",
   "id": "169f3e10",
   "metadata": {},
   "source": [
    "Via equations (2.2) and (2.1),  \n",
    "\n",
    "\\begin{equation}\\tag{2.4}\n",
    "    Z_l(j\\omega) = -nZ_1(j\\omega)\\,\\frac{I_1(j\\omega)}{I_2(j\\omega)} = n^2Z_1(j\\omega)\n",
    "\\end{equation}"
   ]
  },
  {
   "cell_type": "markdown",
   "id": "aad70fb2",
   "metadata": {},
   "source": [
    "Finally,  \n",
    "\n",
    "\\begin{equation}\\tag{2.5}\n",
    "    n = \\frac{z_2}{z_1} = \\sqrt{\\frac{Z_l(j\\omega)}{Z_1(j\\omega)}} = 0.04\n",
    "\\end{equation}"
   ]
  },
  {
   "cell_type": "code",
   "execution_count": 2,
   "id": "e35e5720",
   "metadata": {},
   "outputs": [],
   "source": [
    "sqrt = np.sqrt"
   ]
  },
  {
   "cell_type": "code",
   "execution_count": 3,
   "id": "41f54956",
   "metadata": {},
   "outputs": [
    {
     "data": {
      "text/plain": [
       "0.04"
      ]
     },
     "execution_count": 3,
     "metadata": {},
     "output_type": "execute_result"
    }
   ],
   "source": [
    "n = sqrt(8/5000)\n",
    "n"
   ]
  },
  {
   "cell_type": "markdown",
   "id": "9a721a27",
   "metadata": {},
   "source": [
    "#### Problem 3\n",
    "3. For an ideal transformer of $z_1 = 20$, $z_2=100$, and $Z_l(j\\omega) = j1000\\Omega$ load impedance, find $u_1$ if $i_1=50\\sqrt{2}\\,\\sin314t\\, \\mathrm{mA}$."
   ]
  },
  {
   "cell_type": "markdown",
   "id": "c54b5277",
   "metadata": {},
   "source": [
    "$$ n = \\frac{z_2}{z_1} = 5 \\quad\\quad\\text{and}\\quad\\quad I_1(j\\omega) = 50\\mathrm{mA} \\quad\\quad\\text{and}\\quad\\quad \\omega = 314\\,\\frac{\\mathrm{rad}}{\\mathrm{s}}$$"
   ]
  },
  {
   "cell_type": "markdown",
   "id": "aec335c8",
   "metadata": {},
   "source": [
    "$$ U_2(j\\omega) = nU_1(j\\omega) = -Z_l(j\\omega)I_2(j\\omega)$$"
   ]
  },
  {
   "cell_type": "markdown",
   "id": "100fd4f6",
   "metadata": {},
   "source": [
    "$$ I_2(j\\omega) = -\\frac{I_1(j\\omega)}{n} $$"
   ]
  },
  {
   "cell_type": "markdown",
   "id": "3951a3a9",
   "metadata": {},
   "source": [
    "Via the above two equations,  \n",
    "\n",
    "$$ U_1(j\\omega) = Z_l(j\\omega)\\,\\frac{I_1(j\\omega)}{n^2} = j2\\mathrm{V} = 2\\mathrm{V}\\,\\angle90^\\circ$$"
   ]
  },
  {
   "cell_type": "markdown",
   "id": "e3dd8f1e",
   "metadata": {},
   "source": [
    "$$ u_1 = 2\\sqrt{2}\\,\\sin\\big(314t + 90^\\circ\\big)\\,\\mathrm{V}$$"
   ]
  },
  {
   "cell_type": "code",
   "execution_count": 4,
   "id": "088938d5",
   "metadata": {},
   "outputs": [
    {
     "data": {
      "text/plain": [
       "2.0"
      ]
     },
     "execution_count": 4,
     "metadata": {},
     "output_type": "execute_result"
    }
   ],
   "source": [
    "U_1 = 50/25\n",
    "U_1"
   ]
  },
  {
   "cell_type": "markdown",
   "id": "f31bc498",
   "metadata": {},
   "source": [
    "#### Problem 4\n",
    "4. An ideal transformer of $n=1$ is is loaded by a) $1\\mathrm{H}$ inductance, b) $1\\mu\\mathrm{F}$ capacitance. For the measured input voltage of $u_1=100\\sqrt{2}\\,\\sin1000t\\,\\mathrm{V}$, find $i_1$ ."
   ]
  },
  {
   "cell_type": "markdown",
   "id": "c0a72ecc",
   "metadata": {},
   "source": [
    "In both cases:  \n",
    "\n",
    "$$ U_1(j\\omega) = 100\\mathrm{V} \\quad\\quad\\text{and}\\quad\\quad \\omega = 1000\\,\\frac{\\mathrm{rad}}{\\mathrm{s}}$$"
   ]
  },
  {
   "cell_type": "markdown",
   "id": "7d8c5c89",
   "metadata": {},
   "source": [
    "$$ I_1(j\\omega) = \\frac{n^2U_1(j\\omega)}{Z_l(j\\omega)} = \\frac{100\\mathrm{V}}{Z_l(j\\omega)}$$"
   ]
  },
  {
   "cell_type": "markdown",
   "id": "87885c87",
   "metadata": {},
   "source": [
    "In the case of **a)**  \n",
    "\n",
    "$$ Z_l(j\\omega) = j\\omega L \\quad\\text{where }L = 1\\mathrm{H}$$"
   ]
  },
  {
   "cell_type": "markdown",
   "id": "92a1155f",
   "metadata": {},
   "source": [
    "$$ I_1(j\\omega) = -j\\frac{100\\mathrm{V}}{\\omega L} = -0.1\\mathrm{A}\\,\\angle90^\\circ  $$"
   ]
  },
  {
   "cell_type": "markdown",
   "id": "67fdc985",
   "metadata": {},
   "source": [
    "$$ i_1 = 0.1\\sqrt{2}\\,\\sin\\big(1000t - 90^\\circ\\big)\\,\\mathrm{A}$$"
   ]
  },
  {
   "cell_type": "markdown",
   "id": "c9892128",
   "metadata": {},
   "source": [
    "And, in the case of **b)**  \n",
    "\n",
    "$$ Z_l(j\\omega) = -j\\,\\frac{1}{\\omega C} = \\frac{1}{j\\omega C}\\quad\\text{where }C = 1\\mu\\mathrm{F}$$"
   ]
  },
  {
   "cell_type": "markdown",
   "id": "815dfe8d",
   "metadata": {},
   "source": [
    "$$ I_1(j\\omega) =j\\omega C \\cdot 100\\mathrm{V} = j0.1\\mathrm{A}$$"
   ]
  },
  {
   "cell_type": "markdown",
   "id": "37a39306",
   "metadata": {},
   "source": [
    "$$ i_1 = 0.1\\sqrt{2}\\,\\sin\\big(1000t + 90^\\circ\\big)\\,\\mathrm{A}$$"
   ]
  },
  {
   "cell_type": "markdown",
   "id": "9ba801e2",
   "metadata": {},
   "source": [
    "#### Problem 5\n",
    "5. An ideal transformer of $n=1$ is loaded by $Z_l(j\\omega) = 10\\Omega + j10\\Omega$ . For the measured input current of $i_1 = 2\\sin314t\\,\\mathrm{A}$, find the real power supplied to the load."
   ]
  },
  {
   "cell_type": "markdown",
   "id": "75573325",
   "metadata": {},
   "source": [
    "$$ I_1(j\\omega) = \\sqrt{2}\\,\\mathrm{A} \\quad\\quad\\text{and}\\quad\\quad \\omega = 314\\,\\frac{\\mathrm{rad}}{\\mathrm{s}}$$"
   ]
  },
  {
   "cell_type": "markdown",
   "id": "011f638f",
   "metadata": {},
   "source": [
    "$$ I_2(j\\omega) = nI_1(j\\omega) = \\sqrt{2}\\,\\mathrm{A}$$"
   ]
  },
  {
   "cell_type": "markdown",
   "id": "7940ef30",
   "metadata": {},
   "source": [
    "$$ P = R_l I_2^2 = 10\\Omega \\cdot 2\\mathrm{A}^2 = 20\\mathrm{W}$$"
   ]
  },
  {
   "cell_type": "markdown",
   "id": "253ad820",
   "metadata": {},
   "source": [
    "#### Problem 6\n",
    "6. The impedance $Z_l(j\\omega) = 10\\Omega - j10\\Omega$ loads an ideal isolating transformer ($n=1$). Find the real power supplied by $U_1 = 6\\mathrm{V}$ AC primary source."
   ]
  },
  {
   "cell_type": "markdown",
   "id": "a6804d85",
   "metadata": {},
   "source": [
    "$$ P = \\frac{U_2^2}{R_l} = \\frac{n^2U_1^2}{R_l} = \\frac{36\\mathrm{V}^2}{10\\Omega} = 3.6\\mathrm{W}$$"
   ]
  },
  {
   "cell_type": "markdown",
   "id": "b42404df",
   "metadata": {},
   "source": [
    "#### Problem 7\n",
    "7. An ideal isolating transformer primary voltage is $U_1 = 10\\mathrm{V}$, the secondary load impedance is $Z_l(j\\omega)=12\\Omega - j16\\Omega$ . Find the rms primary current $I_1$."
   ]
  },
  {
   "cell_type": "markdown",
   "id": "f6508a8f",
   "metadata": {},
   "source": [
    "$$ U_2(j\\omega)= nU_1(j\\omega) = U_1(j\\omega) = -Z_l(j\\omega)I_2(j\\omega) $$"
   ]
  },
  {
   "cell_type": "markdown",
   "id": "17ec60f7",
   "metadata": {},
   "source": [
    "$$ I_2(j\\omega) = -nI_1(j\\omega) = -I_1(j\\omega)$$"
   ]
  },
  {
   "cell_type": "markdown",
   "id": "f5edb108",
   "metadata": {},
   "source": [
    "Via the above two equations and substitution,  \n",
    "\n",
    "$$ I_1(j\\omega) = \\frac{U_1(j\\omega)}{Z_l(j\\omega)} \\quad\\quad\\text{and}\\quad\\quad I_1 = I_1(\\omega) = \\frac{U_1}{Z_l(\\omega)} = \\frac{10\\mathrm{V}}{20\\Omega} = 0.5\\mathrm{A}$$"
   ]
  },
  {
   "cell_type": "markdown",
   "id": "b6e805bf",
   "metadata": {},
   "source": [
    "#### Problem 8\n",
    "8. The primary terminals of a basic transformer of $L_1=L_2=1\\mathrm{H}$; $k=0.5$, are connected to a voltage source of $u_1= 10\\sqrt{2}\\,\\sin10t\\,\\mathrm{V}$. An ideal rms a) ammeter, b) voltmeter is connected to the secondary terminals. Calculate its indication and the reflected inductance $X_{r}(j\\omega)$."
   ]
  },
  {
   "cell_type": "markdown",
   "id": "ef6a49e1",
   "metadata": {},
   "source": [
    "$$ M = 0.5\\mathrm{H} \\quad\\quad \\text{and}\\quad\\quad U_1(j\\omega) = 10\\mathrm{V} \\quad\\quad\\text{and}\\quad\\quad \\omega = 10\\,\\frac{\\mathrm{rad}}{\\mathrm{s}}$$"
   ]
  },
  {
   "cell_type": "markdown",
   "id": "80caf974",
   "metadata": {},
   "source": [
    "Recall equation (10b),  \n",
    "\n",
    "\\begin{equation}\\tag{10b}\n",
    "    Z_r(j\\omega) = \\frac{(\\omega M)^2}{j\\omega L_2 + Z_l(j\\omega)} = \\frac{(\\omega M)^2}{R_l + j\\big(\\omega L_2 + X_l(\\omega)\\big)}  = R_r + jX_r(\\omega)\n",
    "\\end{equation}"
   ]
  },
  {
   "cell_type": "markdown",
   "id": "f9d43ade",
   "metadata": {},
   "source": [
    "In the case of **a)** $Z_l(j\\omega) = 0$:  \n",
    "\n",
    "$$ Z_r(j\\omega) = \\frac{(\\omega M)^2}{j\\omega L_2} = \\frac{\\omega M^2}{jL_2} = -j\\omega \\cdot 0.5\\mathrm{H}$$"
   ]
  },
  {
   "cell_type": "markdown",
   "id": "4ef2a031",
   "metadata": {},
   "source": [
    "$$ U_1(j\\omega) = I_1(j\\omega)(j\\omega L_1 - j\\omega 0.5L_1) = I_1(j\\omega)\\cdot j0.5\\omega L_1$$"
   ]
  },
  {
   "cell_type": "markdown",
   "id": "388d916d",
   "metadata": {},
   "source": [
    "$$ I_1(j\\omega) = -2j\\,\\frac{U_1(j\\omega)}{\\omega L_1}$$"
   ]
  },
  {
   "cell_type": "markdown",
   "id": "150a1c3c",
   "metadata": {},
   "source": [
    "$$U_2(j\\omega) = L_2I_2(j\\omega) + MI_1(j\\omega) = 0$$"
   ]
  },
  {
   "cell_type": "markdown",
   "id": "e1eb53b1",
   "metadata": {},
   "source": [
    "$$ I_2(j\\omega) = -I_1(j\\omega)\\,\\frac{M}{L_2} = -0.5I_1(j\\omega) = j\\,\\frac{U_1(j\\omega)}{\\omega L_1} = j1\\mathrm{A} $$"
   ]
  },
  {
   "cell_type": "markdown",
   "id": "5e7994b8",
   "metadata": {},
   "source": [
    "Finally,  \n",
    "\n",
    "$$ I_2 = I_2(\\omega) = 1\\mathrm{A}$$"
   ]
  },
  {
   "cell_type": "markdown",
   "id": "3f7785e9",
   "metadata": {},
   "source": [
    "In the case of **b)** $Z_l(j\\omega) = \\infty$:  \n",
    "\n",
    "$$ Z_r(j\\omega) = 0 \\quad\\implies\\quad U_1(j\\omega) = j\\omega L I_1(j\\omega) \\quad\\implies\\quad I_1(j\\omega) = \\frac{U_1(j\\omega)}{j\\omega L_1} = -j1\\mathrm{A}$$"
   ]
  },
  {
   "cell_type": "markdown",
   "id": "0dd8c721",
   "metadata": {},
   "source": [
    "$$ U_2(j\\omega) = MI_1(j\\omega) = -j0.5\\mathrm{V} \\quad\\implies\\quad U_2 = U_2(\\omega) = 0.5\\mathrm{V}$$"
   ]
  },
  {
   "cell_type": "markdown",
   "id": "6906932b",
   "metadata": {},
   "source": [
    "#### Problem 9\n",
    "9. Two tightly coupled ($k=1$) coils have been connected as shown and the following total inductances have been measured: $L_\\mathrm{I} = 40\\mathrm{mH}$, and $L_\\mathrm{II} = 60\\mathrm{mH}$. Assuming 1a is the dotted terminal, which terminal of the second coil is the dotted one? Calculate the mutual inductance.  \n",
    "\n",
    "![Fig-P.4.7.9](Figures/Fig-P.4.7.9.png)"
   ]
  },
  {
   "cell_type": "markdown",
   "id": "4bf48fd2",
   "metadata": {},
   "source": [
    "The dotted terminal is 2a.  The mutual inductance is given by:  \n",
    "\n",
    "In the case of $\\mathbf{II}$), via KVL,  \n",
    "\n",
    "$$ U(j\\omega) = U_1(j\\omega) + U_2(j\\omega) = j\\omega I(j\\omega)(L_1 + M + L_2 + M) = j\\omega L_\\mathrm{II} I(j\\omega)$$"
   ]
  },
  {
   "cell_type": "markdown",
   "id": "f43ac356",
   "metadata": {},
   "source": [
    "Thus,  \n",
    "\n",
    "\\begin{equation}\\tag{9.1}\n",
    "    L_1 + L_2 + 2M= L_1 + L_2 + 2\\sqrt{L_1L_2}=L_\\mathrm{II} = 60\\mathrm{mH}\n",
    "\\end{equation}"
   ]
  },
  {
   "cell_type": "markdown",
   "id": "6cb035e3",
   "metadata": {},
   "source": [
    "$$ 4L_1L_2 = (L_1+L_2-L_\\mathrm{II})^2 = L_1^2 + L_2^2 + L_\\mathrm{II}^2 + 2L_1L_2 - 2L_1L_\\mathrm{II} - 2L_2L_\\mathrm{II}$$"
   ]
  },
  {
   "cell_type": "markdown",
   "id": "99699561",
   "metadata": {},
   "source": [
    "$$ L_1^2 + L_2^2 + L_\\mathrm{II}^2 - 2L_1L_2 - 2L_1L_\\mathrm{II} - 2L_2L_\\mathrm{II} = 0$$"
   ]
  },
  {
   "cell_type": "markdown",
   "id": "4ab637a1",
   "metadata": {},
   "source": [
    "\\begin{equation}\\tag{9.4}\n",
    "    L_1^2 - 2L_1(L_2+L_\\mathrm{II}) + L_2^2 + L_\\mathrm{II}^2 - 2L_2L_\\mathrm{II} = 0\n",
    "\\end{equation}"
   ]
  },
  {
   "cell_type": "markdown",
   "id": "1ce8c02b",
   "metadata": {},
   "source": [
    "And, in the case of $\\mathbf{I}$), via KVL,  \n",
    "\n",
    "$$ U(j\\omega) = U_1(j\\omega) - U_2(j\\omega) = j\\omega I(j\\omega)(L_1 + M - L_2 + M) = j\\omega L_\\mathrm{I}I(j\\omega)$$"
   ]
  },
  {
   "cell_type": "markdown",
   "id": "6594bc58",
   "metadata": {},
   "source": [
    "Thus,  \n",
    "\n",
    "\\begin{equation}\\tag{9.2}\n",
    "    L_1 - L_2 + 2\\sqrt{L_1L_2} = L_\\mathrm{I} = 40\\mathrm{mH}\n",
    "\\end{equation}"
   ]
  },
  {
   "cell_type": "markdown",
   "id": "68ee1aba",
   "metadata": {},
   "source": [
    "Via equation (9.1),  \n",
    "\n",
    "$$ 4L_1L_2 = (L_1+L_2-L_\\mathrm{I})^2 = L_1^2 + L_2^2 + L_\\mathrm{I}^2 + 2L_1L_2 - 2L_1L_\\mathrm{I} - 2L_2L_\\mathrm{I}$$"
   ]
  },
  {
   "cell_type": "markdown",
   "id": "3ee015ac",
   "metadata": {},
   "source": [
    "$$L_1^2 + L_2^2 + L_\\mathrm{I}^2 - 2L_1L_2 - 2L_1L_\\mathrm{I} - 2L_2L_\\mathrm{I} = 0$$"
   ]
  },
  {
   "cell_type": "markdown",
   "id": "0cd0f766",
   "metadata": {},
   "source": [
    "\\begin{equation}\\tag{9.3}\n",
    "    L_1^2 - 2L_1(L_2 + L_\\mathbf{I}) + L_2^2 + L_\\mathbf{I}^2 - 2L_2L_\\mathbf{I} = 0\n",
    "\\end{equation}"
   ]
  },
  {
   "cell_type": "markdown",
   "id": "da6f9d43",
   "metadata": {},
   "source": [
    "Via the above equation and the quadratic formula,  \n",
    "\n",
    "$$ L_1 = \\frac{2L_2 + 2L_\\mathbf{I} \\pm \\sqrt{4(L_2+L_\\mathbf{I})^2 - 4c}}{2}\\quad\\quad\\text{where }\\;c = L_2^2 + L_\\mathbf{I}^2 - 2L_2L_\\mathbf{I}$$"
   ]
  },
  {
   "cell_type": "markdown",
   "id": "a04f6435",
   "metadata": {},
   "source": [
    "\\begin{align*}\\tag{9.3a}\n",
    "    L_1 &= \\Big\\{L_2 + L_\\mathrm{I} + \\sqrt{(L_2+L_1)^2 - 4c},\\; L_2 + L_\\mathrm{I} - \\sqrt{(L_2 + L_1)^2 -4c}\\Big\\} \\\\ \\\\\n",
    "     &= \\Big\\{L_2 + L_\\mathbf{I} + 2\\sqrt{L_2L_\\mathbf{I}},\\;L_2 + L_\\mathbf{I} - 2\\sqrt{L_2L_\\mathbf{I}}\\Big\\}\n",
    "\\end{align*}"
   ]
  },
  {
   "cell_type": "markdown",
   "id": "c07f83da",
   "metadata": {},
   "source": [
    "The number of acceptable (positive real valued) solutions that exist for equation (9.3) depends on the inequality below:  \n",
    "\n",
    "$$ L_2^2 + L_\\mathbf{I}^2 + 2L_2L_\\mathbf{I} > 4L_2^2L_\\mathbf{I}^2$$"
   ]
  },
  {
   "cell_type": "markdown",
   "id": "b74c2c42",
   "metadata": {},
   "source": [
    "Since $1-4L_\\mathbf{I}^2> 0$ there exists more than one positive real value of $L_2$ that satisfies the above inequality;  Thus, the number of solutions to equation (9.3) is two."
   ]
  },
  {
   "cell_type": "code",
   "execution_count": 5,
   "id": "1970a0de",
   "metadata": {},
   "outputs": [],
   "source": [
    "import sympy as sp"
   ]
  },
  {
   "cell_type": "code",
   "execution_count": 43,
   "id": "4bb4de2d",
   "metadata": {},
   "outputs": [
    {
     "data": {
      "text/latex": [
       "$\\displaystyle L_{1}^{2} - 2 L_{1} \\left(L_{2} + 0.06\\right) + L_{2}^{2} - 0.12 L_{2} + 0.0036$"
      ],
      "text/plain": [
       "L_1**2 - 2*L_1*(L_2 + 0.06) + L_2**2 - 0.12*L_2 + 0.0036"
      ]
     },
     "execution_count": 43,
     "metadata": {},
     "output_type": "execute_result"
    }
   ],
   "source": [
    "L_2, L_1 = sp.symbols('L_2 L_1')\n",
    "L_I, L_II = 40e-3, 60e-3\n",
    "eq3 = L_1**2 - 2*L_1*(L_2+L_I) + L_2**2 + L_I**2 - 2*L_2*L_I\n",
    "eq4 = L_1**2 - 2*L_1*(L_2+L_II) + L_2**2 + L_II**2 - 2*L_2*L_II\n",
    "eq4"
   ]
  },
  {
   "cell_type": "code",
   "execution_count": 45,
   "id": "becadc12",
   "metadata": {},
   "outputs": [
    {
     "data": {
      "text/plain": [
       "[{L_1: 0.000505102572168219, L_2: 0.0494948974278318},\n",
       " {L_1: 0.0494948974278318, L_2: 0.000505102572168219}]"
      ]
     },
     "execution_count": 45,
     "metadata": {},
     "output_type": "execute_result"
    }
   ],
   "source": [
    "sp.solve([eq3, eq4])"
   ]
  },
  {
   "cell_type": "code",
   "execution_count": 48,
   "id": "8aa83374",
   "metadata": {},
   "outputs": [
    {
     "data": {
      "text/plain": [
       "0.040000000000000015"
      ]
     },
     "execution_count": 48,
     "metadata": {},
     "output_type": "execute_result"
    }
   ],
   "source": [
    "L1 = 0.000505102572168219; L2 = 0.0494948974278318\n",
    "L1 + L2 - 2*sqrt(L1*L2)"
   ]
  },
  {
   "cell_type": "code",
   "execution_count": 49,
   "id": "af03f110",
   "metadata": {},
   "outputs": [
    {
     "data": {
      "text/plain": [
       "0.005000000000000001"
      ]
     },
     "execution_count": 49,
     "metadata": {},
     "output_type": "execute_result"
    }
   ],
   "source": [
    "M = sqrt(L1*L2)\n",
    "M"
   ]
  },
  {
   "cell_type": "markdown",
   "id": "83a56edd",
   "metadata": {},
   "source": [
    "Finally:  \n",
    "\n",
    "$$ M = 5\\mathrm{mH}$$"
   ]
  }
 ],
 "metadata": {
  "kernelspec": {
   "display_name": "Python 3 (ipykernel)",
   "language": "python",
   "name": "python3"
  },
  "language_info": {
   "codemirror_mode": {
    "name": "ipython",
    "version": 3
   },
   "file_extension": ".py",
   "mimetype": "text/x-python",
   "name": "python",
   "nbconvert_exporter": "python",
   "pygments_lexer": "ipython3",
   "version": "3.10.6"
  }
 },
 "nbformat": 4,
 "nbformat_minor": 5
}
