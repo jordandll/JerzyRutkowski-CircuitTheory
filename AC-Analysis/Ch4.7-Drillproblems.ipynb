{
 "cells": [
  {
   "cell_type": "markdown",
   "id": "394922b4",
   "metadata": {},
   "source": [
    "## Drill Problems  \n",
    "\n",
    "### *Chapter 4 Section 7* - AC Steady State Analysis"
   ]
  },
  {
   "cell_type": "code",
   "execution_count": 1,
   "id": "c53a30d7",
   "metadata": {},
   "outputs": [],
   "source": [
    "import numpy as np\n",
    "import matplotlib.pyplot as plt"
   ]
  },
  {
   "cell_type": "markdown",
   "id": "3cc6b4da",
   "metadata": {},
   "source": [
    "#### Problem 1\n",
    "1. Find equivalent inductance of two ideal coupled coils connected in parallel."
   ]
  },
  {
   "cell_type": "markdown",
   "id": "e1e18f7b",
   "metadata": {},
   "source": [
    "$$ L_\\mathrm{p} = \\infty$$"
   ]
  },
  {
   "cell_type": "markdown",
   "id": "d9402fcc",
   "metadata": {},
   "source": [
    "#### Problem 2\n",
    "2. A low-frequency amplifier has an output impedance of $5\\mathrm{k}\\Omega$. It is to supply a maximum amount of power to an $8\\Omega$ load (speaker). What should be the turns ratio of the matching transformer."
   ]
  },
  {
   "cell_type": "markdown",
   "id": "f4676b29",
   "metadata": {},
   "source": [
    "\\begin{equation}\\tag{2.1}\n",
    "     Z_l(j\\omega) = 8\\Omega = -\\frac{U_2(j\\omega)}{I_2(j\\omega)} = -\\frac{nU_1(j\\omega)}{I_2(j\\omega)}\n",
    "\\end{equation}"
   ]
  },
  {
   "cell_type": "markdown",
   "id": "82c8c55c",
   "metadata": {},
   "source": [
    "Assuming the 'output impedance' is the input impedance (or, the impedance looking into the primary port),  \n",
    "\n",
    "\\begin{equation}\\tag{2.2}\n",
    "    Z_1(j\\omega) = 5000\\Omega  = \\frac{U_1(j\\omega)}{I_1(j\\omega)}\n",
    "\\end{equation}"
   ]
  },
  {
   "cell_type": "markdown",
   "id": "3dde0f90",
   "metadata": {},
   "source": [
    "Via KVL and element equations,  \n",
    "\n",
    "\\begin{equation}\\tag{2.3}\n",
    "    U_1(j\\omega) = E_\\mathrm{o} - Z_\\mathrm{t}(j\\omega)I_1(j\\omega) = E_\\mathrm{o} - Z_l^*(j\\omega)I_1(j\\omega) = E_\\mathrm{o} - Z_l(j\\omega)\n",
    "\\end{equation}"
   ]
  },
  {
   "cell_type": "markdown",
   "id": "2df05713",
   "metadata": {},
   "source": [
    "Recall that, under maximum power transfer conditions, the internal impedance of the practical voltage source serving as an input to the transformer is equal to the complex conjugate of the load impedance, hence the fact that $Z_\\mathrm{t}(j\\omega) = Z_l^*(j\\omega) = 8\\Omega$."
   ]
  },
  {
   "cell_type": "markdown",
   "id": "94d79006",
   "metadata": {},
   "source": [
    "Via equations (2.2) and (2.1),  \n",
    "\n",
    "\\begin{equation}\\tag{2.4}\n",
    "    Z_l(j\\omega) = -nZ_1(j\\omega)\\,\\frac{I_1(j\\omega)}{I_2(j\\omega)} = n^2Z_1(j\\omega)\n",
    "\\end{equation}"
   ]
  },
  {
   "cell_type": "markdown",
   "id": "598c905c",
   "metadata": {},
   "source": [
    "Finally,  \n",
    "\n",
    "\\begin{equation}\\tag{2.5}\n",
    "    n = \\frac{z_2}{z_1} = \\sqrt{\\frac{Z_l(j\\omega)}{Z_1(j\\omega)}} = 0.04\n",
    "\\end{equation}"
   ]
  },
  {
   "cell_type": "code",
   "execution_count": 2,
   "id": "4ae6b894",
   "metadata": {},
   "outputs": [],
   "source": [
    "sqrt = np.sqrt"
   ]
  },
  {
   "cell_type": "code",
   "execution_count": 3,
   "id": "4f5576b6",
   "metadata": {},
   "outputs": [
    {
     "data": {
      "text/plain": [
       "0.04"
      ]
     },
     "execution_count": 3,
     "metadata": {},
     "output_type": "execute_result"
    }
   ],
   "source": [
    "n = sqrt(8/5000)\n",
    "n"
   ]
  },
  {
   "cell_type": "markdown",
   "id": "ef834764",
   "metadata": {},
   "source": [
    "#### Problem 3\n",
    "3. For an ideal transformer of $z_1 = 20$, $z_2=100$, and $Z_l(j\\omega) = j1000\\Omega$ load impedance, find $u_1$ if $i_1=50\\sqrt{2}\\,\\sin314t\\, \\mathrm{mA}$."
   ]
  },
  {
   "cell_type": "markdown",
   "id": "55b94295",
   "metadata": {},
   "source": [
    "$$ n = \\frac{z_2}{z_1} = 5 \\quad\\quad\\text{and}\\quad\\quad I_1(j\\omega) = 50\\mathrm{mA} \\quad\\quad\\text{and}\\quad\\quad \\omega = 314\\,\\frac{\\mathrm{rad}}{\\mathrm{s}}$$"
   ]
  },
  {
   "cell_type": "markdown",
   "id": "82d58643",
   "metadata": {},
   "source": [
    "$$ U_2(j\\omega) = nU_1(j\\omega) = -Z_l(j\\omega)I_2(j\\omega)$$"
   ]
  },
  {
   "cell_type": "markdown",
   "id": "8c65369f",
   "metadata": {},
   "source": [
    "$$ I_2(j\\omega) = -\\frac{I_1(j\\omega)}{n} $$"
   ]
  },
  {
   "cell_type": "markdown",
   "id": "fe272d06",
   "metadata": {},
   "source": [
    "Via the above two equations,  \n",
    "\n",
    "$$ U_1(j\\omega) = Z_l(j\\omega)\\,\\frac{I_1(j\\omega)}{n^2} = j2\\mathrm{V} = 2\\mathrm{V}\\,\\angle90^\\circ$$"
   ]
  },
  {
   "cell_type": "markdown",
   "id": "890d7249",
   "metadata": {},
   "source": [
    "$$ u_1 = 2\\sqrt{2}\\,\\sin\\big(314t + 90^\\circ\\big)\\,\\mathrm{V}$$"
   ]
  },
  {
   "cell_type": "code",
   "execution_count": 5,
   "id": "67d00702",
   "metadata": {},
   "outputs": [
    {
     "data": {
      "text/plain": [
       "2.0"
      ]
     },
     "execution_count": 5,
     "metadata": {},
     "output_type": "execute_result"
    }
   ],
   "source": [
    "U_1 = 50/25\n",
    "U_1"
   ]
  },
  {
   "cell_type": "markdown",
   "id": "b375acc7",
   "metadata": {},
   "source": [
    "#### Problem 4\n",
    "4. An ideal transformer of $n=1$ is is loaded by a) $1\\mathrm{H}$ inductance, b) $1\\mu\\mathrm{F}$ capacitance. For the measured input voltage of $u_1=100\\sqrt{2}\\,\\sin1000t\\,\\mathrm{V}$, find $i_1$ ."
   ]
  },
  {
   "cell_type": "markdown",
   "id": "a57f9ddb",
   "metadata": {},
   "source": [
    "In both cases:  \n",
    "\n",
    "$$ U_1(j\\omega) = 100\\mathrm{V} \\quad\\quad\\text{and}\\quad\\quad \\omega = 1000\\,\\frac{\\mathrm{rad}}{\\mathrm{s}}$$"
   ]
  },
  {
   "cell_type": "markdown",
   "id": "22f8accd",
   "metadata": {},
   "source": [
    "$$ I_1(j\\omega) = \\frac{n^2U_1(j\\omega)}{Z_l(j\\omega)} = \\frac{100\\mathrm{V}}{Z_l(j\\omega)}$$"
   ]
  },
  {
   "cell_type": "markdown",
   "id": "9542f966",
   "metadata": {},
   "source": [
    "In the case of **a)**  \n",
    "\n",
    "$$ Z_l(j\\omega) = j\\omega L \\quad\\text{where }L = 1\\mathrm{H}$$"
   ]
  },
  {
   "cell_type": "markdown",
   "id": "b73bd3c7",
   "metadata": {},
   "source": [
    "$$ I_1(j\\omega) = -j\\frac{100\\mathrm{V}}{\\omega L} = -0.1\\mathrm{A}\\,\\angle90^\\circ  $$"
   ]
  },
  {
   "cell_type": "markdown",
   "id": "9101a923",
   "metadata": {},
   "source": [
    "$$ i_1 = 0.1\\sqrt{2}\\,\\sin\\big(1000t - 90^\\circ\\big)\\,\\mathrm{A}$$"
   ]
  },
  {
   "cell_type": "markdown",
   "id": "c524cecb",
   "metadata": {},
   "source": [
    "And, in the case of **b)**  \n",
    "\n",
    "$$ Z_l(j\\omega) = -j\\,\\frac{1}{\\omega C} = \\frac{1}{j\\omega C}\\quad\\text{where }C = 1\\mu\\mathrm{F}$$"
   ]
  },
  {
   "cell_type": "markdown",
   "id": "6ddaa068",
   "metadata": {},
   "source": [
    "$$ I_1(j\\omega) =j\\omega C \\cdot 100\\mathrm{V} = j0.1\\mathrm{A}$$"
   ]
  },
  {
   "cell_type": "markdown",
   "id": "4cc2d6ce",
   "metadata": {},
   "source": [
    "$$ i_1 = 0.1\\sqrt{2}\\,\\sin\\big(1000t + 90^\\circ\\big)\\,\\mathrm{A}$$"
   ]
  },
  {
   "cell_type": "markdown",
   "id": "b1b81d99",
   "metadata": {},
   "source": [
    "#### Problem 5\n",
    "5. An ideal transformer of $n=1$ is loaded by $Z_l(j\\omega) = 10\\Omega + j10\\Omega$ . For the measured input current of $i_1 = 2\\sin314t\\,\\mathrm{A}$, find the real power supplied to the load."
   ]
  },
  {
   "cell_type": "markdown",
   "id": "2d2d3297",
   "metadata": {},
   "source": [
    "$$ I_1(j\\omega) = \\sqrt{2}\\,\\mathrm{A} \\quad\\quad\\text{and}\\quad\\quad \\omega = 314\\,\\frac{\\mathrm{rad}}{\\mathrm{s}}$$"
   ]
  },
  {
   "cell_type": "markdown",
   "id": "f4c497e3",
   "metadata": {},
   "source": [
    "$$ I_2(j\\omega) = nI_1(j\\omega) = \\sqrt{2}\\,\\mathrm{A}$$"
   ]
  },
  {
   "cell_type": "markdown",
   "id": "3f1d888c",
   "metadata": {},
   "source": [
    "$$ P = R_l I_2^2 = 10\\Omega \\cdot 2\\mathrm{A}^2 = 20\\mathrm{W}$$"
   ]
  },
  {
   "cell_type": "markdown",
   "id": "e41939d3",
   "metadata": {},
   "source": [
    "#### Problem 6\n",
    "6. The impedance $Z_l(j\\omega) = 10\\Omega - j10\\Omega$ loads an ideal isolating transformer ($n=1$). Find the real power supplied by $U_1 = 6\\mathrm{V}$ AC primary source."
   ]
  },
  {
   "cell_type": "markdown",
   "id": "de6e8214",
   "metadata": {},
   "source": [
    "$$ P = \\frac{U_2^2}{R_l} = \\frac{n^2U_1^2}{R_l} = \\frac{36\\mathrm{V}^2}{10\\Omega} = 3.6\\mathrm{W}$$"
   ]
  },
  {
   "cell_type": "markdown",
   "id": "78d9b755",
   "metadata": {},
   "source": [
    "#### Problem 7\n",
    "7. An ideal isolating transformer primary voltage is $U_1 = 10\\mathrm{V}$, the secondary load impedance is $Z_l(j\\omega)=12\\Omega - j16\\Omega$ . Find the rms primary current $I_1$."
   ]
  },
  {
   "cell_type": "markdown",
   "id": "828c5d83",
   "metadata": {},
   "source": [
    "$$ U_2(j\\omega)= nU_1(j\\omega) = U_1(j\\omega) = -Z_l(j\\omega)I_2(j\\omega) $$"
   ]
  },
  {
   "cell_type": "markdown",
   "id": "cef9994f",
   "metadata": {},
   "source": [
    "$$ I_2(j\\omega) = -nI_1(j\\omega) = -I_1(j\\omega)$$"
   ]
  },
  {
   "cell_type": "markdown",
   "id": "db52c211",
   "metadata": {},
   "source": [
    "Via the above two equations and substitution,  \n",
    "\n",
    "$$ I_1(j\\omega) = \\frac{U_1(j\\omega)}{Z_l(j\\omega)} \\quad\\quad\\text{and}\\quad\\quad I_1 = I_1(\\omega) = \\frac{U_1}{Z_l(\\omega)} = \\frac{10\\mathrm{V}}{20\\Omega} = 0.5\\mathrm{A}$$"
   ]
  },
  {
   "cell_type": "markdown",
   "id": "4ae197e0",
   "metadata": {},
   "source": [
    "#### Problem 8\n",
    "8. The primary terminals of a basic transformer of $L_1=L_2=1\\mathrm{H}$; $k=0.5$, are connected to a voltage source of $u_1= 10\\sqrt{2}\\,\\sin10t\\,\\mathrm{V}$. An ideal rms a) ammeter, b) voltmeter is connected to the secondary terminals. Calculate its indication and the reflected inductance $X_{r}(j\\omega)$."
   ]
  },
  {
   "cell_type": "markdown",
   "id": "525ff0d6",
   "metadata": {},
   "source": [
    "$$ M = 0.5\\mathrm{H} \\quad\\quad \\text{and}\\quad\\quad U_1(j\\omega) = 10\\mathrm{V} \\quad\\quad\\text{and}\\quad\\quad \\omega = 10\\,\\frac{\\mathrm{rad}}{\\mathrm{s}}$$"
   ]
  },
  {
   "cell_type": "markdown",
   "id": "be0bca65",
   "metadata": {},
   "source": [
    "Recall equation (10b),  \n",
    "\n",
    "\\begin{equation}\\tag{10b}\n",
    "    Z_r(j\\omega) = \\frac{(\\omega M)^2}{j\\omega L_2 + Z_l(j\\omega)} = \\frac{(\\omega M)^2}{R_l + j\\big(\\omega L_2 + X_l(\\omega)\\big)}  = R_r + jX_r(\\omega)\n",
    "\\end{equation}"
   ]
  },
  {
   "cell_type": "markdown",
   "id": "01f5a903",
   "metadata": {},
   "source": [
    "In the case of **a)** $Z_l(j\\omega) = 0$:  \n",
    "\n",
    "$$ Z_r(j\\omega) = \\frac{(\\omega M)^2}{j\\omega L_2} = \\frac{\\omega M^2}{jL_2} = -j\\omega \\cdot 0.5\\mathrm{H}$$"
   ]
  },
  {
   "cell_type": "markdown",
   "id": "2e1a2997",
   "metadata": {},
   "source": [
    "$$ U_1(j\\omega) = I_1(j\\omega)(j\\omega L_1 - j\\omega 0.5L_1) = I_1(j\\omega)\\cdot j0.5\\omega L_1$$"
   ]
  },
  {
   "cell_type": "markdown",
   "id": "518e1e5e",
   "metadata": {},
   "source": [
    "$$ I_1(j\\omega) = -2j\\,\\frac{U_1(j\\omega)}{\\omega L_1}$$"
   ]
  },
  {
   "cell_type": "markdown",
   "id": "b4b240fe",
   "metadata": {},
   "source": [
    "$$U_2(j\\omega) = L_2I_2(j\\omega) + MI_1(j\\omega) = 0$$"
   ]
  },
  {
   "cell_type": "markdown",
   "id": "79921103",
   "metadata": {},
   "source": [
    "$$ I_2(j\\omega) = -I_1(j\\omega)\\,\\frac{M}{L_2} = -0.5I_1(j\\omega) = j\\,\\frac{U_1(j\\omega)}{\\omega L_1} = j1\\mathrm{A} $$"
   ]
  },
  {
   "cell_type": "markdown",
   "id": "76e42d6e",
   "metadata": {},
   "source": [
    "Finally,  \n",
    "\n",
    "$$ I_2 = I_2(\\omega) = 1\\mathrm{A}$$"
   ]
  },
  {
   "cell_type": "markdown",
   "id": "a43acb91",
   "metadata": {},
   "source": [
    "In the case of **b)** $Z_l(j\\omega) = \\infty$:  \n",
    "\n",
    "$$ Z_r(j\\omega) = 0 \\quad\\implies\\quad U_1(j\\omega) = j\\omega L I_1(j\\omega) \\quad\\implies\\quad I_1(j\\omega) = \\frac{U_1(j\\omega)}{j\\omega L_1} = -j1\\mathrm{A}$$"
   ]
  },
  {
   "cell_type": "markdown",
   "id": "5e1f786e",
   "metadata": {},
   "source": [
    "$$ U_2(j\\omega) = MI_1(j\\omega) = -j0.5\\mathrm{V} \\quad\\implies\\quad U_2 = U_2(\\omega) = 0.5\\mathrm{V}$$"
   ]
  },
  {
   "cell_type": "markdown",
   "id": "ec12ce81",
   "metadata": {},
   "source": [
    "#### Problem 9\n",
    "9. Two tightly coupled ($k=1$) coils have been connected as shown and the following total inductances have been measured: $L_\\mathrm{I} = 40\\mathrm{mH}$, and $L_\\mathrm{II} = 60\\mathrm{mH}$. Assuming 1a is the dotted terminal, which terminal of the second coil is the dotted one? Calculate the mutual inductance.  \n",
    "\n",
    "![Fig-P.4.7.9](Figures/Fig-P.4.7.9.png)"
   ]
  },
  {
   "cell_type": "markdown",
   "id": "03d2fd6a",
   "metadata": {},
   "source": [
    "In the case of **I)**, 2a is the dotted terminal,  \n",
    "\n",
    "\\begin{equation}\\tag{9.1}\n",
    "    L_1 + L_2 = L_\\mathrm{I} = 40\\mathrm{mH}\n",
    "\\end{equation}"
   ]
  },
  {
   "cell_type": "markdown",
   "id": "8af8e21e",
   "metadata": {},
   "source": [
    "Via the above equation and equations (2a.3a,c) in [chapter 4.7](MutualInductance.ipynb),  \n",
    "\n",
    "\\begin{equation}\\tag{9.2}\n",
    "    z_1^2\\,\\frac{R_m + R_{l1}}{R_mR_{l1}} + z_2^2\\,\\frac{R_m + R_{l2}}{R_mR_{l2}} = L_\\mathrm{I}=40\\mathrm{mH}\n",
    "\\end{equation}"
   ]
  },
  {
   "cell_type": "markdown",
   "id": "2c696e62",
   "metadata": {},
   "source": [
    "Now recall equation (2a.4) in the aforementioned notebook,  \n",
    "\n",
    "\\begin{equation}\\tag{2a.4}\n",
    "    k = \\sqrt{\\frac{R_{l1}R_{l2}}{(R_m+R_{l1})(R_m+R_{l2})}}\n",
    "\\end{equation}"
   ]
  },
  {
   "cell_type": "markdown",
   "id": "427df0d8",
   "metadata": {},
   "source": [
    "Via the above equation and the fact that $k=1$,  \n",
    "\n",
    "\\begin{equation}\\tag{9.3a}\n",
    "    R_m^2 + R_mR_{l1} + R_mR_{l2} + R_{l1}R_{l2} = R_{l1}R_{l2}\n",
    "\\end{equation}"
   ]
  },
  {
   "cell_type": "markdown",
   "id": "69311520",
   "metadata": {},
   "source": [
    "\\begin{equation}\\tag{9.3}\n",
    "    R_m + R_{l1} + R_{l2} = 0\n",
    "\\end{equation}"
   ]
  },
  {
   "cell_type": "markdown",
   "id": "73c6799c",
   "metadata": {},
   "source": [
    "Note that the above equation was obtained by, among other things, dividing throughout by $R_m$.  This approach assumes that $R_m\\ne0$.  Without this assumption, there is a lack of consistency with our reasoning.  Assuming $R_m=0$, dividing throughout by $R_m$ commits a divide by zero error, making equation (9.3) invalid."
   ]
  },
  {
   "cell_type": "markdown",
   "id": "b467b516",
   "metadata": {},
   "source": [
    "Since it is assumed that $R_m,R_{l1},R_{l2}>0$, the only solution to equation (9.3) is $R_m, R_{l1}, R_{l2} = 0$.  This solution, however, implies that equation (2a.4) commits a divided by zero error."
   ]
  },
  {
   "cell_type": "markdown",
   "id": "d9846f9f",
   "metadata": {},
   "source": [
    "The only solution to equation (9.3a) that is consistent with equation (2a.4) is $R_m=0$ and $R_{l1}, R_{l2} >0$.  Via this solution in conjunction with equation (2a.3b),  \n",
    "\n",
    "$$ M = \\infty $$"
   ]
  }
 ],
 "metadata": {
  "kernelspec": {
   "display_name": "Python 3 (ipykernel)",
   "language": "python",
   "name": "python3"
  },
  "language_info": {
   "codemirror_mode": {
    "name": "ipython",
    "version": 3
   },
   "file_extension": ".py",
   "mimetype": "text/x-python",
   "name": "python",
   "nbconvert_exporter": "python",
   "pygments_lexer": "ipython3",
   "version": "3.10.6"
  }
 },
 "nbformat": 4,
 "nbformat_minor": 5
}
