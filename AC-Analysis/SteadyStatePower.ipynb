{
 "cells": [
  {
   "cell_type": "markdown",
   "id": "70127c64",
   "metadata": {},
   "source": [
    "# AC Steady-State Power\n",
    "### *Chapter 4.3* -- AC Steady-State Analysis\n",
    "\n",
    "Few different measures of ac steady-state power are used, and they all are presented. The\n",
    "special attention is laid on the average power. Methods of its calculation and maximum power\n",
    "transfer condition are discussed."
   ]
  },
  {
   "cell_type": "markdown",
   "id": "e39c23d0",
   "metadata": {},
   "source": [
    "## Measures of Power\n",
    "### Instantaneous power\n",
    "In a linear circuit with periodic excitation, the steady-state currents and voltages are also\n",
    "periodic, each having identical period. Then, instantaneous power absorbed by two-terminal\n",
    "element (subcircuit) is also periodic. For the considered sinusoidal excitation, instantaneous\n",
    "power is also a sinusoid.  \n",
    "\n",
    "\\begin{equation}\\tag{1}\n",
    "    p = ui = U\\sqrt{2}\\sin\\big(\\omega t + \\alpha_u\\big)I\\sqrt{2}\\sin\\big(\\omega t - \\alpha_i\\big) = UI\\cos\\big(\\alpha_u+\\alpha_i\\big) - UI\\cos\\big(2\\omega t + \\alpha_u + \\alpha_i\\big)\n",
    "\\end{equation}    "
   ]
  },
  {
   "cell_type": "markdown",
   "id": "cfb707a1",
   "metadata": {},
   "source": [
    "Proof for equation (1):  \n",
    "\n",
    "$$ p = 2UI\\big(\\sin\\omega t\\cos\\alpha_u + \\cos\\omega t\\sin\\alpha_u \\big)\\big(\\sin\\omega t \\cos\\alpha_i + \\cos\\omega t \\sin \\alpha_i\\big)$$"
   ]
  },
  {
   "cell_type": "markdown",
   "id": "25e1c81a",
   "metadata": {},
   "source": [
    "$$ = 2UI\\big(\\sin^2\\omega t\\cos\\alpha_u\\cos\\alpha_i + 0.5\\sin2\\omega t \\cos\\alpha_u\\sin\\alpha_i + 0.5\\sin2\\omega t \\sin\\alpha_u\\cos\\alpha_i + \\cos^2\\omega t\\sin\\alpha_u\\sin\\alpha_i\\big)$$"
   ]
  },
  {
   "cell_type": "markdown",
   "id": "cf60d83d",
   "metadata": {},
   "source": [
    "$$ = 2UI\\big(\\sin^2\\omega t \\cos\\alpha_u\\cos\\alpha_i + 0.5\\sin2\\omega t(\\cos\\alpha_u\\sin\\alpha_i + \\sin\\alpha_u\\cos\\alpha_i) + \\cos^2\\omega t\\sin\\alpha_u\\sin\\alpha_i\\big)$$"
   ]
  },
  {
   "cell_type": "markdown",
   "id": "2d682fa3",
   "metadata": {},
   "source": [
    "$$ = 2UI\\big(\\sin^2\\omega t\\cos\\alpha_u\\cos\\alpha_i + 0.5\\sin2\\omega t\\sin(\\alpha_u+\\alpha_i) + \\cos^2\\omega t \\sin\\alpha_u\\sin\\alpha_i\\big)$$"
   ]
  },
  {
   "cell_type": "markdown",
   "id": "3e2c89db",
   "metadata": {},
   "source": [
    "$$ = 2UI\\big(0.5\\cos2\\omega t(\\sin\\alpha_u\\sin\\alpha_i - \\cos\\alpha_u\\cos\\alpha_i) + 0.5(\\sin\\alpha_u\\sin\\alpha_i + \\cos\\alpha_u\\cos\\alpha_i) + 0.5\\sin2\\omega t\\sin(\\alpha_u + \\alpha_i)\\big)$$"
   ]
  },
  {
   "cell_type": "markdown",
   "id": "e5efa840",
   "metadata": {},
   "source": [
    "$$ =2UI\\big(0.5\\cos2\\omega t\\sin(\\alpha_u + \\alpha_i - 0.5\\pi) + 0.5\\sin2\\omega t\\sin(\\alpha_u + \\alpha_i) + 0.5(\\sin\\alpha_u\\sin\\alpha_i + \\cos\\alpha_u\\cos\\alpha_i\\big)$$"
   ]
  },
  {
   "cell_type": "markdown",
   "id": "fbd27350",
   "metadata": {},
   "source": [
    "$$ =2UI\\big(0.5\\sin2\\omega t\\sin(\\alpha_u+\\alpha_i) - 0.5\\cos2\\omega t\\cos(\\alpha_u+\\alpha_i) + 0.5(\\sin\\alpha_u\\sin\\alpha_i + \\cos\\alpha_u\\cos\\alpha_i\\big)$$"
   ]
  },
  {
   "cell_type": "markdown",
   "id": "04de0030",
   "metadata": {},
   "source": [
    "$$ UI\\Big(\\sin\\alpha_u\\sin\\alpha_i + \\cos\\alpha_u\\cos\\alpha_i -\\big(\\cos2\\omega t\\cos(\\alpha_u+\\alpha_i) - \\sin2\\omega t\\sin(\\alpha_u+\\alpha_i) \\big) \\Big)$$"
   ]
  },
  {
   "cell_type": "markdown",
   "id": "646a3f19",
   "metadata": {},
   "source": [
    "$$ = UI\\Big(\\cos(\\alpha_u-\\alpha_i) + \\sin(2\\omega t + \\alpha_u + \\alpha_i - 0.5\\pi)\\Big)$$"
   ]
  },
  {
   "cell_type": "markdown",
   "id": "0c56dc55",
   "metadata": {},
   "source": [
    "$$ = UI\\big(\\cos(\\alpha_u-\\alpha_i) - \\cos(2\\omega t +\\alpha_u + \\alpha_i)\\big) $$"
   ]
  },
  {
   "cell_type": "markdown",
   "id": "966f215d",
   "metadata": {},
   "source": [
    "Let $f(\\theta):=\\sin^2\\theta$.  \n",
    "\n",
    "$$ f'(\\theta) = 2\\sin\\theta \\cos\\theta = \\sin2\\theta$$"
   ]
  },
  {
   "cell_type": "markdown",
   "id": "03681cc8",
   "metadata": {},
   "source": [
    "$$ g(\\theta) := \\int \\sin2\\theta\\,\\mathrm{d}\\theta = -0.5\\cos2\\theta + c$$"
   ]
  },
  {
   "cell_type": "markdown",
   "id": "8dc60418",
   "metadata": {},
   "source": [
    "\\begin{equation}\\tag{P1.1}\n",
    "    \\sin^2\\theta = 0.5\\big(1-\\cos2\\theta\\big)\n",
    "\\end{equation}    "
   ]
  },
  {
   "cell_type": "markdown",
   "id": "431d911d",
   "metadata": {},
   "source": [
    "Now let $f(\\theta):=\\cos^2\\theta$.  \n",
    "\n",
    "$$ f'(\\theta) = -\\sin2\\theta$$"
   ]
  },
  {
   "cell_type": "markdown",
   "id": "8c1aeb0a",
   "metadata": {},
   "source": [
    "$$ g(\\theta) := -\\int\\sin2\\theta\\,\\mathrm{d}\\theta = 0.5\\cos2\\theta + c$$"
   ]
  },
  {
   "cell_type": "markdown",
   "id": "a05340cc",
   "metadata": {},
   "source": [
    "\\begin{equation}\\tag{P1.2}\n",
    "    \\cos^2\\theta = 0.5\\big(\\cos2\\theta + 1\\big)\n",
    "\\end{equation}    "
   ]
  },
  {
   "cell_type": "markdown",
   "id": "8b253597",
   "metadata": {},
   "source": [
    "The first term in this equation is independent of time, the second term varies periodically over\n",
    "time at twice the angular frequency. Proper operation of electrical devices limits the\n",
    "maximum instantaneous power. This power, the so called **peak power**, is a commonly used\n",
    "specification for characterizing elements or devices.  \n",
    "\n",
    "\\begin{equation}\\tag{1a}\n",
    "    P_\\mathrm{peak} = UI\\cos(\\alpha_u-\\alpha_i) + UI\n",
    "\\end{equation}    "
   ]
  },
  {
   "cell_type": "markdown",
   "id": "9722d0b0",
   "metadata": {},
   "source": [
    "### Average or Real Power\n",
    "Mathematically, the first term of instantaneous power is its average value. This term is called\n",
    "the average power or real power, henceforth '$P$', and it represents the power delivered by a source or\n",
    "absorbed by a two-terminal element or device (subcircuit).  \n",
    "\n",
    "\\begin{equation}\\tag{2}\n",
    "    P = \\frac{1}{T}\\,\\int_{t_0}^{t_0+T} p\\,\\mathrm{d}t = UI\\cos(\\alpha_u-\\alpha_i) = UI\\cos\\varphi\n",
    "\\end{equation}    "
   ]
  },
  {
   "cell_type": "markdown",
   "id": "4fc41b48",
   "metadata": {},
   "source": [
    "$$ f(t):= \\int p\\,\\mathrm{d}t = tUI\\cos\\varphi - \\frac{UI}{2\\omega}\\,\\sin\\big(2\\omega t + \\alpha_u + \\alpha_i\\big)$$"
   ]
  },
  {
   "cell_type": "markdown",
   "id": "45de047a",
   "metadata": {},
   "source": [
    "$$ f(t_0+T) - f(t_0) = TUI\\cos\\varphi $$"
   ]
  },
  {
   "cell_type": "markdown",
   "id": "82287684",
   "metadata": {},
   "source": [
    "The average power, in watts $[\\mathrm{W}]$, is always nonnegative and satisfies the power balance\n",
    "principle. It is the product of the RMS voltage, the RMS current and the cosine of the angle\n",
    "between them. This cosine is called the **power factor**, $\\mathrm{pf}$.  \n",
    "\n",
    "\\begin{equation}\\tag{2a}\n",
    "    \\mathrm{pf} = \\cos(\\alpha_u - \\alpha_i) = \\cos\\varphi\n",
    "\\end{equation}    "
   ]
  },
  {
   "cell_type": "markdown",
   "id": "d1c4d17c",
   "metadata": {},
   "source": [
    "If said two-terminal element is a resistor, then $\\varphi=0$, and thus the power factor is $\\mathrm{pf}=\\cos0 = 1$.  \n",
    "\n",
    "\\begin{equation}\\tag{2b}\n",
    "    P_R = UI = I^2R = \\frac{U^2}{R}\n",
    "\\end{equation}    "
   ]
  },
  {
   "cell_type": "markdown",
   "id": "603ad335",
   "metadata": {},
   "source": [
    "If said two-terminal element is a capacitor or coil then $\\varphi=-90^\\circ$ or $\\varphi=90^\\circ$ and thus the power factor is $\\mathrm{pf}=0$.  Consequently, the real power of a capacitor or coil is equal to zero."
   ]
  },
  {
   "cell_type": "markdown",
   "id": "32bb011e",
   "metadata": {},
   "source": [
    "\\begin{equation}\\tag{2c}\n",
    "    P_C = P_L = 0\n",
    "\\end{equation}    "
   ]
  },
  {
   "cell_type": "markdown",
   "id": "6311b824",
   "metadata": {},
   "source": [
    "In identifying a load character, the pf is characterized as leading or lagging by the phase of\n",
    "current with respect to that of the voltage. Then, a capacitive load has a leading $\\mathrm{pf}$ and an\n",
    "inductive load has a lagging $\\mathrm{pf}$.  \n",
    "\n",
    "\n",
    "The average power designates the energy absorbed by two-terminal element or subcircuit. The\n",
    "energy absorbed in time interval $t=0$ from to $t=nT$ , where $n$ is a positive integer, is\n",
    "designated by the following equation:  \n",
    "\n",
    "\\begin{equation}\\tag{3}\n",
    "    W_{nT} = \\int_0^{nT} p\\,\\mathrm{d}t = \\int_0^{nT}P\\,\\mathrm{d}t \\;-\\; \\int_0^{nT}UI\\cos(\\omega t + \\alpha_u + \\alpha_i) = nTP\n",
    "\\end{equation}    "
   ]
  },
  {
   "cell_type": "markdown",
   "id": "70b59dee",
   "metadata": {},
   "source": [
    "Consider the circuit of Fig. 4.3.1, consisting of a practical source (sinusoidal generator),\n",
    "modeled by the Thevenin equivalent, connected to a load subcircuit.  \n",
    "\n",
    "![Fig-4.3.1](Figures/Fig-4.3.1.png)"
   ]
  },
  {
   "cell_type": "markdown",
   "id": "d2dfedcd",
   "metadata": {},
   "source": [
    "The real power transferred from the generator to the load can be designated in three different\n",
    "ways.\n",
    "1. Phasors $U(j\\omega)$ and $I(j\\omega)$ are designated at first, then equation (4.3.2) is utilized to find the real power transferred.\n",
    "2. Effective currents of load resistors are calculated at first. Then, the power balance principle (4.3.4) is utilized, where $N$ is number of load resistors.  \n",
    "\n",
    "\\begin{equation}\\tag{4}\n",
    "    P = \\sum_{i=1}^N P_i = \\sum_{i=1}^N I_i^2R_i\n",
    "\\end{equation}    \n",
    "\n",
    "3. The effective current $I$ and the equivalent series resistance of the load $R_\\mathrm{l}$ are calculated at first, then the real power transferred is designated from equation (4.3.2b)."
   ]
  },
  {
   "cell_type": "markdown",
   "id": "4662a31b",
   "metadata": {},
   "source": [
    "### Example 4.3.1\n",
    "Find the real power transferred to the subcircuit presented in Fig. 4.2.11, if the voltage on its\n",
    "terminals is $U(j\\omega)=10\\mathrm{V}$.  \n",
    "\n",
    "![Fig-4.2.11](Figures/Fig-4.2.11.png)"
   ]
  },
  {
   "cell_type": "markdown",
   "id": "d9399c78",
   "metadata": {},
   "source": [
    "$$ I = \\frac{U}{Z} \\quad\\quad\\text{where }\\;Z(j\\omega) = Z\\,\\angle\\alpha_z \\quad\\quad\\text{and}\\quad\\quad \\varphi=\\alpha_u-\\alpha_i = -\\alpha_i = -\\alpha_z$$"
   ]
  },
  {
   "cell_type": "markdown",
   "id": "eb6318ea",
   "metadata": {},
   "source": [
    "$$ Z(j\\omega) = R_1 + jX_L + Z_2(j\\omega) \\quad\\quad \\text{where }\\; A_2(j\\omega) =G_2 + j\\frac{1}{X_C} = \\frac{X_C + jR_2}{R_2X_C} $$"
   ]
  },
  {
   "cell_type": "markdown",
   "id": "7bbed28c",
   "metadata": {},
   "source": [
    "$$ Z_2(j\\omega) = Z_2\\,\\angle \\alpha_{z2} \\quad\\quad\\text{where }\\;Z_2 = \\frac{R_2X_C}{\\sqrt{X_C^2+R_2^2}} \\quad\\text{and}\\quad \\alpha_{z2} = -\\arcsin \\frac{R_2}{\\sqrt{X_C^2+R_2^2}}$$"
   ]
  },
  {
   "cell_type": "markdown",
   "id": "b438789b",
   "metadata": {},
   "source": [
    "$$ Z_2(j\\omega) = \\frac{R_2X_C}{X_C^2+R_2^2}\\,\\big(X_C - jR_2\\big)$$"
   ]
  },
  {
   "cell_type": "markdown",
   "id": "5fdbec08",
   "metadata": {},
   "source": [
    "$$Z(j\\omega) = R_1 + \\frac{R_2X_C^2}{X_C^2+R_2^2} + j\\left(X_L - \\frac{R_2^2X_C}{X_C^2+R_2^2}\\right) $$"
   ]
  },
  {
   "cell_type": "markdown",
   "id": "131ffce7",
   "metadata": {},
   "source": [
    "$$ = \\frac{R_1\\big(X_C^2+R_2^2\\big) + R_2X_C^2 + j\\Big(X_L\\big(X_C^2+R_2^2 \\big) - R_2^2X_C \\Big)}{X_C^2 + R_2^2}$$"
   ]
  },
  {
   "cell_type": "markdown",
   "id": "75fcff12",
   "metadata": {},
   "source": [
    "$$Z(j\\omega) = 10+10j = 10\\sqrt{2}\\,\\angle45^\\circ \\implies I=\\frac{1}{\\sqrt{2}}\\,\\mathrm{A} \\quad\\text{and}\\quad \\varphi = -45^\\circ$$"
   ]
  },
  {
   "cell_type": "markdown",
   "id": "fe6668a3",
   "metadata": {},
   "source": [
    "$$ P = UI\\cos45^\\circ = 5\\mathrm{W}$$"
   ]
  },
  {
   "cell_type": "markdown",
   "id": "a2e955a9",
   "metadata": {},
   "source": [
    "### Apparent Power\n",
    "For the given line voltage , the real power consumed by the load is strongly related to\n",
    "its power factor. It may vary from $0$ to the maximum of $S$, the apparent power.  \n",
    "\n",
    "\\begin{equation}\\tag{8}\n",
    "    S = P_{\\big | \\varphi=0} = UI\n",
    "\\end{equation}    "
   ]
  },
  {
   "cell_type": "markdown",
   "id": "6d2271f6",
   "metadata": {},
   "source": [
    "This product is called the apparent power. To avoid confusing with the unit of average power,\n",
    "the watt, the apparent power unit is volt-ampere $[\\mathrm{VA}]$ and obviously, the apparent power\n",
    "does not satisfy the power balance principle. It simply defines the maximum capacity of a\n",
    "source (power plant).\n",
    "The power factor of a load has a very important practical meaning. Power company is very\n",
    "interested in having customer keep this factor as close to unity as possible, to minimize the\n",
    "power line losses\n"
   ]
  }
 ],
 "metadata": {
  "kernelspec": {
   "display_name": "Python 3",
   "language": "python",
   "name": "python3"
  },
  "language_info": {
   "codemirror_mode": {
    "name": "ipython",
    "version": 3
   },
   "file_extension": ".py",
   "mimetype": "text/x-python",
   "name": "python",
   "nbconvert_exporter": "python",
   "pygments_lexer": "ipython3",
   "version": "3.8.10"
  }
 },
 "nbformat": 4,
 "nbformat_minor": 5
}
