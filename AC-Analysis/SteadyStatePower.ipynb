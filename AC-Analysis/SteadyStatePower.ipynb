{
 "cells": [
  {
   "cell_type": "markdown",
   "id": "70127c64",
   "metadata": {},
   "source": [
    "# AC Steady-State Power\n",
    "### *Chapter 4.3* -- AC Steady-State Analysis\n",
    "\n",
    "Few different measures of ac steady-state power are used, and they all are presented. The\n",
    "special attention is laid on the average power. Methods of its calculation and maximum power\n",
    "transfer condition are discussed."
   ]
  },
  {
   "cell_type": "markdown",
   "id": "e39c23d0",
   "metadata": {},
   "source": [
    "## Measures of Power\n",
    "### Instantaneous power\n",
    "In a linear circuit with periodic excitation, the steady-state currents and voltages are also\n",
    "periodic, each having identical period. Then, instantaneous power absorbed by two-terminal\n",
    "element (subcircuit) is also periodic. For the considered sinusoidal excitation, instantaneous\n",
    "power is also a sinusoid.  \n",
    "\n",
    "\\begin{equation}\\tag{1}\n",
    "    p = ui = U\\sqrt{2}\\sin\\big(\\omega t + \\alpha_u\\big)I\\sqrt{2}\\sin\\big(\\omega t - \\alpha_i\\big) = UI\\cos\\big(\\alpha_u+\\alpha_i\\big) - UI\\cos\\big(2\\omega t + \\alpha_u + \\alpha_i\\big)\n",
    "\\end{equation}    "
   ]
  },
  {
   "cell_type": "markdown",
   "id": "933ba38d",
   "metadata": {},
   "source": [
    "Proof for equation (1):  \n",
    "\n",
    "$$ p = 2UI\\big(\\sin\\omega t\\cos\\alpha_u + \\cos\\omega t\\sin\\alpha_u \\big)\\big(\\sin\\omega t \\cos\\alpha_i + \\cos\\omega t \\sin \\alpha_i\\big)$$"
   ]
  },
  {
   "cell_type": "markdown",
   "id": "8e00ede8",
   "metadata": {},
   "source": [
    "$$ = 2UI\\big(\\sin^2\\omega t\\cos\\alpha_u\\cos\\alpha_i + 0.5\\sin2\\omega t \\cos\\alpha_u\\sin\\alpha_i + 0.5\\sin2\\omega t \\sin\\alpha_u\\cos\\alpha_i + \\cos^2\\omega t\\sin\\alpha_u\\sin\\alpha_i\\big)$$"
   ]
  },
  {
   "cell_type": "markdown",
   "id": "95dcf977",
   "metadata": {},
   "source": [
    "$$ = 2UI\\big(\\sin^2\\omega t \\cos\\alpha_u\\cos\\alpha_i + 0.5\\sin2\\omega t(\\cos\\alpha_u\\sin\\alpha_i + \\sin\\alpha_u\\cos\\alpha_i) + \\cos^2\\omega t\\sin\\alpha_u\\sin\\alpha_i\\big)$$"
   ]
  },
  {
   "cell_type": "markdown",
   "id": "c7b25f3a",
   "metadata": {},
   "source": [
    "$$ = 2UI\\big(\\sin^2\\omega t\\cos\\alpha_u\\cos\\alpha_i + 0.5\\sin2\\omega t\\sin(\\alpha_u+\\alpha_i) + \\cos^2\\omega t \\sin\\alpha_u\\sin\\alpha_i\\big)$$"
   ]
  },
  {
   "cell_type": "markdown",
   "id": "58d68eb6",
   "metadata": {},
   "source": [
    "$$ = 2UI\\big(0.5\\cos2\\omega t(\\sin\\alpha_u\\sin\\alpha_i - \\cos\\alpha_u\\cos\\alpha_i) + 0.5(\\sin\\alpha_u\\sin\\alpha_i + \\cos\\alpha_u\\cos\\alpha_i) + 0.5\\sin2\\omega t\\sin(\\alpha_u + \\alpha_i)\\big)$$"
   ]
  },
  {
   "cell_type": "markdown",
   "id": "780fbdd2",
   "metadata": {},
   "source": [
    "$$ =2UI\\big(0.5\\cos2\\omega t\\sin(\\alpha_u + \\alpha_i - 0.5\\pi) + 0.5\\sin2\\omega t\\sin(\\alpha_u + \\alpha_i) + 0.5(\\sin\\alpha_u\\sin\\alpha_i + \\cos\\alpha_u\\cos\\alpha_i\\big)$$"
   ]
  },
  {
   "cell_type": "markdown",
   "id": "e323dfd1",
   "metadata": {},
   "source": [
    "$$ =2UI\\big(0.5\\sin2\\omega t\\sin(\\alpha_u+\\alpha_i) - 0.5\\cos2\\omega t\\cos(\\alpha_u+\\alpha_i) + 0.5(\\sin\\alpha_u\\sin\\alpha_i + \\cos\\alpha_u\\cos\\alpha_i\\big)$$"
   ]
  },
  {
   "cell_type": "markdown",
   "id": "78614e08",
   "metadata": {},
   "source": [
    "$$ UI\\Big(\\sin\\alpha_u\\sin\\alpha_i + \\cos\\alpha_u\\cos\\alpha_i -\\big(\\cos2\\omega t\\cos(\\alpha_u+\\alpha_i) - \\sin2\\omega t\\sin(\\alpha_u+\\alpha_i) \\big) \\Big)$$"
   ]
  },
  {
   "cell_type": "markdown",
   "id": "a08f6bea",
   "metadata": {},
   "source": [
    "$$ = UI\\Big(\\cos(\\alpha_u-\\alpha_i) + \\sin(2\\omega t + \\alpha_u + \\alpha_i - 0.5\\pi)\\Big)$$"
   ]
  },
  {
   "cell_type": "markdown",
   "id": "93e987b5",
   "metadata": {},
   "source": [
    "$$ = UI\\big(\\cos(\\alpha_u-\\alpha_i) - \\cos(2\\omega t +\\alpha_u + \\alpha_i)\\big) $$"
   ]
  },
  {
   "cell_type": "markdown",
   "id": "dc5bebc6",
   "metadata": {},
   "source": [
    "Let $f(\\theta):=\\sin^2\\theta$.  \n",
    "\n",
    "$$ f'(\\theta) = 2\\sin\\theta \\cos\\theta = \\sin2\\theta$$"
   ]
  },
  {
   "cell_type": "markdown",
   "id": "82d18f56",
   "metadata": {},
   "source": [
    "$$ g(\\theta) := \\int \\sin2\\theta\\,\\mathrm{d}\\theta = -0.5\\cos2\\theta + c$$"
   ]
  },
  {
   "cell_type": "markdown",
   "id": "40a6cc48",
   "metadata": {},
   "source": [
    "\\begin{equation}\\tag{P1.1}\n",
    "    \\sin^2\\theta = 0.5\\big(1-\\cos2\\theta\\big)\n",
    "\\end{equation}    "
   ]
  },
  {
   "cell_type": "markdown",
   "id": "385b1352",
   "metadata": {},
   "source": [
    "Now let $f(\\theta):=\\cos^2\\theta$.  \n",
    "\n",
    "$$ f'(\\theta) = -\\sin2\\theta$$"
   ]
  },
  {
   "cell_type": "markdown",
   "id": "20ee9474",
   "metadata": {},
   "source": [
    "$$ g(\\theta) := -\\int\\sin2\\theta\\,\\mathrm{d}\\theta = 0.5\\cos2\\theta + c$$"
   ]
  },
  {
   "cell_type": "markdown",
   "id": "a4ec630f",
   "metadata": {},
   "source": [
    "\\begin{equation}\\tag{P1.2}\n",
    "    \\cos^2\\theta = 0.5\\big(\\cos2\\theta + 1\\big)\n",
    "\\end{equation}    "
   ]
  },
  {
   "cell_type": "markdown",
   "id": "e85cd3bc",
   "metadata": {},
   "source": [
    "The first term in this equation is independent of time, the second term varies periodically over\n",
    "time at twice the angular frequency. Proper operation of electrical devices limits the\n",
    "maximum instantaneous power. This power, the so called **peak power**, is a commonly used\n",
    "specification for characterizing elements or devices.  \n",
    "\n",
    "\\begin{equation}\\tag{1a}\n",
    "    P_\\mathrm{peak} = UI\\cos(\\alpha_u-\\alpha_i) + UI\n",
    "\\end{equation}    "
   ]
  },
  {
   "cell_type": "markdown",
   "id": "ae40a061",
   "metadata": {},
   "source": [
    "### Average or Real Power\n",
    "Mathematically, the first term of instantaneous power is its average value. This term is called\n",
    "the average power or real power, henceforth '$P$', and it represents the power delivered by a source or\n",
    "absorbed by a two-terminal element or device (subcircuit).  \n",
    "\n",
    "\\begin{equation}\\tag{2}\n",
    "    P = \\frac{1}{T}\\,\\int_{t_0}^{t_0+T} p\\,\\mathrm{d}t = UI\\cos(\\alpha_u-\\alpha_i) = UI\\cos\\varphi\n",
    "\\end{equation}    "
   ]
  },
  {
   "cell_type": "markdown",
   "id": "49e7fe9b",
   "metadata": {},
   "source": [
    "$$ f(t):= \\int p\\,\\mathrm{d}t = tUI\\cos\\varphi - \\frac{UI}{2\\omega}\\,\\sin\\big(2\\omega t + \\alpha_u + \\alpha_i\\big)$$"
   ]
  },
  {
   "cell_type": "markdown",
   "id": "5a805a97",
   "metadata": {},
   "source": [
    "$$ f(t_0+T) - f(t_0) = TUI\\cos\\varphi $$"
   ]
  },
  {
   "cell_type": "markdown",
   "id": "2c230c34",
   "metadata": {},
   "source": [
    "The average power, in watts $[\\mathrm{W}]$, is always nonnegative and satisfies the power balance\n",
    "principle. It is the product of the RMS voltage, the RMS current and the cosine of the angle\n",
    "between them. This cosine is called the **power factor**, $\\mathrm{pf}$.  \n",
    "\n",
    "\\begin{equation}\\tag{2a}\n",
    "    \\mathrm{pf} = \\cos(\\alpha_u - \\alpha_i) = \\cos\\varphi\n",
    "\\end{equation}    "
   ]
  },
  {
   "cell_type": "markdown",
   "id": "3eac3962",
   "metadata": {},
   "source": [
    "If said two-terminal element is a resistor, then $\\varphi=0$, and thus the power factor is $\\mathrm{pf}=\\cos0 = 1$.  \n",
    "\n",
    "\\begin{equation}\\tag{2b}\n",
    "    P_R = UI = I^2R = \\frac{U^2}{R}\n",
    "\\end{equation}    "
   ]
  },
  {
   "cell_type": "markdown",
   "id": "cdbe0059",
   "metadata": {},
   "source": [
    "If said two-terminal element is a capacitor or coil then $\\varphi=-90^\\circ$ or $\\varphi=90^\\circ$ and thus the power factor is $\\mathrm{pf}=0$.  Consequently, the real power of a capacitor or coil is equal to zero."
   ]
  },
  {
   "cell_type": "markdown",
   "id": "7bf08cd1",
   "metadata": {},
   "source": [
    "\\begin{equation}\\tag{2c}\n",
    "    P_C = P_L = 0\n",
    "\\end{equation}    "
   ]
  },
  {
   "cell_type": "markdown",
   "id": "f014498d",
   "metadata": {},
   "source": [
    "In identifying a load character, the pf is characterized as leading or lagging by the phase of\n",
    "current with respect to that of the voltage. Then, a capacitive load has a leading $\\mathrm{pf}$ and an\n",
    "inductive load has a lagging $\\mathrm{pf}$.  \n",
    "\n",
    "\n",
    "The average power designates the energy absorbed by two-terminal element or subcircuit. The\n",
    "energy absorbed in time interval $t=0$ from to $t=nT$ , where $n$ is a positive integer, is\n",
    "designated by the following equation:  \n",
    "\n",
    "\\begin{equation}\\tag{3}\n",
    "    W_{nT} = \\int_0^{nT} p\\,\\mathrm{d}t = \\int_0^{nT}P\\,\\mathrm{d}t \\;-\\; \\int_0^{nT}UI\\cos(\\omega t + \\alpha_u + \\alpha_i) = nTP\n",
    "\\end{equation}    "
   ]
  },
  {
   "cell_type": "markdown",
   "id": "564f5e3a",
   "metadata": {},
   "source": [
    "Consider the circuit of Fig. 4.3.1, consisting of a practical source (sinusoidal generator),\n",
    "modeled by the Thevenin equivalent, connected to a load subcircuit.  \n",
    "\n",
    "![Fig-4.3.1](Figures/Fig-4.3.1.png)"
   ]
  },
  {
   "cell_type": "markdown",
   "id": "a5d1b548",
   "metadata": {},
   "source": [
    "The real power transferred from the generator to the load can be designated in three different\n",
    "ways.\n",
    "1. Phasors $U(j\\omega)$ and $I(j\\omega)$ are designated at first, then equation (4.3.2) is utilized to find the real power transferred.\n",
    "2. Effective currents of load resistors are calculated at first. Then, the power balance principle (4.3.4) is utilized, where $N$ is number of load resistors.  \n",
    "\n",
    "\\begin{equation}\\tag{4}\n",
    "    P = \\sum_{i=1}^N P_i = \\sum_{i=1}^N I_i^2R_i\n",
    "\\end{equation}    \n",
    "\n",
    "3. The effective current $I$ and the equivalent series resistance of the load $R_\\mathrm{l}$ are calculated at first, then the real power transferred is designated from equation (4.3.2b)."
   ]
  },
  {
   "cell_type": "markdown",
   "id": "bae7873b",
   "metadata": {},
   "source": [
    "### Example 4.3.1\n",
    "Find the real power transferred to the subcircuit presented in Fig. 4.2.11, if the voltage on its\n",
    "terminals is $U(j\\omega)=10\\mathrm{V}$.  \n",
    "\n",
    "![Fig-4.2.11](Figures/Fig-4.2.11.png)"
   ]
  },
  {
   "cell_type": "markdown",
   "id": "71da741e",
   "metadata": {},
   "source": [
    "$$ I = \\frac{U}{Z} \\quad\\quad\\text{where }\\;Z(j\\omega) = Z\\,\\angle\\alpha_z \\quad\\quad\\text{and}\\quad\\quad \\varphi=\\alpha_u-\\alpha_i = -\\alpha_i = -\\alpha_z$$"
   ]
  },
  {
   "cell_type": "markdown",
   "id": "631cda4c",
   "metadata": {},
   "source": [
    "$$ Z(j\\omega) = R_1 + jX_L + Z_2(j\\omega) \\quad\\quad \\text{where }\\; A_2(j\\omega) =G_2 + j\\frac{1}{X_C} = \\frac{X_C + jR_2}{R_2X_C} $$"
   ]
  },
  {
   "cell_type": "markdown",
   "id": "41c3fc26",
   "metadata": {},
   "source": [
    "$$ Z_2(j\\omega) = Z_2\\,\\angle \\alpha_{z2} \\quad\\quad\\text{where }\\;Z_2 = \\frac{R_2X_C}{\\sqrt{X_C^2+R_2^2}} \\quad\\text{and}\\quad \\alpha_{z2} = -\\arcsin \\frac{R_2}{\\sqrt{X_C^2+R_2^2}}$$"
   ]
  },
  {
   "cell_type": "markdown",
   "id": "fa81325c",
   "metadata": {},
   "source": [
    "$$ Z_2(j\\omega) = \\frac{R_2X_C}{X_C^2+R_2^2}\\,\\big(X_C - jR_2\\big)$$"
   ]
  },
  {
   "cell_type": "markdown",
   "id": "61df8cff",
   "metadata": {},
   "source": [
    "$$Z(j\\omega) = R_1 + \\frac{R_2X_C^2}{X_C^2+R_2^2} + j\\left(X_L - \\frac{R_2^2X_C}{X_C^2+R_2^2}\\right) $$"
   ]
  },
  {
   "cell_type": "markdown",
   "id": "57c9307f",
   "metadata": {},
   "source": [
    "$$ = \\frac{R_1\\big(X_C^2+R_2^2\\big) + R_2X_C^2 + j\\Big(X_L\\big(X_C^2+R_2^2 \\big) - R_2^2X_C \\Big)}{X_C^2 + R_2^2}$$"
   ]
  },
  {
   "cell_type": "markdown",
   "id": "1d7abd7b",
   "metadata": {},
   "source": [
    "$$Z(j\\omega) = 10+10j = 10\\sqrt{2}\\,\\angle45^\\circ \\implies I=\\frac{1}{\\sqrt{2}}\\,\\mathrm{A} \\quad\\text{and}\\quad \\varphi = -45^\\circ$$"
   ]
  },
  {
   "cell_type": "markdown",
   "id": "9d5c9826",
   "metadata": {},
   "source": [
    "$$ P = UI\\cos45^\\circ = 5\\mathrm{W}$$"
   ]
  },
  {
   "cell_type": "markdown",
   "id": "4a43af2e",
   "metadata": {},
   "source": [
    "### Apparent Power\n",
    "For the given line voltage , the real power consumed by the load is strongly related to\n",
    "its power factor. It may vary from $0$ to the maximum of $S$, the apparent power.  \n",
    "\n",
    "\\begin{equation}\\tag{8}\n",
    "    S = P_{\\big | \\varphi=0} = UI\n",
    "\\end{equation}    "
   ]
  },
  {
   "cell_type": "markdown",
   "id": "00060f69",
   "metadata": {},
   "source": [
    "This product is called the apparent power. To avoid confusing with the unit of average power,\n",
    "the watt, the apparent power unit is volt-ampere $[\\mathrm{VA}]$ and obviously, the apparent power\n",
    "does not satisfy the power balance principle. It simply defines the maximum capacity of a\n",
    "source (power plant).  \n",
    "\n",
    "The power factor of a load has a very important practical meaning. Power company is very\n",
    "interested in having customer keep this factor as close to unity as possible, to minimize the\n",
    "power line losses.  \n",
    "\n",
    "\\begin{equation}\\tag{9}\n",
    "    P_\\mathrm{line} = I^2R_\\mathrm{line}\n",
    "\\end{equation}    \n"
   ]
  },
  {
   "cell_type": "markdown",
   "id": "7aa49a25",
   "metadata": {},
   "source": [
    "This principle is demonstrated in the next example."
   ]
  },
  {
   "cell_type": "markdown",
   "id": "3a16bfec",
   "metadata": {},
   "source": [
    "### Example 4.3.2\n",
    "Suppose, that a mill consumes $P=1\\mathrm{kW}$ from a $200 \\mathrm{V}$ line at a lagging power factor of $\\mathrm{pf}=\\cos60^\\circ = 0.5$.  Then, the required current is:  \n",
    "\n",
    "\\begin{equation}\\tag{10}\n",
    "    I = \\frac{P}{U\\cos60^\\circ} = \\frac{1000\\mathrm{W}}{100\\mathrm{V}} = 10\\mathrm{A}\n",
    "\\end{equation}    "
   ]
  },
  {
   "cell_type": "markdown",
   "id": "a4929ff2",
   "metadata": {},
   "source": [
    "If the power factor was at unity $\\mathrm{pf}=1$, then the current would only be at $5\\mathrm{A}$.  As can be seen, the power plant must generate a larger current in the case of lower pf and it causes larger line losses. For instance, if the transmission line resistance is $R_\\mathrm{line}=5\\Omega$, then the difference in power is $500\\mathrm{W}$ to $125\\mathrm{W}$."
   ]
  },
  {
   "cell_type": "code",
   "execution_count": 4,
   "id": "c0a861de",
   "metadata": {},
   "outputs": [
    {
     "data": {
      "text/plain": [
       "4.0"
      ]
     },
     "execution_count": 4,
     "metadata": {},
     "output_type": "execute_result"
    }
   ],
   "source": [
    "500/125"
   ]
  },
  {
   "cell_type": "markdown",
   "id": "41604fd6",
   "metadata": {},
   "source": [
    "Most industrial and many residential loads are inductive (lagging power factor). Although it is\n",
    "not possible to change the inductive nature of a load itself, it is possible to connect a capacitive load in parallel with this load, and correct the power factor to unity that way. The circuit for power factor correction is presented in Fig. 4.3.2, together with the phasor diagram.  \n",
    "\n",
    "![Fig-4.3.2](Figures/Fig-4.3.2.png)"
   ]
  },
  {
   "cell_type": "markdown",
   "id": "704ef78d",
   "metadata": {},
   "source": [
    "### Example 4.3.3\n",
    "A load operating at a lagging power factor of $\\mathrm{pf}=\\cos45^\\circ=1/\\sqrt{2}$ dissipates $2 \\mathrm{kW}$ when connected to a $220 \\mathrm{V}$, $50 \\mathrm{Hz}$ power line. What value of capacitance is needed to correct the power factor to unity?"
   ]
  },
  {
   "cell_type": "markdown",
   "id": "8f08c0c9",
   "metadata": {},
   "source": [
    "$$ U = 220\\mathrm{V} \\quad\\quad \\omega = 100\\pi\\,\\mathrm{rad}/\\mathrm{s} \\quad\\quad I = \\frac{2000\\mathrm{W}}{110\\sqrt{2}\\mathrm{V}} = \\frac{1000\\sqrt{2}}{110}\\,\\mathrm{A} \\quad\\varphi=\\alpha_u - \\alpha_i = 45^\\circ$$"
   ]
  },
  {
   "cell_type": "markdown",
   "id": "1aa515bd",
   "metadata": {},
   "source": [
    "$$ I(j\\omega) = I\\,\\big(\\cos\\varphi - j\\sin\\varphi\\big)$$"
   ]
  },
  {
   "cell_type": "markdown",
   "id": "74097328",
   "metadata": {},
   "source": [
    "$$ I\\sin\\varphi = \\frac{1000}{110}\\,\\mathrm{A} = \\frac{220\\mathrm{V}}{X_C}$$"
   ]
  },
  {
   "cell_type": "markdown",
   "id": "5777366e",
   "metadata": {},
   "source": [
    "$$ X_C = \\frac{1}{\\omega C} = \\frac{220\\cdot110}{1000}\\,\\Omega$$"
   ]
  },
  {
   "cell_type": "markdown",
   "id": "1d86b17f",
   "metadata": {},
   "source": [
    "$$ C = \\frac{1000}{220\\cdot110\\cdot 100\\pi}\\,\\mathrm{F}$$"
   ]
  },
  {
   "cell_type": "code",
   "execution_count": 7,
   "id": "72e9d0b4",
   "metadata": {},
   "outputs": [],
   "source": [
    "import numpy as np"
   ]
  },
  {
   "cell_type": "code",
   "execution_count": 18,
   "id": "cc96c8fe",
   "metadata": {},
   "outputs": [
    {
     "data": {
      "text/plain": [
       "0.00013153301081974823"
      ]
     },
     "execution_count": 18,
     "metadata": {},
     "output_type": "execute_result"
    }
   ],
   "source": [
    "1000/(220*100*110*np.pi)"
   ]
  },
  {
   "cell_type": "markdown",
   "id": "9ec58959",
   "metadata": {},
   "source": [
    "### Reactive Power\n",
    "Energy storage elements, capacitors and coils, neither supply nor dissipate power on average,\n",
    "but rather exchange it back and forth with the rest of the circuit. To measure the amount of\n",
    "periodic energy exchange taking place between a given subcircuit and the rest of the circuit,\n",
    "reactive power $Q$ is introduced.  \n",
    "\n",
    "\\begin{equation}\\tag{11}\n",
    "    Q = UI\\sin\\varphi\n",
    "\\end{equation}    "
   ]
  },
  {
   "cell_type": "markdown",
   "id": "e300dfc0",
   "metadata": {},
   "source": [
    "The sign of $Q$ is positive for inductive loads and negative for capacitive ones. For the pure\n",
    "capacitive or pure inductive load, $Q=-UI$ or $Q=UI$ , respectively. For pure resistive load,\n",
    "$Q=0$.  \n",
    "\n",
    "The unit of reactive power is **var** or **volt-ampere reactive**, $[\\mathrm{VAr}]$. The reactive power satisfies the power balance principle."
   ]
  },
  {
   "cell_type": "markdown",
   "id": "0197abad",
   "metadata": {},
   "source": [
    "### Example 4.3.1 – cont.\n",
    "Find the reactive power transferred to the subcircuit.  \n",
    "\n",
    "$$Q = UI\\sin45^\\circ = 5\\mathrm{VAr}$$"
   ]
  },
  {
   "cell_type": "markdown",
   "id": "fc7dab2d",
   "metadata": {},
   "source": [
    "$$ Z(j\\omega) = 10(1+j)=10\\sqrt{2}\\angle45^\\circ \\quad\\quad\\text{and}\\quad\\quad I(j\\omega) = \\frac{1}{\\sqrt{2}}\\,\\angle\\!-\\!45^\\circ$$"
   ]
  },
  {
   "cell_type": "markdown",
   "id": "17385b77",
   "metadata": {},
   "source": [
    "$$ U(j\\omega) = U\\angle\\alpha_u = IZ\\angle(\\alpha_z+\\alpha_i)= 10\\mathrm{V}\\,\\angle 0^\\circ = U$$"
   ]
  },
  {
   "cell_type": "markdown",
   "id": "8cf2b39d",
   "metadata": {},
   "source": [
    "$$ Q = UI\\sin\\varphi = I^2Z\\sin45^\\circ = I^2X_L = 5\\mathrm{VAr}$$"
   ]
  },
  {
   "cell_type": "markdown",
   "id": "f0c23772",
   "metadata": {},
   "source": [
    "### Complex Power\n",
    "To extend phasor analysis to the study of power in ac steady-state circuits, a new complex\n",
    "quantity, the complex power $S(j\\omega)$ is defined (4.3.14). For simplicity of description\n",
    "argument $\\omega$ is omitted at the right side of the equation.  \n",
    "\n",
    "\\begin{equation}\\tag{12}\n",
    "    S(j\\omega) = P + jQ = S\\angle\\varphi\n",
    "\\end{equation}    "
   ]
  },
  {
   "cell_type": "markdown",
   "id": "3ec50b4d",
   "metadata": {},
   "source": [
    "The real part of the complex power is the average power, the imaginary part is the reactive\n",
    "power, its modulus is the apparent power. Graphical interpretation in the complex plane is\n",
    "presented in Fig. 4.3.3, an inductive load is assumed. The complex power satisfies the power\n",
    "balance principle, as its both terms satisfy this principle.  \n",
    "\n",
    "![Fig-4.3.3](Figures/Fig-4.3.3.png)"
   ]
  },
  {
   "cell_type": "markdown",
   "id": "05e2e7ac",
   "metadata": {},
   "source": [
    "## Maximum Power Transfer\n",
    "Same as in DC circuits, when designing AC circuit, it is frequently desirable to arrange for the\n",
    "maximum real power transfer to the load from the rest of the circuit. The whole circuit is\n",
    "divided into two parts (Fig. 4.3.1):\n",
    "1. source, active subcircuit modeled by its Thevenin equivalent:  \n",
    "\n",
    "\\begin{equation}\\tag{15a}\n",
    "    E_\\mathrm{o}, Z_\\mathrm{t}(j\\omega) = R_\\mathrm{t} + jX_\\mathrm{t} = Z_\\mathrm{t}\\angle\\varphi_\\mathrm{t}\n",
    "\\end{equation}    "
   ]
  },
  {
   "cell_type": "markdown",
   "id": "d5006837",
   "metadata": {},
   "source": [
    "2. load, passive subcircuit modeled by its impedance:  \n",
    "\n",
    "\\begin{equation}\\tag{15b}\n",
    "    Z_\\mathrm{l}(j\\omega) = R_\\mathrm{l} + jX_\\mathrm{l} = Z_\\mathrm{l}\\angle\\varphi_\\mathrm{l}\n",
    "\\end{equation}    "
   ]
  },
  {
   "cell_type": "markdown",
   "id": "87dd6dd9",
   "metadata": {},
   "source": [
    "Specifying $Z_\\mathrm{l}(j\\omega)$, so that the average power absorbed by this impedance from the given\n",
    "active subcircuit is a maximum, is the task. Power absorbed by the load is a function of two\n",
    "arguments, the real and imaginary compliments of $Z_\\mathrm{l}(j\\omega)$.  \n",
    "\n",
    "\\begin{equation}\\tag{16}\n",
    "    P = I^2R_\\mathrm{l} = \\left(\\frac{E_\\mathrm{o}}{\\sqrt{(R_\\mathrm{t}+R_\\mathrm{l})^2 + (X_\\mathrm{t}+X_\\mathrm{l})^2}} \\right)^2R_\\mathrm{l} := P(R_\\mathrm{l}, X_\\mathrm{l})\n",
    "\\end{equation}    "
   ]
  },
  {
   "cell_type": "markdown",
   "id": "271d0cb0",
   "metadata": {},
   "source": [
    "The above function, the average or real power absorbed by the load as a function of the load resistance and reactance, with the source's characteristics being parameters of the function, is at it's maximum when:  \n",
    "\n",
    "\\begin{equation}\\tag{17}\n",
    "    \\text{a: }\\;\\frac{\\partial P}{\\partial R_\\mathrm{l}} = 0 \\quad\\quad \\text{and}\\quad\\quad \\text{b: }\\; \\frac{\\partial P}{\\partial X_\\mathrm{l}} = 0\n",
    "\\end{equation}    "
   ]
  },
  {
   "cell_type": "markdown",
   "id": "4a9e25d3",
   "metadata": {},
   "source": [
    "$$ I^2 - 2IR_\\mathrm{l}\\,\\frac{E_\\mathrm{o}(R_\\mathrm{t} + R_\\mathrm{l})}{\\sqrt{\\big((R_\\mathrm{t} + R_\\mathrm{l})^2 + (X_\\mathrm{t} + X_\\mathrm{l})^2 \\big)^3}} = 0$$"
   ]
  },
  {
   "cell_type": "markdown",
   "id": "c463516f",
   "metadata": {},
   "source": [
    "$$ I = 2R_\\mathrm{l}E_\\mathrm{o}\\,\\frac{R_\\mathrm{l} + R_\\mathrm{t}}{\\sqrt{\\big( (R_\\mathrm{t} + R_\\mathrm{l})^2 + (X_\\mathrm{t} + X_\\mathrm{l})^2\\big)^3}}$$"
   ]
  },
  {
   "cell_type": "markdown",
   "id": "fa8633fa",
   "metadata": {},
   "source": [
    "$$ 0.5 = R_\\mathrm{l}\\,\\frac{R_\\mathrm{l} + R_\\mathrm{t}}{(R_\\mathrm{t} + R_\\mathrm{l})^2 + (X_\\mathrm{t} + X_\\mathrm{l})^2}$$"
   ]
  },
  {
   "cell_type": "markdown",
   "id": "aae3c8ea",
   "metadata": {},
   "source": [
    "$$ 0.5\\big(R_\\mathrm{t}^2 + 2R_\\mathrm{t}R_\\mathrm{l} + R_\\mathrm{l}^2 + (X_\\mathrm{t} + X_\\mathrm{l})^2\\big) = R_\\mathrm{t}R_\\mathrm{l} + R_\\mathrm{l}^2$$"
   ]
  },
  {
   "cell_type": "markdown",
   "id": "17c6b12b",
   "metadata": {},
   "source": [
    "$$ (X_\\mathrm{t} + X_\\mathrm{l})^2 + 0.5R_\\mathrm{t}^2= 0.5R_\\mathrm{l}^2 $$"
   ]
  },
  {
   "cell_type": "markdown",
   "id": "078b4a2a",
   "metadata": {},
   "source": [
    "\\begin{equation}\\tag{17a}\n",
    "     R_\\mathrm{l} = \\sqrt{2(X_\\mathrm{t}+X_\\mathrm{l})^2 + R_\\mathrm{t}^2}\n",
    "\\end{equation}    "
   ]
  },
  {
   "cell_type": "markdown",
   "id": "0a5798eb",
   "metadata": {},
   "source": [
    "$$ -2R_\\mathrm{l}\\,\\frac{E_\\mathrm{o}^2(X_\\mathrm{l}+X_\\mathrm{t})}{\\big((R_\\mathrm{t} + R_\\mathrm{l})^2 + (X_\\mathrm{t} + X_\\mathrm{l})^2 \\big)^2} = 0$$"
   ]
  },
  {
   "cell_type": "markdown",
   "id": "58bf9507",
   "metadata": {},
   "source": [
    "\\begin{equation}\\tag{17b}\n",
    "    X_\\mathrm{l} = -X_\\mathrm{t}\n",
    "\\end{equation}    "
   ]
  },
  {
   "cell_type": "markdown",
   "id": "45cf8c0a",
   "metadata": {},
   "source": [
    "Via equations (17a,b),  \n",
    "\n",
    "\\begin{equation}\\tag{17c}\n",
    "    R_\\mathrm{l} = R_\\mathrm{t}\n",
    "\\end{equation}    "
   ]
  },
  {
   "cell_type": "markdown",
   "id": "6b631a0e",
   "metadata": {},
   "source": [
    "The maximum power is transferred to the load of $Z_\\mathrm{l}(j\\omega)$ from the source with Thevenin\n",
    "equivalent impedance of $Z_\\mathrm{t}(j\\omega)$, if these impedances are complex conjugates:  \n",
    "\n",
    "\\begin{equation}\\tag{18}\n",
    "    Z_\\mathrm{l}(j\\omega) = Z_\\mathrm{t}^*(j\\omega) \\quad\\quad\\hat{=}\\quad\\quad Z_\\mathrm{t} = Z_\\mathrm{l} \\quad\\text{and}\\quad \\varphi_\\mathrm{l} = -\\varphi_\\mathrm{t}\n",
    "\\end{equation}    "
   ]
  },
  {
   "cell_type": "markdown",
   "id": "80ad732f",
   "metadata": {},
   "source": [
    "## Drill Problems\n",
    "#### Problem 1\n",
    "1. A load has the inductive impedance $Z(j\\omega)=(100+100j)\\Omega$.. Find the parallel impedance required to correct the power factor to $1.0$ for $\\omega=500\\,\\mathrm{rad}/\\mathrm{s}$."
   ]
  },
  {
   "cell_type": "markdown",
   "id": "9a7d7599",
   "metadata": {},
   "source": [
    "$$ U(j\\omega) = Z(j\\omega)I_L(j\\omega) \\quad\\quad \\text{and}\\quad\\quad Z(j\\omega) = 100\\sqrt{2}\\Omega\\,\\angle45^\\circ = Z\\angle\\varphi_L$$"
   ]
  },
  {
   "cell_type": "markdown",
   "id": "df826dc2",
   "metadata": {},
   "source": [
    "$$ I_L(j\\omega) = \\frac{U(j\\omega)}{Z(j\\omega)} = \\frac{U\\angle\\alpha_u}{Z\\angle\\varphi_L} = \\frac{U}{Z}\\,\\angle\\alpha_{iL} = \\frac{U}{100\\sqrt{2}\\Omega}\\,\\angle\\!-\\!45^\\circ$$"
   ]
  },
  {
   "cell_type": "markdown",
   "id": "2a4bfe45",
   "metadata": {},
   "source": [
    "The required parallel current is equal to the imaginary part of the complex conjugate of the current flowing through the inductive impedance.  \n",
    "\n",
    "$$ I_C(j\\omega) = j\\mathrm{Im}\\big(I_L(j\\omega)^*\\big) = j\\frac{U(j\\omega)}{Z}\\,\\sin45^\\circ = \\frac{U}{200\\Omega}\\,\\angle\\big(\\alpha_u+90^\\circ\\big)$$"
   ]
  },
  {
   "cell_type": "markdown",
   "id": "2f5037d7",
   "metadata": {},
   "source": [
    "$$ I_C(j\\omega) = \\frac{U\\angle\\alpha_u}{Z_C(j\\omega)} = \\frac{U\\angle\\alpha_u}{Z_C\\angle\\varphi_C}$$"
   ]
  },
  {
   "cell_type": "markdown",
   "id": "69ba6c81",
   "metadata": {},
   "source": [
    "Thus,\n",
    "$$ \\frac{U}{Z_C} = \\frac{U}{200\\Omega} \\quad\\quad\\text{and}\\quad\\quad \\alpha_u - \\varphi_C = \\alpha_u - \\alpha_u + \\alpha_{iC} = \\alpha_{iC} = \\alpha_u+90^\\circ$$"
   ]
  },
  {
   "cell_type": "markdown",
   "id": "585eeb3a",
   "metadata": {},
   "source": [
    "$$ Z_C = 200\\Omega \\quad\\quad\\text{and}\\quad\\quad \\varphi_C = -90^\\circ$$"
   ]
  },
  {
   "cell_type": "markdown",
   "id": "6e3e8889",
   "metadata": {},
   "source": [
    "$$ Z_C(j\\omega) = -jX_C = 200\\Omega\\,\\angle\\!-\\!90^\\circ$$"
   ]
  },
  {
   "cell_type": "markdown",
   "id": "abe698fd",
   "metadata": {},
   "source": [
    "Finally,  \n",
    "\n",
    "$$ C = \\frac{1}{\\omega Z_C} = 10\\mu\\mathrm{F}$$"
   ]
  },
  {
   "cell_type": "markdown",
   "id": "a48f14fd",
   "metadata": {},
   "source": [
    "#### Problem 2\n",
    "2. Find the real power absorbed by the subcircuit:  $U(j\\omega) = 20\\mathrm{V}\\,\\angle45^\\circ$, $|X_C|=X_C=X_L=R=10\\Omega$.  \n",
    "\n",
    "![Fig-P.4.3.2](Figures/Fig-P.4.3.2.png)"
   ]
  },
  {
   "cell_type": "markdown",
   "id": "24a39fcb",
   "metadata": {},
   "source": [
    "$$ U(j\\omega) = Z(j\\omega)I(j\\omega) \\quad\\quad\\text{where }\\; Z(j\\omega) = Z_C(j\\omega) + Z_2(j\\omega)$$"
   ]
  },
  {
   "cell_type": "markdown",
   "id": "a90404f0",
   "metadata": {},
   "source": [
    "and,\n",
    "$$ Z_2(j\\omega) = \\frac{1}{A_2(j\\omega)} \\quad\\quad\\text{and}\\quad\\quad A_2(j\\omega) = \\frac{1}{R} - j\\frac{1}{X_L} = \\frac{1}{10\\Omega} (1-j) = \\frac{1}{5\\sqrt{2}\\Omega}\\,\\angle\\!-\\!45^\\circ $$"
   ]
  },
  {
   "cell_type": "markdown",
   "id": "2ac23073",
   "metadata": {},
   "source": [
    "$$ Z_2(j\\omega) = 5\\sqrt{2}\\Omega\\,\\angle45^\\circ = 5\\Omega\\,(1+j)$$"
   ]
  },
  {
   "cell_type": "markdown",
   "id": "f2de20ba",
   "metadata": {},
   "source": [
    "$$ Z(j\\omega) = 5\\Omega\\,(1-j) = 5\\sqrt{2}\\Omega\\,\\angle\\!-\\!45^\\circ$$"
   ]
  },
  {
   "cell_type": "markdown",
   "id": "421d603a",
   "metadata": {},
   "source": [
    "$$ I(j\\omega) = 2\\sqrt{2}\\mathrm{A}\\,\\angle90^\\circ$$"
   ]
  },
  {
   "cell_type": "markdown",
   "id": "c926a464",
   "metadata": {},
   "source": [
    "Finally,  \n",
    "\n",
    "$$ P = UI\\cos\\varphi = 40\\mathrm{W}$$"
   ]
  },
  {
   "cell_type": "markdown",
   "id": "2e214ae9",
   "metadata": {},
   "source": [
    "#### Problem 3\n",
    "3. The parallel LC circuit voltage is $u=U_\\mathrm{m}\\sin\\omega t$ . Sketch (on one drawing) the instantaneous power of $L$ and $C$, for $X_L = |X_C| = X_C$."
   ]
  },
  {
   "cell_type": "markdown",
   "id": "6b6a94b7",
   "metadata": {},
   "source": [
    "$$ U(j\\omega) = U = \\frac{U_\\mathrm{m}}{\\sqrt{2}} = Z_C(j\\omega)I_C(j\\omega) = Z_L(j\\omega)I_L(j\\omega)$$"
   ]
  },
  {
   "cell_type": "markdown",
   "id": "6752414d",
   "metadata": {},
   "source": [
    "$$ Z_C(j\\omega) = -jX_C = -jX_L \\quad\\quad\\text{and}\\quad\\quad Z_L(j\\omega) = jX_L$$"
   ]
  },
  {
   "cell_type": "markdown",
   "id": "7d357550",
   "metadata": {},
   "source": [
    "$$ I_C(j\\omega) = \\frac{U}{X_L}\\,\\angle90^\\circ \\quad\\quad\\hat{=}\\quad\\quad i_C = i_C(t) = \\frac{U_\\mathrm{m}}{\\omega L}\\,\\sin\\big(\\omega t + 90^\\circ\\big)$$"
   ]
  },
  {
   "cell_type": "markdown",
   "id": "026ed9bc",
   "metadata": {},
   "source": [
    "\\begin{equation}\\tag{3.1}\n",
    "    p_C = p_C(t) = ui_C = \\frac{U_\\mathrm{m}^2}{\\omega L}\\,\\sin\\omega t \\cos\\omega t = \\frac{U_\\mathrm{m}^2}{2\\omega L}\\,\\sin2\\omega t\n",
    "\\end{equation}    "
   ]
  },
  {
   "cell_type": "markdown",
   "id": "4410dfba",
   "metadata": {},
   "source": [
    "$$ I_L(j\\omega) = \\frac{U}{X_L}\\,\\angle\\!-\\!90^\\circ \\quad\\quad\\hat{=}\\quad\\quad i_L = i_L(t) = \\frac{U_\\mathrm{m}}{\\omega L}\\,\\sin\\big(\\omega t - 90^\\circ\\big)$$"
   ]
  },
  {
   "cell_type": "markdown",
   "id": "785b7ada",
   "metadata": {},
   "source": [
    "\\begin{equation}\\tag{3.2}\n",
    "    p_L = p_L(t) = ui_L = -p_C\n",
    "\\end{equation}    "
   ]
  },
  {
   "cell_type": "markdown",
   "id": "f342a69c",
   "metadata": {},
   "source": [
    "#### Problem 4\n",
    "4. The series LC circuit current is $i=I_\\mathrm{m}\\sin\\omega t$. Sketch (on one drawing) the instantaneous power of $L$ and $C$, for $X_L = |X_C|=X_C$."
   ]
  },
  {
   "cell_type": "markdown",
   "id": "638f167c",
   "metadata": {},
   "source": [
    "$$ I(j\\omega) = I = \\frac{I_\\mathrm{m}}{\\sqrt{2}}\\quad\\quad U_L(j\\omega) = jX_LI = -U_C(j\\omega)$$"
   ]
  },
  {
   "cell_type": "markdown",
   "id": "2023f349",
   "metadata": {},
   "source": [
    "$$  U_C(j\\omega) = -jX_LI \\quad\\quad \\hat{=}\\quad\\quad u_C=u_C(t) = \\omega L I_\\mathrm{m}\\sin\\big(\\omega t - 90^\\circ\\big)$$"
   ]
  },
  {
   "cell_type": "markdown",
   "id": "7a539b88",
   "metadata": {},
   "source": [
    "\\begin{equation}\\tag{4.1}\n",
    "    p_C = p_C(t) = u_Ci = -0.5\\omega L I_\\mathrm{m}^2\\sin2\\omega t\n",
    "\\end{equation}    "
   ]
  },
  {
   "cell_type": "markdown",
   "id": "75617d5f",
   "metadata": {},
   "source": [
    "$$ p_L = p_L(t) = -p_C$$"
   ]
  },
  {
   "cell_type": "markdown",
   "id": "0dd7b085",
   "metadata": {},
   "source": [
    "#### Problem 5\n",
    "5. The current $i=10\\sqrt{2}\\mathrm{mA}\\,\\sin\\big(314t + 45^\\circ\\big)$ flows through a $Z(j\\omega)=(3+j4)\\mathrm{k}\\Omega$ load. What real, apparent and reactive power is absorbed by the load? What energy is dissipated in one period?"
   ]
  },
  {
   "cell_type": "markdown",
   "id": "6c3b10ee",
   "metadata": {},
   "source": [
    "$$ I(j\\omega) = I\\,\\angle45^\\circ = 10\\mathrm{mA}\\,\\angle45^\\circ \\quad \\quad\\text{and}\\quad\\quad Z(j\\omega) = 5000\\Omega\\,\\angle \\arcsin \\frac{4}{5} = Z\\,\\angle\\varphi$$"
   ]
  },
  {
   "cell_type": "markdown",
   "id": "330003f0",
   "metadata": {},
   "source": [
    "$$ U = 10\\mathrm{mA}\\cdot 5000\\Omega = 50\\mathrm{V}$$"
   ]
  },
  {
   "cell_type": "code",
   "execution_count": 20,
   "id": "39b7d5ba",
   "metadata": {},
   "outputs": [
    {
     "data": {
      "text/plain": [
       "53.13010235415599"
      ]
     },
     "execution_count": 20,
     "metadata": {},
     "output_type": "execute_result"
    }
   ],
   "source": [
    "varphi = np.degrees(np.arcsin(4/5))\n",
    "varphi"
   ]
  },
  {
   "cell_type": "markdown",
   "id": "8a89e1c4",
   "metadata": {},
   "source": [
    "$$ P = I^2R = UI\\cos\\varphi = 0.3\\mathrm{W}$$"
   ]
  },
  {
   "cell_type": "markdown",
   "id": "31e77cd6",
   "metadata": {},
   "source": [
    "$$ S = UI = 50\\mathrm{V}\\cdot 10\\mathrm{mA} = 0.5\\mathrm{W}$$"
   ]
  },
  {
   "cell_type": "markdown",
   "id": "0c4c92cf",
   "metadata": {},
   "source": [
    "$$ Q = I^2X = UI\\sin\\varphi=0.4\\mathrm{W}$$"
   ]
  },
  {
   "cell_type": "markdown",
   "id": "a06f8720",
   "metadata": {},
   "source": [
    "The energy dissipated in one period, denoted as '$W_T$', is given by:  \n",
    "\n",
    "$$ W_T = P\\cdot T = 0.3\\mathrm{W} \\cdot \\frac{2\\pi}{314\\mathrm{rad}}\\,\\mathrm{s} = 6\\mathrm{mJ}$$"
   ]
  },
  {
   "cell_type": "code",
   "execution_count": 21,
   "id": "c3c30c1b",
   "metadata": {},
   "outputs": [
    {
     "data": {
      "text/plain": [
       "0.3"
      ]
     },
     "execution_count": 21,
     "metadata": {},
     "output_type": "execute_result"
    }
   ],
   "source": [
    "I = 10e-3; R = 3000\n",
    "R*I**2"
   ]
  },
  {
   "cell_type": "code",
   "execution_count": 22,
   "id": "96c3afca",
   "metadata": {},
   "outputs": [
    {
     "data": {
      "text/plain": [
       "0.4"
      ]
     },
     "execution_count": 22,
     "metadata": {},
     "output_type": "execute_result"
    }
   ],
   "source": [
    "4000*I**2"
   ]
  },
  {
   "cell_type": "code",
   "execution_count": 23,
   "id": "b8c6b3d4",
   "metadata": {},
   "outputs": [
    {
     "data": {
      "text/plain": [
       "0.006003043287114255"
      ]
     },
     "execution_count": 23,
     "metadata": {},
     "output_type": "execute_result"
    }
   ],
   "source": [
    "0.3*2*np.pi/314"
   ]
  },
  {
   "cell_type": "markdown",
   "id": "f5eba0c3",
   "metadata": {},
   "source": [
    "#### Problem 6\n",
    "6. The voltage across a $Z(j\\omega)=(3+j4)\\mathrm{k}\\Omega$ load is $u=10\\sqrt{2}\\mathrm{V}\\sin\\big(314t + 45^\\circ\\big)$. What real, apparent and reactive power is absorbed by the load? What energy is dissipated in one period?"
   ]
  },
  {
   "cell_type": "markdown",
   "id": "dddb6161",
   "metadata": {},
   "source": [
    "$$ U(j\\omega) = U\\,\\angle45^\\circ = 10\\mathrm{V}\\,\\angle45^\\circ \\quad\\quad\\text{and}\\quad\\quad Z(j\\omega) = Z\\angle\\varphi = 5000\\Omega\\,\\angle\\arcsin\\frac{4}{5}$$"
   ]
  },
  {
   "cell_type": "markdown",
   "id": "7bcc3d2d",
   "metadata": {},
   "source": [
    "$$ U\\,\\angle\\alpha_u = ZI\\,\\angle(\\varphi + \\alpha_i)$$"
   ]
  },
  {
   "cell_type": "markdown",
   "id": "c33fbdab",
   "metadata": {},
   "source": [
    "Dividing throughout by $Z\\,\\angle\\alpha_i$ gives:  \n",
    "\n",
    "$$ \\frac{U}{Z}\\,\\angle\\varphi = I\\,\\angle\\varphi \\implies U\\,\\angle\\varphi = IZ\\,\\angle\\varphi$$"
   ]
  },
  {
   "cell_type": "markdown",
   "id": "f77cb5ec",
   "metadata": {},
   "source": [
    "$$ U\\,\\big(\\cos\\varphi + j\\sin\\varphi\\big) = I(R + jX) \\quad \\implies \\quad U\\cos\\varphi = IR \\quad\\text{and}\\quad U\\sin\\varphi = IX$$"
   ]
  },
  {
   "cell_type": "markdown",
   "id": "6a540570",
   "metadata": {},
   "source": [
    "$$ I = \\frac{U}{Z} = 2\\mathrm{mA}$$"
   ]
  },
  {
   "cell_type": "markdown",
   "id": "d2012fe6",
   "metadata": {},
   "source": [
    "$$ P = UI\\cos\\varphi = UI\\frac{R}{Z} = \\frac{U}{Z}IR = I^2R = 12\\mathrm{mW} $$\n",
    "\n",
    "$$Q = UI\\sin\\varphi = UI\\frac{X}{Z} = \\frac{U}{Z}IX = I^2X = 16\\mathrm{mW} $$\n",
    "\n",
    "$$S = UI = \\frac{U^2}{Z} = 20\\mathrm{mW}$$"
   ]
  },
  {
   "cell_type": "markdown",
   "id": "6a81b711",
   "metadata": {},
   "source": [
    "$$ W_T = PT = I^2R\\cdot\\frac{2\\pi}{314\\mathrm{rad}}\\,\\mathrm{s} \\approxeq 240.12\\mu\\mathrm{J}$$"
   ]
  },
  {
   "cell_type": "code",
   "execution_count": 32,
   "id": "bd471404",
   "metadata": {},
   "outputs": [
    {
     "data": {
      "text/plain": [
       "0.0002401217314845702"
      ]
     },
     "execution_count": 32,
     "metadata": {},
     "output_type": "execute_result"
    }
   ],
   "source": [
    "W_T"
   ]
  },
  {
   "cell_type": "code",
   "execution_count": 29,
   "id": "5e9c4b99",
   "metadata": {},
   "outputs": [
    {
     "data": {
      "text/plain": [
       "0.012"
      ]
     },
     "execution_count": 29,
     "metadata": {},
     "output_type": "execute_result"
    }
   ],
   "source": [
    "U = 10; R = 3000; X = 4000; I = 2e-3\n",
    "P = I**2*R\n",
    "P"
   ]
  },
  {
   "cell_type": "code",
   "execution_count": 30,
   "id": "b885f9db",
   "metadata": {},
   "outputs": [
    {
     "data": {
      "text/plain": [
       "0.016"
      ]
     },
     "execution_count": 30,
     "metadata": {},
     "output_type": "execute_result"
    }
   ],
   "source": [
    "Q = I**2*X\n",
    "Q"
   ]
  },
  {
   "cell_type": "code",
   "execution_count": 31,
   "id": "177573aa",
   "metadata": {},
   "outputs": [],
   "source": [
    "T = 2*np.pi/314\n",
    "W_T = P*T"
   ]
  },
  {
   "cell_type": "code",
   "execution_count": 27,
   "id": "cd1f937b",
   "metadata": {},
   "outputs": [
    {
     "data": {
      "text/plain": [
       "0.02"
      ]
     },
     "execution_count": 27,
     "metadata": {},
     "output_type": "execute_result"
    }
   ],
   "source": [
    "S = U**2/5000\n",
    "S"
   ]
  },
  {
   "cell_type": "markdown",
   "id": "8d83f897",
   "metadata": {},
   "source": [
    "#### Problem 7\n",
    "7. "
   ]
  }
 ],
 "metadata": {
  "kernelspec": {
   "display_name": "Python 3",
   "language": "python",
   "name": "python3"
  },
  "language_info": {
   "codemirror_mode": {
    "name": "ipython",
    "version": 3
   },
   "file_extension": ".py",
   "mimetype": "text/x-python",
   "name": "python",
   "nbconvert_exporter": "python",
   "pygments_lexer": "ipython3",
   "version": "3.8.10"
  }
 },
 "nbformat": 4,
 "nbformat_minor": 5
}
