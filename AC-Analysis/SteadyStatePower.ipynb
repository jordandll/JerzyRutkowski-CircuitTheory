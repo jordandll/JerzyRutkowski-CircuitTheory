{
 "cells": [
  {
   "cell_type": "markdown",
   "id": "70127c64",
   "metadata": {},
   "source": [
    "# AC Steady-State Power\n",
    "### *Chapter 4.3* -- AC Steady-State Analysis\n",
    "\n",
    "Few different measures of ac steady-state power are used, and they all are presented. The\n",
    "special attention is laid on the average power. Methods of its calculation and maximum power\n",
    "transfer condition are discussed."
   ]
  },
  {
   "cell_type": "markdown",
   "id": "e39c23d0",
   "metadata": {},
   "source": [
    "## Measures of Power\n",
    "### Instantaneous power\n",
    "In a linear circuit with periodic excitation, the steady-state currents and voltages are also\n",
    "periodic, each having identical period. Then, instantaneous power absorbed by two-terminal\n",
    "element (subcircuit) is also periodic. For the considered sinusoidal excitation, instantaneous\n",
    "power is also a sinusoid.  \n",
    "\n",
    "\\begin{equation}\\tag{1}\n",
    "    p = ui = U\\sqrt{2}\\sin\\big(\\omega t + \\alpha_u\\big)I\\sqrt{2}\\sin\\big(\\omega t - \\alpha_i\\big) = UI\\cos\\big(\\alpha_u+\\alpha_i\\big) - UI\\cos\\big(2\\omega t + \\alpha_u + \\alpha_i\\big)\n",
    "\\end{equation}    "
   ]
  },
  {
   "cell_type": "markdown",
   "id": "232941f4",
   "metadata": {},
   "source": [
    "Proof for equation (1):  \n",
    "\n",
    "$$ p = 2UI\\big(\\sin\\omega t\\cos\\alpha_u + \\cos\\omega t\\sin\\alpha_u \\big)\\big(\\sin\\omega t \\cos\\alpha_i + \\cos\\omega t \\sin \\alpha_i\\big)$$"
   ]
  },
  {
   "cell_type": "markdown",
   "id": "486f530f",
   "metadata": {},
   "source": [
    "$$ = 2UI\\big(\\sin^2\\omega t\\cos\\alpha_u\\cos\\alpha_i + 0.5\\sin2\\omega t \\cos\\alpha_u\\sin\\alpha_i + 0.5\\sin2\\omega t \\sin\\alpha_u\\cos\\alpha_i + \\cos^2\\omega t\\sin\\alpha_u\\sin\\alpha_i\\big)$$"
   ]
  },
  {
   "cell_type": "markdown",
   "id": "ddee3a4f",
   "metadata": {},
   "source": [
    "$$ = 2UI\\big(\\sin^2\\omega t \\cos\\alpha_u\\cos\\alpha_i + 0.5\\sin2\\omega t(\\cos\\alpha_u\\sin\\alpha_i + \\sin\\alpha_u\\cos\\alpha_i) + \\cos^2\\omega t\\sin\\alpha_u\\sin\\alpha_i\\big)$$"
   ]
  },
  {
   "cell_type": "markdown",
   "id": "1470067a",
   "metadata": {},
   "source": [
    "$$ = 2UI\\big(\\sin^2\\omega t\\cos\\alpha_u\\cos\\alpha_i + 0.5\\sin2\\omega t\\sin(\\alpha_u+\\alpha_i) + \\cos^2\\omega t \\sin\\alpha_u\\sin\\alpha_i\\big)$$"
   ]
  },
  {
   "cell_type": "markdown",
   "id": "9440c0ac",
   "metadata": {},
   "source": [
    "$$ = 2UI\\big(0.5\\cos2\\omega t(\\sin\\alpha_u\\sin\\alpha_i - \\cos\\alpha_u\\cos\\alpha_i) + 0.5(\\sin\\alpha_u\\sin\\alpha_i + \\cos\\alpha_u\\cos\\alpha_i) + 0.5\\sin2\\omega t\\sin(\\alpha_u + \\alpha_i)\\big)$$"
   ]
  },
  {
   "cell_type": "markdown",
   "id": "2f8d3f50",
   "metadata": {},
   "source": [
    "$$ =2UI\\big(0.5\\cos2\\omega t\\sin(\\alpha_u + \\alpha_i - 0.5\\pi) + 0.5\\sin2\\omega t\\sin(\\alpha_u + \\alpha_i) + 0.5(\\sin\\alpha_u\\sin\\alpha_i + \\cos\\alpha_u\\cos\\alpha_i\\big)$$"
   ]
  },
  {
   "cell_type": "markdown",
   "id": "87416cc4",
   "metadata": {},
   "source": [
    "$$ =2UI\\big(0.5\\sin2\\omega t\\sin(\\alpha_u+\\alpha_i) - 0.5\\cos2\\omega t\\cos(\\alpha_u+\\alpha_i) + 0.5(\\sin\\alpha_u\\sin\\alpha_i + \\cos\\alpha_u\\cos\\alpha_i\\big)$$"
   ]
  },
  {
   "cell_type": "markdown",
   "id": "897e100c",
   "metadata": {},
   "source": [
    "$$ UI\\Big(\\sin\\alpha_u\\sin\\alpha_i + \\cos\\alpha_u\\cos\\alpha_i -\\big(\\cos2\\omega t\\cos(\\alpha_u+\\alpha_i) - \\sin2\\omega t\\sin(\\alpha_u+\\alpha_i) \\big) \\Big)$$"
   ]
  },
  {
   "cell_type": "markdown",
   "id": "4edaac30",
   "metadata": {},
   "source": [
    "$$ = UI\\Big(\\cos(\\alpha_u-\\alpha_i) + \\sin(2\\omega t + \\alpha_u + \\alpha_i - 0.5\\pi)\\Big)$$"
   ]
  },
  {
   "cell_type": "markdown",
   "id": "34483ca4",
   "metadata": {},
   "source": [
    "$$ = UI\\big(\\cos(\\alpha_u-\\alpha_i) - \\cos(2\\omega t +\\alpha_u + \\alpha_i)\\big) $$"
   ]
  },
  {
   "cell_type": "markdown",
   "id": "81e6ef1f",
   "metadata": {},
   "source": [
    "Let $f(\\theta):=\\sin^2\\theta$.  \n",
    "\n",
    "$$ f'(\\theta) = 2\\sin\\theta \\cos\\theta = \\sin2\\theta$$"
   ]
  },
  {
   "cell_type": "markdown",
   "id": "298b9940",
   "metadata": {},
   "source": [
    "$$ g(\\theta) := \\int \\sin2\\theta\\,\\mathrm{d}\\theta = -0.5\\cos2\\theta + c$$"
   ]
  },
  {
   "cell_type": "markdown",
   "id": "253aec75",
   "metadata": {},
   "source": [
    "\\begin{equation}\\tag{P1.1}\n",
    "    \\sin^2\\theta = 0.5\\big(1-\\cos2\\theta\\big)\n",
    "\\end{equation}    "
   ]
  },
  {
   "cell_type": "markdown",
   "id": "ee6899fc",
   "metadata": {},
   "source": [
    "Now let $f(\\theta):=\\cos^2\\theta$.  \n",
    "\n",
    "$$ f'(\\theta) = -\\sin2\\theta$$"
   ]
  },
  {
   "cell_type": "markdown",
   "id": "ec3c0ee0",
   "metadata": {},
   "source": [
    "$$ g(\\theta) := -\\int\\sin2\\theta\\,\\mathrm{d}\\theta = 0.5\\cos2\\theta + c$$"
   ]
  },
  {
   "cell_type": "markdown",
   "id": "b44e61d4",
   "metadata": {},
   "source": [
    "\\begin{equation}\\tag{P1.2}\n",
    "    \\cos^2\\theta = 0.5\\big(\\cos2\\theta + 1\\big)\n",
    "\\end{equation}    "
   ]
  },
  {
   "cell_type": "markdown",
   "id": "8b51ff0a",
   "metadata": {},
   "source": [
    "The first term in this equation is independent of time, the second term varies periodically over\n",
    "time at twice the angular frequency. Proper operation of electrical devices limits the\n",
    "maximum instantaneous power. This power, the so called **peak power**, is a commonly used\n",
    "specification for characterizing elements or devices.  \n",
    "\n",
    "\\begin{equation}\\tag{1a}\n",
    "    P_\\mathrm{peak} = UI\\cos(\\alpha_u-\\alpha_i) + UI\n",
    "\\end{equation}    "
   ]
  },
  {
   "cell_type": "markdown",
   "id": "ffc9a418",
   "metadata": {},
   "source": [
    "### Average or Real Power\n",
    "Mathematically, the first term of instantaneous power is its average value. This term is called\n",
    "the average power or real power, henceforth '$P$', and it represents the power delivered by a source or\n",
    "absorbed by a two-terminal element or device (subcircuit).  \n",
    "\n",
    "\\begin{equation}\\tag{2}\n",
    "    P = \\frac{1}{T}\\,\\int_{t_0}^{t_0+T} p\\,\\mathrm{d}t = UI\\cos(\\alpha_u-\\alpha_i) = UI\\cos\\varphi\n",
    "\\end{equation}    "
   ]
  },
  {
   "cell_type": "markdown",
   "id": "f4bde3cd",
   "metadata": {},
   "source": [
    "$$ f(t):= \\int p\\,\\mathrm{d}t = tUI\\cos\\varphi - \\frac{UI}{2\\omega}\\,\\sin\\big(2\\omega t + \\alpha_u + \\alpha_i\\big)$$"
   ]
  },
  {
   "cell_type": "markdown",
   "id": "6e76eeee",
   "metadata": {},
   "source": [
    "$$ f(t_0+T) - f(t_0) = TUI\\cos\\varphi $$"
   ]
  },
  {
   "cell_type": "markdown",
   "id": "f16b2d1f",
   "metadata": {},
   "source": [
    "The average power, in watts $[\\mathrm{W}]$, is always nonnegative and satisfies the power balance\n",
    "principle. It is the product of the RMS voltage, the RMS current and the cosine of the angle\n",
    "between them. This cosine is called the **power factor**, $\\mathrm{pf}$.  \n",
    "\n",
    "\\begin{equation}\\tag{2a}\n",
    "    \\mathrm{pf} = \\cos(\\alpha_u - \\alpha_i) = \\cos\\varphi\n",
    "\\end{equation}    "
   ]
  },
  {
   "cell_type": "markdown",
   "id": "18039929",
   "metadata": {},
   "source": [
    "If said two-terminal element is a resistor, then $\\varphi=0$, and thus the power factor is $\\mathrm{pf}=\\cos0 = 1$.  \n",
    "\n",
    "\\begin{equation}\\tag{2b}\n",
    "    P_R = UI = I^2R = \\frac{U^2}{R}\n",
    "\\end{equation}    "
   ]
  },
  {
   "cell_type": "markdown",
   "id": "9310d0c4",
   "metadata": {},
   "source": [
    "If said two-terminal element is a capacitor or coil then $\\varphi=-90^\\circ$ or $\\varphi=90^\\circ$ and thus the power factor is $\\mathrm{pf}=0$.  Consequently, the real power of a capacitor or coil is equal to zero."
   ]
  },
  {
   "cell_type": "markdown",
   "id": "6f84a876",
   "metadata": {},
   "source": [
    "\\begin{equation}\\tag{2c}\n",
    "    P_C = P_L = 0\n",
    "\\end{equation}    "
   ]
  },
  {
   "cell_type": "markdown",
   "id": "8dc31068",
   "metadata": {},
   "source": [
    "In identifying a load character, the pf is characterized as leading or lagging by the phase of\n",
    "current with respect to that of the voltage. Then, a capacitive load has a leading $\\mathrm{pf}$ and an\n",
    "inductive load has a lagging $\\mathrm{pf}$.  \n",
    "\n",
    "\n",
    "The average power designates the energy absorbed by two-terminal element or subcircuit. The\n",
    "energy absorbed in time interval $t=0$ from to $t=nT$ , where $n$ is a positive integer, is\n",
    "designated by the following equation:  \n",
    "\n",
    "\\begin{equation}\\tag{3}\n",
    "    W_{nT} = \\int_0^{nT} p\\,\\mathrm{d}t = \\int_0^{nT}P\\,\\mathrm{d}t \\;-\\; \\int_0^{nT}UI\\cos(\\omega t + \\alpha_u + \\alpha_i) = nTP\n",
    "\\end{equation}    "
   ]
  },
  {
   "cell_type": "markdown",
   "id": "c421c016",
   "metadata": {},
   "source": [
    "Consider the circuit of Fig. 4.3.1, consisting of a practical source (sinusoidal generator),\n",
    "modeled by the Thevenin equivalent, connected to a load subcircuit.  \n",
    "\n",
    "![Fig-4.3.1](Figures/Fig-4.3.1.png)"
   ]
  },
  {
   "cell_type": "markdown",
   "id": "316952fc",
   "metadata": {},
   "source": [
    "The real power transferred from the generator to the load can be designated in three different\n",
    "ways.\n",
    "1. Phasors $U(j\\omega)$ and $I(j\\omega)$ are designated at first, then equation (4.3.2) is utilized to find the real power transferred.\n",
    "2. Effective currents of load resistors are calculated at first. Then, the power balance principle (4.3.4) is utilized, where $N$ is number of load resistors.  \n",
    "\n",
    "\\begin{equation}\\tag{4}\n",
    "    P = \\sum_{i=1}^N P_i = \\sum_{i=1}^N I_i^2R_i\n",
    "\\end{equation}    \n",
    "\n",
    "3. The effective current $I$ and the equivalent series resistance of the load $R_\\mathrm{l}$ are calculated at first, then the real power transferred is designated from equation (4.3.2b)."
   ]
  },
  {
   "cell_type": "markdown",
   "id": "1a06764e",
   "metadata": {},
   "source": [
    "### Example 4.3.1\n",
    "Find the real power transferred to the subcircuit presented in Fig. 4.2.11, if the voltage on its\n",
    "terminals is $U(j\\omega)=10\\mathrm{V}$.  \n",
    "\n",
    "![Fig-4.2.11](Figures/Fig-4.2.11.png)"
   ]
  },
  {
   "cell_type": "markdown",
   "id": "ee3787fc",
   "metadata": {},
   "source": [
    "$$ I = \\frac{U}{Z} \\quad\\quad\\text{where }\\;Z(j\\omega) = Z\\,\\angle\\alpha_z \\quad\\quad\\text{and}\\quad\\quad \\varphi=\\alpha_u-\\alpha_i = -\\alpha_i = -\\alpha_z$$"
   ]
  },
  {
   "cell_type": "markdown",
   "id": "2e09e98a",
   "metadata": {},
   "source": [
    "$$ Z(j\\omega) = R_1 + jX_L + Z_2(j\\omega) \\quad\\quad \\text{where }\\; A_2(j\\omega) =G_2 + j\\frac{1}{X_C} = \\frac{X_C + jR_2}{R_2X_C} $$"
   ]
  },
  {
   "cell_type": "markdown",
   "id": "b1e302bf",
   "metadata": {},
   "source": [
    "$$ Z_2(j\\omega) = Z_2\\,\\angle \\alpha_{z2} \\quad\\quad\\text{where }\\;Z_2 = \\frac{R_2X_C}{\\sqrt{X_C^2+R_2^2}} \\quad\\text{and}\\quad \\alpha_{z2} = -\\arcsin \\frac{R_2}{\\sqrt{X_C^2+R_2^2}}$$"
   ]
  },
  {
   "cell_type": "markdown",
   "id": "1ba3c464",
   "metadata": {},
   "source": [
    "$$ Z_2(j\\omega) = \\frac{R_2X_C}{X_C^2+R_2^2}\\,\\big(X_C - jR_2\\big)$$"
   ]
  },
  {
   "cell_type": "markdown",
   "id": "b45b7691",
   "metadata": {},
   "source": [
    "$$Z(j\\omega) = R_1 + \\frac{R_2X_C^2}{X_C^2+R_2^2} + j\\left(X_L - \\frac{R_2^2X_C}{X_C^2+R_2^2}\\right) $$"
   ]
  },
  {
   "cell_type": "markdown",
   "id": "1edfcf97",
   "metadata": {},
   "source": [
    "$$ = \\frac{R_1\\big(X_C^2+R_2^2\\big) + R_2X_C^2 + j\\Big(X_L\\big(X_C^2+R_2^2 \\big) - R_2^2X_C \\Big)}{X_C^2 + R_2^2}$$"
   ]
  },
  {
   "cell_type": "markdown",
   "id": "3091630c",
   "metadata": {},
   "source": [
    "$$Z(j\\omega) = 10+10j = 10\\sqrt{2}\\,\\angle45^\\circ \\implies I=\\frac{1}{\\sqrt{2}}\\,\\mathrm{A} \\quad\\text{and}\\quad \\varphi = -45^\\circ$$"
   ]
  },
  {
   "cell_type": "markdown",
   "id": "b164b5e6",
   "metadata": {},
   "source": [
    "$$ P = UI\\cos45^\\circ = 5\\mathrm{W}$$"
   ]
  },
  {
   "cell_type": "markdown",
   "id": "7aee5eae",
   "metadata": {},
   "source": [
    "### Apparent Power\n",
    "For the given line voltage , the real power consumed by the load is strongly related to\n",
    "its power factor. It may vary from $0$ to the maximum of $S$, the apparent power.  \n",
    "\n",
    "\\begin{equation}\\tag{8}\n",
    "    S = P_{\\big | \\varphi=0} = UI\n",
    "\\end{equation}    "
   ]
  },
  {
   "cell_type": "markdown",
   "id": "973f7eea",
   "metadata": {},
   "source": [
    "This product is called the apparent power. To avoid confusing with the unit of average power,\n",
    "the watt, the apparent power unit is volt-ampere $[\\mathrm{VA}]$ and obviously, the apparent power\n",
    "does not satisfy the power balance principle. It simply defines the maximum capacity of a\n",
    "source (power plant).  \n",
    "\n",
    "The power factor of a load has a very important practical meaning. Power company is very\n",
    "interested in having customer keep this factor as close to unity as possible, to minimize the\n",
    "power line losses.  \n",
    "\n",
    "\\begin{equation}\\tag{9}\n",
    "    P_\\mathrm{line} = I^2R_\\mathrm{line}\n",
    "\\end{equation}    \n"
   ]
  },
  {
   "cell_type": "markdown",
   "id": "f944eb08",
   "metadata": {},
   "source": [
    "This principle is demonstrated in the next example."
   ]
  },
  {
   "cell_type": "markdown",
   "id": "74114d44",
   "metadata": {},
   "source": [
    "### Example 4.3.2\n",
    "Suppose, that a mill consumes $P=1\\mathrm{kW}$ from a $200 \\mathrm{V}$ line at a lagging power factor of $\\mathrm{pf}=\\cos60^\\circ = 0.5$.  Then, the required current is:  \n",
    "\n",
    "\\begin{equation}\\tag{10}\n",
    "    I = \\frac{P}{U\\cos60^\\circ} = \\frac{1000\\mathrm{W}}{100\\mathrm{V}} = 10\\mathrm{A}\n",
    "\\end{equation}    "
   ]
  },
  {
   "cell_type": "markdown",
   "id": "f76c7387",
   "metadata": {},
   "source": [
    "If the power factor was at unity $\\mathrm{pf}=1$, then the current would only be at $5\\mathrm{A}$.  As can be seen, the power plant must generate a larger current in the case of lower pf and it causes larger line losses. For instance, if the transmission line resistance is $R_\\mathrm{line}=5\\Omega$, then the difference in power is $500\\mathrm{W}$ to $125\\mathrm{W}$."
   ]
  },
  {
   "cell_type": "code",
   "execution_count": 28,
   "id": "f43f7991",
   "metadata": {},
   "outputs": [
    {
     "data": {
      "text/plain": [
       "4.0"
      ]
     },
     "execution_count": 28,
     "metadata": {},
     "output_type": "execute_result"
    }
   ],
   "source": [
    "500/125"
   ]
  },
  {
   "cell_type": "markdown",
   "id": "788d71ab",
   "metadata": {},
   "source": [
    "Most industrial and many residential loads are inductive (lagging power factor). Although it is\n",
    "not possible to change the inductive nature of a load itself, it is possible to connect a capacitive load in parallel with this load, and correct the power factor to unity that way. The circuit for power factor correction is presented in Fig. 4.3.2, together with the phasor diagram.  \n",
    "\n",
    "![Fig-4.3.2](Figures/Fig-4.3.2.png)"
   ]
  },
  {
   "cell_type": "markdown",
   "id": "fd58992a",
   "metadata": {},
   "source": [
    "### Example 4.3.3\n",
    "A load operating at a lagging power factor of $\\mathrm{pf}=\\cos45^\\circ=1/\\sqrt{2}$ dissipates $2 \\mathrm{kW}$ when connected to a $220 \\mathrm{V}$, $50 \\mathrm{Hz}$ power line. What value of capacitance is needed to correct the power factor to unity?"
   ]
  },
  {
   "cell_type": "markdown",
   "id": "5a808cf3",
   "metadata": {},
   "source": [
    "$$ U = 220\\mathrm{V} \\quad\\quad \\omega = 100\\pi\\,\\mathrm{rad}/\\mathrm{s} \\quad\\quad I = \\frac{2000\\mathrm{W}}{110\\sqrt{2}\\mathrm{V}} = \\frac{1000\\sqrt{2}}{110}\\,\\mathrm{A} \\quad\\varphi=\\alpha_u - \\alpha_i = 45^\\circ$$"
   ]
  },
  {
   "cell_type": "markdown",
   "id": "782e41e6",
   "metadata": {},
   "source": [
    "$$ I(j\\omega) = I\\,\\big(\\cos\\varphi - j\\sin\\varphi\\big)$$"
   ]
  },
  {
   "cell_type": "markdown",
   "id": "dda4baaf",
   "metadata": {},
   "source": [
    "$$ I\\sin\\varphi = \\frac{1000}{110}\\,\\mathrm{A} = \\frac{220\\mathrm{V}}{X_C}$$"
   ]
  },
  {
   "cell_type": "markdown",
   "id": "b3da7533",
   "metadata": {},
   "source": [
    "$$ X_C = \\frac{1}{\\omega C} = \\frac{220\\cdot110}{1000}\\,\\Omega$$"
   ]
  },
  {
   "cell_type": "markdown",
   "id": "5c094b34",
   "metadata": {},
   "source": [
    "$$ C = \\frac{1000}{220\\cdot110\\cdot 100\\pi}\\,\\mathrm{F}$$"
   ]
  },
  {
   "cell_type": "code",
   "execution_count": 29,
   "id": "dd6ae966",
   "metadata": {},
   "outputs": [],
   "source": [
    "import numpy as np"
   ]
  },
  {
   "cell_type": "code",
   "execution_count": 30,
   "id": "065a3df1",
   "metadata": {},
   "outputs": [
    {
     "data": {
      "text/plain": [
       "0.00013153301081974823"
      ]
     },
     "execution_count": 30,
     "metadata": {},
     "output_type": "execute_result"
    }
   ],
   "source": [
    "1000/(220*100*110*np.pi)"
   ]
  },
  {
   "cell_type": "markdown",
   "id": "957b0add",
   "metadata": {},
   "source": [
    "### Reactive Power\n",
    "Energy storage elements, capacitors and coils, neither supply nor dissipate power on average,\n",
    "but rather exchange it back and forth with the rest of the circuit. To measure the amount of\n",
    "periodic energy exchange taking place between a given subcircuit and the rest of the circuit,\n",
    "reactive power $Q$ is introduced.  \n",
    "\n",
    "\\begin{equation}\\tag{11}\n",
    "    Q = UI\\sin\\varphi\n",
    "\\end{equation}    "
   ]
  },
  {
   "cell_type": "markdown",
   "id": "a41b63ec",
   "metadata": {},
   "source": [
    "The sign of $Q$ is positive for inductive loads and negative for capacitive ones. For the pure\n",
    "capacitive or pure inductive load, $Q=-UI$ or $Q=UI$ , respectively. For pure resistive load,\n",
    "$Q=0$.  \n",
    "\n",
    "The unit of reactive power is **var** or **volt-ampere reactive**, $[\\mathrm{VAr}]$. The reactive power satisfies the power balance principle."
   ]
  },
  {
   "cell_type": "markdown",
   "id": "a741ac64",
   "metadata": {},
   "source": [
    "### Example 4.3.1 – cont.\n",
    "Find the reactive power transferred to the subcircuit.  \n",
    "\n",
    "$$Q = UI\\sin45^\\circ = 5\\mathrm{VAr}$$"
   ]
  },
  {
   "cell_type": "markdown",
   "id": "188318c9",
   "metadata": {},
   "source": [
    "$$ Z(j\\omega) = 10(1+j)=10\\sqrt{2}\\angle45^\\circ \\quad\\quad\\text{and}\\quad\\quad I(j\\omega) = \\frac{1}{\\sqrt{2}}\\,\\angle\\!-\\!45^\\circ$$"
   ]
  },
  {
   "cell_type": "markdown",
   "id": "9b37c3ae",
   "metadata": {},
   "source": [
    "$$ U(j\\omega) = U\\angle\\alpha_u = IZ\\angle(\\alpha_z+\\alpha_i)= 10\\mathrm{V}\\,\\angle 0^\\circ = U$$"
   ]
  },
  {
   "cell_type": "markdown",
   "id": "08f24835",
   "metadata": {},
   "source": [
    "$$ Q = UI\\sin\\varphi = I^2Z\\sin45^\\circ = I^2X_L = 5\\mathrm{VAr}$$"
   ]
  },
  {
   "cell_type": "markdown",
   "id": "2666e6eb",
   "metadata": {},
   "source": [
    "### Complex Power\n",
    "To extend phasor analysis to the study of power in ac steady-state circuits, a new complex\n",
    "quantity, the complex power $S(j\\omega)$ is defined (4.3.14). For simplicity of description\n",
    "argument $\\omega$ is omitted at the right side of the equation.  \n",
    "\n",
    "\\begin{equation}\\tag{12}\n",
    "    S(j\\omega) = P + jQ = S\\angle\\varphi\n",
    "\\end{equation}    "
   ]
  },
  {
   "cell_type": "markdown",
   "id": "04d960a9",
   "metadata": {},
   "source": [
    "The real part of the complex power is the average power, the imaginary part is the reactive\n",
    "power, its modulus is the apparent power. Graphical interpretation in the complex plane is\n",
    "presented in Fig. 4.3.3, an inductive load is assumed. The complex power satisfies the power\n",
    "balance principle, as its both terms satisfy this principle.  \n",
    "\n",
    "![Fig-4.3.3](Figures/Fig-4.3.3.png)"
   ]
  },
  {
   "cell_type": "markdown",
   "id": "78c32b86",
   "metadata": {},
   "source": [
    "## Maximum Power Transfer\n",
    "Same as in DC circuits, when designing AC circuit, it is frequently desirable to arrange for the\n",
    "maximum real power transfer to the load from the rest of the circuit. The whole circuit is\n",
    "divided into two parts (Fig. 4.3.1):\n",
    "1. source, active subcircuit modeled by its Thevenin equivalent:  \n",
    "\n",
    "\\begin{equation}\\tag{15a}\n",
    "    E_\\mathrm{o}, Z_\\mathrm{t}(j\\omega) = R_\\mathrm{t} + jX_\\mathrm{t} = Z_\\mathrm{t}\\angle\\varphi_\\mathrm{t}\n",
    "\\end{equation}    "
   ]
  },
  {
   "cell_type": "markdown",
   "id": "c600e52d",
   "metadata": {},
   "source": [
    "2. load, passive subcircuit modeled by its impedance:  \n",
    "\n",
    "\\begin{equation}\\tag{15b}\n",
    "    Z_\\mathrm{l}(j\\omega) = R_\\mathrm{l} + jX_\\mathrm{l} = Z_\\mathrm{l}\\angle\\varphi_\\mathrm{l}\n",
    "\\end{equation}    "
   ]
  },
  {
   "cell_type": "markdown",
   "id": "79e6f9f8",
   "metadata": {},
   "source": [
    "Specifying $Z_\\mathrm{l}(j\\omega)$, so that the average power absorbed by this impedance from the given\n",
    "active subcircuit is a maximum, is the task. Power absorbed by the load is a function of two\n",
    "arguments, the real and imaginary compliments of $Z_\\mathrm{l}(j\\omega)$.  \n",
    "\n",
    "\\begin{equation}\\tag{16}\n",
    "    P = I^2R_\\mathrm{l} = \\left(\\frac{E_\\mathrm{o}}{\\sqrt{(R_\\mathrm{t}+R_\\mathrm{l})^2 + (X_\\mathrm{t}+X_\\mathrm{l})^2}} \\right)^2R_\\mathrm{l} := P(R_\\mathrm{l}, X_\\mathrm{l})\n",
    "\\end{equation}    "
   ]
  },
  {
   "cell_type": "markdown",
   "id": "ec2ffe14",
   "metadata": {},
   "source": [
    "The above function, the average or real power absorbed by the load as a function of the load resistance and reactance, with the source's characteristics being parameters of the function, is at it's maximum when:  \n",
    "\n",
    "\\begin{equation}\\tag{17}\n",
    "    \\text{a: }\\;\\frac{\\partial P}{\\partial R_\\mathrm{l}} = 0 \\quad\\quad \\text{and}\\quad\\quad \\text{b: }\\; \\frac{\\partial P}{\\partial X_\\mathrm{l}} = 0\n",
    "\\end{equation}    "
   ]
  },
  {
   "cell_type": "markdown",
   "id": "729fe17a",
   "metadata": {},
   "source": [
    "$$ I^2 - 2IR_\\mathrm{l}\\,\\frac{E_\\mathrm{o}(R_\\mathrm{t} + R_\\mathrm{l})}{\\sqrt{\\big((R_\\mathrm{t} + R_\\mathrm{l})^2 + (X_\\mathrm{t} + X_\\mathrm{l})^2 \\big)^3}} = 0$$"
   ]
  },
  {
   "cell_type": "markdown",
   "id": "023f4a12",
   "metadata": {},
   "source": [
    "$$ I = 2R_\\mathrm{l}E_\\mathrm{o}\\,\\frac{R_\\mathrm{l} + R_\\mathrm{t}}{\\sqrt{\\big( (R_\\mathrm{t} + R_\\mathrm{l})^2 + (X_\\mathrm{t} + X_\\mathrm{l})^2\\big)^3}}$$"
   ]
  },
  {
   "cell_type": "markdown",
   "id": "bd062756",
   "metadata": {},
   "source": [
    "$$ 0.5 = R_\\mathrm{l}\\,\\frac{R_\\mathrm{l} + R_\\mathrm{t}}{(R_\\mathrm{t} + R_\\mathrm{l})^2 + (X_\\mathrm{t} + X_\\mathrm{l})^2}$$"
   ]
  },
  {
   "cell_type": "markdown",
   "id": "3b2a860a",
   "metadata": {},
   "source": [
    "$$ 0.5\\big(R_\\mathrm{t}^2 + 2R_\\mathrm{t}R_\\mathrm{l} + R_\\mathrm{l}^2 + (X_\\mathrm{t} + X_\\mathrm{l})^2\\big) = R_\\mathrm{t}R_\\mathrm{l} + R_\\mathrm{l}^2$$"
   ]
  },
  {
   "cell_type": "markdown",
   "id": "a9f0ff50",
   "metadata": {},
   "source": [
    "$$ (X_\\mathrm{t} + X_\\mathrm{l})^2 + 0.5R_\\mathrm{t}^2= 0.5R_\\mathrm{l}^2 $$"
   ]
  },
  {
   "cell_type": "markdown",
   "id": "47ec77b5",
   "metadata": {},
   "source": [
    "\\begin{equation}\\tag{17a}\n",
    "     R_\\mathrm{l} = \\sqrt{2(X_\\mathrm{t}+X_\\mathrm{l})^2 + R_\\mathrm{t}^2}\n",
    "\\end{equation}    "
   ]
  },
  {
   "cell_type": "markdown",
   "id": "771ca64c",
   "metadata": {},
   "source": [
    "$$ -2R_\\mathrm{l}\\,\\frac{E_\\mathrm{o}^2(X_\\mathrm{l}+X_\\mathrm{t})}{\\big((R_\\mathrm{t} + R_\\mathrm{l})^2 + (X_\\mathrm{t} + X_\\mathrm{l})^2 \\big)^2} = 0$$"
   ]
  },
  {
   "cell_type": "markdown",
   "id": "7545ca1f",
   "metadata": {},
   "source": [
    "\\begin{equation}\\tag{17b}\n",
    "    X_\\mathrm{l} = -X_\\mathrm{t}\n",
    "\\end{equation}    "
   ]
  },
  {
   "cell_type": "markdown",
   "id": "105bca10",
   "metadata": {},
   "source": [
    "Via equations (17a,b),  \n",
    "\n",
    "\\begin{equation}\\tag{17c}\n",
    "    R_\\mathrm{l} = R_\\mathrm{t}\n",
    "\\end{equation}    "
   ]
  },
  {
   "cell_type": "markdown",
   "id": "a8054ae3",
   "metadata": {},
   "source": [
    "The maximum power is transferred to the load of $Z_\\mathrm{l}(j\\omega)$ from the source with Thevenin\n",
    "equivalent impedance of $Z_\\mathrm{t}(j\\omega)$, if these impedances are complex conjugates:  \n",
    "\n",
    "\\begin{equation}\\tag{18}\n",
    "    Z_\\mathrm{l}(j\\omega) = Z_\\mathrm{t}^*(j\\omega) \\quad\\quad\\hat{=}\\quad\\quad Z_\\mathrm{t} = Z_\\mathrm{l} \\quad\\text{and}\\quad \\varphi_\\mathrm{l} = -\\varphi_\\mathrm{t}\n",
    "\\end{equation}    "
   ]
  },
  {
   "cell_type": "markdown",
   "id": "8f4806c9",
   "metadata": {},
   "source": [
    "## Drill Problems\n",
    "#### Problem 1\n",
    "1. A load has the inductive impedance $Z(j\\omega)=(100+100j)\\Omega$.. Find the parallel impedance required to correct the power factor to $1.0$ for $\\omega=500\\,\\mathrm{rad}/\\mathrm{s}$."
   ]
  },
  {
   "cell_type": "markdown",
   "id": "67d933c0",
   "metadata": {},
   "source": [
    "$$ U(j\\omega) = Z(j\\omega)I_L(j\\omega) \\quad\\quad \\text{and}\\quad\\quad Z(j\\omega) = 100\\sqrt{2}\\Omega\\,\\angle45^\\circ = Z\\angle\\varphi_L$$"
   ]
  },
  {
   "cell_type": "markdown",
   "id": "5d021435",
   "metadata": {},
   "source": [
    "$$ I_L(j\\omega) = \\frac{U(j\\omega)}{Z(j\\omega)} = \\frac{U\\angle\\alpha_u}{Z\\angle\\varphi_L} = \\frac{U}{Z}\\,\\angle\\alpha_{iL} = \\frac{U}{100\\sqrt{2}\\Omega}\\,\\angle\\!-\\!45^\\circ$$"
   ]
  },
  {
   "cell_type": "markdown",
   "id": "27602358",
   "metadata": {},
   "source": [
    "The required parallel current is equal to the imaginary part of the complex conjugate of the current flowing through the inductive impedance.  \n",
    "\n",
    "$$ I_C(j\\omega) = j\\mathrm{Im}\\big(I_L(j\\omega)^*\\big) = j\\frac{U(j\\omega)}{Z}\\,\\sin45^\\circ = \\frac{U}{200\\Omega}\\,\\angle\\big(\\alpha_u+90^\\circ\\big)$$"
   ]
  },
  {
   "cell_type": "markdown",
   "id": "aebcf774",
   "metadata": {},
   "source": [
    "$$ I_C(j\\omega) = \\frac{U\\angle\\alpha_u}{Z_C(j\\omega)} = \\frac{U\\angle\\alpha_u}{Z_C\\angle\\varphi_C}$$"
   ]
  },
  {
   "cell_type": "markdown",
   "id": "934abfb7",
   "metadata": {},
   "source": [
    "Thus,\n",
    "$$ \\frac{U}{Z_C} = \\frac{U}{200\\Omega} \\quad\\quad\\text{and}\\quad\\quad \\alpha_u - \\varphi_C = \\alpha_u - \\alpha_u + \\alpha_{iC} = \\alpha_{iC} = \\alpha_u+90^\\circ$$"
   ]
  },
  {
   "cell_type": "markdown",
   "id": "2d6b9442",
   "metadata": {},
   "source": [
    "$$ Z_C = 200\\Omega \\quad\\quad\\text{and}\\quad\\quad \\varphi_C = -90^\\circ$$"
   ]
  },
  {
   "cell_type": "markdown",
   "id": "c85a3232",
   "metadata": {},
   "source": [
    "$$ Z_C(j\\omega) = -jX_C = 200\\Omega\\,\\angle\\!-\\!90^\\circ$$"
   ]
  },
  {
   "cell_type": "markdown",
   "id": "3def5fcc",
   "metadata": {},
   "source": [
    "Finally,  \n",
    "\n",
    "$$ C = \\frac{1}{\\omega Z_C} = 10\\mu\\mathrm{F}$$"
   ]
  },
  {
   "cell_type": "markdown",
   "id": "fb1eed95",
   "metadata": {},
   "source": [
    "#### Problem 2\n",
    "2. Find the real power absorbed by the subcircuit:  $U(j\\omega) = 20\\mathrm{V}\\,\\angle45^\\circ$, $|X_C|=X_C=X_L=R=10\\Omega$.  \n",
    "\n",
    "![Fig-P.4.3.2](Figures/Fig-P.4.3.2.png)"
   ]
  },
  {
   "cell_type": "markdown",
   "id": "130d8e79",
   "metadata": {},
   "source": [
    "$$ U(j\\omega) = Z(j\\omega)I(j\\omega) \\quad\\quad\\text{where }\\; Z(j\\omega) = Z_C(j\\omega) + Z_2(j\\omega)$$"
   ]
  },
  {
   "cell_type": "markdown",
   "id": "87557e64",
   "metadata": {},
   "source": [
    "and,\n",
    "$$ Z_2(j\\omega) = \\frac{1}{A_2(j\\omega)} \\quad\\quad\\text{and}\\quad\\quad A_2(j\\omega) = \\frac{1}{R} - j\\frac{1}{X_L} = \\frac{1}{10\\Omega} (1-j) = \\frac{1}{5\\sqrt{2}\\Omega}\\,\\angle\\!-\\!45^\\circ $$"
   ]
  },
  {
   "cell_type": "markdown",
   "id": "015ec402",
   "metadata": {},
   "source": [
    "$$ Z_2(j\\omega) = 5\\sqrt{2}\\Omega\\,\\angle45^\\circ = 5\\Omega\\,(1+j)$$"
   ]
  },
  {
   "cell_type": "markdown",
   "id": "c350a940",
   "metadata": {},
   "source": [
    "$$ Z(j\\omega) = 5\\Omega\\,(1-j) = 5\\sqrt{2}\\Omega\\,\\angle\\!-\\!45^\\circ$$"
   ]
  },
  {
   "cell_type": "markdown",
   "id": "211ee464",
   "metadata": {},
   "source": [
    "$$ I(j\\omega) = 2\\sqrt{2}\\mathrm{A}\\,\\angle90^\\circ$$"
   ]
  },
  {
   "cell_type": "markdown",
   "id": "229f4cd5",
   "metadata": {},
   "source": [
    "Finally,  \n",
    "\n",
    "$$ P = UI\\cos\\varphi = 40\\mathrm{W}$$"
   ]
  },
  {
   "cell_type": "markdown",
   "id": "5b484fd4",
   "metadata": {},
   "source": [
    "#### Problem 3\n",
    "3. The parallel LC circuit voltage is $u=U_\\mathrm{m}\\sin\\omega t$ . Sketch (on one drawing) the instantaneous power of $L$ and $C$, for $X_L = |X_C| = X_C$."
   ]
  },
  {
   "cell_type": "markdown",
   "id": "98505742",
   "metadata": {},
   "source": [
    "$$ U(j\\omega) = U = \\frac{U_\\mathrm{m}}{\\sqrt{2}} = Z_C(j\\omega)I_C(j\\omega) = Z_L(j\\omega)I_L(j\\omega)$$"
   ]
  },
  {
   "cell_type": "markdown",
   "id": "b205bbb2",
   "metadata": {},
   "source": [
    "$$ Z_C(j\\omega) = -jX_C = -jX_L \\quad\\quad\\text{and}\\quad\\quad Z_L(j\\omega) = jX_L$$"
   ]
  },
  {
   "cell_type": "markdown",
   "id": "dd121463",
   "metadata": {},
   "source": [
    "$$ I_C(j\\omega) = \\frac{U}{X_L}\\,\\angle90^\\circ \\quad\\quad\\hat{=}\\quad\\quad i_C = i_C(t) = \\frac{U_\\mathrm{m}}{\\omega L}\\,\\sin\\big(\\omega t + 90^\\circ\\big)$$"
   ]
  },
  {
   "cell_type": "markdown",
   "id": "d580248b",
   "metadata": {},
   "source": [
    "\\begin{equation}\\tag{3.1}\n",
    "    p_C = p_C(t) = ui_C = \\frac{U_\\mathrm{m}^2}{\\omega L}\\,\\sin\\omega t \\cos\\omega t = \\frac{U_\\mathrm{m}^2}{2\\omega L}\\,\\sin2\\omega t\n",
    "\\end{equation}    "
   ]
  },
  {
   "cell_type": "markdown",
   "id": "7b9af58c",
   "metadata": {},
   "source": [
    "$$ I_L(j\\omega) = \\frac{U}{X_L}\\,\\angle\\!-\\!90^\\circ \\quad\\quad\\hat{=}\\quad\\quad i_L = i_L(t) = \\frac{U_\\mathrm{m}}{\\omega L}\\,\\sin\\big(\\omega t - 90^\\circ\\big)$$"
   ]
  },
  {
   "cell_type": "markdown",
   "id": "d8f9a38b",
   "metadata": {},
   "source": [
    "\\begin{equation}\\tag{3.2}\n",
    "    p_L = p_L(t) = ui_L = -p_C\n",
    "\\end{equation}    "
   ]
  },
  {
   "cell_type": "markdown",
   "id": "2295ca35",
   "metadata": {},
   "source": [
    "#### Problem 4\n",
    "4. The series LC circuit current is $i=I_\\mathrm{m}\\sin\\omega t$. Sketch (on one drawing) the instantaneous power of $L$ and $C$, for $X_L = |X_C|=X_C$."
   ]
  },
  {
   "cell_type": "markdown",
   "id": "f3b59014",
   "metadata": {},
   "source": [
    "$$ I(j\\omega) = I = \\frac{I_\\mathrm{m}}{\\sqrt{2}}\\quad\\quad U_L(j\\omega) = jX_LI = -U_C(j\\omega)$$"
   ]
  },
  {
   "cell_type": "markdown",
   "id": "de872e08",
   "metadata": {},
   "source": [
    "$$  U_C(j\\omega) = -jX_LI \\quad\\quad \\hat{=}\\quad\\quad u_C=u_C(t) = \\omega L I_\\mathrm{m}\\sin\\big(\\omega t - 90^\\circ\\big)$$"
   ]
  },
  {
   "cell_type": "markdown",
   "id": "5dbcdb2c",
   "metadata": {},
   "source": [
    "\\begin{equation}\\tag{4.1}\n",
    "    p_C = p_C(t) = u_Ci = -0.5\\omega L I_\\mathrm{m}^2\\sin2\\omega t\n",
    "\\end{equation}    "
   ]
  },
  {
   "cell_type": "markdown",
   "id": "ca1de62c",
   "metadata": {},
   "source": [
    "$$ p_L = p_L(t) = -p_C$$"
   ]
  },
  {
   "cell_type": "markdown",
   "id": "6f13feb1",
   "metadata": {},
   "source": [
    "#### Problem 5\n",
    "5. The current $i=10\\sqrt{2}\\mathrm{mA}\\,\\sin\\big(314t + 45^\\circ\\big)$ flows through a $Z(j\\omega)=(3+j4)\\mathrm{k}\\Omega$ load. What real, apparent and reactive power is absorbed by the load? What energy is dissipated in one period?"
   ]
  },
  {
   "cell_type": "markdown",
   "id": "a58e98fb",
   "metadata": {},
   "source": [
    "$$ I(j\\omega) = I\\,\\angle45^\\circ = 10\\mathrm{mA}\\,\\angle45^\\circ \\quad \\quad\\text{and}\\quad\\quad Z(j\\omega) = 5000\\Omega\\,\\angle \\arcsin \\frac{4}{5} = Z\\,\\angle\\varphi$$"
   ]
  },
  {
   "cell_type": "markdown",
   "id": "4708ba5b",
   "metadata": {},
   "source": [
    "$$ U = 10\\mathrm{mA}\\cdot 5000\\Omega = 50\\mathrm{V}$$"
   ]
  },
  {
   "cell_type": "code",
   "execution_count": 31,
   "id": "86a68844",
   "metadata": {},
   "outputs": [
    {
     "data": {
      "text/plain": [
       "53.13010235415599"
      ]
     },
     "execution_count": 31,
     "metadata": {},
     "output_type": "execute_result"
    }
   ],
   "source": [
    "varphi = np.degrees(np.arcsin(4/5))\n",
    "varphi"
   ]
  },
  {
   "cell_type": "markdown",
   "id": "984953e2",
   "metadata": {},
   "source": [
    "$$ P = I^2R = UI\\cos\\varphi = 0.3\\mathrm{W}$$"
   ]
  },
  {
   "cell_type": "markdown",
   "id": "ec5ca3ad",
   "metadata": {},
   "source": [
    "$$ S = UI = 50\\mathrm{V}\\cdot 10\\mathrm{mA} = 0.5\\mathrm{VA}$$"
   ]
  },
  {
   "cell_type": "markdown",
   "id": "2af5f4a3",
   "metadata": {},
   "source": [
    "$$ Q = I^2X = UI\\sin\\varphi=0.4\\mathrm{VAr}$$"
   ]
  },
  {
   "cell_type": "markdown",
   "id": "27c5c6cd",
   "metadata": {},
   "source": [
    "The energy dissipated in one period, denoted as '$W_T$', is given by:  \n",
    "\n",
    "$$ W_T = P\\cdot T = 0.3\\mathrm{W} \\cdot \\frac{2\\pi}{314\\mathrm{rad}}\\,\\mathrm{s} = 6\\mathrm{mJ}$$"
   ]
  },
  {
   "cell_type": "code",
   "execution_count": 32,
   "id": "d59759e4",
   "metadata": {},
   "outputs": [
    {
     "data": {
      "text/plain": [
       "0.3"
      ]
     },
     "execution_count": 32,
     "metadata": {},
     "output_type": "execute_result"
    }
   ],
   "source": [
    "I = 10e-3; R = 3000\n",
    "R*I**2"
   ]
  },
  {
   "cell_type": "code",
   "execution_count": 33,
   "id": "2e91488e",
   "metadata": {},
   "outputs": [
    {
     "data": {
      "text/plain": [
       "0.4"
      ]
     },
     "execution_count": 33,
     "metadata": {},
     "output_type": "execute_result"
    }
   ],
   "source": [
    "4000*I**2"
   ]
  },
  {
   "cell_type": "code",
   "execution_count": 34,
   "id": "57681ef1",
   "metadata": {},
   "outputs": [
    {
     "data": {
      "text/plain": [
       "0.006003043287114255"
      ]
     },
     "execution_count": 34,
     "metadata": {},
     "output_type": "execute_result"
    }
   ],
   "source": [
    "0.3*2*np.pi/314"
   ]
  },
  {
   "cell_type": "markdown",
   "id": "25d5996d",
   "metadata": {},
   "source": [
    "#### Problem 6\n",
    "6. The voltage across a $Z(j\\omega)=(3+j4)\\mathrm{k}\\Omega$ load is $u=10\\sqrt{2}\\mathrm{V}\\sin\\big(314t + 45^\\circ\\big)$. What real, apparent and reactive power is absorbed by the load? What energy is dissipated in one period?"
   ]
  },
  {
   "cell_type": "markdown",
   "id": "66d28e96",
   "metadata": {},
   "source": [
    "$$ U(j\\omega) = U\\,\\angle45^\\circ = 10\\mathrm{V}\\,\\angle45^\\circ \\quad\\quad\\text{and}\\quad\\quad Z(j\\omega) = Z\\angle\\varphi = 5000\\Omega\\,\\angle\\arcsin\\frac{4}{5}$$"
   ]
  },
  {
   "cell_type": "markdown",
   "id": "7eef8b54",
   "metadata": {},
   "source": [
    "$$ U\\,\\angle\\alpha_u = ZI\\,\\angle(\\varphi + \\alpha_i)$$"
   ]
  },
  {
   "cell_type": "markdown",
   "id": "a15d9230",
   "metadata": {},
   "source": [
    "Dividing throughout by $Z\\,\\angle\\alpha_i$ gives:  \n",
    "\n",
    "$$ \\frac{U}{Z}\\,\\angle\\varphi = I\\,\\angle\\varphi \\implies U\\,\\angle\\varphi = IZ\\,\\angle\\varphi$$"
   ]
  },
  {
   "cell_type": "markdown",
   "id": "734f0618",
   "metadata": {},
   "source": [
    "$$ U\\,\\big(\\cos\\varphi + j\\sin\\varphi\\big) = I(R + jX) \\quad \\implies \\quad U\\cos\\varphi = IR \\quad\\text{and}\\quad U\\sin\\varphi = IX$$"
   ]
  },
  {
   "cell_type": "markdown",
   "id": "148428d6",
   "metadata": {},
   "source": [
    "$$ I = \\frac{U}{Z} = 2\\mathrm{mA}$$"
   ]
  },
  {
   "cell_type": "markdown",
   "id": "04d41bf7",
   "metadata": {},
   "source": [
    "$$ P = UI\\cos\\varphi = UI\\frac{R}{Z} = \\frac{U}{Z}IR = I^2R = 12\\mathrm{mW} $$\n",
    "\n",
    "$$Q = UI\\sin\\varphi = UI\\frac{X}{Z} = \\frac{U}{Z}IX = I^2X = 16\\mathrm{mVAr} $$\n",
    "\n",
    "$$S = UI = \\frac{U^2}{Z} = 20\\mathrm{mVA}$$"
   ]
  },
  {
   "cell_type": "markdown",
   "id": "6d383685",
   "metadata": {},
   "source": [
    "$$ W_T = PT = I^2R\\cdot\\frac{2\\pi}{314\\mathrm{rad}}\\,\\mathrm{s} \\approxeq 240.12\\mu\\mathrm{J}$$"
   ]
  },
  {
   "cell_type": "code",
   "execution_count": 35,
   "id": "45f38f4b",
   "metadata": {},
   "outputs": [
    {
     "data": {
      "text/plain": [
       "0.012"
      ]
     },
     "execution_count": 35,
     "metadata": {},
     "output_type": "execute_result"
    }
   ],
   "source": [
    "U = 10; R = 3000; X = 4000; I = 2e-3\n",
    "P = I**2*R\n",
    "P"
   ]
  },
  {
   "cell_type": "code",
   "execution_count": 36,
   "id": "dbf3e9a8",
   "metadata": {},
   "outputs": [
    {
     "data": {
      "text/plain": [
       "0.016"
      ]
     },
     "execution_count": 36,
     "metadata": {},
     "output_type": "execute_result"
    }
   ],
   "source": [
    "Q = I**2*X\n",
    "Q"
   ]
  },
  {
   "cell_type": "code",
   "execution_count": 37,
   "id": "ff05c000",
   "metadata": {},
   "outputs": [],
   "source": [
    "T = 2*np.pi/314\n",
    "W_T = P*T"
   ]
  },
  {
   "cell_type": "code",
   "execution_count": 38,
   "id": "bf0d7e87",
   "metadata": {},
   "outputs": [
    {
     "data": {
      "text/plain": [
       "0.02"
      ]
     },
     "execution_count": 38,
     "metadata": {},
     "output_type": "execute_result"
    }
   ],
   "source": [
    "S = U**2/5000\n",
    "S"
   ]
  },
  {
   "cell_type": "markdown",
   "id": "59504bd1",
   "metadata": {},
   "source": [
    "#### Problem 7\n",
    "7. The inductive impedance $Z(j\\omega) = (6+j8)\\Omega$ is connected to a $220 \\mathrm{V}$ line. Find the energy dissipated in 1 hour."
   ]
  },
  {
   "cell_type": "markdown",
   "id": "72cf2738",
   "metadata": {},
   "source": [
    "$$ I = \\frac{220}{\\sqrt{6^2+8^2}}\\,\\mathrm{A} = 22\\mathrm{A} \\quad\\quad\\text{and}\\quad\\quad \\varphi = \\arcsin\\frac{4}{5}$$"
   ]
  },
  {
   "cell_type": "code",
   "execution_count": 39,
   "id": "85f984ba",
   "metadata": {},
   "outputs": [
    {
     "data": {
      "text/plain": [
       "22.0"
      ]
     },
     "execution_count": 39,
     "metadata": {},
     "output_type": "execute_result"
    }
   ],
   "source": [
    "I = 220/np.sqrt(6**2+8**2)\n",
    "I"
   ]
  },
  {
   "cell_type": "markdown",
   "id": "f1a7a25b",
   "metadata": {},
   "source": [
    "$$ P = I^2R = 2904\\mathrm{W}$$"
   ]
  },
  {
   "cell_type": "code",
   "execution_count": 40,
   "id": "dde7d0d3",
   "metadata": {},
   "outputs": [
    {
     "data": {
      "text/plain": [
       "2904.0"
      ]
     },
     "execution_count": 40,
     "metadata": {},
     "output_type": "execute_result"
    }
   ],
   "source": [
    "P = 6*I**2\n",
    "P"
   ]
  },
  {
   "cell_type": "markdown",
   "id": "1ef21932",
   "metadata": {},
   "source": [
    "$$ W = P\\cdot 1\\mathrm{hr} = 10.4544\\,\\mathrm{MJ}$$"
   ]
  },
  {
   "cell_type": "markdown",
   "id": "cc4b3a9d",
   "metadata": {},
   "source": [
    "Note that the above identity assumes that $1\\mathrm{hr}$ is a multiple of $T$.  If $1\\mathrm{hr} \\ne nT$, where $n\\in\\mathbb{N}$, then the radian frequency, denoted as '$\\omega$', needs to be known to find the energy dissipated over said time interval.  This is proven below."
   ]
  },
  {
   "cell_type": "code",
   "execution_count": 41,
   "id": "4c18ab5c",
   "metadata": {},
   "outputs": [
    {
     "data": {
      "text/plain": [
       "10.4544"
      ]
     },
     "execution_count": 41,
     "metadata": {},
     "output_type": "execute_result"
    }
   ],
   "source": [
    "W = P * 60**2\n",
    "W*1e-6"
   ]
  },
  {
   "cell_type": "markdown",
   "id": "62f571c7",
   "metadata": {},
   "source": [
    "To test the above answer, first recall that:  \n",
    "\n",
    "$$ f(t):= \\int p\\,\\mathrm{d}t = tUI\\cos\\varphi - \\frac{UI}{2\\omega}\\,\\sin\\big(2\\omega t + \\alpha_u + \\alpha_i\\big)$$"
   ]
  },
  {
   "cell_type": "markdown",
   "id": "0ba05297",
   "metadata": {},
   "source": [
    "and that  \n",
    "\n",
    "$$ W = \\int_{t_0}^{t_1} p\\,\\mathrm{d}t = f(t_1)-f(t_0) = f(t_0+\\Delta t) - f(t_0) \\quad\\quad\\text{where }\\; \\Delta t = t_1 - t_0 = 1\\mathrm{hr}$$"
   ]
  },
  {
   "cell_type": "markdown",
   "id": "0b9359dd",
   "metadata": {},
   "source": [
    "$$ W = \\Delta tUI\\cos\\varphi + \\frac{UI}{2\\omega}\\,\\Big(\\sin\\big(2\\omega t_0 + \\alpha_u + \\alpha_i\\big) - \\sin\\big(2\\omega t_0 + 2\\omega \\Delta t + \\alpha_u + \\alpha_i\\big)\\Big)$$"
   ]
  },
  {
   "cell_type": "markdown",
   "id": "81c3d241",
   "metadata": {},
   "source": [
    "Now let $\\alpha:=\\alpha_u + \\alpha_i$ and $\\theta:=2\\omega t_0$.  \n",
    "\n",
    "$$ y:=\\sin\\big(\\theta + \\alpha\\big) - \\sin\\big(\\theta + \\alpha + 2\\omega \\Delta t\\big) \\quad\\hat{=}\\quad Y(j2\\omega) = 1\\angle\\alpha - 1\\angle(\\alpha + 2\\omega \\Delta t) = Y\\,\\angle\\alpha_y$$"
   ]
  },
  {
   "cell_type": "markdown",
   "id": "942642f6",
   "metadata": {},
   "source": [
    "where,"
   ]
  },
  {
   "cell_type": "markdown",
   "id": "6e18215f",
   "metadata": {},
   "source": [
    "$$ Y = \\sqrt{\\big(\\cos\\alpha - \\cos(\\alpha+2\\omega \\Delta t)\\big)^2 + \\big(\\sin\\alpha - \\sin(\\alpha+2\\omega \\Delta t) \\big)^2}$$"
   ]
  },
  {
   "cell_type": "markdown",
   "id": "071753d6",
   "metadata": {},
   "source": [
    "$$ =\\sqrt{2 - 2\\cos\\alpha\\cos(\\alpha+2\\omega\\Delta t) - 2\\sin\\alpha\\sin(\\alpha + 2\\omega \\Delta t)}$$"
   ]
  },
  {
   "cell_type": "markdown",
   "id": "96e481c3",
   "metadata": {},
   "source": [
    "$$ = \\sqrt{2-2\\big(\\sin(0.5\\pi-\\alpha)\\cos(\\alpha+2\\omega\\Delta t) + \\cos(0.5\\pi-\\alpha)\\sin(\\alpha+2\\omega\\Delta t)\\big)}$$"
   ]
  },
  {
   "cell_type": "markdown",
   "id": "0af87c5f",
   "metadata": {},
   "source": [
    "\\begin{equation}\\tag{M1}\n",
    "    Y = \\sqrt{2-2\\sin(0.5\\pi+2\\omega\\Delta t)} = \\sqrt{2-2\\cos2\\omega\\Delta t}\n",
    "\\end{equation}    "
   ]
  },
  {
   "cell_type": "markdown",
   "id": "f0740882",
   "metadata": {},
   "source": [
    "Via equations (M1) and (P1.1),  \n",
    "\n",
    "\\begin{equation}\\tag{M1}\n",
    "    Y = 2\\sin2\\omega\\Delta t\n",
    "\\end{equation}    "
   ]
  },
  {
   "cell_type": "markdown",
   "id": "b2c85ac9",
   "metadata": {},
   "source": [
    "and,\n",
    "\\begin{equation}\\tag{M5}\n",
    "    \\alpha_y = \\arccos\\frac{x}{Y}\n",
    "\\end{equation}    "
   ]
  },
  {
   "cell_type": "markdown",
   "id": "4299cd8f",
   "metadata": {},
   "source": [
    "$$ x = \\cos\\alpha - \\cos(\\alpha+2\\omega\\Delta t) \\quad\\hat{=}\\quad X(j\\alpha) = 1\\angle0^\\circ - 1\\angle2\\omega\\Delta t = 1 - \\cos2\\omega\\Delta t - j\\sin2\\omega \\Delta t$$"
   ]
  },
  {
   "cell_type": "markdown",
   "id": "c054d68e",
   "metadata": {},
   "source": [
    "$$  = X\\,\\angle\\alpha_x \\quad\\quad\\text{where }\\; X = \\sqrt{\\big(1-\\cos2\\omega\\Delta t\\big)^2 + \\sin^2 2\\omega\\Delta t} \\quad\\text{and}\\quad \\alpha_x = \\arcsin\\frac{-\\sin2\\omega\\Delta t}{X}$$"
   ]
  },
  {
   "cell_type": "markdown",
   "id": "063d9949",
   "metadata": {},
   "source": [
    "\\begin{equation}\\tag{M2}\n",
    "    X = \\sqrt{2 - 2\\cos2\\omega\\Delta t} = Y = 2\\sin2\\omega\\Delta t\n",
    "\\end{equation}    "
   ]
  },
  {
   "cell_type": "markdown",
   "id": "1896cfcb",
   "metadata": {},
   "source": [
    "\\begin{equation}\\tag{M3}\n",
    "    \\alpha_x = -\\arcsin 0.5 = -30^\\circ\n",
    "\\end{equation}    "
   ]
  },
  {
   "cell_type": "markdown",
   "id": "a0fb8be0",
   "metadata": {},
   "source": [
    "\\begin{equation}\\tag{M4}\n",
    "    X(j\\alpha) = 2\\sin2\\omega\\Delta t\\,\\angle\\!-\\!30^\\circ \\quad\\quad\\hat{=}\\quad\\quad x = 2\\sin2\\omega\\Delta t\\sin\\big(\\alpha - 30^\\circ\\big)\n",
    "\\end{equation}    "
   ]
  },
  {
   "cell_type": "markdown",
   "id": "6e0f97d3",
   "metadata": {},
   "source": [
    "Via equations (M4,5),  \n",
    "\n",
    "\\begin{equation}\\tag{M6}\n",
    "    \\alpha_y = \\arccos\\sin\\big(\\alpha-30^\\circ\\big) = \\alpha - 120^\\circ = \\alpha_u + \\alpha_i - 120^\\circ\n",
    "\\end{equation}    "
   ]
  },
  {
   "cell_type": "markdown",
   "id": "9c5f6d14",
   "metadata": {},
   "source": [
    "Finally, via equations (M6,1),  \n",
    "\n",
    "$$ Y(j2\\omega) = 2\\sin2\\omega\\Delta t\\,\\angle\\big(\\alpha_u+\\alpha_i - 120^\\circ\\big) \\quad\\quad\\hat{=}\\quad\\quad y = 2\\sin2\\omega\\Delta t\\sin\\big(2\\omega t_0 + \\alpha_u +\\alpha_i -90^\\circ -30^\\circ\\big)$$"
   ]
  },
  {
   "cell_type": "markdown",
   "id": "4a781205",
   "metadata": {},
   "source": [
    "$$ y = -2\\sin2\\omega\\Delta t \\cos\\big(2\\omega t_0 +\\alpha_u+\\alpha_i -30^\\circ\\big)$$"
   ]
  },
  {
   "cell_type": "code",
   "execution_count": 42,
   "id": "7b996dee",
   "metadata": {},
   "outputs": [
    {
     "data": {
      "text/plain": [
       "30.000000000000004"
      ]
     },
     "execution_count": 42,
     "metadata": {},
     "output_type": "execute_result"
    }
   ],
   "source": [
    "np.degrees(np.arcsin(0.5))"
   ]
  },
  {
   "cell_type": "markdown",
   "id": "ae0bd93e",
   "metadata": {},
   "source": [
    "#### Problem 8\n",
    "8. Find the load impedance $Z_\\mathrm{l}(j\\omega)=R_\\mathrm{l} + jX_\\mathrm{l}$ that will absorb the maximum power.  What would the value of that maximum be?  \n",
    "\n",
    "![Fig-P.4.3.8](Figures/Fig-P.4.3.8.png)"
   ]
  },
  {
   "cell_type": "markdown",
   "id": "f756f8c3",
   "metadata": {},
   "source": [
    "$$ E(t) = E\\sqrt{2}\\,\\sin\\omega t \\quad\\text{where }\\;\\omega = 1000\\mathrm{rad}/\\mathrm{s} \\quad\\quad\\hat{=}\\quad\\quad E(j\\omega) = E = 20\\mathrm{V}$$ "
   ]
  },
  {
   "cell_type": "markdown",
   "id": "3f06eaf7",
   "metadata": {},
   "source": [
    "Via KVL and element equations,  \n",
    "\n",
    "$$ J_\\mathrm{s}(j\\omega) = \\frac{E}{Z(j\\omega)} \\quad\\quad\\text{where }\\; Z(j\\omega) = R - jX_C = Z\\,\\angle\\varphi$$"
   ]
  },
  {
   "cell_type": "markdown",
   "id": "3a6aae9c",
   "metadata": {},
   "source": [
    "$$ R = 10\\Omega \\quad\\quad\\text{and}\\quad\\quad X_C = \\frac{1}{\\omega C} = 2000\\Omega$$"
   ]
  },
  {
   "cell_type": "code",
   "execution_count": 43,
   "id": "69aa8c63",
   "metadata": {},
   "outputs": [
    {
     "data": {
      "text/plain": [
       "2000.0"
      ]
     },
     "execution_count": 43,
     "metadata": {},
     "output_type": "execute_result"
    }
   ],
   "source": [
    "R = 10; C = 0.5e-6; E = 20; omega = 1000\n",
    "X_C = 1/(omega*C)\n",
    "X_C"
   ]
  },
  {
   "cell_type": "markdown",
   "id": "64fce67c",
   "metadata": {},
   "source": [
    "$$ Z = \\sqrt{R^2 + X_C^2} \\approxeq 2000.02\\Omega \\approxeq X_C \\quad\\quad\\text{and}\\quad\\quad\\varphi = -\\arcsin\\frac{X_C}{Z} \\approxeq -89.71^\\circ \\approxeq -90^\\circ$$"
   ]
  },
  {
   "cell_type": "code",
   "execution_count": 44,
   "id": "92f7acc3",
   "metadata": {},
   "outputs": [
    {
     "data": {
      "text/plain": [
       "(2000.0249998437519, -89.7135234897241)"
      ]
     },
     "execution_count": 44,
     "metadata": {},
     "output_type": "execute_result"
    }
   ],
   "source": [
    "Z = np.sqrt(R**2 + X_C**2)\n",
    "varphi = -np.arcsin(X_C/Z)\n",
    "(Z, np.degrees(varphi))"
   ]
  },
  {
   "cell_type": "markdown",
   "id": "fa315a5d",
   "metadata": {},
   "source": [
    "\\begin{equation}\\tag{8.1}\n",
    "    J_\\mathrm{s}(j\\omega) = \\frac{E}{Z}\\,\\angle\\!-\\!\\varphi \\approxeq \\frac{20\\mathrm{V}}{2000\\Omega}\\,\\angle90^\\circ = 10\\mathrm{mA}\\,\\angle90^\\circ\n",
    "\\end{equation}    "
   ]
  },
  {
   "cell_type": "markdown",
   "id": "b8b669e1",
   "metadata": {},
   "source": [
    "\\begin{equation}\\tag{8.2}\n",
    "    E_\\mathrm{o}(j\\omega) = E_\\mathrm{o} = 0.5E = 10\\mathrm{V}\n",
    "\\end{equation}    "
   ]
  },
  {
   "cell_type": "markdown",
   "id": "4126f31c",
   "metadata": {},
   "source": [
    "\\begin{equation}\\tag{8.3}\n",
    "    Z_\\mathrm{t}(j\\omega) = \\frac{E_\\mathrm{o}}{J_\\mathrm{s}(j\\omega)} = \\frac{10\\mathrm{V}}{10\\mathrm{mA}}\\,\\angle\\!-\\!90^\\circ = 1000\\Omega\\,\\angle\\!-\\!90^\\circ\n",
    "\\end{equation}    "
   ]
  },
  {
   "cell_type": "markdown",
   "id": "36e0eff1",
   "metadata": {},
   "source": [
    "\\begin{equation}\\tag{8.4}\n",
    "    Z_\\mathrm{l}(j\\omega) = 1000\\Omega\\,\\angle90^\\circ\n",
    "\\end{equation}    "
   ]
  },
  {
   "cell_type": "markdown",
   "id": "bbe98eca",
   "metadata": {},
   "source": [
    "$$ S = UI = I^2Z_\\mathrm{l}$$"
   ]
  },
  {
   "cell_type": "markdown",
   "id": "d0b526dc",
   "metadata": {},
   "source": [
    "$$ I(j\\omega) = \\frac{E_\\mathrm{o}}{Z_\\mathrm{t}(j\\omega) + Z_\\mathrm{l}(j\\omega)}$$"
   ]
  },
  {
   "cell_type": "markdown",
   "id": "c90b40e0",
   "metadata": {},
   "source": [
    "While trying find the apparent power under max power transfer conditions, a divide by zero error occured.  Moreover, this appears to always be the case when the source impedance (the impedance of the Thevenin equivalent of the active subcircuit) has no resistance."
   ]
  },
  {
   "cell_type": "markdown",
   "id": "10a367d4",
   "metadata": {},
   "source": [
    "#### Problem 9\n",
    "9. The inductive load absorbs $270 \\mathrm{W}$ of real power at a $\\mathrm{pf}$ of $0.75$ lagging and its voltage is $120 \\mathrm{V} $ RMS. Find the real power absorbed by the transmission line resistance of $R_\\text{line}=10\\Omega$."
   ]
  },
  {
   "cell_type": "markdown",
   "id": "0523d74b",
   "metadata": {},
   "source": [
    "$$ P = UI\\cos\\varphi = 0.75 \\cdot 120\\mathrm{V} \\cdot I = 270\\mathrm{W}$$"
   ]
  },
  {
   "cell_type": "markdown",
   "id": "0418fe08",
   "metadata": {},
   "source": [
    "$$ I = \\frac{270}{0.75\\cdot 120}\\,\\mathrm{A} = 3\\mathrm{A}$$"
   ]
  },
  {
   "cell_type": "code",
   "execution_count": 45,
   "id": "4feefd24",
   "metadata": {},
   "outputs": [
    {
     "data": {
      "text/plain": [
       "3.0"
      ]
     },
     "execution_count": 45,
     "metadata": {},
     "output_type": "execute_result"
    }
   ],
   "source": [
    "I = 270/(0.75*120)\n",
    "I"
   ]
  },
  {
   "cell_type": "markdown",
   "id": "ff61a0c7",
   "metadata": {},
   "source": [
    "Finally,  \n",
    "\n",
    "$$ P_\\text{line} = I^2R_\\text{line} = 90\\mathrm{W}$$"
   ]
  },
  {
   "cell_type": "markdown",
   "id": "f36e07ab",
   "metadata": {},
   "source": [
    "#### Problem 10\n",
    "10. At what frequency would the capacitive load receive maximum power and what would be the value of that maximum.  \n",
    "\n",
    "![Fig-P.4.3.10](Figures/Fig-P.4.3.10.png)"
   ]
  },
  {
   "cell_type": "markdown",
   "id": "9f5b1708",
   "metadata": {},
   "source": [
    "$$ f = \\frac{\\omega}{2\\pi}$$"
   ]
  },
  {
   "cell_type": "markdown",
   "id": "ad964a9a",
   "metadata": {},
   "source": [
    "$$ |X_C| = X_C = \\frac{1}{\\omega C} = \\omega L$$"
   ]
  },
  {
   "cell_type": "markdown",
   "id": "cedeb5ba",
   "metadata": {},
   "source": [
    "$$ \\omega^2 = \\frac{1}{CL} \\implies \\omega = \\frac{1}{\\sqrt{LC}} = 1000\\,\\mathrm{rad}/\\mathrm{s}$$"
   ]
  },
  {
   "cell_type": "code",
   "execution_count": 69,
   "id": "f0e37c85",
   "metadata": {},
   "outputs": [
    {
     "data": {
      "text/plain": [
       "1000.0"
      ]
     },
     "execution_count": 69,
     "metadata": {},
     "output_type": "execute_result"
    }
   ],
   "source": [
    "L = 1; C = 1e-6\n",
    "omega = 1/np.sqrt(L*C)\n",
    "omega"
   ]
  },
  {
   "cell_type": "markdown",
   "id": "790cce60",
   "metadata": {},
   "source": [
    "Finally,  \n",
    "\n",
    "$$ f = \\frac{500}{\\pi}$$"
   ]
  },
  {
   "cell_type": "markdown",
   "id": "e9a16cb7",
   "metadata": {},
   "source": [
    "The maximum power is given by:  \n",
    "\n",
    "$$ P = UI\\cos\\varphi = I^2R_\\mathrm{l} = 10\\mathrm{W} \\quad\\quad\\text{where }\\; I = \\frac{20\\mathrm{V}}{2000\\Omega} = 10\\mathrm{mA} $$"
   ]
  },
  {
   "cell_type": "markdown",
   "id": "66d3ff96",
   "metadata": {},
   "source": [
    "## Bonus\n",
    "**Bonus**:  Assume that $\\omega = 500\\,\\mathrm{rad}/\\mathrm{s}$, $C=1\\mathrm{mF}$, and $L=2\\mathrm{H}$.  \n",
    "\n",
    "$$ E(j\\omega) = E= 20\\mathrm{V} \\quad\\quad Z(j\\omega) = 2000\\Omega + 1000\\Omega - j\\frac{1}{\\omega C} \\quad \\quad I(j\\omega) = \\frac{E}{Z(j\\omega)}$$"
   ]
  },
  {
   "cell_type": "code",
   "execution_count": 70,
   "id": "2f4bc5e8",
   "metadata": {},
   "outputs": [
    {
     "data": {
      "text/plain": [
       "2235.1742661367593"
      ]
     },
     "execution_count": 70,
     "metadata": {},
     "output_type": "execute_result"
    }
   ],
   "source": [
    "R = 2000; omega = 500; C = 1e-3; L = 2; X_L = L*omega; X_C = 1/(omega*C)\n",
    "X = X_L-X_C\n",
    "Z = np.sqrt(R**2 + X**2)\n",
    "Z"
   ]
  },
  {
   "cell_type": "code",
   "execution_count": 71,
   "id": "4aac3b8b",
   "metadata": {},
   "outputs": [
    {
     "data": {
      "text/plain": [
       "26.519196221271503"
      ]
     },
     "execution_count": 71,
     "metadata": {},
     "output_type": "execute_result"
    }
   ],
   "source": [
    "varphi = np.arcsin(X/Z)\n",
    "alpha_i = -varphi\n",
    "np.degrees(varphi)"
   ]
  },
  {
   "cell_type": "code",
   "execution_count": 72,
   "id": "bd1b1c2d",
   "metadata": {},
   "outputs": [
    {
     "data": {
      "text/plain": [
       "0.00894784818481634"
      ]
     },
     "execution_count": 72,
     "metadata": {},
     "output_type": "execute_result"
    }
   ],
   "source": [
    "E = 20\n",
    "Zj = complex(R,X)\n",
    "I = E/Z\n",
    "I"
   ]
  },
  {
   "cell_type": "code",
   "execution_count": 73,
   "id": "e45e50bd",
   "metadata": {},
   "outputs": [
    {
     "data": {
      "text/plain": [
       "0.012566370614359173"
      ]
     },
     "execution_count": 73,
     "metadata": {},
     "output_type": "execute_result"
    }
   ],
   "source": [
    "# Find the time period (T).\n",
    "T = 2*np.pi/omega\n",
    "T"
   ]
  },
  {
   "cell_type": "markdown",
   "id": "994e1cb1",
   "metadata": {},
   "source": [
    "$$ I(j\\omega) = \\frac{E}{Z}\\,\\angle\\!-\\!\\varphi \\approxeq 8.95\\mathrm{mA}\\,\\angle\\!-\\!26.52^\\circ \\quad\\quad\\hat{=}\\quad\\quad i = i(t) = I\\sqrt{2}\\sin\\big(\\omega t -\\varphi\\big)$$"
   ]
  },
  {
   "cell_type": "markdown",
   "id": "62c3ef12",
   "metadata": {},
   "source": [
    "### Circuit Attributes  \n",
    "\n",
    "$$ P = IE\\cos\\varphi = I^2R \\approxeq 160.13\\mathrm{mW} \\quad\\quad Q = IE\\sin\\varphi = I^2X$$"
   ]
  },
  {
   "cell_type": "code",
   "execution_count": 74,
   "id": "7f927aa3",
   "metadata": {},
   "outputs": [
    {
     "data": {
      "text/plain": [
       "0.16012797427704217"
      ]
     },
     "execution_count": 74,
     "metadata": {},
     "output_type": "execute_result"
    }
   ],
   "source": [
    "P = I*E*np.cos(varphi)\n",
    "P"
   ]
  },
  {
   "cell_type": "markdown",
   "id": "d43c7c78",
   "metadata": {},
   "source": [
    "The energy dissipated by the load after one period ($T$) is:  \n",
    "\n",
    "$$ W_T = PT = TI^2R = TIE\\cos\\varphi \\approxeq 2.01\\mathrm{mJ}$$"
   ]
  },
  {
   "cell_type": "code",
   "execution_count": 75,
   "id": "181063b9",
   "metadata": {},
   "outputs": [
    {
     "data": {
      "text/plain": [
       "0.0020122274704918843"
      ]
     },
     "execution_count": 75,
     "metadata": {},
     "output_type": "execute_result"
    }
   ],
   "source": [
    "W_T = T*E*I*np.cos(varphi)\n",
    "W_T"
   ]
  },
  {
   "cell_type": "markdown",
   "id": "13f314fd",
   "metadata": {},
   "source": [
    "And, the energy dissipated after $n$ periods, where n is a positive whole number, is:  \n",
    "\n",
    "$$ W_n = nTP = nTI^2 = nTIE\\cos\\varphi$$"
   ]
  },
  {
   "cell_type": "markdown",
   "id": "6406cf1b",
   "metadata": {},
   "source": [
    "### Resistor Attributes \n",
    "\n",
    "$$ U_R(j\\omega) = RI(j\\omega) \\quad\\implies\\quad U\\,\\angle\\alpha_u =  RI\\,\\angle\\alpha_i \\quad\\implies\\quad U = RI \\quad\\text{and}\\quad \\alpha_u=\\alpha_i\\quad\\text{and}\\quad \\varphi = \\alpha_u-\\alpha_i = 0^\\circ$$\n",
    "\n",
    "$$\\hat{=}$$\n",
    "\n",
    "$$ u_R = u_R(t) = Ri \\quad\\implies\\quad U\\sqrt{2}\\sin\\big(\\omega t + \\alpha_i\\big) = RI\\sqrt{2}\\sin\\big(\\omega + \\alpha_i\\big)$$"
   ]
  },
  {
   "cell_type": "markdown",
   "id": "7991771a",
   "metadata": {},
   "source": [
    "$$ p_R = p_R(t) = 2RI^2\\sin^2\\theta = RI^2\\big(1-\\cos2\\theta\\big)\\quad\\quad\\text{where }\\;\\theta = \\theta(t) = \\omega t -\\varphi$$"
   ]
  },
  {
   "cell_type": "markdown",
   "id": "ae339d6b",
   "metadata": {},
   "source": [
    "#### Instantaneous Energy\n",
    "$$ w_R = w_R(t) = \\int_0^t p_R\\,\\mathrm{d}t $$"
   ]
  },
  {
   "cell_type": "markdown",
   "id": "2fa6f4b9",
   "metadata": {},
   "source": [
    "$$ \\int p_R\\,\\mathrm{d}t = RI^2 t - \\frac{RI^2}{2\\omega}\\,\\sin2\\theta = RI^2\\,\\left(t - \\frac{1}{2\\omega}\\,\\sin2\\theta\\right)$$"
   ]
  },
  {
   "cell_type": "markdown",
   "id": "f6208bcf",
   "metadata": {},
   "source": [
    "$$ w_R = w_R(t) = RI^2\\,\\left(t - \\frac{1}{2\\omega}\\,\\sin2\\theta\\right) - \\frac{RI^2}{2\\omega}\\,\\sin2\\varphi$$"
   ]
  },
  {
   "cell_type": "markdown",
   "id": "285e6922",
   "metadata": {},
   "source": [
    "$$  = RI^2\\left(t -\\frac{1}{2\\omega}\\big(\\sin2\\varphi + \\sin2\\theta\\big)\\right)$$"
   ]
  },
  {
   "cell_type": "markdown",
   "id": "6f4c6b4a",
   "metadata": {},
   "source": [
    "$$ w_R(T) = RI^2T = W_T $$"
   ]
  },
  {
   "cell_type": "markdown",
   "id": "d5b1341e",
   "metadata": {},
   "source": [
    "Via the above equation and the fact that:  \n",
    "\n",
    "$$ \\cos\\varphi = \\frac{R}{Z} \\quad\\quad\\text{and}\\quad\\quad  E=IZ$$"
   ]
  },
  {
   "cell_type": "markdown",
   "id": "fa70fc47",
   "metadata": {},
   "source": [
    "$$ w_R(T) = RI^2T = TRI\\,\\frac{E}{Z} = TIE\\,\\frac{R}{Z} = TIE\\cos\\varphi = W_T$$"
   ]
  },
  {
   "cell_type": "markdown",
   "id": "3d104400",
   "metadata": {},
   "source": [
    "And,  \n",
    "\n",
    "$$ w_R(nT) = W_n$$"
   ]
  },
  {
   "cell_type": "markdown",
   "id": "d7f312d7",
   "metadata": {},
   "source": [
    "### Inductor Attributes\n",
    "\n",
    "$$ U_L(j\\omega) = j\\omega L I(j\\omega) = \\omega LI\\,\\angle\\big(90^\\circ + \\varphi\\big) \\quad\\quad\\hat{=}\\quad\\quad u_L = u_L(t) = \\omega LI\\sqrt{2}\\sin\\big(\\omega t + 90^\\circ - \\varphi\\big)$$"
   ]
  },
  {
   "cell_type": "markdown",
   "id": "38f1fb14",
   "metadata": {},
   "source": [
    "$$ u_L = u_L(t) = \\omega LI\\sqrt{2}\\cos\\big(\\omega t -\\varphi\\big)$$"
   ]
  },
  {
   "cell_type": "markdown",
   "id": "1792c943",
   "metadata": {},
   "source": [
    "$$ p_L = p_L(t) = 2\\omega LI^2\\cos\\theta\\sin\\theta = \\omega LI\\sin2\\theta$$"
   ]
  },
  {
   "cell_type": "markdown",
   "id": "9d48b85e",
   "metadata": {},
   "source": [
    "#### Instantaneous Energy\n",
    "\n",
    "$$ \\int p_L\\,\\mathrm{d}t = -0.5LI\\cos2\\theta + c$$"
   ]
  },
  {
   "cell_type": "markdown",
   "id": "a57047da",
   "metadata": {},
   "source": [
    "$$ w_L = w_L(t) = \\int_0^t p_L\\,\\mathrm{d}t = 0.5LI\\,\\big(\\cos2\\varphi - \\cos2\\theta\\big)$$"
   ]
  },
  {
   "cell_type": "markdown",
   "id": "61643a4b",
   "metadata": {},
   "source": [
    "$$ w_L(T) = 0$$"
   ]
  },
  {
   "cell_type": "markdown",
   "id": "62e05a91",
   "metadata": {},
   "source": [
    "Moreover, \n",
    "\n",
    "\\begin{equation}\\tag{10.1}\n",
    "    w_L(0.5nT)=0 \\quad\\quad\\text{where }\\; n\\in\\mathbb{Z}\n",
    "\\end{equation}    "
   ]
  },
  {
   "cell_type": "markdown",
   "id": "a4c573f7",
   "metadata": {},
   "source": [
    "### Capacitor Attributes\n",
    "\n",
    "$$ U_C(j\\omega) -j\\frac{1}{\\omega C}\\,I(j\\omega) = \\frac{I}{\\omega C}\\,\\angle\\!-\\!\\big(\\varphi + 90^\\circ\\big) \\quad\\quad\\hat{=}\\quad\\quad u_C = u_C(t) = \\frac{I\\sqrt{2}}{\\omega C}\\,\\sin\\big(\\omega t - \\varphi - 90^\\circ\\big)$$"
   ]
  },
  {
   "cell_type": "markdown",
   "id": "5f0b0f2c",
   "metadata": {},
   "source": [
    "$$ u_C = u_C(t) = -\\frac{I\\sqrt{2}}{\\omega C}\\,\\cos\\big(\\omega t - \\varphi\\big)$$"
   ]
  },
  {
   "cell_type": "markdown",
   "id": "ff9f3b83",
   "metadata": {},
   "source": [
    "$$ p_C = p_C(t) = u_C i = -\\frac{2I^2}{\\omega C}\\,\\cos\\theta\\sin\\theta = - \\frac{I^2}{\\omega C}\\,\\sin2\\theta$$"
   ]
  },
  {
   "cell_type": "markdown",
   "id": "269646c2",
   "metadata": {},
   "source": [
    "#### Instantaneous Energy\n",
    "\n",
    "$$\\int p_C\\,\\mathrm{d}t = \\frac{I^2}{2\\omega^2C}\\,\\cos2\\theta + c $$"
   ]
  },
  {
   "cell_type": "markdown",
   "id": "c1a265bf",
   "metadata": {},
   "source": [
    "$$ w_C = w_C(t) = \\frac{I^2}{2\\omega^2 C}\\,\\big(\\cos2\\theta - \\cos2\\varphi\\big)$$"
   ]
  },
  {
   "cell_type": "markdown",
   "id": "9945a1b3",
   "metadata": {},
   "source": [
    "\\begin{equation}\\tag{10.2}\n",
    "    w_C(0.5nT) = 0\\quad\\quad\\text{where }\\; n\\in\\mathbb{Z}\n",
    "\\end{equation}"
   ]
  },
  {
   "cell_type": "code",
   "execution_count": 80,
   "id": "49653c8c",
   "metadata": {},
   "outputs": [
    {
     "data": {
      "text/plain": [
       "(1.6012797427704216e-07, 0.00894784818481634)"
      ]
     },
     "execution_count": 80,
     "metadata": {},
     "output_type": "execute_result"
    }
   ],
   "source": [
    "W_C = I**2/(2*omega**2*C); W_L = 0.5*L*I;\n",
    "(W_C, W_L)"
   ]
  },
  {
   "cell_type": "code",
   "execution_count": 76,
   "id": "453a6297",
   "metadata": {},
   "outputs": [
    {
     "data": {
      "image/png": "[encoded data removed]",
      "text/plain": [
       "<Figure size 936x360 with 1 Axes>"
      ]
     },
     "metadata": {
      "needs_background": "light"
     },
     "output_type": "display_data"
    }
   ],
   "source": [
    "# Create the time domain\n",
    "t = np.linspace(0, 5*T, num=200)\n",
    "\n",
    "theta = omega*t - varphi\n",
    "\n",
    "# Define the excitation voltage (x).\n",
    "x = E*np.sqrt(2)*np.sin(omega*t)\n",
    "\n",
    "# Identify the circuit attributes.\n",
    "i = I*np.sqrt(2)*np.sin(theta)\n",
    "\n",
    "u_R = R*I*np.sqrt(2)*np.sin(theta)\n",
    "u_L = omega*L*I*np.sqrt(2)*np.cos(theta)\n",
    "u_C = -(I*np.sqrt(2))/(omega*C)*np.cos(theta)\n",
    "\n",
    "p =i*x\n",
    "p_R = i*u_R\n",
    "p_L = i*u_L\n",
    "p_C = i*u_C\n",
    "\n",
    "# Instantaneous energy.\n",
    "w_R = R*I**2*(t-(np.sin(2*varphi)+np.sin(2*theta))/(2*omega))\n",
    "w_L = 0.5*L*I*(np.cos(2*varphi) - np.cos(2*theta))\n",
    "w_C = ((np.cos(2*theta)-np.cos(2*varphi))*I**2)/(2*omega**2*C)\n",
    "\n",
    "import matplotlib.pyplot as plt\n",
    "\n",
    "# Create figure and axes objects.\n",
    "fig, ax = plt.subplots(figsize=(13,5))\n",
    "ax.set_title('Voltage and Energy', size=13)\n",
    "ax.set_ylabel('energy [mJ]')\n",
    "ax.set_xlabel('time [ms]')\n",
    "ax.grid()"
   ]
  },
  {
   "cell_type": "code",
   "execution_count": 79,
   "id": "795f2bed",
   "metadata": {},
   "outputs": [
    {
     "data": {
      "text/plain": [
       "(25.3083365140455, 12.65416825702275, 0.01789569636963268)"
      ]
     },
     "execution_count": 79,
     "metadata": {},
     "output_type": "execute_result"
    }
   ],
   "source": [
    "U_R = R*I; U_L = omega*L*I; U_C = I/(omega*C)\n",
    "(U_R*np.sqrt(2), U_L*np.sqrt(2), U_C)"
   ]
  },
  {
   "cell_type": "markdown",
   "id": "72f37c47",
   "metadata": {},
   "source": [
    "#### Problem 11\n",
    "11. A practical coil has inductance $4 \\mathrm{mH}$ and a resistance of $8\\Omega$ . Find the power dissipated in the coil when it is connected to a $20\\mathrm{V}$ source at: a) DC, b) $\\omega=1000\\mathrm{rad}/\\mathrm{s}$, c) $\\omega = 1500 \\mathrm{rad}/\\mathrm{s}$."
   ]
  },
  {
   "cell_type": "markdown",
   "id": "9839a0a7",
   "metadata": {},
   "source": [
    "$$ Z(j\\omega) = R + jX_L = 8\\Omega + j4\\mathrm{mH} = Z\\,\\angle\\varphi \\quad\\text{where }\\; Z=\\sqrt{R^2+X_L^2} \\quad\\text{and}\\quad \\varphi = \\arcsin \\frac{X_L}{Z} = \\arccos \\frac{R}{Z}$$"
   ]
  },
  {
   "cell_type": "markdown",
   "id": "5754dc5e",
   "metadata": {},
   "source": [
    "$$ P = I^2R \\quad\\quad\\text{where }\\; I = \\frac{U}{Z}$$"
   ]
  },
  {
   "cell_type": "markdown",
   "id": "97ffd6ed",
   "metadata": {},
   "source": [
    "In the case of **a)**:  \n",
    "\n",
    "$$ I = \\frac{U}{R} = \\frac{20\\mathrm{V}}{8\\Omega} = 2.5\\mathrm{A}$$"
   ]
  },
  {
   "cell_type": "markdown",
   "id": "9ffaed57",
   "metadata": {},
   "source": [
    "$$ P = \\frac{U^2}{R} = \\frac{400}{8}\\,\\mathrm{W} = 50\\mathrm{W}$$"
   ]
  },
  {
   "cell_type": "markdown",
   "id": "2ca2bc87",
   "metadata": {},
   "source": [
    "In the case of **b)**:  \n",
    "\n"
   ]
  },
  {
   "cell_type": "code",
   "execution_count": 54,
   "id": "f726d2d9",
   "metadata": {},
   "outputs": [
    {
     "data": {
      "text/plain": [
       "39.99999999999999"
      ]
     },
     "execution_count": 54,
     "metadata": {},
     "output_type": "execute_result"
    }
   ],
   "source": [
    "R = 8; L = 4e-3; U = 20; omega = 1000\n",
    "X_L = omega*L\n",
    "Z = np.sqrt(R**2+X_L**2)\n",
    "P = R*U**2/Z**2\n",
    "P"
   ]
  },
  {
   "cell_type": "markdown",
   "id": "6ab65b93",
   "metadata": {},
   "source": [
    "And, in the case of **c)**:  \n"
   ]
  },
  {
   "cell_type": "code",
   "execution_count": 55,
   "id": "8cf66758",
   "metadata": {},
   "outputs": [
    {
     "data": {
      "text/plain": [
       "32.0"
      ]
     },
     "execution_count": 55,
     "metadata": {},
     "output_type": "execute_result"
    }
   ],
   "source": [
    "omega = 1500\n",
    "X_L = omega*L\n",
    "Z = np.sqrt(R**2+X_L**2)\n",
    "P = R*U**2/Z**2\n",
    "P"
   ]
  },
  {
   "cell_type": "markdown",
   "id": "8be96e77",
   "metadata": {},
   "source": [
    "#### Problem 12\n",
    "12. The power delivered to a capacitor is $p=10\\mathrm{mW}\\sin2t$ and its voltage is $u=5\\sqrt{2}\\mathrm{V}\\sin t$. Find the current entering the positive terminal, the charge between times $0$ and a) $\\pi/4\\mathrm{s}$, b) $\\pi\\mathrm{s}$, and energy delivered within this time."
   ]
  },
  {
   "cell_type": "markdown",
   "id": "6a856c40",
   "metadata": {},
   "source": [
    "$$ U(j\\omega) = U = 5\\mathrm{V} \\quad\\quad\\text{and}\\quad\\quad i = i(t) = \\frac{p}{u}$$"
   ]
  },
  {
   "cell_type": "markdown",
   "id": "abc50ab6",
   "metadata": {},
   "source": [
    "$$ p = 20\\mathrm{mW}\\sin t \\sin\\big(t+90^\\circ\\big) \\quad\\implies\\quad i = 2\\sqrt{2}\\mathrm{mA}\\sin\\big(t+90^\\circ\\big)\\quad\\hat{=}\\quad I(j\\omega) = 2\\mathrm{mA}\\,\\angle90^\\circ$$"
   ]
  },
  {
   "cell_type": "markdown",
   "id": "95714916",
   "metadata": {},
   "source": [
    "$$ Z(j\\omega) = -j|X_C| = -j\\frac{1}{C} = \\frac{1}{C}\\,\\angle\\!-\\!90^\\circ = \\frac{U}{I(j\\omega)}$$"
   ]
  },
  {
   "cell_type": "markdown",
   "id": "9c26ba47",
   "metadata": {},
   "source": [
    "$$ \\frac{1}{C} = \\frac{5}{0.002}\\,\\mathrm{F}^{-1} \\quad\\implies\\quad C = \\frac{0.002}{5}\\,\\mathrm{F} = 0.4\\mathrm{mF}$$"
   ]
  },
  {
   "cell_type": "code",
   "execution_count": 56,
   "id": "68487f6d",
   "metadata": {},
   "outputs": [
    {
     "data": {
      "text/plain": [
       "0.0004"
      ]
     },
     "execution_count": 56,
     "metadata": {},
     "output_type": "execute_result"
    }
   ],
   "source": [
    "C = 0.002/5\n",
    "C"
   ]
  },
  {
   "cell_type": "markdown",
   "id": "588cd2e1",
   "metadata": {},
   "source": [
    "In the case of **a)**:  \n",
    "\n",
    "\\begin{equation}\\tag{12.1}\n",
    "    \\Delta q = \\int_0^{0.25\\pi} i\\,\\mathrm{d}t = I\\sqrt{2}\\mathrm{s}\\sin 0.25\\pi = 2\\mathrm{mC}\n",
    "\\end{equation}    "
   ]
  },
  {
   "cell_type": "markdown",
   "id": "c60c2e72",
   "metadata": {},
   "source": [
    "$$ \\int i\\,\\mathrm{d}t = I\\sqrt{2}\\sin t + c$$"
   ]
  },
  {
   "cell_type": "markdown",
   "id": "4872967a",
   "metadata": {},
   "source": [
    "The energy delivered should be given by:  \n",
    "\n",
    "$$ \\int p\\,\\mathrm{d}t = -5\\mathrm{mJ}\\cos2t + c$$"
   ]
  },
  {
   "cell_type": "markdown",
   "id": "b10299a8",
   "metadata": {},
   "source": [
    "\\begin{equation}\\tag{12.2}\n",
    "    W = \\int_0^{0.25\\pi} p\\,\\mathrm{d}t = 5\\mathrm{mJ}\n",
    "\\end{equation}    "
   ]
  },
  {
   "cell_type": "markdown",
   "id": "8f5af5b1",
   "metadata": {},
   "source": [
    "In the case of **b)**:  \n",
    "\n",
    "\\begin{equation}\\tag{12.3}\n",
    "    \\Delta q = 0\n",
    "\\end{equation}    "
   ]
  },
  {
   "cell_type": "markdown",
   "id": "667eb699",
   "metadata": {},
   "source": [
    "and,\n",
    "\\begin{equation}\\tag{12.4}\n",
    "    W = 0\n",
    "\\end{equation}    "
   ]
  },
  {
   "cell_type": "markdown",
   "id": "1f249262",
   "metadata": {},
   "source": [
    "#### Problem 13\n",
    "13. A resistive load consumes $400 \\mathrm{W}$ at $100 \\mathrm{V}$, $60 \\mathrm{Hz}$ supply. Find a capacitor that should be connected in series, if the combination is supplied from $200 \\mathrm{V}$, $50 \\mathrm{Hz}$ line and load consumes the same energy."
   ]
  },
  {
   "cell_type": "markdown",
   "id": "a61c66a7",
   "metadata": {},
   "source": [
    "$$ P = 400\\mathrm{W} = \\frac{U^2}{R} \\quad\\implies\\quad R = \\frac{U^2}{P} = 25\\Omega$$"
   ]
  },
  {
   "cell_type": "code",
   "execution_count": 57,
   "id": "463c78f5",
   "metadata": {},
   "outputs": [
    {
     "data": {
      "text/plain": [
       "25.0"
      ]
     },
     "execution_count": 57,
     "metadata": {},
     "output_type": "execute_result"
    }
   ],
   "source": [
    "U = 100; P = 400\n",
    "R = U**2/P\n",
    "R"
   ]
  },
  {
   "cell_type": "markdown",
   "id": "f8fda4db",
   "metadata": {},
   "source": [
    "Now,  \n",
    "\n",
    "$$ U = 200\\mathrm{V} \\quad\\quad \\omega = 2\\pi f = 100\\pi\\,\\frac{\\mathrm{rad}}{\\mathrm{s}} \\quad\\quad Z(j\\omega) = R - j\\frac{1}{\\omega C}$$"
   ]
  },
  {
   "cell_type": "markdown",
   "id": "8e0346ec",
   "metadata": {},
   "source": [
    "$$ I^2R = P \\quad\\implies\\quad I = \\sqrt{\\frac{P}{R}} = 4\\mathrm{A}$$"
   ]
  },
  {
   "cell_type": "markdown",
   "id": "d0b4dbed",
   "metadata": {},
   "source": [
    "$$ Z(j\\omega) = \\frac{U(j\\omega)}{I(j\\omega)} \\quad\\implies\\quad Z = \\frac{U}{I} = 50\\Omega = \\sqrt{R^2 + X_C^2}$$"
   ]
  },
  {
   "cell_type": "markdown",
   "id": "339b072f",
   "metadata": {},
   "source": [
    "$$ \\frac{1}{\\omega C} = \\sqrt{Z^2 - R^2} \\quad\\implies\\quad C = \\frac{1}{\\omega\\sqrt{Z^2-R^2}}\\approxeq 73.51\\mu\\mathrm{F}$$"
   ]
  },
  {
   "cell_type": "code",
   "execution_count": 58,
   "id": "8ec854ce",
   "metadata": {},
   "outputs": [
    {
     "data": {
      "text/plain": [
       "7.351051938957228e-05"
      ]
     },
     "execution_count": 58,
     "metadata": {},
     "output_type": "execute_result"
    }
   ],
   "source": [
    "omega = 100*np.pi; Z = 50;\n",
    "C = 1/(omega*np.sqrt(Z**2-R**2))\n",
    "C"
   ]
  },
  {
   "cell_type": "markdown",
   "id": "c09c3eb6",
   "metadata": {},
   "source": [
    "#### Problem 14\n",
    "14. The series RLC circuit is connected to $x=20\\mathrm{V}\\sin1000t$ source. Find the instantaneous energy stored, $W_L$ and $W_C$, at the moment when the source voltage is zero. Find the instantaneous energy stored in the inductor ($W_L$) at the moment when $W_C$ is zero. Find the instantaneous energy stored in the capacitor ($W_C$) at the moment when is $W_L$ zero."
   ]
  },
  {
   "cell_type": "markdown",
   "id": "d03f7086",
   "metadata": {},
   "source": [
    "$$ i = i(t) = I\\sqrt{2}\\sin\\big(1000t + \\alpha_i\\big) \\quad\\quad\\hat{=}\\quad\\quad I(j\\omega) = I\\,\\angle\\alpha_i = I\\,\\angle\\!-\\!\\varphi$$"
   ]
  },
  {
   "cell_type": "markdown",
   "id": "3fbdd78b",
   "metadata": {},
   "source": [
    "$$ x=x(t) = 20\\mathrm{V}\\sin\\omega t \\quad\\text{where }\\;\\omega = 1000\\,\\frac{\\mathrm{rad}}{\\mathrm{s}} = \\frac{2\\pi}{T}\\quad\\quad\\hat{=}\\quad\\quad E(j\\omega) = E = 10\\sqrt{2}\\mathrm{V}$$"
   ]
  },
  {
   "cell_type": "markdown",
   "id": "5b492c19",
   "metadata": {},
   "source": [
    "Via KVL and element equations,  \n",
    "\n",
    "$$ E(j\\omega) = Z(j\\omega)I(j\\omega) \\quad\\quad\\text{where }\\;Z(j\\omega) = R + j\\omega L - j\\frac{1}{\\omega C} = Z\\,\\angle\\varphi$$"
   ]
  },
  {
   "cell_type": "markdown",
   "id": "ac70d0ae",
   "metadata": {},
   "source": [
    "$$ Z(j\\omega) = \\frac{E(j\\omega)}{I(j\\omega)} = \\frac{E}{I}\\,\\angle\\!-\\!\\alpha_i \\quad\\quad\\text{and}\\quad\\quad I(j\\omega) = \\frac{E}{Z}\\,\\angle\\!-\\!\\varphi$$"
   ]
  },
  {
   "cell_type": "markdown",
   "id": "0cdefaed",
   "metadata": {},
   "source": [
    "$$ I = \\frac{E}{Z} = \\frac{E}{\\sqrt{R^2+X^2}} \\quad\\quad\\text{and}\\quad\\quad \\alpha_i = -\\varphi$$"
   ]
  },
  {
   "cell_type": "markdown",
   "id": "72adf2fe",
   "metadata": {},
   "source": [
    "When $t=0.5nT$, where $n\\in\\mathbb{Z}$, the source voltage is equal to zero.  \n",
    "\n",
    "\\begin{equation}\\tag{14.0}\n",
    "    x(0.5nT) = 0\n",
    "\\end{equation}    "
   ]
  },
  {
   "cell_type": "markdown",
   "id": "8a36a5d2",
   "metadata": {},
   "source": [
    "For the **inductor** voltage:  "
   ]
  },
  {
   "cell_type": "markdown",
   "id": "45bbe927",
   "metadata": {},
   "source": [
    "$$ U_L(j\\omega) = j\\omega LI(j\\omega) = \\omega LI\\,\\angle\\big(\\alpha_i+90^\\circ\\big) $$\n",
    "\n",
    "$$\\hat{=}$$  \n",
    "\n",
    "$$u_L = u_L(t) = X_LI\\sqrt{2}\\sin\\big(\\omega t + \\alpha_i + 90^\\circ\\big) = \\omega LI\\sqrt{2}\\cos\\big(\\omega t + \\alpha_i\\big) $$"
   ]
  },
  {
   "cell_type": "markdown",
   "id": "4b1a9357",
   "metadata": {},
   "source": [
    "The power:  \n",
    "\n",
    "$$ p_L = p_L(t) = u_Li = \\omega LI^2 2\\sin\\big(\\omega t + \\alpha_i\\big)\\cos\\big(\\omega t + \\alpha_i\\big)$$"
   ]
  },
  {
   "cell_type": "markdown",
   "id": "39126c54",
   "metadata": {},
   "source": [
    "$$= \\omega LI^2\\sin\\big(2\\omega t + 2\\alpha_i\\big)$$"
   ]
  },
  {
   "cell_type": "markdown",
   "id": "6d527ee7",
   "metadata": {},
   "source": [
    "Via equation (10.1),  \n",
    "\n",
    "\\begin{equation}\\tag{14.1}\n",
    "    W_L(0.5nT) = 0\n",
    "\\end{equation}    "
   ]
  },
  {
   "cell_type": "markdown",
   "id": "25a11339",
   "metadata": {},
   "source": [
    "For the **capacitor** voltage:  \n",
    "\n",
    "$$ U_C(j\\omega) = -j\\frac{1}{\\omega C}I(j\\omega) = \\frac{I}{\\omega C}\\,\\angle\\!-\\!\\big(\\varphi + 90^\\circ\\big)$$\n",
    "\n",
    "$$ \\hat{=}$$\n",
    "\n",
    "$$ u_C = u_C(t) = \\frac{I\\sqrt{2}}{\\omega C}\\,\\sin\\big(\\omega t - \\varphi - 90^\\circ\\big) = -\\frac{I\\sqrt{2}}{\\omega C}\\,\\cos\\big(\\omega t - \\varphi\\big)$$"
   ]
  },
  {
   "cell_type": "markdown",
   "id": "a0233bbe",
   "metadata": {},
   "source": [
    "The power:  \n",
    "\n",
    "$$ p_C = p_C(t) = u_Ci = -\\frac{2I^2}{\\omega C}\\sin\\big(\\omega t - \\varphi\\big)\\cos\\big(\\omega t -\\varphi\\big) = -\\frac{I^2}{\\omega C}\\,\\sin\\big(2\\omega t -2\\varphi\\big)$$"
   ]
  },
  {
   "cell_type": "markdown",
   "id": "c6ce546b",
   "metadata": {},
   "source": [
    "Via equation (10.2),  \n",
    "\n",
    "\\begin{equation}\\tag{14.1}\n",
    "    W_C(0.5nT) = 0\n",
    "\\end{equation}    "
   ]
  },
  {
   "cell_type": "markdown",
   "id": "37b91c7a",
   "metadata": {},
   "source": [
    "For the **resistor** voltage:  \n",
    "\n",
    "$$ U_R(j\\omega) = RI(j\\omega) = RI\\,\\angle\\!-\\!\\varphi \\quad\\quad\\hat{=}\\quad\\quad u_R = u_R(t) = RI\\sqrt{2}\\sin\\big(\\omega t -\\varphi\\big)$$"
   ]
  },
  {
   "cell_type": "markdown",
   "id": "b2a62d71",
   "metadata": {},
   "source": [
    "The istantaneous power:  \n",
    "\n",
    "$$ p_R = p_R(t) = u_Ri = 2RI^2\\sin^2\\big(\\omega t - \\varphi\\big)$$"
   ]
  },
  {
   "cell_type": "markdown",
   "id": "01a31111",
   "metadata": {},
   "source": [
    "Via the above equation and equation (P1.1),  \n",
    "\n",
    "\\begin{equation}\\tag{14.3}\n",
    "    p_R= RI^2\\Big(1 - \\cos\\big(2\\omega t - 2\\varphi\\big)\\Big)\n",
    "\\end{equation}    "
   ]
  },
  {
   "cell_type": "markdown",
   "id": "a8a1eccb",
   "metadata": {},
   "source": [
    "#### Problem 15\n",
    "15. A single-phase motor is supplied with $1200 \\mathrm{W}$ from $240\\mathrm{V}$, $50\\mathrm{Hz}$ line. The motor operates at a $\\mathrm{pf}$ of $0.8$. What current flows to the motor? What is the apparent power?"
   ]
  },
  {
   "cell_type": "markdown",
   "id": "0ba40cbb",
   "metadata": {},
   "source": [
    "$$ I = \\frac{P}{U\\cos\\varphi} = 6.25\\mathrm{A}$$"
   ]
  },
  {
   "cell_type": "code",
   "execution_count": 59,
   "id": "7229b3d2",
   "metadata": {},
   "outputs": [
    {
     "data": {
      "text/plain": [
       "6.25"
      ]
     },
     "execution_count": 59,
     "metadata": {},
     "output_type": "execute_result"
    }
   ],
   "source": [
    "P = 1200; U = 240;\n",
    "I = P/(U*0.8)\n",
    "I"
   ]
  },
  {
   "cell_type": "markdown",
   "id": "cadf6795",
   "metadata": {},
   "source": [
    "$$ S = UI = 1500\\mathrm{VA}$$"
   ]
  },
  {
   "cell_type": "code",
   "execution_count": 60,
   "id": "e3e01dd5",
   "metadata": {},
   "outputs": [
    {
     "data": {
      "text/plain": [
       "1500.0"
      ]
     },
     "execution_count": 60,
     "metadata": {},
     "output_type": "execute_result"
    }
   ],
   "source": [
    "S = U*I\n",
    "S"
   ]
  }
 ],
 "metadata": {
  "kernelspec": {
   "display_name": "Python 3",
   "language": "python",
   "name": "python3"
  },
  "language_info": {
   "codemirror_mode": {
    "name": "ipython",
    "version": 3
   },
   "file_extension": ".py",
   "mimetype": "text/x-python",
   "name": "python",
   "nbconvert_exporter": "python",
   "pygments_lexer": "ipython3",
   "version": "3.8.10"
  }
 },
 "nbformat": 4,
 "nbformat_minor": 5
}
