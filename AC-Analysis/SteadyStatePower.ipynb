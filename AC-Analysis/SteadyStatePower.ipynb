{
 "cells": [
  {
   "cell_type": "markdown",
   "id": "70127c64",
   "metadata": {},
   "source": [
    "# AC Steady-State Power\n",
    "### *Chapter 4.3* -- AC Steady-State Analysis\n",
    "\n",
    "Few different measures of ac steady-state power are used, and they all are presented. The\n",
    "special attention is laid on the average power. Methods of its calculation and maximum power\n",
    "transfer condition are discussed."
   ]
  },
  {
   "cell_type": "markdown",
   "id": "e39c23d0",
   "metadata": {},
   "source": [
    "## Measures of Power\n",
    "### Instantaneous power\n",
    "In a linear circuit with periodic excitation, the steady-state currents and voltages are also\n",
    "periodic, each having identical period. Then, instantaneous power absorbed by two-terminal\n",
    "element (subcircuit) is also periodic. For the considered sinusoidal excitation, instantaneous\n",
    "power is also a sinusoid.  \n",
    "\n",
    "\\begin{equation}\\tag{1}\n",
    "    p = ui = U\\sqrt{2}\\sin\\big(\\omega t + \\alpha_u\\big)I\\sqrt{2}\\sin\\big(\\omega t - \\alpha_i\\big) = UI\\cos\\big(\\alpha_u+\\alpha_i\\big) - UI\\cos\\big(2\\omega t + \\alpha_u + \\alpha_i\\big)\n",
    "\\end{equation}    "
   ]
  },
  {
   "cell_type": "markdown",
   "id": "0c2b719f",
   "metadata": {},
   "source": [
    "Proof for equation (1):  \n",
    "\n",
    "$$ p = 2UI\\big(\\sin\\omega t\\cos\\alpha_u + \\cos\\omega t\\sin\\alpha_u \\big)\\big(\\sin\\omega t \\cos\\alpha_i + \\cos\\omega t \\sin \\alpha_i\\big)$$"
   ]
  },
  {
   "cell_type": "markdown",
   "id": "b7e2385b",
   "metadata": {},
   "source": [
    "$$ = 2UI\\big(\\sin^2\\omega t\\cos\\alpha_u\\cos\\alpha_i + 0.5\\sin2\\omega t \\cos\\alpha_u\\sin\\alpha_i + 0.5\\sin2\\omega t \\sin\\alpha_u\\cos\\alpha_i + \\cos^2\\omega t\\sin\\alpha_u\\sin\\alpha_i\\big)$$"
   ]
  },
  {
   "cell_type": "markdown",
   "id": "f7d7f880",
   "metadata": {},
   "source": [
    "$$ = 2UI\\big(\\sin^2\\omega t \\cos\\alpha_u\\cos\\alpha_i + 0.5\\sin2\\omega t(\\cos\\alpha_u\\sin\\alpha_i + \\sin\\alpha_u\\cos\\alpha_i) + \\cos^2\\omega t\\sin\\alpha_u\\sin\\alpha_i\\big)$$"
   ]
  },
  {
   "cell_type": "markdown",
   "id": "d04cba56",
   "metadata": {},
   "source": [
    "$$ = 2UI\\big(\\sin^2\\omega t\\cos\\alpha_u\\cos\\alpha_i + 0.5\\sin2\\omega t\\sin(\\alpha_u+\\alpha_i) + \\cos^2\\omega t \\sin\\alpha_u\\sin\\alpha_i\\big)$$"
   ]
  },
  {
   "cell_type": "markdown",
   "id": "d8e0f661",
   "metadata": {},
   "source": [
    "$$ = 2UI\\big(0.5\\cos2\\omega t(\\sin\\alpha_u\\sin\\alpha_i - \\cos\\alpha_u\\cos\\alpha_i) + 0.5(\\sin\\alpha_u\\sin\\alpha_i + \\cos\\alpha_u\\cos\\alpha_i) + 0.5\\sin2\\omega t\\sin(\\alpha_u + \\alpha_i)\\big)$$"
   ]
  },
  {
   "cell_type": "markdown",
   "id": "389ebc9f",
   "metadata": {},
   "source": [
    "$$ =2UI\\big(0.5\\cos2\\omega t\\sin(\\alpha_u + \\alpha_i - 0.5\\pi) + 0.5\\sin2\\omega t\\sin(\\alpha_u + \\alpha_i) + 0.5(\\sin\\alpha_u\\sin\\alpha_i + \\cos\\alpha_u\\cos\\alpha_i\\big)$$"
   ]
  },
  {
   "cell_type": "markdown",
   "id": "fca70c4d",
   "metadata": {},
   "source": [
    "$$ =2UI\\big(0.5\\sin2\\omega t\\sin(\\alpha_u+\\alpha_i) - 0.5\\cos2\\omega t\\cos(\\alpha_u+\\alpha_i) + 0.5(\\sin\\alpha_u\\sin\\alpha_i + \\cos\\alpha_u\\cos\\alpha_i\\big)$$"
   ]
  },
  {
   "cell_type": "markdown",
   "id": "99674a59",
   "metadata": {},
   "source": [
    "$$ UI\\Big(\\sin\\alpha_u\\sin\\alpha_i + \\cos\\alpha_u\\cos\\alpha_i -\\big(\\cos2\\omega t\\cos(\\alpha_u+\\alpha_i) - \\sin2\\omega t\\sin(\\alpha_u+\\alpha_i) \\big) \\Big)$$"
   ]
  },
  {
   "cell_type": "markdown",
   "id": "7a8f3014",
   "metadata": {},
   "source": [
    "$$ = UI\\Big(\\cos(\\alpha_u-\\alpha_i) + \\sin(2\\omega t + \\alpha_u + \\alpha_i - 0.5\\pi)\\Big)$$"
   ]
  },
  {
   "cell_type": "markdown",
   "id": "5cc3e274",
   "metadata": {},
   "source": [
    "$$ = UI\\big(\\cos(\\alpha_u-\\alpha_i) - \\cos(2\\omega t +\\alpha_u + \\alpha_i)\\big) $$"
   ]
  },
  {
   "cell_type": "markdown",
   "id": "94d6da0e",
   "metadata": {},
   "source": [
    "Let $f(\\theta):=\\sin^2\\theta$.  \n",
    "\n",
    "$$ f'(\\theta) = 2\\sin\\theta \\cos\\theta = \\sin2\\theta$$"
   ]
  },
  {
   "cell_type": "markdown",
   "id": "56ec9169",
   "metadata": {},
   "source": [
    "$$ g(\\theta) := \\int \\sin2\\theta\\,\\mathrm{d}\\theta = -0.5\\cos2\\theta + c$$"
   ]
  },
  {
   "cell_type": "markdown",
   "id": "0ed37055",
   "metadata": {},
   "source": [
    "\\begin{equation}\\tag{P1.1}\n",
    "    \\sin^2\\theta = 0.5\\big(1-\\cos2\\theta\\big)\n",
    "\\end{equation}    "
   ]
  },
  {
   "cell_type": "markdown",
   "id": "0b8794c2",
   "metadata": {},
   "source": [
    "Now let $f(\\theta):=\\cos^2\\theta$.  \n",
    "\n",
    "$$ f'(\\theta) = -\\sin2\\theta$$"
   ]
  },
  {
   "cell_type": "markdown",
   "id": "1b1d9d3c",
   "metadata": {},
   "source": [
    "$$ g(\\theta) := -\\int\\sin2\\theta\\,\\mathrm{d}\\theta = 0.5\\cos2\\theta + c$$"
   ]
  },
  {
   "cell_type": "markdown",
   "id": "e1050b05",
   "metadata": {},
   "source": [
    "\\begin{equation}\\tag{P1.2}\n",
    "    \\cos^2\\theta = 0.5\\big(\\cos2\\theta + 1\\big)\n",
    "\\end{equation}    "
   ]
  },
  {
   "cell_type": "markdown",
   "id": "b06ab518",
   "metadata": {},
   "source": [
    "The first term in this equation is independent of time, the second term varies periodically over\n",
    "time at twice the angular frequency. Proper operation of electrical devices limits the\n",
    "maximum instantaneous power. This power, the so called **peak power**, is a commonly used\n",
    "specification for characterizing elements or devices.  \n",
    "\n",
    "\\begin{equation}\\tag{1a}\n",
    "    P_\\mathrm{peak} = UI\\cos(\\alpha_u-\\alpha_i) + UI\n",
    "\\end{equation}    "
   ]
  },
  {
   "cell_type": "markdown",
   "id": "b8f9f7e9",
   "metadata": {},
   "source": [
    "### Average or Real Power\n",
    "Mathematically, the first term of instantaneous power is its average value. This term is called\n",
    "the average power or real power, henceforth '$P$', and it represents the power delivered by a source or\n",
    "absorbed by a two-terminal element or device (subcircuit).  \n",
    "\n",
    "\\begin{equation}\\tag{2}\n",
    "    P = \\frac{1}{T}\\,\\int_{t_0}^{t_0+T} p\\,\\mathrm{d}t = UI\\cos(\\alpha_u-\\alpha_i) = UI\\cos\\varphi\n",
    "\\end{equation}    "
   ]
  },
  {
   "cell_type": "markdown",
   "id": "675bd89a",
   "metadata": {},
   "source": [
    "$$ f(t):= \\int p\\,\\mathrm{d}t = tUI\\cos\\varphi - \\frac{UI}{2\\omega}\\,\\sin\\big(2\\omega t + \\alpha_u + \\alpha_i\\big)$$"
   ]
  },
  {
   "cell_type": "markdown",
   "id": "39cc4b9b",
   "metadata": {},
   "source": [
    "$$ f(t_0+T) - f(t_0) = TUI\\cos\\varphi $$"
   ]
  },
  {
   "cell_type": "markdown",
   "id": "460e6f89",
   "metadata": {},
   "source": [
    "The average power, in watts $[\\mathrm{W}]$, is always nonnegative and satisfies the power balance\n",
    "principle. It is the product of the RMS voltage, the RMS current and the cosine of the angle\n",
    "between them. This cosine is called the **power factor**, $\\mathrm{pf}$.  \n",
    "\n",
    "\\begin{equation}\\tag{2a}\n",
    "    \\mathrm{pf} = \\cos(\\alpha_u - \\alpha_i) = \\cos\\varphi\n",
    "\\end{equation}    "
   ]
  },
  {
   "cell_type": "markdown",
   "id": "cd0de85d",
   "metadata": {},
   "source": [
    "If said two-terminal element is a resistor, then $\\varphi=0$, and thus the power factor is $\\mathrm{pf}=\\cos0 = 1$.  \n",
    "\n",
    "\\begin{equation}\\tag{2b}\n",
    "    P_R = UI = I^2R = \\frac{U^2}{R}\n",
    "\\end{equation}    "
   ]
  },
  {
   "cell_type": "markdown",
   "id": "b561818b",
   "metadata": {},
   "source": [
    "If said two-terminal element is a capacitor or coil then $\\varphi=-90^\\circ$ or $\\varphi=90^\\circ$ and thus the power factor is $\\mathrm{pf}=0$.  Consequently, the real power of a capacitor or coil is equal to zero."
   ]
  },
  {
   "cell_type": "markdown",
   "id": "258641fd",
   "metadata": {},
   "source": [
    "\\begin{equation}\\tag{2c}\n",
    "    P_C = P_L = 0\n",
    "\\end{equation}    "
   ]
  },
  {
   "cell_type": "markdown",
   "id": "be4f5f38",
   "metadata": {},
   "source": [
    "In identifying a load character, the pf is characterized as leading or lagging by the phase of\n",
    "current with respect to that of the voltage. Then, a capacitive load has a leading $\\mathrm{pf}$ and an\n",
    "inductive load has a lagging $\\mathrm{pf}$.  \n",
    "\n",
    "\n",
    "The average power designates the energy absorbed by two-terminal element or subcircuit. The\n",
    "energy absorbed in time interval $t=0$ from to $t=nT$ , where $n$ is a positive integer, is\n",
    "designated by the following equation:  \n",
    "\n",
    "\\begin{equation}\\tag{3}\n",
    "    W_{nT} = \\int_0^{nT} p\\,\\mathrm{d}t = \\int_0^{nT}P\\,\\mathrm{d}t \\;-\\; \\int_0^{nT}UI\\cos(\\omega t + \\alpha_u + \\alpha_i) = nTP\n",
    "\\end{equation}    "
   ]
  },
  {
   "cell_type": "markdown",
   "id": "771cc8c2",
   "metadata": {},
   "source": [
    "Consider the circuit of Fig. 4.3.1, consisting of a practical source (sinusoidal generator),\n",
    "modeled by the Thevenin equivalent, connected to a load subcircuit.  \n",
    "\n",
    "![Fig-4.3.1](Figures/Fig-4.3.1.png)"
   ]
  },
  {
   "cell_type": "markdown",
   "id": "575bbc14",
   "metadata": {},
   "source": [
    "The real power transferred from the generator to the load can be designated in three different\n",
    "ways.\n",
    "1. Phasors $U(j\\omega)$ and $I(j\\omega)$ are designated at first, then equation (4.3.2) is utilized to find the real power transferred.\n",
    "2. Effective currents of load resistors are calculated at first. Then, the power balance principle (4.3.4) is utilized, where $N$ is number of load resistors.  \n",
    "\n",
    "\\begin{equation}\\tag{4}\n",
    "    P = \\sum_{i=1}^N P_i = \\sum_{i=1}^N I_i^2R_i\n",
    "\\end{equation}    \n",
    "\n",
    "3. The effective current $I$ and the equivalent series resistance of the load $R_\\mathrm{l}$ are calculated at first, then the real power transferred is designated from equation (4.3.2b)."
   ]
  },
  {
   "cell_type": "markdown",
   "id": "7331d3f9",
   "metadata": {},
   "source": [
    "### Example 4.3.1\n",
    "Find the real power transferred to the subcircuit presented in Fig. 4.2.11, if the voltage on its\n",
    "terminals is $U(j\\omega)=10\\mathrm{V}$.  \n",
    "\n",
    "![Fig-4.2.11](Figures/Fig-4.2.11.png)"
   ]
  },
  {
   "cell_type": "markdown",
   "id": "d8433c30",
   "metadata": {},
   "source": [
    "$$ I = \\frac{U}{Z} \\quad\\quad\\text{where }\\;Z(j\\omega) = Z\\,\\angle\\alpha_z \\quad\\quad\\text{and}\\quad\\quad \\varphi=\\alpha_u-\\alpha_i = -\\alpha_i = -\\alpha_z$$"
   ]
  },
  {
   "cell_type": "markdown",
   "id": "34ce2fc0",
   "metadata": {},
   "source": [
    "$$ Z(j\\omega) = R_1 + jX_L + Z_2(j\\omega) \\quad\\quad \\text{where }\\; A_2(j\\omega) =G_2 + j\\frac{1}{X_C} = \\frac{X_C + jR_2}{R_2X_C} $$"
   ]
  },
  {
   "cell_type": "markdown",
   "id": "6c73f8d5",
   "metadata": {},
   "source": [
    "$$ Z_2(j\\omega) = Z_2\\,\\angle \\alpha_{z2} \\quad\\quad\\text{where }\\;Z_2 = \\frac{R_2X_C}{\\sqrt{X_C^2+R_2^2}} \\quad\\text{and}\\quad \\alpha_{z2} = -\\arcsin \\frac{R_2}{\\sqrt{X_C^2+R_2^2}}$$"
   ]
  },
  {
   "cell_type": "markdown",
   "id": "97d15136",
   "metadata": {},
   "source": [
    "$$ Z_2(j\\omega) = \\frac{R_2X_C}{X_C^2+R_2^2}\\,\\big(X_C - jR_2\\big)$$"
   ]
  },
  {
   "cell_type": "markdown",
   "id": "3e2e4d30",
   "metadata": {},
   "source": [
    "$$Z(j\\omega) = R_1 + \\frac{R_2X_C^2}{X_C^2+R_2^2} + j\\left(X_L - \\frac{R_2^2X_C}{X_C^2+R_2^2}\\right) $$"
   ]
  },
  {
   "cell_type": "markdown",
   "id": "8f85716a",
   "metadata": {},
   "source": [
    "$$ = \\frac{R_1\\big(X_C^2+R_2^2\\big) + R_2X_C^2 + j\\Big(X_L\\big(X_C^2+R_2^2 \\big) - R_2^2X_C \\Big)}{X_C^2 + R_2^2}$$"
   ]
  },
  {
   "cell_type": "markdown",
   "id": "b5c8f16e",
   "metadata": {},
   "source": [
    "$$Z(j\\omega) = 10+10j = 10\\sqrt{2}\\,\\angle45^\\circ \\implies I=\\frac{1}{\\sqrt{2}}\\,\\mathrm{A} \\quad\\text{and}\\quad \\varphi = -45^\\circ$$"
   ]
  },
  {
   "cell_type": "markdown",
   "id": "74d0b71c",
   "metadata": {},
   "source": [
    "$$ P = UI\\cos45^\\circ = 5\\mathrm{W}$$"
   ]
  },
  {
   "cell_type": "markdown",
   "id": "cda593cd",
   "metadata": {},
   "source": [
    "### Apparent Power\n",
    "For the given line voltage , the real power consumed by the load is strongly related to\n",
    "its power factor. It may vary from $0$ to the maximum of $S$, the apparent power.  \n",
    "\n",
    "\\begin{equation}\\tag{8}\n",
    "    S = P_{\\big | \\varphi=0} = UI\n",
    "\\end{equation}    "
   ]
  },
  {
   "cell_type": "markdown",
   "id": "1591fd62",
   "metadata": {},
   "source": [
    "This product is called the apparent power. To avoid confusing with the unit of average power,\n",
    "the watt, the apparent power unit is volt-ampere $[\\mathrm{VA}]$ and obviously, the apparent power\n",
    "does not satisfy the power balance principle. It simply defines the maximum capacity of a\n",
    "source (power plant).  \n",
    "\n",
    "The power factor of a load has a very important practical meaning. Power company is very\n",
    "interested in having customer keep this factor as close to unity as possible, to minimize the\n",
    "power line losses.  \n",
    "\n",
    "\\begin{equation}\\tag{9}\n",
    "    P_\\mathrm{line} = I^2R_\\mathrm{line}\n",
    "\\end{equation}    \n"
   ]
  },
  {
   "cell_type": "markdown",
   "id": "1b27d797",
   "metadata": {},
   "source": [
    "This principle is demonstrated in the next example."
   ]
  },
  {
   "cell_type": "markdown",
   "id": "3038dad2",
   "metadata": {},
   "source": [
    "### Example 4.3.2\n",
    "Suppose, that a mill consumes $P=1\\mathrm{kW}$ from a $200 \\mathrm{V}$ line at a lagging power factor of $\\mathrm{pf}=\\cos60^\\circ = 0.5$.  Then, the required current is:  \n",
    "\n",
    "\\begin{equation}\\tag{10}\n",
    "    I = \\frac{P}{U\\cos60^\\circ} = \\frac{1000\\mathrm{W}}{100\\mathrm{V}} = 10\\mathrm{A}\n",
    "\\end{equation}    "
   ]
  },
  {
   "cell_type": "markdown",
   "id": "aed53139",
   "metadata": {},
   "source": [
    "If the power factor was at unity $\\mathrm{pf}=1$, then the current would only be at $5\\mathrm{A}$.  As can be seen, the power plant must generate a larger current in the case of lower pf and it causes larger line losses. For instance, if the transmission line resistance is $R_\\mathrm{line}=5\\Omega$, then the difference in power is $500\\mathrm{W}$ to $125\\mathrm{W}$."
   ]
  },
  {
   "cell_type": "code",
   "execution_count": 4,
   "id": "9c64c7b8",
   "metadata": {},
   "outputs": [
    {
     "data": {
      "text/plain": [
       "4.0"
      ]
     },
     "execution_count": 4,
     "metadata": {},
     "output_type": "execute_result"
    }
   ],
   "source": [
    "500/125"
   ]
  },
  {
   "cell_type": "markdown",
   "id": "a37a619a",
   "metadata": {},
   "source": [
    "Most industrial and many residential loads are inductive (lagging power factor). Although it is\n",
    "not possible to change the inductive nature of a load itself, it is possible to connect a capacitive load in parallel with this load, and correct the power factor to unity that way. The circuit for power factor correction is presented in Fig. 4.3.2, together with the phasor diagram.  \n",
    "\n",
    "![Fig-4.3.2](Figures/Fig-4.3.2.png)"
   ]
  },
  {
   "cell_type": "markdown",
   "id": "48cfade0",
   "metadata": {},
   "source": [
    "### Example 4.3.3\n",
    "A load operating at a lagging power factor of $\\mathrm{pf}=\\cos45^\\circ=1/\\sqrt{2}$ dissipates $2 \\mathrm{kW}$ when connected to a $220 \\mathrm{V}$, $50 \\mathrm{Hz}$ power line. What value of capacitance is needed to correct the power factor to unity?"
   ]
  },
  {
   "cell_type": "markdown",
   "id": "2c8708dd",
   "metadata": {},
   "source": [
    "$$ U = 220\\mathrm{V} \\quad\\quad \\omega = 100\\pi\\,\\mathrm{rad}/\\mathrm{s} \\quad\\quad I = \\frac{2000\\mathrm{W}}{110\\sqrt{2}\\mathrm{V}} = \\frac{1000\\sqrt{2}}{110}\\,\\mathrm{A} \\quad\\varphi=\\alpha_u - \\alpha_i = 45^\\circ$$"
   ]
  },
  {
   "cell_type": "markdown",
   "id": "35e81d9e",
   "metadata": {},
   "source": [
    "$$ I(j\\omega) = I\\,\\big(\\cos\\varphi - j\\sin\\varphi\\big)$$"
   ]
  },
  {
   "cell_type": "markdown",
   "id": "ca0cdb10",
   "metadata": {},
   "source": [
    "$$ I\\sin\\varphi = \\frac{1000}{110}\\,\\mathrm{A} = \\frac{220\\mathrm{V}}{X_C}$$"
   ]
  },
  {
   "cell_type": "markdown",
   "id": "376da8b0",
   "metadata": {},
   "source": [
    "$$ X_C = \\frac{1}{\\omega C} = \\frac{220\\cdot110}{1000}\\,\\Omega$$"
   ]
  },
  {
   "cell_type": "markdown",
   "id": "e8331988",
   "metadata": {},
   "source": [
    "$$ C = \\frac{1000}{220\\cdot110\\cdot 100\\pi}\\,\\mathrm{F}$$"
   ]
  },
  {
   "cell_type": "code",
   "execution_count": 7,
   "id": "b6256253",
   "metadata": {},
   "outputs": [],
   "source": [
    "import numpy as np"
   ]
  },
  {
   "cell_type": "code",
   "execution_count": 18,
   "id": "5c68cfe5",
   "metadata": {},
   "outputs": [
    {
     "data": {
      "text/plain": [
       "0.00013153301081974823"
      ]
     },
     "execution_count": 18,
     "metadata": {},
     "output_type": "execute_result"
    }
   ],
   "source": [
    "1000/(220*100*110*np.pi)"
   ]
  },
  {
   "cell_type": "markdown",
   "id": "ac06fe94",
   "metadata": {},
   "source": [
    "### Reactive Power\n",
    "Energy storage elements, capacitors and coils, neither supply nor dissipate power on average,\n",
    "but rather exchange it back and forth with the rest of the circuit. To measure the amount of\n",
    "periodic energy exchange taking place between a given subcircuit and the rest of the circuit,\n",
    "reactive power $Q$ is introduced.  \n",
    "\n",
    "\\begin{equation}\\tag{11}\n",
    "    Q = UI\\sin\\varphi\n",
    "\\end{equation}    "
   ]
  },
  {
   "cell_type": "markdown",
   "id": "73d0fefe",
   "metadata": {},
   "source": [
    "The sign of $Q$ is positive for inductive loads and negative for capacitive ones. For the pure\n",
    "capacitive or pure inductive load, $Q=-UI$ or $Q=UI$ , respectively. For pure resistive load,\n",
    "$Q=0$.  \n",
    "\n",
    "The unit of reactive power is **var** or **volt-ampere reactive**, $[\\mathrm{VAr}]$. The reactive power satisfies the power balance principle."
   ]
  },
  {
   "cell_type": "markdown",
   "id": "04665ce0",
   "metadata": {},
   "source": [
    "### Example 4.3.1 – cont.\n",
    "Find the reactive power transferred to the subcircuit.  \n",
    "\n",
    "$$Q = UI\\sin45^\\circ = 5\\mathrm{VAr}$$"
   ]
  },
  {
   "cell_type": "markdown",
   "id": "3d351ab2",
   "metadata": {},
   "source": [
    "$$ Z(j\\omega) = 10(1+j)=10\\sqrt{2}\\angle45^\\circ \\quad\\quad\\text{and}\\quad\\quad I(j\\omega) = \\frac{1}{\\sqrt{2}}\\,\\angle\\!-\\!45^\\circ$$"
   ]
  },
  {
   "cell_type": "markdown",
   "id": "a5a91d98",
   "metadata": {},
   "source": [
    "$$ U(j\\omega) = U\\angle\\alpha_u = IZ\\angle(\\alpha_z+\\alpha_i)= 10\\mathrm{V}\\,\\angle 0^\\circ = U$$"
   ]
  },
  {
   "cell_type": "markdown",
   "id": "d1bb6297",
   "metadata": {},
   "source": [
    "$$ Q = UI\\sin\\varphi = I^2Z\\sin45^\\circ = I^2X_L = 5\\mathrm{VAr}$$"
   ]
  },
  {
   "cell_type": "markdown",
   "id": "5fbe225c",
   "metadata": {},
   "source": [
    "### Complex Power\n",
    "To extend phasor analysis to the study of power in ac steady-state circuits, a new complex\n",
    "quantity, the complex power $S(j\\omega)$ is defined (4.3.14). For simplicity of description\n",
    "argument $\\omega$ is omitted at the right side of the equation.  \n",
    "\n",
    "\\begin{equation}\\tag{12}\n",
    "    S(j\\omega) = P + jQ = S\\angle\\varphi\n",
    "\\end{equation}    "
   ]
  },
  {
   "cell_type": "markdown",
   "id": "6fb15b7f",
   "metadata": {},
   "source": [
    "The real part of the complex power is the average power, the imaginary part is the reactive\n",
    "power, its modulus is the apparent power. Graphical interpretation in the complex plane is\n",
    "presented in Fig. 4.3.3, an inductive load is assumed. The complex power satisfies the power\n",
    "balance principle, as its both terms satisfy this principle.  \n",
    "\n",
    "![Fig-4.3.3](Figures/Fig-4.3.3.png)"
   ]
  },
  {
   "cell_type": "markdown",
   "id": "102d816e",
   "metadata": {},
   "source": [
    "## Maximum Power Transfer\n",
    "Same as in DC circuits, when designing AC circuit, it is frequently desirable to arrange for the\n",
    "maximum real power transfer to the load from the rest of the circuit. The whole circuit is\n",
    "divided into two parts (Fig. 4.3.1):\n",
    "1. source, active subcircuit modeled by its Thevenin equivalent:  \n",
    "\n",
    "\\begin{equation}\\tag{15a}\n",
    "    E_\\mathrm{o}, Z_\\mathrm{t}(j\\omega) = R_\\mathrm{t} + jX_\\mathrm{t} = Z_\\mathrm{t}\\angle\\varphi_\\mathrm{t}\n",
    "\\end{equation}    "
   ]
  },
  {
   "cell_type": "markdown",
   "id": "b4609b83",
   "metadata": {},
   "source": [
    "2. load, passive subcircuit modeled by its impedance:  \n",
    "\n",
    "\\begin{equation}\\tag{15b}\n",
    "    Z_\\mathrm{l}(j\\omega) = R_\\mathrm{l} + jX_\\mathrm{l} = Z_\\mathrm{l}\\angle\\varphi_\\mathrm{l}\n",
    "\\end{equation}    "
   ]
  },
  {
   "cell_type": "markdown",
   "id": "121e4b6b",
   "metadata": {},
   "source": [
    "Specifying $Z_\\mathrm{l}(j\\omega)$, so that the average power absorbed by this impedance from the given\n",
    "active subcircuit is a maximum, is the task. Power absorbed by the load is a function of two\n",
    "arguments, the real and imaginary compliments of $Z_\\mathrm{l}(j\\omega)$.  \n",
    "\n",
    "\\begin{equation}\\tag{16}\n",
    "    P = I^2R_\\mathrm{l} = \\left(\\frac{E_\\mathrm{o}}{\\sqrt{(R_\\mathrm{t}+R_\\mathrm{l})^2 + (X_\\mathrm{t}+X_\\mathrm{l})^2}} \\right)^2R_\\mathrm{l} := P(R_\\mathrm{l}, X_\\mathrm{l})\n",
    "\\end{equation}    "
   ]
  },
  {
   "cell_type": "markdown",
   "id": "ec680560",
   "metadata": {},
   "source": [
    "The above function, the average or real power absorbed by the load as a function of the load resistance and reactance, with the source's characteristics being parameters of the function, is at it's maximum when:  \n",
    "\n",
    "\\begin{equation}\\tag{17}\n",
    "    \\text{a: }\\;\\frac{\\partial P}{\\partial R_\\mathrm{l}} = 0 \\quad\\quad \\text{and}\\quad\\quad \\text{b: }\\; \\frac{\\partial P}{\\partial X_\\mathrm{l}} = 0\n",
    "\\end{equation}    "
   ]
  },
  {
   "cell_type": "markdown",
   "id": "98f10bbb",
   "metadata": {},
   "source": [
    "$$ I^2 - 2IR_\\mathrm{l}\\,\\frac{E_\\mathrm{o}(R_\\mathrm{t} + R_\\mathrm{l})}{\\sqrt{\\big((R_\\mathrm{t} + R_\\mathrm{l})^2 + (X_\\mathrm{t} + X_\\mathrm{l})^2 \\big)^3}} = 0$$"
   ]
  },
  {
   "cell_type": "markdown",
   "id": "33cd27cc",
   "metadata": {},
   "source": [
    "$$ I = 2R_\\mathrm{l}E_\\mathrm{o}\\,\\frac{R_\\mathrm{l} + R_\\mathrm{t}}{\\sqrt{\\big( (R_\\mathrm{t} + R_\\mathrm{l})^2 + (X_\\mathrm{t} + X_\\mathrm{l})^2\\big)^3}}$$"
   ]
  },
  {
   "cell_type": "markdown",
   "id": "75cc4f26",
   "metadata": {},
   "source": [
    "$$ 0.5 = R_\\mathrm{l}\\,\\frac{R_\\mathrm{l} + R_\\mathrm{t}}{(R_\\mathrm{t} + R_\\mathrm{l})^2 + (X_\\mathrm{t} + X_\\mathrm{l})^2}$$"
   ]
  },
  {
   "cell_type": "markdown",
   "id": "83b813ef",
   "metadata": {},
   "source": [
    "$$ 0.5\\big(R_\\mathrm{t}^2 + 2R_\\mathrm{t}R_\\mathrm{l} + R_\\mathrm{l}^2 + (X_\\mathrm{t} + X_\\mathrm{l})^2\\big) = R_\\mathrm{t}R_\\mathrm{l} + R_\\mathrm{l}^2$$"
   ]
  },
  {
   "cell_type": "markdown",
   "id": "875b7899",
   "metadata": {},
   "source": [
    "$$ (X_\\mathrm{t} + X_\\mathrm{l})^2 + 0.5R_\\mathrm{t}^2= 0.5R_\\mathrm{l}^2 $$"
   ]
  },
  {
   "cell_type": "markdown",
   "id": "f0bb7fa5",
   "metadata": {},
   "source": [
    "\\begin{equation}\\tag{17a}\n",
    "     R_\\mathrm{l} = \\sqrt{2(X_\\mathrm{t}+X_\\mathrm{l})^2 + R_\\mathrm{t}^2}\n",
    "\\end{equation}    "
   ]
  },
  {
   "cell_type": "markdown",
   "id": "f492ccf9",
   "metadata": {},
   "source": [
    "$$ -2R_\\mathrm{l}\\,\\frac{E_\\mathrm{o}^2(X_\\mathrm{l}+X_\\mathrm{t})}{\\big((R_\\mathrm{t} + R_\\mathrm{l})^2 + (X_\\mathrm{t} + X_\\mathrm{l})^2 \\big)^2} = 0$$"
   ]
  },
  {
   "cell_type": "markdown",
   "id": "30f4f625",
   "metadata": {},
   "source": [
    "\\begin{equation}\\tag{17b}\n",
    "    X_\\mathrm{l} = -X_\\mathrm{t}\n",
    "\\end{equation}    "
   ]
  },
  {
   "cell_type": "markdown",
   "id": "f0dac202",
   "metadata": {},
   "source": [
    "Via equations (17a,b),  \n",
    "\n",
    "\\begin{equation}\\tag{17c}\n",
    "    R_\\mathrm{l} = R_\\mathrm{t}\n",
    "\\end{equation}    "
   ]
  },
  {
   "cell_type": "markdown",
   "id": "674e50b7",
   "metadata": {},
   "source": [
    "The maximum power is transferred to the load of $Z_\\mathrm{l}(j\\omega)$ from the source with Thevenin\n",
    "equivalent impedance of $Z_\\mathrm{t}(j\\omega)$, if these impedances are complex conjugates:  \n",
    "\n",
    "\\begin{equation}\\tag{18}\n",
    "    Z_\\mathrm{l}(j\\omega) = Z_\\mathrm{t}^*(j\\omega) \\quad\\quad\\hat{=}\\quad\\quad Z_\\mathrm{t} = Z_\\mathrm{l} \\quad\\text{and}\\quad \\varphi_\\mathrm{l} = -\\varphi_\\mathrm{t}\n",
    "\\end{equation}    "
   ]
  },
  {
   "cell_type": "markdown",
   "id": "6810c80e",
   "metadata": {},
   "source": [
    "## Drill Problems\n",
    "#### Problem 1\n",
    "1. A load has the inductive impedance $Z(j\\omega)=(100+100j)\\Omega$.. Find the parallel impedance required to correct the power factor to $1.0$ for $\\omega=500\\,\\mathrm{rad}/\\mathrm{s}$."
   ]
  },
  {
   "cell_type": "markdown",
   "id": "7ec4b1ee",
   "metadata": {},
   "source": [
    "$$ U(j\\omega) = Z(j\\omega)I_L(j\\omega) \\quad\\quad \\text{and}\\quad\\quad Z(j\\omega) = 100\\sqrt{2}\\Omega\\,\\angle45^\\circ = Z\\angle\\varphi_L$$"
   ]
  },
  {
   "cell_type": "markdown",
   "id": "bf0a604e",
   "metadata": {},
   "source": [
    "$$ I_L(j\\omega) = \\frac{U(j\\omega)}{Z(j\\omega)} = \\frac{U\\angle\\alpha_u}{Z\\angle\\varphi_L} = \\frac{U}{Z}\\,\\angle\\alpha_{iL} = \\frac{U}{100\\sqrt{2}\\Omega}\\,\\angle\\!-\\!45^\\circ$$"
   ]
  },
  {
   "cell_type": "markdown",
   "id": "81b3dda3",
   "metadata": {},
   "source": [
    "The required parallel current is equal to the imaginary part of the complex conjugate of the current flowing through the inductive impedance.  \n",
    "\n",
    "$$ I_C(j\\omega) = j\\mathrm{Im}\\big(I_L(j\\omega)^*\\big) = j\\frac{U(j\\omega)}{Z}\\,\\sin45^\\circ = \\frac{U}{200\\Omega}\\,\\angle\\big(\\alpha_u+90^\\circ\\big)$$"
   ]
  },
  {
   "cell_type": "markdown",
   "id": "6f3b423b",
   "metadata": {},
   "source": [
    "$$ I_C(j\\omega) = \\frac{U\\angle\\alpha_u}{Z_C(j\\omega)} = \\frac{U\\angle\\alpha_u}{Z_C\\angle\\varphi_C}$$"
   ]
  },
  {
   "cell_type": "markdown",
   "id": "e97224dc",
   "metadata": {},
   "source": [
    "Thus,\n",
    "$$ \\frac{U}{Z_C} = \\frac{U}{200\\Omega} \\quad\\quad\\text{and}\\quad\\quad \\alpha_u - \\varphi_C = \\alpha_u - \\alpha_u + \\alpha_{iC} = \\alpha_{iC} = \\alpha_u+90^\\circ$$"
   ]
  },
  {
   "cell_type": "markdown",
   "id": "be5ea477",
   "metadata": {},
   "source": [
    "$$ Z_C = 200\\Omega \\quad\\quad\\text{and}\\quad\\quad \\varphi_C = -90^\\circ$$"
   ]
  },
  {
   "cell_type": "markdown",
   "id": "8f219bc1",
   "metadata": {},
   "source": [
    "$$ Z_C(j\\omega) = -jX_C = 200\\Omega\\,\\angle\\!-\\!90^\\circ$$"
   ]
  },
  {
   "cell_type": "markdown",
   "id": "c85c9c35",
   "metadata": {},
   "source": [
    "Finally,  \n",
    "\n",
    "$$ C = \\frac{1}{\\omega Z_C} = 10\\mu\\mathrm{F}$$"
   ]
  },
  {
   "cell_type": "markdown",
   "id": "29b33ce9",
   "metadata": {},
   "source": [
    "#### Problem 2\n",
    "2. Find the real power absorbed by the subcircuit:  $U(j\\omega) = 20\\mathrm{V}\\,\\angle45^\\circ$, $|X_C|=X_C=X_L=R=10\\Omega$.  \n",
    "\n",
    "![Fig-P.4.3.2](Figures/Fig-P.4.3.2.png)"
   ]
  },
  {
   "cell_type": "markdown",
   "id": "53124775",
   "metadata": {},
   "source": [
    "$$ U(j\\omega) = Z(j\\omega)I(j\\omega) \\quad\\quad\\text{where }\\; Z(j\\omega) = Z_C(j\\omega) + Z_2(j\\omega)$$"
   ]
  },
  {
   "cell_type": "markdown",
   "id": "e4ca988b",
   "metadata": {},
   "source": [
    "and,\n",
    "$$ Z_2(j\\omega) = \\frac{1}{A_2(j\\omega)} \\quad\\quad\\text{and}\\quad\\quad A_2(j\\omega) = \\frac{1}{R} - j\\frac{1}{X_L} = \\frac{1}{10\\Omega} (1-j) = \\frac{1}{5\\sqrt{2}\\Omega}\\,\\angle\\!-\\!45^\\circ $$"
   ]
  },
  {
   "cell_type": "markdown",
   "id": "0089d4d1",
   "metadata": {},
   "source": [
    "$$ Z_2(j\\omega) = 5\\sqrt{2}\\Omega\\,\\angle45^\\circ = 5\\Omega\\,(1+j)$$"
   ]
  },
  {
   "cell_type": "markdown",
   "id": "7f55f0e2",
   "metadata": {},
   "source": [
    "$$ Z(j\\omega) = 5\\Omega\\,(1-j) = 5\\sqrt{2}\\Omega\\,\\angle\\!-\\!45^\\circ$$"
   ]
  },
  {
   "cell_type": "markdown",
   "id": "664f7fc7",
   "metadata": {},
   "source": [
    "$$ I(j\\omega) = 2\\sqrt{2}\\mathrm{A}\\,\\angle90^\\circ$$"
   ]
  },
  {
   "cell_type": "markdown",
   "id": "663e72f3",
   "metadata": {},
   "source": [
    "Finally,  \n",
    "\n",
    "$$ P = UI\\cos\\varphi = 40\\mathrm{W}$$"
   ]
  },
  {
   "cell_type": "markdown",
   "id": "da48f733",
   "metadata": {},
   "source": [
    "#### Problem 3\n",
    "3. The parallel LC circuit voltage is $u=U_\\mathrm{m}\\sin\\omega t$ . Sketch (on one drawing) the instantaneous power of $L$ and $C$, for $X_L = |X_C| = X_C$."
   ]
  },
  {
   "cell_type": "markdown",
   "id": "8c817d61",
   "metadata": {},
   "source": [
    "$$ U(j\\omega) = U = \\frac{U_\\mathrm{m}}{\\sqrt{2}} = Z_C(j\\omega)I_C(j\\omega) = Z_L(j\\omega)I_L(j\\omega)$$"
   ]
  },
  {
   "cell_type": "markdown",
   "id": "37f77fcf",
   "metadata": {},
   "source": [
    "$$ Z_C(j\\omega) = -jX_C = -jX_L \\quad\\quad\\text{and}\\quad\\quad Z_L(j\\omega) = jX_L$$"
   ]
  },
  {
   "cell_type": "markdown",
   "id": "627599b6",
   "metadata": {},
   "source": [
    "$$ I_C(j\\omega) = \\frac{U}{X_L}\\,\\angle90^\\circ \\quad\\quad\\hat{=}\\quad\\quad i_C = i_C(t) = \\frac{U_\\mathrm{m}}{\\omega L}\\,\\sin\\big(\\omega t + 90^\\circ\\big)$$"
   ]
  },
  {
   "cell_type": "markdown",
   "id": "186d2c2b",
   "metadata": {},
   "source": [
    "\\begin{equation}\\tag{3.1}\n",
    "    p_C = p_C(t) = ui_C = \\frac{U_\\mathrm{m}^2}{\\omega L}\\,\\sin\\omega t \\cos\\omega t = \\frac{U_\\mathrm{m}^2}{2\\omega L}\\,\\sin2\\omega t\n",
    "\\end{equation}    "
   ]
  },
  {
   "cell_type": "markdown",
   "id": "231a08d0",
   "metadata": {},
   "source": [
    "$$ I_L(j\\omega) = \\frac{U}{X_L}\\,\\angle\\!-\\!90^\\circ \\quad\\quad\\hat{=}\\quad\\quad i_L = i_L(t) = \\frac{U_\\mathrm{m}}{\\omega L}\\,\\sin\\big(\\omega t - 90^\\circ\\big)$$"
   ]
  },
  {
   "cell_type": "markdown",
   "id": "926dd92b",
   "metadata": {},
   "source": [
    "\\begin{equation}\\tag{3.2}\n",
    "    p_L = p_L(t) = ui_L = -p_C\n",
    "\\end{equation}    "
   ]
  },
  {
   "cell_type": "markdown",
   "id": "fa7a5faa",
   "metadata": {},
   "source": [
    "#### Problem 4\n",
    "4. The series LC circuit current is $i=I_\\mathrm{m}\\sin\\omega t$. Sketch (on one drawing) the instantaneous power of $L$ and $C$, for $X_L = |X_C|=X_C$."
   ]
  },
  {
   "cell_type": "markdown",
   "id": "100c77bf",
   "metadata": {},
   "source": [
    "$$ I(j\\omega) = I = \\frac{I_\\mathrm{m}}{\\sqrt{2}}\\quad\\quad U_L(j\\omega) = jX_LI = -U_C(j\\omega)$$"
   ]
  },
  {
   "cell_type": "markdown",
   "id": "7ebd70ff",
   "metadata": {},
   "source": [
    "$$  U_C(j\\omega) = -jX_LI \\quad\\quad \\hat{=}\\quad\\quad u_C=u_C(t) = \\omega L I_\\mathrm{m}\\sin\\big(\\omega t - 90^\\circ\\big)$$"
   ]
  },
  {
   "cell_type": "markdown",
   "id": "f4b31ea2",
   "metadata": {},
   "source": [
    "\\begin{equation}\\tag{4.1}\n",
    "    p_C = p_C(t) = u_Ci = -0.5\\omega L I_\\mathrm{m}^2\\sin2\\omega t\n",
    "\\end{equation}    "
   ]
  },
  {
   "cell_type": "markdown",
   "id": "361dc2ee",
   "metadata": {},
   "source": [
    "$$ p_L = p_L(t) = -p_C$$"
   ]
  },
  {
   "cell_type": "markdown",
   "id": "3cdfe4f9",
   "metadata": {},
   "source": [
    "#### Problem 5\n",
    "5. The current $i=10\\sqrt{2}\\mathrm{mA}\\,\\sin\\big(314t + 45^\\circ\\big)$ flows through a $Z(j\\omega)=(3+j4)\\mathrm{k}\\Omega$ load. What real, apparent and reactive power is absorbed by the load? What energy is dissipated in one period?"
   ]
  },
  {
   "cell_type": "markdown",
   "id": "66846905",
   "metadata": {},
   "source": [
    "$$ I(j\\omega) = I\\,\\angle45^\\circ = 10\\mathrm{mA}\\,\\angle45^\\circ \\quad \\quad\\text{and}\\quad\\quad Z(j\\omega) = 5000\\Omega\\,\\angle \\arcsin \\frac{4}{5} = Z\\,\\angle\\varphi$$"
   ]
  },
  {
   "cell_type": "markdown",
   "id": "5eedd8a8",
   "metadata": {},
   "source": [
    "$$ U = 10\\mathrm{mA}\\cdot 5000\\Omega = 50\\mathrm{V}$$"
   ]
  },
  {
   "cell_type": "code",
   "execution_count": 20,
   "id": "2804ecf4",
   "metadata": {},
   "outputs": [
    {
     "data": {
      "text/plain": [
       "53.13010235415599"
      ]
     },
     "execution_count": 20,
     "metadata": {},
     "output_type": "execute_result"
    }
   ],
   "source": [
    "varphi = np.degrees(np.arcsin(4/5))\n",
    "varphi"
   ]
  },
  {
   "cell_type": "markdown",
   "id": "132f4543",
   "metadata": {},
   "source": [
    "$$ P = I^2R = UI\\cos\\varphi = 0.3\\mathrm{W}$$"
   ]
  },
  {
   "cell_type": "markdown",
   "id": "b7cefe6b",
   "metadata": {},
   "source": [
    "$$ S = UI = 50\\mathrm{V}\\cdot 10\\mathrm{mA} = 0.5\\mathrm{W}$$"
   ]
  },
  {
   "cell_type": "markdown",
   "id": "8376824a",
   "metadata": {},
   "source": [
    "$$ Q = I^2X = UI\\sin\\varphi=0.4\\mathrm{W}$$"
   ]
  },
  {
   "cell_type": "markdown",
   "id": "5dc6751d",
   "metadata": {},
   "source": [
    "The energy dissipated in one period, denoted as '$W_T$', is given by:  \n",
    "\n",
    "$$ W_T = P\\cdot T = 0.3\\mathrm{W} \\cdot \\frac{2\\pi}{314\\mathrm{rad}}\\,\\mathrm{s} = 6\\mathrm{mJ}$$"
   ]
  },
  {
   "cell_type": "code",
   "execution_count": 21,
   "id": "d4f9f9bf",
   "metadata": {},
   "outputs": [
    {
     "data": {
      "text/plain": [
       "0.3"
      ]
     },
     "execution_count": 21,
     "metadata": {},
     "output_type": "execute_result"
    }
   ],
   "source": [
    "I = 10e-3; R = 3000\n",
    "R*I**2"
   ]
  },
  {
   "cell_type": "code",
   "execution_count": 22,
   "id": "930d4087",
   "metadata": {},
   "outputs": [
    {
     "data": {
      "text/plain": [
       "0.4"
      ]
     },
     "execution_count": 22,
     "metadata": {},
     "output_type": "execute_result"
    }
   ],
   "source": [
    "4000*I**2"
   ]
  },
  {
   "cell_type": "code",
   "execution_count": 23,
   "id": "9b241706",
   "metadata": {},
   "outputs": [
    {
     "data": {
      "text/plain": [
       "0.006003043287114255"
      ]
     },
     "execution_count": 23,
     "metadata": {},
     "output_type": "execute_result"
    }
   ],
   "source": [
    "0.3*2*np.pi/314"
   ]
  },
  {
   "cell_type": "markdown",
   "id": "547d652c",
   "metadata": {},
   "source": [
    "#### Problem 6\n",
    "6. The voltage across a $Z(j\\omega)=(3+j4)\\mathrm{k}\\Omega$ load is $u=10\\sqrt{2}\\mathrm{V}\\sin\\big(314t + 45^\\circ\\big)$. What real, apparent and reactive power is absorbed by the load? What energy is dissipated in one period?"
   ]
  },
  {
   "cell_type": "markdown",
   "id": "3d8befb0",
   "metadata": {},
   "source": [
    "$$ U(j\\omega) = U\\,\\angle45^\\circ = 10\\mathrm{V}\\,\\angle45^\\circ \\quad\\quad\\text{and}\\quad\\quad Z(j\\omega) = Z\\angle\\varphi = 5000\\Omega\\,\\angle\\arcsin\\frac{4}{5}$$"
   ]
  },
  {
   "cell_type": "markdown",
   "id": "9030f6a5",
   "metadata": {},
   "source": [
    "$$ U\\,\\angle\\alpha_u = ZI\\,\\angle(\\varphi + \\alpha_i)$$"
   ]
  },
  {
   "cell_type": "markdown",
   "id": "8272d0dd",
   "metadata": {},
   "source": [
    "Dividing throughout by $Z\\,\\angle\\alpha_i$ gives:  \n",
    "\n",
    "$$ \\frac{U}{Z}\\,\\angle\\varphi = I\\,\\angle\\varphi \\implies U\\,\\angle\\varphi = IZ\\,\\angle\\varphi$$"
   ]
  },
  {
   "cell_type": "markdown",
   "id": "93095d00",
   "metadata": {},
   "source": [
    "$$ U\\,\\big(\\cos\\varphi + j\\sin\\varphi\\big) = I(R + jX) \\quad \\implies \\quad U\\cos\\varphi = IR \\quad\\text{and}\\quad U\\sin\\varphi = IX$$"
   ]
  },
  {
   "cell_type": "markdown",
   "id": "907cb973",
   "metadata": {},
   "source": [
    "$$ I = \\frac{U}{Z} = 2\\mathrm{mA}$$"
   ]
  },
  {
   "cell_type": "markdown",
   "id": "728a5fa2",
   "metadata": {},
   "source": [
    "$$ P = UI\\cos\\varphi = UI\\frac{R}{Z} = \\frac{U}{Z}IR = I^2R = 12\\mathrm{mW} $$\n",
    "\n",
    "$$Q = UI\\sin\\varphi = UI\\frac{X}{Z} = \\frac{U}{Z}IX = I^2X = 16\\mathrm{mW} $$\n",
    "\n",
    "$$S = UI = \\frac{U^2}{Z} = 20\\mathrm{mW}$$"
   ]
  },
  {
   "cell_type": "markdown",
   "id": "b9ea393e",
   "metadata": {},
   "source": [
    "$$ W_T = PT = I^2R\\cdot\\frac{2\\pi}{314\\mathrm{rad}}\\,\\mathrm{s} \\approxeq 240.12\\mu\\mathrm{J}$$"
   ]
  },
  {
   "cell_type": "code",
   "execution_count": 32,
   "id": "fa4df1cb",
   "metadata": {},
   "outputs": [
    {
     "data": {
      "text/plain": [
       "0.0002401217314845702"
      ]
     },
     "execution_count": 32,
     "metadata": {},
     "output_type": "execute_result"
    }
   ],
   "source": [
    "W_T"
   ]
  },
  {
   "cell_type": "code",
   "execution_count": 29,
   "id": "6a706758",
   "metadata": {},
   "outputs": [
    {
     "data": {
      "text/plain": [
       "0.012"
      ]
     },
     "execution_count": 29,
     "metadata": {},
     "output_type": "execute_result"
    }
   ],
   "source": [
    "U = 10; R = 3000; X = 4000; I = 2e-3\n",
    "P = I**2*R\n",
    "P"
   ]
  },
  {
   "cell_type": "code",
   "execution_count": 30,
   "id": "99de564b",
   "metadata": {},
   "outputs": [
    {
     "data": {
      "text/plain": [
       "0.016"
      ]
     },
     "execution_count": 30,
     "metadata": {},
     "output_type": "execute_result"
    }
   ],
   "source": [
    "Q = I**2*X\n",
    "Q"
   ]
  },
  {
   "cell_type": "code",
   "execution_count": 31,
   "id": "5cc257ad",
   "metadata": {},
   "outputs": [],
   "source": [
    "T = 2*np.pi/314\n",
    "W_T = P*T"
   ]
  },
  {
   "cell_type": "code",
   "execution_count": 27,
   "id": "1b1ad6dc",
   "metadata": {},
   "outputs": [
    {
     "data": {
      "text/plain": [
       "0.02"
      ]
     },
     "execution_count": 27,
     "metadata": {},
     "output_type": "execute_result"
    }
   ],
   "source": [
    "S = U**2/5000\n",
    "S"
   ]
  },
  {
   "cell_type": "markdown",
   "id": "6016b243",
   "metadata": {},
   "source": [
    "#### Problem 7\n",
    "7. The inductive impedance $Z(j\\omega) = (6+j8)\\Omega$ is connected to a $220 \\mathrm{V}$ line. Find the energy dissipated in 1 hour."
   ]
  },
  {
   "cell_type": "markdown",
   "id": "0faf7a03",
   "metadata": {},
   "source": [
    "$$ I = \\frac{220}{\\sqrt{6^2+8^2}}\\,\\mathrm{A} = 22\\mathrm{A} \\quad\\quad\\text{and}\\quad\\quad \\varphi = \\arcsin\\frac{4}{5}$$"
   ]
  },
  {
   "cell_type": "code",
   "execution_count": 33,
   "id": "3a179fab",
   "metadata": {},
   "outputs": [
    {
     "data": {
      "text/plain": [
       "22.0"
      ]
     },
     "execution_count": 33,
     "metadata": {},
     "output_type": "execute_result"
    }
   ],
   "source": [
    "I = 220/np.sqrt(6**2+8**2)\n",
    "I"
   ]
  },
  {
   "cell_type": "markdown",
   "id": "08ff7ab1",
   "metadata": {},
   "source": [
    "$$ P = I^2R = 2904\\mathrm{W}$$"
   ]
  },
  {
   "cell_type": "code",
   "execution_count": 34,
   "id": "683791f3",
   "metadata": {},
   "outputs": [
    {
     "data": {
      "text/plain": [
       "2904.0"
      ]
     },
     "execution_count": 34,
     "metadata": {},
     "output_type": "execute_result"
    }
   ],
   "source": [
    "P = 6*I**2\n",
    "P"
   ]
  },
  {
   "cell_type": "markdown",
   "id": "09a9bc3a",
   "metadata": {},
   "source": [
    "$$ W = P\\cdot 1\\mathrm{hr} = 10.4544\\,\\mathrm{MJ}$$"
   ]
  },
  {
   "cell_type": "code",
   "execution_count": 39,
   "id": "2c2173a6",
   "metadata": {},
   "outputs": [
    {
     "data": {
      "text/plain": [
       "10.4544"
      ]
     },
     "execution_count": 39,
     "metadata": {},
     "output_type": "execute_result"
    }
   ],
   "source": [
    "W = P * 60**2\n",
    "W*1e-6"
   ]
  },
  {
   "cell_type": "markdown",
   "id": "c6d446a7",
   "metadata": {},
   "source": [
    "To test the above answer, first recall that:  \n",
    "\n",
    "$$ f(t):= \\int p\\,\\mathrm{d}t = tUI\\cos\\varphi - \\frac{UI}{2\\omega}\\,\\sin\\big(2\\omega t + \\alpha_u + \\alpha_i\\big)$$"
   ]
  },
  {
   "cell_type": "markdown",
   "id": "7c2c0232",
   "metadata": {},
   "source": [
    "and that  \n",
    "\n",
    "$$ W = \\int_{t_0}^{t_1} p\\,\\mathrm{d}t = f(t_1)-f(t_0) = f(t_0+\\Delta t) - f(t_0) \\quad\\quad\\text{where }\\; \\Delta t = t_1 - t_0 = 1\\mathrm{hr}$$"
   ]
  },
  {
   "cell_type": "markdown",
   "id": "c240b51f",
   "metadata": {},
   "source": [
    "$$ W = \\Delta tUI\\cos\\varphi + \\frac{UI}{2\\omega}\\,\\Big(\\sin\\big(2\\omega t_0 + \\alpha_u + \\alpha_i\\big) - \\sin\\big(2\\omega t_0 + 2\\omega \\Delta t + \\alpha_u + \\alpha_i\\big)\\Big)$$"
   ]
  },
  {
   "cell_type": "markdown",
   "id": "44113e1f",
   "metadata": {},
   "source": [
    "Now let $\\alpha:=\\alpha_u + \\alpha_i$ and $\\theta:=2\\omega t_0$.  \n",
    "\n",
    "$$ \\sin\\big(\\theta + \\alpha\\big) - \\sin\\big(\\theta + \\alpha + 2\\omega \\Delta t\\big) = Y(j2\\omega) = 1\\angle\\alpha - 1\\angle(\\alpha + 2\\omega \\Delta t)$$"
   ]
  },
  {
   "cell_type": "markdown",
   "id": "efc8a3e7",
   "metadata": {},
   "source": [
    "$$ Y = \\sqrt{\\big(\\cos\\alpha - \\cos(\\alpha+2\\omega \\Delta t)\\big)^2 + \\big(\\sin\\alpha - \\sin(\\alpha+2\\omega \\Delta t) \\big)^2}$$"
   ]
  },
  {
   "cell_type": "markdown",
   "id": "e6799a5c",
   "metadata": {},
   "source": [
    "$$ =\\sqrt{2 - 2\\cos\\alpha\\cos(\\alpha+2\\omega\\Delta t) - 2\\sin\\alpha\\sin(\\alpha + 2\\omega \\Delta t)}$$"
   ]
  },
  {
   "cell_type": "markdown",
   "id": "6704d70c",
   "metadata": {},
   "source": [
    "$$ = \\sqrt{2-2\\big(\\sin(0.5\\pi-\\alpha)\\cos(\\alpha+2\\omega\\Delta t) + \\cos(0.5\\pi-\\alpha)\\sin(\\alpha+2\\omega\\Delta t)\\big)}$$"
   ]
  },
  {
   "cell_type": "markdown",
   "id": "6e46e612",
   "metadata": {},
   "source": [
    "\\begin{equation}\\tag{M1}\n",
    "    Y = \\sqrt{2-2\\sin(0.5\\pi+2\\omega\\Delta t)} = \\sqrt{2-2\\cos2\\omega\\Delta t}\n",
    "\\end{equation}    "
   ]
  },
  {
   "cell_type": "markdown",
   "id": "a868241d",
   "metadata": {},
   "source": [
    "$$ x = \\cos\\alpha - \\cos(\\alpha+2\\omega\\Delta t) \\quad\\hat{=}\\quad X(j\\alpha) = 1\\angle0^\\circ - 1\\angle2\\omega\\Delta t = 1 - \\cos2\\omega\\Delta t - j\\sin2\\omega \\Delta t$$"
   ]
  },
  {
   "cell_type": "markdown",
   "id": "1e34568b",
   "metadata": {},
   "source": [
    "$$  = X\\,\\angle\\alpha_x \\quad\\quad\\text{where }\\; X = \\sqrt{\\big(1-\\cos2\\omega\\Delta t\\big)^2 + \\sin^2 2\\omega\\Delta t} \\quad\\text{and}\\quad \\alpha_x = \\arcsin\\frac{-\\sin2\\omega\\Delta t}{X}$$"
   ]
  },
  {
   "cell_type": "markdown",
   "id": "fce35228",
   "metadata": {},
   "source": [
    "$$ X = \\sqrt{2 - 2\\cos2\\omega\\Delta t}$$"
   ]
  }
 ],
 "metadata": {
  "kernelspec": {
   "display_name": "Python 3",
   "language": "python",
   "name": "python3"
  },
  "language_info": {
   "codemirror_mode": {
    "name": "ipython",
    "version": 3
   },
   "file_extension": ".py",
   "mimetype": "text/x-python",
   "name": "python",
   "nbconvert_exporter": "python",
   "pygments_lexer": "ipython3",
   "version": "3.8.10"
  }
 },
 "nbformat": 4,
 "nbformat_minor": 5
}
