{
 "cells": [
  {
   "cell_type": "markdown",
   "id": "70127c64",
   "metadata": {},
   "source": [
    "# AC Steady-State Power\n",
    "### *Chapter 4.3* -- AC Steady-State Analysis\n",
    "\n",
    "Few different measures of ac steady-state power are used, and they all are presented. The\n",
    "special attention is laid on the average power. Methods of its calculation and maximum power\n",
    "transfer condition are discussed."
   ]
  },
  {
   "cell_type": "markdown",
   "id": "e39c23d0",
   "metadata": {},
   "source": [
    "## Measures of Power\n",
    "### Instantaneous power\n",
    "In a linear circuit with periodic excitation, the steady-state currents and voltages are also\n",
    "periodic, each having identical period. Then, instantaneous power absorbed by two-terminal\n",
    "element (subcircuit) is also periodic. For the considered sinusoidal excitation, instantaneous\n",
    "power is also a sinusoid.  \n",
    "\n",
    "\\begin{equation}\\tag{1}\n",
    "    p = ui = U\\sqrt{2}\\sin\\big(\\omega t + \\alpha_u\\big)I\\sqrt{2}\\sin\\big(\\omega t - \\alpha_i\\big) = UI\\cos\\big(\\alpha_u+\\alpha_i\\big) - UI\\cos\\big(2\\omega t + \\alpha_u + \\alpha_i\\big)\n",
    "\\end{equation}    "
   ]
  },
  {
   "cell_type": "markdown",
   "id": "ee612b1b",
   "metadata": {},
   "source": [
    "Proof for equation (1):  \n",
    "\n",
    "$$ p = 2UI\\big(\\sin\\omega t\\cos\\alpha_u + \\cos\\omega t\\sin\\alpha_u \\big)\\big(\\sin\\omega t \\cos\\alpha_i + \\cos\\omega t \\sin \\alpha_i\\big)$$"
   ]
  },
  {
   "cell_type": "markdown",
   "id": "27dd278a",
   "metadata": {},
   "source": [
    "$$ = 2UI\\big(\\sin^2\\omega t\\cos\\alpha_u\\cos\\alpha_i + 0.5\\sin2\\omega t \\cos\\alpha_u\\sin\\alpha_i + 0.5\\sin2\\omega t \\sin\\alpha_u\\cos\\alpha_i + \\cos^2\\omega t\\sin\\alpha_u\\sin\\alpha_i\\big)$$"
   ]
  },
  {
   "cell_type": "markdown",
   "id": "791dc538",
   "metadata": {},
   "source": [
    "$$ = 2UI\\big(\\sin^2\\omega t \\cos\\alpha_u\\cos\\alpha_i + 0.5\\sin2\\omega t(\\cos\\alpha_u\\sin\\alpha_i + \\sin\\alpha_u\\cos\\alpha_i) + \\cos^2\\omega t\\sin\\alpha_u\\sin\\alpha_i\\big)$$"
   ]
  },
  {
   "cell_type": "markdown",
   "id": "8dfce5fb",
   "metadata": {},
   "source": [
    "$$ = 2UI\\big(\\sin^2\\omega t\\cos\\alpha_u\\cos\\alpha_i + 0.5\\sin2\\omega t\\sin(\\alpha_u+\\alpha_i) + \\cos^2\\omega t \\sin\\alpha_u\\sin\\alpha_i\\big)$$"
   ]
  },
  {
   "cell_type": "markdown",
   "id": "d1d22965",
   "metadata": {},
   "source": [
    "$$ = 2UI\\big(0.5\\cos2\\omega t(\\sin\\alpha_u\\sin\\alpha_i - \\cos\\alpha_u\\cos\\alpha_i) + 0.5(\\sin\\alpha_u\\sin\\alpha_i + \\cos\\alpha_u\\cos\\alpha_i) + 0.5\\sin2\\omega t\\sin(\\alpha_u + \\alpha_i)\\big)$$"
   ]
  },
  {
   "cell_type": "markdown",
   "id": "6eba1c99",
   "metadata": {},
   "source": [
    "$$ =2UI\\big(0.5\\cos2\\omega t\\sin(\\alpha_u + \\alpha_i - 0.5\\pi) + 0.5\\sin2\\omega t\\sin(\\alpha_u + \\alpha_i) + 0.5(\\sin\\alpha_u\\sin\\alpha_i + \\cos\\alpha_u\\cos\\alpha_i\\big)$$"
   ]
  },
  {
   "cell_type": "markdown",
   "id": "24df8e55",
   "metadata": {},
   "source": [
    "$$ =2UI\\big(0.5\\sin2\\omega t\\sin(\\alpha_u+\\alpha_i) - 0.5\\cos2\\omega t\\cos(\\alpha_u+\\alpha_i) + 0.5(\\sin\\alpha_u\\sin\\alpha_i + \\cos\\alpha_u\\cos\\alpha_i\\big)$$"
   ]
  },
  {
   "cell_type": "markdown",
   "id": "257e6b39",
   "metadata": {},
   "source": [
    "$$ UI\\Big(\\sin\\alpha_u\\sin\\alpha_i + \\cos\\alpha_u\\cos\\alpha_i -\\big(\\cos2\\omega t\\cos(\\alpha_u+\\alpha_i) - \\sin2\\omega t\\sin(\\alpha_u+\\alpha_i) \\big) \\Big)$$"
   ]
  },
  {
   "cell_type": "markdown",
   "id": "2cb5703f",
   "metadata": {},
   "source": [
    "$$ = UI\\Big(\\cos(\\alpha_u-\\alpha_i) + \\sin(2\\omega t + \\alpha_u + \\alpha_i - 0.5\\pi)\\Big)$$"
   ]
  },
  {
   "cell_type": "markdown",
   "id": "58196995",
   "metadata": {},
   "source": [
    "$$ = UI\\big(\\cos(\\alpha_u-\\alpha_i) - \\cos(2\\omega t +\\alpha_u + \\alpha_i)\\big) $$"
   ]
  },
  {
   "cell_type": "markdown",
   "id": "b3806f4f",
   "metadata": {},
   "source": [
    "Let $f(\\theta):=\\sin^2\\theta$.  \n",
    "\n",
    "$$ f'(\\theta) = 2\\sin\\theta \\cos\\theta = \\sin2\\theta$$"
   ]
  },
  {
   "cell_type": "markdown",
   "id": "0b43fb25",
   "metadata": {},
   "source": [
    "$$ g(\\theta) := \\int \\sin2\\theta\\,\\mathrm{d}\\theta = -0.5\\cos2\\theta + c$$"
   ]
  },
  {
   "cell_type": "markdown",
   "id": "3b3da82e",
   "metadata": {},
   "source": [
    "\\begin{equation}\\tag{P1.1}\n",
    "    \\sin^2\\theta = 0.5\\big(1-\\cos2\\theta\\big)\n",
    "\\end{equation}    "
   ]
  },
  {
   "cell_type": "markdown",
   "id": "85404da0",
   "metadata": {},
   "source": [
    "Now let $f(\\theta):=\\cos^2\\theta$.  \n",
    "\n",
    "$$ f'(\\theta) = -\\sin2\\theta$$"
   ]
  },
  {
   "cell_type": "markdown",
   "id": "d14ed3c2",
   "metadata": {},
   "source": [
    "$$ g(\\theta) := -\\int\\sin2\\theta\\,\\mathrm{d}\\theta = 0.5\\cos2\\theta + c$$"
   ]
  },
  {
   "cell_type": "markdown",
   "id": "bda76db2",
   "metadata": {},
   "source": [
    "\\begin{equation}\\tag{P1.2}\n",
    "    \\cos^2\\theta = 0.5\\big(\\cos2\\theta + 1\\big)\n",
    "\\end{equation}    "
   ]
  },
  {
   "cell_type": "markdown",
   "id": "6408621f",
   "metadata": {},
   "source": [
    "The first term in this equation is independent of time, the second term varies periodically over\n",
    "time at twice the angular frequency. Proper operation of electrical devices limits the\n",
    "maximum instantaneous power. This power, the so called **peak power**, is a commonly used\n",
    "specification for characterizing elements or devices.  \n",
    "\n",
    "\\begin{equation}\\tag{1a}\n",
    "    P_\\mathrm{peak} = UI\\cos(\\alpha_u-\\alpha_i) + UI\n",
    "\\end{equation}    "
   ]
  },
  {
   "cell_type": "markdown",
   "id": "4b723a10",
   "metadata": {},
   "source": [
    "### Average or Real Power\n",
    "Mathematically, the first term of instantaneous power is its average value. This term is called\n",
    "the average power or real power, henceforth '$P$', and it represents the power delivered by a source or\n",
    "absorbed by a two-terminal element or device (subcircuit).  \n",
    "\n",
    "\\begin{equation}\\tag{2}\n",
    "    P = \\frac{1}{T}\\,\\int_{t_0}^{t_0+T} p\\,\\mathrm{d}t = UI\\cos(\\alpha_u-\\alpha_i) = UI\\cos\\varphi\n",
    "\\end{equation}    "
   ]
  },
  {
   "cell_type": "markdown",
   "id": "21b9595b",
   "metadata": {},
   "source": [
    "$$ f(t):= \\int p\\,\\mathrm{d}t = tUI\\cos\\varphi - \\frac{UI}{2\\omega}\\,\\sin\\big(2\\omega t + \\alpha_u + \\alpha_i\\big)$$"
   ]
  },
  {
   "cell_type": "markdown",
   "id": "63d76b69",
   "metadata": {},
   "source": [
    "$$ f(t_0+T) - f(t_0) = TUI\\cos\\varphi $$"
   ]
  },
  {
   "cell_type": "markdown",
   "id": "c8521394",
   "metadata": {},
   "source": [
    "The average power, in watts $[\\mathrm{W}]$, is always nonnegative and satisfies the power balance\n",
    "principle. It is the product of the RMS voltage, the RMS current and the cosine of the angle\n",
    "between them. This cosine is called the **power factor**, $\\mathrm{pf}$.  \n",
    "\n",
    "\\begin{equation}\\tag{2a}\n",
    "    \\mathrm{pf} = \\cos(\\alpha_u - \\alpha_i) = \\cos\\varphi\n",
    "\\end{equation}    "
   ]
  },
  {
   "cell_type": "markdown",
   "id": "431105cd",
   "metadata": {},
   "source": [
    "If said two-terminal element is a resistor, then $\\varphi=0$, and thus the power factor is $\\mathrm{pf}=\\cos0 = 1$.  \n",
    "\n",
    "\\begin{equation}\\tag{2b}\n",
    "    P_R = UI = I^2R = \\frac{U^2}{R}\n",
    "\\end{equation}    "
   ]
  },
  {
   "cell_type": "markdown",
   "id": "3510d428",
   "metadata": {},
   "source": [
    "If said two-terminal element is a capacitor or coil then $\\varphi=-90^\\circ$ or $\\varphi=90^\\circ$ and thus the power factor is $\\mathrm{pf}=0$.  Consequently, the real power of a capacitor or coil is equal to zero."
   ]
  },
  {
   "cell_type": "markdown",
   "id": "635a3ef8",
   "metadata": {},
   "source": [
    "\\begin{equation}\\tag{2c}\n",
    "    P_C = P_L = 0\n",
    "\\end{equation}    "
   ]
  },
  {
   "cell_type": "markdown",
   "id": "82caf5a7",
   "metadata": {},
   "source": [
    "In identifying a load character, the pf is characterized as leading or lagging by the phase of\n",
    "current with respect to that of the voltage. Then, a capacitive load has a leading $\\mathrm{pf}$ and an\n",
    "inductive load has a lagging $\\mathrm{pf}$.  \n",
    "\n",
    "\n",
    "The average power designates the energy absorbed by two-terminal element or subcircuit. The\n",
    "energy absorbed in time interval $t=0$ from to $t=nT$ , where $n$ is a positive integer, is\n",
    "designated by the following equation:  \n",
    "\n",
    "\\begin{equation}\\tag{3}\n",
    "    W_{nT} = \\int_0^{nT} p\\,\\mathrm{d}t = \\int_0^{nT}P\\,\\mathrm{d}t \\;-\\; \\int_0^{nT}UI\\cos(\\omega t + \\alpha_u + \\alpha_i) = nTP\n",
    "\\end{equation}    "
   ]
  },
  {
   "cell_type": "markdown",
   "id": "b3417a04",
   "metadata": {},
   "source": [
    "Consider the circuit of Fig. 4.3.1, consisting of a practical source (sinusoidal generator),\n",
    "modeled by the Thevenin equivalent, connected to a load subcircuit.  \n",
    "\n",
    "![Fig-4.3.1](Figures/Fig-4.3.1.png)"
   ]
  },
  {
   "cell_type": "markdown",
   "id": "fa6ddc24",
   "metadata": {},
   "source": [
    "The real power transferred from the generator to the load can be designated in three different\n",
    "ways.\n",
    "1. Phasors $U(j\\omega)$ and $I(j\\omega)$ are designated at first, then equation (4.3.2) is utilized to find the real power transferred.\n",
    "2. Effective currents of load resistors are calculated at first. Then, the power balance principle (4.3.4) is utilized, where $N$ is number of load resistors.  \n",
    "\n",
    "\\begin{equation}\\tag{4}\n",
    "    P = \\sum_{i=1}^N P_i = \\sum_{i=1}^N I_i^2R_i\n",
    "\\end{equation}    \n",
    "\n",
    "3. The effective current $I$ and the equivalent series resistance of the load $R_\\mathrm{l}$ are calculated at first, then the real power transferred is designated from equation (4.3.2b)."
   ]
  },
  {
   "cell_type": "markdown",
   "id": "1a0c3a4a",
   "metadata": {},
   "source": [
    "### Example 4.3.1\n",
    "Find the real power transferred to the subcircuit presented in Fig. 4.2.11, if the voltage on its\n",
    "terminals is $U(j\\omega)=10\\mathrm{V}$.  \n",
    "\n",
    "![Fig-4.2.11](Figures/Fig-4.2.11.png)"
   ]
  },
  {
   "cell_type": "markdown",
   "id": "b37115f6",
   "metadata": {},
   "source": [
    "$$ I = \\frac{U}{Z} \\quad\\quad\\text{where }\\;Z(j\\omega) = Z\\,\\angle\\alpha_z \\quad\\quad\\text{and}\\quad\\quad \\varphi=\\alpha_u-\\alpha_i = -\\alpha_i = -\\alpha_z$$"
   ]
  },
  {
   "cell_type": "markdown",
   "id": "d442ca71",
   "metadata": {},
   "source": [
    "$$ Z(j\\omega) = R_1 + jX_L + Z_2(j\\omega) \\quad\\quad \\text{where }\\; A_2(j\\omega) =G_2 + j\\frac{1}{X_C} = \\frac{X_C + jR_2}{R_2X_C} $$"
   ]
  },
  {
   "cell_type": "markdown",
   "id": "ad1db0b0",
   "metadata": {},
   "source": [
    "$$ Z_2(j\\omega) = Z_2\\,\\angle \\alpha_{z2} \\quad\\quad\\text{where }\\;Z_2 = \\frac{R_2X_C}{\\sqrt{X_C^2+R_2^2}} \\quad\\text{and}\\quad \\alpha_{z2} = -\\arcsin \\frac{R_2}{\\sqrt{X_C^2+R_2^2}}$$"
   ]
  },
  {
   "cell_type": "markdown",
   "id": "0617634f",
   "metadata": {},
   "source": [
    "$$ Z_2(j\\omega) = \\frac{R_2X_C}{X_C^2+R_2^2}\\,\\big(X_C - jR_2\\big)$$"
   ]
  },
  {
   "cell_type": "markdown",
   "id": "7bd910fb",
   "metadata": {},
   "source": [
    "$$Z(j\\omega) = R_1 + \\frac{R_2X_C^2}{X_C^2+R_2^2} + j\\left(X_L - \\frac{R_2^2X_C}{X_C^2+R_2^2}\\right) $$"
   ]
  },
  {
   "cell_type": "markdown",
   "id": "4ef0cbcf",
   "metadata": {},
   "source": [
    "$$ = \\frac{R_1\\big(X_C^2+R_2^2\\big) + R_2X_C^2 + j\\Big(X_L\\big(X_C^2+R_2^2 \\big) - R_2^2X_C \\Big)}{X_C^2 + R_2^2}$$"
   ]
  },
  {
   "cell_type": "markdown",
   "id": "0bd6cfd2",
   "metadata": {},
   "source": [
    "$$Z(j\\omega) = 10+10j = 10\\sqrt{2}\\,\\angle45^\\circ \\implies I=\\frac{1}{\\sqrt{2}}\\,\\mathrm{A} \\quad\\text{and}\\quad \\varphi = -45^\\circ$$"
   ]
  },
  {
   "cell_type": "markdown",
   "id": "f5f82c41",
   "metadata": {},
   "source": [
    "$$ P = UI\\cos45^\\circ = 5\\mathrm{W}$$"
   ]
  },
  {
   "cell_type": "markdown",
   "id": "12c4f6cf",
   "metadata": {},
   "source": [
    "### Apparent Power\n",
    "For the given line voltage , the real power consumed by the load is strongly related to\n",
    "its power factor. It may vary from $0$ to the maximum of $S$, the apparent power.  \n",
    "\n",
    "\\begin{equation}\\tag{8}\n",
    "    S = P_{\\big | \\varphi=0} = UI\n",
    "\\end{equation}    "
   ]
  },
  {
   "cell_type": "markdown",
   "id": "d3025e51",
   "metadata": {},
   "source": [
    "This product is called the apparent power. To avoid confusing with the unit of average power,\n",
    "the watt, the apparent power unit is volt-ampere $[\\mathrm{VA}]$ and obviously, the apparent power\n",
    "does not satisfy the power balance principle. It simply defines the maximum capacity of a\n",
    "source (power plant).  \n",
    "\n",
    "The power factor of a load has a very important practical meaning. Power company is very\n",
    "interested in having customer keep this factor as close to unity as possible, to minimize the\n",
    "power line losses.  \n",
    "\n",
    "\\begin{equation}\\tag{9}\n",
    "    P_\\mathrm{line} = I^2R_\\mathrm{line}\n",
    "\\end{equation}    \n"
   ]
  },
  {
   "cell_type": "markdown",
   "id": "c6e153b9",
   "metadata": {},
   "source": [
    "This principle is demonstrated in the next example."
   ]
  },
  {
   "cell_type": "markdown",
   "id": "7f250505",
   "metadata": {},
   "source": [
    "### Example 4.3.2\n",
    "Suppose, that a mill consumes $P=1\\mathrm{kW}$ from a $200 \\mathrm{V}$ line at a lagging power factor of $\\mathrm{pf}=\\cos60^\\circ = 0.5$.  Then, the required current is:  \n",
    "\n",
    "\\begin{equation}\\tag{10}\n",
    "    I = \\frac{P}{U\\cos60^\\circ} = \\frac{1000\\mathrm{W}}{100\\mathrm{V}} = 10\\mathrm{A}\n",
    "\\end{equation}    "
   ]
  },
  {
   "cell_type": "markdown",
   "id": "bf737fcf",
   "metadata": {},
   "source": [
    "If the power factor was at unity $\\mathrm{pf}=1$, then the current would only be at $5\\mathrm{A}$.  As can be seen, the power plant must generate a larger current in the case of lower pf and it causes larger line losses. For instance, if the transmission line resistance is $R_\\mathrm{line}=5\\Omega$, then the difference in power is $500\\mathrm{W}$ to $125\\mathrm{W}$."
   ]
  },
  {
   "cell_type": "code",
   "execution_count": 4,
   "id": "1fce5a9f",
   "metadata": {},
   "outputs": [
    {
     "data": {
      "text/plain": [
       "4.0"
      ]
     },
     "execution_count": 4,
     "metadata": {},
     "output_type": "execute_result"
    }
   ],
   "source": [
    "500/125"
   ]
  },
  {
   "cell_type": "markdown",
   "id": "68f5e586",
   "metadata": {},
   "source": [
    "Most industrial and many residential loads are inductive (lagging power factor). Although it is\n",
    "not possible to change the inductive nature of a load itself, it is possible to connect a capacitive load in parallel with this load, and correct the power factor to unity that way. The circuit for power factor correction is presented in Fig. 4.3.2, together with the phasor diagram.  \n",
    "\n",
    "![Fig-4.3.2](Figures/Fig-4.3.2.png)"
   ]
  },
  {
   "cell_type": "markdown",
   "id": "8b8b410f",
   "metadata": {},
   "source": [
    "### Example 4.3.3\n",
    "A load operating at a lagging power factor of $\\mathrm{pf}=\\cos45^\\circ=1/\\sqrt{2}$ dissipates $2 \\mathrm{kW}$ when connected to a $220 \\mathrm{V}$, $50 \\mathrm{Hz}$ power line. What value of capacitance is needed to correct the power factor to unity?"
   ]
  },
  {
   "cell_type": "markdown",
   "id": "292bca5d",
   "metadata": {},
   "source": [
    "$$ U = 220\\mathrm{V} \\quad\\quad \\omega = 100\\pi\\,\\mathrm{rad}/\\mathrm{s} \\quad\\quad I = \\frac{2000\\mathrm{W}}{110\\sqrt{2}\\mathrm{V}} = \\frac{1000\\sqrt{2}}{110}\\,\\mathrm{A} \\quad\\varphi=\\alpha_u - \\alpha_i = 45^\\circ$$"
   ]
  },
  {
   "cell_type": "markdown",
   "id": "7517a0f3",
   "metadata": {},
   "source": [
    "$$ I(j\\omega) = I\\,\\big(\\cos\\varphi - j\\sin\\varphi\\big)$$"
   ]
  },
  {
   "cell_type": "markdown",
   "id": "58e28db4",
   "metadata": {},
   "source": [
    "$$ I\\sin\\varphi = \\frac{1000}{110}\\,\\mathrm{A} = \\frac{220\\mathrm{V}}{X_C}$$"
   ]
  },
  {
   "cell_type": "markdown",
   "id": "91f6d08d",
   "metadata": {},
   "source": [
    "$$ X_C = \\frac{1}{\\omega C} = \\frac{220\\cdot110}{1000}\\,\\Omega$$"
   ]
  },
  {
   "cell_type": "markdown",
   "id": "527bef2f",
   "metadata": {},
   "source": [
    "$$ C = \\frac{1000}{220\\cdot110\\cdot 100\\pi}\\,\\mathrm{F}$$"
   ]
  },
  {
   "cell_type": "code",
   "execution_count": 7,
   "id": "7a27d584",
   "metadata": {},
   "outputs": [],
   "source": [
    "import numpy as np"
   ]
  },
  {
   "cell_type": "code",
   "execution_count": 18,
   "id": "4b84eabc",
   "metadata": {},
   "outputs": [
    {
     "data": {
      "text/plain": [
       "0.00013153301081974823"
      ]
     },
     "execution_count": 18,
     "metadata": {},
     "output_type": "execute_result"
    }
   ],
   "source": [
    "1000/(220*100*110*np.pi)"
   ]
  },
  {
   "cell_type": "markdown",
   "id": "4bfa29f4",
   "metadata": {},
   "source": [
    "### Reactive Power\n",
    "Energy storage elements, capacitors and coils, neither supply nor dissipate power on average,\n",
    "but rather exchange it back and forth with the rest of the circuit. To measure the amount of\n",
    "periodic energy exchange taking place between a given subcircuit and the rest of the circuit,\n",
    "reactive power $Q$ is introduced.  \n",
    "\n",
    "\\begin{equation}\\tag{11}\n",
    "    Q = UI\\sin\\varphi\n",
    "\\end{equation}    "
   ]
  },
  {
   "cell_type": "markdown",
   "id": "607aff7d",
   "metadata": {},
   "source": [
    "The sign of $Q$ is positive for inductive loads and negative for capacitive ones. For the pure\n",
    "capacitive or pure inductive load, $Q=-UI$ or $Q=UI$ , respectively. For pure resistive load,\n",
    "$Q=0$.  \n",
    "\n",
    "The unit of reactive power is **var** or **volt-ampere reactive**, $[\\mathrm{VAr}]$. The reactive power satisfies the power balance principle."
   ]
  },
  {
   "cell_type": "markdown",
   "id": "a6fe7a2e",
   "metadata": {},
   "source": [
    "### Example 4.3.1 – cont.\n",
    "Find the reactive power transferred to the subcircuit.  \n",
    "\n",
    "$$Q = UI\\sin45^\\circ = 5\\mathrm{VAr}$$"
   ]
  },
  {
   "cell_type": "markdown",
   "id": "17858fb8",
   "metadata": {},
   "source": [
    "$$ Z(j\\omega) = 10(1+j)=10\\sqrt{2}\\angle45^\\circ \\quad\\quad\\text{and}\\quad\\quad I(j\\omega) = \\frac{1}{\\sqrt{2}}\\,\\angle\\!-\\!45^\\circ$$"
   ]
  },
  {
   "cell_type": "markdown",
   "id": "64d80832",
   "metadata": {},
   "source": [
    "$$ U(j\\omega) = U\\angle\\alpha_u = IZ\\angle(\\alpha_z+\\alpha_i)= 10\\mathrm{V}\\,\\angle 0^\\circ = U$$"
   ]
  },
  {
   "cell_type": "markdown",
   "id": "0213c778",
   "metadata": {},
   "source": [
    "$$ Q = UI\\sin\\varphi = I^2Z\\sin45^\\circ = I^2X_L = 5\\mathrm{VAr}$$"
   ]
  },
  {
   "cell_type": "markdown",
   "id": "13ba5a07",
   "metadata": {},
   "source": [
    "### Complex Power\n",
    "To extend phasor analysis to the study of power in ac steady-state circuits, a new complex\n",
    "quantity, the complex power $S(j\\omega)$ is defined (4.3.14). For simplicity of description\n",
    "argument $\\omega$ is omitted at the right side of the equation.  \n",
    "\n",
    "\\begin{equation}\\tag{12}\n",
    "    S(j\\omega) = P + jQ = S\\angle\\varphi\n",
    "\\end{equation}    "
   ]
  },
  {
   "cell_type": "markdown",
   "id": "943e834f",
   "metadata": {},
   "source": [
    "The real part of the complex power is the average power, the imaginary part is the reactive\n",
    "power, its modulus is the apparent power. Graphical interpretation in the complex plane is\n",
    "presented in Fig. 4.3.3, an inductive load is assumed. The complex power satisfies the power\n",
    "balance principle, as its both terms satisfy this principle.  \n",
    "\n",
    "![Fig-4.3.3](Figures/Fig-4.3.3.png)"
   ]
  },
  {
   "cell_type": "markdown",
   "id": "da52589f",
   "metadata": {},
   "source": [
    "## Maximum Power Transfer\n",
    "Same as in DC circuits, when designing AC circuit, it is frequently desirable to arrange for the\n",
    "maximum real power transfer to the load from the rest of the circuit. The whole circuit is\n",
    "divided into two parts (Fig. 4.3.1):\n",
    "1. source, active subcircuit modeled by its Thevenin equivalent:  \n",
    "\n",
    "\\begin{equation}\\tag{15a}\n",
    "    E_\\mathrm{o}, Z_\\mathrm{t}(j\\omega) = R_\\mathrm{t} + jX_\\mathrm{t} = Z_\\mathrm{t}\\angle\\varphi_\\mathrm{t}\n",
    "\\end{equation}    "
   ]
  },
  {
   "cell_type": "markdown",
   "id": "a1bdcec6",
   "metadata": {},
   "source": [
    "2. load, passive subcircuit modeled by its impedance:  \n",
    "\n",
    "\\begin{equation}\\tag{15b}\n",
    "    Z_\\mathrm{l}(j\\omega) = R_\\mathrm{l} + jX_\\mathrm{l} = Z_\\mathrm{l}\\angle\\varphi_\\mathrm{l}\n",
    "\\end{equation}    "
   ]
  },
  {
   "cell_type": "markdown",
   "id": "ea45d2d5",
   "metadata": {},
   "source": [
    "Specifying $Z_\\mathrm{l}(j\\omega)$, so that the average power absorbed by this impedance from the given\n",
    "active subcircuit is a maximum, is the task. Power absorbed by the load is a function of two\n",
    "arguments, the real and imaginary compliments of $Z_\\mathrm{l}(j\\omega)$.  \n",
    "\n",
    "\\begin{equation}\\tag{16}\n",
    "    P = I^2R_\\mathrm{l} = \\left(\\frac{E_\\mathrm{o}}{\\sqrt{(R_\\mathrm{t}+R_\\mathrm{l})^2 + (X_\\mathrm{t}+X_\\mathrm{l})^2}} \\right)^2R_\\mathrm{l} := P(R_\\mathrm{l}, X_\\mathrm{l})\n",
    "\\end{equation}    "
   ]
  },
  {
   "cell_type": "markdown",
   "id": "c892b49b",
   "metadata": {},
   "source": [
    "The above function, the average or real power absorbed by the load as a function of the load resistance and reactance, with the source's characteristics being parameters of the function, is at it's maximum when:  \n",
    "\n",
    "\\begin{equation}\\tag{17}\n",
    "    \\text{a: }\\;\\frac{\\partial P}{\\partial R_\\mathrm{l}} = 0 \\quad\\quad \\text{and}\\quad\\quad \\text{b: }\\; \\frac{\\partial P}{\\partial X_\\mathrm{l}} = 0\n",
    "\\end{equation}    "
   ]
  },
  {
   "cell_type": "markdown",
   "id": "7d3d9bc9",
   "metadata": {},
   "source": [
    "$$ I^2 - 2IR_\\mathrm{l}\\,\\frac{E_\\mathrm{o}(R_\\mathrm{t} + R_\\mathrm{l})}{\\sqrt{\\big((R_\\mathrm{t} + R_\\mathrm{l})^2 + (X_\\mathrm{t} + X_\\mathrm{l})^2 \\big)^3}} = 0$$"
   ]
  },
  {
   "cell_type": "markdown",
   "id": "127037d6",
   "metadata": {},
   "source": [
    "$$ I = 2R_\\mathrm{l}E_\\mathrm{o}\\,\\frac{R_\\mathrm{l} + R_\\mathrm{t}}{\\sqrt{\\big( (R_\\mathrm{t} + R_\\mathrm{l})^2 + (X_\\mathrm{t} + X_\\mathrm{l})^2\\big)^3}}$$"
   ]
  },
  {
   "cell_type": "markdown",
   "id": "da7f5d5d",
   "metadata": {},
   "source": [
    "$$ 0.5 = R_\\mathrm{l}\\,\\frac{R_\\mathrm{l} + R_\\mathrm{t}}{(R_\\mathrm{t} + R_\\mathrm{l})^2 + (X_\\mathrm{t} + X_\\mathrm{l})^2}$$"
   ]
  },
  {
   "cell_type": "markdown",
   "id": "6179fcbe",
   "metadata": {},
   "source": [
    "$$ 0.5\\big(R_\\mathrm{t}^2 + 2R_\\mathrm{t}R_\\mathrm{l} + R_\\mathrm{l}^2 + (X_\\mathrm{t} + X_\\mathrm{l})^2\\big) = R_\\mathrm{t}R_\\mathrm{l} + R_\\mathrm{l}^2$$"
   ]
  },
  {
   "cell_type": "markdown",
   "id": "f5e1fd09",
   "metadata": {},
   "source": [
    "$$ (X_\\mathrm{t} + X_\\mathrm{l})^2 + 0.5R_\\mathrm{t}^2= 0.5R_\\mathrm{l}^2 $$"
   ]
  },
  {
   "cell_type": "markdown",
   "id": "f271e0b3",
   "metadata": {},
   "source": [
    "\\begin{equation}\\tag{17a}\n",
    "     R_\\mathrm{l} = \\sqrt{2(X_\\mathrm{t}+X_\\mathrm{l})^2 + R_\\mathrm{t}^2}\n",
    "\\end{equation}    "
   ]
  },
  {
   "cell_type": "markdown",
   "id": "234ba143",
   "metadata": {},
   "source": [
    "$$ -2R_\\mathrm{l}\\,\\frac{E_\\mathrm{o}^2(X_\\mathrm{l}+X_\\mathrm{t})}{\\big((R_\\mathrm{t} + R_\\mathrm{l})^2 + (X_\\mathrm{t} + X_\\mathrm{l})^2 \\big)^2} = 0$$"
   ]
  },
  {
   "cell_type": "markdown",
   "id": "c1747f2a",
   "metadata": {},
   "source": [
    "\\begin{equation}\\tag{17b}\n",
    "    X_\\mathrm{l} = -X_\\mathrm{t}\n",
    "\\end{equation}    "
   ]
  },
  {
   "cell_type": "markdown",
   "id": "a032c1a0",
   "metadata": {},
   "source": [
    "Via equations (17a,b),  \n",
    "\n",
    "\\begin{equation}\\tag{17c}\n",
    "    R_\\mathrm{l} = R_\\mathrm{t}\n",
    "\\end{equation}    "
   ]
  },
  {
   "cell_type": "markdown",
   "id": "0ccb57bc",
   "metadata": {},
   "source": [
    "The maximum power is transferred to the load of $Z_\\mathrm{l}(j\\omega)$ from the source with Thevenin\n",
    "equivalent impedance of $Z_\\mathrm{t}(j\\omega)$, if these impedances are complex conjugates:  \n",
    "\n",
    "\\begin{equation}\\tag{18}\n",
    "    Z_\\mathrm{l}(j\\omega) = Z_\\mathrm{t}^*(j\\omega) \\quad\\quad\\hat{=}\\quad\\quad Z_\\mathrm{t} = Z_\\mathrm{l} \\quad\\text{and}\\quad \\varphi_\\mathrm{l} = -\\varphi_\\mathrm{t}\n",
    "\\end{equation}    "
   ]
  },
  {
   "cell_type": "markdown",
   "id": "d427c116",
   "metadata": {},
   "source": [
    "## Drill Problems\n",
    "#### Problem 1\n",
    "1. A load has the inductive impedance $Z(j\\omega)=(100+100j)\\Omega$.. Find the parallel impedance required to correct the power factor to $1.0$ for $\\omega=500\\,\\mathrm{rad}/\\mathrm{s}$."
   ]
  },
  {
   "cell_type": "markdown",
   "id": "454e43ec",
   "metadata": {},
   "source": [
    "$$ U(j\\omega) = Z(j\\omega)I_L(j\\omega) \\quad\\quad \\text{and}\\quad\\quad Z(j\\omega) = 100\\sqrt{2}\\Omega\\,\\angle45^\\circ = Z\\angle\\varphi_L$$"
   ]
  },
  {
   "cell_type": "markdown",
   "id": "4f852063",
   "metadata": {},
   "source": [
    "$$ I_L(j\\omega) = \\frac{U(j\\omega)}{Z(j\\omega)} = \\frac{U\\angle\\alpha_u}{Z\\angle\\varphi_L} = \\frac{U}{Z}\\,\\angle\\alpha_{iL} = \\frac{U}{100\\sqrt{2}\\Omega}\\,\\angle\\!-\\!45^\\circ$$"
   ]
  },
  {
   "cell_type": "markdown",
   "id": "fb024534",
   "metadata": {},
   "source": [
    "The required parallel current is equal to the imaginary part of the complex conjugate of the current flowing through the inductive impedance.  \n",
    "\n",
    "$$ I_C(j\\omega) = j\\mathrm{Im}\\big(I_L(j\\omega)^*\\big) = j\\frac{U(j\\omega)}{Z}\\,\\sin45^\\circ = \\frac{U}{200\\Omega}\\,\\angle\\big(\\alpha_u+90^\\circ\\big)$$"
   ]
  },
  {
   "cell_type": "markdown",
   "id": "acdbd4af",
   "metadata": {},
   "source": [
    "$$ I_C(j\\omega) = \\frac{U\\angle\\alpha_u}{Z_C(j\\omega)} = \\frac{U\\angle\\alpha_u}{Z_C\\angle\\varphi_C}$$"
   ]
  },
  {
   "cell_type": "markdown",
   "id": "dfbfd8f9",
   "metadata": {},
   "source": [
    "Thus,\n",
    "$$ \\frac{U}{Z_C} = \\frac{U}{200\\Omega} \\quad\\quad\\text{and}\\quad\\quad \\alpha_u - \\varphi_C = \\alpha_u - \\alpha_u + \\alpha_{iC} = \\alpha_{iC} = \\alpha_u+90^\\circ$$"
   ]
  },
  {
   "cell_type": "markdown",
   "id": "19e914fa",
   "metadata": {},
   "source": [
    "$$ Z_C = 200\\Omega \\quad\\quad\\text{and}\\quad\\quad \\varphi_C = -90^\\circ$$"
   ]
  },
  {
   "cell_type": "markdown",
   "id": "56892e56",
   "metadata": {},
   "source": [
    "$$ Z_C(j\\omega) = -jX_C = 200\\Omega\\,\\angle\\!-\\!90^\\circ$$"
   ]
  },
  {
   "cell_type": "markdown",
   "id": "eb7d467b",
   "metadata": {},
   "source": [
    "Finally,  \n",
    "\n",
    "$$ C = \\frac{1}{\\omega Z_C} = 10\\mu\\mathrm{F}$$"
   ]
  },
  {
   "cell_type": "markdown",
   "id": "fde98b10",
   "metadata": {},
   "source": [
    "#### Problem 2\n",
    "2. Find the real power absorbed by the subcircuit:  $U(j\\omega) = 20\\mathrm{V}\\,\\angle45^\\circ$, $|X_C|=X_C=X_L=R=10\\Omega$.  \n",
    "\n",
    "![Fig-P.4.3.2](Figures/Fig-P.4.3.2.png)"
   ]
  },
  {
   "cell_type": "markdown",
   "id": "32802040",
   "metadata": {},
   "source": [
    "$$ U(j\\omega) = Z(j\\omega)I(j\\omega) \\quad\\quad\\text{where }\\; Z(j\\omega) = Z_C(j\\omega) + Z_2(j\\omega)$$"
   ]
  },
  {
   "cell_type": "markdown",
   "id": "c16559be",
   "metadata": {},
   "source": [
    "and,\n",
    "$$ Z_2(j\\omega) = \\frac{1}{A_2(j\\omega)} \\quad\\quad\\text{and}\\quad\\quad A_2(j\\omega) = \\frac{1}{R} - j\\frac{1}{X_L} = \\frac{1}{10\\Omega} (1-j) = \\frac{1}{5\\sqrt{2}\\Omega}\\,\\angle\\!-\\!45^\\circ $$"
   ]
  },
  {
   "cell_type": "markdown",
   "id": "f834f771",
   "metadata": {},
   "source": [
    "$$ Z_2(j\\omega) = 5\\sqrt{2}\\Omega\\,\\angle45^\\circ = 5\\Omega\\,(1+j)$$"
   ]
  },
  {
   "cell_type": "markdown",
   "id": "e7217640",
   "metadata": {},
   "source": [
    "$$ Z(j\\omega) = 5\\Omega\\,(1-j) = 5\\sqrt{2}\\Omega\\,\\angle\\!-\\!45^\\circ$$"
   ]
  },
  {
   "cell_type": "markdown",
   "id": "16b71cfd",
   "metadata": {},
   "source": [
    "$$ I(j\\omega) = 2\\sqrt{2}\\mathrm{A}\\,\\angle90^\\circ$$"
   ]
  },
  {
   "cell_type": "markdown",
   "id": "df48e4ce",
   "metadata": {},
   "source": [
    "Finally,  \n",
    "\n",
    "$$ P = UI\\cos\\varphi = 40\\mathrm{W}$$"
   ]
  },
  {
   "cell_type": "markdown",
   "id": "62f8488b",
   "metadata": {},
   "source": [
    "#### Problem 3\n",
    "3. The parallel LC circuit voltage is $u=U_\\mathrm{m}\\sin\\omega t$ . Sketch (on one drawing) the instantaneous power of $L$ and $C$, for $X_L = |X_C| = X_C$."
   ]
  },
  {
   "cell_type": "markdown",
   "id": "62ef8cc4",
   "metadata": {},
   "source": [
    "$$ U(j\\omega) = U = \\frac{U_\\mathrm{m}}{\\sqrt{2}} = Z_C(j\\omega)I_C(j\\omega) = Z_L(j\\omega)I_L(j\\omega)$$"
   ]
  },
  {
   "cell_type": "markdown",
   "id": "7898b9d3",
   "metadata": {},
   "source": [
    "$$ Z_C(j\\omega) = -jX_C = -jX_L \\quad\\quad\\text{and}\\quad\\quad Z_L(j\\omega) = jX_L$$"
   ]
  },
  {
   "cell_type": "markdown",
   "id": "1277cb8e",
   "metadata": {},
   "source": [
    "$$ I_C(j\\omega) = \\frac{U}{X_L}\\,\\angle90^\\circ \\quad\\quad\\hat{=}\\quad\\quad i_C = i_C(t) = \\frac{U_\\mathrm{m}}{\\omega L}\\,\\sin\\big(\\omega t + 90^\\circ\\big)$$"
   ]
  },
  {
   "cell_type": "markdown",
   "id": "c26c1710",
   "metadata": {},
   "source": [
    "\\begin{equation}\\tag{3.1}\n",
    "    p_C = p_C(t) = ui_C = \\frac{U_\\mathrm{m}^2}{\\omega L}\\,\\sin\\omega t \\cos\\omega t = \\frac{U_\\mathrm{m}^2}{2\\omega L}\\,\\sin2\\omega t\n",
    "\\end{equation}    "
   ]
  },
  {
   "cell_type": "markdown",
   "id": "817c9841",
   "metadata": {},
   "source": [
    "$$ I_L(j\\omega) = \\frac{U}{X_L}\\,\\angle\\!-\\!90^\\circ \\quad\\quad\\hat{=}\\quad\\quad i_L = i_L(t) = \\frac{U_\\mathrm{m}}{\\omega L}\\,\\sin\\big(\\omega t - 90^\\circ\\big)$$"
   ]
  },
  {
   "cell_type": "markdown",
   "id": "31983ad1",
   "metadata": {},
   "source": [
    "\\begin{equation}\\tag{3.2}\n",
    "    p_L = p_L(t) = ui_L = -p_C\n",
    "\\end{equation}    "
   ]
  },
  {
   "cell_type": "markdown",
   "id": "c869c96f",
   "metadata": {},
   "source": [
    "#### Problem 4\n",
    "4. The series LC circuit current is $i=I_\\mathrm{m}\\sin\\omega t$. Sketch (on one drawing) the instantaneous power of $L$ and $C$, for $X_L = |X_C|=X_C$."
   ]
  },
  {
   "cell_type": "markdown",
   "id": "2c4b6d6b",
   "metadata": {},
   "source": [
    "$$ I(j\\omega) = I = \\frac{I_\\mathrm{m}}{\\sqrt{2}}\\quad\\quad U_L(j\\omega) = jX_LI = -U_C(j\\omega)$$"
   ]
  },
  {
   "cell_type": "markdown",
   "id": "c18817b4",
   "metadata": {},
   "source": [
    "$$  U_C(j\\omega) = -jX_LI \\quad\\quad \\hat{=}\\quad\\quad u_C=u_C(t) = \\omega L I_\\mathrm{m}\\sin\\big(\\omega t - 90^\\circ\\big)$$"
   ]
  },
  {
   "cell_type": "markdown",
   "id": "51b1bb8a",
   "metadata": {},
   "source": [
    "\\begin{equation}\\tag{4.1}\n",
    "    p_C = p_C(t) = u_Ci = -0.5\\omega L I_\\mathrm{m}^2\\sin2\\omega t\n",
    "\\end{equation}    "
   ]
  },
  {
   "cell_type": "markdown",
   "id": "27e5efeb",
   "metadata": {},
   "source": [
    "$$ p_L = p_L(t) = -p_C$$"
   ]
  },
  {
   "cell_type": "markdown",
   "id": "cef587c0",
   "metadata": {},
   "source": [
    "#### Problem 5\n",
    "5. The current $i=10\\sqrt{2}\\mathrm{mA}\\,\\sin\\big(314t + 45^\\circ\\big)$ flows through a $Z(j\\omega)=(3+j4)\\mathrm{k}\\Omega$ load. What real, apparent and reactive power is absorbed by the load? What energy is dissipated in one period?"
   ]
  },
  {
   "cell_type": "markdown",
   "id": "eb3adac4",
   "metadata": {},
   "source": [
    "$$ I(j\\omega) = I\\,\\angle45^\\circ = 10\\mathrm{mA}\\,\\angle45^\\circ \\quad \\quad\\text{and}\\quad\\quad Z(j\\omega) = 5000\\Omega\\,\\angle \\arcsin \\frac{4}{5} = Z\\,\\angle\\varphi$$"
   ]
  },
  {
   "cell_type": "markdown",
   "id": "81454b09",
   "metadata": {},
   "source": [
    "$$ U = 10\\mathrm{mA}\\cdot 5000\\Omega = 50\\mathrm{V}$$"
   ]
  },
  {
   "cell_type": "code",
   "execution_count": 20,
   "id": "aaedf929",
   "metadata": {},
   "outputs": [
    {
     "data": {
      "text/plain": [
       "53.13010235415599"
      ]
     },
     "execution_count": 20,
     "metadata": {},
     "output_type": "execute_result"
    }
   ],
   "source": [
    "varphi = np.degrees(np.arcsin(4/5))\n",
    "varphi"
   ]
  },
  {
   "cell_type": "markdown",
   "id": "27f2d03d",
   "metadata": {},
   "source": [
    "$$ P = I^2R = UI\\cos\\varphi = 0.3\\mathrm{W}$$"
   ]
  },
  {
   "cell_type": "markdown",
   "id": "49336849",
   "metadata": {},
   "source": [
    "$$ S = UI = 50\\mathrm{V}\\cdot 10\\mathrm{mA} = 0.5\\mathrm{W}$$"
   ]
  },
  {
   "cell_type": "markdown",
   "id": "bc0e8753",
   "metadata": {},
   "source": [
    "$$ Q = I^2X = UI\\sin\\varphi=0.4\\mathrm{W}$$"
   ]
  },
  {
   "cell_type": "markdown",
   "id": "e427c5c5",
   "metadata": {},
   "source": [
    "The energy dissipated in one period, denoted as '$W_T$', is given by:  \n",
    "\n",
    "$$ W_T = P\\cdot T = 0.3\\mathrm{W} \\cdot \\frac{2\\pi}{314\\mathrm{rad}}\\,\\mathrm{s} = 6\\mathrm{mJ}$$"
   ]
  },
  {
   "cell_type": "code",
   "execution_count": 21,
   "id": "f2a15439",
   "metadata": {},
   "outputs": [
    {
     "data": {
      "text/plain": [
       "0.3"
      ]
     },
     "execution_count": 21,
     "metadata": {},
     "output_type": "execute_result"
    }
   ],
   "source": [
    "I = 10e-3; R = 3000\n",
    "R*I**2"
   ]
  },
  {
   "cell_type": "code",
   "execution_count": 22,
   "id": "d5d3741d",
   "metadata": {},
   "outputs": [
    {
     "data": {
      "text/plain": [
       "0.4"
      ]
     },
     "execution_count": 22,
     "metadata": {},
     "output_type": "execute_result"
    }
   ],
   "source": [
    "4000*I**2"
   ]
  },
  {
   "cell_type": "code",
   "execution_count": 23,
   "id": "e4a61895",
   "metadata": {},
   "outputs": [
    {
     "data": {
      "text/plain": [
       "0.006003043287114255"
      ]
     },
     "execution_count": 23,
     "metadata": {},
     "output_type": "execute_result"
    }
   ],
   "source": [
    "0.3*2*np.pi/314"
   ]
  },
  {
   "cell_type": "markdown",
   "id": "a7e2db5c",
   "metadata": {},
   "source": [
    "#### Problem 6\n",
    "6. The voltage across a $Z(j\\omega)=(3+j4)\\mathrm{k}\\Omega$ load is $u=10\\sqrt{2}\\mathrm{V}\\sin\\big(314t + 45^\\circ\\big)$. What real, apparent and reactive power is absorbed by the load? What energy is dissipated in one period?"
   ]
  },
  {
   "cell_type": "markdown",
   "id": "4a9f5047",
   "metadata": {},
   "source": [
    "$$ U(j\\omega) = U\\,\\angle45^\\circ = 10\\mathrm{V}\\,\\angle45^\\circ \\quad\\quad\\text{and}\\quad\\quad Z(j\\omega) = Z\\angle\\varphi = 5000\\Omega\\,\\angle\\arcsin\\frac{4}{5}$$"
   ]
  },
  {
   "cell_type": "markdown",
   "id": "30b2c9a5",
   "metadata": {},
   "source": [
    "$$ U\\,\\angle\\alpha_u = ZI\\,\\angle(\\varphi + \\alpha_i)$$"
   ]
  },
  {
   "cell_type": "markdown",
   "id": "ae73c0c3",
   "metadata": {},
   "source": [
    "Dividing throughout by $Z\\,\\angle\\alpha_i$ gives:  \n",
    "\n",
    "$$ \\frac{U}{Z}\\,\\angle\\varphi = I\\,\\angle\\varphi \\implies U\\,\\angle\\varphi = IZ\\,\\angle\\varphi$$"
   ]
  },
  {
   "cell_type": "markdown",
   "id": "82fa0905",
   "metadata": {},
   "source": [
    "$$ U\\,\\big(\\cos\\varphi + j\\sin\\varphi\\big) = I(R + jX) \\quad \\implies \\quad U\\cos\\varphi = IR \\quad\\text{and}\\quad U\\sin\\varphi = IX$$"
   ]
  },
  {
   "cell_type": "markdown",
   "id": "99a78cca",
   "metadata": {},
   "source": [
    "$$ I = \\frac{U}{Z} = 2\\mathrm{mA}$$"
   ]
  },
  {
   "cell_type": "markdown",
   "id": "d297db9c",
   "metadata": {},
   "source": [
    "$$ P = UI\\cos\\varphi = UI\\frac{R}{Z} = \\frac{U}{Z}IR = I^2R = 12\\mathrm{mW} $$\n",
    "\n",
    "$$Q = UI\\sin\\varphi = UI\\frac{X}{Z} = \\frac{U}{Z}IX = I^2X = 16\\mathrm{mW} $$\n",
    "\n",
    "$$S = UI = \\frac{U^2}{Z} = 20\\mathrm{mW}$$"
   ]
  },
  {
   "cell_type": "markdown",
   "id": "7996ffc6",
   "metadata": {},
   "source": [
    "$$ W_T = PT = I^2R\\cdot\\frac{2\\pi}{314\\mathrm{rad}}\\,\\mathrm{s} \\approxeq 240.12\\mu\\mathrm{J}$$"
   ]
  },
  {
   "cell_type": "code",
   "execution_count": 32,
   "id": "3d019161",
   "metadata": {},
   "outputs": [
    {
     "data": {
      "text/plain": [
       "0.0002401217314845702"
      ]
     },
     "execution_count": 32,
     "metadata": {},
     "output_type": "execute_result"
    }
   ],
   "source": [
    "W_T"
   ]
  },
  {
   "cell_type": "code",
   "execution_count": 29,
   "id": "9bf041b2",
   "metadata": {},
   "outputs": [
    {
     "data": {
      "text/plain": [
       "0.012"
      ]
     },
     "execution_count": 29,
     "metadata": {},
     "output_type": "execute_result"
    }
   ],
   "source": [
    "U = 10; R = 3000; X = 4000; I = 2e-3\n",
    "P = I**2*R\n",
    "P"
   ]
  },
  {
   "cell_type": "code",
   "execution_count": 30,
   "id": "b4d56091",
   "metadata": {},
   "outputs": [
    {
     "data": {
      "text/plain": [
       "0.016"
      ]
     },
     "execution_count": 30,
     "metadata": {},
     "output_type": "execute_result"
    }
   ],
   "source": [
    "Q = I**2*X\n",
    "Q"
   ]
  },
  {
   "cell_type": "code",
   "execution_count": 31,
   "id": "66f37de0",
   "metadata": {},
   "outputs": [],
   "source": [
    "T = 2*np.pi/314\n",
    "W_T = P*T"
   ]
  },
  {
   "cell_type": "code",
   "execution_count": 27,
   "id": "b0e6a638",
   "metadata": {},
   "outputs": [
    {
     "data": {
      "text/plain": [
       "0.02"
      ]
     },
     "execution_count": 27,
     "metadata": {},
     "output_type": "execute_result"
    }
   ],
   "source": [
    "S = U**2/5000\n",
    "S"
   ]
  },
  {
   "cell_type": "markdown",
   "id": "2488eba6",
   "metadata": {},
   "source": [
    "#### Problem 7\n",
    "7. The inductive impedance $Z(j\\omega) = (6+j8)\\Omega$ is connected to a $220 \\mathrm{V}$ line. Find the energy dissipated in 1 hour."
   ]
  },
  {
   "cell_type": "markdown",
   "id": "c8edbdcf",
   "metadata": {},
   "source": [
    "$$ I = \\frac{220}{\\sqrt{6^2+8^2}}\\,\\mathrm{A} = 22\\mathrm{A} \\quad\\quad\\text{and}\\quad\\quad \\varphi = \\arcsin\\frac{4}{5}$$"
   ]
  },
  {
   "cell_type": "code",
   "execution_count": 33,
   "id": "cffe056f",
   "metadata": {},
   "outputs": [
    {
     "data": {
      "text/plain": [
       "22.0"
      ]
     },
     "execution_count": 33,
     "metadata": {},
     "output_type": "execute_result"
    }
   ],
   "source": [
    "I = 220/np.sqrt(6**2+8**2)\n",
    "I"
   ]
  },
  {
   "cell_type": "markdown",
   "id": "6aeedbfc",
   "metadata": {},
   "source": [
    "$$ P = I^2R = 2904\\mathrm{W}$$"
   ]
  },
  {
   "cell_type": "code",
   "execution_count": 34,
   "id": "4b8c2d3b",
   "metadata": {},
   "outputs": [
    {
     "data": {
      "text/plain": [
       "2904.0"
      ]
     },
     "execution_count": 34,
     "metadata": {},
     "output_type": "execute_result"
    }
   ],
   "source": [
    "P = 6*I**2\n",
    "P"
   ]
  },
  {
   "cell_type": "markdown",
   "id": "3a239083",
   "metadata": {},
   "source": [
    "$$ W = P\\cdot 1\\mathrm{hr} = 10.4544\\,\\mathrm{MJ}$$"
   ]
  },
  {
   "cell_type": "markdown",
   "id": "6a13039f",
   "metadata": {},
   "source": [
    "Note that the above identity assumes that $1\\mathrm{hr}$ is a multiple of $T$.  If $1\\mathrm{hr} \\ne nT$, where $n\\in\\mathbb{N}$, then the radian frequency, denoted as '$\\omega$', needs to be known to find the energy dissipated over said time interval.  This is proven below."
   ]
  },
  {
   "cell_type": "code",
   "execution_count": 39,
   "id": "195c7428",
   "metadata": {},
   "outputs": [
    {
     "data": {
      "text/plain": [
       "10.4544"
      ]
     },
     "execution_count": 39,
     "metadata": {},
     "output_type": "execute_result"
    }
   ],
   "source": [
    "W = P * 60**2\n",
    "W*1e-6"
   ]
  },
  {
   "cell_type": "markdown",
   "id": "30e037dd",
   "metadata": {},
   "source": [
    "To test the above answer, first recall that:  \n",
    "\n",
    "$$ f(t):= \\int p\\,\\mathrm{d}t = tUI\\cos\\varphi - \\frac{UI}{2\\omega}\\,\\sin\\big(2\\omega t + \\alpha_u + \\alpha_i\\big)$$"
   ]
  },
  {
   "cell_type": "markdown",
   "id": "449b2e06",
   "metadata": {},
   "source": [
    "and that  \n",
    "\n",
    "$$ W = \\int_{t_0}^{t_1} p\\,\\mathrm{d}t = f(t_1)-f(t_0) = f(t_0+\\Delta t) - f(t_0) \\quad\\quad\\text{where }\\; \\Delta t = t_1 - t_0 = 1\\mathrm{hr}$$"
   ]
  },
  {
   "cell_type": "markdown",
   "id": "ec4a4baa",
   "metadata": {},
   "source": [
    "$$ W = \\Delta tUI\\cos\\varphi + \\frac{UI}{2\\omega}\\,\\Big(\\sin\\big(2\\omega t_0 + \\alpha_u + \\alpha_i\\big) - \\sin\\big(2\\omega t_0 + 2\\omega \\Delta t + \\alpha_u + \\alpha_i\\big)\\Big)$$"
   ]
  },
  {
   "cell_type": "markdown",
   "id": "0748410a",
   "metadata": {},
   "source": [
    "Now let $\\alpha:=\\alpha_u + \\alpha_i$ and $\\theta:=2\\omega t_0$.  \n",
    "\n",
    "$$ y:=\\sin\\big(\\theta + \\alpha\\big) - \\sin\\big(\\theta + \\alpha + 2\\omega \\Delta t\\big) \\quad\\hat{=}\\quad Y(j2\\omega) = 1\\angle\\alpha - 1\\angle(\\alpha + 2\\omega \\Delta t) = Y\\,\\angle\\alpha_y$$"
   ]
  },
  {
   "cell_type": "markdown",
   "id": "965858ff",
   "metadata": {},
   "source": [
    "where,"
   ]
  },
  {
   "cell_type": "markdown",
   "id": "ca90348e",
   "metadata": {},
   "source": [
    "$$ Y = \\sqrt{\\big(\\cos\\alpha - \\cos(\\alpha+2\\omega \\Delta t)\\big)^2 + \\big(\\sin\\alpha - \\sin(\\alpha+2\\omega \\Delta t) \\big)^2}$$"
   ]
  },
  {
   "cell_type": "markdown",
   "id": "70f8b54e",
   "metadata": {},
   "source": [
    "$$ =\\sqrt{2 - 2\\cos\\alpha\\cos(\\alpha+2\\omega\\Delta t) - 2\\sin\\alpha\\sin(\\alpha + 2\\omega \\Delta t)}$$"
   ]
  },
  {
   "cell_type": "markdown",
   "id": "a25a5514",
   "metadata": {},
   "source": [
    "$$ = \\sqrt{2-2\\big(\\sin(0.5\\pi-\\alpha)\\cos(\\alpha+2\\omega\\Delta t) + \\cos(0.5\\pi-\\alpha)\\sin(\\alpha+2\\omega\\Delta t)\\big)}$$"
   ]
  },
  {
   "cell_type": "markdown",
   "id": "40794767",
   "metadata": {},
   "source": [
    "\\begin{equation}\\tag{M1}\n",
    "    Y = \\sqrt{2-2\\sin(0.5\\pi+2\\omega\\Delta t)} = \\sqrt{2-2\\cos2\\omega\\Delta t}\n",
    "\\end{equation}    "
   ]
  },
  {
   "cell_type": "markdown",
   "id": "1d712c47",
   "metadata": {},
   "source": [
    "Via equations (M1) and (P1.1),  \n",
    "\n",
    "\\begin{equation}\\tag{M1}\n",
    "    Y = 2\\sin2\\omega\\Delta t\n",
    "\\end{equation}    "
   ]
  },
  {
   "cell_type": "markdown",
   "id": "23c5659a",
   "metadata": {},
   "source": [
    "and,\n",
    "\\begin{equation}\\tag{M5}\n",
    "    \\alpha_y = \\arccos\\frac{x}{Y}\n",
    "\\end{equation}    "
   ]
  },
  {
   "cell_type": "markdown",
   "id": "784794f7",
   "metadata": {},
   "source": [
    "$$ x = \\cos\\alpha - \\cos(\\alpha+2\\omega\\Delta t) \\quad\\hat{=}\\quad X(j\\alpha) = 1\\angle0^\\circ - 1\\angle2\\omega\\Delta t = 1 - \\cos2\\omega\\Delta t - j\\sin2\\omega \\Delta t$$"
   ]
  },
  {
   "cell_type": "markdown",
   "id": "6cfdd1c3",
   "metadata": {},
   "source": [
    "$$  = X\\,\\angle\\alpha_x \\quad\\quad\\text{where }\\; X = \\sqrt{\\big(1-\\cos2\\omega\\Delta t\\big)^2 + \\sin^2 2\\omega\\Delta t} \\quad\\text{and}\\quad \\alpha_x = \\arcsin\\frac{-\\sin2\\omega\\Delta t}{X}$$"
   ]
  },
  {
   "cell_type": "markdown",
   "id": "c56d6ada",
   "metadata": {},
   "source": [
    "\\begin{equation}\\tag{M2}\n",
    "    X = \\sqrt{2 - 2\\cos2\\omega\\Delta t} = Y = 2\\sin2\\omega\\Delta t\n",
    "\\end{equation}    "
   ]
  },
  {
   "cell_type": "markdown",
   "id": "eaad76c6",
   "metadata": {},
   "source": [
    "\\begin{equation}\\tag{M3}\n",
    "    \\alpha_x = -\\arcsin 0.5 = -30^\\circ\n",
    "\\end{equation}    "
   ]
  },
  {
   "cell_type": "markdown",
   "id": "d6496a2b",
   "metadata": {},
   "source": [
    "\\begin{equation}\\tag{M4}\n",
    "    X(j\\alpha) = 2\\sin2\\omega\\Delta t\\,\\angle\\!-\\!30^\\circ \\quad\\quad\\hat{=}\\quad\\quad x = 2\\sin2\\omega\\Delta t\\sin\\big(\\alpha - 30^\\circ\\big)\n",
    "\\end{equation}    "
   ]
  },
  {
   "cell_type": "markdown",
   "id": "023d0bef",
   "metadata": {},
   "source": [
    "Via equations (M4,5),  \n",
    "\n",
    "\\begin{equation}\\tag{M6}\n",
    "    \\alpha_y = \\arccos\\sin\\big(\\alpha-30^\\circ\\big) = \\alpha - 120^\\circ = \\alpha_u + \\alpha_i - 120^\\circ\n",
    "\\end{equation}    "
   ]
  },
  {
   "cell_type": "markdown",
   "id": "4785d466",
   "metadata": {},
   "source": [
    "Finally, via equations (M6,1),  \n",
    "\n",
    "$$ Y(j2\\omega) = 2\\sin2\\omega\\Delta t\\,\\angle\\big(\\alpha_u+\\alpha_i - 120^\\circ\\big) \\quad\\quad\\hat{=}\\quad\\quad y = 2\\sin2\\omega\\Delta t\\sin\\big(2\\omega t_0 + \\alpha_u +\\alpha_i -90^\\circ -30^\\circ\\big)$$"
   ]
  },
  {
   "cell_type": "markdown",
   "id": "fb8aa22b",
   "metadata": {},
   "source": [
    "$$ y = -2\\sin2\\omega\\Delta t \\cos\\big(2\\omega t_0 +\\alpha_u+\\alpha_i -30^\\circ\\big)$$"
   ]
  },
  {
   "cell_type": "code",
   "execution_count": 40,
   "id": "d4625648",
   "metadata": {},
   "outputs": [
    {
     "data": {
      "text/plain": [
       "30.000000000000004"
      ]
     },
     "execution_count": 40,
     "metadata": {},
     "output_type": "execute_result"
    }
   ],
   "source": [
    "np.degrees(np.arcsin(0.5))"
   ]
  },
  {
   "cell_type": "markdown",
   "id": "362d434a",
   "metadata": {},
   "source": [
    "#### Problem 8\n",
    "8. Find the load impedance $Z_\\mathrm{l}(j\\omega)=R_\\mathrm{l} + jX_\\mathrm{l}$ that will absorb the maximum power.  What would the value of that maximum be?  \n",
    "\n",
    "![Fig-P.4.3.8](Figures/Fig-P.4.3.8.png)"
   ]
  }
 ],
 "metadata": {
  "kernelspec": {
   "display_name": "Python 3",
   "language": "python",
   "name": "python3"
  },
  "language_info": {
   "codemirror_mode": {
    "name": "ipython",
    "version": 3
   },
   "file_extension": ".py",
   "mimetype": "text/x-python",
   "name": "python",
   "nbconvert_exporter": "python",
   "pygments_lexer": "ipython3",
   "version": "3.8.10"
  }
 },
 "nbformat": 4,
 "nbformat_minor": 5
}
