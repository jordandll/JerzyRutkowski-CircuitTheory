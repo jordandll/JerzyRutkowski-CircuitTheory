{
 "cells": [
  {
   "cell_type": "markdown",
   "id": "3fa26072",
   "metadata": {},
   "source": [
    "# Frequency Characteristics of Two-Terminal Subcircuit\n",
    "In AC steady-state circuit, all circuit responses are functions of the generator frequency .\n",
    "Response variations with this frequency form the frequency response of the circuit.  \n",
    "\n",
    "Summary of ideal elements, resistor, capacitor and coil, is presented at first. Then, use of\n",
    "these elements to model a practical capacitor and a practical coil is discussed.  \n",
    "\n",
    "Next, frequency response of resonant circuits, circuits that contain both capacitors and coils is\n",
    "investigated. Simple circuits, series RLC circuit and parallel GLC circuit are considered at\n",
    "first. Then, complex two-terminal circuits are discussed."
   ]
  },
  {
   "cell_type": "markdown",
   "id": "56ff0db7",
   "metadata": {},
   "source": [
    "## Ideal Elements – Summary\n",
    "### Resistor\n",
    "1. **Time-domain description**:  \n",
    "    \\begin{equation}\\tag{1}\n",
    "     u=Ri \\implies U\\sqrt{2}\\sin\\big(\\omega t + \\alpha_u\\big) = RI\\sqrt{2}\\sin\\big(\\omega t + \\alpha_i\\big) \\implies U=RI,\\;\\alpha_u=\\alpha_i\n",
    "    \\end{equation}\n",
    "    \n",
    "    There is no phase shift between the voltage and the current. Fig. 4.4.1 presents a single\n",
    "    period of resistor waveforms - current is denoted by the bold line, $\\alpha_i=0^\\circ$ is assumed.  \n",
    "    \n",
    "    ![Fig-4.4.1](Figures/Fig-4.4.1.png)"
   ]
  },
  {
   "cell_type": "markdown",
   "id": "875e5e16",
   "metadata": {},
   "source": [
    "2. **Phasor-domain description**:  \n",
    "    \\begin{equation}\\tag{2}\n",
    "        U(j\\omega)=RI(j\\omega)\n",
    "    \\end{equation}\n",
    "    Phasor diagram is presented in Fig. 4.4.2\n",
    "    ![Fig-4.4.2](Figures/Fig-4.4.2.png)"
   ]
  },
  {
   "cell_type": "markdown",
   "id": "932482eb",
   "metadata": {},
   "source": [
    "3. **Impedance**:  \n",
    "\n",
    "    \\begin{equation}\\tag{3}\n",
    "        Z(j\\omega) = R\\,\\angle0^\\circ \\quad\\implies\\quad Z(\\omega)=Z=R \\quad \\text{and}\\quad \\varphi=0^\\circ\n",
    "    \\end{equation}\n",
    "    \n",
    "    Fig. 4.4.3 presents modulus (magnitude) and phase frequency characteristics.  \n",
    "    \n",
    "    ![Fig-4.4.3](Figures/Fig-4.4.3.png)"
   ]
  },
  {
   "cell_type": "markdown",
   "id": "68bdc61f",
   "metadata": {},
   "source": [
    "4. **Power**:  \n",
    "\n",
    "    Instantaneous power:  \n",
    "    \n",
    "    \\begin{equation}\\tag{4}\n",
    "        p = ui = 2UI\\sin^2\\omega t = UI - UI\\cos2\\omega t\n",
    "    \\end{equation}\n",
    "    \n",
    "    as presented in Fig. 4.4.4 - the dissipated energy is denoted by the shaded area.  \n",
    "    \n",
    "    ![Fig-4.4.4](Figures/Fig-4.4.4.png)"
   ]
  },
  {
   "cell_type": "markdown",
   "id": "dd87868c",
   "metadata": {},
   "source": [
    "Average or real power:  \n",
    "\n",
    "\\begin{equation}\\tag{5}\n",
    "    P = I^2R \\, ,\\, \\mathrm{pf} = 1\n",
    "\\end{equation}    "
   ]
  },
  {
   "cell_type": "markdown",
   "id": "d9983d5b",
   "metadata": {},
   "source": [
    "Reactive power:  \n",
    "\n",
    "\\begin{equation}\\tag{6}\n",
    "    Q = 0\n",
    "\\end{equation}    "
   ]
  },
  {
   "cell_type": "markdown",
   "id": "66914279",
   "metadata": {},
   "source": [
    "Energy dissipate in one period ($T$),  \n",
    "\n",
    "\\begin{equation}\\tag{7}\n",
    "    W_T = PT = I^2RT\n",
    "\\end{equation}"
   ]
  },
  {
   "cell_type": "markdown",
   "id": "a8c1f924",
   "metadata": {},
   "source": [
    "### Inductor\n",
    "1. **Time-domain description**:  Assuming $u = U\\sqrt{2}\\sin\\big(\\omega t + \\alpha_u\\big) \\;\\lor\\;i=I\\sqrt{2}\\sin\\big(\\omega t + \\alpha_i\\big)$,  \n",
    "\n",
    "    \\begin{equation}\\tag{8}\n",
    "        u = L\\frac{\\mathrm{d}i}{\\mathrm{d}t} \\quad\\implies \\quad  U\\sqrt{2}\\sin\\big(\\omega t + \\alpha_u\\big)=\\omega LI\\sqrt{2}\\sin\\big(\\omega t + \\alpha_i + 90^\\circ\\big) \\quad\\implies \\quad U=\\omega LI \\quad\\text{and}\\quad \\alpha_u=\\alpha_i + 90^\\circ \n",
    "    \\end{equation}\n",
    "    \n",
    "    The voltage leads the current by$90^\\circ$ . Fig. 4.4.5 presents a single period of inductor waveforms - current is denoted by the bold line.  It is assumed that $\\alpha_i=0^\\circ$.  \n",
    "    \n",
    "    ![Fig-4.4.5](Figures/Fig-4.4.5.png)"
   ]
  },
  {
   "cell_type": "markdown",
   "id": "0e51034b",
   "metadata": {},
   "source": [
    "2. **Phasor-domain description**:  \n",
    "\n",
    "    \\begin{equation}\\tag{9}\n",
    "        U(j\\omega) = j\\omega L I(j\\omega)\n",
    "    \\end{equation}\n",
    "    \n",
    "    Phasor diagram is presented in Fig. 4.4.6.  \n",
    "    \n",
    "    ![Fig-4.4.6](Figures/Fig-4.4.6.png)"
   ]
  },
  {
   "cell_type": "markdown",
   "id": "d747b7c3",
   "metadata": {},
   "source": [
    "3. **Impedance**:  \n",
    "\n",
    "    \\begin{equation}\\tag{10}\n",
    "        Z(j\\omega) = j\\omega L = \\omega L\\,\\angle90^\\circ \\quad\\implies\\quad Z(\\omega) = Z = \\omega L \\quad\\text{aand}\\quad \\varphi = 90^\\circ\n",
    "    \\end{equation}\n",
    "    \n",
    "    Fig. 4.4.7 presents modulus (magnitude) and phase frequency characteristics.  \n",
    "    \n",
    "    ![Fig-4.4.7](Figures/Fig-4.4.7.png)  \n",
    "    \n",
    "    Under dc steady-state conditions ($\\omega=0$), a coil is a short-circuit. As $\\omega\\to\\infty$, a coil is an open-circuit;  Or, in other words, the limit of the current flowing through a coil as $\\omega$ approaches infinity is zero."
   ]
  },
  {
   "cell_type": "markdown",
   "id": "88c389d0",
   "metadata": {},
   "source": [
    "4. **Power**:  \n",
    "    Instantaneous power:  \n",
    "    \\begin{equation}\\tag{11}\n",
    "        p = ui = 2\\omega L I^2\\sin\\big(\\omega t + \\alpha_i\\big)\\cos\\big(\\omega t + \\alpha_i\\big) = \\omega LI^2\\sin\\big(2\\omega t + 2\\alpha_i\\big)\n",
    "    \\end{equation}  \n",
    "    \n",
    "    Assuming $\\alpha_i=0^\\circ$, $p = UI\\sin2\\omega t$, as presented in Fig. 4.4.8.  \n",
    "    \n",
    "    ![Fig-4.4.8](Figures/Fig-4.4.8.png)  \n",
    "    \n",
    "    Average or real power:  \n",
    "    \n",
    "    \\begin{equation}\\tag{12}\n",
    "        P = UI\\cos\\varphi = 0 \\, , \\, \\cos\\varphi = \\mathrm{pf} = 0\n",
    "    \\end{equation}\n",
    "    \n",
    "    Reactive power:  \n",
    "    \n",
    "    \\begin{equation}\\tag{13}\n",
    "        Q = UI\\sin\\varphi = UI\n",
    "    \\end{equation}\n",
    "    \n",
    "    Energy absorbed in one period:  \n",
    "    \n",
    "    \\begin{equation}\\tag{14}\n",
    "        W_T = PT = 0\n",
    "    \\end{equation}"
   ]
  },
  {
   "cell_type": "markdown",
   "id": "8ce6baac",
   "metadata": {},
   "source": [
    "Once again, assuming $\\alpha_i=0^\\circ$,  \n",
    "\n",
    "$$ \\int p\\,\\mathrm{d}t = -0.5LI^2 \\cos2\\omega t$$"
   ]
  },
  {
   "cell_type": "markdown",
   "id": "6a9fd807",
   "metadata": {},
   "source": [
    "$$ w = w(t) = \\int_0^t p\\,\\mathrm{d}t = 0.5LI^2\\,\\big(1-\\cos2\\omega t\\big)$$"
   ]
  },
  {
   "cell_type": "markdown",
   "id": "88d35b26",
   "metadata": {},
   "source": [
    "Inductors or coils exchange energy back and forth with the rest of the circuit - in Fig. 4.4.8 the\n",
    "exchanged energy is denoted by the shaded area.  \n",
    "\n",
    "$$ w(0) = 0$$\n",
    "\n",
    "The roots of $p(t)$ are the points in time at which $w$ is at it's max or min value.  In other words, $\\big(t_\\mathrm{e}, w(t_\\mathrm{e})\\big)$, where $p(t_\\mathrm{e})=0$, is an extremum of of the curve given by $w(t)$.\n",
    "\n",
    "$$ p(t_\\mathrm{e}) = 0 \\quad\\implies\\quad 2\\omega t_\\mathrm{e} = n\\pi \\quad\\text{where }\\;n\\in\\mathbb{Z}$$\n",
    "\n",
    "Thus,\n",
    "\n",
    "$$t_\\mathrm{e} = \\frac{n\\pi}{2\\omega} = \\frac{n\\pi T}{4\\pi} = \\frac{nT}{4} \\quad\\quad\\text{where }\\;n\\in\\mathbb{Z}$$"
   ]
  },
  {
   "cell_type": "markdown",
   "id": "1729e941",
   "metadata": {},
   "source": [
    "The points in time at which the max value of $w$ are reached are given by:  \n",
    "\n",
    "$$ t_\\max = \\frac{n_\\mathrm{o}T}{4} \\quad\\quad \\text{where }n_\\mathrm{o}\\text{ is an odd integer and }w(t_\\max) = w_\\max = LI^2\\text{.}$$"
   ]
  },
  {
   "cell_type": "markdown",
   "id": "0f198de0",
   "metadata": {},
   "source": [
    "And, the points in time at which is the min value of $w$ are reached are given by:  \n",
    "\n",
    "$$ t_\\min = \\frac{n_\\mathrm{e}T}{4} \\quad\\quad \\text{where }n_\\mathrm{e}\\text{ is an even integer and }w(t_\\min) = w_\\min = 0\\,\\mathrm{J}\\text{.}$$"
   ]
  },
  {
   "cell_type": "markdown",
   "id": "f73b21fd",
   "metadata": {},
   "source": [
    "When $t_\\min \\le t < t_\\max$, the coil is absorbing energy from the circuit.  Conversely, when $t_\\max\\le t < t_\\min$, the coil is releasing energy back into the circuit.  Each of these time periods have a length of $0.25T$."
   ]
  },
  {
   "cell_type": "markdown",
   "id": "bcfa030d",
   "metadata": {},
   "source": [
    "### Capacitor\n",
    "1. **Time-domain description**:  Assuming $u = u(t) = U\\sqrt{2}\\sin\\big(\\omega t + \\alpha_u\\big)$,  \n",
    "\n",
    "    \\begin{equation}\\tag{15}\n",
    "    i = C\\,\\frac{\\mathrm{d}u}{\\mathrm{d}t} \\quad\\implies\\quad I\\sqrt{2}\\sin\\big(\\omega t + \\alpha_i\\big) = \\omega CU\\sqrt{2}\\sin\\big(\\omega t + \\alpha_u + 90^\\circ\\big) \\quad\\quad\\text{where }\\; I=\\omega CU\\quad\\text{and}\\quad \\alpha_i=\\alpha_u + 90^\\circ\n",
    "    \\end{equation}\n",
    "\n",
    "    The current leads the voltage by $90^\\circ$. Fig. 4.4.9 presents a single period of inductor waveforms - current is denoted by the bold line.  It is assumed that $\\alpha_u=0^\\circ$.  \n",
    "    \n",
    "    ![Fig-4.4.9](Figures/Fig-4.4.9.png)"
   ]
  },
  {
   "cell_type": "markdown",
   "id": "24564e3f",
   "metadata": {},
   "source": [
    "2. **Phasor-domain description**:  \n",
    "\n",
    "    \\begin{equation}\\tag{16}\n",
    "        I(j\\omega) = j\\omega C U(j\\omega) \\quad\\implies\\quad I\\,\\angle\\alpha_i = \\omega CU\\,\\angle\\big(\\alpha_u + 90^\\circ\\big)\n",
    "    \\end{equation}\n",
    "    \n",
    "    Phasor diagram is presented in Fig. 4.4.10.  \n",
    "    \n",
    "    ![Fig-4.4.10](Figures/Fig-4.4.10.png)"
   ]
  },
  {
   "cell_type": "markdown",
   "id": "90befe6b",
   "metadata": {},
   "source": [
    "3. **Impedance and Admittance**:  \n",
    "\n",
    "    \\begin{equation}\\tag{17a}\n",
    "        A(j\\omega) = j\\omega C = \\omega C\\,\\angle90^\\circ \\quad\\implies \\quad A(\\omega) = A = \\omega C \\quad\\text{and}\\quad -\\varphi=90^\\circ\n",
    "    \\end{equation}\n",
    "    Thus,  \n",
    "    \n",
    "    \\begin{equation}\\tag{17b}\n",
    "        Z(j\\omega) = \\frac{1}{A(j\\omega)} = -j\\frac{1}{\\omega C} = \\frac{1}{\\omega C}\\,\\angle\\!-\\!90^\\circ \\quad\\implies\\quad Z(\\omega) = Z = \\frac{1}{A} = \\frac{1}{\\omega C} \\quad\\text{and}\\quad \\varphi = -90^\\circ\n",
    "    \\end{equation}\n",
    "    \n",
    "    Fig. 4.4.11 presents modulus (magnitude) and phase frequency characteristics.  \n",
    "    \n",
    "    ![Fig-4.4.11](Figures/Fig-4.4.11.png)\n",
    "\n",
    "    Under DC steady-state conditions ($\\omega=0$), the capacitor is an open-circuit. As $\\omega\\to\\infty$, the capacitor is a short-circuit;  Or, in other words, the limit of voltage dropped accros the capacitor as $\\omega$ approaches infinity is equal to zero volts."
   ]
  },
  {
   "cell_type": "markdown",
   "id": "7247f170",
   "metadata": {},
   "source": [
    "4. **Power**:  \n",
    "\n",
    "    Instantaneous power:  \n",
    "    \n",
    "    \\begin{equation}\\tag{18}\n",
    "        p = p(t\\vert\\alpha_u) = ui = 2\\omega C U^2\\sin\\big(\\omega t + \\alpha_u\\big)\\cos\\big(\\omega t + \\alpha_u\\big) = \\omega CU^2\\sin\\big(2\\omega t + 2\\alpha_u\\big)\n",
    "    \\end{equation}\n",
    "    \n",
    "    Real or average power:  \n",
    "    \n",
    "    \\begin{equation}\\tag{19}\n",
    "        P = UI\\cos\\varphi = 0 \\quad\\text{and}\\quad \\mathrm{pf} = \\cos\\varphi = 0\n",
    "    \\end{equation}\n",
    "    \n",
    "    Reactive power:  \n",
    "    \n",
    "    \\begin{equation}\\tag{20}\n",
    "        Q = UI\\sin\\varphi = -UI = -\\omega CU^2\n",
    "    \\end{equation}\n",
    "    \n",
    "    And, the energy stored after one time period is:  \n",
    "    \n",
    "    \\begin{equation}\\tag{21}\n",
    "        W_T = PT = 0\\,\\mathrm{J}\n",
    "    \\end{equation}"
   ]
  },
  {
   "cell_type": "markdown",
   "id": "97f9084c",
   "metadata": {},
   "source": [
    "$$ \\int p \\,\\mathrm{d}t = -0.5CU^2\\cos\\big(2\\omega t + 2\\alpha_u\\big)$$"
   ]
  },
  {
   "cell_type": "markdown",
   "id": "d40f9271",
   "metadata": {},
   "source": [
    "Assuming $\\alpha_u=0^\\circ$,  \n",
    "\n",
    "$$ w = w(t\\vert\\alpha_u) = \\int_0^t p\\,\\mathrm{d}t = 0.5CU^2\\Big(\\cos2\\alpha_u - \\cos\\big(2\\omega t + 2\\alpha_u\\big)\\Big)$$"
   ]
  },
  {
   "cell_type": "markdown",
   "id": "1e013114",
   "metadata": {},
   "source": [
    "Now, let $w$ and $p$ be redefined as:  \n",
    "\n",
    "$$ w := w(t) := w\\big(t\\vert0^\\circ\\big) = 0.5CU^2\\big(1-\\cos2\\omega t\\big)$$\n",
    "\n",
    "$$ p:=p(t):=p\\big(t\\vert0^\\circ\\big) = \\omega CU^2\\sin2\\omega t$$"
   ]
  },
  {
   "cell_type": "markdown",
   "id": "65d479d3",
   "metadata": {},
   "source": [
    "Capacitors exchange energy back and forth with the rest of the circuit - in Fig. 4.4.8 the\n",
    "exchanged energy is denoted by the shaded area.  \n",
    "\n",
    "$$ w(0) = 0$$\n",
    "\n",
    "The roots of $p(t)$ are the points in time at which $w$ is at it's max or min value.  In other words, $\\big(t_\\mathrm{e}, w(t_\\mathrm{e})\\big)$, where $p(t_\\mathrm{e})=0$, is an extremum of of the curve given by $w(t)$.\n",
    "\n",
    "$$ p(t_\\mathrm{e}) = 0 \\quad\\implies\\quad 2\\omega t_\\mathrm{e} = n\\pi \\quad\\text{where }\\;n\\in\\mathbb{Z}$$\n",
    "\n",
    "Thus,\n",
    "\n",
    "$$t_\\mathrm{e} = \\frac{n\\pi}{2\\omega} = \\frac{n\\pi T}{4\\pi} = \\frac{nT}{4} \\quad\\quad\\text{where }\\;n\\in\\mathbb{Z}$$"
   ]
  },
  {
   "cell_type": "markdown",
   "id": "adee6b7c",
   "metadata": {},
   "source": [
    "The points in time at which the max value of $w$ are reached are given by:  \n",
    "\n",
    "$$ t_\\max = \\frac{n_\\mathrm{o}T}{4} \\quad\\quad \\text{where }n_\\mathrm{o}\\text{ is an odd integer and }w(t_\\max) = w_\\max =  CU^2\\text{.}$$"
   ]
  },
  {
   "cell_type": "markdown",
   "id": "e77c8a88",
   "metadata": {},
   "source": [
    "And, the points in time at which is the min value of $w$ are reached are given by:  \n",
    "\n",
    "$$ t_\\min = \\frac{n_\\mathrm{e}T}{4} \\quad\\quad \\text{where }n_\\mathrm{e}\\text{ is an even integer and }w(t_\\min) = w_\\min = 0\\,\\mathrm{J}\\text{.}$$"
   ]
  },
  {
   "cell_type": "markdown",
   "id": "5007c7d1",
   "metadata": {},
   "source": [
    "When $t_\\min \\le t < t_\\max$, the capacitor is absorbing energy from the circuit.  Conversely, when $t_\\max\\le t < t_\\min$, the capacitor is releasing energy back into the circuit.  Each of these time periods have a length of $0.25T$."
   ]
  },
  {
   "cell_type": "markdown",
   "id": "933df64c",
   "metadata": {},
   "source": [
    "## Practical Coil and Practical Capacitor\n",
    "A practical (nonideal) inductor or a practical capacitor is modeled by an ideal inductor or\n",
    "capacitor, together with some other parasitic elements to account for losses and coupling.  \n",
    "\n",
    "For a **practical inductor**, first of all, a winding resistance $R_L=R_\\mathrm{Cu}$ (resistance in copper)\n",
    "has to be taken into account. This resistance may be modeled by inserting a series resistor into\n",
    "the circuit model for a practical inductor, as presented in Fig. 4.4.12.  \n",
    "\n",
    "![Fig-4.4.12](Figures/Fig-4.4.12.png)"
   ]
  },
  {
   "cell_type": "markdown",
   "id": "d1e01f32",
   "metadata": {},
   "source": [
    "At first, model taking into account only this winding resistance is considered. Via KVL:  \n",
    "\n",
    "\\begin{equation}\\tag{22}\n",
    "    U(j\\omega) = U_L(j\\omega) + U_R(j\\omega)\n",
    "\\end{equation}"
   ]
  },
  {
   "cell_type": "markdown",
   "id": "cad796be",
   "metadata": {},
   "source": [
    "The phasor diagram is presented in Fig. 4.4.13a ($\\alpha_i=0^\\circ$ is assumed).  \n",
    "\n",
    "A practical coil equivalent impedance is:  \n",
    "\n",
    "\\begin{equation}\\tag{23}\n",
    "    Z_L(j\\omega) = R_L + j\\omega L \\quad\\implies\\quad Z_L(\\omega) = Z_L = \\sqrt{R_L^2 + \\omega^2L^2} \\quad\\text{and}\\quad \\varphi(\\omega) = \\varphi = \\arcsin\\frac{\\omega L}{Z_L(\\omega)} = \\arcsin\\frac{\\omega L}{Z_L}\n",
    "\\end{equation}"
   ]
  },
  {
   "cell_type": "markdown",
   "id": "d7fe4297",
   "metadata": {},
   "source": [
    "Frequency characteristic of the magnitude is presented in Fig. 4.4.13b (solid line).  \n",
    "\n",
    "![Fig-4.4.13](Figures/Fig-4.4.13.png)"
   ]
  },
  {
   "cell_type": "markdown",
   "id": "9dd5285b",
   "metadata": {},
   "source": [
    "If a practical inductor or capacitor is described by the equivalent impedance, $Z(j\\omega) = R(\\omega) + jX(\\omega)$\n",
    ", then the reactance $X(\\omega)$ is the primary parameter of concern, and\n",
    "the resistance $R(\\omega)$ represents the parasitic effect. The magnitude of $X(\\omega)$ is usually much\n",
    "greater than the magnitude of $R(\\omega)$. The ratio, called the **quality factor** of practical element  \n",
    "\n",
    "\\begin{equation}\\tag{24}\n",
    "    Q(\\omega) = \\frac{|X(\\omega)|}{R(\\omega)}\n",
    "\\end{equation}"
   ]
  },
  {
   "cell_type": "markdown",
   "id": "11f8ee4d",
   "metadata": {},
   "source": [
    "provides a measure of how close the practical element is to an ideal element. The inclusion of $\\omega$\n",
    "in equation (4.4.24) is to emphasize the fact that the quality factor depends on the\n",
    "frequency.  \n",
    "\n",
    "For an inductor, modeled as shown in Fig 4.4.12 – solid lines, the quality factor is designated\n",
    "by the following equation:  \n",
    "\n",
    "\\begin{equation}\\tag{25}\n",
    "    Q_L(\\omega) = \\frac{\\omega L}{R_L}\n",
    "\\end{equation}"
   ]
  },
  {
   "cell_type": "markdown",
   "id": "22bbe1d3",
   "metadata": {},
   "source": [
    "For an exemplary coil characterized by the following parameters: $L=0.1\\mathrm{H}$ and $R_L=10\\Omega$, at the audio frequency of $f=1000\\mathrm{Hz}$, the quality factor is $Q_L(\\omega)\\approxeq62.8$."
   ]
  },
  {
   "cell_type": "code",
   "execution_count": 1,
   "id": "f7973473",
   "metadata": {},
   "outputs": [],
   "source": [
    "import numpy as np\n",
    "import matplotlib.pyplot as plt"
   ]
  },
  {
   "cell_type": "code",
   "execution_count": 2,
   "id": "a57449f4",
   "metadata": {},
   "outputs": [
    {
     "data": {
      "text/plain": [
       "62.83185307179586"
      ]
     },
     "execution_count": 2,
     "metadata": {},
     "output_type": "execute_result"
    }
   ],
   "source": [
    "2*np.pi*1000*0.1/10"
   ]
  },
  {
   "cell_type": "markdown",
   "id": "813b0834",
   "metadata": {},
   "source": [
    "A coil model denoted in Fig. 4.4.12 by solid lines is valid for low and medium frequencies of\n",
    "up to few megahertz. For high frequencies the parasitic capacitance between a coil terminals, denoted as '$C_L$', the so called stray capacitance, has to be taken into account, as denoted in Fig. 4.4.12 by\n",
    "the dashed line. A practical coil equivalent circuit has inductive character up to some\n",
    "frequency, called the resonant frequency (meaning of this notion is explained in the next\n",
    "section of this Chapter):  \n",
    "\n",
    "\\begin{equation}\\tag{26}\n",
    "    \\omega_\\mathrm{r}\\approxeq \\frac{1}{\\sqrt{LC_L}}\n",
    "\\end{equation}    "
   ]
  },
  {
   "cell_type": "markdown",
   "id": "5f7d600a",
   "metadata": {},
   "source": [
    "Above the resonant frequency the equivalent circuit reveals the capacitive character! For the\n",
    "exemplary coil and stray capacitance of $C_L= 0.1\\mathrm{pF}$, the resonant frequency is equal to $\\omega_\\mathrm{r}\\approxeq10^7 \\mathrm{rad}/\\mathrm{s}\\,\\implies\\,f_\\mathrm{r}\\approxeq1.6\\mathrm{MHz}$."
   ]
  },
  {
   "cell_type": "code",
   "execution_count": 3,
   "id": "ca2dec0d",
   "metadata": {},
   "outputs": [
    {
     "data": {
      "text/plain": [
       "(10000000.0, 1591549.4309189534)"
      ]
     },
     "execution_count": 3,
     "metadata": {},
     "output_type": "execute_result"
    }
   ],
   "source": [
    "omega_r = 1/np.sqrt(0.1*0.1e-12)\n",
    "f_r = omega_r/(2*np.pi)\n",
    "(omega_r, f_r)"
   ]
  },
  {
   "cell_type": "markdown",
   "id": "e0a173e4",
   "metadata": {},
   "source": [
    "Note that the proof for equation (26), along with a plot of the magnitude of the impedance of the examplary practical coil that is associated with said equation, can be found [here](Proof-4.4.26.ipynb)."
   ]
  },
  {
   "cell_type": "markdown",
   "id": "9bf6db2f",
   "metadata": {},
   "source": [
    "For a **practical capacitor**, first of all, a leakage resistance $R_C=R_\\text{leak}$ has to be taken into\n",
    "account. This resistance may be modeled by inserting a parallel resistor into the circuit model\n",
    "for a practical capacitor, as presented in Fig. 4.4.14.  \n",
    "\n",
    "![Fig-4.4.14](Figures/Fig-4.4.14.png)"
   ]
  },
  {
   "cell_type": "markdown",
   "id": "0cc41418",
   "metadata": {},
   "source": [
    "At first, model taking into account only this leakage resistance is considered. Via KCL,  \n",
    "\n",
    "\\begin{equation}\\tag{27}\n",
    "    I(j\\omega) = I_C(j\\omega) + I_R(j\\omega)\n",
    "\\end{equation}"
   ]
  },
  {
   "cell_type": "markdown",
   "id": "ebd5c62d",
   "metadata": {},
   "source": [
    "The phasor diagram is presented in Fig. 4.3.15a ($\\alpha_u=0^\\circ$ is assumed).  \n",
    "\n",
    "A practical coil equivalent impedance is:  \n",
    "\n",
    "$$ Z_C(j\\omega) = \\frac{1}{Y_C(j\\omega)} \\quad\\quad\\text{where }\\;Y_C(j\\omega) = G_C + j\\omega C = Y_C\\,\\angle\\!-\\!\\varphi_C $$"
   ]
  },
  {
   "cell_type": "markdown",
   "id": "2e56ccec",
   "metadata": {},
   "source": [
    "$$Y_C = \\sqrt{G_C^2 + \\omega^2C^2} \\quad\\quad\\text{and}\\quad\\quad -\\varphi_C = \\arcsin\\frac{\\omega C}{Y_C} = \\arccos\\frac{G_C}{Y_C}$$"
   ]
  },
  {
   "cell_type": "markdown",
   "id": "e98031b7",
   "metadata": {},
   "source": [
    "Thus,  \n",
    "\n",
    "\\begin{equation}\\tag{28}\n",
    "    Z_C(j\\omega) = \\frac{1}{Y_C}\\,\\angle\\varphi_C = \\frac{1}{Y_C^2}\\,\\big(G_C - j\\omega C\\big) \\quad\\implies\\quad Z_C(\\omega)=\\frac{1}{\\sqrt{G_C^2+\\omega^2C^2}}\n",
    "\\end{equation}"
   ]
  },
  {
   "cell_type": "markdown",
   "id": "deaf0d4b",
   "metadata": {},
   "source": [
    "Frequency characteristic of the magnitude is presented in Fig. 4.3.15b (solid line).  \n",
    "\n",
    "![Fig-4.4.15](Figures/Fig-4.4.15.png)"
   ]
  },
  {
   "cell_type": "markdown",
   "id": "eed32e08",
   "metadata": {},
   "source": [
    "For a capacitor, modeled as shown in Fig 4.4.14 – solid lines, the **quality factor** is designated\n",
    "by the following equation:  \n",
    "\n",
    "\\begin{equation}\\tag{29}\n",
    "    Q_C(\\omega) = \\frac{|B(\\omega)|}{G_C(\\omega)} = \\frac{\\omega C}{G_C}\n",
    "\\end{equation}"
   ]
  },
  {
   "cell_type": "markdown",
   "id": "1520ac53",
   "metadata": {},
   "source": [
    "As equation (29) implies, the higher the reactance of the practical coil equivalent and the lower the parallel (leaking) conductance, which corresponds to higher leaking resistance, the higher the **quality factor** of the practical capacitor."
   ]
  },
  {
   "cell_type": "markdown",
   "id": "8947374d",
   "metadata": {},
   "source": [
    "A capacitor quality factor is usually much greater than a coil quality factor, it is often assumed\n",
    "to be infinite. The reciprocal of $Q_C(\\omega)$ is called the dissipation factor $d_C(\\omega) = 1/Q_C(\\omega)$."
   ]
  },
  {
   "cell_type": "markdown",
   "id": "43027cdd",
   "metadata": {},
   "source": [
    "For an exemplary capacitor characterized by the following parameters: $C=1\\mu\\mathrm{F}$ and $R_C=5\\mathrm{M}\\Omega$ , at the audio frequency of $1000\\mathrm{Hz}$, the quality factor is $Q_C(\\omega)\\approxeq31400$.  "
   ]
  },
  {
   "cell_type": "code",
   "execution_count": 4,
   "id": "a961a539",
   "metadata": {},
   "outputs": [
    {
     "data": {
      "text/plain": [
       "31415.92653589793"
      ]
     },
     "execution_count": 4,
     "metadata": {},
     "output_type": "execute_result"
    }
   ],
   "source": [
    "f = 1000; omega = 2*np.pi*f; C = 1e-6; R_C = 5e6\n",
    "Q_C = omega*C*R_C\n",
    "Q_C"
   ]
  },
  {
   "cell_type": "markdown",
   "id": "b4671d62",
   "metadata": {},
   "source": [
    "A capacitor model denoted in Fig. 4.4.14 by solid lines is valid for low and medium\n",
    "frequencies. For high frequencies the parasitic inductance of connecting wires has to be\n",
    "taken into account, as denoted in Fig. 4.4.14 by dashed connections. A practical capacitor\n",
    "equivalent circuit has capacitive character up to some frequency, called the resonant\n",
    "frequency (meaning of this notion is explained in the following section):  \n",
    "\n",
    "\\begin{equation}\\tag{30}\n",
    "    \\omega_\\mathrm{r}\\approxeq\\frac{1}{\\sqrt{L_CC}}\n",
    "\\end{equation}"
   ]
  },
  {
   "cell_type": "markdown",
   "id": "3f671754",
   "metadata": {},
   "source": [
    "Above the resonant frequency the equivalent circuit reveals the inductive character! For the\n",
    "exemplary capacitor and parasitic inductance of $L_C=10 \\mathrm{nH}$, the resonant frequency is equal"
   ]
  },
  {
   "cell_type": "code",
   "execution_count": 5,
   "id": "d4ac26ec",
   "metadata": {},
   "outputs": [
    {
     "name": "stdout",
     "output_type": "stream",
     "text": [
      "omega_r = 1.000e+07rad/s and f_r = 1.592e+06Hz.\n"
     ]
    }
   ],
   "source": [
    "L_C = 10e-9; omega_r = 1/np.sqrt(L_C*C); f_r = omega_r/(2*np.pi)\n",
    "(omega_r/1e6, f_r/1e6)\n",
    "\n",
    "print(f'omega_r = {omega_r:.3e}rad/s and f_r = {f_r:.3e}Hz.')\n",
    "from IPython.display import Math"
   ]
  },
  {
   "cell_type": "markdown",
   "id": "b3f217f3",
   "metadata": {},
   "source": [
    "A circuit design should take this phenomenon into account and resonant frequencies of all\n",
    "used reactive elements, capacitors and coils, should be greater than the maximum operating\n",
    "frequency."
   ]
  },
  {
   "cell_type": "markdown",
   "id": "fd67397f",
   "metadata": {},
   "source": [
    "## Resonant Circuits\n",
    "Consider the two-terminal passive circuit that contains at least one inductor and at least one\n",
    "capacitor, connected to a sinusoidal generator of variable frequency, as presented in Fig.\n",
    "4.4.16.  \n",
    "\n",
    "![Fig-4.4.16](Figures/Fig-4.4.16.svg)"
   ]
  },
  {
   "cell_type": "markdown",
   "id": "6574091b",
   "metadata": {},
   "source": [
    "Frequency characteristics will be investigated, first for simple two-terminal RLC circuits built\n",
    "of three elements in series or parallel configuration, then for complex circuits. Phenomenon of\n",
    "resonance will be discussed."
   ]
  },
  {
   "cell_type": "markdown",
   "id": "7462200d",
   "metadata": {},
   "source": [
    "The term **resonance** reflects the condition that the source voltage $U(j\\omega)$ and current $I(j\\omega)$ are in phase, $\\varphi(\\omega) = \\alpha_u(\\omega) - \\alpha_i(\\omega)  = 0^\\circ$. The frequency at which this phenomenon occurs is called the **resonant frequency** $\\omega_\\mathrm{r}$. If $\\omega_\\mathrm{r}$ exists, then the circuit is a **resonant circuit**."
   ]
  },
  {
   "cell_type": "markdown",
   "id": "71f0e0dc",
   "metadata": {},
   "source": [
    "### Series-Resonant Circuit RLC\n",
    "The series RLC circuit is presented in Fig. 4.4.17. The circuit impedance\n",
    "(4.4.32)  \n",
    "\n",
    "\\begin{equation}\\tag{31}\n",
    "    U(j\\omega) = Z(j\\omega)I(j\\omega)\\quad\\quad\\text{where }\\;Z(j\\omega) = R + jX = R + j\\left(\\omega L - \\frac{1}{\\omega C}\\right)\n",
    "\\end{equation}\n",
    "consists of the fixed real part (resistance) and imaginary part (reactance) that varies with\n",
    "frequency. The frequency at which reactance vanishes and the impedance is at a minimum\n",
    "magnitude, the resonant frequency, is  "
   ]
  },
  {
   "cell_type": "markdown",
   "id": "52946b68",
   "metadata": {},
   "source": [
    "$$ \\omega_\\mathrm{r} L = \\frac{1}{\\omega_\\mathrm{r} C}$$"
   ]
  },
  {
   "cell_type": "markdown",
   "id": "98232ec8",
   "metadata": {},
   "source": [
    "\\begin{equation}\\tag{32}\n",
    "    \\omega_\\mathrm{r} ^2 = \\frac{1}{LC} \\quad\\implies \\quad \\omega_\\mathrm{r} = \\frac{1}{\\sqrt{LC}}\n",
    "\\end{equation}    "
   ]
  },
  {
   "cell_type": "markdown",
   "id": "4818a995",
   "metadata": {},
   "source": [
    "It is worth to observe, that this frequency coincides with the undamped resonant frequency\n",
    "(3.2.26c) of natural response. The reactance frequency characteristic is presented in Fig.\n",
    "4.4.18.  \n",
    "\n",
    "![Fig-4.4.17](Figures/Fig-4.4.17.svg)"
   ]
  },
  {
   "cell_type": "markdown",
   "id": "bc22cb51",
   "metadata": {},
   "source": [
    "![Fig-4.4.18](Figures/Fig-4.4.18.png)"
   ]
  },
  {
   "cell_type": "markdown",
   "id": "fbb8cfc8",
   "metadata": {},
   "source": [
    "Note that:  \n",
    "\n",
    "$$ X = X(\\omega) = \\omega L - \\frac{1}{\\omega C} = \\frac{\\omega LC - 1}{\\omega C}$$"
   ]
  },
  {
   "cell_type": "markdown",
   "id": "528b1f6d",
   "metadata": {},
   "source": [
    "and,\n",
    "$$ X'(\\omega) = \\frac{L}{\\omega} - C\\,\\frac{\\omega LC - 1}{\\omega^2C^2} = \\frac{1}{\\omega^2 C}$$"
   ]
  },
  {
   "cell_type": "markdown",
   "id": "d1619fd1",
   "metadata": {},
   "source": [
    "\\begin{equation}\\tag{M1a}\n",
    "    X'(\\omega_\\mathrm{r}) = L > 0\\,\\land\\,X(\\omega_\\mathrm{r}) = 0 \\quad\\implies\\quad X(\\omega_{<}) < 0 \\quad\\text{where }\\; 0< \\omega_{<} < \\omega_\\mathrm{r}\n",
    "\\end{equation}"
   ]
  },
  {
   "cell_type": "markdown",
   "id": "8f84a1f7",
   "metadata": {},
   "source": [
    "\\begin{equation}\\tag{M1b}\n",
    "    X'(\\omega_\\mathrm{r}) = L > 0\\,\\land\\,X(\\omega_\\mathrm{r}) = 0 \\quad\\implies\\quad X(\\omega_{>}) > 0 \\quad\\text{where }\\; \\omega_\\mathrm{r} < \\omega_{>}\n",
    "\\end{equation}"
   ]
  },
  {
   "cell_type": "markdown",
   "id": "76c9d443",
   "metadata": {},
   "source": [
    "* for DC input voltage ($\\omega=0$), reactance is an open-circuit,\n",
    "* for low frequencies $0 < \\omega < \\omega_\\mathrm{r}$, reactance is negative (capacitive),\n",
    "\t\\begin{equation}\\tag{34a}\n",
    "\t\tX(\\omega) = -\\frac{1}{\\omega C_\\mathrm{s}(\\omega)} = \\omega L - \\frac{1}{\\omega C} \\quad \\quad\\text{where }\\;0 < \\omega < \\omega_\\mathrm{r}\n",
    "\t\\end{equation}\n",
    "\twhere $C_\\mathrm{s}(\\omega)$ is the equivalent series capacitance,\n",
    "* for the resonant frequency $\\omega_\\mathrm{r}$ , reactance is zero (short-circuit) – circuit has resistive character,\n",
    "* for high frequencies, $\\omega_\\mathrm{r} < \\omega$ , reactance is positive (inductive),\n",
    "\t\\begin{equation}\\tag{34b}\n",
    "\t\tX(\\omega) = \\omega L_\\mathrm{s}(\\omega) = \\omega L - \\frac{1}{\\omega C}\n",
    "\t\\end{equation}\n",
    "\twhere $L_\\mathrm{s}(\\omega)$ is the equivalent series inductance,\n",
    "* for $\\omega = \\infty$ , reactance is an open-circuit."
   ]
  },
  {
   "cell_type": "markdown",
   "id": "33a9c652",
   "metadata": {},
   "source": [
    "The magnitude and phase characteristics of impedance are presented in Fig. 4.4.19.  \n",
    "\n",
    "![Fig-4.4.19](Figures/Fig-4.4.19.png)"
   ]
  },
  {
   "cell_type": "markdown",
   "id": "3abefd1e",
   "metadata": {},
   "source": [
    "To ellaborate on Fig-4.4.19:  \n",
    "\n",
    "$$ Z(\\omega) = \\sqrt{R^2+X^2(\\omega)}\\quad\\quad\\text{where }\\;X(\\omega) = \\omega L - \\frac{1}{\\omega C} = \\frac{\\omega^2LC-1}{\\omega C}$$"
   ]
  },
  {
   "cell_type": "markdown",
   "id": "6fa63207",
   "metadata": {},
   "source": [
    "and,  \n",
    "\n",
    "$$ \\varphi = \\varphi(\\omega) = \\arcsin\\frac{X(\\omega)}{Z(\\omega)}$$"
   ]
  },
  {
   "cell_type": "markdown",
   "id": "87d8c7e6",
   "metadata": {},
   "source": [
    "Consider the input to this circuit to be its voltage $U(j\\omega)=U=\\text{const}$ and its\n",
    "output to be its current $I(j\\omega)$ . The magnitude of the current is given by:  \n",
    "\n",
    "\\begin{equation}\\tag{35}\n",
    "    I = I(\\omega) = \\frac{U}{Z(\\omega)} = \\frac{U}{\\sqrt{R^2 + X^2(\\omega)}}\\quad\\quad\\text{where }\\;X(\\omega)=\\omega L - \\frac{1}{\\omega C}\n",
    "\\end{equation}"
   ]
  },
  {
   "cell_type": "markdown",
   "id": "74e24dca",
   "metadata": {},
   "source": [
    "And, is normally plotted in relation to the resonant current.  Via the notion that,  \n",
    "\n",
    "$$ I_\\mathrm{r} = I(\\omega_\\mathrm{r}) = \\frac{U}{Z(\\omega_\\mathrm{r})} \\,\\land\\, Z(\\omega_\\mathrm{r}) = \\sqrt{R^2+X^2(\\omega_\\mathrm{r})} = R $$\n",
    "\n",
    "\\begin{equation}\\tag{36}\n",
    "    I_\\mathrm{r} = \\frac{U}{R}\n",
    "\\end{equation}"
   ]
  },
  {
   "cell_type": "markdown",
   "id": "2d08ca3b",
   "metadata": {},
   "source": [
    "The obtained gain curve is:  \n",
    "\n",
    "\\begin{equation}\\tag{37}\n",
    "    \\frac{I(\\omega)}{I_\\mathrm{r}} = \\frac{R}{Z(\\omega)} = \\frac{1}{\\sqrt{1+Q^2\\big(\\eta - 1/\\eta\\big)^2}}\n",
    "\\end{equation}"
   ]
  },
  {
   "cell_type": "markdown",
   "id": "0587b42f",
   "metadata": {},
   "source": [
    "is called the **resonant curve** and it is depicted in Fig. 4.4.20, for two values of $Q$, where $\\eta$\n",
    "is the **normalized frequency** and $Q$ is the **quality factor** of the series RLC circuit:  \n",
    "\n",
    "\\begin{equation}\\tag{38}\n",
    "    \\eta = \\frac{\\omega}{\\omega_\\mathrm{r}}\n",
    "\\end{equation}"
   ]
  },
  {
   "cell_type": "markdown",
   "id": "d1d0ce8d",
   "metadata": {},
   "source": [
    "\\begin{equation}\\tag{39}\n",
    "    Q = \\frac{1}{R}\\,\\sqrt{\\frac{L}{C}}\n",
    "\\end{equation}    "
   ]
  },
  {
   "cell_type": "markdown",
   "id": "d989725e",
   "metadata": {},
   "source": [
    "This curve can be also considered as the ratio of admittances.  \n",
    "\n",
    "\\begin{equation}\\tag{37a}\n",
    "    \\frac{Y(\\omega)}{Y_\\mathrm{r}} = \\frac{I(\\omega)}{I_\\mathrm{r}} = \\frac{R}{Z(\\omega)} = \\frac{1}{\\sqrt{1+Q^2\\big(\\eta-1/\\eta\\big)^2}}\n",
    "\\end{equation}    \n",
    "\n",
    "![Fig-4.4.20](Figures/Fig-4.4.20.png)"
   ]
  },
  {
   "cell_type": "markdown",
   "id": "9d00d6f2",
   "metadata": {},
   "source": [
    "As can be observed, a phenomenon of resonance makes a circuit frequency selective. To have\n",
    "a good measure of this selectivity, to measure sharpness of the resonant curve, term of quality\n",
    "factor (4.4.39) is used. Circuits with high quality factors are very frequency selective, and this\n",
    "implies low values of resistance $R$. Since practical inductors include significant winding\n",
    "resistance (e.g. the resistance of copper windings $R_\\mathrm{Cu}$), it is difficult and expensive to design high-$Q$ resonant circuits passively, that is, solely with RLC elements (active resonant circuits are not discussed).  \n",
    "\n",
    "In essence, $Q$ is a measure of the energy storage property of a circuit in relation to its energy\n",
    "dissipation property. It can be easily proved that  \n",
    "\n",
    "\\begin{equation}\\tag{39a}\n",
    "\tQ = 2\\pi\\,\\frac{\\text{maximum energy stored}}{\\text{total energy dissipated per cycle}} = 2\\pi\\,\\frac{\\max w_X}{TUI\\cos\\varphi}\n",
    "\\end{equation}"
   ]
  },
  {
   "cell_type": "markdown",
   "id": "99b39b21",
   "metadata": {},
   "source": [
    "$$ Q = \\omega\\,\\frac{\\max w_X}{I^2R} \\quad\\implies\\quad \\max w_X = \\frac{I^2RQ}{\\omega} = \\frac{I^2}{\\omega}\\,\\sqrt{\\frac{L}{C}}$$"
   ]
  },
  {
   "cell_type": "markdown",
   "id": "ccd03f13",
   "metadata": {},
   "source": [
    "The proof for equation (39a):  Via equation (10.9) in [P.4.3.10](P.4.3.10-Bonus.ipynb#Reactance-Attributes) and equation (39a),  \n",
    "\n",
    "\\begin{equation}\\tag{M1}\n",
    "    Q = 2\\pi\\,\\frac{\\omega^2LC-1}{2T\\omega^2RC}\\,\\big(\\cos2\\varphi + 1\\big) = \\frac{\\omega^2LC-1}{2\\omega RC}\\,\\big(\\cos2\\varphi+1\\big)\n",
    "\\end{equation}"
   ]
  },
  {
   "cell_type": "markdown",
   "id": "3541a4f7",
   "metadata": {},
   "source": [
    "$$ = \\frac{\\omega^2LC-1}{\\omega RC}\\,\\sin^2\\varphi = \\frac{\\omega^2LC-1}{\\omega RC}\\,\\frac{X^2}{R^2 + X^2} = \\frac{X^3}{R\\big(R^2+X^2\\big)}$$"
   ]
  },
  {
   "cell_type": "markdown",
   "id": "1ecf360d",
   "metadata": {},
   "source": [
    "$$ R^2+X^2 = R^2 + \\frac{\\big(\\omega^2LC -1 \\big)^2}{\\omega^2C^2} = \\frac{(\\omega RC)^2 + \\big(\\omega^2LC - 1 \\big)^2}{\\omega^2C^2}$$"
   ]
  },
  {
   "cell_type": "markdown",
   "id": "10b3f604",
   "metadata": {},
   "source": [
    "$$ Q = \\frac{\\big(\\omega^2LC-1 \\big)^3}{\\omega^3RC^3}\\,\\frac{\\omega^2C^2}{(\\omega RC)^2 + \\big(\\omega^2LC - 1 \\big)^2}$$"
   ]
  },
  {
   "cell_type": "markdown",
   "id": "d0dda757",
   "metadata": {},
   "source": [
    "$$ = \\frac{1}{\\omega RC}\\,\\frac{\\Big(\\big(\\omega^2LC \\big)^2  - 2\\omega^2LC+  1\\Big)\\big(\\omega^2LC-1\\big) }{(\\omega RC)^2 + \\big(\\omega^2LC \\big)^2  - 2\\omega^2LC+  1}$$"
   ]
  },
  {
   "cell_type": "code",
   "execution_count": 6,
   "id": "3b7dea5f",
   "metadata": {},
   "outputs": [],
   "source": [
    "import sympy as sp"
   ]
  },
  {
   "cell_type": "code",
   "execution_count": 34,
   "id": "8fb971bb",
   "metadata": {},
   "outputs": [],
   "source": [
    "omega, R, C, L = sp.symbols('omega, R, C, L')\n",
    "eq = (omega*R*C)**2 + (omega**2*L*C)**2 - 2*omega**2*L*C + 1\n",
    "_C = sp.solve(eq, C)"
   ]
  },
  {
   "cell_type": "code",
   "execution_count": 35,
   "id": "1838d402",
   "metadata": {},
   "outputs": [
    {
     "data": {
      "text/latex": [
       "$\\displaystyle \\frac{1}{\\omega \\left(L \\omega - i R\\right)}$"
      ],
      "text/plain": [
       "1/(omega*(L*omega - I*R))"
      ]
     },
     "execution_count": 35,
     "metadata": {},
     "output_type": "execute_result"
    }
   ],
   "source": [
    "_C[0]"
   ]
  },
  {
   "cell_type": "markdown",
   "id": "1fba77c2",
   "metadata": {},
   "source": [
    "Now let $H$ be defined as:  \n",
    "\n",
    "$$ H:=H(\\omega):=\\eta - \\frac{1}{\\eta} = \\frac{\\omega^2-\\omega_\\mathrm{r}^2}{\\omega\\omega_\\mathrm{r}}$$"
   ]
  },
  {
   "cell_type": "markdown",
   "id": "b8675c33",
   "metadata": {},
   "source": [
    "$$ H'(\\omega) = \\frac{1}{\\omega_\\mathrm{r}} + \\frac{\\omega_\\mathrm{r}}{\\omega^2} = \\frac{\\omega^2 + \\omega_\\mathrm{r}^2}{\\omega_\\mathrm{r}\\omega^2}$$"
   ]
  },
  {
   "cell_type": "markdown",
   "id": "7240f6e8",
   "metadata": {},
   "source": [
    "Differentiating throughout equation (37a) gives:  \n",
    "\n",
    "$$ \\frac{I'(\\omega)}{I_\\mathrm{r}} = -0.5\\,\\frac{2Q^2H(\\omega)H'(\\omega)}{\\sqrt{\\big(1+Q^2H^2\\big)^3}}$$"
   ]
  },
  {
   "cell_type": "markdown",
   "id": "f3d08dc8",
   "metadata": {},
   "source": [
    "Via equation (37a),  \n",
    "\n",
    "$$ 1 + Q^2H^2 = \\frac{R^2 + X^2}{R^2} \\quad\\implies\\quad Q^2H^2 = \\frac{X^2}{R^2}$$"
   ]
  },
  {
   "cell_type": "markdown",
   "id": "d13b4e9e",
   "metadata": {},
   "source": [
    "\\begin{equation}\\tag{M2}\n",
    "    Q = \\frac{X}{RH} = \\frac{X\\omega\\omega_\\mathrm{r}}{R\\big(\\omega^2 - \\omega_\\mathrm{r}^2\\big)}\n",
    "\\end{equation}    "
   ]
  },
  {
   "cell_type": "markdown",
   "id": "a54e340e",
   "metadata": {},
   "source": [
    "Recall that:  \n",
    "\n",
    "$$ X = \\frac{\\omega^2LC - 1}{\\omega C}$$"
   ]
  },
  {
   "cell_type": "markdown",
   "id": "05e62772",
   "metadata": {},
   "source": [
    "Via the above equation and equation (M2),  \n",
    "\n",
    "\\begin{equation}\\tag{M3}\n",
    "    Q = \\frac{\\big(\\omega^2LC - 1\\big)\\omega_\\mathrm{r}}{RC\\big( \\omega^2 - \\omega_\\mathrm{r}^2\\big)}\n",
    "\\end{equation}"
   ]
  },
  {
   "cell_type": "markdown",
   "id": "f0b7c4d4",
   "metadata": {},
   "source": [
    "Via equations (32) and (M3),  \n",
    "\n",
    "$$ RC\\big(\\omega^2 - \\omega_\\mathrm{r}^2\\big) = R\\,\\frac{\\omega^2LC-1}{L}$$"
   ]
  },
  {
   "cell_type": "markdown",
   "id": "75afae9a",
   "metadata": {},
   "source": [
    "Thus,  \n",
    "\n",
    "$$ Q = \\frac{L\\omega_\\mathrm{r}}{R} = R\\,\\sqrt{\\frac{L}{C}}$$"
   ]
  },
  {
   "cell_type": "markdown",
   "id": "92be5003",
   "metadata": {},
   "source": [
    "To measure the width of the frequency band within which the circuit is behaving in near-\n",
    "resonant fashion, the term of bandwidth $\\Delta \\omega$ is defined.  \n",
    "\n",
    "The circuit **bandwidth** is the range of frequencies that lie between two frequencies, $\\omega_\\mathrm{u}$ and $\\omega_\\mathrm{l}$, where the magnitude of the gain is equal to $1/\\sqrt{2}$.\n",
    "\n",
    "The gain of $1/\\sqrt{2}$  corresponds to the power ratio of $1/2$.  \n",
    "\n",
    "\\begin{equation}\\tag{40}\n",
    "    \\frac{P(\\omega_\\mathrm{u,l})}{P_\\mathrm{r}} = \\frac{I^2(\\omega_\\mathrm{u,l})R}{I_\\mathrm{r}^2R} = 0.5 \\quad\\implies\\quad \\frac{I(\\omega_\\mathrm{u,l})}{I_\\mathrm{r}} = \\frac{1}{\\sqrt{2}}\n",
    "\\end{equation}"
   ]
  },
  {
   "cell_type": "markdown",
   "id": "35af3c25",
   "metadata": {},
   "source": [
    "Let $\\omega:=\\omega_\\mathrm{u,l}$.  Via squaring throughout the equation obtained via equations (40) and (37a),  \n",
    "\n",
    "$$ 0.5 = \\frac{1}{1+Q^2H^2(\\omega)} \\quad\\implies\\quad 1+Q^2H^2(\\omega) = 2 \\quad\\implies\\quad QH(\\omega) = \\pm1$$"
   ]
  },
  {
   "cell_type": "markdown",
   "id": "dc6971f6",
   "metadata": {},
   "source": [
    "\\begin{equation}\\tag{M4}\n",
    "    \\text{a: };QH(\\omega_\\mathrm{u}) = 1 \\quad\\quad\\text{and}\\quad\\quad\\text{b: }\\;QH(\\omega_\\mathrm{l}) = -1\n",
    "\\end{equation}"
   ]
  },
  {
   "cell_type": "markdown",
   "id": "8e58fac0",
   "metadata": {},
   "source": [
    "Which gives us two quadratic equations:  \n",
    "\n",
    "$$ H(\\omega_\\mathrm{u}) = \\frac{\\omega_\\mathrm{u}^2-\\omega_\\mathrm{r}^2}{\\omega_\\mathrm{u}\\omega_\\mathrm{r}} = \\frac{1}{Q} \\quad\\implies\\quad \\omega_\\mathrm{u}^22 - \\omega_\\mathrm{r}^2 = \\frac{\\omega_\\mathrm{u}\\omega_\\mathrm{r}}{Q}$$"
   ]
  },
  {
   "cell_type": "markdown",
   "id": "f6693b01",
   "metadata": {},
   "source": [
    "\\begin{equation}\\tag{M4a}\n",
    "    \\omega_\\mathrm{u}^2 - \\frac{\\omega_\\mathrm{u}\\omega_\\mathrm{r}}{Q} - \\omega_\\mathrm{r}^2 = 0\n",
    "\\end{equation}"
   ]
  },
  {
   "cell_type": "markdown",
   "id": "ddedc63b",
   "metadata": {},
   "source": [
    "and,  \n",
    "\n",
    "$$ H(\\omega_\\mathrm{l}) = \\frac{\\omega_\\mathrm{l}^2-\\omega_\\mathrm{r}^2}{\\omega_\\mathrm{l}\\omega_\\mathrm{r}} = -\\frac{1}{Q} \\quad\\implies\\quad \\omega_\\mathrm{l}^2 - \\omega_\\mathrm{r}^2 = -\\frac{\\omega_\\mathrm{l}\\omega_\\mathrm{r}}{Q}$$\n",
    "\n",
    "\\begin{equation}\\tag{M4b}\n",
    "    \\omega_\\mathrm{l}^2 + \\frac{\\omega_\\mathrm{l}\\omega_\\mathrm{r}}{Q} - \\omega_\\mathrm{r}^2 = 0\n",
    "\\end{equation}"
   ]
  },
  {
   "cell_type": "code",
   "execution_count": 24,
   "id": "b827fbf9",
   "metadata": {},
   "outputs": [],
   "source": [
    "Q, omega_r = sp.symbols('Q omega_r')\n",
    "M4b = omega**2 + omega*omega_r/Q - omega_r**2\n",
    "omega_l = sp.solve(eq2, omega)"
   ]
  },
  {
   "cell_type": "code",
   "execution_count": 25,
   "id": "6c249cde",
   "metadata": {},
   "outputs": [
    {
     "data": {
      "text/latex": [
       "$\\displaystyle \\frac{\\omega_{r} \\left(\\sqrt{4 Q^{2} + 1} - 1\\right)}{2 Q}$"
      ],
      "text/plain": [
       "omega_r*(sqrt(4*Q**2 + 1) - 1)/(2*Q)"
      ]
     },
     "execution_count": 25,
     "metadata": {},
     "output_type": "execute_result"
    }
   ],
   "source": [
    "omega_l[0]"
   ]
  },
  {
   "cell_type": "code",
   "execution_count": 26,
   "id": "4a467902",
   "metadata": {},
   "outputs": [
    {
     "data": {
      "text/latex": [
       "$\\displaystyle - \\frac{\\omega_{r} \\left(\\sqrt{4 Q^{2} + 1} + 1\\right)}{2 Q}$"
      ],
      "text/plain": [
       "-omega_r*(sqrt(4*Q**2 + 1) + 1)/(2*Q)"
      ]
     },
     "execution_count": 26,
     "metadata": {},
     "output_type": "execute_result"
    }
   ],
   "source": [
    "omega_l[1]"
   ]
  },
  {
   "cell_type": "markdown",
   "id": "eb3b688f",
   "metadata": {},
   "source": [
    "Since the radian frequency must be positive,  \n",
    "\n",
    "\\begin{equation}\\tag{M4b.1}\n",
    "    \\omega_\\mathrm{l} = \\frac{\\omega_{r} \\left(\\sqrt{4 Q^{2} + 1} - 1\\right)}{2 Q}\n",
    "\\end{equation}"
   ]
  },
  {
   "cell_type": "code",
   "execution_count": 27,
   "id": "82885b6a",
   "metadata": {},
   "outputs": [],
   "source": [
    "M4a = omega**2 - omega*omega_r/Q - omega_r**2\n",
    "omega_u = sp.solve(eq3, omega)"
   ]
  },
  {
   "cell_type": "code",
   "execution_count": 28,
   "id": "fe102c92",
   "metadata": {},
   "outputs": [
    {
     "data": {
      "text/latex": [
       "$\\displaystyle \\frac{\\omega_{r} \\left(1 - \\sqrt{4 Q^{2} + 1}\\right)}{2 Q}$"
      ],
      "text/plain": [
       "omega_r*(1 - sqrt(4*Q**2 + 1))/(2*Q)"
      ]
     },
     "execution_count": 28,
     "metadata": {},
     "output_type": "execute_result"
    }
   ],
   "source": [
    "omega_u[0]"
   ]
  },
  {
   "cell_type": "code",
   "execution_count": 29,
   "id": "6570ceeb",
   "metadata": {},
   "outputs": [
    {
     "data": {
      "text/latex": [
       "$\\displaystyle \\frac{\\omega_{r} \\left(\\sqrt{4 Q^{2} + 1} + 1\\right)}{2 Q}$"
      ],
      "text/plain": [
       "omega_r*(sqrt(4*Q**2 + 1) + 1)/(2*Q)"
      ]
     },
     "execution_count": 29,
     "metadata": {},
     "output_type": "execute_result"
    }
   ],
   "source": [
    "omega_u[1]"
   ]
  },
  {
   "cell_type": "markdown",
   "id": "01e77389",
   "metadata": {},
   "source": [
    "And,  \n",
    "\n",
    "\\begin{equation}\\tag{M4a.2}\n",
    "    \\omega_\\mathrm{u} = \\frac{\\omega_{r} \\left(\\sqrt{4 Q^{2} + 1} + 1\\right)}{2 Q}\n",
    "\\end{equation}"
   ]
  },
  {
   "cell_type": "markdown",
   "id": "e61f9b80",
   "metadata": {},
   "source": [
    "Via equations (M4a.2) and (M4b.1),  \n",
    "\n",
    "\\begin{equation}\\tag{42}\n",
    "    \\Delta \\omega = \\frac{\\omega_\\mathrm{r}}{Q} = \\frac{R}{\\sqrt{LC}}\\,\\frac{\\sqrt{C}}{\\sqrt{L}} = \\frac{R}{L}\n",
    "\\end{equation}"
   ]
  },
  {
   "cell_type": "markdown",
   "id": "0c236aeb",
   "metadata": {},
   "source": [
    "It is worth to emphasize, that at the resonant frequency, the magnitude of the coil and the capacitor\n",
    "voltages is the same.  \n",
    "\n",
    "\\begin{equation}\\tag{43}\n",
    "    U_L(\\omega_\\mathrm{r}) = \\omega_\\mathrm{r}LI_\\mathrm{r} = U_C(\\omega_\\mathrm{r}) = \\frac{1}{\\omega_\\mathrm{r}C}\\,I_\\mathrm{r}\n",
    "\\end{equation}"
   ]
  },
  {
   "cell_type": "markdown",
   "id": "e4191a49",
   "metadata": {},
   "source": [
    "Then, another expression for the quality factor can be formulated.  \n",
    "\n",
    "\\begin{equation}\\tag{44}\n",
    "\tQ = \\frac{U_L(\\omega_\\mathrm{r})}{U(\\omega)} = \\frac{U_C(\\omega_\\mathrm{r})}{U(\\omega)} = \\frac{\\omega_\\mathrm{r}L}{R} = \\frac{1}{\\omega_\\mathrm{r}CR}\n",
    "\\end{equation}"
   ]
  },
  {
   "cell_type": "markdown",
   "id": "b9a8a422",
   "metadata": {},
   "source": [
    "The proof for equation (44):  \n",
    "\n",
    "$$ I_\\mathrm{r} = \\frac{U}{R} \\,\\land \\, U_L(\\omega_\\mathrm{r}) = \\omega_\\mathrm{r}LI_\\mathrm{r} \\quad\\implies\\quad U_L(\\omega_\\mathrm{r}) = \\omega_\\mathrm{r}L\\,\\frac{U}{R}$$"
   ]
  },
  {
   "cell_type": "markdown",
   "id": "30540711",
   "metadata": {},
   "source": [
    "$$U_L(\\omega_\\mathrm{r}) = \\omega_\\mathrm{r}L\\,\\frac{U}{R} \\,\\land\\, Q=\\frac{U_L(\\omega_\\mathrm{r})}{U}\\quad\\implies\\quad Q = \\frac{\\omega_\\mathrm{r}L}{R} $$"
   ]
  },
  {
   "cell_type": "markdown",
   "id": "85c2da6d",
   "metadata": {},
   "source": [
    "The frequency characteristics of magnitudes of coil and capacitor voltages are presented in\n",
    "Fig. 4.4.21.  \n",
    "\n",
    "![Fig-4.4.21](Figures/Fig-4.4.21.png)"
   ]
  },
  {
   "cell_type": "markdown",
   "id": "575f6a47",
   "metadata": {},
   "source": [
    "We attempt to ellaborate on Fig-4.4.21 [here](Fig-4-4-21.ipynb)."
   ]
  },
  {
   "cell_type": "markdown",
   "id": "8b09ba45",
   "metadata": {},
   "source": [
    "For low values of $Q$, the voltages do not exceed the supply voltage. For larger values, the\n",
    "voltages exceed the supply voltage, as presented in Fig. 4.4.21. For even larger values of $Q$,\n",
    "practically, for $Q>10$, $\\omega_{C\\max}=\\omega_{L\\max}=\\omega_\\mathrm{r}$ and $U_\\max = U_L(\\omega_\\mathrm{r})=U_C(\\omega_\\mathrm{r}) = UQ$! The coil or capacitor resonant voltage significantly exceeds the supply voltage and this effect is called the **resonance overvoltage**.\n",
    "Phasor diagrams for three frequencies:\n",
    "* $\\omega_1 = 0.5\\omega_\\mathrm{r}$\n",
    "* $\\omega_2 = \\omega_\\mathrm{r}$\n",
    "* $\\omega_3=2\\omega_\\mathrm{r}$\n",
    "* $Q=2/3$  \n",
    "\n",
    "are presented in Fig. 4.4.22."
   ]
  },
  {
   "cell_type": "markdown",
   "id": "5a521be4",
   "metadata": {},
   "source": [
    "![Fig-4.4.22](Figures/Fig-4.4.22.png)"
   ]
  },
  {
   "cell_type": "markdown",
   "id": "649d5f08",
   "metadata": {},
   "source": [
    "Recall the figure of the circuit that the above phasor diagrams model.  \n",
    "\n",
    "![Fig-4.4.17](Figures/Fig-4.4.17.png)"
   ]
  },
  {
   "cell_type": "markdown",
   "id": "79c00717",
   "metadata": {},
   "source": [
    "To ellaborate on figure 4.4.22:  \n",
    "\n",
    "$$ Q = \\frac{2}{3} = \\frac{1}{R}\\,\\sqrt{\\frac{L}{C}} \\quad\\implies\\quad R = \\frac{3}{2}\\,\\sqrt{\\frac{L}{C}} \\quad\\text{and}\\quad C = \\frac{9L}{4R^2}\\quad\\text{and}\\quad L = \\frac{4R^2C}{9}$$"
   ]
  },
  {
   "cell_type": "markdown",
   "id": "4daaf792",
   "metadata": {},
   "source": [
    "\\begin{equation}\\tag{22.1,2}\n",
    "    \\text{1: }\\;I(\\omega_2) = I_\\mathrm{r} = \\frac{U}{R} \\quad\\quad\\text{and}\\quad\\quad \\text{2: }\\;U_L(\\omega_2) = \\omega_\\mathrm{r} L I_\\mathrm{r} = \\sqrt{\\frac{L}{C}}\\,\\frac{U}{R} = UQ = \\frac{2}{3}\\,U\n",
    "\\end{equation}"
   ]
  },
  {
   "cell_type": "markdown",
   "id": "eb10a8fa",
   "metadata": {},
   "source": [
    "\\begin{equation}\\tag{22.3}\n",
    "    U_C(\\omega_2) = \\frac{I_\\mathrm{r}}{\\omega_2 C} = \\frac{U}{R}\\,\\frac{\\sqrt{LC}}{C} = UQ = \\frac{2}{3}\\,U\n",
    "\\end{equation}"
   ]
  },
  {
   "cell_type": "markdown",
   "id": "444859a8",
   "metadata": {},
   "source": [
    "\\begin{equation}\\tag{22.4}\n",
    "    U_R(\\omega_2) = RI_\\mathrm{r} = U\n",
    "\\end{equation}"
   ]
  },
  {
   "cell_type": "markdown",
   "id": "a44e16a3",
   "metadata": {},
   "source": [
    "$$I(\\omega_1) = I(0.5\\omega_2) = \\frac{U}{Z(0.5\\omega_2)}$$"
   ]
  },
  {
   "cell_type": "markdown",
   "id": "376fdd64",
   "metadata": {},
   "source": [
    "$$ Z(0.5\\omega_2) = \\sqrt{R^2+X^2(0.5\\omega_2)} \\quad\\quad\\text{and}\\quad\\quad X(0.5\\omega_2) = 0.5\\,\\sqrt{\\frac{L}{C}} - 2\\,\\sqrt{\\frac{L}{C}} \\quad\\implies\\quad X^2(\\omega_1) = \\frac{9}{4}\\,\\frac{L}{C}$$"
   ]
  },
  {
   "cell_type": "markdown",
   "id": "64e19dac",
   "metadata": {},
   "source": [
    "$$ X^2(\\omega_1) = (1.5Q)^2R^2$$"
   ]
  },
  {
   "cell_type": "markdown",
   "id": "460bbfe9",
   "metadata": {},
   "source": [
    "Via the above equation and the fact that $Q=2/3$,  \n",
    "\n",
    "$$ X^2(\\omega_1) = R^2$$"
   ]
  },
  {
   "cell_type": "markdown",
   "id": "a546f350",
   "metadata": {},
   "source": [
    "Thus,  \n",
    "\n",
    "$$ R^2 + X^2(\\omega_1) = 2R^2 \\quad\\implies\\quad Z(\\omega_1) = \\sqrt{2}R \\quad\\implies\\quad I(\\omega_1) = \\frac{U}{\\sqrt{2}R}$$"
   ]
  },
  {
   "cell_type": "markdown",
   "id": "765865dc",
   "metadata": {},
   "source": [
    "\\begin{equation}\\tag{22.5}\n",
    "    I(\\omega_1)=\\frac{U}{\\sqrt{2}R}\n",
    "\\end{equation}"
   ]
  },
  {
   "cell_type": "markdown",
   "id": "f46baccf",
   "metadata": {},
   "source": [
    "$$ \\varphi(\\omega_1) = \\arccos\\frac{R}{Z(\\omega_1)} = \\arccos \\frac{1}{\\sqrt{2}} = \\pm 45^\\circ$$"
   ]
  },
  {
   "cell_type": "markdown",
   "id": "30b4fcb3",
   "metadata": {},
   "source": [
    "$$ \\varphi(\\omega_1) = \\arcsin \\frac{X(\\omega_1)}{Z(\\omega_1)} = -\\arcsin \\frac{1}{\\sqrt{2}} = \\{-45^\\circ, 180^\\circ + 45^\\circ\\}$$"
   ]
  },
  {
   "cell_type": "markdown",
   "id": "11fa0fa6",
   "metadata": {},
   "source": [
    "Thus,  \n",
    "\n",
    "\\begin{equation}\\tag{22.6}\n",
    "    \\varphi(\\omega_1) = -45^\\circ\n",
    "\\end{equation}"
   ]
  },
  {
   "cell_type": "markdown",
   "id": "86ff3180",
   "metadata": {},
   "source": [
    "\\begin{equation}\\tag{22.7}\n",
    "    U_L(\\omega_1) = \\omega_1 L I(\\omega_1) = 0.5\\,\\sqrt{\\frac{L}{C}}\\,\\frac{U}{\\sqrt{2}R} = \\frac{U}{2\\sqrt{2}}\\,Q = \\frac{U}{3\\sqrt{2}}\n",
    "\\end{equation}"
   ]
  },
  {
   "cell_type": "markdown",
   "id": "b0691d7b",
   "metadata": {},
   "source": [
    "\\begin{equation}\\tag{22.7}\n",
    "    \\alpha_i(\\omega_1) = \\alpha_u(\\omega_1) - \\varphi(\\omega_1) = -\\varphi(\\omega_1) = 45^\\circ\n",
    "\\end{equation}"
   ]
  },
  {
   "cell_type": "markdown",
   "id": "2cc82510",
   "metadata": {},
   "source": [
    "\\begin{equation}\\tag{22.8}\n",
    "    \\alpha_{uL}(\\omega_1) = 90^\\circ + 45^\\circ = 135^\\circ\n",
    "\\end{equation}"
   ]
  },
  {
   "cell_type": "markdown",
   "id": "992e788e",
   "metadata": {},
   "source": [
    "\\begin{equation}\\tag{22.9}\n",
    "    \\alpha_{uC}(\\omega_1) = 45^\\circ - 90^\\circ = -45^\\circ\n",
    "\\end{equation}"
   ]
  },
  {
   "cell_type": "markdown",
   "id": "240848ca",
   "metadata": {},
   "source": [
    "\\begin{equation}\\tag{22.10}\n",
    "    \\alpha_{uR} = 45^\\circ\n",
    "\\end{equation}"
   ]
  },
  {
   "cell_type": "markdown",
   "id": "9952eebf",
   "metadata": {},
   "source": [
    "$$ Z(\\omega_3) = \\sqrt{R^2+X^2(\\omega_3)} \\quad\\text{and}\\quad X(\\omega_3) = 2\\,\\sqrt{\\frac{L}{C}} - 0.5\\,\\sqrt{\\frac{L}{C}} = \\frac{3}{2}\\,\\sqrt{\\frac{L}{C}} = \\frac{3}{2}\\,QR = R$$"
   ]
  },
  {
   "cell_type": "markdown",
   "id": "8a20eb3a",
   "metadata": {},
   "source": [
    "$$ Z(\\omega_3) = \\sqrt{2}R \\quad\\quad\\text{and}\\quad\\quad \\varphi(\\omega_3) = 45^\\circ$$"
   ]
  },
  {
   "cell_type": "markdown",
   "id": "4f956faa",
   "metadata": {},
   "source": [
    "\\begin{equation}\\tag{22.11}\n",
    "    \\text{a: }\\;I(\\omega_3) = \\frac{U}{Z(\\omega_3)} = \\frac{U}{\\sqrt{2}R} \\quad\\quad\\text{and}\\quad\\quad \\text{b: }\\;\\alpha_i(\\omega_3) = -45^\\circ\n",
    "\\end{equation}"
   ]
  },
  {
   "cell_type": "markdown",
   "id": "335e727d",
   "metadata": {},
   "source": [
    "\\begin{equation}\\tag{22.12}\n",
    "    \\text{a: }\\;U_L(\\omega_3) = 2\\,\\sqrt{\\frac{L}{C}} \\frac{U}{\\sqrt{2}R} = UQ\\sqrt{2} = \\frac{2\\sqrt{2}U}{3}\\quad\\quad\\text{and}\\quad\\quad \\text{b: }\\;\\alpha_{uL}(\\omega_3) = 45^\\circ\n",
    "\\end{equation}"
   ]
  },
  {
   "cell_type": "markdown",
   "id": "ce3e4ae7",
   "metadata": {},
   "source": [
    "\\begin{equation}\\tag{22.13}\n",
    "    \\text{a: }\\;U_C(\\omega_3) = \\frac{UQ}{2\\sqrt{2}} = \\frac{U}{3\\sqrt{2}}  \\quad\\quad\\text{and}\\quad\\quad \\text{b: }\\;\\alpha_{uC}(\\omega_3) = -135^\\circ\n",
    "\\end{equation}"
   ]
  },
  {
   "cell_type": "markdown",
   "id": "f35eefdd",
   "metadata": {},
   "source": [
    "\\begin{equation}\\tag{22.14}\n",
    "    \\text{a: }\\;U_R(\\omega_3) = RI(\\omega_3) = \\frac{U}{\\sqrt{2}} \\quad\\quad\\text{and}\\quad\\quad \\text{b: }\\;\\alpha_{uR}(\\omega_3) = -45^\\circ\n",
    "\\end{equation}"
   ]
  }
 ],
 "metadata": {
  "kernelspec": {
   "display_name": "Python 3",
   "language": "python",
   "name": "python3"
  },
  "language_info": {
   "codemirror_mode": {
    "name": "ipython",
    "version": 3
   },
   "file_extension": ".py",
   "mimetype": "text/x-python",
   "name": "python",
   "nbconvert_exporter": "python",
   "pygments_lexer": "ipython3",
   "version": "3.8.10"
  }
 },
 "nbformat": 4,
 "nbformat_minor": 5
}
