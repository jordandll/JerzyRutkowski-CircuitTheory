{
 "cells": [
  {
   "cell_type": "markdown",
   "id": "3fa26072",
   "metadata": {},
   "source": [
    "# Frequency Characteristics of Two-Terminal Subcircuit\n",
    "In AC steady-state circuit, all circuit responses are functions of the generator frequency .\n",
    "Response variations with this frequency form the frequency response of the circuit.  \n",
    "\n",
    "Summary of ideal elements, resistor, capacitor and coil, is presented at first. Then, use of\n",
    "these elements to model a practical capacitor and a practical coil is discussed.  \n",
    "\n",
    "Next, frequency response of resonant circuits, circuits that contain both capacitors and coils is\n",
    "investigated. Simple circuits, series RLC circuit and parallel GLC circuit are considered at\n",
    "first. Then, complex two-terminal circuits are discussed."
   ]
  },
  {
   "cell_type": "markdown",
   "id": "56ff0db7",
   "metadata": {},
   "source": [
    "## Ideal Elements – Summary\n",
    "### Resistor\n",
    "1. **Time-domain description**:  \n",
    "    \\begin{equation}\\tag{1}\n",
    "     u=Ri \\implies U\\sqrt{2}\\sin\\big(\\omega t + \\alpha_u\\big) = RI\\sqrt{2}\\sin\\big(\\omega t + \\alpha_i\\big) \\implies U=RI,\\;\\alpha_u=\\alpha_i\n",
    "    \\end{equation}\n",
    "    \n",
    "    There is no phase shift between the voltage and the current. Fig. 4.4.1 presents a single\n",
    "    period of resistor waveforms - current is denoted by the bold line, $\\alpha_i=0^\\circ$ is assumed.  \n",
    "    \n",
    "    ![Fig-4.4.1](Figures/Fig-4.4.1.png)"
   ]
  },
  {
   "cell_type": "markdown",
   "id": "875e5e16",
   "metadata": {},
   "source": [
    "2. **Phasor-domain description**:  \n",
    "    \\begin{equation}\\tag{2}\n",
    "        U(j\\omega)=RI(j\\omega)\n",
    "    \\end{equation}\n",
    "    Phasor diagram is presented in Fig. 4.4.2\n",
    "    ![Fig-4.4.2](Figures/Fig-4.4.2.png)"
   ]
  },
  {
   "cell_type": "markdown",
   "id": "6d3b72e0",
   "metadata": {},
   "source": [
    "3. **Impedance**:  \n",
    "\n",
    "    \\begin{equation}\\tag{3}\n",
    "        Z(j\\omega) = R\\,\\angle0^\\circ \\quad\\implies\\quad Z(\\omega)=Z=R \\quad \\text{and}\\quad \\varphi=0^\\circ\n",
    "    \\end{equation}\n",
    "    \n",
    "    Fig. 4.4.3 presents modulus (magnitude) and phase frequency characteristics.  \n",
    "    \n",
    "    ![Fig-4.4.3](Figures/Fig-4.4.3.png)"
   ]
  },
  {
   "cell_type": "markdown",
   "id": "640f5b0f",
   "metadata": {},
   "source": [
    "4. **Power**:  \n",
    "\n",
    "    Instantaneous power:  \n",
    "    \n",
    "    \\begin{equation}\\tag{4}\n",
    "        p = ui = 2UI\\sin^2\\omega t = UI - UI\\cos2\\omega t\n",
    "    \\end{equation}\n",
    "    \n",
    "    as presented in Fig. 4.4.4 - the dissipated energy is denoted by the shaded area.  \n",
    "    \n",
    "    ![Fig-4.4.4](Figures/Fig-4.4.4.png)"
   ]
  },
  {
   "cell_type": "markdown",
   "id": "2fb7825d",
   "metadata": {},
   "source": [
    "Average or real power:  \n",
    "\n",
    "\\begin{equation}\\tag{5}\n",
    "    P = I^2R \\, ,\\, \\mathrm{pf} = 1\n",
    "\\end{equation}    "
   ]
  },
  {
   "cell_type": "markdown",
   "id": "98b52c41",
   "metadata": {},
   "source": [
    "Reactive power:  \n",
    "\n",
    "\\begin{equation}\\tag{6}\n",
    "    Q = 0\n",
    "\\end{equation}    "
   ]
  },
  {
   "cell_type": "markdown",
   "id": "abd02a31",
   "metadata": {},
   "source": [
    "Energy dissipate in one period ($T$),  \n",
    "\n",
    "\\begin{equation}\\tag{7}\n",
    "    W_T = PT = I^2RT\n",
    "\\end{equation}"
   ]
  },
  {
   "cell_type": "markdown",
   "id": "f0608180",
   "metadata": {},
   "source": [
    "### Inductor\n",
    "1. **Time-domain description**:  Assuming $u = U\\sqrt{2}\\sin\\big(\\omega t + \\alpha_u\\big) \\;\\lor\\;i=I\\sqrt{2}\\sin\\big(\\omega t + \\alpha_i\\big)$,  \n",
    "\n",
    "    \\begin{equation}\\tag{8}\n",
    "        u = L\\frac{\\mathrm{d}i}{\\mathrm{d}t} \\quad\\implies \\quad  U\\sqrt{2}\\sin\\big(\\omega t + \\alpha_u\\big)=\\omega LI\\sqrt{2}\\sin\\big(\\omega t + \\alpha_i + 90^\\circ\\big) \\quad\\implies \\quad U=\\omega LI \\quad\\text{and}\\quad \\alpha_u=\\alpha_i + 90^\\circ \n",
    "    \\end{equation}\n",
    "    \n",
    "    The voltage leads the current by$90^\\circ$ . Fig. 4.4.5 presents a single period of inductor waveforms - current is denoted by the bold line.  It is assumed that $\\alpha_i=0^\\circ$.  \n",
    "    \n",
    "    ![Fig-4.4.5](Figures/Fig-4.4.5.png)"
   ]
  },
  {
   "cell_type": "markdown",
   "id": "58cf6aeb",
   "metadata": {},
   "source": [
    "2. **Phasor-domain description**:  \n",
    "\n",
    "    \\begin{equation}\\tag{9}\n",
    "        U(j\\omega) = j\\omega L I(j\\omega)\n",
    "    \\end{equation}\n",
    "    \n",
    "    Phasor diagram is presented in Fig. 4.4.6.  \n",
    "    \n",
    "    ![Fig-4.4.6](Figures/Fig-4.4.6.png)"
   ]
  },
  {
   "cell_type": "markdown",
   "id": "2438a50a",
   "metadata": {},
   "source": [
    "3. **Impedance**:  \n",
    "\n",
    "    \\begin{equation}\\tag{10}\n",
    "        Z(j\\omega) = j\\omega L = \\omega L\\,\\angle90^\\circ \\quad\\implies\\quad Z(\\omega) = Z = \\omega L \\quad\\text{aand}\\quad \\varphi = 90^\\circ\n",
    "    \\end{equation}\n",
    "    \n",
    "    Fig. 4.4.7 presents modulus (magnitude) and phase frequency characteristics.  \n",
    "    \n",
    "    ![Fig-4.4.7](Figures/Fig-4.4.7.png)  \n",
    "    \n",
    "    Under dc steady-state conditions ($\\omega=0$), a coil is a short-circuit. As $\\omega\\to\\infty$, a coil is an open-circuit;  Or, in other words, the limit of the current flowing through a coil as $\\omega$ approaches infinity is zero."
   ]
  },
  {
   "cell_type": "markdown",
   "id": "fd8964e2",
   "metadata": {},
   "source": [
    "4. **Power**:  \n",
    "    Instantaneous power:  \n",
    "    \\begin{equation}\\tag{11}\n",
    "        p = ui = 2\\omega L I^2\\sin\\big(\\omega t + \\alpha_i\\big)\\cos\\big(\\omega t + \\alpha_i\\big) = \\omega LI^2\\sin\\big(2\\omega t + 2\\alpha_i\\big)\n",
    "    \\end{equation}  \n",
    "    \n",
    "    Assuming $\\alpha_i=0^\\circ$, $p = UI\\sin2\\omega t$, as presented in Fig. 4.4.8.  \n",
    "    \n",
    "    ![Fig-4.4.8](Figures/Fig-4.4.8.png)  \n",
    "    \n",
    "    Average or real power:  \n",
    "    \n",
    "    \\begin{equation}\\tag{12}\n",
    "        P = UI\\cos\\varphi = 0 \\, , \\, \\cos\\varphi = \\mathrm{pf} = 0\n",
    "    \\end{equation}\n",
    "    \n",
    "    Reactive power:  \n",
    "    \n",
    "    \\begin{equation}\\tag{13}\n",
    "        Q = UI\\sin\\varphi = UI\n",
    "    \\end{equation}\n",
    "    \n",
    "    Energy absorbed in one period:  \n",
    "    \n",
    "    \\begin{equation}\\tag{14}\n",
    "        W_T = PT = 0\n",
    "    \\end{equation}"
   ]
  }
 ],
 "metadata": {
  "kernelspec": {
   "display_name": "Python 3",
   "language": "python",
   "name": "python3"
  },
  "language_info": {
   "codemirror_mode": {
    "name": "ipython",
    "version": 3
   },
   "file_extension": ".py",
   "mimetype": "text/x-python",
   "name": "python",
   "nbconvert_exporter": "python",
   "pygments_lexer": "ipython3",
   "version": "3.8.10"
  }
 },
 "nbformat": 4,
 "nbformat_minor": 5
}
