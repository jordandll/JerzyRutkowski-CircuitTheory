{
 "cells": [
  {
   "cell_type": "markdown",
   "id": "3fa26072",
   "metadata": {},
   "source": [
    "# Frequency Characteristics of Two-Terminal Subcircuit\n",
    "In AC steady-state circuit, all circuit responses are functions of the generator frequency .\n",
    "Response variations with this frequency form the frequency response of the circuit.  \n",
    "\n",
    "Summary of ideal elements, resistor, capacitor and coil, is presented at first. Then, use of\n",
    "these elements to model a practical capacitor and a practical coil is discussed.  \n",
    "\n",
    "Next, frequency response of resonant circuits, circuits that contain both capacitors and coils is\n",
    "investigated. Simple circuits, series RLC circuit and parallel GLC circuit are considered at\n",
    "first. Then, complex two-terminal circuits are discussed."
   ]
  },
  {
   "cell_type": "markdown",
   "id": "56ff0db7",
   "metadata": {},
   "source": [
    "## Ideal Elements – Summary\n",
    "### Resistor\n",
    "1. **Time-domain description**:  \n",
    "    \\begin{equation}\\tag{1}\n",
    "     u=Ri \\implies U\\sqrt{2}\\sin\\big(\\omega t + \\alpha_u\\big) = RI\\sqrt{2}\\sin\\big(\\omega t + \\alpha_i\\big) \\implies U=RI,\\;\\alpha_u=\\alpha_i\n",
    "    \\end{equation}\n",
    "    \n",
    "    There is no phase shift between the voltage and the current. Fig. 4.4.1 presents a single\n",
    "    period of resistor waveforms - current is denoted by the bold line, $\\alpha_i=0^\\circ$ is assumed.  \n",
    "    \n",
    "    ![Fig-4.4.1](Figures/Fig-4.4.1.png)"
   ]
  },
  {
   "cell_type": "markdown",
   "id": "875e5e16",
   "metadata": {},
   "source": [
    "2. **Phasor-domain description**:  \n",
    "    \\begin{equation}\\tag{2}\n",
    "        U(j\\omega)=RI(j\\omega)\n",
    "    \\end{equation}\n",
    "    Phasor diagram is presented in Fig. 4.4.2\n",
    "    ![Fig-4.4.2](Figures/Fig-4.4.2.png)"
   ]
  },
  {
   "cell_type": "markdown",
   "id": "932482eb",
   "metadata": {},
   "source": [
    "3. **Impedance**:  \n",
    "\n",
    "    \\begin{equation}\\tag{3}\n",
    "        Z(j\\omega) = R\\,\\angle0^\\circ \\quad\\implies\\quad Z(\\omega)=Z=R \\quad \\text{and}\\quad \\varphi=0^\\circ\n",
    "    \\end{equation}\n",
    "    \n",
    "    Fig. 4.4.3 presents modulus (magnitude) and phase frequency characteristics.  \n",
    "    \n",
    "    ![Fig-4.4.3](Figures/Fig-4.4.3.png)"
   ]
  },
  {
   "cell_type": "markdown",
   "id": "68bdc61f",
   "metadata": {},
   "source": [
    "4. **Power**:  \n",
    "\n",
    "    Instantaneous power:  \n",
    "    \n",
    "    \\begin{equation}\\tag{4}\n",
    "        p = ui = 2UI\\sin^2\\omega t = UI - UI\\cos2\\omega t\n",
    "    \\end{equation}\n",
    "    \n",
    "    as presented in Fig. 4.4.4 - the dissipated energy is denoted by the shaded area.  \n",
    "    \n",
    "    ![Fig-4.4.4](Figures/Fig-4.4.4.png)"
   ]
  },
  {
   "cell_type": "markdown",
   "id": "dd87868c",
   "metadata": {},
   "source": [
    "Average or real power:  \n",
    "\n",
    "\\begin{equation}\\tag{5}\n",
    "    P = I^2R \\, ,\\, \\mathrm{pf} = 1\n",
    "\\end{equation}    "
   ]
  },
  {
   "cell_type": "markdown",
   "id": "d9983d5b",
   "metadata": {},
   "source": [
    "Reactive power:  \n",
    "\n",
    "\\begin{equation}\\tag{6}\n",
    "    Q = 0\n",
    "\\end{equation}    "
   ]
  },
  {
   "cell_type": "markdown",
   "id": "66914279",
   "metadata": {},
   "source": [
    "Energy dissipate in one period ($T$),  \n",
    "\n",
    "\\begin{equation}\\tag{7}\n",
    "    W_T = PT = I^2RT\n",
    "\\end{equation}"
   ]
  },
  {
   "cell_type": "markdown",
   "id": "a8c1f924",
   "metadata": {},
   "source": [
    "### Inductor\n",
    "1. **Time-domain description**:  Assuming $u = U\\sqrt{2}\\sin\\big(\\omega t + \\alpha_u\\big) \\;\\lor\\;i=I\\sqrt{2}\\sin\\big(\\omega t + \\alpha_i\\big)$,  \n",
    "\n",
    "    \\begin{equation}\\tag{8}\n",
    "        u = L\\frac{\\mathrm{d}i}{\\mathrm{d}t} \\quad\\implies \\quad  U\\sqrt{2}\\sin\\big(\\omega t + \\alpha_u\\big)=\\omega LI\\sqrt{2}\\sin\\big(\\omega t + \\alpha_i + 90^\\circ\\big) \\quad\\implies \\quad U=\\omega LI \\quad\\text{and}\\quad \\alpha_u=\\alpha_i + 90^\\circ \n",
    "    \\end{equation}\n",
    "    \n",
    "    The voltage leads the current by$90^\\circ$ . Fig. 4.4.5 presents a single period of inductor waveforms - current is denoted by the bold line.  It is assumed that $\\alpha_i=0^\\circ$.  \n",
    "    \n",
    "    ![Fig-4.4.5](Figures/Fig-4.4.5.png)"
   ]
  },
  {
   "cell_type": "markdown",
   "id": "0e51034b",
   "metadata": {},
   "source": [
    "2. **Phasor-domain description**:  \n",
    "\n",
    "    \\begin{equation}\\tag{9}\n",
    "        U(j\\omega) = j\\omega L I(j\\omega)\n",
    "    \\end{equation}\n",
    "    \n",
    "    Phasor diagram is presented in Fig. 4.4.6.  \n",
    "    \n",
    "    ![Fig-4.4.6](Figures/Fig-4.4.6.png)"
   ]
  },
  {
   "cell_type": "markdown",
   "id": "d747b7c3",
   "metadata": {},
   "source": [
    "3. **Impedance**:  \n",
    "\n",
    "    \\begin{equation}\\tag{10}\n",
    "        Z(j\\omega) = j\\omega L = \\omega L\\,\\angle90^\\circ \\quad\\implies\\quad Z(\\omega) = Z = \\omega L \\quad\\text{aand}\\quad \\varphi = 90^\\circ\n",
    "    \\end{equation}\n",
    "    \n",
    "    Fig. 4.4.7 presents modulus (magnitude) and phase frequency characteristics.  \n",
    "    \n",
    "    ![Fig-4.4.7](Figures/Fig-4.4.7.png)  \n",
    "    \n",
    "    Under dc steady-state conditions ($\\omega=0$), a coil is a short-circuit. As $\\omega\\to\\infty$, a coil is an open-circuit;  Or, in other words, the limit of the current flowing through a coil as $\\omega$ approaches infinity is zero."
   ]
  },
  {
   "cell_type": "markdown",
   "id": "88c389d0",
   "metadata": {},
   "source": [
    "4. **Power**:  \n",
    "    Instantaneous power:  \n",
    "    \\begin{equation}\\tag{11}\n",
    "        p = ui = 2\\omega L I^2\\sin\\big(\\omega t + \\alpha_i\\big)\\cos\\big(\\omega t + \\alpha_i\\big) = \\omega LI^2\\sin\\big(2\\omega t + 2\\alpha_i\\big)\n",
    "    \\end{equation}  \n",
    "    \n",
    "    Assuming $\\alpha_i=0^\\circ$, $p = UI\\sin2\\omega t$, as presented in Fig. 4.4.8.  \n",
    "    \n",
    "    ![Fig-4.4.8](Figures/Fig-4.4.8.png)  \n",
    "    \n",
    "    Average or real power:  \n",
    "    \n",
    "    \\begin{equation}\\tag{12}\n",
    "        P = UI\\cos\\varphi = 0 \\, , \\, \\cos\\varphi = \\mathrm{pf} = 0\n",
    "    \\end{equation}\n",
    "    \n",
    "    Reactive power:  \n",
    "    \n",
    "    \\begin{equation}\\tag{13}\n",
    "        Q = UI\\sin\\varphi = UI\n",
    "    \\end{equation}\n",
    "    \n",
    "    Energy absorbed in one period:  \n",
    "    \n",
    "    \\begin{equation}\\tag{14}\n",
    "        W_T = PT = 0\n",
    "    \\end{equation}"
   ]
  },
  {
   "cell_type": "markdown",
   "id": "8ce6baac",
   "metadata": {},
   "source": [
    "Once again, assuming $\\alpha_i=0^\\circ$,  \n",
    "\n",
    "$$ \\int p\\,\\mathrm{d}t = -0.5LI^2 \\cos2\\omega t$$"
   ]
  },
  {
   "cell_type": "markdown",
   "id": "6a9fd807",
   "metadata": {},
   "source": [
    "$$ w = w(t) = \\int_0^t p\\,\\mathrm{d}t = 0.5LI^2\\,\\big(1-\\cos2\\omega t\\big)$$"
   ]
  },
  {
   "cell_type": "markdown",
   "id": "88d35b26",
   "metadata": {},
   "source": [
    "Inductors or coils exchange energy back and forth with the rest of the circuit - in Fig. 4.4.8 the\n",
    "exchanged energy is denoted by the shaded area.  \n",
    "\n",
    "$$ w(0) = 0$$\n",
    "\n",
    "The roots of $p(t)$ are the points in time at which $w$ is at it's max or min value.  In other words, $\\big(t_\\mathrm{e}, w(t_\\mathrm{e})\\big)$, where $p(t_\\mathrm{e})=0$, is an extremum of of the curve given by $w(t)$.\n",
    "\n",
    "$$ p(t_\\mathrm{e}) = 0 \\quad\\implies\\quad 2\\omega t_\\mathrm{e} = n\\pi \\quad\\text{where }\\;n\\in\\mathbb{Z}$$\n",
    "\n",
    "Thus,\n",
    "\n",
    "$$t_\\mathrm{e} = \\frac{n\\pi}{2\\omega} = \\frac{n\\pi T}{4\\pi} = \\frac{nT}{4} \\quad\\quad\\text{where }\\;n\\in\\mathbb{Z}$$"
   ]
  },
  {
   "cell_type": "markdown",
   "id": "1729e941",
   "metadata": {},
   "source": [
    "The points in time at which the max value of $w$ are reached are given by:  \n",
    "\n",
    "$$ t_\\max = \\frac{n_\\mathrm{o}T}{4} \\quad\\quad \\text{where }n_\\mathrm{o}\\text{ is an odd integer and }w(t_\\max) = w_\\max = LI^2\\text{.}$$"
   ]
  },
  {
   "cell_type": "markdown",
   "id": "0f198de0",
   "metadata": {},
   "source": [
    "And, the points in time at which is the min value of $w$ are reached are given by:  \n",
    "\n",
    "$$ t_\\min = \\frac{n_\\mathrm{e}T}{4} \\quad\\quad \\text{where }n_\\mathrm{e}\\text{ is an even integer and }w(t_\\min) = w_\\min = 0\\,\\mathrm{J}\\text{.}$$"
   ]
  },
  {
   "cell_type": "markdown",
   "id": "f73b21fd",
   "metadata": {},
   "source": [
    "When $t_\\min \\le t < t_\\max$, the coil is absorbing energy from the circuit.  Conversely, when $t_\\max\\le t < t_\\min$, the coil is releasing energy back into the circuit.  Each of these time periods have a length of $0.25T$."
   ]
  },
  {
   "cell_type": "markdown",
   "id": "bcfa030d",
   "metadata": {},
   "source": [
    "### Capacitor\n",
    "1. **Time-domain description**:  Assuming $u = u(t) = U\\sqrt{2}\\sin\\big(\\omega t + \\alpha_u\\big)$,  \n",
    "\n",
    "    \\begin{equation}\\tag{15}\n",
    "    i = C\\,\\frac{\\mathrm{d}u}{\\mathrm{d}t} \\quad\\implies\\quad I\\sqrt{2}\\sin\\big(\\omega t + \\alpha_i\\big) = \\omega CU\\sqrt{2}\\sin\\big(\\omega t + \\alpha_u + 90^\\circ\\big) \\quad\\quad\\text{where }\\; I=\\omega CU\\quad\\text{and}\\quad \\alpha_i=\\alpha_u + 90^\\circ\n",
    "    \\end{equation}\n",
    "\n",
    "    The current leads the voltage by $90^\\circ$. Fig. 4.4.9 presents a single period of inductor waveforms - current is denoted by the bold line.  It is assumed that $\\alpha_u=0^\\circ$.  \n",
    "    \n",
    "    ![Fig-4.4.9](Figures/Fig-4.4.9.png)"
   ]
  },
  {
   "cell_type": "markdown",
   "id": "24564e3f",
   "metadata": {},
   "source": [
    "2. **Phasor-domain description**:  \n",
    "\n",
    "    \\begin{equation}\\tag{16}\n",
    "        I(j\\omega) = j\\omega C U(j\\omega) \\quad\\implies\\quad I\\,\\angle\\alpha_i = \\omega CU\\,\\angle\\big(\\alpha_u + 90^\\circ\\big)\n",
    "    \\end{equation}\n",
    "    \n",
    "    Phasor diagram is presented in Fig. 4.4.10.  \n",
    "    \n",
    "    ![Fig-4.4.10](Figures/Fig-4.4.10.png)"
   ]
  },
  {
   "cell_type": "markdown",
   "id": "90befe6b",
   "metadata": {},
   "source": [
    "3. **Impedance and Admittance**:  \n",
    "\n",
    "    \\begin{equation}\\tag{17a}\n",
    "        A(j\\omega) = j\\omega C = \\omega C\\,\\angle90^\\circ \\quad\\implies \\quad A(\\omega) = A = \\omega C \\quad\\text{and}\\quad -\\varphi=90^\\circ\n",
    "    \\end{equation}\n",
    "    Thus,  \n",
    "    \n",
    "    \\begin{equation}\\tag{17b}\n",
    "        Z(j\\omega) = \\frac{1}{A(j\\omega)} = -j\\frac{1}{\\omega C} = \\frac{1}{\\omega C}\\,\\angle\\!-\\!90^\\circ \\quad\\implies\\quad Z(\\omega) = Z = \\frac{1}{A} = \\frac{1}{\\omega C} \\quad\\text{and}\\quad \\varphi = -90^\\circ\n",
    "    \\end{equation}\n",
    "    \n",
    "    Fig. 4.4.11 presents modulus (magnitude) and phase frequency characteristics.  \n",
    "    \n",
    "    ![Fig-4.4.11](Figures/Fig-4.4.11.png)\n",
    "\n",
    "    Under DC steady-state conditions ($\\omega=0$), the capacitor is an open-circuit. As $\\omega\\to\\infty$, the capacitor is a short-circuit;  Or, in other words, the limit of voltage dropped accros the capacitor as $\\omega$ approaches infinity is equal to zero volts."
   ]
  },
  {
   "cell_type": "markdown",
   "id": "7247f170",
   "metadata": {},
   "source": [
    "4. **Power**:  \n",
    "\n",
    "    Instantaneous power:  \n",
    "    \n",
    "    \\begin{equation}\\tag{18}\n",
    "        p = p(t\\vert\\alpha_u) = ui = 2\\omega C U^2\\sin\\big(\\omega t + \\alpha_u\\big)\\cos\\big(\\omega t + \\alpha_u\\big) = \\omega CU^2\\sin\\big(2\\omega t + 2\\alpha_u\\big)\n",
    "    \\end{equation}\n",
    "    \n",
    "    Real or average power:  \n",
    "    \n",
    "    \\begin{equation}\\tag{19}\n",
    "        P = UI\\cos\\varphi = 0 \\quad\\text{and}\\quad \\mathrm{pf} = \\cos\\varphi = 0\n",
    "    \\end{equation}\n",
    "    \n",
    "    Reactive power:  \n",
    "    \n",
    "    \\begin{equation}\\tag{20}\n",
    "        Q = UI\\sin\\varphi = -UI = -\\omega CU^2\n",
    "    \\end{equation}\n",
    "    \n",
    "    And, the energy stored after one time period is:  \n",
    "    \n",
    "    \\begin{equation}\\tag{21}\n",
    "        W_T = PT = 0\\,\\mathrm{J}\n",
    "    \\end{equation}"
   ]
  },
  {
   "cell_type": "markdown",
   "id": "97f9084c",
   "metadata": {},
   "source": [
    "$$ \\int p \\,\\mathrm{d}t = -0.5CU^2\\cos\\big(2\\omega t + 2\\alpha_u\\big)$$"
   ]
  },
  {
   "cell_type": "markdown",
   "id": "d40f9271",
   "metadata": {},
   "source": [
    "Assuming $\\alpha_u=0^\\circ$,  \n",
    "\n",
    "$$ w = w(t\\vert\\alpha_u) = \\int_0^t p\\,\\mathrm{d}t = 0.5CU^2\\Big(\\cos2\\alpha_u - \\cos\\big(2\\omega t + 2\\alpha_u\\big)\\Big)$$"
   ]
  },
  {
   "cell_type": "markdown",
   "id": "1e013114",
   "metadata": {},
   "source": [
    "Now, let $w$ and $p$ be redefined as:  \n",
    "\n",
    "$$ w := w(t) := w\\big(t\\vert0^\\circ\\big) = 0.5CU^2\\big(1-\\cos2\\omega t\\big)$$\n",
    "\n",
    "$$ p:=p(t):=p\\big(t\\vert0^\\circ\\big) = \\omega CU^2\\sin2\\omega t$$"
   ]
  },
  {
   "cell_type": "markdown",
   "id": "65d479d3",
   "metadata": {},
   "source": [
    "Capacitors exchange energy back and forth with the rest of the circuit - in Fig. 4.4.8 the\n",
    "exchanged energy is denoted by the shaded area.  \n",
    "\n",
    "$$ w(0) = 0$$\n",
    "\n",
    "The roots of $p(t)$ are the points in time at which $w$ is at it's max or min value.  In other words, $\\big(t_\\mathrm{e}, w(t_\\mathrm{e})\\big)$, where $p(t_\\mathrm{e})=0$, is an extremum of of the curve given by $w(t)$.\n",
    "\n",
    "$$ p(t_\\mathrm{e}) = 0 \\quad\\implies\\quad 2\\omega t_\\mathrm{e} = n\\pi \\quad\\text{where }\\;n\\in\\mathbb{Z}$$\n",
    "\n",
    "Thus,\n",
    "\n",
    "$$t_\\mathrm{e} = \\frac{n\\pi}{2\\omega} = \\frac{n\\pi T}{4\\pi} = \\frac{nT}{4} \\quad\\quad\\text{where }\\;n\\in\\mathbb{Z}$$"
   ]
  },
  {
   "cell_type": "markdown",
   "id": "adee6b7c",
   "metadata": {},
   "source": [
    "The points in time at which the max value of $w$ are reached are given by:  \n",
    "\n",
    "$$ t_\\max = \\frac{n_\\mathrm{o}T}{4} \\quad\\quad \\text{where }n_\\mathrm{o}\\text{ is an odd integer and }w(t_\\max) = w_\\max =  CU^2\\text{.}$$"
   ]
  },
  {
   "cell_type": "markdown",
   "id": "e77c8a88",
   "metadata": {},
   "source": [
    "And, the points in time at which is the min value of $w$ are reached are given by:  \n",
    "\n",
    "$$ t_\\min = \\frac{n_\\mathrm{e}T}{4} \\quad\\quad \\text{where }n_\\mathrm{e}\\text{ is an even integer and }w(t_\\min) = w_\\min = 0\\,\\mathrm{J}\\text{.}$$"
   ]
  },
  {
   "cell_type": "markdown",
   "id": "5007c7d1",
   "metadata": {},
   "source": [
    "When $t_\\min \\le t < t_\\max$, the capacitor is absorbing energy from the circuit.  Conversely, when $t_\\max\\le t < t_\\min$, the capacitor is releasing energy back into the circuit.  Each of these time periods have a length of $0.25T$."
   ]
  },
  {
   "cell_type": "markdown",
   "id": "933df64c",
   "metadata": {},
   "source": [
    "## Practical Coil and Practical Capacitor\n",
    "A practical (nonideal) inductor or a practical capacitor is modeled by an ideal inductor or\n",
    "capacitor, together with some other parasitic elements to account for losses and coupling.  \n",
    "\n",
    "For a **practical inductor**, first of all, a winding resistance $R_L=R_\\mathrm{Cu}$ (resistance in copper)\n",
    "has to be taken into account. This resistance may be modeled by inserting a series resistor into\n",
    "the circuit model for a practical inductor, as presented in Fig. 4.4.12.  \n",
    "\n",
    "![Fig-4.4.12](Figures/Fig-4.4.12.png)"
   ]
  },
  {
   "cell_type": "markdown",
   "id": "077e8681",
   "metadata": {},
   "source": [
    "At first, model taking into account only this winding resistance is considered. Via KVL:  \n",
    "\n",
    "\\begin{equation}\\tag{22}\n",
    "    U(j\\omega) = U_L(j\\omega) + U_R(j\\omega)\n",
    "\\end{equation}"
   ]
  },
  {
   "cell_type": "markdown",
   "id": "43c0e452",
   "metadata": {},
   "source": [
    "The phasor diagram is presented in Fig. 4.4.13a ($\\alpha_i=0^\\circ$ is assumed).  \n",
    "\n",
    "A practical coil equivalent impedance is:  \n",
    "\n",
    "\\begin{equation}\\tag{23}\n",
    "    Z(j\\omega) = R + j\\omega L \\quad\\implies\\quad Z(\\omega) = Z = \\sqrt{R^2 + \\omega^2L^2} \\quad\\text{and}\\quad \\varphi(\\omega) = \\varphi = \\arcsin\\frac{\\omega L}{Z(\\omega)} = \\arcsin\\frac{\\omega L}{Z}\n",
    "\\end{equation}"
   ]
  },
  {
   "cell_type": "markdown",
   "id": "5456b070",
   "metadata": {},
   "source": [
    "Let $Z(j\\omega):=Z_L(j\\omega)$.  Frequency characteristic of the magnitude is presented in Fig. 4.4.13b (solid line).  \n",
    "\n",
    "![Fig-4.4.13](Figures/Fig-4.4.13.png)"
   ]
  },
  {
   "cell_type": "markdown",
   "id": "b9298d58",
   "metadata": {},
   "source": [
    "If a practical inductor or capacitor is described by the equivalent impedance, $Z(j\\omega) = R(\\omega) + jX(\\omega)$\n",
    ", then the reactance $X(\\omega)$ is the primary parameter of concern, and\n",
    "the resistance $R(\\omega)$ represents the parasitic effect. The magnitude of $X(\\omega)$ is usually much\n",
    "greater than the magnitude of $R(\\omega)$. The ratio, called the **quality factor** of practical element  \n",
    "\n",
    "\\begin{equation}\\tag{24}\n",
    "    Q(\\omega) = \\frac{|X(\\omega)|}{R(\\omega)}\n",
    "\\end{equation}"
   ]
  },
  {
   "cell_type": "markdown",
   "id": "6f002967",
   "metadata": {},
   "source": [
    "provides a measure of how close the practical element is to an ideal element. The inclusion of $\\omega$\n",
    "in equation (4.4.24) is to emphasize the fact that the quality factor depends on the\n",
    "frequency.  \n",
    "\n",
    "For an inductor, modeled as shown in Fig 4.4.12 – solid lines, the quality factor is designated\n",
    "by the following equation:  \n",
    "\n"
   ]
  }
 ],
 "metadata": {
  "kernelspec": {
   "display_name": "Python 3",
   "language": "python",
   "name": "python3"
  },
  "language_info": {
   "codemirror_mode": {
    "name": "ipython",
    "version": 3
   },
   "file_extension": ".py",
   "mimetype": "text/x-python",
   "name": "python",
   "nbconvert_exporter": "python",
   "pygments_lexer": "ipython3",
   "version": "3.8.10"
  }
 },
 "nbformat": 4,
 "nbformat_minor": 5
}
