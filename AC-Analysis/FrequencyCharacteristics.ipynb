{
 "cells": [
  {
   "cell_type": "markdown",
   "id": "3fa26072",
   "metadata": {},
   "source": [
    "# Frequency Characteristics of Two-Terminal Subcircuit\n",
    "In an AC steady-state circuit, all circuit responses are functions of the generator frequency .\n",
    "Response variations with this frequency form the frequency response of the circuit.  \n",
    "\n",
    "Summary of ideal elements, resistor, capacitor and coil, is presented at first. Then, use of\n",
    "these elements to model a practical capacitor and a practical coil is discussed.  \n",
    "\n",
    "Next, frequency response of resonant circuits, circuits that contain both capacitors and coils is\n",
    "investigated. Simple circuits, series RLC circuit and parallel GLC circuit are considered at\n",
    "first. Then, complex two-terminal circuits are discussed."
   ]
  },
  {
   "cell_type": "markdown",
   "id": "56ff0db7",
   "metadata": {},
   "source": [
    "## Ideal Elements – Summary\n",
    "### Resistor\n",
    "1. **Time-domain description**:  \n",
    "    \\begin{equation}\\tag{1}\n",
    "     u=Ri \\implies U\\sqrt{2}\\sin\\big(\\omega t + \\alpha_u\\big) = RI\\sqrt{2}\\sin\\big(\\omega t + \\alpha_i\\big) \\implies U=RI,\\;\\alpha_u=\\alpha_i\n",
    "    \\end{equation}\n",
    "    \n",
    "    There is no phase shift between the voltage and the current. Fig. 4.4.1 presents a single\n",
    "    period of resistor waveforms - current is denoted by the bold line, $\\alpha_i=0^\\circ$ is assumed.  \n",
    "    \n",
    "    ![Fig-4.4.1](Figures/Fig-4.4.1.png)"
   ]
  },
  {
   "cell_type": "markdown",
   "id": "875e5e16",
   "metadata": {},
   "source": [
    "2. **Phasor-domain description**:  \n",
    "    \\begin{equation}\\tag{2}\n",
    "        U(j\\omega)=RI(j\\omega)\n",
    "    \\end{equation}\n",
    "    Phasor diagram is presented in Fig. 4.4.2\n",
    "    ![Fig-4.4.2](Figures/Fig-4.4.2.png)"
   ]
  },
  {
   "cell_type": "markdown",
   "id": "932482eb",
   "metadata": {},
   "source": [
    "3. **Impedance**:  \n",
    "\n",
    "    \\begin{equation}\\tag{3}\n",
    "        Z(j\\omega) = R\\,\\angle0^\\circ \\quad\\implies\\quad Z(\\omega)=Z=R \\quad \\text{and}\\quad \\varphi=0^\\circ\n",
    "    \\end{equation}\n",
    "    \n",
    "    Fig. 4.4.3 presents modulus (magnitude) and phase frequency characteristics.  \n",
    "    \n",
    "    ![Fig-4.4.3](Figures/Fig-4.4.3.png)"
   ]
  },
  {
   "cell_type": "markdown",
   "id": "68bdc61f",
   "metadata": {},
   "source": [
    "4. **Power**:  \n",
    "\n",
    "    Instantaneous power:  \n",
    "    \n",
    "    \\begin{equation}\\tag{4}\n",
    "        p = ui = 2UI\\sin^2\\omega t = UI - UI\\cos2\\omega t\n",
    "    \\end{equation}\n",
    "    \n",
    "    as presented in Fig. 4.4.4 - the dissipated energy is denoted by the shaded area.  \n",
    "    \n",
    "    ![Fig-4.4.4](Figures/Fig-4.4.4.png)"
   ]
  },
  {
   "cell_type": "markdown",
   "id": "dd87868c",
   "metadata": {},
   "source": [
    "Average or real power:  \n",
    "\n",
    "\\begin{equation}\\tag{5}\n",
    "    P = I^2R \\, ,\\, \\mathrm{pf} = 1\n",
    "\\end{equation}    "
   ]
  },
  {
   "cell_type": "markdown",
   "id": "d9983d5b",
   "metadata": {},
   "source": [
    "Reactive power:  \n",
    "\n",
    "\\begin{equation}\\tag{6}\n",
    "    Q = 0\n",
    "\\end{equation}    "
   ]
  },
  {
   "cell_type": "markdown",
   "id": "66914279",
   "metadata": {},
   "source": [
    "Energy dissipate in one period ($T$),  \n",
    "\n",
    "\\begin{equation}\\tag{7}\n",
    "    W_T = PT = I^2RT\n",
    "\\end{equation}"
   ]
  },
  {
   "cell_type": "markdown",
   "id": "a8c1f924",
   "metadata": {},
   "source": [
    "### Inductor\n",
    "1. **Time-domain description**:  Assuming $u = U\\sqrt{2}\\sin\\big(\\omega t + \\alpha_u\\big) \\;\\lor\\;i=I\\sqrt{2}\\sin\\big(\\omega t + \\alpha_i\\big)$,  \n",
    "\n",
    "    \\begin{equation}\\tag{8}\n",
    "        u = L\\frac{\\mathrm{d}i}{\\mathrm{d}t} \\quad\\implies \\quad  U\\sqrt{2}\\sin\\big(\\omega t + \\alpha_u\\big)=\\omega LI\\sqrt{2}\\sin\\big(\\omega t + \\alpha_i + 90^\\circ\\big) \\quad\\implies \\quad U=\\omega LI \\quad\\text{and}\\quad \\alpha_u=\\alpha_i + 90^\\circ \n",
    "    \\end{equation}\n",
    "    \n",
    "    The voltage leads the current by$90^\\circ$ . Fig. 4.4.5 presents a single period of inductor waveforms - current is denoted by the bold line.  It is assumed that $\\alpha_i=0^\\circ$.  \n",
    "    \n",
    "    ![Fig-4.4.5](Figures/Fig-4.4.5.png)"
   ]
  },
  {
   "cell_type": "markdown",
   "id": "0e51034b",
   "metadata": {},
   "source": [
    "2. **Phasor-domain description**:  \n",
    "\n",
    "    \\begin{equation}\\tag{9}\n",
    "        U(j\\omega) = j\\omega L I(j\\omega)\n",
    "    \\end{equation}\n",
    "    \n",
    "    Phasor diagram is presented in Fig. 4.4.6.  \n",
    "    \n",
    "    ![Fig-4.4.6](Figures/Fig-4.4.6.png)"
   ]
  },
  {
   "cell_type": "markdown",
   "id": "d747b7c3",
   "metadata": {},
   "source": [
    "3. **Impedance**:  \n",
    "\n",
    "    \\begin{equation}\\tag{10}\n",
    "        Z(j\\omega) = j\\omega L = \\omega L\\,\\angle90^\\circ \\quad\\implies\\quad Z(\\omega) = Z = \\omega L \\quad\\text{aand}\\quad \\varphi = 90^\\circ\n",
    "    \\end{equation}\n",
    "    \n",
    "    Fig. 4.4.7 presents modulus (magnitude) and phase frequency characteristics.  \n",
    "    \n",
    "    ![Fig-4.4.7](Figures/Fig-4.4.7.png)  \n",
    "    \n",
    "    Under dc steady-state conditions ($\\omega=0$), a coil is a short-circuit. As $\\omega\\to\\infty$, a coil is an open-circuit;  Or, in other words, the limit of the current flowing through a coil as $\\omega$ approaches infinity is zero."
   ]
  },
  {
   "cell_type": "markdown",
   "id": "88c389d0",
   "metadata": {},
   "source": [
    "4. **Power**:  \n",
    "    Instantaneous power:  \n",
    "    \\begin{equation}\\tag{11}\n",
    "        p = ui = 2\\omega L I^2\\sin\\big(\\omega t + \\alpha_i\\big)\\cos\\big(\\omega t + \\alpha_i\\big) = \\omega LI^2\\sin\\big(2\\omega t + 2\\alpha_i\\big)\n",
    "    \\end{equation}  \n",
    "    \n",
    "    Assuming $\\alpha_i=0^\\circ$, $p = UI\\sin2\\omega t$, as presented in Fig. 4.4.8.  \n",
    "    \n",
    "    ![Fig-4.4.8](Figures/Fig-4.4.8.png)  \n",
    "    \n",
    "    Average or real power:  \n",
    "    \n",
    "    \\begin{equation}\\tag{12}\n",
    "        P = UI\\cos\\varphi = 0 \\, , \\, \\cos\\varphi = \\mathrm{pf} = 0\n",
    "    \\end{equation}\n",
    "    \n",
    "    Reactive power:  \n",
    "    \n",
    "    \\begin{equation}\\tag{13}\n",
    "        Q = UI\\sin\\varphi = UI\n",
    "    \\end{equation}\n",
    "    \n",
    "    Energy absorbed in one period:  \n",
    "    \n",
    "    \\begin{equation}\\tag{14}\n",
    "        W_T = PT = 0\n",
    "    \\end{equation}"
   ]
  },
  {
   "cell_type": "markdown",
   "id": "8ce6baac",
   "metadata": {},
   "source": [
    "Once again, assuming $\\alpha_i=0^\\circ$,  \n",
    "\n",
    "$$ \\int p\\,\\mathrm{d}t = -0.5LI^2 \\cos2\\omega t$$"
   ]
  },
  {
   "cell_type": "markdown",
   "id": "6a9fd807",
   "metadata": {},
   "source": [
    "$$ w = w(t) = \\int_0^t p\\,\\mathrm{d}t = 0.5LI^2\\,\\big(1-\\cos2\\omega t\\big)$$"
   ]
  },
  {
   "cell_type": "markdown",
   "id": "88d35b26",
   "metadata": {},
   "source": [
    "Inductors or coils exchange energy back and forth with the rest of the circuit - in Fig. 4.4.8 the\n",
    "exchanged energy is denoted by the shaded area.  \n",
    "\n",
    "$$ w(0) = 0$$\n",
    "\n",
    "The roots of $p(t)$ are the points in time at which $w$ is at it's max or min value.  In other words, $\\big(t_\\mathrm{e}, w(t_\\mathrm{e})\\big)$, where $p(t_\\mathrm{e})=0$, is an extremum of of the curve given by $w(t)$.\n",
    "\n",
    "$$ p(t_\\mathrm{e}) = 0 \\quad\\implies\\quad 2\\omega t_\\mathrm{e} = n\\pi \\quad\\text{where }\\;n\\in\\mathbb{Z}$$\n",
    "\n",
    "Thus,\n",
    "\n",
    "$$t_\\mathrm{e} = \\frac{n\\pi}{2\\omega} = \\frac{n\\pi T}{4\\pi} = \\frac{nT}{4} \\quad\\quad\\text{where }\\;n\\in\\mathbb{Z}$$"
   ]
  },
  {
   "cell_type": "markdown",
   "id": "1729e941",
   "metadata": {},
   "source": [
    "The points in time at which the max value of $w$ are reached are given by:  \n",
    "\n",
    "$$ t_\\max = \\frac{n_\\mathrm{o}T}{4} \\quad\\quad \\text{where }n_\\mathrm{o}\\text{ is an odd integer and }w(t_\\max) = w_\\max = LI^2\\text{.}$$"
   ]
  },
  {
   "cell_type": "markdown",
   "id": "0f198de0",
   "metadata": {},
   "source": [
    "And, the points in time at which is the min value of $w$ are reached are given by:  \n",
    "\n",
    "$$ t_\\min = \\frac{n_\\mathrm{e}T}{4} \\quad\\quad \\text{where }n_\\mathrm{e}\\text{ is an even integer and }w(t_\\min) = w_\\min = 0\\,\\mathrm{J}\\text{.}$$"
   ]
  },
  {
   "cell_type": "markdown",
   "id": "f73b21fd",
   "metadata": {},
   "source": [
    "When $t_\\min \\le t < t_\\max$, the coil is absorbing energy from the circuit.  Conversely, when $t_\\max\\le t < t_\\min$, the coil is releasing energy back into the circuit.  Each of these time periods have a length of $0.25T$."
   ]
  },
  {
   "cell_type": "markdown",
   "id": "bcfa030d",
   "metadata": {},
   "source": [
    "### Capacitor\n",
    "1. **Time-domain description**:  Assuming $u = u(t) = U\\sqrt{2}\\sin\\big(\\omega t + \\alpha_u\\big)$,  \n",
    "\n",
    "    \\begin{equation}\\tag{15}\n",
    "    i = C\\,\\frac{\\mathrm{d}u}{\\mathrm{d}t} \\quad\\implies\\quad I\\sqrt{2}\\sin\\big(\\omega t + \\alpha_i\\big) = \\omega CU\\sqrt{2}\\sin\\big(\\omega t + \\alpha_u + 90^\\circ\\big) \\quad\\quad\\text{where }\\; I=\\omega CU\\quad\\text{and}\\quad \\alpha_i=\\alpha_u + 90^\\circ\n",
    "    \\end{equation}\n",
    "\n",
    "    The current leads the voltage by $90^\\circ$. Fig. 4.4.9 presents a single period of inductor waveforms - current is denoted by the bold line.  It is assumed that $\\alpha_u=0^\\circ$.  \n",
    "    \n",
    "    ![Fig-4.4.9](Figures/Fig-4.4.9.png)"
   ]
  },
  {
   "cell_type": "markdown",
   "id": "24564e3f",
   "metadata": {},
   "source": [
    "2. **Phasor-domain description**:  \n",
    "\n",
    "    \\begin{equation}\\tag{16}\n",
    "        I(j\\omega) = j\\omega C U(j\\omega) \\quad\\implies\\quad I\\,\\angle\\alpha_i = \\omega CU\\,\\angle\\big(\\alpha_u + 90^\\circ\\big)\n",
    "    \\end{equation}\n",
    "    \n",
    "    Phasor diagram is presented in Fig. 4.4.10.  \n",
    "    \n",
    "    ![Fig-4.4.10](Figures/Fig-4.4.10.png)"
   ]
  },
  {
   "cell_type": "markdown",
   "id": "90befe6b",
   "metadata": {},
   "source": [
    "3. **Impedance and Admittance**:  \n",
    "\n",
    "    \\begin{equation}\\tag{17a}\n",
    "        A(j\\omega) = j\\omega C = \\omega C\\,\\angle90^\\circ \\quad\\implies \\quad A(\\omega) = A = \\omega C \\quad\\text{and}\\quad -\\varphi=90^\\circ\n",
    "    \\end{equation}\n",
    "    Thus,  \n",
    "    \n",
    "    \\begin{equation}\\tag{17b}\n",
    "        Z(j\\omega) = \\frac{1}{A(j\\omega)} = -j\\frac{1}{\\omega C} = \\frac{1}{\\omega C}\\,\\angle\\!-\\!90^\\circ \\quad\\implies\\quad Z(\\omega) = Z = \\frac{1}{A} = \\frac{1}{\\omega C} \\quad\\text{and}\\quad \\varphi = -90^\\circ\n",
    "    \\end{equation}\n",
    "    \n",
    "    Fig. 4.4.11 presents modulus (magnitude) and phase frequency characteristics.  \n",
    "    \n",
    "    ![Fig-4.4.11](Figures/Fig-4.4.11.png)\n",
    "\n",
    "    Under DC steady-state conditions ($\\omega=0$), the capacitor is an open-circuit. As $\\omega\\to\\infty$, the capacitor is a short-circuit;  Or, in other words, the limit of voltage dropped accros the capacitor as $\\omega$ approaches infinity is equal to zero volts."
   ]
  },
  {
   "cell_type": "markdown",
   "id": "7247f170",
   "metadata": {},
   "source": [
    "4. **Power**:  \n",
    "\n",
    "    Instantaneous power:  \n",
    "    \n",
    "    \\begin{equation}\\tag{18}\n",
    "        p = p(t\\vert\\alpha_u) = ui = 2\\omega C U^2\\sin\\big(\\omega t + \\alpha_u\\big)\\cos\\big(\\omega t + \\alpha_u\\big) = \\omega CU^2\\sin\\big(2\\omega t + 2\\alpha_u\\big)\n",
    "    \\end{equation}\n",
    "    \n",
    "    Real or average power:  \n",
    "    \n",
    "    \\begin{equation}\\tag{19}\n",
    "        P = UI\\cos\\varphi = 0 \\quad\\text{and}\\quad \\mathrm{pf} = \\cos\\varphi = 0\n",
    "    \\end{equation}\n",
    "    \n",
    "    Reactive power:  \n",
    "    \n",
    "    \\begin{equation}\\tag{20}\n",
    "        Q = UI\\sin\\varphi = -UI = -\\omega CU^2\n",
    "    \\end{equation}\n",
    "    \n",
    "    And, the energy stored after one time period is:  \n",
    "    \n",
    "    \\begin{equation}\\tag{21}\n",
    "        W_T = PT = 0\\,\\mathrm{J}\n",
    "    \\end{equation}"
   ]
  },
  {
   "cell_type": "markdown",
   "id": "97f9084c",
   "metadata": {},
   "source": [
    "$$ \\int p \\,\\mathrm{d}t = -0.5CU^2\\cos\\big(2\\omega t + 2\\alpha_u\\big)$$"
   ]
  },
  {
   "cell_type": "markdown",
   "id": "d40f9271",
   "metadata": {},
   "source": [
    "Assuming $\\alpha_u=0^\\circ$,  \n",
    "\n",
    "$$ w = w(t\\vert\\alpha_u) = \\int_0^t p\\,\\mathrm{d}t = 0.5CU^2\\Big(\\cos2\\alpha_u - \\cos\\big(2\\omega t + 2\\alpha_u\\big)\\Big)$$"
   ]
  },
  {
   "cell_type": "markdown",
   "id": "1e013114",
   "metadata": {},
   "source": [
    "Now, let $w$ and $p$ be redefined as:  \n",
    "\n",
    "$$ w := w(t) := w\\big(t\\vert0^\\circ\\big) = 0.5CU^2\\big(1-\\cos2\\omega t\\big)$$\n",
    "\n",
    "$$ p:=p(t):=p\\big(t\\vert0^\\circ\\big) = \\omega CU^2\\sin2\\omega t$$"
   ]
  },
  {
   "cell_type": "markdown",
   "id": "65d479d3",
   "metadata": {},
   "source": [
    "Capacitors exchange energy back and forth with the rest of the circuit - in Fig. 4.4.8 the\n",
    "exchanged energy is denoted by the shaded area.  \n",
    "\n",
    "$$ w(0) = 0$$\n",
    "\n",
    "The roots of $p(t)$ are the points in time at which $w$ is at it's max or min value.  In other words, $\\big(t_\\mathrm{e}, w(t_\\mathrm{e})\\big)$, where $p(t_\\mathrm{e})=0$, is an extremum of of the curve given by $w(t)$.\n",
    "\n",
    "$$ p(t_\\mathrm{e}) = 0 \\quad\\implies\\quad 2\\omega t_\\mathrm{e} = n\\pi \\quad\\text{where }\\;n\\in\\mathbb{Z}$$\n",
    "\n",
    "Thus,\n",
    "\n",
    "$$t_\\mathrm{e} = \\frac{n\\pi}{2\\omega} = \\frac{n\\pi T}{4\\pi} = \\frac{nT}{4} \\quad\\quad\\text{where }\\;n\\in\\mathbb{Z}$$"
   ]
  },
  {
   "cell_type": "markdown",
   "id": "adee6b7c",
   "metadata": {},
   "source": [
    "The points in time at which the max value of $w$ are reached are given by:  \n",
    "\n",
    "$$ t_\\max = \\frac{n_\\mathrm{o}T}{4} \\quad\\quad \\text{where }n_\\mathrm{o}\\text{ is an odd integer and }w(t_\\max) = w_\\max =  CU^2\\text{.}$$"
   ]
  },
  {
   "cell_type": "markdown",
   "id": "e77c8a88",
   "metadata": {},
   "source": [
    "And, the points in time at which is the min value of $w$ are reached are given by:  \n",
    "\n",
    "$$ t_\\min = \\frac{n_\\mathrm{e}T}{4} \\quad\\quad \\text{where }n_\\mathrm{e}\\text{ is an even integer and }w(t_\\min) = w_\\min = 0\\,\\mathrm{J}\\text{.}$$"
   ]
  },
  {
   "cell_type": "markdown",
   "id": "5007c7d1",
   "metadata": {},
   "source": [
    "When $t_\\min \\le t < t_\\max$, the capacitor is absorbing energy from the circuit.  Conversely, when $t_\\max\\le t < t_\\min$, the capacitor is releasing energy back into the circuit.  Each of these time periods have a length of $0.25T$."
   ]
  },
  {
   "cell_type": "markdown",
   "id": "933df64c",
   "metadata": {},
   "source": [
    "## Practical Coil and Practical Capacitor\n",
    "A practical (nonideal) inductor or a practical capacitor is modeled by an ideal inductor or\n",
    "capacitor, together with some other parasitic elements to account for losses and coupling.  \n",
    "\n",
    "For a **practical inductor**, first of all, a winding resistance $R_L=R_\\mathrm{Cu}$ (resistance in copper)\n",
    "has to be taken into account. This resistance may be modeled by inserting a series resistor into\n",
    "the circuit model for a practical inductor, as presented in Fig. 4.4.12.  \n",
    "\n",
    "![Fig-4.4.12](Figures/Fig-4.4.12.png)"
   ]
  },
  {
   "cell_type": "markdown",
   "id": "d1e01f32",
   "metadata": {},
   "source": [
    "At first, model taking into account only this winding resistance is considered. Via KVL:  \n",
    "\n",
    "\\begin{equation}\\tag{22}\n",
    "    U(j\\omega) = U_L(j\\omega) + U_R(j\\omega)\n",
    "\\end{equation}"
   ]
  },
  {
   "cell_type": "markdown",
   "id": "cad796be",
   "metadata": {},
   "source": [
    "The phasor diagram is presented in Fig. 4.4.13a ($\\alpha_i=0^\\circ$ is assumed).  \n",
    "\n",
    "A practical coil equivalent impedance is:  \n",
    "\n",
    "\\begin{equation}\\tag{23}\n",
    "    Z_L(j\\omega) = R_L + j\\omega L \\quad\\implies\\quad Z_L(\\omega) = Z_L = \\sqrt{R_L^2 + \\omega^2L^2} \\quad\\text{and}\\quad \\varphi(\\omega) = \\varphi = \\arcsin\\frac{\\omega L}{Z_L(\\omega)} = \\arcsin\\frac{\\omega L}{Z_L}\n",
    "\\end{equation}"
   ]
  },
  {
   "cell_type": "markdown",
   "id": "d7fe4297",
   "metadata": {},
   "source": [
    "Frequency characteristic of the magnitude is presented in Fig. 4.4.13b (solid line).  \n",
    "\n",
    "![Fig-4.4.13](Figures/Fig-4.4.13.png)"
   ]
  },
  {
   "cell_type": "markdown",
   "id": "9dd5285b",
   "metadata": {},
   "source": [
    "If a practical inductor or capacitor is described by the equivalent impedance, $Z(j\\omega) = R(\\omega) + jX(\\omega)$\n",
    ", then the reactance $X(\\omega)$ is the primary parameter of concern, and\n",
    "the resistance $R(\\omega)$ represents the parasitic effect. The magnitude of $X(\\omega)$ is usually much\n",
    "greater than the magnitude of $R(\\omega)$. The ratio, called the **quality factor** of practical element  \n",
    "\n",
    "\\begin{equation}\\tag{24}\n",
    "    Q(\\omega) = \\frac{|X(\\omega)|}{R(\\omega)}\n",
    "\\end{equation}"
   ]
  },
  {
   "cell_type": "markdown",
   "id": "11f8ee4d",
   "metadata": {},
   "source": [
    "provides a measure of how close the practical element is to an ideal element. The inclusion of $\\omega$\n",
    "in equation (4.4.24) is to emphasize the fact that the quality factor depends on the\n",
    "frequency.  \n",
    "\n",
    "For an inductor, modeled as shown in Fig 4.4.12 – solid lines, the quality factor is designated\n",
    "by the following equation:  \n",
    "\n",
    "\\begin{equation}\\tag{25}\n",
    "    Q_L(\\omega) = \\frac{\\omega L}{R_L}\n",
    "\\end{equation}"
   ]
  },
  {
   "cell_type": "markdown",
   "id": "22bbe1d3",
   "metadata": {},
   "source": [
    "For an exemplary coil characterized by the following parameters: $L=0.1\\mathrm{H}$ and $R_L=10\\Omega$, at the audio frequency of $f=1000\\mathrm{Hz}$, the quality factor is $Q_L(\\omega)\\approxeq62.8$."
   ]
  },
  {
   "cell_type": "code",
   "execution_count": 1,
   "id": "f7973473",
   "metadata": {},
   "outputs": [],
   "source": [
    "import numpy as np\n",
    "import matplotlib.pyplot as plt"
   ]
  },
  {
   "cell_type": "code",
   "execution_count": 2,
   "id": "a57449f4",
   "metadata": {},
   "outputs": [
    {
     "data": {
      "text/plain": [
       "62.83185307179586"
      ]
     },
     "execution_count": 2,
     "metadata": {},
     "output_type": "execute_result"
    }
   ],
   "source": [
    "2*np.pi*1000*0.1/10"
   ]
  },
  {
   "cell_type": "markdown",
   "id": "813b0834",
   "metadata": {},
   "source": [
    "A coil model denoted in Fig. 4.4.12 by solid lines is valid for low and medium frequencies of\n",
    "up to few megahertz. For high frequencies the parasitic capacitance between a coil terminals, denoted as '$C_L$', the so called stray capacitance, has to be taken into account, as denoted in Fig. 4.4.12 by\n",
    "the dashed line. A practical coil equivalent circuit has inductive character up to some\n",
    "frequency, called the resonant frequency (meaning of this notion is explained in the next\n",
    "section of this Chapter):  \n",
    "\n",
    "\\begin{equation}\\tag{26}\n",
    "    \\omega_\\mathrm{r}\\approxeq \\frac{1}{\\sqrt{LC_L}}\n",
    "\\end{equation}    "
   ]
  },
  {
   "cell_type": "markdown",
   "id": "5f7d600a",
   "metadata": {},
   "source": [
    "Above the resonant frequency the equivalent circuit reveals the capacitive character! For the\n",
    "exemplary coil and stray capacitance of $C_L= 0.1\\mathrm{pF}$, the resonant frequency is equal to $\\omega_\\mathrm{r}\\approxeq10^7 \\mathrm{rad}/\\mathrm{s}\\,\\implies\\,f_\\mathrm{r}\\approxeq1.6\\mathrm{MHz}$."
   ]
  },
  {
   "cell_type": "code",
   "execution_count": 3,
   "id": "ca2dec0d",
   "metadata": {},
   "outputs": [
    {
     "data": {
      "text/plain": [
       "(10000000.0, 1591549.4309189534)"
      ]
     },
     "execution_count": 3,
     "metadata": {},
     "output_type": "execute_result"
    }
   ],
   "source": [
    "omega_r = 1/np.sqrt(0.1*0.1e-12)\n",
    "f_r = omega_r/(2*np.pi)\n",
    "(omega_r, f_r)"
   ]
  },
  {
   "cell_type": "markdown",
   "id": "e0a173e4",
   "metadata": {},
   "source": [
    "Note that the proof for equation (26), along with a plot of the magnitude of the impedance of the examplary practical coil that is associated with said equation, can be found [here](Proof-4.4.26.ipynb)."
   ]
  },
  {
   "cell_type": "markdown",
   "id": "9bf6db2f",
   "metadata": {},
   "source": [
    "For a **practical capacitor**, first of all, a leakage resistance $R_C=R_\\text{leak}$ has to be taken into\n",
    "account. This resistance may be modeled by inserting a parallel resistor into the circuit model\n",
    "for a practical capacitor, as presented in Fig. 4.4.14.  \n",
    "\n",
    "![Fig-4.4.14](Figures/Fig-4.4.14.png)"
   ]
  },
  {
   "cell_type": "markdown",
   "id": "0cc41418",
   "metadata": {},
   "source": [
    "At first, model taking into account only this leakage resistance is considered. Via KCL,  \n",
    "\n",
    "\\begin{equation}\\tag{27}\n",
    "    I(j\\omega) = I_C(j\\omega) + I_R(j\\omega)\n",
    "\\end{equation}"
   ]
  },
  {
   "cell_type": "markdown",
   "id": "ebd5c62d",
   "metadata": {},
   "source": [
    "The phasor diagram is presented in Fig. 4.3.15a ($\\alpha_u=0^\\circ$ is assumed).  \n",
    "\n",
    "A practical coil equivalent impedance is:  \n",
    "\n",
    "$$ Z_C(j\\omega) = \\frac{1}{Y_C(j\\omega)} \\quad\\quad\\text{where }\\;Y_C(j\\omega) = G_C + j\\omega C = Y_C\\,\\angle\\!-\\!\\varphi_C $$"
   ]
  },
  {
   "cell_type": "markdown",
   "id": "2e56ccec",
   "metadata": {},
   "source": [
    "$$Y_C = \\sqrt{G_C^2 + \\omega^2C^2} \\quad\\quad\\text{and}\\quad\\quad -\\varphi_C = \\arcsin\\frac{\\omega C}{Y_C} = \\arccos\\frac{G_C}{Y_C}$$"
   ]
  },
  {
   "cell_type": "markdown",
   "id": "e98031b7",
   "metadata": {},
   "source": [
    "Thus,  \n",
    "\n",
    "\\begin{equation}\\tag{28}\n",
    "    Z_C(j\\omega) = \\frac{1}{Y_C}\\,\\angle\\varphi_C = \\frac{1}{Y_C^2}\\,\\big(G_C - j\\omega C\\big) \\quad\\implies\\quad Z_C(\\omega)=\\frac{1}{\\sqrt{G_C^2+\\omega^2C^2}}\n",
    "\\end{equation}"
   ]
  },
  {
   "cell_type": "markdown",
   "id": "deaf0d4b",
   "metadata": {},
   "source": [
    "Frequency characteristic of the magnitude is presented in Fig. 4.3.15b (solid line).  \n",
    "\n",
    "![Fig-4.4.15](Figures/Fig-4.4.15.png)"
   ]
  },
  {
   "cell_type": "markdown",
   "id": "eed32e08",
   "metadata": {},
   "source": [
    "For a capacitor, modeled as shown in Fig 4.4.14 – solid lines, the **quality factor** is designated\n",
    "by the following equation:  \n",
    "\n",
    "\\begin{equation}\\tag{29}\n",
    "    Q_C(\\omega) = \\frac{|B(\\omega)|}{G_C(\\omega)} = \\frac{\\omega C}{G_C}\n",
    "\\end{equation}"
   ]
  },
  {
   "cell_type": "markdown",
   "id": "1520ac53",
   "metadata": {},
   "source": [
    "As equation (29) implies, the higher the reactance of the practical coil equivalent and the lower the parallel (leaking) conductance, which corresponds to higher leaking resistance, the higher the **quality factor** of the practical capacitor."
   ]
  },
  {
   "cell_type": "markdown",
   "id": "8947374d",
   "metadata": {},
   "source": [
    "A capacitor quality factor is usually much greater than a coil quality factor, it is often assumed\n",
    "to be infinite. The reciprocal of $Q_C(\\omega)$ is called the dissipation factor $d_C(\\omega) = 1/Q_C(\\omega)$."
   ]
  },
  {
   "cell_type": "markdown",
   "id": "43027cdd",
   "metadata": {},
   "source": [
    "For an exemplary capacitor characterized by the following parameters: $C=1\\mu\\mathrm{F}$ and $R_C=5\\mathrm{M}\\Omega$ , at the audio frequency of $1000\\mathrm{Hz}$, the quality factor is $Q_C(\\omega)\\approxeq31400$.  "
   ]
  },
  {
   "cell_type": "code",
   "execution_count": 4,
   "id": "a961a539",
   "metadata": {},
   "outputs": [
    {
     "data": {
      "text/plain": [
       "31415.92653589793"
      ]
     },
     "execution_count": 4,
     "metadata": {},
     "output_type": "execute_result"
    }
   ],
   "source": [
    "f = 1000; omega = 2*np.pi*f; C = 1e-6; R_C = 5e6\n",
    "Q_C = omega*C*R_C\n",
    "Q_C"
   ]
  },
  {
   "cell_type": "markdown",
   "id": "b4671d62",
   "metadata": {},
   "source": [
    "A capacitor model denoted in Fig. 4.4.14 by solid lines is valid for low and medium\n",
    "frequencies. For high frequencies the parasitic inductance of connecting wires has to be\n",
    "taken into account, as denoted in Fig. 4.4.14 by dashed connections. A practical capacitor\n",
    "equivalent circuit has capacitive character up to some frequency, called the resonant\n",
    "frequency (meaning of this notion is explained in the following section):  \n",
    "\n",
    "\\begin{equation}\\tag{30}\n",
    "    \\omega_\\mathrm{r}\\approxeq\\frac{1}{\\sqrt{L_CC}}\n",
    "\\end{equation}"
   ]
  },
  {
   "cell_type": "markdown",
   "id": "3f671754",
   "metadata": {},
   "source": [
    "Above the resonant frequency the equivalent circuit reveals the inductive character! For the\n",
    "exemplary capacitor and parasitic inductance of $L_C=10 \\mathrm{nH}$, the resonant frequency is equal"
   ]
  },
  {
   "cell_type": "code",
   "execution_count": 5,
   "id": "d4ac26ec",
   "metadata": {},
   "outputs": [
    {
     "name": "stdout",
     "output_type": "stream",
     "text": [
      "omega_r = 1.000e+07rad/s and f_r = 1.592e+06Hz.\n"
     ]
    }
   ],
   "source": [
    "L_C = 10e-9; omega_r = 1/np.sqrt(L_C*C); f_r = omega_r/(2*np.pi)\n",
    "(omega_r/1e6, f_r/1e6)\n",
    "\n",
    "print(f'omega_r = {omega_r:.3e}rad/s and f_r = {f_r:.3e}Hz.')\n",
    "from IPython.display import Math"
   ]
  },
  {
   "cell_type": "markdown",
   "id": "b3f217f3",
   "metadata": {},
   "source": [
    "A circuit design should take this phenomenon into account and resonant frequencies of all\n",
    "used reactive elements, capacitors and coils, should be greater than the maximum operating\n",
    "frequency."
   ]
  },
  {
   "cell_type": "markdown",
   "id": "fd67397f",
   "metadata": {},
   "source": [
    "## Resonant Circuits\n",
    "Consider the two-terminal passive circuit that contains at least one inductor and at least one\n",
    "capacitor, connected to a sinusoidal generator of variable frequency, as presented in Fig.\n",
    "4.4.16.  \n",
    "\n",
    "![Fig-4.4.16](Figures/Fig-4.4.16.svg)"
   ]
  },
  {
   "cell_type": "markdown",
   "id": "6574091b",
   "metadata": {},
   "source": [
    "Frequency characteristics will be investigated, first for simple two-terminal RLC circuits built\n",
    "of three elements in series or parallel configuration, then for complex circuits. Phenomenon of\n",
    "resonance will be discussed."
   ]
  },
  {
   "cell_type": "markdown",
   "id": "7462200d",
   "metadata": {},
   "source": [
    "The term **resonance** reflects the condition that the source voltage $U(j\\omega)$ and current $I(j\\omega)$ are in phase, $\\varphi(\\omega) = \\alpha_u(\\omega) - \\alpha_i(\\omega)  = 0^\\circ$. The frequency at which this phenomenon occurs is called the **resonant frequency** $\\omega_\\mathrm{r}$. If $\\omega_\\mathrm{r}$ exists, then the circuit is a **resonant circuit**."
   ]
  },
  {
   "cell_type": "markdown",
   "id": "71f0e0dc",
   "metadata": {},
   "source": [
    "### Series-Resonant Circuit RLC\n",
    "The series RLC circuit is presented in Fig. 4.4.17. The circuit impedance\n",
    "(4.4.32)  \n",
    "\n",
    "\\begin{equation}\\tag{31}\n",
    "    U(j\\omega) = Z(j\\omega)I(j\\omega)\\quad\\quad\\text{where }\\;Z(j\\omega) = R + jX = R + j\\left(\\omega L - \\frac{1}{\\omega C}\\right)\n",
    "\\end{equation}\n",
    "consists of the fixed real part (resistance) and imaginary part (reactance) that varies with\n",
    "frequency. The frequency at which reactance vanishes and the impedance is at a minimum\n",
    "magnitude, the resonant frequency, is  "
   ]
  },
  {
   "cell_type": "markdown",
   "id": "52946b68",
   "metadata": {},
   "source": [
    "$$ \\omega_\\mathrm{r} L = \\frac{1}{\\omega_\\mathrm{r} C}$$"
   ]
  },
  {
   "cell_type": "markdown",
   "id": "98232ec8",
   "metadata": {},
   "source": [
    "\\begin{equation}\\tag{32}\n",
    "    \\omega_\\mathrm{r} ^2 = \\frac{1}{LC} \\quad\\implies \\quad \\omega_\\mathrm{r} = \\frac{1}{\\sqrt{LC}}\n",
    "\\end{equation}    "
   ]
  },
  {
   "cell_type": "markdown",
   "id": "4818a995",
   "metadata": {},
   "source": [
    "It is worth to observe, that this frequency coincides with the undamped resonant frequency\n",
    "(3.2.26c) of natural response. The reactance frequency characteristic is presented in Fig.\n",
    "4.4.18.  \n",
    "\n",
    "![Fig-4.4.17](Figures/Fig-4.4.17.svg)"
   ]
  },
  {
   "cell_type": "markdown",
   "id": "bc22cb51",
   "metadata": {},
   "source": [
    "![Fig-4.4.18](Figures/Fig-4.4.18.png)"
   ]
  },
  {
   "cell_type": "markdown",
   "id": "fbb8cfc8",
   "metadata": {},
   "source": [
    "Note that:  \n",
    "\n",
    "$$ X = X(\\omega) = \\omega L - \\frac{1}{\\omega C} = \\frac{\\omega LC - 1}{\\omega C}$$"
   ]
  },
  {
   "cell_type": "markdown",
   "id": "528b1f6d",
   "metadata": {},
   "source": [
    "and,\n",
    "$$ X'(\\omega) = \\frac{L}{\\omega} - C\\,\\frac{\\omega LC - 1}{\\omega^2C^2} = \\frac{1}{\\omega^2 C}$$"
   ]
  },
  {
   "cell_type": "markdown",
   "id": "d1619fd1",
   "metadata": {},
   "source": [
    "\\begin{equation}\\tag{M1a}\n",
    "    X'(\\omega_\\mathrm{r}) = L > 0\\,\\land\\,X(\\omega_\\mathrm{r}) = 0 \\quad\\implies\\quad X(\\omega_{<}) < 0 \\quad\\text{where }\\; 0< \\omega_{<} < \\omega_\\mathrm{r}\n",
    "\\end{equation}"
   ]
  },
  {
   "cell_type": "markdown",
   "id": "8f84a1f7",
   "metadata": {},
   "source": [
    "\\begin{equation}\\tag{M1b}\n",
    "    X'(\\omega_\\mathrm{r}) = L > 0\\,\\land\\,X(\\omega_\\mathrm{r}) = 0 \\quad\\implies\\quad X(\\omega_{>}) > 0 \\quad\\text{where }\\; \\omega_\\mathrm{r} < \\omega_{>}\n",
    "\\end{equation}"
   ]
  },
  {
   "cell_type": "markdown",
   "id": "76c9d443",
   "metadata": {},
   "source": [
    "* for DC input voltage ($\\omega=0$), reactance is an open-circuit,\n",
    "* for low frequencies $0 < \\omega < \\omega_\\mathrm{r}$, reactance is negative (capacitive),\n",
    "\t\\begin{equation}\\tag{34a}\n",
    "\t\tX(\\omega) = -\\frac{1}{\\omega C_\\mathrm{s}(\\omega)} = \\omega L - \\frac{1}{\\omega C} \\quad \\quad\\text{where }\\;0 < \\omega < \\omega_\\mathrm{r}\n",
    "\t\\end{equation}\n",
    "\twhere $C_\\mathrm{s}(\\omega)$ is the equivalent series capacitance,\n",
    "* for the resonant frequency $\\omega_\\mathrm{r}$ , reactance is zero (short-circuit) – circuit has resistive character,\n",
    "* for high frequencies, $\\omega_\\mathrm{r} < \\omega$ , reactance is positive (inductive),\n",
    "\t\\begin{equation}\\tag{34b}\n",
    "\t\tX(\\omega) = \\omega L_\\mathrm{s}(\\omega) = \\omega L - \\frac{1}{\\omega C}\n",
    "\t\\end{equation}\n",
    "\twhere $L_\\mathrm{s}(\\omega)$ is the equivalent series inductance,\n",
    "* for $\\omega = \\infty$ , reactance is an open-circuit."
   ]
  },
  {
   "cell_type": "markdown",
   "id": "33a9c652",
   "metadata": {},
   "source": [
    "The magnitude and phase characteristics of impedance are presented in Fig. 4.4.19.  \n",
    "\n",
    "![Fig-4.4.19](Figures/Fig-4.4.19.png)"
   ]
  },
  {
   "cell_type": "markdown",
   "id": "31c0f20b",
   "metadata": {},
   "source": [
    "To ellaborate on Fig-4.4.19:  \n",
    "\n",
    "$$ Z(\\omega) = \\sqrt{R^2+X^2(\\omega)}\\quad\\quad\\text{where }\\;X(\\omega) = \\omega L - \\frac{1}{\\omega C} = \\frac{\\omega^2LC-1}{\\omega C}$$"
   ]
  },
  {
   "cell_type": "markdown",
   "id": "dc0df33d",
   "metadata": {},
   "source": [
    "and,  \n",
    "\n",
    "$$ \\varphi = \\varphi(\\omega) = \\arcsin\\frac{X(\\omega)}{Z(\\omega)}$$"
   ]
  },
  {
   "cell_type": "markdown",
   "id": "87d8c7e6",
   "metadata": {},
   "source": [
    "Consider the input to this circuit to be its voltage $U(j\\omega)=U=\\text{const}$ and its\n",
    "output to be its current $I(j\\omega)$ . The magnitude of the current is given by:  \n",
    "\n",
    "\\begin{equation}\\tag{35}\n",
    "    I = I(\\omega) = \\frac{U}{Z(\\omega)} = \\frac{U}{\\sqrt{R^2 + X^2(\\omega)}}\\quad\\quad\\text{where }\\;X(\\omega)=\\omega L - \\frac{1}{\\omega C}\n",
    "\\end{equation}"
   ]
  },
  {
   "cell_type": "markdown",
   "id": "74e24dca",
   "metadata": {},
   "source": [
    "And, is normally plotted in relation to the resonant current.  Via the notion that,  \n",
    "\n",
    "$$ I_\\mathrm{r} = I(\\omega_\\mathrm{r}) = \\frac{U}{Z(\\omega_\\mathrm{r})} \\,\\land\\, Z(\\omega_\\mathrm{r}) = \\sqrt{R^2+X^2(\\omega_\\mathrm{r})} = R $$\n",
    "\n",
    "\\begin{equation}\\tag{36}\n",
    "    I_\\mathrm{r} = \\frac{U}{R}\n",
    "\\end{equation}"
   ]
  },
  {
   "cell_type": "markdown",
   "id": "2d08ca3b",
   "metadata": {},
   "source": [
    "The obtained gain curve is:  \n",
    "\n",
    "\\begin{equation}\\tag{37}\n",
    "    \\frac{I(\\omega)}{I_\\mathrm{r}} = \\frac{R}{Z(\\omega)} = \\frac{1}{\\sqrt{1+Q^2\\big(\\eta - 1/\\eta\\big)^2}}\n",
    "\\end{equation}"
   ]
  },
  {
   "cell_type": "markdown",
   "id": "0587b42f",
   "metadata": {},
   "source": [
    "is called the **resonant curve** and it is depicted in Fig. 4.4.20, for two values of $Q$, where $\\eta$\n",
    "is the **normalized frequency** and $Q$ is the **quality factor** of the series RLC circuit:  \n",
    "\n",
    "\\begin{equation}\\tag{38}\n",
    "    \\eta = \\frac{\\omega}{\\omega_\\mathrm{r}}\n",
    "\\end{equation}"
   ]
  },
  {
   "cell_type": "markdown",
   "id": "d1d0ce8d",
   "metadata": {},
   "source": [
    "\\begin{equation}\\tag{39}\n",
    "    Q = \\frac{1}{R}\\,\\sqrt{\\frac{L}{C}}\n",
    "\\end{equation}    "
   ]
  },
  {
   "cell_type": "markdown",
   "id": "d989725e",
   "metadata": {},
   "source": [
    "This curve can be also considered as the ratio of admittances.  \n",
    "\n",
    "\\begin{equation}\\tag{37a}\n",
    "    \\frac{Y(\\omega)}{Y_\\mathrm{r}} = \\frac{I(\\omega)}{I_\\mathrm{r}} = \\frac{R}{Z(\\omega)} = \\frac{1}{\\sqrt{1+Q^2\\big(\\eta-1/\\eta\\big)^2}}\n",
    "\\end{equation}    \n",
    "\n",
    "![Fig-4.4.20](Figures/Fig-4.4.20.png)"
   ]
  },
  {
   "cell_type": "markdown",
   "id": "9d00d6f2",
   "metadata": {},
   "source": [
    "As can be observed, a phenomenon of resonance makes a circuit frequency selective. To have\n",
    "a good measure of this selectivity, to measure sharpness of the resonant curve, term of quality\n",
    "factor (4.4.39) is used. Circuits with high quality factors are very frequency selective, and this\n",
    "implies low values of resistance $R$. Since practical inductors include significant winding\n",
    "resistance (e.g. the resistance of copper windings $R_\\mathrm{Cu}$), it is difficult and expensive to design high-$Q$ resonant circuits passively, that is, solely with RLC elements (active resonant circuits are not discussed).  \n",
    "\n",
    "In essence, $Q$ is a measure of the energy storage property of a circuit in relation to its energy\n",
    "dissipation property. It can be easily proved that  \n",
    "\n",
    "\\begin{equation}\\tag{39a}\n",
    "\tQ = 2\\pi\\,\\frac{\\text{maximum energy stored}}{\\text{total energy dissipated per cycle}} = 2\\pi\\,\\frac{\\max w_X}{TUI\\cos\\varphi}\n",
    "\\end{equation}"
   ]
  },
  {
   "cell_type": "markdown",
   "id": "6744b1cb",
   "metadata": {},
   "source": [
    "$$ Q = \\omega\\,\\frac{\\max w_X}{I^2R} \\quad\\implies\\quad \\max w_X = \\frac{I^2RQ}{\\omega} = \\frac{I^2}{\\omega}\\,\\sqrt{\\frac{L}{C}}$$"
   ]
  },
  {
   "cell_type": "markdown",
   "id": "f816c740",
   "metadata": {},
   "source": [
    "The proof for equation (39a):  Via equation (10.9) in [P.4.3.10](P.4.3.10-Bonus.ipynb#Reactance-Attributes) and equation (39a),  \n",
    "\n",
    "\\begin{equation}\\tag{M1}\n",
    "    Q = 2\\pi\\,\\frac{\\omega^2LC-1}{2T\\omega^2RC}\\,\\big(\\cos2\\varphi + 1\\big) = \\frac{\\omega^2LC-1}{2\\omega RC}\\,\\big(\\cos2\\varphi+1\\big)\n",
    "\\end{equation}"
   ]
  },
  {
   "cell_type": "markdown",
   "id": "a2f78d84",
   "metadata": {},
   "source": [
    "$$ = \\frac{\\omega^2LC-1}{\\omega RC}\\,\\sin^2\\varphi = \\frac{\\omega^2LC-1}{\\omega RC}\\,\\frac{X^2}{R^2 + X^2} = \\frac{X^3}{R\\big(R^2+X^2\\big)}$$"
   ]
  },
  {
   "cell_type": "markdown",
   "id": "b6959b2a",
   "metadata": {},
   "source": [
    "$$ R^2+X^2 = R^2 + \\frac{\\big(\\omega^2LC -1 \\big)^2}{\\omega^2C^2} = \\frac{(\\omega RC)^2 + \\big(\\omega^2LC - 1 \\big)^2}{\\omega^2C^2}$$"
   ]
  },
  {
   "cell_type": "markdown",
   "id": "88824b74",
   "metadata": {},
   "source": [
    "$$ Q = \\frac{\\big(\\omega^2LC-1 \\big)^3}{\\omega^3RC^3}\\,\\frac{\\omega^2C^2}{(\\omega RC)^2 + \\big(\\omega^2LC - 1 \\big)^2}$$"
   ]
  },
  {
   "cell_type": "markdown",
   "id": "d53b8c2b",
   "metadata": {},
   "source": [
    "$$ = \\frac{1}{\\omega RC}\\,\\frac{\\Big(\\big(\\omega^2LC \\big)^2  - 2\\omega^2LC+  1\\Big)\\big(\\omega^2LC-1\\big) }{(\\omega RC)^2 + \\big(\\omega^2LC \\big)^2  - 2\\omega^2LC+  1}$$"
   ]
  },
  {
   "cell_type": "code",
   "execution_count": 6,
   "id": "8a17e837",
   "metadata": {},
   "outputs": [],
   "source": [
    "import sympy as sp"
   ]
  },
  {
   "cell_type": "code",
   "execution_count": 7,
   "id": "ad262178",
   "metadata": {},
   "outputs": [],
   "source": [
    "omega, R, C, L = sp.symbols('omega, R, C, L')\n",
    "eq = (omega*R*C)**2 + (omega**2*L*C)**2 - 2*omega**2*L*C + 1\n",
    "_C = sp.solve(eq, C)"
   ]
  },
  {
   "cell_type": "code",
   "execution_count": 8,
   "id": "82978fd2",
   "metadata": {},
   "outputs": [
    {
     "data": {
      "text/latex": [
       "$\\displaystyle \\frac{1}{\\omega \\left(L \\omega - i R\\right)}$"
      ],
      "text/plain": [
       "1/(omega*(L*omega - I*R))"
      ]
     },
     "execution_count": 8,
     "metadata": {},
     "output_type": "execute_result"
    }
   ],
   "source": [
    "_C[0]"
   ]
  },
  {
   "cell_type": "markdown",
   "id": "6bcbcd44",
   "metadata": {},
   "source": [
    "Now let $H$ be defined as:  \n",
    "\n",
    "$$ H:=H(\\omega):=\\eta - \\frac{1}{\\eta} = \\frac{\\omega^2-\\omega_\\mathrm{r}^2}{\\omega\\omega_\\mathrm{r}}$$"
   ]
  },
  {
   "cell_type": "markdown",
   "id": "cdd0c4c3",
   "metadata": {},
   "source": [
    "$$ H'(\\omega) = \\frac{1}{\\omega_\\mathrm{r}} + \\frac{\\omega_\\mathrm{r}}{\\omega^2} = \\frac{\\omega^2 + \\omega_\\mathrm{r}^2}{\\omega_\\mathrm{r}\\omega^2}$$"
   ]
  },
  {
   "cell_type": "markdown",
   "id": "971f620e",
   "metadata": {},
   "source": [
    "Differentiating throughout equation (37a) gives:  \n",
    "\n",
    "$$ \\frac{I'(\\omega)}{I_\\mathrm{r}} = -0.5\\,\\frac{2Q^2H(\\omega)H'(\\omega)}{\\sqrt{\\big(1+Q^2H^2\\big)^3}}$$"
   ]
  },
  {
   "cell_type": "markdown",
   "id": "a4be0814",
   "metadata": {},
   "source": [
    "Via equation (37a),  \n",
    "\n",
    "$$ 1 + Q^2H^2 = \\frac{R^2 + X^2}{R^2} \\quad\\implies\\quad Q^2H^2 = \\frac{X^2}{R^2}$$"
   ]
  },
  {
   "cell_type": "markdown",
   "id": "db62f3d0",
   "metadata": {},
   "source": [
    "\\begin{equation}\\tag{M2}\n",
    "    Q = \\frac{X}{RH} = \\frac{X\\omega\\omega_\\mathrm{r}}{R\\big(\\omega^2 - \\omega_\\mathrm{r}^2\\big)}\n",
    "\\end{equation}    "
   ]
  },
  {
   "cell_type": "markdown",
   "id": "b8ad6a5e",
   "metadata": {},
   "source": [
    "Recall that:  \n",
    "\n",
    "$$ X = \\frac{\\omega^2LC - 1}{\\omega C}$$"
   ]
  },
  {
   "cell_type": "markdown",
   "id": "81389c45",
   "metadata": {},
   "source": [
    "Via the above equation and equation (M2),  \n",
    "\n",
    "\\begin{equation}\\tag{M3}\n",
    "    Q = \\frac{\\big(\\omega^2LC - 1\\big)\\omega_\\mathrm{r}}{RC\\big( \\omega^2 - \\omega_\\mathrm{r}^2\\big)}\n",
    "\\end{equation}"
   ]
  },
  {
   "cell_type": "markdown",
   "id": "66ae09ee",
   "metadata": {},
   "source": [
    "Via equations (32) and (M3),  \n",
    "\n",
    "$$ RC\\big(\\omega^2 - \\omega_\\mathrm{r}^2\\big) = R\\,\\frac{\\omega^2LC-1}{L}$$"
   ]
  },
  {
   "cell_type": "markdown",
   "id": "43e43e1f",
   "metadata": {},
   "source": [
    "Thus,  \n",
    "\n",
    "$$ Q = \\frac{L\\omega_\\mathrm{r}}{R} = R\\,\\sqrt{\\frac{L}{C}}$$"
   ]
  },
  {
   "cell_type": "markdown",
   "id": "24d44822",
   "metadata": {},
   "source": [
    "To measure the width of the frequency band within which the circuit is behaving in near-\n",
    "resonant fashion, the term of bandwidth $\\Delta \\omega$ is defined.  \n",
    "\n",
    "The circuit **bandwidth** is the range of frequencies that lie between two frequencies, $\\omega_\\mathrm{u}$ and $\\omega_\\mathrm{l}$, where the magnitude of the gain is equal to $1/\\sqrt{2}$.\n",
    "\n",
    "The gain of $1/\\sqrt{2}$  corresponds to the power ratio of $1/2$.  \n",
    "\n",
    "\\begin{equation}\\tag{40}\n",
    "    \\frac{P(\\omega_\\mathrm{u,l})}{P_\\mathrm{r}} = \\frac{I^2(\\omega_\\mathrm{u,l})R}{I_\\mathrm{r}^2R} = 0.5 \\quad\\implies\\quad \\frac{I(\\omega_\\mathrm{u,l})}{I_\\mathrm{r}} = \\frac{1}{\\sqrt{2}}\n",
    "\\end{equation}"
   ]
  },
  {
   "cell_type": "markdown",
   "id": "72898579",
   "metadata": {},
   "source": [
    "Let $\\omega:=\\omega_\\mathrm{u,l}$.  Via squaring throughout the equation obtained via equations (40) and (37a),  \n",
    "\n",
    "$$ 0.5 = \\frac{1}{1+Q^2H^2(\\omega)} \\quad\\implies\\quad 1+Q^2H^2(\\omega) = 2 \\quad\\implies\\quad QH(\\omega) = \\pm1$$"
   ]
  },
  {
   "cell_type": "markdown",
   "id": "8de32f62",
   "metadata": {},
   "source": [
    "\\begin{equation}\\tag{M4}\n",
    "    \\text{a: };QH(\\omega_\\mathrm{u}) = 1 \\quad\\quad\\text{and}\\quad\\quad\\text{b: }\\;QH(\\omega_\\mathrm{l}) = -1\n",
    "\\end{equation}"
   ]
  },
  {
   "cell_type": "markdown",
   "id": "9e98a33e",
   "metadata": {},
   "source": [
    "Which gives us two quadratic equations:  \n",
    "\n",
    "$$ H(\\omega_\\mathrm{u}) = \\frac{\\omega_\\mathrm{u}^2-\\omega_\\mathrm{r}^2}{\\omega_\\mathrm{u}\\omega_\\mathrm{r}} = \\frac{1}{Q} \\quad\\implies\\quad \\omega_\\mathrm{u}^22 - \\omega_\\mathrm{r}^2 = \\frac{\\omega_\\mathrm{u}\\omega_\\mathrm{r}}{Q}$$"
   ]
  },
  {
   "cell_type": "markdown",
   "id": "6c0a52e0",
   "metadata": {},
   "source": [
    "\\begin{equation}\\tag{M4a}\n",
    "    \\omega_\\mathrm{u}^2 - \\frac{\\omega_\\mathrm{u}\\omega_\\mathrm{r}}{Q} - \\omega_\\mathrm{r}^2 = 0\n",
    "\\end{equation}"
   ]
  },
  {
   "cell_type": "markdown",
   "id": "1bdfe7fd",
   "metadata": {},
   "source": [
    "and,  \n",
    "\n",
    "$$ H(\\omega_\\mathrm{l}) = \\frac{\\omega_\\mathrm{l}^2-\\omega_\\mathrm{r}^2}{\\omega_\\mathrm{l}\\omega_\\mathrm{r}} = -\\frac{1}{Q} \\quad\\implies\\quad \\omega_\\mathrm{l}^2 - \\omega_\\mathrm{r}^2 = -\\frac{\\omega_\\mathrm{l}\\omega_\\mathrm{r}}{Q}$$\n",
    "\n",
    "\\begin{equation}\\tag{M4b}\n",
    "    \\omega_\\mathrm{l}^2 + \\frac{\\omega_\\mathrm{l}\\omega_\\mathrm{r}}{Q} - \\omega_\\mathrm{r}^2 = 0\n",
    "\\end{equation}"
   ]
  },
  {
   "cell_type": "code",
   "execution_count": 9,
   "id": "d4374ce1",
   "metadata": {},
   "outputs": [],
   "source": [
    "Q, omega_r = sp.symbols('Q omega_r')\n",
    "M4b = omega**2 + omega*omega_r/Q - omega_r**2\n",
    "omega_l = sp.solve(M4b, omega)"
   ]
  },
  {
   "cell_type": "code",
   "execution_count": 10,
   "id": "627ccb76",
   "metadata": {},
   "outputs": [
    {
     "data": {
      "text/latex": [
       "$\\displaystyle \\frac{\\omega_{r} \\left(\\sqrt{4 Q^{2} + 1} - 1\\right)}{2 Q}$"
      ],
      "text/plain": [
       "omega_r*(sqrt(4*Q**2 + 1) - 1)/(2*Q)"
      ]
     },
     "execution_count": 10,
     "metadata": {},
     "output_type": "execute_result"
    }
   ],
   "source": [
    "omega_l[0]"
   ]
  },
  {
   "cell_type": "code",
   "execution_count": 11,
   "id": "7e5c1bcd",
   "metadata": {},
   "outputs": [
    {
     "data": {
      "text/latex": [
       "$\\displaystyle - \\frac{\\omega_{r} \\left(\\sqrt{4 Q^{2} + 1} + 1\\right)}{2 Q}$"
      ],
      "text/plain": [
       "-omega_r*(sqrt(4*Q**2 + 1) + 1)/(2*Q)"
      ]
     },
     "execution_count": 11,
     "metadata": {},
     "output_type": "execute_result"
    }
   ],
   "source": [
    "omega_l[1]"
   ]
  },
  {
   "cell_type": "markdown",
   "id": "232a2c39",
   "metadata": {},
   "source": [
    "Since the radian frequency must be positive,  \n",
    "\n",
    "\\begin{equation}\\tag{M4b.1}\n",
    "    \\omega_\\mathrm{l} = \\frac{\\omega_{r} \\left(\\sqrt{4 Q^{2} + 1} - 1\\right)}{2 Q}\n",
    "\\end{equation}"
   ]
  },
  {
   "cell_type": "code",
   "execution_count": 12,
   "id": "76051d24",
   "metadata": {},
   "outputs": [],
   "source": [
    "M4a = omega**2 - omega*omega_r/Q - omega_r**2\n",
    "omega_u = sp.solve(M4a, omega)"
   ]
  },
  {
   "cell_type": "code",
   "execution_count": 13,
   "id": "773f2265",
   "metadata": {},
   "outputs": [
    {
     "data": {
      "text/latex": [
       "$\\displaystyle \\frac{\\omega_{r} \\left(1 - \\sqrt{4 Q^{2} + 1}\\right)}{2 Q}$"
      ],
      "text/plain": [
       "omega_r*(1 - sqrt(4*Q**2 + 1))/(2*Q)"
      ]
     },
     "execution_count": 13,
     "metadata": {},
     "output_type": "execute_result"
    }
   ],
   "source": [
    "omega_u[0]"
   ]
  },
  {
   "cell_type": "code",
   "execution_count": 14,
   "id": "93f451ad",
   "metadata": {},
   "outputs": [
    {
     "data": {
      "text/latex": [
       "$\\displaystyle \\frac{\\omega_{r} \\left(\\sqrt{4 Q^{2} + 1} + 1\\right)}{2 Q}$"
      ],
      "text/plain": [
       "omega_r*(sqrt(4*Q**2 + 1) + 1)/(2*Q)"
      ]
     },
     "execution_count": 14,
     "metadata": {},
     "output_type": "execute_result"
    }
   ],
   "source": [
    "omega_u[1]"
   ]
  },
  {
   "cell_type": "markdown",
   "id": "7ec1acc7",
   "metadata": {},
   "source": [
    "And,  \n",
    "\n",
    "\\begin{equation}\\tag{M4a.2}\n",
    "    \\omega_\\mathrm{u} = \\frac{\\omega_{r} \\left(\\sqrt{4 Q^{2} + 1} + 1\\right)}{2 Q}\n",
    "\\end{equation}"
   ]
  },
  {
   "cell_type": "markdown",
   "id": "6fcf3680",
   "metadata": {},
   "source": [
    "Via equations (M4a.2) and (M4b.1),  \n",
    "\n",
    "\\begin{equation}\\tag{42}\n",
    "    \\Delta \\omega = \\frac{\\omega_\\mathrm{r}}{Q} = \\frac{R}{\\sqrt{LC}}\\,\\frac{\\sqrt{C}}{\\sqrt{L}} = \\frac{R}{L}\n",
    "\\end{equation}"
   ]
  },
  {
   "cell_type": "markdown",
   "id": "accec1f3",
   "metadata": {},
   "source": [
    "It is worth to emphasize, that at the resonant frequency, the magnitude of the coil and the capacitor\n",
    "voltages is the same.  \n",
    "\n",
    "\\begin{equation}\\tag{43}\n",
    "    U_L(\\omega_\\mathrm{r}) = \\omega_\\mathrm{r}LI_\\mathrm{r} = U_C(\\omega_\\mathrm{r}) = \\frac{1}{\\omega_\\mathrm{r}C}\\,I_\\mathrm{r}\n",
    "\\end{equation}"
   ]
  },
  {
   "cell_type": "markdown",
   "id": "ce9a4858",
   "metadata": {},
   "source": [
    "Then, another expression for the quality factor can be formulated.  \n",
    "\n",
    "\\begin{equation}\\tag{44}\n",
    "\tQ = \\frac{U_L(\\omega_\\mathrm{r})}{U(\\omega)} = \\frac{U_C(\\omega_\\mathrm{r})}{U(\\omega)} = \\frac{\\omega_\\mathrm{r}L}{R} = \\frac{1}{\\omega_\\mathrm{r}CR}\n",
    "\\end{equation}"
   ]
  },
  {
   "cell_type": "markdown",
   "id": "ad850dc3",
   "metadata": {},
   "source": [
    "The proof for equation (44):  \n",
    "\n",
    "$$ I_\\mathrm{r} = \\frac{U}{R} \\,\\land \\, U_L(\\omega_\\mathrm{r}) = \\omega_\\mathrm{r}LI_\\mathrm{r} \\quad\\implies\\quad U_L(\\omega_\\mathrm{r}) = \\omega_\\mathrm{r}L\\,\\frac{U}{R}$$"
   ]
  },
  {
   "cell_type": "markdown",
   "id": "019c8b38",
   "metadata": {},
   "source": [
    "$$U_L(\\omega_\\mathrm{r}) = \\omega_\\mathrm{r}L\\,\\frac{U}{R} \\,\\land\\, Q=\\frac{U_L(\\omega_\\mathrm{r})}{U}\\quad\\implies\\quad Q = \\frac{\\omega_\\mathrm{r}L}{R} $$"
   ]
  },
  {
   "cell_type": "markdown",
   "id": "90ee9485",
   "metadata": {},
   "source": [
    "The frequency characteristics of magnitudes of coil and capacitor voltages are presented in\n",
    "Fig. 4.4.21.  \n",
    "\n",
    "![Fig-4.4.21](Figures/Fig-4.4.21.png)"
   ]
  },
  {
   "cell_type": "markdown",
   "id": "675661b0",
   "metadata": {},
   "source": [
    "We attempt to ellaborate on Fig-4.4.21 [here](Fig-4-4-21.ipynb)."
   ]
  },
  {
   "cell_type": "markdown",
   "id": "27ab82d4",
   "metadata": {},
   "source": [
    "For low values of $Q$, the voltages do not exceed the supply voltage. For larger values, the\n",
    "voltages exceed the supply voltage, as presented in Fig. 4.4.21. For even larger values of $Q$,\n",
    "practically, for $Q>10$, $\\omega_{C\\max}=\\omega_{L\\max}=\\omega_\\mathrm{r}$ and $U_\\max = U_L(\\omega_\\mathrm{r})=U_C(\\omega_\\mathrm{r}) = UQ$! The coil or capacitor resonant voltage significantly exceeds the supply voltage and this effect is called the **resonance overvoltage**.\n",
    "Phasor diagrams for three frequencies:\n",
    "* $\\omega_1 = 0.5\\omega_\\mathrm{r}$\n",
    "* $\\omega_2 = \\omega_\\mathrm{r}$\n",
    "* $\\omega_3=2\\omega_\\mathrm{r}$\n",
    "* $Q=2/3$  \n",
    "\n",
    "are presented in Fig. 4.4.22."
   ]
  },
  {
   "cell_type": "markdown",
   "id": "9f8f89cd",
   "metadata": {},
   "source": [
    "![Fig-4.4.22](Figures/Fig-4.4.22.png)"
   ]
  },
  {
   "cell_type": "markdown",
   "id": "ab75421f",
   "metadata": {},
   "source": [
    "Recall the figure of the circuit that the above phasor diagrams model.  \n",
    "\n",
    "![Fig-4.4.17](Figures/Fig-4.4.17.png)"
   ]
  },
  {
   "cell_type": "markdown",
   "id": "3b7e2a49",
   "metadata": {},
   "source": [
    "To ellaborate on figure 4.4.22:  \n",
    "\n",
    "$$ Q = \\frac{2}{3} = \\frac{1}{R}\\,\\sqrt{\\frac{L}{C}} \\quad\\implies\\quad R = \\frac{3}{2}\\,\\sqrt{\\frac{L}{C}} \\quad\\text{and}\\quad C = \\frac{9L}{4R^2}\\quad\\text{and}\\quad L = \\frac{4R^2C}{9}$$"
   ]
  },
  {
   "cell_type": "markdown",
   "id": "12904249",
   "metadata": {},
   "source": [
    "\\begin{equation}\\tag{22.1,2}\n",
    "    \\text{1: }\\;I(\\omega_2) = I_\\mathrm{r} = \\frac{U}{R} \\quad\\quad\\text{and}\\quad\\quad \\text{2: }\\;U_L(\\omega_2) = \\omega_\\mathrm{r} L I_\\mathrm{r} = \\sqrt{\\frac{L}{C}}\\,\\frac{U}{R} = UQ = \\frac{2}{3}\\,U\n",
    "\\end{equation}"
   ]
  },
  {
   "cell_type": "markdown",
   "id": "7882b200",
   "metadata": {},
   "source": [
    "\\begin{equation}\\tag{22.3}\n",
    "    U_C(\\omega_2) = \\frac{I_\\mathrm{r}}{\\omega_2 C} = \\frac{U}{R}\\,\\frac{\\sqrt{LC}}{C} = UQ = \\frac{2}{3}\\,U\n",
    "\\end{equation}"
   ]
  },
  {
   "cell_type": "markdown",
   "id": "87fc4ab6",
   "metadata": {},
   "source": [
    "\\begin{equation}\\tag{22.4}\n",
    "    U_R(\\omega_2) = RI_\\mathrm{r} = U\n",
    "\\end{equation}"
   ]
  },
  {
   "cell_type": "markdown",
   "id": "41b78780",
   "metadata": {},
   "source": [
    "$$I(\\omega_1) = I(0.5\\omega_2) = \\frac{U}{Z(0.5\\omega_2)}$$"
   ]
  },
  {
   "cell_type": "markdown",
   "id": "ed4aeb54",
   "metadata": {},
   "source": [
    "$$ Z(0.5\\omega_2) = \\sqrt{R^2+X^2(0.5\\omega_2)} \\quad\\quad\\text{and}\\quad\\quad X(0.5\\omega_2) = 0.5\\,\\sqrt{\\frac{L}{C}} - 2\\,\\sqrt{\\frac{L}{C}} \\quad\\implies\\quad X^2(\\omega_1) = \\frac{9}{4}\\,\\frac{L}{C}$$"
   ]
  },
  {
   "cell_type": "markdown",
   "id": "8d91db1a",
   "metadata": {},
   "source": [
    "$$ X^2(\\omega_1) = (1.5Q)^2R^2$$"
   ]
  },
  {
   "cell_type": "markdown",
   "id": "1f4240a4",
   "metadata": {},
   "source": [
    "Via the above equation and the fact that $Q=2/3$,  \n",
    "\n",
    "$$ X^2(\\omega_1) = R^2$$"
   ]
  },
  {
   "cell_type": "markdown",
   "id": "138cb13f",
   "metadata": {},
   "source": [
    "Thus,  \n",
    "\n",
    "$$ R^2 + X^2(\\omega_1) = 2R^2 \\quad\\implies\\quad Z(\\omega_1) = \\sqrt{2}R \\quad\\implies\\quad I(\\omega_1) = \\frac{U}{\\sqrt{2}R}$$"
   ]
  },
  {
   "cell_type": "markdown",
   "id": "992b2bb6",
   "metadata": {},
   "source": [
    "\\begin{equation}\\tag{22.5}\n",
    "    I(\\omega_1)=\\frac{U}{\\sqrt{2}R}\n",
    "\\end{equation}"
   ]
  },
  {
   "cell_type": "markdown",
   "id": "41e0304f",
   "metadata": {},
   "source": [
    "$$ \\varphi(\\omega_1) = \\arccos\\frac{R}{Z(\\omega_1)} = \\arccos \\frac{1}{\\sqrt{2}} = \\pm 45^\\circ$$"
   ]
  },
  {
   "cell_type": "markdown",
   "id": "adfe12d6",
   "metadata": {},
   "source": [
    "$$ \\varphi(\\omega_1) = \\arcsin \\frac{X(\\omega_1)}{Z(\\omega_1)} = -\\arcsin \\frac{1}{\\sqrt{2}} = \\{-45^\\circ, 180^\\circ + 45^\\circ\\}$$"
   ]
  },
  {
   "cell_type": "markdown",
   "id": "80133ce7",
   "metadata": {},
   "source": [
    "Thus,  \n",
    "\n",
    "\\begin{equation}\\tag{22.6}\n",
    "    \\varphi(\\omega_1) = -45^\\circ\n",
    "\\end{equation}"
   ]
  },
  {
   "cell_type": "markdown",
   "id": "94a872da",
   "metadata": {},
   "source": [
    "\\begin{equation}\\tag{22.7}\n",
    "    U_L(\\omega_1) = \\omega_1 L I(\\omega_1) = 0.5\\,\\sqrt{\\frac{L}{C}}\\,\\frac{U}{\\sqrt{2}R} = \\frac{U}{2\\sqrt{2}}\\,Q = \\frac{U}{3\\sqrt{2}}\n",
    "\\end{equation}"
   ]
  },
  {
   "cell_type": "markdown",
   "id": "bf0b7998",
   "metadata": {},
   "source": [
    "\\begin{equation}\\tag{22.7}\n",
    "    \\alpha_i(\\omega_1) = \\alpha_u(\\omega_1) - \\varphi(\\omega_1) = -\\varphi(\\omega_1) = 45^\\circ\n",
    "\\end{equation}"
   ]
  },
  {
   "cell_type": "markdown",
   "id": "28e12025",
   "metadata": {},
   "source": [
    "\\begin{equation}\\tag{22.8}\n",
    "    \\alpha_{uL}(\\omega_1) = 90^\\circ + 45^\\circ = 135^\\circ\n",
    "\\end{equation}"
   ]
  },
  {
   "cell_type": "markdown",
   "id": "79a6c2f4",
   "metadata": {},
   "source": [
    "\\begin{equation}\\tag{22.9}\n",
    "    \\alpha_{uC}(\\omega_1) = 45^\\circ - 90^\\circ = -45^\\circ\n",
    "\\end{equation}"
   ]
  },
  {
   "cell_type": "markdown",
   "id": "6e1c2452",
   "metadata": {},
   "source": [
    "\\begin{equation}\\tag{22.10}\n",
    "    \\alpha_{uR} = 45^\\circ\n",
    "\\end{equation}"
   ]
  },
  {
   "cell_type": "markdown",
   "id": "4b038add",
   "metadata": {},
   "source": [
    "$$ Z(\\omega_3) = \\sqrt{R^2+X^2(\\omega_3)} \\quad\\text{and}\\quad X(\\omega_3) = 2\\,\\sqrt{\\frac{L}{C}} - 0.5\\,\\sqrt{\\frac{L}{C}} = \\frac{3}{2}\\,\\sqrt{\\frac{L}{C}} = \\frac{3}{2}\\,QR = R$$"
   ]
  },
  {
   "cell_type": "markdown",
   "id": "bba45114",
   "metadata": {},
   "source": [
    "$$ Z(\\omega_3) = \\sqrt{2}R \\quad\\quad\\text{and}\\quad\\quad \\varphi(\\omega_3) = 45^\\circ$$"
   ]
  },
  {
   "cell_type": "markdown",
   "id": "d0d61f63",
   "metadata": {},
   "source": [
    "\\begin{equation}\\tag{22.11}\n",
    "    \\text{a: }\\;I(\\omega_3) = \\frac{U}{Z(\\omega_3)} = \\frac{U}{\\sqrt{2}R} \\quad\\quad\\text{and}\\quad\\quad \\text{b: }\\;\\alpha_i(\\omega_3) = -45^\\circ\n",
    "\\end{equation}"
   ]
  },
  {
   "cell_type": "markdown",
   "id": "3b2b202e",
   "metadata": {},
   "source": [
    "\\begin{equation}\\tag{22.12}\n",
    "    \\text{a: }\\;U_L(\\omega_3) = 2\\,\\sqrt{\\frac{L}{C}} \\frac{U}{\\sqrt{2}R} = UQ\\sqrt{2} = \\frac{2\\sqrt{2}U}{3}\\quad\\quad\\text{and}\\quad\\quad \\text{b: }\\;\\alpha_{uL}(\\omega_3) = 45^\\circ\n",
    "\\end{equation}"
   ]
  },
  {
   "cell_type": "markdown",
   "id": "ff79dc81",
   "metadata": {},
   "source": [
    "\\begin{equation}\\tag{22.13}\n",
    "    \\text{a: }\\;U_C(\\omega_3) = \\frac{UQ}{2\\sqrt{2}} = \\frac{U}{3\\sqrt{2}}  \\quad\\quad\\text{and}\\quad\\quad \\text{b: }\\;\\alpha_{uC}(\\omega_3) = -135^\\circ\n",
    "\\end{equation}"
   ]
  },
  {
   "cell_type": "markdown",
   "id": "04fe54c6",
   "metadata": {},
   "source": [
    "\\begin{equation}\\tag{22.14}\n",
    "    \\text{a: }\\;U_R(\\omega_3) = RI(\\omega_3) = \\frac{U}{\\sqrt{2}} \\quad\\quad\\text{and}\\quad\\quad \\text{b: }\\;\\alpha_{uR}(\\omega_3) = -45^\\circ\n",
    "\\end{equation}"
   ]
  },
  {
   "cell_type": "markdown",
   "id": "ac93a5da",
   "metadata": {},
   "source": [
    "### Example 4.4.1\n",
    "For the given parameters of RLC series circuit: $R=10\\Omega$, $L=1\\mathrm{H}$, $C=1\\mu\\mathrm{F}$ and the input voltage of $U=1\\mathrm{V}$, find magnitude of the coil/capacitor voltage at the resonant frequency."
   ]
  },
  {
   "cell_type": "markdown",
   "id": "0838c3a6",
   "metadata": {},
   "source": [
    "$$ Z(\\omega_\\mathrm{r}) = \\sqrt{R^2+X^2(\\omega_\\mathrm{r})} \\quad \\quad\\text{where }\\;X(\\omega_\\mathrm{r}) = 0$$"
   ]
  },
  {
   "cell_type": "markdown",
   "id": "9fca5b21",
   "metadata": {},
   "source": [
    "Thus,  \n",
    "\n",
    "$$ Z(\\omega_\\mathrm{r}) = R \\quad\\quad\\text{and}\\quad\\quad I_\\mathrm{r} = \\frac{U}{R} = \\frac{1\\mathrm{V}}{10\\Omega} = 0.1\\mathrm{A}$$"
   ]
  },
  {
   "cell_type": "markdown",
   "id": "0a0d3d3d",
   "metadata": {},
   "source": [
    "$$ U_L(\\omega_\\mathrm{r}) = U_C(\\omega_\\mathrm{r}) = \\omega_\\mathrm{r} L I_\\mathrm{r} = \\sqrt{\\frac{L}{C}}\\,\\frac{U}{R} = 100\\mathrm{V}$$"
   ]
  },
  {
   "cell_type": "code",
   "execution_count": 15,
   "id": "5d4b4df4",
   "metadata": {},
   "outputs": [
    {
     "data": {
      "text/plain": [
       "100.0"
      ]
     },
     "execution_count": 15,
     "metadata": {},
     "output_type": "execute_result"
    }
   ],
   "source": [
    "R=10; L=1; C=1e-6; U=1\n",
    "I_r = U/R\n",
    "U_Lr = np.sqrt(L/C)*I_r\n",
    "U_Lr"
   ]
  },
  {
   "cell_type": "code",
   "execution_count": 16,
   "id": "c5711fe8",
   "metadata": {},
   "outputs": [
    {
     "data": {
      "text/plain": [
       "1000.0"
      ]
     },
     "execution_count": 16,
     "metadata": {},
     "output_type": "execute_result"
    }
   ],
   "source": [
    "omega_r = 1/np.sqrt(L*C)\n",
    "omega_r"
   ]
  },
  {
   "cell_type": "code",
   "execution_count": 17,
   "id": "a31233e4",
   "metadata": {},
   "outputs": [
    {
     "data": {
      "text/plain": [
       "100.0"
      ]
     },
     "execution_count": 17,
     "metadata": {},
     "output_type": "execute_result"
    }
   ],
   "source": [
    "Q = np.sqrt(L/C)/R\n",
    "Q"
   ]
  },
  {
   "cell_type": "markdown",
   "id": "aa2dff9a",
   "metadata": {},
   "source": [
    "### Parallel-resonant circuit RLC\n",
    "The parallel RLC circuit is presented in Fig. 4.4.23. The circuit admittance  \n",
    "\n",
    "\\begin{equation}\\tag{45}\n",
    "\tY(j\\omega) = G+j\\left(\\omega C - \\frac{1}{\\omega L}\\right) = G + jB(\\omega)\n",
    "\\end{equation}"
   ]
  },
  {
   "cell_type": "markdown",
   "id": "91ca9b14",
   "metadata": {},
   "source": [
    "consists of the fixed real part (conductance) and imaginary part (susceptance) that varies with\n",
    "frequency. The frequency at which susceptance vanishes and the admittance is at a minimum\n",
    "magnitude, the resonant frequency is the same as in the series circuit (4.4.33). The\n",
    "susceptance frequency characteristic is presented in Fig. 4.4.24."
   ]
  },
  {
   "cell_type": "markdown",
   "id": "8f7dd617",
   "metadata": {},
   "source": [
    "![Fig-4.4.23](Figures/Fig-4.4.23.png)"
   ]
  },
  {
   "cell_type": "markdown",
   "id": "d40b2496",
   "metadata": {},
   "source": [
    "![Fig-4.4.24](Figures/Fig-4.4.24.png)"
   ]
  },
  {
   "cell_type": "markdown",
   "id": "687d7fbd",
   "metadata": {},
   "source": [
    "To ellaborate on the **susceptance**:  \n",
    "\n",
    "$$ B(\\omega) = \\frac{\\omega^2LC - 1}{\\omega L} \\quad\\quad\\text{and}\\quad\\quad I_B(\\omega) = B(\\omega)U_B(\\omega)$$"
   ]
  },
  {
   "cell_type": "markdown",
   "id": "9da76a3e",
   "metadata": {},
   "source": [
    "* when $\\omega=0$ (i.e. for DC input signals) the susceptance is a short-circuit.  \n",
    "* when the frequency is relatively low or when $\\omega < \\omega_\\mathrm{r}$, the susceptance has inductive character (is negative).  \n",
    "\n",
    "    \\begin{equation}\\tag{46a}\n",
    "        B(\\omega) = -\\frac{1}{\\omega L_\\mathrm{p}(\\omega)} = \\omega C  -\\frac{1}{\\omega L}\n",
    "    \\end{equation}\n",
    "\n",
    "    where $L_\\mathrm{p}(\\omega)$ is the equivalent parallel inductance.\n",
    "\n",
    "* at resonance (i.e. when $\\omega = \\omega_\\mathrm{r}$, the susceptance is an open-circuit.\n",
    "* when the frequency is relatively high or when $\\omega>\\omega_\\mathrm{r}$, the susceptance has capacitive character (is positive).  \n",
    "\n",
    "    \\begin{equation}\\tag{46b}\n",
    "        B(\\omega) = \\omega C_\\mathrm{p}(\\omega) = \\omega C - \\frac{1}{\\omega L}\n",
    "    \\end{equation}\n",
    "\n",
    "    where $C_\\mathrm{p}(\\omega)$ is the equivalent parallel capacitance.\n",
    "* and, when $\\omega=\\infty$, the susceptance is, once again, a short-circuit."
   ]
  },
  {
   "cell_type": "markdown",
   "id": "bfea32e6",
   "metadata": {},
   "source": [
    "Magnitude and phase characteristics of admittance are presented in Fig. 4.4.25.  \n",
    "\n",
    "![Fig-4.4.25](Figures/Fig-4.4.25.png)"
   ]
  },
  {
   "cell_type": "markdown",
   "id": "c4277974",
   "metadata": {},
   "source": [
    "The magnitude of the voltage is normally plotted in relation to the resonant voltage.  \n",
    "\n",
    "$$ Z(\\omega_\\mathrm{r}) = \\frac{1}{Y(\\omega_\\mathrm{r})} \\quad \\text{and}\\quad Y(\\omega_\\mathrm{r}) = G\\quad\\implies\\quad Z(\\omega_\\mathrm{r}) = \\frac{1}{G} = R$$"
   ]
  },
  {
   "cell_type": "markdown",
   "id": "dbfd792b",
   "metadata": {},
   "source": [
    "Thus,  \n",
    "\n",
    "\\begin{equation}\\tag{47}\n",
    "    U_\\mathrm{r} = U(\\omega_\\mathrm{r}) = Z(\\omega_\\mathrm{r})I = IR = \\frac{I}{G}\n",
    "\\end{equation}"
   ]
  },
  {
   "cell_type": "markdown",
   "id": "aa29c12a",
   "metadata": {},
   "source": [
    "Note that equation (47) assumes that $I = I(\\omega) = \\text{const}$ (i.e. that the current is constant and thus does not vary with the frequency), which typically is the case when the excitation is a current source."
   ]
  },
  {
   "cell_type": "markdown",
   "id": "6f4cf7cf",
   "metadata": {},
   "source": [
    "The obtained gain curve is:  \n",
    "\n",
    "\\begin{equation}\\tag{48}\n",
    "\t\\frac{U(\\omega)}{U_\\mathrm{r}} = \\frac{1}{\\sqrt{1+Q^2(\\eta - 1/\\eta)^2}} = \\frac{1}{\\sqrt{1+Q^2H^2(\\omega)}}\n",
    "\\end{equation}"
   ]
  },
  {
   "cell_type": "markdown",
   "id": "4648bc4b",
   "metadata": {},
   "source": [
    "is called the resonant curve and it is depicted in Fig. 4.4.26, for two values of $Q$, where: $\\eta$ is\n",
    "the normalized frequency (4.4.38) and $Q$ is the circuit quality factor.  \n",
    "\n",
    "\\begin{equation}\\tag{49}\n",
    "    Q = \\frac{1}{G}\\,\\sqrt{\\frac{C}{L}}\n",
    "\\end{equation}"
   ]
  },
  {
   "cell_type": "markdown",
   "id": "dc536615",
   "metadata": {},
   "source": [
    "![Fig-4.4.26](Figures/Fig-4.4.26.png)"
   ]
  },
  {
   "cell_type": "markdown",
   "id": "c20a748e",
   "metadata": {},
   "source": [
    "As can be observed, the parallel resonant circuit can be studied by repeating the results noted\n",
    "for the series RLC case while making substitution of $I(j\\omega)$ for $U(j\\omega)$ and vice-versa, $L$ for\n",
    "$C$ and vice-versa, and $G$ for $R$. For large values of $Q$, the effect of the **resonance overcurrent**\n",
    "can be observed."
   ]
  },
  {
   "cell_type": "markdown",
   "id": "16c8f91f",
   "metadata": {},
   "source": [
    "### Example 4.4.2\n",
    "For the given parameters of RLC parallel circuit: $R=10\\mathrm{k}\\Omega$, $L=1\\mathrm{H}$, $C=1\\mu\\mathrm{F}$ and the input current of $I=10\\mathrm{mA}$, find magnitude of the coil/capacitor current at the resonant frequency."
   ]
  },
  {
   "cell_type": "markdown",
   "id": "6c31a12e",
   "metadata": {},
   "source": [
    "$$ U_\\mathrm{r} = RI = 100\\mathrm{V}$$"
   ]
  },
  {
   "cell_type": "markdown",
   "id": "a3354d5a",
   "metadata": {},
   "source": [
    "$$ I_C(\\omega_\\mathrm{r}) = I_L(\\omega_\\mathrm{r}) = \\omega_\\mathrm{r}C U_\\mathrm{r} = \\sqrt{\\frac{C}{L}}\\,RI = 0.1\\mathrm{A}$$"
   ]
  },
  {
   "cell_type": "code",
   "execution_count": 18,
   "id": "9988e3eb",
   "metadata": {},
   "outputs": [
    {
     "data": {
      "text/plain": [
       "0.1"
      ]
     },
     "execution_count": 18,
     "metadata": {},
     "output_type": "execute_result"
    }
   ],
   "source": [
    "R = 10e3; L = 1; C = 1e-6; I = 10e-3\n",
    "U_r = 100\n",
    "I_Cr = np.sqrt(C/L)*U_r\n",
    "I_Cr"
   ]
  },
  {
   "cell_type": "code",
   "execution_count": 19,
   "id": "c2ac9af2",
   "metadata": {},
   "outputs": [
    {
     "data": {
      "text/plain": [
       "10.0"
      ]
     },
     "execution_count": 19,
     "metadata": {},
     "output_type": "execute_result"
    }
   ],
   "source": [
    "Q = np.sqrt(C/L)*R\n",
    "Q"
   ]
  },
  {
   "cell_type": "markdown",
   "id": "1a2cecb0",
   "metadata": {},
   "source": [
    "### Complex-resonant circuit\n",
    "In complex-resonant circuits more than one resonance may occur. The analysis of such\n",
    "circuits is generally laborious and not especially illuminating. At the resonant frequency, the\n",
    "terminal voltage $U(j\\omega)$ and current $I(j\\omega)$ are in phase, and this is achieved when reactance\n",
    "is equal to zero (susceptance is equal to infinity) or reactance is equal to infinity (susceptance\n",
    "is equal to zero). Then, in a complex circuit, resonant frequencies may be calculated from the\n",
    "following equations:  \n",
    "\n",
    "\\begin{equation}\\tag{50}\n",
    "\t\\text{a: }\\;X(\\omega_\\mathrm{r})=0\\;\\lor\\;B(\\omega_\\mathrm{r})=\\infty\\quad\\quad\\text{and}\\quad\\quad\\text{b: }\\;X(\\omega_\\mathrm{r}) = \\infty\\;\\lor\\;B(\\omega_\\mathrm{r})=0\n",
    "\\end{equation}"
   ]
  },
  {
   "cell_type": "markdown",
   "id": "015f6817",
   "metadata": {},
   "source": [
    "Resonant frequencies designated from (4.4.50a) are alternating with frequencies designated\n",
    "from (4.4.50b) and  \n",
    "\n",
    "\\begin{equation}\\tag{51}\n",
    "    X'(\\omega) \\ge 0\n",
    "\\end{equation}"
   ]
  },
  {
   "cell_type": "markdown",
   "id": "6c92eaf0",
   "metadata": {},
   "source": [
    "### Example 4.4.3\n",
    "Plot the frequency characteristic $X(\\omega)$ and calculate the resonant frequencies.  \n",
    "\n",
    "![Fig-4.4.27](Figures/Fig-4.4.27.png)"
   ]
  },
  {
   "cell_type": "markdown",
   "id": "8b93794e",
   "metadata": {},
   "source": [
    "$$ X(j\\omega) = X_1(j\\omega) + X_2(j\\omega)$$ \n",
    "where, \n",
    "$$X_1(j\\omega) = j\\omega L_1  \\quad\\implies\\quad X_1(\\omega) = \\omega L_1$$\n",
    "and,\n",
    "$$ X_2(j\\omega) = \\frac{1}{B_2(j\\omega)} \\quad\\quad\\text{where }\\; B_2(j\\omega) = j\\,\\left(\\omega C - \\frac{1}{\\omega L_2}\\right)$$"
   ]
  },
  {
   "cell_type": "markdown",
   "id": "acfd498b",
   "metadata": {},
   "source": [
    "$$ B_2(j\\omega) = j\\frac{\\omega^2L_2C - 1}{\\omega L_2} \\quad\\implies\\quad X_2(j\\omega) = j\\frac{\\omega L_2}{1-\\omega^2L_2C}$$"
   ]
  },
  {
   "cell_type": "markdown",
   "id": "ea11f605",
   "metadata": {},
   "source": [
    "$$ X(j\\omega) = j\\left(\\omega L_1 + \\frac{\\omega L_2}{1-\\omega^2L_2C}\\right) = j\\frac{\\omega L_1\\big(1-\\omega^2L_2C\\big) + \\omega L_2}{1-\\omega^2L_2C}$$"
   ]
  },
  {
   "cell_type": "markdown",
   "id": "957f3aa2",
   "metadata": {},
   "source": [
    "Which implies that:  \n",
    "\n",
    "\\begin{equation}\\tag{3.1a}\n",
    "    X(\\omega) = \\frac{\\omega L_1\\big(1-\\omega^2L_2C\\big) + \\omega L_2}{1-\\omega^2L_2C}\n",
    "\\end{equation}"
   ]
  },
  {
   "cell_type": "markdown",
   "id": "0cee8958",
   "metadata": {},
   "source": [
    "and,\n",
    "\n",
    "\\begin{equation}\\tag{3.1b}\n",
    "    B(\\omega) = \\frac{1-\\omega^2L_2C}{\\omega L_1\\big(1-\\omega^2L_2C\\big) + \\omega L_2}\n",
    "\\end{equation}"
   ]
  },
  {
   "cell_type": "markdown",
   "id": "28939710",
   "metadata": {},
   "source": [
    "The numerator of the fraction that identifies $X(\\omega)$ in equation (3.1a) being positive and the denominator of the aforementioned fraction being negative implies that the reactance $X(\\omega)$ has capacitive character (i.e. is negative)."
   ]
  },
  {
   "cell_type": "markdown",
   "id": "2d2f65db",
   "metadata": {},
   "source": [
    "When $1-\\omega^2L_2C<0$, the denominator of the fraction identifying the reactance in equation (3.1a) is negative.  \n",
    "\n",
    "\\begin{equation}\\tag{3.5a}\n",
    "    \\omega > \\frac{1}{\\sqrt{L_2C}} = \\omega_\\mathrm{r,3} \\quad\\iff \\quad 1-\\omega^2L_2C < 0\n",
    "\\end{equation}"
   ]
  },
  {
   "cell_type": "markdown",
   "id": "688bb953",
   "metadata": {},
   "source": [
    "And, when $L_1\\big(1-\\omega^2L_2C\\big) + L_2>0$, the numerator of the aforementioned fraction is positive.  \n",
    "\n",
    "$$ -\\frac{L_2}{L_1} < 1-\\omega^2L_2C$$"
   ]
  },
  {
   "cell_type": "markdown",
   "id": "487ef10a",
   "metadata": {},
   "source": [
    "$$ \\frac{L_2}{L_1} >\\omega^2L_2C - 1$$"
   ]
  },
  {
   "cell_type": "markdown",
   "id": "e2ebd152",
   "metadata": {},
   "source": [
    "$$ \\omega^2 < \\frac{1}{L_1C} + \\frac{1}{L_2C} = \\frac{L_1+L_2}{CL_1L_2}$$"
   ]
  },
  {
   "cell_type": "markdown",
   "id": "796f7a71",
   "metadata": {},
   "source": [
    "\\begin{equation}\\tag{3.5b}\n",
    "    \\omega < \\omega_\\mathrm{r,2} \\quad\\iff\\quad L_1\\big(1-\\omega^2L_2C\\big) + L_2>0\n",
    "\\end{equation}"
   ]
  },
  {
   "cell_type": "markdown",
   "id": "f50bd681",
   "metadata": {},
   "source": [
    "Finally,  \n",
    "\n",
    "\\begin{equation}\\tag{3.5}\n",
    "    \\omega < \\omega_\\mathrm{r,2} \\;\\land\\;\\omega > \\omega_\\mathrm{r,3} \\quad\\implies\\quad \\omega_\\mathrm{r,3} < \\omega < \\omega_\\mathrm{r,2} \\quad\\implies\\quad X(\\omega) < 0\n",
    "\\end{equation}"
   ]
  },
  {
   "cell_type": "markdown",
   "id": "ed314088",
   "metadata": {},
   "source": [
    "As for the resonant frequencies:  \n",
    "\n",
    "\\begin{equation}\\tag{3.2}\n",
    "    \\omega_\\mathrm{r,1} = 0\n",
    "\\end{equation}"
   ]
  },
  {
   "cell_type": "markdown",
   "id": "4be3fcb9",
   "metadata": {},
   "source": [
    "Note that, when $\\omega=\\omega_\\mathrm{r,1}=0$, or, when there is a DC input signal, the subcircuit is a short-circuit.  Also note that, despite the subscript indicating otherwise, $\\omega_\\mathrm{r,1}$ is *not* a resonant frequency.  There are only two resosant frequencies: $\\omega_\\mathrm{r,2}$ and $\\omega_\\mathrm{r,3}$."
   ]
  },
  {
   "cell_type": "markdown",
   "id": "feaab028",
   "metadata": {},
   "source": [
    "$$ L_1\\big(1-\\omega_\\mathrm{r,2}^2L_2C\\big) = -L_2$$"
   ]
  },
  {
   "cell_type": "markdown",
   "id": "4c690c00",
   "metadata": {},
   "source": [
    "$$ L_1\\big(\\omega_\\mathrm{r,2}^2L_2C - 1\\big)=L_2$$"
   ]
  },
  {
   "cell_type": "markdown",
   "id": "7a4c34ac",
   "metadata": {},
   "source": [
    "$$ \\omega_\\mathrm{r,2}^2L_2C = \\frac{L_2}{L_1} + 1$$"
   ]
  },
  {
   "cell_type": "markdown",
   "id": "04712eb6",
   "metadata": {},
   "source": [
    "$$ \\omega_\\mathrm{r,2}^2 = \\frac{1}{CL_1} + \\frac{1}{L_2C}$$"
   ]
  },
  {
   "cell_type": "markdown",
   "id": "4326fa8a",
   "metadata": {},
   "source": [
    "\\begin{equation}\\tag{3.3}\n",
    "    \\omega_\\mathrm{r,2} = \\sqrt{\\frac{L_1+L_2}{CL_2L_1}}\n",
    "\\end{equation}"
   ]
  },
  {
   "cell_type": "markdown",
   "id": "4ce20b10",
   "metadata": {},
   "source": [
    "Finally, via the notion that $B(\\omega_\\mathrm{r,3})=0$ and equation (3.1b),  \n",
    "\n",
    "\\begin{equation}\\tag{3.4}\n",
    "    \\omega_\\mathrm{r,3} = \\frac{1}{\\sqrt{L_2C}}\n",
    "\\end{equation}"
   ]
  },
  {
   "cell_type": "markdown",
   "id": "0daf0bfe",
   "metadata": {},
   "source": [
    "![FIg-4.4.28](Figures/Fig-4.4.28.png)"
   ]
  },
  {
   "cell_type": "markdown",
   "id": "c0d3d6fa",
   "metadata": {},
   "source": [
    "## Drill Problems\n",
    "#### Problem 1\n",
    "1. Draw the frequency characteristic $Z(\\omega)$.  Assumed: $R=100\\Omega$, $L=1\\mathrm{H}$, $C=1\\mu\\mathrm{F}$.  \n",
    "\n",
    "![Fig-P.4.4.1](Figures/Fig-P.4.4.1.png)"
   ]
  },
  {
   "cell_type": "markdown",
   "id": "ef087612",
   "metadata": {},
   "source": [
    "$$ Z(j\\omega) = j\\omega L + Z_2(j\\omega)\\quad\\quad\\text{where }\\; Y_2(j\\omega) = \\frac{1}{Z_2(j\\omega)} = G + j\\omega C$$"
   ]
  },
  {
   "cell_type": "markdown",
   "id": "6d0fe272",
   "metadata": {},
   "source": [
    "$$ Z_2(j\\omega) = Z_2(\\omega)\\,\\angle\\varphi_2 \\quad\\quad\\text{where }\\; Z_2(\\omega) = \\frac{1}{Y_2(\\omega)} = \\frac{1}{\\sqrt{G^2 + \\omega^2C^2}}\\quad\\text{and}\\quad \\varphi_2 = -\\arcsin \\frac{\\omega C}{Y_2(\\omega)}$$"
   ]
  },
  {
   "cell_type": "markdown",
   "id": "2b208f56",
   "metadata": {},
   "source": [
    "Thus,  \n",
    "\n",
    "$$ Z_2(j\\omega) = \\frac{1}{G^2+\\omega^2C^2}\\,\\big(G - j\\omega C\\big)$$"
   ]
  },
  {
   "cell_type": "markdown",
   "id": "d643a0bf",
   "metadata": {},
   "source": [
    "$$ Z(j\\omega) = \\frac{G + j\\big(\\omega L Y_2^2(\\omega) - \\omega C\\big)}{Y_2^2(\\omega)} \\quad\\implies\\quad Z(\\omega) = \\frac{\\sqrt{G^2 + \\big(\\omega L Y_2^2(\\omega) - \\omega C\\big)^2}}{Y_2^2(\\omega)}$$"
   ]
  },
  {
   "cell_type": "markdown",
   "id": "32f67afd",
   "metadata": {},
   "source": [
    "One of the resonant frequencies is:  \n",
    "\n",
    "$$ \\omega_\\mathrm{r,1} = 0$$"
   ]
  },
  {
   "cell_type": "markdown",
   "id": "0b779084",
   "metadata": {},
   "source": [
    "At the frequency, the inductor is a short-circuit, the capacitor is an open-circuit, and, via KVL and Ohm's Law,  $U(0) = RI(0)$."
   ]
  },
  {
   "cell_type": "markdown",
   "id": "de3dc1fc",
   "metadata": {},
   "source": [
    "As for the other resonant frequency,  \n",
    "\n",
    "$$ LY_2^2(\\omega_\\mathrm{r,2}) = C \\quad\\implies\\quad Y_2^2(\\omega_\\mathrm{r,2}) = \\frac{C}{L}$$"
   ]
  },
  {
   "cell_type": "markdown",
   "id": "17f50905",
   "metadata": {},
   "source": [
    "$$ \\omega_\\mathrm{r,2}^2C^2 = \\frac{C}{L} - G^2 \\quad\\implies\\quad \\omega_\\mathrm{r,2}^2 = \\frac{1}{LC} - \\frac{1}{R^2C^2}$$"
   ]
  },
  {
   "cell_type": "markdown",
   "id": "f2ba51f3",
   "metadata": {},
   "source": [
    "Since $\\omega_\\mathrm{r,2}^2<0$, $\\omega_\\mathrm{r,2}$ is not a real valued quantity, and thus, not one of the resonant frequencies."
   ]
  },
  {
   "cell_type": "code",
   "execution_count": 20,
   "id": "be268988",
   "metadata": {},
   "outputs": [],
   "source": [
    "# Set circuit parameters.\n",
    "R=100; L=1; C=1e-6"
   ]
  },
  {
   "cell_type": "code",
   "execution_count": 21,
   "id": "24cd8ee0",
   "metadata": {
    "code_folding": [
     0
    ]
   },
   "outputs": [
    {
     "data": {
      "text/plain": [
       "<matplotlib.legend.Legend at 0x7f7f0496e610>"
      ]
     },
     "execution_count": 21,
     "metadata": {},
     "output_type": "execute_result"
    },
    {
     "data": {
      "image/png": "[encoded data removed]",
      "text/plain": [
       "<Figure size 432x288 with 1 Axes>"
      ]
     },
     "metadata": {
      "needs_background": "light"
     },
     "output_type": "display_data"
    }
   ],
   "source": [
    "# Define the frequency domain.\n",
    "omega = np.linspace(0, 1000, num=200)\n",
    "\n",
    "# Define the magnitude of the impedance.\n",
    "G = 1/R\n",
    "Y_22 = G**2 + omega**2*C**2\n",
    "Z = np.sqrt(G**2 + (omega*L*Y_22-omega*C)**2)/Y_22\n",
    "\n",
    "# Create the figure and axes objects.\n",
    "fig, ax = plt.subplots()\n",
    "ax.set_title('Magnitude of the Impedance', size=13)\n",
    "ax.set_xlabel('radian frequency [rad/s]')\n",
    "ax.set_ylabel(r'impedance [$\\Omega$]')\n",
    "ax.grid()\n",
    "\n",
    "# Plot the data.\n",
    "ax.plot(omega, Z, label=r'$Z(\\omega)$')\n",
    "ax.legend()"
   ]
  },
  {
   "cell_type": "code",
   "execution_count": 22,
   "id": "f4ee1161",
   "metadata": {},
   "outputs": [
    {
     "data": {
      "text/plain": [
       "(100.0, 995.0371902099891)"
      ]
     },
     "execution_count": 22,
     "metadata": {},
     "output_type": "execute_result"
    }
   ],
   "source": [
    "(min(Z),max(Z))"
   ]
  },
  {
   "cell_type": "markdown",
   "id": "7e3134b3",
   "metadata": {},
   "source": [
    "#### Problem 2\n",
    "2. Draw the frequency characteristic $Z(\\omega)$.  Assume: $L=1\\mathrm{H}$, $C=1\\mu\\mathrm{F}$.  \n",
    "\n",
    "![Fig-P.4.4.2](Figures/Fig-P.4.4.2.png)"
   ]
  },
  {
   "cell_type": "markdown",
   "id": "edbf9cb1",
   "metadata": {},
   "source": [
    "$$ Y(j\\omega) = j\\left(3\\omega C - \\frac{1}{\\omega L} - \\frac{1}{2\\omega L}\\right)$$ "
   ]
  },
  {
   "cell_type": "markdown",
   "id": "ba439616",
   "metadata": {},
   "source": [
    "$$ Y(j\\omega) = j\\frac{6\\omega^2LC - 3}{2\\omega L} \\quad\\implies \\quad Z(j\\omega) = j\\frac{2\\omega L}{3-6\\omega^2LC}$$"
   ]
  },
  {
   "cell_type": "markdown",
   "id": "be751fc2",
   "metadata": {},
   "source": [
    "The resonant frequencies are:  \n",
    "\n",
    "$$ \\omega_\\mathrm{r,1} = 0 $$"
   ]
  },
  {
   "cell_type": "markdown",
   "id": "3c08d42a",
   "metadata": {},
   "source": [
    "$$ \\omega_\\mathrm{r,2}^2 = \\frac{1}{2LC} \\quad\\implies\\quad \\omega_\\mathrm{r,2} = \\frac{1}{\\sqrt{2LC}}$$"
   ]
  },
  {
   "cell_type": "code",
   "execution_count": 23,
   "id": "c337bad2",
   "metadata": {},
   "outputs": [],
   "source": [
    "# Set the circuit parameters.\n",
    "L = 1; C = 1e-6"
   ]
  },
  {
   "cell_type": "code",
   "execution_count": 24,
   "id": "b5b75140",
   "metadata": {},
   "outputs": [
    {
     "data": {
      "text/plain": [
       "112.53953951963827"
      ]
     },
     "execution_count": 24,
     "metadata": {},
     "output_type": "execute_result"
    }
   ],
   "source": [
    "omega_r2 = 1/np.sqrt(2*L*C)\n",
    "omega_r2\n",
    "f_r2 = omega_r2/(2*np.pi)\n",
    "f_r2"
   ]
  },
  {
   "cell_type": "code",
   "execution_count": 25,
   "id": "854641c4",
   "metadata": {
    "code_folding": [
     0
    ]
   },
   "outputs": [],
   "source": [
    "# Define the frequency domain.\n",
    "omega = np.linspace(0, 2*omega_r2, num=200)\n",
    "\n",
    "# Define the impedance.\n",
    "Z = 2*omega*L/(3-6*omega**2*L*C)"
   ]
  },
  {
   "cell_type": "code",
   "execution_count": 26,
   "id": "3e9138bf",
   "metadata": {},
   "outputs": [
    {
     "data": {
      "text/plain": [
       "(-47022.30558266381, 46786.60183427707)"
      ]
     },
     "execution_count": 26,
     "metadata": {},
     "output_type": "execute_result"
    }
   ],
   "source": [
    "(min(Z), max(Z))"
   ]
  },
  {
   "cell_type": "code",
   "execution_count": 27,
   "id": "d781442d",
   "metadata": {},
   "outputs": [
    {
     "data": {
      "text/plain": [
       "1414.213562373095"
      ]
     },
     "execution_count": 27,
     "metadata": {},
     "output_type": "execute_result"
    }
   ],
   "source": [
    "max(omega)"
   ]
  },
  {
   "cell_type": "code",
   "execution_count": 28,
   "id": "c3d57b86",
   "metadata": {
    "code_folding": [
     0
    ]
   },
   "outputs": [
    {
     "data": {
      "text/plain": [
       "<matplotlib.legend.Legend at 0x7f7f028550a0>"
      ]
     },
     "execution_count": 28,
     "metadata": {},
     "output_type": "execute_result"
    },
    {
     "data": {
      "image/png": "[encoded data removed]",
      "text/plain": [
       "<Figure size 432x288 with 1 Axes>"
      ]
     },
     "metadata": {
      "needs_background": "light"
     },
     "output_type": "display_data"
    }
   ],
   "source": [
    "# Create the figure and axes objects.\n",
    "fig, ax = plt.subplots()\n",
    "ax.set_title('Magnitude of the Impedance', size=13)\n",
    "ax.set_xlabel('frequency [Hz]')\n",
    "ax.set_ylabel(r'impedance [$\\mathrm{k}\\Omega$]')\n",
    "ax.grid()\n",
    "\n",
    "# Plot the data.\n",
    "f = omega / (2*np.pi)\n",
    "ax.plot(f, Z/1000, label=r'$Z(\\omega)$')\n",
    "ax.legend()"
   ]
  },
  {
   "cell_type": "markdown",
   "id": "ff1695cf",
   "metadata": {},
   "source": [
    "#### Problem 3\n",
    "3. The series resonant circuit has $L=1 \\mathrm{mH}$ and $C=10 \\mu\\mathrm{F}$. Find the required $Q$ and $R$ when it is desired that the bandwidth be  $16 \\mathrm{Hz}$."
   ]
  },
  {
   "cell_type": "markdown",
   "id": "8d6f8dce",
   "metadata": {},
   "source": [
    "$$ \\Delta f = f_\\mathrm{u} - f_\\mathrm{l} = 16\\mathrm{Hz} \\quad\\implies\\quad \\Delta \\omega = 32\\pi \\,\\mathrm{rad}/\\mathrm{s}$$"
   ]
  },
  {
   "cell_type": "markdown",
   "id": "b732ccf9",
   "metadata": {},
   "source": [
    "Via equation (42),  \n",
    "\n",
    "$$ R =L \\Delta \\omega $$"
   ]
  },
  {
   "cell_type": "markdown",
   "id": "199c906d",
   "metadata": {},
   "source": [
    "and  \n",
    "\n",
    "$$ Q = \\frac{\\omega_\\mathrm{r}}{\\Delta \\omega} = \\frac{1}{\\sqrt{LC}\\Delta\\omega}$$"
   ]
  },
  {
   "cell_type": "code",
   "execution_count": 29,
   "id": "6c7bb3f0",
   "metadata": {},
   "outputs": [
    {
     "data": {
      "text/plain": [
       "0.10053096491487339"
      ]
     },
     "execution_count": 29,
     "metadata": {},
     "output_type": "execute_result"
    }
   ],
   "source": [
    "L = 1e-3; C = 10e-6; bw = 32*np.pi\n",
    "R = L*bw\n",
    "R"
   ]
  },
  {
   "cell_type": "code",
   "execution_count": 30,
   "id": "1d60eafc",
   "metadata": {},
   "outputs": [
    {
     "data": {
      "text/plain": [
       "99.47183943243458"
      ]
     },
     "execution_count": 30,
     "metadata": {},
     "output_type": "execute_result"
    }
   ],
   "source": [
    "Q = np.sqrt(L/C)/R\n",
    "Q"
   ]
  },
  {
   "cell_type": "code",
   "execution_count": 31,
   "id": "5645043d",
   "metadata": {},
   "outputs": [
    {
     "data": {
      "text/plain": [
       "99.47183943243459"
      ]
     },
     "execution_count": 31,
     "metadata": {},
     "output_type": "execute_result"
    }
   ],
   "source": [
    "1/(np.sqrt(L*C)*bw)"
   ]
  },
  {
   "cell_type": "markdown",
   "id": "861d70d5",
   "metadata": {},
   "source": [
    "#### Problem 4\n",
    "4. Make sketches of $Z(\\omega)$, $R(\\omega)$ and $X(\\omega)$ if the series element $Z_1(j\\omega)$  is $R$, $L$ or $C$ and the parallel combination $Z_2(j\\omega)\\vert\\vert Z_3(j\\omega)$ is $RL$, $RC$ or $LC$.  \n",
    "\n",
    "![Fig-P.4.4.4](Figures/Fig-P.4.4.4.png)"
   ]
  },
  {
   "cell_type": "markdown",
   "id": "e538ac5f",
   "metadata": {},
   "source": [
    "$$ Z(j\\omega) = Z_1(j\\omega) + Z_\\mathrm{p}(j\\omega) \\quad\\quad\\text{where }\\; Y_\\mathrm{p}(j\\omega) = Y_2(j\\omega) + Y_3(j\\omega)$$"
   ]
  },
  {
   "cell_type": "markdown",
   "id": "ed9701cc",
   "metadata": {},
   "source": [
    "Thus,  \n",
    "\n",
    "$$ Z(j\\omega) = Z_1(j\\omega) + \\frac{1}{Y_2(j\\omega) + Y_3(j\\omega)}$$"
   ]
  },
  {
   "cell_type": "markdown",
   "id": "2e9fec0b",
   "metadata": {},
   "source": [
    "For future reference,  \n",
    "\n",
    "\\begin{equation}\\tag{4.1}\n",
    "    Z_\\mathrm{p}(j\\omega) = \\frac{Y_\\mathrm{p}^*(j\\omega)}{Y_\\mathrm{p}^2(\\omega)}\n",
    "\\end{equation}"
   ]
  },
  {
   "cell_type": "markdown",
   "id": "94c836b2",
   "metadata": {},
   "source": [
    "In general,  \n",
    "\n",
    "\\begin{equation}\\tag{4.5}\n",
    "    Z(j\\omega) = \\frac{Z_1(j\\omega)Y_\\mathrm{p}^2(\\omega) + Y_\\mathrm{p}^*(j\\omega)}{Y_\\mathrm{p}^2(\\omega)}\n",
    "\\end{equation}"
   ]
  },
  {
   "cell_type": "markdown",
   "id": "7c979aef",
   "metadata": {},
   "source": [
    "where,  \n",
    "\n",
    "\\begin{equation}\\tag{4.5a}\n",
    "    Y_\\mathrm{p}(j\\omega) = Y_2(j\\omega) + Y_3(j\\omega)\n",
    "\\end{equation}"
   ]
  },
  {
   "cell_type": "markdown",
   "id": "bdc7f57b",
   "metadata": {},
   "source": [
    "Assuming  $Z_1(j\\omega)=X_1(\\omega)$, where $X_1(\\omega) \\in\\{\\omega L, -1/(\\omega C)\\}$, and $Z_2(j\\omega)=R$,  \n",
    "\n",
    "\\begin{equation}\\tag{4.6}\n",
    "    R(\\omega) = \\frac{1}{RY_\\mathrm{p}^2(\\omega)} \\quad\\quad\\text{and}\\quad\\quad X(\\omega) = \\frac{X_1(\\omega) - B(\\omega)}{Y_\\mathrm{p}^2(\\omega)}\n",
    "\\end{equation}"
   ]
  },
  {
   "cell_type": "markdown",
   "id": "ed7b748f",
   "metadata": {},
   "source": [
    "Assuming $Z_1(j\\omega) = Z_2(j\\omega) = R$,  \n",
    "\n",
    "$$ Z(j\\omega) = R + \\frac{1}{G + jB(\\omega)} \\quad\\quad\\text{and}\\quad\\quad Y_\\mathrm{p}(j\\omega) = G + jB(\\omega) = Y(\\omega)\\,\\angle-\\varphi_\\mathrm{p}$$"
   ]
  },
  {
   "cell_type": "markdown",
   "id": "4e5116e8",
   "metadata": {},
   "source": [
    "$$ Y_\\mathrm{p}(\\omega) = \\sqrt{G^2+B^2(\\omega)} \\quad\\quad\\text{and}\\quad\\quad -\\varphi_\\mathrm{p} = \\arcsin \\frac{B(\\omega)}{Y_\\mathrm{p}(\\omega)} = \\arccos\\frac{G}{Y_\\mathrm{p}(\\omega)}$$"
   ]
  },
  {
   "cell_type": "markdown",
   "id": "517cafd1",
   "metadata": {},
   "source": [
    "$$ Z_\\mathrm{p}(j\\omega) = Z_\\mathrm{p}(\\omega)\\,\\angle\\varphi_\\mathrm{p} = \\frac{1}{Y_\\mathrm{p}^2(\\omega)}\\,\\big(G - jB(\\omega)\\big) = \\frac{Y_\\mathrm{p}^*(j\\omega)}{Y_\\mathrm{p}^2(\\omega)}$$"
   ]
  },
  {
   "cell_type": "markdown",
   "id": "f89955cb",
   "metadata": {},
   "source": [
    "\\begin{equation}\\tag{4.2}\n",
    "    Z(j\\omega) = R + Z_\\mathrm{p}(j\\omega) = \\frac{RY_\\mathrm{p}^2(\\omega) + Y_\\mathrm{p}^*(j\\omega)}{Y_\\mathrm{p}^2(\\omega)} = \\frac{RY_\\mathrm{p}^2(\\omega) + G - jB(\\omega)}{Y_\\mathrm{p}^2(\\omega)}\n",
    "\\end{equation}"
   ]
  },
  {
   "cell_type": "markdown",
   "id": "8e64af4a",
   "metadata": {},
   "source": [
    "\\begin{equation}\\tag{4.2}\n",
    "    \\text{a: }\\;R(\\omega) = \\frac{RY_\\mathrm{p}^2(\\omega) + G}{Y_\\mathrm{p}^2(\\omega)}\\quad\\quad\\text{and}\\quad\\quad\\text{b: }\\;X(\\omega) = \\frac{B(\\omega)}{Y_\\mathrm{p}^2(\\omega)}\n",
    "\\end{equation}"
   ]
  },
  {
   "cell_type": "markdown",
   "id": "f74d4382",
   "metadata": {},
   "source": [
    "Finally,  \n",
    "\n",
    "\\begin{equation}\\tag{4.2c}\n",
    "    Z(\\omega) = \\frac{\\sqrt{\\big(RY_\\mathrm{p}^2(\\omega) + G\\big)^2 + B^2(\\omega)}}{Y_\\mathrm{p}^2(\\omega)}\n",
    "\\end{equation}"
   ]
  },
  {
   "cell_type": "markdown",
   "id": "e4dfad5f",
   "metadata": {},
   "source": [
    "Note that:  \n",
    "$$ B(\\omega) = \\begin{cases}\\tag{4.3} \n",
    "\\omega C &\\quad\\text{if }Z_2(j\\omega)=R\\text{ and }Z_3(j\\omega)\\text{ is a capacitor.} \\\\\n",
    "-1/(\\omega L) &\\quad\\text{if }Z_2(j\\omega)=R\\text{ and }Z_3(j\\omega)\\text{ is an inductor.} \\\\\n",
    "\\omega C - 1/(\\omega L) &\\quad \\text{if }Z_2(j\\omega)\\text{ is an inductor and }Z_3(j\\omega)\\text{ is a capacitor.}\n",
    "\\end{cases}\n",
    "$$"
   ]
  },
  {
   "cell_type": "markdown",
   "id": "c1fa307f",
   "metadata": {},
   "source": [
    "Assuming $Z_1(j\\omega)=R$, and the parallel configuration is $LC$,  \n",
    "\n",
    "\\begin{equation}\\tag{4.4}\n",
    "    \\text{a: }\\;R(\\omega) = R\\quad\\quad\\text{b: }\\;X(\\omega) = \\frac{1}{B(\\omega)} \\quad\\quad\\text{c: }\\;Z(\\omega) = \\sqrt{R^2(\\omega) + X^2(\\omega)}\n",
    "\\end{equation}"
   ]
  },
  {
   "cell_type": "markdown",
   "id": "5c5ce3c7",
   "metadata": {},
   "source": [
    "#### Problem 6\n",
    "6. The series RLC circuit:  $R=10\\Omega$, $L=1\\mathrm{H}$ and $C=1\\mu\\mathrm{F}$;  is connected to a $U=1\\mathrm{V}$ source.  Calculate element voltages at the resonant frequency. Draw frequency characteristics of all voltages."
   ]
  },
  {
   "cell_type": "markdown",
   "id": "1e3c0f0a",
   "metadata": {},
   "source": [
    "$$ Z(j\\omega) = Z(\\omega)\\,\\angle\\varphi \\quad\\quad\\text{where }\\;Z(\\omega) = \\sqrt{R^2 + X^2(\\omega)} \\quad\\text{and}\\quad \\varphi = \\arcsin\\frac{X(\\omega)}{Z(\\omega)}$$"
   ]
  },
  {
   "cell_type": "markdown",
   "id": "96a8acc4",
   "metadata": {},
   "source": [
    "$$ X(\\omega) = \\omega L - \\frac{1}{\\omega C} = \\frac{\\omega^2LC - 1}{\\omega C}$$"
   ]
  },
  {
   "cell_type": "markdown",
   "id": "ce9a3010",
   "metadata": {},
   "source": [
    "$$ I_\\mathrm{r} = \\frac{U}{Z(\\omega_\\mathrm{r})} = \\frac{1\\mathrm{V}}{10\\Omega} = 0.1\\mathrm{A}$$"
   ]
  },
  {
   "cell_type": "markdown",
   "id": "c03a0dba",
   "metadata": {},
   "source": [
    "\\begin{equation}\\tag{6.1}\n",
    "    U_R(\\omega_\\mathrm{r}) = 1\\mathrm{V} \\quad\\quad U_L(\\omega_\\mathrm{r}) = 0.1\\mathrm{A}\\,\\sqrt{\\frac{L}{C}} = 100\\mathrm{V}\\quad\\quad U_C(\\omega_\\mathrm{r}) = 0.1\\mathrm{A}\\,\\sqrt{\\frac{L}{C}} = U_L(\\omega_\\mathrm{r}) = 100\\mathrm{V}\n",
    "\\end{equation}"
   ]
  },
  {
   "cell_type": "code",
   "execution_count": 32,
   "id": "9f2d8eb6",
   "metadata": {},
   "outputs": [],
   "source": [
    "R = 10; L = 1; C = 1e-6; I_r = 0.1; U = 1\n",
    "U_Lr = I_r*np.sqrt(L/C)\n",
    "U_Cr = I_r*np.sqrt(L/C)"
   ]
  },
  {
   "cell_type": "markdown",
   "id": "45be5c96",
   "metadata": {},
   "source": [
    "$$ I(j\\omega) = \\frac{U}{Z(j\\omega)} = \\frac{U}{Z(\\omega)}\\,\\angle\\!-\\!\\varphi \\quad\\implies\\quad I(\\omega) = \\frac{U}{Z(\\omega)}$$"
   ]
  },
  {
   "cell_type": "markdown",
   "id": "2c7d1165",
   "metadata": {},
   "source": [
    "\\begin{equation}\\tag{6.2}\n",
    "    U_R(j\\omega) = RI(j\\omega) = \\frac{UR}{Z(\\omega)}\\,\\angle\\!-\\!\\varphi\n",
    "\\end{equation}"
   ]
  },
  {
   "cell_type": "markdown",
   "id": "0a6d4e42",
   "metadata": {},
   "source": [
    "\\begin{equation}\\tag{6.3}\n",
    "    U_L(j\\omega) = j\\omega L I(j\\omega) = \\frac{\\omega LU}{Z(\\omega)}\\,\\angle\\big(90^\\circ-\\varphi\\big)\n",
    "\\end{equation}"
   ]
  },
  {
   "cell_type": "markdown",
   "id": "91983b1e",
   "metadata": {},
   "source": [
    "Finally,  \n",
    "\n",
    "\\begin{equation}\\tag{6.4}\n",
    "    U_C(j\\omega) = \\frac{U}{\\omega CZ(\\omega)}\\,\\angle\\!-\\!\\big(90^\\circ + \\varphi\\big)\n",
    "\\end{equation}"
   ]
  },
  {
   "cell_type": "code",
   "execution_count": 33,
   "id": "a3476bab",
   "metadata": {},
   "outputs": [
    {
     "data": {
      "text/plain": [
       "1000.0"
      ]
     },
     "execution_count": 33,
     "metadata": {},
     "output_type": "execute_result"
    }
   ],
   "source": [
    "omega_r = 1/np.sqrt(L*C)\n",
    "omega_r"
   ]
  },
  {
   "cell_type": "markdown",
   "id": "afc59fd4",
   "metadata": {},
   "source": [
    "$$ U_L'(\\omega) = \\frac{LU}{Z(\\omega)} - \\frac{\\omega LUX'(\\omega)X(\\omega)}{Z^3(\\omega)}$$"
   ]
  },
  {
   "cell_type": "markdown",
   "id": "78c2ead5",
   "metadata": {},
   "source": [
    "Recall that:  \n",
    "\n",
    "$$ X(\\omega) = \\frac{\\omega^2LC-1}{\\omega C}$$"
   ]
  },
  {
   "cell_type": "markdown",
   "id": "66bfaeec",
   "metadata": {},
   "source": [
    "$$ X'(\\omega) = 2L - \\frac{\\omega^2LC - 1}{\\omega^2C} = \\frac{\\omega^2LC +1}{\\omega^2C}$$"
   ]
  },
  {
   "cell_type": "markdown",
   "id": "16b7c7f5",
   "metadata": {},
   "source": [
    "$$ X(\\omega_\\mathrm{r}) = 0 $$"
   ]
  },
  {
   "cell_type": "markdown",
   "id": "2bb8e33b",
   "metadata": {},
   "source": [
    "Let's verify that if $\\omega < \\omega_\\mathrm{r}$ then $U_L'(\\omega)>0$ and if $\\omega > \\omega_\\mathrm{r}$ then $U_L'(\\omega) < 0$.  \n",
    "\n",
    "$$ \\omega < \\omega_\\mathrm{r} = \\frac{1}{\\sqrt{LC}}  \\quad\\implies\\quad U_L'(\\omega)>0 \\quad\\iff\\quad Z^2(\\omega) > \\omega X'(\\omega)X(\\omega)$$"
   ]
  },
  {
   "cell_type": "markdown",
   "id": "b59f2760",
   "metadata": {},
   "source": [
    "$$ \\omega^2LC < 1 \\quad \\implies \\quad X(\\omega) < 0 \\quad\\implies\\quad U_L'(\\omega)>0$$"
   ]
  },
  {
   "cell_type": "markdown",
   "id": "c9133735",
   "metadata": {},
   "source": [
    "The first proposition has thus been verified.  \n",
    "\n",
    "$$ \\omega > \\omega_\\mathrm{r} \\quad\\implies\\quad U_L'(\\omega) < 0 \\quad\\iff\\quad Z^2(\\omega) < \\omega X'(\\omega)X(\\omega)$$"
   ]
  },
  {
   "cell_type": "markdown",
   "id": "8a6940ae",
   "metadata": {},
   "source": [
    "$$ \\omega^2LC > 1 \\quad\\implies\\quad X(\\omega) > 0 $$"
   ]
  },
  {
   "cell_type": "markdown",
   "id": "31a22727",
   "metadata": {},
   "source": [
    "$$ \\omega X'(\\omega)X(\\omega) = \\frac{(\\gamma-1)(\\gamma+1)}{\\omega^2C^2} = \\frac{\\gamma^2 - 1}{\\omega^2C^2}\\quad\\quad\\text{where }\\;\\gamma = \\omega^2LC > 1$$"
   ]
  },
  {
   "cell_type": "markdown",
   "id": "7d522c36",
   "metadata": {},
   "source": [
    "$$ Z^2(\\omega) = R^2 + X^2(\\omega) = R^2 + \\frac{\\gamma^2 - 2\\gamma + 1}{\\omega^2C^2} = \\frac{\\omega^2R^2C^2 + \\gamma^2-2\\gamma + 1}{\\omega^2C^2}$$"
   ]
  },
  {
   "cell_type": "markdown",
   "id": "5de474f6",
   "metadata": {},
   "source": [
    "Via the above two equations,  \n",
    "\n",
    "$$ \\omega^2R^2C^2 + \\gamma^2 - 2\\gamma + 1 < \\gamma^2 - 1$$"
   ]
  },
  {
   "cell_type": "markdown",
   "id": "3c07b8f8",
   "metadata": {},
   "source": [
    "$$ \\omega^2R^2C^2 < 2\\gamma - 2 = 2\\omega^2LC - 2 $$"
   ]
  },
  {
   "cell_type": "markdown",
   "id": "223537ee",
   "metadata": {},
   "source": [
    "$$ \\omega^2 < 2\\,\\frac{\\gamma-1}{R^2C^2}\\quad\\quad\\text{and}\\quad\\quad \\omega^2>\\frac{1}{LC}$$"
   ]
  },
  {
   "cell_type": "markdown",
   "id": "6ccad0c5",
   "metadata": {},
   "source": [
    "Thus,  \n",
    "\n",
    "$$ \\frac{1}{LC} < \\omega^2 < 2\\frac{\\gamma-1}{(RC)^2} \\quad\\implies\\quad \\frac{1}{LC} < 2\\frac{\\gamma-1}{(RC)^2}$$"
   ]
  },
  {
   "cell_type": "markdown",
   "id": "023ef153",
   "metadata": {},
   "source": [
    "$$ \\frac{RC}{2L} < \\gamma -1$$"
   ]
  },
  {
   "cell_type": "markdown",
   "id": "6b281e7b",
   "metadata": {},
   "source": [
    "$$ \\omega^2C\\big(R^2C - 2L\\big) < -2 \\quad\\implies\\quad 1<-0.5\\omega^2C\\big(R^2C-2L\\big)$$"
   ]
  },
  {
   "cell_type": "markdown",
   "id": "8aa1e9fe",
   "metadata": {},
   "source": [
    "$$ \\omega^2 > \\frac{2}{C\\big(2L-R^2C\\big)}_{\\big\\vert R^2C \\,< \\,2L}\\quad\\quad\\text{and}\\quad\\quad \\omega^2< \\frac{2}{C\\big(2L-R^2C\\big)}_{\\big\\vert R^2C\\,>\\,2L}$$"
   ]
  },
  {
   "cell_type": "markdown",
   "id": "8aabf288",
   "metadata": {},
   "source": []
  },
  {
   "cell_type": "markdown",
   "id": "4d99473d",
   "metadata": {},
   "source": [
    "$$ \\omega^2LC > 1 > 0.5\\omega^2C(R^2C-2L) \\quad\\implies\\quad \\omega^2LC > 0.5\\omega^2C(R^2C-2L)$$"
   ]
  },
  {
   "cell_type": "markdown",
   "id": "8366acf4",
   "metadata": {},
   "source": [
    "Which implies that:  \n",
    "\n",
    "$$L > 0.5(R^2C-2L) \\quad\\implies\\quad 2L > 0.5R^2C $$"
   ]
  },
  {
   "cell_type": "markdown",
   "id": "4411ebe4",
   "metadata": {},
   "source": [
    "Finally,  \n",
    "\n",
    "$$ \\frac{1}{R^2}\\,\\frac{L}{C} = Q^2> 0.25 \\quad\\implies\\quad \\frac{1}{R}\\,\\sqrt{\\frac{L}{C}} = Q > 0.5$$"
   ]
  },
  {
   "cell_type": "code",
   "execution_count": 34,
   "id": "ed8589e5",
   "metadata": {},
   "outputs": [
    {
     "data": {
      "text/plain": [
       "True"
      ]
     },
     "execution_count": 34,
     "metadata": {},
     "output_type": "execute_result"
    }
   ],
   "source": [
    "0.5*R**2*C < 2*L"
   ]
  },
  {
   "cell_type": "markdown",
   "id": "f3ed080f",
   "metadata": {},
   "source": [
    "The second proposition has thus been verified, ultimately proving that the RMS value or effective value of the voltage running across inductor, denoted as '$U_L$', peaks at resonance.  This also proves that, in general, in a RLC series circuit, assuming the quality factor is greater than $0.5$ -- \n",
    "\n",
    "$$ Q= \\frac{1}{R}\\,\\sqrt{\\frac{L}{C}} > 0.5$$  \n",
    "\n",
    "-- the effective value of the voltage running across the inductor peaks at resonance.  \n",
    "\n",
    "\\begin{equation}\\tag{6.5}\n",
    "    U_L(\\omega_\\mathrm{r}) = \\max U_L(\\omega)_{\\big|\\, Q \\, > \\,0.5}\n",
    "\\end{equation}"
   ]
  },
  {
   "cell_type": "markdown",
   "id": "304225a8",
   "metadata": {},
   "source": [
    "Next, to prove that the effective value of the voltage running across the capacitor, denoted as '$U_C$', peaks at resonance, first recall that:  \n",
    "\n",
    "\\begin{equation}\n",
    "    U_C(j\\omega) = \\frac{U}{\\omega CZ(\\omega)}\\,\\angle\\!-\\!\\big(90^\\circ + \\varphi\\big)\n",
    "\\end{equation}"
   ]
  },
  {
   "cell_type": "markdown",
   "id": "7296f9a6",
   "metadata": {},
   "source": [
    "$$ U_C'(\\omega) = -\\frac{U}{\\big(\\omega CZ(\\omega)\\big)^2}\\,\\big(CZ(\\omega) + \\omega CZ'(\\omega)\\big)$$"
   ]
  },
  {
   "cell_type": "markdown",
   "id": "58b1f48d",
   "metadata": {},
   "source": [
    "$$ Z'(\\omega) = \\frac{X(\\omega)X'(\\omega)}{Z(\\omega)}$$"
   ]
  },
  {
   "cell_type": "markdown",
   "id": "f1c3202d",
   "metadata": {},
   "source": [
    "And that:  \n",
    "\n",
    "$$ X(\\omega) = \\frac{\\omega^2LC-1}{\\omega C} = \\frac{\\gamma - 1}{\\omega C}$$  \n",
    "\n",
    "and,  \n",
    "\n",
    "$$ X'(\\omega) = \\frac{\\omega^2LC + 1}{\\omega^2C} =\\frac{\\gamma + 1}{\\omega^2C}$$"
   ]
  },
  {
   "cell_type": "markdown",
   "id": "375243e6",
   "metadata": {},
   "source": [
    "Via the above two equations,  \n",
    "\n",
    "$$ U_C'(\\omega) = -\\frac{U}{\\big(\\omega CZ(\\omega)\\big)^2}\\,\\frac{CZ^2(\\omega) + \\omega CX(\\omega)X'(\\omega)}{Z(\\omega)}$$"
   ]
  },
  {
   "cell_type": "markdown",
   "id": "4f93b180",
   "metadata": {},
   "source": [
    "We also need to verify that if $\\omega < \\omega_\\mathrm{r}$ then $U_C'(\\omega) > 0$ and if $\\omega > \\omega_\\mathrm{r}$ then $U_C'(\\omega) < 0$.  \n",
    "\n",
    "$$ \\omega < \\omega_\\mathrm{r} = \\frac{1}{\\sqrt{LC}} \\quad\\implies\\quad U_C'(\\omega) > 0 \\quad\\iff\\quad Z^2(\\omega)< -\\omega X(\\omega)X'(\\omega)$$"
   ]
  },
  {
   "cell_type": "markdown",
   "id": "b86ace5e",
   "metadata": {},
   "source": [
    "$$ \\gamma:=\\omega^2LC < 1 \\quad\\implies\\quad X(\\omega) < 0$$"
   ]
  },
  {
   "cell_type": "markdown",
   "id": "bfd39a02",
   "metadata": {},
   "source": [
    "$$ -\\omega X(\\omega)X'(\\omega) = -\\frac{\\gamma^2-1}{\\omega^2C^2} = \\frac{1-\\gamma^2}{\\omega^2C^2}$$"
   ]
  },
  {
   "cell_type": "markdown",
   "id": "16f40b16",
   "metadata": {},
   "source": [
    "$$ Z^2(\\omega) = R^2 X^2(\\omega) = R^2 + \\frac{\\gamma^2 - 2\\gamma + 1}{\\omega^2C^2} = \\frac{(\\omega RC)^2 + \\gamma^2 - 2\\gamma + 1}{\\omega^2C^2}$$"
   ]
  },
  {
   "cell_type": "markdown",
   "id": "2abd1a02",
   "metadata": {},
   "source": [
    "Via the above two equations,  \n",
    "\n",
    "$$ (\\omega RC)^2 + \\gamma^2 - 2\\gamma + 1 < 1 - \\gamma^2$$"
   ]
  },
  {
   "cell_type": "markdown",
   "id": "b8ed0291",
   "metadata": {},
   "source": [
    "$$ (\\omega RC)^2 + 2\\gamma^2 - 2\\gamma  = \\omega^2C\\big(R^2C + 2\\omega^2L^2C - 2L\\big)< 0$$"
   ]
  },
  {
   "cell_type": "markdown",
   "id": "a7245953",
   "metadata": {},
   "source": [
    "$$ R^2C + 2\\omega^2L^2C - 2L < 0 \\quad\\implies\\quad 2\\omega^2L^2C < 2L - R^2C$$"
   ]
  },
  {
   "cell_type": "markdown",
   "id": "cc679333",
   "metadata": {},
   "source": [
    "Dividing throughout by $2L$ gives:  \n",
    "\n",
    "$$ \\omega^2LC = \\gamma < 1 - 0.5R^2\\,\\frac{C}{L} \\quad\\implies\\quad 1 > \\gamma + 0.5R^2\\,\\frac{C}{L}$$"
   ]
  },
  {
   "cell_type": "markdown",
   "id": "312d9634",
   "metadata": {},
   "source": [
    "$$ \\omega^2C > 0$$"
   ]
  },
  {
   "cell_type": "markdown",
   "id": "719dcc3d",
   "metadata": {},
   "source": [
    "$$ 0<\\omega^2 C < \\frac{1}{L} - \\frac{R^2C}{2L^2} \\quad\\implies\\quad \\frac{R^2C}{2L^2} < \\frac{1}{L}$$"
   ]
  },
  {
   "cell_type": "markdown",
   "id": "25be089c",
   "metadata": {},
   "source": [
    "Which implies that:  \n",
    "\n",
    "$$ \\frac{R^2C}{2L} <1 \\quad\\implies\\quad \\frac{2}{R^2}\\,\\frac{L}{C} > 1$$"
   ]
  },
  {
   "cell_type": "markdown",
   "id": "29dfe93c",
   "metadata": {},
   "source": [
    "Finally,  \n",
    "\n",
    "\\begin{equation}\\tag{6.6a}\n",
    "    Q =  > \\frac{1}{"
   ]
  },
  {
   "cell_type": "code",
   "execution_count": 35,
   "id": "8fa34515",
   "metadata": {
    "code_folding": [
     0
    ]
   },
   "outputs": [
    {
     "data": {
      "text/plain": [
       "<matplotlib.legend.Legend at 0x7f7f026ddac0>"
      ]
     },
     "execution_count": 35,
     "metadata": {},
     "output_type": "execute_result"
    },
    {
     "data": {
      "image/png": "[encoded data removed]",
      "text/plain": [
       "<Figure size 936x360 with 2 Axes>"
      ]
     },
     "metadata": {
      "needs_background": "light"
     },
     "output_type": "display_data"
    }
   ],
   "source": [
    "# Create the frequency domain.\n",
    "omega = np.linspace(1, 2*omega_r, num=201)\n",
    "\n",
    "# Define the magnitude of the impedance (Z) and the reactance (X).\n",
    "X = omega*L - 1/(omega*C)\n",
    "Z = np.sqrt(R**2+X**2)\n",
    "\n",
    "# Define the element voltages.\n",
    "U_R = U*R/Z\n",
    "U_L = omega*L*U/Z\n",
    "U_C = U/(omega*C*Z)\n",
    "\n",
    "# Create the figure and axes objects.\n",
    "fig, (ax1, ax2) = plt.subplots(ncols=2, figsize=(13, 5))\n",
    "\n",
    "ax1.set_title('Resistive Voltage', size=13)\n",
    "ax1.set_xlabel('frequency [Hz]')\n",
    "ax1.set_ylabel('voltage [V]')\n",
    "ax1.grid()\n",
    "\n",
    "ax2.set_title('Reactive Voltages', size=13)\n",
    "ax2.set_xlabel('frequency [Hz]')\n",
    "ax2.set_ylabel('voltage [V]')\n",
    "ax2.grid()\n",
    "\n",
    "# Plot the data.\n",
    "f = omega / (2*np.pi)\n",
    "ax1.plot(f, U_R, label=r'$U_R(\\omega)$')\n",
    "ax1.legend()\n",
    "ax2.plot(f, U_L, label=r'$U_L(\\omega)$')\n",
    "ax2.plot(f, U_C, label=r'$U_C(\\omega)$')\n",
    "ax2.legend()"
   ]
  },
  {
   "cell_type": "code",
   "execution_count": 36,
   "id": "083ecd3c",
   "metadata": {
    "code_folding": [
     0,
     2,
     6,
     8
    ]
   },
   "outputs": [],
   "source": [
    "def fX(omega):\n",
    "    return omega*L - 1/(omega*C)\n",
    "def fZ(omega):\n",
    "    return np.sqrt(R**2 + fX(omega)**2)\n",
    "def fU_R(omega):\n",
    "    return U*R/fZ(omega)\n",
    "def fU_L(omega):\n",
    "    return omega * L * U/fZ(omega)\n",
    "def fU_C(omega):\n",
    "    return U/(omega*C*fZ(omega))"
   ]
  },
  {
   "cell_type": "code",
   "execution_count": 37,
   "id": "3e051f87",
   "metadata": {},
   "outputs": [
    {
     "data": {
      "text/plain": [
       "(1.0000009999509998e-05, 0.9950396516440384, 0.9950396516440384)"
      ]
     },
     "execution_count": 37,
     "metadata": {},
     "output_type": "execute_result"
    }
   ],
   "source": [
    "(min(U_R), fU_R(omega[100]), max(U_R))"
   ]
  },
  {
   "cell_type": "code",
   "execution_count": 38,
   "id": "d5a51eda",
   "metadata": {},
   "outputs": [
    {
     "data": {
      "text/plain": [
       "(1.000000999951e-06, 99.55371714698603)"
      ]
     },
     "execution_count": 38,
     "metadata": {},
     "output_type": "execute_result"
    }
   ],
   "source": [
    "(min(U_L), max(U_L))"
   ]
  },
  {
   "cell_type": "code",
   "execution_count": 39,
   "id": "b27952f0",
   "metadata": {},
   "outputs": [
    {
     "data": {
      "text/plain": [
       "(0.33332592617283036, 99.45423804538117)"
      ]
     },
     "execution_count": 39,
     "metadata": {},
     "output_type": "execute_result"
    }
   ],
   "source": [
    "(min(U_C), max(U_C))"
   ]
  },
  {
   "cell_type": "code",
   "execution_count": 40,
   "id": "859eede1",
   "metadata": {},
   "outputs": [
    {
     "data": {
      "text/plain": [
       "array([ 990.505, 1000.5  ])"
      ]
     },
     "execution_count": 40,
     "metadata": {},
     "output_type": "execute_result"
    }
   ],
   "source": [
    "omega[99:101]"
   ]
  },
  {
   "cell_type": "markdown",
   "id": "a91764ad",
   "metadata": {},
   "source": [
    "#### Problem 7\n",
    "7. Draw the frequency characteristic $Z(\\omega)$for Fig. 4.2.11 circuit.  \n",
    "\n",
    "![Fig-4.2.11](Figures/Fig-4.2.11.png)"
   ]
  },
  {
   "cell_type": "markdown",
   "id": "32516ab7",
   "metadata": {},
   "source": [
    "Recall the parameters of the circuit:  $R_1=5\\Omega$, $R_2=10\\Omega$, $\\omega L = 15\\Omega$, $1/(\\omega C) = 10\\Omega$, and $\\omega = 1000\\,\\mathrm{rad}/\\mathrm{s}$."
   ]
  },
  {
   "cell_type": "code",
   "execution_count": 41,
   "id": "4752562c",
   "metadata": {},
   "outputs": [
    {
     "data": {
      "text/plain": [
       "(0.015, 0.0001)"
      ]
     },
     "execution_count": 41,
     "metadata": {},
     "output_type": "execute_result"
    }
   ],
   "source": [
    "omega = 1000; R_1 = 5; R_2 = 10\n",
    "L = 15/omega; C = 1/(omega*10)\n",
    "(L, C)"
   ]
  },
  {
   "cell_type": "markdown",
   "id": "b9043db8",
   "metadata": {},
   "source": [
    "$$ L = 15\\mathrm{mH}\\quad\\quad\\text{and}\\quad\\quad C = 0.1\\mathrm{mF}$$"
   ]
  },
  {
   "cell_type": "markdown",
   "id": "52e84e1b",
   "metadata": {},
   "source": [
    "$$ Z(j\\omega) = Z_1(j\\omega) + Z_2(j\\omega)$$"
   ]
  },
  {
   "cell_type": "markdown",
   "id": "1df02eb0",
   "metadata": {},
   "source": [
    "$$ Z_1(j\\omega) = R_1 + j\\omega L \\quad\\quad\\text{and}\\quad\\quad Y_2(j\\omega) = G_2 + j\\omega C $$"
   ]
  },
  {
   "cell_type": "markdown",
   "id": "d0c3e3ef",
   "metadata": {},
   "source": [
    "$$ Z_2(j\\omega) = Z_2(\\omega)\\,\\angle\\varphi_2 \\quad\\quad\\text{where }\\; Z_2(\\omega) = \\frac{1}{Y_2(\\omega)} \\quad\\text{and}\\quad -\\varphi = \\arcsin\\frac{\\omega C}{Y_2(\\omega)} = \\arccos\\frac{G_2}{Y_2(\\omega)}$$"
   ]
  },
  {
   "cell_type": "markdown",
   "id": "7f91bf6e",
   "metadata": {},
   "source": [
    "Via equation (4.1),  \n",
    "\n",
    "$$ Z_2(j\\omega) = \\frac{Y_2^*(j\\omega)}{Y_2^2(\\omega)}$$"
   ]
  },
  {
   "cell_type": "markdown",
   "id": "3a188d1e",
   "metadata": {},
   "source": [
    "\\begin{equation}\\tag{7.1}\n",
    "    Z(j\\omega) = \\frac{Z_1(j\\omega)Y_2^2(\\omega) + Y_2^*(j\\omega)}{Y_2^2(\\omega)} = R(j\\omega) + X(j\\omega)\n",
    "\\end{equation}"
   ]
  },
  {
   "cell_type": "markdown",
   "id": "b17678ec",
   "metadata": {},
   "source": [
    "\\begin{equation}\\tag{7.2}\n",
    "    Z(\\omega) = \\sqrt{R^2(\\omega) + X^2(\\omega)}\n",
    "\\end{equation}"
   ]
  },
  {
   "cell_type": "markdown",
   "id": "e7bf1414",
   "metadata": {},
   "source": [
    "$$ R(j\\omega) = R(\\omega) = \\frac{R_1Y_2^2(\\omega) + G_2}{Y_2^2(\\omega)} \\quad\\quad\\text{and}\\quad\\quad X(j\\omega) = \\frac{j\\omega LY_2^2(\\omega) - j\\omega C}{Y_2^2(\\omega)}$$"
   ]
  },
  {
   "cell_type": "markdown",
   "id": "dc6b78c6",
   "metadata": {},
   "source": [
    "\\begin{equation}\\tag{7.2a}\n",
    "    X(\\omega) = \\omega \\,\\frac{LY_2^2(\\omega) - C}{Y_2^2(\\omega)} = \\omega\\,\\left(L - \\frac{C}{Y_2^2(\\omega)}\\right)\n",
    "\\end{equation}"
   ]
  },
  {
   "cell_type": "markdown",
   "id": "0fb755c2",
   "metadata": {},
   "source": [
    "\\begin{equation}\\tag{7.2b}\n",
    "    R(\\omega) = R_1 + \\frac{G_2}{Y_2^2(\\omega)}\n",
    "\\end{equation}"
   ]
  },
  {
   "cell_type": "markdown",
   "id": "a960c48d",
   "metadata": {},
   "source": [
    "Now, via the fact that $\\varphi(\\omega_\\mathrm{r}) = 0$,  \n",
    "\n",
    "$$ R^2(\\omega) = $$"
   ]
  },
  {
   "cell_type": "markdown",
   "id": "477ae349",
   "metadata": {},
   "source": [
    "$$ Z'(\\omega) = \\frac{R(\\omega)R'(\\omega) + X(\\omega)X'(\\omega)}{Z(\\omega)}$$"
   ]
  },
  {
   "cell_type": "markdown",
   "id": "adb595aa",
   "metadata": {},
   "source": [
    "$$ R'(\\omega) = -\\frac{2\\omega G_2C^2}{\\big(G_2^2 + (\\omega C)^2\\big)^2} = -\\frac{2\\omega G_2C^2}{Y_2^4(\\omega)}$$"
   ]
  },
  {
   "cell_type": "markdown",
   "id": "e8a13222",
   "metadata": {},
   "source": [
    "$$ X'(\\omega) = \\left(L - \\frac{C}{Y_2^2(\\omega)}\\right)  + \\omega \\,\\frac{2\\omega C^3}{\\big(G_2^2 + (\\omega C)^2\\big)^2} = \\left(L - \\frac{C}{Y_2^2(\\omega)}\\right) + \\frac{2\\omega^2 C^3}{Y_2^4(\\omega)}$$"
   ]
  },
  {
   "cell_type": "code",
   "execution_count": 47,
   "id": "d472eed5",
   "metadata": {},
   "outputs": [
    {
     "data": {
      "text/plain": [
       "<matplotlib.legend.Legend at 0x7f7f019d78e0>"
      ]
     },
     "execution_count": 47,
     "metadata": {},
     "output_type": "execute_result"
    },
    {
     "data": {
      "image/png": "[encoded data removed]",
      "text/plain": [
       "<Figure size 432x288 with 1 Axes>"
      ]
     },
     "metadata": {
      "needs_background": "light"
     },
     "output_type": "display_data"
    }
   ],
   "source": [
    "# Create the frequency domain.\n",
    "omega = np.linspace(1, 2000, num=200)\n",
    "\n",
    "# Define the magnitude of the impedance, denoted as 'Z'.\n",
    "G_2 = 1/R_2\n",
    "Y_2 = np.sqrt(G_2**2 + (omega*C)**2)\n",
    "Y_2_2 = G_2**2 + (omega*C)**2\n",
    "R = R_1 + G_2/Y_2_2\n",
    "X = omega*(L - C/Y_2_2)\n",
    "Z = np.sqrt(R**2 + X**2)\n",
    "\n",
    "# Create the figure and axes objects.\n",
    "fig, ax = plt.subplots()\n",
    "ax.set_title('Magnitude of the Impedance', size=13)\n",
    "ax.set_xlabel('frequency [Hz]')\n",
    "ax.set_ylabel(r'impedance [$\\Omega$]')\n",
    "ax.grid()\n",
    "\n",
    "# Plot the data.\n",
    "f = omega/(2*np.pi)\n",
    "ax.plot(f, Z, label=r'$Z(\\omega)$')\n",
    "ax.legend()"
   ]
  },
  {
   "cell_type": "markdown",
   "id": "5c563670",
   "metadata": {},
   "source": [
    "Now, to find the resonant frequencies, which will be used to define the subdomain of the frequency domain that our plot of $Z(\\omega)$ will cover, we must find $\\omega$ such that $X(\\omega)=0$ or $B(\\omega) = 0$.  To find the definition of $B(\\omega)$, we must find $Y(j\\omega)$.  \n",
    "\n",
    "Via equation (4.1),  \n",
    "\n",
    "$$ Y(j\\omega) = \\frac{Z^*(j\\omega)}{Z^2(\\omega)} = \\frac{1}{\\big(G_2^2 + \\omega^2C^2\\big)\\big(R^2+X^2(\\omega)\\big)}\\,\\Big(R_1Y_2^2(\\omega) + G_2 + j\\big(\\omega C  - \\omega L Y_2^2(\\omega) \\big)\\Big)$$"
   ]
  },
  {
   "cell_type": "markdown",
   "id": "5e7ee8a0",
   "metadata": {},
   "source": [
    "When $\\omega=0$ the capacitor is an open-circuit.  One of the resonant frequencies is given by:  \n",
    "\n",
    "$$ LY_2^2(\\omega_\\mathrm{r1}) = C$$  \n",
    "\n",
    "$$ (\\omega_\\mathrm{r1} C)^2 = \\frac{C}{L} - G_2^2$$  \n",
    "\n",
    "$$ \\omega_\\mathrm{r1} = \\sqrt{\\frac{1}{LC} - \\frac{1}{(R_2C)^2}}$$"
   ]
  },
  {
   "cell_type": "markdown",
   "id": "d219286d",
   "metadata": {},
   "source": [
    "#### Problem 8\n",
    "8. The parallel RLC circuit, $R=100\\mathrm{k}\\Omega$, $L=1\\mathrm{H}$, $C=1\\mu\\mathrm{F}$, is connected to $I=1\\mathrm{mA}$ source.  Calculate element currents at the resonant frequency. Draw frequency characteristics of all currents."
   ]
  },
  {
   "cell_type": "markdown",
   "id": "f1f9ce41",
   "metadata": {},
   "source": [
    "$$ \\omega_\\mathrm{r} = \\frac{1}{\\sqrt{LC}} = 1000\\,\\mathrm{rad}/\\mathrm{s}$$"
   ]
  },
  {
   "cell_type": "code",
   "execution_count": 52,
   "id": "87127961",
   "metadata": {},
   "outputs": [
    {
     "data": {
      "text/plain": [
       "1000.0"
      ]
     },
     "execution_count": 52,
     "metadata": {},
     "output_type": "execute_result"
    }
   ],
   "source": [
    "R = 100e3; L = 1; C = 1e-6; I = 1e-3\n",
    "omega_r = 1/np.sqrt(L*C)\n",
    "omega_r"
   ]
  },
  {
   "cell_type": "markdown",
   "id": "4e0bc55c",
   "metadata": {},
   "source": [
    "$$ Y(j\\omega) = G + jB(\\omega) = G + j\\left(\\omega C - \\frac{1}{\\omega L}\\right)$$"
   ]
  },
  {
   "cell_type": "markdown",
   "id": "29d28654",
   "metadata": {},
   "source": [
    "$$ Z(j\\omega) = \\frac{Y^*(j\\omega)}{Y^2(\\omega)} \\quad\\text{and}\\quad Z(\\omega) = \\frac{1}{Y(\\omega)}$$"
   ]
  },
  {
   "cell_type": "markdown",
   "id": "ac7c13df",
   "metadata": {},
   "source": [
    "\n",
    "$$ U(\\omega) = Z(\\omega)I = \\frac{1\\mathrm{mA}}{\\sqrt{G^2 + B^2(\\omega)}}$$"
   ]
  },
  {
   "cell_type": "markdown",
   "id": "d013ce1d",
   "metadata": {},
   "source": [
    "\\begin{equation}\\tag{8.2}\n",
    "    U_\\mathrm{r} = U(\\omega_\\mathrm{r}) = RI = 100\\mathrm{V}\n",
    "\\end{equation}"
   ]
  },
  {
   "cell_type": "markdown",
   "id": "8e7b404b",
   "metadata": {},
   "source": [
    "\\begin{equation}\\tag{8.3}\n",
    "    I_R(\\omega_\\mathrm{r}) = I = 1\\mathrm{mA}\n",
    "\\end{equation}"
   ]
  },
  {
   "cell_type": "markdown",
   "id": "9475ef4f",
   "metadata": {},
   "source": [
    "$$ U_\\mathrm{r} = \\omega_\\mathrm{r} L I_L(\\omega_\\mathrm{r}) = \\sqrt{\\frac{L}{C}}\\,I_L(\\omega_\\mathrm{r}) \\quad\\quad\\text{and}\\quad\\quad U(j\\omega_\\mathrm{r}) = j\\sqrt{\\frac{L}{C}}\\,I_L(j\\omega_\\mathrm{r})$$"
   ]
  },
  {
   "cell_type": "markdown",
   "id": "49816947",
   "metadata": {},
   "source": [
    "\\begin{equation}\\tag{8.4}\n",
    "    \\text{a: }\\;I_L(\\omega_\\mathrm{r}) = \\sqrt{\\frac{C}{L}}U_\\mathrm{r} = 0.1\\mathrm{A} \\quad\\quad\\text{and}\\quad\\quad \\text{b: }\\;I_L(j\\omega_\\mathrm{r})=-j\\sqrt{\\frac{C}{L}}U(j\\omega_\\mathrm{r}) = -0.1\\mathrm{A}\\,\\angle90^\\circ\n",
    "\\end{equation}"
   ]
  },
  {
   "cell_type": "code",
   "execution_count": 53,
   "id": "86a702c4",
   "metadata": {},
   "outputs": [
    {
     "data": {
      "text/plain": [
       "0.1"
      ]
     },
     "execution_count": 53,
     "metadata": {},
     "output_type": "execute_result"
    }
   ],
   "source": [
    "U_r = 100\n",
    "I_Lr = np.sqrt(C/L)*U_r\n",
    "I_Lr"
   ]
  },
  {
   "cell_type": "markdown",
   "id": "95f21af7",
   "metadata": {},
   "source": [
    "$$ U_\\mathrm{r} = \\frac{1}{\\omega_\\mathrm{r} C}I_C(\\omega_\\mathrm{r}) = \\sqrt{\\frac{L}{C}}I_C(\\omega_\\mathrm{r}) \\quad\\quad\\text{and}\\quad\\quad U(j\\omega_\\mathrm{r}) = -j\\,\\sqrt{\\frac{L}{C}}\\,I_C(j\\omega_\\mathrm{r})$$"
   ]
  },
  {
   "cell_type": "markdown",
   "id": "cdff0cce",
   "metadata": {},
   "source": [
    "\\begin{equation}\\tag{8.5}\n",
    "    \\text{a: }\\;I_C(\\omega_\\mathrm{r}) = I_L(\\omega_\\mathrm{r}) = 0.1\\mathrm{A}\\quad\\quad\\text{and}\\quad\\quad\\text{b: }\\;I_C(j\\omega_\\mathrm{r}) = 0.1\\mathrm{A}\\,\\angle90^\\circ\n",
    "\\end{equation}"
   ]
  },
  {
   "cell_type": "markdown",
   "id": "376861d5",
   "metadata": {},
   "source": [
    "$$ U(j\\omega) = RI_R(j\\omega) \\quad\\implies\\quad I_R(j\\omega) = \\frac{GI}{Y(\\omega)}\\,\\angle\\varphi(\\omega)$$"
   ]
  },
  {
   "cell_type": "markdown",
   "id": "bdce97ae",
   "metadata": {},
   "source": [
    "$$ U(\\omega) = \\omega L I_L(\\omega) \\quad\\implies \\quad I_L(\\omega) = \\frac{I}{\\omega LY(\\omega)}$$"
   ]
  },
  {
   "cell_type": "markdown",
   "id": "47d31c17",
   "metadata": {},
   "source": [
    "$$ U(\\omega) = \\frac{1}{\\omega C}\\,I_C(\\omega) \\quad\\implies\\quad I_C(\\omega) = \\frac{\\omega CI}{Y(\\omega)}$$"
   ]
  },
  {
   "cell_type": "code",
   "execution_count": 55,
   "id": "9f0274de",
   "metadata": {},
   "outputs": [
    {
     "data": {
      "text/plain": [
       "<matplotlib.legend.Legend at 0x7f7f01d6ca00>"
      ]
     },
     "execution_count": 55,
     "metadata": {},
     "output_type": "execute_result"
    },
    {
     "data": {
      "image/png": "[encoded data removed]",
      "text/plain": [
       "<Figure size 432x288 with 1 Axes>"
      ]
     },
     "metadata": {
      "needs_background": "light"
     },
     "output_type": "display_data"
    }
   ],
   "source": [
    "# Create the frequency domain.\n",
    "omega = np.linspace(1, 2*omega_r, num=200)\n",
    "\n",
    "# Define ancillaries.\n",
    "G = 1/R\n",
    "B = omega * C - 1/(omega*L)\n",
    "Y = np.sqrt(G**2 + B**2)\n",
    "f = omega / (2*np.pi)\n",
    "\n",
    "# Define the branch currents as a function of the (radian) frequency.\n",
    "I_R = G*I/Y\n",
    "I_L = I/(omega*L*Y)\n",
    "I_C = omega*C*I/Y\n",
    "\n",
    "# Create figure and axes objects.\n",
    "fig, ax = plt.subplots()\n",
    "ax.set_title('Branch Currents', size=13)\n",
    "ax.set_xlabel('frequency [Hz]')\n",
    "ax.set_ylabel('current [mA]')\n",
    "ax.grid()\n",
    "\n",
    "# Plot the data.\n",
    "ax.plot(f, I_R*1000, label=r'$I_R(\\omega)$')\n",
    "ax.plot(f, I_L*1000, label=r'$I_L(\\omega)$')\n",
    "ax.plot(f, I_C*1000, label=r'$I_C(\\omega)$')\n",
    "ax.legend()"
   ]
  },
  {
   "cell_type": "code",
   "execution_count": 56,
   "id": "49e68b0d",
   "metadata": {},
   "outputs": [
    {
     "data": {
      "text/plain": [
       "159.15494309189535"
      ]
     },
     "execution_count": 56,
     "metadata": {},
     "output_type": "execute_result"
    }
   ],
   "source": [
    "f_r = omega_r/(2*np.pi)\n",
    "f_r"
   ]
  }
 ],
 "metadata": {
  "kernelspec": {
   "display_name": "Python 3",
   "language": "python",
   "name": "python3"
  },
  "language_info": {
   "codemirror_mode": {
    "name": "ipython",
    "version": 3
   },
   "file_extension": ".py",
   "mimetype": "text/x-python",
   "name": "python",
   "nbconvert_exporter": "python",
   "pygments_lexer": "ipython3",
   "version": "3.8.10"
  }
 },
 "nbformat": 4,
 "nbformat_minor": 5
}
