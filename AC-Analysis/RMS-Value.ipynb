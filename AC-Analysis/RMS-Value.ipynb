{
 "cells": [
  {
   "cell_type": "markdown",
   "id": "4b78b83e",
   "metadata": {},
   "source": [
    "# Alternating Current – RMS Value, Phasor Notation\n",
    "### *Chapter 4.1* -- AC Steady-State Analysis\n",
    "\n",
    "An **alternating current**, AC in short, is by definition a sinusoidal current:  \n",
    "\n",
    "\\begin{equation}\\tag{1}\n",
    "    i = i(t) = I_\\mathrm{m}\\,\\sin(\\omega t + \\alpha_i)\n",
    "\\end{equation}    "
   ]
  },
  {
   "cell_type": "markdown",
   "id": "9afa0ce1",
   "metadata": {},
   "source": [
    "where,  \n",
    "\n",
    "* $I_\\mathrm{m}$ is the amplitude, in amps [$\\mathrm{A}$],  \n",
    "\n",
    "\\begin{equation}\\tag{1a}\n",
    "    \\omega = \\frac{2\\pi}{T} = 2\\pi f\n",
    "\\end{equation}    \n",
    "\n",
    "* is the radian or angular velocity in radians per second [$\\mathrm{rad}$/$\\mathrm{s}$],  \n",
    "* $T$ is the period in seconds [$\\mathrm{s}$], $f$ is the frequency in Hertz [$\\mathrm{Hz}$],\n",
    "* and $\\alpha_i$ is the initial phase angle, or simply phase, in radians."
   ]
  },
  {
   "cell_type": "markdown",
   "id": "00c2ca37",
   "metadata": {},
   "source": [
    "Two sinusoidal currents with different phases are presented in Fig. 4.1.1.  \n",
    "\n",
    "![Fig-4.1.1](Figures/Fig-4.1.1.png)"
   ]
  }
 ],
 "metadata": {
  "kernelspec": {
   "display_name": "Python 3",
   "language": "python",
   "name": "python3"
  },
  "language_info": {
   "codemirror_mode": {
    "name": "ipython",
    "version": 3
   },
   "file_extension": ".py",
   "mimetype": "text/x-python",
   "name": "python",
   "nbconvert_exporter": "python",
   "pygments_lexer": "ipython3",
   "version": "3.8.10"
  }
 },
 "nbformat": 4,
 "nbformat_minor": 5
}
