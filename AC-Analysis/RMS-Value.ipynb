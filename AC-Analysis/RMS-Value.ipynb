{
 "cells": [
  {
   "cell_type": "markdown",
   "id": "96be77e2",
   "metadata": {},
   "source": [
    "# Alternating Current – RMS Value, Phasor Notation\n",
    "### *Chapter 4.1* -- AC Steady-State Analysis\n",
    "\n",
    "An **alternating current**, AC in short, is by definition a sinusoidal current:  \n",
    "\n",
    "\\begin{equation}\\tag{1}\n",
    "    i = i(t) = I_\\mathrm{m}\\,\\sin(\\omega t + \\alpha_i)\n",
    "\\end{equation}    "
   ]
  },
  {
   "cell_type": "markdown",
   "id": "e8eb4d94",
   "metadata": {},
   "source": [
    "where,  \n",
    "\n",
    "* $I_\\mathrm{m}$ is the amplitude, in amps [$\\mathrm{A}$],  \n",
    "\n",
    "\\begin{equation}\\tag{1a}\n",
    "    \\omega = \\frac{2\\pi}{T} = 2\\pi f\n",
    "\\end{equation}    \n",
    "\n",
    "* is the radian or angular velocity in radians per second [$\\mathrm{rad}$/$\\mathrm{s}$],  \n",
    "* $T$ is the period in seconds [$\\mathrm{s}$], $f$ is the frequency in Hertz [$\\mathrm{Hz}$],\n",
    "* and $\\alpha_i$ is the initial phase angle, or simply phase, in radians."
   ]
  },
  {
   "cell_type": "markdown",
   "id": "cc7f02a2",
   "metadata": {},
   "source": [
    "Two sinusoidal currents with different phases are presented in Fig. 4.1.1.  \n",
    "\n",
    "![Fig-4.1.1](Figures/Fig-4.1.1.png)"
   ]
  },
  {
   "cell_type": "markdown",
   "id": "bd846a30",
   "metadata": {},
   "source": [
    "The solid curve phase is zero while the dashed curve phase is $\\alpha_i$ radians. It can be said, that\n",
    "the dashed sinusoid leads the solid one by the angle of $\\alpha_i$ radians, or the solid one lags the\n",
    "dashed one by the same angle.\n",
    "To describe the energy delivered by a periodic current or voltage to a resistive load, its root-\n",
    "mean-square value, rms in short, or effective value is defined."
   ]
  },
  {
   "cell_type": "markdown",
   "id": "0617794f",
   "metadata": {},
   "source": [
    "## RMS Value\n",
    "The RMS value (or effective value) of a periodic current (voltage) is a constant that is equal to the DC current\n",
    "(voltage) that delivers the same power to a resistance $R$."
   ]
  },
  {
   "cell_type": "markdown",
   "id": "3c583469",
   "metadata": {},
   "source": [
    "The energy delivered by the DC current within the time of one complete cycle, $T$, should be\n",
    "equal to the energy delivered by a periodic current during the same time period.  Let $I_\\mathrm{rms}:=I$.    \n",
    "\n",
    "\\begin{equation}\\tag{2}\n",
    "    \\int_0^T I^2R\\,\\mathrm{d}t = I^2RT = \\int_0^T i^2R\\,\\mathrm{d}t\n",
    "\\end{equation}    "
   ]
  },
  {
   "cell_type": "markdown",
   "id": "5ebfb517",
   "metadata": {},
   "source": [
    "Then, the rms current is:  \n",
    "\n",
    "\\begin{equation}\\tag{3a}\n",
    "    I = \\sqrt{\\frac{1}{T}\\,\\int_0^T i^2\\,\\mathrm{d}t}\n",
    "\\end{equation}    "
   ]
  },
  {
   "cell_type": "markdown",
   "id": "1cef0f11",
   "metadata": {},
   "source": [
    "Similarly, the rms voltage is:  \n",
    "\n",
    "\\begin{equation}\\tag{3b}\n",
    "    U_\\mathrm{rms}:=U = \\sqrt{\\frac{1}{T}\\,\\int_0^T u^2\\,\\mathrm{d}t}\n",
    "\\end{equation}    "
   ]
  },
  {
   "cell_type": "markdown",
   "id": "cc12df4d",
   "metadata": {},
   "source": [
    "For a sinusoidal current (voltage), rms value is equal to:  \n",
    "\n",
    "\\begin{equation}\\tag{4}\n",
    "    I = \\frac{I_\\mathrm{m}}{\\sqrt{2}}\\quad\\quad\\text{and}\\quad\\quad U = \\frac{U_\\mathrm{m}}{\\sqrt{2}}\n",
    "\\end{equation}    "
   ]
  },
  {
   "cell_type": "markdown",
   "id": "6c25306e",
   "metadata": {},
   "source": [
    "Thus, for a sinusoidal waveform, the effective or rms value is $0.707$ times the maximum\n",
    "value. For example, the household AC voltage is $230 \\mathrm{V}$, with a maximum voltage of $325 \\mathrm{V}$.\n",
    "Any sinusoidal current or voltage, at a given radian frequency $\\omega$ is uniquely characterized by\n",
    "its effective value and phase, so called **phasor**, as described in Appendix B."
   ]
  },
  {
   "cell_type": "markdown",
   "id": "6dfba759",
   "metadata": {},
   "source": [
    "## Complex Number Representation\n",
    "Let $I(\\omega):=I$, $\\alpha_i(\\omega):=\\alpha_i$, $\\alpha_u(\\omega):=\\alpha_u$, $I(j\\omega):=\\mathbf{I}$, $U(j\\omega):=\\mathbf{U}$, and $U(\\omega):=U$.  \n",
    "\n",
    "\\begin{equation}\\tag{5a}\n",
    "    \\mathbf{I} = I(j\\omega) = Ie^{j\\alpha_i} = I\\,\\big(\\cos \\alpha_i + j\\,\\sin\\alpha_i\\big) \\quad\\quad \\hat{=} \\quad\\quad i = i(t) = I_\\mathrm{m}\\sin(\\omega t + \\alpha_i)\n",
    "\\end{equation}    "
   ]
  },
  {
   "cell_type": "markdown",
   "id": "a00da091",
   "metadata": {},
   "source": [
    "\\begin{equation}\\tag{5b}\n",
    "    \\mathbf{U} = U(j\\omega) = Ue^{j\\alpha_u} = U\\,\\big(\\cos \\alpha_u + j\\,\\sin\\alpha_u\\big) \\quad\\quad \\hat{=} \\quad\\quad u = u(t) = U_\\mathrm{m}\\sin(\\omega t + \\alpha_u)\n",
    "\\end{equation}    "
   ]
  },
  {
   "cell_type": "markdown",
   "id": "0b0266b3",
   "metadata": {},
   "source": [
    "Then, element equations and Kirchhhoff’s laws can be transformed from the time-domain into\n",
    "the frequency (phasor)-domain and the problem of AC steady-state analysis can be carried out,\n",
    "as presented in the next Chapter. For simplicity of notation, if the frequency is fixed, i.e.\n",
    "circuit frequency characteristics are not considered, then: $I(\\omega)=I$, $\\alpha_i(\\omega)=\\alpha_i$, etc."
   ]
  },
  {
   "cell_type": "markdown",
   "id": "3062d207",
   "metadata": {},
   "source": [
    "## Drill Problems\n",
    "#### Problem 1\n",
    "1. Find the effective value of periodic current for sawtooth, triangular and rectangular\n",
    "    waveforms. Repeat calculations for $i^* = i+I_\\mathrm{m}$ , as denoted by the dotted time axis.  \n",
    "    \n",
    "![Fig-P.4.1.1](Figures/Fig-P.4.1.1.png)"
   ]
  },
  {
   "cell_type": "markdown",
   "id": "552157ed",
   "metadata": {},
   "source": [
    "For the **sawtooth waveform**:  \n",
    "\n",
    "Let $f(t)$ be defined as:  \n",
    "\n",
    "$$ f(t):= \\frac{4I_\\mathrm{m}}{T}\\,t\\,\\big(\\mathbf{1}(t)-\\mathbf{1}(t-\\tau)\\big)\\quad\\quad\\text{where }\\;\\tau = 0.5T$$"
   ]
  },
  {
   "cell_type": "markdown",
   "id": "32d45876",
   "metadata": {},
   "source": [
    "$$ i = i(t) = f(t) + f(t-\\tau) \\quad\\quad\\text{where }\\;t\\le 2\\tau$$"
   ]
  },
  {
   "cell_type": "markdown",
   "id": "3d5d8233",
   "metadata": {},
   "source": [
    "$$ i^2 = f^2(t) + 2f(t)f(t-\\tau) + f^2(t-\\tau)$$"
   ]
  },
  {
   "cell_type": "markdown",
   "id": "2f923928",
   "metadata": {},
   "source": [
    "$$ f^2(t) = \\left(\\frac{4I_\\mathrm{m}}{T}\\right)^2t^2\\,\\big(\\mathbf{1}^2(t) - 2\\mathbf{1}(t)\\mathbf{1}(t-\\tau) + \\mathbf{1}^2(t-\\tau)\\big)$$"
   ]
  },
  {
   "cell_type": "markdown",
   "id": "7781f3b5",
   "metadata": {},
   "source": [
    "$$ = \\left(\\frac{4I_\\mathrm{m}}{T}\\right)^2t^2\\,\\big(\\mathbf{1}(t) - 2\\mathbf{1}(t-\\tau) + \\mathbf{1}(t-\\tau)\\big)$$"
   ]
  },
  {
   "cell_type": "markdown",
   "id": "da972f60",
   "metadata": {},
   "source": [
    "$$ i = i(t) = \\frac{4I_\\mathrm{m}}{T} \\, t \\quad\\quad \\text{where }\\; t \\le 0.5T\n",
    "$$"
   ]
  },
  {
   "cell_type": "markdown",
   "id": "5c985b5b",
   "metadata": {},
   "source": [
    "$$ I^2T = \\int_0^T i^2\\,\\mathrm{d}t = 2\\int_0^{0.5T} i^2\\,\\mathrm{d}t$$"
   ]
  },
  {
   "cell_type": "markdown",
   "id": "d7284b4c",
   "metadata": {},
   "source": [
    "$$ \\int i^2\\,\\mathrm{d}t = \\left(\\frac{4I_\\mathrm{m}}{T}\\right)^2 \\frac{t^3}{3} + c$$"
   ]
  },
  {
   "cell_type": "markdown",
   "id": "127ba402",
   "metadata": {},
   "source": [
    "Thus,\n",
    "$$ I^2T = \\left(\\frac{4I_\\mathrm{m}}{T}\\right)^2\\,\\frac{T^3}{2^4 3} = \\frac{TI_\\mathrm{m}^2}{3}$$"
   ]
  },
  {
   "cell_type": "markdown",
   "id": "e2b2b6b1",
   "metadata": {},
   "source": [
    "Finally,  \n",
    "\n",
    "\\begin{equation}\\tag{1.1}\n",
    "    I = I_\\mathrm{m}\\,\\sqrt{\\frac{1}{3}}\n",
    "\\end{equation}    "
   ]
  },
  {
   "cell_type": "markdown",
   "id": "a25b2dfa",
   "metadata": {},
   "source": [
    "$$ i^{*2} = (i + I_\\mathrm{m})^2 = i^2 + 2iI_\\mathrm{m} + I_\\mathrm{m}^2$$"
   ]
  },
  {
   "cell_type": "markdown",
   "id": "d327e1dd",
   "metadata": {},
   "source": [
    "$$ \\int i^{*2}\\,\\mathrm{d}t = \\int i^2\\,\\mathrm{d} t + 2I_\\mathrm{m}\\int i\\,\\mathrm{d}t + I_\\mathrm{m}^2 t$$"
   ]
  },
  {
   "cell_type": "markdown",
   "id": "fcfde041",
   "metadata": {},
   "source": [
    "\\begin{equation}\\tag{1.2}\n",
    "    = \\left(\\frac{4I_\\mathrm{m}}{T}\\right)^2 \\frac{t^3}{3}  + \\frac{4I_\\mathrm{m}^2}{T}\\,t^2 + I_\\mathrm{m}^2t + c\n",
    "\\end{equation}    "
   ]
  },
  {
   "cell_type": "markdown",
   "id": "9d051a86",
   "metadata": {},
   "source": [
    "$$ I^{*2}T = \\int_0^T i^{*2}\\,\\mathrm{d}t = 2\\,\\int_0^{0.5T} i^{*2}\\,\\mathrm{d}t = 0.5I_\\mathrm{m}^2 T + 0.5I_\\mathrm{m}^2T + \\frac{TI_\\mathrm{m}^2}{3}$$"
   ]
  },
  {
   "cell_type": "markdown",
   "id": "6e991a78",
   "metadata": {},
   "source": [
    "$$I^{*2} = I_\\mathrm{m}^2 + \\frac{I_\\mathrm{m}^2}{3} = \\frac{4I_\\mathrm{m}^2}{3}$$"
   ]
  },
  {
   "cell_type": "markdown",
   "id": "8eb8d856",
   "metadata": {},
   "source": [
    "Finally,  \n",
    "\n",
    "\\begin{equation}\\tag{1.3}\n",
    "    I^* = \\frac{2I_\\mathrm{m}}{\\sqrt{3}}\n",
    "\\end{equation}    "
   ]
  },
  {
   "cell_type": "markdown",
   "id": "8bbd8c6b",
   "metadata": {},
   "source": [
    "![Fig-P.4.1.1](Figures/Fig-P.4.1.1.png)"
   ]
  },
  {
   "cell_type": "markdown",
   "id": "690eff77",
   "metadata": {},
   "source": [
    "Now, for the **traingular waveform**:  \n",
    "\n",
    "$$ i = i(t) = \\frac{8I_\\mathrm{m}}{T}\\,t \\quad\\quad\\text{where }\\; t\\le 0.25T$$"
   ]
  },
  {
   "cell_type": "markdown",
   "id": "cc455e7a",
   "metadata": {},
   "source": [
    "$$ I^2T = \\int_0^T i^2\\,\\mathrm{d}t = 4\\,\\int_0^{0.25T} i^2\\,\\mathrm{d}t$$"
   ]
  },
  {
   "cell_type": "markdown",
   "id": "b887e17c",
   "metadata": {},
   "source": [
    "Let $A$ be defined as:  \n",
    "\n",
    "$$ A:=\\frac{8I_\\mathrm{m}}{T}$$"
   ]
  },
  {
   "cell_type": "markdown",
   "id": "5fe0cf1a",
   "metadata": {},
   "source": [
    "$$ \\int i^2\\,\\mathrm{d}t = A^2\\,\\frac{t^3}{3} + c$$"
   ]
  },
  {
   "cell_type": "markdown",
   "id": "2392d54d",
   "metadata": {},
   "source": [
    "$$ I^2T = \\frac{4}{3}\\,A^2 \\frac{T^3}{4^3} = \\frac{A^2T^3}{4^2 3}$$"
   ]
  },
  {
   "cell_type": "markdown",
   "id": "b18dbccc",
   "metadata": {},
   "source": [
    "Finally,  \n",
    "\n",
    "\\begin{equation}\\tag{1.4}\n",
    "    I = \\frac{AT}{4\\sqrt{3}} = \\frac{2I_\\mathrm{m}}{\\sqrt{3}}\n",
    "\\end{equation}    "
   ]
  },
  {
   "cell_type": "markdown",
   "id": "1047302a",
   "metadata": {},
   "source": [
    "$$ \\int i^{*2}\\,\\mathrm{d}t = A^2\\,\\frac{t^3}{3}+ I_\\mathrm{m}At^2 + I_\\mathrm{m}^2t + c$$"
   ]
  },
  {
   "cell_type": "markdown",
   "id": "12a32ab7",
   "metadata": {},
   "source": [
    "$$ I^{*2}T = 4\\int_0^{0.25T} i^{*2}\\,\\mathrm{d}t = \\frac{A^2T^3}{12} + I_\\mathrm{m}A\\,\\frac{T^2}{4} + I_\\mathrm{m}^2T$$"
   ]
  },
  {
   "cell_type": "markdown",
   "id": "60d26ccb",
   "metadata": {},
   "source": [
    "$$ I^{*2} = \\frac{A^2T^2 + 3I_\\mathrm{m}AT + 12I_\\mathrm{m}^2}{12}$$"
   ]
  },
  {
   "cell_type": "markdown",
   "id": "2123aa5a",
   "metadata": {},
   "source": [
    "$$ = \\frac{8^2I_\\mathrm{m}^2 + 8\\cdot3I_\\mathrm{m}^2 + 12I_\\mathrm{m}^2}{12} = \\frac{44}{12}\\,I_\\mathrm{m}^2 = \\frac{11}{3}\\,I_\\mathrm{m}^2$$"
   ]
  },
  {
   "cell_type": "markdown",
   "id": "b8ab702b",
   "metadata": {},
   "source": [
    "Finally,  \n",
    "\n",
    "\\begin{equation}\\tag{1.5}\n",
    "    I^*=I_\\mathrm{m}\\,\\sqrt{\\frac{11}{3}}\n",
    "\\end{equation}    "
   ]
  },
  {
   "cell_type": "markdown",
   "id": "e4a238be",
   "metadata": {},
   "source": [
    "![Fig-P.4.1.1](Figures/Fig-P.4.1.1.png)"
   ]
  },
  {
   "cell_type": "markdown",
   "id": "6a698915",
   "metadata": {},
   "source": [
    "Now, for the **bottom left** waveform:  \n",
    "\n",
    "$$ I^2T = 2I_\\mathrm{m}^2T$$"
   ]
  },
  {
   "cell_type": "markdown",
   "id": "ac71c387",
   "metadata": {},
   "source": [
    "$$ I = I_\\mathrm{m}\\,\\sqrt{2}$$"
   ]
  },
  {
   "cell_type": "markdown",
   "id": "8e2b5a64",
   "metadata": {},
   "source": [
    "$$i^{*2} = i^2 + 2iI_\\mathrm{m} + I_\\mathrm{m}^2$$"
   ]
  },
  {
   "cell_type": "markdown",
   "id": "9d6f5f4f",
   "metadata": {},
   "source": [
    "$$ I^{*2}T = 2I_\\mathrm{m}^2T + 2I_\\mathrm{m}^2T + I_\\mathrm{m}^2T$$"
   ]
  },
  {
   "cell_type": "markdown",
   "id": "d8971fc6",
   "metadata": {},
   "source": [
    "$$ I^{*2} = 5I_\\mathrm{m}^2$$"
   ]
  },
  {
   "cell_type": "markdown",
   "id": "9c7275ec",
   "metadata": {},
   "source": [
    "$$ I^* = I_\\mathrm{m}\\,\\sqrt{5}$$"
   ]
  },
  {
   "cell_type": "markdown",
   "id": "df9f2f3f",
   "metadata": {},
   "source": [
    "And, finally, the **bottom right** waveform:  \n",
    "\n",
    "$$ I^2T = 4I_\\mathrm{m}^2\\tau$$"
   ]
  },
  {
   "cell_type": "markdown",
   "id": "7c1b11c3",
   "metadata": {},
   "source": [
    "$$ I = 2I_\\mathrm{m}\\,\\sqrt{\\frac{\\tau}{T}}$$"
   ]
  },
  {
   "cell_type": "markdown",
   "id": "179caa41",
   "metadata": {},
   "source": [
    "$$ I^{*2}T = 4I_\\mathrm{m}^2\\tau + 4I_\\mathrm{m}^2\\tau + I_\\mathrm{m}^2T$$"
   ]
  },
  {
   "cell_type": "markdown",
   "id": "c5969b67",
   "metadata": {},
   "source": [
    "$$ I^{*2} = I_\\mathrm{m}^2\\,\\left(\\frac{8\\tau}{T} + 1\\right) = I_\\mathrm{m}^2\\,\\frac{8\\tau + T}{T}$$"
   ]
  },
  {
   "cell_type": "markdown",
   "id": "406f049e",
   "metadata": {},
   "source": [
    "$$ I^* = I_\\mathrm{m}\\,\\sqrt{\\frac{8\\tau+T}{T}}$$"
   ]
  },
  {
   "cell_type": "markdown",
   "id": "6333508e",
   "metadata": {},
   "source": [
    "## Appendix\n",
    "Proof for equation (4):  \n",
    "\n",
    "For a sinusoidal current (voltage), rms value is equal to:  \n",
    "\n",
    "\\begin{equation}\\tag{4}\n",
    "    I = \\frac{I_\\mathrm{m}}{\\sqrt{2}}\\quad\\quad\\text{and}\\quad\\quad U = \\frac{U_\\mathrm{m}}{\\sqrt{2}}\n",
    "\\end{equation}    "
   ]
  },
  {
   "cell_type": "markdown",
   "id": "2a7ba66d",
   "metadata": {},
   "source": [
    "$$ i = i(t) = I_\\mathrm{m}\\sin(\\omega t + \\alpha_i)$$"
   ]
  },
  {
   "cell_type": "markdown",
   "id": "6cfb6533",
   "metadata": {},
   "source": [
    "$$ I^2T = \\int_0^T i^2\\,\\mathrm{d}t = cT - \\frac{I_\\mathrm{m}^2}{4\\omega}\\,\\sin\\big(2(\\omega T+ \\alpha_i)\\big) + \\frac{I_\\mathrm{m}^2}{4\\omega}\\,\\sin 2\\alpha_i $$"
   ]
  },
  {
   "cell_type": "markdown",
   "id": "e7d14cae",
   "metadata": {},
   "source": [
    "$$ = 0.5I_\\mathrm{m}^2T + \\frac{I_\\mathrm{m}^2}{4\\omega}\\,\\Big(\\sin2\\alpha_i - \\sin(2\\omega T + 2\\alpha_i)\\Big)$$"
   ]
  },
  {
   "cell_type": "markdown",
   "id": "58dd1556",
   "metadata": {},
   "source": [
    "$$ \\sin2\\alpha_i - \\sin(2\\alpha_i + 2\\omega T) = 1 - \\cos2\\omega T - j\\,\\sin2\\omega T = \\mathbf{A} = |\\mathbf{A}|\\angle \\lambda = |\\mathbf{A}|\\,\\sin(2\\alpha_i + \\lambda)$$"
   ]
  },
  {
   "cell_type": "markdown",
   "id": "f6d6a30d",
   "metadata": {},
   "source": [
    "$$ |\\mathbf{A}| = \\sqrt{(1-\\cos2\\omega T)^2 + \\sin^2 2\\omega T} \\quad\\quad\\text{and}\\quad\\quad \\lambda = \\arcsin \\frac{-\\sin 2\\omega T}{|\\mathbf{A}|}$$"
   ]
  },
  {
   "cell_type": "markdown",
   "id": "2dc6027d",
   "metadata": {},
   "source": [
    "$$ |\\mathbf{A}| = \\sqrt{2 - 2\\cos2\\omega T}$$"
   ]
  },
  {
   "cell_type": "markdown",
   "id": "f9361b5e",
   "metadata": {},
   "source": [
    "$$ \\int i^2\\,\\mathrm{d}t =  -\\frac{I_\\mathrm{m}^2}{4\\omega}\\,\\sin2\\theta + ct + D$$"
   ]
  },
  {
   "cell_type": "markdown",
   "id": "a4307f24",
   "metadata": {},
   "source": [
    "Let $\\theta$ be defined as $\\theta:=\\theta(t):=\\omega t + \\alpha_i$."
   ]
  },
  {
   "cell_type": "markdown",
   "id": "b7f4e93e",
   "metadata": {},
   "source": [
    "$$ \\frac{\\mathrm{d}i^2}{\\mathrm{d}t} = 2\\omega I_\\mathrm{m}^2\\sin\\theta\\cos\\theta = \\omega I_\\mathrm{m}^2\\sin2\\theta$$"
   ]
  },
  {
   "cell_type": "markdown",
   "id": "b7452c38",
   "metadata": {},
   "source": [
    "$$ i^2 = I_\\mathrm{m}^2\\sin^2\\theta=\\omega I_\\mathrm{m}^2\\,\\int \\sin2\\theta\\,\\mathrm{d}t = -0.5I_\\mathrm{m}^2\\cos2\\theta + c$$"
   ]
  },
  {
   "cell_type": "markdown",
   "id": "62e85931",
   "metadata": {},
   "source": [
    "$$ i^2(0) = I_\\mathrm{m}^2\\sin^2\\alpha_i = - 0.5I_\\mathrm{m}^2\\cos2\\alpha_i + c$$"
   ]
  },
  {
   "cell_type": "markdown",
   "id": "b288e7b6",
   "metadata": {},
   "source": [
    "$$ c = I_\\mathrm{m}^2\\sin^2\\alpha_i + 0.5I_\\mathrm{m}^2\\cos2\\alpha_i = d$$"
   ]
  },
  {
   "cell_type": "markdown",
   "id": "1aba4759",
   "metadata": {},
   "source": [
    "$$ I_\\mathrm{m}^2\\sin^2\\alpha_i = -0.5I_\\mathrm{m}^2\\cos2\\alpha_i + d$$"
   ]
  },
  {
   "cell_type": "markdown",
   "id": "72260fc9",
   "metadata": {},
   "source": [
    "$$d = 0.5I_\\mathrm{m}^2 = c$$"
   ]
  }
 ],
 "metadata": {
  "kernelspec": {
   "display_name": "Python 3",
   "language": "python",
   "name": "python3"
  },
  "language_info": {
   "codemirror_mode": {
    "name": "ipython",
    "version": 3
   },
   "file_extension": ".py",
   "mimetype": "text/x-python",
   "name": "python",
   "nbconvert_exporter": "python",
   "pygments_lexer": "ipython3",
   "version": "3.8.10"
  }
 },
 "nbformat": 4,
 "nbformat_minor": 5
}
