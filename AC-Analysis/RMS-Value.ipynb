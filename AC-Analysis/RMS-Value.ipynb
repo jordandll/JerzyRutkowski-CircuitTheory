{
 "cells": [
  {
   "cell_type": "markdown",
   "id": "3ac23f38",
   "metadata": {},
   "source": [
    "# Alternating Current – RMS Value, Phasor Notation\n",
    "### *Chapter 4.1* -- AC Steady-State Analysis\n",
    "\n",
    "An **alternating current**, AC in short, is by definition a sinusoidal current:  \n",
    "\n",
    "\\begin{equation}\\tag{1}\n",
    "    i = i(t) = I_\\mathrm{m}\\,\\sin(\\omega t + \\alpha_i)\n",
    "\\end{equation}    "
   ]
  },
  {
   "cell_type": "markdown",
   "id": "835c121e",
   "metadata": {},
   "source": [
    "where,  \n",
    "\n",
    "* $I_\\mathrm{m}$ is the amplitude, in amps [$\\mathrm{A}$],  \n",
    "\n",
    "\\begin{equation}\\tag{1a}\n",
    "    \\omega = \\frac{2\\pi}{T} = 2\\pi f\n",
    "\\end{equation}    \n",
    "\n",
    "* is the radian or angular velocity in radians per second [$\\mathrm{rad}$/$\\mathrm{s}$],  \n",
    "* $T$ is the period in seconds [$\\mathrm{s}$], $f$ is the frequency in Hertz [$\\mathrm{Hz}$],\n",
    "* and $\\alpha_i$ is the initial phase angle, or simply phase, in radians."
   ]
  },
  {
   "cell_type": "markdown",
   "id": "bf2e4c23",
   "metadata": {},
   "source": [
    "Two sinusoidal currents with different phases are presented in Fig. 4.1.1.  \n",
    "\n",
    "![Fig-4.1.1](Figures/Fig-4.1.1.png)"
   ]
  },
  {
   "cell_type": "markdown",
   "id": "8b8d72ed",
   "metadata": {},
   "source": [
    "The solid curve phase is zero while the dashed curve phase is $\\alpha_i$ radians. It can be said, that\n",
    "the dashed sinusoid leads the solid one by the angle of $\\alpha_i$ radians, or the solid one lags the\n",
    "dashed one by the same angle.\n",
    "To describe the energy delivered by a periodic current or voltage to a resistive load, its root-\n",
    "mean-square value, rms in short, or effective value is defined."
   ]
  },
  {
   "cell_type": "markdown",
   "id": "3f373120",
   "metadata": {},
   "source": [
    "## RMS Value\n",
    "The RMS value (or effective value) of a periodic current (voltage) is a constant that is equal to the DC current\n",
    "(voltage) that delivers the same power to a resistance $R$."
   ]
  },
  {
   "cell_type": "markdown",
   "id": "964fcecd",
   "metadata": {},
   "source": [
    "The energy delivered by the DC current within the time of one complete cycle, $T$, should be\n",
    "equal to the energy delivered by a periodic current during the same time period.  Let $I_\\mathrm{rms}:=I$.    \n",
    "\n",
    "\\begin{equation}\\tag{2}\n",
    "    \\int_0^T I^2R\\,\\mathrm{d}t = I^2RT = \\int_0^T i^2R\\,\\mathrm{d}t\n",
    "\\end{equation}    "
   ]
  },
  {
   "cell_type": "markdown",
   "id": "6dc96bb8",
   "metadata": {},
   "source": [
    "Then, the rms current is:  \n",
    "\n",
    "\\begin{equation}\\tag{3a}\n",
    "    I = \\sqrt{\\frac{1}{T}\\,\\int_0^T i^2\\,\\mathrm{d}t}\n",
    "\\end{equation}    "
   ]
  },
  {
   "cell_type": "markdown",
   "id": "182e1261",
   "metadata": {},
   "source": [
    "Similarly, the rms voltage is:  \n",
    "\n",
    "\\begin{equation}\\tag{3b}\n",
    "    U_\\mathrm{rms}:=U = \\sqrt{\\frac{1}{T}\\,\\int_0^T u^2\\,\\mathrm{d}t}\n",
    "\\end{equation}    "
   ]
  },
  {
   "cell_type": "markdown",
   "id": "e95cbc7f",
   "metadata": {},
   "source": [
    "For a sinusoidal current (voltage), rms value is equal to:  \n",
    "\n",
    "\\begin{equation}\\tag{4}\n",
    "    I = \\frac{I_\\mathrm{m}}{\\sqrt{2}}\\quad\\quad\\text{and}\\quad\\quad U = \\frac{U_\\mathrm{m}}{\\sqrt{2}}\n",
    "\\end{equation}    "
   ]
  },
  {
   "cell_type": "markdown",
   "id": "0fbce6a8",
   "metadata": {},
   "source": [
    "Thus, for a sinusoidal waveform, the effective or rms value is $0.707$ times the maximum\n",
    "value. For example, the household AC voltage is $230 \\mathrm{V}$, with a maximum voltage of $325 \\mathrm{V}$.\n",
    "Any sinusoidal current or voltage, at a given radian frequency $\\omega$ is uniquely characterized by\n",
    "its effective value and phase, so called **phasor**, as described in Appendix B."
   ]
  },
  {
   "cell_type": "markdown",
   "id": "e908cfe1",
   "metadata": {},
   "source": [
    "## Complex Number Representation\n",
    "Let $I(\\omega):=I$, $\\alpha_i(\\omega):=\\alpha_i$, $\\alpha_u(\\omega):=\\alpha_u$, $I(j\\omega):=\\mathbf{I}$, $U(j\\omega):=\\mathbf{U}$, and $U(\\omega):=U$.  \n",
    "\n",
    "\\begin{equation}\\tag{5a}\n",
    "    \\mathbf{I} = Ie^{j\\alpha_i} = I\\,\\big(\\cos \\alpha_i + j\\,\\sin\\alpha_i\\big) \\quad\\quad \\hat{=} \\quad\\quad i = i(t) = I_\\mathrm{m}\\sin(\\omega t + \\alpha_i)\n",
    "\\end{equation}    "
   ]
  },
  {
   "cell_type": "markdown",
   "id": "3ac6997b",
   "metadata": {},
   "source": [
    "\\begin{equation}\\tag{5b}\n",
    "    \\mathbf{U} = Ue^{j\\alpha_u} = U\\,\\big(\\cos \\alpha_u + j\\,\\sin\\alpha_u\\big) \\quad\\quad \\hat{=} \\quad\\quad u = u(t) = U_\\mathrm{m}\\sin(\\omega t + \\alpha_u)\n",
    "\\end{equation}    "
   ]
  },
  {
   "cell_type": "markdown",
   "id": "338701c5",
   "metadata": {},
   "source": [
    "Then, element equations and Kirchhhoff’s laws can be transformed from the time-domain into\n",
    "the frequency (phasor)-domain and the problem of AC steady-state analysis can be carried out,\n",
    "as presented in the next Chapter. For simplicity of notation, if the frequency is fixed, i.e.\n",
    "circuit frequency characteristics are not considered, then: $I(\\omega)=I$, $\\alpha_i(\\omega)=\\alpha_i$, etc."
   ]
  },
  {
   "cell_type": "markdown",
   "id": "b0b46b8d",
   "metadata": {},
   "source": [
    "## Drill Problems\n",
    "#### Problem 1\n",
    "1. Find the effective value of periodic current for sawtooth, triangular and rectangular\n",
    "    waveforms. Repeat calculations for $i^* = i+I_\\mathrm{m}$ , as denoted by the dotted time axis.  \n",
    "    \n",
    "![Fig-P.4.1.1](Figures/Fig-P.4.1.1.png)"
   ]
  },
  {
   "cell_type": "markdown",
   "id": "07ce5f9b",
   "metadata": {},
   "source": [
    "For the **sawtooth waveform**:  \n",
    "\n",
    "Let $f(t)$ be defined as:  \n",
    "\n",
    "$$ f(t):= \\frac{4I_\\mathrm{m}}{T}\\,t\\,\\big(\\mathbf{1}(t)-\\mathbf{1}(t-\\tau)\\big)\\quad\\quad\\text{where }\\;\\tau = 0.5T$$"
   ]
  },
  {
   "cell_type": "markdown",
   "id": "afa011e2",
   "metadata": {},
   "source": [
    "$$ i = i(t) = f(t) + f(t-\\tau) \\quad\\quad\\text{where }\\;t\\le 2\\tau$$"
   ]
  },
  {
   "cell_type": "markdown",
   "id": "c3492319",
   "metadata": {},
   "source": [
    "$$ i^2 = f^2(t) + 2f(t)f(t-\\tau) + f^2(t-\\tau)$$"
   ]
  },
  {
   "cell_type": "markdown",
   "id": "090ac35c",
   "metadata": {},
   "source": [
    "$$ f^2(t) = \\left(\\frac{4I_\\mathrm{m}}{T}\\right)^2t^2\\,\\big(\\mathbf{1}^2(t) - 2\\mathbf{1}(t)\\mathbf{1}(t-\\tau) + \\mathbf{1}^2(t-\\tau)\\big)$$"
   ]
  },
  {
   "cell_type": "markdown",
   "id": "eed3fe7a",
   "metadata": {},
   "source": [
    "$$ = \\left(\\frac{4I_\\mathrm{m}}{T}\\right)^2t^2\\,\\big(\\mathbf{1}(t) - 2\\mathbf{1}(t-\\tau) + \\mathbf{1}(t-\\tau)\\big)$$"
   ]
  },
  {
   "cell_type": "markdown",
   "id": "6fe4af5d",
   "metadata": {},
   "source": [
    "$$ i = i(t) = \\frac{4I_\\mathrm{m}}{T} \\, t \\quad\\quad \\text{where }\\; t \\le 0.5T\n",
    "$$"
   ]
  },
  {
   "cell_type": "markdown",
   "id": "d11c27f8",
   "metadata": {},
   "source": [
    "$$ I^2T = \\int_0^T i^2\\,\\mathrm{d}t = 2\\int_0^{0.5T} i^2\\,\\mathrm{d}t$$"
   ]
  },
  {
   "cell_type": "markdown",
   "id": "549be890",
   "metadata": {},
   "source": [
    "$$ \\int i^2\\,\\mathrm{d}t = \\left(\\frac{4I_\\mathrm{m}}{T}\\right)^2 \\frac{t^3}{3} + c$$"
   ]
  },
  {
   "cell_type": "markdown",
   "id": "bc405ba5",
   "metadata": {},
   "source": [
    "Thus,\n",
    "$$ I^2T = \\left(\\frac{4I_\\mathrm{m}}{T}\\right)^2\\,\\frac{T^3}{2^4 3} = \\frac{TI_\\mathrm{m}^2}{3}$$"
   ]
  },
  {
   "cell_type": "markdown",
   "id": "fef0f771",
   "metadata": {},
   "source": [
    "Finally,  \n",
    "\n",
    "\\begin{equation}\\tag{1.1}\n",
    "    I = I_\\mathrm{m}\\,\\sqrt{\\frac{1}{3}}\n",
    "\\end{equation}    "
   ]
  },
  {
   "cell_type": "markdown",
   "id": "2bd2689e",
   "metadata": {},
   "source": [
    "$$ i^{*2} = (i + I_\\mathrm{m})^2 = i^2 + 2iI_\\mathrm{m} + I_\\mathrm{m}^2$$"
   ]
  },
  {
   "cell_type": "markdown",
   "id": "e2221110",
   "metadata": {},
   "source": [
    "$$ \\int i^{*2}\\,\\mathrm{d}t = \\int i^2\\,\\mathrm{d} t + 2I_\\mathrm{m}\\int i\\,\\mathrm{d}t + I_\\mathrm{m}^2 t$$"
   ]
  },
  {
   "cell_type": "markdown",
   "id": "c1b90f5c",
   "metadata": {},
   "source": [
    "\\begin{equation}\\tag{1.2}\n",
    "    = \\left(\\frac{4I_\\mathrm{m}}{T}\\right)^2 \\frac{t^3}{3}  + \\frac{4I_\\mathrm{m}^2}{T}\\,t^2 + I_\\mathrm{m}^2t + c\n",
    "\\end{equation}    "
   ]
  },
  {
   "cell_type": "markdown",
   "id": "ee97bb50",
   "metadata": {},
   "source": [
    "$$ I^{*2}T = \\int_0^T i^{*2}\\,\\mathrm{d}t = 2\\,\\int_0^{0.5T} i^{*2}\\,\\mathrm{d}t = 0.5I_\\mathrm{m}^2 T + 0.5I_\\mathrm{m}^2T + \\frac{TI_\\mathrm{m}^2}{3}$$"
   ]
  },
  {
   "cell_type": "markdown",
   "id": "29620488",
   "metadata": {},
   "source": [
    "$$I^{*2} = I_\\mathrm{m}^2 + \\frac{I_\\mathrm{m}^2}{3} = \\frac{4I_\\mathrm{m}^2}{3}$$"
   ]
  },
  {
   "cell_type": "markdown",
   "id": "fd54e25f",
   "metadata": {},
   "source": [
    "Finally,  \n",
    "\n",
    "\\begin{equation}\\tag{1.3}\n",
    "    I^* = \\frac{2I_\\mathrm{m}}{\\sqrt{3}}\n",
    "\\end{equation}    "
   ]
  },
  {
   "cell_type": "markdown",
   "id": "3372ca64",
   "metadata": {},
   "source": [
    "![Fig-P.4.1.1](Figures/Fig-P.4.1.1.png)"
   ]
  },
  {
   "cell_type": "markdown",
   "id": "e5a189df",
   "metadata": {},
   "source": [
    "Now, for the **traingular waveform**:  \n",
    "\n",
    "$$ i = i(t) = \\frac{8I_\\mathrm{m}}{T}\\,t \\quad\\quad\\text{where }\\; t\\le 0.25T$$"
   ]
  },
  {
   "cell_type": "markdown",
   "id": "47549da4",
   "metadata": {},
   "source": [
    "$$ I^2T = \\int_0^T i^2\\,\\mathrm{d}t = 4\\,\\int_0^{0.25T} i^2\\,\\mathrm{d}t$$"
   ]
  },
  {
   "cell_type": "markdown",
   "id": "38b1ac24",
   "metadata": {},
   "source": [
    "Let $A$ be defined as:  \n",
    "\n",
    "$$ A:=\\frac{8I_\\mathrm{m}}{T}$$"
   ]
  },
  {
   "cell_type": "markdown",
   "id": "32e09ef0",
   "metadata": {},
   "source": [
    "$$ \\int i^2\\,\\mathrm{d}t = A^2\\,\\frac{t^3}{3} + c$$"
   ]
  },
  {
   "cell_type": "markdown",
   "id": "27e9c2fe",
   "metadata": {},
   "source": [
    "$$ I^2T = \\frac{4}{3}\\,A^2 \\frac{T^3}{4^3} = \\frac{A^2T^3}{4^2 3}$$"
   ]
  },
  {
   "cell_type": "markdown",
   "id": "6c97dad4",
   "metadata": {},
   "source": [
    "Finally,  \n",
    "\n",
    "\\begin{equation}\\tag{1.4}\n",
    "    I = \\frac{AT}{4\\sqrt{3}} = \\frac{2I_\\mathrm{m}}{\\sqrt{3}}\n",
    "\\end{equation}    "
   ]
  }
 ],
 "metadata": {
  "kernelspec": {
   "display_name": "Python 3",
   "language": "python",
   "name": "python3"
  },
  "language_info": {
   "codemirror_mode": {
    "name": "ipython",
    "version": 3
   },
   "file_extension": ".py",
   "mimetype": "text/x-python",
   "name": "python",
   "nbconvert_exporter": "python",
   "pygments_lexer": "ipython3",
   "version": "3.8.10"
  }
 },
 "nbformat": 4,
 "nbformat_minor": 5
}
