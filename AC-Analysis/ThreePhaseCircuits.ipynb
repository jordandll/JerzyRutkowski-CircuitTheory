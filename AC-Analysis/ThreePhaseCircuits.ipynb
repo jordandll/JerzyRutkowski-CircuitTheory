{
 "cells": [
  {
   "cell_type": "markdown",
   "id": "a93e1214",
   "metadata": {},
   "source": [
    "# Three-phase Circuits\n",
    "### *Chapter 4 Section 8* -- AC Steady State Analysis\n",
    "\n",
    "One very important use of ac steady-state analysis is its application to power systems.\n",
    "Alternating voltage can be stepped up for transmission and stepped down for distribution with\n",
    "transformers, and this subject is not discussed. For reason of economics and performance,\n",
    "almost all electric power systems are three-phase systems. In such system, the source is the\n",
    "three-phase **balanced generator**. Such generator produces a balanced set of voltages, the\n",
    "voltages having the same amplitude and frequency but displaced in phase by . For the\n",
    "conventionally assumed zero initial phase angle of the 1st phase and the **phase sequence**, that\n",
    "is the sequence in which phase voltages reach a positive peak, 123 or ABC, these voltages are"
   ]
  },
  {
   "cell_type": "markdown",
   "id": "a3af8a47",
   "metadata": {},
   "source": [
    "\\begin{align*}\\tag{1}\n",
    "\t&E_1(j\\omega) = Ee^{j0^\\circ} = E\\angle0 &\\quad\\quad\\text{between terminals 1 and 1' or A and a,}\\\\\n",
    "\t&E_2(j\\omega) = Ee^{j-120^\\circ} = E\\angle\\!-\\!120^\\circ &\\quad\\quad\\text{between terminals 2 and 2' or B and b,}\\\\\n",
    "\t&E_3(j\\omega) = Ee^{j120^\\circ} = E\\angle120^\\circ &\\quad\\quad\\text{between terminals 3 and 3' or C and c.}\n",
    "\\end{align*}"
   ]
  },
  {
   "cell_type": "markdown",
   "id": "aeb388c1",
   "metadata": {},
   "source": [
    "as presented in Fig. 4.8.1 phasor diagram.  \n",
    "\n",
    "![Fig-4.8.1](Figures/Fig-4.8.1.png)"
   ]
  },
  {
   "cell_type": "markdown",
   "id": "31175510",
   "metadata": {},
   "source": [
    "For the assumed sequence, instead of specifying three balanced sources, it is sufficient to\n",
    "specify one, e.g. $E_1(j\\omega)$ . Then  \n",
    "\n",
    "\\begin{equation}\\tag{2}\n",
    "\t\\text{a: }\\;E_3(j\\omega) =  E_1(j\\omega)\\cdot1\\angle120^\\circ\\quad\\quad\\text{and}\\quad\\quad \\text{b: }\\;E_2(j\\omega) = E_3\\cdot1\\angle120^\\circ\n",
    "\\end{equation}"
   ]
  },
  {
   "cell_type": "markdown",
   "id": "bf134feb",
   "metadata": {},
   "source": [
    "The sum of any balanced set of three-phase voltages is always zero.  \n",
    "\n",
    "\\begin{equation}\\tag{3}\n",
    "\t\\sum_{i=1}^3 E_i(j\\omega) = 0\n",
    "\\end{equation}"
   ]
  },
  {
   "cell_type": "markdown",
   "id": "a8effe46",
   "metadata": {},
   "source": [
    "For the proof to equation (3), [click here](Equation-4.8.3.ipynb)."
   ]
  },
  {
   "cell_type": "markdown",
   "id": "f72f4fe8",
   "metadata": {},
   "source": [
    "The three-phase generator is equivalent to three single-phase generators and individual\n",
    "generators may be connected to individual loads, to produce three single-phase circuits.\n",
    "However, for reason of economics, individual generators and individual loads are connected\n",
    "into one three-phase circuit, and three methods of connecting three-phase circuit are possible:  \n",
    "\n",
    "1. wye-wye or Y-Y or star-star connection,\n",
    "2. delta-delta or $\\Delta$-$\\Delta$ or mesh-mesh connection,\n",
    "3. mixed, Y-$\\Delta$ or $\\Delta$-Y  (or mesh-star or star-mesh ?) connection"
   ]
  },
  {
   "cell_type": "markdown",
   "id": "3f497b90",
   "metadata": {},
   "source": [
    "## Wye-Wye Systems\n",
    "Consider the three-phase source that has line terminals 1, 2 and 3 and a neutral terminal 0, in\n",
    "which terminals 1’, 2’ and 3’ are connected. In this case the source is said to be wye(Y)-\n",
    "connected or star-connected, as shown in Fig. 4.8.2 for two representations: wye-shape\n",
    "representation and somewhat easier to draw equivalent representation. Line terminals are\n",
    "normally denoted by letters A, B, C and neutral by N. However, for compliance with\n",
    "description of dc multi-terminal circuits, these terminals are denoted by numbers 1, 2, 3 and 0.  \n",
    "\n",
    "![Fig-4.8.2](Figures/Fig-4.8.2.png)"
   ]
  },
  {
   "cell_type": "markdown",
   "id": "0eca076e",
   "metadata": {},
   "source": [
    "Same connection may be applied to a load, and then, three single-phase circuits are connected\n",
    "in a wye-wye three-phase four wire system, as shown in Fig. 4.8.3. For the assumed\n",
    "resistanceless lines, voltages between line terminals and the neutral terminal of three-phase\n",
    "load are source voltages.  \n",
    "\n",
    "\\begin{equation}\\tag{4}\n",
    "\t\\text{a: }\\;V = E\\quad\\quad\\text{and}\\quad\\quad \\text{b: }\\;V_i(j\\omega) = E_i(j\\omega)\\quad\\forall i\\in\\{1,2,3\\}\n",
    "\\end{equation}"
   ]
  },
  {
   "cell_type": "markdown",
   "id": "aaa8bb51",
   "metadata": {},
   "source": [
    "They are called **phase voltages** and are the same as load voltages of three single-phase\n",
    "circuits. These voltages are denoted in Fig. 4.8.1 phasor diagram (bold), together with line-to-\n",
    "line voltages or simply **line voltages**.  \n",
    "\n",
    "\\begin{align*}\\tag{5}\n",
    "\t\\text{a: }\\;U_{31}(j\\omega) &= V_3(j\\omega) - V_1(j\\omega) = U\\angle150^\\circ \\\\ \\text{b: }\\;U_{23}(j\\omega) &= V_2(j\\omega) - V_3(j\\omega) = U\\angle270^\\circ\\\\ \\text{c: }\\;U_{12}(j\\omega) &= V_1(j\\omega) - V_2(j\\omega) = U\\angle30^\\circ\n",
    "\\end{align*}"
   ]
  },
  {
   "cell_type": "markdown",
   "id": "d9485d72",
   "metadata": {},
   "source": [
    "Where the magnitude of each line voltage is:  \n",
    "\n",
    "\\begin{equation}\\tag{6}\n",
    "    U = \\sqrt{3}V = \\sqrt{3}E\n",
    "\\end{equation}"
   ]
  },
  {
   "cell_type": "markdown",
   "id": "56ff60e5",
   "metadata": {},
   "source": [
    "For a phase RMS voltage of $230 \\mathrm{V}$, line RMS voltage is equal to $\\approx 400 \\mathrm{V}$."
   ]
  },
  {
   "cell_type": "code",
   "execution_count": 1,
   "id": "cb319474",
   "metadata": {},
   "outputs": [],
   "source": [
    "import numpy as np"
   ]
  },
  {
   "cell_type": "code",
   "execution_count": 2,
   "id": "b8b36858",
   "metadata": {},
   "outputs": [
    {
     "data": {
      "text/plain": [
       "398.37168574084177"
      ]
     },
     "execution_count": 2,
     "metadata": {},
     "output_type": "execute_result"
    }
   ],
   "source": [
    "np.sqrt(3)*230"
   ]
  },
  {
   "cell_type": "markdown",
   "id": "f987a7b9",
   "metadata": {},
   "source": [
    "![Fig-4.8.3](Figures/Fig-4.8.3.png)"
   ]
  },
  {
   "cell_type": "markdown",
   "id": "dcc96e16",
   "metadata": {},
   "source": [
    "Via Ohm's Law in the frequency domain, each line current $J_\\mathrm{i}(j\\omega)$, except the neutral line current, or phase current $I_\\mathrm{i}(j\\omega)$ is designated by it's corresponding load impedance.  \n",
    "\n",
    "\\begin{equation}\\tag{7}\n",
    "    I_\\mathrm{i}(j\\omega) = J_\\mathrm{i}(j\\omega) = \\frac{V_\\mathrm{i}(j\\omega)}{Z_\\mathrm{i}(j\\omega)} \\quad\\forall\\, \\mathrm{i} \\in \\{1,2,3\\}\n",
    "\\end{equation}"
   ]
  },
  {
   "cell_type": "markdown",
   "id": "aec4dcfc",
   "metadata": {},
   "source": [
    "And, the **neutral line current** is, via KCL,  \n",
    "\n",
    "\\begin{equation}\\tag{8}\n",
    "    I_0(j\\omega) = \\sum_{\\mathrm{i}=1}^3 I_\\mathrm{i}(j\\omega)\n",
    "\\end{equation}"
   ]
  },
  {
   "cell_type": "markdown",
   "id": "986ad3e2",
   "metadata": {},
   "source": [
    "Assuming a **balanced load**:  \n",
    "\n",
    "\\begin{equation}\\tag{9}\n",
    "    Z_\\mathrm{i}(j\\omega) = Z(j\\omega) \\quad\\forall \\,\\mathrm{i}\\in\\{1,2,3\\}\n",
    "\\end{equation}"
   ]
  },
  {
   "cell_type": "markdown",
   "id": "01c1a53b",
   "metadata": {},
   "source": [
    "and a balanced generator, the neutral line current is equal to zero.  \n",
    "\n",
    "\\begin{equation}\\tag{10}\n",
    "    I_0(j\\omega) = \\frac{1}{Z(j\\omega)}\\,\\sum_{\\mathrm{i}=1}^3 V_\\mathrm{i}(j\\omega) = 0\n",
    "\\end{equation}"
   ]
  },
  {
   "cell_type": "markdown",
   "id": "2f207be2",
   "metadata": {},
   "source": [
    "and this line can be omitted to form three-phase three-wire system, as shown in Fig. 4.8.4.  \n",
    "\n",
    "In a four-wire unbalanced system, the load neutral point is fixed in potential by connection to\n",
    "the source neutral. If the neutral wire is removed, the load neutral, denoted by $0^*$, is no longer fixed but is free to float, its potential is determined by the values of load impedances. For a balanced load, still $V_0(j\\omega)=0$. If for some reasons, such as short-circuit or open-circuit in one phase, three-wire system becomes unbalanced, then significant deviations of phase voltages should be expected, in both magnitude and phase. These cases will be illustrated by the next two examples.  \n",
    "\n",
    "![Fig-4.8.4](Figures/Fig-4.8.4.png)"
   ]
  },
  {
   "cell_type": "markdown",
   "id": "975caad8",
   "metadata": {},
   "source": [
    "I now want to emphasize that equations (4), (5), and (6) apply to:   \n",
    "1. a four-wire Y-Y systems with a balanced generator,\n",
    "2. a three-wire Y-Y balanced system (i.e. a system with both a balanced generator and load).  \n",
    "\n",
    "Note that application number 1 does not make any assumptions about the load impedances with regards to their balance or lack thereof."
   ]
  },
  {
   "cell_type": "markdown",
   "id": "2f68425e",
   "metadata": {},
   "source": [
    "Outside of these applications, the following equations still hold true, while equation (4) does not.  \n",
    "\n",
    "\\begin{align*}\\tag{5I}\n",
    "\t\\text{a: }\\;U_{31}(j\\omega) &= E_3(j\\omega) - E_1(j\\omega) = U\\angle150^\\circ \\\\ \\text{b: }\\;U_{23}(j\\omega) &= E_2(j\\omega) - E_3(j\\omega) = U\\angle270^\\circ\\\\ \\text{c: }\\;U_{12}(j\\omega) &= E_1(j\\omega) - E_2(j\\omega) = U\\angle30^\\circ\n",
    "\\end{align*}"
   ]
  },
  {
   "cell_type": "markdown",
   "id": "823a89ae",
   "metadata": {},
   "source": [
    "and,  \n",
    "\n",
    "\\begin{equation}\\tag{6I}\n",
    "    U = \\sqrt{3}E\n",
    "\\end{equation}"
   ]
  },
  {
   "cell_type": "markdown",
   "id": "0335c50e",
   "metadata": {},
   "source": [
    "### Example 4.8.1\n",
    "Consider a three-wire wye-wye balanced system with an open-circuit in phase 3, as shown in\n",
    "Fig. 4.8.5. Draw the phasor diagram and calculate phase voltages.  \n",
    "\n",
    "![Fig-4.8.5](Figures/Fig-4.8.5.png)"
   ]
  },
  {
   "cell_type": "markdown",
   "id": "4e976a98",
   "metadata": {},
   "source": [
    "*Before* the opening in the phase 3 line, the system is balanced, implying that $V_0(j\\omega)=0$ and equations (4), (5), and (6) apply."
   ]
  },
  {
   "cell_type": "markdown",
   "id": "74a2cf60",
   "metadata": {},
   "source": [
    "*After* the opening, the system is unbalanced.  Via equation (5Ic),  \n",
    "\n",
    "\\begin{equation}\\tag{1.1}\n",
    "    U_{12}(j\\omega) = E_1(j\\omega) - E_2(j\\omega) = \\sqrt{3}E\\angle30^\\circ\n",
    "\\end{equation}"
   ]
  },
  {
   "cell_type": "markdown",
   "id": "b357a099",
   "metadata": {},
   "source": [
    "Via KVL and Ohm's Law,  \n",
    "\n",
    "$$ U_{12}(j\\omega) = V_1(j\\omega) - V_2(j\\omega) \\quad\\quad V_1(j\\omega) = Z(j\\omega)I_1(j\\omega)\\quad\\quad V_2(j\\omega) = Z(j\\omega)I_2(j\\omega)$$"
   ]
  },
  {
   "cell_type": "markdown",
   "id": "d2dae313",
   "metadata": {},
   "source": [
    "And, via KCL,  \n",
    "\n",
    "$$ I_1(j\\omega) = -I_2(j\\omega)$$"
   ]
  },
  {
   "cell_type": "markdown",
   "id": "1eb913d9",
   "metadata": {},
   "source": [
    "Thus,  \n",
    "\n",
    "\\begin{equation}\\tag{1.2}\n",
    "    U_{12}(j\\omega) = 2Z(j\\omega)I_1(j\\omega)\n",
    "\\end{equation}"
   ]
  },
  {
   "cell_type": "markdown",
   "id": "47f93fd0",
   "metadata": {},
   "source": [
    "And, \n",
    "\n",
    "$$ V_1(j\\omega) = -V_2(j\\omega) \\quad\\implies\\quad V_1(\\omega) = V_2(\\omega) = V$$"
   ]
  },
  {
   "cell_type": "markdown",
   "id": "e291d4f6",
   "metadata": {},
   "source": [
    "Via equation (1.2) and (1.1),  \n",
    "\n",
    "\\begin{equation}\\tag{1.3}\n",
    "    I_1(j\\omega) = \\frac{\\sqrt{3}E\\angle30^\\circ}{2Z(j\\omega)}\n",
    "\\end{equation}"
   ]
  },
  {
   "cell_type": "markdown",
   "id": "93569937",
   "metadata": {},
   "source": [
    "And, via the above equation, element equations in the frequency domain, and KCL,  \n",
    "\n",
    "$$ V_1(j\\omega) = 0.5\\sqrt{3}E\\angle30^\\circ \\quad\\quad\\text{and}\\quad\\quad V_2(j\\omega) = - V_1(j\\omega) = V\\angle210^\\circ$$"
   ]
  },
  {
   "cell_type": "markdown",
   "id": "7ff102ec",
   "metadata": {},
   "source": [
    "Here, $V=0.5\\sqrt{3}E$.  Finally, via KVL,  \n",
    "\n",
    "$$ V_0(j\\omega) = E_1(j\\omega) - V_1(j\\omega) = E_2(j\\omega) - V_2(j\\omega)$$"
   ]
  },
  {
   "cell_type": "markdown",
   "id": "d263e01e",
   "metadata": {},
   "source": [
    "$$ E_1(j\\omega) - V_1(j\\omega) = E\\angle0 - 0.5\\sqrt{3}E\\angle30^\\circ = E\\big(1 - 0.5\\sqrt{3}\\angle30^\\circ\\big)$$"
   ]
  },
  {
   "cell_type": "markdown",
   "id": "ba7d0e99",
   "metadata": {},
   "source": [
    "$$ = E\\Big(1 - 0.5\\sqrt{3}\\big(\\cos30^\\circ + j\\sin30^\\circ\\big)\\Big)$$"
   ]
  },
  {
   "cell_type": "markdown",
   "id": "75bf2e04",
   "metadata": {},
   "source": [
    "Whereas $ \\cos30^\\circ = 0.5\\sqrt{3}$ and $\\sin30^\\circ = \\sqrt{1 - \\cos^2 30^\\circ}$ therefore \n",
    "\n",
    "$$ \\sin30^\\circ = \\sqrt{1 - 0.25\\cdot3} = \\sqrt{0.25} = 0.5$$"
   ]
  },
  {
   "cell_type": "markdown",
   "id": "9b222693",
   "metadata": {},
   "source": [
    "\\begin{equation}\\tag{1.4}\n",
    "    V_0(j\\omega) = E\\big(0.25 - j0.25\\sqrt{3}\\big) = V_0(\\omega)\\angle\\alpha_0\n",
    "\\end{equation}"
   ]
  },
  {
   "cell_type": "markdown",
   "id": "ba8825c4",
   "metadata": {},
   "source": [
    "where,  \n",
    "\n",
    "\\begin{equation}\\tag{1.4}\n",
    "    \\text{a: }\\;V_0(\\omega) = 0.5E \\quad\\quad\\text{and}\\quad\\quad \\text{b: }\\; \\alpha_0 = -\\arcsin 0.5\\sqrt{3} = -60^\\circ\n",
    "\\end{equation}"
   ]
  },
  {
   "cell_type": "code",
   "execution_count": 3,
   "id": "85d31afc",
   "metadata": {},
   "outputs": [
    {
     "data": {
      "text/plain": [
       "-59.99999999999999"
      ]
     },
     "execution_count": 3,
     "metadata": {},
     "output_type": "execute_result"
    }
   ],
   "source": [
    "-np.degrees(np.arcsin(0.5*np.sqrt(3)))"
   ]
  },
  {
   "cell_type": "code",
   "execution_count": 4,
   "id": "51deb548",
   "metadata": {},
   "outputs": [
    {
     "data": {
      "text/plain": [
       "0.25"
      ]
     },
     "execution_count": 4,
     "metadata": {},
     "output_type": "execute_result"
    }
   ],
   "source": [
    "1-0.5*np.sqrt(3)*np.cos(np.radians(30))"
   ]
  },
  {
   "cell_type": "code",
   "execution_count": 5,
   "id": "68750f8e",
   "metadata": {},
   "outputs": [
    {
     "data": {
      "text/plain": [
       "0.43301270189221924"
      ]
     },
     "execution_count": 5,
     "metadata": {},
     "output_type": "execute_result"
    }
   ],
   "source": [
    "0.5*np.sqrt(3)*np.sin(np.radians(30))"
   ]
  },
  {
   "cell_type": "code",
   "execution_count": 6,
   "id": "5b2b38f5",
   "metadata": {},
   "outputs": [
    {
     "data": {
      "text/plain": [
       "0.8660254037844387"
      ]
     },
     "execution_count": 6,
     "metadata": {},
     "output_type": "execute_result"
    }
   ],
   "source": [
    "np.cos(np.radians(30))"
   ]
  },
  {
   "cell_type": "code",
   "execution_count": 7,
   "id": "e5429541",
   "metadata": {},
   "outputs": [
    {
     "data": {
      "text/plain": [
       "0.8660254037844386"
      ]
     },
     "execution_count": 7,
     "metadata": {},
     "output_type": "execute_result"
    }
   ],
   "source": [
    "np.sqrt(3)/2"
   ]
  },
  {
   "cell_type": "code",
   "execution_count": 8,
   "id": "007b8ade",
   "metadata": {},
   "outputs": [
    {
     "data": {
      "text/plain": [
       "0.49999999999999994"
      ]
     },
     "execution_count": 8,
     "metadata": {},
     "output_type": "execute_result"
    }
   ],
   "source": [
    "np.sin(np.radians(30))"
   ]
  },
  {
   "cell_type": "markdown",
   "id": "67176b24",
   "metadata": {},
   "source": [
    "The phasor diagram is shown in Fig. 4.8.6. The effect of an open-circuit in one phase is\n",
    "voltage drop in two other phases, from $E$ to $\\approx 0.86E$. For a $230 \\mathrm{V}$ generator, phase voltage drops to $\\approx 199 \\mathrm{V}$."
   ]
  },
  {
   "cell_type": "code",
   "execution_count": 9,
   "id": "26b0778b",
   "metadata": {},
   "outputs": [
    {
     "data": {
      "text/plain": [
       "199.18584287042088"
      ]
     },
     "execution_count": 9,
     "metadata": {},
     "output_type": "execute_result"
    }
   ],
   "source": [
    "np.sqrt(3)*230/2"
   ]
  },
  {
   "cell_type": "markdown",
   "id": "9aace752",
   "metadata": {},
   "source": [
    "![Fig-4.8.6](Figures/Fig-4.8.6.png)"
   ]
  },
  {
   "cell_type": "markdown",
   "id": "63f47ed5",
   "metadata": {},
   "source": [
    "### Example 4.8.2\n",
    "Consider a three-wire wye-wye balanced system with a short-circuit in phase 2, as shown in\n",
    "Fig. 4.8.7. Draw the phasor diagram and calculate the phase voltages.  \n",
    "\n",
    "![Fig-4.8.7](Figures/Fig-4.8.7.png)"
   ]
  },
  {
   "cell_type": "markdown",
   "id": "1c123f2b",
   "metadata": {},
   "source": [
    "A system remains three-phase system, however now voltages of “healthy” phases are line\n",
    "voltages.  \n",
    "\n",
    "\\begin{equation}\\tag{13}\n",
    "\t\\text{a: }\\;V_1(j\\omega) = U_{12}(j\\omega)\\quad\\quad\\text{and}\\quad\\quad\\text{b: }\\;V_3(j\\omega)=U_{32}(j\\omega)\n",
    "\\end{equation}"
   ]
  },
  {
   "cell_type": "markdown",
   "id": "d61831ac",
   "metadata": {},
   "source": [
    "Via KVL,  \n",
    "\n",
    "\\begin{equation}\\tag{2.2}\n",
    "    \\text{a: }\\;E_1(j\\omega) = V_1(j\\omega) + E_2(j\\omega) \\quad\\quad \\text{and}\\quad\\quad\\text{b: }\\;E_2(j\\omega) = E_3(j\\omega) - V_3(j\\omega)\n",
    "\\end{equation}"
   ]
  },
  {
   "cell_type": "markdown",
   "id": "5a8fa7d2",
   "metadata": {},
   "source": [
    "And, via equations (5b,c) and (13a,b),  \n",
    "\n",
    "$$V_1(j\\omega) = U_{12}(j\\omega) = \\sqrt{3}E\\angle30^\\circ\\quad\\quad\\text{and}\\quad\\quad V_3(j\\omega)=U_{32}(j\\omega) = \\sqrt{3}E\\angle90^\\circ$$"
   ]
  },
  {
   "cell_type": "markdown",
   "id": "1eeee2e0",
   "metadata": {},
   "source": [
    "Without the aforementioned short-circuit,  \n",
    "\n",
    "$$ V_1^*(j\\omega) = E_1(j\\omega) = E\\angle0 \\quad\\quad \\text{and}\\quad\\quad V_3^*(j\\omega) = E_3(j\\omega) = E\\angle120^\\circ$$"
   ]
  },
  {
   "cell_type": "markdown",
   "id": "6bb932cc",
   "metadata": {},
   "source": [
    "Thus, the first phase voltage's phase angle increase by $30^\\circ$, the third phase voltage's phase angle decrease by $30^\\circ$, and both phase voltage's magnitude increase by a factor of $\\sqrt{3}$ as a result of this short-circuit. "
   ]
  },
  {
   "cell_type": "markdown",
   "id": "3668ab45",
   "metadata": {},
   "source": [
    "The load neutral $0^*$ has floated from source neutral $0$ to line terminal $2$, as presented in Fig.\n",
    "4.8.8 phasor diagram, implying that $V_0(j\\omega) = E_2(j\\omega)$.  The effect of a short-circuit in one phase is voltage jump in other phases by a factor of $\\sqrt{3}$. For a $230 \\mathrm{V}$ generator, phase voltage jumps to $\\approx 400\\mathrm{V}$ and this may cause damage to the load device."
   ]
  }
 ],
 "metadata": {
  "kernelspec": {
   "display_name": "Python 3 (ipykernel)",
   "language": "python",
   "name": "python3"
  },
  "language_info": {
   "codemirror_mode": {
    "name": "ipython",
    "version": 3
   },
   "file_extension": ".py",
   "mimetype": "text/x-python",
   "name": "python",
   "nbconvert_exporter": "python",
   "pygments_lexer": "ipython3",
   "version": "3.10.6"
  }
 },
 "nbformat": 4,
 "nbformat_minor": 5
}
