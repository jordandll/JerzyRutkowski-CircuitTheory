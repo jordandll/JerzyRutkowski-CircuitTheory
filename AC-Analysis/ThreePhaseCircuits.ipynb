{
 "cells": [
  {
   "cell_type": "markdown",
   "id": "a93e1214",
   "metadata": {},
   "source": [
    "# Three-phase Circuits\n",
    "### *Chapter 4 Section 8* -- AC Steady State Analysis\n",
    "\n",
    "One very important use of ac steady-state analysis is its application to power systems.\n",
    "Alternating voltage can be stepped up for transmission and stepped down for distribution with\n",
    "transformers, and this subject is not discussed. For reason of economics and performance,\n",
    "almost all electric power systems are three-phase systems. In such system, the source is the\n",
    "three-phase balanced generator. Such generator produces a balanced set of voltages, the\n",
    "voltages having the same amplitude and frequency but displaced in phase by . For the\n",
    "conventionally assumed zero initial phase angle of the 1st phase and the phase sequence, that\n",
    "is the sequence in which phase voltages reach a positive peak, 123 or ABC, these voltages are"
   ]
  }
 ],
 "metadata": {
  "kernelspec": {
   "display_name": "Python 3 (ipykernel)",
   "language": "python",
   "name": "python3"
  },
  "language_info": {
   "codemirror_mode": {
    "name": "ipython",
    "version": 3
   },
   "file_extension": ".py",
   "mimetype": "text/x-python",
   "name": "python",
   "nbconvert_exporter": "python",
   "pygments_lexer": "ipython3",
   "version": "3.10.6"
  }
 },
 "nbformat": 4,
 "nbformat_minor": 5
}
