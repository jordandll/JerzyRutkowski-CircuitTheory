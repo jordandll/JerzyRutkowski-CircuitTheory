{
 "cells": [
  {
   "cell_type": "markdown",
   "id": "a93e1214",
   "metadata": {},
   "source": [
    "# Three-phase Circuits\n",
    "### *Chapter 4 Section 8* -- AC Steady State Analysis\n",
    "\n",
    "One very important use of ac steady-state analysis is its application to power systems.\n",
    "Alternating voltage can be stepped up for transmission and stepped down for distribution with\n",
    "transformers, and this subject is not discussed. For reason of economics and performance,\n",
    "almost all electric power systems are three-phase systems. In such system, the source is the\n",
    "three-phase **balanced generator**. Such generator produces a balanced set of voltages, the\n",
    "voltages having the same amplitude and frequency but displaced in phase by . For the\n",
    "conventionally assumed zero initial phase angle of the 1st phase and the **phase sequence**, that\n",
    "is the sequence in which phase voltages reach a positive peak, 123 or ABC, these voltages are"
   ]
  },
  {
   "cell_type": "markdown",
   "id": "a3af8a47",
   "metadata": {},
   "source": [
    "\\begin{align*}\\tag{1}\n",
    "\t&E_1(j\\omega) = Ee^{j0^\\circ} = E\\angle0 &\\quad\\quad\\text{between terminals 1 and 1' or A and a,}\\\\\n",
    "\t&E_2(j\\omega) = Ee^{j-120^\\circ} = E\\angle\\!-\\!120^\\circ &\\quad\\quad\\text{between terminals 2 and 2' or B and b,}\\\\\n",
    "\t&E_3(j\\omega) = Ee^{j120^\\circ} = E\\angle120^\\circ &\\quad\\quad\\text{between terminals 3 and 3' or C and c.}\n",
    "\\end{align*}"
   ]
  },
  {
   "cell_type": "markdown",
   "id": "aeb388c1",
   "metadata": {},
   "source": [
    "as presented in Fig. 4.8.1 phasor diagram.  \n",
    "\n",
    "![Fig-4.8.1](Figures/Fig-4.8.1.png)"
   ]
  },
  {
   "cell_type": "markdown",
   "id": "31175510",
   "metadata": {},
   "source": [
    "For the assumed sequence, instead of specifying three balanced sources, it is sufficient to\n",
    "specify one, e.g. $E_1(j\\omega)$ . Then  \n",
    "\n",
    "\\begin{equation}\\tag{2}\n",
    "\t\\text{a: }\\;E_3(j\\omega) =  E_1(j\\omega)\\cdot1\\angle120^\\circ\\quad\\quad\\text{and}\\quad\\quad \\text{b: }\\;E_2(j\\omega) = E_3\\cdot1\\angle120^\\circ\n",
    "\\end{equation}"
   ]
  },
  {
   "cell_type": "markdown",
   "id": "bf134feb",
   "metadata": {},
   "source": [
    "The sum of any balanced set of three-phase voltages is always zero.  \n",
    "\n",
    "\\begin{equation}\\tag{3}\n",
    "\t\\sum_{i=1}^3 E_i(j\\omega) = 0\n",
    "\\end{equation}"
   ]
  },
  {
   "cell_type": "markdown",
   "id": "f2e4130e",
   "metadata": {},
   "source": [
    "For the proof to equation (3), [click here](Equation-4.8.3.ipynb)."
   ]
  },
  {
   "cell_type": "markdown",
   "id": "ba1712ff",
   "metadata": {},
   "source": [
    "The three-phase generator is equivalent to three single-phase generators and individual\n",
    "generators may be connected to individual loads, to produce three single-phase circuits.\n",
    "However, for reason of economics, individual generators and individual loads are connected\n",
    "into one three-phase circuit, and three methods of connecting three-phase circuit are possible:  \n",
    "\n",
    "1. wye-wye or Y-Y or star-star connection,\n",
    "2. delta-delta or $\\Delta$-$\\Delta$ or mesh-mesh connection,\n",
    "3. mixed, Y-$\\Delta$ or $\\Delta$-Y  (or mesh-star or star-mesh ?) connection"
   ]
  },
  {
   "cell_type": "markdown",
   "id": "f91df188",
   "metadata": {},
   "source": [
    "## Wye-Wye Systems\n",
    "Consider the three-phase source that has line terminals 1, 2 and 3 and a neutral terminal 0, in\n",
    "which terminals 1’, 2’ and 3’ are connected. In this case the source is said to be wye(Y)-\n",
    "connected or star-connected, as shown in Fig. 4.8.2 for two representations: wye-shape\n",
    "representation and somewhat easier to draw equivalent representation. Line terminals are\n",
    "normally denoted by letters A, B, C and neutral by N. However, for compliance with\n",
    "description of dc multi-terminal circuits, these terminals are denoted by numbers 1, 2, 3 and 0.  \n",
    "\n",
    "![Fig-4.8.2](Figures/Fig-4.8.2.png)"
   ]
  },
  {
   "cell_type": "markdown",
   "id": "694a0ebb",
   "metadata": {},
   "source": [
    "Same connection may be applied to a load, and then, three single-phase circuits are connected\n",
    "in a wye-wye three-phase four wire system, as shown in Fig. 4.8.3. For the assumed\n",
    "resistanceless lines, voltages between line terminals and the neutral terminal of three-phase\n",
    "load are source voltages.  \n",
    "\n",
    "\\begin{equation}\\tag{4}\n",
    "\t\\text{a: }\\;V = E\\quad\\quad\\text{and}\\quad\\quad \\text{b: }\\;V_i(j\\omega) = E_i(j\\omega)\\quad\\forall i\\in\\{1,2,3\\}\n",
    "\\end{equation}"
   ]
  },
  {
   "cell_type": "markdown",
   "id": "ba4e8136",
   "metadata": {},
   "source": [
    "They are called **phase voltages** and are the same as load voltages of three single-phase\n",
    "circuits. These voltages are denoted in Fig. 4.8.1 phasor diagram (bold), together with line-to-\n",
    "line voltages or simply **line voltages**.  \n",
    "\n",
    "\\begin{align*}\\tag{5}\n",
    "\t\\text{a: }\\;U_{31}(j\\omega) &= V_3(j\\omega) - V_1(j\\omega) = U\\angle150^\\circ \\\\ \\text{b: }\\;U_{23}(j\\omega) &= V_2(j\\omega) - V_3(j\\omega) = U\\angle270^\\circ\\\\ \\text{c: }\\;U_{12}(j\\omega) &= V_1(j\\omega) - V_2(j\\omega) = U\\angle30^\\circ\n",
    "\\end{align*}"
   ]
  },
  {
   "cell_type": "markdown",
   "id": "965ade8a",
   "metadata": {},
   "source": [
    "Where the magnitude of each line voltage is:  \n",
    "\n",
    "\\begin{equation}\\tag{6}\n",
    "    U = \\sqrt{3}V = \\sqrt{3}E\n",
    "\\end{equation}"
   ]
  },
  {
   "cell_type": "markdown",
   "id": "384e1e41",
   "metadata": {},
   "source": [
    "For a phase RMS voltage of $230 \\mathrm{V}$, line RMS voltage is equal to $\\approxeq 400 \\mathrm{V}$."
   ]
  },
  {
   "cell_type": "code",
   "execution_count": 2,
   "id": "c03172f3",
   "metadata": {},
   "outputs": [],
   "source": [
    "import numpy as np"
   ]
  },
  {
   "cell_type": "code",
   "execution_count": 3,
   "id": "c06ae7a1",
   "metadata": {},
   "outputs": [
    {
     "data": {
      "text/plain": [
       "398.37168574084177"
      ]
     },
     "execution_count": 3,
     "metadata": {},
     "output_type": "execute_result"
    }
   ],
   "source": [
    "np.sqrt(3)*230"
   ]
  },
  {
   "cell_type": "markdown",
   "id": "d45b56e2",
   "metadata": {},
   "source": [
    "![Fig-4.8.3](Figures/Fig-4.8.3.png)"
   ]
  }
 ],
 "metadata": {
  "kernelspec": {
   "display_name": "Python 3 (ipykernel)",
   "language": "python",
   "name": "python3"
  },
  "language_info": {
   "codemirror_mode": {
    "name": "ipython",
    "version": 3
   },
   "file_extension": ".py",
   "mimetype": "text/x-python",
   "name": "python",
   "nbconvert_exporter": "python",
   "pygments_lexer": "ipython3",
   "version": "3.10.6"
  }
 },
 "nbformat": 4,
 "nbformat_minor": 5
}
