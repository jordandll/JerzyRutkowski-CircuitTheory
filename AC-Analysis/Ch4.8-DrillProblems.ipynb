{
 "cells": [
  {
   "cell_type": "markdown",
   "id": "07438b04",
   "metadata": {},
   "source": [
    "## Drill Problems\n",
    "### *Chapter 4 Section 8* -- AC Steady State Analysis"
   ]
  },
  {
   "cell_type": "code",
   "execution_count": 1,
   "id": "a695d5af",
   "metadata": {},
   "outputs": [],
   "source": [
    "import numpy as np"
   ]
  },
  {
   "cell_type": "markdown",
   "id": "cdf68623",
   "metadata": {},
   "source": [
    "#### Problem 1\n",
    "1. Sketch the phasor diagram for a three-phase 3-wire unbalanced $Y-Y$ system: $Z_1(j\\omega)=\\infty$, $Z_2(j\\omega)=Z_3(j\\omega)=100\\Omega + j100\\Omega$."
   ]
  },
  {
   "cell_type": "markdown",
   "id": "9b72c7fe",
   "metadata": {},
   "source": [
    "$$ Z_2(j\\omega) = Z_3(j\\omega) = 100\\Omega(1+j) = 100\\Omega\\,\\angle45^\\circ \\quad\\quad\\text{and}\\quad\\quad J_\\mathrm{i}(j\\omega) = I_\\mathrm{i}(j\\omega) \\;\\forall\\,\\mathrm{i}\\in\\{1,2,3\\}$$"
   ]
  },
  {
   "cell_type": "markdown",
   "id": "b245fbc9",
   "metadata": {},
   "source": [
    "Via Ohm's Law in the frequency domain,  \n",
    "\n",
    "$$ V_\\mathrm{i}(j\\omega) = Z_\\mathrm{i}(j\\omega)I_\\mathrm{i}(j\\omega)\\quad\\forall\\,\\mathrm{i}\\in\\{1,2,3\\}$$"
   ]
  },
  {
   "cell_type": "markdown",
   "id": "fc885b1c",
   "metadata": {},
   "source": [
    "Via KVL,  \n",
    "\n",
    "$$ E_1(j\\omega) - E_2(j\\omega) = V_1(j\\omega) - V_2(j\\omega) = U_{12}(j\\omega) \\quad\\quad\\text{and}\\quad\\quad E_2(j\\omega) - E_3(j\\omega) = V_2(j\\omega) - V_3(j\\omega) = U_{23}(j\\omega) $$"
   ]
  }
 ],
 "metadata": {
  "kernelspec": {
   "display_name": "Python 3 (ipykernel)",
   "language": "python",
   "name": "python3"
  },
  "language_info": {
   "codemirror_mode": {
    "name": "ipython",
    "version": 3
   },
   "file_extension": ".py",
   "mimetype": "text/x-python",
   "name": "python",
   "nbconvert_exporter": "python",
   "pygments_lexer": "ipython3",
   "version": "3.10.6"
  }
 },
 "nbformat": 4,
 "nbformat_minor": 5
}
