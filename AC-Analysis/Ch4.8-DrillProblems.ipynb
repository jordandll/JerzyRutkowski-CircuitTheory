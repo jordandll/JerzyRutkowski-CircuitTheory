{
 "cells": [
  {
   "cell_type": "markdown",
   "id": "ff2546bd",
   "metadata": {},
   "source": [
    "## Drill Problems\n",
    "### *Chapter 4 Section 8* -- AC Steady State Analysis"
   ]
  },
  {
   "cell_type": "code",
   "execution_count": 1,
   "id": "245e8323",
   "metadata": {},
   "outputs": [],
   "source": [
    "import numpy as np"
   ]
  },
  {
   "cell_type": "markdown",
   "id": "80e9fcfa",
   "metadata": {},
   "source": [
    "#### Problem 1\n",
    "1. Sketch the phasor diagram for a three-phase 3-wire unbalanced $Y-Y$ system: $Z_1(j\\omega)=\\infty$, $Z_2(j\\omega)=Z_3(j\\omega)=100\\Omega + j100\\Omega$."
   ]
  },
  {
   "cell_type": "markdown",
   "id": "adb9dd37",
   "metadata": {},
   "source": [
    "$$ Z_2(j\\omega) = Z_3(j\\omega) = 100\\Omega(1+j) = 100\\sqrt{2}\\Omega\\,\\angle45^\\circ \\quad\\quad\\text{and}\\quad\\quad J_\\mathrm{i}(j\\omega) = I_\\mathrm{i}(j\\omega) \\;\\forall\\,\\mathrm{i}\\in\\{1,2,3\\}$$"
   ]
  },
  {
   "cell_type": "markdown",
   "id": "bd52a9aa",
   "metadata": {},
   "source": [
    "Via Ohm's Law in the frequency domain,  \n",
    "\n",
    "$$ V_\\mathrm{i}(j\\omega) = Z_\\mathrm{i}(j\\omega)I_\\mathrm{i}(j\\omega)\\quad\\forall\\,\\mathrm{i}\\in\\{1,2,3\\}$$"
   ]
  },
  {
   "cell_type": "markdown",
   "id": "7b0d4618",
   "metadata": {},
   "source": [
    "Via KVL,  \n",
    "\n",
    "$$ E_1(j\\omega) - E_2(j\\omega) = V_1(j\\omega) - V_2(j\\omega) = U_{12}(j\\omega) \\quad\\quad\\text{and}\\quad\\quad E_2(j\\omega) - E_3(j\\omega) = V_2(j\\omega) - V_3(j\\omega) = U_{23}(j\\omega) $$"
   ]
  },
  {
   "cell_type": "markdown",
   "id": "7ac0adce",
   "metadata": {},
   "source": [
    "Via the above two equations and equation (5b,c) and equivalence principle,  \n",
    "\n",
    "$$ V_1(j\\omega) - V_2(j\\omega) = \\sqrt{3}E\\angle30^\\circ\\quad\\quad\\text{and}\\quad\\quad V_2(j\\omega)-V_3(j\\omega) = \\sqrt{3}E\\angle270^\\circ$$"
   ]
  },
  {
   "cell_type": "markdown",
   "id": "fdf6478e",
   "metadata": {},
   "source": [
    "Via the above two equations and Ohm's Law,  \n",
    "\n",
    "$$ Z_1(j\\omega)I_1(j\\omega) - Z_2(j\\omega)I_2(j\\omega) = \\sqrt{3}E\\angle30^\\circ \\quad\\quad\\text{and}\\quad\\quad Z_2(j\\omega)\\big(I_2(j\\omega) - I_3(j\\omega)\\big) = \\sqrt{3}E\\angle270^\\circ$$"
   ]
  },
  {
   "cell_type": "markdown",
   "id": "14eb71f7",
   "metadata": {},
   "source": [
    "Via KCL,  \n",
    "\n",
    "$$ I_1(j\\omega) = -\\big(I_2(j\\omega) + I_3(j\\omega)\\big)$$"
   ]
  },
  {
   "cell_type": "markdown",
   "id": "f5165f40",
   "metadata": {},
   "source": [
    "Via the above three equations and subsitution,  \n",
    "\n",
    "\\begin{equation}\\tag{1.1a}\n",
    "    Z_1(j\\omega)\\big(I_2(j\\omega) + I_3(j\\omega)\\big)  + Z_2(j\\omega)I_2(j\\omega) = \\sqrt{3}E\\angle210^\\circ\n",
    "\\end{equation}"
   ]
  },
  {
   "cell_type": "markdown",
   "id": "1c873212",
   "metadata": {},
   "source": [
    "\\begin{equation}\\tag{1.1b}\n",
    "    Z_2(j\\omega)\\big(I_2(j\\omega) - I_3(j\\omega)\\big) = \\sqrt{3}E\\angle270^\\circ\n",
    "\\end{equation}"
   ]
  },
  {
   "cell_type": "markdown",
   "id": "4ce5fdc3",
   "metadata": {},
   "source": [
    "Via equation (1.1a),   \n",
    "\n",
    "\\begin{equation}\\tag{1.2}\n",
    "    I_3(j\\omega) = -I_2(j\\omega)\n",
    "\\end{equation}"
   ]
  },
  {
   "cell_type": "markdown",
   "id": "48aacf15",
   "metadata": {},
   "source": [
    "And, via equations (1.2) and (1.1b),  \n",
    "\n",
    "\\begin{equation}\\tag{1.3}\n",
    "    I_2(j\\omega) = \\frac{\\sqrt{3}E\\angle270^\\circ}{2Z_2(j\\omega)} = \\frac{\\sqrt{3}E}{200\\sqrt{2}\\Omega}\\,\\angle225^\\circ\n",
    "\\end{equation}"
   ]
  },
  {
   "cell_type": "markdown",
   "id": "f972bd0c",
   "metadata": {},
   "source": [
    "Via equations (1.3), (1.2), and KCL,  \n",
    "\n",
    "\\begin{equation}\\tag{1.4}\n",
    "    \\text{a: }\\; I_3(j\\omega) = \\frac{\\sqrt{3}E}{200\\sqrt{2}\\Omega}\\,\\angle45^\\circ\\quad\\quad\\text{and}\\quad\\quad\\text{b: }\\;I_1(j\\omega) = 0\n",
    "\\end{equation}"
   ]
  },
  {
   "cell_type": "markdown",
   "id": "d15088d6",
   "metadata": {},
   "source": [
    "Finally, \n",
    "\n",
    "\\begin{equation}\\tag{1.5}\n",
    "    V_1(j\\omega) = 0\\quad\\quad V_2(j\\omega) = 0.5\\sqrt{3}E\\angle225^\\circ\\quad\\quad V_3(j\\omega) = 0.5\\sqrt{3}E\\angle45^\\circ\n",
    "\\end{equation}"
   ]
  },
  {
   "cell_type": "markdown",
   "id": "e13e57e5",
   "metadata": {},
   "source": [
    "#### Problem 2\n",
    "2. The total power of a three-phase balanced wye load is $6 \\mathrm{kW}$. What is the power factor of each phase load, if the line voltage is $400 \\mathrm{V}$ and the line current is $10 \\mathrm{A}$?"
   ]
  },
  {
   "cell_type": "markdown",
   "id": "781e62e7",
   "metadata": {},
   "source": [
    "$$ P = 6\\mathrm{kW} = 3VI\\mathrm{pf}\\quad\\quad U(\\omega) = U = \\sqrt{3}V= 400\\mathrm{V}\\quad\\quad J=I=10\\mathrm{A}$$"
   ]
  },
  {
   "cell_type": "markdown",
   "id": "5e63325f",
   "metadata": {},
   "source": [
    "$$ V = \\frac{400\\mathrm{V}}{\\sqrt{3}} \\quad\\quad \\mathrm{pf} = \\frac{P}{3VI} = \\frac{P}{400\\sqrt{3}\\mathrm{V}\\cdot I}$$"
   ]
  },
  {
   "cell_type": "markdown",
   "id": "6eae88ed",
   "metadata": {},
   "source": [
    "$$ \\mathrm{pf} = \\frac{600}{400\\sqrt{3}} = \\frac{\\sqrt{3}}{2}$$"
   ]
  },
  {
   "cell_type": "markdown",
   "id": "1e228256",
   "metadata": {},
   "source": [
    "#### Problem 3\n",
    "3. A balanced delta load with phase impedance of $10\\Omega\\angle30^\\circ$ is connected to $230 \\mathrm{V}$ lines.  Determine the total real power supplied."
   ]
  },
  {
   "cell_type": "markdown",
   "id": "7408f997",
   "metadata": {},
   "source": [
    "$$ P = 3\\cdot \\frac{U^2}{10\\Omega\\cos30^\\circ} = \\frac{\\sqrt{3}U^2}{5\\Omega} = \\sqrt{3}\\cdot 10.58\\mathrm{kW}$$"
   ]
  },
  {
   "cell_type": "code",
   "execution_count": 2,
   "id": "e8c8d5cc",
   "metadata": {},
   "outputs": [
    {
     "data": {
      "text/plain": [
       "0.8660254037844387"
      ]
     },
     "execution_count": 2,
     "metadata": {},
     "output_type": "execute_result"
    }
   ],
   "source": [
    "np.cos(np.radians(30))"
   ]
  },
  {
   "cell_type": "code",
   "execution_count": 3,
   "id": "554aaaf6",
   "metadata": {},
   "outputs": [
    {
     "data": {
      "text/plain": [
       "0.8660254037844386"
      ]
     },
     "execution_count": 3,
     "metadata": {},
     "output_type": "execute_result"
    }
   ],
   "source": [
    "0.5*np.sqrt(3)"
   ]
  },
  {
   "cell_type": "code",
   "execution_count": 4,
   "id": "e9f2ddbb",
   "metadata": {},
   "outputs": [
    {
     "data": {
      "text/plain": [
       "10580.0"
      ]
     },
     "execution_count": 4,
     "metadata": {},
     "output_type": "execute_result"
    }
   ],
   "source": [
    "(230**2)/5"
   ]
  },
  {
   "cell_type": "markdown",
   "id": "1a34d8b0",
   "metadata": {},
   "source": [
    "#### Problem 4\n",
    "4. A balanced wye load with phase impedance of $100\\Omega$ is connected to $230 \\mathrm{V}$ lines. Determine the total real power delivered to the load."
   ]
  },
  {
   "cell_type": "markdown",
   "id": "a6def490",
   "metadata": {},
   "source": [
    "$$ P = 3\\frac{V^2}{R} \\quad\\quad U = \\sqrt{3}V = 230\\mathrm{V} \\quad\\quad Z(j\\omega) = Z= R=100\\Omega$$"
   ]
  },
  {
   "cell_type": "markdown",
   "id": "be08bdcc",
   "metadata": {},
   "source": [
    "$$ V = \\frac{230\\mathrm{V}}{\\sqrt{3}} \\quad\\implies\\quad P = \\frac{230^2\\mathrm{V}^2}{100\\Omega} = 529\\mathrm{W}$$"
   ]
  },
  {
   "cell_type": "code",
   "execution_count": 5,
   "id": "b38320d0",
   "metadata": {},
   "outputs": [
    {
     "data": {
      "text/plain": [
       "529.0"
      ]
     },
     "execution_count": 5,
     "metadata": {},
     "output_type": "execute_result"
    }
   ],
   "source": [
    "(230**2)/100"
   ]
  },
  {
   "cell_type": "markdown",
   "id": "2c71b605",
   "metadata": {},
   "source": [
    "#### Problem 5\n",
    "5. For the balanced wye-delta system: $E=100\\mathrm{V}$, $Z(j\\omega)=100\\Omega$, find RMS value of a line current."
   ]
  },
  {
   "cell_type": "markdown",
   "id": "ffa24065",
   "metadata": {},
   "source": [
    "$$ V = U = \\sqrt{3}E = \\sqrt{3}100\\mathrm{V} \\quad\\quad\\text{and}\\quad\\quad I = \\frac{V}{Z} = \\sqrt{3}\\mathrm{A}$$"
   ]
  },
  {
   "cell_type": "markdown",
   "id": "216da93e",
   "metadata": {},
   "source": [
    "$$ J = \\sqrt{3}I = 3\\mathrm{A}$$"
   ]
  },
  {
   "cell_type": "markdown",
   "id": "af74733f",
   "metadata": {},
   "source": [
    "#### Problem 7\n",
    "7. For the three-phase 4-wire balanced system: $E=100\\mathrm{V}$ and $Z(j\\omega)=Z=R=100\\Omega$, find the total power supplied after opening phase 1, draw the phasor diagram."
   ]
  },
  {
   "cell_type": "markdown",
   "id": "83f8d4d7",
   "metadata": {},
   "source": [
    "$$ P = 2\\frac{E^2}{R} = 200\\mathrm{W}$$"
   ]
  },
  {
   "cell_type": "markdown",
   "id": "63ce4c04",
   "metadata": {},
   "source": [
    "$$ V_1(j\\omega) = 0 \\quad\\quad I_1(j\\omega) = 0 \\quad\\quad V_\\mathrm{i}(j\\omega)=E_\\mathrm{i}(j\\omega)\\;\\forall\\,\\mathrm{i}\\in\\{2,3\\}$$"
   ]
  },
  {
   "cell_type": "markdown",
   "id": "9d162d24",
   "metadata": {},
   "source": [
    "$$ I_2(j\\omega) = 1\\mathrm{A}\\,\\angle240^\\circ\\quad\\quad\\text{and}\\quad\\quad I_3(j\\omega) = 1\\mathrm{A}\\,\\angle120^\\circ$$"
   ]
  },
  {
   "cell_type": "markdown",
   "id": "987a08d1",
   "metadata": {},
   "source": [
    "#### Problem 8\n",
    "8. For the three-phase 3-wire balanced system in Y-Y configuration: $E=100\\mathrm{V}$ and $Z(j\\omega)=100\\Omega$, find the total power supplied after shorting phase 1, draw the phasor diagram."
   ]
  },
  {
   "cell_type": "markdown",
   "id": "6c12620c",
   "metadata": {},
   "source": [
    "\\begin{equation}\\tag{8.1}\n",
    "    P = \\frac{(V_2)^2 + (V_3)^2}{R}\n",
    "\\end{equation}"
   ]
  },
  {
   "cell_type": "markdown",
   "id": "ee8eed7c",
   "metadata": {},
   "source": [
    "\\begin{equation}\\tag{8.2}\n",
    "    V_2(j\\omega) = U_{21}(j\\omega) = E_2(j\\omega) - E_1(j\\omega) = \\sqrt{3}E\\angle210^\\circ\n",
    "\\end{equation}"
   ]
  },
  {
   "cell_type": "markdown",
   "id": "1fff4cde",
   "metadata": {},
   "source": [
    "$$ U_{23}(j\\omega) = V_2(j\\omega) - V_3(j\\omega) = \\sqrt{3}E\\angle270^\\circ$$"
   ]
  },
  {
   "cell_type": "markdown",
   "id": "4bec80da",
   "metadata": {},
   "source": [
    "$$ V_3(j\\omega) = \\sqrt{3}E\\angle210^\\circ - \\sqrt{3}E\\angle270^\\circ = \\sqrt{3}E\\big(\\cos 210^\\circ - \\cos 270^\\circ + j\\sin210^\\circ - j\\sin270^\\circ\\big)$$"
   ]
  },
  {
   "cell_type": "markdown",
   "id": "1d9bfddf",
   "metadata": {},
   "source": [
    "$$ V_3(j\\omega)= \\sqrt{3}E\\big(0.5\\sqrt{3} + j0.5\\big) = 0.5\\sqrt{3}E\\big(\\sqrt{3} + j\\big)$$"
   ]
  },
  {
   "cell_type": "markdown",
   "id": "ffa41507",
   "metadata": {},
   "source": [
    "\\begin{equation}\\tag{8.3}\n",
    "    V_3(\\omega) = V_3 = \\sqrt{3}E\n",
    "\\end{equation}"
   ]
  },
  {
   "cell_type": "markdown",
   "id": "5b11ec3a",
   "metadata": {},
   "source": [
    "Finally,  \n",
    "\n",
    "\\begin{equation}\\tag{8.4}\n",
    "    P = 6\\,\\frac{E^2}{R} = 600\\mathrm{W}\n",
    "\\end{equation}"
   ]
  },
  {
   "cell_type": "code",
   "execution_count": 6,
   "id": "81f02953",
   "metadata": {},
   "outputs": [
    {
     "data": {
      "text/plain": [
       "-0.8660254037844386"
      ]
     },
     "execution_count": 6,
     "metadata": {},
     "output_type": "execute_result"
    }
   ],
   "source": [
    "np.cos(np.radians(210))"
   ]
  },
  {
   "cell_type": "code",
   "execution_count": 7,
   "id": "cb52a43b",
   "metadata": {},
   "outputs": [
    {
     "data": {
      "text/plain": [
       "-0.5000000000000001"
      ]
     },
     "execution_count": 7,
     "metadata": {},
     "output_type": "execute_result"
    }
   ],
   "source": [
    "np.sin(np.radians(210))"
   ]
  },
  {
   "cell_type": "markdown",
   "id": "dc513bcf",
   "metadata": {},
   "source": [
    "#### Problem 9\n",
    "9. Find the total power supplied: $E=100\\mathrm{V}$ and $R=100\\Omega$.  \n",
    "\n",
    "![Fig-P.4.8.9](Figures/Fig-P.4.8.9.png)"
   ]
  },
  {
   "cell_type": "markdown",
   "id": "2085ed82",
   "metadata": {},
   "source": [
    "$$ P = 4\\frac{E^2}{R} = 400\\mathrm{W}$$"
   ]
  },
  {
   "cell_type": "markdown",
   "id": "8d9a82bd",
   "metadata": {},
   "source": [
    "#### Problem 10\n",
    "10. Three adjacent houses take electricity from the three successive phases of a $230 \\mathrm{V}$ supply. Find the resultant neutral current when they consume, in order of phase sequence, $ 1 \\mathrm{A}$ at unity power factor, $2 \\mathrm{A}$ at $0.75$ lagging and $2\\mathrm{A}$ at $0.75$ leading. What is the total power absorbed ?"
   ]
  },
  {
   "cell_type": "code",
   "execution_count": 10,
   "id": "25ac43ca",
   "metadata": {},
   "outputs": [],
   "source": [
    "I_1 = 1; I_2 = I_3=2"
   ]
  },
  {
   "cell_type": "markdown",
   "id": "0fde5732",
   "metadata": {},
   "source": [
    "Via the fact that there is a nuetral line and KVL,  \n",
    "\n",
    "$$ V_\\mathrm{i}(j\\omega) = E_\\mathrm{i}(j\\omega)\\quad\\forall\\,\\mathrm{i}\\in\\{1,2,3\\}$$"
   ]
  },
  {
   "cell_type": "markdown",
   "id": "c29412ec",
   "metadata": {},
   "source": [
    "Which implies that  \n",
    "\n",
    "\\begin{equation}\\tag{10.1}\n",
    "    V = E = 230\\mathrm{V}\n",
    "\\end{equation}"
   ]
  },
  {
   "cell_type": "markdown",
   "id": "a48d8489",
   "metadata": {},
   "source": [
    "Note that each house drops a different phase voltage $V_\\mathrm{i}(j\\omega)$ with load neutral as the reference point."
   ]
  },
  {
   "cell_type": "markdown",
   "id": "962feaf9",
   "metadata": {},
   "source": [
    "Recall that, via KCL:  \n",
    "\n",
    "$$ I_0(j\\omega) = \\sum_{\\mathrm{i}=1}^3 I_\\mathrm{i}(j\\omega)$$"
   ]
  },
  {
   "cell_type": "markdown",
   "id": "cfb8105a",
   "metadata": {},
   "source": [
    "The magnitude of the impedance of each load (house) is:  \n",
    "\n",
    "$$ Z_1 = \\frac{E}{1\\mathrm{A}} = 230\\Omega \\quad\\quad Z_2 = \\frac{E}{2\\mathrm{A}} = 115\\Omega \\quad\\quad Z_3 = \\frac{E}{2\\mathrm{A}} = 115\\Omega$$"
   ]
  },
  {
   "cell_type": "markdown",
   "id": "ef58a584",
   "metadata": {},
   "source": [
    "And, the direction of each impedance is given by:  \n",
    "\n",
    "$$ \\varphi_1 = 0 \\quad\\quad \\varphi_2 = \\arccos 0.75\\approxeq 41.41^\\circ \\quad\\quad\\varphi_3 = -\\arccos0.75\\approxeq -41.41^\\circ$$"
   ]
  },
  {
   "cell_type": "code",
   "execution_count": 9,
   "id": "faea9f37",
   "metadata": {},
   "outputs": [],
   "source": [
    "varphi_2 = np.degrees(np.arccos(0.75))\n",
    "varphi_3 = -varphi_2"
   ]
  },
  {
   "cell_type": "markdown",
   "id": "c5633b1c",
   "metadata": {},
   "source": [
    "The phase angle of the phase currrents is:  \n",
    "\n",
    "$$ \\alpha_{i1} = 0 \\quad\\quad \\alpha_{i2} = 240^\\circ - \\varphi_2 \\quad\\quad \\alpha_{i3} = 120^\\circ - \\varphi_3$$"
   ]
  },
  {
   "cell_type": "code",
   "execution_count": 11,
   "id": "0b60b84e",
   "metadata": {},
   "outputs": [],
   "source": [
    "alpha_i2 = 240 - varphi_2; alpha_i3 = 120-varphi_3"
   ]
  },
  {
   "cell_type": "markdown",
   "id": "d2fc0db1",
   "metadata": {},
   "source": [
    "Thus, the neutral current is:  \n",
    "\n",
    "$$ I_0(j\\omega) = 1\\mathrm{A}\\angle0 + 2\\mathrm{A}\\angle\\alpha_{i2} + 2\\mathrm{A}\\angle\\alpha_{i3} = 1\\mathrm{A} + 2\\mathrm{A}\\cos\\alpha_{i2} + 2\\mathrm{A}\\cos\\alpha_{i3} + j2\\mathrm{A}\\sin\\alpha_{i2} + j2\\mathrm{A}\\sin\\alpha_{i3}$$"
   ]
  },
  {
   "cell_type": "code",
   "execution_count": 12,
   "id": "9e459925",
   "metadata": {},
   "outputs": [
    {
     "data": {
      "text/plain": [
       "(-2.7912878474779195+4.440892098500626e-16j)"
      ]
     },
     "execution_count": 12,
     "metadata": {},
     "output_type": "execute_result"
    }
   ],
   "source": [
    "I_0 = complex(1 + 2*np.cos(np.radians(alpha_i2)) + 2*np.cos(np.radians(alpha_i3)), \\\n",
    "              2*np.sin(np.radians(alpha_i2)) + 2*np.sin(np.radians(alpha_i3)))\n",
    "I_0"
   ]
  },
  {
   "cell_type": "markdown",
   "id": "cc9ef094",
   "metadata": {},
   "source": [
    "\\begin{equation}\\tag{10.2}\n",
    "    I_0(j\\omega) \\approxeq -2.79 \\mathrm{A}\n",
    "\\end{equation}"
   ]
  },
  {
   "cell_type": "markdown",
   "id": "29371b63",
   "metadata": {},
   "source": [
    "The total power is given by:  \n",
    "\n",
    "$$ P = \\frac{V^2}{R_1} + \\frac{V^2}{R_2} + \\frac{V^2}{R_3}$$"
   ]
  },
  {
   "cell_type": "markdown",
   "id": "64e42760",
   "metadata": {},
   "source": [
    "The resistances of each house (load) are given by:  \n",
    "\n",
    "$$ R_1 = 230\\Omega\\quad\\quad R_2 = R_3 = 0.75Z_2 = 86.25\\Omega$$"
   ]
  },
  {
   "cell_type": "code",
   "execution_count": 13,
   "id": "4321d775",
   "metadata": {},
   "outputs": [
    {
     "data": {
      "text/plain": [
       "86.25"
      ]
     },
     "execution_count": 13,
     "metadata": {},
     "output_type": "execute_result"
    }
   ],
   "source": [
    "115*0.75"
   ]
  },
  {
   "cell_type": "markdown",
   "id": "33dc15eb",
   "metadata": {},
   "source": [
    "Finally,  \n",
    "\n",
    "$$ P = 1456.666\\dots\\mathrm{W}$$"
   ]
  },
  {
   "cell_type": "code",
   "execution_count": 15,
   "id": "061e3b5f",
   "metadata": {},
   "outputs": [
    {
     "data": {
      "text/plain": [
       "1456.6666666666667"
      ]
     },
     "execution_count": 15,
     "metadata": {},
     "output_type": "execute_result"
    }
   ],
   "source": [
    "2*(230**2)/86.25 + 230"
   ]
  }
 ],
 "metadata": {
  "kernelspec": {
   "display_name": "Python 3 (ipykernel)",
   "language": "python",
   "name": "python3"
  },
  "language_info": {
   "codemirror_mode": {
    "name": "ipython",
    "version": 3
   },
   "file_extension": ".py",
   "mimetype": "text/x-python",
   "name": "python",
   "nbconvert_exporter": "python",
   "pygments_lexer": "ipython3",
   "version": "3.10.6"
  }
 },
 "nbformat": 4,
 "nbformat_minor": 5
}
