{
 "cells": [
  {
   "cell_type": "markdown",
   "id": "e82ef2fb",
   "metadata": {},
   "source": [
    "## Drill Problems\n",
    "### *Chapter 4 Section 8* -- AC Steady State Analysis"
   ]
  },
  {
   "cell_type": "code",
   "execution_count": 1,
   "id": "e6fdfda3",
   "metadata": {},
   "outputs": [],
   "source": [
    "import numpy as np"
   ]
  },
  {
   "cell_type": "markdown",
   "id": "06e27a19",
   "metadata": {},
   "source": [
    "#### Problem 1\n",
    "1. Sketch the phasor diagram for a three-phase 3-wire unbalanced $Y-Y$ system: $Z_1(j\\omega)=\\infty$, $Z_2(j\\omega)=Z_3(j\\omega)=100\\Omega + j100\\Omega$."
   ]
  },
  {
   "cell_type": "markdown",
   "id": "f0956b78",
   "metadata": {},
   "source": [
    "$$ Z_2(j\\omega) = Z_3(j\\omega) = 100\\Omega(1+j) = 100\\sqrt{2}\\Omega\\,\\angle45^\\circ \\quad\\quad\\text{and}\\quad\\quad J_\\mathrm{i}(j\\omega) = I_\\mathrm{i}(j\\omega) \\;\\forall\\,\\mathrm{i}\\in\\{1,2,3\\}$$"
   ]
  },
  {
   "cell_type": "markdown",
   "id": "3e6dfd7f",
   "metadata": {},
   "source": [
    "Via Ohm's Law in the frequency domain,  \n",
    "\n",
    "$$ V_\\mathrm{i}(j\\omega) = Z_\\mathrm{i}(j\\omega)I_\\mathrm{i}(j\\omega)\\quad\\forall\\,\\mathrm{i}\\in\\{1,2,3\\}$$"
   ]
  },
  {
   "cell_type": "markdown",
   "id": "178f6d66",
   "metadata": {},
   "source": [
    "Via KVL,  \n",
    "\n",
    "$$ E_1(j\\omega) - E_2(j\\omega) = V_1(j\\omega) - V_2(j\\omega) = U_{12}(j\\omega) \\quad\\quad\\text{and}\\quad\\quad E_2(j\\omega) - E_3(j\\omega) = V_2(j\\omega) - V_3(j\\omega) = U_{23}(j\\omega) $$"
   ]
  },
  {
   "cell_type": "markdown",
   "id": "ee5ffb8b",
   "metadata": {},
   "source": [
    "Via the above two equations and equation (5b,c) and equivalence principle,  \n",
    "\n",
    "$$ V_1(j\\omega) - V_2(j\\omega) = \\sqrt{3}E\\angle30^\\circ\\quad\\quad\\text{and}\\quad\\quad V_2(j\\omega)-V_3(j\\omega) = \\sqrt{3}E\\angle270^\\circ$$"
   ]
  },
  {
   "cell_type": "markdown",
   "id": "d1dcbbb3",
   "metadata": {},
   "source": [
    "Via the above two equations and Ohm's Law,  \n",
    "\n",
    "$$ Z_1(j\\omega)I_1(j\\omega) - Z_2(j\\omega)I_2(j\\omega) = \\sqrt{3}E\\angle30^\\circ \\quad\\quad\\text{and}\\quad\\quad Z_2(j\\omega)\\big(I_2(j\\omega) - I_3(j\\omega)\\big) = \\sqrt{3}E\\angle270^\\circ$$"
   ]
  },
  {
   "cell_type": "markdown",
   "id": "b18d8d4f",
   "metadata": {},
   "source": [
    "Via KCL,  \n",
    "\n",
    "$$ I_1(j\\omega) = -\\big(I_2(j\\omega) + I_3(j\\omega)\\big)$$"
   ]
  },
  {
   "cell_type": "markdown",
   "id": "65653ef1",
   "metadata": {},
   "source": [
    "Via the above three equations and subsitution,  \n",
    "\n",
    "\\begin{equation}\\tag{1.1a}\n",
    "    Z_1(j\\omega)\\big(I_2(j\\omega) + I_3(j\\omega)\\big)  + Z_2(j\\omega)I_2(j\\omega) = \\sqrt{3}E\\angle210^\\circ\n",
    "\\end{equation}"
   ]
  },
  {
   "cell_type": "markdown",
   "id": "d1419754",
   "metadata": {},
   "source": [
    "\\begin{equation}\\tag{1.1b}\n",
    "    Z_2(j\\omega)\\big(I_2(j\\omega) - I_3(j\\omega)\\big) = \\sqrt{3}E\\angle270^\\circ\n",
    "\\end{equation}"
   ]
  },
  {
   "cell_type": "markdown",
   "id": "910a6e34",
   "metadata": {},
   "source": [
    "Via equation (1.1a),   \n",
    "\n",
    "\\begin{equation}\\tag{1.2}\n",
    "    I_3(j\\omega) = -I_2(j\\omega)\n",
    "\\end{equation}"
   ]
  },
  {
   "cell_type": "markdown",
   "id": "50baf590",
   "metadata": {},
   "source": [
    "And, via equations (1.2) and (1.1b),  \n",
    "\n",
    "\\begin{equation}\\tag{1.3}\n",
    "    I_2(j\\omega) = \\frac{\\sqrt{3}E\\angle270^\\circ}{2Z_2(j\\omega)} = \\frac{\\sqrt{3}E}{200\\sqrt{2}\\Omega}\\,\\angle225^\\circ\n",
    "\\end{equation}"
   ]
  },
  {
   "cell_type": "markdown",
   "id": "d7d4d9f6",
   "metadata": {},
   "source": [
    "Via equations (1.3), (1.2), and KCL,  \n",
    "\n",
    "\\begin{equation}\\tag{1.4}\n",
    "    \\text{a: }\\; I_3(j\\omega) = \\frac{\\sqrt{3}E}{200\\sqrt{2}\\Omega}\\,\\angle45^\\circ\\quad\\quad\\text{and}\\quad\\quad\\text{b: }\\;I_1(j\\omega) = 0\n",
    "\\end{equation}"
   ]
  },
  {
   "cell_type": "markdown",
   "id": "5895b681",
   "metadata": {},
   "source": [
    "Finally, \n",
    "\n",
    "\\begin{equation}\\tag{1.5}\n",
    "    V_1(j\\omega) = 0\\quad\\quad V_2(j\\omega) = 0.5\\sqrt{3}E\\angle225^\\circ\\quad\\quad V_3(j\\omega) = 0.5\\sqrt{3}E\\angle45^\\circ\n",
    "\\end{equation}"
   ]
  },
  {
   "cell_type": "markdown",
   "id": "cdb85300",
   "metadata": {},
   "source": [
    "#### Problem 2\n",
    "2. The total power of a three-phase balanced wye load is $6 \\mathrm{kW}$. What is the power factor of each phase load, if the line voltage is $400 \\mathrm{V}$ and the line current is $10 \\mathrm{A}$?"
   ]
  },
  {
   "cell_type": "markdown",
   "id": "de73803b",
   "metadata": {},
   "source": [
    "$$ P = 6\\mathrm{kW} = 3VI\\mathrm{pf}\\quad\\quad U(\\omega) = U = \\sqrt{3}V= 400\\mathrm{V}\\quad\\quad J=I=10\\mathrm{A}$$"
   ]
  },
  {
   "cell_type": "markdown",
   "id": "8276a65c",
   "metadata": {},
   "source": [
    "$$ V = \\frac{400\\mathrm{V}}{\\sqrt{3}} \\quad\\quad \\mathrm{pf} = \\frac{P}{3VI} = \\frac{P}{400\\sqrt{3}\\mathrm{V}\\cdot I}$$"
   ]
  },
  {
   "cell_type": "markdown",
   "id": "31e99e03",
   "metadata": {},
   "source": [
    "$$ \\mathrm{pf} = \\frac{600}{400\\sqrt{3}} = \\frac{\\sqrt{3}}{2}$$"
   ]
  },
  {
   "cell_type": "markdown",
   "id": "700fe58f",
   "metadata": {},
   "source": [
    "#### Problem 3\n",
    "3. A balanced delta load with phase impedance of $10\\Omega\\angle30^\\circ$ is connected to $230 \\mathrm{V}$ lines.  Determine the total real power supplied."
   ]
  },
  {
   "cell_type": "markdown",
   "id": "729591b4",
   "metadata": {},
   "source": [
    "$$ P = 3\\cdot \\frac{U^2}{10\\Omega\\cos30^\\circ} = \\frac{\\sqrt{3}U^2}{5\\Omega} = \\sqrt{3}\\cdot 10.58\\mathrm{kW}$$"
   ]
  },
  {
   "cell_type": "code",
   "execution_count": 3,
   "id": "55673448",
   "metadata": {},
   "outputs": [
    {
     "data": {
      "text/plain": [
       "0.8660254037844387"
      ]
     },
     "execution_count": 3,
     "metadata": {},
     "output_type": "execute_result"
    }
   ],
   "source": [
    "np.cos(np.radians(30))"
   ]
  },
  {
   "cell_type": "code",
   "execution_count": 4,
   "id": "8acca7c2",
   "metadata": {},
   "outputs": [
    {
     "data": {
      "text/plain": [
       "0.8660254037844386"
      ]
     },
     "execution_count": 4,
     "metadata": {},
     "output_type": "execute_result"
    }
   ],
   "source": [
    "0.5*np.sqrt(3)"
   ]
  },
  {
   "cell_type": "code",
   "execution_count": 5,
   "id": "db72d6e8",
   "metadata": {},
   "outputs": [
    {
     "data": {
      "text/plain": [
       "10580.0"
      ]
     },
     "execution_count": 5,
     "metadata": {},
     "output_type": "execute_result"
    }
   ],
   "source": [
    "(230**2)/5"
   ]
  },
  {
   "cell_type": "markdown",
   "id": "acf0667e",
   "metadata": {},
   "source": [
    "#### Problem 4\n",
    "4. A balanced wye load with phase impedance of $100\\Omega$ is connected to $230 \\mathrm{V}$ lines. Determine the total real power delivered to the load."
   ]
  },
  {
   "cell_type": "markdown",
   "id": "3a3639e8",
   "metadata": {},
   "source": [
    "$$ P = 3\\frac{V^2}{R} \\quad\\quad U = \\sqrt{3}V = 230\\mathrm{V} \\quad\\quad Z(j\\omega) = Z= R=100\\Omega$$"
   ]
  },
  {
   "cell_type": "markdown",
   "id": "1642f9e6",
   "metadata": {},
   "source": [
    "$$ V = \\frac{230\\mathrm{V}}{\\sqrt{3}} \\quad\\implies\\quad P = \\frac{230^2\\mathrm{V}^2}{100\\Omega} = 529\\mathrm{W}$$"
   ]
  },
  {
   "cell_type": "code",
   "execution_count": 6,
   "id": "f0d476d9",
   "metadata": {},
   "outputs": [
    {
     "data": {
      "text/plain": [
       "529.0"
      ]
     },
     "execution_count": 6,
     "metadata": {},
     "output_type": "execute_result"
    }
   ],
   "source": [
    "(230**2)/100"
   ]
  },
  {
   "cell_type": "markdown",
   "id": "2d440b4b",
   "metadata": {},
   "source": [
    "#### Problem 5\n",
    "5. For the balanced wye-delta system: $E=100\\mathrm{V}$, $Z(j\\omega)=100\\Omega$, find RMS value of a line current."
   ]
  },
  {
   "cell_type": "markdown",
   "id": "8d5dee12",
   "metadata": {},
   "source": [
    "$$ V = U = \\sqrt{3}E = \\sqrt{3}100\\mathrm{V} \\quad\\quad\\text{and}\\quad\\quad I = \\frac{V}{Z} = \\sqrt{3}\\mathrm{A}$$"
   ]
  },
  {
   "cell_type": "markdown",
   "id": "4835096a",
   "metadata": {},
   "source": [
    "$$ J = \\sqrt{3}I = 3\\mathrm{A}$$"
   ]
  },
  {
   "cell_type": "markdown",
   "id": "edde7dec",
   "metadata": {},
   "source": [
    "#### Problem 6\n",
    "6. "
   ]
  }
 ],
 "metadata": {
  "kernelspec": {
   "display_name": "Python 3 (ipykernel)",
   "language": "python",
   "name": "python3"
  },
  "language_info": {
   "codemirror_mode": {
    "name": "ipython",
    "version": 3
   },
   "file_extension": ".py",
   "mimetype": "text/x-python",
   "name": "python",
   "nbconvert_exporter": "python",
   "pygments_lexer": "ipython3",
   "version": "3.10.6"
  }
 },
 "nbformat": 4,
 "nbformat_minor": 5
}
