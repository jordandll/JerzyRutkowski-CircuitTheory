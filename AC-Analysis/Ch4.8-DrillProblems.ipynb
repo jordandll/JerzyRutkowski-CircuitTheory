{
 "cells": [
  {
   "cell_type": "markdown",
   "id": "1ad37981",
   "metadata": {},
   "source": [
    "## Drill Problems\n",
    "### *Chapter 4 Section 8* -- AC Steady State Analysis"
   ]
  },
  {
   "cell_type": "code",
   "execution_count": 1,
   "id": "6effa99f",
   "metadata": {},
   "outputs": [],
   "source": [
    "import numpy as np"
   ]
  },
  {
   "cell_type": "markdown",
   "id": "e64ac080",
   "metadata": {},
   "source": [
    "#### Problem 1\n",
    "1. Sketch the phasor diagram for a three-phase 3-wire unbalanced $Y-Y$ system: $Z_1(j\\omega)=\\infty$, $Z_2(j\\omega)=Z_3(j\\omega)=100\\Omega + j100\\Omega$."
   ]
  },
  {
   "cell_type": "markdown",
   "id": "199cff05",
   "metadata": {},
   "source": [
    "$$ Z_2(j\\omega) = Z_3(j\\omega) = 100\\Omega(1+j) = 100\\sqrt{2}\\Omega\\,\\angle45^\\circ \\quad\\quad\\text{and}\\quad\\quad J_\\mathrm{i}(j\\omega) = I_\\mathrm{i}(j\\omega) \\;\\forall\\,\\mathrm{i}\\in\\{1,2,3\\}$$"
   ]
  },
  {
   "cell_type": "markdown",
   "id": "da3af042",
   "metadata": {},
   "source": [
    "Via Ohm's Law in the frequency domain,  \n",
    "\n",
    "$$ V_\\mathrm{i}(j\\omega) = Z_\\mathrm{i}(j\\omega)I_\\mathrm{i}(j\\omega)\\quad\\forall\\,\\mathrm{i}\\in\\{1,2,3\\}$$"
   ]
  },
  {
   "cell_type": "markdown",
   "id": "f39f2fc9",
   "metadata": {},
   "source": [
    "Via KVL,  \n",
    "\n",
    "$$ E_1(j\\omega) - E_2(j\\omega) = V_1(j\\omega) - V_2(j\\omega) = U_{12}(j\\omega) \\quad\\quad\\text{and}\\quad\\quad E_2(j\\omega) - E_3(j\\omega) = V_2(j\\omega) - V_3(j\\omega) = U_{23}(j\\omega) $$"
   ]
  },
  {
   "cell_type": "markdown",
   "id": "c7806c84",
   "metadata": {},
   "source": [
    "Via the above two equations and equation (5b,c) and equivalence principle,  \n",
    "\n",
    "$$ V_1(j\\omega) - V_2(j\\omega) = \\sqrt{3}E\\angle30^\\circ\\quad\\quad\\text{and}\\quad\\quad V_2(j\\omega)-V_3(j\\omega) = \\sqrt{3}E\\angle270^\\circ$$"
   ]
  },
  {
   "cell_type": "markdown",
   "id": "c06587e5",
   "metadata": {},
   "source": [
    "Via the above two equations and Ohm's Law,  \n",
    "\n",
    "$$ Z_1(j\\omega)I_1(j\\omega) - Z_2(j\\omega)I_2(j\\omega) = \\sqrt{3}E\\angle30^\\circ \\quad\\quad\\text{and}\\quad\\quad Z_2(j\\omega)\\big(I_2(j\\omega) - I_3(j\\omega)\\big) = \\sqrt{3}E\\angle270^\\circ$$"
   ]
  },
  {
   "cell_type": "markdown",
   "id": "1d4b3e7d",
   "metadata": {},
   "source": [
    "Via KCL,  \n",
    "\n",
    "$$ I_1(j\\omega) = -\\big(I_2(j\\omega) + I_3(j\\omega)\\big)$$"
   ]
  },
  {
   "cell_type": "markdown",
   "id": "f2080211",
   "metadata": {},
   "source": [
    "Via the above three equations and subsitution,  \n",
    "\n",
    "\\begin{equation}\\tag{1.1a}\n",
    "    Z_1(j\\omega)\\big(I_2(j\\omega) + I_3(j\\omega)\\big)  + Z_2(j\\omega)I_2(j\\omega) = \\sqrt{3}E\\angle210^\\circ\n",
    "\\end{equation}"
   ]
  },
  {
   "cell_type": "markdown",
   "id": "cf3d8edd",
   "metadata": {},
   "source": [
    "\\begin{equation}\\tag{1.1b}\n",
    "    Z_2(j\\omega)\\big(I_2(j\\omega) - I_3(j\\omega)\\big) = \\sqrt{3}E\\angle270^\\circ\n",
    "\\end{equation}"
   ]
  },
  {
   "cell_type": "markdown",
   "id": "b5ba264d",
   "metadata": {},
   "source": [
    "Via equation (1.1a),   \n",
    "\n",
    "\\begin{equation}\\tag{1.2}\n",
    "    I_3(j\\omega) = -I_2(j\\omega)\n",
    "\\end{equation}"
   ]
  },
  {
   "cell_type": "markdown",
   "id": "85ee98c7",
   "metadata": {},
   "source": [
    "And, via equations (1.2) and (1.1b),  \n",
    "\n",
    "\\begin{equation}\\tag{1.3}\n",
    "    I_2(j\\omega) = \\frac{\\sqrt{3}E\\angle270^\\circ}{2Z_2(j\\omega)} = \\frac{\\sqrt{3}E}{200\\sqrt{2}\\Omega}\\,\\angle225^\\circ\n",
    "\\end{equation}"
   ]
  },
  {
   "cell_type": "markdown",
   "id": "a8902058",
   "metadata": {},
   "source": [
    "Via equations (1.3), (1.2), and KCL,  \n",
    "\n",
    "\\begin{equation}\\tag{1.4}\n",
    "    \\text{a: }\\; I_3(j\\omega) = \\frac{\\sqrt{3}E}{200\\sqrt{2}\\Omega}\\,\\angle45^\\circ\\quad\\quad\\text{and}\\quad\\quad\\text{b: }\\;I_1(j\\omega) = 0\n",
    "\\end{equation}"
   ]
  },
  {
   "cell_type": "markdown",
   "id": "3e53fd75",
   "metadata": {},
   "source": [
    "Finally, \n",
    "\n",
    "\\begin{equation}\\tag{1.5}\n",
    "    V_1(j\\omega) = 0\\quad\\quad V_2(j\\omega) = 0.5\\sqrt{3}E\\angle225^\\circ\\quad\\quad V_3(j\\omega) = 0.5\\sqrt{3}E\\angle45^\\circ\n",
    "\\end{equation}"
   ]
  },
  {
   "cell_type": "markdown",
   "id": "b05fd913",
   "metadata": {},
   "source": [
    "#### Problem 2\n",
    "2. The total power of a three-phase balanced wye load is $6 \\mathrm{kW}$. What is the power factor of each phase load, if the line voltage is $400 \\mathrm{V}$ and the line current is $10 \\mathrm{A}$?"
   ]
  },
  {
   "cell_type": "markdown",
   "id": "27b8880f",
   "metadata": {},
   "source": [
    "$$ P = 6\\mathrm{kW} = 3VI\\mathrm{pf}\\quad\\quad U(\\omega) = U = \\sqrt{3}V= 400\\mathrm{V}\\quad\\quad J=I=10\\mathrm{A}$$"
   ]
  },
  {
   "cell_type": "markdown",
   "id": "d61e8bb9",
   "metadata": {},
   "source": [
    "$$ V = \\frac{400\\mathrm{V}}{\\sqrt{3}} \\quad\\quad \\mathrm{pf} = \\frac{P}{3VI} = \\frac{P}{400\\sqrt{3}\\mathrm{V}\\cdot I}$$"
   ]
  },
  {
   "cell_type": "markdown",
   "id": "c1717d31",
   "metadata": {},
   "source": [
    "$$ \\mathrm{pf} = \\frac{600}{400\\sqrt{3}} = \\frac{\\sqrt{3}}{2}$$"
   ]
  }
 ],
 "metadata": {
  "kernelspec": {
   "display_name": "Python 3 (ipykernel)",
   "language": "python",
   "name": "python3"
  },
  "language_info": {
   "codemirror_mode": {
    "name": "ipython",
    "version": 3
   },
   "file_extension": ".py",
   "mimetype": "text/x-python",
   "name": "python",
   "nbconvert_exporter": "python",
   "pygments_lexer": "ipython3",
   "version": "3.10.6"
  }
 },
 "nbformat": 4,
 "nbformat_minor": 5
}
