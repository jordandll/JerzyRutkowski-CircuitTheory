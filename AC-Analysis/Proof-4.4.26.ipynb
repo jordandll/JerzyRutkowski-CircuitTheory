{
 "cells": [
  {
   "cell_type": "markdown",
   "id": "1b368afd",
   "metadata": {},
   "source": [
    "The proof for [equation (4.4.26)](FrequencyCharacteristics.ipynb#Practical-Coil-and-Practical-Capacitor):  \n",
    "\n",
    "The impedance of a practical coil, with stray capacitance taken into consideration, is given by:  \n",
    "\n",
    "\\begin{equation}\\tag{23a}\n",
    "    Z_L(j\\omega) = \\frac{1}{A_L(j\\omega)}\\quad\\quad\\text{where }\\; A_L(j\\omega) = \\frac{1}{R_L + j\\omega L} + j\\omega C_L\n",
    "\\end{equation}"
   ]
  },
  {
   "cell_type": "markdown",
   "id": "c0d6fee7",
   "metadata": {},
   "source": [
    "$$ \\frac{1}{R_L+j\\omega L} = \\frac{1}{\\sqrt{R_L^2 + \\omega^2L^2}}\\,\\angle\\!-\\!\\arcsin\\frac{\\omega L}{\\sqrt{R_L^2 + \\omega^2 L^2}}$$"
   ]
  },
  {
   "cell_type": "markdown",
   "id": "7a4d06a5",
   "metadata": {},
   "source": [
    "$$ = \\frac{1}{R_L^2 + \\omega^2 L^2} \\,\\big(R_L - j\\omega L\\big)$$"
   ]
  },
  {
   "cell_type": "markdown",
   "id": "7f941c76",
   "metadata": {},
   "source": [
    "Thus,  \n",
    "\n",
    "$$ A_L(j\\omega) = \\frac{R_L}{R_L^2 + \\omega^2L^2} + j\\,\\left(\\omega C_L - \\frac{\\omega L}{R_L^2 + \\omega^2L^2}\\right)$$"
   ]
  },
  {
   "cell_type": "markdown",
   "id": "52efa10e",
   "metadata": {},
   "source": [
    "$$ = \\frac{R_L + j\\Big(\\omega C_L\\big(R_L^2 + \\omega^2 L^2\\big) - \\omega L \\Big)}{R_L^2 + \\omega^2 L^2}$$"
   ]
  },
  {
   "cell_type": "markdown",
   "id": "7f2122c0",
   "metadata": {},
   "source": [
    "Which implies that:  \n",
    "\n",
    "$$ A_L(\\omega) = A_L = \\frac{R_L^2 + \\Big(\\omega C_L\\big(R_L^2 + \\omega^2 L^2\\big) - \\omega L \\Big)^2}{R_L^2+\\omega^2L^2}$$"
   ]
  },
  {
   "cell_type": "markdown",
   "id": "19d5ba01",
   "metadata": {},
   "source": [
    "and,  \n",
    "\n",
    "\\begin{equation}\\tag{23b}\n",
    "    Z_L(\\omega) = Z_L = \\frac{R_L^2+\\omega^2L^2}{R_L^2 + \\Big(\\omega C_L\\big(R_L^2 + \\omega^2 L^2\\big) - \\omega L \\Big)^2}\n",
    "\\end{equation}    "
   ]
  },
  {
   "cell_type": "markdown",
   "id": "cdbc0d7c",
   "metadata": {},
   "source": [
    "The resonant frequency satisfies the following:  \n",
    "\n",
    "$$Z_L'(\\omega_\\mathrm{r}) = 0 $$"
   ]
  },
  {
   "cell_type": "markdown",
   "id": "3e6dc832",
   "metadata": {},
   "source": [
    "$$ Z_L'(\\omega) = 2\\frac{\\omega L^2}{R_L^2 + \\Big(\\omega C_L\\big(R_L^2 + \\omega^2 L^2\\big) - \\omega L \\Big)^2}\\;-\\;2\\Big(C_L\\big(R_L^2+\\omega^2L^2\\big) + 2\\omega^2L^2 C_L -L\\Big)\\cdot\\frac{R_L^2+\\omega^2L^2}{\\left(R_L^2 + \\Big(\\omega C_L\\big(R_L^2 + \\omega^2 L^2\\big) - \\omega L \\Big)^2 \\right)^2}$$"
   ]
  },
  {
   "cell_type": "markdown",
   "id": "f3c1da8e",
   "metadata": {},
   "source": [
    "Thus,  \n",
    "\n",
    "$$\\omega_\\mathrm{r} L^2\\,\\left(R_L^2 + \\Big(\\omega_\\mathrm{r} C_L\\big(R_L^2 + \\omega_\\mathrm{r}^2 L^2\\big) - \\omega_\\mathrm{r} L \\Big)^2\\right)  = \\Big(C_L\\big(R_L^2+\\omega_\\mathrm{r}^2L^2\\big) + 2\\omega_\\mathrm{r}^2L^2 C_L -L\\Big)\\big(R_L^2+\\omega_\\mathrm{r}^2L^2\\big) $$"
   ]
  },
  {
   "cell_type": "markdown",
   "id": "bb63ff52",
   "metadata": {},
   "source": [
    "$$ \\omega_\\mathrm{r} L^2 \\left(R_L^2 + \\big(\\omega_\\mathrm{r} C_LR_L^2 + \\omega_\\mathrm{r}^3C_LL^2 \\big)^2+ \\omega_\\mathrm{r}^2L^2 - 2\\Big(\\omega_\\mathrm{r}^2C_LL\\big(R_L^2 + \\omega_\\mathrm{r}^2L^2\\big) \\Big)\\right) = C_L\\big(R_L^2+\\omega_\\mathrm{r}^2L^2\\big)^2 + \\big(2\\omega_\\mathrm{r}^2L^2C_L - L\\big)\\big(R_L^2 + \\omega_\\mathrm{r}^2L^2\\big)$$"
   ]
  }
 ],
 "metadata": {
  "kernelspec": {
   "display_name": "Python 3",
   "language": "python",
   "name": "python3"
  },
  "language_info": {
   "codemirror_mode": {
    "name": "ipython",
    "version": 3
   },
   "file_extension": ".py",
   "mimetype": "text/x-python",
   "name": "python",
   "nbconvert_exporter": "python",
   "pygments_lexer": "ipython3",
   "version": "3.8.10"
  }
 },
 "nbformat": 4,
 "nbformat_minor": 5
}
