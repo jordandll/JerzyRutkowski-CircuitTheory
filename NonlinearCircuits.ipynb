{
 "cells": [
  {
   "cell_type": "markdown",
   "id": "eed528fb",
   "metadata": {},
   "source": [
    "# Analysis of Nonlinear Circuits\n",
    "### Chapter 2.12 - *DC Analysis*\n",
    "\n",
    "Before discussing different approaches to analysis of nonlinear circuits, i.e. circuits that\n",
    "contain at least one nonlinear element, two nonlinear elements commonly used in electronic\n",
    "circuits are presented."
   ]
  },
  {
   "cell_type": "markdown",
   "id": "a7190791",
   "metadata": {},
   "source": [
    "## Semiconductor Diode\n",
    "A circuit symbol and relationship of a semiconductor diode are presented in Fig.\n",
    "2.12.1, for both ideal and practical diode.  \n",
    "\n",
    "![Fig-2.12.1](Figures/Fig-2.12.1.png)"
   ]
  },
  {
   "cell_type": "markdown",
   "id": "3b8fdd7a",
   "metadata": {},
   "source": [
    "**Ideal diode** (bold line) $I-U$ relationship:  \n",
    "\n",
    "\\begin{align*}\\tag{1a}\n",
    "    I&=0 \\quad\\text{if } U<0 \\;\\text{(inverse polarization)} \\\\\n",
    "    U&=0 \\quad\\text{if } I \\le 0\\; \\text{(foward polarization)}\n",
    "\\end{align*}    "
   ]
  },
  {
   "cell_type": "markdown",
   "id": "440273ad",
   "metadata": {},
   "source": [
    "In the case of an ideal diode, forward polarization implies a short-circuit across the terminals of the diode, and\n",
    "inverse polarization implies an open-circuit across the terminals of the diode."
   ]
  },
  {
   "cell_type": "markdown",
   "id": "7c95a8bc",
   "metadata": {},
   "source": [
    "**Practical diode** (thin line) relationship:  \n",
    "\n",
    "\\begin{equation}\\tag{1b}\n",
    "    I = I_i(e^{U/U_0}-1)\n",
    "\\end{equation}    "
   ]
  },
  {
   "cell_type": "markdown",
   "id": "3c2abaca",
   "metadata": {},
   "source": [
    "where,\n",
    "\\begin{align*}\\tag{1b.1}\n",
    "    I_i &= 10^{-15}\\div 10^{-12}\\mathrm{A} = 1\\mathrm{mA} \\quad\\text{(inverse current)} \\\\\n",
    "    U_0 &\\approxeq 25\\mathrm{mV}\n",
    "\\end{align*}    "
   ]
  },
  {
   "cell_type": "markdown",
   "id": "04b18cf9",
   "metadata": {},
   "source": [
    "Note that '$I_i$' denotes the inverse current."
   ]
  },
  {
   "cell_type": "markdown",
   "id": "15b5a1d6",
   "metadata": {},
   "source": [
    "The practical diode $I-U$ relationship can be linearized, and then,\n",
    "forward polarized diode is practically an ideal voltage source $U_f$,\n",
    "inverse polarized diode is practically an open-circuit:  \n",
    "\n",
    "\\begin{align*}\\tag{1c}\n",
    "    I &= 0 \\quad \\text{if } U< U_f \\quad\\text{(inverse polarization)} \\\\\n",
    "    U &= U_f \\quad \\text{if } I \\ge 0 \\quad\\text{(forward polarization)}\n",
    "\\end{align*}    "
   ]
  },
  {
   "cell_type": "markdown",
   "id": "4d3c8d44",
   "metadata": {},
   "source": [
    "The forward voltage of the ubiquitous silicon diode is $U_f=0.7\\mathrm{V}$."
   ]
  },
  {
   "cell_type": "markdown",
   "id": "df2508ee",
   "metadata": {},
   "source": [
    "The following approximations can be made about a practical diode *without* linearizing it's $I-U$ relationship.  \n",
    "\n",
    "\\begin{align*}\\tag{1c.1}\n",
    "    I &\\approxeq 0 \\quad \\text{if } U<U_f \\quad \\text{(inverse polarization)} \\\\\n",
    "    U &\\approxeq U_f \\quad \\text{if } I > 0 \\quad \\text{(forward polarization)}\n",
    "\\end{align*}    "
   ]
  },
  {
   "cell_type": "markdown",
   "id": "99c66f45",
   "metadata": {},
   "source": [
    "To explain the principles found in (1c.1):  Via equation (1b),  \n",
    "\n",
    "\\begin{equation}\\tag{1c.1a}\n",
    "    e^{U/U_0} = \\frac{I}{I_i} + 1\n",
    "\\end{equation}    \n",
    "\n",
    "$$ \\frac{U}{U_0} = \\log\\left| \\frac{I}{I_i} + 1\\right| = \\log \\frac{I + I_i}{I_i} = \\log|I+I_i| - \\log|I_i|$$"
   ]
  },
  {
   "cell_type": "markdown",
   "id": "3c44e154",
   "metadata": {},
   "source": [
    "\\begin{equation}\\tag{1c.1b}\n",
    "    U'(I) := U'(I\\vert I_i, U_0) = \\frac{U_0}{\\log|I+I_i|}\\,\\frac{1}{\\mathrm{A}}\n",
    "\\end{equation}    "
   ]
  },
  {
   "cell_type": "markdown",
   "id": "b5ee5461",
   "metadata": {},
   "source": [
    "Via equations (1c.1a) and (1c.1b) and substitution,  \n",
    "\n",
    "$$ U'(I) = \\frac{U_0}{\\log I_i + U/U_0}$$"
   ]
  },
  {
   "cell_type": "markdown",
   "id": "48da9c01",
   "metadata": {},
   "source": [
    "## Graphical Analysis\n",
    "\n",
    "### Example 2.12.1\n",
    "A nonlinear circuit is shown in Fig. 2.12.7. For the given parameters of linear elements: $R_1=10\\Omega$, $R_2=5\\Omega$, $E_2=12\\mathrm{V}$, and nonlinear element relationship presented in Table\n",
    "2.12.2, find the power supplied by the voltage source.  \n",
    "\n",
    "![Fig-2.12.7](Figures/Fig-2.12.7.png)"
   ]
  },
  {
   "cell_type": "code",
   "execution_count": 7,
   "id": "e1945fc4",
   "metadata": {},
   "outputs": [
    {
     "data": {
      "text/plain": [
       "-0.6"
      ]
     },
     "execution_count": 7,
     "metadata": {},
     "output_type": "execute_result"
    }
   ],
   "source": [
    "I(10)"
   ]
  },
  {
   "cell_type": "markdown",
   "id": "fec13260",
   "metadata": {},
   "source": [
    "The following PWL $I-U$ relationships for the nonlinear element can be obtained from table (2.12.1):  \n",
    "\n",
    "\\begin{align*}\\tag{Ex1.1}\n",
    "    I &= \\frac{1}{60}\\,\\mathrm{S}\\,U \\quad &\\forall\\,U &\\in \\le 0,6 > \\\\\n",
    "    I &= 0.1\\mathrm{S}\\, U - 0.5\\mathrm{A}\\quad &\\forall\\,&U\\in \\le 6, 10>  \\\\\n",
    "    I &= 0.5\\mathrm{A} \\quad &\\forall\\,&U\\in\\le 10, 12>\n",
    "\\end{align*}    "
   ]
  },
  {
   "cell_type": "markdown",
   "id": "ccb18d42",
   "metadata": {},
   "source": [
    "To find the open-circuit voltage, assume that all of the current, denoted as '$I_\\mathrm{a}$', flows through the bottom mesh, leaving none for the nonlinear element.  Via KVL and Ohm's Law,  \n",
    "\n",
    "$$ E_\\mathrm{o} = I_\\mathrm{a}R_1$$\n",
    "\n",
    "$$ I_\\mathrm{a} = \\frac{E_2}{R_1+R_2} = \\frac{12\\mathrm{V}}{15\\Omega} = 0.8\\mathrm{A}$$\n",
    "\n",
    "Thus,\n",
    "$$ E_\\mathrm{o} = 0.8\\mathrm{A} \\cdot 10\\Omega = 8\\mathrm{V}$$"
   ]
  },
  {
   "cell_type": "markdown",
   "id": "58280701",
   "metadata": {},
   "source": [
    "To find the short-circuit current of the linear part of the circuit, assume none of the current flows through $R_1$.  Via KVL and Ohm's Law,  \n",
    "\n",
    "$$ E_2 = R_2 J_\\mathrm{s}$$  \n",
    "\n",
    "$$ J_\\mathrm{s} = \\frac{12}{5}\\,\\mathrm{A}$$"
   ]
  },
  {
   "cell_type": "markdown",
   "id": "517564c7",
   "metadata": {},
   "source": [
    "Thus,\n",
    "$$ R_\\mathrm{t} = \\frac{E_\\mathrm{o}}{J_\\mathrm{s}} = \\frac{10}{3}\\Omega$$"
   ]
  },
  {
   "cell_type": "markdown",
   "id": "6e829f5a",
   "metadata": {},
   "source": [
    "Via KVL and Ohm's Law,  \n",
    "\n",
    "$$ E_\\mathrm{o} = R_\\mathrm{t}I + U$$"
   ]
  },
  {
   "cell_type": "markdown",
   "id": "4e3e49f2",
   "metadata": {},
   "source": [
    "\\begin{equation}\\tag{Ex1.2}\n",
    "    I= \\frac{E_\\mathrm{o} - U}{R_\\mathrm{t}} = 0.3\\mathrm{S}\\,(8\\mathrm{V} - U)\n",
    "\\end{equation}    "
   ]
  },
  {
   "cell_type": "markdown",
   "id": "72aa27f3",
   "metadata": {},
   "source": [
    "Now, to find the $Q$-point we must solve for $U$ and $I$ using equations (Ex1.1) and (Ex1.2) subsequently finding the point of intersection between the graphs given by (Ex1.2) and (Ex1.1)."
   ]
  },
  {
   "cell_type": "code",
   "execution_count": 4,
   "id": "37a82006",
   "metadata": {},
   "outputs": [],
   "source": [
    "I = lambda U: 0.3*(8-U)"
   ]
  },
  {
   "cell_type": "markdown",
   "id": "7484b16b",
   "metadata": {},
   "source": [
    "The system of equations is:  \n",
    "\n",
    "$$ I^\\mathrm{Q} = 0.3\\mathrm{S}\\,(8\\mathrm{V} - U^\\mathrm{Q})$$\n",
    "\n",
    "$$ I^\\mathrm{Q} = 0.1\\mathrm{S}\\,U^\\mathrm{Q} - 0.5\\mathrm{A}$$\n",
    "\n",
    "$$0.3\\mathrm{S}\\,(8\\mathrm{V} - U^\\mathrm{Q}) = 0.1\\mathrm{S}\\,U^\\mathrm{Q} - 0.5\\mathrm{A}$$"
   ]
  },
  {
   "cell_type": "markdown",
   "id": "c8f638b1",
   "metadata": {},
   "source": [
    "$$ 0.4\\mathrm{S}\\,U^\\mathrm{Q} = 0.3\\cdot 8\\mathrm{A} + 0.5\\mathrm{A}$$"
   ]
  },
  {
   "cell_type": "markdown",
   "id": "660c090c",
   "metadata": {},
   "source": [
    "\\begin{equation}\\tag{Ex1.3}\n",
    "    U^\\mathrm{Q} = 7.25\\mathrm{V}\n",
    "\\end{equation}    "
   ]
  },
  {
   "cell_type": "markdown",
   "id": "f60658b6",
   "metadata": {},
   "source": [
    "\\begin{equation}\\tag{Ex1.4}\n",
    "    I^\\mathrm{Q} = 225\\mathrm{mA}\n",
    "\\end{equation}    "
   ]
  },
  {
   "cell_type": "code",
   "execution_count": 9,
   "id": "0a31b06d",
   "metadata": {},
   "outputs": [
    {
     "data": {
      "text/plain": [
       "0.2250000000000001"
      ]
     },
     "execution_count": 9,
     "metadata": {},
     "output_type": "execute_result"
    }
   ],
   "source": [
    "0.1*7.25 - 0.5"
   ]
  },
  {
   "cell_type": "markdown",
   "id": "06c5f207",
   "metadata": {},
   "source": [
    "The $Q$-point is the only point at which the laws of circuit theory apply.  Via KCL,  \n",
    "\n",
    "$$ I_2 = I^\\mathrm{Q} + I_1 $$"
   ]
  },
  {
   "cell_type": "markdown",
   "id": "5b9338b3",
   "metadata": {},
   "source": [
    "Via Ohm's Law,  \n",
    "\n",
    "$$ U^\\mathrm{Q} = R_1I_1$$"
   ]
  },
  {
   "cell_type": "markdown",
   "id": "0bd81c8b",
   "metadata": {},
   "source": [
    "$$ I_1 = \\frac{7.25\\mathrm{V}}{10\\Omega} = 725\\mathrm{mA}$$"
   ]
  },
  {
   "cell_type": "markdown",
   "id": "0f2c00af",
   "metadata": {},
   "source": [
    "Thus,  \n",
    "\n",
    "$$ I_2 = 950\\mathrm{mA}$$"
   ]
  },
  {
   "cell_type": "markdown",
   "id": "1cd1efd3",
   "metadata": {},
   "source": [
    "And, the power delivered by $E_2$ is given by:  \n",
    "\n",
    "$$ P = E_2I_2 = 11.4\\mathrm{W}$$"
   ]
  },
  {
   "cell_type": "code",
   "execution_count": 10,
   "id": "fc76b556",
   "metadata": {},
   "outputs": [
    {
     "data": {
      "text/plain": [
       "11.399999999999999"
      ]
     },
     "execution_count": 10,
     "metadata": {},
     "output_type": "execute_result"
    }
   ],
   "source": [
    "12*0.95"
   ]
  },
  {
   "cell_type": "markdown",
   "id": "76df4924",
   "metadata": {},
   "source": [
    "## ANALYSIS BASED ON PWL APPROXIMATION\n",
    "\n",
    "A nonlinear element can be characterized by an analytic function (2.1.4) or by its tabularized\n",
    "PWL approximation. Each linear segment is located on a straight line described by equation\n",
    "(2.12.8a) or (2.12.8b).  \n",
    "\n",
    "\\begin{equation}\\tag{8a}\n",
    "    U := U(I) = E_\\mathrm{o} + R_\\mathrm{t}I\n",
    "\\end{equation}    "
   ]
  },
  {
   "cell_type": "markdown",
   "id": "32688353",
   "metadata": {},
   "source": [
    "\\begin{equation}\\tag{8b}\n",
    "    I := I(U) = J_\\mathrm{s} + G_\\mathrm{t}U\n",
    "\\end{equation}    "
   ]
  },
  {
   "cell_type": "markdown",
   "id": "f680a5ca",
   "metadata": {},
   "source": [
    "This means that a nonlinear element operating at the given linear segment can be replaced by\n",
    "its Thevenin or Norton equivalent circuit depicted in Fig. 2.5.6 (for simplicity of description\n",
    "indices in (2.12.8) have been omitted). Then, the PWL approximation based algorithm of\n",
    "nonlinear circuit analysis can be formulated."
   ]
  },
  {
   "cell_type": "markdown",
   "id": "0178fc97",
   "metadata": {},
   "source": [
    "### *Example 2.12.1* – cont.\n",
    "The PWL approximation based analysis is applied. The tabularized $I-U$relationship (Table\n",
    "2.12.1) has three segments. These segments are described by the following equations:  \n",
    "\n",
    "\\begin{align*}\\tag{Ex1.1}\n",
    "    \\text{I: }\\;U &= 60\\Omega\\,I \\\\\n",
    "    \\text{II: }\\;U&= 10\\Omega\\,I + 5\\mathrm{V} \\\\\n",
    "    \\text{III: }\\;I&= 0.5\\mathrm{A}\n",
    "\\end{align*}    "
   ]
  },
  {
   "cell_type": "markdown",
   "id": "143fdc22",
   "metadata": {},
   "source": [
    "Thevenin or Norton equivalents are presented in Fig. 2.12.10.  \n",
    "\n",
    "![Fig-2.12.10](Figures/Fig-2.12.10.png)"
   ]
  },
  {
   "cell_type": "markdown",
   "id": "c2afb831",
   "metadata": {},
   "source": [
    "At first we will substitute the nonlinear element with subcircuit $\\mathrm{I}$ and assume that $0\\le U \\le 6\\mathrm{V}$.  \n",
    "\n",
    "![Fig-2.12.11](Figures/Fig-2.12.11.png)"
   ]
  },
  {
   "cell_type": "markdown",
   "id": "5c1c0c59",
   "metadata": {},
   "source": [
    "Recall that:\n",
    "\n",
    "* $E_2 = 12\\mathrm{V}$\n",
    "* $R_2 = 5\\Omega$\n",
    "* $R_1 = 10\\Omega$"
   ]
  },
  {
   "cell_type": "markdown",
   "id": "73e8e104",
   "metadata": {},
   "source": [
    "Via KCL,  \n",
    "\n",
    "\\begin{equation}\\tag{Ex1b.1}\n",
    "    I_2 = I + I_1\n",
    "\\end{equation}    "
   ]
  },
  {
   "cell_type": "markdown",
   "id": "7cb49d79",
   "metadata": {},
   "source": [
    "Via KVL and Ohm's Law,  \n",
    "\n",
    "$$10\\Omega\\,I_1 = 60\\Omega\\,I$$\n",
    "\n",
    "\\begin{equation}\\tag{Ex1b.2}\n",
    "    I_1 = 6I\n",
    "\\end{equation}    "
   ]
  },
  {
   "cell_type": "markdown",
   "id": "57ad4643",
   "metadata": {},
   "source": [
    "\\begin{equation}\\tag{Ex1b.3}\n",
    "    12\\mathrm{V} = 5\\Omega \\,I_2 + 10\\Omega\\,I_1\n",
    "\\end{equation}    "
   ]
  },
  {
   "cell_type": "markdown",
   "id": "585f231e",
   "metadata": {},
   "source": [
    "Via equations (Ex1b.1) and (Ex1b.3),  \n",
    "\n",
    "\n",
    "\\begin{align*}\\tag{Ex1b.4}\n",
    "    12\\mathrm{V} &= 5\\Omega\\,(I+I_1) + 10\\Omega \\,I_1 \\\\\n",
    "     &= 5\\Omega\\,I + 15\\Omega\\,I_1\n",
    "\\end{align*}    "
   ]
  },
  {
   "cell_type": "markdown",
   "id": "2940eb30",
   "metadata": {},
   "source": [
    "Via equations (Ex1b.4) and (Ex1b.2),  \n",
    "\n",
    "$$ 12\\mathrm{V} = 95\\Omega\\,I $$"
   ]
  },
  {
   "cell_type": "markdown",
   "id": "eaa2f692",
   "metadata": {},
   "source": [
    "\\begin{equation}\\tag{Ex1b.5}\n",
    "    I \\approxeq 126.32 \\mathrm{mA}\n",
    "\\end{equation}    "
   ]
  },
  {
   "cell_type": "markdown",
   "id": "f7f5b13e",
   "metadata": {},
   "source": [
    "Via equation (Ex1b.5) and (Ex1.1), $ U \\approxeq 7.58$, which means that equation (Ex1b.5) is inconsistent with the assumption made in the case of subcircuit $\\mathrm{I}$, which is that $0\\le U \\le 6\\mathrm{V}$."
   ]
  },
  {
   "cell_type": "markdown",
   "id": "c8e9db42",
   "metadata": {},
   "source": [
    "Now let's try subcircuit $\\mathrm{II}$ and assume that $6\\mathrm{V}\\le U \\le 10\\mathrm{V}$."
   ]
  },
  {
   "cell_type": "markdown",
   "id": "56e42322",
   "metadata": {},
   "source": [
    "Equations (Ex1b.1) and (Ex1b.3) still hold true in the case of subcircuit $\\mathrm{II}$.  Via KVL and Ohm's Law,  \n",
    "\n",
    "\\begin{equation}\\tag{Ex1b.2-II}\n",
    "    10\\Omega\\,I_1 = 10\\Omega\\,I + 5\\mathrm{V}\n",
    "\\end{equation}    "
   ]
  },
  {
   "cell_type": "markdown",
   "id": "417c45d6",
   "metadata": {},
   "source": [
    "Via equations (Ex1b.1) and (Ex1b.2-II),  \n",
    "\n",
    "$$ 10\\Omega\\,I_1 = 10\\Omega(I_2-I_1) + 5\\mathrm{V}$$"
   ]
  },
  {
   "cell_type": "markdown",
   "id": "ad09111c",
   "metadata": {},
   "source": [
    "\\begin{equation}\\tag{Ex1b.6}\n",
    "    20\\Omega\\,I_1 = 10\\Omega\\,I_2 + 5\\mathrm{V}\n",
    "\\end{equation}    "
   ]
  },
  {
   "cell_type": "markdown",
   "id": "4a08cea2",
   "metadata": {},
   "source": [
    "And, via equations (Ex1b.6) and (Ex1b.3),  \n",
    "\n",
    "$$ 20\\Omega\\,I_1 = 24\\mathrm{V} - 20\\Omega\\,I_1 + 5\\mathrm{V}$$"
   ]
  },
  {
   "cell_type": "markdown",
   "id": "ac996329",
   "metadata": {},
   "source": [
    "$$ 40\\Omega\\,I_1 = 29\\mathrm{V}$$"
   ]
  },
  {
   "cell_type": "markdown",
   "id": "b826b3ec",
   "metadata": {},
   "source": [
    "\\begin{equation}\\tag{Ex1b.7}\n",
    "    I_1 = 725\\mathrm{mA}\n",
    "\\end{equation}    "
   ]
  },
  {
   "cell_type": "code",
   "execution_count": 14,
   "id": "1fbfdc60",
   "metadata": {},
   "outputs": [
    {
     "data": {
      "text/plain": [
       "0.725"
      ]
     },
     "execution_count": 14,
     "metadata": {},
     "output_type": "execute_result"
    }
   ],
   "source": [
    "29/40"
   ]
  },
  {
   "cell_type": "markdown",
   "id": "3e84d189",
   "metadata": {},
   "source": [
    "Via equation (Ex1b.7) and Ohm's Law,  \n",
    "\n",
    "\\begin{equation}\\tag{Ex1b.8}\n",
    "    U = 7.25\\mathrm{V}\n",
    "\\end{equation}    "
   ]
  },
  {
   "cell_type": "markdown",
   "id": "20213373",
   "metadata": {},
   "source": [
    "and,\n",
    "\\begin{equation}\\tag{Ex1b.9}\n",
    "    I = 225\\mathrm{mA}\n",
    "\\end{equation}    "
   ]
  },
  {
   "cell_type": "code",
   "execution_count": 15,
   "id": "f464da65",
   "metadata": {},
   "outputs": [
    {
     "data": {
      "text/plain": [
       "0.225"
      ]
     },
     "execution_count": 15,
     "metadata": {},
     "output_type": "execute_result"
    }
   ],
   "source": [
    "(7.25-5)/10"
   ]
  },
  {
   "cell_type": "markdown",
   "id": "7a5d1c58",
   "metadata": {},
   "source": [
    "## ANALYSIS BASED ON NEWTON-RAPHSON ITERATION SCHEME\n",
    "It is assumed that all nonlinear elements are characterized by analytic functions (2.1.4). In a\n",
    "close neighborhood of the $Q$-point nonlinear characteristic can be linearized, by means of\n",
    "Taylor’s expansion (2.12.12), as presented in Fig. 2.12.12.  \n",
    "\n",
    "\\begin{align*}\\tag{12}\n",
    "    I &= I^\\mathrm{Q} + (\\mathrm{d}I/\\mathrm{d}U)^\\mathrm{Q}(U - U^\\mathrm{Q}) \\\\\n",
    "     &= I^\\mathrm{Q} + I'(U^\\mathrm{Q}) \\cdot (U - U^\\mathrm{Q})\\\\\n",
    "     &= J^\\mathrm{Q} + G^\\mathrm{Q}U\n",
    "\\end{align*}     "
   ]
  },
  {
   "cell_type": "markdown",
   "id": "f18ecef6",
   "metadata": {},
   "source": [
    "where,\n",
    "\\begin{equation}\\tag{12a}\n",
    "    (\\mathrm{d}I/\\mathrm{d}U)^\\mathrm{Q} = \\frac{\\mathrm{d}I}{\\mathrm{d}U}(U^\\mathrm{Q}) = I'(U^\\mathrm{Q}) = G^\\mathrm{Q}\n",
    "\\end{equation}    "
   ]
  },
  {
   "cell_type": "markdown",
   "id": "035360c1",
   "metadata": {},
   "source": [
    "is the **dynamic conductance** at the $Q$-point and  \n",
    "\n",
    "\\begin{equation}\\tag{12b}\n",
    "    J^\\mathrm{Q} = I^\\mathrm{Q} + G^\\mathrm{Q}U^\\mathrm{Q}\n",
    "\\end{equation}    "
   ]
  },
  {
   "cell_type": "markdown",
   "id": "b9750a06",
   "metadata": {},
   "source": [
    "is the short-circuit current at the $Q$-point. Then, for the given $Q$-point, Norton (or Thevenin)\n",
    "equivalent of each element can be found, as depicted in Fig. 6.12.13."
   ]
  }
 ],
 "metadata": {
  "kernelspec": {
   "display_name": "Python 3",
   "language": "python",
   "name": "python3"
  },
  "language_info": {
   "codemirror_mode": {
    "name": "ipython",
    "version": 3
   },
   "file_extension": ".py",
   "mimetype": "text/x-python",
   "name": "python",
   "nbconvert_exporter": "python",
   "pygments_lexer": "ipython3",
   "version": "3.8.10"
  }
 },
 "nbformat": 4,
 "nbformat_minor": 5
}
