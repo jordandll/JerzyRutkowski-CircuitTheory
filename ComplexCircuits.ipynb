{
 "cells": [
  {
   "cell_type": "markdown",
   "id": "7e1b3d4e",
   "metadata": {},
   "source": [
    "# Analysis of Complex Circuits\n",
    "\n",
    "### *Chapter 2.3* - DC Analysis"
   ]
  },
  {
   "cell_type": "markdown",
   "id": "5a713eba",
   "metadata": {},
   "source": [
    "Resistor equations together with $t=n-1$ KCL equations and $l=b-n+1$ KVL equations\n",
    "allow to formulate the well defined system of circuit equations. Two approaches will be\n",
    "presented: the generalized Kirchhoff’s analysis and the commonly used nodal analysis."
   ]
  },
  {
   "cell_type": "markdown",
   "id": "ada0e14a",
   "metadata": {},
   "source": [
    "# Generalized Kirchhoff's Analysis\n",
    "\n",
    "### *Algorithm 2.3.1* – Branch Current Analysis"
   ]
  },
  {
   "cell_type": "markdown",
   "id": "5d39376f",
   "metadata": {},
   "source": [
    "1. Assume unknown currents in each branch, $I_1,\\dots,I_b$. Indicate their directions by arrows\n",
    "    (direction is arbitrary)."
   ]
  },
  {
   "cell_type": "markdown",
   "id": "08530bc0",
   "metadata": {},
   "source": [
    "2. For each element indicate, by an arrow, its voltage drop (passive elements) or rise (active\n",
    "    elements) that a particular current causes in passing the element."
   ]
  },
  {
   "cell_type": "markdown",
   "id": "9f854a39",
   "metadata": {},
   "source": [
    "3. Select the reference node (selection of the node is arbitrary). Write down $t=n-1$ KCL equations\n",
    "    at all other nodes."
   ]
  },
  {
   "cell_type": "markdown",
   "id": "4ad7f6c4",
   "metadata": {},
   "source": [
    "4. Write down $t=b-n+1$ KVL equations for all meshes."
   ]
  },
  {
   "cell_type": "markdown",
   "id": "fce045ba",
   "metadata": {},
   "source": [
    "5. Express resistor voltages by their currents, by means of Ohm’s law."
   ]
  },
  {
   "cell_type": "markdown",
   "id": "14656d2b",
   "metadata": {},
   "source": [
    "6. Solve the set of $b$ equations with resistor currents and voltages of ideal current sources, if\n",
    "    present, as unknown variables."
   ]
  },
  {
   "cell_type": "markdown",
   "id": "09b07279",
   "metadata": {},
   "source": [
    "7. Find circuit responses, if not found already."
   ]
  },
  {
   "cell_type": "markdown",
   "id": "35b41041",
   "metadata": {},
   "source": [
    "### *Algorithm 2.3.2* – Branch Voltage Analysis"
   ]
  },
  {
   "cell_type": "markdown",
   "id": "ae75ba69",
   "metadata": {},
   "source": [
    "1. Assume unknown currents in each branch, . Indicate their directions by arrows\n",
    "    (direction is arbitrary)."
   ]
  },
  {
   "cell_type": "markdown",
   "id": "bda2235e",
   "metadata": {},
   "source": [
    "2. For each element indicate, by an arrow, its voltage drop (passive elements) or rise (active\n",
    "    elements) that a particular current causes in passing the element."
   ]
  },
  {
   "cell_type": "markdown",
   "id": "a2363513",
   "metadata": {},
   "source": [
    "3. Select the reference node (selection of the node is arbitrary). Write down $t=n-1$ KCL equations\n",
    "    at all other nodes."
   ]
  },
  {
   "cell_type": "markdown",
   "id": "d3864743",
   "metadata": {},
   "source": [
    "4. Write down $l=b-n+1$ KVL equations for all meshes."
   ]
  },
  {
   "cell_type": "markdown",
   "id": "b0c11218",
   "metadata": {},
   "source": [
    "5. Express resistor currents by their voltages, by means of Ohm’s law."
   ]
  },
  {
   "cell_type": "markdown",
   "id": "1bb27677",
   "metadata": {},
   "source": [
    "6. Solve the set of b equations with resistor voltages and currents of ideal voltage sources, if\n",
    "    present, as unknown variables."
   ]
  },
  {
   "cell_type": "markdown",
   "id": "281966f8",
   "metadata": {},
   "source": [
    "7. Find circuit responses, if not found already."
   ]
  },
  {
   "cell_type": "markdown",
   "id": "10cc8b69",
   "metadata": {},
   "source": [
    "Notice how the branch voltage and current analysis algorithms only differ in steps 5 and 6, where voltage and current quantities are swapped.  The quantities that are worked with are based on the name of the method of analysis being used."
   ]
  },
  {
   "cell_type": "markdown",
   "id": "fc67c242",
   "metadata": {},
   "source": [
    "# Node Voltage Method (Nodal Analysis)\n",
    "\n",
    "In branch voltage analysis, in KCL equations, resistor currents are expressed by\n",
    "corresponding voltages. These voltages can be expressed by node voltages and that way a\n",
    "system of $t$ equations with $t$ unknown node voltages is obtained. These equations, the so\n",
    "called nodal equations, can be formulated straightforward from a circuit diagram. A general\n",
    "branch, connected between nodes $i$ and $j$, is presented in Fig. 2.3.2."
   ]
  },
  {
   "cell_type": "markdown",
   "id": "0693b432",
   "metadata": {},
   "source": [
    "![Fig-2.3.2](Fig-2-3-2.png)"
   ]
  },
  {
   "cell_type": "markdown",
   "id": "3aea85b3",
   "metadata": {},
   "source": [
    "Via KVL,  \n",
    "\n",
    "$$ E_{ij} - U_{G_{ij}} + U_{ij} = 0$$"
   ]
  },
  {
   "cell_type": "markdown",
   "id": "25269e34",
   "metadata": {},
   "source": [
    "Which leaves us with:  \n",
    "\n",
    "\\begin{align*}\\tag{1}\n",
    "    U_{G_{ij}} &= E_{ij} + U_{ij} \\\\\n",
    "     &= V_i - V_j + E_{ij}\n",
    "\\end{align*}     "
   ]
  },
  {
   "cell_type": "markdown",
   "id": "e9ff4af9",
   "metadata": {},
   "source": [
    "Then, taking into account the branch KCL and the resistor Ohm’s law, the branch current can\n",
    "be calculated.  Via KCL,\n",
    "\n",
    "$$I_{ij} - I_{G_{ij}} - J_{ij} = 0$$\n",
    "\n",
    "$$ I_{ij} = I_{G_{ij}} + J_{ij}$$"
   ]
  },
  {
   "cell_type": "markdown",
   "id": "52843afb",
   "metadata": {},
   "source": [
    "Via the above equation and Ohm's Law,  \n",
    "\n",
    "\\begin{align*}\\tag{2}\n",
    "    I_{ij} &= G_{ij}U_{G_{ij}} + G_{ij}U_{ij} \\\\\n",
    "     &= G_{ij}(U_{G_{ij}} + U_{ij}) \\\\\n",
    "     &= G_{ij}(V_i - V_j + E_{ij}) + J_{ij}\n",
    "\\end{align*}"
   ]
  },
  {
   "cell_type": "markdown",
   "id": "9a150229",
   "metadata": {},
   "source": [
    "\\begin{equation}\\tag{2}\n",
    "    I_{ij} = G_{ij}(V_i - V_j) + I_{\\mathrm{s}ij}\n",
    "\\end{equation}    "
   ]
  },
  {
   "cell_type": "markdown",
   "id": "9de2fe3d",
   "metadata": {},
   "source": [
    "where,\n",
    "\\begin{equation}\\tag{2a}\n",
    "    I_{\\mathrm{s}ij} = G_{ij}E_{ij} + J_{ij}\n",
    "\\end{equation}    "
   ]
  },
  {
   "cell_type": "markdown",
   "id": "ccacf561",
   "metadata": {},
   "source": [
    "is the total source current of the branch."
   ]
  },
  {
   "cell_type": "markdown",
   "id": "ec1c2f4d",
   "metadata": {},
   "source": [
    "Next, the $i$'th node KCL can be formulated."
   ]
  },
  {
   "cell_type": "markdown",
   "id": "f24a9e96",
   "metadata": {},
   "source": [
    "$$ \\sum_{\\substack{j=0 \\\\ j\\ne i}}^t I_{ij} = 0$$"
   ]
  },
  {
   "cell_type": "markdown",
   "id": "9d221097",
   "metadata": {},
   "source": [
    "Via the above equation, equation (2), and substitution,  \n",
    "\n",
    "\\begin{equation}\\tag{3}\n",
    "    \\sum_{\\substack{j=0 \\\\ j\\ne i}}^t I_{\\mathrm{s}ij} + \\sum_{\\substack{j=0 \\\\ j\\ne i}}^t G_{ij}V_i - \\sum_{\\substack{j=0 \\\\ j\\ne i}}^t G_{ij}V_j = 0\n",
    "\\end{equation}"
   ]
  },
  {
   "cell_type": "markdown",
   "id": "f6a19a92",
   "metadata": {},
   "source": [
    "This equation can be formulated for all nodes, $i=1,2,\\dots,t$, where $t=n-1$, except for the reference one ($i=0$).  Then, the final version of **nodal equations** can be written."
   ]
  },
  {
   "cell_type": "markdown",
   "id": "4bea03c6",
   "metadata": {},
   "source": [
    "\\begin{equation}\\tag{4}\n",
    "    V_iG_{ii} - \\sum_{\\substack{j=0 \\\\ j\\ne i}}^t G_{ij}V_j = I_{\\mathrm{s}i}\n",
    "\\end{equation}    "
   ]
  },
  {
   "cell_type": "markdown",
   "id": "c0586e7b",
   "metadata": {},
   "source": [
    "where,\n",
    "\\begin{equation}\\tag{4a}\n",
    "    G_{ii} = \\sum_{\\substack{j=0 \\\\ j\\ne i}}^t G_{ij}\n",
    "\\end{equation}"
   ]
  },
  {
   "cell_type": "markdown",
   "id": "94b0cb99",
   "metadata": {},
   "source": [
    "is the total conductance of the $i$'th node (i.e. the sum of all conductances of every branch that is incident with the $i$'th node),  \n",
    "\n",
    "\\begin{equation}\\tag{4b}\n",
    "    G_{ij} = G_{ji}\n",
    "\\end{equation}\n",
    "\n",
    "is the total conductance inbetween nodes $i$ and $j$,  and,"
   ]
  },
  {
   "cell_type": "markdown",
   "id": "7d585f60",
   "metadata": {},
   "source": [
    "\\begin{equation}\\tag{4c}\n",
    "    I_{\\mathrm{s}i} = -\\sum_{\\substack{j=0 \\\\ j\\ne i}}^t I_{\\mathrm{s}ij}\n",
    "\\end{equation}\n",
    "\n",
    "is the total source current of the $i$'th node (i.e. the sum of every branch's source current that is incident with the $i$'th node).  These currents are:"
   ]
  },
  {
   "cell_type": "markdown",
   "id": "22e38d4a",
   "metadata": {},
   "source": [
    "\\begin{equation}\\tag{4ci}\n",
    "    I_{\\mathrm{s}ij} = \\pm J_{ij} \\pm G_{ij}E_{ij}\n",
    "\\end{equation}    "
   ]
  },
  {
   "cell_type": "markdown",
   "id": "224b1021",
   "metadata": {},
   "source": [
    "$+$:  If the arrowhead of the source points *towards* the $i$'th node.  \n",
    "$-$:  If the arrowhead of the source points *away from* the $i$'th node.  \n",
    "\n",
    "For example, suppose the arrowhead of $J_{ij}$ points towards the $i$'th node while the arrowhead of $E_{ij}$ point away from the $i$'th node.  It then follows that:  \n",
    "\n",
    "$$ I_{\\mathrm{s}ij} = J_{ij} - G_{ij}E_{ij}$$"
   ]
  },
  {
   "cell_type": "markdown",
   "id": "ee08ec8b",
   "metadata": {},
   "source": [
    "The nodal equation in matrix form is:  \n",
    "\n",
    "$$ \\mathbf{GV} = \\mathbf{I}_\\mathrm{s}$$"
   ]
  },
  {
   "cell_type": "markdown",
   "id": "fd0ffd6f",
   "metadata": {},
   "source": [
    "where,\n",
    "$$\n",
    "\\mathbf{G} = \\begin{bmatrix}\n",
    "+G_{1,1} & -G_{1,2} & \\cdots & -G_{1,i} & \\cdots & -G_{1,t} \\\\\n",
    "-G_{2,1} & +G_{2,2} & \\cdots & -G_{2,i} & \\cdots & -G_{2,t} \\\\\n",
    "\\vdots   & \\vdots   & \\ddots & \\vdots   & \\ddots & \\vdots   \\\\\n",
    "-G_{i,1} & -G_{i,2} & \\cdots & +G_{i,i} & \\cdots & -G_{i,t} \\\\\n",
    "\\vdots   & \\vdots   & \\ddots & \\vdots   & \\ddots & \\vdots   \\\\\n",
    "-G_{t,1} & -G_{t,2} & \\cdots & -G_{t,i} & \\cdots & +G_{t,t}\n",
    "\\end{bmatrix}\n",
    "$$"
   ]
  },
  {
   "cell_type": "markdown",
   "id": "bb452133",
   "metadata": {},
   "source": [
    "is a circuit **conductance matrix**, and  \n",
    "\n",
    "$$ \\mathbf{V} = \\begin{bmatrix}\n",
    "V_1 \\\\\n",
    "V_2 \\\\\n",
    "\\vdots \\\\\n",
    "V_i \\\\\n",
    "\\vdots \\\\\n",
    "V_t\n",
    "\\end{bmatrix}, \\;\n",
    "\\mathbf{I}_\\mathrm{s} = \\begin{bmatrix}\n",
    "I_{\\mathrm{s},1} \\\\\n",
    "I_{\\mathrm{s},2} \\\\\n",
    "\\vdots \\\\\n",
    "I_{\\mathrm{s},i} \\\\\n",
    "\\vdots \\\\\n",
    "I_{\\mathrm{s}, t}\n",
    "\\end{bmatrix}\n",
    "$$"
   ]
  },
  {
   "cell_type": "markdown",
   "id": "eaccf30d",
   "metadata": {},
   "source": [
    "are vectors of node voltages and node source currents.  \n",
    "\n",
    "Note:\n",
    "If a branch resistance is zero (conductance is infinity), i.e. if ideal voltage source or ideal\n",
    "ammeter is the branch only element, then branch current can not be expressed by node\n",
    "voltages. This special case will be discussed further on."
   ]
  },
  {
   "cell_type": "markdown",
   "id": "1cc27acc",
   "metadata": {},
   "source": [
    "### *Algorithm 2.3.3* – Nodal Analysis\n",
    "1. Assume unknown currents in each branch, $I_1, I_2, \\dots, I_\\mathrm{b}$ . Indicate their directions by arrows\n",
    "    (direction is arbitrary)."
   ]
  },
  {
   "cell_type": "markdown",
   "id": "c5733c11",
   "metadata": {},
   "source": [
    "2. For each element indicate, by an arrow, its voltage drop (passive elements) or rise (active\n",
    "    elements) that a particular current causes in passing the element."
   ]
  },
  {
   "cell_type": "markdown",
   "id": "7ca078d0",
   "metadata": {},
   "source": [
    "3. Select the reference node (selection of the node is arbitrary). Write down nodal equations\n",
    "    (2.3.8) for all other $t=n-1$ nodes."
   ]
  },
  {
   "cell_type": "markdown",
   "id": "0f9d8dda",
   "metadata": {},
   "source": [
    "4. Solve the set of $t$ equations, with $t$ node voltages as unknown variables."
   ]
  },
  {
   "cell_type": "markdown",
   "id": "0c2b51de",
   "metadata": {},
   "source": [
    "5. Find a circuit response(s), if not found already."
   ]
  },
  {
   "cell_type": "markdown",
   "id": "561d53fa",
   "metadata": {},
   "source": [
    "### Example 2.3.1a\n",
    "\n",
    "Diagram of an exemplary circuit, built of $b=6$ branches connected in $n=4$ nodes, is\n",
    "presented in Fig. 2.3.3. As can be observed, it is the circuit of Example 2.3.1 with resistor $R_1$\n",
    "added, such that the circuit does not contain resistiveless branches. Designation of all branch\n",
    "currents is the task."
   ]
  },
  {
   "cell_type": "markdown",
   "id": "6042c44a",
   "metadata": {},
   "source": [
    "![Fig-2.3.3](Fig-2-3-3.png)"
   ]
  },
  {
   "cell_type": "markdown",
   "id": "c3e0e50c",
   "metadata": {},
   "source": [
    "First we formulate equation (4) for node $\\mathrm{A}$ -- or, to put it another way, with node $\\mathrm{A}$ as the $i$'th node.  Then we do the same for every other node except the reference one (node $\\mathrm{D}$).  Each equation is prefaced by the node it is formulated for.\n",
    "\n",
    "$$\\mathrm{A}\\!:\\quad V_\\mathrm{A}(G_1 + G_6 + G_4) \\;-\\; V_\\mathrm{B}G_1 \\;-\\; V_\\mathrm{C}G_6 = G_6E_6 \\;+\\; G_1E_1$$"
   ]
  },
  {
   "cell_type": "markdown",
   "id": "360473db",
   "metadata": {},
   "source": [
    "$$ \\mathrm{B}\\!:\\quad -V_\\mathrm{A}G_1 \\;+\\; V_\\mathrm{B}(G_1 + G_2 + G_4) \\;-\\; V_\\mathrm{C}G_2= -G_4E_4 - G_1E_1$$"
   ]
  },
  {
   "cell_type": "markdown",
   "id": "737a6542",
   "metadata": {},
   "source": [
    "$$ \\mathrm{C}\\!:\\quad -V_\\mathrm{A}G_6 \\;-\\; V_\\mathrm{B}G_2 \\;+\\; V_\\mathrm{C}(G_2 + G_6) = J_3 \\;-\\; G_6E_6$$"
   ]
  },
  {
   "cell_type": "markdown",
   "id": "335de87f",
   "metadata": {},
   "source": [
    "$$\n",
    "\\begin{matrix}\\tag{5}\n",
    "\\mathrm{A}\\!:&\\quad V_\\mathrm{A}(G_1 + G_6 + G_4) &-V_\\mathrm{B}G_1  &-V_\\mathrm{C}G_6 &= &G_6E_6 &+G_1E_1 \\\\\n",
    "\\mathrm{B}\\!:&\\quad -V_\\mathrm{A}G_1 &+V_\\mathrm{B}(G_1 + G_2 + G_4) &-V_\\mathrm{C}G_2 &= &-G_4E_4 &-G_1E_1 \\\\\n",
    "\\mathrm{C}\\!:&\\quad -V_\\mathrm{A}G_6 &-V_\\mathrm{B}G_2 &+V_\\mathrm{C}(G_2 + G_6) &= &J_3 &-G_6E_6\n",
    "\\end{matrix}\n",
    "$$"
   ]
  },
  {
   "cell_type": "markdown",
   "id": "0db56fe2",
   "metadata": {},
   "source": [
    "After solving this system, node voltages $V_\\mathrm{A}$, $V_\\mathrm{B}$, and $V_\\mathrm{C}$ are designated. Then, branch currents $I_{ij}$\n",
    "can be designated from equation (2), $i$ and $j$ are $\\mathrm{A}$, $\\mathrm{B}$ or $\\mathrm{C}$."
   ]
  },
  {
   "cell_type": "markdown",
   "id": "55cddb57",
   "metadata": {},
   "source": [
    "Recall that:  \n",
    "\n",
    "$$ I_{ij} = G_{ij}(V_i - V_j + E_{ij}) + J_{ij}$$"
   ]
  },
  {
   "cell_type": "markdown",
   "id": "b8b6da02",
   "metadata": {},
   "source": [
    "\\begin{align*}\n",
    "    I_1 &= I_\\mathrm{AB} = G_1(E_1 + V_\\mathrm{A} - V_\\mathrm{B})\\\\\n",
    "    I_2 &= I_\\mathrm{BC} = G_2(V_\\mathrm{B} - V_\\mathrm{C}) \\\\\n",
    "    I_3 &= I_\\mathrm{CD} = J_3 \\\\\n",
    "    I_4 &= I_\\mathrm{BD} = G_4(V_\\mathrm{B} + E_4) \\\\\n",
    "    I_5 &= I_\\mathrm{AD} = G_5V_\\mathrm{A} \\\\\n",
    "    I_6 &= I_\\mathrm{AC} = G_6(V_\\mathrm{A} - V_\\mathrm{C} + E_6)\n",
    "\\end{align*}"
   ]
  },
  {
   "cell_type": "markdown",
   "id": "9ba12499",
   "metadata": {},
   "source": [
    "## Special Resistiveless Branch Case\n",
    "\n",
    "In case of resistiveless branch, $R_{ij}=0$  , its voltage is known ($U_{ij}=E_{ij}$ or $0$),\n",
    "however the current $I_{ij}$ can not be expressed by node voltages $V_i,V_j$ and Algorithm 2.3.3\n",
    "has to be modified. Two modifications solve the problem."
   ]
  },
  {
   "cell_type": "markdown",
   "id": "8660d9b4",
   "metadata": {},
   "source": [
    "#### Modification 1 of Algorithm 2.3.3\n",
    "\n",
    "Do not consider the resistiveless branch at the left side of nodal equations (4). Set,  \n",
    "\n",
    "$$ I_{ij} := I_{\\mathrm{s}ij}$$"
   ]
  },
  {
   "cell_type": "markdown",
   "id": "7a9b35ca",
   "metadata": {},
   "source": [
    "and add this current to source currents of the $i$'th node. That way, number of unknowns has\n",
    "been increased by one variable, the resistiveless branch current.\n",
    "Supplement the system of nodal equations (4) with one trivial equation:  \n",
    "\n",
    "$$ V_i := V_j \\pm E_{ij}$$"
   ]
  },
  {
   "cell_type": "markdown",
   "id": "79ef3b24",
   "metadata": {},
   "source": [
    "#### Modification 2 of Algorithm 2.3.3\n",
    "\n",
    "Select node $j$ as the reference one.  It then follows that,  \n",
    "\n",
    "$$ V_i = \\pm E_{ij}$$"
   ]
  },
  {
   "cell_type": "markdown",
   "id": "d182dc96",
   "metadata": {},
   "source": [
    "Now, the $i$t'h node voltage is not unknown and the $i$'th nodal equation can be disregarded. In\n",
    "case more resistiveless branches exist, the modification can be applied only if they all have\n",
    "one common node."
   ]
  },
  {
   "cell_type": "markdown",
   "id": "b8a2da23",
   "metadata": {},
   "source": [
    "### *Example 2.3.1* – cont.\n",
    "\n",
    "Branch 1, connected between nodes $\\mathrm{A}$ and $\\mathrm{B}$, is the resistiveless branch (ideal voltage source)."
   ]
  },
  {
   "cell_type": "markdown",
   "id": "5cf10758",
   "metadata": {},
   "source": [
    "![Fig-2.3.3-resistiveless](Fig-2-3-3.png)"
   ]
  },
  {
   "cell_type": "markdown",
   "id": "23b79f6f",
   "metadata": {},
   "source": [
    "**Modification 1:**  \n",
    "\n",
    "In nodal equations (5) conductance should be deleted and current $I_1 = I_\\mathrm{AB}$ should be\n",
    "algebraically added to source currents of two nodes ($\\mathrm{A}$ and $\\mathrm{B}$) of the branch."
   ]
  },
  {
   "cell_type": "markdown",
   "id": "97606711",
   "metadata": {},
   "source": [
    "First, we algebraically add $I_1$ to the source currents of node $\\mathrm{A}$.  Via equation (4c), those currents are,  \n",
    "\n",
    "$$ I_{\\mathrm{sA}} = -I_\\mathrm{sAB} - I_\\mathrm{sAC} $$"
   ]
  },
  {
   "cell_type": "markdown",
   "id": "947537c6",
   "metadata": {},
   "source": [
    "And, via the first step of [Modification 1 of Algorithm 2.3.3](#Modification-1-of-Algorithm-2.3.3),  \n",
    "\n",
    "$$ I_\\mathrm{sAB} = I_\\mathrm{AB}=I_1$$"
   ]
  },
  {
   "cell_type": "markdown",
   "id": "ee01b09f",
   "metadata": {},
   "source": [
    "Via the above two equations and substitution,\n",
    "\n",
    "$$ I_\\mathrm{sA} = -I_1 - I_\\mathrm{sAC} = -I_1 + G_6E_6$$"
   ]
  },
  {
   "cell_type": "markdown",
   "id": "d82f30cb",
   "metadata": {},
   "source": [
    "And, for node $\\mathrm{B}$:  \n",
    "\n",
    "\\begin{align*}\n",
    "    I_{\\mathrm{sB}} &= -I_\\mathrm{BA} - I_\\mathrm{sBC} - I_\\mathrm{sDB} \\\\\n",
    "     &= I_\\mathrm{AB} - G_4E_4 \\\\\n",
    "     &= I_1 - G_4E_4\n",
    "\\end{align*}     "
   ]
  },
  {
   "cell_type": "markdown",
   "id": "7e5d8e51",
   "metadata": {},
   "source": [
    "After taking the above steps we obtain the system of nodal equations:"
   ]
  },
  {
   "cell_type": "markdown",
   "id": "e844f0f2",
   "metadata": {},
   "source": [
    "$$ \n",
    "\\begin{matrix}\\tag{6}\n",
    "\\mathrm{A}\\!:&\\quad V_\\mathrm{A}(G_5 + G_6) &-V_\\mathrm{C}G_6 & &= &G_6E_6 &-I_1 \\\\\n",
    "\\mathrm{B}\\!:&\\quad V_\\mathrm{B}(G_4+G_2) & &-V_\\mathrm{C}G_2 &= &I_1 &-G_4E_4 \\\\\n",
    "\\mathrm{C}\\!:&\\quad V_\\mathrm{C}(G_2 + G_6) &-V_\\mathrm{B}G_2 &-V_\\mathrm{A}G_6 &= &J_3 &-G_6E_6\n",
    "\\end{matrix}\n",
    "$$"
   ]
  },
  {
   "cell_type": "markdown",
   "id": "65222f67",
   "metadata": {},
   "source": [
    "supplemented with the trivial equation:  \n",
    "\n",
    "\\begin{equation}\\tag{6a}\n",
    "    V_\\mathrm{A} = V_\\mathrm{B} - E_1\n",
    "\\end{equation}    "
   ]
  },
  {
   "cell_type": "markdown",
   "id": "91e2c184",
   "metadata": {},
   "source": [
    "#### Modification 2:\n",
    "Node $\\mathrm{A}$ is selected as the reference one. It then follows that, $V_\\mathrm{B} = E_1$ and a brand new system of two nodal\n",
    "equations with two unknowns is formulated:"
   ]
  },
  {
   "cell_type": "markdown",
   "id": "f36de0e7",
   "metadata": {},
   "source": [
    "\\begin{align*}\n",
    "    \\mathrm{C}\\!:\\quad J_3-G_6E_6 &= V_\\mathrm{C}(G_2 + G_6) -V_\\mathrm{B}G_2 - V_\\mathrm{D}G_4 \\\\\n",
    "     &= V_\\mathrm{C}(G_2 + G_6) -E_1G_2 - V_\\mathrm{D}G_4\n",
    "\\end{align*}     "
   ]
  },
  {
   "cell_type": "markdown",
   "id": "9697071d",
   "metadata": {},
   "source": [
    "\\begin{align*}\n",
    "    \\mathrm{D}\\!:\\quad  G_4E_4-J_3 &= V_\\mathrm{D}(G_4+G_5) - V_\\mathrm{B}G_4 \\\\\n",
    "     &= V_\\mathrm{D}(G_4+G_5) - E_1G_4\n",
    "\\end{align*}     "
   ]
  },
  {
   "cell_type": "markdown",
   "id": "bf56d243",
   "metadata": {},
   "source": [
    "Note that the formulation of equation (4) for node $\\mathrm{A}$ remains the same as it does in the system of nodal equations (6) and has thus been ommited from the above system of equations for the sake of brevity.  Also note that the inclusion of said equation, henceforth equation (6A) or ($6\\mathrm{A}$), would not upset the balance between the number of unknowns vs. the number of equations in the system;  There would be three unknowns and three equations."
   ]
  },
  {
   "cell_type": "markdown",
   "id": "e9eb096e",
   "metadata": {},
   "source": [
    "## Drill Problems\n",
    "\n",
    "1.  **Find the formula for $U$.**"
   ]
  },
  {
   "cell_type": "markdown",
   "id": "17950dc9",
   "metadata": {},
   "source": [
    "![Fig-P.2.3.1](Figures/Fig-P.2.3.1.png)"
   ]
  },
  {
   "cell_type": "markdown",
   "id": "5706e248",
   "metadata": {},
   "source": [
    "Via KVL,  \n",
    "\n",
    "$$ E_1 - U - U_{G_1} = 0$$"
   ]
  },
  {
   "cell_type": "markdown",
   "id": "074111bf",
   "metadata": {},
   "source": [
    "Now let $U_1 := U_{G_1}$.  The above equation can now be rewritten as:  \n",
    "\n",
    "\\begin{equation}\n",
    "    E_1-U-U_1 = 0\n",
    "\\end{equation}    "
   ]
  },
  {
   "cell_type": "markdown",
   "id": "64bebfc4",
   "metadata": {},
   "source": [
    "More broadly speaking, let $U_i:=U_{G_i}$ where $i\\in\\mathbb{N}$ and $i\\le5$.  Now, all KVL equations involving resistances (or conductances) can be written in the above form."
   ]
  },
  {
   "cell_type": "markdown",
   "id": "ad551f10",
   "metadata": {},
   "source": [
    "Via KVL,  \n",
    "\n",
    "\\begin{equation}\n",
    "    E_4 - U_2 - E_1 + U_1 = 0\n",
    "\\end{equation}    "
   ]
  },
  {
   "cell_type": "markdown",
   "id": "8561b6d6",
   "metadata": {},
   "source": [
    "Via KCL and Ohm's Law,  \n",
    "\n",
    "\\begin{equation}\n",
    "    U_2G_2 + U_1G_1 - U_5G_5 = 0\n",
    "\\end{equation}    "
   ]
  },
  {
   "cell_type": "markdown",
   "id": "59380b1e",
   "metadata": {},
   "source": [
    "Note that a current that flows through resistance $R_i$ or conductance $G_i$ is denoted as '$I_i$'.  For example, the current flowing through $G_1$ is denoted as '$I_1$'."
   ]
  },
  {
   "cell_type": "markdown",
   "id": "2a345abe",
   "metadata": {},
   "source": [
    "Furthermore, a current that flows through *any* circuit element subscripted by $i$ ($R_i$, $E_i$, $J_i$, etc.) is denoted as '$I_i$'.  For another example, the current flowing through $E_4$ is denoted as '$I_4$'."
   ]
  },
  {
   "cell_type": "markdown",
   "id": "dcc7fa10",
   "metadata": {},
   "source": [
    "![Fig-P.2.3.1-w/arrowheads](Figures/Fig-P.2.3.1.svg)"
   ]
  },
  {
   "cell_type": "markdown",
   "id": "8b726bed",
   "metadata": {},
   "source": [
    "**Using Branch Voltage Analysis:**  \n",
    "\n",
    "First we find all of the KVL equations."
   ]
  },
  {
   "cell_type": "markdown",
   "id": "a1fa19a5",
   "metadata": {},
   "source": [
    "\\begin{equation}\\tag{1.1a}\n",
    "    E_4 = U_3\n",
    "\\end{equation}"
   ]
  },
  {
   "cell_type": "markdown",
   "id": "3e5026a5",
   "metadata": {},
   "source": [
    "$$ U_3 - U_2 - E_1 + U_1 = 0$$\n",
    "\n",
    "\\begin{equation}\\tag{1.1b}\n",
    "        U_2 = U_3 - E_1 + U_1\n",
    "\\end{equation}"
   ]
  },
  {
   "cell_type": "markdown",
   "id": "cd6b2666",
   "metadata": {},
   "source": [
    "$$ E_1 - U - U_1 = 0$$\n",
    "\n",
    "\\begin{equation}\\tag{1.1c}\n",
    "    E_1 = U + U_1\n",
    "\\end{equation}"
   ]
  },
  {
   "cell_type": "markdown",
   "id": "93cab0d3",
   "metadata": {},
   "source": [
    "In matrix form:  \n",
    "\n",
    "\\begin{matrix}\\tag{1.1}\n",
    "    \\mathrm{a}\\!:\\quad E_4 &= &U_3 \\\\\n",
    "    \\mathrm{b}\\!:\\quad U_2 &= &U_3 - E_1 + U_1 \\\\\n",
    "    \\mathrm{c}\\!:\\quad E_1 &= &U + U_1\n",
    "\\end{matrix}"
   ]
  },
  {
   "cell_type": "markdown",
   "id": "cecd8e98",
   "metadata": {},
   "source": [
    "In the above system of equations, we have four unknowns but only three independent equations.  Let's extend the system of equations with the KCL equations with currents flowing through resistors expressed in terms of conductance and voltage that are obtained via Ohm's Law."
   ]
  },
  {
   "cell_type": "markdown",
   "id": "d73daaf6",
   "metadata": {},
   "source": [
    "\\begin{equation}\\tag{1.2a}\n",
    "    I_4 - G_3U_3 - G_2U_2 = 0\n",
    "\\end{equation}    "
   ]
  },
  {
   "cell_type": "markdown",
   "id": "c6eab436",
   "metadata": {},
   "source": [
    "\\begin{align*}\\tag{1.2b}\n",
    "    0 &= G_2U_2 + G_1U_1 - G_5U_5 \\\\\n",
    "     &= G_2U_2 + G_1U_1 - J_5 \n",
    "\\end{align*}     "
   ]
  },
  {
   "cell_type": "markdown",
   "id": "ea65cffc",
   "metadata": {},
   "source": [
    "\\begin{equation}\\tag{1.2c}\n",
    "    J_5 - G_1U_1 - I_6 = 0\n",
    "\\end{equation}    "
   ]
  },
  {
   "cell_type": "markdown",
   "id": "71192e3f",
   "metadata": {},
   "source": [
    "With the set of equations (1.1) and equation (1.2b) we have four unknowns and four independent equations."
   ]
  },
  {
   "cell_type": "markdown",
   "id": "b4be1ae3",
   "metadata": {},
   "source": [
    "Via equations (1.1a) and (1.1b) in conjunction with substitution,  \n",
    "\n",
    "\\begin{equation}\\tag{1.3}\n",
    "    U_2 = E_4 - E_1 + U_1\n",
    "\\end{equation}    "
   ]
  },
  {
   "cell_type": "markdown",
   "id": "39147a0c",
   "metadata": {},
   "source": [
    "Shuffling some terms around in equation (1.2b) and multiplying throughout by $-R_2$ gives:  \n",
    "\n",
    "\\begin{equation}\\tag{1.4}\n",
    "    U_2 = R_2J_5 - R_2G_1U_1\n",
    "\\end{equation}    "
   ]
  },
  {
   "cell_type": "markdown",
   "id": "9462c847",
   "metadata": {},
   "source": [
    "Via the above two equations and equivelance principle, we can solve for $U_1$.  \n",
    "\n",
    "$$ R_2J_5 - R_2G_1U_1 = E_4 - E_1 + U_1$$"
   ]
  },
  {
   "cell_type": "markdown",
   "id": "f06f1753",
   "metadata": {},
   "source": [
    "$$ R_2J_5 - E_4 + E_1 = U_1(1 + R_2G_1)$$"
   ]
  },
  {
   "cell_type": "markdown",
   "id": "e7677d87",
   "metadata": {},
   "source": [
    "\\begin{equation}\\tag{1.5}\n",
    "    U_1 = \\frac{ R_2J_5 - E_4 + E_1}{1 + R_2G_1}\n",
    "\\end{equation}    "
   ]
  },
  {
   "cell_type": "markdown",
   "id": "4b62afc1",
   "metadata": {},
   "source": [
    "Finally, via the above equation, equation (1.1c), and substitution, we can solve for $U$.  \n",
    "\n",
    "$$ U = E_1 - \\frac{ R_2J_5 - E_4 + E_1}{1 + R_2G_1}$$"
   ]
  },
  {
   "cell_type": "markdown",
   "id": "04de5742",
   "metadata": {},
   "source": [
    "2. **Find the formula for $U$.**  \n",
    "\n",
    "![Fig-P.2.3.2](Figures/Fig-P.2.3.2.svg)"
   ]
  },
  {
   "cell_type": "markdown",
   "id": "a2d81162",
   "metadata": {},
   "source": [
    "**Using Branch Voltage Analysis:**  \n",
    "\n",
    "First we find the KVL equations."
   ]
  },
  {
   "cell_type": "markdown",
   "id": "378b09bf",
   "metadata": {},
   "source": [
    "\\begin{matrix}\\tag{2.1}\n",
    "    \\mathrm{a}\\!:\\quad U_\\mathrm{m} - E - U_\\mathrm{l} &= &0 \\\\\n",
    "    \\mathrm{b}\\!:\\quad E - U - U_\\mathrm{m} &= &0\n",
    "\\end{matrix}"
   ]
  },
  {
   "cell_type": "markdown",
   "id": "85f9d0d7",
   "metadata": {},
   "source": [
    "Next, we find the KCL equations.  \n",
    "\n",
    "\\begin{equation}\\tag{2.2}\n",
    "    GU_\\mathrm{l} + GU_\\mathrm{m} - J = 0\n",
    "\\end{equation}"
   ]
  },
  {
   "cell_type": "markdown",
   "id": "a8f1f988",
   "metadata": {},
   "source": [
    "So we have three unknowns ($U_\\mathrm{l}$, $U_\\mathrm{m}$, and $U$) and three independent equations."
   ]
  },
  {
   "cell_type": "markdown",
   "id": "6090ee07",
   "metadata": {},
   "source": [
    "Shuffling terms around in equation (2.1a) gives:  \n",
    "\n",
    "\\begin{equation}\\tag{2.1a}\n",
    "    U_\\mathrm{l} = U_\\mathrm{m} - E\n",
    "\\end{equation}    "
   ]
  },
  {
   "cell_type": "markdown",
   "id": "a87d2db3",
   "metadata": {},
   "source": [
    "Via the above equation, equation (2.2) and substitution,  \n",
    "\n",
    "$$ G(U_\\mathrm{m} - E) + GU_\\mathrm{m} = J$$"
   ]
  },
  {
   "cell_type": "markdown",
   "id": "62eefc48",
   "metadata": {},
   "source": [
    "Multiplying throughout by $R$ gives:  \n",
    "\n",
    "$$ 2U_\\mathrm{m} = RJ + E$$"
   ]
  },
  {
   "cell_type": "markdown",
   "id": "16fb72f0",
   "metadata": {},
   "source": [
    "$$ U_\\mathrm{m} = 0.5(RJ + E)$$"
   ]
  },
  {
   "cell_type": "markdown",
   "id": "f1e64872",
   "metadata": {},
   "source": [
    "Finally, via the above equation, equation (2.1b), and substitution,  \n",
    "\n",
    "$$ U = E - 0.5(RJ + E) =0.5E - 0.5RJ$$"
   ]
  },
  {
   "cell_type": "markdown",
   "id": "5f884065",
   "metadata": {},
   "source": [
    "3. **Find the value of $R$ so that $I=1\\mathrm{A}$.**  \n",
    "\n",
    "![Fig-P.2.3.3](Figures/Fig-P.2.3.3.svg)"
   ]
  },
  {
   "cell_type": "markdown",
   "id": "6144d49a",
   "metadata": {},
   "source": [
    "The branches that have a resistor resting on them are enumerated from left to right in ascending order starting with the number $1$.  And, the voltage dropped across a resistor resting on branch \\#$i$ is denoted as '$U_i$'.  For example the left most branch with a resistor is branch \\#$1$, and the resistor resting on that branch has a voltage drop of $U_1$."
   ]
  },
  {
   "cell_type": "markdown",
   "id": "56423a66",
   "metadata": {},
   "source": [
    "The other two branches are referred to as the top and bottom branch accordingly.  The currents flowing through said branches are denoted as: '$I_\\mathrm{t}$' for the top, and '$I_\\mathrm{b}$' for the bottom."
   ]
  },
  {
   "cell_type": "markdown",
   "id": "6d774d26",
   "metadata": {},
   "source": [
    "**Using Branch Current Analysis**"
   ]
  },
  {
   "cell_type": "markdown",
   "id": "f5b618e4",
   "metadata": {},
   "source": [
    "The KVL equations are:  \n",
    "\n",
    "\\begin{matrix}\\tag{3.1}\n",
    "    &\\mathrm{a}\\!:&\\quad 10\\mathrm{V} - RI_3 - RI &= &0 \\\\\n",
    "    &\\mathrm{b}\\!:&\\quad 10\\mathrm{V} - RI_2 + RI_3 &= &0 \\\\\n",
    "    &\\mathrm{c}\\!:&\\quad U + RI_2 - 20\\mathrm{V} &= &0\n",
    "\\end{matrix}"
   ]
  },
  {
   "cell_type": "markdown",
   "id": "cc7aabec",
   "metadata": {},
   "source": [
    "where\n",
    "\\begin{equation}\\tag{3.1d}\n",
    "    U = U_{2\\mathrm{A}} - 2\\mathrm{A}\\cdot R\n",
    "\\end{equation}    "
   ]
  },
  {
   "cell_type": "markdown",
   "id": "d986dc65",
   "metadata": {},
   "source": [
    "Ignoring equations (3.1c) and (3.1d) along with the voltage running across the current source ($U_{2\\mathrm{A}}$), which is safe to do, that leaves us with three unknowns ($R$, $I_3$, and $I_2$) and two independent equations."
   ]
  },
  {
   "cell_type": "markdown",
   "id": "695209b3",
   "metadata": {},
   "source": [
    "The KCL equations are:  \n",
    "\n",
    "\\begin{matrix}\\tag{3.2}\n",
    "    &\\mathrm{a}\\!:&\\quad 2\\mathrm{A} + I_2 - I_\\mathrm{t} &= &0 \\\\\n",
    "    &\\mathrm{b}\\!:&\\quad I_\\mathrm{t} + I_3 - 1\\mathrm{A} &= &0 \\\\\n",
    "    &\\mathrm{c}\\!:&\\quad I_\\mathrm{b} - I_2 - 2\\mathrm{A} &= &0\n",
    "\\end{matrix}    "
   ]
  },
  {
   "cell_type": "markdown",
   "id": "ea3e202e",
   "metadata": {},
   "source": [
    "Now we have five unknowns (the aforementioned three along with the top and bottom currents) and five independent equations."
   ]
  },
  {
   "cell_type": "markdown",
   "id": "b9de56d2",
   "metadata": {},
   "source": [
    "Via equations (3.2a) and (3.2b) in conjunction with substitution,  \n",
    "\n",
    "$$ 1\\mathrm{A} + I_2 + I_3 = 0$$"
   ]
  },
  {
   "cell_type": "markdown",
   "id": "6d902345",
   "metadata": {},
   "source": [
    "$$ I_2 + I_3 = -1\\mathrm{A}$$"
   ]
  },
  {
   "cell_type": "markdown",
   "id": "f01a6141",
   "metadata": {},
   "source": [
    "Via the above equation, equation (3.1b),  \n",
    "\n",
    "$$ 10\\mathrm{V} + R(1\\mathrm{A} + I_3) + RI_3 = 10\\mathrm{V} + R(1\\mathrm{A} + 2I_3)=0$$"
   ]
  },
  {
   "cell_type": "markdown",
   "id": "1826a442",
   "metadata": {},
   "source": [
    "$$ -RI_3 = 5\\mathrm{V} + 0.5\\mathrm{A}\\cdot R$$"
   ]
  },
  {
   "cell_type": "markdown",
   "id": "a30699a1",
   "metadata": {},
   "source": [
    "Via the above equation, equation (3.1a) and substitution,  \n",
    "\n",
    "$$ 15\\mathrm{V} + 0.5\\mathrm{A}\\cdot R - 1\\mathrm{A}\\cdot R = 0$$"
   ]
  },
  {
   "cell_type": "markdown",
   "id": "6750723b",
   "metadata": {},
   "source": [
    "$$ 15\\mathrm{V} = 0.5\\mathrm{A}\\cdot R$$"
   ]
  },
  {
   "cell_type": "markdown",
   "id": "f1ce1ea4",
   "metadata": {},
   "source": [
    "$$R = 30\\Omega$$"
   ]
  },
  {
   "cell_type": "markdown",
   "id": "82cb6c23",
   "metadata": {},
   "source": [
    "4. **Draw a planar graph of a circuit shown. How many independent KVL equations can be formulated?**  \n",
    "\n",
    "![Fig-P.2.3.4](Figures/Fig-P.2.3.4.png)"
   ]
  },
  {
   "cell_type": "markdown",
   "id": "cb39a46c",
   "metadata": {},
   "source": [
    "And, below is the result.  \n",
    "\n",
    "![Fig-P.2.3.4-w/graph](Figures/Fig-P.2.3.4-graph.svg)"
   ]
  },
  {
   "cell_type": "markdown",
   "id": "3a318f0d",
   "metadata": {},
   "source": [
    "And there are $l=6-4+1=3$ independent KVL equations."
   ]
  },
  {
   "cell_type": "markdown",
   "id": "7f4b8903",
   "metadata": {},
   "source": [
    "#### Problem 5"
   ]
  },
  {
   "cell_type": "markdown",
   "id": "5f4b55b3",
   "metadata": {},
   "source": [
    "5. **Find $U$ in the circuit shown, using nodal analysis. Assume $\\mathrm{C}$ to be the reference node.**  \n",
    "\n",
    "![Fig-P.2.3.5](Figures/Fig-P.2.3.5.png)"
   ]
  },
  {
   "cell_type": "markdown",
   "id": "047244c7",
   "metadata": {},
   "source": [
    "Below is the same circuit with some additional arrowheads.  \n",
    "\n",
    "![Fig-P.2.3.5-w/arrowheads](Figures/Fig-P.2.3.5.svg)"
   ]
  },
  {
   "cell_type": "markdown",
   "id": "44f5a9eb",
   "metadata": {},
   "source": [
    "\\begin{equation}\\tag{5.1A}\n",
    "    V_\\mathrm{A}\\left(\\frac{1}{8} + \\frac{1}{12} \\right)\\,\\mathrm{S} - V_\\mathrm{B}\\,\\frac{1}{12}\\,\\mathrm{S} = -0.5\\mathrm{A} - 0.5\\mathrm{A} = -1\\mathrm{A}\n",
    "\\end{equation}"
   ]
  },
  {
   "cell_type": "markdown",
   "id": "af8b5e3a",
   "metadata": {},
   "source": [
    "\\begin{equation}\\tag{5.1B}\n",
    "    V_\\mathrm{B}\\left(\\frac{1}{12} + \\frac{1}{4} \\right)\\,\\mathrm{S} - V_\\mathrm{A}\\,\\frac{1}{12}\\,\\mathrm{S} - V_\\mathrm{D}\\,\\frac{1}{4}\\,\\mathrm{S} = -1\\mathrm{A} + 0.5\\mathrm{A} = -0.5\\mathrm{A}\n",
    "\\end{equation}"
   ]
  },
  {
   "cell_type": "markdown",
   "id": "8d49fda4",
   "metadata": {},
   "source": [
    "\\begin{equation}\\tag{5.1D}\n",
    "    V_\\mathrm{D}\\,\\frac{1}{4}\\,\\mathrm{S} - V_\\mathrm{B}\\,\\frac{1}{4}\\,\\mathrm{S} = 1\\mathrm{A}\n",
    "\\end{equation}"
   ]
  },
  {
   "cell_type": "markdown",
   "id": "d46436dd",
   "metadata": {},
   "source": [
    "Multiplying throughout equation (5.1D) by $-4\\Omega$ gives $U$:  \n",
    "\n",
    "\\begin{equation}\\tag{5.1D}\n",
    "    U = V_\\mathrm{B} - V_\\mathrm{D} = -4\\mathrm{V}\n",
    "\\end{equation}    "
   ]
  },
  {
   "cell_type": "markdown",
   "id": "9a4a94ac",
   "metadata": {},
   "source": [
    "Now let's check for consistency."
   ]
  },
  {
   "cell_type": "markdown",
   "id": "df0601d3",
   "metadata": {},
   "source": [
    "Multiplying throughout equation (5.1B) and (5.1A) by $12\\Omega$ gives:  \n",
    "\n",
    "\\begin{equation}\\tag{5.1B}\n",
    "    4V_\\mathrm{B} - V_\\mathrm{A} - 3V_\\mathrm{D} = -6\\mathrm{V}\n",
    "\\end{equation}\n",
    "\n",
    "and,\n",
    "\\begin{equation}\\tag{5.1A}\n",
    "    2.5V_\\mathrm{A} - V_\\mathrm{B} = -12\\mathrm{V}\n",
    "\\end{equation}    "
   ]
  },
  {
   "cell_type": "markdown",
   "id": "1a24bc22",
   "metadata": {},
   "source": [
    "Via equations (5.1D) and (5.1B) and substitution,  \n",
    "\n",
    "$$ 4V_\\mathrm{B} - V_\\mathrm{A} - 3V_\\mathrm{B} - 12\\mathrm{V} = -6\\mathrm{V}$$\n",
    "\n",
    "\\begin{equation}\\tag{5.2}\n",
    "    V_\\mathrm{B} - V_\\mathrm{A} = 6\\mathrm{V}\n",
    "\\end{equation}    "
   ]
  },
  {
   "cell_type": "markdown",
   "id": "a4e18363",
   "metadata": {},
   "source": [
    "Via equations (5.2) and (5.1A) and substitution,  \n",
    "\n",
    "$$ 1.5V_\\mathrm{A} - 6\\mathrm{V} = -12\\mathrm{V}$$\n",
    "$$ \\frac{3}{2}\\,V_\\mathrm{A} = -6\\mathrm{V}$$\n",
    "\n",
    "\\begin{equation}\\tag{5.3}\n",
    "    V_\\mathrm{A} = -4\\mathrm{V}\n",
    "\\end{equation}    "
   ]
  },
  {
   "cell_type": "markdown",
   "id": "7988c560",
   "metadata": {},
   "source": [
    "Via equations (5.3) and (5.2),  \n",
    "\n",
    "\\begin{equation}\\tag{5.4}\n",
    "    V_\\mathrm{B} = 2\\mathrm{V}\n",
    "\\end{equation}    "
   ]
  },
  {
   "cell_type": "markdown",
   "id": "830b4f0e",
   "metadata": {},
   "source": [
    "And, via equations (5.4) and (5.1D),  \n",
    "\n",
    "\\begin{equation}\\tag{5.5}\n",
    "    V_\\mathrm{D} = 6\\mathrm{V}\n",
    "\\end{equation}    "
   ]
  },
  {
   "cell_type": "markdown",
   "id": "3193a4be",
   "metadata": {},
   "source": [
    "Now, for the current, recall that:  \n",
    "\n",
    "\\begin{equation}\\tag{2}\n",
    "    I_{ij} = G_{ij}(V_i - V_j) + I_{\\mathrm{s}ij}\n",
    "\\end{equation}    \n",
    "\n",
    "where,\n",
    "\\begin{equation}\\tag{2a}\n",
    "    I_{\\mathrm{s}ij} = G_{ij}E_{ij} + J_{ij}\n",
    "\\end{equation}    "
   ]
  },
  {
   "cell_type": "markdown",
   "id": "45f73f55",
   "metadata": {},
   "source": [
    "$$ I_\\mathrm{BA} = \\frac{1}{12}\\,\\mathrm{S}(2 + 4)\\,\\mathrm{V} + \\frac{1}{12}\\,\\mathrm{S}\\,6\\mathrm{V} = 1\\mathrm{A}$$"
   ]
  },
  {
   "cell_type": "markdown",
   "id": "8de662e9",
   "metadata": {},
   "source": [
    "$$ I_\\mathrm{BD} = 0.25\\mathrm{S}\\,(2 - 6)\\,\\mathrm{V} \\pm 1\\mathrm{A} = \\{0,-2\\mathrm{A} \\}$$"
   ]
  }
 ],
 "metadata": {
  "kernelspec": {
   "display_name": "Python 3",
   "language": "python",
   "name": "python3"
  },
  "language_info": {
   "codemirror_mode": {
    "name": "ipython",
    "version": 3
   },
   "file_extension": ".py",
   "mimetype": "text/x-python",
   "name": "python",
   "nbconvert_exporter": "python",
   "pygments_lexer": "ipython3",
   "version": "3.8.10"
  }
 },
 "nbformat": 4,
 "nbformat_minor": 5
}
