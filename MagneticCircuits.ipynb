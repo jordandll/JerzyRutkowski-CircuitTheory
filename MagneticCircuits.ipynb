{
 "cells": [
  {
   "cell_type": "markdown",
   "id": "4eebdc7c",
   "metadata": {},
   "source": [
    "# Network Analogies – Magnetic Circuits\n",
    "\n",
    "### Chapter 2.13 -- *DC Analysis*\n",
    "\n",
    "The presented laws, principles and theorems of dc circuits can be applied to circuits and\n",
    "networks other than electric (electronic), such as pneumatic network, hydraulic network or\n",
    "magnetic circuit. Table 2.13.1 presents analogies between electric circuit variables and non-\n",
    "electric circuit/network variables. Such circuit/network is described by nonlinear equations\n",
    "and can be analyzed by means of methods presented in Chapter 2.12."
   ]
  },
  {
   "cell_type": "markdown",
   "id": "38017ec1",
   "metadata": {},
   "source": [
    "**Magnetic circuits** will be discussed in details."
   ]
  },
  {
   "cell_type": "markdown",
   "id": "ef4bd8bc",
   "metadata": {},
   "source": [
    "### Magnetic Field (Force)\n",
    "A magnetic field is a region in space wherein a magnetic body (pole) $M\\,\\mathrm{[Wb]}$ experiences a\n",
    "magnetic force $F_\\mathrm{m}\\,\\mathrm{[N]}$.  \n",
    "\n",
    "A magnetic field is uniquely defined in its every point by the **magnetic field intensity** or\n",
    "magnetizing force."
   ]
  },
  {
   "cell_type": "markdown",
   "id": "ca6104ce",
   "metadata": {},
   "source": [
    "Magnetic field intensity, denoted as '$H$', is defined as the magnetic force per unit magnetic body at a particular\n",
    "point of space.  \n",
    "\n",
    "\\begin{equation}\\tag{1}\n",
    "    H = \\frac{F_\\mathrm{m}}{M}\n",
    "\\end{equation}    "
   ]
  },
  {
   "cell_type": "markdown",
   "id": "ba108c90",
   "metadata": {},
   "source": [
    "Its unit is newtons $[\\mathrm{N}]$ per weber $[\\mathrm{Wb}]$ or ampere-turns $[\\mathrm{At}]$ per meter$[\\mathrm{m}]$:  \n",
    "\n",
    "\\begin{equation}\\tag{1a}\n",
    "    \\left[\\frac{\\mathrm{N}}{\\mathrm{Wb}}\\right] = \\left[\\frac{\\mathrm{At}}{\\mathrm{m}}\\right]\n",
    "\\end{equation}    "
   ]
  },
  {
   "cell_type": "markdown",
   "id": "bab0e7da",
   "metadata": {},
   "source": [
    "Via equation (1a),  \n",
    "\n",
    "\\begin{equation}\\tag{1b}\n",
    "    [\\mathrm{Wb}] = \\left[\\frac{\\mathrm{N}\\cdot\\mathrm{m}}{\\mathrm{At}}\\right]\\quad \\quad \\text{and}\\quad\\quad [\\mathrm{At}] = \\left[\\frac{\\mathrm{N}\\cdot\\mathrm{m}}{\\mathrm{Wb}}\\right]\n",
    "\\end{equation}    "
   ]
  },
  {
   "cell_type": "markdown",
   "id": "5a79dd7d",
   "metadata": {},
   "source": [
    "Recall that $[\\mathrm{N}\\cdot\\mathrm{m}]$ is a unit of measurement for (physical) work done or change in energy, thus the ampere-turn $[\\mathrm{At}]$ is a unit of measurement for work done per magnetic pole $[\\mathrm{Wb}]$."
   ]
  },
  {
   "cell_type": "markdown",
   "id": "0b03e1a4",
   "metadata": {},
   "source": [
    "Magnetic line of force is the path along which an isolated magnetic pole moves within a\n",
    "magnetic field. It is considered that magnetic lines of force are passing perpendicularly\n",
    "through the given magnetic element, as presented in Fig. 2.13.1 – $\\mathbf{S}$outh and $\\mathbf{N}$orth poles are\n",
    "denoted. Magnetic flux and magnetic flux density can be defined.  \n",
    "\n",
    "![Fig-2.13.1](Figures/Fig-2.13.1.png)"
   ]
  },
  {
   "cell_type": "markdown",
   "id": "613ac864",
   "metadata": {},
   "source": [
    "### Magnetic Flux\n",
    "\n",
    "Magnetic flux, denoted as '$\\varPhi$', is the total number of lines passing through an area $S$. Its unit is the **weber**.  \n",
    "\n",
    "\\begin{equation}\\tag{2b}\n",
    "    \\mathrm{[Wb]}=\\mathrm{[V}\\cdot\\mathrm{s]}\n",
    "\\end{equation}    "
   ]
  },
  {
   "cell_type": "markdown",
   "id": "2ab28c0d",
   "metadata": {},
   "source": [
    "Via equations (2b) and (1b) and equivalence principle,  \n",
    "\n",
    "\\begin{equation}\\tag{2c}\n",
    "    [\\mathrm{V}\\cdot\\mathrm{s}] = \\left[\\frac{\\mathrm{N}\\cdot\\mathrm{m}}{\\mathrm{At}}\\right]\n",
    "\\end{equation}    "
   ]
  },
  {
   "cell_type": "markdown",
   "id": "07b02c70",
   "metadata": {},
   "source": [
    "The ampere-turn is the unit of measurement for magnetomotive force ($\\mathrm{mmf}$), which is discussed in greater detail below and, in equation (8), is equal to the product of the current ($I$) flowing through the coil and the number of turns ($z$) the coil makes around it's core.  Since the current has a standard unit of amps $[\\mathrm{A}]$ and the number of turns is a unitless quantity, the ampere-turn is equal to the amp which is equal to Coulumbs $[\\mathrm{C}]$ per second.  \n",
    "\n",
    "\\begin{equation}\\tag{2d}\n",
    "    [\\mathrm{At}] = [\\mathrm{A}] = \\left[\\frac{\\mathrm{C}}{\\mathrm{s}}\\right]\n",
    "\\end{equation}    "
   ]
  },
  {
   "cell_type": "markdown",
   "id": "e1bc9545",
   "metadata": {},
   "source": [
    "Via equations (2d) and (2c),  \n",
    "\n",
    "$$ [\\mathrm{V}\\cdot\\mathrm{s}] = \\left[\\frac{\\mathrm{N}\\cdot\\mathrm{m}\\cdot\\mathrm{s}}{\\mathrm{C}}\\right]$$"
   ]
  },
  {
   "cell_type": "markdown",
   "id": "23c0e798",
   "metadata": {},
   "source": [
    "Dividing throughout by $\\mathrm{s}$ gives:  \n",
    "\n",
    "\\begin{equation}\\tag{2e}\n",
    "    [\\mathrm{V}] = \\left[\\frac{\\mathrm{N}\\cdot\\mathrm{m}}{\\mathrm{C}}\\right]\n",
    "\\end{equation}"
   ]
  },
  {
   "cell_type": "markdown",
   "id": "e89e8b95",
   "metadata": {},
   "source": [
    "Which is consistent with the definition of a volt $[\\mathrm{V}]$, the standard unit of voltage, which denotes work done per unit of (electric) charge or potential energy per unit of charge."
   ]
  },
  {
   "cell_type": "markdown",
   "id": "532b958a",
   "metadata": {},
   "source": [
    "**Magnetic flux density**, denoted as '$B$', is defined as number of lines passing perpendicularly through an\n",
    "area  of $1 \\mathrm{m}^2$:  \n",
    "\n",
    "\\begin{equation}\\tag{2}\n",
    "    B = \\frac{\\varPhi}{\\mathrm{S}}\n",
    "\\end{equation}    "
   ]
  },
  {
   "cell_type": "markdown",
   "id": "1895898c",
   "metadata": {},
   "source": [
    "It's unit is the tesla,  \n",
    "\n",
    "\\begin{equation}\\tag{2a}\n",
    "    [\\mathrm{T}] = \\left[\\frac{\\mathrm{V}\\cdot\\mathrm{s}}{\\mathrm{m}^2}\\right]\n",
    "\\end{equation}    "
   ]
  },
  {
   "cell_type": "markdown",
   "id": "f6a6a307",
   "metadata": {},
   "source": [
    "### Magnetization Curve\n",
    "Magnetic element material is characterized by its magnetization curve or $B-H$ curve:  \n",
    "\n",
    "\\begin{equation}\\tag{3}\n",
    "    B = f(H)\n",
    "\\end{equation}    "
   ]
  },
  {
   "cell_type": "markdown",
   "id": "63c9c1bb",
   "metadata": {},
   "source": [
    "In the case of **diamagnetics**, the $B-H$ relationship is linear.  \n",
    "\n",
    "\\begin{equation}\\tag{3a}\n",
    "    B = \\mu_r \\mu_0 H = \\mu H\n",
    "\\end{equation}    "
   ]
  },
  {
   "cell_type": "markdown",
   "id": "4b5e7fa2",
   "metadata": {},
   "source": [
    "where,\n",
    "* $\\mu_r$ - dimensionless relative magnetic permeability of the material,\n",
    "* $\\mu_0 = 4\\pi10^{-7}\\,[\\mathrm{V}\\cdot\\mathrm{s}/\\mathrm{A}\\cdot\\mathrm{m}]$ - magnetic permeability of the free space."
   ]
  },
  {
   "cell_type": "markdown",
   "id": "22bffdd3",
   "metadata": {},
   "source": [
    "![Fig-2.13.2](Figures/Fig-2.13.2.png)"
   ]
  },
  {
   "cell_type": "markdown",
   "id": "01ebb20d",
   "metadata": {},
   "source": [
    "In case of **ferromagnetics**, the $B-H$ relationship is nonlinear. Magnetization curves of three\n",
    "most common ferromagnetics are presented in Fig. 2.13.2. Operating point should be located\n",
    "on the steepest segment, not on the saturation part of the characteristic. The higher is material\n",
    "permeability, designated by the steepest segment, the better are its magnetic properties. Then, sheet steel reveals the best magnetic properties. Its relative permeability is 3500 and it is seven times greater than the cast iron permeability, which equals 480. For comparison, an air core relative permeability is 1."
   ]
  },
  {
   "cell_type": "markdown",
   "id": "f5c0e727",
   "metadata": {},
   "source": [
    "### Magnetic Voltage\n",
    "For the given magnetic flux flowing through an element its magnetic voltage can be defined:  "
   ]
  },
  {
   "cell_type": "markdown",
   "id": "73503f7a",
   "metadata": {},
   "source": [
    "\\begin{equation}\\tag{4}\n",
    "    U_\\mathrm{m} = Hl\n",
    "\\end{equation}    "
   ]
  },
  {
   "cell_type": "markdown",
   "id": "affbf00d",
   "metadata": {},
   "source": [
    "It's unit is the ampere-turn $[\\mathrm{At}]$."
   ]
  },
  {
   "cell_type": "markdown",
   "id": "372faea3",
   "metadata": {},
   "source": [
    "Then, a magnetic element of Fig 2.13.1 can be modeled by a nonlinear resistor, as presented\n",
    "in Fig. 2.13.3. Its $\\varPhi-U_\\mathrm{m}$ relationship can be found by rescaling the material $B-H$ curve,\n",
    "taking into account the element dimensions, cross section area S and mean magnetic length l,\n",
    "as shown in Fig. 2.13.1 and Fig. 2.13.6 for different cores.  "
   ]
  },
  {
   "cell_type": "markdown",
   "id": "7fe4df9a",
   "metadata": {},
   "source": [
    "![Fig-2.13.3](Figures/Fig-2.13.3.png)"
   ]
  },
  {
   "cell_type": "markdown",
   "id": "74045000",
   "metadata": {},
   "source": [
    "For a linear (diamagnetic) element, via equations (3a) and (4):  \n",
    "\n",
    "\\begin{equation}\\tag{5}\n",
    "    B\\cdot S = \\varPhi = \\mu H \\cdot S = \\frac{\\mu S}{l}\\,U_\\mathrm{m}\n",
    "\\end{equation}    "
   ]
  },
  {
   "cell_type": "markdown",
   "id": "b003088e",
   "metadata": {},
   "source": [
    "Then, magnetic element Ohm’s law can be formulated:  \n",
    "\n",
    "\\begin{equation}\\tag{6}\n",
    "    U_\\mathrm{m} = R_\\mathrm{m}\\varPhi \\quad \\quad \\text{where, }\\quad R_\\mathrm{m}=\\frac{l}{\\mu_\\mathrm{r} \\mu_0 S}\n",
    "\\end{equation}    "
   ]
  },
  {
   "cell_type": "markdown",
   "id": "491737fb",
   "metadata": {},
   "source": [
    "is the **magnetic resistance** or **reluctance** in ampere-turns per weber $[\\mathrm{At}]/[\\mathrm{Wb}]$."
   ]
  },
  {
   "cell_type": "markdown",
   "id": "5c337b38",
   "metadata": {},
   "source": [
    "Magnetic field induced around a current carrying conductor is further considered. Fig. 2.13.4\n",
    "presents such conductor perpendicularly crossing the plane, with conventional current\n",
    "direction, a) from the plane, b) to the plane. Direction of the magnetic field can be specified\n",
    "by the **right hand rule**.  \n",
    "\n",
    "![Fig-2.13.4](Figures/Fig-2.13.4.png)"
   ]
  },
  {
   "cell_type": "markdown",
   "id": "8c80702b",
   "metadata": {},
   "source": [
    "If a current carrying conductor is grasped in the right hand, with the thumb pointing in the\n",
    "direction of the conventional current, the fingers will then point in the direction of the\n",
    "magnetic lines of force."
   ]
  },
  {
   "cell_type": "markdown",
   "id": "17d08006",
   "metadata": {},
   "source": [
    "### Magnetomotive Force\n",
    "\n",
    "Fig. 2.13.5 presents **electromagnet** or solenoid coil or simply **coil**, a wire wound around a\n",
    "core, whose number of turns around said core is denoted as '$z$'. Such coil exhibits the magnetic field when energized.  The value of flux that develops in a coil depends on the current ($I$) and the number of turns ($z$).  \n",
    "\n",
    "![Fig-2.13.5](Figures/Fig-2.13.5.png)"
   ]
  },
  {
   "cell_type": "markdown",
   "id": "bafba305",
   "metadata": {},
   "source": [
    "The product of $I$ and $z$ is called the **magnetomotive force (mmf)**:  \n",
    "\n",
    "\\begin{equation}\\tag{7}\n",
    "    F = Iz\n",
    "\\end{equation}    "
   ]
  },
  {
   "cell_type": "markdown",
   "id": "a2f7f5fb",
   "metadata": {},
   "source": [
    "Its unit is the ampere-turn $[\\mathrm{At}]$ and it is an analog to emf."
   ]
  },
  {
   "cell_type": "markdown",
   "id": "1172bc3b",
   "metadata": {},
   "source": [
    "A coil as an element of electric circuit is considered in next chapters. In this chapter analysis\n",
    "of magnetic circuit is considered. Electric model of such circuit is built of nonlinear resistors,\n",
    "mmf and eventually a linear resistor, if an air gap is present. A nonlinear resistor is described\n",
    "by an element $\\varPhi - U_\\mathrm{m}$ relationship, a linear resistor is described by Ohm’s law in equation (6),\n",
    "fluxes are related by KCL in equation (8) and magnetic voltages are related by KVL in equation (9)."
   ]
  },
  {
   "cell_type": "markdown",
   "id": "aea1ec82",
   "metadata": {},
   "source": [
    "The algebraic sum of magnetic fluxes entering or leaving arbitrary node $i$ equals zero.  \n",
    "\n",
    "\\begin{equation}\\tag{8}\n",
    "    \\sum_{\\mathbf{\\cdot}i} \\varPhi = 0\n",
    "\\end{equation}    "
   ]
  },
  {
   "cell_type": "markdown",
   "id": "6daf0b88",
   "metadata": {},
   "source": [
    "The algebraic sum of magnetic voltages around arbitrary loop $i$ equals zero,  \n",
    "\n",
    "\\begin{equation}\\tag{9}\n",
    "    \\sum_{\\mathrm{O} i} U_\\mathrm{m} = 0\n",
    "\\end{equation}    "
   ]
  },
  {
   "cell_type": "markdown",
   "id": "6a4534e6",
   "metadata": {},
   "source": [
    "Then, methods of nonlinear circuit analysis, presented in Chapter 2.12, can be applied.\n",
    "Graphical method is preferred, due to simplicity of magnetic circuit, which is practically\n",
    "always a single-loop circuit or eventually two-loop circuit. Toroidal-core single-loop circuit\n",
    "and exemplary rectangular-core single-loop circuit and two-loop circuit are presented in Fig.\n",
    "2.13.6a, b and c, respectively, together with their equivalent diagrams.  \n",
    "\n",
    "![Fig-2.13.6](Figures/Fig-2.13.6.png)"
   ]
  },
  {
   "cell_type": "markdown",
   "id": "e2ac2ddc",
   "metadata": {},
   "source": [
    "## Drill Problems\n",
    "#### Problem 1\n",
    "\n",
    "1. A coil of 200(100?) turns is wrapped on a homogenous sheet-steel core having a cross section of $S = 2\\mathrm{cm}^2$ and a mean length of $ l =20 \\mathrm{cm}$. If a flux of $\\varPhi=2\\cdot10^{-4}\\mathrm{Wb}$ is developed in the core, what\n",
    "    current $I$ must flow in a coil of $z=100$ turns."
   ]
  },
  {
   "cell_type": "markdown",
   "id": "e8f36c88",
   "metadata": {},
   "source": [
    "Via KVL and equations (7) and (4),  \n",
    "\n",
    "$$100I = U_\\mathrm{m} = Hl = 20\\mathrm{cm}\\cdot H$$"
   ]
  },
  {
   "cell_type": "markdown",
   "id": "6ce58fed",
   "metadata": {},
   "source": [
    "\\begin{equation}\\tag{1.1}\n",
    "        I = 2\\mathrm{mm} \\cdot H\n",
    "\\end{equation}    "
   ]
  },
  {
   "cell_type": "markdown",
   "id": "ef91c838",
   "metadata": {},
   "source": [
    "The magnetic flux density is given by:  \n",
    "\n",
    "\\begin{equation}\\tag{1.2}\n",
    "    B = \\frac{\\varPhi}{S} = \\frac{2\\mathrm{Wb}}{10^4 \\cdot 2\\mathrm{cm}^2} = \\frac{2\\mathrm{Wb}}{10^4 \\cdot 2 \\cdot 10^{-4}\\mathrm{m}^2} = \\frac{1\\mathrm{Wb}}{1\\mathrm{m}^2} = 1\\mathrm{T}\n",
    "\\end{equation}    "
   ]
  },
  {
   "cell_type": "markdown",
   "id": "c5e91ad5",
   "metadata": {},
   "source": [
    "Via the figure (2.13.2), the function that gives segment of the $B-H$ curve that the $Q$-point rests on is:  \n",
    "\n",
    "\\begin{equation}\\tag{1.3}\n",
    "    B := B(H) = \\frac{1.1\\mathrm{T}\\cdot\\mathrm{m}}{250\\mathrm{At}}\\,H \n",
    "\\end{equation}    "
   ]
  },
  {
   "cell_type": "markdown",
   "id": "6f77b995",
   "metadata": {},
   "source": [
    "Via equations (1.3) and (1.2) and equivalence principle,  \n",
    "\n",
    "\\begin{equation}\\tag{1.4}\n",
    "    H = \\frac{250}{1.1}\\,\\frac{\\mathrm{At}}{\\mathrm{m}}\n",
    "\\end{equation}"
   ]
  },
  {
   "cell_type": "markdown",
   "id": "74519815",
   "metadata": {},
   "source": [
    "Finally, via equations (1.4) and (1.1),  \n",
    "\n",
    "\\begin{equation}\\tag{1.5}\n",
    "    I = 0.002\\mathrm{m}\\cdot \\frac{250\\mathrm{At}}{1.1\\mathrm{m}} \\approxeq 454.54\\mathrm{mA}\n",
    "\\end{equation}    "
   ]
  },
  {
   "cell_type": "code",
   "execution_count": 1,
   "id": "ddf8783b",
   "metadata": {},
   "outputs": [
    {
     "data": {
      "text/plain": [
       "0.45454545454545453"
      ]
     },
     "execution_count": 1,
     "metadata": {},
     "output_type": "execute_result"
    }
   ],
   "source": [
    "0.002*250/1.1"
   ]
  },
  {
   "cell_type": "markdown",
   "id": "587b0d37",
   "metadata": {},
   "source": [
    "2. A cast iron core has a cross section of $S=0.5\\mathrm{cm}^2$ and mean length of $l=10 \\mathrm{cm}$. If a coil placed on the core develops $F=100 \\mathrm{At}$, determine the flux, denoted as '$\\varPhi$', produced in the core."
   ]
  },
  {
   "cell_type": "markdown",
   "id": "985d5c43",
   "metadata": {},
   "source": [
    "Via KVL,  \n",
    "\n",
    "$$ F = 100\\mathrm{At} = Hl = 10\\mathrm{cm}\\cdot H$$"
   ]
  },
  {
   "cell_type": "markdown",
   "id": "0f2602ca",
   "metadata": {},
   "source": [
    "\\begin{equation}\\tag{2.1}\n",
    "    H = \\frac{100\\mathrm{At}}{10\\mathrm{cm}} = \\frac{100\\mathrm{At}}{0.1\\mathrm{m}} = 1000\\,\\frac{\\mathrm{At}}{\\mathrm{m}}\n",
    "\\end{equation}    \n",
    "    "
   ]
  },
  {
   "cell_type": "markdown",
   "id": "4f5f4eda",
   "metadata": {},
   "source": [
    "Via figure (2.13.2), the function that gives the segment of the $B-H$ curve that the $Q$-point rests on is:  \n",
    "\n",
    "\\begin{equation}\\tag{2.2}\n",
    "    B:=B(H) = \\frac{0.6\\mathrm{T}\\cdot \\mathrm{m}}{3000\\mathrm{At}}\\,H\n",
    "\\end{equation}    "
   ]
  },
  {
   "cell_type": "markdown",
   "id": "fbb4a72a",
   "metadata": {},
   "source": [
    "Thus,\n",
    "\\begin{equation}\\tag{2.3}\n",
    "    \\varPhi = 0.5 \\cdot 10^{-4}\\mathrm{m}^2 \\cdot 0.2\\mathrm{T} = 1\\cdot 10^{-5}\\mathrm{m}^2 \\cdot \\mathrm{T} = 10 \\cdot 10^{-6}\\mathrm{m}^2 \\cdot \\mathrm{T} = 10\\cdot 10^{-6} \\mathrm{Wb}\n",
    "\\end{equation}    "
   ]
  }
 ],
 "metadata": {
  "kernelspec": {
   "display_name": "Python 3",
   "language": "python",
   "name": "python3"
  },
  "language_info": {
   "codemirror_mode": {
    "name": "ipython",
    "version": 3
   },
   "file_extension": ".py",
   "mimetype": "text/x-python",
   "name": "python",
   "nbconvert_exporter": "python",
   "pygments_lexer": "ipython3",
   "version": "3.8.10"
  }
 },
 "nbformat": 4,
 "nbformat_minor": 5
}
