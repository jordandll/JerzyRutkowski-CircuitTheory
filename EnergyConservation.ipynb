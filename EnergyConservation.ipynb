{
 "cells": [
  {
   "cell_type": "markdown",
   "id": "78e3a091",
   "metadata": {},
   "source": [
    "# Conservation of Power and Energy\n",
    "\n",
    "### *Chapter 2.4* - DC Analysis\n",
    "\n",
    "The law of energy conservation must be obeyed in any electric circuit. For this reason, the algebraic sum of power in a circuit, at any instant of time, must be zero.  \n",
    "\n",
    "\\begin{equation}\\tag{1}\n",
    "    \\sum p = 0\n",
    "\\end{equation}    "
   ]
  },
  {
   "cell_type": "markdown",
   "id": "9d2b782e",
   "metadata": {},
   "source": [
    "For the DC case:  \n",
    "\n",
    "\\begin{equation}\\tag{1a}\n",
    "    \\sum P = 0\n",
    "\\end{equation}    "
   ]
  },
  {
   "cell_type": "markdown",
   "id": "30e24ec2",
   "metadata": {},
   "source": [
    "where '$\\sum$' denotes algebraic addition over all elements:  \n",
    "\n",
    "$+$:  if power is *supplied* by the element;  \n",
    "$-$:  if power is *absorbed* or *dissapated* by the element."
   ]
  },
  {
   "cell_type": "markdown",
   "id": "b763ae80",
   "metadata": {},
   "source": [
    "In other words, the total power delivered to the system must be balanced out by the total power absorbed by the system."
   ]
  },
  {
   "cell_type": "markdown",
   "id": "b7f9658b",
   "metadata": {},
   "source": [
    "Note that **power balance** can be used to check the results of circuit analysis."
   ]
  },
  {
   "cell_type": "markdown",
   "id": "7e42a4ea",
   "metadata": {},
   "source": [
    "### Example 2.4.1\n",
    "\n",
    "For the circuit of Fig. 2.4.1 and the following values of parameters: $J=2\\mathrm{A}$, $R=5\\Omega$, $E=25\\mathrm{V}$;  Find all powers and check the power balance.  \n",
    "\n",
    "![Fig - 2.4.1](Figures/Fig-2.4.1.png)"
   ]
  },
  {
   "cell_type": "markdown",
   "id": "ca8e5625",
   "metadata": {},
   "source": [
    "Via KVL and Ohm's Law,  \n",
    "\n",
    "$$ U_\\mathrm{J} + E - U_\\mathrm{R} = 0$$"
   ]
  },
  {
   "cell_type": "markdown",
   "id": "a5fc3602",
   "metadata": {},
   "source": [
    "\\begin{equation}\\tag{2}\n",
    "    U_\\mathrm{J} = U_\\mathrm{R} - E = J\\cdot R \\;-\\; E = 10\\mathrm{V} - 25\\mathrm{V} = -15\\mathrm{V}\n",
    "\\end{equation}    "
   ]
  },
  {
   "cell_type": "markdown",
   "id": "8938d7bd",
   "metadata": {},
   "source": [
    "The fact that the value of the voltage running across the current source ($U_\\mathrm{J}$) is negative in conjunction with the fact that the value of the current ($J$) is positive implies that the current source is actually *absorbing* power.  The total power absorbed ($P_\\mathrm{abs}$) by the system is thus,  \n",
    "\n",
    "$$ P_\\mathrm{abs} = -U_\\mathrm{J}J + J^2R = 30\\mathrm{W} + 20\\mathrm{W} = 50\\mathrm{W}$$"
   ]
  },
  {
   "cell_type": "markdown",
   "id": "97b8ce55",
   "metadata": {},
   "source": [
    "The total power delivered ($P_\\mathrm{sup}$) is given by voltage source.  \n",
    "\n",
    "$$  P_\\mathrm{sup} = EJ = 50\\mathrm{W}$$"
   ]
  },
  {
   "cell_type": "markdown",
   "id": "4558be99",
   "metadata": {},
   "source": [
    "Finally,\n",
    "\n",
    "$$ \\sum P = P_\\mathrm{sup} - P_\\mathrm{abs} = 50\\mathrm{W} - 50\\mathrm{W} = 0$$"
   ]
  },
  {
   "cell_type": "markdown",
   "id": "64fb49ed",
   "metadata": {},
   "source": [
    "## Drill Problems"
   ]
  },
  {
   "cell_type": "markdown",
   "id": "92b3edb5",
   "metadata": {},
   "source": [
    "#### Problem 1\n",
    "\n",
    "1. Find all powers and check the power balance.  \n",
    "\n",
    "![Fig - P.2.4.1](Figures/Fig-P.2.4.1.png)"
   ]
  },
  {
   "cell_type": "markdown",
   "id": "8dd93e7f",
   "metadata": {},
   "source": [
    "Below is the same circuit with our assumed current directions and complimentary arrowheads for voltage and current.  \n",
    "\n",
    "![Fig - P.2.4.1 - w/arrows](Figures/Fig-P.2.4.1.svg)"
   ]
  },
  {
   "cell_type": "markdown",
   "id": "3a43288e",
   "metadata": {},
   "source": [
    "Via Ohm's Law, the voltage dropped across the resistor on the right ($U_\\mathrm{r}$), which has a resistance of $5\\Omega$, is:  \n",
    "\n",
    "$$ U_\\mathrm{r} = 5\\Omega \\cdot 2\\mathrm{A} = 10\\mathrm{V}$$"
   ]
  },
  {
   "cell_type": "markdown",
   "id": "31e9df87",
   "metadata": {},
   "source": [
    "The power absorbed by that resistor ($P_\\mathrm{r}$) is given by:  \n",
    "\n",
    "$$ P_\\mathrm{r} = J^2 5\\Omega = 20\\mathrm{W}$$"
   ]
  },
  {
   "cell_type": "markdown",
   "id": "487539be",
   "metadata": {},
   "source": [
    "Via KVL, we can find the voltage running across the current source ($U_\\mathrm{J}$).  \n",
    "\n",
    "$$ 1\\mathrm{V} + U_\\mathrm{r} - U_\\mathrm{J} = 0$$"
   ]
  },
  {
   "cell_type": "markdown",
   "id": "c6df7b29",
   "metadata": {},
   "source": [
    "$$ U_\\mathrm{J} = 1\\mathrm{V} + 10\\mathrm{V} = 11\\mathrm{V}$$"
   ]
  },
  {
   "cell_type": "markdown",
   "id": "4063e5d9",
   "metadata": {},
   "source": [
    "The current source is thus *supplying* $P_\\mathrm{J} = 11\\mathrm{V} \\cdot 2\\mathrm{A} = 22\\mathrm{W}$ of power."
   ]
  },
  {
   "cell_type": "markdown",
   "id": "b9a5cec9",
   "metadata": {},
   "source": [
    "Via KVL, the voltage dropped across the left resistor ($U_\\mathrm{l}$) is:  \n",
    "\n",
    "$$ U_\\mathrm{l} = 1\\mathrm{V}$$"
   ]
  },
  {
   "cell_type": "markdown",
   "id": "a8ce6137",
   "metadata": {},
   "source": [
    "And, via Ohm's Law, the current flowing through said resistor ($I_\\mathrm{l}$) is:  \n",
    "\n",
    "$$ 2\\Omega \\cdot I_\\mathrm{l} = U_\\mathrm{l} = 1\\mathrm{V}$$"
   ]
  },
  {
   "cell_type": "markdown",
   "id": "170cc397",
   "metadata": {},
   "source": [
    "$$ I_\\mathrm{l} = 0.5\\mathrm{A}$$"
   ]
  },
  {
   "cell_type": "markdown",
   "id": "dadfca90",
   "metadata": {},
   "source": [
    "The power absorbed by this resistor ($P_\\mathrm{l}$) is given by:  \n",
    "\n",
    "$$ P_\\mathrm{l} = 0.5\\mathrm{W}$$"
   ]
  },
  {
   "cell_type": "markdown",
   "id": "43847164",
   "metadata": {},
   "source": [
    "Via KCL, the current flowing through the middle branch -- and subsequently the voltage source -- denoted as '$I_\\mathrm{m}$', is:  \n",
    "\n",
    "$$ I_\\mathrm{m} + 2\\mathrm{A} - I_\\mathrm{l} = I_\\mathrm{m} + 1.5\\mathrm{A} = 0$$"
   ]
  },
  {
   "cell_type": "markdown",
   "id": "79e78a1b",
   "metadata": {},
   "source": [
    "$$ I_\\mathrm{m} = -1.5\\mathrm{A}$$"
   ]
  },
  {
   "cell_type": "markdown",
   "id": "8a8ef0f9",
   "metadata": {},
   "source": [
    "The power *absorbed* by the voltage source ($|P_\\mathrm{m}|$) is thus,  \n",
    "\n",
    "$$ |P_\\mathrm{m}| = |EI_\\mathrm{m}| = 1.5\\mathrm{W}$$"
   ]
  },
  {
   "cell_type": "markdown",
   "id": "8c2f6a42",
   "metadata": {},
   "source": [
    "Now let's check the balance of power.  The total power delivered ($P_\\mathrm{sup}$) is:  \n",
    "\n",
    "$$ P_\\mathrm{sup} = P_\\mathrm{J} = 22\\mathrm{W}$$"
   ]
  },
  {
   "cell_type": "markdown",
   "id": "908d675c",
   "metadata": {},
   "source": [
    "And, the total power absorbed ($P_\\mathrm{abs}$) is:  \n",
    "\n",
    "$$ P_\\mathrm{abs} = P_\\mathrm{r} + |P_\\mathrm{m}| + P_\\mathrm{l} = 1.5\\mathrm{W} + 0.5\\mathrm{W} + 20\\mathrm{W} = 22\\mathrm{W}$$"
   ]
  },
  {
   "cell_type": "markdown",
   "id": "b3c96eb9",
   "metadata": {},
   "source": [
    "The power balance checks out."
   ]
  },
  {
   "cell_type": "markdown",
   "id": "fcbf1c5d",
   "metadata": {},
   "source": [
    "#### Problem 2\n",
    "2. Calculate power dissipated on the most loaded resistor. Formulate the power balance.  \n",
    "\n",
    "![Fig - P.2.4.2 - w/arrows](Figures/Fig-P.2.4.2.svg)"
   ]
  },
  {
   "cell_type": "markdown",
   "id": "f1b9ff46",
   "metadata": {},
   "source": [
    "Via KVL and Ohm's Law,  \n",
    "\n",
    "\\begin{equation}\\tag{2.1a}\n",
    "    4\\mathrm{V} = U_\\mathrm{l} + U_\\mathrm{m} = 1600\\Omega\\, I_\\mathrm{l} + 6000\\Omega\\,I_\\mathrm{m}\n",
    "\\end{equation}    "
   ]
  },
  {
   "cell_type": "markdown",
   "id": "90794e6e",
   "metadata": {},
   "source": [
    "\\begin{align*}\\tag{2.1b}\n",
    "    U_\\mathrm{m} &= U_\\mathrm{r} \\\\\n",
    "    6000\\Omega\\,I_\\mathrm{m} &= 4000\\Omega\\,I_\\mathrm{r}\n",
    "\\end{align*}    "
   ]
  },
  {
   "cell_type": "markdown",
   "id": "6250c696",
   "metadata": {},
   "source": [
    "Via KCL,  \n",
    "\n",
    "$$ I_\\mathrm{l} - I_\\mathrm{m} - I_\\mathrm{r} = 0$$"
   ]
  },
  {
   "cell_type": "markdown",
   "id": "f5e685da",
   "metadata": {},
   "source": [
    "\\begin{equation}\\tag{2.2}\n",
    "    I_\\mathrm{l} = I_\\mathrm{m} + I_\\mathrm{r}\n",
    "\\end{equation}    "
   ]
  },
  {
   "cell_type": "markdown",
   "id": "8f33d69e",
   "metadata": {},
   "source": [
    "Via equations (2.2) and (2.1a) in conjunction with substitution,  \n",
    "\n",
    "\\begin{align*}\\tag{2.3}\n",
    "    4\\mathrm{V} &= 1600\\Omega\\,(I_\\mathrm{m} + I_\\mathrm{r}) + 6000\\Omega\\,I_\\mathrm{m} \\\\\n",
    "     &= 7600\\Omega\\,I_\\mathrm{m} + 1600\\Omega\\,I_\\mathrm{r}\n",
    "\\end{align*}     "
   ]
  },
  {
   "cell_type": "markdown",
   "id": "c8937896",
   "metadata": {},
   "source": [
    "Via equation (2.1b),  \n",
    "\n",
    "$$ I_\\mathrm{r} = \\frac{3}{2}\\,I_\\mathrm{m} = 1.5I_\\mathrm{m}$$"
   ]
  },
  {
   "cell_type": "markdown",
   "id": "34746d22",
   "metadata": {},
   "source": [
    "Via the above equation, equation (2.3), and substitution,  \n",
    "\n",
    "$$ 4\\mathrm{V} = 7600\\Omega\\,I_\\mathrm{m} + 2400\\Omega\\,I_\\mathrm{m} = 10\\mathrm{k}\\Omega\\,I_\\mathrm{m}$$"
   ]
  },
  {
   "cell_type": "markdown",
   "id": "6cae1eb3",
   "metadata": {},
   "source": [
    "\\begin{equation}\\tag{2.4}\n",
    "    I_\\mathrm{m} = \\frac{4\\mathrm{V}}{10\\mathrm{k}\\Omega} = 0.4\\mathrm{mA}\n",
    "\\end{equation}    "
   ]
  },
  {
   "cell_type": "code",
   "execution_count": 1,
   "id": "f2f8cc4b",
   "metadata": {},
   "outputs": [
    {
     "data": {
      "text/plain": [
       "0.0004"
      ]
     },
     "execution_count": 1,
     "metadata": {},
     "output_type": "execute_result"
    }
   ],
   "source": [
    "I_m = 4/1e4\n",
    "I_m"
   ]
  },
  {
   "cell_type": "markdown",
   "id": "fd75f9b2",
   "metadata": {},
   "source": [
    "The power dissapated by the most loaded resistor, which appears to be the one resting on the middle branch, denoted as '$P_\\mathrm{m}$', is given by:  \n",
    "\n",
    "\\begin{equation}\\tag{2.4a}\n",
    "    P_\\mathrm{m} = I_\\mathrm{m}^2 \\cdot 6000\\Omega = 0.96\\mathrm{mW} = 960\\mu\\mathrm{W}\n",
    "\\end{equation}    "
   ]
  },
  {
   "cell_type": "code",
   "execution_count": 2,
   "id": "fb53b458",
   "metadata": {},
   "outputs": [],
   "source": [
    "P_m = I_m**2 * 6000"
   ]
  },
  {
   "cell_type": "code",
   "execution_count": 3,
   "id": "08fc286b",
   "metadata": {},
   "outputs": [
    {
     "data": {
      "text/plain": [
       "0.00096"
      ]
     },
     "execution_count": 3,
     "metadata": {},
     "output_type": "execute_result"
    }
   ],
   "source": [
    "P_m"
   ]
  },
  {
   "cell_type": "markdown",
   "id": "b25b9f83",
   "metadata": {},
   "source": [
    "Now, we check the power balance.  Via KVL,  \n",
    "\n",
    "$$ U_\\mathrm{r} = U_\\mathrm{m} = 0.4\\mathrm{mA}\\cdot 6000\\Omega = 2.4\\mathrm{V}$$"
   ]
  },
  {
   "cell_type": "code",
   "execution_count": 4,
   "id": "a9c1c4b6",
   "metadata": {},
   "outputs": [
    {
     "data": {
      "text/plain": [
       "2.4"
      ]
     },
     "execution_count": 4,
     "metadata": {},
     "output_type": "execute_result"
    }
   ],
   "source": [
    "U_r = U_m =I_m*6000\n",
    "U_r"
   ]
  },
  {
   "cell_type": "markdown",
   "id": "60970b06",
   "metadata": {},
   "source": [
    "The power dissapated or absorbed by the right most resistor ($P_\\mathrm{r}$) is:  \n",
    "\n",
    "$$ P_\\mathrm{r} = \\frac{U_\\mathrm{r}^2}{4000\\Omega} \\approxeq 1.44\\mathrm{mW} $$"
   ]
  },
  {
   "cell_type": "code",
   "execution_count": 5,
   "id": "baa54ea5",
   "metadata": {
    "collapsed": true
   },
   "outputs": [
    {
     "data": {
      "text/plain": [
       "0.0014399999999999999"
      ]
     },
     "execution_count": 5,
     "metadata": {},
     "output_type": "execute_result"
    }
   ],
   "source": [
    "P_r = (U_r**2)/4000\n",
    "P_r"
   ]
  },
  {
   "cell_type": "markdown",
   "id": "102f1fdd",
   "metadata": {},
   "source": [
    "Via KVL,  \n",
    "\n",
    "$$ 4\\mathrm{V} - U_\\mathrm{l} - U_\\mathrm{m} = 0$$\n",
    "\n",
    "$$ U_\\mathrm{l} = 4\\mathrm{V} - 2.4\\mathrm{V} = 1.6\\mathrm{V}$$"
   ]
  },
  {
   "cell_type": "markdown",
   "id": "afac3df5",
   "metadata": {},
   "source": [
    "$$ P_\\mathrm{l} = \\frac{U_\\mathrm{l}^2}{1600\\Omega}\\approxeq 1.6\\mathrm{mW}$$"
   ]
  },
  {
   "cell_type": "code",
   "execution_count": 7,
   "id": "844a5115",
   "metadata": {},
   "outputs": [
    {
     "data": {
      "text/plain": [
       "0.0016000000000000003"
      ]
     },
     "execution_count": 7,
     "metadata": {},
     "output_type": "execute_result"
    }
   ],
   "source": [
    "U_l = 4-2.4\n",
    "P_l = (U_l**2)/1600\n",
    "P_l"
   ]
  },
  {
   "cell_type": "markdown",
   "id": "b4d3d999",
   "metadata": {},
   "source": [
    "Via Ohm's Law,  \n",
    "\n",
    "$$ I_\\mathrm{l} = \\frac{1.6\\mathrm{V}}{1600\\Omega} = 1\\mathrm{mA}$$"
   ]
  },
  {
   "cell_type": "code",
   "execution_count": 8,
   "id": "c3dd5ed6",
   "metadata": {},
   "outputs": [
    {
     "data": {
      "text/plain": [
       "0.001"
      ]
     },
     "execution_count": 8,
     "metadata": {},
     "output_type": "execute_result"
    }
   ],
   "source": [
    "I_l = U_l/1600\n",
    "I_l"
   ]
  },
  {
   "cell_type": "markdown",
   "id": "019e1146",
   "metadata": {},
   "source": [
    "The power supplied by the voltage source ($P_\\mathrm{sup}$) is:  \n",
    "\n",
    "$$ P_\\mathrm{sup} = 4\\mathrm{V} \\cdot I_\\mathrm{l} = 4\\mathrm{mW}$$"
   ]
  },
  {
   "cell_type": "markdown",
   "id": "a9a7d78c",
   "metadata": {},
   "source": [
    "The total power dissapated or absorbed by the loads is:  \n",
    "\n",
    "$$ P_\\mathrm{abs} = (1.6 + 1.44 +  0.96)\\,\\mathrm{mW} = 4\\mathrm{mW}$$"
   ]
  },
  {
   "cell_type": "code",
   "execution_count": 9,
   "id": "805fca1f",
   "metadata": {},
   "outputs": [
    {
     "data": {
      "text/plain": [
       "4.0"
      ]
     },
     "execution_count": 9,
     "metadata": {},
     "output_type": "execute_result"
    }
   ],
   "source": [
    "P_abs = 1.6+1.44+0.96\n",
    "P_abs"
   ]
  },
  {
   "cell_type": "markdown",
   "id": "deb70b5d",
   "metadata": {},
   "source": [
    "#### Problem 3\n",
    "3. An ideal current source $J$ and an ideal voltage source $E$ are connected back to back (“$+$”\n",
    "    with “$+$”). If $J=2\\mathrm{mA}$, what would $E$ have to be so that $72$ J/h was being supplied by the\n",
    "    current source to the voltage source ?"
   ]
  },
  {
   "cell_type": "markdown",
   "id": "547d6d9c",
   "metadata": {},
   "source": [
    "Via the principle of energy and power conversvation,  \n",
    "\n",
    "$$ P_\\mathrm{abs} = P_\\mathrm{sup} = J\\cdot E = 72\\, \\frac{\\mathrm{J}}{\\mathrm{h}} = \\frac{72}{60^2}\\,\\mathrm{W} = 20\\mathrm{mW}$$"
   ]
  },
  {
   "cell_type": "code",
   "execution_count": 10,
   "id": "d5b12d22",
   "metadata": {},
   "outputs": [
    {
     "data": {
      "text/plain": [
       "0.02"
      ]
     },
     "execution_count": 10,
     "metadata": {},
     "output_type": "execute_result"
    }
   ],
   "source": [
    "P_abs = P_sup = 72/(60**2)\n",
    "P_abs"
   ]
  },
  {
   "cell_type": "markdown",
   "id": "667f8cd2",
   "metadata": {},
   "source": [
    "Dividing throughout by $J=2\\mathrm{mA}$ gives:  \n",
    "\n",
    "$$ E = \\frac{20\\mathrm{mW}}{2\\mathrm{mA}} = \\frac{20\\mathrm{W}}{2\\mathrm{A}} = 10\\mathrm{V}$$"
   ]
  },
  {
   "cell_type": "markdown",
   "id": "aac1c708",
   "metadata": {},
   "source": [
    "#### Problem 4\n",
    "4. Find the emf voltage ($E_x$) so that the current is $I=1 \\mathrm{A}$. Other parameters are: $R=5\\Omega$, $E=10\\mathrm{V}$, $J=1\\mathrm{A}$. Check the power balance.  \n",
    "\n",
    "![Fig - P.2.4.4 - w/arrows](Figures/Fig-P.2.4.4.svg)"
   ]
  },
  {
   "cell_type": "markdown",
   "id": "70e4065a",
   "metadata": {},
   "source": [
    "Via KCL, the current flowing through the left branch ($I_\\mathrm{l}$) is:  \n",
    "\n",
    "$$ I_\\mathrm{l} - J - I  = I_\\mathrm{l} - 2\\mathrm{A} = 0$$"
   ]
  },
  {
   "cell_type": "markdown",
   "id": "a3aad8e7",
   "metadata": {},
   "source": [
    "$$ I_\\mathrm{l} = 2\\mathrm{A}$$"
   ]
  },
  {
   "cell_type": "markdown",
   "id": "59d1b946",
   "metadata": {},
   "source": [
    "Via the above equation and Ohm's Law, the resistor resting on the left branch has a voltage drop of:  \n",
    "\n",
    "$$ U_\\mathrm{l} = 5\\Omega \\cdot 2\\mathrm{A} = 10\\mathrm{V}$$"
   ]
  },
  {
   "cell_type": "markdown",
   "id": "af6d027d",
   "metadata": {},
   "source": [
    "and dissapates  \n",
    "\n",
    "$$P_\\mathrm{l} = \\frac{100\\mathrm{V}^2}{5\\Omega} = 4\\mathrm{A}^2 \\cdot 5\\Omega = 20\\mathrm{W}$$ "
   ]
  },
  {
   "cell_type": "markdown",
   "id": "55e2789e",
   "metadata": {},
   "source": [
    "Via KVL and Ohm's Law, the voltage running across the current source is:  \n",
    "\n",
    "$$ U_\\mathrm{J} + 5\\Omega\\,I - 10\\mathrm{V} - 5\\Omega \\, J = 0$$"
   ]
  },
  {
   "cell_type": "markdown",
   "id": "cd1a71e3",
   "metadata": {},
   "source": [
    "$$ U_\\mathrm{J} = 10\\mathrm{V}$$"
   ]
  },
  {
   "cell_type": "markdown",
   "id": "53aa8b56",
   "metadata": {},
   "source": [
    "The power supplied by the current source is:  \n",
    "\n",
    "$$ P_\\mathrm{J} = 10\\mathrm{W}$$"
   ]
  },
  {
   "cell_type": "markdown",
   "id": "1d5762e4",
   "metadata": {},
   "source": [
    "Finally, via KVL, the emf voltage is:  \n",
    "\n",
    "$$ E_x + U_\\mathrm{l} - U_\\mathrm{J} + U_\\mathrm{m} = E_x + 5\\Omega \\, 1\\mathrm{A} = 0$$"
   ]
  },
  {
   "cell_type": "markdown",
   "id": "633fdc76",
   "metadata": {},
   "source": [
    "$$ E_x = -5\\mathrm{V}$$"
   ]
  },
  {
   "cell_type": "markdown",
   "id": "d32b384c",
   "metadata": {},
   "source": [
    "Now let's check the power balance."
   ]
  },
  {
   "cell_type": "markdown",
   "id": "cbce7cde",
   "metadata": {},
   "source": [
    "The power *absorbed* by the emf ($P_x$) is:  \n",
    "\n",
    "$$ P_x = I_\\mathrm{l}E_x= -10\\mathrm{W}$$"
   ]
  },
  {
   "cell_type": "markdown",
   "id": "7308acf5",
   "metadata": {},
   "source": [
    "The negative value of $P_x$ in conjunction with the fact that the voltage and current arrowheads of the emf element follow passive sign convention implies that the element in question is *supplying* $|P_x|=10\\mathrm{W}$ of power.  Usually the arrowheads of active elements follow active sign convention, but this is an exception."
   ]
  },
  {
   "cell_type": "markdown",
   "id": "62e15c9d",
   "metadata": {},
   "source": [
    "The total power supplied to the system is:  \n",
    "\n",
    "$$ P_\\mathrm{sup} = P_\\mathrm{J} + P_\\mathrm{E} - P_x = 10\\mathrm{W} + 10\\mathrm{W} + 10\\mathrm{W} = 30\\mathrm{W}$$"
   ]
  },
  {
   "cell_type": "markdown",
   "id": "3decd531",
   "metadata": {},
   "source": [
    "And, the total power absorbed by the system is:  \n",
    "\n",
    "$$ P_\\mathrm{abs} =  P_\\mathrm{l} + P_\\mathrm{m} + P_\\mathrm{r} = (20 + 5 + 5 )\\,\\mathrm{W} = 30\\mathrm{W}$$"
   ]
  },
  {
   "cell_type": "markdown",
   "id": "a9384680",
   "metadata": {},
   "source": [
    "#### Problem 5\n",
    "5. Calculate all dissipated and absorbed powers in the [Problem 2.3.2](ComplexCircuits.ipynb#Problem-2) circuit. Check the power\n",
    "    balance, if $R=5\\Omega$, $E=10\\mathrm{V}$, and $J=1\\mathrm{A}$.  \n",
    "    \n",
    "![Fig - P.2.3.2](Figures/Fig-P.2.3.2.svg)"
   ]
  },
  {
   "cell_type": "markdown",
   "id": "1e268c8c",
   "metadata": {},
   "source": [
    "$$ P_\\mathrm{r} = J^2 R = 5\\mathrm{W}$$"
   ]
  },
  {
   "cell_type": "markdown",
   "id": "368f8cc9",
   "metadata": {},
   "source": [
    "Via KCL,  \n",
    "\n",
    "\\begin{align*}\\tag{5.1}\n",
    "    0\\mathrm{A} &= J - I_\\mathrm{m} - I_\\mathrm{l} \\\\\n",
    "     &=1\\mathrm{A} - I_\\mathrm{m} - I_\\mathrm{l}     \n",
    "\\end{align*}    "
   ]
  },
  {
   "cell_type": "markdown",
   "id": "6106f03c",
   "metadata": {},
   "source": [
    "Via KVL and Ohm's Law,  \n",
    "\n",
    "\\begin{align*}\\tag{5.2a}\n",
    "    0\\mathrm{V} &= E + U_\\mathrm{J} - 5\\Omega\\,J - 5\\Omega\\,I_\\mathrm{m} \\\\\n",
    "     &= 10\\mathrm{V} +U_\\mathrm{J} - 5\\mathrm{V} -5\\Omega\\,I_\\mathrm{m} \\\\\n",
    "     &= 5\\mathrm{V} + U_\\mathrm{J} - 5\\Omega\\,I_\\mathrm{m} \n",
    "\\end{align*}     "
   ]
  },
  {
   "cell_type": "markdown",
   "id": "b0c41ac1",
   "metadata": {},
   "source": [
    "and,\n",
    "\\begin{align*}\\tag{5.2b}\n",
    "    0\\mathrm{V} &= 5\\Omega\\,I_\\mathrm{m} - 5\\Omega\\,I_\\mathrm{l} - 10\\mathrm{V} \\\\\n",
    "    0\\mathrm{A} &= I_\\mathrm{m} - I_\\mathrm{l} - 2\\mathrm{A}\n",
    "\\end{align*}"
   ]
  },
  {
   "cell_type": "markdown",
   "id": "b52dc279",
   "metadata": {},
   "source": [
    "Via equations (5.2b) and (5.1) in conjunction with substitution,  \n",
    "\n",
    "$$I_\\mathrm{m}-2\\mathrm{A} = 1\\mathrm{A} - I_\\mathrm{m} $$"
   ]
  },
  {
   "cell_type": "markdown",
   "id": "e950ab9c",
   "metadata": {},
   "source": [
    "\\begin{equation}\\tag{5.3}\n",
    "    2I_\\mathrm{m} = 3\\mathrm{A}\n",
    "\\end{equation}"
   ]
  },
  {
   "cell_type": "code",
   "execution_count": 11,
   "id": "c94e747a",
   "metadata": {},
   "outputs": [
    {
     "data": {
      "text/plain": [
       "7.5"
      ]
     },
     "execution_count": 11,
     "metadata": {},
     "output_type": "execute_result"
    }
   ],
   "source": [
    "1.5*5"
   ]
  },
  {
   "cell_type": "markdown",
   "id": "2e1e62ad",
   "metadata": {},
   "source": [
    "Via equations (5.3) and (5.2a) and substitution,  \n",
    "\n",
    "$$ 0\\mathrm{V} = 5\\mathrm{V} + U_\\mathrm{J} - 7.5\\mathrm{V}$$"
   ]
  },
  {
   "cell_type": "markdown",
   "id": "52820a97",
   "metadata": {},
   "source": [
    "$$ U_\\mathrm{J} = 2.5\\mathrm{V}$$"
   ]
  },
  {
   "cell_type": "markdown",
   "id": "ea1f89ad",
   "metadata": {},
   "source": [
    "The power supplied by the current source is thus,  \n",
    "\n",
    "$$ P_\\mathrm{J} = 2.5\\mathrm{W}$$"
   ]
  },
  {
   "cell_type": "markdown",
   "id": "6cabe699",
   "metadata": {},
   "source": [
    "And, the power supplied by the voltage source is:  \n",
    "\n",
    "$$ P_\\mathrm{E} = EI_\\mathrm{m} = 10\\mathrm{V}\\,1.5\\mathrm{A} = 15\\mathrm{W}$$"
   ]
  },
  {
   "cell_type": "markdown",
   "id": "fb9e5c99",
   "metadata": {},
   "source": [
    "Finally, the power dissipated by the middle and right resistors are:  \n",
    "\n",
    "$$ P_\\mathrm{m} = I_\\mathrm{m}^2\\,5\\Omega = 11.25\\mathrm{W}$$\n",
    "\n",
    "$$ P_\\mathrm{r} = J^2\\,5\\Omega = 5\\mathrm{W}$$"
   ]
  },
  {
   "cell_type": "code",
   "execution_count": 12,
   "id": "cef6493f",
   "metadata": {},
   "outputs": [
    {
     "data": {
      "text/plain": [
       "11.25"
      ]
     },
     "execution_count": 12,
     "metadata": {},
     "output_type": "execute_result"
    }
   ],
   "source": [
    "P_m = 1.5**2 * 5\n",
    "P_m"
   ]
  },
  {
   "cell_type": "markdown",
   "id": "194ffe34",
   "metadata": {},
   "source": [
    "Via equation (5.2b) and Ohm's Law, the voltage dropped across the left most resistor is:  \n",
    "\n",
    "$$ U_\\mathrm{l} = I_\\mathrm{l}\\,5\\Omega = -0.5\\cdot 5\\mathrm{V} = -2.5\\mathrm{V}$$"
   ]
  },
  {
   "cell_type": "markdown",
   "id": "d38cccb1",
   "metadata": {},
   "source": [
    "Since both the current flowing through and the voltage dropped across the resistor are negative, in conjunction with the fact that the resistor's arrowheads follows passive sign convention, resistor is absorbing or dissipating power."
   ]
  },
  {
   "cell_type": "markdown",
   "id": "8abd4ba1",
   "metadata": {},
   "source": [
    "$$ P_\\mathrm{l} = I_\\mathrm{l}^2 \\, 5\\Omega = 0.25\\cdot 5\\mathrm{W} = 1.25\\mathrm{W}$$"
   ]
  },
  {
   "cell_type": "code",
   "execution_count": 14,
   "id": "995ff9dc",
   "metadata": {},
   "outputs": [
    {
     "data": {
      "text/plain": [
       "True"
      ]
     },
     "execution_count": 14,
     "metadata": {},
     "output_type": "execute_result"
    }
   ],
   "source": [
    "1.25+5+11.25 == 15+2.5"
   ]
  }
 ],
 "metadata": {
  "kernelspec": {
   "display_name": "Python 3",
   "language": "python",
   "name": "python3"
  },
  "language_info": {
   "codemirror_mode": {
    "name": "ipython",
    "version": 3
   },
   "file_extension": ".py",
   "mimetype": "text/x-python",
   "name": "python",
   "nbconvert_exporter": "python",
   "pygments_lexer": "ipython3",
   "version": "3.8.10"
  }
 },
 "nbformat": 4,
 "nbformat_minor": 5
}
