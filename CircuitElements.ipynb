{
 "cells": [
  {
   "cell_type": "markdown",
   "id": "b4f3b858",
   "metadata": {},
   "source": [
    "# Circuit Theory - Jerzy Rutkowski\n",
    "### *Chapter 2 - DC Analysis*"
   ]
  },
  {
   "cell_type": "markdown",
   "id": "bf6d26db",
   "metadata": {},
   "source": [
    "These are the so called drill problems found in Jerzy Rutkowski's online text book about circuit theory."
   ]
  },
  {
   "cell_type": "code",
   "execution_count": 9,
   "id": "82655a49",
   "metadata": {},
   "outputs": [],
   "source": [
    "import numpy as np\n",
    "import matplotlib.pyplot as plt"
   ]
  },
  {
   "cell_type": "markdown",
   "id": "51abf2af",
   "metadata": {},
   "source": [
    "## *Chapter 2.1* - Circuit Elements"
   ]
  },
  {
   "cell_type": "markdown",
   "id": "42be06fc",
   "metadata": {},
   "source": [
    "**Problem 1**:  \n",
    "\n",
    "The resistance is $R=10\\Omega$.  The power from zero to one seconds is $P=IE=10\\mathrm{W}$.  And, the work down over that time interval is $W_1 = 10\\mathrm{J}$."
   ]
  },
  {
   "cell_type": "markdown",
   "id": "002994e7",
   "metadata": {},
   "source": [
    "For the second current (the one that's plotted on the right hand side of the figure),  \n",
    "\n",
    "$$ I:= I(t) = 5\\mathrm{s}^{-1}t \\;\\mathrm{A}$$\n",
    "\n",
    "$$ E:=E(t) = 10\\Omega \\cdot I(t) = 50\\mathrm{s}^{-1}t \\; \\mathrm{V}$$\n",
    "\n",
    "$$ P = IE = I^2R = 250t^2\\;\\mathrm{W}$$"
   ]
  },
  {
   "cell_type": "markdown",
   "id": "828f25a6",
   "metadata": {},
   "source": [
    "$$ \\Delta W = \\int_0^1 P \\cdot\\mathrm{d}t = \\frac{250}{3}\\,\\mathrm{J}$$"
   ]
  },
  {
   "cell_type": "markdown",
   "id": "8fb3fd2a",
   "metadata": {},
   "source": [
    "**Problem 2:**  \n",
    "\n",
    "For the left hand current:  the total energy *absorbed* is 10 joules while the totel energy *supplied* is negative 10 joules."
   ]
  },
  {
   "cell_type": "markdown",
   "id": "456a05ee",
   "metadata": {},
   "source": [
    "For the right hand side:  \n",
    "\n",
    "$$ P := P(t) = 50t \\; \\mathrm{W}$$\n",
    "\n",
    "$$ \\Delta W = 25 \\mathrm{J}$$"
   ]
  },
  {
   "cell_type": "markdown",
   "id": "c88e9c44",
   "metadata": {},
   "source": [
    "The energy *absorbed* is $25\\mathrm{J}$ while the energy supplied is $-25\\mathrm{J}$.."
   ]
  },
  {
   "cell_type": "markdown",
   "id": "423825a6",
   "metadata": {},
   "source": [
    "**Problem 3:**  \n",
    "\n",
    "A heater (resistor) rated $200\\mathrm{V}$ and $100\\mathrm{W}$ is connected to $100\\mathrm{V}$ DC supply. Find energyabsorbed in 5 hours. If electric energy costs 10 cents/kW∙h, find the cost of heating during\n",
    "the entire 5 hours?"
   ]
  },
  {
   "cell_type": "markdown",
   "id": "43b93bc6",
   "metadata": {},
   "source": [
    "$$ R = \\frac{200^2\\mathrm{V}^2}{100\\mathrm{W}} = 400\\Omega$$"
   ]
  },
  {
   "cell_type": "code",
   "execution_count": 3,
   "id": "55e19f5b",
   "metadata": {},
   "outputs": [],
   "source": [
    "R = 200**2/100"
   ]
  },
  {
   "cell_type": "markdown",
   "id": "785acd21",
   "metadata": {},
   "source": [
    "$$ P = \\frac{E^2}{R} = 25\\mathrm{W} $$"
   ]
  },
  {
   "cell_type": "code",
   "execution_count": 4,
   "id": "51656fb2",
   "metadata": {},
   "outputs": [
    {
     "data": {
      "text/plain": [
       "25.0"
      ]
     },
     "execution_count": 4,
     "metadata": {},
     "output_type": "execute_result"
    }
   ],
   "source": [
    "E = 100\n",
    "P = E**2/R\n",
    "P"
   ]
  },
  {
   "cell_type": "markdown",
   "id": "972ebac0",
   "metadata": {},
   "source": [
    "Since the power is given by:  \n",
    "\n",
    "$$ P = \\frac{\\Delta W}{\\Delta t}$$"
   ]
  },
  {
   "cell_type": "markdown",
   "id": "b04d45a3",
   "metadata": {},
   "source": [
    "The energy absorbed over 5 hours is given by:  \n",
    "\n",
    "$$ \\Delta t = 5 \\cdot 60^2 \\mathrm{s}$$\n",
    "\n",
    "$$ \\Delta W = P \\cdot \\Delta t = 25\\mathrm{W}\\cdot 5\\cdot60^2\\mathrm{s} = 450\\mathrm{kJ}$$"
   ]
  },
  {
   "cell_type": "code",
   "execution_count": 5,
   "id": "62335523",
   "metadata": {},
   "outputs": [
    {
     "data": {
      "text/plain": [
       "450000"
      ]
     },
     "execution_count": 5,
     "metadata": {},
     "output_type": "execute_result"
    }
   ],
   "source": [
    "W = 25*5*60**2\n",
    "W"
   ]
  },
  {
   "cell_type": "markdown",
   "id": "53eb05be",
   "metadata": {},
   "source": [
    "The energy costs in cents per $\\mathrm{W}\\cdot\\mathrm{s}$ is:  \n",
    "\n",
    "$$ 10\\,\\frac{\\text{cents}}{\\mathrm{kW}\\cdot\\mathrm{h}} = \\frac{10}{1000 \\cdot 60^2}\\,\\frac{\\text{cents}}{\\mathrm{W}\\cdot\\mathrm{s}} \\approxeq 2.78 \\cdot 10^{-6} \\, \\frac{\\text{cents}}{\\mathrm{W}\\cdot\\mathrm{s}} = 2.78 \\frac{\\text{cents}}{\\mathrm{MW}\\cdot\\mathrm{s}}$$"
   ]
  },
  {
   "cell_type": "code",
   "execution_count": 7,
   "id": "61a992d2",
   "metadata": {},
   "outputs": [
    {
     "data": {
      "text/plain": [
       "1.25"
      ]
     },
     "execution_count": 7,
     "metadata": {},
     "output_type": "execute_result"
    }
   ],
   "source": [
    "W*10/(1000*60**2)"
   ]
  },
  {
   "cell_type": "markdown",
   "id": "73b65bfa",
   "metadata": {},
   "source": [
    "The total cost of energy over this time period is thus:  \n",
    "\n",
    "$$ 2.78\\cdot10^{-6}\\frac{\\text{cents}}{\\mathrm{W}\\cdot\\mathrm{s}} \\cdot 450\\mathrm{kJ} = 1.25 \\;\\text{cents}$$"
   ]
  },
  {
   "cell_type": "markdown",
   "id": "85f8eedf",
   "metadata": {},
   "source": [
    "**Problem 8:**  \n",
    "\n",
    "If the voltage across an element is $10 \\mathrm{V}$ and the current $i$ entering the positive terminal is\n",
    "as shown, find the power delivered to the element at $4\\mathrm{s}$ and the total energy delivered\n",
    "between $0$ and $5$ $\\mathrm{s}$."
   ]
  },
  {
   "cell_type": "markdown",
   "id": "99655425",
   "metadata": {},
   "source": [
    "The first and second parts of the plotted function, denoted as '$i_1$' and '$i_2$' respectively, are given by:\n",
    "\n",
    "$$ i_1 := i_1(t) = 0.5t \\;\\mathrm{mA}\\quad\\text{where } t < 2\\mathrm{s}$$\n",
    "\n",
    "and,\n",
    "\n",
    "$$ i_2 = i_2(t) = t + b \\;\\mathrm{mA}\\quad\\text{where } t \\ge 2\\mathrm{s}$$"
   ]
  },
  {
   "cell_type": "markdown",
   "id": "5ea618ed",
   "metadata": {},
   "source": [
    "Here, $b$ is the solution to:  \n",
    "\n",
    "$$ i_2(2)= (2 + b)\\,\\mathrm{mA} = 1\\mathrm{mA}$$\n",
    "\n",
    "$$ 2 + b = 1$$\n",
    "$$ b = -1$$"
   ]
  },
  {
   "cell_type": "markdown",
   "id": "07e2ec5e",
   "metadata": {},
   "source": [
    "Thus,\n",
    "$$ i_2 = t - 1 \\;\\mathrm{mA}\\quad\\text{where } t \\ge 2\\mathrm{s}$$"
   ]
  },
  {
   "cell_type": "markdown",
   "id": "fc454264",
   "metadata": {},
   "source": [
    "Note that $i_1$ and $i_2$ are equal to zero when their respective caveats are not met."
   ]
  },
  {
   "cell_type": "markdown",
   "id": "468f9b42",
   "metadata": {},
   "source": [
    "It now follows that $i=i_1+i_2$."
   ]
  },
  {
   "cell_type": "markdown",
   "id": "d3b35427",
   "metadata": {},
   "source": [
    "The power is given by:  \n",
    "\n",
    "$$ P = 10\\mathrm{V} \\cdot i$$"
   ]
  },
  {
   "cell_type": "markdown",
   "id": "618e8455",
   "metadata": {},
   "source": [
    "Which can be broken down into two parts:  \n",
    "\n",
    "$$ P_1 := P_1(t) = 10\\mathrm{V}\\cdot i_1(t) = 5t \\;\\mathrm{mW}\\quad\\text{where } t < 2\\mathrm{s}$$\n",
    "\n",
    "and,\n",
    "$$ P_2 := P_2(t) = 10\\mathrm{V}\\cdot i_2(t) = 10\\mathrm{mW}\\,(t-1)\\quad\\text{where } t \\ge 2\\mathrm{s} $$"
   ]
  },
  {
   "cell_type": "markdown",
   "id": "9a2f89e5",
   "metadata": {},
   "source": [
    "Since $4\\mathrm{s}>2\\mathrm{s}$,  \n",
    "\n",
    "$$P(4\\mathrm{s}) = P_2(4\\mathrm{s}) = 30\\mathrm{mW}$$"
   ]
  },
  {
   "cell_type": "markdown",
   "id": "4043de96",
   "metadata": {},
   "source": [
    "The energy delivered between the interval $[0,5]\\mathrm{s}$, denoted as '$\\Delta W$', is given by:  \n",
    "\n",
    "$$ \\Delta W = \\int_{0\\mathrm{s}}^{5\\mathrm{s}}P\\cdot\\mathrm{d}t = \\int_{0\\mathrm{s}}^{2\\mathrm{s}}P_1\\cdot\\mathrm{d}t + \\int_{2\\mathrm{s}}^{5\\mathrm{s}}P_2\\cdot\\mathrm{d}t $$"
   ]
  },
  {
   "cell_type": "markdown",
   "id": "9b6ed58e",
   "metadata": {},
   "source": [
    "The primitive integrals are:  \n",
    "\n",
    "$$ \\int P_1\\cdot\\mathrm{d}t = (2.5t^2 + K_1)\\,\\mathrm{mW} $$\n",
    "\n",
    "$$ \\int P_2\\cdot\\mathrm{d}t = (5t^2 - 10t + K_2)\\,\\mathrm{mW}$$"
   ]
  },
  {
   "cell_type": "markdown",
   "id": "556a1256",
   "metadata": {},
   "source": [
    "Thus,\n",
    "$$ \\Delta W = \\frac{5}{2}\\,4\\mathrm{mJ} + (125 - 50)\\,\\mathrm{mJ} - (20 - 20)\\,\\mathrm{mJ} = (10 + 75)\\,\\mathrm{mJ} = 85\\mathrm{mJ}$$"
   ]
  },
  {
   "cell_type": "markdown",
   "id": "56ab7d68",
   "metadata": {},
   "source": [
    "**Problem 9:**  \n",
    "\n",
    "If the function applied in Problem 2.1.8 is the voltage $u$ in volts and the current entering\n",
    "the positive terminal is $2 \\mathrm{mA}$, find the power delivered to the element at $t= 4\\mathrm{s}$ and the\n",
    "total energy delivered between $0$ and $15$ $\\mathrm{s}$"
   ]
  },
  {
   "cell_type": "markdown",
   "id": "8f239af6",
   "metadata": {},
   "source": [
    "$$ u = u_1 + u_2$$\n",
    "\n",
    "The first and second parts of the plotted function, denoted as '$u_1$' and '$u_2$' respectively, are given by:\n",
    "\n",
    "$$ u_1 := u_1(t) = 0.5\\mathrm{s}^{-1}\\mathrm{V}\\,t \\quad\\text{where } t < 2\\mathrm{s}$$\n",
    "\n",
    "and,\n",
    "\n",
    "$$ u_2 = u_2(t) = (\\mathrm{s}^{-1}\\,t -1) \\,\\mathrm{V}\\quad\\text{where } t \\ge 2\\mathrm{s}$$"
   ]
  },
  {
   "cell_type": "markdown",
   "id": "617088b0",
   "metadata": {},
   "source": [
    "Note that $u_1$ and $u_2$ are equal to zero when their respective caveats are not met."
   ]
  },
  {
   "cell_type": "markdown",
   "id": "dd0ef6d1",
   "metadata": {},
   "source": [
    "The power is given by:  \n",
    "\n",
    "$$ P = P_1 + P_2$$\n",
    "\n",
    "where,  \n",
    "\n",
    "$$ P_1 = 2\\mathrm{mA}\\cdot u_1 = \\frac{\\mathrm{mW}}{\\mathrm{s}}\\,t \\quad\\text{where } t < 2\\mathrm{s} $$\n",
    "\n",
    "and,\n",
    "\n",
    "$$ P_2 = 2\\mathrm{mA}\\cdot u_2 = 2\\mathrm{mW}\\,(\\mathrm{s}^{-1}t - 1) \\quad\\text{where } t \\ge 2\\mathrm{s}$$"
   ]
  },
  {
   "cell_type": "markdown",
   "id": "3a531396",
   "metadata": {},
   "source": [
    "And the power at $4\\mathrm{s}$ is:  \n",
    "\n",
    "$$ P(4\\mathrm{s}) = P_2(4\\mathrm{s}) = 6\\mathrm{mW}$$"
   ]
  },
  {
   "cell_type": "markdown",
   "id": "8736847c",
   "metadata": {},
   "source": [
    "The energy delivered between the interval $[0,15]\\mathrm{s}$, denoted as '$\\Delta W$', is given by:  \n",
    "\n",
    "$$ \\Delta W = \\int_{0\\mathrm{s}}^{15\\mathrm{s}}P\\cdot\\mathrm{d}t = \\int_{0\\mathrm{s}}^{2\\mathrm{s}}P_1\\cdot\\mathrm{d}t + \\int_{2\\mathrm{s}}^{15\\mathrm{s}}P_2\\cdot\\mathrm{d}t $$"
   ]
  },
  {
   "cell_type": "markdown",
   "id": "9c630abb",
   "metadata": {},
   "source": [
    "The primitive integrals are:  \n",
    "\n",
    "$$ \\int P_1 \\cdot\\mathrm{d}t = \\left(\\frac{1}{2\\mathrm{s}}\\,t^2 + K_1\\right)\\mathrm{mW}$$\n",
    "\n",
    "and,\n",
    "$$  \\int P_2 \\cdot\\mathrm{d}t  = (\\mathrm{s}^{-1}\\,t^2 - 2t + K_2)\\,\\mathrm{mW}$$"
   ]
  },
  {
   "cell_type": "markdown",
   "id": "eca47f64",
   "metadata": {},
   "source": [
    "Thus,\n",
    "$$ \\Delta W = 2\\mathrm{mJ} + (15^2 - 30)\\,\\mathrm{mJ} - (4 - 4)\\,\\mathrm{mJ} = 197\\mathrm{mJ} $$"
   ]
  },
  {
   "cell_type": "code",
   "execution_count": 8,
   "id": "7b04b838",
   "metadata": {},
   "outputs": [
    {
     "data": {
      "text/plain": [
       "195"
      ]
     },
     "execution_count": 8,
     "metadata": {},
     "output_type": "execute_result"
    }
   ],
   "source": [
    "15**2 - 30"
   ]
  },
  {
   "cell_type": "markdown",
   "id": "62bda8e5",
   "metadata": {},
   "source": [
    "**Problem 10:**  \n",
    "\n",
    "The current entering the positive terminal of a $10\\mathrm{V}$ battery rises linearly from $2$ to $10$\n",
    "$\\mathrm{mA}$ between and minutes. How much charge passes through the battery\n",
    "during the first 5 minutes ($300\\mathrm{s}$) ? What is the power absorbed at minutes and\n",
    "minutes ? What is the energy supplied during the first 5 minutes and during the entire 10\n",
    "minutes ?"
   ]
  },
  {
   "cell_type": "markdown",
   "id": "728ad0a5",
   "metadata": {},
   "source": [
    "**Problem 12:**  \n",
    "\n",
    "The energy ($w$) absorbed by a two-terminal device is shown. If the voltage across the device\n",
    "is $u = 10\\mathrm{V}\\,\\cos(\\omega t)$, where $\\omega = \\pi\\mathrm{ms}^{-1}$, find the current entering the positive terminal at $(1,2,3)\\mathrm{ms}$ (current and voltage satisfy the passive sign convention)."
   ]
  },
  {
   "cell_type": "markdown",
   "id": "44817dee",
   "metadata": {},
   "source": [
    "$$ w:=w(t) = 5\\mathrm{W}\\,t \\quad\\text{where }0\\le t < 2\\mathrm{ms}$$\n",
    "\n",
    "$$ w:=w(t) = 10\\mathrm{mJ}\\quad\\text{where }2\\le t < 4\\mathrm{ms}$$\n",
    "\n",
    "$$ w:=w(t)=-5\\mathrm{W}\\,(t - 6\\mathrm{ms}) \\quad\\text{where }4\\le t < 6\\mathrm{ms}$$"
   ]
  },
  {
   "cell_type": "markdown",
   "id": "4aa0bbcf",
   "metadata": {},
   "source": [
    "Recall that:  \n",
    "\n",
    "$$ w = w(t) = \\int_0^t P \\cdot \\mathrm{d}t$$"
   ]
  },
  {
   "cell_type": "markdown",
   "id": "1b3344e5",
   "metadata": {},
   "source": [
    "Differentiating throughout both sides with respect to time gives:  \n",
    "\n",
    "$$ P =iu= w'(t) = \\begin{cases}\n",
    "5\\mathrm{W}&\\quad\\text{if }0\\le t < 2\\mathrm{ms} \\\\\n",
    "0\\mathrm{W}&\\quad\\text{if }2\\mathrm{ms}\\le t < 4\\mathrm{ms} \\\\\n",
    "-5\\mathrm{W}&\\quad\\text{if }4\\mathrm{ms}\\le t < 6\\mathrm{ms}\n",
    "\\end{cases}$$"
   ]
  },
  {
   "cell_type": "markdown",
   "id": "d84e2683",
   "metadata": {},
   "source": [
    "Dividing throughout by $u$ gives the current:  \n",
    "\n",
    "$$ i :=i(t)=  \\begin{cases}\n",
    "0.5\\mathrm{A}\\,\\sec(\\omega t)&\\quad\\text{if }0\\le t < 2\\mathrm{ms} \\\\\n",
    "0\\mathrm{A}&\\quad\\text{if }2\\mathrm{ms}\\le t < 4\\mathrm{ms} \\\\\n",
    "-0.5\\mathrm{A}\\,\\sec(\\omega t)&\\quad\\text{if }4\\mathrm{ms}\\le t < 6\\mathrm{ms}\n",
    "\\end{cases}$$"
   ]
  },
  {
   "cell_type": "markdown",
   "id": "741ed8b2",
   "metadata": {},
   "source": [
    "$$ i(1\\mathrm{ms}) = 0.5\\mathrm{A}\\,\\sec(\\pi) = -0.5\\mathrm{A}$$"
   ]
  },
  {
   "cell_type": "markdown",
   "id": "a38ed950",
   "metadata": {},
   "source": [
    "$$ i(2\\mathrm{ms}), i(3\\mathrm{ms}) = 0$$"
   ]
  },
  {
   "cell_type": "markdown",
   "id": "e1375c4e",
   "metadata": {},
   "source": [
    "This may be trivial, but the frequency ($f$) and period ($p$) are given by:  \n",
    "\n",
    "$$ \\omega = 2\\pi f = \\frac{\\pi}{\\mathrm{ms}}$$"
   ]
  },
  {
   "cell_type": "markdown",
   "id": "f31dfdda",
   "metadata": {},
   "source": [
    "Dividing throughout by $2\\pi$ gives:  \n",
    "\n",
    "$$ f = \\frac{1\\,\\text{cycle}}{2\\mathrm{ms}}$$"
   ]
  },
  {
   "cell_type": "markdown",
   "id": "b41136ae",
   "metadata": {},
   "source": [
    "And,\n",
    "$$ p = \\frac{1}{f} = 2\\mathrm{ms}$$"
   ]
  },
  {
   "cell_type": "markdown",
   "id": "11a3d8f5",
   "metadata": {},
   "source": [
    "At $t=0.25p=0.5\\mathrm{ms}$ and $t=0.75p=1.5\\mathrm{ms}$ the voltage is equal to zero, while the current is undefined (divide by zero error).  This implies that the current approaches infinity amps as the time approaches these values."
   ]
  },
  {
   "cell_type": "code",
   "execution_count": 10,
   "id": "68bd421b",
   "metadata": {},
   "outputs": [],
   "source": [
    "# Herein is a plot of the above quantities over time.\n",
    "t = np.linspace(0, 2, num=66)\n",
    "u = 10*np.cos(np.pi*t)"
   ]
  },
  {
   "cell_type": "markdown",
   "id": "74dd44f0",
   "metadata": {},
   "source": [
    "**Problem 15:**  \n",
    "\n",
    "The voltage across an element is a constant $15 \\mathrm{V}$. The current leaving the positive\n",
    "terminal is $i=10\\mathrm{A}\\,\\big(1-\\sin(\\omega t) \\big)$, where the angular velocity ($\\omega$) is $\\omega = 2\\pi\\mathrm{s}^{-1}$. Find the instantaneous power, denoted as '$p$', and sketch it in the\n",
    "interval from $0$ to $1$ $\\mathrm{s}$. Is this element active or passive? Calculate the energy received or\n",
    "delivered by the element in the interval from $0.5$ to $1$ $\\mathrm{s}$."
   ]
  },
  {
   "cell_type": "markdown",
   "id": "76220784",
   "metadata": {},
   "source": [
    "The power is given by:  \n",
    "\n",
    "$$ p:=p(t) = 15\\mathrm{V}\\cdot i = 150\\mathrm{W}\\,\\big(1-\\sin(\\omega t) \\big)$$"
   ]
  },
  {
   "cell_type": "markdown",
   "id": "6036076e",
   "metadata": {},
   "source": [
    "The element is active.  The current is *leaving* the positive terminal, implying the passive sign convention is *not* satisfied;  This, in conjunction with the fact that the instantaneous power ($p$) is always non-negative, means the element is active and suppying power except when $p=0$."
   ]
  },
  {
   "cell_type": "markdown",
   "id": "a48211cc",
   "metadata": {},
   "source": [
    "The energy delivered by the element from $0.5$ to $1$ second, denoted as '$\\Delta W'$, is given by:  \n",
    "\n",
    "$$ \\Delta W = \\int_{0.5\\mathrm{s}}^{1\\mathrm{s}} p\\cdot\\mathrm{d}t$$"
   ]
  },
  {
   "cell_type": "markdown",
   "id": "96638c1f",
   "metadata": {},
   "source": [
    "The primitive integral of $p$ is:  \n",
    "\n",
    "$$ \\int p \\cdot \\mathrm{d}t = 150\\mathrm{W}\\left(t + \\frac{1}{\\omega}\\,\\cos(\\omega t) + K\\right)$$"
   ]
  },
  {
   "cell_type": "markdown",
   "id": "09098a92",
   "metadata": {},
   "source": [
    "Thus,  \n",
    "\n",
    "$$ \\Delta W = 150\\mathrm{J}\\,\\left(1 + \\frac{1}{2\\pi} - 0.5 + \\frac{1}{2\\pi} \\right) = 150\\mathrm{J}\\left(0.5 + \\frac{1}{\\pi} \\right)$$"
   ]
  },
  {
   "cell_type": "code",
   "execution_count": 12,
   "id": "3bfccb2b",
   "metadata": {},
   "outputs": [
    {
     "data": {
      "text/plain": [
       "122.74648292756861"
      ]
     },
     "execution_count": 12,
     "metadata": {},
     "output_type": "execute_result"
    }
   ],
   "source": [
    "(0.5 + 1/np.pi)*150"
   ]
  },
  {
   "cell_type": "code",
   "execution_count": 13,
   "id": "54a63b9b",
   "metadata": {
    "code_folding": [
     0
    ]
   },
   "outputs": [
    {
     "data": {
      "text/plain": [
       "[<matplotlib.lines.Line2D at 0x7f45b079aee0>]"
      ]
     },
     "execution_count": 13,
     "metadata": {},
     "output_type": "execute_result"
    },
    {
     "data": {
      "image/png": "[encoded data removed]",
      "text/plain": [
       "<Figure size 936x360 with 1 Axes>"
      ]
     },
     "metadata": {
      "needs_background": "light"
     },
     "output_type": "display_data"
    }
   ],
   "source": [
    "# Plot the power.\n",
    "t = np.linspace(0,1,num=100)\n",
    "omega = 2*np.pi\n",
    "p = 150*(1-np.sin(omega * t))\n",
    "\n",
    "# Create the figure and axes objects.\n",
    "fig, ax = plt.subplots(figsize=(13, 5))\n",
    "ax.set_xlabel('time (s)')\n",
    "ax.set_ylabel('power (W)')\n",
    "ax.grid()\n",
    "\n",
    "# Plot the power as a function of time.\n",
    "ax.plot(t, p)"
   ]
  },
  {
   "cell_type": "markdown",
   "id": "0e140290",
   "metadata": {},
   "source": [
    "The energy delivered during the first half-second is given by:  \n",
    "\n",
    "$$ \\Delta W_2 = \\int_{0\\mathrm{s}}^{0.5\\mathrm{s}} p \\cdot \\mathrm{d} t$$"
   ]
  },
  {
   "cell_type": "markdown",
   "id": "3dc1de5d",
   "metadata": {},
   "source": [
    "$$ \\Delta W_2 = 150\\mathrm{J}\\,\\left(0.5 - \\frac{1}{2\\pi} - \\frac{1}{2\\pi} \\right) = 150\\mathrm{J}\\left(0.5 - \\frac{1}{\\pi}\\right)$$"
   ]
  },
  {
   "cell_type": "code",
   "execution_count": 14,
   "id": "7c37d410",
   "metadata": {},
   "outputs": [
    {
     "data": {
      "text/plain": [
       "27.253517072431396"
      ]
     },
     "execution_count": 14,
     "metadata": {},
     "output_type": "execute_result"
    }
   ],
   "source": [
    "150*(0.5-1/np.pi)"
   ]
  }
 ],
 "metadata": {
  "kernelspec": {
   "display_name": "Python 3",
   "language": "python",
   "name": "python3"
  },
  "language_info": {
   "codemirror_mode": {
    "name": "ipython",
    "version": 3
   },
   "file_extension": ".py",
   "mimetype": "text/x-python",
   "name": "python",
   "nbconvert_exporter": "python",
   "pygments_lexer": "ipython3",
   "version": "3.8.10"
  }
 },
 "nbformat": 4,
 "nbformat_minor": 5
}
