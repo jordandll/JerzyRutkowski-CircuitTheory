{
 "cells": [
  {
   "cell_type": "markdown",
   "id": "9565e549",
   "metadata": {},
   "source": [
    "# Two-Terminal Subcircuit, Thevenin’s/Norton’s Theorem\n",
    "\n",
    "### *Chapter 2.5* - DC Analysis"
   ]
  },
  {
   "cell_type": "markdown",
   "id": "f72a9fc4",
   "metadata": {},
   "source": [
    "## Passive Two-Terminal Subcircuit\n",
    "\n",
    "A passive two-terminal subcircuit, a subcircuit built of resistors, connected with the rest of a\n",
    "circuit in two terminal nodes is presented in Fig. 2.5.1."
   ]
  },
  {
   "cell_type": "markdown",
   "id": "f4b84ef1",
   "metadata": {},
   "source": [
    "It can be easily proven, that for any linear passive two-terminal subcircuit its equivalent or total resistance ($R_\\mathrm{t}$) can be found. The subcircuit is characterized by Ohm’s law:  \n",
    "\n",
    "\\begin{equation}\\tag{1a}\n",
    "    U = R_\\mathrm{t}I\n",
    "\\end{equation}    "
   ]
  },
  {
   "cell_type": "markdown",
   "id": "0d5d6144",
   "metadata": {},
   "source": [
    "and,\n",
    "\\begin{equation}\\tag{1b}\n",
    "    I = G_\\mathrm{t}U\n",
    "\\end{equation}    "
   ]
  },
  {
   "cell_type": "markdown",
   "id": "c3191214",
   "metadata": {},
   "source": [
    "Series and parallel connection of resistors are the special cases."
   ]
  },
  {
   "cell_type": "markdown",
   "id": "0ef6fde5",
   "metadata": {},
   "source": [
    "#### Series connection of resistors, Voltage divider\n",
    "\n",
    "Consider arrangement of resistors so that the same current passes through each resistor, the so\n",
    "called series connection, as depicted in Fig. 2.5.2.  \n",
    "\n",
    "![Fig-2.5.2](Figures/Fig-2.5.2.png)"
   ]
  },
  {
   "cell_type": "markdown",
   "id": "905f1f37",
   "metadata": {},
   "source": [
    "Via KVL and Ohm's Law,  \n",
    "\n",
    "\\begin{equation}\\tag{2}\n",
    "    U  =\\sum_{i=1}^N U_i = I\\sum_{i=1}^N R_i = R_\\mathrm{t}I\n",
    "\\end{equation}    "
   ]
  },
  {
   "cell_type": "markdown",
   "id": "a16023dc",
   "metadata": {},
   "source": [
    "The total resistance is given by:  \n",
    "\n",
    "\\begin{equation}\\tag{2a}\n",
    "    R_\\mathrm{t} = \\sum_{i=1}^N R_i\n",
    "\\end{equation}    "
   ]
  },
  {
   "cell_type": "markdown",
   "id": "0b5de4a7",
   "metadata": {},
   "source": [
    "A circuit of series resistors divides the input voltage by the ratio of the resistance to the total\n",
    "resistance.  \n",
    "\n",
    "\\begin{equation}\\tag{3}\n",
    "    U_i = U\\,\\frac{R_i}{R_\\mathrm{t}}\n",
    "\\end{equation}    "
   ]
  },
  {
   "cell_type": "markdown",
   "id": "cd4f9324",
   "metadata": {},
   "source": [
    "Proof:  \n",
    "\n",
    "Via Ohm's Law and dividing throughout by the resistance of the two termianl subcircuit in question,  \n",
    "\n",
    "$$ I = \\frac{U}{R_\\mathrm{t}}$$"
   ]
  },
  {
   "cell_type": "markdown",
   "id": "af3520d8",
   "metadata": {},
   "source": [
    "and,\n",
    "$$ I = \\frac{U_i}{R_i}$$"
   ]
  },
  {
   "cell_type": "markdown",
   "id": "e7f9e7ea",
   "metadata": {},
   "source": [
    "Via the above two equations and equivalence principle,  \n",
    "\n",
    "$$ \\frac{U}{R_\\mathrm{t}} = \\frac{U_i}{R_i}$$"
   ]
  },
  {
   "cell_type": "markdown",
   "id": "86220dd0",
   "metadata": {},
   "source": [
    "Thus,\n",
    "$$ U_i = U\\,\\frac{R_i}{R_\\mathrm{t}}$$"
   ]
  },
  {
   "cell_type": "markdown",
   "id": "f616cc55",
   "metadata": {},
   "source": [
    "Q.E.D."
   ]
  },
  {
   "cell_type": "markdown",
   "id": "dbd32c46",
   "metadata": {},
   "source": [
    "#### Parallel connection of resistors, Current divider\n",
    "\n",
    "Consider arrangement of resistors so that each resistor has the same voltage, the so called\n",
    "parallel connection, as depicted in Fig. 2.5.3.  \n",
    "\n",
    "![Fig - 2.5.3](Figures/Fig-2.5.3.png)"
   ]
  },
  {
   "cell_type": "markdown",
   "id": "4dc12060",
   "metadata": {},
   "source": [
    "Via KCL and Ohm's Law,  \n",
    "\n",
    "\\begin{equation}\\tag{4}\n",
    "    I = \\sum_{i=1}^N I_i = U\\sum_{i=1}^N G_i = UG_\\mathrm{t}\n",
    "\\end{equation}    "
   ]
  },
  {
   "cell_type": "markdown",
   "id": "2dbb6d17",
   "metadata": {},
   "source": [
    "where the total conductance ($G_\\mathrm{t}$) is given by:  \n",
    "\n",
    "\\begin{equation}\\tag{4a}\n",
    "    G_\\mathrm{t} =\\sum_{i=1}^N G_i\n",
    "\\end{equation}    "
   ]
  },
  {
   "cell_type": "markdown",
   "id": "2c44c53a",
   "metadata": {},
   "source": [
    "A circuit of parallel resistors divides the input current by the ratio of the conductance ($G_i$) to the\n",
    "total conductance,  \n",
    "\n",
    "\\begin{equation}\\tag{5}\n",
    "    I_i = I\\,\\frac{G_i}{G_\\mathrm{t}}\n",
    "\\end{equation}    "
   ]
  },
  {
   "cell_type": "markdown",
   "id": "a56c8648",
   "metadata": {},
   "source": [
    "Proof:  \n",
    "\n",
    "Via equation (4),  \n",
    "\n",
    "$$ U = \\frac{I}{G_\\mathrm{t}}$$"
   ]
  },
  {
   "cell_type": "markdown",
   "id": "53f54786",
   "metadata": {},
   "source": [
    "Via Ohm's law,  \n",
    "\n",
    "$$ U = \\frac{I_i}{G_i}$$"
   ]
  },
  {
   "cell_type": "markdown",
   "id": "57470920",
   "metadata": {},
   "source": [
    "Via the above two equations and equivalence principle we get equation (5).  Q.E.D."
   ]
  },
  {
   "cell_type": "markdown",
   "id": "287d70e5",
   "metadata": {},
   "source": [
    "Given that the total resistance ($R_\\mathrm{t}$) of a parallel connection of resistors (a current divider) is equal to the reciprocal of the total conductance, the total resistance is given by:  \n",
    "\n",
    "$$ G_\\mathrm{t} = \\sum_{i=1}^N \\frac{1}{R_i}$$"
   ]
  },
  {
   "cell_type": "markdown",
   "id": "3118544a",
   "metadata": {},
   "source": [
    "$$ R_\\mathrm{t} = \\frac{1}{G_\\mathrm{t}}$$"
   ]
  },
  {
   "cell_type": "markdown",
   "id": "f680d88f",
   "metadata": {},
   "source": [
    "For example, consider the two-resistor current divider depicted in figure 2.5.3a below.  \n",
    "\n",
    "![Fig - 2.5.3a](Figures/Fig-2.5.3a.png)"
   ]
  },
  {
   "cell_type": "markdown",
   "id": "a547e8aa",
   "metadata": {},
   "source": [
    "$$ I = U\\left(\\frac{1}{R_1} + \\frac{1}{R_2}\\right) = U\\,\\frac{R_2 + R_1}{R_1R_2}$$"
   ]
  },
  {
   "cell_type": "markdown",
   "id": "beffbd72",
   "metadata": {},
   "source": [
    "Via equation (5),  \n",
    "\n",
    "$$ I_1 = I\\,\\frac{1}{R_1}\\,\\frac{R_1R_2}{R_2+R_1} = I\\,\\frac{R_2}{R_1+R_2}$$"
   ]
  },
  {
   "cell_type": "markdown",
   "id": "1af3badd",
   "metadata": {},
   "source": [
    "and,\n",
    "$$ I_2 = I\\,\\frac{R_1}{R_1+R_2}$$"
   ]
  },
  {
   "cell_type": "markdown",
   "id": "6d7a78db",
   "metadata": {},
   "source": [
    "For the given resistive two-terminal subcircuit the total resistance can be: `a)` calculated or `b)`\n",
    "measured.\n",
    "\n",
    "    a) Subcircuit diagram should be given and the total resistance can be normally found by\n",
    "    parallel and series connections of resistors. In some cases, wye-delta or delta-wye\n",
    "    conversion of three resistors is necessary. This exceptional cases are not discussed.\n",
    "    "
   ]
  },
  {
   "cell_type": "markdown",
   "id": "bc1e1d1b",
   "metadata": {},
   "source": [
    "    b) Subcircuit diagram may not be given and the total resistance can be measured by\n",
    "    means of the external source. Fig. 2.5.4 presents two possible measurement circuits."
   ]
  },
  {
   "cell_type": "markdown",
   "id": "51df03ca",
   "metadata": {},
   "source": [
    "In case of ideal meters, their readings, denoted as '$U_\\mathrm{V}$' for the voltmeter reading and '$I_\\mathrm{A}$' for the ammeter reading, are the subcircuit current and voltage. Then,  \n",
    "\n",
    "\\begin{equation}\\tag{6}\n",
    "    R_\\mathrm{t} = \\frac{U}{I} = \\frac{U_\\mathrm{V}}{I_\\mathrm{A}}\n",
    "\\end{equation}    "
   ]
  },
  {
   "cell_type": "markdown",
   "id": "99a4e186",
   "metadata": {},
   "source": [
    "![Fig-2.5.4](Figures/Fig-2.5.4.png)"
   ]
  },
  {
   "cell_type": "markdown",
   "id": "80deb7ea",
   "metadata": {},
   "source": [
    "In case of practical meters, their resistances ($R_\\mathrm{V}$ and $R_\\mathrm{A}$) have to be taken into account, and then, only current or only voltage is measured correctly. Thus, respectively:  \n",
    "\n",
    "Via KVL,\n",
    "$$ U + R_\\mathrm{A}I_\\mathrm{A} - U_\\mathrm{V} = 0$$\n",
    "\n",
    "\\begin{equation}\\tag{7a.1}\n",
    "    U = U_\\mathrm{V} - R_\\mathrm{A}I\n",
    "\\end{equation}\n",
    "\n",
    "Here,\n",
    "\\begin{equation}\\tag{7a.2}\n",
    "    I = I_\\mathrm{A}\n",
    "\\end{equation}    "
   ]
  },
  {
   "cell_type": "markdown",
   "id": "264af61a",
   "metadata": {},
   "source": [
    "Via KCL,\n",
    "$$  I_\\mathrm{A}- I - I_\\mathrm{V} =  I_\\mathrm{A} - I - U_\\mathrm{V}G_\\mathrm{V} = 0 $$\n",
    "\n",
    "\\begin{equation}\\tag{7b.1}\n",
    "    I = I_\\mathrm{A} - UG_\\mathrm{V}\n",
    "\\end{equation}"
   ]
  },
  {
   "cell_type": "markdown",
   "id": "0c460dff",
   "metadata": {},
   "source": [
    "Here,\n",
    "\\begin{equation}\\tag{7b.2}\n",
    "    U = U_\\mathrm{V}\n",
    "\\end{equation}    "
   ]
  },
  {
   "cell_type": "markdown",
   "id": "6c2d4a31",
   "metadata": {},
   "source": [
    "## Active Two-Terminal Subcircuit\n",
    "\n",
    "An active linear two-terminal subcircuit, a practical linear source or subcircuit built of\n",
    "resistors and linear source(s) is presented in Fig. 2.5.6. It can be proved that such subcircuit is\n",
    "characterized by the relationship $I-U$ depicted in Fig. 2.5.7. This relationship can by\n",
    "described by any of the following two equations:"
   ]
  },
  {
   "cell_type": "markdown",
   "id": "5a60cf98",
   "metadata": {},
   "source": [
    "\\begin{equation}\\tag{8}\n",
    "    U = E_\\mathrm{o} - R_\\mathrm{t}I\n",
    "\\end{equation}    "
   ]
  },
  {
   "cell_type": "markdown",
   "id": "478a9a60",
   "metadata": {},
   "source": [
    "\\begin{equation}\\tag{9}\n",
    "    I = J_\\mathrm{s} - G_\\mathrm{t}U\n",
    "\\end{equation}    "
   ]
  },
  {
   "cell_type": "markdown",
   "id": "64da32af",
   "metadata": {},
   "source": [
    "where,\n",
    "$$ G_\\mathrm{t} = \\frac{1}{R_\\mathrm{t}} = \\frac{\\Delta I}{\\Delta U} = \\frac{J_\\mathrm{s}}{E_\\mathrm{o}}$$"
   ]
  },
  {
   "cell_type": "markdown",
   "id": "5cb950ed",
   "metadata": {},
   "source": [
    "The above caveat follows from the fact that, when $U=0$,  \n",
    "\n",
    "$$ R_\\mathrm{t}I = E_\\mathrm{o}$$"
   ]
  },
  {
   "cell_type": "markdown",
   "id": "869deaf7",
   "metadata": {},
   "source": [
    "$$R_\\mathrm{t} = \\frac{E_\\mathrm{o}}{I}$$"
   ]
  },
  {
   "cell_type": "markdown",
   "id": "9becb3ec",
   "metadata": {},
   "source": [
    "and (assuming $U=0$),\n",
    "$$ I = J_\\mathrm{s} - G_\\mathrm{t}\\cdot 0 = J_\\mathrm{s}$$"
   ]
  },
  {
   "cell_type": "markdown",
   "id": "14f4b547",
   "metadata": {},
   "source": [
    "Via the above two equations and substitution,  \n",
    "\n",
    "$$ R_\\mathrm{t} = \\frac{E_\\mathrm{o}}{J_\\mathrm{s}}$$"
   ]
  },
  {
   "cell_type": "markdown",
   "id": "ff9b8d32",
   "metadata": {},
   "source": [
    "and,\n",
    "$$ G_\\mathrm{t} = \\frac{1}{R_\\mathrm{t}} = \\frac{J_\\mathrm{s}}{E_\\mathrm{o}}$$"
   ]
  },
  {
   "cell_type": "markdown",
   "id": "ff3b881a",
   "metadata": {},
   "source": [
    "The slope or derivative of $I(U)$ is equal to $G_\\mathrm{t}$."
   ]
  },
  {
   "cell_type": "markdown",
   "id": "fda34d81",
   "metadata": {},
   "source": [
    "![Fig-2.5.6](Figures/Fig-2.5.6.png)"
   ]
  },
  {
   "cell_type": "markdown",
   "id": "bc55d4af",
   "metadata": {},
   "source": [
    "Equations (8) and (9) follow from KVL and KCL respectively;  Both rely on Ohm's Law as well.  \n",
    "\n",
    "$$ E_\\mathrm{o} - R_\\mathrm{t}I - U = 0 $$"
   ]
  },
  {
   "cell_type": "markdown",
   "id": "8597e0a7",
   "metadata": {},
   "source": [
    "$$ J_\\mathrm{s} - I - G_\\mathrm{t}U = 0$$"
   ]
  },
  {
   "cell_type": "markdown",
   "id": "b3d5f55b",
   "metadata": {},
   "source": [
    "Now, two theorems can be formulated."
   ]
  },
  {
   "cell_type": "markdown",
   "id": "d5bd0762",
   "metadata": {},
   "source": [
    "### Thevenin’s theorem\n",
    "Any active linear two-terminal subcircuit can be replaced by the equivalent circuit that\n",
    "consists of a series connection of an ideal voltage source $E_\\mathrm{o}$ and a resistance $R_\\mathrm{t}$, where:"
   ]
  },
  {
   "cell_type": "markdown",
   "id": "0da50e2b",
   "metadata": {},
   "source": [
    "* $E_\\mathrm{0}$ is the subcircuit open-circuit voltage, $E_\\mathrm{o} = U\\big|_{I=0}$.\n",
    "* $R_\\mathrm{t}$ is the subcircuit equivalent (internal) resistance."
   ]
  },
  {
   "cell_type": "markdown",
   "id": "92ebdcf0",
   "metadata": {},
   "source": [
    "### Norton’s theorem\n",
    "Any active linear two-terminal subcircuit can be replaced by the equivalent circuit that\n",
    "consists of a parallel connection of an ideal current source $J_\\mathrm{s}$ and a conductance $G_\\mathrm{t}$ , where: "
   ]
  },
  {
   "cell_type": "markdown",
   "id": "0628efbe",
   "metadata": {},
   "source": [
    "* $J_\\mathrm{s}$ is the subcircuit short-circuit current, $J_\\mathrm{s} = I\\big|_{U=0}$.\n",
    "* $G_\\mathrm{s}$ is the subcircuit equivalent (internal) conductance."
   ]
  },
  {
   "cell_type": "markdown",
   "id": "c403bc7a",
   "metadata": {},
   "source": [
    "Note that the definitions of the terms 'open-circuit' and 'short-circuit' are:  \n",
    "\n",
    "* **open-circuit (oc)**:  Condition that exists when the current between two\n",
    "    terminals is zero, irrespective of the voltage across the\n",
    "    terminals\n",
    "* **short-circuit (sc)**:  Condition that exists when the voltage across two\n",
    "    terminals is zero, irrespective of the current between the\n",
    "    two terminals."
   ]
  },
  {
   "cell_type": "markdown",
   "id": "8f77a3ae",
   "metadata": {},
   "source": [
    "Applications of Thevenin’s/Norton’s theorem:\n",
    "1. Linear dc circuit analysis: replacement of a complex two-terminal subcircuit by Thevenin\n",
    "    equivalent or Norton equivalent circuit, what simplifies calculations.\n",
    "2. Designation of the maximum power transfer condition.\n",
    "3. Nonlinear dc circuit analysis: replacement of a linear part by the Thevenin or Norton\n",
    "    equivalent.\n",
    "4. Transient analysis of the 1st order circuit: replacement of a resistive part by the Thevenin\n",
    "    or Norton equivalent."
   ]
  },
  {
   "cell_type": "markdown",
   "id": "642d02ac",
   "metadata": {},
   "source": [
    "Parameters of Thevenin and Norton equivalent circuit can be: 1. calculated or 2. measured:  \n",
    "\n",
    "1. It is assumed that the subcircuit diagram is given.\n",
    "    * To find the open-circuit voltage, subcircuit analysis is performed.\n",
    "    * To find the equivalent resistance, subcircuit source(s) is(are) deactivated at first.\n",
    "        Deactivation (zeroing) of a voltage source means shorting of its terminals, deactivation\n",
    "        of a current source means opening of its terminals. Then, the equivalent resistance can\n",
    "        be found, the same way as for a passive subcircuit,\n",
    "\n",
    "\\begin{equation}\\tag{10}\n",
    "    R_\\mathrm{t} = -\\left(\\frac{U}{I} \\right)_{|E_\\mathrm{o}\\,=\\,0}\n",
    "\\end{equation}    "
   ]
  },
  {
   "cell_type": "markdown",
   "id": "c6854061",
   "metadata": {},
   "source": [
    "2. A circuit is loaded by two different resistances and its current and voltage are measured,\n",
    "    as presented in Fig. 2.5.8 (correct current measurement is applied).\n",
    "    For two different values of the load resistance, $R_{\\mathrm{l}1}$ and $R_{\\mathrm{l}2}$, the current and the voltage are\n",
    "    measured. That way, coordinates of two points on the plot given by $I(U)$ (or $I$ vs. $U$) are given, as presented in\n",
    "    Fig. 2.5.7. These coordinates are set into equation (2.5.15) or (2.5.16), to form a system of\n",
    "    two equations. Then, $R_\\mathrm{t}$ and $E_\\mathrm{o}$ or $G_\\mathrm{t}$ and $J_\\mathrm{s}$ are designated, respectively."
   ]
  },
  {
   "cell_type": "markdown",
   "id": "7332d202",
   "metadata": {},
   "source": [
    "![Fig-2.5.8](Figures/Fig-2.5.8.png)"
   ]
  },
  {
   "cell_type": "markdown",
   "id": "38103d4c",
   "metadata": {},
   "source": [
    "In the special case: $R_{\\mathrm{l}1}$ can be an open-circuit and $R_{\\mathrm{l}2}$ can be a short-circuit."
   ]
  },
  {
   "cell_type": "markdown",
   "id": "c840d712",
   "metadata": {},
   "source": [
    "Via KCL, KVL, and Ohm's Law,  \n",
    "\n",
    "$$ I - G_\\mathrm{V}U_\\mathrm{V} = 0$$"
   ]
  },
  {
   "cell_type": "markdown",
   "id": "69f19386",
   "metadata": {},
   "source": [
    "and,\n",
    "$$ U + R_\\mathrm{A}I + R_\\mathrm{V}I = 0$$"
   ]
  },
  {
   "cell_type": "markdown",
   "id": "80e47fe0",
   "metadata": {},
   "source": [
    "Via the above two equations and substitution,  \n",
    "\n",
    "$$ U + \\frac{R_\\mathrm{A}}{R_\\mathrm{V}}\\,U_\\mathrm{V} + U_\\mathrm{V} = 0$$"
   ]
  },
  {
   "cell_type": "markdown",
   "id": "1843d668",
   "metadata": {},
   "source": [
    "For a practical ammeter, its internal resistance, denoted as '$R_\\mathrm{A}$', has to be taken into account. Then, the\n",
    "subcircuit voltage $U$ has to be corrected, the same way as for a passive subcircuit,\n",
    "following equation (2.5.13a)."
   ]
  }
 ],
 "metadata": {
  "kernelspec": {
   "display_name": "Python 3",
   "language": "python",
   "name": "python3"
  },
  "language_info": {
   "codemirror_mode": {
    "name": "ipython",
    "version": 3
   },
   "file_extension": ".py",
   "mimetype": "text/x-python",
   "name": "python",
   "nbconvert_exporter": "python",
   "pygments_lexer": "ipython3",
   "version": "3.8.10"
  }
 },
 "nbformat": 4,
 "nbformat_minor": 5
}
