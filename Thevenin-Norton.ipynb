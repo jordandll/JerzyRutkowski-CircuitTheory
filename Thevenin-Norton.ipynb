{
 "cells": [
  {
   "cell_type": "markdown",
   "id": "c1d01098",
   "metadata": {},
   "source": [
    "# Two-Terminal Subcircuit, Thevenin’s/Norton’s Theorem\n",
    "\n",
    "### *Chapter 2.5* - DC Analysis"
   ]
  },
  {
   "cell_type": "markdown",
   "id": "10e3030f",
   "metadata": {},
   "source": [
    "## Passive Two-Terminal Subcircuit\n",
    "\n",
    "A passive two-terminal subcircuit, a subcircuit built of resistors, connected with the rest of a\n",
    "circuit in two terminal nodes is presented in Fig. 2.5.1."
   ]
  },
  {
   "cell_type": "markdown",
   "id": "67f6b9d3",
   "metadata": {},
   "source": [
    "It can be easily proven, that for any linear passive two-terminal subcircuit its equivalent or total resistance ($R_\\mathrm{t}$) can be found. The subcircuit is characterized by Ohm’s law:  \n",
    "\n",
    "\\begin{equation}\\tag{1a}\n",
    "    U = R_\\mathrm{t}I\n",
    "\\end{equation}    "
   ]
  },
  {
   "cell_type": "markdown",
   "id": "4c9059c1",
   "metadata": {},
   "source": [
    "and,\n",
    "\\begin{equation}\\tag{1b}\n",
    "    I = G_\\mathrm{t}U\n",
    "\\end{equation}    "
   ]
  },
  {
   "cell_type": "markdown",
   "id": "03cd7511",
   "metadata": {},
   "source": [
    "Series and parallel connection of resistors are the special cases."
   ]
  },
  {
   "cell_type": "markdown",
   "id": "d046c1fe",
   "metadata": {},
   "source": [
    "#### Series connection of resistors, Voltage divider\n",
    "\n",
    "Consider arrangement of resistors so that the same current passes through each resistor, the so\n",
    "called series connection, as depicted in Fig. 2.5.2.  \n",
    "\n",
    "![Fig-2.5.2](Figures/Fig-2.5.2.png)"
   ]
  },
  {
   "cell_type": "markdown",
   "id": "01accc74",
   "metadata": {},
   "source": [
    "Via KVL and Ohm's Law,  \n",
    "\n",
    "\\begin{equation}\\tag{2}\n",
    "    U  =\\sum_{i=1}^N U_i = I\\sum_{i=1}^N R_i = R_\\mathrm{t}I\n",
    "\\end{equation}    "
   ]
  },
  {
   "cell_type": "markdown",
   "id": "2072ac1d",
   "metadata": {},
   "source": [
    "The total resistance is given by:  \n",
    "\n",
    "\\begin{equation}\\tag{2a}\n",
    "    R_\\mathrm{t} = \\sum_{i=1}^N R_i\n",
    "\\end{equation}    "
   ]
  },
  {
   "cell_type": "markdown",
   "id": "dc719990",
   "metadata": {},
   "source": [
    "A circuit of series resistors divides the input voltage by the ratio of the resistance to the total\n",
    "resistance.  \n",
    "\n",
    "\\begin{equation}\\tag{3}\n",
    "    U_i = U\\,\\frac{R_i}{R_\\mathrm{t}}\n",
    "\\end{equation}    "
   ]
  },
  {
   "cell_type": "markdown",
   "id": "eef41935",
   "metadata": {},
   "source": [
    "Proof:  \n",
    "\n",
    "Via Ohm's Law and dividing throughout by the resistance of the two termianl subcircuit in question,  \n",
    "\n",
    "$$ I = \\frac{U}{R_\\mathrm{t}}$$"
   ]
  },
  {
   "cell_type": "markdown",
   "id": "c5580c95",
   "metadata": {},
   "source": [
    "and,\n",
    "$$ I = \\frac{U_i}{R_i}$$"
   ]
  },
  {
   "cell_type": "markdown",
   "id": "d35fab24",
   "metadata": {},
   "source": [
    "Via the above two equations and equivalence principle,  \n",
    "\n",
    "$$ \\frac{U}{R_\\mathrm{t}} = \\frac{U_i}{R_i}$$"
   ]
  },
  {
   "cell_type": "markdown",
   "id": "1e144003",
   "metadata": {},
   "source": [
    "Thus,\n",
    "$$ U_i = U\\,\\frac{R_i}{R_\\mathrm{t}}$$"
   ]
  },
  {
   "cell_type": "markdown",
   "id": "5aee4239",
   "metadata": {},
   "source": [
    "Q.E.D."
   ]
  },
  {
   "cell_type": "markdown",
   "id": "84fcd881",
   "metadata": {},
   "source": [
    "#### Parallel connection of resistors, Current divider\n",
    "\n",
    "Consider arrangement of resistors so that each resistor has the same voltage, the so called\n",
    "parallel connection, as depicted in Fig. 2.5.3.  \n",
    "\n",
    "![Fig - 2.5.3](Figures/Fig-2.5.3.png)"
   ]
  },
  {
   "cell_type": "markdown",
   "id": "9056f737",
   "metadata": {},
   "source": [
    "Via KCL and Ohm's Law,  \n",
    "\n",
    "\\begin{equation}\\tag{4}\n",
    "    I = \\sum_{i=1}^N I_i = U\\sum_{i=1}^N G_i = UG_\\mathrm{t}\n",
    "\\end{equation}    "
   ]
  },
  {
   "cell_type": "markdown",
   "id": "068704ee",
   "metadata": {},
   "source": [
    "where the total conductance ($G_\\mathrm{t}$) is given by:  \n",
    "\n",
    "\\begin{equation}\\tag{4a}\n",
    "    G_\\mathrm{t} =\\sum_{i=1}^N G_i\n",
    "\\end{equation}    "
   ]
  },
  {
   "cell_type": "markdown",
   "id": "a567e311",
   "metadata": {},
   "source": [
    "A circuit of parallel resistors divides the input current by the ratio of the conductance ($G_i$) to the\n",
    "total conductance,  \n",
    "\n",
    "\\begin{equation}\\tag{5}\n",
    "    I_i = I\\,\\frac{G_i}{G_\\mathrm{t}}\n",
    "\\end{equation}    "
   ]
  },
  {
   "cell_type": "markdown",
   "id": "5ddac594",
   "metadata": {},
   "source": [
    "Proof:  \n",
    "\n",
    "Via equation (4),  \n",
    "\n",
    "$$ U = \\frac{I}{G_\\mathrm{t}}$$"
   ]
  },
  {
   "cell_type": "markdown",
   "id": "e2ce497c",
   "metadata": {},
   "source": [
    "Via Ohm's law,  \n",
    "\n",
    "$$ U = \\frac{I_i}{G_i}$$"
   ]
  },
  {
   "cell_type": "markdown",
   "id": "06b83b65",
   "metadata": {},
   "source": [
    "Via the above two equations and equivalence principle we get equation (5).  Q.E.D."
   ]
  },
  {
   "cell_type": "markdown",
   "id": "869e7697",
   "metadata": {},
   "source": [
    "Given that the total resistance ($R_\\mathrm{t}$) of a parallel connection of resistors (a current divider) is equal to the reciprocal of the total conductance, the total resistance is given by:  \n",
    "\n",
    "$$ G_\\mathrm{t} = \\sum_{i=1}^N \\frac{1}{R_i}$$"
   ]
  },
  {
   "cell_type": "markdown",
   "id": "29254d2e",
   "metadata": {},
   "source": [
    "$$ R_\\mathrm{t} = \\frac{1}{G_\\mathrm{t}}$$"
   ]
  },
  {
   "cell_type": "markdown",
   "id": "60634d3d",
   "metadata": {},
   "source": [
    "For example, consider the two-resistor current divider depicted in figure 2.5.3a below.  \n",
    "\n",
    "![Fig - 2.5.3a](Figures/Fig-2.5.3a.png)"
   ]
  },
  {
   "cell_type": "markdown",
   "id": "4ea04ca6",
   "metadata": {},
   "source": [
    "$$ I = U\\left(\\frac{1}{R_1} + \\frac{1}{R_2}\\right) = U\\,\\frac{R_2 + R_1}{R_1R_2}$$"
   ]
  },
  {
   "cell_type": "markdown",
   "id": "ec45cbc8",
   "metadata": {},
   "source": [
    "Via equation (5),  \n",
    "\n",
    "$$ I_1 = I\\,\\frac{1}{R_1}\\,\\frac{R_1R_2}{R_2+R_1} = I\\,\\frac{R_2}{R_1+R_2}$$"
   ]
  },
  {
   "cell_type": "markdown",
   "id": "0944a545",
   "metadata": {},
   "source": [
    "and,\n",
    "$$ I_2 = I\\,\\frac{R_1}{R_1+R_2}$$"
   ]
  },
  {
   "cell_type": "markdown",
   "id": "cba8091b",
   "metadata": {},
   "source": [
    "For the given resistive two-terminal subcircuit the total resistance can be: `a)` calculated or `b)`\n",
    "measured.\n",
    "\n",
    "    a) Subcircuit diagram should be given and the total resistance can be normally found by\n",
    "    parallel and series connections of resistors. In some cases, wye-delta or delta-wye\n",
    "    conversion of three resistors is necessary. This exceptional cases are not discussed.\n",
    "    "
   ]
  },
  {
   "cell_type": "markdown",
   "id": "995a108a",
   "metadata": {},
   "source": [
    "    b) Subcircuit diagram may not be given and the total resistance can be measured by\n",
    "    means of the external source. Fig. 2.5.4 presents two possible measurement circuits."
   ]
  },
  {
   "cell_type": "markdown",
   "id": "33eb6e3b",
   "metadata": {},
   "source": [
    "In case of ideal meters, their readings, denoted as '$U_\\mathrm{V}$' for the voltmeter reading and '$I_\\mathrm{A}$' for the ammeter reading, are the subcircuit current and voltage. Then,  \n",
    "\n",
    "\\begin{equation}\\tag{6}\n",
    "    R_\\mathrm{t} = \\frac{U}{I} = \\frac{U_\\mathrm{V}}{I_\\mathrm{A}}\n",
    "\\end{equation}    "
   ]
  },
  {
   "cell_type": "markdown",
   "id": "dd735232",
   "metadata": {},
   "source": [
    "![Fig-2.5.4](Figures/Fig-2.5.4.png)"
   ]
  },
  {
   "cell_type": "markdown",
   "id": "5a1259ee",
   "metadata": {},
   "source": [
    "In case of practical meters, their resistances ($R_\\mathrm{V}$ and $R_\\mathrm{A}$) have to be taken into account, and then, only current or only voltage is measured correctly. Thus, respectively:  \n",
    "\n",
    "Via KVL,\n",
    "$$ U + R_\\mathrm{A}I_\\mathrm{A} - U_\\mathrm{V} = 0$$\n",
    "\n",
    "\\begin{equation}\\tag{7a.1}\n",
    "    U = U_\\mathrm{V} - R_\\mathrm{A}I\n",
    "\\end{equation}\n",
    "\n",
    "Here,\n",
    "\\begin{equation}\\tag{7a.2}\n",
    "    I = I_\\mathrm{A}\n",
    "\\end{equation}    "
   ]
  },
  {
   "cell_type": "markdown",
   "id": "71cacae7",
   "metadata": {},
   "source": [
    "Via KCL,\n",
    "$$  I_\\mathrm{A}- I - I_\\mathrm{V} =  I_\\mathrm{A} - I - U_\\mathrm{V}G_\\mathrm{V} = 0 $$\n",
    "\n",
    "\\begin{equation}\\tag{7b.1}\n",
    "    I = I_\\mathrm{A} - UG_\\mathrm{V}\n",
    "\\end{equation}"
   ]
  },
  {
   "cell_type": "markdown",
   "id": "7b7c340a",
   "metadata": {},
   "source": [
    "Here,\n",
    "\\begin{equation}\\tag{7b.2}\n",
    "    U = U_\\mathrm{V}\n",
    "\\end{equation}    "
   ]
  },
  {
   "cell_type": "markdown",
   "id": "9215e283",
   "metadata": {},
   "source": [
    "## Active Two-Terminal Subcircuit\n",
    "\n",
    "An active linear two-terminal subcircuit, a practical linear source or subcircuit built of\n",
    "resistors and linear source(s) is presented in Fig. 2.5.6. It can be proved that such subcircuit is\n",
    "characterized by the relationship $I-U$ depicted in Fig. 2.5.7. This relationship can by\n",
    "described by any of the following two equations:"
   ]
  },
  {
   "cell_type": "markdown",
   "id": "c4ae7e1f",
   "metadata": {},
   "source": [
    "\\begin{equation}\\tag{8}\n",
    "    U = E_\\mathrm{o} - R_\\mathrm{t}I\n",
    "\\end{equation}    "
   ]
  },
  {
   "cell_type": "markdown",
   "id": "ea4ca2af",
   "metadata": {},
   "source": [
    "\\begin{equation}\\tag{9}\n",
    "    I = J_\\mathrm{s} - G_\\mathrm{t}U\n",
    "\\end{equation}    "
   ]
  },
  {
   "cell_type": "markdown",
   "id": "5f2ecd2a",
   "metadata": {},
   "source": [
    "where,\n",
    "$$ G_\\mathrm{t} = \\frac{1}{R_\\mathrm{t}} = \\frac{\\Delta I}{\\Delta U} = \\frac{J_\\mathrm{s}}{E_\\mathrm{o}}$$"
   ]
  },
  {
   "cell_type": "markdown",
   "id": "b338504c",
   "metadata": {},
   "source": [
    "The above caveat follows from the fact that, when $U=0$,  \n",
    "\n",
    "$$ R_\\mathrm{t}I = E_\\mathrm{o}$$"
   ]
  },
  {
   "cell_type": "markdown",
   "id": "bee4ef36",
   "metadata": {},
   "source": [
    "$$R_\\mathrm{t} = \\frac{E_\\mathrm{o}}{I}$$"
   ]
  },
  {
   "cell_type": "markdown",
   "id": "780389d5",
   "metadata": {},
   "source": [
    "and (assuming $U=0$),\n",
    "$$ I = J_\\mathrm{s} - G_\\mathrm{t}\\cdot 0 = J_\\mathrm{s}$$"
   ]
  },
  {
   "cell_type": "markdown",
   "id": "9623293e",
   "metadata": {},
   "source": [
    "Via the above two equations and substitution,  \n",
    "\n",
    "$$ R_\\mathrm{t} = \\frac{E_\\mathrm{o}}{J_\\mathrm{s}}$$"
   ]
  },
  {
   "cell_type": "markdown",
   "id": "88f75467",
   "metadata": {},
   "source": [
    "and,\n",
    "$$ G_\\mathrm{t} = \\frac{1}{R_\\mathrm{t}} = \\frac{J_\\mathrm{s}}{E_\\mathrm{o}}$$"
   ]
  },
  {
   "cell_type": "markdown",
   "id": "a1aea1a9",
   "metadata": {},
   "source": [
    "The slope or derivative of $I(U)$ is equal to $G_\\mathrm{t}$."
   ]
  }
 ],
 "metadata": {
  "kernelspec": {
   "display_name": "Python 3",
   "language": "python",
   "name": "python3"
  },
  "language_info": {
   "codemirror_mode": {
    "name": "ipython",
    "version": 3
   },
   "file_extension": ".py",
   "mimetype": "text/x-python",
   "name": "python",
   "nbconvert_exporter": "python",
   "pygments_lexer": "ipython3",
   "version": "3.8.10"
  }
 },
 "nbformat": 4,
 "nbformat_minor": 5
}
