{
 "cells": [
  {
   "cell_type": "markdown",
   "id": "6714e66b",
   "metadata": {},
   "source": [
    "# Two-Terminal Subcircuit, Thevenin’s/Norton’s Theorem\n",
    "\n",
    "### *Chapter 2.5* - DC Analysis"
   ]
  },
  {
   "cell_type": "markdown",
   "id": "39969f0f",
   "metadata": {},
   "source": [
    "## Passive Two-Terminal Subcircuit\n",
    "\n",
    "A passive two-terminal subcircuit, a subcircuit built of resistors, connected with the rest of a\n",
    "circuit in two terminal nodes is presented in Fig. 2.5.1."
   ]
  },
  {
   "cell_type": "markdown",
   "id": "aa8b84c1",
   "metadata": {},
   "source": [
    "It can be easily proven, that for any linear passive two-terminal subcircuit its equivalent or total resistance ($R_\\mathrm{t}$) can be found. The subcircuit is characterized by Ohm’s law:  \n",
    "\n",
    "\\begin{equation}\\tag{1a}\n",
    "    U = R_\\mathrm{t}I\n",
    "\\end{equation}    "
   ]
  },
  {
   "cell_type": "markdown",
   "id": "e895e004",
   "metadata": {},
   "source": [
    "and,\n",
    "\\begin{equation}\\tag{1b}\n",
    "    I = G_\\mathrm{t}U\n",
    "\\end{equation}    "
   ]
  },
  {
   "cell_type": "markdown",
   "id": "04babd13",
   "metadata": {},
   "source": [
    "Series and parallel connection of resistors are the special cases."
   ]
  },
  {
   "cell_type": "markdown",
   "id": "4bd65458",
   "metadata": {},
   "source": [
    "#### Series connection of resistors, Voltage divider\n",
    "\n",
    "Consider arrangement of resistors so that the same current passes through each resistor, the so\n",
    "called series connection, as depicted in Fig. 2.5.2.  \n",
    "\n",
    "![Fig-2.5.2](Figures/Fig-2.5.2.png)"
   ]
  },
  {
   "cell_type": "markdown",
   "id": "76b2c5c6",
   "metadata": {},
   "source": [
    "Via KVL and Ohm's Law,  \n",
    "\n",
    "\\begin{equation}\\tag{2}\n",
    "    U  =\\sum_{i=1}^N U_i = I\\sum_{i=1}^N R_i = R_\\mathrm{t}I\n",
    "\\end{equation}    "
   ]
  },
  {
   "cell_type": "markdown",
   "id": "46a124d7",
   "metadata": {},
   "source": [
    "The total resistance is given by:  \n",
    "\n",
    "\\begin{equation}\\tag{2a}\n",
    "    R_\\mathrm{t} = \\sum_{i=1}^N R_i\n",
    "\\end{equation}    "
   ]
  },
  {
   "cell_type": "markdown",
   "id": "8c2d8852",
   "metadata": {},
   "source": [
    "A circuit of series resistors divides the input voltage by the ratio of the resistance to the total\n",
    "resistance.  \n",
    "\n",
    "\\begin{equation}\\tag{3}\n",
    "    U_i = U\\,\\frac{R_i}{R_\\mathrm{t}}\n",
    "\\end{equation}    "
   ]
  },
  {
   "cell_type": "markdown",
   "id": "524b9ed3",
   "metadata": {},
   "source": [
    "Proof:  \n",
    "\n",
    "Via Ohm's Law and dividing throughout by the resistance of the two termianl subcircuit in question,  \n",
    "\n",
    "$$ I = \\frac{U}{R_\\mathrm{t}}$$"
   ]
  },
  {
   "cell_type": "markdown",
   "id": "f745e2f7",
   "metadata": {},
   "source": [
    "and,\n",
    "$$ I = \\frac{U_i}{R_i}$$"
   ]
  },
  {
   "cell_type": "markdown",
   "id": "35699cba",
   "metadata": {},
   "source": [
    "Via the above two equations and equivalence principle,  \n",
    "\n",
    "$$ \\frac{U}{R_\\mathrm{t}} = \\frac{U_i}{R_i}$$"
   ]
  },
  {
   "cell_type": "markdown",
   "id": "95e529dd",
   "metadata": {},
   "source": [
    "Thus,\n",
    "$$ U_i = U\\,\\frac{R_i}{R_\\mathrm{t}}$$"
   ]
  },
  {
   "cell_type": "markdown",
   "id": "35b794e5",
   "metadata": {},
   "source": [
    "Q.E.D."
   ]
  },
  {
   "cell_type": "markdown",
   "id": "9f85d520",
   "metadata": {},
   "source": [
    "#### Parallel connection of resistors, Current divider\n",
    "\n",
    "Consider arrangement of resistors so that each resistor has the same voltage, the so called\n",
    "parallel connection, as depicted in Fig. 2.5.3.  \n",
    "\n",
    "![Fig - 2.5.3](Figures/Fig-2.5.3.png)"
   ]
  },
  {
   "cell_type": "markdown",
   "id": "80f1677c",
   "metadata": {},
   "source": [
    "Via KCL and Ohm's Law,  \n",
    "\n",
    "\\begin{equation}\\tag{4}\n",
    "    I = \\sum_{i=1}^N I_i = U\\sum_{i=1}^N G_i = UG_\\mathrm{t}\n",
    "\\end{equation}    "
   ]
  },
  {
   "cell_type": "markdown",
   "id": "a92d60c4",
   "metadata": {},
   "source": [
    "where the total conductance ($G_\\mathrm{t}$) is given by:  \n",
    "\n",
    "\\begin{equation}\\tag{4a}\n",
    "    G_\\mathrm{t} =\\sum_{i=1}^N G_i\n",
    "\\end{equation}    "
   ]
  },
  {
   "cell_type": "markdown",
   "id": "dd969b2b",
   "metadata": {},
   "source": [
    "A circuit of parallel resistors divides the input current by the ratio of the conductance ($G_i$) to the\n",
    "total conductance,  \n",
    "\n",
    "\\begin{equation}\\tag{5}\n",
    "    I_i = I\\,\\frac{G_i}{G_\\mathrm{t}}\n",
    "\\end{equation}    "
   ]
  },
  {
   "cell_type": "markdown",
   "id": "f8822db7",
   "metadata": {},
   "source": [
    "Proof:  \n",
    "\n",
    "Via equation (4),  \n",
    "\n",
    "$$ U = \\frac{I}{G_\\mathrm{t}}$$"
   ]
  },
  {
   "cell_type": "markdown",
   "id": "386262d8",
   "metadata": {},
   "source": [
    "Via Ohm's law,  \n",
    "\n",
    "$$ U = \\frac{I_i}{G_i}$$"
   ]
  },
  {
   "cell_type": "markdown",
   "id": "9c323f2f",
   "metadata": {},
   "source": [
    "Via the above two equations and equivalence principle we get equation (5).  Q.E.D."
   ]
  },
  {
   "cell_type": "markdown",
   "id": "b10cfdb3",
   "metadata": {},
   "source": [
    "Given that the total resistance ($R_\\mathrm{t}$) of a parallel connection of resistors (a current divider) is equal to the reciprocal of the total conductance, the total resistance is given by:  \n",
    "\n",
    "$$ G_\\mathrm{t} = \\sum_{i=1}^N \\frac{1}{R_i}$$"
   ]
  },
  {
   "cell_type": "markdown",
   "id": "506b0758",
   "metadata": {},
   "source": [
    "$$ R_\\mathrm{t} = \\frac{1}{G_\\mathrm{t}}$$"
   ]
  },
  {
   "cell_type": "markdown",
   "id": "18ff6556",
   "metadata": {},
   "source": [
    "For example, consider the two-resistor current divider depicted in figure 2.5.3a below.  \n",
    "\n",
    "![Fig - 2.5.3a](Figures/Fig-2.5.3a.png)"
   ]
  },
  {
   "cell_type": "markdown",
   "id": "e523c64c",
   "metadata": {},
   "source": [
    "$$ I = U\\left(\\frac{1}{R_1} + \\frac{1}{R_2}\\right) = U\\,\\frac{R_2 + R_1}{R_1R_2}$$"
   ]
  },
  {
   "cell_type": "markdown",
   "id": "bd43d4b5",
   "metadata": {},
   "source": [
    "Via equation (5),  \n",
    "\n",
    "$$ I_1 = I\\,\\frac{1}{R_1}\\,\\frac{R_1R_2}{R_2+R_1} = I\\,\\frac{R_2}{R_1+R_2}$$"
   ]
  },
  {
   "cell_type": "markdown",
   "id": "fa2f3536",
   "metadata": {},
   "source": [
    "and,\n",
    "$$ I_2 = I\\,\\frac{R_1}{R_1+R_2}$$"
   ]
  },
  {
   "cell_type": "markdown",
   "id": "65409e5b",
   "metadata": {},
   "source": [
    "For the given resistive two-terminal subcircuit the total resistance can be: `a)` calculated or `b)`\n",
    "measured.\n",
    "\n",
    "    a) Subcircuit diagram should be given and the total resistance can be normally found by\n",
    "    parallel and series connections of resistors. In some cases, wye-delta or delta-wye\n",
    "    conversion of three resistors is necessary. This exceptional cases are not discussed.\n",
    "    "
   ]
  },
  {
   "cell_type": "markdown",
   "id": "0ba0364a",
   "metadata": {},
   "source": [
    "    b) Subcircuit diagram may not be given and the total resistance can be measured by\n",
    "    means of the external source. Fig. 2.5.4 presents two possible measurement circuits."
   ]
  },
  {
   "cell_type": "markdown",
   "id": "8bf62c5d",
   "metadata": {},
   "source": [
    "In case of ideal meters, their readings, denoted as '$U_\\mathrm{V}$' for the voltmeter reading and '$I_\\mathrm{A}$' for the ammeter reading, are the subcircuit current and voltage. Then,  \n",
    "\n",
    "\\begin{equation}\\tag{6}\n",
    "    R_\\mathrm{t} = \\frac{U}{I} = \\frac{U_\\mathrm{V}}{I_\\mathrm{A}}\n",
    "\\end{equation}    "
   ]
  },
  {
   "cell_type": "markdown",
   "id": "14e1a782",
   "metadata": {},
   "source": [
    "![Fig-2.5.4](Figures/Fig-2.5.4.png)"
   ]
  },
  {
   "cell_type": "markdown",
   "id": "7892029e",
   "metadata": {},
   "source": [
    "In case of practical meters, their resistances ($R_\\mathrm{V}$ and $R_\\mathrm{A}$) have to be taken into account, and then, only current or only voltage is measured correctly. Thus, respectively:  \n",
    "\n",
    "Via KVL,\n",
    "$$ U + R_\\mathrm{A}I_\\mathrm{A} - U_\\mathrm{V} = 0$$\n",
    "\n",
    "\\begin{equation}\\tag{7a.1}\n",
    "    U = U_\\mathrm{V} - R_\\mathrm{A}I\n",
    "\\end{equation}\n",
    "\n",
    "Here,\n",
    "\\begin{equation}\\tag{7a.2}\n",
    "    I = I_\\mathrm{A}\n",
    "\\end{equation}    "
   ]
  },
  {
   "cell_type": "markdown",
   "id": "560fbbef",
   "metadata": {},
   "source": [
    "Via KCL,\n",
    "$$  I_\\mathrm{A}- I - I_\\mathrm{V} =  I_\\mathrm{A} - I - U_\\mathrm{V}G_\\mathrm{V} = 0 $$\n",
    "\n",
    "\\begin{equation}\\tag{7b.1}\n",
    "    I = I_\\mathrm{A} - UG_\\mathrm{V}\n",
    "\\end{equation}"
   ]
  },
  {
   "cell_type": "markdown",
   "id": "21709f35",
   "metadata": {},
   "source": [
    "Here,\n",
    "\\begin{equation}\\tag{7b.2}\n",
    "    U = U_\\mathrm{V}\n",
    "\\end{equation}    "
   ]
  },
  {
   "cell_type": "markdown",
   "id": "05fb0a97",
   "metadata": {},
   "source": [
    "## Active Two-Terminal Subcircuit\n",
    "\n",
    "An active linear two-terminal subcircuit, a practical linear source or subcircuit built of\n",
    "resistors and linear source(s) is presented in Fig. 2.5.6. It can be proved that such subcircuit is\n",
    "characterized by the relationship $I-U$ depicted in Fig. 2.5.7. This relationship can by\n",
    "described by any of the following two equations:"
   ]
  },
  {
   "cell_type": "markdown",
   "id": "8a64cd3f",
   "metadata": {},
   "source": [
    "\\begin{equation}\\tag{8}\n",
    "    U = E_\\mathrm{o} - R_\\mathrm{t}I\n",
    "\\end{equation}    "
   ]
  },
  {
   "cell_type": "markdown",
   "id": "118f3599",
   "metadata": {},
   "source": [
    "\\begin{equation}\\tag{9}\n",
    "    I = J_\\mathrm{s} - G_\\mathrm{t}U\n",
    "\\end{equation}    "
   ]
  },
  {
   "cell_type": "markdown",
   "id": "895afd93",
   "metadata": {},
   "source": [
    "where,\n",
    "\\begin{equation}\\tag{9a}\n",
    "    G_\\mathrm{t} = \\frac{1}{R_\\mathrm{t}} = \\frac{\\Delta I}{\\Delta U} = \\frac{J_\\mathrm{s}}{E_\\mathrm{o}}\n",
    "\\end{equation}    "
   ]
  },
  {
   "cell_type": "markdown",
   "id": "bdad665c",
   "metadata": {},
   "source": [
    "The above caveat follows from the fact that, when $U=0$,  \n",
    "\n",
    "$$ R_\\mathrm{t}I = E_\\mathrm{o}$$"
   ]
  },
  {
   "cell_type": "markdown",
   "id": "46a904e6",
   "metadata": {},
   "source": [
    "$$R_\\mathrm{t} = \\frac{E_\\mathrm{o}}{I}$$"
   ]
  },
  {
   "cell_type": "markdown",
   "id": "be6f20fa",
   "metadata": {},
   "source": [
    "and (assuming $U=0$),\n",
    "$$ I = J_\\mathrm{s} - G_\\mathrm{t}\\cdot 0 = J_\\mathrm{s}$$"
   ]
  },
  {
   "cell_type": "markdown",
   "id": "15dd3e14",
   "metadata": {},
   "source": [
    "Via the above two equations and substitution,  \n",
    "\n",
    "$$ R_\\mathrm{t} = \\frac{E_\\mathrm{o}}{J_\\mathrm{s}}$$"
   ]
  },
  {
   "cell_type": "markdown",
   "id": "75a90236",
   "metadata": {},
   "source": [
    "and,\n",
    "$$ G_\\mathrm{t} = \\frac{1}{R_\\mathrm{t}} = \\frac{J_\\mathrm{s}}{E_\\mathrm{o}}$$"
   ]
  },
  {
   "cell_type": "markdown",
   "id": "2042446d",
   "metadata": {},
   "source": [
    "The slope or derivative of $I(U)$ is equal to $G_\\mathrm{t}$."
   ]
  },
  {
   "cell_type": "markdown",
   "id": "1148ca6d",
   "metadata": {},
   "source": [
    "![Fig-2.5.6](Figures/Fig-2.5.6.png)"
   ]
  },
  {
   "cell_type": "markdown",
   "id": "536ca4b5",
   "metadata": {},
   "source": [
    "Equations (8) and (9) follow from KVL and KCL respectively;  Both rely on Ohm's Law as well.  \n",
    "\n",
    "$$ E_\\mathrm{o} - R_\\mathrm{t}I - U = 0 $$"
   ]
  },
  {
   "cell_type": "markdown",
   "id": "50528784",
   "metadata": {},
   "source": [
    "$$ J_\\mathrm{s} - I - G_\\mathrm{t}U = 0$$"
   ]
  },
  {
   "cell_type": "markdown",
   "id": "423b5504",
   "metadata": {},
   "source": [
    "Now, two theorems can be formulated."
   ]
  },
  {
   "cell_type": "markdown",
   "id": "cb34fdb2",
   "metadata": {},
   "source": [
    "### Thevenin’s theorem\n",
    "Any active linear two-terminal subcircuit can be replaced by the equivalent circuit that\n",
    "consists of a series connection of an ideal voltage source $E_\\mathrm{o}$ and a resistance $R_\\mathrm{t}$, where:"
   ]
  },
  {
   "cell_type": "markdown",
   "id": "a51bfb51",
   "metadata": {},
   "source": [
    "* $E_\\mathrm{0}$ is the subcircuit open-circuit voltage, $E_\\mathrm{o} = U\\big|_{I=0}$.\n",
    "* $R_\\mathrm{t}$ is the subcircuit equivalent (internal) resistance."
   ]
  },
  {
   "cell_type": "markdown",
   "id": "86c9623d",
   "metadata": {},
   "source": [
    "### Norton’s theorem\n",
    "Any active linear two-terminal subcircuit can be replaced by the equivalent circuit that\n",
    "consists of a parallel connection of an ideal current source $J_\\mathrm{s}$ and a conductance $G_\\mathrm{t}$ , where: "
   ]
  },
  {
   "cell_type": "markdown",
   "id": "dfe5a211",
   "metadata": {},
   "source": [
    "* $J_\\mathrm{s}$ is the subcircuit short-circuit current, $J_\\mathrm{s} = I\\big|_{U=0}$.\n",
    "* $G_\\mathrm{s}$ is the subcircuit equivalent (internal) conductance."
   ]
  },
  {
   "cell_type": "markdown",
   "id": "7c27646b",
   "metadata": {},
   "source": [
    "Note that the definitions of the terms 'open-circuit' and 'short-circuit' are:  \n",
    "\n",
    "* **open-circuit (oc)**:  Condition that exists when the current between two\n",
    "    terminals is zero, irrespective of the voltage across the\n",
    "    terminals\n",
    "* **short-circuit (sc)**:  Condition that exists when the voltage across two\n",
    "    terminals is zero, irrespective of the current between the\n",
    "    two terminals."
   ]
  },
  {
   "cell_type": "markdown",
   "id": "6d6ae7fa",
   "metadata": {},
   "source": [
    "Applications of Thevenin’s/Norton’s theorem:\n",
    "1. Linear dc circuit analysis: replacement of a complex two-terminal subcircuit by Thevenin\n",
    "    equivalent or Norton equivalent circuit, what simplifies calculations.\n",
    "2. Designation of the maximum power transfer condition.\n",
    "3. Nonlinear dc circuit analysis: replacement of a linear part by the Thevenin or Norton\n",
    "    equivalent.\n",
    "4. Transient analysis of the 1st order circuit: replacement of a resistive part by the Thevenin\n",
    "    or Norton equivalent."
   ]
  },
  {
   "cell_type": "markdown",
   "id": "83f184b1",
   "metadata": {},
   "source": [
    "Parameters of Thevenin and Norton equivalent circuit can be: 1. calculated or 2. measured:  \n",
    "\n",
    "1. It is assumed that the subcircuit diagram is given.\n",
    "    * To find the open-circuit voltage, subcircuit analysis is performed.\n",
    "    * To find the equivalent resistance, subcircuit source(s) is(are) deactivated at first.\n",
    "        Deactivation (zeroing) of a voltage source means shorting of its terminals, deactivation\n",
    "        of a current source means opening of its terminals. Then, the equivalent resistance can\n",
    "        be found, the same way as for a passive subcircuit,\n",
    "\n",
    "\\begin{equation}\\tag{10}\n",
    "    R_\\mathrm{t} = -\\left(\\frac{U}{I} \\right)_{|E_\\mathrm{o}\\,=\\,0}\n",
    "\\end{equation}    "
   ]
  },
  {
   "cell_type": "markdown",
   "id": "ed0bfb6b",
   "metadata": {},
   "source": [
    "2. A circuit is loaded by two different resistances and its current and voltage are measured,\n",
    "    as presented in Fig. 2.5.8 (correct current measurement is applied).\n",
    "    For two different values of the load resistance, $R_{\\mathrm{l}1}$ and $R_{\\mathrm{l}2}$, the current and the voltage are\n",
    "    measured. That way, coordinates of two points on the plot given by $I(U)$ (or $I$ vs. $U$) are given, as presented in\n",
    "    Fig. 2.5.7. These coordinates are set into equation (2.5.15) or (2.5.16), to form a system of\n",
    "    two equations. Then, $R_\\mathrm{t}$ and $E_\\mathrm{o}$ or $G_\\mathrm{t}$ and $J_\\mathrm{s}$ are designated, respectively."
   ]
  },
  {
   "cell_type": "markdown",
   "id": "dbf25904",
   "metadata": {},
   "source": [
    "![Fig-2.5.8](Figures/Fig-2.5.8.png)"
   ]
  },
  {
   "cell_type": "markdown",
   "id": "901567d7",
   "metadata": {},
   "source": [
    "In the special case: $R_{\\mathrm{l}1}$ can be an open-circuit and $R_{\\mathrm{l}2}$ can be a short-circuit."
   ]
  },
  {
   "cell_type": "markdown",
   "id": "4638374d",
   "metadata": {},
   "source": [
    "For a practical ammeter, its internal resistance, denoted as '$R_\\mathrm{A}$', has to be taken into account. Then, the\n",
    "subcircuit voltage $U$ has to be corrected, the same way as for a passive subcircuit,\n",
    "following equation (2.5.13a)."
   ]
  },
  {
   "cell_type": "markdown",
   "id": "ec94e639",
   "metadata": {},
   "source": [
    "### Example 2.5.2\n",
    "The subcircuit built of two practical sources and one resistor is presented in Fig. 2.5.9 - $R_1= 3\\Omega$, $R_2= 4\\Omega$, $R_3=7\\Omega$, $E_1=5\\mathrm{V}$, and $J_3=2\\mathrm{A}$.  \n",
    "Find: `a)` Thevenin equivalent, `b)` Norton\n",
    "equivalent.  \n",
    "\n",
    "![Fig-2.5.9](Figures/Fig-2.5.9.png)"
   ]
  },
  {
   "cell_type": "code",
   "execution_count": 1,
   "id": "b53db4b5",
   "metadata": {},
   "outputs": [],
   "source": [
    "R_1, R_2, R_3 = 3, 4, 7; E_1 = 5; J_3 = 2"
   ]
  },
  {
   "cell_type": "markdown",
   "id": "bdb28920",
   "metadata": {},
   "source": [
    "a)  To find the open-circuit voltage $(E_\\mathrm{o})$, first, the Norton equivalent $(J_3, R_3)$ can be converted into the Thevenin\n",
    "equivalent $(E_3, R_3)$, following equations (11)."
   ]
  },
  {
   "cell_type": "markdown",
   "id": "f70fc1de",
   "metadata": {},
   "source": [
    "\\begin{equation}\\tag{11a}\n",
    "    E_3 = E_\\mathrm{o} = J_\\mathrm{s}R_\\mathrm{t} = J_3 R_3 = 14\\mathrm{V}\n",
    "\\end{equation}    "
   ]
  },
  {
   "cell_type": "markdown",
   "id": "254db355",
   "metadata": {},
   "source": [
    "\\begin{equation}\\tag{11b}\n",
    "    R_\\mathrm{t} = R_3 = \\frac{1}{G_3} = 7\\Omega\n",
    "\\end{equation}    "
   ]
  },
  {
   "cell_type": "markdown",
   "id": "67b6e896",
   "metadata": {},
   "source": [
    "To ellaborate on equation (11a):  under open-circuit conditions, the current flowing through $R_2$ is equal to zero, and thus, the voltage dropped across $R_2$ is also equal to zero.  That, in conjunction with KVL, means that the voltage dropped across either branch of the Norton equivalent $(J_3, R_3)$ is equal to the open-circuit voltage ($E_\\mathrm{o}$) and subsequently equal to the Thevenin equivalent voltage ($E_3$)."
   ]
  },
  {
   "cell_type": "markdown",
   "id": "6d9d20b8",
   "metadata": {},
   "source": [
    "![Fig-2.5.9a](Figures/Fig-2.5.9a.png)"
   ]
  },
  {
   "cell_type": "markdown",
   "id": "ef45bebf",
   "metadata": {},
   "source": [
    "Via KVL and Ohm's Law, the current flowing through the two branches that our voltage sources rest on ($E_1$ and $E_3$), denoted as '$I$', is:\n",
    "\n",
    "$$ E_1 + R_1I + R_3I - E_3 = 0$$"
   ]
  },
  {
   "cell_type": "markdown",
   "id": "4a6731e1",
   "metadata": {},
   "source": [
    "$$ I(R_3+R_1)=E_3 - E_1$$"
   ]
  },
  {
   "cell_type": "markdown",
   "id": "f0f46b00",
   "metadata": {},
   "source": [
    "$$ I = \\frac{E_3-E_1}{R_3+R_1}$$"
   ]
  },
  {
   "cell_type": "markdown",
   "id": "987ca039",
   "metadata": {},
   "source": [
    "Via equation (8),  \n",
    "\n",
    "$$ E_\\mathrm{o} = U_3 = E_3 - R_3I$$"
   ]
  },
  {
   "cell_type": "markdown",
   "id": "ec7bb272",
   "metadata": {},
   "source": [
    "Via the above two equations and substitution,  \n",
    "\n",
    "\\begin{equation}\\tag{12a}\n",
    "    E_\\mathrm{o}=U_3 = E_3 + \\frac{E_1- E_3}{R_3 + R_1}\\,R_3 = 7.7\\mathrm{V}\n",
    "\\end{equation}    "
   ]
  },
  {
   "cell_type": "code",
   "execution_count": 2,
   "id": "c3df546b",
   "metadata": {},
   "outputs": [],
   "source": [
    "E_3 = J_3*R_3\n",
    "E_o = U_3 = E_3 + R_3*(E_1-E_3)/(R_3+R_1)"
   ]
  },
  {
   "cell_type": "markdown",
   "id": "cd311aeb",
   "metadata": {},
   "source": [
    "To find $R_\\mathrm{t}$, both sources have to be zeroed, the passive subcircuit presented in Fig. $2.5.9\\mathrm{b}$ is then\n",
    "obtained. Then, the equivalent resistance (or internal resistance), denoted as '$R_\\mathrm{t}$', is:  \n",
    "\n",
    "\\begin{equation}\\tag{12b}\n",
    "    R_\\mathrm{t} = R_2 + \\frac{R_1R_3}{R_1 + R_3}= 6.1\\Omega\n",
    "\\end{equation}    "
   ]
  },
  {
   "cell_type": "code",
   "execution_count": 3,
   "id": "35f7ef0d",
   "metadata": {},
   "outputs": [],
   "source": [
    "R_t = R_2 + R_1*R_3/(R_1+R_3)"
   ]
  },
  {
   "cell_type": "markdown",
   "id": "6a33b0e1",
   "metadata": {},
   "source": [
    "b) For the calculated parameters of the Thevenin equivalent circuit (12), parameters of Norton\n",
    "equivalent circuit can be calculated from the following equations:  \n",
    "\n",
    "\\begin{equation}\\tag{13a}\n",
    "    J_\\mathrm{s} = E_\\mathrm{0}G_\\mathrm{t} = \\frac{7.7\\mathrm{V}}{6.1\\Omega} \\approxeq 1.26\\mathrm{A}\n",
    "\\end{equation}    "
   ]
  },
  {
   "cell_type": "markdown",
   "id": "edd99b2f",
   "metadata": {},
   "source": [
    "\\begin{equation}\\tag{13b}\n",
    "    G_\\mathrm{t} = \\frac{1}{R_\\mathrm{t}} \\approxeq 163.93\\mathrm{mS}\n",
    "\\end{equation}    "
   ]
  },
  {
   "cell_type": "code",
   "execution_count": 4,
   "id": "58a383e3",
   "metadata": {},
   "outputs": [],
   "source": [
    "G_t = 1/R_t\n",
    "J_s = G_t*E_o"
   ]
  },
  {
   "cell_type": "markdown",
   "id": "78850054",
   "metadata": {},
   "source": [
    "### Practical Sources\n",
    "\n",
    "A pair of $I$ vs $U$ relationships of practical sources, a voltage source and a current source, are shown\n",
    "in Fig. 2.5.10.  \n",
    "\n",
    "![Fig-2.5.10](Figures/Fig-2.5.10.png)"
   ]
  },
  {
   "cell_type": "markdown",
   "id": "9946e1a2",
   "metadata": {},
   "source": [
    "Any of these sources can be described by any of equations (8) or (9) and\n",
    "therefore, can modeled by the Thevenin or Norton equivalent circuit. A source-load single\n",
    "loop circuits are presented in Fig. 2.5.11."
   ]
  },
  {
   "cell_type": "markdown",
   "id": "10cee4f2",
   "metadata": {},
   "source": [
    "Now, the source voltage or current are not fixed at the values of $U=E_\\mathrm{o}$ and $I = J_\\mathrm{s}$, as they would be for an\n",
    "ideal voltage or current source, respectively. For the given practical source, they are functions\n",
    "of the load resistance,"
   ]
  },
  {
   "cell_type": "markdown",
   "id": "df10e5f3",
   "metadata": {},
   "source": [
    "![Fig-2.5.11](Figures/Fig-2.5.11.png)"
   ]
  },
  {
   "cell_type": "markdown",
   "id": "bb4f1409",
   "metadata": {},
   "source": [
    "For circuit a) we have, via equation (8),  \n",
    "\n",
    "$$ U = E_\\mathrm{o} - R_\\mathrm{t}I$$"
   ]
  },
  {
   "cell_type": "markdown",
   "id": "21d92fc8",
   "metadata": {},
   "source": [
    "Via KVL and Ohm's Law, the current ($I$) is:  \n",
    "\n",
    "$$ E_\\mathrm{o} - R_\\mathrm{t}I - R_\\mathrm{l}I = 0$$"
   ]
  },
  {
   "cell_type": "markdown",
   "id": "f20cf815",
   "metadata": {},
   "source": [
    "$$ E_\\mathrm{o} = I(R_\\mathrm{t} + R_\\mathrm{l})$$"
   ]
  },
  {
   "cell_type": "markdown",
   "id": "71914a26",
   "metadata": {},
   "source": [
    "$$ I = \\frac{E_\\mathrm{o}}{R_\\mathrm{t} + R_\\mathrm{l}}$$"
   ]
  },
  {
   "cell_type": "markdown",
   "id": "1dbd6c22",
   "metadata": {},
   "source": [
    "Via the above equation, equation (8), and substitution,  \n",
    "\n",
    "$$ U = E_\\mathrm{o}\\left(1 - \\frac{R_\\mathrm{t}}{R_\\mathrm{t} + R_\\mathrm{l}} \\right)$$"
   ]
  },
  {
   "cell_type": "markdown",
   "id": "68540406",
   "metadata": {},
   "source": [
    "\\begin{equation}\\tag{14a}\n",
    "    U = E_\\mathrm{o}\\,\\frac{R_\\mathrm{l}}{R_\\mathrm{t} + R_\\mathrm{l}}\n",
    "\\end{equation}    "
   ]
  },
  {
   "cell_type": "markdown",
   "id": "73763561",
   "metadata": {},
   "source": [
    "For circuit b) we have, via equation (9),  \n",
    "\n",
    "$$ I = J_\\mathrm{s} - G_\\mathrm{t}U$$"
   ]
  },
  {
   "cell_type": "markdown",
   "id": "03270374",
   "metadata": {},
   "source": [
    "Via KCL and Ohm's Law, the voltage dropped across the load, denoted as '$U$', which is also equal to the supplied voltage, is:  \n",
    "\n",
    "$$ J_\\mathrm{s} - G_\\mathrm{t}U - G_\\mathrm{l}U = 0$$"
   ]
  },
  {
   "cell_type": "markdown",
   "id": "3aaec002",
   "metadata": {},
   "source": [
    "Note that the current flowing through the load is given by $I = G_\\mathrm{l}U$."
   ]
  },
  {
   "cell_type": "markdown",
   "id": "ca4e8cd6",
   "metadata": {},
   "source": [
    "$$ J_\\mathrm{s} = U(G_\\mathrm{t} + G_\\mathrm{l})$$"
   ]
  },
  {
   "cell_type": "markdown",
   "id": "628fb0d2",
   "metadata": {},
   "source": [
    "$$ U = \\frac{J_\\mathrm{s}}{G_\\mathrm{t} + G_\\mathrm{l}}$$"
   ]
  },
  {
   "cell_type": "markdown",
   "id": "140c2a32",
   "metadata": {},
   "source": [
    "Via the above equation, equation (9) , and substitution,  \n",
    "\n",
    "$$ I = J_\\mathrm{s} - G_\\mathrm{t}\\,\\frac{J_\\mathrm{s}}{G_\\mathrm{t} + G_\\mathrm{l}}$$"
   ]
  },
  {
   "cell_type": "markdown",
   "id": "987c17ae",
   "metadata": {},
   "source": [
    "$$ I = J_\\mathrm{s}\\left( 1 - \\frac{G_\\mathrm{t}}{G_\\mathrm{t} + G_\\mathrm{l}}\\right)$$ "
   ]
  },
  {
   "cell_type": "markdown",
   "id": "16d4393c",
   "metadata": {},
   "source": [
    "Thus,\n",
    "\\begin{equation}\\tag{14b}\n",
    "    I = J_\\mathrm{s}\\,\\frac{G_\\mathrm{l}}{G_\\mathrm{t} + G_\\mathrm{l}}\n",
    "\\end{equation}    "
   ]
  },
  {
   "cell_type": "markdown",
   "id": "18fe3cf5",
   "metadata": {},
   "source": [
    "![Fig-2.5.12](Figures/Fig-2.5.12.png)"
   ]
  },
  {
   "cell_type": "markdown",
   "id": "4af05845",
   "metadata": {},
   "source": [
    "Then, for a practical voltage source, to maintain the supply voltage at the fixed level of\n",
    "$U\\approxeq E_\\mathrm{o}$, the load resistance has to be much greater than the source internal resistance,  \n",
    "\n",
    "\\begin{equation}\\tag{15a}\n",
    "    R_\\mathrm{l} >> R_\\mathrm{t}\n",
    "\\end{equation}    "
   ]
  },
  {
   "cell_type": "markdown",
   "id": "a586fe0b",
   "metadata": {},
   "source": [
    "And, for a practical current source, to maintain the supply current at the fixed level of $I\\approxeq J_\\mathrm{s}$, the load resistance has to be much less than the source internal resistance,  \n",
    "\n",
    "\\begin{equation}\\tag{15b}\n",
    "    R_\\mathrm{l} << R_\\mathrm{t}\n",
    "\\end{equation}    "
   ]
  },
  {
   "cell_type": "markdown",
   "id": "0d250b9f",
   "metadata": {},
   "source": [
    "### Example 2.5.3\n",
    "Given an $E_\\mathrm{o}=9\\mathrm{V}$ battery, its internal resistance is $R_\\mathrm{t}=3\\Omega$.  Plot the line given by $I(U)$ and draw a diagram of the Thevenin and Norton equivalent circuits."
   ]
  },
  {
   "cell_type": "markdown",
   "id": "e2382b67",
   "metadata": {},
   "source": [
    "The battery's $I$ vs. $U$ relationship (i.e. the aforementioned plot of $I(U)$) and equivalent circuits are presented in Fig. 2.5.13.  \n",
    "\n",
    "![Fig-2.5.13](Figures/Fig-2.5.13.png)"
   ]
  },
  {
   "cell_type": "markdown",
   "id": "185ffbc4",
   "metadata": {},
   "source": [
    "The plot in figure 2.5.13 is obtained by two data points:  the $U$-intercept of the plot, which corresponds to $(9\\mathrm{V}, 0\\mathrm{A}) = (E_\\mathrm{o}, 0\\mathrm{A})$, and the $I$-intercept of the plot, which corresponds to $(0\\mathrm{V}, 3\\mathrm{A}) = (0\\mathrm{V}, J_\\mathrm{s})$.  The first data point (the one that corresponds to the $U$-intercept) is given by:  \n",
    "\n",
    "Via equation (8), when $I=0\\mathrm{A}$,  \n",
    "\n",
    "$$ U = E_\\mathrm{o} - R_\\mathrm{t}\\cdot 0\\mathrm{A} = E_\\mathrm{o} = 9\\mathrm{V}$$"
   ]
  },
  {
   "cell_type": "markdown",
   "id": "e34e5043",
   "metadata": {},
   "source": [
    "As for the second data point, via equation (9),  \n",
    "\n",
    "$$ I(0\\mathrm{V}) = J_\\mathrm{s} - G_\\mathrm{t}\\cdot 0\\mathrm{V} = J_\\mathrm{s}$$"
   ]
  },
  {
   "cell_type": "markdown",
   "id": "a82078d3",
   "metadata": {},
   "source": [
    "Via multiplying throughout equation (9a) by $E_\\mathrm{o}$,  \n",
    "\n",
    "$$ J_\\mathrm{s} = \\frac{E_\\mathrm{o}}{R_\\mathrm{t}} = \\frac{9\\mathrm{V}}{3\\Omega} = 3\\mathrm{A}$$"
   ]
  },
  {
   "cell_type": "markdown",
   "id": "80114c1d",
   "metadata": {},
   "source": [
    "Via the above two equations and equivalence principle,  \n",
    "\n",
    "$$ I(0\\mathrm{V}) = 3\\mathrm{A}$$"
   ]
  },
  {
   "cell_type": "markdown",
   "id": "5bcf2496",
   "metadata": {},
   "source": [
    "### Example 2.5.3 cont.\n",
    "Convert the voltage source of Example 2.5.3 into a $1 \\mathrm{mA}$ current source."
   ]
  },
  {
   "cell_type": "markdown",
   "id": "23be2355",
   "metadata": {},
   "source": [
    "The conversion can be done by series connection of a resistance $R_\\mathrm{s}$, its resistance being much\n",
    "greater than the load resistance ($R_\\mathrm{l}$).  The internal resistance of the modified source, denoted as '$R_\\mathrm{t}^*$', is given by:  \n",
    "\n",
    "\\begin{equation}\\tag{16}\n",
    "    R_\\mathrm{t}^*  = R_\\mathrm{t} + R_\\mathrm{s}\\approxeq R_\\mathrm{s}\n",
    "\\end{equation}    "
   ]
  },
  {
   "cell_type": "markdown",
   "id": "fd1b1d91",
   "metadata": {},
   "source": [
    "and it's (modified) short-circuit current ($J_\\mathrm{s}^*$) is given by:  \n",
    "\n",
    "\\begin{equation}\\tag{17}\n",
    "    J_\\mathrm{s}^* = \\frac{E_\\mathrm{o}}{R_\\mathrm{t}^*} \\approxeq \\frac{E_\\mathrm{o}}{R_\\mathrm{s}}\n",
    "\\end{equation}    "
   ]
  },
  {
   "cell_type": "code",
   "execution_count": 5,
   "id": "adb9a904",
   "metadata": {},
   "outputs": [],
   "source": [
    "R_t_mod = 9/1e-3"
   ]
  },
  {
   "cell_type": "markdown",
   "id": "2d499ac8",
   "metadata": {},
   "source": [
    "Thus, in this particular case, via equation (17) and (16), the approximate value of the required series resistance ($R_\\mathrm{s}$) is given by:  \n",
    "\n",
    "$$ R_\\mathrm{t}^* = \\frac{E_\\mathrm{o}}{J_\\mathrm{s}^*} = \\frac{9\\mathrm{V}}{1\\mathrm{mA}} = 9000\\Omega \\approxeq R_\\mathrm{s}$$"
   ]
  },
  {
   "cell_type": "markdown",
   "id": "bdde9cd2",
   "metadata": {},
   "source": [
    "The source-load single loop circuit is presented in Fig. 2.5.14a, the modified source $I$ vs $U$ relationship is\n",
    "presented in Fig. 2.5.14b."
   ]
  },
  {
   "cell_type": "markdown",
   "id": "e92fe93f",
   "metadata": {},
   "source": [
    "![Fig-2.5.14](Figures/Fig-2.5.14.png)"
   ]
  },
  {
   "cell_type": "markdown",
   "id": "33cbb723",
   "metadata": {},
   "source": [
    "## Drill Problems"
   ]
  },
  {
   "cell_type": "code",
   "execution_count": 6,
   "id": "75c48be6",
   "metadata": {},
   "outputs": [],
   "source": [
    "import numpy as np"
   ]
  },
  {
   "cell_type": "markdown",
   "id": "2a7a2802",
   "metadata": {},
   "source": [
    "#### Problem 1\n",
    "1. Two $1 \\mathrm{W}$ resistors: $R_1 = 100\\Omega$ and $R_2=50\\Omega$ are connected in series. What maximum\n",
    "    voltage can by safely supplied to such combination?"
   ]
  },
  {
   "cell_type": "markdown",
   "id": "6a4fc730",
   "metadata": {},
   "source": [
    "For safety reasons, the following condition must be satisfied:  \n",
    "\n",
    "$$ I^2 100\\Omega \\le 1\\mathrm{W}$$"
   ]
  },
  {
   "cell_type": "markdown",
   "id": "1ef6f318",
   "metadata": {},
   "source": [
    "\\begin{equation}\\tag{1.1}\n",
    "   -\\sqrt{0.01}\\,\\mathrm{A}\\le I \\le \\sqrt{0.01}\\,\\mathrm{A} =  100\\mathrm{mA}\n",
    "\\end{equation}    "
   ]
  },
  {
   "cell_type": "code",
   "execution_count": 7,
   "id": "ab3558e8",
   "metadata": {},
   "outputs": [
    {
     "data": {
      "text/plain": [
       "0.1"
      ]
     },
     "execution_count": 7,
     "metadata": {},
     "output_type": "execute_result"
    }
   ],
   "source": [
    "np.sqrt(0.01)"
   ]
  },
  {
   "cell_type": "markdown",
   "id": "0a50daa9",
   "metadata": {},
   "source": [
    "Via KVL and Ohm's Law, the maximum voltage that can be safely supplied to the combination, denoted as '$E$', is given by:  \n",
    "\n",
    "$$ E = 100\\Omega\\,I + 50\\Omega\\,I = 150\\Omega\\,I$$"
   ]
  },
  {
   "cell_type": "markdown",
   "id": "bc913676",
   "metadata": {},
   "source": [
    "Multiplying throughout inequality (1.1) by $150\\Omega$ gives:  \n",
    "\n",
    "$$ -15\\mathrm{V}\\le 150\\Omega\\,I \\le  15\\mathrm{V}$$"
   ]
  },
  {
   "cell_type": "markdown",
   "id": "5f5b1b07",
   "metadata": {},
   "source": [
    "Via the above two relationships and equivalence principle,  \n",
    "\n",
    "$$ - 15\\mathrm{V}\\le E \\le  15\\mathrm{V}$$"
   ]
  },
  {
   "cell_type": "markdown",
   "id": "7a3a407b",
   "metadata": {},
   "source": [
    "#### Problem 2\n",
    "\n",
    "2. Two $1 \\mathrm{W}$ resistors: $R_1 = 100\\Omega$ and $R_2=50\\Omega$ are connected in parallel. What maximum\n",
    "    current can by safely supplied to such combination?"
   ]
  },
  {
   "cell_type": "markdown",
   "id": "256f0f8b",
   "metadata": {},
   "source": [
    "For safety reasons, the following condition must be satisfied:  \n",
    "\n",
    "$$ \\frac{U^2}{50\\Omega}\\le 1\\mathrm{W}$$"
   ]
  },
  {
   "cell_type": "markdown",
   "id": "d2ff527c",
   "metadata": {},
   "source": [
    "where '$U$' denotes the voltage dropped across each resistor."
   ]
  },
  {
   "cell_type": "markdown",
   "id": "8e9657c0",
   "metadata": {},
   "source": [
    "\\begin{equation}\\tag{2.1}\n",
    "    -\\sqrt{50}\\,\\mathrm{V}\\le U \\le \\sqrt{50}\\,\\mathrm{V}\n",
    "\\end{equation}    "
   ]
  },
  {
   "cell_type": "markdown",
   "id": "210bf254",
   "metadata": {},
   "source": [
    "Via KCL and Ohm's Law, the maximum current that can be safely supplied to the combination in question, denoted as '$J$', is:  \n",
    "\n",
    "$$ J = G_1U + G_2U = U\\left(\\frac{1}{100\\Omega} + \\frac{1}{50\\Omega}\\right) = U\\,\\frac{3}{100}\\,\\mathrm{S}$$"
   ]
  },
  {
   "cell_type": "markdown",
   "id": "e12ae03b",
   "metadata": {},
   "source": [
    "Multiplying throughout inequality (2.1) by $0.03\\mathrm{S}$ gives:  \n",
    "\n",
    "$$ -0.03\\sqrt{50}\\,\\mathrm{A}\\le 0.03\\mathrm{S}\\,U \\le 0.03\\sqrt{50}\\,\\mathrm{A}$$"
   ]
  },
  {
   "cell_type": "markdown",
   "id": "9ec91265",
   "metadata": {},
   "source": [
    "Via the above two relationships and equivalence principle,  \n",
    "\n",
    "$$ -0.03\\sqrt{50}\\,\\mathrm{A}\\le J \\le 0.03\\sqrt{50}\\,\\mathrm{A} \\approxeq 212.13\\mathrm{mA}$$"
   ]
  },
  {
   "cell_type": "code",
   "execution_count": 8,
   "id": "4c96f666",
   "metadata": {},
   "outputs": [
    {
     "data": {
      "text/plain": [
       "0.21213203435596426"
      ]
     },
     "execution_count": 8,
     "metadata": {},
     "output_type": "execute_result"
    }
   ],
   "source": [
    "0.03*np.sqrt(50)"
   ]
  },
  {
   "cell_type": "markdown",
   "id": "59e351e3",
   "metadata": {},
   "source": [
    "#### Problem 3\n",
    "3. Determine the resistance of a resistor that must be placed in series with a $R=100 \\Omega$ resistor\n",
    "    supplied by $120 \\mathrm{V}$, in order to limit its power dissipation to $90 \\mathrm{W}$."
   ]
  },
  {
   "cell_type": "markdown",
   "id": "d46543e0",
   "metadata": {},
   "source": [
    "The current flowing through both resistors ($I$) must satisfy the following condition:  \n",
    "\n",
    "$$ I^2 R = I^2 100\\Omega \\le 90\\mathrm{W}$$"
   ]
  },
  {
   "cell_type": "markdown",
   "id": "107e61bc",
   "metadata": {},
   "source": [
    "\\begin{equation}\\tag{3.1}\n",
    "    -\\sqrt{0.9}\\,\\mathrm{A}\\le I \\le \\sqrt{0.9}\\,\\mathrm{A}\\approxeq 948.68\\mathrm{mA}\n",
    "\\end{equation}    "
   ]
  },
  {
   "cell_type": "code",
   "execution_count": 9,
   "id": "7b3323e3",
   "metadata": {},
   "outputs": [
    {
     "data": {
      "text/plain": [
       "0.9486832980505138"
      ]
     },
     "execution_count": 9,
     "metadata": {},
     "output_type": "execute_result"
    }
   ],
   "source": [
    "np.sqrt(0.9)"
   ]
  },
  {
   "cell_type": "markdown",
   "id": "34234f42",
   "metadata": {},
   "source": [
    "Via KVL and Ohm's law,  \n",
    "\n",
    "\\begin{equation}\\tag{3.2}\n",
    "    120\\mathrm{V} = 100\\Omega \\, I + R_\\mathrm{s} I = I(100\\Omega + R_\\mathrm{s})\n",
    "\\end{equation}    "
   ]
  },
  {
   "cell_type": "markdown",
   "id": "402a5c38",
   "metadata": {},
   "source": [
    "Via the above equation, equivalence principle, and multiplying throughout inequality (3.1) by $(R + R_\\mathrm{s})$ gives:  \n",
    "\n",
    "$$ -(R + R_\\mathrm{s})\\,\\sqrt{0.9}\\,\\mathrm{A}\\le 120\\mathrm{V} \\le (R + R_\\mathrm{s})\\,\\sqrt{0.9}\\,\\mathrm{A}$$"
   ]
  },
  {
   "cell_type": "markdown",
   "id": "fef86e39",
   "metadata": {},
   "source": [
    "$$ -R -R_\\mathrm{s} \\le \\frac{120}{\\sqrt{0.9}}\\,\\Omega \\le R + R_\\mathrm{s}$$"
   ]
  },
  {
   "cell_type": "markdown",
   "id": "ed39a20c",
   "metadata": {},
   "source": [
    "Finally,\n",
    "$$ R_\\mathrm{s} \\ge \\frac{120}{\\sqrt{0.9}}\\,\\Omega - 100\\Omega \\approxeq 26.49\\Omega$$"
   ]
  },
  {
   "cell_type": "code",
   "execution_count": 10,
   "id": "fb50e2c2",
   "metadata": {},
   "outputs": [
    {
     "data": {
      "text/plain": [
       "26.491106406735184"
      ]
     },
     "execution_count": 10,
     "metadata": {},
     "output_type": "execute_result"
    }
   ],
   "source": [
    "120/np.sqrt(0.9) - 100"
   ]
  },
  {
   "cell_type": "markdown",
   "id": "39250b3e",
   "metadata": {},
   "source": [
    "So that's the *minimum* value of $R_\\mathrm{s}$.  Now, what about the *maximum*?  In order for both resistors to absorb no more than $90\\mathrm{W}$ of power, the following inequality must also be satisfied:"
   ]
  },
  {
   "cell_type": "markdown",
   "id": "aa8eee66",
   "metadata": {},
   "source": [
    "$$ I^2R_\\mathrm{s}\\le 90\\mathrm{W}$$"
   ]
  },
  {
   "cell_type": "markdown",
   "id": "38930ad0",
   "metadata": {},
   "source": [
    "Via inequality (3.1), at it's maximum, $I^2=0.9\\mathrm{A}^2$, thus, the inequality that must be satisfied for our second condition to be met is:  \n",
    "\n",
    "$$ 0.9\\mathrm{A}^2 R_\\mathrm{s}\\le 90\\mathrm{W}$$"
   ]
  },
  {
   "cell_type": "markdown",
   "id": "a5afac39",
   "metadata": {},
   "source": [
    "Finally,  \n",
    "\n",
    "$$ R_\\mathrm{s} \\le 100\\Omega$$"
   ]
  },
  {
   "cell_type": "markdown",
   "id": "065227d6",
   "metadata": {},
   "source": [
    "#### Problem 4\n",
    "4. Two heaters (resistors) are each rated $1 \\mathrm{kW}$ and $220 \\mathrm{V}$. What is the total dissipated power\n",
    "    when they are connected in series across $220 \\mathrm{V}$?"
   ]
  },
  {
   "cell_type": "markdown",
   "id": "6a3ec156",
   "metadata": {},
   "source": [
    "Each heater has a voltage drop of $110$ under these conditions.  Assuming this rating means that when the voltage dropped across one of these heaters, denoted as '$U$', is equal to $220\\mathrm{V}$ -- i.e. when $U=220\\mathrm{V}$ --the power dissipation ($P$) is equal to $1000\\mathrm{W}$, the following hold true:  \n",
    "\n",
    "$$ P:=P(U) = \\frac{U^2}{R} $$"
   ]
  },
  {
   "cell_type": "markdown",
   "id": "b830aaa4",
   "metadata": {},
   "source": [
    "$$P(220\\mathrm{V}) = 1000\\mathrm{W} = \\frac{220^2\\mathrm{V}^2}{R}$$"
   ]
  },
  {
   "cell_type": "markdown",
   "id": "31e84049",
   "metadata": {},
   "source": [
    "$$ R = \\frac{220^2}{1000}\\,\\Omega = 48.4\\Omega$$"
   ]
  },
  {
   "cell_type": "code",
   "execution_count": 11,
   "id": "78c27e8e",
   "metadata": {},
   "outputs": [],
   "source": [
    "R = (220**2)/1000"
   ]
  },
  {
   "cell_type": "markdown",
   "id": "0dbf2736",
   "metadata": {},
   "source": [
    "$$ P(110\\mathrm{V}) = 250\\mathrm{W}$$"
   ]
  },
  {
   "cell_type": "code",
   "execution_count": 12,
   "id": "86774740",
   "metadata": {},
   "outputs": [],
   "source": [
    "P = (110**2)/R"
   ]
  },
  {
   "cell_type": "markdown",
   "id": "eecec894",
   "metadata": {},
   "source": [
    "#### Problem 5\n",
    "5. An electric meter of $R=20\\Omega$ resistance produces a maximum needle deflection with $10\\mathrm{mA}$ flowing through its terminals. What resistance must be connected in series with the\n",
    "    meter so that the maximum needle deflection occurs when series combination is\n",
    "    connected to $150 \\mathrm{V}$?"
   ]
  },
  {
   "cell_type": "markdown",
   "id": "df282aaa",
   "metadata": {},
   "source": [
    "To find the answer we solve for $R_\\mathrm{s}$ in the equation below, which is obtained from KVL and Ohm's law,  \n",
    "\n",
    "$$ 20\\Omega \\, 10\\mathrm{mA} + R_\\mathrm{s}\\,10\\mathrm{mA} = 150\\mathrm{V}$$"
   ]
  },
  {
   "cell_type": "code",
   "execution_count": 13,
   "id": "2059c23d",
   "metadata": {},
   "outputs": [
    {
     "data": {
      "text/plain": [
       "14980.0"
      ]
     },
     "execution_count": 13,
     "metadata": {},
     "output_type": "execute_result"
    }
   ],
   "source": [
    "150/0.01 - 20"
   ]
  },
  {
   "cell_type": "markdown",
   "id": "45265430",
   "metadata": {},
   "source": [
    "$$ 20\\Omega + R_\\mathrm{s} = 15\\mathrm{k}\\Omega$$"
   ]
  },
  {
   "cell_type": "markdown",
   "id": "e58b9215",
   "metadata": {},
   "source": [
    "$$ R_\\mathrm{s} = 14.98\\mathrm{k}\\Omega$$"
   ]
  },
  {
   "cell_type": "markdown",
   "id": "2a5f4ef7",
   "metadata": {},
   "source": [
    "#### Problem 6\n",
    "6. What resistance must be connected in parallel with the meter of the preceding problem so\n",
    "    that the maximum needle deflection occurs when $100 \\mathrm{mA}$ current flows into the\n",
    "    combination?"
   ]
  },
  {
   "cell_type": "markdown",
   "id": "dafd2042",
   "metadata": {},
   "source": [
    "To find the answer we must solve for $R_\\mathrm{p}$ in the following system of equations:  \n",
    "\n",
    "Via KVL and Ohm's Law,  \n",
    "\n",
    "$$ R_\\mathrm{p}I_\\mathrm{p} = 20\\Omega\\,10\\mathrm{mA}$$"
   ]
  },
  {
   "cell_type": "markdown",
   "id": "81aad5b5",
   "metadata": {},
   "source": [
    "Via KCL,  \n",
    "\n",
    "$$ 100\\mathrm{mA} = 10\\mathrm{mA} + I_\\mathrm{p}$$"
   ]
  },
  {
   "cell_type": "markdown",
   "id": "649b1219",
   "metadata": {},
   "source": [
    "$$ I_\\mathrm{p} = 90\\mathrm{mA}$$"
   ]
  },
  {
   "cell_type": "markdown",
   "id": "8b2cd7d0",
   "metadata": {},
   "source": [
    "Via the above equation, the first equation of this problem and substitution,  \n",
    "\n",
    "$$ R_\\mathrm{p}\\,90\\mathrm{mA} = 20\\Omega \\, 10\\mathrm{mA}$$"
   ]
  },
  {
   "cell_type": "markdown",
   "id": "534462ad",
   "metadata": {},
   "source": [
    "$$ R_\\mathrm{p} = \\frac{20}{9}\\,\\Omega$$"
   ]
  },
  {
   "cell_type": "markdown",
   "id": "8828f24a",
   "metadata": {},
   "source": [
    "#### Problem 7\n",
    "7. Two resistors, $R_1=9200\\Omega$ rated $1\\mathrm{W}$ and $R_2=5100\\Omega$ rated $0.5 \\mathrm{W}$, are connected in\n",
    "    series. What maximum current can safely flow in the combination? What maximum\n",
    "    voltage can by safely supplied?"
   ]
  },
  {
   "cell_type": "markdown",
   "id": "83b1a784",
   "metadata": {},
   "source": [
    "To find the maximum current ($I_\\max$), we must solve for $I$ in the following inequalities:  \n",
    "\n",
    "$$ I^2R_1 \\le 1\\mathrm{W}$$\n",
    "\n",
    "and,\n",
    "$$ I^2R_2 \\le 0.5\\mathrm{W}$$"
   ]
  },
  {
   "cell_type": "markdown",
   "id": "0aacacc4",
   "metadata": {},
   "source": [
    "Thus,\n",
    "\n",
    "$$ I^2 \\le \\frac{1\\mathrm{W}}{9200\\Omega}$$"
   ]
  },
  {
   "cell_type": "markdown",
   "id": "162fa9a7",
   "metadata": {},
   "source": [
    "$$ -\\frac{1}{\\sqrt{9200}}\\,\\mathrm{A}\\le I \\le \\frac{1}{\\sqrt{9200}}\\,\\mathrm{A}$$"
   ]
  },
  {
   "cell_type": "markdown",
   "id": "657cc012",
   "metadata": {},
   "source": [
    "and,\n",
    "$$ I \\le \\frac{1}{\\sqrt{10200\\Omega}}\\,\\mathrm{A}$$"
   ]
  },
  {
   "cell_type": "markdown",
   "id": "dd443291",
   "metadata": {},
   "source": [
    "Finally, \n",
    "$$I_\\max = \\frac{1}{\\sqrt{9200}}\\,\\mathrm{A}\\approxeq 10.426\\mathrm{mA}$$"
   ]
  },
  {
   "cell_type": "markdown",
   "id": "6bc20e33",
   "metadata": {},
   "source": [
    "The maximum voltage that can be safely supplied ($E_\\max$) is given by:  \n",
    "\n",
    "$$ E_\\max = I_\\max(R_1 + R_2) \\approxeq 149.09\\mathrm{V} $$"
   ]
  },
  {
   "cell_type": "code",
   "execution_count": 14,
   "id": "c86a1ef8",
   "metadata": {},
   "outputs": [],
   "source": [
    "I_max = 1/np.sqrt(9200)\n",
    "E_max = I_max*(9200 + 5100)"
   ]
  },
  {
   "cell_type": "markdown",
   "id": "021a65c4",
   "metadata": {},
   "source": [
    "#### Problem 8\n",
    "8. Resistors of Fig. 2.5.5 circuit are rated $1 \\mathrm{W}$. What maximum voltage can by safely\n",
    "    supplied to such circuit?  \n",
    "    \n",
    "![Fig-2.5.5](Figures/Fig-2.5.5.png)"
   ]
  },
  {
   "cell_type": "code",
   "execution_count": 15,
   "id": "4da4d524",
   "metadata": {},
   "outputs": [],
   "source": [
    "R_1, R_2, R_3 = 10, 4, 6\n",
    "G_1, G_2, G_3 = 1/R_1, 1/R_2, 1/R_3"
   ]
  },
  {
   "cell_type": "markdown",
   "id": "4e859466",
   "metadata": {},
   "source": [
    "Due to the power rating of each resistor, the following inequalities related to the voltage dropped across resistor $i$, denoted as '$U_i$', must be met.  \n",
    "\n",
    "$$ \\frac{U_1^2}{R_1} \\le 1\\mathrm{W}$$\n",
    "\n",
    "\\begin{equation}\\tag{8.10a}\n",
    "    -\\sqrt{R_1}\\,\\mathrm{V} \\le U_1\\le \\sqrt{R_1}\\,\\mathrm{V}\n",
    "\\end{equation}    "
   ]
  },
  {
   "cell_type": "markdown",
   "id": "49f64ebc",
   "metadata": {},
   "source": [
    "\\begin{equation}\\tag{8.10b}\n",
    "    -\\sqrt{R_2}\\,\\mathrm{V} \\le U_2 \\le \\sqrt{R_2}\\,\\mathrm{V}\n",
    "\\end{equation}    "
   ]
  },
  {
   "cell_type": "markdown",
   "id": "30c73edd",
   "metadata": {},
   "source": [
    "\\begin{equation}\\tag{8.10c}\n",
    "    -\\sqrt{R_3}\\,\\mathrm{V} \\le U_3 \\le \\sqrt{R_3}\\,\\mathrm{V}\n",
    "\\end{equation}    "
   ]
  },
  {
   "cell_type": "markdown",
   "id": "20911a9f",
   "metadata": {},
   "source": [
    "And, the following inequalities related to the current flowing through resistor $i$ ($I_i$) must be met for the same reason."
   ]
  },
  {
   "cell_type": "markdown",
   "id": "9bfbb782",
   "metadata": {},
   "source": [
    "$$ I^2R_1 \\le 1\\mathrm{W}$$"
   ]
  },
  {
   "cell_type": "markdown",
   "id": "10607379",
   "metadata": {},
   "source": [
    "\\begin{equation}\\tag{8.1}\n",
    "    -\\frac{1}{\\sqrt{R_1}}\\,\\mathrm{A}\\le I\\le \\frac{1}{\\sqrt{R_1}}\\,\\mathrm{A}\\approxeq 316.23\\mathrm{mA}\n",
    "\\end{equation}    "
   ]
  },
  {
   "cell_type": "markdown",
   "id": "77445263",
   "metadata": {},
   "source": [
    "We'll leave it at that for now."
   ]
  },
  {
   "cell_type": "markdown",
   "id": "725bb6a5",
   "metadata": {},
   "source": [
    "Note that $I=I_1$ and '$I$' denotes the current flowing through the terminals of the subcircuit in Fig. 2.5.5."
   ]
  },
  {
   "cell_type": "markdown",
   "id": "9fa7fc57",
   "metadata": {},
   "source": [
    "Via KVL and Ohm's Law,  \n",
    "\n",
    "\\begin{equation}\\tag{8.3}\n",
    "    E = U_1 + U_2 = R_1I + R_2I_2 \\le \\sqrt{R_1} + \\sqrt{R_2} \\approxeq 5.16\\mathrm{V}\n",
    "\\end{equation}    "
   ]
  },
  {
   "cell_type": "markdown",
   "id": "4c2a5228",
   "metadata": {},
   "source": [
    "and, \n",
    "\\begin{equation}\\tag{8.4}\n",
    "    U_2 = U_3 = R_2I_2 = R_3I_3\n",
    "\\end{equation}    "
   ]
  },
  {
   "cell_type": "markdown",
   "id": "b6c8a446",
   "metadata": {},
   "source": [
    "Via the above two relationships and substitution,  \n",
    "\n",
    "\\begin{equation}\\tag{8.5}\n",
    "    E = U_1 + U_3 \\le \\sqrt{R_1} + \\sqrt{R_3} \\approxeq 5.61\\mathrm{V}\n",
    "\\end{equation}    "
   ]
  },
  {
   "cell_type": "markdown",
   "id": "86d18c54",
   "metadata": {},
   "source": [
    "Note that only two out of the three above equations obtained from KVL are independent."
   ]
  },
  {
   "cell_type": "markdown",
   "id": "4080c74f",
   "metadata": {},
   "source": [
    "Via KCL and Ohm's Law,  \n",
    "\n",
    "\\begin{equation}\\tag{8.7}\n",
    "    U_1G_1 = U_2G_2 + U_3G_3\n",
    "\\end{equation}    "
   ]
  },
  {
   "cell_type": "markdown",
   "id": "e7e2d30a",
   "metadata": {},
   "source": [
    "Via equations (8.7) and (8.4) in conjunction with substitution,  \n",
    "\n",
    "\\begin{equation}\\tag{8.8}\n",
    "    U_1G_1 = U_2(G_2 + G_3)\n",
    "\\end{equation}    "
   ]
  },
  {
   "cell_type": "markdown",
   "id": "624cc38f",
   "metadata": {},
   "source": [
    "Via the above equation, equation (8.3), and substitution,  \n",
    "\n",
    "$$ E = U_2R_1(G_2+G_3) + U_2 = U_2\\big(R_1(G_2+G_3) + 1\\big)$$"
   ]
  },
  {
   "cell_type": "markdown",
   "id": "ea28f72d",
   "metadata": {},
   "source": [
    "\\begin{equation}\\tag{8.9b}\n",
    "    U_2 = \\frac{E}{R_1(G_2+G_3)+1}\n",
    "\\end{equation}    "
   ]
  },
  {
   "cell_type": "markdown",
   "id": "17906810",
   "metadata": {},
   "source": [
    "and,\n",
    "\n",
    "$$ E = U_1 + U_1\\,\\frac{G_1}{G_2 + G_3} = U_1\\left(1 + \\frac{G_1}{G_2 + G_3} \\right) = U_1\\,\\frac{G_1+G_2+G_3}{G_2+G_3}$$"
   ]
  },
  {
   "cell_type": "markdown",
   "id": "373a9f1c",
   "metadata": {},
   "source": [
    "\\begin{equation}\\tag{8.9a}\n",
    "    U_1 = E\\,\\frac{G_2+G_3}{G_1+G_2+G_3}\n",
    "\\end{equation}    "
   ]
  },
  {
   "cell_type": "markdown",
   "id": "85c9ec0c",
   "metadata": {},
   "source": [
    "Via equation (8.9a), inequality (8.10a), and substitution,  \n",
    "\n",
    "\\begin{equation}\\tag{8.11a}\n",
    "    E\\le \\frac{G_1+G_2+G_3}{G_2+G_3}\\,\\sqrt{R_1}\\,\\mathrm{V} \\approxeq 3.92\\mathrm{V}\n",
    "\\end{equation}    "
   ]
  },
  {
   "cell_type": "code",
   "execution_count": 16,
   "id": "25da6340",
   "metadata": {},
   "outputs": [
    {
     "data": {
      "text/plain": [
       "3.92122429860879"
      ]
     },
     "execution_count": 16,
     "metadata": {},
     "output_type": "execute_result"
    }
   ],
   "source": [
    "np.sqrt(R_1)*(G_1+G_2+G_3)/(G_2+G_3)"
   ]
  },
  {
   "cell_type": "markdown",
   "id": "b831e9ac",
   "metadata": {},
   "source": [
    "Via equation (8.9b), inequality (8.10b), and substitution,  \n",
    "\n",
    "\\begin{equation}\\tag{8.11b}\n",
    "    E \\le  \\big(R_1(G_2+G_3)+1\\big)\\,\\sqrt{R_2}\\,\\mathrm{V} \\approxeq 10.33\\mathrm{V}\n",
    "\\end{equation}    "
   ]
  },
  {
   "cell_type": "code",
   "execution_count": 17,
   "id": "f14da2e6",
   "metadata": {},
   "outputs": [
    {
     "data": {
      "text/plain": [
       "10.333333333333332"
      ]
     },
     "execution_count": 17,
     "metadata": {},
     "output_type": "execute_result"
    }
   ],
   "source": [
    "(10*(1/4 + 1/6) + 1)*np.sqrt(4)"
   ]
  },
  {
   "cell_type": "markdown",
   "id": "4d4d6cbf",
   "metadata": {},
   "source": [
    "Via Ohm's Law,  \n",
    "\n",
    "\\begin{equation}\\tag{8.2}\n",
    "    E = R_\\mathrm{t}I\n",
    "\\end{equation}    "
   ]
  },
  {
   "cell_type": "markdown",
   "id": "80805656",
   "metadata": {},
   "source": [
    "where,\n",
    "\\begin{equation}\\tag{8.2a}\n",
    "    R_\\mathrm{t} = R_1 + \\frac{1}{G_2 + G_3} = 12.4\\Omega\n",
    "\\end{equation}    "
   ]
  },
  {
   "cell_type": "code",
   "execution_count": 18,
   "id": "b0f0d3ca",
   "metadata": {},
   "outputs": [],
   "source": [
    "R_t = 10 + 1/(1/4 + 1/6)"
   ]
  },
  {
   "cell_type": "markdown",
   "id": "80d4de21",
   "metadata": {},
   "source": [
    "Via relationships (8.2) and (8.1) in conjunction with substitution,  \n",
    "\n",
    "$$ \\frac{E}{R_\\mathrm{t}} \\le \\frac{1}{\\sqrt{R_1}}\\,\\mathrm{A} $$"
   ]
  },
  {
   "cell_type": "code",
   "execution_count": 19,
   "id": "f1e944a2",
   "metadata": {},
   "outputs": [
    {
     "data": {
      "text/plain": [
       "3.92122429860879"
      ]
     },
     "execution_count": 19,
     "metadata": {},
     "output_type": "execute_result"
    }
   ],
   "source": [
    "R_t/np.sqrt(10)"
   ]
  },
  {
   "cell_type": "markdown",
   "id": "afbe00ac",
   "metadata": {},
   "source": [
    "\\begin{equation}\\tag{8.6}\n",
    "    E \\le \\frac{R_\\mathrm{t}}{\\sqrt{R_1}} \\,\\mathrm{V} \\approxeq 3.92\\mathrm{V}\n",
    "\\end{equation}    "
   ]
  },
  {
   "cell_type": "markdown",
   "id": "da0a41e4",
   "metadata": {},
   "source": [
    "#### Problem 9\n",
    "9. Voltages and currents measured at terminals of a linear source at two different loads are:\n",
    "    $(2\\mathrm{V}, 6\\mathrm{A})$; $(6\\mathrm{V}, 2\\mathrm{A})$. Find the current drawn by the $R=6\\Omega$ load."
   ]
  },
  {
   "cell_type": "markdown",
   "id": "b0b3693d",
   "metadata": {},
   "source": [
    "Via equation (9) and the two data points given in the problem,  \n",
    "\n",
    "\\begin{equation}\\tag{9.1}\n",
    "    6\\mathrm{A} = J_\\mathrm{s} - G_\\mathrm{t}\\,2\\mathrm{V}\n",
    "\\end{equation}    "
   ]
  },
  {
   "cell_type": "markdown",
   "id": "8c745e69",
   "metadata": {},
   "source": [
    "and,\n",
    "\\begin{equation}\\tag{9.2}\n",
    "    2\\mathrm{A} = J_\\mathrm{s} - G_\\mathrm{t}\\,6\\mathrm{V}\n",
    "\\end{equation}    "
   ]
  },
  {
   "cell_type": "markdown",
   "id": "51e5e33d",
   "metadata": {},
   "source": [
    "Via the above two equations and substitution,  \n",
    "\n",
    "$$ 6\\mathrm{A} = 2\\mathrm{A} + G_\\mathrm{t}\\,6\\mathrm{V} - G_\\mathrm{t}\\,2\\mathrm{V}$$"
   ]
  },
  {
   "cell_type": "markdown",
   "id": "855fc9a8",
   "metadata": {},
   "source": [
    "$$ 4\\mathrm{V}\\,G_\\mathrm{t} = 4\\mathrm{A}$$"
   ]
  },
  {
   "cell_type": "markdown",
   "id": "d2587579",
   "metadata": {},
   "source": [
    "\\begin{equation}\\tag{9.3}\n",
    "    G_\\mathrm{t} = 1\\mathrm{S}\n",
    "\\end{equation}    "
   ]
  },
  {
   "cell_type": "markdown",
   "id": "d678ba99",
   "metadata": {},
   "source": [
    "Thus,  \n",
    "\n",
    "\\begin{equation}\\tag{9.4}\n",
    "    J_\\mathrm{s} = 8\\mathrm{A}\n",
    "\\end{equation}    "
   ]
  },
  {
   "cell_type": "markdown",
   "id": "d83b029d",
   "metadata": {},
   "source": [
    "Which means that, $I(U)$ is, via equation (9), (9.3), and (9.4),  \n",
    "\n",
    "$$ I := I(U) = 8\\mathrm{A} - 1\\mathrm{S}\\,U$$"
   ]
  },
  {
   "cell_type": "markdown",
   "id": "6a88bf5e",
   "metadata": {},
   "source": [
    "Via Ohm's Law, the voltage dropped across the terminals of the source, using active sign convention, when the load is $R=6\\Omega$ is:  \n",
    "\n",
    "$$ U = 6\\Omega \\, I$$"
   ]
  },
  {
   "cell_type": "markdown",
   "id": "a2d797ba",
   "metadata": {},
   "source": [
    "Via the above two equations and substitution,  \n",
    "\n",
    "$$ I = 8\\mathrm{A} - 6I$$\n",
    "\n",
    "$$ 7I = 8\\mathrm{A}$$\n",
    "\n",
    "Thus,\n",
    "$$ I = \\frac{8}{7}\\,\\mathrm{A}$$"
   ]
  },
  {
   "cell_type": "markdown",
   "id": "f1579394",
   "metadata": {},
   "source": [
    "#### Problem 10\n",
    "10. Current entering the positive terminal of a $10\\mathrm{V}$ battery (ideal source) raises linearly\n",
    "    from $3$ to $9 \\mathrm{mA}$ between $t=0$ and $t=15$ minutes. How much energy, in joules, is supplied to\n",
    "    the battery during the entire period of time?"
   ]
  },
  {
   "cell_type": "markdown",
   "id": "283c6442",
   "metadata": {},
   "source": [
    "$$ -I:=-I(t) = 3\\mathrm{mA} + \\frac{\\Delta I}{\\Delta t}\\,t = 3\\mathrm{mA} + \\frac{6\\mathrm{mA}}{15\\cdot60 \\mathrm{s}}\\,t \\approxeq 3\\mathrm{mA} + 6.67\\,\\frac{\\mu \\mathrm{A}}{\\mathrm{s}}\\,t$$"
   ]
  },
  {
   "cell_type": "code",
   "execution_count": 20,
   "id": "7d3eb805",
   "metadata": {},
   "outputs": [
    {
     "data": {
      "text/plain": [
       "6.666666666666667e-06"
      ]
     },
     "execution_count": 20,
     "metadata": {},
     "output_type": "execute_result"
    }
   ],
   "source": [
    "m = 0.006/(15*60)\n",
    "m"
   ]
  },
  {
   "cell_type": "markdown",
   "id": "6f91db24",
   "metadata": {},
   "source": [
    "The power *absorbed* is given by:  \n",
    "\n",
    "$$ P:=P(t)=-EI(t) = 10\\mathrm{V}\\,\\left(3\\mathrm{mA} + 6.67\\frac{\\mu \\mathrm{A}}{\\mathrm{s}}\\,t \\right)$$"
   ]
  },
  {
   "cell_type": "markdown",
   "id": "dd9633bf",
   "metadata": {},
   "source": [
    "$$ P = 30\\mathrm{mW} + 66.7\\,\\frac{\\mu \\mathrm{W}}{\\mathrm{s}}\\,t$$"
   ]
  },
  {
   "cell_type": "markdown",
   "id": "149b9d14",
   "metadata": {},
   "source": [
    "And, the energy absorbed by the battery is given by:  \n",
    "\n",
    "$$ \\Delta W = \\int_{0\\mathrm{mi}}^{15\\mathrm{mi}}P\\,\\mathrm{d}t$$"
   ]
  },
  {
   "cell_type": "markdown",
   "id": "b6fa2949",
   "metadata": {},
   "source": [
    "$$ \\int P\\,\\mathrm{d}t = 30\\mathrm{mW}\\,t + 33.35\\,\\frac{\\mu \\mathrm{W}}{\\mathrm{s}}\\,t^2 + K$$"
   ]
  },
  {
   "cell_type": "markdown",
   "id": "9fc5e52c",
   "metadata": {},
   "source": [
    "Thus,  \n",
    "\n",
    "$$ \\Delta W = 30\\mathrm{mW}\\cdot15\\cdot60\\mathrm{s} + 33.35\\frac{\\mu \\mathrm{W}}{\\mathrm{s}}\\cdot(15\\cdot60\\mathrm{s})^2 \\approxeq 54.01\\mathrm{J}$$"
   ]
  },
  {
   "cell_type": "code",
   "execution_count": 21,
   "id": "a8852c32",
   "metadata": {},
   "outputs": [
    {
     "data": {
      "text/plain": [
       "54.01349999999999"
      ]
     },
     "execution_count": 21,
     "metadata": {},
     "output_type": "execute_result"
    }
   ],
   "source": [
    "W = 0.03*15*60 + (15*60)**2*33.35e-6\n",
    "W"
   ]
  },
  {
   "cell_type": "markdown",
   "id": "1dc38891",
   "metadata": {},
   "source": [
    "#### Problem 11\n",
    "11. Given a $1.5 \\mathrm{V}$ AA battery (ideal source) with a nominal life of $150 \\mathrm{J}$. For how many days\n",
    "    will it power a calculator that draws $1 \\mathrm{mA}$ current?"
   ]
  },
  {
   "cell_type": "markdown",
   "id": "150c275b",
   "metadata": {},
   "source": [
    "$$E = 1.5\\mathrm{V}$$\n",
    "\n",
    "$$ I = 1\\mathrm{mA}$$\n",
    "\n",
    "$$ P :=P(t) = IE = 1.5\\mathrm{mW}$$"
   ]
  },
  {
   "cell_type": "markdown",
   "id": "2ee8159a",
   "metadata": {},
   "source": [
    "$$ \\Delta W = \\int_0^t P\\,\\mathrm{d}t = 150\\mathrm{J}$$"
   ]
  },
  {
   "cell_type": "markdown",
   "id": "41ac2f90",
   "metadata": {},
   "source": [
    "$$ \\int P \\,\\mathrm{d}t = 1.5\\mathrm{mW}\\,t + K$$"
   ]
  },
  {
   "cell_type": "markdown",
   "id": "bfa6e06b",
   "metadata": {},
   "source": [
    "$$ \\Delta W = 1.5\\mathrm{mW} t = 150\\mathrm{J}$$"
   ]
  },
  {
   "cell_type": "code",
   "execution_count": 22,
   "id": "b7c39fb0",
   "metadata": {},
   "outputs": [],
   "source": [
    "t = 150/1.5e-3"
   ]
  },
  {
   "cell_type": "markdown",
   "id": "72066f65",
   "metadata": {},
   "source": [
    "$$ t = 100\\mathrm{ks} \\approxeq 1666.67\\,\\text{minutes} \\approxeq 27.77\\,\\text{hours}\\approxeq1.15\\,\\text{days}$$"
   ]
  },
  {
   "cell_type": "code",
   "execution_count": 23,
   "id": "c53f70d6",
   "metadata": {},
   "outputs": [
    {
     "data": {
      "text/plain": [
       "1.1574074074074074"
      ]
     },
     "execution_count": 23,
     "metadata": {},
     "output_type": "execute_result"
    }
   ],
   "source": [
    "t/(60**2*24)"
   ]
  },
  {
   "cell_type": "markdown",
   "id": "81e82d0b",
   "metadata": {},
   "source": [
    "#### Problem 12\n",
    "12. A $12 \\mathrm{V}$ supply is used to charge $6 \\mathrm{V}$ battery of $0.8\\Omega$ internal resistance. What series resistance is necessary to limit the charging current to $600 \\mathrm{mA}$?"
   ]
  },
  {
   "cell_type": "markdown",
   "id": "6d67a9cc",
   "metadata": {},
   "source": [
    "Via KVL and equation (8),  \n",
    "\n",
    "$$ E - U = 12\\mathrm{V} - E_\\mathrm{o} + R_\\mathrm{t}I = 6\\mathrm{V} + 0.8\\Omega\\,I=0$$"
   ]
  },
  {
   "cell_type": "markdown",
   "id": "ab30204f",
   "metadata": {},
   "source": [
    "Without any series resistance ($R_\\mathrm{s}$) to limit the current drawn ($I$), we left with a current of:  \n",
    "\n",
    "$$ I = -\\frac{6\\mathrm{V}}{0.8\\Omega}-7.5\\mathrm{A}$$"
   ]
  },
  {
   "cell_type": "code",
   "execution_count": 24,
   "id": "2976c6e9",
   "metadata": {},
   "outputs": [],
   "source": [
    "I = -6/0.8"
   ]
  },
  {
   "cell_type": "markdown",
   "id": "0f629c00",
   "metadata": {},
   "source": [
    "Note that the above value is with respect to the direction of the internal resistance's arrowheads.  The negative value of $I$ implies that current arrowhead associated with the internal resistance points in the opposite direction of the conventional current flow, which is consistent with the rest of the circuit's arrowheads or poles.  Externally, the assumed arrowheads (or poles) are correct;  The current is flowing out of the positive terminal of the supply and into the positive terminal of the battery being charged."
   ]
  },
  {
   "cell_type": "markdown",
   "id": "93d88ec1",
   "metadata": {},
   "source": [
    "To limit the charging current to $600\\mathrm{mA}$ we need to solve for $R_\\mathrm{s}$ in the following equation.  \n",
    "\n",
    "$$ E - R_\\mathrm{s}\\,600\\mathrm{mA} - U = 0$$"
   ]
  },
  {
   "cell_type": "markdown",
   "id": "b4b2c1e7",
   "metadata": {},
   "source": [
    "$$ 6\\mathrm{V} - R_\\mathrm{s}\\,600\\mathrm{mA} + 0.8\\Omega\\,600\\mathrm{mA} = 0$$"
   ]
  },
  {
   "cell_type": "code",
   "execution_count": 25,
   "id": "c74b7ccf",
   "metadata": {},
   "outputs": [
    {
     "data": {
      "text/plain": [
       "10.8"
      ]
     },
     "execution_count": 25,
     "metadata": {},
     "output_type": "execute_result"
    }
   ],
   "source": [
    "(6+0.8*0.6)/0.6"
   ]
  },
  {
   "cell_type": "markdown",
   "id": "03eac1ab",
   "metadata": {},
   "source": [
    "$$ R_\\mathrm{s} = 10.8\\Omega$$"
   ]
  },
  {
   "cell_type": "markdown",
   "id": "4033654d",
   "metadata": {},
   "source": [
    "#### Problem 13\n",
    "13. Two practical sources characterized by the following parameters: $E_\\mathrm{o}=10\\mathrm{V}$, $R_\\mathrm{t}=2\\Omega$ and $J_\\mathrm{s}=5\\mathrm{A}$, $G_\\mathrm{t}=\\frac{1}{3}\\,\\mathrm{S}$\n",
    "    are connected in parallel, “+” with “+”. Find the open-circuit voltage\n",
    "    and the short-circuit current of the obtained active circuit."
   ]
  },
  {
   "cell_type": "markdown",
   "id": "b458ea62",
   "metadata": {},
   "source": [
    "Via equation (9a),  \n",
    "\n",
    "$$ J_1 = E_1G_1 = 0.5\\mathrm{S}\\,10\\mathrm{V} = 5\\mathrm{A}$$"
   ]
  },
  {
   "cell_type": "markdown",
   "id": "7f3bd2da",
   "metadata": {},
   "source": [
    "Thus,\n",
    "$$ J_\\mathrm{s} = J_1 + J_2 = 10\\mathrm{A}$$"
   ]
  },
  {
   "cell_type": "markdown",
   "id": "7b832c6a",
   "metadata": {},
   "source": [
    "The internal conductance ($G_\\mathrm{t}$) is:  \n",
    "\n",
    "$$ G_\\mathrm{t} = G_1 + G_2 = 0.5\\mathrm{S} + \\frac{1}{3}\\,\\mathrm{S} = \\frac{5}{6}\\,\\mathrm{S}$$"
   ]
  },
  {
   "cell_type": "markdown",
   "id": "990b408b",
   "metadata": {},
   "source": [
    "And the internal resistance is:  \n",
    "\n",
    "$$ R_\\mathrm{t} = 1.2\\Omega$$"
   ]
  },
  {
   "cell_type": "markdown",
   "id": "71467300",
   "metadata": {},
   "source": [
    "Via equation (9a), the open-circuit voltage of our newly obtained active subcircuit is:  \n",
    "\n",
    "$$ E_\\mathrm{o} = R_\\mathrm{t} J_\\mathrm{s} = \\frac{6}{5}\\,\\Omega\\cdot 10\\mathrm{A} = 12\\mathrm{V}$$"
   ]
  },
  {
   "cell_type": "markdown",
   "id": "bfb7170c",
   "metadata": {},
   "source": [
    "#### Problem 15\n",
    "15. A source with open-circuit voltage of $50 \\mathrm{V}$ and short-circuit current of $25 \\mathrm{A}$ is connected\n",
    "    to a $2 \\Omega$ load. What resistance should be connected in series to limit the power absorbed by\n",
    "    the load to $50 \\mathrm{W}$ ?"
   ]
  },
  {
   "cell_type": "markdown",
   "id": "1df2b6de",
   "metadata": {},
   "source": [
    "First, from the problem itself:\n",
    "* $ E_\\mathrm{o} = 50\\mathrm{V}$, \n",
    "* $I_\\mathrm{s}=25\\mathrm{A}$, and \n",
    "* $R_\\mathrm{l}:=R_\\mathrm{L} = 2\\Omega$."
   ]
  },
  {
   "cell_type": "markdown",
   "id": "207bca91",
   "metadata": {},
   "source": [
    "We need the following inequality to be satisfied:  \n",
    "\n",
    "$$ P = \\frac{U_\\mathrm{l}^2}{R_\\mathrm{l}} = \\frac{U_\\mathrm{l}^2}{2\\Omega} = I^2\\,2\\Omega \\le 50\\mathrm{W}$$"
   ]
  },
  {
   "cell_type": "markdown",
   "id": "d3a609bc",
   "metadata": {},
   "source": [
    "\\begin{equation}\\tag{9.1}\n",
    "    -5\\mathrm{A} \\le I \\le 5\\mathrm{A}\n",
    "\\end{equation}    "
   ]
  },
  {
   "cell_type": "markdown",
   "id": "ce160032",
   "metadata": {},
   "source": [
    "here, '$U_\\mathrm{l}$' denotes the voltage dropped across the load."
   ]
  },
  {
   "cell_type": "markdown",
   "id": "e4e0589e",
   "metadata": {},
   "source": [
    "Via equation (8),  \n",
    "\n",
    "$$ U = 50\\mathrm{V} - R_\\mathrm{t}I$$"
   ]
  },
  {
   "cell_type": "markdown",
   "id": "3bb05f09",
   "metadata": {},
   "source": [
    "Via equation (9a),  \n",
    "\n",
    "$$ R_\\mathrm{t} = \\frac{E_\\mathrm{o}}{J_\\mathrm{s}} = 2\\Omega$$"
   ]
  },
  {
   "cell_type": "markdown",
   "id": "d4f14559",
   "metadata": {},
   "source": [
    "Thus,  \n",
    "\n",
    "$$ U=50\\mathrm{V} - 2\\Omega\\,I$$"
   ]
  },
  {
   "cell_type": "markdown",
   "id": "2214321d",
   "metadata": {},
   "source": [
    "Via equation (9),  \n",
    "\n",
    "$$ I = 25\\mathrm{A} - 0.5\\mathrm{S}\\,U$$"
   ]
  },
  {
   "cell_type": "markdown",
   "id": "3848a146",
   "metadata": {},
   "source": [
    "We need to solve for $I$ in the following equation obtained from KVL and Ohm's Law,  \n",
    "\n",
    "$$ U - R_\\mathrm{s}I - R_\\mathrm{l}I = 50\\mathrm{V} - 2\\Omega\\,I - R_\\mathrm{s} I - 2\\Omega I = 0$$"
   ]
  },
  {
   "cell_type": "markdown",
   "id": "957220a5",
   "metadata": {},
   "source": [
    "$$ I(4\\Omega + R_\\mathrm{s}) = 50\\mathrm{V}$$"
   ]
  },
  {
   "cell_type": "markdown",
   "id": "a560add8",
   "metadata": {},
   "source": [
    "\\begin{equation}\\tag{9.2}\n",
    "    I = \\frac{50\\mathrm{V}}{4\\Omega + R_\\mathrm{s}}\n",
    "\\end{equation}    "
   ]
  },
  {
   "cell_type": "markdown",
   "id": "8bc7fb67",
   "metadata": {},
   "source": [
    "Via the above equation, equation (9.1), and substitution,  \n",
    "\n",
    "$$ -5\\mathrm{A}\\le \\frac{50\\mathrm{V}}{4\\Omega + R_\\mathrm{s}}\\le 5\\mathrm{A}$$"
   ]
  },
  {
   "cell_type": "markdown",
   "id": "ba5e7069",
   "metadata": {},
   "source": [
    "$$ -20\\mathrm{V} - 5\\mathrm{A}\\,R_\\mathrm{s}\\le 50\\mathrm{V} \\le 20\\mathrm{V} + 5\\mathrm{A}\\,R_\\mathrm{s}$$"
   ]
  },
  {
   "cell_type": "markdown",
   "id": "e1cd6401",
   "metadata": {},
   "source": [
    "$$ -40\\mathrm{V} - 5\\mathrm{A}\\,R_\\mathrm{s}\\le 30\\mathrm{V} \\le 5\\mathrm{A}\\,R_\\mathrm{s}$$"
   ]
  },
  {
   "cell_type": "markdown",
   "id": "df574df1",
   "metadata": {},
   "source": [
    "$$ -8\\Omega - R_\\mathrm{s}\\le 6\\Omega \\le R_\\mathrm{s}$$"
   ]
  },
  {
   "cell_type": "markdown",
   "id": "731f7ae1",
   "metadata": {},
   "source": [
    "#### Problem 16\n",
    "16. A $6 \\mathrm{V}$ battery has an internal resistance of $0.1 \\Omega$. Find the load resistance which would\n",
    "    reduce its terminal voltage to $5 \\mathrm{V}$."
   ]
  },
  {
   "cell_type": "markdown",
   "id": "ecab38b1",
   "metadata": {},
   "source": [
    "From the problem itself,\n",
    "* $E_\\mathrm{o} = 6\\mathrm{V}$\n",
    "* $R_\\mathrm{t} = 0.1\\Omega$"
   ]
  },
  {
   "cell_type": "markdown",
   "id": "87ebd2fa",
   "metadata": {},
   "source": [
    "We need to find a load resistance ($R_\\mathrm{l}$) such that,  \n",
    "\n",
    "$$ R_\\mathrm{l}I = 5\\mathrm{V}$$"
   ]
  },
  {
   "cell_type": "markdown",
   "id": "f3b409dc",
   "metadata": {},
   "source": [
    "Via KVL and equation (8),  \n",
    "\n",
    "$$ U = 5\\mathrm{V} = 6\\mathrm{V} - 0.1\\Omega\\, I$$"
   ]
  },
  {
   "cell_type": "markdown",
   "id": "b912eaa7",
   "metadata": {},
   "source": [
    "$$ 0.1\\Omega I = 1\\mathrm{V}$$"
   ]
  },
  {
   "cell_type": "markdown",
   "id": "d26d00ad",
   "metadata": {},
   "source": [
    "$$ I = 10\\mathrm{A}$$"
   ]
  },
  {
   "cell_type": "markdown",
   "id": "47fff2bb",
   "metadata": {},
   "source": [
    "$$ R_\\mathrm{l} = \\frac{5\\mathrm{V}}{10\\mathrm{A}} = 0.5\\Omega$$"
   ]
  },
  {
   "cell_type": "markdown",
   "id": "9ad38444",
   "metadata": {},
   "source": [
    "#### Problem 18\n",
    "18. Find Thevenin and Norton equivalents.  \n",
    "\n",
    "![Fig-2.5.18](Figures/Fig-2.5.18.png)"
   ]
  },
  {
   "cell_type": "markdown",
   "id": "b466c686",
   "metadata": {},
   "source": [
    "Let:  \n",
    "\n",
    "\\begin{matrix}\n",
    "    &E_2 := 4\\mathrm{V}\\quad &R_2 :=2\\Omega \\\\\n",
    "    &J_1 := 2\\mathrm{A}\\quad &R_1 :=4\\Omega \\\\\n",
    "    &R_3 := 6\\Omega \\quad& \n",
    "\\end{matrix}    "
   ]
  },
  {
   "cell_type": "markdown",
   "id": "5cfd075e",
   "metadata": {},
   "source": [
    "Now, let's convert the bottom subcircuit ($J_1$, $G_1$) into it's Thevenin equivalent ($E_1$, $R_1$).  Via equation (9a), $E_1 = J_1R_1 = 8\\mathrm{V}$."
   ]
  },
  {
   "cell_type": "markdown",
   "id": "d33ddea1",
   "metadata": {},
   "source": [
    "So now we have ($E_1$, $R_1$) in series with ($E_2$, $R_2$).  We can simply combine these into a voltage source of $E=E_1 + E_2 = 12\\mathrm{V}$ in series with a resistance of $R=R_1+R_2 = 6\\Omega$."
   ]
  },
  {
   "cell_type": "markdown",
   "id": "bbd04c42",
   "metadata": {},
   "source": [
    "The internal resistance of our new obtained active subcircuit is,  \n",
    "\n",
    "$$ R_\\mathrm{t} = \\frac{1}{G_\\mathrm{t}} = \\frac{1}{G + G_3} = 3\\Omega $$"
   ]
  },
  {
   "cell_type": "markdown",
   "id": "ce2bf78c",
   "metadata": {},
   "source": [
    "Via KVL and Ohm's Law,  \n",
    "\n",
    "$$ 12\\mathrm{V} - RI - R_3I = 12\\mathrm{V} - 12\\Omega\\,I = 0$$"
   ]
  },
  {
   "cell_type": "markdown",
   "id": "db6c86b1",
   "metadata": {},
   "source": [
    "$$ I = 1\\mathrm{A}$$"
   ]
  },
  {
   "cell_type": "markdown",
   "id": "bec05447",
   "metadata": {},
   "source": [
    "The open-circuit voltage ($E_\\mathrm{o}$) is equal to the voltage dropped across $R_3$ when all of the current flows through that branch, leaving none to flow through the terminals of our subcircuit.  \n",
    "\n",
    "$$ E_\\mathrm{o} = 6\\Omega\\,I = 6\\mathrm{V}$$"
   ]
  },
  {
   "cell_type": "markdown",
   "id": "200dbe1c",
   "metadata": {},
   "source": [
    "Via equation (9a),  \n",
    "\n",
    "$$ J_\\mathrm{s} = \\frac{6\\mathrm{V}}{3\\Omega} = 2\\mathrm{A}$$"
   ]
  },
  {
   "cell_type": "markdown",
   "id": "6ee06347",
   "metadata": {},
   "source": [
    "#### Problem 19\n",
    "19. Find the Thevenin equivalents of the circuits shown.  \n",
    "\n",
    "![Fig-2.5.19](Figures/Fig-2.5.19.svg)"
   ]
  },
  {
   "cell_type": "markdown",
   "id": "8ac19958",
   "metadata": {},
   "source": [
    "For the **left circuit**:  \n",
    "\n",
    "$$E_\\mathrm{o} = 7\\mathrm{V}$$\n",
    "\n",
    "and,\n",
    "$$ G_\\mathrm{t} = 0.5\\mathrm{S}$$\n",
    "\n",
    "$$ R_\\mathrm{t} = 2\\Omega$$"
   ]
  },
  {
   "cell_type": "markdown",
   "id": "8b25d753",
   "metadata": {},
   "source": [
    "For the **right circuit**:  \n",
    "\n",
    "Via KVL and Ohm's Law,  \n",
    "\n",
    "\\begin{equation}\\tag{19.r.1}\n",
    "    4\\mathrm{V} - 2\\Omega\\,I_\\mathrm{r} - 2\\Omega\\,I_\\mathrm{m} = 0\n",
    "\\end{equation}    "
   ]
  },
  {
   "cell_type": "markdown",
   "id": "075c3199",
   "metadata": {},
   "source": [
    "and,\n",
    "\\begin{equation}\\tag{19.r.2}\n",
    "    2\\Omega\\,I_\\mathrm{m} + U_\\mathrm{J} - 2\\Omega\\,2\\mathrm{A} = 0\n",
    "\\end{equation}    "
   ]
  },
  {
   "cell_type": "markdown",
   "id": "9444bb62",
   "metadata": {},
   "source": [
    "Via KCL,  \n",
    "\n",
    "\\begin{equation}\\tag{19.r.3}\n",
    "    I_\\mathrm{r} - I_\\mathrm{m} - 2\\mathrm{A} = 0\n",
    "\\end{equation}    "
   ]
  },
  {
   "cell_type": "markdown",
   "id": "ce1d79fe",
   "metadata": {},
   "source": [
    "Via equations (19.r.3) and (19.r.1), substitution, and dividing throughout by $2\\Omega$,  \n",
    "\n",
    "$$ 2\\mathrm{A} - I_\\mathrm{m} - 2\\mathrm{A} - I_\\mathrm{m} = 0$$"
   ]
  },
  {
   "cell_type": "markdown",
   "id": "6e259671",
   "metadata": {},
   "source": [
    "Thus,\n",
    "\n",
    "\\begin{equation}\\tag{19.r.4}\n",
    "    I_\\mathrm{m} = 0\\mathrm{A}\n",
    "\\end{equation}    "
   ]
  },
  {
   "cell_type": "markdown",
   "id": "2376ef96",
   "metadata": {},
   "source": [
    "Via equation (19.r.4) and (19.r.3) in conjunction with substitution,  \n",
    "\n",
    "\\begin{equation}\\tag{19.r.5}\n",
    "    I_\\mathrm{r} = 2\\mathrm{A}\n",
    "\\end{equation}    "
   ]
  },
  {
   "cell_type": "markdown",
   "id": "d601b3ce",
   "metadata": {},
   "source": [
    "Via equations (19.r.4) and (19.r.2),  \n",
    "\n",
    "\\begin{equation}\\tag{19.r.6}\n",
    "    U_\\mathrm{J} = 4\\mathrm{V}\n",
    "\\end{equation}    "
   ]
  },
  {
   "cell_type": "markdown",
   "id": "1cb70718",
   "metadata": {},
   "source": [
    "$$ E_\\mathrm{o} = 4\\mathrm{V}$$\n",
    "\n",
    "and,\n",
    "$$ R_\\mathrm{t} = \\frac{4}{3}\\,\\Omega$$"
   ]
  },
  {
   "cell_type": "markdown",
   "id": "aec22efa",
   "metadata": {},
   "source": [
    "#### Problem 20\n",
    "20. An alternator with o.c. (open-circuit) voltage of $20 \\mathrm{V}$ and s.c. current of $10 \\mathrm{A}$ DC is to be used to charge car battery with o.c. voltage of $12 \\mathrm{V}$ and internal resistance ranging from $1\\Omega$\n",
    "    to $5\\Omega$ . What resistance should be connected in series to limit the charging current to $2 \\mathrm{A}$ ?"
   ]
  },
  {
   "cell_type": "markdown",
   "id": "75145472",
   "metadata": {},
   "source": [
    "Let:  \n",
    "\\begin{matrix}\n",
    "    &E_1:=20\\mathrm{V}\\quad &J_1:=10\\mathrm{A} \\\\\n",
    "    &E_2:=12\\mathrm{V} \\quad& \n",
    "\\end{matrix}    "
   ]
  },
  {
   "cell_type": "markdown",
   "id": "64f4bf86",
   "metadata": {},
   "source": [
    "It then follows that the internal resistance of the alternator ($R_1$) is,  \n",
    "\n",
    "$$ R_1 = \\frac{20\\mathrm{V}}{10\\mathrm{A}} = 2\\Omega$$"
   ]
  },
  {
   "cell_type": "markdown",
   "id": "fa7f72c2",
   "metadata": {},
   "source": [
    "From what's stated in the problem, the internal resistance of the battery ($R_2$) satisfies the following inequality:  \n",
    "\n",
    "\\begin{equation}\\tag{20.1}\n",
    "    1\\Omega \\le R_2 \\le 5\\Omega\n",
    "\\end{equation}    "
   ]
  },
  {
   "cell_type": "markdown",
   "id": "4e1e1659",
   "metadata": {},
   "source": [
    "We solve the problem, we must solve for $R_\\mathrm{s}$ in the following equation:  \n",
    "\n",
    "$$U_1 - R_\\mathrm{s}I - U_2 = E_1 - R_1I - R_\\mathrm{s}I - E_2 + R_2I_2 = 0$$"
   ]
  },
  {
   "cell_type": "markdown",
   "id": "87fbf9a9",
   "metadata": {},
   "source": [
    "Since $I_2=-I$,  \n",
    "\n",
    "$$8\\mathrm{V} = I(2\\Omega + R_\\mathrm{s} + R_2) $$"
   ]
  },
  {
   "cell_type": "markdown",
   "id": "508f3bc0",
   "metadata": {},
   "source": [
    "$$ I = \\frac{8\\mathrm{V}}{2\\Omega + R_\\mathrm{s} + R_2}$$"
   ]
  },
  {
   "cell_type": "markdown",
   "id": "3b3bd2ee",
   "metadata": {},
   "source": [
    "Via the fact that $I\\le 2\\mathrm{A}$, the above equation, and substitution,  \n",
    "\n",
    "$$ 8\\mathrm{V}\\le 4\\mathrm{V} + R_\\mathrm{s}2\\mathrm{A} + R_2 2\\mathrm{A}$$"
   ]
  },
  {
   "cell_type": "markdown",
   "id": "4ecb291b",
   "metadata": {},
   "source": [
    "$$ 2\\mathrm{V} \\le (R_\\mathrm{s} + R_2)\\,\\mathrm{A}$$"
   ]
  },
  {
   "cell_type": "markdown",
   "id": "ef102883",
   "metadata": {},
   "source": [
    "$$ 2\\Omega \\le R_\\mathrm{s} + R_2$$"
   ]
  },
  {
   "cell_type": "markdown",
   "id": "a78dee0c",
   "metadata": {},
   "source": [
    "\\begin{equation}\\tag{20.2}\n",
    "    R_2 \\ge 2\\Omega - R_\\mathrm{s}\n",
    "\\end{equation}    "
   ]
  },
  {
   "cell_type": "markdown",
   "id": "26d4b34b",
   "metadata": {},
   "source": [
    "Via inequalities (20.2) and (20.1),  \n",
    "\n",
    "$$ 2\\Omega -R_\\mathrm{s} \\le 1\\Omega$$"
   ]
  },
  {
   "cell_type": "markdown",
   "id": "afbcc2a0",
   "metadata": {},
   "source": [
    "$$ R_\\mathrm{s} \\ge 1\\Omega$$"
   ]
  },
  {
   "cell_type": "code",
   "execution_count": 26,
   "id": "841a79ed",
   "metadata": {},
   "outputs": [
    {
     "data": {
      "text/plain": [
       "1.0"
      ]
     },
     "execution_count": 26,
     "metadata": {},
     "output_type": "execute_result"
    }
   ],
   "source": [
    "8/(2+1+5)"
   ]
  },
  {
   "cell_type": "markdown",
   "id": "c451d06f",
   "metadata": {},
   "source": [
    "#### Problem 21\n",
    "21. Suppose that voltage $u$ of a car battery varies linearly from $14\\mathrm{V}$ to $12\\mathrm{V}$ as $t$ varies from $0$ to $10$ minutes, and the constant current $I=0.5\\mathrm{A}$ is entering the positive terminal. Find, a) the\n",
    "    total energy supplied, b) the total charge delivered to the battery."
   ]
  },
  {
   "cell_type": "markdown",
   "id": "d9c583fa",
   "metadata": {},
   "source": [
    "$$ u:=u(t) = 14\\mathrm{V} - \\frac{2\\mathrm{V}}{10\\mathrm{mi}}\\,t$$"
   ]
  },
  {
   "cell_type": "markdown",
   "id": "4e21aa8b",
   "metadata": {},
   "source": [
    "To find the total energy ($\\Delta W$),  \n",
    "\n",
    "$$ \\Delta W = \\int_{0\\mathrm{mi}}^{10\\mathrm{mi}} P\\,\\mathrm{d}t$$"
   ]
  },
  {
   "cell_type": "markdown",
   "id": "12b905c6",
   "metadata": {},
   "source": [
    "where '$P$' denotes the power,  \n",
    "\n",
    "$$ P := P(t) = u(t)\\cdot I$$"
   ]
  },
  {
   "cell_type": "markdown",
   "id": "1cf7e64d",
   "metadata": {},
   "source": [
    "$$ \\int P \\, \\mathrm{d}t = I\\int u\\,\\mathrm{d}t = 0.5\\mathrm{A}\\left(14\\mathrm{V}\\,t - \\frac{\\mathrm{V}}{10\\mathrm{mi}}\\,t^2 \\right) + K$$"
   ]
  },
  {
   "cell_type": "markdown",
   "id": "c831186e",
   "metadata": {},
   "source": [
    "Thus, \n",
    "\n",
    "$$ \\Delta W = 0.5\\mathrm{A} (140\\mathrm{V}\\,\\mathrm{mi} - 10\\mathrm{V}\\,\\mathrm{mi}) = 4200\\mathrm{J} - 300\\mathrm{J} = 3.9\\mathrm{kJ}$$"
   ]
  },
  {
   "cell_type": "code",
   "execution_count": 27,
   "id": "0f2cf97e",
   "metadata": {},
   "outputs": [
    {
     "data": {
      "text/plain": [
       "4200.0"
      ]
     },
     "execution_count": 27,
     "metadata": {},
     "output_type": "execute_result"
    }
   ],
   "source": [
    "60*140/2"
   ]
  },
  {
   "cell_type": "markdown",
   "id": "17470321",
   "metadata": {},
   "source": [
    "The total charge delivered is:  \n",
    "\n",
    "$$ \\Delta Q = 300\\mathrm{C}$$"
   ]
  },
  {
   "cell_type": "markdown",
   "id": "c906ca1c",
   "metadata": {},
   "source": [
    "#### Problem 22\n",
    "22. If a current $I=0.5\\mathrm{A}$ is entering the positive terminal of a $E_\\mathrm{o}=12\\mathrm{V}$, $R_\\mathrm{t}=2\\Omega$, battery, find the energy supplied to the battery in 2 h."
   ]
  },
  {
   "cell_type": "markdown",
   "id": "c1543c81",
   "metadata": {},
   "source": [
    "$$ P = IU = I(12\\mathrm{V} + 2\\Omega\\,I) = 0.5\\cdot 13\\mathrm{W}$$"
   ]
  },
  {
   "cell_type": "markdown",
   "id": "073d8474",
   "metadata": {},
   "source": [
    "$$ \\Delta W = \\int_0^{2\\mathrm{h}}P\\,\\mathrm{d}t = 13 \\cdot 60^2 \\mathrm{J}$$"
   ]
  },
  {
   "cell_type": "markdown",
   "id": "b205fa51",
   "metadata": {},
   "source": [
    "#### Problem 25\n",
    "25. Use a series of Norton-Thevenin and series/parallel transformations to reduce a circuit\n",
    "    shown into the single-loop circuit. Then, find current $I$.  \n",
    "    \n",
    "![Fig-2.5.25](Figures/Fig-2.5.25.png)"
   ]
  },
  {
   "cell_type": "markdown",
   "id": "fa9819c8",
   "metadata": {},
   "source": [
    "Let $E_2:=4\\mathrm{V}$ and $R_2:=2\\Omega$.  Converting ($E_2$, $R_2$) into it's Norton equivalent gives:  \n",
    "\n",
    "$$ J_2 = \\frac{4\\mathrm{V}}{2\\Omega} = 2\\mathrm{A}$$"
   ]
  },
  {
   "cell_type": "markdown",
   "id": "732cb5b5",
   "metadata": {},
   "source": [
    "and,  \n",
    "$$ G_2 = 0.5\\mathrm{S} $$"
   ]
  },
  {
   "cell_type": "markdown",
   "id": "1efcbafd",
   "metadata": {},
   "source": [
    "Combining the the branch that is parallel with $G_2$ gives:  \n",
    "\n",
    "$$G_2 = 0.5\\mathrm{S} + \\frac{1}{6\\Omega} = \\frac{2}{3}\\,\\mathrm{S}$$"
   ]
  },
  {
   "cell_type": "markdown",
   "id": "11208f1c",
   "metadata": {},
   "source": [
    "Converting ($J_2$, $G_2$) into it's Thevenin equivalent gives:  \n",
    "\n",
    "$$ R_2 = \\frac{3}{2}\\,\\Omega$$"
   ]
  },
  {
   "cell_type": "markdown",
   "id": "5368c377",
   "metadata": {},
   "source": [
    "and,\n",
    "$$E_2 = 3\\mathrm{V} $$"
   ]
  },
  {
   "cell_type": "markdown",
   "id": "a3fa86e1",
   "metadata": {},
   "source": [
    "Now, let $J_1:=1\\mathrm{A}$ and $G_1:=0.25\\mathrm{S}$.  \n",
    "\n",
    "$$ E_1 = J_1 R_1 = 4\\mathrm{V}$$"
   ]
  },
  {
   "cell_type": "markdown",
   "id": "d7639c46",
   "metadata": {},
   "source": [
    "We now have a single loop circuit consisting of a series connection between two Thevenin equivalents and a resistance of $2\\Omega$."
   ]
  },
  {
   "cell_type": "markdown",
   "id": "6b937ce5",
   "metadata": {},
   "source": [
    "Via KVL and Ohm's Law,  \n",
    "\n",
    "$$ U_1 - 2\\Omega\\,I - U_2 = 0$$"
   ]
  },
  {
   "cell_type": "markdown",
   "id": "2b46a3a1",
   "metadata": {},
   "source": [
    "$$ U_1 = E_1 - R_1 I = 4\\mathrm{V} - 4\\Omega\\, I$$\n",
    "\n",
    "and,\n",
    "$$ U_2 = E_2 + R_2 I = 3\\mathrm{V} + 1.5\\Omega\\,I$$"
   ]
  },
  {
   "cell_type": "markdown",
   "id": "0027ae95",
   "metadata": {},
   "source": [
    "Thus,\n",
    "$$ 1\\mathrm{V} = 7.5\\Omega\\,I$$"
   ]
  },
  {
   "cell_type": "markdown",
   "id": "34f791e2",
   "metadata": {},
   "source": [
    "$$ I = 133.33\\mathrm{mA}$$"
   ]
  },
  {
   "cell_type": "code",
   "execution_count": 28,
   "id": "ba7b3a68",
   "metadata": {},
   "outputs": [
    {
     "data": {
      "text/plain": [
       "0.13333333333333333"
      ]
     },
     "execution_count": 28,
     "metadata": {},
     "output_type": "execute_result"
    }
   ],
   "source": [
    "1/7.5"
   ]
  },
  {
   "cell_type": "markdown",
   "id": "51366c43",
   "metadata": {},
   "source": [
    "#### Problem 27\n",
    "27. A source produces a terminal voltage of $10 \\mathrm{V}$ when supplying a current of $1 \\mathrm{A}$. When the\n",
    "    current increased to $2 \\mathrm{A}$ the voltage falls to $8 \\mathrm{V}$. Find the Norton equivalent of the source."
   ]
  },
  {
   "cell_type": "markdown",
   "id": "8a05fcad",
   "metadata": {},
   "source": [
    "Via equation (9) and the above equation,  \n",
    "\n",
    "$$ 1\\mathrm{A} = J_\\mathrm{s} - G_\\mathrm{t}\\,10\\mathrm{V}$$"
   ]
  },
  {
   "cell_type": "markdown",
   "id": "cf42ef75",
   "metadata": {},
   "source": [
    "$$ 2\\mathrm{A} = J_\\mathrm{s} - G_\\mathrm{t}\\,8\\mathrm{V}$$"
   ]
  },
  {
   "cell_type": "markdown",
   "id": "b728ee43",
   "metadata": {},
   "source": [
    "$$ 1\\mathrm{A} + G_\\mathrm{t}\\,10\\mathrm{V} = 2\\mathrm{A} + G_\\mathrm{t}\\,8\\mathrm{V}$$"
   ]
  },
  {
   "cell_type": "markdown",
   "id": "850f7360",
   "metadata": {},
   "source": [
    "$$ 1\\mathrm{A} = G_\\mathrm{t}\\,2\\mathrm{V}$$"
   ]
  },
  {
   "cell_type": "markdown",
   "id": "971faaf5",
   "metadata": {},
   "source": [
    "$$ G_\\mathrm{t} = 0.5\\mathrm{S} $$"
   ]
  },
  {
   "cell_type": "markdown",
   "id": "1af48d29",
   "metadata": {},
   "source": [
    "$$ J_\\mathrm{s} = 1\\mathrm{A} + 5\\mathrm{A} = 6\\mathrm{A}$$"
   ]
  },
  {
   "cell_type": "markdown",
   "id": "3f828e62",
   "metadata": {},
   "source": [
    "#### Problem 28\n",
    "28. A current source is made by connecting a voltage source of $10 \\mathrm{V}$ and negligible internal\n",
    "    resistance in series with resistance of $100 \\Omega$. Find the allowed range of load resistance if\n",
    "    the current is to remain constant within $10\\mathrm{\\%}$ of its maximum value. For the calculated\n",
    "    range of load resistance, find the range of its voltage."
   ]
  },
  {
   "cell_type": "markdown",
   "id": "2b786ecd",
   "metadata": {},
   "source": [
    "$$ E_\\mathrm{o} = 10\\mathrm{V}\\quad R_\\mathrm{t}=100\\Omega$$"
   ]
  },
  {
   "cell_type": "markdown",
   "id": "8ca0a8fc",
   "metadata": {},
   "source": [
    "The max value of the current is equal to the short-circuit current or Norton equivalent, denoted as '$J_\\mathrm{s}$'."
   ]
  },
  {
   "cell_type": "markdown",
   "id": "552a21ba",
   "metadata": {},
   "source": [
    "$$ J_\\mathrm{s} = G_\\mathrm{t}E_\\mathrm{o} = 0.1\\mathrm{A}$$"
   ]
  },
  {
   "cell_type": "markdown",
   "id": "c76b2315",
   "metadata": {},
   "source": [
    "$$ 0\\mathrm{mA} < I\\le 0.1J_\\mathrm{s} = 10\\mathrm{mA}$$"
   ]
  },
  {
   "cell_type": "markdown",
   "id": "90f2c410",
   "metadata": {},
   "source": [
    "Via KVL and Ohm's Law,  \n",
    "\n",
    "$$ U - R_\\mathrm{l}I = 10\\mathrm{V} - 100\\Omega\\,I - R_\\mathrm{l}I = 0$$"
   ]
  },
  {
   "cell_type": "markdown",
   "id": "267f7ae3",
   "metadata": {},
   "source": [
    "$$ I(100\\Omega + R_\\mathrm{l}) = 10\\mathrm{V}$$"
   ]
  },
  {
   "cell_type": "markdown",
   "id": "087f2366",
   "metadata": {},
   "source": [
    "$$ I = \\frac{10\\mathrm{V}}{100\\Omega + R_\\mathrm{l}}$$"
   ]
  },
  {
   "cell_type": "markdown",
   "id": "fa787968",
   "metadata": {},
   "source": [
    "$$ 0\\mathrm{mA} < \\frac{10\\mathrm{V}}{100\\Omega + R_\\mathrm{l}} \\le 10\\mathrm{mA}$$"
   ]
  },
  {
   "cell_type": "markdown",
   "id": "d06ea521",
   "metadata": {},
   "source": [
    "$$ 0\\mathrm{V} < 10\\mathrm{V} \\le 10\\mathrm{mA}\\,(100\\Omega+R_\\mathrm{l})$$"
   ]
  },
  {
   "cell_type": "markdown",
   "id": "a166bcd0",
   "metadata": {},
   "source": [
    "$$ 1000\\Omega \\le 100\\Omega + R_\\mathrm{l}$$"
   ]
  },
  {
   "cell_type": "markdown",
   "id": "6b3d7f21",
   "metadata": {},
   "source": [
    "$$ R_\\mathrm{l} \\ge 900\\Omega$$"
   ]
  },
  {
   "cell_type": "markdown",
   "id": "46f51f46",
   "metadata": {},
   "source": [
    "$$ U_\\mathrm{l} := U_\\mathrm{l}(R_\\mathrm{l}) = R_\\mathrm{l}I = R_\\mathrm{l}\\,\\frac{10\\mathrm{V}}{100\\Omega + R_\\mathrm{l}}$$"
   ]
  },
  {
   "cell_type": "markdown",
   "id": "3a95ffef",
   "metadata": {},
   "source": [
    "$$ U_\\mathrm{l}'(R_\\mathrm{l}) = I - R_\\mathrm{l}\\,\\frac{10\\mathrm{V}}{(100\\Omega + R_\\mathrm{l})^2}$$"
   ]
  },
  {
   "cell_type": "markdown",
   "id": "7fcac2c7",
   "metadata": {},
   "source": [
    "The max value of $U_\\mathrm{l}$ occurs at a resistance of $R_\\max$ such that $U_\\mathrm{l}'(R_\\max:=R)=0$."
   ]
  },
  {
   "cell_type": "markdown",
   "id": "0866433c",
   "metadata": {},
   "source": [
    "$$ 10\\mathrm{V}(100\\Omega + R_\\mathrm{l}) - 10\\mathrm{V}\\,R_\\mathrm{l} = 0 $$"
   ]
  },
  {
   "cell_type": "markdown",
   "id": "4a42f459",
   "metadata": {},
   "source": []
  },
  {
   "cell_type": "code",
   "execution_count": 29,
   "id": "040e0e5b",
   "metadata": {},
   "outputs": [],
   "source": [
    "def I(R_l):\n",
    "    return 10/(100+R_l)\n",
    "\n",
    "def U_l(R_l):\n",
    "    return R_l*I(R_l)"
   ]
  },
  {
   "cell_type": "code",
   "execution_count": 30,
   "id": "c1ae12cd",
   "metadata": {},
   "outputs": [],
   "source": [
    "import matplotlib.pyplot as plt"
   ]
  },
  {
   "cell_type": "code",
   "execution_count": 31,
   "id": "e17dd793",
   "metadata": {},
   "outputs": [
    {
     "data": {
      "text/plain": [
       "[<matplotlib.lines.Line2D at 0x7f0972616fa0>]"
      ]
     },
     "execution_count": 31,
     "metadata": {},
     "output_type": "execute_result"
    },
    {
     "data": {
      "image/png": "[encoded data removed]",
      "text/plain": [
       "<Figure size 432x288 with 1 Axes>"
      ]
     },
     "metadata": {
      "needs_background": "light"
     },
     "output_type": "display_data"
    }
   ],
   "source": [
    "R_l = np.linspace(900, 90000, num=200)\n",
    "U_l = R_l*10/(100+R_l)\n",
    "\n",
    "fig, ax = plt.subplots()\n",
    "ax.set_title('Load Voltage vs Load Resistance')\n",
    "ax.set_xlabel('resistance (ohms)')\n",
    "ax.set_ylabel('voltage (volts)')\n",
    "\n",
    "ax.plot(R_l, U_l)"
   ]
  }
 ],
 "metadata": {
  "kernelspec": {
   "display_name": "Python 3 (ipykernel)",
   "language": "python",
   "name": "python3"
  },
  "language_info": {
   "codemirror_mode": {
    "name": "ipython",
    "version": 3
   },
   "file_extension": ".py",
   "mimetype": "text/x-python",
   "name": "python",
   "nbconvert_exporter": "python",
   "pygments_lexer": "ipython3",
   "version": "3.8.10"
  }
 },
 "nbformat": 4,
 "nbformat_minor": 5
}
