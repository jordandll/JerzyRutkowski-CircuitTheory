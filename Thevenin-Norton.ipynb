{
 "cells": [
  {
   "cell_type": "markdown",
   "id": "6714e66b",
   "metadata": {},
   "source": [
    "# Two-Terminal Subcircuit, Thevenin’s/Norton’s Theorem\n",
    "\n",
    "### *Chapter 2.5* - DC Analysis"
   ]
  },
  {
   "cell_type": "markdown",
   "id": "39969f0f",
   "metadata": {},
   "source": [
    "## Passive Two-Terminal Subcircuit\n",
    "\n",
    "A passive two-terminal subcircuit, a subcircuit built of resistors, connected with the rest of a\n",
    "circuit in two terminal nodes is presented in Fig. 2.5.1."
   ]
  },
  {
   "cell_type": "markdown",
   "id": "aa8b84c1",
   "metadata": {},
   "source": [
    "It can be easily proven, that for any linear passive two-terminal subcircuit its equivalent or total resistance ($R_\\mathrm{t}$) can be found. The subcircuit is characterized by Ohm’s law:  \n",
    "\n",
    "\\begin{equation}\\tag{1a}\n",
    "    U = R_\\mathrm{t}I\n",
    "\\end{equation}    "
   ]
  },
  {
   "cell_type": "markdown",
   "id": "e895e004",
   "metadata": {},
   "source": [
    "and,\n",
    "\\begin{equation}\\tag{1b}\n",
    "    I = G_\\mathrm{t}U\n",
    "\\end{equation}    "
   ]
  },
  {
   "cell_type": "markdown",
   "id": "04babd13",
   "metadata": {},
   "source": [
    "Series and parallel connection of resistors are the special cases."
   ]
  },
  {
   "cell_type": "markdown",
   "id": "4bd65458",
   "metadata": {},
   "source": [
    "#### Series connection of resistors, Voltage divider\n",
    "\n",
    "Consider arrangement of resistors so that the same current passes through each resistor, the so\n",
    "called series connection, as depicted in Fig. 2.5.2.  \n",
    "\n",
    "![Fig-2.5.2](Figures/Fig-2.5.2.png)"
   ]
  },
  {
   "cell_type": "markdown",
   "id": "76b2c5c6",
   "metadata": {},
   "source": [
    "Via KVL and Ohm's Law,  \n",
    "\n",
    "\\begin{equation}\\tag{2}\n",
    "    U  =\\sum_{i=1}^N U_i = I\\sum_{i=1}^N R_i = R_\\mathrm{t}I\n",
    "\\end{equation}    "
   ]
  },
  {
   "cell_type": "markdown",
   "id": "46a124d7",
   "metadata": {},
   "source": [
    "The total resistance is given by:  \n",
    "\n",
    "\\begin{equation}\\tag{2a}\n",
    "    R_\\mathrm{t} = \\sum_{i=1}^N R_i\n",
    "\\end{equation}    "
   ]
  },
  {
   "cell_type": "markdown",
   "id": "8c2d8852",
   "metadata": {},
   "source": [
    "A circuit of series resistors divides the input voltage by the ratio of the resistance to the total\n",
    "resistance.  \n",
    "\n",
    "\\begin{equation}\\tag{3}\n",
    "    U_i = U\\,\\frac{R_i}{R_\\mathrm{t}}\n",
    "\\end{equation}    "
   ]
  },
  {
   "cell_type": "markdown",
   "id": "524b9ed3",
   "metadata": {},
   "source": [
    "Proof:  \n",
    "\n",
    "Via Ohm's Law and dividing throughout by the resistance of the two termianl subcircuit in question,  \n",
    "\n",
    "$$ I = \\frac{U}{R_\\mathrm{t}}$$"
   ]
  },
  {
   "cell_type": "markdown",
   "id": "f745e2f7",
   "metadata": {},
   "source": [
    "and,\n",
    "$$ I = \\frac{U_i}{R_i}$$"
   ]
  },
  {
   "cell_type": "markdown",
   "id": "35699cba",
   "metadata": {},
   "source": [
    "Via the above two equations and equivalence principle,  \n",
    "\n",
    "$$ \\frac{U}{R_\\mathrm{t}} = \\frac{U_i}{R_i}$$"
   ]
  },
  {
   "cell_type": "markdown",
   "id": "95e529dd",
   "metadata": {},
   "source": [
    "Thus,\n",
    "$$ U_i = U\\,\\frac{R_i}{R_\\mathrm{t}}$$"
   ]
  },
  {
   "cell_type": "markdown",
   "id": "35b794e5",
   "metadata": {},
   "source": [
    "Q.E.D."
   ]
  },
  {
   "cell_type": "markdown",
   "id": "9f85d520",
   "metadata": {},
   "source": [
    "#### Parallel connection of resistors, Current divider\n",
    "\n",
    "Consider arrangement of resistors so that each resistor has the same voltage, the so called\n",
    "parallel connection, as depicted in Fig. 2.5.3.  \n",
    "\n",
    "![Fig - 2.5.3](Figures/Fig-2.5.3.png)"
   ]
  },
  {
   "cell_type": "markdown",
   "id": "80f1677c",
   "metadata": {},
   "source": [
    "Via KCL and Ohm's Law,  \n",
    "\n",
    "\\begin{equation}\\tag{4}\n",
    "    I = \\sum_{i=1}^N I_i = U\\sum_{i=1}^N G_i = UG_\\mathrm{t}\n",
    "\\end{equation}    "
   ]
  },
  {
   "cell_type": "markdown",
   "id": "a92d60c4",
   "metadata": {},
   "source": [
    "where the total conductance ($G_\\mathrm{t}$) is given by:  \n",
    "\n",
    "\\begin{equation}\\tag{4a}\n",
    "    G_\\mathrm{t} =\\sum_{i=1}^N G_i\n",
    "\\end{equation}    "
   ]
  },
  {
   "cell_type": "markdown",
   "id": "dd969b2b",
   "metadata": {},
   "source": [
    "A circuit of parallel resistors divides the input current by the ratio of the conductance ($G_i$) to the\n",
    "total conductance,  \n",
    "\n",
    "\\begin{equation}\\tag{5}\n",
    "    I_i = I\\,\\frac{G_i}{G_\\mathrm{t}}\n",
    "\\end{equation}    "
   ]
  },
  {
   "cell_type": "markdown",
   "id": "f8822db7",
   "metadata": {},
   "source": [
    "Proof:  \n",
    "\n",
    "Via equation (4),  \n",
    "\n",
    "$$ U = \\frac{I}{G_\\mathrm{t}}$$"
   ]
  },
  {
   "cell_type": "markdown",
   "id": "386262d8",
   "metadata": {},
   "source": [
    "Via Ohm's law,  \n",
    "\n",
    "$$ U = \\frac{I_i}{G_i}$$"
   ]
  },
  {
   "cell_type": "markdown",
   "id": "9c323f2f",
   "metadata": {},
   "source": [
    "Via the above two equations and equivalence principle we get equation (5).  Q.E.D."
   ]
  },
  {
   "cell_type": "markdown",
   "id": "b10cfdb3",
   "metadata": {},
   "source": [
    "Given that the total resistance ($R_\\mathrm{t}$) of a parallel connection of resistors (a current divider) is equal to the reciprocal of the total conductance, the total resistance is given by:  \n",
    "\n",
    "$$ G_\\mathrm{t} = \\sum_{i=1}^N \\frac{1}{R_i}$$"
   ]
  },
  {
   "cell_type": "markdown",
   "id": "506b0758",
   "metadata": {},
   "source": [
    "$$ R_\\mathrm{t} = \\frac{1}{G_\\mathrm{t}}$$"
   ]
  },
  {
   "cell_type": "markdown",
   "id": "18ff6556",
   "metadata": {},
   "source": [
    "For example, consider the two-resistor current divider depicted in figure 2.5.3a below.  \n",
    "\n",
    "![Fig - 2.5.3a](Figures/Fig-2.5.3a.png)"
   ]
  },
  {
   "cell_type": "markdown",
   "id": "e523c64c",
   "metadata": {},
   "source": [
    "$$ I = U\\left(\\frac{1}{R_1} + \\frac{1}{R_2}\\right) = U\\,\\frac{R_2 + R_1}{R_1R_2}$$"
   ]
  },
  {
   "cell_type": "markdown",
   "id": "bd43d4b5",
   "metadata": {},
   "source": [
    "Via equation (5),  \n",
    "\n",
    "$$ I_1 = I\\,\\frac{1}{R_1}\\,\\frac{R_1R_2}{R_2+R_1} = I\\,\\frac{R_2}{R_1+R_2}$$"
   ]
  },
  {
   "cell_type": "markdown",
   "id": "fa2f3536",
   "metadata": {},
   "source": [
    "and,\n",
    "$$ I_2 = I\\,\\frac{R_1}{R_1+R_2}$$"
   ]
  },
  {
   "cell_type": "markdown",
   "id": "65409e5b",
   "metadata": {},
   "source": [
    "For the given resistive two-terminal subcircuit the total resistance can be: `a)` calculated or `b)`\n",
    "measured.\n",
    "\n",
    "    a) Subcircuit diagram should be given and the total resistance can be normally found by\n",
    "    parallel and series connections of resistors. In some cases, wye-delta or delta-wye\n",
    "    conversion of three resistors is necessary. This exceptional cases are not discussed.\n",
    "    "
   ]
  },
  {
   "cell_type": "markdown",
   "id": "0ba0364a",
   "metadata": {},
   "source": [
    "    b) Subcircuit diagram may not be given and the total resistance can be measured by\n",
    "    means of the external source. Fig. 2.5.4 presents two possible measurement circuits."
   ]
  },
  {
   "cell_type": "markdown",
   "id": "8bf62c5d",
   "metadata": {},
   "source": [
    "In case of ideal meters, their readings, denoted as '$U_\\mathrm{V}$' for the voltmeter reading and '$I_\\mathrm{A}$' for the ammeter reading, are the subcircuit current and voltage. Then,  \n",
    "\n",
    "\\begin{equation}\\tag{6}\n",
    "    R_\\mathrm{t} = \\frac{U}{I} = \\frac{U_\\mathrm{V}}{I_\\mathrm{A}}\n",
    "\\end{equation}    "
   ]
  },
  {
   "cell_type": "markdown",
   "id": "14e1a782",
   "metadata": {},
   "source": [
    "![Fig-2.5.4](Figures/Fig-2.5.4.png)"
   ]
  },
  {
   "cell_type": "markdown",
   "id": "7892029e",
   "metadata": {},
   "source": [
    "In case of practical meters, their resistances ($R_\\mathrm{V}$ and $R_\\mathrm{A}$) have to be taken into account, and then, only current or only voltage is measured correctly. Thus, respectively:  \n",
    "\n",
    "Via KVL,\n",
    "$$ U + R_\\mathrm{A}I_\\mathrm{A} - U_\\mathrm{V} = 0$$\n",
    "\n",
    "\\begin{equation}\\tag{7a.1}\n",
    "    U = U_\\mathrm{V} - R_\\mathrm{A}I\n",
    "\\end{equation}\n",
    "\n",
    "Here,\n",
    "\\begin{equation}\\tag{7a.2}\n",
    "    I = I_\\mathrm{A}\n",
    "\\end{equation}    "
   ]
  },
  {
   "cell_type": "markdown",
   "id": "560fbbef",
   "metadata": {},
   "source": [
    "Via KCL,\n",
    "$$  I_\\mathrm{A}- I - I_\\mathrm{V} =  I_\\mathrm{A} - I - U_\\mathrm{V}G_\\mathrm{V} = 0 $$\n",
    "\n",
    "\\begin{equation}\\tag{7b.1}\n",
    "    I = I_\\mathrm{A} - UG_\\mathrm{V}\n",
    "\\end{equation}"
   ]
  },
  {
   "cell_type": "markdown",
   "id": "21709f35",
   "metadata": {},
   "source": [
    "Here,\n",
    "\\begin{equation}\\tag{7b.2}\n",
    "    U = U_\\mathrm{V}\n",
    "\\end{equation}    "
   ]
  },
  {
   "cell_type": "markdown",
   "id": "05fb0a97",
   "metadata": {},
   "source": [
    "## Active Two-Terminal Subcircuit\n",
    "\n",
    "An active linear two-terminal subcircuit, a practical linear source or subcircuit built of\n",
    "resistors and linear source(s) is presented in Fig. 2.5.6. It can be proved that such subcircuit is\n",
    "characterized by the relationship $I-U$ depicted in Fig. 2.5.7. This relationship can by\n",
    "described by any of the following two equations:"
   ]
  },
  {
   "cell_type": "markdown",
   "id": "8a64cd3f",
   "metadata": {},
   "source": [
    "\\begin{equation}\\tag{8}\n",
    "    U = E_\\mathrm{o} - R_\\mathrm{t}I\n",
    "\\end{equation}    "
   ]
  },
  {
   "cell_type": "markdown",
   "id": "118f3599",
   "metadata": {},
   "source": [
    "\\begin{equation}\\tag{9}\n",
    "    I = J_\\mathrm{s} - G_\\mathrm{t}U\n",
    "\\end{equation}    "
   ]
  },
  {
   "cell_type": "markdown",
   "id": "895afd93",
   "metadata": {},
   "source": [
    "where,\n",
    "\\begin{equation}\\tag{9a}\n",
    "    G_\\mathrm{t} = \\frac{1}{R_\\mathrm{t}} = \\frac{\\Delta I}{\\Delta U} = \\frac{J_\\mathrm{s}}{E_\\mathrm{o}}\n",
    "\\end{equation}    "
   ]
  },
  {
   "cell_type": "markdown",
   "id": "bdad665c",
   "metadata": {},
   "source": [
    "The above caveat follows from the fact that, when $U=0$,  \n",
    "\n",
    "$$ R_\\mathrm{t}I = E_\\mathrm{o}$$"
   ]
  },
  {
   "cell_type": "markdown",
   "id": "46a904e6",
   "metadata": {},
   "source": [
    "$$R_\\mathrm{t} = \\frac{E_\\mathrm{o}}{I}$$"
   ]
  },
  {
   "cell_type": "markdown",
   "id": "be6f20fa",
   "metadata": {},
   "source": [
    "and (assuming $U=0$),\n",
    "$$ I = J_\\mathrm{s} - G_\\mathrm{t}\\cdot 0 = J_\\mathrm{s}$$"
   ]
  },
  {
   "cell_type": "markdown",
   "id": "15dd3e14",
   "metadata": {},
   "source": [
    "Via the above two equations and substitution,  \n",
    "\n",
    "$$ R_\\mathrm{t} = \\frac{E_\\mathrm{o}}{J_\\mathrm{s}}$$"
   ]
  },
  {
   "cell_type": "markdown",
   "id": "75a90236",
   "metadata": {},
   "source": [
    "and,\n",
    "$$ G_\\mathrm{t} = \\frac{1}{R_\\mathrm{t}} = \\frac{J_\\mathrm{s}}{E_\\mathrm{o}}$$"
   ]
  },
  {
   "cell_type": "markdown",
   "id": "2042446d",
   "metadata": {},
   "source": [
    "The slope or derivative of $I(U)$ is equal to $G_\\mathrm{t}$."
   ]
  },
  {
   "cell_type": "markdown",
   "id": "1148ca6d",
   "metadata": {},
   "source": [
    "![Fig-2.5.6](Figures/Fig-2.5.6.png)"
   ]
  },
  {
   "cell_type": "markdown",
   "id": "536ca4b5",
   "metadata": {},
   "source": [
    "Equations (8) and (9) follow from KVL and KCL respectively;  Both rely on Ohm's Law as well.  \n",
    "\n",
    "$$ E_\\mathrm{o} - R_\\mathrm{t}I - U = 0 $$"
   ]
  },
  {
   "cell_type": "markdown",
   "id": "50528784",
   "metadata": {},
   "source": [
    "$$ J_\\mathrm{s} - I - G_\\mathrm{t}U = 0$$"
   ]
  },
  {
   "cell_type": "markdown",
   "id": "423b5504",
   "metadata": {},
   "source": [
    "Now, two theorems can be formulated."
   ]
  },
  {
   "cell_type": "markdown",
   "id": "cb34fdb2",
   "metadata": {},
   "source": [
    "### Thevenin’s theorem\n",
    "Any active linear two-terminal subcircuit can be replaced by the equivalent circuit that\n",
    "consists of a series connection of an ideal voltage source $E_\\mathrm{o}$ and a resistance $R_\\mathrm{t}$, where:"
   ]
  },
  {
   "cell_type": "markdown",
   "id": "a51bfb51",
   "metadata": {},
   "source": [
    "* $E_\\mathrm{0}$ is the subcircuit open-circuit voltage, $E_\\mathrm{o} = U\\big|_{I=0}$.\n",
    "* $R_\\mathrm{t}$ is the subcircuit equivalent (internal) resistance."
   ]
  },
  {
   "cell_type": "markdown",
   "id": "86c9623d",
   "metadata": {},
   "source": [
    "### Norton’s theorem\n",
    "Any active linear two-terminal subcircuit can be replaced by the equivalent circuit that\n",
    "consists of a parallel connection of an ideal current source $J_\\mathrm{s}$ and a conductance $G_\\mathrm{t}$ , where: "
   ]
  },
  {
   "cell_type": "markdown",
   "id": "dfe5a211",
   "metadata": {},
   "source": [
    "* $J_\\mathrm{s}$ is the subcircuit short-circuit current, $J_\\mathrm{s} = I\\big|_{U=0}$.\n",
    "* $G_\\mathrm{s}$ is the subcircuit equivalent (internal) conductance."
   ]
  },
  {
   "cell_type": "markdown",
   "id": "7c27646b",
   "metadata": {},
   "source": [
    "Note that the definitions of the terms 'open-circuit' and 'short-circuit' are:  \n",
    "\n",
    "* **open-circuit (oc)**:  Condition that exists when the current between two\n",
    "    terminals is zero, irrespective of the voltage across the\n",
    "    terminals\n",
    "* **short-circuit (sc)**:  Condition that exists when the voltage across two\n",
    "    terminals is zero, irrespective of the current between the\n",
    "    two terminals."
   ]
  },
  {
   "cell_type": "markdown",
   "id": "6d6ae7fa",
   "metadata": {},
   "source": [
    "Applications of Thevenin’s/Norton’s theorem:\n",
    "1. Linear dc circuit analysis: replacement of a complex two-terminal subcircuit by Thevenin\n",
    "    equivalent or Norton equivalent circuit, what simplifies calculations.\n",
    "2. Designation of the maximum power transfer condition.\n",
    "3. Nonlinear dc circuit analysis: replacement of a linear part by the Thevenin or Norton\n",
    "    equivalent.\n",
    "4. Transient analysis of the 1st order circuit: replacement of a resistive part by the Thevenin\n",
    "    or Norton equivalent."
   ]
  },
  {
   "cell_type": "markdown",
   "id": "83f184b1",
   "metadata": {},
   "source": [
    "Parameters of Thevenin and Norton equivalent circuit can be: 1. calculated or 2. measured:  \n",
    "\n",
    "1. It is assumed that the subcircuit diagram is given.\n",
    "    * To find the open-circuit voltage, subcircuit analysis is performed.\n",
    "    * To find the equivalent resistance, subcircuit source(s) is(are) deactivated at first.\n",
    "        Deactivation (zeroing) of a voltage source means shorting of its terminals, deactivation\n",
    "        of a current source means opening of its terminals. Then, the equivalent resistance can\n",
    "        be found, the same way as for a passive subcircuit,\n",
    "\n",
    "\\begin{equation}\\tag{10}\n",
    "    R_\\mathrm{t} = -\\left(\\frac{U}{I} \\right)_{|E_\\mathrm{o}\\,=\\,0}\n",
    "\\end{equation}    "
   ]
  },
  {
   "cell_type": "markdown",
   "id": "ed0bfb6b",
   "metadata": {},
   "source": [
    "2. A circuit is loaded by two different resistances and its current and voltage are measured,\n",
    "    as presented in Fig. 2.5.8 (correct current measurement is applied).\n",
    "    For two different values of the load resistance, $R_{\\mathrm{l}1}$ and $R_{\\mathrm{l}2}$, the current and the voltage are\n",
    "    measured. That way, coordinates of two points on the plot given by $I(U)$ (or $I$ vs. $U$) are given, as presented in\n",
    "    Fig. 2.5.7. These coordinates are set into equation (2.5.15) or (2.5.16), to form a system of\n",
    "    two equations. Then, $R_\\mathrm{t}$ and $E_\\mathrm{o}$ or $G_\\mathrm{t}$ and $J_\\mathrm{s}$ are designated, respectively."
   ]
  },
  {
   "cell_type": "markdown",
   "id": "dbf25904",
   "metadata": {},
   "source": [
    "![Fig-2.5.8](Figures/Fig-2.5.8.png)"
   ]
  },
  {
   "cell_type": "markdown",
   "id": "901567d7",
   "metadata": {},
   "source": [
    "In the special case: $R_{\\mathrm{l}1}$ can be an open-circuit and $R_{\\mathrm{l}2}$ can be a short-circuit."
   ]
  },
  {
   "cell_type": "markdown",
   "id": "4638374d",
   "metadata": {},
   "source": [
    "For a practical ammeter, its internal resistance, denoted as '$R_\\mathrm{A}$', has to be taken into account. Then, the\n",
    "subcircuit voltage $U$ has to be corrected, the same way as for a passive subcircuit,\n",
    "following equation (2.5.13a)."
   ]
  },
  {
   "cell_type": "markdown",
   "id": "ec94e639",
   "metadata": {},
   "source": [
    "### Example 2.5.2\n",
    "The subcircuit built of two practical sources and one resistor is presented in Fig. 2.5.9 - $R_1= 3\\Omega$, $R_2= 4\\Omega$, $R_3=7\\Omega$, $E_1=5\\mathrm{V}$, and $J_3=2\\mathrm{A}$.  \n",
    "Find: `a)` Thevenin equivalent, `b)` Norton\n",
    "equivalent.  \n",
    "\n",
    "![Fig-2.5.9](Figures/Fig-2.5.9.png)"
   ]
  },
  {
   "cell_type": "code",
   "execution_count": 1,
   "id": "b53db4b5",
   "metadata": {},
   "outputs": [],
   "source": [
    "R_1, R_2, R_3 = 3, 4, 7; E_1 = 5; J_3 = 2"
   ]
  },
  {
   "cell_type": "markdown",
   "id": "bdb28920",
   "metadata": {},
   "source": [
    "a)  To find the open-circuit voltage $(E_\\mathrm{o})$, first, the Norton equivalent $(J_3, R_3)$ can be converted into the Thevenin\n",
    "equivalent $(E_3, R_3)$, following equations (11)."
   ]
  },
  {
   "cell_type": "markdown",
   "id": "f70fc1de",
   "metadata": {},
   "source": [
    "\\begin{equation}\\tag{11a}\n",
    "    E_3 = E_\\mathrm{o} = J_\\mathrm{s}R_\\mathrm{t} = J_3 R_3 = 14\\mathrm{V}\n",
    "\\end{equation}    "
   ]
  },
  {
   "cell_type": "markdown",
   "id": "254db355",
   "metadata": {},
   "source": [
    "\\begin{equation}\\tag{11b}\n",
    "    R_\\mathrm{t} = R_3 = \\frac{1}{G_3} = 7\\Omega\n",
    "\\end{equation}    "
   ]
  },
  {
   "cell_type": "markdown",
   "id": "67b6e896",
   "metadata": {},
   "source": [
    "To ellaborate on equation (11a):  under open-circuit conditions, the current flowing through $R_2$ is equal to zero, and thus, the voltage dropped across $R_2$ is also equal to zero.  That, in conjunction with KVL, means that the voltage dropped across either branch of the Norton equivalent $(J_3, R_3)$ is equal to the open-circuit voltage ($E_\\mathrm{o}$) and subsequently equal to the Thevenin equivalent voltage ($E_3$)."
   ]
  },
  {
   "cell_type": "markdown",
   "id": "6d9d20b8",
   "metadata": {},
   "source": [
    "![Fig-2.5.9a](Figures/Fig-2.5.9a.png)"
   ]
  },
  {
   "cell_type": "markdown",
   "id": "ef45bebf",
   "metadata": {},
   "source": [
    "Via KVL and Ohm's Law, the current flowing through the two branches that our voltage sources rest on ($E_1$ and $E_3$), denoted as '$I$', is:\n",
    "\n",
    "$$ E_1 + R_1I + R_3I - E_3 = 0$$"
   ]
  },
  {
   "cell_type": "markdown",
   "id": "4a6731e1",
   "metadata": {},
   "source": [
    "$$ I(R_3+R_1)=E_3 - E_1$$"
   ]
  },
  {
   "cell_type": "markdown",
   "id": "f0f46b00",
   "metadata": {},
   "source": [
    "$$ I = \\frac{E_3-E_1}{R_3+R_1}$$"
   ]
  },
  {
   "cell_type": "markdown",
   "id": "987ca039",
   "metadata": {},
   "source": [
    "Via equation (8),  \n",
    "\n",
    "$$ E_\\mathrm{o} = U_3 = E_3 - R_3I$$"
   ]
  },
  {
   "cell_type": "markdown",
   "id": "ec7bb272",
   "metadata": {},
   "source": [
    "Via the above two equations and substitution,  \n",
    "\n",
    "\\begin{equation}\\tag{12a}\n",
    "    E_\\mathrm{o}=U_3 = E_3 + \\frac{E_1- E_3}{R_3 + R_1}\\,R_3 = 7.7\\mathrm{V}\n",
    "\\end{equation}    "
   ]
  },
  {
   "cell_type": "code",
   "execution_count": 2,
   "id": "c3df546b",
   "metadata": {},
   "outputs": [],
   "source": [
    "E_3 = J_3*R_3\n",
    "E_o = U_3 = E_3 + R_3*(E_1-E_3)/(R_3+R_1)"
   ]
  },
  {
   "cell_type": "markdown",
   "id": "cd311aeb",
   "metadata": {},
   "source": [
    "To find $R_\\mathrm{t}$, both sources have to be zeroed, the passive subcircuit presented in Fig. $2.5.9\\mathrm{b}$ is then\n",
    "obtained. Then, the equivalent resistance (or internal resistance), denoted as '$R_\\mathrm{t}$', is:  \n",
    "\n",
    "\\begin{equation}\\tag{12b}\n",
    "    R_\\mathrm{t} = R_2 + \\frac{R_1R_3}{R_1 + R_3}= 6.1\\Omega\n",
    "\\end{equation}    "
   ]
  },
  {
   "cell_type": "code",
   "execution_count": 3,
   "id": "35f7ef0d",
   "metadata": {},
   "outputs": [],
   "source": [
    "R_t = R_2 + R_1*R_3/(R_1+R_3)"
   ]
  },
  {
   "cell_type": "markdown",
   "id": "6a33b0e1",
   "metadata": {},
   "source": [
    "b) For the calculated parameters of the Thevenin equivalent circuit (12), parameters of Norton\n",
    "equivalent circuit can be calculated from the following equations:  \n",
    "\n",
    "\\begin{equation}\\tag{13a}\n",
    "    J_\\mathrm{s} = E_\\mathrm{0}G_\\mathrm{t} = \\frac{7.7\\mathrm{V}}{6.1\\Omega} \\approxeq 1.26\\mathrm{A}\n",
    "\\end{equation}    "
   ]
  },
  {
   "cell_type": "markdown",
   "id": "edd99b2f",
   "metadata": {},
   "source": [
    "\\begin{equation}\\tag{13b}\n",
    "    G_\\mathrm{t} = \\frac{1}{R_\\mathrm{t}} \\approxeq 163.93\\mathrm{mS}\n",
    "\\end{equation}    "
   ]
  },
  {
   "cell_type": "code",
   "execution_count": 4,
   "id": "58a383e3",
   "metadata": {},
   "outputs": [],
   "source": [
    "G_t = 1/R_t\n",
    "J_s = G_t*E_o"
   ]
  },
  {
   "cell_type": "markdown",
   "id": "78850054",
   "metadata": {},
   "source": [
    "### Practical Sources\n",
    "\n",
    "A pair of $I$ vs $U$ relationships of practical sources, a voltage source and a current source, are shown\n",
    "in Fig. 2.5.10.  \n",
    "\n",
    "![Fig-2.5.10](Figures/Fig-2.5.10.png)"
   ]
  },
  {
   "cell_type": "markdown",
   "id": "9946e1a2",
   "metadata": {},
   "source": [
    "Any of these sources can be described by any of equations (8) or (9) and\n",
    "therefore, can modeled by the Thevenin or Norton equivalent circuit. A source-load single\n",
    "loop circuits are presented in Fig. 2.5.11."
   ]
  },
  {
   "cell_type": "markdown",
   "id": "10cee4f2",
   "metadata": {},
   "source": [
    "Now, the source voltage or current are not fixed at the values of $U=E_\\mathrm{o}$ and $I = J_\\mathrm{s}$, as they would be for an\n",
    "ideal voltage or current source, respectively. For the given practical source, they are functions\n",
    "of the load resistance,"
   ]
  },
  {
   "cell_type": "markdown",
   "id": "df10e5f3",
   "metadata": {},
   "source": [
    "![Fig-2.5.11](Figures/Fig-2.5.11.png)"
   ]
  },
  {
   "cell_type": "markdown",
   "id": "bb4f1409",
   "metadata": {},
   "source": [
    "For circuit a) we have, via equation (8),  \n",
    "\n",
    "$$ U = E_\\mathrm{o} - R_\\mathrm{t}I$$"
   ]
  },
  {
   "cell_type": "markdown",
   "id": "21d92fc8",
   "metadata": {},
   "source": [
    "Via KVL and Ohm's Law, the current ($I$) is:  \n",
    "\n",
    "$$ E_\\mathrm{o} - R_\\mathrm{t}I - R_\\mathrm{l}I = 0$$"
   ]
  },
  {
   "cell_type": "markdown",
   "id": "f20cf815",
   "metadata": {},
   "source": [
    "$$ E_\\mathrm{o} = I(R_\\mathrm{t} + R_\\mathrm{l})$$"
   ]
  },
  {
   "cell_type": "markdown",
   "id": "71914a26",
   "metadata": {},
   "source": [
    "$$ I = \\frac{E_\\mathrm{o}}{R_\\mathrm{t} + R_\\mathrm{l}}$$"
   ]
  },
  {
   "cell_type": "markdown",
   "id": "1dbd6c22",
   "metadata": {},
   "source": [
    "Via the above equation, equation (8), and substitution,  \n",
    "\n",
    "$$ U = E_\\mathrm{o}\\left(1 - \\frac{R_\\mathrm{t}}{R_\\mathrm{t} + R_\\mathrm{l}} \\right)$$"
   ]
  },
  {
   "cell_type": "markdown",
   "id": "68540406",
   "metadata": {},
   "source": [
    "\\begin{equation}\\tag{14a}\n",
    "    U = E_\\mathrm{o}\\,\\frac{R_\\mathrm{l}}{R_\\mathrm{t} + R_\\mathrm{l}}\n",
    "\\end{equation}    "
   ]
  },
  {
   "cell_type": "markdown",
   "id": "73763561",
   "metadata": {},
   "source": [
    "For circuit b) we have, via equation (9),  \n",
    "\n",
    "$$ I = J_\\mathrm{s} - G_\\mathrm{t}U$$"
   ]
  },
  {
   "cell_type": "markdown",
   "id": "03270374",
   "metadata": {},
   "source": [
    "Via KCL and Ohm's Law, the voltage dropped across the load, denoted as '$U$', which is also equal to the supplied voltage, is:  \n",
    "\n",
    "$$ J_\\mathrm{s} - G_\\mathrm{t}U - G_\\mathrm{l}U = 0$$"
   ]
  },
  {
   "cell_type": "markdown",
   "id": "3aaec002",
   "metadata": {},
   "source": [
    "Note that the current flowing through the load is given by $I = G_\\mathrm{l}U$."
   ]
  },
  {
   "cell_type": "markdown",
   "id": "ca4e8cd6",
   "metadata": {},
   "source": [
    "$$ J_\\mathrm{s} = U(G_\\mathrm{t} + G_\\mathrm{l})$$"
   ]
  },
  {
   "cell_type": "markdown",
   "id": "628fb0d2",
   "metadata": {},
   "source": [
    "$$ U = \\frac{J_\\mathrm{s}}{G_\\mathrm{t} + G_\\mathrm{l}}$$"
   ]
  },
  {
   "cell_type": "markdown",
   "id": "140c2a32",
   "metadata": {},
   "source": [
    "Via the above equation, equation (9) , and substitution,  \n",
    "\n",
    "$$ I = J_\\mathrm{s} - G_\\mathrm{t}\\,\\frac{J_\\mathrm{s}}{G_\\mathrm{t} + G_\\mathrm{l}}$$"
   ]
  },
  {
   "cell_type": "markdown",
   "id": "987c17ae",
   "metadata": {},
   "source": [
    "$$ I = J_\\mathrm{s}\\left( 1 - \\frac{G_\\mathrm{t}}{G_\\mathrm{t} + G_\\mathrm{l}}\\right)$$ "
   ]
  },
  {
   "cell_type": "markdown",
   "id": "16d4393c",
   "metadata": {},
   "source": [
    "Thus,\n",
    "\\begin{equation}\\tag{14b}\n",
    "    I = J_\\mathrm{s}\\,\\frac{G_\\mathrm{l}}{G_\\mathrm{t} + G_\\mathrm{l}}\n",
    "\\end{equation}    "
   ]
  },
  {
   "cell_type": "markdown",
   "id": "18fe3cf5",
   "metadata": {},
   "source": [
    "![Fig-2.5.12](Figures/Fig-2.5.12.png)"
   ]
  },
  {
   "cell_type": "markdown",
   "id": "4af05845",
   "metadata": {},
   "source": [
    "Then, for a practical voltage source, to maintain the supply voltage at the fixed level of\n",
    "$U\\approxeq E_\\mathrm{o}$, the load resistance has to be much greater than the source internal resistance,  \n",
    "\n",
    "\\begin{equation}\\tag{15a}\n",
    "    R_\\mathrm{l} >> R_\\mathrm{t}\n",
    "\\end{equation}    "
   ]
  },
  {
   "cell_type": "markdown",
   "id": "a586fe0b",
   "metadata": {},
   "source": [
    "And, for a practical current source, to maintain the supply current at the fixed level of $I\\approxeq J_\\mathrm{s}$, the load resistance has to be much less than the source internal resistance,  \n",
    "\n",
    "\\begin{equation}\\tag{15b}\n",
    "    R_\\mathrm{l} << R_\\mathrm{t}\n",
    "\\end{equation}    "
   ]
  },
  {
   "cell_type": "markdown",
   "id": "0d250b9f",
   "metadata": {},
   "source": [
    "### Example 2.5.3\n",
    "Given an $E_\\mathrm{o}=9\\mathrm{V}$ battery, its internal resistance is $R_\\mathrm{t}=3\\Omega$.  Plot the line given by $I(U)$ and draw a diagram of the Thevenin and Norton equivalent circuits."
   ]
  },
  {
   "cell_type": "markdown",
   "id": "e2382b67",
   "metadata": {},
   "source": [
    "The battery's $I$ vs. $U$ relationship (i.e. the aforementioned plot of $I(U)$) and equivalent circuits are presented in Fig. 2.5.13.  \n",
    "\n",
    "![Fig-2.5.13](Figures/Fig-2.5.13.png)"
   ]
  },
  {
   "cell_type": "markdown",
   "id": "185ffbc4",
   "metadata": {},
   "source": [
    "The plot in figure 2.5.13 is obtained by two data points:  the $U$-intercept of the plot, which corresponds to $(9\\mathrm{V}, 0\\mathrm{A}) = (E_\\mathrm{o}, 0\\mathrm{A})$, and the $I$-intercept of the plot, which corresponds to $(0\\mathrm{V}, 3\\mathrm{A}) = (0\\mathrm{V}, J_\\mathrm{s})$.  The first data point (the one that corresponds to the $U$-intercept) is given by:  \n",
    "\n",
    "Via equation (8), when $I=0\\mathrm{A}$,  \n",
    "\n",
    "$$ U = E_\\mathrm{o} - R_\\mathrm{t}\\cdot 0\\mathrm{A} = E_\\mathrm{o} = 9\\mathrm{V}$$"
   ]
  },
  {
   "cell_type": "markdown",
   "id": "e34e5043",
   "metadata": {},
   "source": [
    "As for the second data point, via equation (9),  \n",
    "\n",
    "$$ I(0\\mathrm{V}) = J_\\mathrm{s} - G_\\mathrm{t}\\cdot 0\\mathrm{V} = J_\\mathrm{s}$$"
   ]
  },
  {
   "cell_type": "markdown",
   "id": "a82078d3",
   "metadata": {},
   "source": [
    "Via multiplying throughout equation (9a) by $E_\\mathrm{o}$,  \n",
    "\n",
    "$$ J_\\mathrm{s} = \\frac{E_\\mathrm{o}}{R_\\mathrm{t}} = \\frac{9\\mathrm{V}}{3\\Omega} = 3\\mathrm{A}$$"
   ]
  },
  {
   "cell_type": "markdown",
   "id": "80114c1d",
   "metadata": {},
   "source": [
    "Via the above two equations and equivalence principle,  \n",
    "\n",
    "$$ I(0\\mathrm{V}) = 3\\mathrm{A}$$"
   ]
  },
  {
   "cell_type": "markdown",
   "id": "5bcf2496",
   "metadata": {},
   "source": [
    "### Example 2.5.3 cont.\n",
    "Convert the voltage source of Example 2.5.3 into a $1 \\mathrm{mA}$ current source."
   ]
  },
  {
   "cell_type": "markdown",
   "id": "23be2355",
   "metadata": {},
   "source": [
    "The conversion can be done by series connection of a resistance $R_\\mathrm{s}$, its resistance being much\n",
    "greater than the load resistance ($R_\\mathrm{l}$).  The internal resistance of the modified source, denoted as '$R_\\mathrm{t}^*$', is given by:  \n",
    "\n",
    "\\begin{equation}\\tag{16}\n",
    "    R_\\mathrm{t}^*  = R_\\mathrm{t} + R_\\mathrm{s}\\approxeq R_\\mathrm{s}\n",
    "\\end{equation}    "
   ]
  },
  {
   "cell_type": "markdown",
   "id": "fd1b1d91",
   "metadata": {},
   "source": [
    "and it's (modified) short-circuit current ($J_\\mathrm{s}^*$) is given by:  \n",
    "\n",
    "\\begin{equation}\\tag{17}\n",
    "    J_\\mathrm{s}^* = \\frac{E_\\mathrm{o}}{R_\\mathrm{t}^*} \\approxeq \\frac{E_\\mathrm{o}}{R_\\mathrm{s}}\n",
    "\\end{equation}    "
   ]
  },
  {
   "cell_type": "code",
   "execution_count": 5,
   "id": "adb9a904",
   "metadata": {},
   "outputs": [],
   "source": [
    "R_t_mod = 9/1e-3"
   ]
  },
  {
   "cell_type": "markdown",
   "id": "2d499ac8",
   "metadata": {},
   "source": [
    "Thus, in this particular case, via equation (17) and (16), the approximate value of the required series resistance ($R_\\mathrm{s}$) is given by:  \n",
    "\n",
    "$$ R_\\mathrm{t}^* = \\frac{E_\\mathrm{o}}{J_\\mathrm{s}^*} = \\frac{9\\mathrm{V}}{1\\mathrm{mA}} = 9000\\Omega \\approxeq R_\\mathrm{s}$$"
   ]
  },
  {
   "cell_type": "markdown",
   "id": "bdde9cd2",
   "metadata": {},
   "source": [
    "The source-load single loop circuit is presented in Fig. 2.5.14a, the modified source $I$ vs $U$ relationship is\n",
    "presented in Fig. 2.5.14b."
   ]
  },
  {
   "cell_type": "markdown",
   "id": "e92fe93f",
   "metadata": {},
   "source": [
    "![Fig-2.5.14](Figures/Fig-2.5.14.png)"
   ]
  },
  {
   "cell_type": "markdown",
   "id": "33cbb723",
   "metadata": {},
   "source": [
    "## Drill Problems"
   ]
  },
  {
   "cell_type": "code",
   "execution_count": 6,
   "id": "75c48be6",
   "metadata": {},
   "outputs": [],
   "source": [
    "import numpy as np"
   ]
  },
  {
   "cell_type": "markdown",
   "id": "2a7a2802",
   "metadata": {},
   "source": [
    "#### Problem 1\n",
    "1. Two $1 \\mathrm{W}$ resistors: $R_1 = 100\\Omega$ and $R_2=50\\Omega$ are connected in series. What maximum\n",
    "    voltage can by safely supplied to such combination?"
   ]
  },
  {
   "cell_type": "markdown",
   "id": "6a4fc730",
   "metadata": {},
   "source": [
    "For safety reasons, the following condition must be satisfied:  \n",
    "\n",
    "$$ I^2 100\\Omega \\le 1\\mathrm{W}$$"
   ]
  },
  {
   "cell_type": "markdown",
   "id": "1ef6f318",
   "metadata": {},
   "source": [
    "\\begin{equation}\\tag{1.1}\n",
    "   -\\sqrt{0.01}\\,\\mathrm{A}\\le I \\le \\sqrt{0.01}\\,\\mathrm{A} =  100\\mathrm{mA}\n",
    "\\end{equation}    "
   ]
  },
  {
   "cell_type": "code",
   "execution_count": 7,
   "id": "ab3558e8",
   "metadata": {},
   "outputs": [
    {
     "data": {
      "text/plain": [
       "0.1"
      ]
     },
     "execution_count": 7,
     "metadata": {},
     "output_type": "execute_result"
    }
   ],
   "source": [
    "np.sqrt(0.01)"
   ]
  },
  {
   "cell_type": "markdown",
   "id": "0a50daa9",
   "metadata": {},
   "source": [
    "Via KVL and Ohm's Law, the maximum voltage that can be safely supplied to the combination, denoted as '$E$', is given by:  \n",
    "\n",
    "$$ E = 100\\Omega\\,I + 50\\Omega\\,I = 150\\Omega\\,I$$"
   ]
  },
  {
   "cell_type": "markdown",
   "id": "bc913676",
   "metadata": {},
   "source": [
    "Multiplying throughout inequality (1.1) by $150\\Omega$ gives:  \n",
    "\n",
    "$$ -15\\mathrm{V}\\le 150\\Omega\\,I \\le  15\\mathrm{V}$$"
   ]
  },
  {
   "cell_type": "markdown",
   "id": "5f5b1b07",
   "metadata": {},
   "source": [
    "Via the above two relationships and equivalence principle,  \n",
    "\n",
    "$$ - 15\\mathrm{V}\\le E \\le  15\\mathrm{V}$$"
   ]
  },
  {
   "cell_type": "markdown",
   "id": "7a3a407b",
   "metadata": {},
   "source": [
    "#### Problem 2\n",
    "\n",
    "2. Two $1 \\mathrm{W}$ resistors: $R_1 = 100\\Omega$ and $R_2=50\\Omega$ are connected in parallel. What maximum\n",
    "    current can by safely supplied to such combination?"
   ]
  },
  {
   "cell_type": "markdown",
   "id": "256f0f8b",
   "metadata": {},
   "source": [
    "For safety reasons, the following condition must be satisfied:  \n",
    "\n",
    "$$ \\frac{U^2}{50\\Omega}\\le 1\\mathrm{W}$$"
   ]
  },
  {
   "cell_type": "markdown",
   "id": "d2ff527c",
   "metadata": {},
   "source": [
    "where '$U$' denotes the voltage dropped across each resistor."
   ]
  },
  {
   "cell_type": "markdown",
   "id": "8e9657c0",
   "metadata": {},
   "source": [
    "\\begin{equation}\\tag{2.1}\n",
    "    -\\sqrt{50}\\,\\mathrm{V}\\le U \\le \\sqrt{50}\\,\\mathrm{V}\n",
    "\\end{equation}    "
   ]
  },
  {
   "cell_type": "markdown",
   "id": "210bf254",
   "metadata": {},
   "source": [
    "Via KCL and Ohm's Law, the maximum current that can be safely supplied to the combination in question, denoted as '$J$', is:  \n",
    "\n",
    "$$ J = G_1U + G_2U = U\\left(\\frac{1}{100\\Omega} + \\frac{1}{50\\Omega}\\right) = U\\,\\frac{3}{100}\\,\\mathrm{S}$$"
   ]
  },
  {
   "cell_type": "markdown",
   "id": "e12ae03b",
   "metadata": {},
   "source": [
    "Multiplying throughout inequality (2.1) by $0.03\\mathrm{S}$ gives:  \n",
    "\n",
    "$$ -0.03\\sqrt{50}\\,\\mathrm{A}\\le 0.03\\mathrm{S}\\,U \\le 0.03\\sqrt{50}\\,\\mathrm{A}$$"
   ]
  },
  {
   "cell_type": "markdown",
   "id": "9ec91265",
   "metadata": {},
   "source": [
    "Via the above two relationships and equivalence principle,  \n",
    "\n",
    "$$ -0.03\\sqrt{50}\\,\\mathrm{A}\\le J \\le 0.03\\sqrt{50}\\,\\mathrm{A} \\approxeq 212.13\\mathrm{mA}$$"
   ]
  },
  {
   "cell_type": "code",
   "execution_count": 8,
   "id": "4c96f666",
   "metadata": {},
   "outputs": [
    {
     "data": {
      "text/plain": [
       "0.21213203435596426"
      ]
     },
     "execution_count": 8,
     "metadata": {},
     "output_type": "execute_result"
    }
   ],
   "source": [
    "0.03*np.sqrt(50)"
   ]
  },
  {
   "cell_type": "markdown",
   "id": "59e351e3",
   "metadata": {},
   "source": [
    "#### Problem 3\n",
    "3. Determine the resistance of a resistor that must be placed in series with a $R=100 \\Omega$ resistor\n",
    "    supplied by $120 \\mathrm{V}$, in order to limit its power dissipation to $90 \\mathrm{W}$."
   ]
  },
  {
   "cell_type": "markdown",
   "id": "d46543e0",
   "metadata": {},
   "source": [
    "The current flowing through both resistors ($I$) must satisfy the following condition:  \n",
    "\n",
    "$$ I^2 R = I^2 100\\Omega \\le 90\\mathrm{W}$$"
   ]
  },
  {
   "cell_type": "markdown",
   "id": "107e61bc",
   "metadata": {},
   "source": [
    "\\begin{equation}\\tag{3.1}\n",
    "    -\\sqrt{0.9}\\,\\mathrm{A}\\le I \\le \\sqrt{0.9}\\,\\mathrm{A}\\approxeq 948.68\\mathrm{mA}\n",
    "\\end{equation}    "
   ]
  },
  {
   "cell_type": "code",
   "execution_count": 9,
   "id": "7b3323e3",
   "metadata": {},
   "outputs": [
    {
     "data": {
      "text/plain": [
       "0.9486832980505138"
      ]
     },
     "execution_count": 9,
     "metadata": {},
     "output_type": "execute_result"
    }
   ],
   "source": [
    "np.sqrt(0.9)"
   ]
  },
  {
   "cell_type": "markdown",
   "id": "34234f42",
   "metadata": {},
   "source": [
    "Via KVL and Ohm's law,  \n",
    "\n",
    "\\begin{equation}\\tag{3.2}\n",
    "    120\\mathrm{V} = 100\\Omega \\, I + R_\\mathrm{s} I = I(100\\Omega + R_\\mathrm{s})\n",
    "\\end{equation}    "
   ]
  },
  {
   "cell_type": "markdown",
   "id": "402a5c38",
   "metadata": {},
   "source": [
    "Via the above equation, equivalence principle, and multiplying throughout inequality (3.1) by $(R + R_\\mathrm{s})$ gives:  \n",
    "\n",
    "$$ -(R + R_\\mathrm{s})\\,\\sqrt{0.9}\\,\\mathrm{A}\\le 120\\mathrm{V} \\le (R + R_\\mathrm{s})\\,\\sqrt{0.9}\\,\\mathrm{A}$$"
   ]
  },
  {
   "cell_type": "markdown",
   "id": "fef86e39",
   "metadata": {},
   "source": [
    "$$ -R -R_\\mathrm{s} \\le \\frac{120}{\\sqrt{0.9}}\\,\\Omega \\le R + R_\\mathrm{s}$$"
   ]
  },
  {
   "cell_type": "markdown",
   "id": "ed39a20c",
   "metadata": {},
   "source": [
    "Finally,\n",
    "$$ R_\\mathrm{s} \\ge \\frac{120}{\\sqrt{0.9}}\\,\\Omega - 100\\Omega \\approxeq 26.49\\Omega$$"
   ]
  },
  {
   "cell_type": "code",
   "execution_count": 10,
   "id": "fb50e2c2",
   "metadata": {},
   "outputs": [
    {
     "data": {
      "text/plain": [
       "26.491106406735184"
      ]
     },
     "execution_count": 10,
     "metadata": {},
     "output_type": "execute_result"
    }
   ],
   "source": [
    "120/np.sqrt(0.9) - 100"
   ]
  },
  {
   "cell_type": "markdown",
   "id": "39250b3e",
   "metadata": {},
   "source": [
    "So that's the *minimum* value of $R_\\mathrm{s}$.  Now, what about the *maximum*?  In order for both resistors to absorb no more than $90\\mathrm{W}$ of power, the following inequality must also be satisfied:"
   ]
  },
  {
   "cell_type": "markdown",
   "id": "aa8eee66",
   "metadata": {},
   "source": [
    "$$ I^2R_\\mathrm{s}\\le 90\\mathrm{W}$$"
   ]
  },
  {
   "cell_type": "markdown",
   "id": "38930ad0",
   "metadata": {},
   "source": [
    "Via inequality (3.1), at it's maximum, $I^2=0.9\\mathrm{A}^2$, thus, the inequality that must be satisfied for our second condition to be met is:  \n",
    "\n",
    "$$ 0.9\\mathrm{A}^2 R_\\mathrm{s}\\le 90\\mathrm{W}$$"
   ]
  },
  {
   "cell_type": "markdown",
   "id": "a5afac39",
   "metadata": {},
   "source": [
    "Finally,  \n",
    "\n",
    "$$ R_\\mathrm{s} \\le 100\\Omega$$"
   ]
  },
  {
   "cell_type": "markdown",
   "id": "065227d6",
   "metadata": {},
   "source": [
    "#### Problem 4\n",
    "4. Two heaters (resistors) are each rated $1 \\mathrm{kW}$ and $220 \\mathrm{V}$. What is the total dissipated power\n",
    "    when they are connected in series across $220 \\mathrm{V}$?"
   ]
  },
  {
   "cell_type": "markdown",
   "id": "6a3ec156",
   "metadata": {},
   "source": [
    "Each heater has a voltage drop of $110$ under these conditions.  Assuming this rating means that when the voltage dropped across one of these heaters, denoted as '$U$', is equal to $220\\mathrm{V}$ -- i.e. when $U=220\\mathrm{V}$ --the power dissipation ($P$) is equal to $1000\\mathrm{W}$, the following hold true:  \n",
    "\n",
    "$$ P:=P(U) = \\frac{U^2}{R} $$"
   ]
  },
  {
   "cell_type": "markdown",
   "id": "b830aaa4",
   "metadata": {},
   "source": [
    "$$P(220\\mathrm{V}) = 1000\\mathrm{W} = \\frac{220^2\\mathrm{V}^2}{R}$$"
   ]
  },
  {
   "cell_type": "markdown",
   "id": "31e84049",
   "metadata": {},
   "source": [
    "$$ R = \\frac{220^2}{1000}\\,\\Omega = 48.4\\Omega$$"
   ]
  },
  {
   "cell_type": "code",
   "execution_count": 11,
   "id": "78c27e8e",
   "metadata": {},
   "outputs": [],
   "source": [
    "R = (220**2)/1000"
   ]
  },
  {
   "cell_type": "markdown",
   "id": "0dbf2736",
   "metadata": {},
   "source": [
    "$$ P(110\\mathrm{V}) = 250\\mathrm{W}$$"
   ]
  },
  {
   "cell_type": "code",
   "execution_count": 12,
   "id": "86774740",
   "metadata": {},
   "outputs": [],
   "source": [
    "P = (110**2)/R"
   ]
  },
  {
   "cell_type": "markdown",
   "id": "1a9d5cc4",
   "metadata": {},
   "source": [
    "#### Problem 5\n",
    "5. An electric meter of $R=20\\Omega$ resistance produces a maximum needle deflection with $10\\mathrm{mA}$ flowing through its terminals. What resistance must be connected in series with the\n",
    "    meter so that the maximum needle deflection occurs when series combination is\n",
    "    connected to $150 \\mathrm{V}$?"
   ]
  },
  {
   "cell_type": "markdown",
   "id": "36f8805d",
   "metadata": {},
   "source": [
    "To find the answer we solve for $R_\\mathrm{s}$ in the equation below, which is obtained from KVL and Ohm's law,  \n",
    "\n",
    "$$ 20\\Omega \\, 10\\mathrm{mA} + R_\\mathrm{s}\\,10\\mathrm{mA} = 150\\mathrm{V}$$"
   ]
  },
  {
   "cell_type": "code",
   "execution_count": 14,
   "id": "dabda782",
   "metadata": {},
   "outputs": [
    {
     "data": {
      "text/plain": [
       "14980.0"
      ]
     },
     "execution_count": 14,
     "metadata": {},
     "output_type": "execute_result"
    }
   ],
   "source": [
    "150/0.01 - 20"
   ]
  },
  {
   "cell_type": "markdown",
   "id": "91ae069a",
   "metadata": {},
   "source": [
    "$$ 20\\Omega + R_\\mathrm{s} = 15\\mathrm{k}\\Omega$$"
   ]
  },
  {
   "cell_type": "markdown",
   "id": "f90c8145",
   "metadata": {},
   "source": [
    "$$ R_\\mathrm{s} = 14.98\\mathrm{k}\\Omega$$"
   ]
  },
  {
   "cell_type": "markdown",
   "id": "18220f23",
   "metadata": {},
   "source": [
    "#### Problem 6\n",
    "6. What resistance must be connected in parallel with the meter of the preceding problem so\n",
    "    that the maximum needle deflection occurs when $100 \\mathrm{mA}$ current flows into the\n",
    "    combination?"
   ]
  },
  {
   "cell_type": "markdown",
   "id": "f2fbf3b0",
   "metadata": {},
   "source": [
    "To find the answer we must solve for $R_\\mathrm{p}$ in the following system of equations:  \n",
    "\n",
    "Via KVL and Ohm's Law,  \n",
    "\n",
    "$$ R_\\mathrm{p}I_\\mathrm{p} = 20\\Omega\\,10\\mathrm{mA}$$"
   ]
  },
  {
   "cell_type": "markdown",
   "id": "91ca5858",
   "metadata": {},
   "source": [
    "Via KCL,  \n",
    "\n",
    "$$ 100\\mathrm{mA} = 10\\mathrm{mA} + I_\\mathrm{p}$$"
   ]
  },
  {
   "cell_type": "markdown",
   "id": "733155c8",
   "metadata": {},
   "source": [
    "$$ I_\\mathrm{p} = 90\\mathrm{mA}$$"
   ]
  },
  {
   "cell_type": "markdown",
   "id": "08b6fe90",
   "metadata": {},
   "source": [
    "Via the above equation, the first equation of this problem and substitution,  \n",
    "\n",
    "$$ R_\\mathrm{p}\\,90\\mathrm{mA} = 20\\Omega \\, 10\\mathrm{mA}$$"
   ]
  },
  {
   "cell_type": "markdown",
   "id": "86876144",
   "metadata": {},
   "source": [
    "$$ R_\\mathrm{p} = \\frac{20}{9}\\,\\Omega$$"
   ]
  },
  {
   "cell_type": "markdown",
   "id": "19a85c11",
   "metadata": {},
   "source": [
    "#### Problem 7\n",
    "7. Two resistors, $R_1=9200\\Omega$ rated $1\\mathrm{W}$ and $R_2=5100\\Omega$ rated $0.5 \\mathrm{W}$, are connected in\n",
    "    series. What maximum current can safely flow in the combination? What maximum\n",
    "    voltage can by safely supplied?"
   ]
  },
  {
   "cell_type": "markdown",
   "id": "8bbc1e35",
   "metadata": {},
   "source": [
    "To find the maximum current ($I_\\max$), we must solve for $I$ in the following inequalities:  \n",
    "\n",
    "$$ I^2R_1 \\le 1\\mathrm{W}$$\n",
    "\n",
    "and,\n",
    "$$ I^2R_2 \\le 0.5\\mathrm{W}$$"
   ]
  },
  {
   "cell_type": "markdown",
   "id": "6e9272b4",
   "metadata": {},
   "source": [
    "Thus,\n",
    "\n",
    "$$ I^2 \\le \\frac{1\\mathrm{W}}{9200\\Omega}$$"
   ]
  },
  {
   "cell_type": "markdown",
   "id": "935982dc",
   "metadata": {},
   "source": [
    "$$ -\\frac{1}{\\sqrt{9200}}\\,\\mathrm{A}\\le I \\le \\frac{1}{\\sqrt{9200}}\\,\\mathrm{A}$$"
   ]
  },
  {
   "cell_type": "markdown",
   "id": "df26ccb4",
   "metadata": {},
   "source": [
    "and,\n",
    "$$ I \\le \\frac{1}{\\sqrt{10200\\Omega}}\\,\\mathrm{A}$$"
   ]
  },
  {
   "cell_type": "markdown",
   "id": "0a9fedae",
   "metadata": {},
   "source": [
    "Finally, \n",
    "$$I_\\max = \\frac{1}{\\sqrt{9200}}\\,\\mathrm{A}\\approxeq 10.426\\mathrm{mA}$$"
   ]
  },
  {
   "cell_type": "markdown",
   "id": "0bc97aea",
   "metadata": {},
   "source": [
    "The maximum voltage that can be safely supplied ($E_\\max$) is given by:  \n",
    "\n",
    "$$ E_\\max = I_\\max(R_1 + R_2) \\approxeq 149.09\\mathrm{V} $$"
   ]
  },
  {
   "cell_type": "code",
   "execution_count": 17,
   "id": "12c42f2f",
   "metadata": {},
   "outputs": [],
   "source": [
    "I_max = 1/np.sqrt(9200)\n",
    "E_max = I_max*(9200 + 5100)"
   ]
  },
  {
   "cell_type": "markdown",
   "id": "ff80c093",
   "metadata": {},
   "source": [
    "#### Problem 8\n",
    "8. Resistors of Fig. 2.5.5 circuit are rated $1 \\mathrm{W}$. What maximum voltage can by safely\n",
    "    supplied to such circuit?  \n",
    "    \n",
    "![Fig-2.5.5](Figures/Fig-2.5.5.png)"
   ]
  },
  {
   "cell_type": "markdown",
   "id": "12102563",
   "metadata": {},
   "source": [
    "$$ \\frac{U_1^2}{R_1} \\le 1\\mathrm{W}$$\n",
    "\n",
    "$$ -\\sqrt{R_1}\\,\\mathrm{V} \\le U_1\\le \\sqrt{R_1}\\,\\mathrm{V}  $$"
   ]
  },
  {
   "cell_type": "markdown",
   "id": "61c5d515",
   "metadata": {},
   "source": [
    "$$-\\sqrt{R_2}\\,\\mathrm{V} \\le U_2 \\le \\sqrt{R_2}\\,\\mathrm{V}$$"
   ]
  },
  {
   "cell_type": "markdown",
   "id": "7e7deb2b",
   "metadata": {},
   "source": [
    "$$ -\\sqrt{R_3}\\,\\mathrm{V} \\le U_3 \\le \\sqrt{R_3}\\,\\mathrm{V}$$"
   ]
  },
  {
   "cell_type": "markdown",
   "id": "e4fb4bf5",
   "metadata": {},
   "source": [
    "Via KVL and Ohm's Law,  \n",
    "\n",
    "$$ E = U_1 + U_2 = R_1I + R_2I_2 \\le \\sqrt{R_1} + \\sqrt{R_2} \\approxeq 5.16\\mathrm{V}$$"
   ]
  },
  {
   "cell_type": "code",
   "execution_count": 18,
   "id": "48219bf7",
   "metadata": {},
   "outputs": [
    {
     "data": {
      "text/plain": [
       "5.16227766016838"
      ]
     },
     "execution_count": 18,
     "metadata": {},
     "output_type": "execute_result"
    }
   ],
   "source": [
    "E = np.sqrt(10) + 2\n",
    "E"
   ]
  },
  {
   "cell_type": "markdown",
   "id": "b75c4795",
   "metadata": {},
   "source": [
    "and, \n",
    "$$ U_2 = U_3 = R_2I_2 = R_3I_3$$"
   ]
  },
  {
   "cell_type": "markdown",
   "id": "f2d4bbc3",
   "metadata": {},
   "source": []
  }
 ],
 "metadata": {
  "kernelspec": {
   "display_name": "Python 3",
   "language": "python",
   "name": "python3"
  },
  "language_info": {
   "codemirror_mode": {
    "name": "ipython",
    "version": 3
   },
   "file_extension": ".py",
   "mimetype": "text/x-python",
   "name": "python",
   "nbconvert_exporter": "python",
   "pygments_lexer": "ipython3",
   "version": "3.8.10"
  }
 },
 "nbformat": 4,
 "nbformat_minor": 5
}
