{
 "cells": [
  {
   "cell_type": "markdown",
   "id": "64fe0e31",
   "metadata": {},
   "source": [
    "# Impulse Excitation"
   ]
  },
  {
   "cell_type": "markdown",
   "id": "08e692f9",
   "metadata": {},
   "source": [
    "Suppose we have a circuit described by $(E\\;\\text{--}\\;R)\\;\\text{//}\\;R\\;\\text{//}\\;C$ with a switch in series with $E$, the voltage source.  The switch closes at $t=0$ and opens again at $t=\\Delta t$.  There are two approaches at analysing this circuit that we will try."
   ]
  },
  {
   "cell_type": "markdown",
   "id": "73b6290f",
   "metadata": {},
   "source": [
    "## Time-domain Method.\n",
    "\n",
    "First, there is a forced response with a duration of $\\Delta t$, followed up by a natural response.  Note that the forced response may end before steady-conditions are reached (i.e. it *may* be true that $\\Delta t < 5T$)."
   ]
  },
  {
   "cell_type": "markdown",
   "id": "68ab4e97",
   "metadata": {},
   "source": [
    "During the **forced reponse** we have:  \n",
    "\n",
    "$$ E = Ri+Ri_R \\quad\\quad \\text{and}\\quad\\quad Ri_R= \\frac{1}{C}\\,\\int i_C\\,\\mathrm{d}t$$"
   ]
  },
  {
   "cell_type": "markdown",
   "id": "12950d87",
   "metadata": {},
   "source": [
    "$$ i = i_R+i_C$$"
   ]
  },
  {
   "cell_type": "markdown",
   "id": "92c317bd",
   "metadata": {},
   "source": [
    "$$ E = 2Ri_R + Ri_C$$"
   ]
  },
  {
   "cell_type": "markdown",
   "id": "7fbfd5f3",
   "metadata": {},
   "source": [
    "$$ E = Ri_C + \\frac{2}{C}\\,\\int i_C\\,\\mathrm{d}t$$"
   ]
  },
  {
   "cell_type": "markdown",
   "id": "d6839b10",
   "metadata": {},
   "source": [
    "$$ Ri_C' + \\frac{2}{C}\\,i_C = 0$$"
   ]
  },
  {
   "cell_type": "markdown",
   "id": "3a2dc765",
   "metadata": {},
   "source": [
    "$$ i_C = i_C(t) = Ae^{m t} \\quad\\quad\\text{where }\\; Rm + \\frac{2}{C} = 0$$"
   ]
  },
  {
   "cell_type": "markdown",
   "id": "eb37db57",
   "metadata": {},
   "source": [
    "$$ m = -\\frac{2}{RC} \\quad\\quad\\text{and}\\quad\\quad T = -\\frac{1}{m} = 0.5RC$$"
   ]
  },
  {
   "cell_type": "markdown",
   "id": "d9d8fea8",
   "metadata": {},
   "source": [
    "$$ I_{R0} = 0 \\implies I_{C0} = i_C(0) = I_0 \\implies E = RI_{C0}$$"
   ]
  },
  {
   "cell_type": "markdown",
   "id": "5f4245d4",
   "metadata": {},
   "source": [
    "$$ I_{C0} = \\frac{E}{R} = A $$"
   ]
  },
  {
   "cell_type": "markdown",
   "id": "be3474fe",
   "metadata": {},
   "source": [
    "\\begin{equation}\\tag{t.2a}\n",
    "    i_C = i_C(t) = \\frac{E}{R}\\,e^{mt}\\,\\big(\\mathbf{1}(t)-\\mathbf{1}(t-\\Delta t)\\big)\n",
    "\\end{equation}    "
   ]
  },
  {
   "cell_type": "markdown",
   "id": "09389e71",
   "metadata": {},
   "source": [
    "$$ \\int \\frac{E}{R}\\,e^{mt}\\,\\mathrm{d}t = \\frac{E}{mR}\\,e^{mt} + c = c - 0.5ECe^{mt}$$"
   ]
  },
  {
   "cell_type": "markdown",
   "id": "35f53a0d",
   "metadata": {},
   "source": [
    "\\begin{equation}\\tag{t.3a}\n",
    "    u_C = u_C(t) = \\frac{1}{C}\\,\\int_0^t i_C\\,\\mathrm{d}t = -0.5E\\,\\big(e^{mt}-1\\big) = 0.5E\\,\\big(1-e^{mt}\\big)\\quad\\quad\\text{where }\\; 0\\le t \\le \\Delta t\n",
    "\\end{equation}    "
   ]
  },
  {
   "cell_type": "markdown",
   "id": "3f768159",
   "metadata": {},
   "source": [
    "$$ U_{C\\infty} = 0.5E$$"
   ]
  },
  {
   "cell_type": "markdown",
   "id": "4821983f",
   "metadata": {},
   "source": [
    "Note, however, that the above equation assumes a forced response with an indefinite duration.  Without such an assumption, the voltage running across the capacitor at the end of the forced response is:  \n",
    "\n",
    "\\begin{equation}\\tag{t.4}\n",
    "    u_C(\\Delta t) = 0.5E\\big(1-e^{\\Delta t/T}\\big)\n",
    "\\end{equation}    "
   ]
  },
  {
   "cell_type": "markdown",
   "id": "a90dfce6",
   "metadata": {},
   "source": [
    "During the **natural response** we have:  \n",
    "\n",
    "$$ Ri_R = \\frac{1}{C}\\,\\int i_C\\,\\mathrm{d}t = -Ri_C$$"
   ]
  },
  {
   "cell_type": "markdown",
   "id": "9a03caa1",
   "metadata": {},
   "source": [
    "$$ Ri_C' + \\frac{1}{C}\\,i_C = 0$$"
   ]
  },
  {
   "cell_type": "markdown",
   "id": "cf52789b",
   "metadata": {},
   "source": [
    "$$ i_C = i_C(t) = Be^{m_1t} \\quad\\quad\\text{where }\\;Rm_1 + \\frac{1}{C} = 0$$"
   ]
  },
  {
   "cell_type": "markdown",
   "id": "d71944ee",
   "metadata": {},
   "source": [
    "$$ m_1 = -\\frac{1}{RC} \\quad\\quad \\text{and}\\quad\\quad T_1 = -\\frac{1}{m_1} = RC$$"
   ]
  },
  {
   "cell_type": "markdown",
   "id": "49996958",
   "metadata": {},
   "source": [
    "$$ I_{R0} = -I_{C0} = \\frac{U_{C0}}{R}$$"
   ]
  },
  {
   "cell_type": "markdown",
   "id": "407fa9bd",
   "metadata": {},
   "source": [
    "\\begin{equation}\\tag{t.2b}\n",
    "    i_C(0) = B = -\\frac{U_{C0}}{R} \\quad\\quad\\text{and}\\quad\\quad i_C = i_C(t) = -\\frac{U_{C0}}{R}\\,e^{m_1 t}\\cdot \\mathbf{1}(t-\\Delta t)\n",
    "\\end{equation}    "
   ]
  },
  {
   "cell_type": "markdown",
   "id": "a0ca4992",
   "metadata": {},
   "source": [
    "$$ -\\frac{U_{C0}}{R}\\,\\int e^{m_1t}\\,\\mathrm{d}t = -\\frac{U_{C0}}{m_1R}\\,e^{m_1t} + c = U_{C0}Ce^{m_1 t} + c$$"
   ]
  },
  {
   "cell_type": "markdown",
   "id": "942a0f9d",
   "metadata": {},
   "source": [
    "\\begin{equation}\\tag{t.3b}\n",
    "    u_C = u_C(t) = \\frac{1}{C} \\,\\int_{\\Delta t}^{t} i_C\\,\\mathrm{d} t + U_{C0} = U_{C0}\\,\\big(e^{m_1t} - 1\\big) + U_{C0} = U_{C0}e^{m_1 t }\\quad\\quad\\text{where }\\; \\Delta t< t\n",
    "\\end{equation}    "
   ]
  },
  {
   "cell_type": "markdown",
   "id": "b9a34fae",
   "metadata": {},
   "source": [
    "Unpacking things, we have:  \n",
    "\n",
    "$$ U_{C0} = 0.5E\\big(1-e^{m\\Delta t}\\big) = 0.5E\\big(1-e^{-\\Delta t/T}\\big) $$"
   ]
  },
  {
   "cell_type": "markdown",
   "id": "6cd851e8",
   "metadata": {},
   "source": [
    "\\begin{equation}\\tag{t.2b}\n",
    "    B = -\\frac{E}{2R}\\,\\big(1-e^{-\\Delta t/T}\\big) = \\frac{E}{2R}\\,\\big(e^{-\\Delta t/T}-1\\big) \\quad\\quad \\text{and}\\quad\\quad i_C=i_C(t) = \\frac{E}{2R}\\,\\big(e^{-\\Delta t/T}-1\\big)\\,e^{-t/T_1}\\cdot \\mathbf{1}(t-\\Delta t)\n",
    "\\end{equation}    "
   ]
  },
  {
   "cell_type": "markdown",
   "id": "4020459a",
   "metadata": {},
   "source": [
    "Finally, the complete response is, via equations (t.2a,b),  \n",
    "\n",
    "\\begin{equation}\\tag{t.2}\n",
    "    i_C = i_C(t) = \\frac{E}{2R}\\,\\big(e^{-\\Delta t/T}-1\\big)\\,e^{-t/T_1}\\!\\cdot\\!\\mathbf{1}(t-\\Delta t)\\: + \\:\\frac{E}{R}\\,e^{mt}\\,\\big(\\mathbf{1}(t)-\\mathbf{1}(t-\\Delta t)\\big)\n",
    "\\end{equation}    "
   ]
  },
  {
   "cell_type": "markdown",
   "id": "5b12864c",
   "metadata": {},
   "source": [
    "It appears that if $\\Delta t < 5T$, the waveform of the complete response of $u_C$ to the impulse excitation roughly approximates a (*roughly* isoceles) triangle impulse."
   ]
  },
  {
   "cell_type": "markdown",
   "id": "cdd981ce",
   "metadata": {},
   "source": [
    "## $s$-Domain Method  \n",
    "\n",
    "$$ E\\big(\\mathbf{1}(t)-\\mathbf{1}(t-\\Delta t)\\big) = Ri + Ri_R\\quad\\quad\\text{and}\\quad\\quad Ri_R = \\frac{1}{C}\\,\\int i_C\\,\\mathrm{d}t$$"
   ]
  },
  {
   "cell_type": "markdown",
   "id": "1c462116",
   "metadata": {},
   "source": [
    "Recall that, in this textbook, '$\\mathbf{1}(t)$' denotes the unit step function.  \n",
    "\n",
    "$$ \\mathbf{1}(t) = \\begin{cases}\\tag{1}\n",
    "1 &\\quad\\text{if }t\\ge0 \\\\\n",
    "0 &\\quad\\text{otherwise}\n",
    "\\end{cases}$$"
   ]
  },
  {
   "cell_type": "markdown",
   "id": "003500d5",
   "metadata": {},
   "source": [
    "Via KCL,  \n",
    "\n",
    "$$ i = i_R + i_C$$"
   ]
  },
  {
   "cell_type": "markdown",
   "id": "9a5b0220",
   "metadata": {},
   "source": [
    "Transforming throughout the above three equations gives:  \n",
    "\n",
    "$$ \\frac{E}{s}\\,\\big(1-e^{-\\Delta t s}\\big) = RI(s) + RI_R(s) \\quad\\quad\\text{and}\\quad\\quad RI_R(s) = \\frac{1}{sC}\\,I_C(s)$$"
   ]
  },
  {
   "cell_type": "markdown",
   "id": "1b0f24ac",
   "metadata": {},
   "source": [
    "$$ I(s)=I_R(s) + I_C(s)$$"
   ]
  },
  {
   "cell_type": "markdown",
   "id": "bc1b94a4",
   "metadata": {},
   "source": [
    "$$ \\frac{E}{s}\\,\\big(1-e^{-\\Delta ts}\\big) = 2RI_R(s) + RI_C(s)$$"
   ]
  },
  {
   "cell_type": "markdown",
   "id": "355e35db",
   "metadata": {},
   "source": [
    "$$ \\frac{E}{s}\\,\\big(1-e^{-\\Delta ts}\\big) = \\frac{2}{sC}\\,I_C(s) + RI_C(s)$$"
   ]
  },
  {
   "cell_type": "markdown",
   "id": "05c6f255",
   "metadata": {},
   "source": [
    "$$ EC\\,\\big(1-e^{-\\Delta ts}\\big) = 2I_C(s) + sRCI_C(s)$$"
   ]
  },
  {
   "cell_type": "markdown",
   "id": "41c72b53",
   "metadata": {},
   "source": [
    "\\begin{equation}\\tag{s.1}\n",
    "    I_C(s) = 0.5EC\\,\\frac{1-e^{-\\Delta ts}}{0.5sRC + 1}\n",
    "\\end{equation}    "
   ]
  },
  {
   "cell_type": "markdown",
   "id": "886ed7c2",
   "metadata": {},
   "source": [
    "$$ I_{C1}(s) = \\frac{E}{R}\\,\\frac{T}{sT+1}\\quad\\quad\\text{and}\\quad\\quad I_{C2}(s) = -I_{C1}(s)\\,e^{-\\Delta ts}$$"
   ]
  },
  {
   "cell_type": "markdown",
   "id": "1c62afdb",
   "metadata": {},
   "source": [
    "Note that here, as is the case when using the time-domain method,  \n",
    "\n",
    "$$ T = 0.5RC$$"
   ]
  },
  {
   "cell_type": "markdown",
   "id": "9f66c9c9",
   "metadata": {},
   "source": [
    "$$ i_{C1}(t) := \\mathfrak{L}^{-1}\\{I_{C1}(s)\\} = \\frac{E}{R}\\,e^{-t/T}$$"
   ]
  },
  {
   "cell_type": "markdown",
   "id": "2e2260d1",
   "metadata": {},
   "source": [
    "$$ \\mathfrak{L}^{-1}\\{I_{C2}(s)\\} = -i_{C1}(t-\\Delta t) \\cdot \\mathbf{1}(t-\\Delta t) = -\\frac{E}{R}\\,e^{-(t-\\Delta t)/T} \\cdot \\mathbf{1}(t-\\Delta t)$$"
   ]
  },
  {
   "cell_type": "markdown",
   "id": "1a06282b",
   "metadata": {},
   "source": [
    "\\begin{equation}\\tag{t.2}\n",
    "    i_C = i_C(t) = \\frac{E}{R}\\,e^{-t/T}\\,\\big(\\mathbf{1}(t) - e^{\\Delta t/T}\\cdot \\mathbf{1}(t-\\Delta t)\\big)\n",
    "\\end{equation}    "
   ]
  }
 ],
 "metadata": {
  "kernelspec": {
   "display_name": "Python 3",
   "language": "python",
   "name": "python3"
  },
  "language_info": {
   "codemirror_mode": {
    "name": "ipython",
    "version": 3
   },
   "file_extension": ".py",
   "mimetype": "text/x-python",
   "name": "python",
   "nbconvert_exporter": "python",
   "pygments_lexer": "ipython3",
   "version": "3.8.10"
  }
 },
 "nbformat": 4,
 "nbformat_minor": 5
}
