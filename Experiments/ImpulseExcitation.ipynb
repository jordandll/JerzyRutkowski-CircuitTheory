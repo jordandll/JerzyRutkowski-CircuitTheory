{
 "cells": [
  {
   "cell_type": "markdown",
   "id": "55e9b153",
   "metadata": {},
   "source": [
    "# Impulse Excitation"
   ]
  },
  {
   "cell_type": "markdown",
   "id": "4b30f554",
   "metadata": {},
   "source": [
    "Suppose we have a circuit described by $(E\\;\\text{--}\\;R)\\;\\text{//}\\;R\\;\\text{//}\\;C$ with a switch in series with $E$, the voltage source.  The switch closes at $t=0$ and opens again at $t=\\Delta t$.  There are two approaches at analysing this circuit that we will try."
   ]
  },
  {
   "cell_type": "markdown",
   "id": "5781d546",
   "metadata": {},
   "source": [
    "## Time-domain Method.\n",
    "\n",
    "First, there is a forced response with a duration of $\\Delta t$, followed up by a natural response.  Note that the forced response may end before steady-conditions are reached (i.e. it *may* be true that $\\Delta t < 5T$)."
   ]
  },
  {
   "cell_type": "markdown",
   "id": "44be19cd",
   "metadata": {},
   "source": [
    "During the **forced reponse** we have:  \n",
    "\n",
    "$$ E = Ri+Ri_R \\quad\\quad \\text{and}\\quad\\quad Ri_R= \\frac{1}{C}\\,\\int i_C\\,\\mathrm{d}t$$"
   ]
  },
  {
   "cell_type": "markdown",
   "id": "b5b01900",
   "metadata": {},
   "source": [
    "$$ i = i_R+i_C$$"
   ]
  },
  {
   "cell_type": "markdown",
   "id": "e304306d",
   "metadata": {},
   "source": [
    "$$ E = 2Ri_R + Ri_C$$"
   ]
  },
  {
   "cell_type": "markdown",
   "id": "cd363f18",
   "metadata": {},
   "source": [
    "$$ E = Ri_C + \\frac{2}{C}\\,\\int i_C\\,\\mathrm{d}t$$"
   ]
  },
  {
   "cell_type": "markdown",
   "id": "9624be8a",
   "metadata": {},
   "source": [
    "$$ Ri_C' + \\frac{2}{C}\\,i_C = 0$$"
   ]
  },
  {
   "cell_type": "markdown",
   "id": "49d2be7e",
   "metadata": {},
   "source": [
    "$$ i_C = i_C(t) = Ae^{m t} \\quad\\quad\\text{where }\\; Rm + \\frac{2}{C} = 0$$"
   ]
  },
  {
   "cell_type": "markdown",
   "id": "a91bb6ed",
   "metadata": {},
   "source": [
    "$$ m = -\\frac{2}{RC} \\quad\\quad\\text{and}\\quad\\quad T = -\\frac{1}{m} = 0.5RC$$"
   ]
  },
  {
   "cell_type": "markdown",
   "id": "00b9e9d9",
   "metadata": {},
   "source": [
    "$$ I_{R0} = 0 \\implies I_{C0} = i_C(0) = I_0 \\implies E = RI_{C0}$$"
   ]
  },
  {
   "cell_type": "markdown",
   "id": "b07a385d",
   "metadata": {},
   "source": [
    "$$ I_{C0} = \\frac{E}{R} = A $$"
   ]
  },
  {
   "cell_type": "markdown",
   "id": "511f46f3",
   "metadata": {},
   "source": [
    "$$ i_C = i_C(t) = \\frac{E}{R}\\,e^{mt}$$"
   ]
  },
  {
   "cell_type": "markdown",
   "id": "e79856bb",
   "metadata": {},
   "source": [
    "$$ \\int i_C\\,\\mathrm{d}t = \\frac{E}{mR}\\,e^{mt} + c = c - 0.5ECe^{mt}$$"
   ]
  },
  {
   "cell_type": "markdown",
   "id": "3e8336b7",
   "metadata": {},
   "source": [
    "$$ u_C = u_C(t) = \\frac{1}{C}\\,\\int_0^t i_C\\,\\mathrm{d}t = -0.5E\\,\\big(e^{mt}-1\\big) = 0.5E\\,\\big(1-e^{mt}\\big)$$"
   ]
  },
  {
   "cell_type": "markdown",
   "id": "912a2bff",
   "metadata": {},
   "source": [
    "$$ U_{C\\infty} = 0.5E$$"
   ]
  },
  {
   "cell_type": "markdown",
   "id": "79a8bd8d",
   "metadata": {},
   "source": [
    "During the **natural reponse** we have:  \n",
    "\n",
    "$$ Ri_R = \\frac{1}{C}\\,\\int i_C\\,\\mathrm{d}t = -Ri_C$$"
   ]
  },
  {
   "cell_type": "markdown",
   "id": "931808fb",
   "metadata": {},
   "source": [
    "$$ Ri_C' + \\frac{1}{C}\\,i_C = 0$$"
   ]
  },
  {
   "cell_type": "markdown",
   "id": "adb736be",
   "metadata": {},
   "source": [
    "$$ i_C = i_C(t) = Be^{m_1t} \\quad\\quad\\text{where }\\;Rm_1 + \\frac{1}{C} = 0$$"
   ]
  },
  {
   "cell_type": "markdown",
   "id": "fe615ddc",
   "metadata": {},
   "source": [
    "$$ m_1 = -\\frac{1}{RC} \\quad\\quad \\text{and}\\quad\\quad T_1 = -\\frac{1}{m_1} = RC$$"
   ]
  },
  {
   "cell_type": "markdown",
   "id": "f7b81ec7",
   "metadata": {},
   "source": []
  },
  {
   "cell_type": "markdown",
   "id": "558bc946",
   "metadata": {},
   "source": [
    "$$ \\int i_C\\,\\mathrm{d}t = \\frac{B}{m}\\,e^{m_1t}+c$$"
   ]
  },
  {
   "cell_type": "markdown",
   "id": "e551f011",
   "metadata": {},
   "source": [
    "$$u_C = u_C(t) = \\frac{1}{C}\\,\\int i_C\\,\\mathrm{d}t + 0.5E = \\frac{B}{mC}\\,\\big(e^{m_1t} - 1\\big) + 0.5E$$"
   ]
  }
 ],
 "metadata": {
  "kernelspec": {
   "display_name": "Python 3",
   "language": "python",
   "name": "python3"
  },
  "language_info": {
   "codemirror_mode": {
    "name": "ipython",
    "version": 3
   },
   "file_extension": ".py",
   "mimetype": "text/x-python",
   "name": "python",
   "nbconvert_exporter": "python",
   "pygments_lexer": "ipython3",
   "version": "3.8.10"
  }
 },
 "nbformat": 4,
 "nbformat_minor": 5
}
