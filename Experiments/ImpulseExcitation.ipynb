{
 "cells": [
  {
   "cell_type": "markdown",
   "id": "66766758",
   "metadata": {},
   "source": [
    "# Impulse Excitation"
   ]
  },
  {
   "cell_type": "markdown",
   "id": "cf5471f1",
   "metadata": {},
   "source": [
    "Suppose we have a circuit described by $(E\\;\\text{--}\\;R)\\;\\text{//}\\;R\\;\\text{//}\\;C$ with a switch in series with $E$, the voltage source.  The switch closes at $t=0$ and opens again at $t=\\Delta t$.  There are two approaches at analysing this circuit that we will try."
   ]
  },
  {
   "cell_type": "markdown",
   "id": "4ecbf069",
   "metadata": {},
   "source": [
    "## Time-domain Method.\n",
    "\n",
    "First, there is a forced response with a duration of $\\Delta t$, followed up by a natural response.  Note that the forced response may end before steady-conditions are reached (i.e. it *may* be true that $\\Delta t < 5T$)."
   ]
  },
  {
   "cell_type": "markdown",
   "id": "ebeccd2a",
   "metadata": {},
   "source": [
    "During the **forced reponse** we have:  \n",
    "\n",
    "$$ E = Ri+Ri_R \\quad\\quad \\text{and}\\quad\\quad Ri_R= \\frac{1}{C}\\,\\int i_C\\,\\mathrm{d}t$$"
   ]
  },
  {
   "cell_type": "markdown",
   "id": "2a7cc8be",
   "metadata": {},
   "source": [
    "$$ i = i_R+i_C$$"
   ]
  },
  {
   "cell_type": "markdown",
   "id": "0ebe8d81",
   "metadata": {},
   "source": [
    "$$ E = 2Ri_R + Ri_C$$"
   ]
  },
  {
   "cell_type": "markdown",
   "id": "4f4bfb8d",
   "metadata": {},
   "source": [
    "$$ E = Ri_C + \\frac{2}{C}\\,\\int i_C\\,\\mathrm{d}t$$"
   ]
  },
  {
   "cell_type": "markdown",
   "id": "b1f26017",
   "metadata": {},
   "source": [
    "$$ Ri_C' + \\frac{2}{C}\\,i_C = 0$$"
   ]
  },
  {
   "cell_type": "markdown",
   "id": "810f7881",
   "metadata": {},
   "source": [
    "$$ i_C = i_C(t) = Ae^{m t} \\quad\\quad\\text{where }\\; Rm + \\frac{2}{C} = 0$$"
   ]
  },
  {
   "cell_type": "markdown",
   "id": "57ba179a",
   "metadata": {},
   "source": [
    "$$ m = -\\frac{2}{RC} \\quad\\quad\\text{and}\\quad\\quad T = -\\frac{1}{m} = 0.5RC$$"
   ]
  },
  {
   "cell_type": "markdown",
   "id": "e475a759",
   "metadata": {},
   "source": [
    "$$ I_{R0} = 0 \\implies I_{C0} = i_C(0) = I_0 \\implies E = RI_{C0}$$"
   ]
  },
  {
   "cell_type": "markdown",
   "id": "c8ef0e90",
   "metadata": {},
   "source": [
    "$$ I_{C0} = \\frac{E}{R} = A $$"
   ]
  },
  {
   "cell_type": "markdown",
   "id": "9e5c6ec6",
   "metadata": {},
   "source": [
    "$$ i_C = i_C(t) = \\frac{E}{R}\\,e^{mt}$$"
   ]
  },
  {
   "cell_type": "markdown",
   "id": "b7877b51",
   "metadata": {},
   "source": [
    "$$ \\int i_C\\,\\mathrm{d}t = \\frac{E}{mR}\\,e^{mt} + c = c - 0.5ECe^{mt}$$"
   ]
  },
  {
   "cell_type": "markdown",
   "id": "e140936f",
   "metadata": {},
   "source": [
    "$$ u_C = u_C(t) = \\frac{1}{C}\\,\\int_0^t i_C\\,\\mathrm{d}t = -0.5E\\,\\big(e^{mt}-1\\big) = 0.5E\\,\\big(1-e^{mt}\\big)$$"
   ]
  },
  {
   "cell_type": "markdown",
   "id": "611be396",
   "metadata": {},
   "source": [
    "$$ U_{C\\infty} = 0.5E$$"
   ]
  },
  {
   "cell_type": "markdown",
   "id": "2f1e6516",
   "metadata": {},
   "source": [
    "During the **natural response** we have:  \n",
    "\n",
    "$$ Ri_R = \\frac{1}{C}\\,\\int i_C\\,\\mathrm{d}t = -Ri_C$$"
   ]
  },
  {
   "cell_type": "markdown",
   "id": "63a0fe58",
   "metadata": {},
   "source": [
    "$$ Ri_C' + \\frac{1}{C}\\,i_C = 0$$"
   ]
  },
  {
   "cell_type": "markdown",
   "id": "a90a5dce",
   "metadata": {},
   "source": [
    "$$ i_C = i_C(t) = Be^{m_1t} \\quad\\quad\\text{where }\\;Rm_1 + \\frac{1}{C} = 0$$"
   ]
  },
  {
   "cell_type": "markdown",
   "id": "8199fef0",
   "metadata": {},
   "source": [
    "$$ m_1 = -\\frac{1}{RC} \\quad\\quad \\text{and}\\quad\\quad T_1 = -\\frac{1}{m_1} = RC$$"
   ]
  },
  {
   "cell_type": "markdown",
   "id": "b1e3eb34",
   "metadata": {},
   "source": [
    "For an IVP, assuming $\\Delta t \\ge 5T$,  \n",
    "\n",
    "$$ RI_{R0} = U_{C0} = 0.5E$$"
   ]
  },
  {
   "cell_type": "markdown",
   "id": "2d8aa262",
   "metadata": {},
   "source": [
    "$$ I_{R0} = -I_{C0} = \\frac{E}{2R}$$"
   ]
  },
  {
   "cell_type": "markdown",
   "id": "b8a073e2",
   "metadata": {},
   "source": [
    "$$ i_C(0) = B = -\\frac{E}{2R} \\quad\\quad\\text{and}\\quad\\quad i_C = i_C(t) = -\\frac{E}{2R}\\,e^{m_1 t}$$"
   ]
  },
  {
   "cell_type": "markdown",
   "id": "07b39d32",
   "metadata": {},
   "source": [
    "$$ \\int i_C\\,\\mathrm{d}t = -\\frac{E}{2m_1R}\\,e^{m_1t} + c = 0.5ECe^{m_1 t} + c$$"
   ]
  },
  {
   "cell_type": "markdown",
   "id": "3d6f4362",
   "metadata": {},
   "source": [
    "$$ u_C = u_C(t) = \\frac{1}{C}\\,\\int_0^t i_C\\,\\mathrm{d} t + 0.5E = 0.5E\\,\\big(e^{m_1t} - 1\\big) + 0.5E = 0.5Ee^{m_1 t }$$"
   ]
  },
  {
   "cell_type": "markdown",
   "id": "73bc6962",
   "metadata": {},
   "source": [
    "Generally speaking, independent of the relationship between $\\Delta t$ and $5T$,  \n",
    "\n",
    "$$ I_{R0} = -I_{C0} = \\frac{U_{C0}}{R}$$"
   ]
  },
  {
   "cell_type": "markdown",
   "id": "c819be4e",
   "metadata": {},
   "source": [
    "$$ B = -\\frac{U_{C0}}{R} \\quad\\quad\\text{and}\\quad\\quad i_C = i_C(t) = -\\frac{U_{C0}}{R}\\,e^{m_1 t}$$"
   ]
  },
  {
   "cell_type": "markdown",
   "id": "ddb4c000",
   "metadata": {},
   "source": [
    "$$ u_C = u_C(t) = U_{C0}\\,e^{m_1 t}$$"
   ]
  },
  {
   "cell_type": "markdown",
   "id": "971ef937",
   "metadata": {},
   "source": [
    "It appears that if $\\Delta t < 5T$, the waveform of the complete response of $u_C$ to the impulse excitation roughly approximates a (*roughly* isoceles) triangle impulse."
   ]
  },
  {
   "cell_type": "markdown",
   "id": "36ccd4af",
   "metadata": {},
   "source": [
    "## $s$-Domain Method  \n",
    "\n",
    "$$ E\\big(u(t)-u(t-\\Delta t)\\big) = Ri + Ri_R\\quad\\quad\\text{and}\\quad\\quad Ri_R = \\frac{1}{C}\\,\\int i_C\\,\\mathrm{d}t$$"
   ]
  },
  {
   "cell_type": "markdown",
   "id": "5632f612",
   "metadata": {},
   "source": [
    "$$ i = i_R + i_C$$"
   ]
  },
  {
   "cell_type": "markdown",
   "id": "ba44d734",
   "metadata": {},
   "source": [
    "Transforming throughout the above three equations gives:  \n",
    "\n",
    "$$ $$"
   ]
  }
 ],
 "metadata": {
  "kernelspec": {
   "display_name": "Python 3",
   "language": "python",
   "name": "python3"
  },
  "language_info": {
   "codemirror_mode": {
    "name": "ipython",
    "version": 3
   },
   "file_extension": ".py",
   "mimetype": "text/x-python",
   "name": "python",
   "nbconvert_exporter": "python",
   "pygments_lexer": "ipython3",
   "version": "3.8.10"
  }
 },
 "nbformat": 4,
 "nbformat_minor": 5
}
