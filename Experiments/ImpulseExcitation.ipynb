{
 "cells": [
  {
   "cell_type": "markdown",
   "id": "e208151d",
   "metadata": {},
   "source": [
    "# Impulse Excitation"
   ]
  },
  {
   "cell_type": "markdown",
   "id": "cb1f9d5a",
   "metadata": {},
   "source": [
    "Suppose we have a circuit described by $(E\\;\\text{--}\\;R)\\;\\text{//}\\;R\\;\\text{//}\\;C$ with a switch in series with $E$, the voltage source.  The switch closes at $t=0$ and opens again at $t=\\Delta t$.  There are two approaches at analysing this circuit that we will try."
   ]
  },
  {
   "cell_type": "markdown",
   "id": "0c5fd36c",
   "metadata": {},
   "source": [
    "## Time-domain Method.\n",
    "\n",
    "First, there is a forced response with a duration of $\\Delta t$, followed up by a natural response.  Note that the forced response may end before steady-conditions are reached (i.e. it *may* be true that $\\Delta t < 5T$)."
   ]
  },
  {
   "cell_type": "markdown",
   "id": "f3ab15d3",
   "metadata": {},
   "source": [
    "During the **forced reponse** we have:  \n",
    "\n",
    "$$ E = Ri+Ri_R \\quad\\quad \\text{and}\\quad\\quad Ri_R= \\frac{1}{C}\\,\\int i_C\\,\\mathrm{d}t$$"
   ]
  },
  {
   "cell_type": "markdown",
   "id": "976aa95b",
   "metadata": {},
   "source": [
    "$$ i = i_R+i_C$$"
   ]
  },
  {
   "cell_type": "markdown",
   "id": "7ef8bf48",
   "metadata": {},
   "source": [
    "$$ E = 2Ri_R + Ri_C$$"
   ]
  },
  {
   "cell_type": "markdown",
   "id": "85bfc2b8",
   "metadata": {},
   "source": [
    "$$ E = Ri_C + \\frac{2}{C}\\,\\int i_C\\,\\mathrm{d}t$$"
   ]
  },
  {
   "cell_type": "markdown",
   "id": "1ec0a11d",
   "metadata": {},
   "source": [
    "$$ Ri_C' + \\frac{2}{C}\\,i_C = 0$$"
   ]
  },
  {
   "cell_type": "markdown",
   "id": "79da5dc8",
   "metadata": {},
   "source": [
    "$$ i_C = i_C(t) = Ae^{m t} \\quad\\quad\\text{where }\\; Rm + \\frac{2}{C} = 0$$"
   ]
  },
  {
   "cell_type": "markdown",
   "id": "bb08a045",
   "metadata": {},
   "source": [
    "$$ m = -\\frac{2}{RC} \\quad\\quad\\text{and}\\quad\\quad T = -\\frac{1}{m} = 0.5RC$$"
   ]
  },
  {
   "cell_type": "markdown",
   "id": "596e0254",
   "metadata": {},
   "source": [
    "$$ I_{R0} = 0 \\implies I_{C0} = i_C(0) = I_0 \\implies E = RI_{C0}$$"
   ]
  },
  {
   "cell_type": "markdown",
   "id": "c2897325",
   "metadata": {},
   "source": [
    "$$ I_{C0} = \\frac{E}{R} = A $$"
   ]
  },
  {
   "cell_type": "markdown",
   "id": "baf2d98d",
   "metadata": {},
   "source": [
    "\\begin{equation}\\tag{t.2a}\n",
    "    i_C = i_C(t) = \\frac{E}{R}\\,e^{mt}\\,\\big(\\mathbf{1}(t)-\\mathbf{1}(t-\\Delta t)\\big)\n",
    "\\end{equation}    "
   ]
  },
  {
   "cell_type": "markdown",
   "id": "31957acd",
   "metadata": {},
   "source": [
    "$$ \\int \\frac{E}{R}\\,e^{mt}\\,\\mathrm{d}t = \\frac{E}{mR}\\,e^{mt} + c = c - 0.5ECe^{mt}$$"
   ]
  },
  {
   "cell_type": "markdown",
   "id": "bedb9584",
   "metadata": {},
   "source": [
    "\\begin{equation}\\tag{t.3a}\n",
    "    u_C = u_C(t) = \\frac{1}{C}\\,\\int_0^t i_C\\,\\mathrm{d}t = -0.5E\\,\\big(e^{mt}-1\\big) = 0.5E\\,\\big(1-e^{mt}\\big)\\quad\\quad\\text{where }\\; 0\\le t \\le \\Delta t\n",
    "\\end{equation}    "
   ]
  },
  {
   "cell_type": "markdown",
   "id": "ba6502d2",
   "metadata": {},
   "source": [
    "$$ U_{C\\infty} = 0.5E$$"
   ]
  },
  {
   "cell_type": "markdown",
   "id": "a63e7c1b",
   "metadata": {},
   "source": [
    "Note, however, that the above equation assumes a forced response with an indefinite duration.  Without such an assumption, the voltage running across the capacitor at the end of the forced response is:  \n",
    "\n",
    "\\begin{equation}\\tag{t.4}\n",
    "    u_C(\\Delta t) = 0.5E\\big(1-e^{\\Delta t/T}\\big)\n",
    "\\end{equation}    "
   ]
  },
  {
   "cell_type": "markdown",
   "id": "1325507e",
   "metadata": {},
   "source": [
    "During the **natural response** we have:  \n",
    "\n",
    "$$ Ri_R = \\frac{1}{C}\\,\\int i_C\\,\\mathrm{d}t = -Ri_C$$"
   ]
  },
  {
   "cell_type": "markdown",
   "id": "6016b4c9",
   "metadata": {},
   "source": [
    "$$ Ri_C' + \\frac{1}{C}\\,i_C = 0$$"
   ]
  },
  {
   "cell_type": "markdown",
   "id": "78b9d0eb",
   "metadata": {},
   "source": [
    "$$ i_C = i_C(t) = Be^{m_1t} \\quad\\quad\\text{where }\\;Rm_1 + \\frac{1}{C} = 0$$"
   ]
  },
  {
   "cell_type": "markdown",
   "id": "fdc0878a",
   "metadata": {},
   "source": [
    "$$ m_1 = -\\frac{1}{RC} \\quad\\quad \\text{and}\\quad\\quad T_1 = -\\frac{1}{m_1} = RC$$"
   ]
  },
  {
   "cell_type": "markdown",
   "id": "0a557384",
   "metadata": {},
   "source": [
    "For an IVP, assuming $\\Delta t \\ge 5T$,  \n",
    "\n",
    "$$ RI_{R0} = U_{C0} = 0.5E$$"
   ]
  },
  {
   "cell_type": "markdown",
   "id": "5e13072e",
   "metadata": {},
   "source": [
    "$$ I_{R0} = -I_{C0} = \\frac{E}{2R}$$"
   ]
  },
  {
   "cell_type": "markdown",
   "id": "d5331148",
   "metadata": {},
   "source": [
    "$$ i_C(0) = B = -\\frac{E}{2R} \\quad\\quad\\text{and}\\quad\\quad i_C = i_C(t) = -\\frac{E}{2R}\\,e^{m_1 t}$$"
   ]
  },
  {
   "cell_type": "markdown",
   "id": "1e3417b3",
   "metadata": {},
   "source": [
    "$$ \\int i_C\\,\\mathrm{d}t = -\\frac{E}{2m_1R}\\,e^{m_1t} + c = 0.5ECe^{m_1 t} + c$$"
   ]
  },
  {
   "cell_type": "markdown",
   "id": "4980cd78",
   "metadata": {},
   "source": [
    "$$ u_C = u_C(t) = \\frac{1}{C}\\,\\int_0^t i_C\\,\\mathrm{d} t + 0.5E = 0.5E\\,\\big(e^{m_1t} - 1\\big) + 0.5E = 0.5Ee^{m_1 t }$$"
   ]
  },
  {
   "cell_type": "markdown",
   "id": "974cb496",
   "metadata": {},
   "source": [
    "Generally speaking, independent of the relationship between $\\Delta t$ and $5T$,  \n",
    "\n",
    "$$ I_{R0} = -I_{C0} = \\frac{U_{C0}}{R}$$"
   ]
  },
  {
   "cell_type": "markdown",
   "id": "555e850f",
   "metadata": {},
   "source": [
    "$$ B = -\\frac{U_{C0}}{R} \\quad\\quad\\text{and}\\quad\\quad i_C = i_C(t) = -\\frac{U_{C0}}{R}\\,e^{m_1 t}$$"
   ]
  },
  {
   "cell_type": "markdown",
   "id": "70ef894f",
   "metadata": {},
   "source": [
    "$$ u_C = u_C(t) = U_{C0}\\,e^{m_1 t}$$"
   ]
  },
  {
   "cell_type": "markdown",
   "id": "462038bc",
   "metadata": {},
   "source": [
    "More precisely speaking, independent of the relationship between $\\Delta t$ and $5T$,  \n",
    "\n",
    "$$ U_{C0} = 0.5E\\big(1-e^{m\\Delta t}\\big) = 0.5E\\big(1-e^{-2\\Delta t/T_1}\\big) $$"
   ]
  },
  {
   "cell_type": "markdown",
   "id": "299a55e5",
   "metadata": {},
   "source": [
    "$$ B = -\\frac{E}{2R}\\,\\big(1-e^{-2\\Delta t/T_1}\\big) = \\frac{E}{2R}\\,\\big(e^{-2\\Delta t/T_1}-1\\big) \\quad\\quad \\text{and}\\quad\\quad i_C=i_C(t) = \\frac{E}{2R}\\,\\big(e^{-2\\Delta t/T_1}-1\\big)\\,e^{-t/T_1}$$"
   ]
  },
  {
   "cell_type": "markdown",
   "id": "a42c16f1",
   "metadata": {},
   "source": [
    "It appears that if $\\Delta t < 5T$, the waveform of the complete response of $u_C$ to the impulse excitation roughly approximates a (*roughly* isoceles) triangle impulse."
   ]
  },
  {
   "cell_type": "markdown",
   "id": "1fc109d3",
   "metadata": {},
   "source": [
    "## $s$-Domain Method  \n",
    "\n",
    "$$ E\\big(\\mathbf{1}(t)-\\mathbf{1}(t-\\Delta t)\\big) = Ri + Ri_R\\quad\\quad\\text{and}\\quad\\quad Ri_R = \\frac{1}{C}\\,\\int i_C\\,\\mathrm{d}t$$"
   ]
  },
  {
   "cell_type": "markdown",
   "id": "82201845",
   "metadata": {},
   "source": [
    "Recall that, in this textbook, '$\\mathbf{1}(t)$' denotes the unit step function.  \n",
    "\n",
    "$$ \\mathbf{1}(t) = \\begin{cases}\\tag{1}\n",
    "1 &\\quad\\text{if }t\\ge0 \\\\\n",
    "0 &\\quad\\text{otherwise}\n",
    "\\end{cases}$$"
   ]
  },
  {
   "cell_type": "markdown",
   "id": "09763c7c",
   "metadata": {},
   "source": [
    "Via KCL,  \n",
    "\n",
    "$$ i = i_R + i_C$$"
   ]
  },
  {
   "cell_type": "markdown",
   "id": "875af466",
   "metadata": {},
   "source": [
    "Transforming throughout the above three equations gives:  \n",
    "\n",
    "$$ \\frac{E}{s}\\,\\big(1-e^{-\\Delta t s}\\big) = RI(s) + RI_R(s) \\quad\\quad\\text{and}\\quad\\quad RI_R(s) = \\frac{1}{sC}\\,I_C(s)$$"
   ]
  },
  {
   "cell_type": "markdown",
   "id": "d3cafd20",
   "metadata": {},
   "source": [
    "$$ I(s)=I_R(s) + I_C(s)$$"
   ]
  },
  {
   "cell_type": "markdown",
   "id": "0cc549e2",
   "metadata": {},
   "source": [
    "$$ \\frac{E}{s}\\,\\big(1-e^{-\\Delta ts}\\big) = 2RI_R(s) + RI_C(s)$$"
   ]
  },
  {
   "cell_type": "markdown",
   "id": "98a616ab",
   "metadata": {},
   "source": [
    "$$ \\frac{E}{s}\\,\\big(1-e^{-\\Delta ts}\\big) = \\frac{2}{sC}\\,I_C(s) + RI_C(s)$$"
   ]
  },
  {
   "cell_type": "markdown",
   "id": "24e1f911",
   "metadata": {},
   "source": [
    "$$ EC\\,\\big(1-e^{-\\Delta ts}\\big) = 2I_C(s) + sRCI_C(s)$$"
   ]
  },
  {
   "cell_type": "markdown",
   "id": "ca7be795",
   "metadata": {},
   "source": [
    "\\begin{equation}\\tag{s.1}\n",
    "    I_C(s) = 0.5EC\\,\\frac{1-e^{-\\Delta ts}}{0.5sRC + 1}\n",
    "\\end{equation}    "
   ]
  },
  {
   "cell_type": "markdown",
   "id": "1ab8f92e",
   "metadata": {},
   "source": [
    "$$ I_{C1}(s) = \\frac{E}{R}\\,\\frac{T}{sT+1}\\quad\\quad\\text{and}\\quad\\quad I_{C2}(s) = -I_{C1}(s)\\,e^{-\\Delta ts}$$"
   ]
  },
  {
   "cell_type": "markdown",
   "id": "045de1cb",
   "metadata": {},
   "source": [
    "Note that here, as is the case when using the time-domain method,  \n",
    "\n",
    "$$ T = 0.5RC$$"
   ]
  },
  {
   "cell_type": "markdown",
   "id": "60ad6653",
   "metadata": {},
   "source": [
    "$$ i_{C1}(t) := \\mathfrak{L}^{-1}\\{I_{C1}(s)\\} = \\frac{E}{R}\\,e^{-t/T}$$"
   ]
  },
  {
   "cell_type": "markdown",
   "id": "4e34bffc",
   "metadata": {},
   "source": [
    "$$ \\mathfrak{L}^{-1}\\{I_{C2}(s)\\} = -i_{C1}(t-\\Delta t) \\cdot \\mathbf{1}(t-\\Delta t) = -\\frac{E}{R}\\,e^{-(t-\\Delta t)/T} \\cdot \\mathbf{1}(t-\\Delta t)$$"
   ]
  },
  {
   "cell_type": "markdown",
   "id": "bfd075a2",
   "metadata": {},
   "source": [
    "\\begin{equation}\\tag{t.2}\n",
    "    i_C = i_C(t) = \\frac{E}{R}\\,e^{-t/T}\\,\\big(\\mathbf{1}(t) - e^{\\Delta t/T}\\cdot \\mathbf{1}(t-\\Delta t)\\big)\n",
    "\\end{equation}    "
   ]
  }
 ],
 "metadata": {
  "kernelspec": {
   "display_name": "Python 3",
   "language": "python",
   "name": "python3"
  },
  "language_info": {
   "codemirror_mode": {
    "name": "ipython",
    "version": 3
   },
   "file_extension": ".py",
   "mimetype": "text/x-python",
   "name": "python",
   "nbconvert_exporter": "python",
   "pygments_lexer": "ipython3",
   "version": "3.8.10"
  }
 },
 "nbformat": 4,
 "nbformat_minor": 5
}
