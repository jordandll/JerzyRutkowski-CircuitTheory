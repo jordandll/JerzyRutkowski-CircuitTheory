{
 "cells": [
  {
   "cell_type": "markdown",
   "id": "42adc496",
   "metadata": {},
   "source": [
    "# Phototransistor\n",
    "\n",
    "Herein we will explore the [phototransistor](https://cdn-shop.adafruit.com/product-files/2831/HW5P-1_2015__1_.pdf).  "
   ]
  },
  {
   "cell_type": "markdown",
   "id": "c229dc19",
   "metadata": {},
   "source": [
    "The datasheet linked to above contains test results under the condition that $V_\\mathrm{CC}=5\\mathrm{V}$ and the resistance in series with the phototransistor is $R_\\mathrm{s}=R=1000\\Omega$.  One of those results is that the nominal current flowing through the device when exposed to $10\\,\\mathrm{Lux}$ is $50\\mu\\mathrm{A}$.  \n",
    "\n",
    "Assuming we were to place a voltmeter with a resistance of $R_\\mathrm{V}$ in parallel with a resistance of $R$ that is in series with the phototransistor, the total resistance in series with said device, denoted as '$R_\\mathrm{s}$', is givne by:  \n",
    "\n",
    "$$ G_\\mathrm{s} =\\frac{1}{R_\\mathrm{s}}  =  \\frac{1}{R} + \\frac{1}{R_\\mathrm{V}} = \\frac{R + R_\\mathrm{V}}{RR_\\mathrm{V}} \\quad\\implies\\quad R_\\mathrm{s} = \\frac{RR_\\mathrm{V}}{R+R_\\mathrm{V}}$$"
   ]
  },
  {
   "cell_type": "markdown",
   "id": "6f786fa4",
   "metadata": {},
   "source": [
    "Given that it is recommended that $\\approx\\! 1\\mathrm{k}\\Omega \\le R_\\mathrm{s} < 10\\mathrm{k}\\Omega$ and assuming $R_\\mathrm{V}\\approxeq 2\\mathrm{k}\\Omega$, what should $R$ be equal to?"
   ]
  },
  {
   "cell_type": "markdown",
   "id": "28a5d301",
   "metadata": {},
   "source": [
    "$$ \\approx\\!1\\mathrm{k}\\Omega \\le \\frac{RR_\\mathrm{V}}{R+R_\\mathrm{V}} < 10\\mathrm{k}\\Omega$$"
   ]
  },
  {
   "cell_type": "markdown",
   "id": "07db93fb",
   "metadata": {},
   "source": [
    "$$ \\approx\\!1\\mathrm{k}\\Omega\\,(R+R_\\mathrm{V}) \\le RR_\\mathrm{V} < 10\\mathrm{k}\\Omega\\,(R+R_\\mathrm{V})$$"
   ]
  },
  {
   "cell_type": "markdown",
   "id": "5d0210dc",
   "metadata": {},
   "source": [
    "Dividing throughout the above inequality by $R_\\mathrm{V}\\approxeq 2\\mathrm{k}\\Omega$ gives:  \n",
    "\n",
    "$$ \\approx\\!0.5(R + 2\\mathrm{k}\\Omega) \\le R < \\approx\\!5(R+2\\mathrm{k}\\Omega)$$"
   ]
  },
  {
   "cell_type": "markdown",
   "id": "4264b5e1",
   "metadata": {},
   "source": [
    "Subtracting throughout by $R$ gives:  \n",
    "\n",
    "$$ \\approx\\!(1000\\Omega - 0.5R)\\le 0<\\approx\\!(4R + 10\\mathrm{k}\\Omega)$$"
   ]
  },
  {
   "cell_type": "markdown",
   "id": "e9b5b845",
   "metadata": {},
   "source": [
    "Finally,  \n",
    "\n",
    "$$ R \\ge \\approx\\!2000\\Omega $$"
   ]
  },
  {
   "cell_type": "markdown",
   "id": "abd0fd48",
   "metadata": {},
   "source": [
    "Without assuming that $R_\\mathrm{V}\\approxeq 2000\\Omega$,  \n",
    "\n",
    "$$ \\approx \\!1\\mathrm{k}\\Omega\\,\\left(\\frac{R}{R_\\mathrm{V}} + 1\\right) \\le R < 10\\mathrm{k}\\Omega\\,\\left(\\frac{R}{R_\\mathrm{V}} + 1\\right)$$"
   ]
  },
  {
   "cell_type": "markdown",
   "id": "645cfc21",
   "metadata": {},
   "source": [
    "$$ \\approx\\!R\\,\\left(\\frac{1\\mathrm{k}\\Omega}{R_\\mathrm{V}} - 1\\right) \\le -1\\mathrm{k}\\Omega < R\\,\\left(\\frac{10\\mathrm{k}\\Omega}{R_\\mathrm{V}} - 1\\right) + 9\\mathrm{k}\\Omega$$"
   ]
  },
  {
   "cell_type": "markdown",
   "id": "34fdc8fc",
   "metadata": {},
   "source": [
    "$$ R\\,\\frac{R_\\mathrm{V} - 1\\mathrm{k}\\Omega}{R_\\mathrm{V}}\\ge\\approx 1\\mathrm{k}\\Omega\\quad\\quad\\text{and}\\quad\\quad R\\,\\frac{R_\\mathrm{V} - 10\\mathrm{k}\\Omega}{R_\\mathrm{V}}<10\\mathrm{k}\\Omega$$"
   ]
  },
  {
   "cell_type": "markdown",
   "id": "4b93c6bc",
   "metadata": {},
   "source": [
    "The [voltmeter](https://www.adafruit.com/product/3989) that we will be connecting in parallel to $R$ has a resistance of $R_\\mathrm{V}\\approxeq2.866\\mathrm{k}\\Omega$ according to our [multimeter](https://www.adafruit.com/product/308)."
   ]
  }
 ],
 "metadata": {
  "kernelspec": {
   "display_name": "Python 3 (ipykernel)",
   "language": "python",
   "name": "python3"
  },
  "language_info": {
   "codemirror_mode": {
    "name": "ipython",
    "version": 3
   },
   "file_extension": ".py",
   "mimetype": "text/x-python",
   "name": "python",
   "nbconvert_exporter": "python",
   "pygments_lexer": "ipython3",
   "version": "3.10.6"
  }
 },
 "nbformat": 4,
 "nbformat_minor": 5
}
