{
 "cells": [
  {
   "cell_type": "markdown",
   "id": "42adc496",
   "metadata": {},
   "source": [
    "# Phototransistor\n",
    "\n",
    "Herein we will explore the [phototransistor](https://cdn-shop.adafruit.com/product-files/2831/HW5P-1_2015__1_.pdf).  "
   ]
  },
  {
   "cell_type": "markdown",
   "id": "c229dc19",
   "metadata": {},
   "source": [
    "The datasheet linked to above contains test results under the condition that $V_\\mathrm{CC}=5\\mathrm{V}$ and the resistance in series with the phototransistor is $R_\\mathrm{s}=R=1000\\Omega$.  One of those results is that the nominal current flowing through the device when exposed to $10\\,\\mathrm{Lux}$ is $50\\mu\\mathrm{A}$.  \n",
    "\n",
    "Assuming we were to place a voltmeter with a resistance of $R_\\mathrm{V}$ in parallel with a resistance of $R$ that is in series with the phototransistor, the total resistance in series with said device, denoted as '$R_\\mathrm{s}$', is givne by:  \n",
    "\n",
    "$$ G_\\mathrm{s} =\\frac{1}{R_\\mathrm{s}}  =  \\frac{1}{R} + \\frac{1}{R_\\mathrm{V}} = \\frac{R + R_\\mathrm{V}}{RR_\\mathrm{V}} \\quad\\implies\\quad R_\\mathrm{s} = \\frac{RR_\\mathrm{V}}{R+R_\\mathrm{V}}$$"
   ]
  },
  {
   "cell_type": "markdown",
   "id": "6f786fa4",
   "metadata": {},
   "source": [
    "Given that it is recommended that $\\approx\\! 1\\mathrm{k}\\Omega \\le R_\\mathrm{s} < 10\\mathrm{k}\\Omega$ and assuming $R_\\mathrm{V}\\approxeq 2\\mathrm{k}\\Omega$, what should $R$ be equal to?"
   ]
  },
  {
   "cell_type": "markdown",
   "id": "28a5d301",
   "metadata": {},
   "source": [
    "$$ \\approx\\!1\\mathrm{k}\\Omega \\le \\frac{RR_\\mathrm{V}}{R+R_\\mathrm{V}} < 10\\mathrm{k}\\Omega$$"
   ]
  },
  {
   "cell_type": "markdown",
   "id": "07db93fb",
   "metadata": {},
   "source": [
    "$$ \\approx\\!1\\mathrm{k}\\Omega\\,(R+R_\\mathrm{V}) \\le RR_\\mathrm{V} < 10\\mathrm{k}\\Omega\\,(R+R_\\mathrm{V})$$"
   ]
  },
  {
   "cell_type": "markdown",
   "id": "5d0210dc",
   "metadata": {},
   "source": [
    "Dividing throughout the above inequality by $R_\\mathrm{V}\\approxeq 2\\mathrm{k}\\Omega$ gives:  \n",
    "\n",
    "$$ \\approx\\!0.5(R + 2\\mathrm{k}\\Omega) \\le R < \\approx\\!5(R+2\\mathrm{k}\\Omega)$$"
   ]
  },
  {
   "cell_type": "markdown",
   "id": "4264b5e1",
   "metadata": {},
   "source": [
    "Subtracting throughout by $R$ gives:  \n",
    "\n",
    "$$ \\approx\\!(1000\\Omega - 0.5R)\\le 0<\\approx\\!(4R + 10\\mathrm{k}\\Omega)$$"
   ]
  },
  {
   "cell_type": "markdown",
   "id": "e9b5b845",
   "metadata": {},
   "source": [
    "Finally,  \n",
    "\n",
    "$$ R \\ge \\approx\\!2000\\Omega $$"
   ]
  },
  {
   "cell_type": "markdown",
   "id": "abd0fd48",
   "metadata": {},
   "source": [
    "Without assuming that $R_\\mathrm{V}\\approxeq 2000\\Omega$,  \n",
    "\n",
    "$$ \\approx \\!1\\mathrm{k}\\Omega\\,\\left(\\frac{R}{R_\\mathrm{V}} + 1\\right) \\le R < 10\\mathrm{k}\\Omega\\,\\left(\\frac{R}{R_\\mathrm{V}} + 1\\right)$$"
   ]
  },
  {
   "cell_type": "markdown",
   "id": "645cfc21",
   "metadata": {},
   "source": [
    "$$ \\approx\\!R\\,\\left(\\frac{1\\mathrm{k}\\Omega}{R_\\mathrm{V}} - 1\\right) \\le -1\\mathrm{k}\\Omega < R\\,\\left(\\frac{10\\mathrm{k}\\Omega}{R_\\mathrm{V}} - 1\\right) + 9\\mathrm{k}\\Omega$$"
   ]
  },
  {
   "cell_type": "markdown",
   "id": "34fdc8fc",
   "metadata": {},
   "source": [
    "$$ R\\,\\frac{R_\\mathrm{V} - 1\\mathrm{k}\\Omega}{R_\\mathrm{V}}\\ge\\approx 1\\mathrm{k}\\Omega\\quad\\quad\\text{and}\\quad\\quad R\\,\\frac{R_\\mathrm{V} - 10\\mathrm{k}\\Omega}{R_\\mathrm{V}}<10\\mathrm{k}\\Omega$$"
   ]
  },
  {
   "cell_type": "markdown",
   "id": "94e1f2fe",
   "metadata": {},
   "source": [
    "The [voltmeter](https://www.adafruit.com/product/3989) that we will be connecting in parallel to $R$ has a resistance of $R_\\mathrm{V}\\approxeq2.866\\mathrm{k}\\Omega$ according to our [multimeter](https://www.adafruit.com/product/308)."
   ]
  },
  {
   "cell_type": "code",
   "execution_count": 1,
   "id": "f70d7091",
   "metadata": {},
   "outputs": [
    {
     "data": {
      "text/plain": [
       "0.6510816468946267"
      ]
     },
     "execution_count": 1,
     "metadata": {},
     "output_type": "execute_result"
    }
   ],
   "source": [
    "R_V = 2866\n",
    "(R_V - 1000)/R_V"
   ]
  },
  {
   "cell_type": "code",
   "execution_count": 2,
   "id": "df303b9f",
   "metadata": {},
   "outputs": [
    {
     "data": {
      "text/plain": [
       "-2.4891835310537336"
      ]
     },
     "execution_count": 2,
     "metadata": {},
     "output_type": "execute_result"
    }
   ],
   "source": [
    "(R_V-1e4)/R_V"
   ]
  },
  {
   "cell_type": "code",
   "execution_count": 3,
   "id": "b62c12e2",
   "metadata": {},
   "outputs": [
    {
     "data": {
      "text/plain": [
       "1535.9056806002143"
      ]
     },
     "execution_count": 3,
     "metadata": {},
     "output_type": "execute_result"
    }
   ],
   "source": [
    "1000*R_V/(R_V-1000)"
   ]
  },
  {
   "cell_type": "markdown",
   "id": "b0d74261",
   "metadata": {},
   "source": [
    "Thus,  \n",
    "\n",
    "$$ R \\ge\\approx 1536\\Omega  $$"
   ]
  },
  {
   "cell_type": "markdown",
   "id": "e4a4f69a",
   "metadata": {},
   "source": [
    "Assuming $R\\approxeq 10\\mathrm{k}\\Omega$,  "
   ]
  },
  {
   "cell_type": "code",
   "execution_count": 4,
   "id": "44693868",
   "metadata": {},
   "outputs": [
    {
     "data": {
      "text/plain": [
       "2710.626867930239"
      ]
     },
     "execution_count": 4,
     "metadata": {},
     "output_type": "execute_result"
    }
   ],
   "source": [
    "R = 50000\n",
    "R_s = R*R_V/(R+R_V)\n",
    "R_s"
   ]
  },
  {
   "cell_type": "markdown",
   "id": "7db87c35",
   "metadata": {},
   "source": [
    "## Design  \n",
    "\n",
    "Our circuit will consist of a $6\\mathrm{VDC}$ power supply and a load consisting of a phototransistor in series with a $\\approx 2.866\\mathrm{k}\\Omega$ voltmeter."
   ]
  },
  {
   "cell_type": "markdown",
   "id": "64cb2251",
   "metadata": {},
   "source": [
    "### Ancillaries  \n",
    "\n",
    "A capacitor may be added in parallel to the load, which consists of the phototransistor in series with the resistance $R_\\mathrm{s}$, and source in addition to another capacitor added in parallel to said resistance.  These add current stability, protecting both the phototransistor and the resistance from abrubt spikes in current caused by spikes in voltage."
   ]
  },
  {
   "cell_type": "markdown",
   "id": "0262b89d",
   "metadata": {},
   "source": [
    "With regards to the capacitance, denoted as '$C_\\mathrm{s}$', in parallel with $R_\\mathrm{s}$, according to the aforementioned datasheet, both the rise time and fall time, denoted as '$t_\\mathrm{r}$' and '$t_\\mathrm{f}$' respectively, are equal to $2\\mu\\mathrm{s}$, implying that a change of $\\Delta U_\\mathrm{s}$ occurs over $\\Delta t = 2\\mu\\mathrm{s}$.  The average current drawn by $C_\\mathrm{s}$ during this timeframe is thus given by:  \n",
    "\n",
    "$$ i_\\mathrm{avg} = C_\\mathrm{s}\\,\\frac{\\Delta U_\\mathrm{s}}{\\Delta t}$$"
   ]
  },
  {
   "cell_type": "markdown",
   "id": "82637533",
   "metadata": {},
   "source": [
    "### Rationale\n",
    "\n",
    "There is an impulse excitation of $x(t) = E\\mathbf{1}(t)$, where $E=6\\mathrm{V}$ and $\\mathbf{1}(t)$ is the unit step function, caused by connecting the power supply to the load.  Assuming there is a practical capacitor with a capacitance of $C$ and a resistance of $R_C$ in parallel with the load and source, via KVL and element equations,  \n",
    "\n",
    "$$ u = u(t) = i_\\mathrm{V}R_\\mathrm{V} + u_\\mathrm{P} = R_Ci_C + \\frac{1}{C}\\,\\int i_C\\,\\mathrm{d}t = E\\mathbf{1}(t) - R_\\mathrm{t}i$$"
   ]
  },
  {
   "cell_type": "markdown",
   "id": "f612477c",
   "metadata": {},
   "source": [
    "Here, '$u_\\mathrm{P}$' denotes the voltage dropped across the phototransistor."
   ]
  },
  {
   "cell_type": "markdown",
   "id": "08c5a5c2",
   "metadata": {},
   "source": [
    "Via KCL,  \n",
    "\n",
    "$$ i = i_C + i_\\mathrm{V}$$"
   ]
  },
  {
   "cell_type": "markdown",
   "id": "b223f367",
   "metadata": {},
   "source": [
    "Laplace transforming throughout the above two equation gives:  \n",
    "\n",
    "$$ U(s) =R_\\mathrm{V} I_\\mathrm{V}(s) + U_\\mathrm{P}(s) = R_CI_C(s) + \\frac{I_C(s)}{sC} + u_C(0) = \\frac{E}{s} - R_\\mathrm{t}I(s)$$"
   ]
  },
  {
   "cell_type": "markdown",
   "id": "494c7dea",
   "metadata": {},
   "source": [
    "and,  \n",
    "\n",
    "$$ I(s) = I_C(s) + I_\\mathrm{V}(s)$$"
   ]
  },
  {
   "cell_type": "markdown",
   "id": "cdf2a6cb",
   "metadata": {},
   "source": [
    "Via the above two equations and substitution,  \n",
    "\n",
    "$$ $$"
   ]
  },
  {
   "cell_type": "markdown",
   "id": "8903d608",
   "metadata": {},
   "source": [
    "## Test Results\n",
    "\n",
    "The first test consisted of a phototransistor connected to a $V_\\mathrm{CC}=6\\mathrm{V}$ DC voltage source in series with a voltmeter with a resistance of $R_\\mathrm{V}\\approxeq 2.866\\mathrm{k}\\Omega$.  It might be worth noting that a $10\\mu\\mathrm{F}\\;50\\mathrm{V}$ capacitor was connected in parallel with the load and source for current stability.  It also might be a good idea to add another capacitor in parallel with the voltmeter/resistance that is in series with the phototransistor."
   ]
  },
  {
   "cell_type": "markdown",
   "id": "144afa48",
   "metadata": {},
   "source": [
    "When exposed to ambient room light $\\approx\\!50\\,\\mathrm{lx}$, the voltmeter indication is $U_\\mathrm{V}\\approxeq 0.5\\mathrm{V}$, implying a current of $I_\\mathrm{V} = I = G_\\mathrm{V}U_\\mathrm{V} \\approxeq 174.459\\mu\\mathrm{A}$."
   ]
  },
  {
   "cell_type": "code",
   "execution_count": 5,
   "id": "cd183a3b",
   "metadata": {},
   "outputs": [
    {
     "data": {
      "text/plain": [
       "0.00017445917655268666"
      ]
     },
     "execution_count": 5,
     "metadata": {},
     "output_type": "execute_result"
    }
   ],
   "source": [
    "0.5/2866"
   ]
  },
  {
   "cell_type": "markdown",
   "id": "34c799ec",
   "metadata": {},
   "source": [
    "Now, suppose there were a $10\\mu\\mathrm{F}\\;50\\mathrm{V}$ capacitor in parallel with our voltmeter.  The average current drawn by said capacitor when going from $\\approx\\!0\\mathrm{lx}$ to $\\approx\\!50\\mathrm{lx}$ is given by:  \n",
    "\n",
    "$$ i_\\mathrm{avg} \\approxeq 10\\mu\\mathrm{F}\\,\\frac{0.5\\mathrm{V}}{2\\mu\\mathrm{s}} = 2.5\\mathrm{A}$$"
   ]
  },
  {
   "cell_type": "markdown",
   "id": "09d54c3e",
   "metadata": {},
   "source": [
    "## Conclusion\n",
    "\n",
    "As it turns out, adding a capacitor in parallel with the resistance is a bad idea!  It may also be worthwhile to examine the impact that the other capacitor has on the circuit."
   ]
  }
 ],
 "metadata": {
  "kernelspec": {
   "display_name": "Python 3 (ipykernel)",
   "language": "python",
   "name": "python3"
  },
  "language_info": {
   "codemirror_mode": {
    "name": "ipython",
    "version": 3
   },
   "file_extension": ".py",
   "mimetype": "text/x-python",
   "name": "python",
   "nbconvert_exporter": "python",
   "pygments_lexer": "ipython3",
   "version": "3.10.6"
  }
 },
 "nbformat": 4,
 "nbformat_minor": 5
}
