{
 "cells": [
  {
   "cell_type": "markdown",
   "id": "23140639",
   "metadata": {},
   "source": [
    "# Analysis of Nonlinear Circuits\n",
    "### Chapter 2.12 - *DC Analysis*\n",
    "\n",
    "Before discussing different approaches to analysis of nonlinear circuits, i.e. circuits that\n",
    "contain at least one nonlinear element, two nonlinear elements commonly used in electronic\n",
    "circuits are presented."
   ]
  },
  {
   "cell_type": "markdown",
   "id": "71ee1ef9",
   "metadata": {},
   "source": [
    "## Semiconductor Diode\n",
    "A circuit symbol and relationship of a semiconductor diode are presented in Fig.\n",
    "2.12.1, for both ideal and practical diode.  \n",
    "\n",
    "![Fig-2.12.1](Figures/Fig-2.12.1.png)"
   ]
  },
  {
   "cell_type": "markdown",
   "id": "2f471503",
   "metadata": {},
   "source": [
    "**Ideal diode** (bold line) $I-U$ relationship:  \n",
    "\n",
    "\\begin{align*}\\tag{1a}\n",
    "    I&=0 \\quad\\text{if } U<0 \\;\\text{(inverse polarization)} \\\\\n",
    "    U&=0 \\quad\\text{if } I \\ge 0\\; \\text{(foward polarization)}\n",
    "\\end{align*}    "
   ]
  },
  {
   "cell_type": "markdown",
   "id": "ab1b220f",
   "metadata": {},
   "source": [
    "In the case of an ideal diode, forward polarization implies a short-circuit across the terminals of the diode, and\n",
    "inverse polarization implies an open-circuit across the terminals of the diode."
   ]
  },
  {
   "cell_type": "markdown",
   "id": "b2d191c5",
   "metadata": {},
   "source": [
    "**Practical diode** (thin line) relationship:  \n",
    "\n",
    "\\begin{equation}\\tag{1b}\n",
    "    I = I_i\\big(e^{U/U_0}-1\\big)\n",
    "\\end{equation}    "
   ]
  },
  {
   "cell_type": "markdown",
   "id": "b5a1bf3c",
   "metadata": {},
   "source": [
    "where,\n",
    "\\begin{align*}\\tag{1b.1}\n",
    "    I_i &= 10^{-15}\\div 10^{-12}\\mathrm{A} = 1\\mathrm{mA} \\quad\\text{(inverse current)} \\\\\n",
    "    U_0 &\\approxeq 25\\mathrm{mV}\n",
    "\\end{align*}    "
   ]
  },
  {
   "cell_type": "markdown",
   "id": "155664d7",
   "metadata": {},
   "source": [
    "Note that '$I_i$' denotes the inverse current."
   ]
  },
  {
   "cell_type": "markdown",
   "id": "34bf613a",
   "metadata": {},
   "source": [
    "Via equation (1b),  \n",
    "\n",
    "$$ I=I_i \\iff e^{U/U_0} - 1 = 1$$"
   ]
  },
  {
   "cell_type": "markdown",
   "id": "7e2dad42",
   "metadata": {},
   "source": [
    "$$ e^{U/U_0} = 2$$\n",
    "\n",
    "\\begin{equation}\\tag{1b.2}\n",
    "    I=I_i \\iff U = U_0\\cdot \\log 2\n",
    "\\end{equation}    "
   ]
  },
  {
   "cell_type": "markdown",
   "id": "663fa19a",
   "metadata": {},
   "source": [
    "Assuming equation (1b.1),  \n",
    "\n",
    "$$ I = 1\\mathrm{mA} \\iff U = 25\\mathrm{mV}\\cdot \\log 2 \\approxeq 17.33\\mathrm{mV}$$"
   ]
  },
  {
   "cell_type": "code",
   "execution_count": 57,
   "id": "5e8beebd",
   "metadata": {},
   "outputs": [
    {
     "data": {
      "text/plain": [
       "0.01732867951399863"
      ]
     },
     "execution_count": 57,
     "metadata": {},
     "output_type": "execute_result"
    }
   ],
   "source": [
    "0.025*np.log(2)"
   ]
  },
  {
   "cell_type": "markdown",
   "id": "a529aeae",
   "metadata": {},
   "source": [
    "The practical diode $I-U$ relationship can be linearized, and then,\n",
    "forward polarized diode is practically an ideal voltage source $U_f$,\n",
    "inverse polarized diode is practically an open-circuit:  \n",
    "\n",
    "\\begin{align*}\\tag{1c}\n",
    "    I &= 0 \\quad \\text{if } U< U_f \\quad\\text{(inverse polarization)} \\\\\n",
    "    U &= U_f \\quad \\text{if } I \\ge 0 \\quad\\text{(forward polarization)}\n",
    "\\end{align*}    "
   ]
  },
  {
   "cell_type": "markdown",
   "id": "3040da30",
   "metadata": {},
   "source": [
    "The forward voltage of the ubiquitous silicon diode is $U_f=0.7\\mathrm{V}$."
   ]
  },
  {
   "cell_type": "markdown",
   "id": "479fcccb",
   "metadata": {},
   "source": [
    "The following approximations can be made about a practical diode *without* linearizing it's $I-U$ relationship.  \n",
    "\n",
    "\\begin{align*}\\tag{1c.1}\n",
    "    I &\\approxeq 0 \\quad \\text{if } U<U_f \\quad \\text{(inverse polarization)} \\\\\n",
    "    U &\\approxeq U_f \\quad \\text{if } I > 0 \\quad \\text{(forward polarization)}\n",
    "\\end{align*}    "
   ]
  },
  {
   "cell_type": "code",
   "execution_count": 1,
   "id": "b98b5aef",
   "metadata": {},
   "outputs": [],
   "source": [
    "import numpy as np\n",
    "import matplotlib.pyplot as plt"
   ]
  },
  {
   "cell_type": "code",
   "execution_count": 2,
   "id": "1fd45af8",
   "metadata": {},
   "outputs": [],
   "source": [
    "I = lambda U: (1e-3)*(np.e**(U/0.025) - 1)"
   ]
  },
  {
   "cell_type": "code",
   "execution_count": 3,
   "id": "072c919d",
   "metadata": {},
   "outputs": [
    {
     "data": {
      "text/plain": [
       "22.025465794806703"
      ]
     },
     "execution_count": 3,
     "metadata": {},
     "output_type": "execute_result"
    }
   ],
   "source": [
    "I(0.25)"
   ]
  },
  {
   "cell_type": "code",
   "execution_count": 61,
   "id": "764cf289",
   "metadata": {
    "code_folding": []
   },
   "outputs": [
    {
     "data": {
      "text/plain": [
       "[<matplotlib.lines.Line2D at 0x7f204ebd4f10>]"
      ]
     },
     "execution_count": 61,
     "metadata": {},
     "output_type": "execute_result"
    },
    {
     "data": {
      "image/png": "[encoded data removed]",
      "text/plain": [
       "<Figure size 432x288 with 1 Axes>"
      ]
     },
     "metadata": {
      "needs_background": "light"
     },
     "output_type": "display_data"
    }
   ],
   "source": [
    "# Set the paramaters.\n",
    "I_i = 1e-6\n",
    "U_0 = 0.025\n",
    "\n",
    "# Create the domain of I(U).\n",
    "U = np.linspace(-1, 1, num=200)\n",
    "\n",
    "# Define the function (I(U))\n",
    "I = I_i*(np.e**(U/U_0) - 1)\n",
    "\n",
    "# Create the figure and axes objects.\n",
    "fig, ax = plt.subplots()\n",
    "ax.set_xlabel('U [$\\mathrm{V}$]')\n",
    "ax.set_ylabel('I [$\\mathrm{A}$]')\n",
    "ax.grid()\n",
    "\n",
    "# Plot the curve given by I(U).\n",
    "ax.plot(U, I)\n"
   ]
  },
  {
   "cell_type": "markdown",
   "id": "dbf2d7a9",
   "metadata": {},
   "source": [
    "## Semiconductor Zener’s Diode\n",
    "\n",
    "A circuit symbol and relationship of a semiconductor Zener’s diode are presented in\n",
    "Fig. 2.12.2, for both ideal and practical diode."
   ]
  },
  {
   "cell_type": "markdown",
   "id": "7bc09457",
   "metadata": {},
   "source": [
    "In the case of a **practical Zener's diode**, $I$ as a function of $U$ is -- *i think* -- given by:  \n",
    "\n",
    "\\begin{align*}\\tag{2}\n",
    "    I := I(U) &= I_i\\big(e^{U/U_0}-1\\big) - I_i\\big(e^{-U/U_0}-1\\big) \\\\\n",
    "     &= I_i\\big(e^{U/U_0} - e^{-U/U_0}\\big)\n",
    "\\end{align*}     "
   ]
  },
  {
   "cell_type": "code",
   "execution_count": 5,
   "id": "2aefa83c",
   "metadata": {},
   "outputs": [],
   "source": [
    "I = lambda U: (1e-3)*(np.e**(U/0.025) - np.e**(-U/0.025))"
   ]
  },
  {
   "cell_type": "code",
   "execution_count": 6,
   "id": "a9728190",
   "metadata": {},
   "outputs": [
    {
     "data": {
      "text/plain": [
       "-485165.19540978974"
      ]
     },
     "execution_count": 6,
     "metadata": {},
     "output_type": "execute_result"
    }
   ],
   "source": [
    "I(-0.5)"
   ]
  },
  {
   "cell_type": "code",
   "execution_count": 7,
   "id": "af984007",
   "metadata": {
    "code_folding": [
     0
    ]
   },
   "outputs": [
    {
     "data": {
      "text/plain": [
       "[<matplotlib.lines.Line2D at 0x7f204ffb22b0>]"
      ]
     },
     "execution_count": 7,
     "metadata": {},
     "output_type": "execute_result"
    },
    {
     "data": {
      "image/png": "[encoded data removed]",
      "text/plain": [
       "<Figure size 432x288 with 1 Axes>"
      ]
     },
     "metadata": {
      "needs_background": "light"
     },
     "output_type": "display_data"
    }
   ],
   "source": [
    "# Create the domain of I(U).\n",
    "U = np.linspace(-0.25, 0.25, num=200)\n",
    "\n",
    "# Define the function (I(U))\n",
    "I = (1e-3)*(np.e**(U/0.025) - np.e**(-U/0.025))\n",
    "\n",
    "# Create the figure and axes objects.\n",
    "fig, ax = plt.subplots()\n",
    "ax.set_xlabel('U [$\\mathrm{V}$]')\n",
    "ax.set_ylabel('I [$\\mathrm{A}$]')\n",
    "ax.grid()\n",
    "\n",
    "# Plot the curve given by I(U).\n",
    "ax.plot(U, I)"
   ]
  },
  {
   "cell_type": "markdown",
   "id": "41420c62",
   "metadata": {},
   "source": [
    "## Graphical Analysis\n",
    "\n",
    "### Example 2.12.1\n",
    "A nonlinear circuit is shown in Fig. 2.12.7. For the given parameters of linear elements: $R_1=10\\Omega$, $R_2=5\\Omega$, $E_2=12\\mathrm{V}$, and nonlinear element relationship presented in Table\n",
    "2.12.2, find the power supplied by the voltage source.  \n",
    "\n",
    "![Fig-2.12.7](Figures/Fig-2.12.7.png)"
   ]
  },
  {
   "cell_type": "markdown",
   "id": "9fe39691",
   "metadata": {},
   "source": [
    "The following PWL $I-U$ relationships for the nonlinear element can be obtained from table (2.12.1):  \n",
    "\n",
    "\\begin{align*}\\tag{Ex1.1}\n",
    "    I &= \\frac{1}{60}\\,\\mathrm{S}\\,U \\quad &\\forall\\,U &\\in \\le 0,6 > \\\\\n",
    "    I &= 0.1\\mathrm{S}\\, U - 0.5\\mathrm{A}\\quad &\\forall\\,&U\\in \\le 6, 10>  \\\\\n",
    "    I &= 0.5\\mathrm{A} \\quad &\\forall\\,&U\\in\\le 10, 12>\n",
    "\\end{align*}    "
   ]
  },
  {
   "cell_type": "markdown",
   "id": "684f58c8",
   "metadata": {},
   "source": [
    "To find the open-circuit voltage, assume that all of the current, denoted as '$I_\\mathrm{a}$', flows through the bottom mesh, leaving none for the nonlinear element.  Via KVL and Ohm's Law,  \n",
    "\n",
    "$$ E_\\mathrm{o} = I_\\mathrm{a}R_1$$\n",
    "\n",
    "$$ I_\\mathrm{a} = \\frac{E_2}{R_1+R_2} = \\frac{12\\mathrm{V}}{15\\Omega} = 0.8\\mathrm{A}$$\n",
    "\n",
    "Thus,\n",
    "$$ E_\\mathrm{o} = 0.8\\mathrm{A} \\cdot 10\\Omega = 8\\mathrm{V}$$"
   ]
  },
  {
   "cell_type": "markdown",
   "id": "8800c14d",
   "metadata": {},
   "source": [
    "To find the short-circuit current of the linear part of the circuit, assume none of the current flows through $R_1$.  Via KVL and Ohm's Law,  \n",
    "\n",
    "$$ E_2 = R_2 J_\\mathrm{s}$$  \n",
    "\n",
    "$$ J_\\mathrm{s} = \\frac{12}{5}\\,\\mathrm{A}$$"
   ]
  },
  {
   "cell_type": "markdown",
   "id": "573112a1",
   "metadata": {},
   "source": [
    "Thus,\n",
    "$$ R_\\mathrm{t} = \\frac{E_\\mathrm{o}}{J_\\mathrm{s}} = \\frac{10}{3}\\Omega$$"
   ]
  },
  {
   "cell_type": "markdown",
   "id": "dd99b994",
   "metadata": {},
   "source": [
    "Via KVL and Ohm's Law,  \n",
    "\n",
    "$$ E_\\mathrm{o} = R_\\mathrm{t}I + U$$"
   ]
  },
  {
   "cell_type": "markdown",
   "id": "2f751bcf",
   "metadata": {},
   "source": [
    "\\begin{equation}\\tag{Ex1.2}\n",
    "    I= \\frac{E_\\mathrm{o} - U}{R_\\mathrm{t}} = 0.3\\mathrm{S}\\,(8\\mathrm{V} - U)\n",
    "\\end{equation}    "
   ]
  },
  {
   "cell_type": "markdown",
   "id": "20b0a5df",
   "metadata": {},
   "source": [
    "Now, to find the $Q$-point we must solve for $U$ and $I$ using equations (Ex1.1) and (Ex1.2) subsequently finding the point of intersection between the graphs given by (Ex1.2) and (Ex1.1)."
   ]
  },
  {
   "cell_type": "code",
   "execution_count": 8,
   "id": "b020a6b0",
   "metadata": {},
   "outputs": [],
   "source": [
    "I = lambda U: 0.3*(8-U)"
   ]
  },
  {
   "cell_type": "markdown",
   "id": "547370c0",
   "metadata": {},
   "source": [
    "The system of equations is:  \n",
    "\n",
    "$$ I^\\mathrm{Q} = 0.3\\mathrm{S}\\,(8\\mathrm{V} - U^\\mathrm{Q})$$\n",
    "\n",
    "$$ I^\\mathrm{Q} = 0.1\\mathrm{S}\\,U^\\mathrm{Q} - 0.5\\mathrm{A}$$\n",
    "\n",
    "$$0.3\\mathrm{S}\\,(8\\mathrm{V} - U^\\mathrm{Q}) = 0.1\\mathrm{S}\\,U^\\mathrm{Q} - 0.5\\mathrm{A}$$"
   ]
  },
  {
   "cell_type": "markdown",
   "id": "880a5cec",
   "metadata": {},
   "source": [
    "$$ 0.4\\mathrm{S}\\,U^\\mathrm{Q} = 0.3\\cdot 8\\mathrm{A} + 0.5\\mathrm{A}$$"
   ]
  },
  {
   "cell_type": "markdown",
   "id": "bcd62972",
   "metadata": {},
   "source": [
    "\\begin{equation}\\tag{Ex1.3}\n",
    "    U^\\mathrm{Q} = 7.25\\mathrm{V}\n",
    "\\end{equation}    "
   ]
  },
  {
   "cell_type": "markdown",
   "id": "126d6097",
   "metadata": {},
   "source": [
    "\\begin{equation}\\tag{Ex1.4}\n",
    "    I^\\mathrm{Q} = 225\\mathrm{mA}\n",
    "\\end{equation}    "
   ]
  },
  {
   "cell_type": "code",
   "execution_count": 9,
   "id": "6261064a",
   "metadata": {},
   "outputs": [
    {
     "data": {
      "text/plain": [
       "0.2250000000000001"
      ]
     },
     "execution_count": 9,
     "metadata": {},
     "output_type": "execute_result"
    }
   ],
   "source": [
    "0.1*7.25 - 0.5"
   ]
  },
  {
   "cell_type": "markdown",
   "id": "5e262015",
   "metadata": {},
   "source": [
    "The $Q$-point is the only point at which the laws of circuit theory apply.  Via KCL,  \n",
    "\n",
    "$$ I_2 = I^\\mathrm{Q} + I_1 $$"
   ]
  },
  {
   "cell_type": "markdown",
   "id": "fa1a97fd",
   "metadata": {},
   "source": [
    "Via Ohm's Law,  \n",
    "\n",
    "$$ U^\\mathrm{Q} = R_1I_1$$"
   ]
  },
  {
   "cell_type": "markdown",
   "id": "8a2ee97b",
   "metadata": {},
   "source": [
    "$$ I_1 = \\frac{7.25\\mathrm{V}}{10\\Omega} = 725\\mathrm{mA}$$"
   ]
  },
  {
   "cell_type": "markdown",
   "id": "00b19e2e",
   "metadata": {},
   "source": [
    "Thus,  \n",
    "\n",
    "$$ I_2 = 950\\mathrm{mA}$$"
   ]
  },
  {
   "cell_type": "markdown",
   "id": "e8641eef",
   "metadata": {},
   "source": [
    "And, the power delivered by $E_2$ is given by:  \n",
    "\n",
    "$$ P = E_2I_2 = 11.4\\mathrm{W}$$"
   ]
  },
  {
   "cell_type": "code",
   "execution_count": 10,
   "id": "2fde2ffb",
   "metadata": {},
   "outputs": [
    {
     "data": {
      "text/plain": [
       "11.399999999999999"
      ]
     },
     "execution_count": 10,
     "metadata": {},
     "output_type": "execute_result"
    }
   ],
   "source": [
    "12*0.95"
   ]
  },
  {
   "cell_type": "markdown",
   "id": "07ecffe8",
   "metadata": {},
   "source": [
    "## Analysis Based on PWL Approximation\n",
    "\n",
    "A nonlinear element can be characterized by an analytic function (2.1.4) or by its tabularized\n",
    "PWL approximation. Each linear segment is located on a straight line described by equation\n",
    "(2.12.8a) or (2.12.8b).  \n",
    "\n",
    "\\begin{equation}\\tag{8a}\n",
    "    U := U(I) = E_\\mathrm{o} + R_\\mathrm{t}I\n",
    "\\end{equation}    "
   ]
  },
  {
   "cell_type": "markdown",
   "id": "3a44fc4b",
   "metadata": {},
   "source": [
    "\\begin{equation}\\tag{8b}\n",
    "    I := I(U) = J_\\mathrm{s} + G_\\mathrm{t}U\n",
    "\\end{equation}    "
   ]
  },
  {
   "cell_type": "markdown",
   "id": "5f345a1c",
   "metadata": {},
   "source": [
    "This means that a nonlinear element operating at the given linear segment can be replaced by\n",
    "its Thevenin or Norton equivalent circuit depicted in Fig. 2.5.6 (for simplicity of description\n",
    "indices in (2.12.8) have been omitted). Then, the PWL approximation based algorithm of\n",
    "nonlinear circuit analysis can be formulated."
   ]
  },
  {
   "cell_type": "markdown",
   "id": "aa14afee",
   "metadata": {},
   "source": [
    "### *Example 2.12.1* – cont.\n",
    "The PWL approximation based analysis is applied. The tabularized $I-U$relationship (Table\n",
    "2.12.1) has three segments. These segments are described by the following equations:  \n",
    "\n",
    "\\begin{align*}\\tag{Ex1.1}\n",
    "    \\text{I: }\\;U &= 60\\Omega\\,I \\\\\n",
    "    \\text{II: }\\;U&= 10\\Omega\\,I + 5\\mathrm{V} \\\\\n",
    "    \\text{III: }\\;I&= 0.5\\mathrm{A}\n",
    "\\end{align*}    "
   ]
  },
  {
   "cell_type": "markdown",
   "id": "6f5fe016",
   "metadata": {},
   "source": [
    "Thevenin or Norton equivalents are presented in Fig. 2.12.10.  \n",
    "\n",
    "![Fig-2.12.10](Figures/Fig-2.12.10.png)"
   ]
  },
  {
   "cell_type": "markdown",
   "id": "01836539",
   "metadata": {},
   "source": [
    "At first we will substitute the nonlinear element with subcircuit $\\mathrm{I}$ and assume that $0\\le U \\le 6\\mathrm{V}$.  \n",
    "\n",
    "![Fig-2.12.11](Figures/Fig-2.12.11.png)"
   ]
  },
  {
   "cell_type": "markdown",
   "id": "ff7108d6",
   "metadata": {},
   "source": [
    "Recall that:\n",
    "\n",
    "* $E_2 = 12\\mathrm{V}$\n",
    "* $R_2 = 5\\Omega$\n",
    "* $R_1 = 10\\Omega$"
   ]
  },
  {
   "cell_type": "markdown",
   "id": "2f5b7ad6",
   "metadata": {},
   "source": [
    "Via KCL,  \n",
    "\n",
    "\\begin{equation}\\tag{Ex1b.1}\n",
    "    I_2 = I + I_1\n",
    "\\end{equation}    "
   ]
  },
  {
   "cell_type": "markdown",
   "id": "fc847a0d",
   "metadata": {},
   "source": [
    "Via KVL and Ohm's Law,  \n",
    "\n",
    "$$10\\Omega\\,I_1 = 60\\Omega\\,I$$\n",
    "\n",
    "\\begin{equation}\\tag{Ex1b.2}\n",
    "    I_1 = 6I\n",
    "\\end{equation}    "
   ]
  },
  {
   "cell_type": "markdown",
   "id": "ce6bb24f",
   "metadata": {},
   "source": [
    "\\begin{equation}\\tag{Ex1b.3}\n",
    "    12\\mathrm{V} = 5\\Omega \\,I_2 + 10\\Omega\\,I_1\n",
    "\\end{equation}    "
   ]
  },
  {
   "cell_type": "markdown",
   "id": "45b420f0",
   "metadata": {},
   "source": [
    "Via equations (Ex1b.1) and (Ex1b.3),  \n",
    "\n",
    "\n",
    "\\begin{align*}\\tag{Ex1b.4}\n",
    "    12\\mathrm{V} &= 5\\Omega\\,(I+I_1) + 10\\Omega \\,I_1 \\\\\n",
    "     &= 5\\Omega\\,I + 15\\Omega\\,I_1\n",
    "\\end{align*}    "
   ]
  },
  {
   "cell_type": "markdown",
   "id": "000b8f1b",
   "metadata": {},
   "source": [
    "Via equations (Ex1b.4) and (Ex1b.2),  \n",
    "\n",
    "$$ 12\\mathrm{V} = 95\\Omega\\,I $$"
   ]
  },
  {
   "cell_type": "markdown",
   "id": "35ba33b9",
   "metadata": {},
   "source": [
    "\\begin{equation}\\tag{Ex1b.5}\n",
    "    I \\approxeq 126.32 \\mathrm{mA}\n",
    "\\end{equation}    "
   ]
  },
  {
   "cell_type": "markdown",
   "id": "5b400e31",
   "metadata": {},
   "source": [
    "Via equation (Ex1b.5) and (Ex1.1), $ U \\approxeq 7.58$, which means that equation (Ex1b.5) is inconsistent with the assumption made in the case of subcircuit $\\mathrm{I}$, which is that $0\\le U \\le 6\\mathrm{V}$."
   ]
  },
  {
   "cell_type": "markdown",
   "id": "26b4dc96",
   "metadata": {},
   "source": [
    "Now let's try subcircuit $\\mathrm{II}$ and assume that $6\\mathrm{V}\\le U \\le 10\\mathrm{V}$."
   ]
  },
  {
   "cell_type": "markdown",
   "id": "8e01fdc0",
   "metadata": {},
   "source": [
    "Equations (Ex1b.1) and (Ex1b.3) still hold true in the case of subcircuit $\\mathrm{II}$.  Via KVL and Ohm's Law,  \n",
    "\n",
    "\\begin{equation}\\tag{Ex1b.2-II}\n",
    "    10\\Omega\\,I_1 = 10\\Omega\\,I + 5\\mathrm{V}\n",
    "\\end{equation}    "
   ]
  },
  {
   "cell_type": "markdown",
   "id": "1d160f4f",
   "metadata": {},
   "source": [
    "Via equations (Ex1b.1) and (Ex1b.2-II),  \n",
    "\n",
    "$$ 10\\Omega\\,I_1 = 10\\Omega(I_2-I_1) + 5\\mathrm{V}$$"
   ]
  },
  {
   "cell_type": "markdown",
   "id": "c569c2d4",
   "metadata": {},
   "source": [
    "\\begin{equation}\\tag{Ex1b.6}\n",
    "    20\\Omega\\,I_1 = 10\\Omega\\,I_2 + 5\\mathrm{V}\n",
    "\\end{equation}    "
   ]
  },
  {
   "cell_type": "markdown",
   "id": "80225de4",
   "metadata": {},
   "source": [
    "And, via equations (Ex1b.6) and (Ex1b.3),  \n",
    "\n",
    "$$ 20\\Omega\\,I_1 = 24\\mathrm{V} - 20\\Omega\\,I_1 + 5\\mathrm{V}$$"
   ]
  },
  {
   "cell_type": "markdown",
   "id": "aa8f8585",
   "metadata": {},
   "source": [
    "$$ 40\\Omega\\,I_1 = 29\\mathrm{V}$$"
   ]
  },
  {
   "cell_type": "markdown",
   "id": "5bce89aa",
   "metadata": {},
   "source": [
    "\\begin{equation}\\tag{Ex1b.7}\n",
    "    I_1 = 725\\mathrm{mA}\n",
    "\\end{equation}    "
   ]
  },
  {
   "cell_type": "code",
   "execution_count": 11,
   "id": "8cb18048",
   "metadata": {},
   "outputs": [
    {
     "data": {
      "text/plain": [
       "0.725"
      ]
     },
     "execution_count": 11,
     "metadata": {},
     "output_type": "execute_result"
    }
   ],
   "source": [
    "29/40"
   ]
  },
  {
   "cell_type": "markdown",
   "id": "997c0082",
   "metadata": {},
   "source": [
    "Via equation (Ex1b.7) and Ohm's Law,  \n",
    "\n",
    "\\begin{equation}\\tag{Ex1b.8}\n",
    "    U = 7.25\\mathrm{V}\n",
    "\\end{equation}    "
   ]
  },
  {
   "cell_type": "markdown",
   "id": "fef8d23d",
   "metadata": {},
   "source": [
    "and,\n",
    "\\begin{equation}\\tag{Ex1b.9}\n",
    "    I = 225\\mathrm{mA}\n",
    "\\end{equation}    "
   ]
  },
  {
   "cell_type": "code",
   "execution_count": 12,
   "id": "65083b3a",
   "metadata": {},
   "outputs": [
    {
     "data": {
      "text/plain": [
       "0.225"
      ]
     },
     "execution_count": 12,
     "metadata": {},
     "output_type": "execute_result"
    }
   ],
   "source": [
    "(7.25-5)/10"
   ]
  },
  {
   "cell_type": "markdown",
   "id": "4c110027",
   "metadata": {},
   "source": [
    "## Analysis Based on Newton-Raphson Iteration Scheme\n",
    "It is assumed that all nonlinear elements are characterized by analytic functions (2.1.4). In a\n",
    "close neighborhood of the $Q$-point nonlinear characteristic can be linearized, by means of\n",
    "Taylor’s expansion (2.12.12), as presented in Fig. 2.12.12.  \n",
    "\n",
    "\\begin{align*}\\tag{12}\n",
    "    I &= I^\\mathrm{Q} + (\\mathrm{d}I/\\mathrm{d}U)^\\mathrm{Q}(U - U^\\mathrm{Q}) \\\\\n",
    "     &= I^\\mathrm{Q} + I'(U^\\mathrm{Q}) \\cdot (U - U^\\mathrm{Q})\\\\\n",
    "     &= J^\\mathrm{Q} + G^\\mathrm{Q}U\n",
    "\\end{align*}     "
   ]
  },
  {
   "cell_type": "markdown",
   "id": "17343ed6",
   "metadata": {},
   "source": [
    "where,\n",
    "\\begin{equation}\\tag{12a}\n",
    "    (\\mathrm{d}I/\\mathrm{d}U)^\\mathrm{Q} = \\frac{\\mathrm{d}I}{\\mathrm{d}U}(U^\\mathrm{Q}) = I'(U^\\mathrm{Q}) = G^\\mathrm{Q}\n",
    "\\end{equation}    "
   ]
  },
  {
   "cell_type": "markdown",
   "id": "61d6203f",
   "metadata": {},
   "source": [
    "is the **dynamic conductance** at the $Q$-point and  \n",
    "\n",
    "\\begin{equation}\\tag{12b}\n",
    "    J^\\mathrm{Q} = I^\\mathrm{Q} + G^\\mathrm{Q}U^\\mathrm{Q}\n",
    "\\end{equation}    "
   ]
  },
  {
   "cell_type": "markdown",
   "id": "16cfc0fb",
   "metadata": {},
   "source": [
    "is the short-circuit current at the $Q$-point. Then, for the given $Q$-point, Norton (or Thevenin)\n",
    "equivalent of each element can be found, as depicted in Fig. 6.12.13."
   ]
  },
  {
   "cell_type": "markdown",
   "id": "1ae38db6",
   "metadata": {},
   "source": [
    "## Drill Problems\n",
    "\n",
    "#### Problem 1\n",
    "1. Calculate the power supplied by the ideal current source $J=2.7\\mathrm{mA}$, and powers\n",
    "    absorbed by the resistor $R=1000\\Omega$ and diode given by the $I-U$ characteristic.  \n",
    "    \n",
    "![Fig-P.2.12.1](Figures/Fig-P.2.12.1.png)"
   ]
  },
  {
   "cell_type": "markdown",
   "id": "8c0e5776",
   "metadata": {},
   "source": [
    "To find the norton equivalent, first note that:  \n",
    "\n",
    "\\begin{equation}\\tag{1.1}\n",
    "    J_\\mathrm{s} = J = 2.7\\mathrm{mA}\\quad\\text{and}\\quad R_\\mathrm{t}=R=1000\\Omega\\quad\\text{and}\\quad E_\\mathrm{o} = JR = 2.7\\mathrm{V}\n",
    "\\end{equation}    "
   ]
  },
  {
   "cell_type": "markdown",
   "id": "2ea68719",
   "metadata": {},
   "source": [
    "Via KVL and Ohm's Law,  \n",
    "\n",
    "$$ E_\\mathrm{o} = RI + U$$"
   ]
  },
  {
   "cell_type": "markdown",
   "id": "400ae976",
   "metadata": {},
   "source": [
    "\\begin{equation}\\tag{1.2}\n",
    "    I = \\frac{E_\\mathrm{o}-U}{R} = 1\\mathrm{mS}\\,(2.7\\mathrm{V} - U)\n",
    "\\end{equation}    "
   ]
  },
  {
   "cell_type": "markdown",
   "id": "c878b1bf",
   "metadata": {},
   "source": [
    "Now, let $I:=I(U)$.  It then follows that $I(0) = 2.7\\mathrm{mA}>0$ and that $I(0.7\\mathrm{V}) = 2\\mathrm{mA} > 1\\mathrm{mA}$, which means that the $Q$-point is $U^\\mathrm{Q}=0.7\\mathrm{V}$ and $I^\\mathrm{Q} = 2\\mathrm{mA}$."
   ]
  },
  {
   "cell_type": "markdown",
   "id": "fe2cb977",
   "metadata": {},
   "source": [
    "The power supplied by $J$ is thus,  \n",
    "\n",
    "\\begin{equation}\\tag{1.3}\n",
    "    P_J = JU^\\mathrm{Q} = 1.89\\mathrm{mW}\n",
    "\\end{equation}    "
   ]
  },
  {
   "cell_type": "code",
   "execution_count": 13,
   "id": "f7567e3e",
   "metadata": {},
   "outputs": [
    {
     "data": {
      "text/plain": [
       "0.00189"
      ]
     },
     "execution_count": 13,
     "metadata": {},
     "output_type": "execute_result"
    }
   ],
   "source": [
    "0.7*2.7e-3"
   ]
  },
  {
   "cell_type": "markdown",
   "id": "c9245131",
   "metadata": {},
   "source": [
    "The power absorbed by the resistor and diode are given by:  \n",
    "\n",
    "\\begin{equation}\\tag{1.4}\n",
    "    P_R = \\frac{\\big(U^\\mathrm{Q}\\big)^2}{R} = 0.49\\mathrm{mW}\\quad\\text{and}\\quad P_\\mathrm{D} = U^\\mathrm{Q}I^\\mathrm{Q} = 1.4\\mathrm{mW}\n",
    "\\end{equation}    "
   ]
  },
  {
   "cell_type": "code",
   "execution_count": 14,
   "id": "083bbed5",
   "metadata": {},
   "outputs": [
    {
     "data": {
      "text/plain": [
       "0.00049"
      ]
     },
     "execution_count": 14,
     "metadata": {},
     "output_type": "execute_result"
    }
   ],
   "source": [
    "(0.7**2)/1000"
   ]
  },
  {
   "cell_type": "code",
   "execution_count": 15,
   "id": "0dcd13dd",
   "metadata": {},
   "outputs": [
    {
     "data": {
      "text/plain": [
       "0.0014"
      ]
     },
     "execution_count": 15,
     "metadata": {},
     "output_type": "execute_result"
    }
   ],
   "source": [
    "0.7*2e-3"
   ]
  },
  {
   "cell_type": "markdown",
   "id": "33d8fe29",
   "metadata": {},
   "source": [
    "#### Problem 2\n",
    "2. Calculate mesh currents - diode $I-U$characteristic is the same as in Problem 2.12.1.  \n",
    "\n",
    "![Fig-P.2.12.2](Figures/Fig-P.2.12.2.png)"
   ]
  },
  {
   "cell_type": "markdown",
   "id": "4a82f3ad",
   "metadata": {},
   "source": [
    "First, we will solve the **left hand circuit**.  Via KVL, the voltage dropped across both diodes, denoted as '$U$', is given by:  \n",
    "\n",
    "\\begin{equation}\\tag{2.1}\n",
    "    U = U_1 + U_2\n",
    "\\end{equation}    "
   ]
  },
  {
   "cell_type": "markdown",
   "id": "a3b5e1f6",
   "metadata": {},
   "source": [
    "Recall that:  \n",
    "\n",
    "\\begin{align*}\\tag{2.2}\n",
    "    I &= \\frac{1\\mathrm{mA}}{0.7\\mathrm{V}}\\,U_1 \\approxeq 1.43\\mathrm{mS}\\,U_1&\\quad&\\text{if }0 \\le U_1 < 0.7\\mathrm{V} \\\\\n",
    "    U_1 &= U_2 = 0.7\\mathrm{V} &\\quad &\\text{if } I \\ge 1\\mathrm{mA}\n",
    "\\end{align*}    "
   ]
  },
  {
   "cell_type": "code",
   "execution_count": 16,
   "id": "86bdd33a",
   "metadata": {},
   "outputs": [
    {
     "data": {
      "text/plain": [
       "0.0014285714285714288"
      ]
     },
     "execution_count": 16,
     "metadata": {},
     "output_type": "execute_result"
    }
   ],
   "source": [
    "(1e-3)/0.7"
   ]
  },
  {
   "cell_type": "markdown",
   "id": "01e4815f",
   "metadata": {},
   "source": [
    "\\begin{align*}\\tag{2.3}\n",
    "    U_1&=U_2 = 700\\Omega\\,I &\\quad &\\text{if }\\; 0\\le I < 1\\mathrm{mA} \\\\\n",
    "    U_1 &= U_2 = 0.7\\mathrm{V} &\\quad &\\text{if } I \\ge 1\\mathrm{mA}\n",
    "\\end{align*}    "
   ]
  },
  {
   "cell_type": "markdown",
   "id": "d6ef09c8",
   "metadata": {},
   "source": [
    "Via equations (2.3) and (2.1),  \n",
    "\n",
    "$$ U = \\begin{cases}\\tag{2.4}\n",
    "1400\\Omega\\,I &\\quad &\\text{if }\\; 0\\le I < 1\\mathrm{mA} \\\\\n",
    "1.4\\mathrm{V} &\\quad &\\text{if }\\; 1 \\ge 1\\mathrm{mA}\n",
    "\\end{cases}$$"
   ]
  },
  {
   "cell_type": "markdown",
   "id": "e34db29d",
   "metadata": {},
   "source": [
    "And, solving for $I$ in terms of $U$ in equation (2.4) gives:  \n",
    "\n",
    "\n",
    "\\begin{align*}\\tag{2.5}\n",
    "    I&\\approxeq 714.29\\mu\\mathrm{S}\\,U &\\quad &\\text{if }\\; 0\\le U < 1.4\\mathrm{V} \\\\\n",
    "    I &\\ge 1\\mathrm{mA} &\\quad &\\text{if }\\; U \\ge 1.4\\mathrm{V}\n",
    "\\end{align*}    \n"
   ]
  },
  {
   "cell_type": "code",
   "execution_count": 17,
   "id": "d93e07c3",
   "metadata": {},
   "outputs": [
    {
     "data": {
      "text/plain": [
       "0.0007142857142857143"
      ]
     },
     "execution_count": 17,
     "metadata": {},
     "output_type": "execute_result"
    }
   ],
   "source": [
    "1/1400"
   ]
  },
  {
   "cell_type": "markdown",
   "id": "4787bb6c",
   "metadata": {},
   "source": [
    "Via equations (2.5), KVL, and Ohm's Law,  \n",
    "\n",
    "$$ 2.8\\mathrm{V} = 1000\\Omega\\,I + U$$"
   ]
  },
  {
   "cell_type": "markdown",
   "id": "23e8a857",
   "metadata": {},
   "source": [
    "\\begin{equation}\\tag{2.6}\n",
    "    I = \\frac{2.8\\mathrm{V} - U}{1000\\Omega} = 1\\mathrm{mS}\\,(2.8\\mathrm{V} - U)\n",
    "\\end{equation}    "
   ]
  },
  {
   "cell_type": "markdown",
   "id": "c6e044b1",
   "metadata": {},
   "source": [
    "Let $I:=I(U)$.  It then follows that $I(0) = 2.8\\mathrm{mA} > 0$ and that $I(1.4\\mathrm{V}) = 1.4\\mathrm{mA}>1\\mathrm{mA}$.  Thus, the $Q$-point is $U^\\mathrm{Q} = 1.4\\mathrm{V}$ and $I^\\mathrm{Q} = 1.4\\mathrm{mA}$."
   ]
  },
  {
   "cell_type": "markdown",
   "id": "94a1b297",
   "metadata": {},
   "source": [
    "Next, we will solve the **right hand circuit**.  Via KVL and Ohm's Law,  \n",
    "\n",
    "$$ 2.7\\mathrm{V} = 1000\\Omega\\,I + U$$"
   ]
  },
  {
   "cell_type": "markdown",
   "id": "aa09dd93",
   "metadata": {},
   "source": [
    "\\begin{equation}\\tag{2.r.1}\n",
    "    I = \\frac{2.7\\mathrm{V} - U}{1000\\Omega} = 1\\mathrm{mS}\\,(2.7\\mathrm{V} - U)\n",
    "\\end{equation}    "
   ]
  },
  {
   "cell_type": "markdown",
   "id": "59c137f9",
   "metadata": {},
   "source": [
    "Via KCL and the $I-U$ characteristic of both diodes,  \n",
    "\n",
    "\\begin{align*}\\tag{2.r.2}\n",
    "    I &=  \\frac{2\\mathrm{mA}}{0.7\\mathrm{V}}\\,U &\\quad &\\text{if }\\; 0\\le U < 0.7\\mathrm{V} \\\\\n",
    "    I &= 2\\mathrm{mA} &\\quad &\\text{if }\\; U=0.7\\mathrm{V}\n",
    "\\end{align*}    "
   ]
  },
  {
   "cell_type": "markdown",
   "id": "b9d2faa8",
   "metadata": {},
   "source": [
    "Thus, $U^\\mathrm{Q} = 0.7\\mathrm{V}$ and $I^\\mathrm{Q} = 2\\mathrm{mA}$.  Finally, the right hand mesh current is equal to $1\\mathrm{mA}$ while the left hand mesh current is equal to $2\\mathrm{mA}$."
   ]
  },
  {
   "cell_type": "markdown",
   "id": "66b9c32f",
   "metadata": {},
   "source": [
    "#### Problem 3\n",
    "3. Find Thevenin and Norton equivalents for both segments of practical sources given by the\n",
    "    presented $I-U$ relationships.  \n",
    "    \n",
    "![Fig-P.2.12.3](Figures/Fig-P.2.12.3.png)"
   ]
  },
  {
   "cell_type": "markdown",
   "id": "5d9303f6",
   "metadata": {},
   "source": [
    "For the **left hand** practical source:  \n",
    "\n",
    "\\begin{align*}\\tag{3.1}\n",
    "    \\text{I: }\\;I &= 10\\mathrm{A} &\\quad &\\text{if }\\; 0\\le U <20\\mathrm{V} \\\\\n",
    "    \\text{II: }\\;I &= -0.5\\mathrm{S}\\,U + 20\\mathrm{A} &\\quad &\\text{if }\\; 20\\mathrm{V} \\le U < 40\\mathrm{V} \\\\\n",
    "    \\text{III: }\\;I &= 0 &\\quad &\\text{if }\\; U \\ge 40\\mathrm{V}\n",
    "\\end{align*}    "
   ]
  },
  {
   "cell_type": "markdown",
   "id": "89eccd39",
   "metadata": {},
   "source": [
    "In the $\\mathrm{I}$ case, Norton equivalent consists only of an ideal current source of $J=10\\mathrm{A}$.  In the $\\mathrm{II}$ case, the Norton equivalent consists of an ideal current source of $J=20\\mathrm{A}$ in parallel with a conductance of $G_\\mathrm{t}=0.5\\mathrm{S}$ or a resistance of $R_\\mathrm{t}=2\\Omega$;  The Thevenin equivalent is of course an ideal voltage source of $E=JR_\\mathrm{t} = 40\\mathrm{V}$ in series with a resistance of $R_\\mathrm{t}=2\\Omega$.  Finally, in the $\\mathrm{III}$ case, there is no Norton equivalent, nor -- *i think* -- a Thevenin equivalent."
   ]
  },
  {
   "cell_type": "markdown",
   "id": "19ea7684",
   "metadata": {},
   "source": [
    "For the **right hand** practical source:  \n",
    "\n",
    "\\begin{align*}\\tag{3.2}\n",
    "    \\text{I: }\\; I &= 4\\mathrm{A}-\\frac{1}{3\\Omega}\\,U &\\quad &\\text{if }\\; 0\\le U < 6\\mathrm{V} \\\\\n",
    "    \\text{II: }\\;U &= 6\\mathrm{V} &\\quad &\\text{if }\\; 0 < I \\le 2\\mathrm{A} \\\\\n",
    "    \\text{III: }\\; I &= 0 &\\quad &\\text{if }\\; U\\ge 6\\mathrm{V}\n",
    "\\end{align*}    "
   ]
  },
  {
   "cell_type": "markdown",
   "id": "c56ce149",
   "metadata": {},
   "source": [
    "The Thevenin equivalent of the $\\mathrm{I}$ case is an ideal voltage source of $E=4\\mathrm{A}\\cdot 3\\Omega = 12\\mathrm{V}$ in series with a resistance of $R_\\mathrm{t} = 3\\Omega$."
   ]
  },
  {
   "cell_type": "markdown",
   "id": "0feeb967",
   "metadata": {},
   "source": [
    "#### Problem 4\n",
    "4. Practical sources of Problem 2.12.3 are loaded by a resistor. Find the power\n",
    "    absorbed."
   ]
  },
  {
   "cell_type": "markdown",
   "id": "5fc123ac",
   "metadata": {},
   "source": [
    "For the **left hand** practical source:  In the $\\mathrm{I}$ case, the power absorbed by the load, denoted as '$P_\\mathrm{l}$' is:  \n",
    "\n",
    "$$ P_\\mathrm{l} = I^2R = 100\\mathrm{A}^2 2\\Omega = 200\\mathrm{W}$$"
   ]
  },
  {
   "cell_type": "markdown",
   "id": "1c251985",
   "metadata": {},
   "source": [
    "In the $\\mathrm{II}$ case,  via KVL and Ohm's Law,    \n",
    "\n",
    "$$ 40\\mathrm{V} = 4\\Omega I$$\n",
    "\n",
    "$$ I = 10\\mathrm{A}$$\n",
    "\n",
    "and\n",
    "$$ P_\\mathrm{l} = 200\\mathrm{W}$$"
   ]
  },
  {
   "cell_type": "markdown",
   "id": "c43438e8",
   "metadata": {},
   "source": [
    "In the $\\mathrm{III}$ case,  \n",
    "\n",
    "$$ P_\\mathrm{l} = 0\\mathrm{W}$$"
   ]
  },
  {
   "cell_type": "markdown",
   "id": "07d5fb66",
   "metadata": {},
   "source": [
    "Now, for the **right hand** practical source:  In the $\\mathrm{I}$ case, via KVL and Ohm's Law,  \n",
    "\n",
    "$$ 12\\mathrm{V} = 5\\Omega\\,I$$\n",
    "\n",
    "$$ I = \\frac{12}{5}\\,\\mathrm{A}$$"
   ]
  },
  {
   "cell_type": "markdown",
   "id": "a2a12ecb",
   "metadata": {},
   "source": [
    "$$ P_\\mathrm{l} = I^2 2\\Omega = \\frac{288}{25}\\,\\mathrm{W}$$"
   ]
  },
  {
   "cell_type": "markdown",
   "id": "3bd49f15",
   "metadata": {},
   "source": [
    "In the $\\mathrm{II}$ case,  \n",
    "\n",
    "$$ P_\\mathrm{l} = \\frac{36\\mathrm{V}^2}{2\\Omega} = 18\\mathrm{W}$$\n",
    "\n",
    "Finally, in the $\\mathrm{III}$ case,  \n",
    "\n",
    "$$ P_\\mathrm{l} = 0$$"
   ]
  },
  {
   "cell_type": "markdown",
   "id": "4b6d8c26",
   "metadata": {},
   "source": [
    "#### Problem 5\n",
    "\n",
    "5. Draw the total $I-U$ relationships for: a) ideal (2.12.1a), b) practical (2.12.1c) diodes.  \n",
    "\n",
    "![Fig-P.2.12.5](Figures/Fig-P.2.12.5.png)"
   ]
  },
  {
   "cell_type": "markdown",
   "id": "940f1228",
   "metadata": {},
   "source": [
    "For the **top left** hand circuit:  \n",
    "\n",
    "Via KVL,  \n",
    "\n",
    "\\begin{equation}\\tag{5.tl.4}\n",
    "    U + E + U_2 = 0\n",
    "\\end{equation}    \n",
    "\n",
    "and,\n",
    "\\begin{equation}\\tag{5.tl.3}\n",
    "    U = U_1\n",
    "\\end{equation}    \n",
    "\n",
    "Thus,\n",
    "\\begin{equation}\\tag{5.tl.1}\n",
    "    E = -(U_1+U_2)\n",
    "\\end{equation}    "
   ]
  },
  {
   "cell_type": "markdown",
   "id": "3e4a39b5",
   "metadata": {},
   "source": [
    "Via KCL,  \n",
    "\n",
    "\\begin{equation}\\tag{5.tl.2}\n",
    "    I = I_1 - I_2\n",
    "\\end{equation}    "
   ]
  },
  {
   "cell_type": "markdown",
   "id": "bfb4250d",
   "metadata": {},
   "source": [
    "In the case of an **ideal diode**:  \n",
    "\n",
    "\\begin{align*}\\tag{5.1}\n",
    "    I_i&=0 &\\quad &\\text{if }\\; U_i< 0 &\\quad &\\text{(inverse polarization)} \\\\\n",
    "    U_i&=0 &\\quad &\\text{if }\\; I_i\\ge0 &\\quad &\\text{(forward polarization)}\n",
    "\\end{align*}    "
   ]
  },
  {
   "cell_type": "markdown",
   "id": "3a82ccd2",
   "metadata": {},
   "source": [
    "For all $i\\in\\{1,2\\}$."
   ]
  },
  {
   "cell_type": "markdown",
   "id": "32f344b9",
   "metadata": {},
   "source": [
    "Via equations (5.tl.3) and (5.1),  \n",
    "\n",
    "\\begin{align*}\\tag{5.tl.5}\n",
    "    U &= 0 &\\quad &\\text{if }\\; I_1 \\ge 0 \\\\\n",
    "    I_1 &= 0 &\\quad &\\text{if }\\; U< 0\n",
    "\\end{align*}    "
   ]
  },
  {
   "cell_type": "markdown",
   "id": "710e7bf0",
   "metadata": {},
   "source": [
    "As is stated in equation (5.tl.5), if $U<0$ then $I_1=0$ and, via equation (5.tl.2), if $I_1=0$ then $I=-I_2$.  Thus, if $U<0$ (inclusive) or $I_1=0$ then $I=-I_2$.  In other words, if the voltage dropped across the terminals, denoted as emboldened dots in the circuit diagram, of the subcircuit is negative (inclusive) or the current flowing through the top branch is equal to zero then the current flowing through the top branch is equal to zero, implying the current $I$ *exits* the left hand terminal instead of entering through it."
   ]
  },
  {
   "cell_type": "markdown",
   "id": "9b3ac666",
   "metadata": {},
   "source": [
    "As is also stated in equation (5.tl.5), if $I_1\\ge 0$ then $U,U_1=0$, which, via equation (5.tl.4) implies that $U_2=-E$.  If $E>0$ and $U_2=-E$ then $U_2<0$.  Via equation (5.1), if $U_2<0$ then $I_2=0$.  Therefore, if $I_1\\ge0$ and $E>0$ then $I_2=0$.  In other words, if the current flowing through the top branch is non-negative (inclusive) or the voltage dropped across the terminals of the subcircuit is equal to zero then the current flowing through the bottom branch is equal to zero, implying that the current $I$ *enters* through the left hand terminal of the subcircuit."
   ]
  },
  {
   "cell_type": "markdown",
   "id": "6823a061",
   "metadata": {},
   "source": [
    "Via the two propositions of the previous two paragraphs, a current may only flow through one branch of the subcircuit at a time."
   ]
  },
  {
   "cell_type": "markdown",
   "id": "b1b596b8",
   "metadata": {},
   "source": [
    "In the case of a **practical diode**:  \n",
    "\n",
    "\\begin{equation}\\tag{5.2}\n",
    "    \\text{a:}\\;I_1 = 1\\mathrm{mA}(e^{U_1/25\\mathrm{mV}} - 1) \\quad\\quad\\text{and}\\quad\\quad \\text{b:}\\;I_2 = 1\\mathrm{mA}(e^{U_2/25\\mathrm{mV}} - 1)\n",
    "\\end{equation}    "
   ]
  },
  {
   "cell_type": "markdown",
   "id": "8e4fdcd7",
   "metadata": {},
   "source": [
    "Via equations (5.2), (5.tl.2), (5.tl.3), and (5.tl.4),  \n",
    "\n",
    "$$ I = 1\\mathrm{mA}(e^{U/25\\mathrm{mV}} - 1) - 1\\mathrm{mA}(e^{-(E+U)/25\\mathrm{mV}} - 1)$$"
   ]
  },
  {
   "cell_type": "markdown",
   "id": "5de74e74",
   "metadata": {},
   "source": [
    "\\begin{equation}\\tag{5.tl.6}\n",
    "    I :=I(U\\vert E)= 1\\mathrm{mA}\\cdot e^{U/25\\mathrm{mV}}\\big(1 - e^{-(E+1)/25\\mathrm{mV}}\\big)\n",
    "\\end{equation}    "
   ]
  },
  {
   "cell_type": "markdown",
   "id": "d1913e2b",
   "metadata": {},
   "source": [
    "Now, to solve the **top right** subcircuit:  Via KVL,  \n",
    "\n",
    "\\begin{equation}\\tag{5.tr.1}\n",
    "    E = U + U_\\mathrm{D}\n",
    "\\end{equation}    "
   ]
  },
  {
   "cell_type": "markdown",
   "id": "23ad9692",
   "metadata": {},
   "source": [
    "And, via KVL and Ohm's Law,  \n",
    "\n",
    "\\begin{equation}\\tag{5.tr.2}\n",
    "    U_\\mathrm{D} = RI_R\n",
    "\\end{equation}    "
   ]
  },
  {
   "cell_type": "markdown",
   "id": "53ca3261",
   "metadata": {},
   "source": [
    "Note that herein, '$U_\\mathrm{D}$' denotes the voltage dropped across the diode."
   ]
  },
  {
   "cell_type": "markdown",
   "id": "99e99ff6",
   "metadata": {},
   "source": [
    "Via KCL,  \n",
    "\n",
    "\\begin{equation}\\tag{5.tr.3}\n",
    "    I = I_R + I_\\mathrm{D}\n",
    "\\end{equation}    "
   ]
  },
  {
   "cell_type": "markdown",
   "id": "a78b0f18",
   "metadata": {},
   "source": [
    "In the case of an **ideal diode**:  \n",
    "\n",
    "\\begin{align*}\\tag{5.tr.4}\n",
    "    U_\\mathrm{D} &= 0 &\\quad &\\text{if }\\; I_\\mathrm{D} \\ge 0 \\\\\n",
    "    I_\\mathrm{D} &= 0 &\\quad &\\text{if }\\; U_\\mathrm{D}< 0\n",
    "\\end{align*}    "
   ]
  },
  {
   "cell_type": "markdown",
   "id": "0c1c5c5b",
   "metadata": {},
   "source": [
    "Via equation (5.tr.2) and (5.tr.3),  \n",
    "\n",
    "\\begin{equation}\\tag{5.tr.5}\n",
    "    I = GU_\\mathrm{D} + I_\\mathrm{D}\n",
    "\\end{equation}    "
   ]
  },
  {
   "cell_type": "markdown",
   "id": "857a1976",
   "metadata": {},
   "source": [
    "Via equations (5.tr.5) and (5.tr.4),  if $I_\\mathrm{D} = I - I_R = I - GU_\\mathrm{D} = I - G(E-U)\\ge 0$ then $I=I_\\mathrm{D}\\ge 0$ and $E=U$."
   ]
  },
  {
   "cell_type": "markdown",
   "id": "a4deba6e",
   "metadata": {},
   "source": [
    "Furthermore, if $U_\\mathrm{D}<0$ then $I=GU_\\mathrm{D} = G(E-U) < 0$."
   ]
  },
  {
   "cell_type": "markdown",
   "id": "082f7d5f",
   "metadata": {},
   "source": [
    "In the case of a **practical diode**:  \n",
    "\n",
    "Via equations (1b), (5.tr3), and (5.tr.2),  \n",
    "\n",
    "\\begin{equation}\\tag{5.tr.6}\n",
    "    I = GU_\\mathrm{D} + 1\\mathrm{mA}\\big(e^{U_\\mathrm{D}/25\\mathrm{mV}} - 1\\big)\n",
    "\\end{equation}    "
   ]
  },
  {
   "cell_type": "markdown",
   "id": "8e1e79ac",
   "metadata": {},
   "source": [
    "Finally, via equations (5.tr.6) and (5.tr.1),  \n",
    "\n",
    "\\begin{equation}\\tag{5.tr.7}\n",
    "    I := I(U\\vert E, G) = G(E-U) + 1\\mathrm{mA}\\big(e^{(E-U)/25\\mathrm{mV}} - 1\\big)\n",
    "\\end{equation}    "
   ]
  },
  {
   "cell_type": "code",
   "execution_count": 18,
   "id": "2e8a61c4",
   "metadata": {},
   "outputs": [],
   "source": [
    "def I_gen(E, R):\n",
    "    G = 1/R\n",
    "    return lambda U: G*(E-U) + (1e-3)*(np.e**((E-U)/0.025) - 1)"
   ]
  },
  {
   "cell_type": "code",
   "execution_count": 19,
   "id": "c63eff07",
   "metadata": {},
   "outputs": [
    {
     "data": {
      "text/plain": [
       "3.0799579870417486"
      ]
     },
     "execution_count": 19,
     "metadata": {},
     "output_type": "execute_result"
    }
   ],
   "source": [
    "I = I_gen(5, 2)\n",
    "I(4.8)"
   ]
  },
  {
   "cell_type": "code",
   "execution_count": 20,
   "id": "b2d3d4c3",
   "metadata": {
    "code_folding": []
   },
   "outputs": [
    {
     "data": {
      "text/plain": [
       "[<matplotlib.lines.Line2D at 0x7f204ff3f1f0>]"
      ]
     },
     "execution_count": 20,
     "metadata": {},
     "output_type": "execute_result"
    },
    {
     "data": {
      "image/png": "[encoded data removed]",
      "text/plain": [
       "<Figure size 432x288 with 1 Axes>"
      ]
     },
     "metadata": {
      "needs_background": "light"
     },
     "output_type": "display_data"
    }
   ],
   "source": [
    "# Set the parameter (E).\n",
    "E = 5\n",
    "R = 2\n",
    "G = 1/R\n",
    "\n",
    "# Create the domain (U).\n",
    "U = np.linspace(4.8, 10, num=200)\n",
    "\n",
    "# Define the function that maps U to I.\n",
    "I = G*(E-U) + (1e-3)*(np.e**((E-U)/0.025) - 1)\n",
    "\n",
    "# Create the figure and axes objects.\n",
    "fig, ax = plt.subplots()\n",
    "# fig.suptitle('Fig-5.tr.1', x=0.25,y=0.02, va = 'bottom', size=11)\n",
    "ax.set_title('Top Right Circuit\\'s $I-U$ relationship\\nFigure 5.tr.1', size=14)\n",
    "ax.set_xlabel('$U$ ($\\mathrm{V}$)')\n",
    "ax.set_ylabel('$I$ ($\\mathrm{A}$)')\n",
    "ax.grid()\n",
    "\n",
    "# Plot the I-U relationship\n",
    "ax.plot(U, I)"
   ]
  },
  {
   "cell_type": "code",
   "execution_count": 21,
   "id": "8f43681e",
   "metadata": {},
   "outputs": [
    {
     "data": {
      "text/plain": [
       "True"
      ]
     },
     "execution_count": 21,
     "metadata": {},
     "output_type": "execute_result"
    }
   ],
   "source": [
    "'suptitle' in dir(fig)"
   ]
  },
  {
   "cell_type": "code",
   "execution_count": 22,
   "id": "a06c7125",
   "metadata": {},
   "outputs": [],
   "source": [
    "fig.suptitle??"
   ]
  },
  {
   "cell_type": "markdown",
   "id": "1b4c0410",
   "metadata": {},
   "source": [
    "When the subcircuit that is characterized by the above $I-U$ relationship is loaded by a resistance, it practically acts as a practical voltage source of $E$, the same $E$ that is a characteristic of the top right subcircuit and a parameter of the function that gives the curve in the above figure.  \n",
    "\n",
    "To demonstrate this, suppose that the top right subcircuit is connected in series with a resistance of $R_\\mathrm{l}=5\\Omega$ (i.e. loaded by a resistance of $R_\\mathrm{l}=5\\Omega$).  Assuming the subcircuit *actually is* an ideal voltage source of $E$,  via KVL and Ohm's Law,  \n",
    "\n",
    "$$ E = R_\\mathrm{l}I = U = 5\\mathrm{V}$$\n",
    "\n",
    "\\begin{equation}\\tag{5.tr.8}\n",
    "    I = G_\\mathrm{l}E = 0.2\\mathrm{S}\\cdot 5\\mathrm{V} = 1\\mathrm{A}\n",
    "\\end{equation}    "
   ]
  },
  {
   "cell_type": "markdown",
   "id": "d4bd06b3",
   "metadata": {},
   "source": [
    "While I am note sure how to solve for $U$ in terms of $I$ in equation (5.tr.7), according to the plot in the above figure, $U$ is not much less $E=5\\mathrm{V}$ when $I=1\\mathrm{A}$."
   ]
  },
  {
   "cell_type": "markdown",
   "id": "d4993ac1",
   "metadata": {},
   "source": [
    "In general, via equation (5.tr.8) and the assumption that $G_\\mathrm{l}>0$, $I>0$, which implies that: in the case of a *practical diode*, via the $I-U$ relationship shown in figure (5.tr.1), $U\\approxeq E$ and $U< E$;  And, in the case of an *ideal diode*, $E=U$."
   ]
  },
  {
   "cell_type": "markdown",
   "id": "36da865d",
   "metadata": {},
   "source": [
    "When the right hand subcircuit is load by an active element whose Thevenin equivalent is characterized by $R_\\mathrm{t}$ and $E_\\mathrm{o}$, where $E_\\mathrm{o}<E$, the right hand subcircuit acts as a practical voltage source of $E$.  \n",
    "\n",
    "To demonstrate this, suppose that the top right subcricuit is load by an active element whose Thevenin equivalent is characterized by $R_\\mathrm{t}=5\\Omega$ and $E_\\mathrm{0}=3.3\\mathrm{V}$.  Assuming the top right subcircuit is an ideal voltage source of $E=5\\mathrm{V}$, via KVL and Ohm's Law,  \n",
    "\n",
    "$$ E = R_\\mathrm{t}I + E_\\mathrm{o}$$\n",
    "\n",
    "\\begin{align*}\\tag{5.tr.9}\n",
    "    I &= G_\\mathrm{t}(E - E_\\mathrm{o}) \\\\\n",
    "     &= 0.2\\mathrm{S}(5\\mathrm{V} - 3.3\\mathrm{V}) = 0.2\\mathrm{S}\\cdot 1.7\\mathrm{V} = 340\\mathrm{mA}\n",
    "\\end{align*}     "
   ]
  },
  {
   "cell_type": "markdown",
   "id": "9ec1f750",
   "metadata": {},
   "source": [
    "As one should be able to tell by eyeballing the plot found in figure (5.tr.1), when $I=340\\mathrm{mA}>0$, $U\\approxeq E = 5\\mathrm{V}$ and $U<E=5\\mathrm{V}$."
   ]
  },
  {
   "cell_type": "markdown",
   "id": "2d0da47b",
   "metadata": {},
   "source": [
    "In general, assuming $E_\\mathrm{o}<E$, via equation (5.tr.9), $I>0$, and:\n",
    "* in the case of a *practical diode*, if $I>0$ then $U\\approxeq E$ and $U<E$;\n",
    "* and, in the case of an *ideal diode*, if $I>0$ then $U=E$."
   ]
  },
  {
   "cell_type": "markdown",
   "id": "f51aa47b",
   "metadata": {},
   "source": [
    "Finally, assuming $E_\\mathrm{o} > E$, via equation (5.tr.9), $I < 0$.  As the plot in figure (5.tr.1) shows, when $I<0$, the top right subcircuit practically acts as an active element consisting of $E$ in series with $R$.  This goes hand in hand with the notion that, as $U$ gets larger, the exponential term of the identity of $I$ found in equation (5.tr.7) becomes increasingly more insignificant, leaving $I$ with a practical identity of $G(E-U)$."
   ]
  },
  {
   "cell_type": "markdown",
   "id": "eb9952e6",
   "metadata": {},
   "source": [
    "Now, we shall solve for $U$ in terms of $I$ in equation (5.tr.7) -- note that this is just an attempt.  It appears that the identity of $I$ in equation (5.tr.7) is the solution to a first order differential equation, with $I$ as the dependent variable and $U$ as the independent variable.  \n",
    "\n",
    "\\begin{equation}\\tag{5.tr.10}\n",
    "    a\\,\\frac{\\mathrm{d}I}{\\mathrm{d}U} + bI = P(U)\n",
    "\\end{equation}    "
   ]
  },
  {
   "cell_type": "markdown",
   "id": "b8243f82",
   "metadata": {},
   "source": [
    "where $a$ and $b$ are the coefficients of the auxiliary equation (AE),  \n",
    "\n",
    "\\begin{equation}\\tag{5.tr.10a}\n",
    "    -a\\,\\frac{1}{25\\mathrm{mV}} + b = 0\n",
    "\\end{equation}    "
   ]
  },
  {
   "cell_type": "markdown",
   "id": "f93eaa86",
   "metadata": {},
   "source": [
    "and $P(U)$ is a linear function of $U$ whose definition we will find after finding $I'(U)$.  \n",
    "\n",
    "\\begin{equation}\\tag{5.tr.11}\n",
    "    I'(U) = -G - \\frac{1\\mathrm{mA}}{25\\mathrm{mV}}\\,e^{(E-U)/25\\mathrm{mV}} = -\\left(G+\\frac{1}{25}\\,\\mathrm{S}\\cdot e^{(E-U)/25\\mathrm{mV}}\\right) = -\\big(G + 40\\mathrm{mS}\\cdot e^{(E-U)/25\\mathrm{mV}}\\big)\n",
    "\\end{equation}    "
   ]
  },
  {
   "cell_type": "markdown",
   "id": "c6bb5a30",
   "metadata": {},
   "source": [
    "And,\n",
    "\\begin{equation}\\tag{5.tr.10b}\n",
    "    P(U) = a\\big(G(E-U) - 1\\mathrm{mA}\\big) -bG \n",
    "\\end{equation}    "
   ]
  },
  {
   "cell_type": "code",
   "execution_count": 23,
   "id": "46ab256a",
   "metadata": {},
   "outputs": [
    {
     "data": {
      "text/plain": [
       "0.04"
      ]
     },
     "execution_count": 23,
     "metadata": {},
     "output_type": "execute_result"
    }
   ],
   "source": [
    "1/25"
   ]
  },
  {
   "cell_type": "markdown",
   "id": "ef754fef",
   "metadata": {},
   "source": [
    "![Fig-P.2.12.5](Figures/Fig-P.2.12.5.png)"
   ]
  },
  {
   "cell_type": "markdown",
   "id": "67ec51ad",
   "metadata": {},
   "source": [
    "For the **bottom left** subcircuit:  Via KVL,  \n",
    "\n",
    "\\begin{equation}\\tag{5.bl.1}\n",
    "    \\text{a:}\\;U = U_J \\quad\\quad \\text{and} \\quad\\quad  \\text{b:}\\;U_J = U_R \\quad \\quad \\text{and}\\quad\\quad\\text{c:}\\;U_R = U_\\mathrm{D}\n",
    "\\end{equation}    "
   ]
  },
  {
   "cell_type": "markdown",
   "id": "b47e06fb",
   "metadata": {},
   "source": [
    "And, via equation (5.bl.1b) and (5.bl.1c) and Ohm's Law,  \n",
    "\n",
    "\\begin{equation}\\tag{5.bl.1}\n",
    "    \\text{b:}\\;U_J = RI_R \\quad \\quad \\text{and}\\quad \\quad \\text{c:}\\;U_\\mathrm{D} = RI_R\n",
    "\\end{equation}    "
   ]
  },
  {
   "cell_type": "markdown",
   "id": "6385c536",
   "metadata": {},
   "source": [
    "Via equations (5.bl.1a) and (5.bl.1b) and equivalence principle,  \n",
    "\n",
    "\\begin{equation}\\tag{5.bl.2}\n",
    "    U = U_R=RI_R\n",
    "\\end{equation}    "
   ]
  },
  {
   "cell_type": "markdown",
   "id": "8bcd652e",
   "metadata": {},
   "source": [
    "Via KCL,  \n",
    "\n",
    "\\begin{equation}\\tag{5.bl.3}\n",
    "    J + I = I_R + I_\\mathrm{D}\n",
    "\\end{equation}    "
   ]
  },
  {
   "cell_type": "markdown",
   "id": "06f9e270",
   "metadata": {},
   "source": [
    "Via equations (5.bl.3) and (5.bl.2),  \n",
    "\n",
    "\\begin{equation}\\tag{5.bl.4}\n",
    "    J + I = GU + I_\\mathrm{D}\n",
    "\\end{equation}    "
   ]
  },
  {
   "cell_type": "markdown",
   "id": "123ddf05",
   "metadata": {},
   "source": [
    "Via equations (5.bl.3) and (5.bl.1c) and Ohm's Law,  \n",
    "\n",
    "\\begin{equation}\\tag{5.bl.5}\n",
    "    J + I = GU_\\mathrm{D} + I_\\mathrm{D}\n",
    "\\end{equation}    "
   ]
  },
  {
   "cell_type": "markdown",
   "id": "85e5e1b4",
   "metadata": {},
   "source": [
    "In the case of an **ideal diode**:  Recall that:  \n",
    "\n",
    "\\begin{align*}\\tag{5.bl.6}\n",
    "    U_\\mathrm{D} &= 0 &\\quad &\\text{if }\\; I_\\mathrm{D} \\ge 0 \\\\\n",
    "    I_\\mathrm{D} &= 0 &\\quad &\\text{if }\\; U_\\mathrm{D}< 0\n",
    "\\end{align*}    "
   ]
  },
  {
   "cell_type": "markdown",
   "id": "f985deec",
   "metadata": {},
   "source": [
    "Via equations (5.bl.4) and (5.bl.6), if $I + J\\ge GU$ then $U_\\mathrm{D}, U= 0$.  Thus, if $I\\ge -J$ then $U=0$."
   ]
  },
  {
   "cell_type": "markdown",
   "id": "c0309764",
   "metadata": {},
   "source": [
    "Furthermore, if $U<0$ then $GU = I+J $ and $I<-J$."
   ]
  },
  {
   "cell_type": "markdown",
   "id": "475782fa",
   "metadata": {},
   "source": [
    "In the case of a **practical diode**:  \n",
    "\n",
    "\\begin{equation}\\tag{5.bl.7}\n",
    "    I := I(U\\vert G, J)= GU - J + 1\\mathrm{mA}\\big(e^{U/25\\mathrm{mV}} - 1\\big)\n",
    "\\end{equation}    "
   ]
  },
  {
   "cell_type": "markdown",
   "id": "b39967fd",
   "metadata": {},
   "source": [
    "For the **bottom right** subcircuit:  Via KVL and Ohm's Law,  \n",
    "\n",
    "\\begin{equation}\\tag{5.br.1}\n",
    "    \\text{a: }\\; U = -U_J \\quad\\quad \\text{and}\\quad \\quad \\text{b: }\\; U = RI_R + U_\\mathrm{D}\n",
    "\\end{equation}    "
   ]
  },
  {
   "cell_type": "markdown",
   "id": "d41d999a",
   "metadata": {},
   "source": [
    "Via KCL,  \n",
    "\n",
    "\\begin{equation}\\tag{5.br.2}\n",
    "    \\text{a: }\\;I = J + I_R \\quad \\quad \\text{and}\\quad \\quad \\text{b: }\\; I_R = I_\\mathrm{D}\n",
    "\\end{equation}    "
   ]
  },
  {
   "cell_type": "markdown",
   "id": "4708a7de",
   "metadata": {},
   "source": [
    "Via equations (5.br.2a) and (5.br.2b),  \n",
    "\n",
    "\\begin{equation}\\tag{5.br.2c}\n",
    "    I = J + I_\\mathrm{D}\n",
    "\\end{equation}    "
   ]
  },
  {
   "cell_type": "markdown",
   "id": "27e378ba",
   "metadata": {},
   "source": [
    "Via equations (5.br.1b) and (5.br.2a),  \n",
    "\n",
    "\\begin{equation}\\tag{5.br.3}\n",
    "    I = J + G(U-U_\\mathrm{D})\n",
    "\\end{equation}    "
   ]
  },
  {
   "cell_type": "markdown",
   "id": "984aeb0b",
   "metadata": {},
   "source": [
    "or, to put it another way,  \n",
    "\n",
    "$$ U - U_\\mathrm{D} = R(I-J)$$"
   ]
  },
  {
   "cell_type": "markdown",
   "id": "e0ca0dad",
   "metadata": {},
   "source": [
    "\\begin{equation}\\tag{5.br.3}\n",
    "    U_\\mathrm{D} = U - R(I-J)\n",
    "\\end{equation}    "
   ]
  },
  {
   "cell_type": "markdown",
   "id": "316e8b2d",
   "metadata": {},
   "source": [
    "In case of an **ideal diode**:  \n",
    "\n",
    "\\begin{align*}\\tag{5.br.4}\n",
    "    \\text{a: }\\; U_\\mathrm{D} &= 0 &\\quad &\\text{if }\\; I_R \\ge 0 \\\\\n",
    "    \\text{b: }\\; I_R &= 0 &\\quad &\\text{if }\\; U_\\mathrm{D}< 0\n",
    "\\end{align*}    "
   ]
  },
  {
   "cell_type": "markdown",
   "id": "c6464400",
   "metadata": {},
   "source": [
    "Via equations (5.br.4a) and (5.br.1b), \n",
    "\n",
    "\\begin{equation}\\tag{5.br.5a}\n",
    "    I_R \\ge 0 \\implies U = RI_R \\ge 0\\mathrm{V}\n",
    "\\end{equation}    "
   ]
  },
  {
   "cell_type": "markdown",
   "id": "4c10e8e7",
   "metadata": {},
   "source": [
    "Via the statement of reason (5.br.5a) and equation (5.br.2a),  \n",
    "\n",
    "\\begin{equation}\\tag{5.br.6a}\n",
    "    I\\ge J \\implies U = R(I-J) \\ge 0\\mathrm{V}\n",
    "\\end{equation}    "
   ]
  },
  {
   "cell_type": "markdown",
   "id": "f3f9414d",
   "metadata": {},
   "source": [
    "Via equations (5.br.4b) and (5.br.3),  \n",
    "\n",
    "\\begin{equation}\\tag{6.br.5b}\n",
    "    U < R(I-J) \\implies I_R = 0\n",
    "\\end{equation}    "
   ]
  },
  {
   "cell_type": "markdown",
   "id": "97cd3269",
   "metadata": {},
   "source": [
    "Via statement of reason (5.br.5b) and equation (5.br.2a),  \n",
    "\n",
    "\\begin{equation}\\tag{5.br.6b}\n",
    "    U < R(I-J) \\implies I=J\n",
    "\\end{equation}    "
   ]
  },
  {
   "cell_type": "markdown",
   "id": "25cef451",
   "metadata": {},
   "source": [
    "In the case of a **practical diode**:  \n",
    "\n"
   ]
  },
  {
   "cell_type": "markdown",
   "id": "48f75a7d",
   "metadata": {},
   "source": [
    "\\begin{equation}\\tag{5.br.7}\n",
    "    I = J + 1\\mathrm{mA}(e^{U_\\mathrm{D}/25\\mathrm{mV}} - 1)\n",
    "\\end{equation}    "
   ]
  },
  {
   "cell_type": "markdown",
   "id": "1f6590bb",
   "metadata": {},
   "source": [
    "$$ e^{U_\\mathrm{D}/25\\mathrm{mV}} - 1 = \\frac{1}{1\\mathrm{mA}}\\,(I - J)$$"
   ]
  },
  {
   "cell_type": "markdown",
   "id": "a9b93d4f",
   "metadata": {},
   "source": [
    "$$\\frac{U_\\mathrm{D}}{25\\mathrm{mV}} = \\log\\left( \\frac{I-J}{1\\mathrm{mA}} + 1\\right ) = \\log\\frac{I-J+1\\mathrm{mA}}{1\\mathrm{mA}} = \\log(I-J+1\\mathrm{mA}) - \\log 1\\mathrm{mA}$$"
   ]
  },
  {
   "cell_type": "markdown",
   "id": "726228de",
   "metadata": {},
   "source": [
    "$$ U_\\mathrm{D} = 25\\mathrm{mV}\\,\\big(\\log(I-J+1\\mathrm{mA}) - \\log 1\\mathrm{mA}\\big)$$"
   ]
  },
  {
   "cell_type": "markdown",
   "id": "4e8b8f15",
   "metadata": {},
   "source": [
    "\\begin{equation}\\tag{5.br.8}\n",
    "    U := U(I \\vert J, R) = 25\\mathrm{mV}\\,\\big(\\log(I-J+1\\mathrm{mA}) - \\log 1\\mathrm{mA}\\big) + R(I-J)\n",
    "\\end{equation}    "
   ]
  },
  {
   "cell_type": "markdown",
   "id": "595876e5",
   "metadata": {},
   "source": [
    "To avoid a domain error, the following inequality must be satisfied,  \n",
    "\n",
    "$$ I-J+1\\mathrm{mA} > 0$$\n",
    "\n",
    "\\begin{equation}\\tag{5.br.8a}\n",
    "    I > J - 1\\mathrm{mA}\n",
    "\\end{equation}    "
   ]
  },
  {
   "cell_type": "code",
   "execution_count": 39,
   "id": "9d1ee3ce",
   "metadata": {},
   "outputs": [],
   "source": [
    "def U_gen(J, R):\n",
    "    return lambda I: 0.025*(np.log(I-J+0.001) - np.log(0.001)) + R*(I-J)"
   ]
  },
  {
   "cell_type": "code",
   "execution_count": 52,
   "id": "3db48187",
   "metadata": {},
   "outputs": [
    {
     "data": {
      "text/plain": [
       "-0.0009004052431641551"
      ]
     },
     "execution_count": 52,
     "metadata": {},
     "output_type": "execute_result"
    }
   ],
   "source": [
    "U = U_gen(1, 5)\n",
    "np.log(0.9991)"
   ]
  },
  {
   "cell_type": "code",
   "execution_count": 55,
   "id": "3da92cc4",
   "metadata": {
    "code_folding": []
   },
   "outputs": [
    {
     "data": {
      "text/plain": [
       "[<matplotlib.lines.Line2D at 0x7f204ef6e340>]"
      ]
     },
     "execution_count": 55,
     "metadata": {},
     "output_type": "execute_result"
    },
    {
     "data": {
      "image/png": "[encoded data removed]",
      "text/plain": [
       "<Figure size 432x288 with 1 Axes>"
      ]
     },
     "metadata": {
      "needs_background": "light"
     },
     "output_type": "display_data"
    }
   ],
   "source": [
    "# Set the parameters.\n",
    "R = 5\n",
    "J = 1\n",
    "\n",
    "# Create the domain of U(I| J, R)\n",
    "I = np.linspace(0.99900001,2, num=200)\n",
    "\n",
    "# Define U(I| J, R)\n",
    "U = 0.025*(np.log(I-J+0.001) - np.log(0.001)) + R*(I-J)\n",
    "\n",
    "# Create the figure and axes objects.\n",
    "fig, ax = plt.subplots()\n",
    "ax.set_title('$U-I$ Relationship', size=14)\n",
    "ax.set_xlabel('I [$\\mathrm{cA}$]')\n",
    "ax.set_ylabel('U [$\\mathrm{V}$]')\n",
    "ax.grid()\n",
    "\n",
    "# Plot the U-I relationship given by U(I| J, R).\n",
    "ax.plot(I*100, U)"
   ]
  },
  {
   "cell_type": "markdown",
   "id": "e7e36b52",
   "metadata": {},
   "source": [
    "As can be inferred from the above $U-I$ relationship, when $I$ is roughly less then $J=1\\mathrm{A}$ or when $U$ is negative, the bottom right subcircuit practically acts as a practical current source of $J=1\\mathrm{A}$."
   ]
  },
  {
   "cell_type": "markdown",
   "id": "23aa714c",
   "metadata": {},
   "source": [
    "#### Problem 6\n",
    "6. Find the series resistance $R$, so that $10\\mathrm{V}$ Zener’s diode operates at $I_\\mathrm{D}=10 \\mathrm{mA}$ current. Supply\n",
    "    voltage is $12.5 \\mathrm{V}$, load resistance is $R_\\mathrm{l}=1000\\Omega$ .  \n",
    "    \n",
    "![Fig-P.2.12.6](Figures/Fig-P.2.12.6.png)"
   ]
  },
  {
   "cell_type": "markdown",
   "id": "ef3b68c8",
   "metadata": {},
   "source": [
    "Via KVL and Ohm's Law,  \n",
    "\n",
    "$$ U - RI - 10\\mathrm{V} = 0$$\n",
    "\n",
    "$$U = 12.5\\mathrm{V}= RI + 10\\mathrm{V}$$\n",
    "\n",
    "Thus\n",
    "\\begin{equation}\\tag{6.1}\n",
    "    RI = 2.5\\mathrm{V}\n",
    "\\end{equation}    "
   ]
  },
  {
   "cell_type": "markdown",
   "id": "a4adea60",
   "metadata": {},
   "source": [
    "$$R_\\mathrm{l}I_\\mathrm{l}= 1000\\Omega\\, I_\\mathrm{l} = 10\\mathrm{V}$$\n",
    "\n",
    "\\begin{equation}\\tag{6.2}\n",
    "    I_\\mathrm{l} = 10\\mathrm{mA}\n",
    "\\end{equation}    "
   ]
  },
  {
   "cell_type": "markdown",
   "id": "e7637a51",
   "metadata": {},
   "source": [
    "Via KCL,  \n",
    "\n",
    "$$ I - I_\\mathrm{D} - I_\\mathrm{l} = I - 10\\mathrm{mA} - 10\\mathrm{mA}  = 0$$\n",
    "\n",
    "\\begin{equation}\\tag{6.3}\n",
    "   I = 20\\mathrm{mA}\n",
    "\\end{equation}    "
   ]
  },
  {
   "cell_type": "markdown",
   "id": "8c63f439",
   "metadata": {},
   "source": [
    "Via equations (6.3) and (6.1),  \n",
    "\n",
    "\\begin{equation}\\tag{6.4}\n",
    "    R = \\frac{2.5\\mathrm{V}}{20\\mathrm{mA}} = 125\\Omega\n",
    "\\end{equation}    "
   ]
  },
  {
   "cell_type": "code",
   "execution_count": 62,
   "id": "27d6e9d7",
   "metadata": {},
   "outputs": [
    {
     "data": {
      "text/plain": [
       "125.0"
      ]
     },
     "execution_count": 62,
     "metadata": {},
     "output_type": "execute_result"
    }
   ],
   "source": [
    "2.5/0.02"
   ]
  },
  {
   "cell_type": "markdown",
   "id": "877f3fff",
   "metadata": {},
   "source": [
    "#### Problem 7\n",
    "7. In Problem 2.12.6 circuit, find the acceptable range of load resistance so that the diode\n",
    "    current ranges from $5\\mathrm{mA}$ to $15 \\mathrm{mA}$."
   ]
  },
  {
   "cell_type": "markdown",
   "id": "e62db67e",
   "metadata": {},
   "source": [
    "$$ R_\\max = \\frac{2.5\\mathrm{V}}{15\\mathrm{mA}} \\approxeq 166.67\\Omega$$"
   ]
  },
  {
   "cell_type": "code",
   "execution_count": 63,
   "id": "bf4e0b41",
   "metadata": {},
   "outputs": [
    {
     "data": {
      "text/plain": [
       "166.66666666666669"
      ]
     },
     "execution_count": 63,
     "metadata": {},
     "output_type": "execute_result"
    }
   ],
   "source": [
    "2.5/0.015"
   ]
  },
  {
   "cell_type": "markdown",
   "id": "2c34b844",
   "metadata": {},
   "source": [
    "$$ R_\\min = \\frac{2.5\\mathrm{V}}{25\\mathrm{mA}} = 100\\Omega$$"
   ]
  },
  {
   "cell_type": "markdown",
   "id": "5cc33e0e",
   "metadata": {},
   "source": [
    "#### Problem 8 \n",
    "8. Find the coordinates of the nonlinear element $Q$ point."
   ]
  }
 ],
 "metadata": {
  "kernelspec": {
   "display_name": "Python 3",
   "language": "python",
   "name": "python3"
  },
  "language_info": {
   "codemirror_mode": {
    "name": "ipython",
    "version": 3
   },
   "file_extension": ".py",
   "mimetype": "text/x-python",
   "name": "python",
   "nbconvert_exporter": "python",
   "pygments_lexer": "ipython3",
   "version": "3.8.10"
  }
 },
 "nbformat": 4,
 "nbformat_minor": 5
}
