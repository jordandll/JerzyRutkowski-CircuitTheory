{
 "cells": [
  {
   "cell_type": "markdown",
   "id": "c4902ecf",
   "metadata": {},
   "source": [
    "# Conductor Size\n",
    "It should be common-sense knowledge that liquids flow through large-diameter pipes easier than they do through small-diameter pipes (if you would like a practical illustration, try drinking a liquid through straws of different diameters). The same general principle holds for the flow of electrons through conductors: the broader the cross-sectional area (thickness) of the conductor, the more room for electrons to flow, and consequently, the easier it is for flow to occur (less resistance)."
   ]
  },
  {
   "cell_type": "markdown",
   "id": "cb3759e6",
   "metadata": {},
   "source": [
    "### Calculating the Circular-mil Area of a Wire\n",
    "\n",
    "However, electricians and others frequently concerned with wire size use another unit of area measurement tailored specifically for wire’s circular cross-section. This special unit is called the circular mil (sometimes abbreviated cmil). The sole purpose for having this special unit of measurement is to eliminate the need to invoke the factor $\\pi$ in the formula for calculating area, plus the need to figure wire radius when you’ve been given diameter. The formula for calculating the circular-mil area of a circular wire is very simple:  \n",
    "\n",
    "\\begin{equation}\\tag{2}\n",
    "    A_\\text{cir} = d^2\n",
    "\\end{equation}"
   ]
  },
  {
   "cell_type": "markdown",
   "id": "bedf39c1",
   "metadata": {},
   "source": [
    "$$ A_\\mathrm{sqr} = \\pi r^2 = 0.25\\pi d^2 \\quad\\quad\\text{and}\\quad\\quad A_\\mathrm{cir} = d^2 $$\n",
    "\n",
    "Assuming $d=1\\mathrm{mil}$,  \n",
    "\n",
    "$$ A_\\mathrm{sqr} = 0.25\\pi\\mathrm{mil}^2 \\approxeq 0.785\\mathrm{mil}^2 \\quad\\quad\\text{and}\\quad\\quad A_\\mathrm{cir} = 1\\mathrm{cmil}$$"
   ]
  },
  {
   "cell_type": "markdown",
   "id": "2267a1cc",
   "metadata": {},
   "source": [
    "Now, unassuming $d=1\\mathrm{mil}$ and assuming $A_\\mathrm{sqr} = 1\\mathrm{mil}^2$,  \n",
    "\n",
    "$$ 0.25\\pi d^2 = 1\\mathrm{mil}^2 \\quad\\implies\\quad A_\\mathrm{cir}=d^2 = \\frac{4\\mathrm{cmil}}{\\pi} \\approxeq 1.273\\mathrm{cmil}$$"
   ]
  }
 ],
 "metadata": {
  "kernelspec": {
   "display_name": "Python 3 (ipykernel)",
   "language": "python",
   "name": "python3"
  },
  "language_info": {
   "codemirror_mode": {
    "name": "ipython",
    "version": 3
   },
   "file_extension": ".py",
   "mimetype": "text/x-python",
   "name": "python",
   "nbconvert_exporter": "python",
   "pygments_lexer": "ipython3",
   "version": "3.10.6"
  }
 },
 "nbformat": 4,
 "nbformat_minor": 5
}
