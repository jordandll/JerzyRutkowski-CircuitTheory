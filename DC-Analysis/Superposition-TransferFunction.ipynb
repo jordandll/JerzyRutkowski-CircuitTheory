{
 "cells": [
  {
   "cell_type": "markdown",
   "id": "a815d6fc",
   "metadata": {},
   "source": [
    "# Transfer Function and Superposition Theorem\n",
    "\n",
    "### Chapter 2.6 - *DC Analysis*"
   ]
  },
  {
   "cell_type": "markdown",
   "id": "bea38f8e",
   "metadata": {},
   "source": [
    "### Example 2.7.2\n",
    "A two-loop circuit is presented in Fig. 2.7.4.  \n",
    "\n",
    "![Fig-2.7.4](Figures/Fig-2.7.4.png)"
   ]
  },
  {
   "cell_type": "markdown",
   "id": "24acabbb",
   "metadata": {},
   "source": [
    "To find the transfer function that relates $J$ as the input to $U_3^J$ as the output, we should first find a transfer function ($K_{JI_3}$) that relates $J$ to $I_3$, the current flowing throught $R_3$.  And, of course, via Ohm's Law, $U_3^J=R_3I_3 = R_3K_{JI_3}J$."
   ]
  },
  {
   "cell_type": "markdown",
   "id": "71309eb3",
   "metadata": {},
   "source": [
    "$$ I_3 = K_{JI_3} J$$"
   ]
  },
  {
   "cell_type": "markdown",
   "id": "10e706fa",
   "metadata": {},
   "source": [
    "Via Ohm's Law,  \n",
    "\n",
    "$$ I_3 = \\frac{U_3}{R_3}$$"
   ]
  },
  {
   "cell_type": "markdown",
   "id": "09a51a8e",
   "metadata": {},
   "source": [
    "Via KCL and Ohm's Law,  \n",
    "\n",
    "$$ J = \\frac{U_1}{R_1} + \\frac{U_3}{R_3}$$"
   ]
  },
  {
   "cell_type": "markdown",
   "id": "686d2d92",
   "metadata": {},
   "source": [
    "Since $E$ is short-circuited, $U_1=U_3$, thus,  \n",
    "\n",
    "$$ J = \\frac{U_3}{R_1} + \\frac{U_3}{R_3} = U_3\\,\\frac{R_1+R_3}{R_1R_3}$$"
   ]
  },
  {
   "cell_type": "markdown",
   "id": "a1489a59",
   "metadata": {},
   "source": [
    "$$ K_{JI_3} = \\frac{I_3}{J} = \\frac{R_1}{R_1+R_3}$$"
   ]
  },
  {
   "cell_type": "markdown",
   "id": "09695555",
   "metadata": {},
   "source": [
    "Via the above and Ohm's Law,  \n",
    "\n",
    "$$ U_3^J = \\frac{R_3R_1}{R_1+R_3}\\,J$$"
   ]
  },
  {
   "cell_type": "markdown",
   "id": "a74ed25f",
   "metadata": {},
   "source": [
    "To find $K_{EU_3}$:  \n",
    "\n",
    "$$ U_3^E = K_{EU_3}E$$"
   ]
  },
  {
   "cell_type": "markdown",
   "id": "5ec59e13",
   "metadata": {},
   "source": [
    "Via KVL and Ohm's Law,  \n",
    "\n",
    "$$ E = I(R_1+R_3)$$"
   ]
  },
  {
   "cell_type": "markdown",
   "id": "da263480",
   "metadata": {},
   "source": [
    "and\n",
    "$$ U_3^E=IR_3$$"
   ]
  },
  {
   "cell_type": "markdown",
   "id": "aa1bc026",
   "metadata": {},
   "source": [
    "Thus,  \n",
    "$$ K_{EU_3} = \\frac{U_3^E}{E} = \\frac{R_3}{R_1+R_3}$$"
   ]
  },
  {
   "cell_type": "markdown",
   "id": "8494764e",
   "metadata": {},
   "source": [
    "## Drill Problems"
   ]
  },
  {
   "cell_type": "markdown",
   "id": "fe6906c0",
   "metadata": {},
   "source": [
    "#### Problem 1\n",
    "1. The emf has increased its value two times (up to $2E$). Calculate the increment (value and\n",
    "    sign) of the current $I$. Then, calculate the increment of the current source necessary to\n",
    "    compensate this change.  \n",
    "    \n",
    "![Fig-P.2.7.1](Figures/Fig-P.2.7.1.png)"
   ]
  },
  {
   "cell_type": "markdown",
   "id": "d16702e5",
   "metadata": {},
   "source": [
    "The transfer function ($K_{JI}$) that relates the input current source or excitation ($J=10\\mathrm{A}$) to the output current ($I^J$) is given by:"
   ]
  },
  {
   "cell_type": "markdown",
   "id": "1c6f0f22",
   "metadata": {},
   "source": [
    "\\begin{equation}\\tag{1.1}\n",
    "    I^J = K_{JI}J = K_{JI}10\\mathrm{A}\n",
    "\\end{equation}    "
   ]
  },
  {
   "cell_type": "markdown",
   "id": "56871b90",
   "metadata": {},
   "source": [
    "Via KCL and Ohm's Law,  \n",
    "\n",
    "\\begin{equation}\\tag{1.2}\n",
    "    I = 0.5\\mathrm{S}\\,U + 0.5\\mathrm{S}\\,U = 1\\mathrm{S}\\,U\n",
    "\\end{equation}    "
   ]
  },
  {
   "cell_type": "markdown",
   "id": "3e9d934b",
   "metadata": {},
   "source": [
    "and,\n",
    "$$ 10\\mathrm{A} - I - 1\\mathrm{S}\\,U = 0 $$"
   ]
  },
  {
   "cell_type": "markdown",
   "id": "d3b6b4f3",
   "metadata": {},
   "source": [
    "\\begin{equation}\\tag{1.3}\n",
    "    J=10\\mathrm{A} = I + 1\\mathrm{S}\\,U = 2\\mathrm{S}\\,U\n",
    "\\end{equation}    "
   ]
  },
  {
   "cell_type": "markdown",
   "id": "941e1522",
   "metadata": {},
   "source": [
    "\\begin{equation}\\tag{1.4}\n",
    "    K_{JI} = \\frac{I}{J} = \\frac{1\\mathrm{S}\\,U}{2\\mathrm{S}\\,U} = 0.5\n",
    "\\end{equation}    "
   ]
  },
  {
   "cell_type": "markdown",
   "id": "d0fb70e0",
   "metadata": {},
   "source": [
    "Now we find $K_{EI}$ such that:  \n",
    "\n",
    "$$ I^E = K_{EI}E$$"
   ]
  },
  {
   "cell_type": "markdown",
   "id": "7c54c8cf",
   "metadata": {},
   "source": [
    "Via Ohm's Law,  \n",
    "\n",
    "$$ U_\\mathrm{r} = 1\\Omega\\,I^E$$"
   ]
  },
  {
   "cell_type": "markdown",
   "id": "2018e3ea",
   "metadata": {},
   "source": [
    "Via KVL and Ohm's Law,  \n",
    "\n",
    "$$ U_\\mathrm{m} = - U_\\mathrm{r}$$"
   ]
  },
  {
   "cell_type": "markdown",
   "id": "d3aef9f8",
   "metadata": {},
   "source": [
    "$$ U_\\mathrm{m} = 0.5E = -U_\\mathrm{r} = -1\\Omega\\,I^E$$"
   ]
  },
  {
   "cell_type": "markdown",
   "id": "a4c9bbda",
   "metadata": {},
   "source": [
    "$$ I^E = -0.5\\mathrm{S}\\,E$$"
   ]
  },
  {
   "cell_type": "markdown",
   "id": "9cc37d05",
   "metadata": {},
   "source": [
    "Thus,  \n",
    "\n",
    "$$ K_{EI} = -0.5\\mathrm{S}$$"
   ]
  },
  {
   "cell_type": "markdown",
   "id": "59aad6cf",
   "metadata": {},
   "source": [
    "$$ \\Delta I^E = K_{EI}\\Delta E = K_\\mathrm{EI}E = -0.5\\mathrm{S}\\,10\\mathrm{V} = -5\\mathrm{A}$$"
   ]
  },
  {
   "cell_type": "markdown",
   "id": "2920ef35",
   "metadata": {},
   "source": [
    "We need to find a $\\Delta J$ such that:  \n",
    "\n",
    "$$ \\Delta I = \\Delta I^E + \\Delta I^J = 0$$"
   ]
  },
  {
   "cell_type": "markdown",
   "id": "737581ca",
   "metadata": {},
   "source": [
    "$$ \\Delta I^E = -5\\mathrm{A}$$"
   ]
  },
  {
   "cell_type": "markdown",
   "id": "bbbe0647",
   "metadata": {},
   "source": [
    "$$\\Delta I^J = K_{JI}\\Delta J = 5\\mathrm{A}$$ "
   ]
  },
  {
   "cell_type": "markdown",
   "id": "c8fa2409",
   "metadata": {},
   "source": [
    "$$ \\Delta J = \\frac{5\\mathrm{A}}{K_{JI}} = 10\\mathrm{A}$$"
   ]
  },
  {
   "cell_type": "markdown",
   "id": "3ae079d4",
   "metadata": {},
   "source": [
    "#### Problem 2\n",
    "2. All independent sources (circuit inputs) and a shorted branch with the current $I_x$ (circuit output) are extracted from a linear circuit, as shown. With sources $J$ and $E_1$ on and $E_2=0$\n",
    "    : $I_x = 20\\mathrm{A}$ , with $J$ and $E_2$ on and $E_1=0$: $I_x=-5\\mathrm{A}$ , with all three sources on: $I_x=12\\mathrm{A}$. Find $I_x$ if, a) $J$ is doubled, b) $E_2$ is reversed.  \n",
    "    \n",
    "![Fig-P.2.7.3](Figures/Fig-P.2.7.3.png)"
   ]
  },
  {
   "cell_type": "markdown",
   "id": "b5d8dc18",
   "metadata": {},
   "source": [
    "\\begin{equation}\\tag{2.1}\n",
    "    I_x = 20\\mathrm{A} = I_x^J + I_x^{E_1}\n",
    "\\end{equation}"
   ]
  },
  {
   "cell_type": "markdown",
   "id": "74d545ff",
   "metadata": {},
   "source": [
    "\\begin{equation}\\tag{2.2}\n",
    "    I_x = -5\\mathrm{A} = I_x^J + I_x^{E_2}\n",
    "\\end{equation}"
   ]
  },
  {
   "cell_type": "markdown",
   "id": "911be2cc",
   "metadata": {},
   "source": [
    "\\begin{equation}\\tag{2.3}\n",
    "    I_x=12\\mathrm{A}=I_x^J + I_x^{E_1} + I_x^{E_2}\n",
    "\\end{equation}"
   ]
  },
  {
   "cell_type": "markdown",
   "id": "6df6eb40",
   "metadata": {},
   "source": [
    "Via equations (2.3) and (2.2),  \n",
    "\n",
    "\\begin{equation}\\tag{2.4}\n",
    "    -17\\mathrm{A} = I_x^{E_1}\n",
    "\\end{equation}"
   ]
  },
  {
   "cell_type": "markdown",
   "id": "d56fdecf",
   "metadata": {},
   "source": [
    "Via equations (2.3) and (2.1),  \n",
    "\n",
    "\\begin{equation}\\tag{2.5}\n",
    "    8\\mathrm{A} = I_x^{E_2}\n",
    "\\end{equation}"
   ]
  },
  {
   "cell_type": "markdown",
   "id": "7fbef97c",
   "metadata": {},
   "source": [
    "Via equations (2.5), (2.4), and (2.3),  \n",
    "\n",
    "\\begin{equation}\\tag{2.6}\n",
    "    21\\mathrm{A} = I_x^J\n",
    "\\end{equation}"
   ]
  },
  {
   "cell_type": "markdown",
   "id": "72e1de74",
   "metadata": {},
   "source": [
    "Thus, \n",
    "\\begin{equation}\\tag{2.7}\n",
    "    I_x = I_x^J + I_x^{E_2} + I_x^{E_1} = 12\\mathrm{A}\n",
    "\\end{equation}    "
   ]
  },
  {
   "cell_type": "markdown",
   "id": "68241855",
   "metadata": {},
   "source": [
    "To find the shorted branch's current *after* $J$ is doubled, denoted as '$I_x^*$':"
   ]
  },
  {
   "cell_type": "markdown",
   "id": "356cb250",
   "metadata": {},
   "source": [
    "$$ I_x^J = K{JI_x}J = \\frac{G_1+G_2}{G_1+G_2+G_3}\\,J = 21\\mathrm{A}$$"
   ]
  },
  {
   "cell_type": "markdown",
   "id": "6911eb87",
   "metadata": {},
   "source": [
    "$$ K_{JI_x} = \\frac{I_x^J}{J} = \\frac{21\\mathrm{A}}{J}$$"
   ]
  },
  {
   "cell_type": "markdown",
   "id": "b7cac096",
   "metadata": {},
   "source": [
    "$$ \\Delta I_x^J = K_{JI_x} \\Delta J = K_{JI_x}(2J - J) = K_{JI_x}J = 21\\mathrm{A}$$"
   ]
  },
  {
   "cell_type": "markdown",
   "id": "fd961c17",
   "metadata": {},
   "source": [
    "And,\n",
    "$$ I_x^* = I_x + \\Delta I_x^J = 33\\mathrm{A}$$"
   ]
  },
  {
   "cell_type": "markdown",
   "id": "03e1b57e",
   "metadata": {},
   "source": [
    "To find $I_x$ *after* $E_2$ is reversed, denoted as '$I_x^*$':"
   ]
  },
  {
   "cell_type": "markdown",
   "id": "00c29196",
   "metadata": {},
   "source": [
    "$$ \\Delta E_2 = -E_2 - E_2 = -2E_2$$"
   ]
  },
  {
   "cell_type": "markdown",
   "id": "a6361bdd",
   "metadata": {},
   "source": [
    "$$ I_x^{E_2} = K_{E_2 I_x} E_2$$"
   ]
  },
  {
   "cell_type": "markdown",
   "id": "0f5d52ec",
   "metadata": {},
   "source": [
    "$$ K_{E_2 I_x} = \\frac{I_x^{E_2}}{E_2} = \\frac{8\\mathrm{A}}{E_2}$$"
   ]
  },
  {
   "cell_type": "markdown",
   "id": "2a855b64",
   "metadata": {},
   "source": [
    "$$ \\Delta I_x^{E_2} = K_{E_2 I_x} \\Delta E_2 = -2I_x^{E_2} = -16\\mathrm{A}$$"
   ]
  },
  {
   "cell_type": "markdown",
   "id": "a55c09f7",
   "metadata": {},
   "source": [
    "Finally,\n",
    "$$ I_x^* = I_x + \\Delta I_x^{E_2} = -4\\mathrm{A}$$"
   ]
  },
  {
   "cell_type": "markdown",
   "id": "7d4c0cb2",
   "metadata": {},
   "source": [
    "*Note that the rest of the information below is not needed to solve the problem.*"
   ]
  },
  {
   "cell_type": "markdown",
   "id": "9484b868",
   "metadata": {},
   "source": [
    "Via KCL and Ohm's Law,  \n",
    "\n",
    "\\begin{equation}\\tag{2.7a}\n",
    "    I_x^{E_1} = (G_1+G_2)U_x^{E_1}= -17\\mathrm{A}\n",
    "\\end{equation}"
   ]
  },
  {
   "cell_type": "markdown",
   "id": "e9c6119a",
   "metadata": {},
   "source": [
    "and,\n",
    "$$ I_x^{E_2} = (G_1 + G_2)U_x^{E_2}=8\\mathrm{A}$$"
   ]
  },
  {
   "cell_type": "markdown",
   "id": "4ac2d008",
   "metadata": {},
   "source": [
    "Via KVL,\n",
    "$$ U_J^{E_1} + U_x^{E_1} + E_1 = 0 $$"
   ]
  },
  {
   "cell_type": "markdown",
   "id": "0c97f17a",
   "metadata": {},
   "source": [
    "Via Ohm's $U_J^{E_1} = R_3I_x^{E_1} = -17\\mathrm{A}\\,R_3$"
   ]
  },
  {
   "cell_type": "markdown",
   "id": "35d724f8",
   "metadata": {},
   "source": [
    "\\begin{equation}\\tag{2.7b}\n",
    "    U_x^{E_1} = 17\\mathrm{A}\\,R_3 - E_1\n",
    "\\end{equation}    "
   ]
  },
  {
   "cell_type": "markdown",
   "id": "15200878",
   "metadata": {},
   "source": [
    "Via equations (2.7a) and (2.7b),    \n",
    "\n",
    "$$ (G_1 + G_2)\\big(I_x^{E_1}R_3 + E_1\\big) = -I_x^{E_1}$$"
   ]
  },
  {
   "cell_type": "markdown",
   "id": "991c9f9a",
   "metadata": {},
   "source": [
    "$$ I_x^{E_1}\\big((G_1+G_2)R_3 + 1\\big) = -E_1(G_1+G_2)$$"
   ]
  },
  {
   "cell_type": "markdown",
   "id": "da0ecf33",
   "metadata": {},
   "source": [
    "\\begin{equation}\\tag{2.7}\n",
    "    I_x^{E_1} = K_{E_1 I_x}E_1 \\quad \\text{where}\\; K_{E_1 I_x} = -\\frac{G_1+G_2}{(G_1+G_2)R_3 + 1}    \n",
    "\\end{equation}  "
   ]
  },
  {
   "cell_type": "markdown",
   "id": "9461cf47",
   "metadata": {},
   "source": [
    "#### Problem 4\n",
    "4. Use the superposition theorem to find the voltage in Problems 2.3.5 and 2.3.6."
   ]
  },
  {
   "cell_type": "markdown",
   "id": "90defbc3",
   "metadata": {},
   "source": [
    "![Fig-P.2.3.5](Figures/Fig-P.2.3.5.png)"
   ]
  },
  {
   "cell_type": "markdown",
   "id": "dde2b0ec",
   "metadata": {},
   "source": [
    "$$ I^{1\\mathrm{A}} = K_{1\\mathrm{A}\\,I}1\\mathrm{A}$$"
   ]
  },
  {
   "cell_type": "markdown",
   "id": "3b7054c0",
   "metadata": {},
   "source": [
    "Let $R_1:=4\\Omega$ and $R_2:=12\\Omega + 8\\Omega = 20\\Omega$.  It then follows that $I^{1\\mathrm{A}}=U^{1\\mathrm{A}}G_1=U^{1\\mathrm{A}}0.25\\mathrm{S}$."
   ]
  },
  {
   "cell_type": "markdown",
   "id": "3dc815e9",
   "metadata": {},
   "source": [
    "$$ K_{1\\mathrm{A}I} = \\frac{G_1}{G_1+G_2} = \\frac{0.25\\mathrm{S}}{0.3\\mathrm{S}}\\approxeq 0.833$$"
   ]
  },
  {
   "cell_type": "code",
   "execution_count": 1,
   "id": "b967a945",
   "metadata": {},
   "outputs": [
    {
     "data": {
      "text/plain": [
       "3.3333333333333335"
      ]
     },
     "execution_count": 1,
     "metadata": {},
     "output_type": "execute_result"
    }
   ],
   "source": [
    "4*0.25/0.3"
   ]
  },
  {
   "cell_type": "markdown",
   "id": "19899df2",
   "metadata": {},
   "source": [
    "Thus, \n",
    "$$ I^{1\\mathrm{A}}\\approxeq 833.33\\mathrm{mA}$$"
   ]
  },
  {
   "cell_type": "markdown",
   "id": "b1f6450a",
   "metadata": {},
   "source": [
    "Via Ohm's Law,  \n",
    "\n",
    "\\begin{equation}\\tag{4.1}\n",
    "    U^{1\\mathrm{A}} = 4\\Omega\\,I^{1\\mathrm{A}} \\approxeq 3.33\\mathrm{V}\n",
    "\\end{equation}    "
   ]
  },
  {
   "cell_type": "code",
   "execution_count": 2,
   "id": "a2b87301",
   "metadata": {},
   "outputs": [
    {
     "data": {
      "text/plain": [
       "3.3333333333333335"
      ]
     },
     "execution_count": 2,
     "metadata": {},
     "output_type": "execute_result"
    }
   ],
   "source": [
    "1/0.3"
   ]
  },
  {
   "cell_type": "markdown",
   "id": "07b6b3b9",
   "metadata": {},
   "source": [
    "Another way of finding the value of the same quantity is the following:  \n",
    "\n",
    "Via KCL and Ohm's Law,  \n",
    "\n",
    "$$ 1\\mathrm{A} = G_1U^{1\\mathrm{A}} + G_2U^{1\\mathrm{A}} $$"
   ]
  },
  {
   "cell_type": "markdown",
   "id": "a05e1282",
   "metadata": {},
   "source": [
    "$$ U^{1\\mathrm{A}} = \\frac{1\\mathrm{A}}{G_1+G_2} \\approxeq 3.33\\mathrm{V} $$"
   ]
  },
  {
   "cell_type": "code",
   "execution_count": 3,
   "id": "ffb5ec64",
   "metadata": {},
   "outputs": [
    {
     "data": {
      "text/plain": [
       "3.3333333333333335"
      ]
     },
     "execution_count": 3,
     "metadata": {},
     "output_type": "execute_result"
    }
   ],
   "source": [
    "1/((1/4)+(1/20))"
   ]
  },
  {
   "cell_type": "markdown",
   "id": "8b06edd4",
   "metadata": {},
   "source": [
    "To find the response of $U$ to $E$, denoted as '$U^E$':  \n",
    "\n",
    "Via KVL and Ohm's Law,  \n",
    "\n",
    "$$ 20\\Omega\\,I - 6\\mathrm{V} + 4\\Omega I = 24\\Omega\\,I - 6\\mathrm{V} = 0$$"
   ]
  },
  {
   "cell_type": "markdown",
   "id": "bb60af75",
   "metadata": {},
   "source": [
    "$$ I = \\frac{6\\mathrm{V}}{24\\Omega} = 250\\mathrm{mA} $$"
   ]
  },
  {
   "cell_type": "code",
   "execution_count": 4,
   "id": "dcec3d49",
   "metadata": {},
   "outputs": [
    {
     "data": {
      "text/plain": [
       "0.25"
      ]
     },
     "execution_count": 4,
     "metadata": {},
     "output_type": "execute_result"
    }
   ],
   "source": [
    "6/24"
   ]
  },
  {
   "cell_type": "markdown",
   "id": "af11a5af",
   "metadata": {},
   "source": [
    "Via Ohm's Law,  \n",
    "\n",
    "\\begin{equation}\\tag{4.2}\n",
    "    U^E = -4\\Omega\\,I = -1\\mathrm{V}\n",
    "\\end{equation}    "
   ]
  },
  {
   "cell_type": "markdown",
   "id": "fc305f7b",
   "metadata": {},
   "source": [
    "Another way of finding the value of the same quantity is to find the transfer function.  \n",
    "\n",
    "$$ U^E = K_{EU} E$$"
   ]
  },
  {
   "cell_type": "markdown",
   "id": "8debb8ac",
   "metadata": {},
   "source": [
    "$$ K_{EU} = -\\frac{4\\Omega}{24\\Omega} = -\\frac{1}{6}$$"
   ]
  },
  {
   "cell_type": "markdown",
   "id": "9bb17084",
   "metadata": {},
   "source": [
    "As for $U^J$ where $J=0.5\\mathrm{A}$."
   ]
  },
  {
   "cell_type": "code",
   "execution_count": 5,
   "id": "c4f9f294",
   "metadata": {},
   "outputs": [
    {
     "data": {
      "text/plain": [
       "0.6666666666666666"
      ]
     },
     "execution_count": 5,
     "metadata": {},
     "output_type": "execute_result"
    }
   ],
   "source": [
    "I_J = 0.5*(1/16)/((1/16)+(1/8))\n",
    "U_J = 4*I_J\n",
    "U_J"
   ]
  },
  {
   "cell_type": "markdown",
   "id": "5adb4466",
   "metadata": {},
   "source": [
    "\\begin{equation}\\tag{4.3}\n",
    "    U^J = \\frac{2}{3}\\,\\mathrm{V}\n",
    "\\end{equation}    "
   ]
  },
  {
   "cell_type": "markdown",
   "id": "e6fceb73",
   "metadata": {},
   "source": [
    "Another way of finding the value of same quantity:  \n",
    "\n",
    "Via KCL,  \n",
    "\n",
    "$$ 0.5\\mathrm{A} = I_\\mathrm{l} + I_\\mathrm{r}$$"
   ]
  },
  {
   "cell_type": "markdown",
   "id": "06f91337",
   "metadata": {},
   "source": [
    "Via KVL and Ohm's Law,  \n",
    "\n",
    "$$ 8\\Omega\\,I_\\mathrm{l} = (12\\Omega + 4\\Omega)\\,I_\\mathrm{r}$$"
   ]
  },
  {
   "cell_type": "markdown",
   "id": "56b81ff3",
   "metadata": {},
   "source": [
    "$$ I_\\mathrm{l} = 2I_\\mathrm{r}$$"
   ]
  },
  {
   "cell_type": "markdown",
   "id": "fe1eb39d",
   "metadata": {},
   "source": [
    "$$ 3I_\\mathrm{r} = 0.5\\mathrm{A}$$"
   ]
  },
  {
   "cell_type": "markdown",
   "id": "f161f691",
   "metadata": {},
   "source": [
    "$$ I_\\mathrm{r} = \\frac{1}{6}\\,\\mathrm{A}$$"
   ]
  },
  {
   "cell_type": "markdown",
   "id": "1f9fc138",
   "metadata": {},
   "source": [
    "$$ U^J = 4\\Omega\\,I_\\mathrm{r} = \\frac{2}{3}\\,\\mathrm{V}$$"
   ]
  },
  {
   "cell_type": "markdown",
   "id": "7bca3378",
   "metadata": {},
   "source": [
    "$$ U = 3\\mathrm{V} $$"
   ]
  },
  {
   "cell_type": "markdown",
   "id": "e49bbb74",
   "metadata": {},
   "source": [
    "#### Problem 5\n",
    "5. All independent sources (circuit inputs) and a load branch with the current $I:=I_\\mathrm{l}$ (circuit\n",
    "    output) are extracted from a linear circuit, as shown. This current is measured for two\n",
    "    different values of $E$ and $J$:\n",
    "    1. $E=7\\mathrm{V}$, $J=3\\mathrm{A}$: $I_\\mathrm{l} = 1\\mathrm{A}$,\n",
    "    2. $E=9\\mathrm{V}$, $J=1\\mathrm{A}$: $I_\\mathrm{l} = 13\\mathrm{A}$.  \n",
    "    "
   ]
  },
  {
   "cell_type": "markdown",
   "id": "4ecb2f9c",
   "metadata": {},
   "source": [
    "Find:  \n",
    "**a)** transfer functions $K_{EI}$ and $K_{JI}$;     \n",
    "**b)** $I$ when $E=15\\mathrm{V}$ and $J=9\\mathrm{A}$;  \n",
    "**c)** the increase in $J$ required to compensate for the increase of $E$ from $7\\mathrm{V}$ to $9\\mathrm{V}$."
   ]
  },
  {
   "cell_type": "markdown",
   "id": "78c93066",
   "metadata": {},
   "source": [
    "\\begin{equation}\\tag{5.1}\n",
    "    I = I^J + I^E \\quad\\quad I^J = K_{JI}J \\quad\\quad I^E = K_{EI}E\n",
    "\\end{equation}    "
   ]
  },
  {
   "cell_type": "markdown",
   "id": "ca921115",
   "metadata": {},
   "source": [
    "First, we formulate the above equations with the set of values found in entry (A.) of the problem.  \n",
    "\n",
    "\\begin{equation}\\tag{5.1A}\n",
    "    1\\mathrm{A} = K_{JI}3\\mathrm{A} + K_{EI}7\\mathrm{V}\n",
    "\\end{equation}    "
   ]
  },
  {
   "cell_type": "markdown",
   "id": "9f80a11d",
   "metadata": {},
   "source": [
    "Next we formulate the equations in (5.1) with the values found in problem entry (B.).  \n",
    "\n",
    "\\begin{equation}\\tag{5.1B}\n",
    "    13\\mathrm{A} = K_{JI}1\\mathrm{A} + K_{EI}9\\mathrm{V}\n",
    "\\end{equation}"
   ]
  },
  {
   "cell_type": "markdown",
   "id": "6fe0e1bb",
   "metadata": {},
   "source": [
    "Via multiplying throughout equation (5.1B) by $3$ and shuffling some terms around,  \n",
    "\n",
    "\\begin{equation}\\tag{5.2}\n",
    "    K_{JI}3\\mathrm{A} = 39\\mathrm{A} - K_{EI}27\\mathrm{V}\n",
    "\\end{equation}    "
   ]
  },
  {
   "cell_type": "markdown",
   "id": "e6fb587d",
   "metadata": {},
   "source": [
    "Via equations (5.2) and (5.1A),  \n",
    "\n",
    "$$ -38\\mathrm{A} = -K_{EI}20\\mathrm{V}$$"
   ]
  },
  {
   "cell_type": "markdown",
   "id": "4d95c2f4",
   "metadata": {},
   "source": [
    "\\begin{equation}\\tag{5.3}\n",
    "    K_{EI} = \\frac{38\\mathrm{A}}{20\\mathrm{V}} = 1.9\\mathrm{S}\n",
    "\\end{equation}    "
   ]
  },
  {
   "cell_type": "markdown",
   "id": "bd53e3e3",
   "metadata": {},
   "source": [
    "Via equations (5.3) and (5.1B),  \n",
    "\n",
    "$$K_{JI}1\\mathrm{A} = 13\\mathrm{A} - 1.9\\mathrm{S}\\,9\\mathrm{V}$$"
   ]
  },
  {
   "cell_type": "code",
   "execution_count": 6,
   "id": "ae3e9bf7",
   "metadata": {},
   "outputs": [
    {
     "data": {
      "text/plain": [
       "-4.099999999999998"
      ]
     },
     "execution_count": 6,
     "metadata": {},
     "output_type": "execute_result"
    }
   ],
   "source": [
    "13-1.9*9"
   ]
  },
  {
   "cell_type": "markdown",
   "id": "cbca6e8c",
   "metadata": {},
   "source": [
    "\\begin{equation}\\tag{5.4}\n",
    "    K_{JI} = -4.1\n",
    "\\end{equation}    "
   ]
  },
  {
   "cell_type": "markdown",
   "id": "ca77e84a",
   "metadata": {},
   "source": [
    "**b)**  \n",
    "\n",
    "$$I = K_{EI}15\\mathrm{V} + K_{JI}9\\mathrm{A} = -8.4\\mathrm{A}$$"
   ]
  },
  {
   "cell_type": "code",
   "execution_count": 7,
   "id": "aaab2830",
   "metadata": {},
   "outputs": [
    {
     "data": {
      "text/plain": [
       "-8.399999999999999"
      ]
     },
     "execution_count": 7,
     "metadata": {},
     "output_type": "execute_result"
    }
   ],
   "source": [
    "1.9*15 - 4.1*9"
   ]
  },
  {
   "cell_type": "markdown",
   "id": "9cfceb0d",
   "metadata": {},
   "source": [
    "**c)**  We must find $\\Delta J$ such that:  \n",
    "\n",
    "$$ \\Delta I = \\Delta I^J + \\Delta I^E = 0$$"
   ]
  },
  {
   "cell_type": "markdown",
   "id": "6f12db2b",
   "metadata": {},
   "source": [
    "Here,  \n",
    "$$ \\Delta I^E = K_{EI}\\Delta E = 1.9\\mathrm{S}\\,2\\mathrm{V} = 3.8\\mathrm{A}$$"
   ]
  },
  {
   "cell_type": "code",
   "execution_count": 8,
   "id": "154f2097",
   "metadata": {},
   "outputs": [
    {
     "data": {
      "text/plain": [
       "3.8"
      ]
     },
     "execution_count": 8,
     "metadata": {},
     "output_type": "execute_result"
    }
   ],
   "source": [
    "1.9*2"
   ]
  },
  {
   "cell_type": "markdown",
   "id": "d31e4243",
   "metadata": {},
   "source": [
    "Thus,\n",
    "$$ \\Delta I^J = K_{JI}\\Delta J= -3.8\\mathrm{A}$$"
   ]
  },
  {
   "cell_type": "markdown",
   "id": "96d72e67",
   "metadata": {},
   "source": [
    "$$ \\Delta J = \\frac{-3.8\\mathrm{A}}{-4.1} \\approxeq 926.83\\mathrm{mA} $$"
   ]
  },
  {
   "cell_type": "code",
   "execution_count": 9,
   "id": "6fc6805a",
   "metadata": {},
   "outputs": [
    {
     "data": {
      "text/plain": [
       "0.926829268292683"
      ]
     },
     "execution_count": 9,
     "metadata": {},
     "output_type": "execute_result"
    }
   ],
   "source": [
    "3.8/4.1"
   ]
  },
  {
   "cell_type": "markdown",
   "id": "283a333e",
   "metadata": {},
   "source": [
    "#### Problem 6\n",
    "6. The circuit shown is driven by two independent sources. Find transfer functions in the\n",
    "    linear relationship:  $U=K_{EU}E + K_{JU}J$  \n",
    "    \n",
    "![Fig-P.2.7.6](Figures/Fig-P.2.7.6.png)"
   ]
  },
  {
   "cell_type": "markdown",
   "id": "5b8cdadb",
   "metadata": {},
   "source": [
    "$$ K_{EU} = \\frac{7}{11}$$"
   ]
  },
  {
   "cell_type": "markdown",
   "id": "959acbc5",
   "metadata": {},
   "source": [
    "$$ G_1 = \\frac{1}{6\\Omega}\\quad \\text{and} \\quad G_2 = \\frac{1}{16\\Omega}$$"
   ]
  },
  {
   "cell_type": "markdown",
   "id": "503a166d",
   "metadata": {},
   "source": [
    "$$ -I^J = K_{JI}\\,2\\mathrm{A}$$"
   ]
  },
  {
   "cell_type": "markdown",
   "id": "12454482",
   "metadata": {},
   "source": [
    "$$ K_{JI} = \\frac{G_1}{G_1+G_2}\\approxeq 0.73$$"
   ]
  },
  {
   "cell_type": "code",
   "execution_count": 10,
   "id": "0ef042e4",
   "metadata": {},
   "outputs": [],
   "source": [
    "G_1 = 1/6; G_2=1/16"
   ]
  },
  {
   "cell_type": "code",
   "execution_count": 12,
   "id": "a856bb48",
   "metadata": {},
   "outputs": [
    {
     "data": {
      "text/plain": [
       "4.363636363636364"
      ]
     },
     "execution_count": 12,
     "metadata": {},
     "output_type": "execute_result"
    }
   ],
   "source": [
    "1/(G_1+G_2)"
   ]
  },
  {
   "cell_type": "markdown",
   "id": "9b73ad79",
   "metadata": {},
   "source": [
    "$$ U^J = 6\\Omega\\,I^J = -\\frac{1}{G_1+G_2}\\,2\\mathrm{A}$$"
   ]
  },
  {
   "cell_type": "markdown",
   "id": "b5f75d32",
   "metadata": {},
   "source": [
    "$$ K_{JU} = -\\frac{1}{G_1+G_2} \\approxeq  -4.36\\Omega$$"
   ]
  }
 ],
 "metadata": {
  "kernelspec": {
   "display_name": "Python 3",
   "language": "python",
   "name": "python3"
  },
  "language_info": {
   "codemirror_mode": {
    "name": "ipython",
    "version": 3
   },
   "file_extension": ".py",
   "mimetype": "text/x-python",
   "name": "python",
   "nbconvert_exporter": "python",
   "pygments_lexer": "ipython3",
   "version": "3.8.10"
  }
 },
 "nbformat": 4,
 "nbformat_minor": 5
}
