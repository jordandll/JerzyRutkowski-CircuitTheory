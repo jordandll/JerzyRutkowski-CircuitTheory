{
 "cells": [
  {
   "cell_type": "markdown",
   "id": "68c7c80e",
   "metadata": {},
   "source": [
    "# Substitution Theorem\n",
    "\n",
    "### Chapter 2.8 - *DC Analysis*\n",
    "\n",
    "Consider a circuit built of two subcircuits connected in $m$ nodes, as presented in Fig. 2.8.1.\n",
    "Then, the following **substitution theorem**, can be formulated."
   ]
  },
  {
   "cell_type": "markdown",
   "id": "d363bc43",
   "metadata": {},
   "source": [
    "Two subcircuits connected in $m$ nodes can be isolated by means of pairs of voltage\n",
    "and/or current sources connected between the $m$'th node (selected arbitrarily reference node)\n",
    "and each of the other $m-1$ nodes. Value of such voltage source equals the voltage in original\n",
    "circuit, $U_i$. Value of such current source equals the current entering/leaving the node, $I_i$."
   ]
  },
  {
   "cell_type": "markdown",
   "id": "39ed8adb",
   "metadata": {},
   "source": [
    "![Fig-2.8.1-2](Figures/Fig-2.8.1-2.png)"
   ]
  },
  {
   "cell_type": "markdown",
   "id": "82506868",
   "metadata": {},
   "source": [
    "For $m=3$ subcircuits can be isolated by means of two pairs of sources, as presented in Fig.\n",
    "2.8.2 for voltage isolating sources. Then, for calculation of voltages and currents inside\n",
    "subcircuit A, the subcircuit B may be replaced by two independent voltage sources and vice\n",
    "versa."
   ]
  },
  {
   "cell_type": "markdown",
   "id": "88143e96",
   "metadata": {},
   "source": [
    "**Applications of substitution theorem:**\n",
    "1. Independent analyses of subcircuits, if isolating voltages/currents are given, measured or\n",
    "    pre-calculated or set by ideal sources.\n",
    "2. Calculation or measurement of the power transferred from subcircuit A to subcircuit B."
   ]
  },
  {
   "cell_type": "markdown",
   "id": "b079f60f",
   "metadata": {},
   "source": [
    "For subcircuit A presented in Fig. 2.8.2, the power balance is:  \n",
    "\n",
    "\\begin{equation}\\tag{1}\n",
    "    P_\\mathrm{A} = P_1 + P_2 = I_1U_1 + I_2U_2\n",
    "\\end{equation}    "
   ]
  },
  {
   "cell_type": "markdown",
   "id": "0f23b964",
   "metadata": {},
   "source": [
    "### Example 2.8.1\n",
    "For subcircuits presented in Fig. 2.8.3 and the given measurements: $I_A = 0.5\\mathrm{A}$ and $U_V = 18\\mathrm{V}$\n",
    "(both meters are ideal), calculate the transferred power.  \n",
    "\n",
    "![Fig-2.8.3](Figures/Fig-2.8.3.png)"
   ]
  },
  {
   "cell_type": "markdown",
   "id": "6ee76434",
   "metadata": {},
   "source": [
    "Via KVL,  \n",
    "\n",
    "\\begin{equation}\\tag{Ex1.1}\n",
    "    U_2 = 1.5\\mathrm{V}\n",
    "\\end{equation}    "
   ]
  },
  {
   "cell_type": "markdown",
   "id": "074b8130",
   "metadata": {},
   "source": [
    "Via KCL, $I_2 + 3.3\\mathrm{A} - 0.5\\mathrm{A} = 0$."
   ]
  },
  {
   "cell_type": "markdown",
   "id": "7faccf2f",
   "metadata": {},
   "source": [
    "\\begin{equation}\\tag{Ex1.2}\n",
    "    I_2 = -2.8\\mathrm{A}\n",
    "\\end{equation}    "
   ]
  },
  {
   "cell_type": "markdown",
   "id": "1d9fbaf2",
   "metadata": {},
   "source": [
    "Thus,  \n",
    "\n",
    "\\begin{equation}\\tag{Ex1.3}\n",
    "    P_2 = I_2U_2 = -4.2\\mathrm{W}\n",
    "\\end{equation}    "
   ]
  },
  {
   "cell_type": "code",
   "execution_count": 1,
   "id": "80a8efe6",
   "metadata": {},
   "outputs": [
    {
     "data": {
      "text/plain": [
       "-4.199999999999999"
      ]
     },
     "execution_count": 1,
     "metadata": {},
     "output_type": "execute_result"
    }
   ],
   "source": [
    "P_2 = -2.8*1.5\n",
    "P_2"
   ]
  },
  {
   "cell_type": "markdown",
   "id": "06bab3f7",
   "metadata": {},
   "source": [
    "The negative value of $P_2$ implies that subcircuit A is *absorbing* $4.2\\mathrm{W}$ from line \\#2 while subcircuit B is supplying that same amount of power."
   ]
  },
  {
   "cell_type": "markdown",
   "id": "f3389352",
   "metadata": {},
   "source": [
    "Via KVL,  \n",
    "\n",
    "$$ U_1 = 18\\mathrm{V}$$"
   ]
  },
  {
   "cell_type": "markdown",
   "id": "12b2f69e",
   "metadata": {},
   "source": [
    "Via KCL,\n",
    "$$ I_1 = 3.3\\mathrm{A} + 1.2\\mathrm{A} = 4.5\\mathrm{A}$$"
   ]
  },
  {
   "cell_type": "markdown",
   "id": "a2ebc172",
   "metadata": {},
   "source": [
    "Thus,\n",
    "\\begin{equation}\\tag{Ex1.4}\n",
    "    P_1 = U_1I_1 = 81\\mathrm{W}\n",
    "\\end{equation}    "
   ]
  },
  {
   "cell_type": "code",
   "execution_count": 2,
   "id": "f1c59503",
   "metadata": {},
   "outputs": [
    {
     "data": {
      "text/plain": [
       "81.0"
      ]
     },
     "execution_count": 2,
     "metadata": {},
     "output_type": "execute_result"
    }
   ],
   "source": [
    "P_1 = 18*4.5\n",
    "P_1"
   ]
  },
  {
   "cell_type": "markdown",
   "id": "64fb446e",
   "metadata": {},
   "source": [
    "Finally,  \n",
    "\\begin{equation}\\tag{Ex1.5}\n",
    "    P = P_\\mathrm{A} = P_1 + P_2 = 76.8\\mathrm{W}\n",
    "\\end{equation}    "
   ]
  },
  {
   "cell_type": "code",
   "execution_count": 3,
   "id": "c39b3f99",
   "metadata": {},
   "outputs": [
    {
     "data": {
      "text/plain": [
       "76.8"
      ]
     },
     "execution_count": 3,
     "metadata": {},
     "output_type": "execute_result"
    }
   ],
   "source": [
    "P = P_A = P_1 + P_2\n",
    "P"
   ]
  },
  {
   "cell_type": "markdown",
   "id": "de7becaa",
   "metadata": {},
   "source": [
    "The positive value of $P=P_\\mathrm{A}$ implies that subcircuit A is *supplying* $76.8\\mathrm{W}$ to subcircuit B."
   ]
  },
  {
   "cell_type": "markdown",
   "id": "a5765d02",
   "metadata": {},
   "source": [
    "## Drill Problems"
   ]
  },
  {
   "cell_type": "code",
   "execution_count": 4,
   "id": "9d3c3601",
   "metadata": {},
   "outputs": [],
   "source": [
    "import numpy as np"
   ]
  },
  {
   "cell_type": "markdown",
   "id": "16ba3e50",
   "metadata": {},
   "source": [
    "#### Problem 3\n",
    "\n",
    "3. A subcircuit is separated from the rest of a circuit by entering/leaving currents, as shown.\n",
    "    Find $I$ and the power produced (or absorbed) by the $J=1 \\mathrm{A}$ current source.  \n",
    "    \n",
    "![Fig-P.2.8.3](Figures/Fig-P.2.8.3.png)"
   ]
  },
  {
   "cell_type": "markdown",
   "id": "84de92ca",
   "metadata": {},
   "source": [
    "The current flowing through the $4\\Omega$ resistor, denotes as '$I_{4\\Omega}$', is given by, via KCL,  \n",
    "\n",
    "$$ 4\\mathrm{A} - 1\\mathrm{A} - I_{4\\Omega} = 0$$"
   ]
  },
  {
   "cell_type": "markdown",
   "id": "51e8bf18",
   "metadata": {},
   "source": [
    "$$ I_{4\\Omega} = 3\\mathrm{A}$$"
   ]
  },
  {
   "cell_type": "markdown",
   "id": "6b98f8eb",
   "metadata": {},
   "source": [
    "The voltage dropped across said resistor ($U_{4\\Omega}$) is, via Ohm's Law,  \n",
    "\n",
    "$$ U_{4\\Omega} = 4\\Omega \\cdot 3\\mathrm{A} = 12\\mathrm{V}$$"
   ]
  },
  {
   "cell_type": "markdown",
   "id": "7cb6d734",
   "metadata": {},
   "source": [
    "Note that the resistor's arrowheads follow passive sign convention and the voltage drop arrowhead points to the *right*."
   ]
  },
  {
   "cell_type": "markdown",
   "id": "fb89dd61",
   "metadata": {},
   "source": [
    "The current that flows through the $2\\Omega$ resistor is given by, via KCL,  \n",
    "\n",
    "$$ I_{2\\Omega} + 1\\mathrm{A} - 2\\mathrm{A} = 0$$"
   ]
  },
  {
   "cell_type": "markdown",
   "id": "4d71e3d1",
   "metadata": {},
   "source": [
    "Note that the above assumes that $I_{2\\Omega}$ flows to the *right*."
   ]
  },
  {
   "cell_type": "markdown",
   "id": "ce98cab7",
   "metadata": {},
   "source": [
    "$$ I_{2\\Omega} = 1\\mathrm{A}$$"
   ]
  },
  {
   "cell_type": "markdown",
   "id": "07643fa3",
   "metadata": {},
   "source": [
    "Via Ohm's Law,  \n",
    "\n",
    "$$ U_{2\\Omega} = 2\\Omega \\cdot 1\\mathrm{A} = 2\\mathrm{V}$$"
   ]
  },
  {
   "cell_type": "markdown",
   "id": "6f1ee974",
   "metadata": {},
   "source": [
    "Note that the arrowhead of $U_{2\\Omega}$ points to the *left*."
   ]
  },
  {
   "cell_type": "markdown",
   "id": "cecebf3b",
   "metadata": {},
   "source": [
    "Now we can find the voltage running across the current source, denoted as '$U_J$'.  Via KVL,  \n",
    "\n",
    "$$ 4\\mathrm{V} + 12\\mathrm{V} + U_J + 2\\mathrm{V} = 0$$"
   ]
  },
  {
   "cell_type": "markdown",
   "id": "12b502e3",
   "metadata": {},
   "source": [
    "$$ U_J = -18\\mathrm{V}$$"
   ]
  },
  {
   "cell_type": "markdown",
   "id": "f5f2e3cd",
   "metadata": {},
   "source": [
    "The negative value of $JU_J = -18\\mathrm{W}$ in conjunction with the fact that the current source follows active sign convention implies that the current source is *absorbing* $18\\mathrm{W}$ of power."
   ]
  },
  {
   "cell_type": "markdown",
   "id": "1a5aba89",
   "metadata": {},
   "source": [
    "$$ I = 1\\mathrm{A}$$"
   ]
  },
  {
   "cell_type": "markdown",
   "id": "fd3aae60",
   "metadata": {},
   "source": [
    "#### Problem 4\n",
    "4. Find the current flowing through the $4\\Omega$ resistor.  \n",
    "\n",
    "![Fig-P.2.8.4](Figures/Fig-P.2.8.4.png)"
   ]
  },
  {
   "cell_type": "markdown",
   "id": "5d4ff901",
   "metadata": {},
   "source": [
    "First we will use Norton/Thevenin conversions to find the current flowing through the $4\\Omega$ resistor, henceforth '$I_{4\\Omega}$'.  Then we will use Superposition Theorem to find the same value."
   ]
  },
  {
   "cell_type": "markdown",
   "id": "d74da29c",
   "metadata": {},
   "source": [
    "The Norton equivalent of the subcircuit consisting of the voltage source and the two $0.8\\Omega$ resistors is:  \n",
    "\n",
    "$$ J_\\mathrm{s} = \\frac{4\\mathrm{V}}{0.8\\Omega} = 5\\mathrm{A}$$"
   ]
  },
  {
   "cell_type": "code",
   "execution_count": 14,
   "id": "062c9745",
   "metadata": {},
   "outputs": [
    {
     "data": {
      "text/plain": [
       "5.0"
      ]
     },
     "execution_count": 14,
     "metadata": {},
     "output_type": "execute_result"
    }
   ],
   "source": [
    "4/0.8"
   ]
  },
  {
   "cell_type": "markdown",
   "id": "327c6a46",
   "metadata": {},
   "source": [
    "The Thevenin equivalent of the $(5\\mathrm{A} + 2\\mathrm{A}, 0.8\\Omega)$ is:  \n",
    "\n",
    "$$ E_\\mathrm{o} = 7\\mathrm{A}\\,0.8\\Omega =5.6\\mathrm{V}$$"
   ]
  },
  {
   "cell_type": "code",
   "execution_count": 15,
   "id": "ededb10a",
   "metadata": {},
   "outputs": [
    {
     "data": {
      "text/plain": [
       "5.6000000000000005"
      ]
     },
     "execution_count": 15,
     "metadata": {},
     "output_type": "execute_result"
    }
   ],
   "source": [
    "7*0.8"
   ]
  },
  {
   "cell_type": "markdown",
   "id": "b67b6710",
   "metadata": {},
   "source": [
    "Via KVL and Ohm's Law,  \n",
    "\n",
    "\\begin{equation}\\tag{4.1}"
   ]
  },
  {
   "cell_type": "markdown",
   "id": "ee541a00",
   "metadata": {},
   "source": [
    "Now, using [Superposition Theorem](Superposition-TransferFunction.ipynb):"
   ]
  },
  {
   "cell_type": "markdown",
   "id": "9ec8e018",
   "metadata": {},
   "source": [
    "First we find the response of $I_{4\\Omega}$ to the current source $J=2\\mathrm{A}$."
   ]
  },
  {
   "cell_type": "markdown",
   "id": "f434593c",
   "metadata": {},
   "source": [
    "Via KVL and Ohm's Law,  \n",
    "\n",
    "\\begin{equation}\\tag{4.a.1}\n",
    "    4\\Omega\\,I_{4\\Omega}^J = 6\\Omega\\,I_{6\\Omega}^J\n",
    "\\end{equation}    "
   ]
  },
  {
   "cell_type": "markdown",
   "id": "e2d5025e",
   "metadata": {},
   "source": [
    "and\n",
    "\\begin{equation}\\tag{4.a.2}\n",
    "    U_J^J = 1.6\\Omega\\,J + 4\\Omega\\,I_{4\\Omega}^J = 3.2\\mathrm{V} + 4\\Omega\\,I_{4\\Omega}^J\n",
    "\\end{equation}    "
   ]
  },
  {
   "cell_type": "markdown",
   "id": "e2f182e9",
   "metadata": {},
   "source": [
    "Via KCL,  \n",
    "\n",
    "\\begin{equation}\\tag{4.a.3}\n",
    "    2\\mathrm{A} = I_{4\\Omega}^J + I_{6\\Omega}^J\n",
    "\\end{equation}"
   ]
  },
  {
   "cell_type": "markdown",
   "id": "1136a61d",
   "metadata": {},
   "source": [
    "Via equations (4.a.1) and (4.a.3),  \n",
    "\n",
    "$$ 2\\mathrm{A} = I_{4\\Omega}^J + \\frac{2}{3}\\,I_{4\\Omega}^J$$"
   ]
  },
  {
   "cell_type": "markdown",
   "id": "5364b139",
   "metadata": {},
   "source": [
    "$$ 2\\mathrm{A} = \\frac{5}{3}\\,I_{4\\Omega}^J$$"
   ]
  },
  {
   "cell_type": "markdown",
   "id": "1e8e9701",
   "metadata": {},
   "source": [
    "\\begin{equation}\\tag{4.a.4}\n",
    "    I_{4\\Omega}^J = \\frac{6}{5}\\,\\mathrm{A} = 1.2\\mathrm{A}\n",
    "\\end{equation}    "
   ]
  },
  {
   "cell_type": "markdown",
   "id": "3b0bac8b",
   "metadata": {},
   "source": [
    "Now, we find the response of $I_{4\\Omega}$ to the voltage source $E=4\\mathrm{V}$."
   ]
  },
  {
   "cell_type": "markdown",
   "id": "3081c02e",
   "metadata": {},
   "source": [
    "Via KVL and Ohm's Law,  \n",
    "\n",
    "\\begin{equation}\\tag{4.b.1}\n",
    "    4\\Omega\\,I_{4\\Omega}^E = 6\\Omega\\,I_{6\\Omega}^E\n",
    "\\end{equation}    "
   ]
  },
  {
   "cell_type": "markdown",
   "id": "46693ed7",
   "metadata": {},
   "source": [
    "and,\n",
    "\\begin{equation}\\tag{4.b.2}\n",
    "    E = 4\\mathrm{V} = 1.6\\Omega\\,I + 4\\Omega\\,I_{4\\Omega}^E\n",
    "\\end{equation}    "
   ]
  },
  {
   "cell_type": "markdown",
   "id": "ca0d1c89",
   "metadata": {},
   "source": [
    "Via KCL,  \n",
    "\n",
    "\\begin{equation}\\tag{4.b.3}\n",
    "    I = I_{4\\Omega}^E + I_{6\\Omega}^E\n",
    "\\end{equation}"
   ]
  },
  {
   "cell_type": "markdown",
   "id": "08fc592e",
   "metadata": {},
   "source": [
    "Via equation (4.b.3) and (4.b.1),  \n",
    "\n",
    "\\begin{equation}\\tag{4.b.4}\n",
    "    I = \\frac{5}{3}\\,I_{4\\Omega}^E\n",
    "\\end{equation}    "
   ]
  },
  {
   "cell_type": "code",
   "execution_count": 8,
   "id": "90b0c29f",
   "metadata": {},
   "outputs": [
    {
     "data": {
      "text/plain": [
       "2.6666666666666665"
      ]
     },
     "execution_count": 8,
     "metadata": {},
     "output_type": "execute_result"
    }
   ],
   "source": [
    "1.6*5/3"
   ]
  },
  {
   "cell_type": "markdown",
   "id": "3c152f4c",
   "metadata": {},
   "source": [
    "Via equations (4.b.4) and (4.b.2),  \n",
    "\n",
    "$$ 4\\mathrm{V} = \\frac{8}{3}\\,\\Omega\\,I_{4\\Omega}^E + 4\\Omega\\,I_{4\\Omega}^E$$"
   ]
  },
  {
   "cell_type": "markdown",
   "id": "aa6c19b4",
   "metadata": {},
   "source": [
    "$$ 4\\mathrm{V} = \\frac{20}{3}\\,\\Omega\\,I_{4\\Omega}^E$$"
   ]
  },
  {
   "cell_type": "markdown",
   "id": "4cb1fb55",
   "metadata": {},
   "source": [
    "\\begin{equation}\\tag{4.b.5}\n",
    "    I_{4\\Omega}^E = \\frac{3}{5}\\,\\mathrm{A} = 600\\mathrm{mA}\n",
    "\\end{equation}    "
   ]
  }
 ],
 "metadata": {
  "kernelspec": {
   "display_name": "Python 3",
   "language": "python",
   "name": "python3"
  },
  "language_info": {
   "codemirror_mode": {
    "name": "ipython",
    "version": 3
   },
   "file_extension": ".py",
   "mimetype": "text/x-python",
   "name": "python",
   "nbconvert_exporter": "python",
   "pygments_lexer": "ipython3",
   "version": "3.8.10"
  }
 },
 "nbformat": 4,
 "nbformat_minor": 5
}
