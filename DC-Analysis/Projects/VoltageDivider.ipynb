{
 "cells": [
  {
   "cell_type": "markdown",
   "id": "3452e244",
   "metadata": {},
   "source": [
    "# Voltage Divider\n",
    "Suppose we have a potentiometer (voltage divider) with a max output resistance of $R_\\mathrm{p}=R_\\max$;  In other words, the resistance that is in parallel with the load, or, the resistance in between the two terminals of the potentiometer that the load is connected to, aptly denoted as '$R_\\mathrm{p}$', satisfies the inequality, $0\\le R_\\mathrm{p}\\le R_\\max$.  The load has a resistance of $R_\\mathrm{l}$.  We need to find the resistance, denoted as '$R$', that needs to be placed in series with the potentiometer to ensure that the max output voltage ($U_\\max$) is no greater than $3\\mathrm{V}$.  The DC voltage source of this series connection is $E=9\\mathrm{V}$."
   ]
  },
  {
   "cell_type": "markdown",
   "id": "00f7e3c8",
   "metadata": {},
   "source": [
    "In general, the output voltage, denoted as '$U:=U_\\mathrm{out}$', is given by:  \n",
    "\n",
    "$$ U = R_\\mathrm{t}I \\quad\\quad\\text{where }\\; G_\\mathrm{t} = \\frac{1}{R_\\mathrm{t}} = G_\\mathrm{p} + G_\\mathrm{l} = \\frac{R_\\mathrm{p}+R_\\mathrm{l}}{R_\\mathrm{p}R_\\mathrm{l}}$$"
   ]
  },
  {
   "cell_type": "markdown",
   "id": "8461351e",
   "metadata": {},
   "source": [
    "The max output voltage, for any given voltage source,  is reached when $R_\\mathrm{p}=R_\\max$.  \n",
    "\n",
    "$$ U_\\max = U_\\mathrm{out} = U_{\\big| R_\\mathrm{p}=R_\\max}$$"
   ]
  },
  {
   "cell_type": "markdown",
   "id": "1a7919dd",
   "metadata": {},
   "source": [
    "Via the above two equations,  \n",
    "\n",
    "$$ U_\\max = \\frac{R_\\max R_\\mathrm{l}}{R_\\max + R_\\mathrm{l}}\\,I\\le3\\mathrm{V}$$"
   ]
  },
  {
   "cell_type": "markdown",
   "id": "1c0780be",
   "metadata": {},
   "source": [
    "And, via KVL and Ohm's Law,  \n",
    "\n",
    "$$ I = \\frac{E}{R_\\mathrm{t}+R}$$"
   ]
  },
  {
   "cell_type": "markdown",
   "id": "fd010c23",
   "metadata": {},
   "source": [
    "Thus,  \n",
    "\n",
    "$$ U_\\max = \\frac{R_\\mathrm{t}E}{R_\\mathrm{t}+R} \\le 3\\mathrm{V}$$"
   ]
  },
  {
   "cell_type": "markdown",
   "id": "0f8ca50c",
   "metadata": {},
   "source": [
    "$$ R\\cdot 3\\mathrm{V} \\ge R_\\mathrm{t}\\big(E-3\\mathrm{V}\\big)$$"
   ]
  },
  {
   "cell_type": "markdown",
   "id": "3b3bcd11",
   "metadata": {},
   "source": [
    "Finally,  \n",
    "\n",
    "$$ R \\ge R_\\mathrm{t}\\,\\left(\\frac{E}{3\\mathrm{V}} - 1\\right)$$"
   ]
  },
  {
   "cell_type": "code",
   "execution_count": 8,
   "id": "bc1eb424",
   "metadata": {},
   "outputs": [
    {
     "name": "stdout",
     "output_type": "stream",
     "text": [
      "6400.0\n",
      "7999.999920000001\n"
     ]
    }
   ],
   "source": [
    "E = 9; R_max=1e3; R_l = 4000\n",
    "R_t = R_max*R_l/(R_max + R_l)\n",
    "print(R_t*(8))\n",
    "R_l = 100e9\n",
    "R_t = R_max*R_l/(R_max + R_l)\n",
    "print(R_t*(8))"
   ]
  },
  {
   "cell_type": "code",
   "execution_count": 3,
   "id": "42564c8b",
   "metadata": {},
   "outputs": [
    {
     "data": {
      "text/plain": [
       "909.0909090909091"
      ]
     },
     "execution_count": 3,
     "metadata": {},
     "output_type": "execute_result"
    }
   ],
   "source": [
    "R_l = 1000\n",
    "R_t = R_max*R_l/(R_max + R_l)\n",
    "R_t"
   ]
  },
  {
   "cell_type": "code",
   "execution_count": 13,
   "id": "c6eed591",
   "metadata": {},
   "outputs": [],
   "source": [
    "def U_max(R):\n",
    "    return R_t*E/(R_t + R)"
   ]
  },
  {
   "cell_type": "code",
   "execution_count": 21,
   "id": "3efe7ff4",
   "metadata": {},
   "outputs": [
    {
     "data": {
      "text/plain": [
       "1.4792899408284024"
      ]
     },
     "execution_count": 21,
     "metadata": {},
     "output_type": "execute_result"
    }
   ],
   "source": [
    "U_max(124)"
   ]
  },
  {
   "cell_type": "markdown",
   "id": "6a459ed9",
   "metadata": {},
   "source": [
    "### Results\n",
    "$$ E\\approx 9\\mathrm{V} \\quad\\quad U_\\max\\approx 3\\mathrm{V} \\quad\\quad R_\\max \\approx 1\\mathrm{k}\\Omega \\quad\\quad R \\approx 1000\\Omega$$"
   ]
  },
  {
   "cell_type": "markdown",
   "id": "1fb51d48",
   "metadata": {},
   "source": [
    "$$ R_\\mathrm{t} E = U_\\max(R_\\mathrm{t} + R)$$"
   ]
  },
  {
   "cell_type": "markdown",
   "id": "f937c2bd",
   "metadata": {},
   "source": [
    "$$ R_\\mathrm{t} = \\frac{U_\\max R}{E-U_\\max} = \\frac{R_\\max R_\\mathrm{l}}{R_\\max + R_\\mathrm{l}} \\approxeq \\frac{3000}{6}\\,\\Omega = 500\\Omega$$"
   ]
  },
  {
   "cell_type": "markdown",
   "id": "5ddf4351",
   "metadata": {},
   "source": [
    "$$ R_\\max R_\\mathrm{l} \\approxeq 500\\Omega(R_\\max + R_\\mathrm{l})$$"
   ]
  },
  {
   "cell_type": "markdown",
   "id": "15813ff2",
   "metadata": {},
   "source": [
    "$$ R_\\mathrm{l}\\approxeq \\frac{500\\Omega R_\\max}{R_\\max - 500\\Omega}$$"
   ]
  },
  {
   "cell_type": "code",
   "execution_count": 10,
   "id": "4d99cae3",
   "metadata": {},
   "outputs": [
    {
     "data": {
      "text/plain": [
       "1000.0"
      ]
     },
     "execution_count": 10,
     "metadata": {},
     "output_type": "execute_result"
    }
   ],
   "source": [
    "R_l = 500*R_max/(R_max-500)\n",
    "R_l"
   ]
  },
  {
   "cell_type": "markdown",
   "id": "aa3b4f14",
   "metadata": {},
   "source": [
    "### Application\n",
    "Assuming,  \n",
    "\n",
    "$$ U_\\max = 5\\mathrm{V} \\quad\\quad R_\\mathrm{l} = 25\\Omega$$"
   ]
  },
  {
   "cell_type": "markdown",
   "id": "f1949bdf",
   "metadata": {},
   "source": [
    "find $R$."
   ]
  },
  {
   "cell_type": "code",
   "execution_count": 23,
   "id": "dd167e9f",
   "metadata": {},
   "outputs": [
    {
     "data": {
      "text/plain": [
       "-4.761904761904761"
      ]
     },
     "execution_count": 23,
     "metadata": {},
     "output_type": "execute_result"
    }
   ],
   "source": [
    "R_l = 50; U_max=10\n",
    "R_t = R_max*R_l/(R_max + R_l)\n",
    "R = R_t*(E/U_max - 1)\n",
    "R"
   ]
  },
  {
   "cell_type": "code",
   "execution_count": 20,
   "id": "93dadbc7",
   "metadata": {},
   "outputs": [
    {
     "data": {
      "text/plain": [
       "124.06015037593986"
      ]
     },
     "execution_count": 20,
     "metadata": {},
     "output_type": "execute_result"
    }
   ],
   "source": [
    "1/(1/500+2/330)"
   ]
  }
 ],
 "metadata": {
  "kernelspec": {
   "display_name": "Python 3",
   "language": "python",
   "name": "python3"
  },
  "language_info": {
   "codemirror_mode": {
    "name": "ipython",
    "version": 3
   },
   "file_extension": ".py",
   "mimetype": "text/x-python",
   "name": "python",
   "nbconvert_exporter": "python",
   "pygments_lexer": "ipython3",
   "version": "3.8.10"
  }
 },
 "nbformat": 4,
 "nbformat_minor": 5
}
