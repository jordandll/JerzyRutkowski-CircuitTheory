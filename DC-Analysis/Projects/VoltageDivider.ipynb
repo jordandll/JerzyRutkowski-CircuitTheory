{
 "cells": [
  {
   "cell_type": "markdown",
   "id": "8d6b4611",
   "metadata": {},
   "source": [
    "# Voltage Divider\n",
    "Suppose we have a potentiometer (voltage divider) with a max output resistance of $R_\\mathrm{p}=R_\\max$;  In other words, the resistance that is in parallel with the load, or, the resistance in between the two terminals of the potentiometer that the load is connected to, aptly denoted as '$R_\\mathrm{p}$', satisfies the inequality, $0\\le R_\\mathrm{p}\\le R_\\max$.  The load has a resistance of $R_\\mathrm{l}$.  We need to find the resistance, denoted as '$R$', that needs to be placed in series with the potentiometer to ensure that the max output voltage ($U_\\max$) is no greater than $3\\mathrm{V}$.  The DC voltage source of this series connection is $E=9\\mathrm{V}$."
   ]
  },
  {
   "cell_type": "markdown",
   "id": "cb57cba0",
   "metadata": {},
   "source": [
    "In general, the output voltage, denoted as '$U:=U_\\mathrm{out}$', is given by:  \n",
    "\n",
    "$$ U = R_\\mathrm{t}I \\quad\\quad\\text{where }\\; G_\\mathrm{t} = \\frac{1}{R_\\mathrm{t}} = G_\\mathrm{p} + G_\\mathrm{l} = \\frac{R_\\mathrm{p}+R_\\mathrm{l}}{R_\\mathrm{p}R_\\mathrm{l}}$$"
   ]
  },
  {
   "cell_type": "markdown",
   "id": "6927b5cf",
   "metadata": {},
   "source": [
    "The max output voltage, for any given voltage source,  is reached when $R_\\mathrm{p}=R_\\max$.  \n",
    "\n",
    "$$ U_\\max = U_\\mathrm{out} = U_{\\big| R_\\mathrm{p}=R_\\max}$$"
   ]
  },
  {
   "cell_type": "markdown",
   "id": "2a6fbd05",
   "metadata": {},
   "source": [
    "Via the above two equations,  \n",
    "\n",
    "$$ U_\\max = \\frac{R_\\max R_\\mathrm{l}}{R_\\max + R_\\mathrm{l}}\\,I\\le3\\mathrm{V}$$"
   ]
  },
  {
   "cell_type": "markdown",
   "id": "d9081446",
   "metadata": {},
   "source": [
    "And, via KVL and Ohm's Law,  \n",
    "\n",
    "$$ I = \\frac{E}{R_\\mathrm{t}+R}$$"
   ]
  },
  {
   "cell_type": "markdown",
   "id": "2806f3da",
   "metadata": {},
   "source": [
    "Thus,  \n",
    "\n",
    "$$ U_\\max = \\frac{R_\\mathrm{t}E}{R_\\mathrm{t}+R} \\le 3\\mathrm{V}$$"
   ]
  },
  {
   "cell_type": "markdown",
   "id": "2c306670",
   "metadata": {},
   "source": [
    "$$ R\\cdot 3\\mathrm{V} \\ge R_\\mathrm{t}\\big(E-3\\mathrm{V}\\big)$$"
   ]
  },
  {
   "cell_type": "markdown",
   "id": "8e368a9c",
   "metadata": {},
   "source": [
    "Finally,  \n",
    "\n",
    "$$ R \\ge R_\\mathrm{t}\\,\\left(\\frac{E}{3\\mathrm{V}} - 1\\right)$$"
   ]
  },
  {
   "cell_type": "code",
   "execution_count": 5,
   "id": "2a14f7d1",
   "metadata": {},
   "outputs": [
    {
     "name": "stdout",
     "output_type": "stream",
     "text": [
      "22857.14285714286\n",
      "79999.9920000008\n"
     ]
    }
   ],
   "source": [
    "E = 9; R_max=10e3; R_l = 4000\n",
    "R_t = R_max*R_l/(R_max + R_l)\n",
    "print(R_t*(8))\n",
    "R_l = 100e9\n",
    "R_t = R_max*R_l/(R_max + R_l)\n",
    "print(R_t*(8))"
   ]
  },
  {
   "cell_type": "code",
   "execution_count": 4,
   "id": "6f352081",
   "metadata": {},
   "outputs": [
    {
     "data": {
      "text/plain": [
       "990.0990099009902"
      ]
     },
     "execution_count": 4,
     "metadata": {},
     "output_type": "execute_result"
    }
   ],
   "source": [
    "R_l = 1000\n",
    "R_t = R_max*R_l/(R_max + R_l)\n",
    "R_t"
   ]
  }
 ],
 "metadata": {
  "kernelspec": {
   "display_name": "Python 3",
   "language": "python",
   "name": "python3"
  },
  "language_info": {
   "codemirror_mode": {
    "name": "ipython",
    "version": 3
   },
   "file_extension": ".py",
   "mimetype": "text/x-python",
   "name": "python",
   "nbconvert_exporter": "python",
   "pygments_lexer": "ipython3",
   "version": "3.8.10"
  }
 },
 "nbformat": 4,
 "nbformat_minor": 5
}
