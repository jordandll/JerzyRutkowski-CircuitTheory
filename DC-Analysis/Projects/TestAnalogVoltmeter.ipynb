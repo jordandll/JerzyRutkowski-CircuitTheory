{
 "cells": [
  {
   "cell_type": "markdown",
   "id": "5fafaf96",
   "metadata": {},
   "source": [
    "# Testing 3V Analog Voltmeter\n",
    "\n",
    "In this project we will test the $3\\mathrm{V}$ [analog voltmeter](https://www.adafruit.com/product/3989) by connecting it in parallel with a small resistor that is in series with a large resistor and a $9\\mathrm{V}$ DC voltage source.  The aforementioned voltage source is actually a [DC barrel jack](https://www.adafruit.com/product/373) connected to a $9\\mathrm{V}$ Duracell battery."
   ]
  },
  {
   "cell_type": "markdown",
   "id": "b0eb3ec0",
   "metadata": {},
   "source": [
    "### Ignoring the Barrel Jack\n",
    "Assuming the DC barrel jack's characteristics have insignificant effects on the rest of the circuit, and thus ignoring it all together, the circuit is of the form:  $9\\mathrm{V}--R_1--R_2//R_\\mathrm{V}$  where $R_1>>R_2$ and '$R_\\mathrm{V}$' denotes the resistance of the voltmeter."
   ]
  },
  {
   "cell_type": "markdown",
   "id": "16e2242a",
   "metadata": {},
   "source": [
    "Via KVL and Ohm's Law,  \n",
    "\n",
    "\\begin{equation}\\tag{1}\n",
    "    9\\mathrm{V} = R_1I_1 + R_2I_2\n",
    "\\end{equation}    "
   ]
  },
  {
   "cell_type": "markdown",
   "id": "f8123f16",
   "metadata": {},
   "source": [
    "\\begin{equation}\\tag{2}\n",
    "    R_2I_2 = R_\\mathrm{V}I_\\mathrm{V}\n",
    "\\end{equation}    "
   ]
  },
  {
   "cell_type": "markdown",
   "id": "848585d7",
   "metadata": {},
   "source": [
    "Via KCL,  \n",
    "\n",
    "\\begin{equation}\\tag{3}\n",
    "    I_1 = I_2 + I_\\mathrm{V}\n",
    "\\end{equation}    "
   ]
  },
  {
   "cell_type": "markdown",
   "id": "98a61c74",
   "metadata": {},
   "source": [
    "Via equations (3) and (1) and substitution,  \n",
    "\n",
    "\\begin{equation}\\tag{4}\n",
    "    9\\mathrm{V} = R_1(I_2 + I_\\mathrm{V}) +R_2I_2\n",
    "\\end{equation}    "
   ]
  },
  {
   "cell_type": "markdown",
   "id": "70f2cc55",
   "metadata": {},
   "source": [
    "Via equations (4) and (2),  \n",
    "\n",
    "$$ 9\\mathrm{V} = R_1\\left(I_2 + \\frac{R_2I_2}{R_\\mathrm{V}}\\right) + R_2I_2$$"
   ]
  },
  {
   "cell_type": "markdown",
   "id": "c0948de4",
   "metadata": {},
   "source": [
    "$$ 9\\mathrm{V} = R_1I_2\\left(1 + \\frac{R_2}{R_\\mathrm{V}}\\right) + R_2I_2= R_1I_2\\,\\frac{R_\\mathrm{V} + R_2}{R_\\mathrm{V}} + R_2I_2= I_2\\left(R_1\\,\\frac{R_\\mathrm{V}+R_2}{R_\\mathrm{V}} + R_2\\right)$$"
   ]
  },
  {
   "cell_type": "markdown",
   "id": "b2e2c319",
   "metadata": {},
   "source": [
    "$$ 9\\mathrm{V} = I_2\\,\\frac{R_1(R_\\mathrm{V}+R_2) + R_\\mathrm{V}R_2}{R_\\mathrm{V}}$$"
   ]
  },
  {
   "cell_type": "markdown",
   "id": "b434ef81",
   "metadata": {},
   "source": [
    "\\begin{equation}\\tag{5}\n",
    "    I_2 = \\frac{9\\mathrm{V}R_\\mathrm{V}}{R_1(R_\\mathrm{V}+R_2) + R_\\mathrm{V}R_2}\n",
    "\\end{equation}    "
   ]
  },
  {
   "cell_type": "markdown",
   "id": "bf9beec9",
   "metadata": {},
   "source": [
    "Via equations (2) and (5) and Ohm's Law,  \n",
    "\n",
    "\\begin{equation}\\tag{6}\n",
    "    U_\\mathrm{V} = 9\\mathrm{V}\\,\\frac{R_2R_\\mathrm{V}}{R_1(R_\\mathrm{V}+R_2) + R_\\mathrm{V}R_2}\n",
    "\\end{equation}    "
   ]
  },
  {
   "cell_type": "code",
   "execution_count": 1,
   "id": "c06de719",
   "metadata": {},
   "outputs": [],
   "source": [
    "def U_V_gen(R_1, R_2):\n",
    "    return lambda R_V: 9*R_2*R_V/(R_1*(R_V+R_2) + R_V*R_2)"
   ]
  },
  {
   "cell_type": "code",
   "execution_count": 5,
   "id": "00fcf4ad",
   "metadata": {},
   "outputs": [],
   "source": [
    "U_V = U_V_gen(1e3, 330)"
   ]
  },
  {
   "cell_type": "code",
   "execution_count": 9,
   "id": "f52fecdf",
   "metadata": {},
   "outputs": [
    {
     "data": {
      "text/plain": [
       "2.2325287710568054"
      ]
     },
     "execution_count": 9,
     "metadata": {},
     "output_type": "execute_result"
    }
   ],
   "source": [
    "U_V(1e6)"
   ]
  },
  {
   "cell_type": "markdown",
   "id": "4c0dfcc8",
   "metadata": {},
   "source": [
    "Via equations (1) and (5) and Ohm's Law,  \n",
    "\n",
    "$$ U_1 = 9\\mathrm{V}\\,\\left(1 - \\frac{R_2R_\\mathrm{V}}{R_1(R_\\mathrm{V}+R_2) + R_\\mathrm{V}R_2}\\right)$$"
   ]
  },
  {
   "cell_type": "markdown",
   "id": "da7620da",
   "metadata": {},
   "source": [
    "$$ U_1 = 9\\mathrm{V}\\,\\frac{R_1(R_\\mathrm{V}+R_2)}{R_1(R_\\mathrm{V}+R_2) + R_\\mathrm{V}R_2}$$"
   ]
  },
  {
   "cell_type": "markdown",
   "id": "f7cc8764",
   "metadata": {},
   "source": [
    "Assuming $R_2 = 330\\Omega$ and $R_1=10\\mathrm{k}\\Omega$, but $R_\\mathrm{V}$ is unknown, we can find $R_\\mathrm{V}$ by taking a voltmeter indication ($U_\\mathrm{V}$) and using equation (6) to solve for $R_\\mathrm{V}$.  Via equation (6),  \n",
    "\n",
    "$$ U_\\mathrm{V}\\big(R_1(R_\\mathrm{V}+R_2) + R_\\mathrm{V}R_2 \\big) = 9\\mathrm{V}R_2R_\\mathrm{V}$$"
   ]
  },
  {
   "cell_type": "markdown",
   "id": "179ebc28",
   "metadata": {},
   "source": [
    "$$  U_\\mathrm{V}R_1R_2  = 9\\mathrm{V}R_2R_\\mathrm{V} -U_\\mathrm{V}R_1R_\\mathrm{V} - U_\\mathrm{V}R_\\mathrm{V}R_2$$"
   ]
  },
  {
   "cell_type": "markdown",
   "id": "9fd933e3",
   "metadata": {},
   "source": [
    "$$ R_\\mathrm{V}(9\\mathrm{V}R_2 - U_\\mathrm{V}R_1 - U_\\mathrm{V}R_2) = U_\\mathrm{V}R_1R_2$$"
   ]
  },
  {
   "cell_type": "markdown",
   "id": "799a04ce",
   "metadata": {},
   "source": [
    "Finally,\n",
    "\\begin{equation}\\tag{7}\n",
    "    R_\\mathrm{V} = \\frac{U_\\mathrm{V}R_1R_2}{9\\mathrm{V}R_2 - U_\\mathrm{V}R_1 - U_\\mathrm{V}R_2}\n",
    "\\end{equation}    "
   ]
  },
  {
   "cell_type": "markdown",
   "id": "084b96bd",
   "metadata": {},
   "source": [
    "Note that $U_\\mathrm{V} \\le 3\\mathrm{V}$.  Via the aforementioned inequality and equation (6),  \n",
    "\n",
    "$$ 3R_2R_\\mathrm{V} \\le  R_1(R_\\mathrm{V}+R_2) + R_\\mathrm{V}R_2$$"
   ]
  },
  {
   "cell_type": "markdown",
   "id": "ccf5c045",
   "metadata": {},
   "source": [
    "$$ R_\\mathrm{V}(3R_2 - R_1 - R_2)\\le R_1R_2$$"
   ]
  },
  {
   "cell_type": "markdown",
   "id": "fbe7df2a",
   "metadata": {},
   "source": [
    "\\begin{equation}\\tag{8}\n",
    "    R_\\mathrm{V} \\ge \\frac{R_1R_2}{2R_2-R_1} \\approxeq \\frac{3.3\\mathrm{M}\\Omega^2}{10\\mathrm{k}\\Omega} = 0.33\\mathrm{k}\\Omega = 330\\Omega\n",
    "\\end{equation}    "
   ]
  }
 ],
 "metadata": {
  "kernelspec": {
   "display_name": "Python 3",
   "language": "python",
   "name": "python3"
  },
  "language_info": {
   "codemirror_mode": {
    "name": "ipython",
    "version": 3
   },
   "file_extension": ".py",
   "mimetype": "text/x-python",
   "name": "python",
   "nbconvert_exporter": "python",
   "pygments_lexer": "ipython3",
   "version": "3.8.10"
  }
 },
 "nbformat": 4,
 "nbformat_minor": 5
}
