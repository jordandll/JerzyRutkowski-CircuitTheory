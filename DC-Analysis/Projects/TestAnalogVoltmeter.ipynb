{
 "cells": [
  {
   "cell_type": "markdown",
   "id": "9a5ad3ae",
   "metadata": {},
   "source": [
    "# Testing 3V Analog Voltmeter\n",
    "\n",
    "In this project we will test the $3\\mathrm{V}$ [analog voltmeter](https://www.adafruit.com/product/3989) by connecting it in parallel with a small resistor that is in series with a large resistor, a $1.85\\mathrm{V}$ (typical) [LED](https://cdn-shop.adafruit.com/datasheets/WP7113SRD-D.pdf), and a $9\\mathrm{V}$ DC voltage source.  The aforementioned voltage source is actually a [DC barrel jack](https://www.adafruit.com/product/373) connected to a $9\\mathrm{V}$ Duracell battery.  \n",
    "\n",
    "Note that the LED is to provide  another indication that the circuit is closed."
   ]
  },
  {
   "cell_type": "markdown",
   "id": "5f2e7cbc",
   "metadata": {},
   "source": [
    "### Ignoring the Barrel Jack\n",
    "Assuming the DC barrel jack's characteristics have insignificant effects on the rest of the circuit, and thus ignoring it all together, the circuit is of the form:  $9\\mathrm{V}--1.85\\mathrm{V}--R_1--R_2//R_\\mathrm{V}$  where $R_1>>R_2$ and '$R_\\mathrm{V}$' denotes the resistance of the voltmeter."
   ]
  },
  {
   "cell_type": "markdown",
   "id": "19b01b72",
   "metadata": {},
   "source": [
    "Via KVL and Ohm's Law,  \n",
    "\n",
    "\\begin{equation}\\tag{1}\n",
    "    7.15\\mathrm{V} = R_1I_1 + R_2I_2\n",
    "\\end{equation}    "
   ]
  },
  {
   "cell_type": "markdown",
   "id": "5971911f",
   "metadata": {},
   "source": [
    "\\begin{equation}\\tag{2}\n",
    "    R_2I_2 = R_\\mathrm{V}I_\\mathrm{V}\n",
    "\\end{equation}    "
   ]
  },
  {
   "cell_type": "markdown",
   "id": "50aae8aa",
   "metadata": {},
   "source": [
    "Via KCL,  \n",
    "\n",
    "\\begin{equation}\\tag{3}\n",
    "    I_1 = I_2 + I_\\mathrm{V}\n",
    "\\end{equation}    "
   ]
  },
  {
   "cell_type": "markdown",
   "id": "602c8c6a",
   "metadata": {},
   "source": [
    "Via equations (3) and (1) and substitution,  \n",
    "\n",
    "\\begin{equation}\\tag{4}\n",
    "    7.15\\mathrm{V} = R_1(I_2 + I_\\mathrm{V}) +R_2I_2\n",
    "\\end{equation}    "
   ]
  },
  {
   "cell_type": "markdown",
   "id": "a80e2a4c",
   "metadata": {},
   "source": [
    "Via equations (4) and (2),  \n",
    "\n",
    "$$ 7.15\\mathrm{V} = R_1\\left(I_2 + \\frac{R_2I_2}{R_\\mathrm{V}}\\right) + R_2I_2$$"
   ]
  },
  {
   "cell_type": "markdown",
   "id": "cbd754c4",
   "metadata": {},
   "source": [
    "$$ 7.15\\mathrm{V} = R_1I_2\\left(1 + \\frac{R_2}{R_\\mathrm{V}}\\right) + R_2I_2= R_1I_2\\,\\frac{R_\\mathrm{V} + R_2}{R_\\mathrm{V}} + R_2I_2= I_2\\left(R_1\\,\\frac{R_\\mathrm{V}+R_2}{R_\\mathrm{V}} + R_2\\right)$$"
   ]
  },
  {
   "cell_type": "markdown",
   "id": "922eb3a1",
   "metadata": {},
   "source": [
    "$$ 7.15\\mathrm{V} = I_2\\,\\frac{R_1(R_\\mathrm{V}+R_2) + R_\\mathrm{V}R_2}{R_\\mathrm{V}}$$"
   ]
  },
  {
   "cell_type": "markdown",
   "id": "db2d1bd8",
   "metadata": {},
   "source": [
    "\\begin{equation}\\tag{5}\n",
    "    I_2 = \\frac{7.15\\mathrm{V}R_\\mathrm{V}}{R_1(R_\\mathrm{V}+R_2) + R_\\mathrm{V}R_2}\n",
    "\\end{equation}    "
   ]
  },
  {
   "cell_type": "markdown",
   "id": "ffeeeab7",
   "metadata": {},
   "source": [
    "Via equations (2) and (5) and Ohm's Law,  \n",
    "\n",
    "\\begin{equation}\\tag{6}\n",
    "    U_\\mathrm{V} = 7.15\\mathrm{V}\\,\\frac{R_2R_\\mathrm{V}}{R_1(R_\\mathrm{V}+R_2) + R_\\mathrm{V}R_2}\n",
    "\\end{equation}    "
   ]
  },
  {
   "cell_type": "code",
   "execution_count": 2,
   "id": "d9254146",
   "metadata": {},
   "outputs": [],
   "source": [
    "def U_V_gen(R_1, R_2):\n",
    "    return lambda R_V: 9*R_2*R_V/(R_1*(R_V+R_2) + R_V*R_2)"
   ]
  },
  {
   "cell_type": "code",
   "execution_count": 3,
   "id": "b84814fd",
   "metadata": {},
   "outputs": [],
   "source": [
    "U_V = U_V_gen(1e3, 330)"
   ]
  },
  {
   "cell_type": "code",
   "execution_count": 4,
   "id": "1ea30fae",
   "metadata": {},
   "outputs": [
    {
     "data": {
      "text/plain": [
       "2.2325287710568054"
      ]
     },
     "execution_count": 4,
     "metadata": {},
     "output_type": "execute_result"
    }
   ],
   "source": [
    "U_V(1e6)"
   ]
  },
  {
   "cell_type": "markdown",
   "id": "2201cf6d",
   "metadata": {},
   "source": [
    "Via equations (1) and (5) and Ohm's Law,  \n",
    "\n",
    "$$ U_1 = 7.15\\mathrm{V}\\,\\left(1 - \\frac{R_2R_\\mathrm{V}}{R_1(R_\\mathrm{V}+R_2) + R_\\mathrm{V}R_2}\\right)$$"
   ]
  },
  {
   "cell_type": "markdown",
   "id": "0a573f58",
   "metadata": {},
   "source": [
    "\\begin{equation}\\tag{9}\n",
    "    U_1 = 7.15\\mathrm{V}\\,\\frac{R_1(R_\\mathrm{V}+R_2)}{R_1(R_\\mathrm{V}+R_2) + R_\\mathrm{V}R_2}\n",
    "\\end{equation}    "
   ]
  },
  {
   "cell_type": "code",
   "execution_count": 5,
   "id": "f6d13c3d",
   "metadata": {},
   "outputs": [],
   "source": [
    "def U_1_gen(R_1, R_2):\n",
    "    return lambda R_V: 9*R_1*(R_V+R_2)/(R_1*(R_V+R_2) + R_V*R_2)"
   ]
  },
  {
   "cell_type": "code",
   "execution_count": 6,
   "id": "b7b9e761",
   "metadata": {},
   "outputs": [],
   "source": [
    "U_1 = U_1_gen(1e3, 330)"
   ]
  },
  {
   "cell_type": "code",
   "execution_count": 7,
   "id": "30efa1c7",
   "metadata": {},
   "outputs": [
    {
     "data": {
      "text/plain": [
       "6.772444311107778"
      ]
     },
     "execution_count": 7,
     "metadata": {},
     "output_type": "execute_result"
    }
   ],
   "source": [
    "U_1(1e5)"
   ]
  },
  {
   "cell_type": "markdown",
   "id": "723bd90d",
   "metadata": {},
   "source": [
    "Assuming $R_2 = 1\\mathrm{k}\\Omega$ and $R_1=10\\mathrm{k}\\Omega$, but $R_\\mathrm{V}$ is unknown, we can find $R_\\mathrm{V}$ by taking a voltmeter indication ($U_\\mathrm{V}$) and using equation (6) to solve for $R_\\mathrm{V}$.  Via equation (6),  \n",
    "\n",
    "$$ U_\\mathrm{V}\\big(R_1(R_\\mathrm{V}+R_2) + R_\\mathrm{V}R_2 \\big) = 7.15\\mathrm{V}R_2R_\\mathrm{V}$$"
   ]
  },
  {
   "cell_type": "markdown",
   "id": "6ee3cc56",
   "metadata": {},
   "source": [
    "$$  U_\\mathrm{V}R_1R_2  = 7.15\\mathrm{V}R_2R_\\mathrm{V} -U_\\mathrm{V}R_1R_\\mathrm{V} - U_\\mathrm{V}R_\\mathrm{V}R_2$$"
   ]
  },
  {
   "cell_type": "markdown",
   "id": "95fd75e5",
   "metadata": {},
   "source": [
    "$$ R_\\mathrm{V}(7.15\\mathrm{V}R_2 - U_\\mathrm{V}R_1 - U_\\mathrm{V}R_2) = U_\\mathrm{V}R_1R_2$$"
   ]
  },
  {
   "cell_type": "markdown",
   "id": "c4662f06",
   "metadata": {},
   "source": [
    "Finally,\n",
    "\\begin{equation}\\tag{7}\n",
    "    R_\\mathrm{V} = \\frac{U_\\mathrm{V}R_1R_2}{7.15\\mathrm{V}R_2 - U_\\mathrm{V}R_1 - U_\\mathrm{V}R_2}\n",
    "\\end{equation}    "
   ]
  },
  {
   "cell_type": "code",
   "execution_count": 8,
   "id": "e1ba6a07",
   "metadata": {},
   "outputs": [],
   "source": [
    "def R_V(U_V, R_1, R_2, E = 9):\n",
    "    return U_V*R_1*R_2/(E*R_2 - U_V*R_1-U_V*R_2)"
   ]
  },
  {
   "cell_type": "code",
   "execution_count": 9,
   "id": "f9fea33e",
   "metadata": {},
   "outputs": [
    {
     "data": {
      "text/plain": [
       "3030.3030303030305"
      ]
     },
     "execution_count": 9,
     "metadata": {},
     "output_type": "execute_result"
    }
   ],
   "source": [
    "R_V(0.5, 1e4, 1e3, 9-1.85)"
   ]
  },
  {
   "cell_type": "markdown",
   "id": "40f6d837",
   "metadata": {},
   "source": [
    "The **voltmeter indication**, denoted as '$U_\\mathrm{V}$', was roughly $0.5\\mathrm{V}$ with $R_1\\approx 10\\mathrm{k}\\Omega$ and $R_2\\approx 1\\mathrm{k}\\Omega$.  Thus, $R_\\mathrm{V}\\approxeq 3030.30\\Omega$."
   ]
  },
  {
   "cell_type": "markdown",
   "id": "076fbcd1",
   "metadata": {},
   "source": [
    "Note that $U_\\mathrm{V} \\le 3\\mathrm{V}$.  Via the aforementioned inequality and equation (6),  \n",
    "\n",
    "$$ 3R_2R_\\mathrm{V} \\le  R_1(R_\\mathrm{V}+R_2) + R_\\mathrm{V}R_2$$"
   ]
  },
  {
   "cell_type": "markdown",
   "id": "16ba5dea",
   "metadata": {},
   "source": [
    "$$ R_\\mathrm{V}(3R_2 - R_1 - R_2)\\le R_1R_2$$"
   ]
  },
  {
   "cell_type": "markdown",
   "id": "5e5713d9",
   "metadata": {},
   "source": [
    "\\begin{equation}\\tag{8}\n",
    "    R_\\mathrm{V} \\ge \\frac{R_1R_2}{\\vert 2R_2-R_1\\vert} \\approxeq \\frac{10\\mathrm{M}\\Omega^2}{8\\mathrm{k}\\Omega} = 1.25\\mathrm{k}\\Omega\n",
    "\\end{equation}    "
   ]
  }
 ],
 "metadata": {
  "kernelspec": {
   "display_name": "Python 3",
   "language": "python",
   "name": "python3"
  },
  "language_info": {
   "codemirror_mode": {
    "name": "ipython",
    "version": 3
   },
   "file_extension": ".py",
   "mimetype": "text/x-python",
   "name": "python",
   "nbconvert_exporter": "python",
   "pygments_lexer": "ipython3",
   "version": "3.8.10"
  }
 },
 "nbformat": 4,
 "nbformat_minor": 5
}
