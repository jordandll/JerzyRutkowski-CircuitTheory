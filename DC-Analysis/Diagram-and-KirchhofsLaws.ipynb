{
 "cells": [
  {
   "cell_type": "markdown",
   "id": "4eff0689",
   "metadata": {},
   "source": [
    "# Circuit Theory - Jerzy Rutkowski\n",
    "### *Chapter 2 - DC Analysis*"
   ]
  },
  {
   "cell_type": "markdown",
   "id": "810d385a",
   "metadata": {},
   "source": [
    "These are the so called drill problems found in Jerzy Rutkowski's online text book about circuit theory."
   ]
  },
  {
   "cell_type": "code",
   "execution_count": 7,
   "id": "c90cff12",
   "metadata": {},
   "outputs": [],
   "source": [
    "import numpy as np"
   ]
  },
  {
   "cell_type": "markdown",
   "id": "d74a4b74",
   "metadata": {},
   "source": [
    "## *Chapter 2.2* - Circuit Diagram and Kirchhof’s Laws"
   ]
  },
  {
   "cell_type": "markdown",
   "id": "828d53ab",
   "metadata": {},
   "source": [
    "**Problem 1:**  \n",
    "\n",
    "Calculate voltage $U_\\mathrm{AB}$."
   ]
  },
  {
   "cell_type": "markdown",
   "id": "19b0fc25",
   "metadata": {},
   "source": [
    "![P.2.2.1-diagram](P-2-2-1.png)"
   ]
  },
  {
   "cell_type": "markdown",
   "id": "14cb16d6",
   "metadata": {},
   "source": [
    "Via KVL,  \n",
    "\n",
    "$$ 10\\mathrm{V} - U_\\mathrm{AC} - U_\\mathrm{CD} = 0$$\n",
    "\n",
    "and,\n",
    "$$ U_\\mathrm{BE} - U_\\mathrm{GF} = 0$$"
   ]
  },
  {
   "cell_type": "markdown",
   "id": "5572bff9",
   "metadata": {},
   "source": [
    "Via the above two equations and Ohm's Law,  \n",
    "\n",
    "\\begin{equation}\\tag{1}\n",
    "    10\\mathrm{V} = 2\\Omega\\,I_\\mathrm{AC} + 3\\Omega\\,I_\\mathrm{CD}\n",
    "\\end{equation}\n",
    "\n",
    "and,\n",
    "\\begin{equation}\\tag{2}\n",
    "    2\\Omega\\,I_\\mathrm{BE} = 4\\Omega\\,I_\\mathrm{GF}\n",
    "\\end{equation}    "
   ]
  },
  {
   "cell_type": "markdown",
   "id": "a8afeab1",
   "metadata": {},
   "source": [
    "Via the fact that there is a cutset around nodes $\\mathrm{GF}$ in conjunction with KCL,  \n",
    "\n",
    "$$ I_\\mathrm{EF} - I_\\mathrm{GB} = 0$$"
   ]
  },
  {
   "cell_type": "markdown",
   "id": "e7f91819",
   "metadata": {},
   "source": [
    "Via the fact that $I_\\mathrm{GB} = I_\\mathrm{GE} = I_\\mathrm{BE}$, the above equation, and substitution,  \n",
    "\n",
    "\\begin{equation}\\tag{3}\n",
    "    I_\\mathrm{EF} - I_\\mathrm{BE} = 0\n",
    "\\end{equation}    "
   ]
  },
  {
   "cell_type": "markdown",
   "id": "1727a9fa",
   "metadata": {},
   "source": [
    "Via KCL,  \n",
    "\n",
    "$$ I_\\mathrm{CE} + I_\\mathrm{BE} - I_\\mathrm{EF} = 0$$\n",
    "$$ I_\\mathrm{CE} + 0 = 0$$"
   ]
  },
  {
   "cell_type": "markdown",
   "id": "5c96f17a",
   "metadata": {},
   "source": [
    "\\begin{equation}\\tag{4}\n",
    "    I_\\mathrm{CE} = 0\n",
    "\\end{equation}    "
   ]
  },
  {
   "cell_type": "markdown",
   "id": "4f67dc2d",
   "metadata": {},
   "source": [
    "Via KCL,  \n",
    "\n",
    "\\begin{equation}\\tag{5}\n",
    "    I_\\mathrm{BE} + I_\\mathrm{GF} = 9\\mathrm{A}\n",
    "\\end{equation}    "
   ]
  },
  {
   "cell_type": "markdown",
   "id": "8aaa0e50",
   "metadata": {},
   "source": [
    "Using equations (2) and (5) we can solve for the currents contained therein."
   ]
  },
  {
   "cell_type": "markdown",
   "id": "c9129877",
   "metadata": {},
   "source": [
    "Via equation (2),  \n",
    "\n",
    "$$ I_\\mathrm{GF} = 0.5I_\\mathrm{BE}$$"
   ]
  },
  {
   "cell_type": "markdown",
   "id": "98f85ae9",
   "metadata": {},
   "source": [
    "Via the above equation, equation (5), and substitution,  \n",
    "\n",
    "$$ I_\\mathrm{BE}\\,(1 + 0.5) = 9\\mathrm{A}$$"
   ]
  },
  {
   "cell_type": "markdown",
   "id": "0ac8674c",
   "metadata": {},
   "source": [
    "Thus,\n",
    "\\begin{equation}\\tag{6}\n",
    "    I_\\mathrm{BE} = 6\\mathrm{A}\n",
    "\\end{equation}    "
   ]
  },
  {
   "cell_type": "markdown",
   "id": "b097a1ac",
   "metadata": {},
   "source": [
    "Which means that,  \n",
    "\n",
    "\\begin{equation}\\tag{7}\n",
    "    U_\\mathrm{BE} = 12\\mathrm{V}\n",
    "\\end{equation}    "
   ]
  },
  {
   "cell_type": "markdown",
   "id": "16b24e88",
   "metadata": {},
   "source": [
    "Now, to find $U_\\mathrm{AC}$, we must first find $I_\\mathrm{AC}$.  Via KCL,  \n",
    "\n",
    "$$ I_\\mathrm{AC} - I_\\mathrm{CD} - I_\\mathrm{CE} = 0$$\n",
    "$$ I_\\mathrm{AC} - I_\\mathrm{CD} = 0$$"
   ]
  },
  {
   "cell_type": "markdown",
   "id": "4352cf26",
   "metadata": {},
   "source": [
    "$$ I_\\mathrm{AC} = I_\\mathrm{CD}$$"
   ]
  },
  {
   "cell_type": "markdown",
   "id": "50d0a815",
   "metadata": {},
   "source": [
    "Via the above equation, equation (1), and substitution,  \n",
    "\n",
    "$$ 5\\Omega\\,I_\\mathrm{AC} = 10\\mathrm{V}$$"
   ]
  },
  {
   "cell_type": "markdown",
   "id": "04fa4138",
   "metadata": {},
   "source": [
    "Dividing throughout by $5\\Omega$ gives:  \n",
    "\n",
    "\\begin{equation}\\tag{8}\n",
    "    I_\\mathrm{AC}= I_\\mathrm{CD} = 2\\mathrm{A}\n",
    "\\end{equation}    "
   ]
  },
  {
   "cell_type": "markdown",
   "id": "04888e09",
   "metadata": {},
   "source": [
    "Via the above equation and Ohm's Law,  \n",
    "\n",
    "$$ U_\\mathrm{AC} = 4\\mathrm{V}$$"
   ]
  },
  {
   "cell_type": "markdown",
   "id": "a2c44b85",
   "metadata": {},
   "source": [
    "Via KVL,  \n",
    "\n",
    "$$U_\\mathrm{AC} + 7\\mathrm{V} -U_\\mathrm{AB} - U_\\mathrm{BE} = 0$$"
   ]
  },
  {
   "cell_type": "markdown",
   "id": "65817e41",
   "metadata": {},
   "source": [
    "Thus,\n",
    "\\begin{align*}\n",
    "    U_\\mathrm{AB} &= U_\\mathrm{AC} + 7\\mathrm{V} - U_\\mathrm{BE} \\\\\n",
    "     &= (4 + 7 - 12)\\,\\mathrm{V} \\\\\n",
    "     &= -1\\mathrm{V}\n",
    "\\end{align*}     "
   ]
  },
  {
   "cell_type": "markdown",
   "id": "0c0edc84",
   "metadata": {},
   "source": [
    "**Problem 2:**  \n",
    "\n",
    "![Fig-P.2.2.2](P-2-2-2.svg)"
   ]
  },
  {
   "cell_type": "markdown",
   "id": "e683b620",
   "metadata": {},
   "source": [
    "An ideal ammeter has zero resistance, implying zero voltage as well.  Assuming these conditions, via KVL,  \n",
    "\n",
    "\\begin{equation}\\tag{2.1}\n",
    "    U_\\mathrm{AC} + U_\\mathrm{BA} = 0\n",
    "\\end{equation}    \n",
    "\n",
    "\\begin{equation}\\tag{2.2}\n",
    "    U_\\mathrm{DC} + U_\\mathrm{BD} = 0\n",
    "\\end{equation}    "
   ]
  },
  {
   "cell_type": "markdown",
   "id": "adfe560a",
   "metadata": {},
   "source": [
    "The number of branches is $b=5$ and the number of nodes is $n=4$, which means the number of *independent* KVL equations is $l=b-n+1=2$.  This implies that the above two equations are the only independent ones that can be obtained from the circuit."
   ]
  },
  {
   "cell_type": "markdown",
   "id": "1b7b6dea",
   "metadata": {},
   "source": [
    "The number of independent KCL equations is $t = n-1=3$.  Two of those are, via KCL,  \n",
    "\n",
    "\\begin{equation}\\tag{2.3}\n",
    "    I_\\mathrm{AC} + I_\\mathrm{DC} - I_\\mathrm{CB} = 0\n",
    "\\end{equation}\n",
    "\n",
    "\\begin{equation}\\tag{2.4}\n",
    "    I_\\mathrm{CB} - I_\\mathrm{BA} - I_\\mathrm{BD} = 0\n",
    "\\end{equation}    "
   ]
  },
  {
   "cell_type": "markdown",
   "id": "39a3da90",
   "metadata": {},
   "source": [
    "Via the above and Ohm's Law,  \n",
    "\n",
    "$$\\frac{1}{8\\Omega}\\,U_\\mathrm{AC} + \\frac{1}{9\\Omega}\\,U_\\mathrm{DC} - G_\\mathrm{CB}U_\\mathrm{CB} = 0$$\n",
    "\n",
    "$$ G_\\mathrm{CB}U_\\mathrm{CB} - 0.5\\mathrm{S}\\,U_\\mathrm{BA} - 1\\mathrm{S}\\,U_\\mathrm{BD} = 0$$"
   ]
  },
  {
   "cell_type": "markdown",
   "id": "2bab2d11",
   "metadata": {},
   "source": [
    "Recall that '$G$' denotes the conductance of a circuit element, which is equal to the reciprocal of the resistance of that same element.  It's standard unit of measurement is the siemen ($\\mathrm{S}$), which is, of course, equal to the reciprocal of one ohm ($1\\Omega$)."
   ]
  },
  {
   "cell_type": "markdown",
   "id": "477551df",
   "metadata": {},
   "source": [
    "Via the notion that the voltage running across an ideal ammeter is equal to zero, our assumption that the ammeter of our circuit is ideal, the above two equations, and substitution,  \n",
    "\n",
    "\\begin{equation}\\tag{2.3a}\n",
    "    \\frac{1}{8\\Omega}\\,U_\\mathrm{AC} + \\frac{1}{9\\Omega}\\,U_\\mathrm{DC} = 0\n",
    "\\end{equation}    "
   ]
  },
  {
   "cell_type": "markdown",
   "id": "43aa037d",
   "metadata": {},
   "source": [
    "\\begin{equation}\\tag{2.4a}\n",
    "    0.5\\mathrm{S}\\,U_\\mathrm{BA} + 1\\mathrm{S}\\,U_\\mathrm{BD} = 0\n",
    "\\end{equation}    "
   ]
  },
  {
   "cell_type": "markdown",
   "id": "81bdd337",
   "metadata": {},
   "source": [
    "And, via Ohm's Law, the current flowing from node $\\mathrm{A}$ to $\\mathrm{C}$ is equal in magnitude, but opposite in direction, to the current flowing from node $\\mathrm{D}$ to $\\mathrm{C}$.  The same is true for the currents flowing though the top branches.  Thus, there is practically zero current flowing through our, assumed to be ideal, ammeter!"
   ]
  },
  {
   "cell_type": "markdown",
   "id": "7b6cfb6a",
   "metadata": {},
   "source": [
    "Via equations (2.1), (2.2), and (2.3a), in conjunction with substitution and multiplying throughout by $-8\\Omega$,  \n",
    "\n",
    "\\begin{equation}\\tag{2.3b}\n",
    "    U_\\mathrm{BA} + \\frac{8}{9}\\,U_\\mathrm{BD} = 0\n",
    "\\end{equation}    "
   ]
  },
  {
   "cell_type": "markdown",
   "id": "761f3f5f",
   "metadata": {},
   "source": [
    "Via the equations (2.3b) and (2.4a) in conjunction with substitution,  \n",
    "\n",
    "$$ 1\\mathrm{S}\\,U_\\mathrm{BD} - \\frac{4}{9\\Omega}\\,U_\\mathrm{BD} = 0 $$"
   ]
  },
  {
   "cell_type": "markdown",
   "id": "b4f0332f",
   "metadata": {},
   "source": [
    "This didn't work, but we can use equations (2.1) up to and including (2.4) in the next method."
   ]
  },
  {
   "cell_type": "markdown",
   "id": "3478206e",
   "metadata": {},
   "source": [
    "***Using another method:***  \n",
    "\n",
    "The algebraic sum of the quantities in equations (2.3) and (2.4) is:  \n",
    "\n",
    "\\begin{equation}\\tag{2.5}\n",
    "    I_\\mathrm{AC} + I_\\mathrm{DC} = I_\\mathrm{BA} + I_\\mathrm{BD}\n",
    "\\end{equation}    "
   ]
  },
  {
   "cell_type": "markdown",
   "id": "ddf5f9de",
   "metadata": {},
   "source": [
    "Note that the above equation is dependent on the aforementioned equations, neither of which can be invoked as a premise from this point forward."
   ]
  },
  {
   "cell_type": "markdown",
   "id": "9d10de82",
   "metadata": {},
   "source": [
    "So now we have three equations that are independent from one another, but four quantities to solve for.  We need one more equation, and it needs to contain a known quantity.  Thankfully, we are in luck!  Via KVL,  \n",
    "\n",
    "\\begin{equation}\\tag{2.6}\n",
    "    25\\mathrm{V} + U_\\mathrm{DC} - U_\\mathrm{AC} = 0\n",
    "\\end{equation}    "
   ]
  },
  {
   "cell_type": "markdown",
   "id": "f71fbbd3",
   "metadata": {},
   "source": [
    "Via equation (2.5) and Ohm's Law,  \n",
    "\n",
    "\\begin{equation}\\tag{2.5a}\n",
    "    \\frac{1}{8\\Omega}\\,U_\\mathrm{AC} + \\frac{1}{9\\Omega}\\,U_\\mathrm{DC} = 0.5\\mathrm{S}\\,U_\\mathrm{BA} + 1\\mathrm{S}\\,U_\\mathrm{BD}\n",
    "\\end{equation}    "
   ]
  },
  {
   "cell_type": "markdown",
   "id": "fb0a509e",
   "metadata": {},
   "source": [
    "Via the equations (2.5a), (2.1), and (2.2), in conjunction with substitution,  \n",
    "\n",
    "\n",
    "$$\\frac{1}{8\\Omega}\\,U_\\mathrm{AC} + \\frac{1}{9\\Omega}\\,U_\\mathrm{DC} = - 0.5\\mathrm{S}\\,U_\\mathrm{AC} - 1\\mathrm{S}\\,U_\\mathrm{DC}$$"
   ]
  },
  {
   "cell_type": "markdown",
   "id": "66c90c56",
   "metadata": {},
   "source": [
    "Multiplying throughout by $8\\Omega$ gives:  \n",
    "\n",
    "$$U_\\mathrm{AC} + \\frac{8}{9}\\,U_\\mathrm{DC} = -4U_\\mathrm{AC} - 8U_\\mathrm{DC}$$"
   ]
  },
  {
   "cell_type": "markdown",
   "id": "b85636c9",
   "metadata": {},
   "source": [
    "$$ 37\\,U_\\mathrm{AC} = - 80U_\\mathrm{DC}$$"
   ]
  },
  {
   "cell_type": "markdown",
   "id": "a8884618",
   "metadata": {},
   "source": [
    "\\begin{equation}\\tag{2.7}\n",
    "    U_\\mathrm{DC} = -\\frac{37}{80}\\,U_\\mathrm{AC}\n",
    "\\end{equation}    "
   ]
  },
  {
   "cell_type": "markdown",
   "id": "c4e2e8eb",
   "metadata": {},
   "source": [
    "Via equations (2.6) and (2.7) in conjunction with substitution,  \n",
    "\n",
    "$$ 25\\mathrm{V} = U_\\mathrm{AC} + \\frac{37}{80}\\,U_\\mathrm{AC}$$"
   ]
  },
  {
   "cell_type": "markdown",
   "id": "ac5dffc9",
   "metadata": {},
   "source": [
    "$$ 25\\mathrm{V} = \\frac{117}{80}\\,U_\\mathrm{AC}$$"
   ]
  },
  {
   "cell_type": "markdown",
   "id": "de343ae9",
   "metadata": {},
   "source": [
    "\\begin{equation}\\tag{2.8}\n",
    "    U_\\mathrm{AC} = \\frac{80 \\cdot 25}{117}\\,\\mathrm{V}\\approxeq 17.09\\mathrm{V}\n",
    "\\end{equation}    "
   ]
  },
  {
   "cell_type": "markdown",
   "id": "b3968ee4",
   "metadata": {},
   "source": [
    "Via equations (2.8) and (2.7), in conjunction with substitution,  \n",
    "\n",
    "\\begin{equation}\\tag{2.7a}\n",
    "    U_\\mathrm{DC} = - \\frac{37\\cdot25}{117}\\,\\mathrm{V} \\approxeq -7.91\\mathrm{V}\n",
    "\\end{equation}    "
   ]
  },
  {
   "cell_type": "markdown",
   "id": "14a05d02",
   "metadata": {},
   "source": [
    "And, via equations (2.1), (2.2), (2.8), and (2.7a), in conjunction with equivalence principle,  \n",
    "\n",
    "\\begin{equation}\\tag{2.1a}\n",
    "    U_\\mathrm{BA} = -U_\\mathrm{AC} \\approxeq -17.09\\mathrm{V}\n",
    "\\end{equation}    "
   ]
  },
  {
   "cell_type": "markdown",
   "id": "e7a07e49",
   "metadata": {},
   "source": [
    "and,\n",
    "\\begin{equation}\\tag{2.2a}\n",
    "    U_\\mathrm{BD} = -U_\\mathrm{DC} \\approxeq 7.91\\mathrm{V}\n",
    "\\end{equation}    "
   ]
  },
  {
   "cell_type": "markdown",
   "id": "4a3ece9e",
   "metadata": {},
   "source": [
    "The currents are, via the above four equations and Ohm's Law,  \n",
    "\n",
    "\\begin{align*}\n",
    "    I_\\mathrm{AC} =\\frac{250}{117}\\,\\mathrm{A} &\\approxeq 2.14\\mathrm{A}\\\\ \\\\\n",
    "    I_\\mathrm{DC} &\\approxeq - 878.44\\mathrm{mA} \\\\ \\\\\n",
    "    I_\\mathrm{BA} = -\\frac{40\\cdot25}{117}\\,\\mathrm{A} &\\approxeq -8.55\\mathrm{A} \\\\ \\\\\n",
    "    I_\\mathrm{BD} &\\approxeq 7.91\\mathrm{A}\n",
    "\\end{align*}    "
   ]
  },
  {
   "cell_type": "markdown",
   "id": "7e233d18",
   "metadata": {},
   "source": [
    "Note that it also follows from KVL that $25\\mathrm{V} + U_\\mathrm{BA} - U_\\mathrm{BD} = 0$, however this also follows from equations (2.1), (2.2), and (2.6), in conjunction with some other basic principles of math.  Thus, that equation, together with the other three equations, are not fully co-independent.  If this equation were use with the other three, our attempt at solving for the quantities contained therein would fail.  Below is the proof."
   ]
  },
  {
   "cell_type": "markdown",
   "id": "7427638b",
   "metadata": {},
   "source": [
    "Via equations (2.1) and (2.2) in conjunction with equivalence principle -- or, to put it another way, the algebraic sum of those equations is --  \n",
    "\n",
    "$$ U_\\mathrm{AC} + U_\\mathrm{BA} = U_\\mathrm{DC} + U_\\mathrm{BD} $$"
   ]
  },
  {
   "cell_type": "markdown",
   "id": "9c19b57a",
   "metadata": {},
   "source": [
    "Shuffling some quantities around in the above equations gives:  \n",
    "\n",
    "$$ U_\\mathrm{AC} - U_\\mathrm{DC} = U_\\mathrm{BD} - U_\\mathrm{BA}$$"
   ]
  },
  {
   "cell_type": "markdown",
   "id": "cd7ca928",
   "metadata": {},
   "source": [
    "Multiplying throughout by negative one gives:  \n",
    "\n",
    "$$ U_\\mathrm{DC} - U_\\mathrm{AC} = U_\\mathrm{BA} - U_\\mathrm{BD}$$"
   ]
  },
  {
   "cell_type": "markdown",
   "id": "0f661d0a",
   "metadata": {},
   "source": [
    "Via the above equation, equation (2.6), and substitution,  \n",
    "\n",
    "$$ 25\\mathrm{V}+U_\\mathrm{BA}-U_\\mathrm{BD} = 0$$"
   ]
  },
  {
   "cell_type": "markdown",
   "id": "a33fff82",
   "metadata": {},
   "source": [
    "Q.E.D."
   ]
  },
  {
   "cell_type": "markdown",
   "id": "c9299905",
   "metadata": {},
   "source": [
    "***Using another method:***"
   ]
  },
  {
   "cell_type": "markdown",
   "id": "e4595489",
   "metadata": {},
   "source": [
    "Via KVL,  \n",
    "\n",
    "\\begin{equation}\\tag{2.1}\n",
    "    U_\\mathrm{AC} + U_\\mathrm{BA} + U_\\mathrm{CB} = 0\n",
    "\\end{equation}    \n",
    "\n",
    "and,\n",
    "\\begin{equation}\\tag{2.2}\n",
    "    U_\\mathrm{CB} - U_\\mathrm{DC} - U_\\mathrm{BD} = 0\n",
    "\\end{equation}    "
   ]
  },
  {
   "cell_type": "markdown",
   "id": "5035e860",
   "metadata": {},
   "source": [
    "Via the above two equations and substitution,  \n",
    "\n",
    "\\begin{equation}\\tag{2.3}\n",
    "    U_\\mathrm{DC} + U_\\mathrm{BD} + U_\\mathrm{AC} + U_\\mathrm{BA} = 0\n",
    "\\end{equation}    "
   ]
  },
  {
   "cell_type": "markdown",
   "id": "356eb888",
   "metadata": {},
   "source": [
    "Via the above equation and Ohm's Law,  \n",
    "\n",
    "\\begin{equation}\\tag{2.4}\n",
    "    9\\Omega\\,I_\\mathrm{DC} + 1\\Omega\\,I_\\mathrm{BD} + 8\\Omega\\,I_\\mathrm{AC} + 2\\Omega\\,I_\\mathrm{BA} = 0\n",
    "\\end{equation}    "
   ]
  },
  {
   "cell_type": "markdown",
   "id": "6ee56219",
   "metadata": {},
   "source": [
    "Via KCL,  \n",
    "\n",
    "$$ I_\\mathrm{AC} + I_\\mathrm{DC} - I_\\mathrm{CB} = 0$$\n",
    "\n",
    "and,\n",
    "$$ I_\\mathrm{CB} - I_\\mathrm{BA} - I_\\mathrm{BD} = 0$$"
   ]
  },
  {
   "cell_type": "markdown",
   "id": "ec05a5be",
   "metadata": {},
   "source": [
    "Via the above two equations and substitution,  \n",
    "\n",
    "\\begin{equation}\\tag{2.5}\n",
    "    I_\\mathrm{AC} + I_\\mathrm{DC} - I_\\mathrm{BA} - I_\\mathrm{BD} = 0\n",
    "\\end{equation}    "
   ]
  },
  {
   "cell_type": "markdown",
   "id": "e4465979",
   "metadata": {},
   "source": [
    "Via KVL,  \n",
    "\n",
    "$$ 25\\mathrm{V} - U_\\mathrm{AC} + U_\\mathrm{DC} = 0$$\n",
    "\n",
    "and,\n",
    "$$ 25\\mathrm{V} + U_\\mathrm{BA} - U_\\mathrm{BD} = 0$$"
   ]
  },
  {
   "cell_type": "markdown",
   "id": "4e7e90c5",
   "metadata": {},
   "source": [
    "Via the above two equations and Ohm's Law,  \n",
    "\n",
    "$$ 25\\mathrm{V} - 8\\Omega\\,I_\\mathrm{AC} + 9\\Omega\\,I_\\mathrm{DC} = 0$$\n",
    "\n",
    "and,\n",
    "$$ 25\\mathrm{V} + 2\\Omega\\,I_\\mathrm{BA} - 1\\Omega\\,I_\\mathrm{BD} = 0$$"
   ]
  },
  {
   "cell_type": "markdown",
   "id": "8bb4f73f",
   "metadata": {},
   "source": [
    "Which leaves us with:  \n",
    "\n",
    "\\begin{equation}\\tag{2.6}\n",
    "    I_\\mathrm{BD} = 25\\mathrm{A} + 2I_\\mathrm{BA}\n",
    "\\end{equation}    \n",
    "\n",
    "and,\n",
    "\\begin{equation}\\tag{2.7}\n",
    "    I_\\mathrm{AC} = \\frac{25}{8}\\,\\mathrm{A} + \\frac{9}{8}\\,I_\\mathrm{DC}\n",
    "\\end{equation}    "
   ]
  },
  {
   "cell_type": "markdown",
   "id": "5edafe20",
   "metadata": {},
   "source": [
    "Via the above two equations, equation (2.5), and substitution,  \n",
    "\n",
    "$$\\frac{25}{8}\\,\\mathrm{A} + \\frac{9}{8}\\,I_\\mathrm{DC} + I_\\mathrm{DC}  - 25\\mathrm{A} - 3I_\\mathrm{BA} = 0$$"
   ]
  },
  {
   "cell_type": "markdown",
   "id": "234e4e41",
   "metadata": {},
   "source": [
    "\\begin{equation}\\tag{2.8}\n",
    "    \\frac{25}{8}\\,\\mathrm{A} - 25\\mathrm{A} - 3I_\\mathrm{BA} + \\frac{17}{8}\\,I_\\mathrm{DC} =0\n",
    "\\end{equation}    "
   ]
  },
  {
   "cell_type": "markdown",
   "id": "c7ff3c7f",
   "metadata": {},
   "source": [
    "Multiplying throughout by $8$ gives:  \n",
    "\n",
    "\\begin{equation}\\tag{2.8}\n",
    "    17I_\\mathrm{DC} - 24I_\\mathrm{BA} -175\\mathrm{A} = 0\n",
    "\\end{equation}    "
   ]
  },
  {
   "cell_type": "markdown",
   "id": "f29f6f0f",
   "metadata": {},
   "source": [
    "Via equations (2.4), (2.6), and (2.7), in conjunction with substitution,  \n",
    "\n",
    "$$ 9\\Omega\\,I_\\mathrm{DC} + 25\\mathrm{V} + 4\\Omega\\,I_\\mathrm{BA} + 25\\mathrm{V} + 9\\Omega\\,I_\\mathrm{DC} = 0 $$\n",
    "\n",
    "Thus,\n",
    "\\begin{equation}\\tag{2.9}\n",
    "    18\\Omega\\,I_\\mathrm{DC} + 50\\mathrm{V} + 4\\Omega\\,I_\\mathrm{BA} = 0\n",
    "\\end{equation}    "
   ]
  },
  {
   "cell_type": "markdown",
   "id": "b44eb062",
   "metadata": {},
   "source": [
    "Dividing throughout equation (2.8) by $6$ gives:  \n",
    "\n",
    "$$ 4I_\\mathrm{BA} = \\frac{17}{6}\\,I_\\mathrm{DC} - \\frac{175}{6}\\,\\mathrm{A} $$"
   ]
  },
  {
   "cell_type": "markdown",
   "id": "bf4c98bf",
   "metadata": {},
   "source": [
    "Via the above equation, equation (2.9), and substitution,  \n",
    "\n",
    "$$ 18\\Omega\\,I_\\mathrm{DC} + 50\\mathrm{V} + \\frac{17}{6}\\,\\Omega\\,I_\\mathrm{DC} - \\frac{175}{6}\\,\\mathrm{V} = 0$$"
   ]
  },
  {
   "cell_type": "markdown",
   "id": "b2a779b7",
   "metadata": {},
   "source": [
    "Multiplying throughout by $6$ gives:  \n",
    "\n",
    "$$ 108\\Omega\\,I_\\mathrm{DC} + 300\\mathrm{V} + 17\\Omega\\,I_\\mathrm{DC} - 175\\mathrm{V} = 0$$"
   ]
  },
  {
   "cell_type": "markdown",
   "id": "b37f83eb",
   "metadata": {},
   "source": [
    "$$ 125\\Omega\\,I_\\mathrm{DC} + 125\\mathrm{V} = 0  $$"
   ]
  },
  {
   "cell_type": "markdown",
   "id": "7bfe4372",
   "metadata": {},
   "source": [
    "Thus,\n",
    "\\begin{equation}\\tag{2.10}\n",
    "    I_\\mathrm{DC} = -1\\mathrm{A}\n",
    "\\end{equation}    "
   ]
  },
  {
   "cell_type": "markdown",
   "id": "4fc989e8",
   "metadata": {},
   "source": [
    "Via the above equation, equation (2.9), and substitution,  \n",
    "\n",
    "$$ 50\\mathrm{V} - 18\\mathrm{V} + 4\\Omega\\,I_\\mathrm{BA} = 0$$"
   ]
  },
  {
   "cell_type": "markdown",
   "id": "b685e393",
   "metadata": {},
   "source": [
    "$$ 4\\Omega\\,I_\\mathrm{BA} = -32\\mathrm{V}$$"
   ]
  },
  {
   "cell_type": "markdown",
   "id": "1742b072",
   "metadata": {},
   "source": [
    "Dividing throughout by $4\\Omega$ gives:"
   ]
  },
  {
   "cell_type": "markdown",
   "id": "eeac26b0",
   "metadata": {},
   "source": [
    "\\begin{equation}\\tag{2.11}\n",
    "    I_\\mathrm{BA} = -8\\mathrm{A}\n",
    "\\end{equation}    "
   ]
  },
  {
   "cell_type": "markdown",
   "id": "33afd612",
   "metadata": {},
   "source": [
    "Via the above equation, equation (2.6), and substitution,  \n",
    "\n",
    "\\begin{equation}\\tag{2.12}\n",
    "    I_\\mathrm{BD} = 25\\mathrm{A} - 8\\mathrm{A} = 17\\mathrm{A}\n",
    "\\end{equation}"
   ]
  },
  {
   "cell_type": "markdown",
   "id": "3c21ba5b",
   "metadata": {},
   "source": [
    "Via equation (2.5),  \n",
    "\n",
    "\\begin{align*}\\tag{2.13}\n",
    "    I_\\mathrm{AC} &= I_\\mathrm{BD} + I_\\mathrm{BA} - I_\\mathrm{DC} \\\\\n",
    "     &= 17\\mathrm{A} - 8\\mathrm{A} + 1\\mathrm{A} \\\\\n",
    "     &= 10\\mathrm{A}\n",
    "\\end{align*}     "
   ]
  },
  {
   "cell_type": "markdown",
   "id": "686b1770",
   "metadata": {},
   "source": [
    "Note that the negative values for $I_\\mathrm{BA}$ and $I_\\mathrm{DC}$ imply that the assumption about the direction of the conventional current flow that is made by the corresponding arrowheads in [Figure P.2.2.2](P-2-2-2.svg) is incorrect.  Below is a revised version of said figure with arrowheads that point in the direction of the actual conventional flow.  \n",
    "\n",
    "![Fig-2.2.2-revised-arrowheads](P-2-2-2-rev-arrowheads.svg)"
   ]
  },
  {
   "cell_type": "markdown",
   "id": "0848a5ca",
   "metadata": {},
   "source": [
    "Now, using the arrowheads in the revised (above) figure, the voltage running across each resistor is, via the corresponding current values found above, Ohm's Law, and substitution,  \n",
    "\n",
    "$$ U_\\mathrm{AC} = 80\\mathrm{V}$$\n",
    "\n",
    "$$ U_\\mathrm{AB} = 16\\mathrm{V}$$\n",
    "\n",
    "$$ U_\\mathrm{BD} = 17\\mathrm{V}$$\n",
    "\n",
    "$$ U_\\mathrm{CD} = 9\\mathrm{V}$$"
   ]
  },
  {
   "cell_type": "markdown",
   "id": "6d7aa6dd",
   "metadata": {},
   "source": [
    "_This method didn't work!_"
   ]
  },
  {
   "cell_type": "markdown",
   "id": "9c190ef2",
   "metadata": {},
   "source": [
    "**Problem 3:**  \n",
    "\n",
    "What should the value of $R$ be so that the current is $I=0.5\\mathrm{A}$?"
   ]
  },
  {
   "cell_type": "markdown",
   "id": "cd8887c6",
   "metadata": {},
   "source": [
    "Assuming $I$ is the current flowing through the voltage source as opposed to the right hand branch of the parallel circuit,"
   ]
  },
  {
   "cell_type": "markdown",
   "id": "3f2f888b",
   "metadata": {},
   "source": [
    "$$ U_1 = 4\\mathrm{V} = R\\cdot I_1$$"
   ]
  },
  {
   "cell_type": "code",
   "execution_count": 2,
   "id": "76fd8291",
   "metadata": {},
   "outputs": [],
   "source": [
    "U1 = 5-1"
   ]
  },
  {
   "cell_type": "markdown",
   "id": "0207dadf",
   "metadata": {},
   "source": [
    "$$ U_1 = U_2 = 6\\Omega \\, I_2 =4\\mathrm{V}$$"
   ]
  },
  {
   "cell_type": "markdown",
   "id": "516b1ab5",
   "metadata": {},
   "source": [
    "$$ I_2 = \\frac{2}{3}\\,\\mathrm{A}$$"
   ]
  },
  {
   "cell_type": "markdown",
   "id": "cf906887",
   "metadata": {},
   "source": [
    "Via KCL,  \n",
    "\n",
    "$$ I = 0.5\\mathrm{A}= I_1 + I_2$$"
   ]
  },
  {
   "cell_type": "markdown",
   "id": "1ed096a7",
   "metadata": {},
   "source": [
    "Thus,\n",
    "$$ I_1 = 0.5\\mathrm{A} - \\frac{2}{3}\\,\\mathrm{A} = \\frac{1}{2}\\,\\mathrm{A} - \\frac{2}{3}\\,\\mathrm{A} = -\\frac{1}{6}\\,\\mathrm{A}$$"
   ]
  },
  {
   "cell_type": "markdown",
   "id": "1c19c485",
   "metadata": {},
   "source": [
    "Via the first equation of this problem's attempt at a solution,  \n",
    "\n",
    "$$ R = \\frac{4\\mathrm{V}}{I_1} = -24\\Omega$$"
   ]
  },
  {
   "cell_type": "code",
   "execution_count": 3,
   "id": "14aa28c1",
   "metadata": {},
   "outputs": [
    {
     "data": {
      "text/plain": [
       "5.0"
      ]
     },
     "execution_count": 3,
     "metadata": {},
     "output_type": "execute_result"
    }
   ],
   "source": [
    "0.5*(2 +1/(1/6-1/24))"
   ]
  },
  {
   "cell_type": "markdown",
   "id": "6aa1e252",
   "metadata": {},
   "source": [
    "Assuming $I$ is the current flowing through the right hand branch,  \n",
    "\n",
    "Via Ohm's Law,  \n",
    "\n",
    "$$U = 6\\Omega\\cdot0.5\\mathrm{A}= 3\\mathrm{V} $$"
   ]
  },
  {
   "cell_type": "markdown",
   "id": "0767282e",
   "metadata": {},
   "source": [
    "Via KCL,  \n",
    "\n",
    "$$ I_2 = I_1 + I = 0.5\\mathrm{A} + I_1$$"
   ]
  },
  {
   "cell_type": "markdown",
   "id": "c367c7fe",
   "metadata": {},
   "source": [
    "Via KVL,  \n",
    "\n",
    "$$ U_2 = 5\\mathrm{V} - U = 2\\mathrm{V}$$"
   ]
  },
  {
   "cell_type": "markdown",
   "id": "33bdc739",
   "metadata": {},
   "source": [
    "Via the above equation and Ohm's Law,  \n",
    "\n",
    "$$ I_2 = \\frac{2\\mathrm{V}}{2\\Omega} = 1\\mathrm{A}$$"
   ]
  },
  {
   "cell_type": "markdown",
   "id": "94b0ab1d",
   "metadata": {},
   "source": [
    "Via KCL and the above equation,  \n",
    "\n",
    "$$ I_1 = 1\\mathrm{A} - 0.5\\mathrm{A} = 0.5\\mathrm{A}$$"
   ]
  },
  {
   "cell_type": "markdown",
   "id": "ca18f3f1",
   "metadata": {},
   "source": [
    "Via the above equation, Ohm's Law, and KVL,  \n",
    "\n",
    "$$ RI_1 = R\\cdot0.5\\mathrm{A} = 3\\mathrm{V}$$\n",
    "\n",
    "$$ R = 6\\Omega$$"
   ]
  },
  {
   "cell_type": "markdown",
   "id": "ac403fbe",
   "metadata": {},
   "source": [
    "**Problem 6:**  \n",
    "\n",
    "Suppose the indicated voltage, denoted as '$U_\\mathrm{M}$', is $12\\mathrm{V}$.  Find $R$."
   ]
  },
  {
   "cell_type": "markdown",
   "id": "6b82c70e",
   "metadata": {},
   "source": [
    "The voltage running across the top left resistor, denoted as '$U_\\mathrm{TL}$', is given by:  \n",
    "\n",
    "$$ U_\\mathrm{TL} = 4\\Omega\\cdot4\\mathrm{A} = 16\\mathrm{V}$$"
   ]
  },
  {
   "cell_type": "markdown",
   "id": "4579a5fe",
   "metadata": {},
   "source": [
    "Via the above equation, KVL, and the presupposition that $U_\\mathrm{M}=12\\mathrm{V}$, the supply voltage ($E$) is:\n",
    "\n",
    "$$ E - 16\\mathrm{V} - 12\\mathrm{V} = 0$$\n",
    "\n",
    "$$ E = 28\\mathrm{V}$$"
   ]
  },
  {
   "cell_type": "markdown",
   "id": "c4ffd43b",
   "metadata": {},
   "source": [
    "Via the above equation and Ohm's Law,  \n",
    "\n",
    "$$ U_\\mathrm{M} = R\\cdot I_\\mathrm{M} = 12\\mathrm{V}$$"
   ]
  },
  {
   "cell_type": "markdown",
   "id": "fb78d7fe",
   "metadata": {},
   "source": [
    "Via KCL,  \n",
    "\n",
    "$$ I := I_\\mathrm{L} = 4\\mathrm{A} = I_\\mathrm{M} + I_\\mathrm{R}$$"
   ]
  },
  {
   "cell_type": "markdown",
   "id": "adea3bfd",
   "metadata": {},
   "source": [
    "Via KVL and Ohm's Law,  \n",
    "\n",
    "$$ U_\\mathrm{M} - U_\\mathrm{R} = 0$$\n",
    "\n",
    "$$ 12\\mathrm{V} = U_\\mathrm{R} = (1\\Omega + 3\\Omega)\\,I_\\mathrm{R} = 4\\Omega\\,I_\\mathrm{R}$$"
   ]
  },
  {
   "cell_type": "markdown",
   "id": "0f53ae0c",
   "metadata": {},
   "source": [
    "Dividing throughout by $4\\Omega$ gives:  \n",
    "\n",
    "$$ I_\\mathrm{R} = 3\\mathrm{A}$$"
   ]
  },
  {
   "cell_type": "markdown",
   "id": "80a7a423",
   "metadata": {},
   "source": [
    "Via the above equation, KVL, and substitution,  \n",
    "\n",
    "$$ I_\\mathrm{M} = 1\\mathrm{A}$$"
   ]
  },
  {
   "cell_type": "markdown",
   "id": "68c9bc35",
   "metadata": {},
   "source": [
    "Finally,  \n",
    "\n",
    "$$ R = \\frac{12\\mathrm{V}}{1\\mathrm{A}} = 12\\Omega$$"
   ]
  },
  {
   "cell_type": "markdown",
   "id": "04557907",
   "metadata": {},
   "source": [
    "**Problem 7:**  \n",
    "\n",
    "Find the power absorbed (or supplied?) by the current source."
   ]
  },
  {
   "cell_type": "markdown",
   "id": "6e5f3fe9",
   "metadata": {},
   "source": [
    "$$ U_\\mathrm{AD}= 7\\Omega\\,I_\\mathrm{AD} = 5\\mathrm{V}$$"
   ]
  },
  {
   "cell_type": "markdown",
   "id": "702d8d40",
   "metadata": {},
   "source": [
    "$$I_\\mathrm{AD} = \\frac{5\\mathrm{V}}{7\\Omega} \\approxeq 714.29\\mathrm{mA} $$"
   ]
  },
  {
   "cell_type": "markdown",
   "id": "e3882a5e",
   "metadata": {},
   "source": [
    "Via KCL,  \n",
    "\n",
    "$$ I_\\mathrm{DA} - I_\\mathrm{AD} - I_\\mathrm{AB} \\approxeq I_\\mathrm{DA} - 2.714\\mathrm{A} \\approxeq 0$$\n",
    "\n",
    "$$ I_\\mathrm{DA} \\approxeq 2.71\\mathrm{A}$$"
   ]
  },
  {
   "cell_type": "markdown",
   "id": "f8c09a0f",
   "metadata": {},
   "source": [
    "Via KVL and Ohm's Law,  \n",
    "\n",
    "$$ 6\\Omega\\,I_{\\mathrm{BC}1} = 4\\Omega\\,I_{\\mathrm{BC}2}$$"
   ]
  },
  {
   "cell_type": "markdown",
   "id": "efaa080e",
   "metadata": {},
   "source": [
    "Via KCL,  \n",
    "\n",
    "$$ I_{\\mathrm{BC}1} + I_{\\mathrm{BC}2} = 2\\mathrm{A}$$"
   ]
  },
  {
   "cell_type": "markdown",
   "id": "b8355910",
   "metadata": {},
   "source": [
    "$$ I_{\\mathrm{BC}2} = \\frac{3}{2}\\,I_{\\mathrm{BC}1}$$"
   ]
  },
  {
   "cell_type": "markdown",
   "id": "d9d9d48f",
   "metadata": {},
   "source": [
    "$$ I_{\\mathrm{BC}1}\\,\\left(1 + \\frac{3}{2} \\right) = \\frac{5}{2}\\,I_{\\mathrm{BC}1} = 2\\mathrm{A}$$"
   ]
  },
  {
   "cell_type": "markdown",
   "id": "7a53efc3",
   "metadata": {},
   "source": [
    "Thus,  \n",
    "\n",
    "$$ I_{\\mathrm{BC}1} = \\frac{4}{5}\\,\\mathrm{A}$$"
   ]
  },
  {
   "cell_type": "markdown",
   "id": "428e0ceb",
   "metadata": {},
   "source": [
    "Via the above equation and Ohm's Law,  \n",
    "\n",
    "$$ U_\\mathrm{BC} = 6\\Omega\\cdot \\frac{4}{5}\\,\\mathrm{A} = 4.8\\mathrm{V}$$"
   ]
  },
  {
   "cell_type": "markdown",
   "id": "205bc4e5",
   "metadata": {},
   "source": [
    "Via KVL,  \n",
    "\n",
    "$$ 5\\mathrm{V} + U_\\mathrm{AB} - 4.8\\mathrm{V} = U_\\mathrm{AB} + 0.2\\mathrm{V} =0$$"
   ]
  },
  {
   "cell_type": "markdown",
   "id": "e3312f12",
   "metadata": {},
   "source": [
    "$$ U_\\mathrm{AB} = -0.2\\mathrm{V}$$"
   ]
  },
  {
   "cell_type": "markdown",
   "id": "19ef61e7",
   "metadata": {},
   "source": [
    "Thus,  \n",
    "\n",
    "$$ P = -0.2\\mathrm{V}\\cdot2\\mathrm{A} = -0.4\\mathrm{W}$$"
   ]
  },
  {
   "cell_type": "markdown",
   "id": "71567e9b",
   "metadata": {},
   "source": [
    "And, since the current source's arrowheads follow active sign convention in conjunction with the fact that $P$ has a negative value, the current source is *absorbing* $0.4\\mathrm{W}$ of power."
   ]
  },
  {
   "cell_type": "markdown",
   "id": "fdede60b",
   "metadata": {},
   "source": [
    "**Problem 8:**  \n",
    "\n",
    "Find the supply voltage ($E$) of a ladder network shown, so that $I=2\\mathrm{A}$.  Assume that $R=5\\Omega$."
   ]
  },
  {
   "cell_type": "markdown",
   "id": "f9415c9d",
   "metadata": {},
   "source": [
    "Via KVL and Ohm's Law,  \n",
    "\n",
    "$$ E = 0.5RI_\\mathrm{AB} + RI_\\mathrm{BG}$$"
   ]
  },
  {
   "cell_type": "markdown",
   "id": "9442f06e",
   "metadata": {},
   "source": [
    "Note that, via the presupposition of this problem that $I=2\\mathrm{A}$:  \n",
    "\n",
    "$$ I = I_\\mathrm{CD} = I_\\mathrm{DE} = I_\\mathrm{EF} = 2\\mathrm{A}$$"
   ]
  },
  {
   "cell_type": "markdown",
   "id": "e78d76ff",
   "metadata": {},
   "source": [
    "Via the above and Ohm's Law,  \n",
    "\n",
    "$$ U_\\mathrm{CD} = U_\\mathrm{DE} = \\frac{5}{2}\\,\\Omega\\cdot2\\mathrm{A} = 5\\mathrm{V}$$"
   ]
  },
  {
   "cell_type": "markdown",
   "id": "7034fa80",
   "metadata": {},
   "source": [
    "Via the above, Ohm's Law, and KVL,  \n",
    "\n",
    "$$ U_\\mathrm{CF} = 5\\Omega\\,I_\\mathrm{CF} = 10\\mathrm{V}$$"
   ]
  },
  {
   "cell_type": "markdown",
   "id": "516d09ca",
   "metadata": {},
   "source": [
    "Dividing throughout by $5\\Omega$ gives:  \n",
    "\n",
    "$$ I_\\mathrm{CF} = 2\\mathrm{A}$$"
   ]
  },
  {
   "cell_type": "markdown",
   "id": "4322434a",
   "metadata": {},
   "source": [
    "Via KCL,  \n",
    "\n",
    "$$ I_\\mathrm{BC} = 2\\mathrm{A} + 2\\mathrm{A} = 4\\mathrm{A}$$"
   ]
  },
  {
   "cell_type": "markdown",
   "id": "ebb74b90",
   "metadata": {},
   "source": [
    "Via the above and Ohm's Law,  \n",
    "\n",
    "$$ U_\\mathrm{BC} = 10\\mathrm{V}$$"
   ]
  },
  {
   "cell_type": "markdown",
   "id": "1b1c85dd",
   "metadata": {},
   "source": [
    "Via Ohm's Law and KVL,  \n",
    "\n",
    "$$ U_\\mathrm{BG} = 5\\Omega\\,I_\\mathrm{BG} = 10\\mathrm{V} + 10\\mathrm{V} = 20\\mathrm{V}$$"
   ]
  },
  {
   "cell_type": "markdown",
   "id": "47364115",
   "metadata": {},
   "source": [
    "Dividing throughout by $R$ gives:  \n",
    "\n",
    "$$ I_\\mathrm{BG} = 4\\mathrm{A}$$"
   ]
  },
  {
   "cell_type": "markdown",
   "id": "06ef80e3",
   "metadata": {},
   "source": [
    "Via KCL,  \n",
    "\n",
    "$$ I_\\mathrm{AB} = 4\\mathrm{A} + 4\\mathrm{A} = 8\\mathrm{A}$$"
   ]
  },
  {
   "cell_type": "markdown",
   "id": "a6d1e30c",
   "metadata": {},
   "source": [
    "Via the above and Ohm's Law,  \n",
    "\n",
    "$$ U_\\mathrm{AB} = 20\\mathrm{V}$$"
   ]
  },
  {
   "cell_type": "markdown",
   "id": "aa55c7d0",
   "metadata": {},
   "source": [
    "Finally, via KVL,  \n",
    "\n",
    "$$ E = 20\\mathrm{V} + 20\\mathrm{V} = 40\\mathrm{V}$$"
   ]
  },
  {
   "cell_type": "markdown",
   "id": "e3574b26",
   "metadata": {},
   "source": [
    "**Problem 9:**  \n",
    "\n",
    "Find $R$ if $I=2\\mathrm{A}$.  Then, find all currents and voltages."
   ]
  },
  {
   "cell_type": "markdown",
   "id": "cc2c379a",
   "metadata": {},
   "source": [
    "The middle voltage drop is:  \n",
    "\n",
    "$$ U_\\mathrm{m} = 4\\Omega\\cdot2\\mathrm{A} = 8\\mathrm{V}$$"
   ]
  },
  {
   "cell_type": "markdown",
   "id": "a2b387f0",
   "metadata": {},
   "source": [
    "Via KVL and Ohm's Law,  \n",
    "\n",
    "$$ U_\\mathrm{r} = RI_\\mathrm{r} = 8\\mathrm{V}$$"
   ]
  },
  {
   "cell_type": "markdown",
   "id": "1b5e891c",
   "metadata": {},
   "source": [
    "Via KCL,  \n",
    "\n",
    "$$ 6\\mathrm{A} = 2\\mathrm{A} + I_\\mathrm{r}$$\n",
    "\n",
    "$$ I_\\mathrm{r} = 4\\mathrm{A}$$"
   ]
  },
  {
   "cell_type": "markdown",
   "id": "c0a7986e",
   "metadata": {},
   "source": [
    "Via the above three equations,  \n",
    "\n",
    "$$ R = \\frac{8\\mathrm{V}}{4\\mathrm{A}} = 2\\Omega$$"
   ]
  },
  {
   "cell_type": "markdown",
   "id": "7b39c7a3",
   "metadata": {},
   "source": [
    "And, now for the remaining unkown voltages."
   ]
  },
  {
   "cell_type": "markdown",
   "id": "65fcb0dd",
   "metadata": {},
   "source": [
    "Via Ohm's Law, the voltage dropped across the left hand resistor is:  \n",
    "\n",
    "$$ U_\\mathrm{l} = 2\\Omega\\cdot6\\mathrm{A} = 12\\mathrm{V}$$"
   ]
  },
  {
   "cell_type": "markdown",
   "id": "0c3d66f7",
   "metadata": {},
   "source": [
    "And, via KVL, the voltage running across the current source, denoted as '$E$', is:  \n",
    "\n",
    "$$ E = U_\\mathrm{l} + U_\\mathrm{m} = 12\\mathrm{V} + 8\\mathrm{V} = 20\\mathrm{V}$$"
   ]
  },
  {
   "cell_type": "markdown",
   "id": "34e97e1b",
   "metadata": {},
   "source": [
    "Note that the current source's arrowheads satisfy active sign conventions."
   ]
  },
  {
   "cell_type": "markdown",
   "id": "acf7f0e5",
   "metadata": {},
   "source": [
    "**Problem 10:**  \n",
    "\n",
    "By what factor should the $6\\mathrm{A}$ current source in the above problem's circuit be increased to double the power it supplies ($P$)?  By what factor should it be increased to double the current $I=I_\\mathrm{m}$?"
   ]
  },
  {
   "cell_type": "markdown",
   "id": "6b1b61eb",
   "metadata": {},
   "source": [
    "First recall that,  \n",
    "\n",
    "$$ P = I_\\mathrm{l}E$$\n",
    "\n",
    "and,\n",
    "$$ E = U_\\mathrm{l} + U_\\mathrm{m} = 2\\Omega\\,I_\\mathrm{l} + 4\\Omega\\,I_\\mathrm{m}$$"
   ]
  },
  {
   "cell_type": "markdown",
   "id": "f18b830f",
   "metadata": {},
   "source": [
    "It might seem obvious at first that we, based on the first equation of our attempt at a solution, should simply double the current to double the power supplied.  But, as we can see with the second equation, the voltage running across the current source, denoted as '$E$', is dependent on the current source's output current.  Once we unpack the first equation, we see that the relationship between the supplied power and the output current is not linear, as it seemed at first."
   ]
  },
  {
   "cell_type": "markdown",
   "id": "d347b58f",
   "metadata": {},
   "source": [
    "What's more,  $I_\\mathrm{m}$ is also dependent on the output current.  Via KCL,  \n",
    "\n",
    "$$ I_\\mathrm{l} = I_\\mathrm{m} + I = I_\\mathrm{m} + 2\\mathrm{A}$$"
   ]
  },
  {
   "cell_type": "markdown",
   "id": "ffc742d7",
   "metadata": {},
   "source": [
    "Thus,\n",
    "$$ I_\\mathrm{m} = I_\\mathrm{l} - 2\\mathrm{A}$$"
   ]
  },
  {
   "cell_type": "markdown",
   "id": "87f75177",
   "metadata": {},
   "source": [
    "and,\n",
    "\\begin{align*}\n",
    "    E &= 2\\Omega\\,I_\\mathrm{l} + 4\\Omega\\,(I_\\mathrm{l} - 2\\mathrm{A}) \\\\\n",
    "     &= 6\\Omega\\,I_\\mathrm{l} - 8\\mathrm{V}\n",
    "\\end{align*}     "
   ]
  },
  {
   "cell_type": "markdown",
   "id": "c7f2226f",
   "metadata": {},
   "source": [
    "The supplied power as a function of the output current is thus,  \n",
    "\n",
    "$$ P := P(I_\\mathrm{l}) = 6\\Omega\\,I_\\mathrm{l}^2 - 8\\mathrm{V}\\,I_\\mathrm{l}$$"
   ]
  },
  {
   "cell_type": "markdown",
   "id": "34f04586",
   "metadata": {},
   "source": [
    "To find our factor, we will first solve for $x:=\\grave{I_\\mathrm{l}}$, where $x$ is equal to the product of $I_\\mathrm{l}$ and the factor we are looking for, denoted as '$\\alpha$', in the quadratic equation below:  \n",
    "\n",
    "$$ 6\\Omega\\,x^2 - 8\\mathrm{V}\\,x = 2P = 240\\mathrm{W}$$"
   ]
  },
  {
   "cell_type": "markdown",
   "id": "2b075142",
   "metadata": {},
   "source": [
    "$$ 6\\Omega\\,x^2 - 8\\mathrm{V}\\,x - 240\\mathrm{W} = 0$$"
   ]
  },
  {
   "cell_type": "code",
   "execution_count": 10,
   "id": "416b75e0",
   "metadata": {},
   "outputs": [
    {
     "data": {
      "text/plain": [
       "{-5.692928009446304, 7.026261342779637}"
      ]
     },
     "execution_count": 10,
     "metadata": {},
     "output_type": "execute_result"
    }
   ],
   "source": [
    "# Implementation of the Quadratic Formula\n",
    "a = 6\n",
    "b = -8\n",
    "c = -240\n",
    "x = set([(-b+np.sqrt(b**2-4*a*c))/(2*a), (-b-np.sqrt(b**2-4*a*c))/(2*a)])\n",
    "x"
   ]
  },
  {
   "cell_type": "markdown",
   "id": "52075003",
   "metadata": {},
   "source": [
    "Going with the positive part of the solution for $x$, we have:  \n",
    "\n",
    "\\$$ \\alpha I_\\mathrm{l} \\approxeq 7.03\\mathrm{A}$$"
   ]
  },
  {
   "cell_type": "markdown",
   "id": "c158e23c",
   "metadata": {},
   "source": [
    "$$ \\alpha \\approxeq 1.17$$"
   ]
  },
  {
   "cell_type": "code",
   "execution_count": 12,
   "id": "d58a13ca",
   "metadata": {},
   "outputs": [
    {
     "data": {
      "text/plain": [
       "[-0.9488213349077174, 1.1710435571299396]"
      ]
     },
     "execution_count": 12,
     "metadata": {},
     "output_type": "execute_result"
    }
   ],
   "source": [
    "[x_i/6 for x_i in x]"
   ]
  },
  {
   "cell_type": "markdown",
   "id": "1d1013a0",
   "metadata": {},
   "source": [
    "![Fig - 2.2.9](P-2-2-9.png)"
   ]
  },
  {
   "cell_type": "markdown",
   "id": "be8067a0",
   "metadata": {},
   "source": [
    "Now, for the second part of the question, first let $\\grave{I}$ be defined as $\\grave{I}:=2I=4\\mathrm{A}$ and $x$ and $\\grave{I_\\mathrm{l}}$ be defined as $x:=\\grave{I_\\mathrm{l}}:=\\alpha I_\\mathrm{l}$, where $alpha$ is the factor we are looking for.  \n",
    "\n",
    "Next we need to find the relationship between the output current ($x=\\grave{I_\\mathrm{l}}$) and the middle current ($\\grave{I}=\\grave{I_\\mathrm{m}}$)."
   ]
  },
  {
   "cell_type": "markdown",
   "id": "20015c3e",
   "metadata": {},
   "source": [
    "Via KCL,  \n",
    "\n",
    "$$ \\grave{I_\\mathrm{l}} - \\grave{I_\\mathrm{m}} - \\grave{I_\\mathrm{r}} = 0$$"
   ]
  },
  {
   "cell_type": "markdown",
   "id": "6def3e8b",
   "metadata": {},
   "source": [
    "The relationship between the right and middle currents is, via Ohm's Law and KVL,  \n",
    "\n",
    "$$ 4\\Omega\\,\\grave{I_\\mathrm{m}} = R\\,\\grave{I_\\mathrm{r}} = 2\\Omega\\,\\grave{I_\\mathrm{r}}$$"
   ]
  },
  {
   "cell_type": "markdown",
   "id": "64365810",
   "metadata": {},
   "source": [
    "Via the above two equations and equivalence principle,  \n",
    "\n",
    "$$ \\grave{I_\\mathrm{l}} - \\grave{I_\\mathrm{m}} - \\frac{4\\Omega}{R}\\,\\grave{I_\\mathrm{m}} = \\grave{I_\\mathrm{l}} - 3\\grave{I_\\mathrm{m}} =0$$"
   ]
  },
  {
   "cell_type": "markdown",
   "id": "582e9cfd",
   "metadata": {},
   "source": [
    "Thus,\n",
    "$$ x = 3\\grave{I} = 12\\mathrm{A}$$"
   ]
  },
  {
   "cell_type": "markdown",
   "id": "fda37b8a",
   "metadata": {},
   "source": [
    "Finally,  \n",
    "\n",
    "$$ x = \\alpha I_\\mathrm{l} = \\alpha 6\\mathrm{A} = 12\\mathrm{A}$$"
   ]
  },
  {
   "cell_type": "markdown",
   "id": "93776080",
   "metadata": {},
   "source": [
    "$$ \\alpha = 2$$"
   ]
  }
 ],
 "metadata": {
  "kernelspec": {
   "display_name": "Python 3",
   "language": "python",
   "name": "python3"
  },
  "language_info": {
   "codemirror_mode": {
    "name": "ipython",
    "version": 3
   },
   "file_extension": ".py",
   "mimetype": "text/x-python",
   "name": "python",
   "nbconvert_exporter": "python",
   "pygments_lexer": "ipython3",
   "version": "3.8.10"
  }
 },
 "nbformat": 4,
 "nbformat_minor": 5
}
