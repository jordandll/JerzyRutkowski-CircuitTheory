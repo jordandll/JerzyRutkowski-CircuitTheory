{
 "cells": [
  {
   "cell_type": "markdown",
   "id": "50fb5b31",
   "metadata": {},
   "source": [
    "# MULTI-TERMINAL ELEMENTS\n",
    "### Chapter 2.9 - *DC Analysis*\n",
    "\n",
    "A multi-terminal element is an element with $m$ terminals available for external connections.\n",
    "After general description of multi-terminal elements, three-terminal element and four-terminal\n",
    "element are considered. Then, analysis of circuits containing multi-terminal elements is\n",
    "discussed."
   ]
  },
  {
   "cell_type": "markdown",
   "id": "5949b3aa",
   "metadata": {},
   "source": [
    "# Element Description – Conductance Matrix\n",
    "\n",
    "## Passive multi-terminal element\n",
    "\n",
    "A general passive $m$-terminal element is presented in Fig. 2.9.1, node $m$ is the reference one\n",
    "and the terminal currents and voltages satisfy the passive sign convention.  \n",
    "\n",
    "![Fig-2.9.1](Figures/Fig-2.9.1.png)"
   ]
  },
  {
   "cell_type": "markdown",
   "id": "a7985875",
   "metadata": {},
   "source": [
    "The element can be uniquely described by $n=m-1$ equations relating external variables, $I_i$ and $U_i$ where $i\\in\\mathbb{N}$ and $i<m$.  These equations may be equations expressing current by voltages:  \n",
    "\n",
    "\\begin{equation}\\tag{1}\n",
    "    \\mathbf{I} = \\mathbf{G \\cdot U}\n",
    "\\end{equation}"
   ]
  },
  {
   "cell_type": "markdown",
   "id": "d6bf0f30",
   "metadata": {},
   "source": [
    "where,  \n",
    "$$ \\mathbf{I} = \n",
    "\\begin{bmatrix}\\tag{1a}\n",
    "    I_1 \\\\\n",
    "    I_2 \\\\\n",
    "    \\vdots \\\\\n",
    "    I_n\n",
    "\\end{bmatrix}    \n",
    "$$"
   ]
  },
  {
   "cell_type": "markdown",
   "id": "0994c301",
   "metadata": {},
   "source": [
    "$$ \\mathbf{G} = \n",
    "\\begin{bmatrix}\\tag{1b}\n",
    "    &G_{11} &G_{12} &\\dots &G_{1n} \\\\\n",
    "    &G_{21} &\\ddots &\\dots &G_{2n} \\\\\n",
    "    &\\vdots &\\vdots &\\ddots &\\vdots \\\\\n",
    "    &G_{n1} &\\dots &\\dots &G_{nn}\n",
    "\\end{bmatrix}    $$"
   ]
  },
  {
   "cell_type": "markdown",
   "id": "27a5d5bf",
   "metadata": {},
   "source": [
    "and,\n",
    "$$ \\mathbf{U} = \n",
    "\\begin{bmatrix}\\tag{1c}\n",
    "    U_1 \\\\\n",
    "    U_2 \\\\\n",
    "    \\vdots \\\\\n",
    "    U_n\n",
    "\\end{bmatrix}    $$"
   ]
  },
  {
   "cell_type": "markdown",
   "id": "2942c9ab",
   "metadata": {},
   "source": [
    "Then, an element is described by the conductance matrix $\\mathbf{G}$. The diagonal element $G_{ii}$, where $i\\in\\mathbb{N}$ and $i<m$, is a conductance between the $i$-th node and the reference one with all other\n",
    "nodes shorted to this $m$-th node (the reference node):  \n",
    "\n",
    "\\begin{equation}\\tag{2}\n",
    "    G_{ii} = \\frac{I_i}{U_i} \\quad \\text{assuming}\\;U_k = 0 \\, \\forall k \\in \\{q \\in \\mathbb{N}\\; : \\; q\\ne i\\}\n",
    "\\end{equation}    "
   ]
  },
  {
   "cell_type": "markdown",
   "id": "72f46036",
   "metadata": {},
   "source": [
    "The off-diagonal element $G_{ij}$, where $i,j\\in\\mathbb{N}$ and $i,j<m$, is the so called trans-conductance, ratio of the $i$-th terminal current to the $j$-th terminal voltage, with all nodes except the $j$-th shorted to\n",
    "the reference one:  \n",
    "\n",
    "\\begin{equation}\\tag{3}\n",
    "    G_{ij}=\\frac{I_i}{U_j}\\quad\\text{assuming}\\;U_k = 0\\,\\forall k\\in\\{q\\in\\mathbb{N}\\;:\\;q\\ne j \\}\n",
    "\\end{equation}"
   ]
  },
  {
   "cell_type": "markdown",
   "id": "73ad7bac",
   "metadata": {},
   "source": [
    "For an $m$-terminal circuit of resistors, the conductance matrix is symmetrical, $G_{ij} = G_{ji}$ . Then,\n",
    "the total number of its parameters (conductances), denoted as '$M$', is given by:  \n",
    "\n",
    "\\begin{equation}\\tag{4}\n",
    "    M = \\frac{m(m-1)}{2}\n",
    "\\end{equation}    "
   ]
  },
  {
   "cell_type": "markdown",
   "id": "ecfe1fca",
   "metadata": {},
   "source": [
    "To ellaborate on the symmetric aspect of the conductance matrix:  $\\mathbf{G}$ is a square matrix that is reflectively symmetric about the diagonal.  Each element (conductance) of $\\mathbf{G}$ on one side of the diagonal is equal to it's corresponding element on the other side of the diagonal, hence $G_{ij} = G_{ji}$.  This touches upon the explanation of equation (4);  The number of parameters that characerize the $m$-terminal circuit element, denoted as '$M$', is equal to the number of conductances (or matrix elements) that make up the diagonal of $\\mathbf{G}$ plus the number of conductances on either sides of the diagonal.  Furthermore, the aforementioned matrix elements, the sum of which are equal to $M$, literally form a discrete triangle with a height of $n=m-1$ rows, hence $M$ being equal to the $n$'th triangular number, which is what equation (4) implies."
   ]
  },
  {
   "cell_type": "markdown",
   "id": "5f7b6f0e",
   "metadata": {},
   "source": [
    "These parameters can be\n",
    "1. measured,\n",
    "2. calculated, if a circuit structure is known."
   ]
  },
  {
   "cell_type": "markdown",
   "id": "1be1ea22",
   "metadata": {},
   "source": [
    "Before discussing, specifically, two, three and four-terminal elements in detail, the concept of a **port** will be\n",
    "introduced."
   ]
  },
  {
   "cell_type": "markdown",
   "id": "b6390d7c",
   "metadata": {},
   "source": [
    "**A port** is a pair of terminals at which same current may enter and leave an element."
   ]
  },
  {
   "cell_type": "markdown",
   "id": "8d6fbc8e",
   "metadata": {},
   "source": [
    "### Two-terminal element (one-port)\n",
    "A general two terminal element with voltage and current that satisfy the passive sign\n",
    "convention is presented in Fig. 2.1.2a. For this element: $m=2$, $M=1$, and the equation\n",
    "relating external variables (2.9.1) is simply the Ohm’s law equation (2.1.5)."
   ]
  },
  {
   "cell_type": "markdown",
   "id": "98cc96d8",
   "metadata": {},
   "source": [
    "### Three-terminal element\n",
    "A general three terminal element is presented in Fig. 2.9.2. For this element: $m=3$, $M=3$\n",
    "and equations relating external variables are:  \n",
    "\n",
    "\\begin{equation}\\tag{5a}\n",
    "    I_1 = G_{11}U_1 + G_{12}U_2\n",
    "\\end{equation}"
   ]
  },
  {
   "cell_type": "markdown",
   "id": "7b100ad6",
   "metadata": {},
   "source": [
    "\\begin{equation}\\tag{5b}\n",
    "    I_2 = G_{21}U_1 + G_{22}U_2\n",
    "\\end{equation}    "
   ]
  },
  {
   "cell_type": "markdown",
   "id": "bb786002",
   "metadata": {},
   "source": [
    "This element is characterized by three conductances:  $G_{11}$, $G_{21}$ (which is equal to $G_{12}$), and $G_{22}$.  In other words, there are two diagonals ($G_{11}$ and $G_{22}$) and two off diagonals ($G_{21}=G_{12}$)."
   ]
  },
  {
   "cell_type": "markdown",
   "id": "f30e1608",
   "metadata": {},
   "source": [
    "![Fig-2.9.2](Figures/Fig-2.9.2.png)"
   ]
  },
  {
   "cell_type": "markdown",
   "id": "7bb76831",
   "metadata": {},
   "source": [
    "Measurement circuits are presented in Fig. 2.9.3a and 2.9.3b for $G_{11}$ and $G_{21}$ respectively."
   ]
  },
  {
   "cell_type": "markdown",
   "id": "da3b084a",
   "metadata": {},
   "source": [
    "![Fig-2.9.3](Figures/Fig-2.9.3.png)"
   ]
  },
  {
   "cell_type": "markdown",
   "id": "68ec8e23",
   "metadata": {},
   "source": [
    "Via KVL and Ohm's Law,  \n",
    "\n",
    "$$ U_1 + R_\\mathrm{A}I_\\mathrm{A} - U_\\mathrm{V} = 0$$"
   ]
  },
  {
   "cell_type": "markdown",
   "id": "1248a0bd",
   "metadata": {},
   "source": [
    "\\begin{equation}\\tag{6a}\n",
    "    U_1 = U_\\mathrm{V} - R_\\mathrm{A}I_\\mathrm{A}\n",
    "\\end{equation}    "
   ]
  },
  {
   "cell_type": "markdown",
   "id": "9731db98",
   "metadata": {},
   "source": [
    "Via equation (2),   \n",
    "\n",
    "\\begin{equation}\\tag{7a}\n",
    "    G_{11} = \\frac{I_1}{U_1} = \\frac{I_\\mathrm{A}}{U_\\mathrm{V}-R_\\mathrm{A}I_\\mathrm{A}}\n",
    "\\end{equation}    "
   ]
  },
  {
   "cell_type": "markdown",
   "id": "ca794d46",
   "metadata": {},
   "source": [
    "The conductance $G_{22}$ can be measured in a similar way.  Simply short the subcircuit from terminal 1-3 and measure $I_2$ and $U_2$."
   ]
  },
  {
   "cell_type": "markdown",
   "id": "a8c91d2a",
   "metadata": {},
   "source": [
    "Finally, the conductance $G_{21}$ is given by:  \n",
    "\n",
    "\\begin{align*}\\tag{6b}\n",
    "    G_{21} &= \\frac{I_2 - G_{22}U_2}{U_1} \\\\ \\\\\n",
    "     &= -\\frac{I_\\mathrm{A} + G_{22}I_\\mathrm{A}R_\\mathrm{A}}{U_\\mathrm{V}} \\\\ \\\\\n",
    "     &= -\\frac{I_\\mathrm{A}}{U_\\mathrm{V}}\\,(1+G_{22}R_\\mathrm{A})\n",
    "\\end{align*}     "
   ]
  },
  {
   "cell_type": "markdown",
   "id": "330d2758",
   "metadata": {},
   "source": [
    "Note that equation (6b) follows from equation (5b)."
   ]
  },
  {
   "cell_type": "markdown",
   "id": "ff564cd1",
   "metadata": {},
   "source": [
    "### Example 2.9.1\n",
    "Consider three resistors circuit of the T-shape structure, as presented in Fig. 2.9.4a.  \n",
    "\n",
    "![Fig-2.9.4](Figures/Fig-2.9.4.png)"
   ]
  },
  {
   "cell_type": "markdown",
   "id": "c8e39ceb",
   "metadata": {},
   "source": [
    "The conductances $G_{11}$ and $G_{21}$ can be designated from Fig. 2.9.4b circuit. The terminal\n",
    "currents are  \n",
    "\n",
    "\\begin{equation}\\tag{Ex1.1a}\n",
    "    I_1=U_1\\div \\left(R_1 + \\frac{R_2R_3}{R_2+R_3}\\right)\n",
    "\\end{equation}    "
   ]
  },
  {
   "cell_type": "markdown",
   "id": "e001f0da",
   "metadata": {},
   "source": [
    "\\begin{equation}\\tag{Ex1.1b}\n",
    "    I_2 = -I_1\\,\\frac{R_3}{R_2+R_3}\n",
    "\\end{equation}    "
   ]
  },
  {
   "cell_type": "markdown",
   "id": "ae7fbff8",
   "metadata": {},
   "source": [
    "Via dividing throughout equation (Ex1.1a) by $U_1$,  \n",
    "\n",
    "\\begin{align*}    \n",
    "    \\frac{I_1}{U_1} &= 1\\div\\left(R_1 + \\frac{R_2R_3}{R_2+R_3}\\right) \\\\ \\\\\n",
    "     &= 1\\div\\frac{R_1(R_2+R_3)+R_2R_3}{R_2+R_3} \\\\ \\\\\n",
    "     &= \\frac{R_2+R_3}{R_1R_2 + R_1R_3 + R_2R_3}\n",
    "\\end{align*}     "
   ]
  },
  {
   "cell_type": "markdown",
   "id": "379176e0",
   "metadata": {},
   "source": [
    "then, the conductances are  \n",
    "\n",
    "\\begin{equation}\\tag{Ex1.2a}\n",
    "    G_{11} = \\frac{I_1}{U_1}\n",
    "\\end{equation}    "
   ]
  },
  {
   "cell_type": "markdown",
   "id": "9c42a15a",
   "metadata": {},
   "source": [
    "\\begin{equation}\\tag{Ex1.2b}\n",
    "    G_{21} = \\frac{I_2}{U_1} = - \\frac{R_3}{R_1R_2 + R_1R_3 + R_2R_3}\n",
    "\\end{equation}    "
   ]
  },
  {
   "cell_type": "markdown",
   "id": "06c555f9",
   "metadata": {},
   "source": [
    "The conductance $G_{22}$, the conductance seen from terminals 2-3 when 1-3 are shorted, can be\n",
    "calculated from Fig. 2.9.4b subcircuit, with branches 1-3 and 2-3 swapped, and this\n",
    "conductance is:  \n",
    "\n",
    "\\begin{equation}\\tag{Ex1.3}\n",
    "    G_{22}=\\frac{I_2}{U_2} = \\frac{R_1 + R_3}{R_1R_2 + R_1R_3+R_2R_3}\n",
    "\\end{equation}    "
   ]
  },
  {
   "cell_type": "markdown",
   "id": "c1b8567d",
   "metadata": {},
   "source": [
    "Assuming terminals 1-3 are shorted, via KVL and Ohm's Law,  \n",
    "\n",
    "$$ U_1 - R_1I_1 - R_3I_3 = -R_1I_1 - R_3I_3=0$$"
   ]
  },
  {
   "cell_type": "markdown",
   "id": "f0aa3f60",
   "metadata": {},
   "source": [
    "\\begin{equation}\\tag{Ex1.4a}\n",
    "    R_1I_1 = -R_3I_3\n",
    "\\end{equation}    "
   ]
  },
  {
   "cell_type": "markdown",
   "id": "3015d9a5",
   "metadata": {},
   "source": [
    "and,\n",
    "$$ R_3I_3 + R_2I_2-U_2=0$$"
   ]
  },
  {
   "cell_type": "markdown",
   "id": "a0515ccb",
   "metadata": {},
   "source": [
    "\\begin{equation}\\tag{Ex1.4b}\n",
    "    U_2 = R_3I_3 + R_2I_2\n",
    "\\end{equation}    "
   ]
  },
  {
   "cell_type": "markdown",
   "id": "92c5904a",
   "metadata": {},
   "source": [
    "Via KCL,  \n",
    "\n",
    "\\begin{equation}\\tag{Ex1.5}\n",
    "    I_1 + I_2 - I_3 = 0\n",
    "\\end{equation}    "
   ]
  },
  {
   "cell_type": "markdown",
   "id": "8cf666f1",
   "metadata": {},
   "source": [
    "Via equations (Ex1.5) and (Ex1.4a),  \n",
    "\n",
    "$$ I_2 - \\frac{R_3}{R_1}\\,I_3 - I_3 = 0$$"
   ]
  },
  {
   "cell_type": "markdown",
   "id": "201de3d8",
   "metadata": {},
   "source": [
    "$$ I_2 = I_3\\left(\\frac{R_3}{R_1} + 1 \\right) = I_3\\,\\frac{R_3+R_1}{R_1}$$"
   ]
  },
  {
   "cell_type": "markdown",
   "id": "637b0204",
   "metadata": {},
   "source": [
    "\\begin{equation}\\tag{Ex1.6}\n",
    "    I_3 = \\frac{R_1}{R_3+R_1}\\,I_2\n",
    "\\end{equation}    "
   ]
  },
  {
   "cell_type": "markdown",
   "id": "8af4bee0",
   "metadata": {},
   "source": [
    "Via equations (Ex1.6) and (Ex1.4b),  \n",
    "\n",
    "$$ U_2 = I_2\\left( \\frac{R_3R_1}{R_3+R_1} + R_2 \\right)$$"
   ]
  },
  {
   "cell_type": "markdown",
   "id": "04bf18cf",
   "metadata": {},
   "source": [
    "Thus,  \n",
    "\n",
    "\\begin{align*}\n",
    "    R_{22} = \\frac{U_2}{I_2} &= \\frac{R_3R_1}{R_3+R_1} + R_2 \\\\ \\\\\n",
    "     &= \\frac{R_3R_1 + R_2R_3 + R_2R_1}{R_3+R_1}\n",
    "\\end{align*}     "
   ]
  },
  {
   "cell_type": "markdown",
   "id": "1a2665f8",
   "metadata": {},
   "source": [
    "Finally,  \n",
    "\n",
    "$$ G_{22} = \\frac{1}{R_{22}}$$"
   ]
  },
  {
   "cell_type": "markdown",
   "id": "da8ff7d5",
   "metadata": {},
   "source": [
    "### Two-port\n",
    "\n",
    "A generic two-port, presented in Fig. 2.9.5, is the special case of four-terminal element. It is\n",
    "described by the same set of equations as a three-terminal element (2.9.5). Port 1 between\n",
    "nodes 1 and 3 is the input port, port 2 between nodes 2 and 4 is the output port.  \n",
    "\n",
    "![Fig-2.9.5](Figures/Fig-2.9.5.png)"
   ]
  },
  {
   "cell_type": "markdown",
   "id": "a705ca77",
   "metadata": {},
   "source": [
    "### Active multi-terminal element\n",
    "For an active multi-terminal element, terminal short-circuit currents should be added to\n",
    "equations (2.9.1).  \n",
    "\n",
    "\\begin{equation}\\tag{8}\n",
    "    \\mathbf{I} = \\mathbf{GU} + \\mathbf{J}\n",
    "\\end{equation}    "
   ]
  },
  {
   "cell_type": "markdown",
   "id": "6e4d03f6",
   "metadata": {},
   "source": [
    "The conductances ($\\mathbf{G}$), short-circuit currents ($\\mathbf{J}$) and the total number of parameters ($M$) are given by:  \n",
    "\n",
    "\\begin{equation}\\tag{9}\n",
    "    G_{ii} = \\frac{I_i}{U_i}\\quad\\text{assuming}\\;U_k=0\\,\\forall k\\in\\{q\\in\\mathbb{N}\\; : \\; q < m \\land q\\ne i\\}\\;\\text{and}\\;\\mathbf{J}=0\n",
    "\\end{equation}    "
   ]
  },
  {
   "cell_type": "markdown",
   "id": "4eca400e",
   "metadata": {},
   "source": [
    "\\begin{equation}\\tag{10}\n",
    "    G_{ij} = \\frac{I_i}{U_j}\\quad\\text{assuming}\\;U_k=0\\,\\forall k\\in\\{q\\in\\mathbb{N}\\; : \\; q < m \\land q\\ne j\\}\\;\\text{and}\\;\\mathbf{J}=0\n",
    "\\end{equation}    "
   ]
  },
  {
   "cell_type": "markdown",
   "id": "90b2474e",
   "metadata": {},
   "source": [
    "\\begin{equation}\\tag{11}\n",
    "    I_i = J_i\\quad\\text{assuming}\\;\\mathbf{U} = 0\n",
    "\\end{equation}    "
   ]
  },
  {
   "cell_type": "markdown",
   "id": "146250ec",
   "metadata": {},
   "source": [
    "\\begin{equation}\\tag{12}\n",
    "    M = \\frac{m(m-1)}{2} + m - 1\n",
    "\\end{equation}    "
   ]
  },
  {
   "cell_type": "markdown",
   "id": "2b970e68",
   "metadata": {},
   "source": [
    "**a)**  \n",
    "To identify $M$ parameters, no external source is necessary, $M$ linearly independent\n",
    "measurements have to be performed, five measurements for a three-terminal element."
   ]
  },
  {
   "cell_type": "markdown",
   "id": "970432a4",
   "metadata": {},
   "source": [
    "### Example 2.9.1b\n",
    "**b)**  \n",
    "Consider three resistors active circuit of the T-shape structure, as presented in Fig. 2.9.6a.\n",
    "After zeroing the voltage source, passive subcircuit of Fig. 2.9.4a is obtained and elements of\n",
    "conductance matrix can be found (2.9.8).\n",
    "Short-circuit currents can be designated from Fig. 2.9.4b circuit, and they are"
   ]
  },
  {
   "cell_type": "markdown",
   "id": "285f92bf",
   "metadata": {},
   "source": [
    "$$ J_1 = (G_{11}+G_{21})E$$"
   ]
  },
  {
   "cell_type": "markdown",
   "id": "67497530",
   "metadata": {},
   "source": [
    "Via the above equation and equations (Ex1.2a) and (Ex1.2b),  \n",
    "\n",
    "\\begin{equation}\\tag{Ex1b.1}\n",
    "    J_1 = \\frac{ER_2}{R_1R_2 + R_1R_3 + R_2R_3}\n",
    "\\end{equation}    "
   ]
  },
  {
   "cell_type": "markdown",
   "id": "5d50d244",
   "metadata": {},
   "source": [
    "$$ J_2 = (G_{12} + G_{22})E$$"
   ]
  },
  {
   "cell_type": "markdown",
   "id": "209acd02",
   "metadata": {},
   "source": [
    "Via the above equation and equations (Ex1.2b) and (Ex1.3),  \n",
    "\n",
    "\\begin{equation}\\tag{Ex1b.2}\n",
    "    J_2 = \\frac{ER_1}{R_1R_2 + R_1R_3 + R_2R_3}\n",
    "\\end{equation}    "
   ]
  },
  {
   "cell_type": "markdown",
   "id": "8cd9f0dc",
   "metadata": {},
   "source": [
    "![Fig-2.9.6](Figures/Fig-2.9.6.png)"
   ]
  },
  {
   "cell_type": "markdown",
   "id": "ef8cabfa",
   "metadata": {},
   "source": [
    "## Other Matrices of Multi-terminal Element\n",
    "A multi-terminal element of $m=n+1$ terminals or a multi-port element of $n=0.5m$ ports can be\n",
    "described by $n=m-1$ equations that express $n$ external variables by other $n$ external\n",
    "variables. Than, total of  \n",
    "\n",
    "$$ N = \\begin{pmatrix}\\tag{13}\n",
    "2n \\\\\n",
    "n \n",
    "\\end{pmatrix}$$"
   ]
  },
  {
   "cell_type": "markdown",
   "id": "a27eb310",
   "metadata": {},
   "source": [
    "descriptions are possible."
   ]
  },
  {
   "cell_type": "markdown",
   "id": "022cdd49",
   "metadata": {},
   "source": [
    "The conductance matrix description, that expresses external currents by external voltages, has\n",
    "been discussed already.\n",
    "The resistance matrix description, that expresses external voltages by external currents, is the\n",
    "other primary way of multi-terminal or multi-port description:  \n",
    "\n",
    "\\begin{equation}\\tag{14}\n",
    "    \\mathbf{U} = \\mathbf{RI} + \\mathbf{E}\n",
    "\\end{equation}    "
   ]
  },
  {
   "cell_type": "markdown",
   "id": "d669a499",
   "metadata": {},
   "source": [
    "All other $N-2$ descriptions are the so called hybrid descriptions:  \n",
    "\n",
    "\\begin{equation}\\tag{15}\n",
    "    \\mathbf{Y} = \\mathbf{HX} + \\mathbf{Z}\n",
    "\\end{equation}    "
   ]
  },
  {
   "cell_type": "markdown",
   "id": "922ffc76",
   "metadata": {},
   "source": [
    "where,\n",
    "$$ \\mathbf{Y} = \\begin{bmatrix}\\tag{15a} \n",
    "I_1 \\\\ \\vdots \\\\ I_{k} \\\\ U_{k+1} \\\\ \\vdots \\\\ U_n\n",
    "\\end{bmatrix}, \n",
    "\\mathbf{H} = \\begin{bmatrix}\n",
    "H_{11} &\\dots &H_{1n} \\\\\n",
    "\\vdots &\\ddots &\\vdots \\\\\n",
    "H_{n1} &\\dots &H_{nn}\n",
    "\\end{bmatrix}, \n",
    "\\mathbf{X} = \\begin{bmatrix}\n",
    "U_1 \\\\ \\vdots \\\\ U_k \\\\ I_{k+1} \\\\ \\vdots \\\\ I_n\n",
    "\\end{bmatrix}, \n",
    "\\mathbf{Z} = \\begin{bmatrix} \n",
    "J_1 \\\\ \\vdots \\\\ J_k \\\\ E_{k+1} \\\\ \\vdots \\\\ E_n\n",
    "\\end{bmatrix}\n",
    "$$"
   ]
  },
  {
   "cell_type": "markdown",
   "id": "f284f475",
   "metadata": {},
   "source": [
    "For three-terminal or two-port element, four hybrid descriptions can be formulated. The so\n",
    "called cascade matrix description (2.9.18), that expresses output variables by input variables,\n",
    "is frequently used.  \n",
    "\n",
    "$$ \\begin{bmatrix}\\tag{16}\n",
    "U_2\\\\ I_2 \n",
    "\\end{bmatrix} = \\begin{bmatrix}\n",
    "C_{11} &C_{12} \\\\\n",
    "C_{21} &C_{22}\n",
    "\\end{bmatrix} \\cdot \\begin{bmatrix}\n",
    "U_1 \\\\ I_1\n",
    "\\end{bmatrix} + \\begin{bmatrix}\n",
    "E_1 \\\\ J_2\n",
    "\\end{bmatrix}\n",
    "$$"
   ]
  },
  {
   "cell_type": "markdown",
   "id": "49865bd2",
   "metadata": {},
   "source": [
    "For a resistive $m$-terminal circuit, both conductance matrix and resistance matrix are\n",
    "symmetrical. Hybrid matrix is non-symmetrical, however it also contains $M$ (2.9.4) linearly\n",
    "independent parameters. In general, having one matrix description the other one can be found.\n",
    "The following relationships between the conductance matrix description and the resistance\n",
    "matrix description can be given:  \n",
    "\n",
    "\\begin{equation}\\tag{17a}\n",
    "    \\mathbf{R} = \\mathbf{G}^{-1}\\, , \\quad\\mathbf{E} = -\\mathbf{JR} = -\\mathbf{JG}^{-1}\n",
    "\\end{equation}    "
   ]
  },
  {
   "cell_type": "markdown",
   "id": "97633db4",
   "metadata": {},
   "source": [
    "\\begin{equation}\\tag{17b}\n",
    "    \\mathbf{G} = \\mathbf{R}^{-1}\\, , \\quad \\mathbf{J}=-\\mathbf{EG} = -\\mathbf{ER}^{-1}\n",
    "\\end{equation}    "
   ]
  },
  {
   "cell_type": "markdown",
   "id": "899d5e25",
   "metadata": {},
   "source": [
    "### Example 2.9.1a cont.\n",
    "The circuit of Fig. 2.9.6a can be described by the resistance matrix:  \n",
    "\n",
    "\\begin{equation}\\tag{18a}\n",
    "    U_1="
   ]
  }
 ],
 "metadata": {
  "kernelspec": {
   "display_name": "Python 3",
   "language": "python",
   "name": "python3"
  },
  "language_info": {
   "codemirror_mode": {
    "name": "ipython",
    "version": 3
   },
   "file_extension": ".py",
   "mimetype": "text/x-python",
   "name": "python",
   "nbconvert_exporter": "python",
   "pygments_lexer": "ipython3",
   "version": "3.8.10"
  }
 },
 "nbformat": 4,
 "nbformat_minor": 5
}
