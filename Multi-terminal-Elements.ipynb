{
 "cells": [
  {
   "cell_type": "markdown",
   "id": "50fb5b31",
   "metadata": {},
   "source": [
    "# MULTI-TERMINAL ELEMENTS\n",
    "### Chapter 2.9 - *DC Analysis*\n",
    "\n",
    "A multi-terminal element is an element with $m$ terminals available for external connections.\n",
    "After general description of multi-terminal elements, three-terminal element and four-terminal\n",
    "element are considered. Then, analysis of circuits containing multi-terminal elements is\n",
    "discussed."
   ]
  },
  {
   "cell_type": "markdown",
   "id": "5949b3aa",
   "metadata": {},
   "source": [
    "# Element Description – Conductance Matrix\n",
    "\n",
    "## Passive multi-terminal element\n",
    "\n",
    "A general passive $m$-terminal element is presented in Fig. 2.9.1, node $m$ is the reference one\n",
    "and the terminal currents and voltages satisfy the passive sign convention.  \n",
    "\n",
    "![Fig-2.9.1](Figures/Fig-2.9.1.png)"
   ]
  },
  {
   "cell_type": "markdown",
   "id": "a7985875",
   "metadata": {},
   "source": [
    "The element can be uniquely described by $n=m-1$ equations relating external variables, $I_i$ and $U_i$ where $i\\in\\mathbb{N}$ and $i<m$.  These equations can be equations expressing current by voltages:  \n",
    "\n",
    "\\begin{equation}\\tag{1}\n",
    "    \\mathbf{I} = \\mathbf{G \\cdot U}\n",
    "\\end{equation}"
   ]
  },
  {
   "cell_type": "markdown",
   "id": "d6bf0f30",
   "metadata": {},
   "source": [
    "where,  \n",
    "$$ \\mathbf{I} = \n",
    "\\begin{bmatrix}\\tag{1a}\n",
    "    I_1 \\\\\n",
    "    I_2 \\\\\n",
    "    \\vdots \\\\\n",
    "    I_n\n",
    "\\end{bmatrix}    \n",
    "$$"
   ]
  },
  {
   "cell_type": "markdown",
   "id": "0994c301",
   "metadata": {},
   "source": [
    "$$ \\mathbf{G} = \n",
    "\\begin{bmatrix}\\tag{1b}\n",
    "    &G_{11} &G_{12} &\\dots &G_{1n} \\\\\n",
    "    &G_{21} &\\ddots &\\dots &G_{2n} \\\\\n",
    "    &\\vdots &\\vdots &\\ddots &\\vdots \\\\\n",
    "    &G_{n1} &\\dots &\\dots &G_{nn}\n",
    "\\end{bmatrix}    $$"
   ]
  },
  {
   "cell_type": "markdown",
   "id": "27a5d5bf",
   "metadata": {},
   "source": [
    "and,\n",
    "$$ \\mathbf{U} = \n",
    "\\begin{bmatrix}\\tag{1c}\n",
    "    U_1 \\\\\n",
    "    U_2 \\\\\n",
    "    \\vdots \\\\\n",
    "    U_n\n",
    "\\end{bmatrix}    $$"
   ]
  },
  {
   "cell_type": "markdown",
   "id": "2942c9ab",
   "metadata": {},
   "source": [
    "Then, an element is described by the conductance matrix $\\mathbf{G}$. The diagonal element $G_{ii}$, where $i\\in\\mathbb{N}$ and $i<m$, is a conductance between the $i$-th node and the reference one with all other\n",
    "nodes shorted to this $m$-th node (the reference node):  \n",
    "\n",
    "\\begin{equation}\\tag{2}\n",
    "    G_{ii} = \\frac{I_i}{U_i} \\quad \\text{assuming}\\;U_k = 0 \\, \\forall k \\in \\{q \\in \\mathbb{N}\\; : \\; q\\ne i\\}\n",
    "\\end{equation}    "
   ]
  },
  {
   "cell_type": "markdown",
   "id": "72f46036",
   "metadata": {},
   "source": [
    "The off-diagonal element $G_{ij}$, where $i,j\\in\\mathbb{N}$ and $i,j<m$, is the so called trans-conductance, ratio of the $i$-th terminal current to the $j$-th terminal voltage, with all nodes except the $j$-th shorted to\n",
    "the reference one:  \n",
    "\n",
    "\\begin{equation}\\tag{3}\n",
    "    G_{ij}=\\frac{I_i}{U_j}\\quad\\text{assuming}\\;U_k = 0\\,\\forall k\\in\\{q\\in\\mathbb{N}\\;:\\;q\\ne j \\}\n",
    "\\end{equation}"
   ]
  },
  {
   "cell_type": "markdown",
   "id": "73ad7bac",
   "metadata": {},
   "source": [
    "For an $m$-terminal circuit of resistors, the conductance matrix is symmetrical, $G_{ij} = G_{ji}$ . Then,\n",
    "the total number of its parameters (conductances), denoted as '$M$', is given by:  \n",
    "\n",
    "\\begin{equation}\\tag{4}\n",
    "    M = \\frac{m(m-1)}{2}\n",
    "\\end{equation}    "
   ]
  },
  {
   "cell_type": "markdown",
   "id": "ecfe1fca",
   "metadata": {},
   "source": [
    "To ellaborate on the symmetric aspect of the conductance matrix:  $\\mathbf{G}$ is a square matrix that is reflectively symmetric about the diagonal;  Each element (conductance) of $\\mathbf{G}$ on one side of the diagonal is equal to it's corresponding element on the other side of the diagonal, hence $G_{ij} = G_{ji}$.  This touches upon the explanation of equation (4).  The number of parameters that characerize the $m$-terminal circuit element, denoted as '$M$', is equal to the number of conductances (or matrix elements) that make up the diagonal of $\\mathbf{G}$ plus the number of conductances on either sides of the diagonal.  Furthermore, the aforementioned matrix elements, the sum of which are equal to $M$, literally form a discrete triangle with a height of $n=m-1$ rows, hence $M$ being equal to the $n$'th triangular number, which is what equation (4) implies."
   ]
  },
  {
   "cell_type": "markdown",
   "id": "5f7b6f0e",
   "metadata": {},
   "source": [
    "These parameters can be\n",
    "1. measured,\n",
    "2. calculated, if a circuit structure is known."
   ]
  },
  {
   "cell_type": "markdown",
   "id": "1be1ea22",
   "metadata": {},
   "source": [
    "Before discussing, specifically, two, three and four-terminal elements in detail, the concept of a **port** will be\n",
    "introduced."
   ]
  },
  {
   "cell_type": "markdown",
   "id": "b6390d7c",
   "metadata": {},
   "source": [
    "**A port** is a pair of terminals at which same current may enter and leave an element."
   ]
  },
  {
   "cell_type": "markdown",
   "id": "8d6fbc8e",
   "metadata": {},
   "source": [
    "### Two-terminal element (one-port)\n",
    "A general two terminal element with voltage and current that satisfy the passive sign\n",
    "convention is presented in Fig. 2.1.2a. For this element: $m=2$, $M=1$, and the equation\n",
    "relating external variables (2.9.1) is simply the Ohm’s law equation (2.1.5)."
   ]
  },
  {
   "cell_type": "markdown",
   "id": "98cc96d8",
   "metadata": {},
   "source": [
    "### Three-terminal element\n",
    "A general three terminal element is presented in Fig. 2.9.2. For this element: $m=3$, $M=3$\n",
    "and equations relating external variables are:  \n",
    "\n",
    "\\begin{equation}\\tag{5a}\n",
    "    I_1 = G_{11}U_1 + G_{12}U_2\n",
    "\\end{equation}"
   ]
  },
  {
   "cell_type": "markdown",
   "id": "7b100ad6",
   "metadata": {},
   "source": [
    "\\begin{equation}\\tag{5b}\n",
    "    I_2 = G_{21}U_1 + G_{22}U_2\n",
    "\\end{equation}    "
   ]
  },
  {
   "cell_type": "markdown",
   "id": "bb786002",
   "metadata": {},
   "source": [
    "This element is characterized by three conductances:  $G_{11}$, $G_{21}$ (which is equal to $G_{12}$), and $G_{22}$.  In other words, there are two diagonals ($G_{11}$ and $G_{22}$) and two off diagonals ($G_{21}=G_{12}$)."
   ]
  }
 ],
 "metadata": {
  "kernelspec": {
   "display_name": "Python 3 (ipykernel)",
   "language": "python",
   "name": "python3"
  },
  "language_info": {
   "codemirror_mode": {
    "name": "ipython",
    "version": 3
   },
   "file_extension": ".py",
   "mimetype": "text/x-python",
   "name": "python",
   "nbconvert_exporter": "python",
   "pygments_lexer": "ipython3",
   "version": "3.8.10"
  }
 },
 "nbformat": 4,
 "nbformat_minor": 5
}
