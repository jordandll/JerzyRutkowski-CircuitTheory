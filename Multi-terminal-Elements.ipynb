{
 "cells": [
  {
   "cell_type": "markdown",
   "id": "50fb5b31",
   "metadata": {},
   "source": [
    "# Multi-terminal Elements\n",
    "### Chapter 2.9 - *DC Analysis*\n",
    "\n",
    "A multi-terminal element is an element with $m$ terminals available for external connections.\n",
    "After general description of multi-terminal elements, three-terminal element and four-terminal\n",
    "element are considered. Then, analysis of circuits containing multi-terminal elements is\n",
    "discussed."
   ]
  },
  {
   "cell_type": "markdown",
   "id": "5949b3aa",
   "metadata": {},
   "source": [
    "# Element Description – Conductance Matrix\n",
    "\n",
    "## Passive Multi-terminal Element\n",
    "\n",
    "A general passive $m$-terminal element is presented in Fig. 2.9.1, node $m$ is the reference one\n",
    "and the terminal currents and voltages satisfy the passive sign convention.  \n",
    "\n",
    "![Fig-2.9.1](Figures/Fig-2.9.1.png)"
   ]
  },
  {
   "cell_type": "markdown",
   "id": "a7985875",
   "metadata": {},
   "source": [
    "The element can be uniquely described by $n=m-1$ equations relating external variables, $I_i$ and $U_i$ where $i\\in\\mathbb{N}$ and $i<m$.  These equations may be equations expressing current by voltages:  \n",
    "\n",
    "\\begin{equation}\\tag{1}\n",
    "    \\mathbf{I} = \\mathbf{G \\cdot U}\n",
    "\\end{equation}"
   ]
  },
  {
   "cell_type": "markdown",
   "id": "d6bf0f30",
   "metadata": {},
   "source": [
    "where,  \n",
    "$$ \\mathbf{I} = \n",
    "\\begin{bmatrix}\\tag{1a}\n",
    "    I_1 \\\\\n",
    "    I_2 \\\\\n",
    "    \\vdots \\\\\n",
    "    I_n\n",
    "\\end{bmatrix}    \n",
    "$$"
   ]
  },
  {
   "cell_type": "markdown",
   "id": "0994c301",
   "metadata": {},
   "source": [
    "$$ \\mathbf{G} = \n",
    "\\begin{bmatrix}\\tag{1b}\n",
    "    G_{11} &G_{12} &\\dots &G_{1n} \\\\\n",
    "    G_{21} &G_{22} &\\dots &G_{2n} \\\\\n",
    "    \\vdots &\\vdots &\\ddots &\\vdots \\\\\n",
    "    G_{n1} &G_{n2} &\\dots &G_{nn}\n",
    "\\end{bmatrix}    $$"
   ]
  },
  {
   "cell_type": "markdown",
   "id": "27a5d5bf",
   "metadata": {},
   "source": [
    "and,\n",
    "$$ \\mathbf{U} = \n",
    "\\begin{bmatrix}\\tag{1c}\n",
    "    U_1 \\\\\n",
    "    U_2 \\\\\n",
    "    \\vdots \\\\\n",
    "    U_n\n",
    "\\end{bmatrix}    $$"
   ]
  },
  {
   "cell_type": "markdown",
   "id": "2942c9ab",
   "metadata": {},
   "source": [
    "Then, an element is described by the conductance matrix $\\mathbf{G}$. The diagonal element $G_{ii}$, where $i\\in\\mathbb{N}$ and $i<m$, is a conductance between the $i$-th node and the reference one with all other\n",
    "nodes shorted to this $m$-th node (the reference node):  \n",
    "\n",
    "\\begin{equation}\\tag{2}\n",
    "    G_{ii} = \\frac{I_i}{U_i} \\quad \\text{assuming}\\;U_k = 0 \\, \\forall k \\in \\{q \\in \\mathbb{N}\\; : \\; q<m \\,\\land\\, q\\ne i\\}\n",
    "\\end{equation}    "
   ]
  },
  {
   "cell_type": "markdown",
   "id": "ec983429",
   "metadata": {},
   "source": [
    "or, to put it another way:  \n",
    "\n",
    "\\begin{equation}\\tag{2}\n",
    "    G_{ii} = \\frac{I_i}{U_i}_{\\Big | U_k=0;\\; k=1,\\dots,n;\\; k\\ne i}\n",
    "\\end{equation}    "
   ]
  },
  {
   "cell_type": "markdown",
   "id": "72f46036",
   "metadata": {},
   "source": [
    "The off-diagonal element $G_{ij}$, where $i,j\\in\\mathbb{N}$ and $i,j<m$, is the so called trans-conductance, ratio of the $i$-th terminal current to the $j$-th terminal voltage, with all nodes except the $j$-th shorted to\n",
    "the reference one:  \n",
    "\n",
    "\\begin{equation}\\tag{3}\n",
    "    G_{ij}=\\frac{I_i}{U_j}\\quad\\text{assuming}\\;U_k = 0\\,\\forall k\\in\\{q\\in\\mathbb{N}\\;:\\; q<m\\,\\land\\,q\\ne j \\}\n",
    "\\end{equation}"
   ]
  },
  {
   "cell_type": "markdown",
   "id": "ff9a4811",
   "metadata": {},
   "source": [
    "or, to put it another way,  \n",
    "\n",
    "\\begin{equation}\\tag{3}\n",
    "    G_{ij}=\\frac{I_i}{U_j}_{\\Big | U_k=0;\\; k=1,\\dots,n;\\; k\\ne j}\n",
    "\\end{equation}    "
   ]
  },
  {
   "cell_type": "markdown",
   "id": "73ad7bac",
   "metadata": {},
   "source": [
    "For an $m$-terminal circuit of resistors, the conductance matrix is symmetrical, $G_{ij} = G_{ji}$ . Then,\n",
    "the total number of its parameters (conductances), denoted as '$M$', is given by:  \n",
    "\n",
    "\\begin{equation}\\tag{4}\n",
    "    M = \\frac{m(m-1)}{2}\n",
    "\\end{equation}    "
   ]
  },
  {
   "cell_type": "markdown",
   "id": "ecfe1fca",
   "metadata": {},
   "source": [
    "To ellaborate on the symmetric aspect of the conductance matrix:  $\\mathbf{G}$ is a square matrix that is reflectively symmetric about the diagonal.  Each element (conductance) of $\\mathbf{G}$ on one side of the diagonal is equal to it's corresponding element on the other side of the diagonal, hence $G_{ij} = G_{ji}$.  This touches upon the explanation of equation (4);  The number of parameters that characerize the $m$-terminal circuit element, denoted as '$M$', is equal to the number of conductances (or matrix elements) that make up the diagonal of $\\mathbf{G}$ plus the number of conductances on either sides of the diagonal.  Furthermore, the aforementioned matrix elements, the sum of which are equal to $M$, literally form a discrete triangle with a height of $n=m-1$ rows, hence $M$ being equal to the $n$'th triangular number, which is what equation (4) implies."
   ]
  },
  {
   "cell_type": "markdown",
   "id": "5f7b6f0e",
   "metadata": {},
   "source": [
    "These parameters can be\n",
    "1. measured,\n",
    "2. calculated, if a circuit structure is known."
   ]
  },
  {
   "cell_type": "markdown",
   "id": "1be1ea22",
   "metadata": {},
   "source": [
    "Before discussing, specifically, two, three and four-terminal elements in detail, the concept of a **port** will be\n",
    "introduced."
   ]
  },
  {
   "cell_type": "markdown",
   "id": "b6390d7c",
   "metadata": {},
   "source": [
    "**A port** is a pair of terminals at which same current may enter and leave an element."
   ]
  },
  {
   "cell_type": "markdown",
   "id": "8d6fbc8e",
   "metadata": {},
   "source": [
    "### Two-terminal element (one-port)\n",
    "A general two terminal element with voltage and current that satisfy the passive sign\n",
    "convention is presented in Fig. 2.1.2a. For this element: $m=2$, $M=1$, and the equation\n",
    "relating external variables (2.9.1) is simply the Ohm’s law equation (2.1.5)."
   ]
  },
  {
   "cell_type": "markdown",
   "id": "98cc96d8",
   "metadata": {},
   "source": [
    "### Three-terminal element\n",
    "A general three terminal element is presented in Fig. 2.9.2. For this element: $m=3$, $M=3$\n",
    "and equations relating external variables are:  \n",
    "\n",
    "\\begin{equation}\\tag{5a}\n",
    "    I_1 = G_{11}U_1 + G_{12}U_2\n",
    "\\end{equation}"
   ]
  },
  {
   "cell_type": "markdown",
   "id": "7b100ad6",
   "metadata": {},
   "source": [
    "\\begin{equation}\\tag{5b}\n",
    "    I_2 = G_{21}U_1 + G_{22}U_2\n",
    "\\end{equation}    "
   ]
  },
  {
   "cell_type": "markdown",
   "id": "bb786002",
   "metadata": {},
   "source": [
    "This element is characterized by three conductances:  $G_{11}$, $G_{21}$ (which is equal to $G_{12}$), and $G_{22}$.  In other words, there are two diagonals ($G_{11}$ and $G_{22}$) and two off diagonals ($G_{21}=G_{12}$)."
   ]
  },
  {
   "cell_type": "markdown",
   "id": "f30e1608",
   "metadata": {},
   "source": [
    "![Fig-2.9.2](Figures/Fig-2.9.2.png)"
   ]
  },
  {
   "cell_type": "markdown",
   "id": "7bb76831",
   "metadata": {},
   "source": [
    "Measurement circuits are presented in Fig. 2.9.3a and 2.9.3b for $G_{11}$ and $G_{21}$ respectively."
   ]
  },
  {
   "cell_type": "markdown",
   "id": "da3b084a",
   "metadata": {},
   "source": [
    "![Fig-2.9.3](Figures/Fig-2.9.3.png)"
   ]
  },
  {
   "cell_type": "markdown",
   "id": "68ec8e23",
   "metadata": {},
   "source": [
    "Via KVL and Ohm's Law,  \n",
    "\n",
    "$$ U_1 + R_\\mathrm{A}I_\\mathrm{A} - U_\\mathrm{V} = 0$$"
   ]
  },
  {
   "cell_type": "markdown",
   "id": "1248a0bd",
   "metadata": {},
   "source": [
    "\\begin{equation}\\tag{6a}\n",
    "    U_1 = U_\\mathrm{V} - R_\\mathrm{A}I_\\mathrm{A}\n",
    "\\end{equation}    "
   ]
  },
  {
   "cell_type": "markdown",
   "id": "9731db98",
   "metadata": {},
   "source": [
    "Via equation (2),   \n",
    "\n",
    "\\begin{equation}\\tag{7a}\n",
    "    G_{11} = \\frac{I_1}{U_1} = \\frac{I_\\mathrm{A}}{U_\\mathrm{V}-R_\\mathrm{A}I_\\mathrm{A}}\n",
    "\\end{equation}    "
   ]
  },
  {
   "cell_type": "markdown",
   "id": "ca794d46",
   "metadata": {},
   "source": [
    "The conductance $G_{22}$ can be measured in a similar way.  Simply short the subcircuit from terminal 1-3 and measure $I_2$ and $U_2$."
   ]
  },
  {
   "cell_type": "markdown",
   "id": "a8c91d2a",
   "metadata": {},
   "source": [
    "Finally, the conductance $G_{21}$ is given by:  \n",
    "\n",
    "\\begin{align*}\\tag{6b}\n",
    "    G_{21} &= \\frac{I_2 - G_{22}U_2}{U_1} \\\\ \\\\\n",
    "     &= -\\frac{I_\\mathrm{A} + G_{22}I_\\mathrm{A}R_\\mathrm{A}}{U_\\mathrm{V}} \\\\ \\\\\n",
    "     &= -\\frac{I_\\mathrm{A}}{U_\\mathrm{V}}\\,(1+G_{22}R_\\mathrm{A})\n",
    "\\end{align*}     "
   ]
  },
  {
   "cell_type": "markdown",
   "id": "330d2758",
   "metadata": {},
   "source": [
    "Note that equation (6b) follows from equation (5b)."
   ]
  },
  {
   "cell_type": "markdown",
   "id": "ff564cd1",
   "metadata": {},
   "source": [
    "### Example 2.9.1\n",
    "Consider three resistors circuit of the T-shape structure, as presented in Fig. 2.9.4a.  \n",
    "\n",
    "![Fig-2.9.4](Figures/Fig-2.9.4.png)"
   ]
  },
  {
   "cell_type": "markdown",
   "id": "315ccb40",
   "metadata": {},
   "source": [
    "Assuming $U_2=0$ (i.e. short-circuit conditions across terminals 2 to 3), via KVL and Ohm's Law,  \n",
    "\n",
    "\\begin{equation}\\tag{Ex1.7}\n",
    "    I_2R_2 = -R_3I_3\n",
    "\\end{equation}    "
   ]
  },
  {
   "cell_type": "markdown",
   "id": "9a69e875",
   "metadata": {},
   "source": [
    "Via KCL,  \n",
    "\n",
    "\\begin{equation}\\tag{Ex1.8}\n",
    "    I_1 + I_2 = I_3\n",
    "\\end{equation}    "
   ]
  },
  {
   "cell_type": "markdown",
   "id": "e5e2cc3e",
   "metadata": {},
   "source": [
    "Via equations (1.8) and (Ex1.7),  \n",
    "\n",
    "\\begin{equation}\\tag{1.8a}\n",
    "    I_3 = -I_2\\,\\frac{R_2}{R_3}\n",
    "\\end{equation}    "
   ]
  },
  {
   "cell_type": "markdown",
   "id": "db7a8fda",
   "metadata": {},
   "source": [
    "Via equations (Ex1.7) and (Ex1.8a),  \n",
    "\n",
    "$$ -I_1 = I_2\\,\\left(1 + \\frac{R_2}{R_3} \\right) = I_2\\,\\frac{R_3+R_2}{R_3}$$"
   ]
  },
  {
   "cell_type": "markdown",
   "id": "ccff1586",
   "metadata": {},
   "source": [
    "\\begin{equation}\\tag{Ex1.1b}\n",
    "    I_2 = -I_1\\,\\frac{R_3}{R_2+R_3}\n",
    "\\end{equation}    "
   ]
  },
  {
   "cell_type": "markdown",
   "id": "fcee37b5",
   "metadata": {},
   "source": [
    "Now, to find the (transfer?) function that maps $U_1$ to $I_1$, again, assuming short-circuit conditions across terminals 2 to 3 implying $U_2=0$.  Via KVL and Ohm's Law,  \n",
    "\n",
    "\\begin{equation}\\tag{Ex1.9}\n",
    "    U_1 = R_1I_1 + R_3I_3\n",
    "\\end{equation}    "
   ]
  },
  {
   "cell_type": "markdown",
   "id": "00f7070d",
   "metadata": {},
   "source": [
    "Via equations (Ex1.9) and (Ex1.7) and substitution,  \n",
    "\n",
    "\\begin{equation}\\tag{Ex1.9a}\n",
    "    U_1 = R_1I_1 - R_2I_2\n",
    "\\end{equation}    "
   ]
  },
  {
   "cell_type": "markdown",
   "id": "90625e84",
   "metadata": {},
   "source": [
    "Via equations (Ex1.9a) and (Ex1.1b) and substitution,  \n",
    "\n",
    "$$ U_1 = R_1I_1 + I_1\\,\\frac{R_2R_3}{R_2+R_3}$$"
   ]
  },
  {
   "cell_type": "markdown",
   "id": "dc0ccaea",
   "metadata": {},
   "source": [
    "\\begin{equation}\\tag{Ex1.1}\n",
    "    U_1 = I_1\\,\\left(R_1 + \\frac{R_2R_3}{R_2+R_3}\\right)\n",
    "\\end{equation}    "
   ]
  },
  {
   "cell_type": "markdown",
   "id": "22ed1a7a",
   "metadata": {},
   "source": [
    "We could *not* obtain the above (transfer?) function without shorting terminals 2 to 3.  Under non-short-circuit conditions, equation (Ex1.7) would contain a non-zero valued $U_2$;  Thus equation (Ex1.9a), which was obtained via equation (Ex1.7) and substitution, and, consequently equation (Ex1.1), would both contain a non-zero valued $U_2$.  \n",
    "\n",
    "Note that the (transfer?) function that relates $I_2$ and $I_3$, with resistances $R_2$ and $R_3$ as parameters of the function and characteristics of the multi-terminal element, found in equation (Ex1.8a), would not be obtainable as well."
   ]
  },
  {
   "cell_type": "markdown",
   "id": "b73c9359",
   "metadata": {},
   "source": [
    "Without assuming $U_2=0$, via KVL and Ohm's Law,  \n",
    "\n",
    "\\begin{equation}\\tag{Ex1.10}\n",
    "    R_2I_2 + R_3I_3 = U_2\n",
    "\\end{equation}    "
   ]
  },
  {
   "cell_type": "markdown",
   "id": "5ca0c2af",
   "metadata": {},
   "source": [
    "Via equations (Ex1.10) and (Ex1.9) and substitution,  \n",
    "\n",
    "\\begin{equation}\\tag{Ex1.10a}\n",
    "    U_1 = R_1I_1 - R_2I_2 + U_2\n",
    "\\end{equation}    "
   ]
  },
  {
   "cell_type": "markdown",
   "id": "6816cb3c",
   "metadata": {},
   "source": [
    "Via equations (Ex1.8) and (Ex1.10),  \n",
    "\n",
    "\\begin{equation}\\tag{Ex1.11}\n",
    "    U_2 = R_2I_2 + R_3(I_1+I_2)\n",
    "\\end{equation}    "
   ]
  },
  {
   "cell_type": "markdown",
   "id": "ba5f825c",
   "metadata": {},
   "source": [
    "Finally, via equations (Ex1.11) and (Ex1.10a) and substitution,  \n",
    "\n",
    "\\begin{align*}\\tag{Ex1.12}\n",
    "    U_1 &= R_1I_1 + R_3(I_1+I_2) \\\\\n",
    "     &= I_1(R_1+R_3) + R_3I_2\n",
    "\\end{align*}     "
   ]
  },
  {
   "cell_type": "markdown",
   "id": "d6940a54",
   "metadata": {},
   "source": [
    "Via equations (Ex1.12) and (19a) in conjunction with the fact that, since this is a passive element, $\\mathbf{E}=0$,  \n",
    "\n",
    "\\begin{equation}\\tag{Ex1.12a}\n",
    "    U_1 = R_{11}I_1 + R_3I_2\n",
    "\\end{equation}    "
   ]
  },
  {
   "cell_type": "markdown",
   "id": "c8fd299d",
   "metadata": {},
   "source": [
    "Basically, in a passive $3$-terminal element, $R_{11}$ is equal to $U_1$ divided by $I_1$, assuming open-circuit conditions across terminals 2 to 3.  \n",
    "\n",
    "$$ R_{11} = \\frac{U_1}{I_1}_{\\Big| I_2=0} $$"
   ]
  },
  {
   "cell_type": "markdown",
   "id": "b60f0da5",
   "metadata": {},
   "source": [
    "Moreover, via equations (19b) and (Ex1.12a) in conjunction the fact that this is a passive element,  \n",
    "\n",
    "\\begin{equation}\\tag{Ex1.12b}\n",
    "    U_1 = R_{11}I_1 + R_{12}I_2\n",
    "\\end{equation}    "
   ]
  },
  {
   "cell_type": "markdown",
   "id": "36679c48",
   "metadata": {},
   "source": [
    "Note that the above equation, equation (Ex1.12b), follows from equation (8a) and that fact that, again, since this is a passive multi-terminal element, $\\mathbf{E}=0$."
   ]
  },
  {
   "cell_type": "markdown",
   "id": "c8e39ceb",
   "metadata": {},
   "source": [
    "The conductances $G_{11}$ and $G_{21}$ can be designated from Fig. 2.9.4b circuit. The terminal\n",
    "currents are  \n",
    "\n",
    "\\begin{equation}\\tag{Ex1.1a}\n",
    "    I_1=U_1\\div \\left(R_1 + \\frac{R_2R_3}{R_2+R_3}\\right)\n",
    "\\end{equation}    "
   ]
  },
  {
   "cell_type": "markdown",
   "id": "e001f0da",
   "metadata": {},
   "source": [
    "\\begin{equation}\\tag{Ex1.1b}\n",
    "    I_2 = -I_1\\,\\frac{R_3}{R_2+R_3}\n",
    "\\end{equation}    "
   ]
  },
  {
   "cell_type": "markdown",
   "id": "ae7fbff8",
   "metadata": {},
   "source": [
    "Via dividing throughout equation (Ex1.1a) by $U_1$,  \n",
    "\n",
    "\\begin{align*}    \n",
    "    \\frac{I_1}{U_1} &= 1\\div\\left(R_1 + \\frac{R_2R_3}{R_2+R_3}\\right) \\\\ \\\\\n",
    "     &= 1\\div\\frac{R_1(R_2+R_3)+R_2R_3}{R_2+R_3} \\\\ \\\\\n",
    "     &= \\frac{R_2+R_3}{R_1R_2 + R_1R_3 + R_2R_3}\n",
    "\\end{align*}     "
   ]
  },
  {
   "cell_type": "markdown",
   "id": "379176e0",
   "metadata": {},
   "source": [
    "then, the conductances are  \n",
    "\n",
    "\\begin{equation}\\tag{Ex1.2a}\n",
    "    G_{11} = \\frac{I_1}{U_1}\n",
    "\\end{equation}    "
   ]
  },
  {
   "cell_type": "markdown",
   "id": "9c42a15a",
   "metadata": {},
   "source": [
    "\\begin{equation}\\tag{Ex1.2b}\n",
    "    G_{21} = \\frac{I_2}{U_1} = - \\frac{R_3}{R_1R_2 + R_1R_3 + R_2R_3}\n",
    "\\end{equation}    "
   ]
  },
  {
   "cell_type": "markdown",
   "id": "06c555f9",
   "metadata": {},
   "source": [
    "The conductance $G_{22}$, the conductance seen from terminals 2-3 when 1-3 are shorted, can be\n",
    "calculated from Fig. 2.9.4b subcircuit, with branches 1-3 and 2-3 swapped, and this\n",
    "conductance is:  \n",
    "\n",
    "\\begin{equation}\\tag{Ex1.3}\n",
    "    G_{22}=\\frac{I_2}{U_2} = \\frac{R_1 + R_3}{R_1R_2 + R_1R_3+R_2R_3}\n",
    "\\end{equation}    "
   ]
  },
  {
   "cell_type": "markdown",
   "id": "c1b8567d",
   "metadata": {},
   "source": [
    "Assuming terminals 1-3 are shorted, via KVL and Ohm's Law,  \n",
    "\n",
    "$$ U_1 - R_1I_1 - R_3I_3 = -R_1I_1 - R_3I_3=0$$"
   ]
  },
  {
   "cell_type": "markdown",
   "id": "f0aa3f60",
   "metadata": {},
   "source": [
    "\\begin{equation}\\tag{Ex1.4a}\n",
    "    R_1I_1 = -R_3I_3\n",
    "\\end{equation}    "
   ]
  },
  {
   "cell_type": "markdown",
   "id": "3015d9a5",
   "metadata": {},
   "source": [
    "and,\n",
    "$$ R_3I_3 + R_2I_2-U_2=0$$"
   ]
  },
  {
   "cell_type": "markdown",
   "id": "a0515ccb",
   "metadata": {},
   "source": [
    "\\begin{equation}\\tag{Ex1.4b}\n",
    "    U_2 = R_3I_3 + R_2I_2\n",
    "\\end{equation}    "
   ]
  },
  {
   "cell_type": "markdown",
   "id": "92c5904a",
   "metadata": {},
   "source": [
    "Via KCL,  \n",
    "\n",
    "\\begin{equation}\\tag{Ex1.5}\n",
    "    I_1 + I_2 - I_3 = 0\n",
    "\\end{equation}    "
   ]
  },
  {
   "cell_type": "markdown",
   "id": "8cf666f1",
   "metadata": {},
   "source": [
    "Via equations (Ex1.5) and (Ex1.4a),  \n",
    "\n",
    "$$ I_2 - \\frac{R_3}{R_1}\\,I_3 - I_3 = 0$$"
   ]
  },
  {
   "cell_type": "markdown",
   "id": "201de3d8",
   "metadata": {},
   "source": [
    "$$ I_2 = I_3\\left(\\frac{R_3}{R_1} + 1 \\right) = I_3\\,\\frac{R_3+R_1}{R_1}$$"
   ]
  },
  {
   "cell_type": "markdown",
   "id": "637b0204",
   "metadata": {},
   "source": [
    "\\begin{equation}\\tag{Ex1.6}\n",
    "    I_3 = \\frac{R_1}{R_3+R_1}\\,I_2\n",
    "\\end{equation}    "
   ]
  },
  {
   "cell_type": "markdown",
   "id": "8af4bee0",
   "metadata": {},
   "source": [
    "Via equations (Ex1.6) and (Ex1.4b),  \n",
    "\n",
    "$$ U_2 = I_2\\left( \\frac{R_3R_1}{R_3+R_1} + R_2 \\right)$$"
   ]
  },
  {
   "cell_type": "markdown",
   "id": "04bf18cf",
   "metadata": {},
   "source": [
    "Thus,  \n",
    "\n",
    "\\begin{align*}\n",
    "    R_{22} = \\frac{U_2}{I_2} &= \\frac{R_3R_1}{R_3+R_1} + R_2 \\\\ \\\\\n",
    "     &= \\frac{R_3R_1 + R_2R_3 + R_2R_1}{R_3+R_1}\n",
    "\\end{align*}     "
   ]
  },
  {
   "cell_type": "markdown",
   "id": "1a2665f8",
   "metadata": {},
   "source": [
    "Finally,  \n",
    "\n",
    "$$ G_{22} = \\frac{1}{R_{22}}$$"
   ]
  },
  {
   "cell_type": "markdown",
   "id": "da8ff7d5",
   "metadata": {},
   "source": [
    "### Two-port\n",
    "\n",
    "A generic two-port, presented in Fig. 2.9.5, is the special case of four-terminal element. It is\n",
    "described by the same set of equations as a three-terminal element (2.9.5). Port 1 between\n",
    "nodes 1 and 3 is the input port, port 2 between nodes 2 and 4 is the output port.  \n",
    "\n",
    "![Fig-2.9.5](Figures/Fig-2.9.5.png)"
   ]
  },
  {
   "cell_type": "markdown",
   "id": "a705ca77",
   "metadata": {},
   "source": [
    "### Active multi-terminal element\n",
    "For an active multi-terminal element, terminal short-circuit currents should be added to\n",
    "equations (2.9.1).  \n",
    "\n",
    "\\begin{equation}\\tag{8}\n",
    "    \\mathbf{I} = \\mathbf{GU} + \\mathbf{J}\n",
    "\\end{equation}    "
   ]
  },
  {
   "cell_type": "markdown",
   "id": "a8f3b455",
   "metadata": {},
   "source": [
    "and,\n",
    "\\begin{equation}\\tag{8a}\n",
    "    \\mathbf{U} = \\mathbf{RI} + \\mathbf{E}\n",
    "\\end{equation}    "
   ]
  },
  {
   "cell_type": "markdown",
   "id": "707a58d5",
   "metadata": {},
   "source": [
    "The Norton equivalent appears to be given by:  \n",
    "\n",
    "\\begin{equation}\\tag{8a.1}\n",
    "    \\mathbf{J} = \\mathbf{GE} = \\frac{\\mathbf{E}}{\\mathbf{R}}\n",
    "\\end{equation}    "
   ]
  },
  {
   "cell_type": "markdown",
   "id": "77f93a0c",
   "metadata": {},
   "source": [
    "And, the Thevenin equivalent,  \n",
    "\n",
    "\\begin{equation}\\tag{8a.2}\n",
    "    \\mathbf{E} = \\mathbf{RJ}\n",
    "\\end{equation}    "
   ]
  },
  {
   "cell_type": "markdown",
   "id": "6e4d03f6",
   "metadata": {},
   "source": [
    "The conductances ($\\mathbf{G}$), short-circuit currents ($\\mathbf{J}$) and the total number of parameters ($M$) are given by:  \n",
    "\n",
    "\\begin{equation}\\tag{9}\n",
    "    G_{ii} = \\frac{I_i}{U_i}\\quad\\text{assuming}\\;U_k=0\\,\\forall k\\in\\{q\\in\\mathbb{N}\\; : \\; q < m \\land q\\ne i\\}\\;\\text{and}\\;\\mathbf{J}=0\n",
    "\\end{equation}    "
   ]
  },
  {
   "cell_type": "markdown",
   "id": "c794c11b",
   "metadata": {},
   "source": [
    "or, to put it another way,  \n",
    "\n",
    "\\begin{equation}\\tag{9}\n",
    "    G_{ii} = \\frac{I_i}{U_i}_{\\Big | U_k=0;\\,k=1,\\dots,n;\\;k\\ne i;\\;\\mathbf{J}=0}\n",
    "\\end{equation}    "
   ]
  },
  {
   "cell_type": "markdown",
   "id": "4eca400e",
   "metadata": {},
   "source": [
    "\\begin{equation}\\tag{10}\n",
    "    G_{ij} = \\frac{I_i}{U_j}\\quad\\text{assuming}\\;U_k=0\\,\\forall k\\in\\{q\\in\\mathbb{N}\\; : \\; q < m \\land q\\ne j\\}\\;\\text{and}\\;\\mathbf{J}=0\n",
    "\\end{equation}    "
   ]
  },
  {
   "cell_type": "markdown",
   "id": "00bbba28",
   "metadata": {},
   "source": [
    "or, to put it another way,  \n",
    "\n",
    "\\begin{equation}\\tag{10}\n",
    "    G_{ij}=\\frac{I_i}{U_j}_{\\Big | U_k=0;\\;k=1,\\dots,n;\\;k\\ne j;\\;\\mathbf{J}=0}\n",
    "\\end{equation}    "
   ]
  },
  {
   "cell_type": "markdown",
   "id": "90b2474e",
   "metadata": {},
   "source": [
    "\\begin{equation}\\tag{11}\n",
    "    I_i = J_i\\quad\\text{assuming}\\;\\mathbf{U} = 0\n",
    "\\end{equation}    "
   ]
  },
  {
   "cell_type": "markdown",
   "id": "b9c7e6d5",
   "metadata": {},
   "source": [
    "or, to put it another way,  \n",
    "\n",
    "\\begin{equation}\\tag{11}\n",
    "    I_i=J_i |_{\\mathbf{U}=0}\n",
    "\\end{equation}    "
   ]
  },
  {
   "cell_type": "markdown",
   "id": "146250ec",
   "metadata": {},
   "source": [
    "\\begin{equation}\\tag{12}\n",
    "    M = \\frac{m(m-1)}{2} + m - 1\n",
    "\\end{equation}    "
   ]
  },
  {
   "cell_type": "markdown",
   "id": "2b970e68",
   "metadata": {},
   "source": [
    "**a)**  \n",
    "To identify $M$ parameters, no external source is necessary, $M$ linearly independent\n",
    "measurements have to be performed, five measurements for a three-terminal element."
   ]
  },
  {
   "cell_type": "markdown",
   "id": "285f92bf",
   "metadata": {},
   "source": [
    "### Example 2.9.1b\n",
    "**b)**  \n",
    "Consider three resistors active circuit of the T-shape structure, as presented in Fig. 2.9.6a.\n",
    "After zeroing the voltage source, passive subcircuit of Fig. 2.9.4a is obtained and elements of\n",
    "conductance matrix can be found (2.9.8).\n",
    "Short-circuit currents can be designated from Fig. 2.9.4b circuit, and they are, via equation (8a.1),  \n",
    "\n",
    "$$ J_1 = G_{11}E_1+G_{12}E_2$$"
   ]
  },
  {
   "cell_type": "markdown",
   "id": "ae3ee71e",
   "metadata": {},
   "source": [
    "And, via the fact that $E=E_1=E_2$ in conjunction with the above equation,  \n",
    "\n",
    "$$ J_1 = (G_{11} + G_{12})E$$"
   ]
  },
  {
   "cell_type": "markdown",
   "id": "fec36795",
   "metadata": {},
   "source": [
    "Note that $\\mathbf{E}$ is given by:  \n",
    "\n",
    "$$ \\mathbf{E} = \\begin{bmatrix} E_1 \\\\ E_2 \\end{bmatrix} = \\begin{bmatrix} E \\\\ E \\end{bmatrix}$$"
   ]
  },
  {
   "cell_type": "markdown",
   "id": "6236abb6",
   "metadata": {},
   "source": [
    "Via the above equation and equations (Ex1.2a) and (Ex1.2b),  \n",
    "\n",
    "\\begin{equation}\\tag{Ex1b.1}\n",
    "    J_1 = \\frac{ER_2}{R_1R_2 + R_1R_3 + R_2R_3}\n",
    "\\end{equation}    "
   ]
  },
  {
   "cell_type": "markdown",
   "id": "ded3581e",
   "metadata": {},
   "source": [
    "And, via equation (8a.1) and the fact that $E=E_1=E_2$,  \n",
    "\n",
    "$$ J_2 = (G_{21} + G_{22})E$$"
   ]
  },
  {
   "cell_type": "markdown",
   "id": "d8a3aec0",
   "metadata": {},
   "source": [
    "Via the above equation and equations (Ex1.2b) and (Ex1.3),  \n",
    "\n",
    "\\begin{equation}\\tag{Ex1b.2}\n",
    "    J_2 = \\frac{ER_1}{R_1R_2 + R_1R_3 + R_2R_3}\n",
    "\\end{equation}    "
   ]
  },
  {
   "cell_type": "markdown",
   "id": "8cd9f0dc",
   "metadata": {},
   "source": [
    "![Fig-2.9.6](Figures/Fig-2.9.6.png)"
   ]
  },
  {
   "cell_type": "markdown",
   "id": "b4f8f679",
   "metadata": {},
   "source": [
    "## Other Matrices of Multi-terminal Element\n",
    "A multi-terminal element of $m=n+1$ terminals or a multi-port element of $n=0.5m$ ports can be\n",
    "described by $n=m-1$ equations that express $n$ external variables by other $n$ external\n",
    "variables. Than, total of  \n",
    "\n",
    "$$ N = \\begin{pmatrix}\\tag{13}\n",
    "2n \\\\\n",
    "n \n",
    "\\end{pmatrix}$$"
   ]
  },
  {
   "cell_type": "markdown",
   "id": "5487c1c1",
   "metadata": {},
   "source": [
    "descriptions are possible."
   ]
  },
  {
   "cell_type": "markdown",
   "id": "fec98d08",
   "metadata": {},
   "source": [
    "The conductance matrix description, that expresses external currents by external voltages, has\n",
    "been discussed already.\n",
    "The resistance matrix description, that expresses external voltages by external currents, is the\n",
    "other primary way of multi-terminal or multi-port description:  \n",
    "\n",
    "\\begin{equation}\\tag{14}\n",
    "    \\mathbf{U} = \\mathbf{RI} + \\mathbf{E}\n",
    "\\end{equation}    "
   ]
  },
  {
   "cell_type": "markdown",
   "id": "8983ada8",
   "metadata": {},
   "source": [
    "All other $N-2$ descriptions are the so called hybrid descriptions:  \n",
    "\n",
    "\\begin{equation}\\tag{15}\n",
    "    \\mathbf{Y} = \\mathbf{HX} + \\mathbf{Z}\n",
    "\\end{equation}    "
   ]
  },
  {
   "cell_type": "markdown",
   "id": "c062cede",
   "metadata": {},
   "source": [
    "where,\n",
    "$$ \\mathbf{Y} = \\begin{bmatrix}\\tag{15a} \n",
    "I_1 \\\\ \\vdots \\\\ I_{k} \\\\ U_{k+1} \\\\ \\vdots \\\\ U_n\n",
    "\\end{bmatrix}, \n",
    "\\mathbf{H} = \\begin{bmatrix}\n",
    "H_{11} &\\dots &H_{1n} \\\\\n",
    "\\vdots &\\ddots &\\vdots \\\\\n",
    "H_{n1} &\\dots &H_{nn}\n",
    "\\end{bmatrix}, \n",
    "\\mathbf{X} = \\begin{bmatrix}\n",
    "U_1 \\\\ \\vdots \\\\ U_k \\\\ I_{k+1} \\\\ \\vdots \\\\ I_n\n",
    "\\end{bmatrix}, \n",
    "\\mathbf{Z} = \\begin{bmatrix} \n",
    "J_1 \\\\ \\vdots \\\\ J_k \\\\ E_{k+1} \\\\ \\vdots \\\\ E_n\n",
    "\\end{bmatrix}\n",
    "$$"
   ]
  },
  {
   "cell_type": "markdown",
   "id": "84f5994e",
   "metadata": {},
   "source": [
    "For three-terminal or two-port element, four hybrid descriptions can be formulated. The so\n",
    "called cascade matrix description (2.9.18), that expresses output variables by input variables,\n",
    "is frequently used.  \n",
    "\n",
    "$$ \\begin{bmatrix}\\tag{16}\n",
    "U_2\\\\ I_2 \n",
    "\\end{bmatrix} = \\begin{bmatrix}\n",
    "C_{11} &C_{12} \\\\\n",
    "C_{21} &C_{22}\n",
    "\\end{bmatrix} \\cdot \\begin{bmatrix}\n",
    "U_1 \\\\ I_1\n",
    "\\end{bmatrix} + \\begin{bmatrix}\n",
    "E_1 \\\\ J_2\n",
    "\\end{bmatrix}\n",
    "$$"
   ]
  },
  {
   "cell_type": "markdown",
   "id": "3fa7770b",
   "metadata": {},
   "source": [
    "For a resistive $m$-terminal circuit, both conductance matrix and resistance matrix are\n",
    "symmetrical. Hybrid matrix is non-symmetrical, however it also contains $M$ (2.9.4) linearly\n",
    "independent parameters. In general, having one matrix description the other one can be found.\n",
    "The following relationships between the conductance matrix description and the resistance\n",
    "matrix description can be given:  \n",
    "\n",
    "\\begin{equation}\\tag{17a}\n",
    "    \\mathbf{R} = \\mathbf{G}^{-1}\\, , \\quad\\mathbf{E} = -\\mathbf{JR} = -\\mathbf{JG}^{-1}\n",
    "\\end{equation}    "
   ]
  },
  {
   "cell_type": "markdown",
   "id": "d414b9bd",
   "metadata": {},
   "source": [
    "\\begin{equation}\\tag{17b}\n",
    "    \\mathbf{G} = \\mathbf{R}^{-1}\\, , \\quad \\mathbf{J}=-\\mathbf{EG} = -\\mathbf{ER}^{-1}\n",
    "\\end{equation}    "
   ]
  },
  {
   "cell_type": "markdown",
   "id": "5929473b",
   "metadata": {},
   "source": [
    "**A note on matrices:**  \n",
    "\n",
    "The multiplicative identity element of the conductance matrix of a $m=3$ terminal element (a 2x2 matrix) -- or any 2 by 2 matrix -- is a 2 by 2 matrix with diagonals that are equal to one and non-diagonals that are equal to zero.  \n",
    "\n",
    "$$ \\mathbf{G}\\cdot\\begin{bmatrix}\\tag{M0a}\n",
    "1 &0 \\\\\n",
    "0 &1\n",
    "\\end{bmatrix} = \\mathbf{G}$$"
   ]
  },
  {
   "cell_type": "markdown",
   "id": "beea536a",
   "metadata": {},
   "source": [
    "If '$\\mathbf{G}^{-1}$' denotes the multiplicative inverse of $\\mathbf{G}$ then  \n",
    "\n",
    "$$ \\mathbf{G}\\cdot\\mathbf{G}^{-1} = \\begin{bmatrix}\\tag{M0b}\n",
    "1 &0 \\\\\n",
    "0 &1\n",
    "\\end{bmatrix}$$"
   ]
  },
  {
   "cell_type": "markdown",
   "id": "42d76009",
   "metadata": {},
   "source": [
    "Assuming $\\mathbf{G}$ is known and we want to find $\\mathbf{G}^{-1} = \\mathbf{R}$, we need to solve the following system of equations:  \n",
    "\n",
    "\\begin{equation}\\tag{M1}\n",
    "    R_{11}G_{11} + R_{21}G_{12} = 1\n",
    "\\end{equation}    "
   ]
  },
  {
   "cell_type": "markdown",
   "id": "cf1a83b2",
   "metadata": {},
   "source": [
    "$$ R_{12}G_{11} + R_{22}G_{12} = 0$$"
   ]
  },
  {
   "cell_type": "markdown",
   "id": "00d6fa51",
   "metadata": {},
   "source": [
    "Since $R_{12} = R_{21}$, the above equation can be rewritten as:  \n",
    "\n",
    "\\begin{equation}\\tag{M2}\n",
    "    R_{21}G_{11} + R_{22}G_{12} = 0\n",
    "\\end{equation}    "
   ]
  },
  {
   "cell_type": "markdown",
   "id": "0d56f8ee",
   "metadata": {},
   "source": [
    "\\begin{equation}\\tag{M3}\n",
    "    R_{11}G_{21} + R_{21}G_{22} = 0\n",
    "\\end{equation}    "
   ]
  },
  {
   "cell_type": "markdown",
   "id": "43e25ca5",
   "metadata": {},
   "source": [
    "\\begin{align*}\\tag{M4}\n",
    "    1 &=R_{12}G_{21} + R_{22}G_{22} \\\\\n",
    "     &= R_{21}G_{21} + R_{22}G_{22}\n",
    "\\end{align*}    "
   ]
  },
  {
   "cell_type": "markdown",
   "id": "3d15daed",
   "metadata": {},
   "source": [
    "We can solve for $R_{21} = R_{12}$ and $R_{22}$ using equations (M4) and (M2).  Via those equations,  \n",
    "\n",
    "$$ 1 = R_{22}G_{22} - \\frac{R_{22}G_{21}^2}{G_{11}}$$"
   ]
  },
  {
   "cell_type": "markdown",
   "id": "01f4cc2a",
   "metadata": {},
   "source": [
    "$$ 1 = R_{22}\\left(G_{22} - \\frac{G_{21}^2}{G_{11}}\\right)$$"
   ]
  },
  {
   "cell_type": "markdown",
   "id": "252c6428",
   "metadata": {},
   "source": [
    "$$ 1 = R_{22}\\,\\frac{G_{22}G_{11} - G_{21}^2}{G_{11}}$$"
   ]
  },
  {
   "cell_type": "markdown",
   "id": "6f3e5068",
   "metadata": {},
   "source": [
    "\\begin{equation}\\tag{M5}\n",
    "    R_{22} = \\frac{G_{11}}{G_{22}G_{11}-G_{21}^2}\n",
    "\\end{equation}    "
   ]
  },
  {
   "cell_type": "markdown",
   "id": "d578d6bb",
   "metadata": {},
   "source": [
    "Via equations (Ex1.2a) and (Ex1.3),  \n",
    "\n",
    "\n",
    "\\begin{align*}\\tag{M6}\n",
    "    G_{22}G_{11} &= \\frac{(R_1+R_3)(R_2+R_3)}{(R_1R_2 + R_1R_3 + R_2R_3)^2} \\\\ \\\\\n",
    "     &= \\frac{R_1R_2 + R_1R_3 + R_2R_3 + R_3^2}{(R_1R_2 + R_1R_3 + R_2R_3)^2}\n",
    "\\end{align*}     "
   ]
  },
  {
   "cell_type": "markdown",
   "id": "5093ee30",
   "metadata": {},
   "source": [
    "Via equation (Ex1.2b),  \n",
    "\n",
    "\\begin{equation}\\tag{M7}\n",
    "    G_{21}^2 = \\frac{R_3^2}{(R_1R_2 + R_1R_3 + R_2R_3)^2}\n",
    "\\end{equation}    "
   ]
  },
  {
   "cell_type": "markdown",
   "id": "1614572e",
   "metadata": {},
   "source": [
    "Via equations (M6) and (M7),  \n",
    "\n",
    "\\begin{equation}\\tag{M8}\n",
    "    G_{11}G_{22} - G_{21}^2 = \\frac{1}{R_1R_2 + R_1R_3 + R_2R_3}\n",
    "\\end{equation}    "
   ]
  },
  {
   "cell_type": "markdown",
   "id": "add75562",
   "metadata": {},
   "source": [
    "Via equations (M8) and (M5),  \n",
    "\n",
    "\\begin{equation}\\tag{M9}\n",
    "    R_{22} = \\frac{G_{11}}{G_{22}G_{11} - G_{21}^2} = R_2+R_3\n",
    "\\end{equation}    "
   ]
  },
  {
   "cell_type": "markdown",
   "id": "8262f706",
   "metadata": {},
   "source": [
    "Matrix multiplication is *non-commutative*.  What would happen if we try to solve for $\\mathbf{G}^{-1}$ in an equation that is the same as (M0b), but with $\\mathbf{G}$ swapped with $\\mathbf{G}^{-1}$.  \n",
    "\n",
    "$$ \\mathbf{G}^{-1}\\cdot\\mathbf{G} = \\begin{bmatrix}\\tag{M10b}1 &0 \\\\ 0 &1\n",
    "\\end{bmatrix}$$"
   ]
  },
  {
   "cell_type": "markdown",
   "id": "c7772e74",
   "metadata": {},
   "source": [
    "\\begin{equation}\\tag{M11}\n",
    "    R_{11}G_{11} + R_{12}G_{21} = 1\n",
    "\\end{equation}    "
   ]
  },
  {
   "cell_type": "markdown",
   "id": "53ce645e",
   "metadata": {},
   "source": [
    "\\begin{equation}\\tag{M12}\n",
    "    R_{11}G_{12} + R_{12}G_{22} = 0\n",
    "\\end{equation}    "
   ]
  },
  {
   "cell_type": "markdown",
   "id": "c90f4625",
   "metadata": {},
   "source": [
    "\\begin{equation}\\tag{M13}\n",
    "    R_{21}G_{11} + R_{22}G_{21} = 0\n",
    "\\end{equation}    "
   ]
  },
  {
   "cell_type": "markdown",
   "id": "7cd583f3",
   "metadata": {},
   "source": [
    "\\begin{equation}\\tag{M14}\n",
    "    R_{21}G_{12} + R_{22}G_{22} = 1\n",
    "\\end{equation}    "
   ]
  },
  {
   "cell_type": "markdown",
   "id": "00a3dcfb",
   "metadata": {},
   "source": [
    "It looks like equations (M11) to (M14) is the same system of equations consisting of equations (M1) to (M4).  Conductance matrices might be commutative with respect to matrix multiplication due to them being symmetric about their diagonals."
   ]
  },
  {
   "cell_type": "markdown",
   "id": "18e92a79",
   "metadata": {},
   "source": [
    "### Example 2.9.1a cont.\n",
    "The circuit of Fig. 2.9.6a can be described by the resistance matrix:  \n",
    "\n",
    "\\begin{equation}\\tag{18a}\n",
    "    U_1=R_{11}I_1 + R_{12}I_2 + E_1\n",
    "\\end{equation}    "
   ]
  },
  {
   "cell_type": "markdown",
   "id": "83be9bfb",
   "metadata": {},
   "source": [
    "\\begin{equation}\\tag{18b}\n",
    "    U_2 = R_{21}I_1 + R_{22}I_2 + E_2\n",
    "\\end{equation}    "
   ]
  },
  {
   "cell_type": "markdown",
   "id": "a4ded7e4",
   "metadata": {},
   "source": [
    "The parameters $R_{11}$, $R_{21}$ can be designated from Fig. 2.9.7a circuit. They are"
   ]
  },
  {
   "cell_type": "markdown",
   "id": "5c422711",
   "metadata": {},
   "source": [
    "\\begin{equation}\\tag{19a}\n",
    "    R_{11} = \\frac{U_1}{I_1}_{\\Big |I_2=0; \\; \\mathbf{E}=0} = R_1 + R_3\n",
    "\\end{equation}    "
   ]
  },
  {
   "cell_type": "markdown",
   "id": "df459216",
   "metadata": {},
   "source": [
    "\\begin{equation}\\tag{19b}\n",
    "    R_{21} = R_{12} = \\frac{U_2}{I_1}_{\\Big | I_2=0;\\;\\mathbf{E}=0} = \\frac{U_1}{I_2}_{\\Big | I_1=0;\\;\\mathbf{E}=0} = R_3\n",
    "\\end{equation}    "
   ]
  },
  {
   "cell_type": "markdown",
   "id": "b8d2fae7",
   "metadata": {},
   "source": [
    "![Fig-2.9.7](Figures/Fig-2.9.7.png)"
   ]
  },
  {
   "cell_type": "markdown",
   "id": "45e7d63d",
   "metadata": {},
   "source": [
    "The resistance $R_{22}$ (the resistance seen from terminals 2-3 when 1-3 are opened) can be\n",
    "calculated in a way that is similar to the way $R_{11}$ is calculated:  \n",
    "\n",
    "\\begin{equation}\\tag{19c}\n",
    "    R_{22} = \\frac{U_2}{I_2}_{\\Big | I_1 = 0;\\;\\mathbf{E}=0} = R_2 + R_3\n",
    "\\end{equation}    "
   ]
  },
  {
   "cell_type": "markdown",
   "id": "51472035",
   "metadata": {},
   "source": [
    "The open-circuit voltages can be designated from Fig. 2.9.7b circuit.  \n",
    "\n",
    "\\begin{equation}\\tag{19d}\n",
    "    E_1 = E_2 = E\n",
    "\\end{equation}    "
   ]
  },
  {
   "cell_type": "markdown",
   "id": "997606f0",
   "metadata": {},
   "source": [
    "## Analysis of Circuits With Multi-terminal Elements(s)\n",
    "\n",
    "Consider a circuit built of two-terminal elements, with one three-terminal element extracted,\n",
    "as presented in Fig. 2.9.8.  \n",
    "\n",
    "![Fig-2.9.8](Figures/Fig-2.9.8.png)"
   ]
  },
  {
   "cell_type": "markdown",
   "id": "a16326ce",
   "metadata": {},
   "source": [
    "The circuit nodal equations are:  \n",
    "\n",
    "\\begin{equation}\\tag{20}\n",
    "    \\mathbf{GV} = \\mathbf{I}_s - \\mathbf{I}\n",
    "\\end{equation}    "
   ]
  },
  {
   "cell_type": "markdown",
   "id": "b208b5dd",
   "metadata": {},
   "source": [
    "where,\n",
    "* $\\mathbf{G}$ is the circuit conductance matrix,\n",
    "* $\\mathbf{I}_s$ is the vector of circuit source currents at it's node, internal nodes and nodes 1,2 and 3,\n",
    "* $\\mathbf{I}$ is the vector of $m$-terminal element's current, supplemented with $t-m$ zeroes."
   ]
  },
  {
   "cell_type": "markdown",
   "id": "b14b307c",
   "metadata": {},
   "source": [
    "$$ \\mathbf{I}=\\begin{bmatrix}\\tag{20a}\n",
    "\\mathbf{I}^* \\\\ 0 \\\\ \\vdots \\\\ 0\n",
    "\\end{bmatrix},\\,\\mathbf{I}^* = \\begin{bmatrix}\n",
    "I_1 \\\\ \\vdots \\\\ I_m\n",
    "\\end{bmatrix} $$"
   ]
  },
  {
   "cell_type": "markdown",
   "id": "d493dd17",
   "metadata": {},
   "source": [
    "A general multi-terminal element equations (2.9.9) are  \n",
    "\n",
    "\\begin{equation}\\tag{21}\n",
    "    \\mathbf{I}^* = \\mathbf{G}^* \\mathbf{V}^* + \\mathbf{J}^*\n",
    "\\end{equation}    "
   ]
  },
  {
   "cell_type": "markdown",
   "id": "5eb0949b",
   "metadata": {},
   "source": [
    "For $m=3$, taking into account that,  \n",
    "\n",
    "\\begin{align*}\\tag{22}\n",
    "    U_1^* &= V_1-V_3\\\\\n",
    "    U_2^* &= V_2-V_3 \\\\\n",
    "    U_3^* &= V_3 \\\\\n",
    "    I_3 &= -I_1 - I_2\n",
    "\\end{align*}    "
   ]
  },
  {
   "cell_type": "markdown",
   "id": "1d4bfe68",
   "metadata": {},
   "source": [
    "a three-terminal element equations are  \n",
    "\n",
    "$$ \\begin{bmatrix}\\tag{23} I_1 \\\\ I_2 \\\\ I_3 \\end{bmatrix} = \\begin{bmatrix} \n",
    "G_{11}^* &G_{12}^* &-(G_{11}^* + G_{12}^*) \\\\\n",
    "G_{21}^* &G_{22}^* &-(G_{21}^* + G_{22}^*) \\\\\n",
    "-(G_{11}^* +G_{12}^*) &-(G_{21}^* +G_{22}^*) &\\sum_{i=1}^{2} \\sum_{j=1}^2 G_{ij}^* \n",
    "\\end{bmatrix} \\cdot \\begin{bmatrix} V_1 \\\\ V_2 \\\\ V_3 \\end{bmatrix} + \\begin{bmatrix}J_1^* \\\\ J_2^* \\\\ -(J_1^* + J_2^*)\\end{bmatrix}$$"
   ]
  },
  {
   "cell_type": "markdown",
   "id": "dc4fdede",
   "metadata": {},
   "source": [
    "Taking into account these equations in (2.9.22), the circuit nodal equations can be formulated.\n",
    "The strategy can be generalized into arbitrary number of multi-terminal elements case and the\n",
    "following algorithm can be formulated."
   ]
  },
  {
   "cell_type": "markdown",
   "id": "c002f01a",
   "metadata": {},
   "source": [
    "Note that:  \n",
    "\n",
    "$$ \\sum_{i=1}^2 \\sum_{j=1}^2 G_{ij}^* = G_{11}^* + G_{12}^* G_{21}^* + G_{22}^* = G_{11}^* + 2G_{21}^* + G_{22}^*$$"
   ]
  },
  {
   "cell_type": "markdown",
   "id": "7eb62d2c",
   "metadata": {},
   "source": [
    "### *Algorithm 2.9.1* – Nodal analysis of circuits with $m$-terminal element(s)\n",
    "1. Disconnect (extract) multi-terminal elements, find $\\mathbf{G}$ and $\\mathbf{I}_s$ of the obtained subcircuit.\n",
    "2. Designate $\\mathbf{G}^i$ and $\\mathbf{J}^i$ of all multi-terminal elements; $i=1,\\dots,N$.\n",
    "3. Overlap matrices $\\mathbf{G}^i$ onto matrix $\\mathbf{G}$ and vectors $-\\mathbf{J}^i$ onto vector $\\mathbf{I}_s$\n",
    "for $i=1,\\dots,N$."
   ]
  },
  {
   "cell_type": "markdown",
   "id": "ba7fb27d",
   "metadata": {},
   "source": [
    "### Example 2.9.2\n",
    "All conductances and sources of the circuit presented in Fig. 2.9.9 are given, as well as the\n",
    "conductance matrix and the short-circuit currents of the three-terminal active element – its\n",
    "reference node is denoted by an asterisk. Find the circuit nodal equations."
   ]
  },
  {
   "cell_type": "markdown",
   "id": "dbfdb569",
   "metadata": {},
   "source": [
    "Circuit nodes are numbered: 0,1,2,3,4 – node 0 is the reference one. Three-terminal element\n",
    "nodes are numbered: (1), (2), (3). Then, nodal equations (2.9.26) can be formulated."
   ]
  },
  {
   "cell_type": "markdown",
   "id": "0d82b30c",
   "metadata": {},
   "source": [
    "![Fig-2.9.9](Figures/Fig-2.9.9a.png)"
   ]
  },
  {
   "cell_type": "markdown",
   "id": "71c3c115",
   "metadata": {},
   "source": [
    "The node voltage equation for node 1 is:  \n",
    "\n",
    "$$ E_1G_1 -V_1G_1- (V_1 - V_2)G_3 - V_1G_2 - I_1 = 0$$"
   ]
  },
  {
   "cell_type": "markdown",
   "id": "1b7cc565",
   "metadata": {},
   "source": [
    "Via the above equation and the fact that $I_1 = G_{11}^*U_1^* + G_{12}^*U_2^* + J_1^*$,  "
   ]
  },
  {
   "cell_type": "markdown",
   "id": "b90e1650",
   "metadata": {},
   "source": [
    "$$ E_1G_1 -V_1G_1 + (V_2-V_1)G_3 - V_1G_2 - J_1^* - G_{11}^*U_1^* - G_{12}^*U_2^* = 0$$"
   ]
  },
  {
   "cell_type": "markdown",
   "id": "1ac0bd87",
   "metadata": {},
   "source": [
    "And, via the above equation and the fact that $U_1^*=V_1 - V_4$ and $U_2^*=V_3-V_4$,  "
   ]
  },
  {
   "cell_type": "markdown",
   "id": "0409c08e",
   "metadata": {},
   "source": [
    "$$0 = E_1G_1 -V_1G_1 + (V_2-V_1)G_3 - V_1G_2 - J_1^* + G_{11}^*(V_4-V_1) + G_{12}^*(V_4-V_3)$$"
   ]
  },
  {
   "cell_type": "markdown",
   "id": "cc317b6a",
   "metadata": {},
   "source": [
    "$$ 0 = E_1G_1 - V_1(G_1+G_3 + G_2 + G_{11}^*) + V_2G_3 - V_3G_{12}^* + V_4(G_{11}^* + G_{12}^*) - J_1^*$$"
   ]
  },
  {
   "cell_type": "markdown",
   "id": "f412d3ef",
   "metadata": {},
   "source": [
    "Finally, the node voltage equation for node 1 is:  "
   ]
  },
  {
   "cell_type": "markdown",
   "id": "5d602716",
   "metadata": {},
   "source": [
    "\\begin{equation}\\tag{Ex2.1.1}\n",
    "    V_1(G_1+G_3 + G_2 + G_{11}^*) - V_2G_3 +V_3G_{12}^*- V_4(G_{11}^* + G_{12}^*)  = E_1G_1 -J_1^* \n",
    "\\end{equation}    "
   ]
  },
  {
   "cell_type": "markdown",
   "id": "7584c75a",
   "metadata": {},
   "source": [
    "The node voltage equation for node 2 is:  \n",
    "\n",
    "$$ E_7G_7 + (V_1-V_2)G_3 - (V_2-V_3)G_4 = 0$$"
   ]
  },
  {
   "cell_type": "markdown",
   "id": "bb273493",
   "metadata": {},
   "source": [
    "\\begin{equation}\\tag{Ex2.1.2}\n",
    "    V_2(G_3 + G_4) - V_1G_3 - V_3G_4= E_7G_7 \n",
    "\\end{equation}    "
   ]
  },
  {
   "cell_type": "markdown",
   "id": "82ed08aa",
   "metadata": {},
   "source": [
    "The node voltage equation for node 3 is:  \n",
    "\n",
    "$$ (V_2-V_3)G_4 - V_3G_6 - I_2 = 0$$"
   ]
  },
  {
   "cell_type": "markdown",
   "id": "f3706035",
   "metadata": {},
   "source": [
    "Via the above equation and the fact that $I_2 = G_{21}^*U_1^* + G_{22}^*U_2^* + J_2^*$,  "
   ]
  },
  {
   "cell_type": "markdown",
   "id": "4973ae9e",
   "metadata": {},
   "source": [
    "$$ (V_2-V_3)G_4 - V_3G_6 = G_{21}^*U_1^* + G_{22}^*U_2^* + J_2^*$$"
   ]
  },
  {
   "cell_type": "markdown",
   "id": "79643a96",
   "metadata": {},
   "source": [
    "And, via the above equation and the fact that $U_2^*=V_3-V_4$ and $U_1^*=V_1-V_4$,  \n",
    "\n",
    "$$ (V_2-V_3)G_4 - V_3G_6  = G_{21}^*(V_1-V_4) + G_{22}^*(V_3-V_4) + J_2^*$$"
   ]
  },
  {
   "cell_type": "markdown",
   "id": "52c39ae8",
   "metadata": {},
   "source": [
    "Finally,  \n",
    "\n",
    "\\begin{equation}\\tag{Ex2.1.3}\n",
    "    V_1G_{21}^*- V_2G_4 +V_3(G_4+G_6  +G_{22}^*) -V_4(G_{21}^*+G_{22}^*)  = -J_2^*\n",
    "\\end{equation}    "
   ]
  },
  {
   "cell_type": "markdown",
   "id": "86690d08",
   "metadata": {},
   "source": [
    "The node voltage equation for node 4 is:  \n",
    "\n",
    "$$ -V_4G_5 - I_3 = 0 $$"
   ]
  },
  {
   "cell_type": "markdown",
   "id": "7f3861ed",
   "metadata": {},
   "source": [
    "Via equation (22),  \n",
    "\n",
    "\\begin{align*}\n",
    "    I_3 &= -(I_1+I_2) \\\\\n",
    "     &= -(J_2^* + G_{21}^*U_1^* + G_{22}^*U_2^*  + J_1^* + G_{11}^*U_1^* + G_{12}^*U_2^*) \\\\\n",
    "     &= -\\big(J_2^* + G_{21}^*(V_1-V_4) + G_{22}^*(V_3-V_4)  + J_1^* + G_{11}^*(V_1-V_4) + G_{12}^*(V_3-V_4)\\big) \n",
    "\\end{align*}     "
   ]
  },
  {
   "cell_type": "markdown",
   "id": "05e95aed",
   "metadata": {},
   "source": [
    "Via the above two equations,  \n",
    "\n",
    "$$J_2^* + G_{21}^*(V_1-V_4) + G_{22}^*(V_3-V_4)  + J_1^* + G_{11}^*(V_1-V_4) + G_{12}^*(V_3-V_4)  - V_4G_5=0 $$"
   ]
  },
  {
   "cell_type": "markdown",
   "id": "69eaf059",
   "metadata": {},
   "source": [
    "Finally,  \n",
    "\n",
    "\\begin{equation}\\tag{Ex2.1.4}\n",
    "    V_4(G_5 + G_{11}^* + G_{12}^* + G_{21}^* +G_{22}^*) -V_3(G_{12}^* + G_{22}^*) -V_1(G_{11}^* + G_{21}^*) = J_1^* + J_2^* \n",
    "\\end{equation}    "
   ]
  },
  {
   "cell_type": "markdown",
   "id": "6b7d2382",
   "metadata": {},
   "source": [
    "With the above system of equations consisting of four equations and four node voltages we can solve for said node voltages in terms of conductances and voltage/current sources."
   ]
  },
  {
   "cell_type": "markdown",
   "id": "43495336",
   "metadata": {},
   "source": [
    "#### Matrix Form\n",
    "\n",
    "Now, to capture the above system of equations into one equation relating matrices we simply need to solve for $\\mathbf{G}$ in the equation:  \n",
    "\n",
    "$$ \\mathbf{G}\\cdot \\begin{bmatrix}V_1\\\\V_2\\\\V_3\\\\V_4\\end{bmatrix} = \\begin{bmatrix}\\tag{Ex2.2}\n",
    "E_1G_1 - J_1^* \\\\ E_7G_7 \\\\-J_2^* \\\\ J_1^* + J_2^*\n",
    "\\end{bmatrix}$$"
   ]
  },
  {
   "cell_type": "markdown",
   "id": "21177ba5",
   "metadata": {},
   "source": [
    "Via the above equation, equation (Ex2.2), and equation (Ex2.1.1), the top -- or, first -- row of $\\mathbf{G}$ can be found.  \n",
    "\n",
    "\\begin{equation}\\tag{Ex2.2.1}\n",
    "    G_{11} = G_1+G_3 + G_2 + G_{11}^* \\quad \\quad G_{12} = -G_3 \\quad\\quad G_{13} = G_{12}^* \\quad\\quad G_{14} = -(G_{11}^* + G_{12}^*)\n",
    "\\end{equation}    "
   ]
  },
  {
   "cell_type": "markdown",
   "id": "bd17f60e",
   "metadata": {},
   "source": [
    "Via equations (Ex2.2) and (Ex2.1.2), the second row of $\\mathbf{G}$ can be found.  \n",
    "\n",
    "\\begin{equation}\\tag{Ex2.2.2}\n",
    "    G_{21} = -G_3 \\quad\\quad G_{22} = G_3+G_4\\quad\\quad G_{23} = -G_4 \\quad\\quad G_{24} = 0\n",
    "\\end{equation}    "
   ]
  },
  {
   "cell_type": "markdown",
   "id": "b43be24d",
   "metadata": {},
   "source": [
    "Via equations (Ex2.2) and (Ex2.1.3), the third row can be found.  \n",
    "\n",
    "\\begin{equation}\\tag{Ex2.2.3}\n",
    "    G_{31} = G_{21}^*\\quad\\quad G_{32} = -G_4\\quad\\quad G_{33} = G_4+G_6+G_{22}^* \\quad \\quad G_{34} = -(G_{21}^* +G_{22}^*)\n",
    "\\end{equation}    "
   ]
  },
  {
   "cell_type": "markdown",
   "id": "3f3d9c6a",
   "metadata": {},
   "source": [
    "Via equations (Ex2.2) and (Ex2.1.4), the fourth row can be found.  \n",
    "\n",
    "\\begin{equation}\\tag{Ex2.2.4}\n",
    "    G_{41} = -(G_{11}^* + G_{21}^*)\\quad \\quad G_{42} = 0\\quad \\quad G_{43} = -(G_{21}^* +G_{22}^*)\\quad \\quad G_{44}^* = G_5 + G_{11}^* + G_{12}^* + G_{21}^* +G_{22}^*\n",
    "\\end{equation}    "
   ]
  },
  {
   "cell_type": "markdown",
   "id": "a5c827b5",
   "metadata": {},
   "source": [
    "Thus,\n",
    "\n",
    "$$ \\mathbf{G} = \\begin{bmatrix}\\tag{Ex2.3}\n",
    "G_1+G_3+G_2+G_{11}^* &-G_3 &G_{12}^* &-(G_{11}^* + G_{12}^*) \\\\\n",
    "-G_3 &G_3+G_4 &-G_4 &0 \\\\\n",
    "G_{21}^* &-G_4 &G_4+G_6+G_{22}^* &-(G_{21}^*+G_{22}^*) \\\\\n",
    "-(G_{11}^*+G_{21}^*) &0 &-(G_{21}^*+G_{22}^*) &G_5 + \\sum_{\\substack{i=1}}^2 \\sum_{j=1}^2 G_{ij}^*\n",
    "\\end{bmatrix}$$"
   ]
  },
  {
   "cell_type": "markdown",
   "id": "22f93d30",
   "metadata": {},
   "source": [
    "## Drill Problems\n",
    "\n",
    "#### Problem 1\n",
    "1. What is the total number of parameters that characterize an active four-terminal element?"
   ]
  },
  {
   "cell_type": "markdown",
   "id": "7d9512dd",
   "metadata": {},
   "source": [
    "Answer: 9."
   ]
  },
  {
   "cell_type": "markdown",
   "id": "edfff9f8",
   "metadata": {},
   "source": [
    "#### Problem 2\n",
    "2. Find matrix $\\mathbf{R}$ and vector $\\mathbf{E}$.  \n",
    "\n",
    "![Fig-P.2.9.2](Figures/Fig-P.2.9.2.png)"
   ]
  },
  {
   "cell_type": "markdown",
   "id": "a21773ab",
   "metadata": {},
   "source": [
    "First, we will find $\\mathbf{R}$ and $\\mathbf{E}$ for the **left hand circuit**."
   ]
  },
  {
   "cell_type": "markdown",
   "id": "406cd008",
   "metadata": {},
   "source": [
    "Given that:  \n",
    "\n",
    "$$ R_{11} = \\frac{U_1}{I_1}_{\\Big|I_2=0;\\;\\mathbf{E}=0 }$$"
   ]
  },
  {
   "cell_type": "markdown",
   "id": "51280035",
   "metadata": {},
   "source": [
    "assuming $I_2=0$ and $\\mathbf{E}=0$,  \n",
    "\n",
    "\\begin{equation}\\tag{2.1}\n",
    "    U_1 = R_{11}I_1\n",
    "\\end{equation}    "
   ]
  },
  {
   "cell_type": "markdown",
   "id": "3d3c0c85",
   "metadata": {},
   "source": [
    "Via KVL and Ohm's Law, again, assuming $I_2=0$ and $\\mathbf{E}=0$,   \n",
    "\n",
    "\\begin{equation}\\tag{2.2}\n",
    "    U_1 = (R_1+R_3)I_1\n",
    "\\end{equation}    "
   ]
  },
  {
   "cell_type": "markdown",
   "id": "ea117f2e",
   "metadata": {},
   "source": [
    "Via equations (2.1) and (2.2) and equivalence principle,  \n",
    "\n",
    "\\begin{equation}\\tag{2.3}\n",
    "    R_{11} = R_1 + R_3\n",
    "\\end{equation}    "
   ]
  },
  {
   "cell_type": "markdown",
   "id": "cc596b0b",
   "metadata": {},
   "source": [
    "The above equation -- equation (2.3) -- is consistent with, and could be obtained from, equation (19a)."
   ]
  },
  {
   "cell_type": "markdown",
   "id": "01476ac4",
   "metadata": {},
   "source": [
    "Given that:  \n",
    "\n",
    "$$ R_{12} = \\frac{U_1}{I_2}_{\\Big | I_1=0;\\;\\mathbf{E}=0}$$"
   ]
  },
  {
   "cell_type": "markdown",
   "id": "3949d6f4",
   "metadata": {},
   "source": [
    "assuming $I_1=0$ and $\\mathbf{E}=0$,  \n",
    "\n",
    "\\begin{equation}\\tag{2.4}\n",
    "    U_1 = R_{12}I_2\n",
    "\\end{equation}    "
   ]
  },
  {
   "cell_type": "markdown",
   "id": "f212c668",
   "metadata": {},
   "source": [
    "Via KVL and Ohm's Law, under the above assumption,  \n",
    "\n",
    "\\begin{equation}\\tag{2.5}\n",
    "    U_1 = R_3I_2 + R_1\\cdot 0\\mathrm{A} = R_3I_2\n",
    "\\end{equation}    "
   ]
  },
  {
   "cell_type": "markdown",
   "id": "6c0d82f5",
   "metadata": {},
   "source": [
    "Via equations (2.5) and (2.4) and equivalence principle,  \n",
    "\n",
    "\\begin{equation}\\tag{2.6}\n",
    "    R_{12} = R_3\n",
    "\\end{equation}    "
   ]
  },
  {
   "cell_type": "markdown",
   "id": "ad264f56",
   "metadata": {},
   "source": [
    "Via equation (2.6), the fact that $R_{12}=R_{21}$ -- which itself goes hand in hand with the fact that $\\mathbf{R}$ is symmetric about it's diagonal -- and equivalence principle,  \n",
    "\n",
    "\\begin{equation}\\tag{2.7}\n",
    "    R_{21}=R_3\n",
    "\\end{equation}    "
   ]
  },
  {
   "cell_type": "markdown",
   "id": "0026a437",
   "metadata": {},
   "source": [
    "Given that:  \n",
    "\n",
    "$$ R_{22} = \\frac{U_2}{I_2}_{\\Big| I_1=0;\\;\\mathbf{E}=0}$$"
   ]
  },
  {
   "cell_type": "markdown",
   "id": "a182631a",
   "metadata": {},
   "source": [
    "assuming $I_2=0$ and $\\mathbf{E}=0$,  \n",
    "\n",
    "\\begin{equation}\\tag{2.8}\n",
    "    U_2 = R_{22}I_2\n",
    "\\end{equation}    "
   ]
  },
  {
   "cell_type": "markdown",
   "id": "45e36e2b",
   "metadata": {},
   "source": [
    "Under the same assumption, via KVL and Ohm's Law,  \n",
    "\n",
    "\\begin{equation}\\tag{2.9}\n",
    "    U_2 = R_3I_2\n",
    "\\end{equation}    "
   ]
  },
  {
   "cell_type": "markdown",
   "id": "d657e10d",
   "metadata": {},
   "source": [
    "Via equations (2.9) and (2.8) and equivalence principle,  \n",
    "\n",
    "\\begin{equation}\\tag{2.10}\n",
    "    R_{22} = R_3\n",
    "\\end{equation}    "
   ]
  },
  {
   "cell_type": "markdown",
   "id": "b2d8ede2",
   "metadata": {},
   "source": [
    "Considering that, in the *left hand circuit*, $R_2=0$, the above equation --equation (2.10) -- is consistent with, and could be obtained from, equation (19c)."
   ]
  },
  {
   "cell_type": "markdown",
   "id": "5f746437",
   "metadata": {},
   "source": [
    "Thus,\n",
    "$$ \\mathbf{R} = \\begin{bmatrix}\\tag{2.11}\n",
    "R_1+R_3 &R_3 \\\\\n",
    "R_3 &R_3 \n",
    "\\end{bmatrix}$$"
   ]
  },
  {
   "cell_type": "markdown",
   "id": "0fe2c966",
   "metadata": {},
   "source": [
    "Now we will find $\\mathbf{E}$ for the *left hand circuit*.  Via the fact that $U_1 = R_{11}I_1 + R_{12}I_2 + E_1$, equation (2.11) and substitution,  \n",
    "\n",
    "\\begin{equation}\\tag{2.12}\n",
    "    U_1 = (R_1+R_3)I_1 + R_3I_2 + E_1\n",
    "\\end{equation}    "
   ]
  },
  {
   "cell_type": "markdown",
   "id": "24205cf3",
   "metadata": {},
   "source": [
    "Moreover, via KVL and Ohm's Law,  \n",
    "\n",
    "\\begin{equation}\\tag{2.13}\n",
    "    U_1 = R_1I_1 + R_3(I_1+I_2) + E\n",
    "\\end{equation}    "
   ]
  },
  {
   "cell_type": "markdown",
   "id": "a0515af9",
   "metadata": {},
   "source": [
    "And, via equations (2.12) and (2.13) and equivalence principle,  \n",
    "\n",
    "\\begin{equation}\\tag{2.14}\n",
    "    E_1=E\n",
    "\\end{equation}    "
   ]
  },
  {
   "cell_type": "markdown",
   "id": "4e16e957",
   "metadata": {},
   "source": [
    "Note that the above equation is consistent with, and could be obtained from, equation (19d)."
   ]
  },
  {
   "cell_type": "markdown",
   "id": "37f2dfab",
   "metadata": {},
   "source": [
    "Via the fact that $U_2 = R_{21}I_1 + R_{22}I_2 + E_2$, equation (2.11) and substitution,  \n",
    "\n",
    "\\begin{equation}\\tag{2.15}\n",
    "    U_2 = R_3(I_1+I_2) + E_2\n",
    "\\end{equation}    "
   ]
  },
  {
   "cell_type": "markdown",
   "id": "1d40fdb1",
   "metadata": {},
   "source": [
    "And, via KVL and Ohm's Law,  \n",
    "\n",
    "\\begin{equation}\\tag{2.16}\n",
    "    U_2 = R_3(I_1+I_2) + E\n",
    "\\end{equation}    "
   ]
  },
  {
   "cell_type": "markdown",
   "id": "6d5e87a8",
   "metadata": {},
   "source": [
    "Via equations (2.15) and (2.16) and equivalence principle,  \n",
    "\n",
    "\\begin{equation}\\tag{2.14a}\n",
    "    E_2=E\n",
    "\\end{equation}    "
   ]
  },
  {
   "cell_type": "markdown",
   "id": "1514b21d",
   "metadata": {},
   "source": [
    "Note that the above equation is consistent with, and could be obtained from, equation (19d)."
   ]
  },
  {
   "cell_type": "markdown",
   "id": "9fee8edc",
   "metadata": {},
   "source": [
    "Finally, via equations (2.14) and (2.14a),  \n",
    "\n",
    "$$\\mathbf{E} = \\begin{bmatrix}\\tag{2.17}E\\\\E\\end{bmatrix}$$"
   ]
  },
  {
   "cell_type": "markdown",
   "id": "141bad12",
   "metadata": {},
   "source": [
    "Now we will find $\\mathbf{R}$ and $\\mathbf{E}$ for the **right hand circuit**.  \n",
    "\n",
    "![Fig-P.2.9.2](Figures/Fig-P.2.9.2.png)"
   ]
  },
  {
   "cell_type": "markdown",
   "id": "42bdc7d4",
   "metadata": {},
   "source": [
    "Assuming $I_2=0$ and $\\mathbf{E}=0$ (the same assumption that equation (2.1) makes), via KVL and Ohm's Law,  \n",
    "\n",
    "\\begin{equation}\\tag{2.r.1}\n",
    "    U_1 = R_1I_{1\\mathrm{a}}\n",
    "\\end{equation}    "
   ]
  },
  {
   "cell_type": "markdown",
   "id": "719eb0e0",
   "metadata": {},
   "source": [
    "and,\n",
    "\\begin{equation}\\tag{2.r.2}\n",
    "    R_1I_{1\\mathrm{a}} = R_2I_{1\\mathrm{b}}\n",
    "\\end{equation}    "
   ]
  },
  {
   "cell_type": "markdown",
   "id": "5855f63b",
   "metadata": {},
   "source": [
    "Via KCL,  \n",
    "\n",
    "\\begin{equation}\\tag{2.r.3}\n",
    "    I_1 = I_{1\\mathrm{a}} + I_{1\\mathrm{b}}\n",
    "\\end{equation}    "
   ]
  },
  {
   "cell_type": "markdown",
   "id": "6f6228f8",
   "metadata": {},
   "source": [
    "Via equations (2.r.3) and (2.r.2) and substitution,  \n",
    "\n",
    "$$ R_1I_{1\\mathrm{a}} = R_2(I_1-I_{1\\mathrm{a}})$$"
   ]
  },
  {
   "cell_type": "markdown",
   "id": "ad991d5b",
   "metadata": {},
   "source": [
    "$$ R_1I_{1\\mathrm{a}} + R_2I_{1\\mathrm{a}} = R_2I_1$$"
   ]
  },
  {
   "cell_type": "markdown",
   "id": "596f1288",
   "metadata": {},
   "source": [
    "\\begin{equation}\\tag{2.r.2a}\n",
    "    I_{1\\mathrm{a}} = \\frac{R_2I_1}{R_1+R_2}\n",
    "\\end{equation}    "
   ]
  },
  {
   "cell_type": "markdown",
   "id": "fe064a67",
   "metadata": {},
   "source": [
    "And, via equations (2.r.2a) and (2.r.1) and substitution,  \n",
    "\n",
    "\\begin{equation}\\tag{2.r.1a}\n",
    "    U_1 = \\frac{R_1R_2}{R_1+R_2}\\,I_1\n",
    "\\end{equation}    "
   ]
  },
  {
   "cell_type": "markdown",
   "id": "2561cbf4",
   "metadata": {},
   "source": [
    "Note that the above equation and equation (2.1) make the same assumptions about $I_2$ and $\\mathbf{E}$.  Via equations (2.r.1a) and (2.1) and equivalence principle,  \n",
    "\n",
    "\\begin{equation}\\tag{2.r.4}\n",
    "    R_{11} = \\frac{R_1R_2}{R_1+R_2} = \\frac{1}{G_1+G_2}\n",
    "\\end{equation}    "
   ]
  },
  {
   "cell_type": "markdown",
   "id": "f7b133a2",
   "metadata": {},
   "source": [
    "Assuming $I_1=0$ and $\\mathbf{E}=0$ (the same assumption that equation (2.4) makes), via KVL and Ohm's Law,  \n",
    "\n",
    "\\begin{equation}\\tag{2.r.5}\n",
    "    U_1 = R_1I_{2\\mathrm{a}}\n",
    "\\end{equation}    "
   ]
  },
  {
   "cell_type": "markdown",
   "id": "129fb1e3",
   "metadata": {},
   "source": [
    "and,\n",
    "\\begin{equation}\\tag{2.r.6}\n",
    "    R_1I_{2\\mathrm{a}} = R_2I_{2\\mathrm{b}}\n",
    "\\end{equation}    "
   ]
  },
  {
   "cell_type": "markdown",
   "id": "0e26341f",
   "metadata": {},
   "source": [
    "Via KCL,  \n",
    "\n",
    "\\begin{equation}\\tag{2.r.7}\n",
    "    I_2 = I_{2\\mathrm{a}} + I_{2\\mathrm{b}}\n",
    "\\end{equation}    "
   ]
  },
  {
   "cell_type": "markdown",
   "id": "8f605432",
   "metadata": {},
   "source": [
    "Via equations (2.r.6) and (2.r.7) and substitution,  \n",
    "\n",
    "$$ R_1I_{2\\mathrm{a}} = R_2(I_2-I_{2\\mathrm{a}})$$"
   ]
  },
  {
   "cell_type": "markdown",
   "id": "c319cdc9",
   "metadata": {},
   "source": [
    "$$ R_2I_{2\\mathrm{a}} + R_1I_{2\\mathrm{a}} = R_2I_2$$"
   ]
  },
  {
   "cell_type": "markdown",
   "id": "1a5eacb4",
   "metadata": {},
   "source": [
    "\\begin{equation}\\tag{2.r.6a}\n",
    "    I_{2\\mathrm{a}} = \\frac{R_2I_2}{R_1+R_2}\n",
    "\\end{equation}    "
   ]
  },
  {
   "cell_type": "markdown",
   "id": "eeb1efb0",
   "metadata": {},
   "source": [
    "Via equations (2.r.6a) and (2.r.5) and substitution,  \n",
    "\n",
    "\\begin{equation}\\tag{2.r.5a}\n",
    "    U_1 = \\frac{R_1R_2}{R_1+R_2}\\,I_2\n",
    "\\end{equation}    "
   ]
  },
  {
   "cell_type": "markdown",
   "id": "2a8c22c1",
   "metadata": {},
   "source": [
    "Note that the above equation and equation (2.4) make the same assumptions about $I_2$ and $\\mathbf{E}$.  Via equations (2.r.5a) and (2.4) and equivalence principle,  \n",
    "\n",
    "\\begin{equation}\\tag{2.r.4}\n",
    "    R_{12} = \\frac{R_1R_2}{R_1+R_2} = \\frac{1}{G_1+G_2}\n",
    "\\end{equation} "
   ]
  },
  {
   "cell_type": "markdown",
   "id": "6ebfe5af",
   "metadata": {},
   "source": [
    "And, via the fact that $R_{12}=R_{21}$, equation (2.r.4), and equivalence principle,  \n",
    "\n",
    "\\begin{equation}\\tag{2.r.8}\n",
    "    R_{21} = \\frac{R_1R_2}{R_1+R_2} = \\frac{1}{G_1+G_2}\n",
    "\\end{equation}"
   ]
  },
  {
   "cell_type": "markdown",
   "id": "0ca91b09",
   "metadata": {},
   "source": [
    "Assuming $I_1=0$ and $\\mathbf{E}=0$, Via KVL and Ohm's Law,  \n",
    "\n",
    "\\begin{equation}\\tag{2.r.9}\n",
    "    U_2 = R_2I_{2\\mathrm{b}}\n",
    "\\end{equation}    "
   ]
  },
  {
   "cell_type": "markdown",
   "id": "b9291d4f",
   "metadata": {},
   "source": [
    "Via equations (2.r.6) and (2.r.7) and substitution,  \n",
    "\n",
    "$$ R_2I_{2\\mathrm{b}} = R_1(I_2-I_{2\\mathrm{b}})$$"
   ]
  },
  {
   "cell_type": "markdown",
   "id": "1aaed36e",
   "metadata": {},
   "source": [
    "$$ R_2I_{2\\mathrm{b}} + R_1I_{2\\mathrm{b}} = R_1I_2$$"
   ]
  },
  {
   "cell_type": "markdown",
   "id": "c31b36d1",
   "metadata": {},
   "source": [
    "\\begin{equation}\\tag{2.r.6b}\n",
    "    I_{2\\mathrm{b}} = \\frac{R_1I_2}{R_1+R_2}\n",
    "\\end{equation}    "
   ]
  },
  {
   "cell_type": "markdown",
   "id": "e9fc791a",
   "metadata": {},
   "source": [
    "Via equations (2.r.6b) and (2.r.9) and substitution,  \n",
    "\n",
    "\\begin{equation}\\tag{2.r.9a}\n",
    "    U_2 = \\frac{R_1R_2}{R_1+R_2}\\,I_2\n",
    "\\end{equation}    "
   ]
  },
  {
   "cell_type": "markdown",
   "id": "084fef10",
   "metadata": {},
   "source": [
    "Via equations (2.r.9a) and (2.8) and equivalence principle,  \n",
    "\n",
    "\\begin{equation}\\tag{2.r.10}\n",
    "    R_{22} = \\frac{R_1R_2}{R_1+R_2} = \\frac{1}{G_1+G_2}\n",
    "\\end{equation}    "
   ]
  },
  {
   "cell_type": "markdown",
   "id": "ece4db96",
   "metadata": {},
   "source": [
    "Let $R$ be defined as:  \n",
    "\n",
    "$$ R:=\\frac{1}{G_1+G_2}$$"
   ]
  },
  {
   "cell_type": "markdown",
   "id": "c09c1bdf",
   "metadata": {},
   "source": [
    "It then follows that:  \n",
    "\n",
    "$$\\mathbf{R} = \\begin{bmatrix}\\tag{2.r.11}\n",
    "R &R \\\\\n",
    "R &R\n",
    "\\end{bmatrix}\n",
    "$$"
   ]
  },
  {
   "cell_type": "markdown",
   "id": "658c79bf",
   "metadata": {},
   "source": [
    "Via equation (8a) and (2.r.11) and substitution,  \n",
    "\n",
    "\\begin{equation}\\tag{2.r.12a}\n",
    "    U_1 = R(I_1 + I_2) + E_1\n",
    "\\end{equation}    "
   ]
  },
  {
   "cell_type": "markdown",
   "id": "68aa138d",
   "metadata": {},
   "source": [
    "and,\n",
    "\\begin{equation}\\tag{2.r.12b}\n",
    "    U_2 = R(I_1+I_2) + E_2\n",
    "\\end{equation}    "
   ]
  },
  {
   "cell_type": "markdown",
   "id": "238c6ab4",
   "metadata": {},
   "source": [
    "Via KVL,  \n",
    "\n",
    "\\begin{equation}\\tag{2.r.13a}\n",
    "    U_{R_1} = E + U_{R_2}\n",
    "\\end{equation}    "
   ]
  },
  {
   "cell_type": "markdown",
   "id": "5723a24e",
   "metadata": {},
   "source": [
    "\\begin{equation}\\tag{2.r.13b}\n",
    "    U_1 = U_{R_1}\n",
    "\\end{equation}    "
   ]
  },
  {
   "cell_type": "markdown",
   "id": "6903aa1b",
   "metadata": {},
   "source": [
    "and,\n",
    "\\begin{equation}\\tag{2.r.13c}\n",
    "    U_2 = U_{R_2}\n",
    "\\end{equation}    "
   ]
  },
  {
   "cell_type": "markdown",
   "id": "22bdfac2",
   "metadata": {},
   "source": [
    "Via equations (2.r.13) (a) and (b) and equivalence principle,  \n",
    "\n",
    "\\begin{equation}\\tag{2.r.14}\n",
    "    U_1 = E+U_{R_2}\n",
    "\\end{equation}    "
   ]
  },
  {
   "cell_type": "markdown",
   "id": "97e18d49",
   "metadata": {},
   "source": [
    "Via Ohm's Law,  \n",
    "\n",
    "\\begin{equation}\\tag{2.r.15b}\n",
    "    U_{R_2} = R_2(I_{1\\mathrm{b}} + I_{2\\mathrm{b}})\n",
    "\\end{equation}    "
   ]
  },
  {
   "cell_type": "markdown",
   "id": "c8b42cfa",
   "metadata": {},
   "source": [
    "Via equations (2.r.6b) and (2.r.15b) and substitution,  "
   ]
  },
  {
   "cell_type": "markdown",
   "id": "70986809",
   "metadata": {},
   "source": [
    "\\begin{align*}\\tag{2.r.16b}\n",
    "    U_{R_2} &= R_2I_{1\\mathrm{b}} + \\frac{R_2R_1}{R_1+R_2}\\,I_2 \\\\ \\\\\n",
    "     &= R_2I_{1\\mathrm{b}} + RI_2\n",
    "\\end{align*}     "
   ]
  },
  {
   "cell_type": "markdown",
   "id": "ca0a4f80",
   "metadata": {},
   "source": [
    "Via equations (2.r.2) and (2.r.3),  \n",
    "\n",
    "$$ R_1(I_1-I_{1\\mathrm{b}}) = R_2I_{1\\mathrm{b}}$$"
   ]
  },
  {
   "cell_type": "markdown",
   "id": "b1b4b5be",
   "metadata": {},
   "source": [
    "$$ R_1I_1 = I_{1\\mathrm{b}}(R_1+R_2)$$"
   ]
  },
  {
   "cell_type": "markdown",
   "id": "b4dea3b0",
   "metadata": {},
   "source": [
    "\\begin{equation}\\tag{2.r.17}\n",
    "    I_{1\\mathrm{b}} = \\frac{R_1I_1}{R_1+R_2}\n",
    "\\end{equation}    "
   ]
  },
  {
   "cell_type": "markdown",
   "id": "7f31cfa5",
   "metadata": {},
   "source": [
    "Via equations (2.r17) and (2.r.16b),  \n",
    "\n",
    "\\begin{align*}\\tag{2.r.18b}\n",
    "    U_{R_2} &= \\frac{R_1R_2}{R_1+R_2}\\,I_1 + RI_2 \\\\ \\\\\n",
    "     &= R(I_1+I_2)\n",
    "\\end{align*}     "
   ]
  },
  {
   "cell_type": "markdown",
   "id": "526e3cb3",
   "metadata": {},
   "source": [
    "Via equations (2.r.18b) and (2.r.14) and substitution,  \n",
    "\n",
    "\\begin{equation}\\tag{2.r.19}\n",
    "    U_1 = R(I_1+I_2) + E\n",
    "\\end{equation}    "
   ]
  },
  {
   "cell_type": "markdown",
   "id": "1768ec83",
   "metadata": {},
   "source": [
    "Via equations (2.r.12a) and (2.r.19) and equivalence principle,  \n",
    "\n",
    "\\begin{equation}\\tag{2.r.20}\n",
    "    E = E_1\n",
    "\\end{equation}    "
   ]
  },
  {
   "cell_type": "markdown",
   "id": "28820794",
   "metadata": {},
   "source": [
    "#### Problem 3\n",
    "3. The three-terminal passive element is characterized by the following resistances:  $R_{11}=R_{22}=1\\Omega$, $R_{12}=R_{21}=0.5\\Omega$. Find an ideal voltmeter indication.  \n",
    "\n",
    "![Fig-P.2.9.3](Figures/Fig-P.2.9.3.png)"
   ]
  },
  {
   "cell_type": "markdown",
   "id": "d38dad28",
   "metadata": {},
   "source": [
    "Via the fact that:  \n",
    "\n",
    "\\begin{equation}\\tag{3.1}\n",
    "    R_{11}=\\frac{U_1}{I_1}_{\\Big| I_2=0} = 1\\Omega\n",
    "\\end{equation}    "
   ]
  },
  {
   "cell_type": "markdown",
   "id": "9a8134e4",
   "metadata": {},
   "source": [
    "in conjunction with the fact that $I_2=0$ and $U_1=10\\mathrm{V}$,  \n",
    "\n",
    "$$ \\frac{10\\mathrm{V}}{I_1} = 1\\Omega$$"
   ]
  },
  {
   "cell_type": "markdown",
   "id": "0d3f26c4",
   "metadata": {},
   "source": [
    "\\begin{equation}\\tag{3.2}\n",
    "    I_1 = \\frac{10\\mathrm{V}}{1\\Omega} = 10\\mathrm{A}\n",
    "\\end{equation}    "
   ]
  },
  {
   "cell_type": "markdown",
   "id": "7159a9a7",
   "metadata": {},
   "source": [
    "Via KVL, Ohm's Law, equation (3.3), and substitution,     \n",
    "\n",
    "\\begin{equation}\\tag{3.3}\n",
    "    U_{V} = U_{R_1} -U_{R_2}= R_1I_1 - R_2\\cdot 0= R_1\\cdot 10\\mathrm{A}\n",
    "\\end{equation}    "
   ]
  },
  {
   "cell_type": "markdown",
   "id": "b12a4bb4",
   "metadata": {},
   "source": [
    "Via equations (19a) and (19b), in conjunction with the fact that $I_2=0$ and, since this is a passive circuit, $\\mathbf{E}=0$,  \n",
    "\n",
    "$$ R_{11} = R_1 + R_3 = 1\\Omega$$"
   ]
  },
  {
   "cell_type": "markdown",
   "id": "416edc54",
   "metadata": {},
   "source": [
    "and,\n",
    "$$ R_{21} = R_{12} = R_3 = 0.5\\Omega$$"
   ]
  },
  {
   "cell_type": "markdown",
   "id": "6a00c38d",
   "metadata": {},
   "source": [
    "$$ R_1 + 0.5\\Omega = 1\\Omega$$"
   ]
  },
  {
   "cell_type": "markdown",
   "id": "de7491a9",
   "metadata": {},
   "source": [
    "\\begin{equation}\\tag{3.4}\n",
    "    R_1 = 0.5\\Omega\n",
    "\\end{equation}    "
   ]
  },
  {
   "cell_type": "markdown",
   "id": "c4f539cc",
   "metadata": {},
   "source": [
    "Via equations (3.3) and (3.4) and substitution,  \n",
    "\n",
    "\\begin{equation}\\tag{3.5}\n",
    "    U_V = 5\\mathrm{V}\n",
    "\\end{equation}    "
   ]
  },
  {
   "cell_type": "markdown",
   "id": "be8e2b50",
   "metadata": {},
   "source": [
    "#### Problem 4\n",
    "4. A three-terminal element is characterized by the resistances $R_{11}=R_{12}=R_{21}=1\\Omega$, $R_{22}=2\\Omega$ \n",
    "    and the open-circuit voltages: $E_1=-1\\mathrm{V}$, $E_2=2\\mathrm{V}$. An ideal ammeter is\n",
    "    connected between terminals 1 and 3, an ideal voltmeter is connected between terminals 2\n",
    "    and 3. Find their indications."
   ]
  },
  {
   "cell_type": "markdown",
   "id": "2e2ef00c",
   "metadata": {},
   "source": [
    "Via the fact that there is an ideal ammeter between terminals 1 and 3 and an ideal voltmeter between terminals 2 and 3,  \n",
    "\n",
    "\\begin{equation}\\tag{4.1}\n",
    "    U_1 = 0\n",
    "\\end{equation}    "
   ]
  },
  {
   "cell_type": "markdown",
   "id": "801945d1",
   "metadata": {},
   "source": [
    "and,\n",
    "\\begin{equation}\\tag{4.2}\n",
    "    I_2 = 0\n",
    "\\end{equation}    "
   ]
  },
  {
   "cell_type": "markdown",
   "id": "867ecaf4",
   "metadata": {},
   "source": [
    "Via equation (8a),  \n",
    "\n",
    "\\begin{align*}\\tag{4.3}\n",
    "    U_1 &= 0 = R_{11}I_1 + R_{12}I_2 + E_1 \\\\\n",
    "     &= 1\\Omega\\cdot I_1 -1\\mathrm{V}\n",
    "\\end{align*}     "
   ]
  },
  {
   "cell_type": "markdown",
   "id": "28fc7bbf",
   "metadata": {},
   "source": [
    "and,\n",
    "\\begin{align*}\\tag{4.4}\n",
    "    U_2 &= R_{21}I_1 + R_{22}I_2 + E_1 \\\\\n",
    "     &= 1\\Omega\\cdot I_1 + 2\\mathrm{V}\n",
    "\\end{align*}     "
   ]
  },
  {
   "cell_type": "markdown",
   "id": "b5cc04ee",
   "metadata": {},
   "source": [
    "Thus,\n",
    "\\begin{equation}\\tag{4.3}\n",
    "    I_1 = 1\\mathrm{A}\n",
    "\\end{equation}    "
   ]
  },
  {
   "cell_type": "markdown",
   "id": "e2e88c4f",
   "metadata": {},
   "source": [
    "Via equations (4.3) and (4.4) and substitution,  \n",
    "\n",
    "\\begin{equation}\\tag{4.5}\n",
    "    U_2 = 3\\mathrm{V}\n",
    "\\end{equation}    "
   ]
  },
  {
   "cell_type": "markdown",
   "id": "69c7e0de",
   "metadata": {},
   "source": [
    "#### Problem 5\n",
    "5. Find matrix $\\mathbf{G}$ and vector $\\mathbf{J}$ for the subcircuits shown in Fig. P.2.9.1.  \n",
    "\n",
    "![Fig-P.2.9.2](Figures/Fig-P.2.9.2.png)"
   ]
  },
  {
   "cell_type": "markdown",
   "id": "ee6523bd",
   "metadata": {},
   "source": [
    "For the **left hand circuit**.  Recall that $\\mathbf{G}$ is the multiplicative inverse of $\\mathbf{R}$,  \n",
    "\n",
    "$$ \\mathbf{G}\\cdot\\mathbf{R} = \\begin{bmatrix}\\tag{5.1}\n",
    "1 &0 \\\\\n",
    "0 &1\n",
    "\\end{bmatrix}$$"
   ]
  },
  {
   "cell_type": "markdown",
   "id": "2440c74b",
   "metadata": {},
   "source": [
    "Thus,\n",
    "$$\n",
    "\\begin{matrix}\\tag{5.1}\n",
    "    \\text{a:  }\\;G_{11}R_{11} + G_{12}R_{21} = 1 \\quad\\quad &\\text{b:  }\\;G_{11}R_{12} + G_{12}R_{22} = 0 \\\\\n",
    "    \\text{c:  }\\;G_{21}R_{11} + G_{22}R_{21} = 0 \\quad\\quad &\\text{d:  }\\;G_{21}R_{12} + G_{22}R_{22} = 1\n",
    "\\end{matrix}$$    "
   ]
  },
  {
   "cell_type": "markdown",
   "id": "43859068",
   "metadata": {},
   "source": [
    "Via equation (5.1b),  \n",
    "\n",
    "\\begin{equation}\\tag{5.1b}\n",
    "    G_{11} = -G_{12}\\,\\frac{R_{22}}{R_{12}} = -G_{12}\\,\\frac{R_{22}}{R_{21}}\n",
    "\\end{equation}    "
   ]
  },
  {
   "cell_type": "markdown",
   "id": "16f47dec",
   "metadata": {},
   "source": [
    "Via equations (5.1b) and (5.1a),  \n",
    "\n",
    "$$ G_{12}\\left(R_{21} - \\frac{R_{22}R_{11}}{R_{21}} \\right) = 1 $$"
   ]
  },
  {
   "cell_type": "markdown",
   "id": "0e0f37dd",
   "metadata": {},
   "source": [
    "Multiplying throughout by $R_{21}$ gives:  \n",
    "\n",
    "$$ G_{12}(R_{21}^2 - R_{22}R_{11})= R_{21}$$"
   ]
  },
  {
   "cell_type": "markdown",
   "id": "beab2059",
   "metadata": {},
   "source": [
    "\\begin{equation}\\tag{5.2}\n",
    "    G_{12} = G_{21}= \\frac{R_{21}}{R_{21}^2 - R_{22}R_{11}}\n",
    "\\end{equation}    "
   ]
  },
  {
   "cell_type": "markdown",
   "id": "48224dfd",
   "metadata": {},
   "source": [
    "And, via equations (5.2) and (5.1b) and substitution,  \n",
    "\n",
    "\\begin{equation}\\tag{5.3}\n",
    "    G_{11} = -\\frac{R_{22}}{R_{21}^2-R_{22}R_{11}}\n",
    "\\end{equation}    "
   ]
  },
  {
   "cell_type": "markdown",
   "id": "1a29de30",
   "metadata": {},
   "source": [
    "And, via equations (5.2) and (5.1c) and substitution,  \n",
    "\n",
    "\\begin{equation}\\tag{5.4}\n",
    "    G_{22} = -G_{21}\\,\\frac{R_{11}}{R_{21}} = -\\frac{R_{11}}{R_{21}^2-R_{22}R_{11}}\n",
    "\\end{equation}    "
   ]
  },
  {
   "cell_type": "markdown",
   "id": "4a82f2a7",
   "metadata": {},
   "source": [
    "Via equation (2.11),  \n",
    "\n",
    "\\begin{align*}\\tag{5.5}\n",
    "    R_{21}^2 - R_{22}R_{11} &= R_3^2 - R_3(R_1+R_3) \\\\\n",
    "     &= -R_3R_1\n",
    "\\end{align*}     "
   ]
  },
  {
   "cell_type": "markdown",
   "id": "a92a4c89",
   "metadata": {},
   "source": [
    "Via equations (2.11) and (5.2) and substitution,  \n",
    "\n",
    "\\begin{equation}\\tag{5.6}\n",
    "    G_{12} = G_{21} =- \\frac{R_3}{R_3R_1} = -\\frac{1}{R_1} = -G_1\n",
    "\\end{equation}    "
   ]
  },
  {
   "cell_type": "markdown",
   "id": "66793816",
   "metadata": {},
   "source": [
    "Via equations (2.11) and (5.3) and substitution,  \n",
    "\n",
    "\\begin{equation}\\tag{5.7}\n",
    "    G_{11} = G_1\n",
    "\\end{equation}    "
   ]
  },
  {
   "cell_type": "markdown",
   "id": "5ec9a87e",
   "metadata": {},
   "source": [
    "And, via equations (2.11) and (5.4) and substitution,  \n",
    "\n",
    "\\begin{equation}\\tag{5.8}\n",
    "    G_{22} = \\frac{R_1+R_3}{R_1R_3} = G_1 + G_3\n",
    "\\end{equation}    "
   ]
  },
  {
   "cell_type": "markdown",
   "id": "0a853aed",
   "metadata": {},
   "source": [
    "Finally,  \n",
    "\n",
    "$$ \\mathbf{G} = \\begin{bmatrix}\\tag{5.9}\n",
    "G_1 &-G_1\\\\\n",
    "-G_1 &G_1+G_3\n",
    "\\end{bmatrix}$$"
   ]
  },
  {
   "cell_type": "markdown",
   "id": "8552f9d8",
   "metadata": {},
   "source": [
    "Now, for $\\mathbf{J}$:  Via equation (8),  \n",
    "\n",
    "\\begin{equation}\\tag{5.10}\n",
    "    \\mathbf{J} = \\mathbf{I} - \\mathbf{GU}\n",
    "\\end{equation}    "
   ]
  },
  {
   "cell_type": "markdown",
   "id": "f906e8dd",
   "metadata": {},
   "source": [
    "Via equations (5.9) and (5.10) and substitution,  \n",
    "\n",
    "\\begin{align*}\\tag{5.10a}\n",
    "    J_1 &= I_1 - (U_1G_1 - U_2G_1) \\\\\n",
    "     &= I_1 - G_1(U_1-U_2)\n",
    "\\end{align*}     "
   ]
  },
  {
   "cell_type": "markdown",
   "id": "dee44e72",
   "metadata": {},
   "source": [
    "and,\n",
    "\\begin{align*}\\tag{5.10b}\n",
    "    J_2 &= I_2 - \\big(U_2(G_1+G_3) - U_1G_1\\big) \\\\\n",
    "     &= I_2 + U_1G_1 - U_2(G_1+G_3) \\\\\n",
    "     &= I_2 + G_1(U_1-U_2) - G_3U_2\n",
    "\\end{align*}     "
   ]
  },
  {
   "cell_type": "markdown",
   "id": "e6908320",
   "metadata": {},
   "source": [
    "Via equations (2.11) and (8a) and substitution,  \n",
    "\n",
    "\\begin{align*}\\tag{5.11a}\n",
    "    U_1 &= R_{11}I_1+ R_{12}I_2 + E_1 \\\\\n",
    "     &= (R_1+R_3)I_1 + R_3I_2 + E_1\n",
    "\\end{align*}     "
   ]
  },
  {
   "cell_type": "markdown",
   "id": "822fa79e",
   "metadata": {},
   "source": [
    "and,\n",
    "\\begin{align*}\\tag{5.11b}\n",
    "    U_2 &= R_{21}I_1 + R_{22}I_2 + E_2 \\\\\n",
    "     &= R_3(I_1+I_2) + E_2\n",
    "\\end{align*}     "
   ]
  },
  {
   "cell_type": "markdown",
   "id": "48882488",
   "metadata": {},
   "source": [
    "Via equations (5.11) and (5.10) and substitution,  \n",
    "\n",
    "\\begin{align*}\\tag{5.12a}\n",
    "    J_1 &= I_1 - G_1R_1I_1 \\\\\n",
    "     &= 0\n",
    "\\end{align*}     "
   ]
  },
  {
   "cell_type": "markdown",
   "id": "11561552",
   "metadata": {},
   "source": [
    "and,\n",
    "\\begin{align*}\\tag{5.12b}\n",
    "    J_2 &= I_2 - I_1 - I_2 - G_3E_2 + G_1R_1I_1 \\\\\n",
    "     &= -G_3E_2 \\\\\n",
    "     &= -G_3E\n",
    "\\end{align*}     "
   ]
  },
  {
   "cell_type": "markdown",
   "id": "1e9c569d",
   "metadata": {},
   "source": [
    "Now let's **test our findings** against another way of finding $\\mathbf{G}$.  Recall that:  \n",
    "\n",
    "\\begin{equation}\\tag{5.15}\n",
    "    G_{11} = \\frac{I_1}{U_1}_{\\Big | U_2=0;\\;\\mathbf{J}=0}\n",
    "\\end{equation}    "
   ]
  },
  {
   "cell_type": "markdown",
   "id": "47cfa1da",
   "metadata": {},
   "source": [
    "Note that $\\mathbf{J}=0$ implies that $\\mathbf{E}=0$.  Via KVL and the assumption that $U_2=0$,  \n",
    "\n",
    "\\begin{equation}\\tag{5.13}\n",
    "    U_2 = U_{R_3} = 0\n",
    "\\end{equation}    "
   ]
  },
  {
   "cell_type": "markdown",
   "id": "5104a38e",
   "metadata": {},
   "source": [
    "Via KVL, Ohm's Law, equation (5.13), and substitution,  \n",
    "\n",
    "\\begin{align*}\\tag{5.14}\n",
    "    U_1 &= U_{R_1} + U_{R_3} \\\\\n",
    "     &= R_1I_1\n",
    "\\end{align*}     "
   ]
  },
  {
   "cell_type": "markdown",
   "id": "1772ff79",
   "metadata": {},
   "source": [
    "Via equations (5.14) and (5.15) and substitution,  \n",
    "\n",
    "\\begin{equation}\\tag{5.16}\n",
    "    G_{11} = \\frac{I_1}{R_1I_1} = \\frac{1}{R_1} = G_1\n",
    "\\end{equation}    "
   ]
  },
  {
   "cell_type": "markdown",
   "id": "c5fbcad9",
   "metadata": {},
   "source": [
    "Which is consistant with equation (5.9)."
   ]
  },
  {
   "cell_type": "markdown",
   "id": "7a632008",
   "metadata": {},
   "source": [
    "Recall that:  \n",
    "\n",
    "\\begin{equation}\\tag{5.17}\n",
    "    G_{12}=G_{21}=\\frac{I_1}{U_2}_{\\Big | U_1=0;\\;\\mathbf{J}=0} = \\frac{I_2}{U_1}_{\\Big | U_2=0;\\;\\mathbf{J}=0}\n",
    "\\end{equation}    "
   ]
  },
  {
   "cell_type": "markdown",
   "id": "91efd62a",
   "metadata": {},
   "source": [
    "Via KVL and the assumption that $U_1=0$ and $\\mathbf{J}=0$, which imples that $\\mathbf{E}=0$,  \n",
    "\n",
    "$$U_1 = U_{R_1} + U_{R_3} = 0 $$"
   ]
  },
  {
   "cell_type": "markdown",
   "id": "7d75af6b",
   "metadata": {},
   "source": [
    "Thus,\n",
    "\\begin{equation}\\tag{5.18}\n",
    "    U_{R_1} = -U_{R_3}\n",
    "\\end{equation}    "
   ]
  },
  {
   "cell_type": "markdown",
   "id": "307d960b",
   "metadata": {},
   "source": [
    "Via KVL and Ohm's Law,  \n",
    "\n",
    "\\begin{equation}\\tag{5.19}\n",
    "    U_2 = U_{R_3} = R_3(I_1+I_2)\n",
    "\\end{equation}    "
   ]
  },
  {
   "cell_type": "markdown",
   "id": "181b4ee0",
   "metadata": {},
   "source": [
    "Via equation (5.18) and Ohm's Law,  \n",
    "\n",
    "$$ U_{R_1} = R_1I_1 = -R_3(I_1+I_2)$$"
   ]
  },
  {
   "cell_type": "markdown",
   "id": "7b61c294",
   "metadata": {},
   "source": [
    "$$ -R_3I_2 = I_1(R_1+R_3)$$"
   ]
  },
  {
   "cell_type": "markdown",
   "id": "0de96808",
   "metadata": {},
   "source": [
    "\\begin{equation}\\tag{5.18a}\n",
    "    I_2 = - \\frac{R_1+R_3}{R_3}\\,I_1\n",
    "\\end{equation}    "
   ]
  },
  {
   "cell_type": "markdown",
   "id": "2bd1ed35",
   "metadata": {},
   "source": [
    "Via equations (5.18a) and (5.19),  \n",
    "\n",
    "\\begin{align*}\\tag{5.19a}\n",
    "    U_2 &= I_1R_3\\left(1 - \\frac{R_1+R_3}{R_3}\\right) \\\\ \\\\\n",
    "     &= I_1(R_3 - R_1 - R_3) \\\\\n",
    "     &= -R_1I_1\n",
    "\\end{align*}     "
   ]
  },
  {
   "cell_type": "markdown",
   "id": "c216af85",
   "metadata": {},
   "source": [
    "Finally, via equations (5.19a) and (5.17),  \n",
    "\n",
    "\\begin{equation}\\tag{5.20}\n",
    "    G_{21}=G_{12} = -\\frac{I_1}{R_1I_1} = -G_1\n",
    "\\end{equation}    "
   ]
  },
  {
   "cell_type": "markdown",
   "id": "ec0313c4",
   "metadata": {},
   "source": [
    "Which is consistant with equation (5.9)."
   ]
  },
  {
   "cell_type": "markdown",
   "id": "3f2903a4",
   "metadata": {},
   "source": [
    "Recall that:  \n",
    "\n",
    "\\begin{equation}\\tag{5.21}\n",
    "    G_{22} = \\frac{I_2}{U_2}_{\\Big|U_1=0;\\;\\mathbf{J}=0 }\n",
    "\\end{equation}    "
   ]
  },
  {
   "cell_type": "markdown",
   "id": "cf6d3d31",
   "metadata": {},
   "source": [
    "Equations (5.18), (5.18a), and (5.19) hold true under the assumption made by equation (5.21).  Via equation (5.18a),  \n",
    "\n",
    "\\begin{equation}\\tag{5.18b}\n",
    "    I_1 = - \\frac{R_3}{R_3+R_1}\\,I_2\n",
    "\\end{equation}"
   ]
  },
  {
   "cell_type": "markdown",
   "id": "795e781d",
   "metadata": {},
   "source": [
    "Via equations (5.18b) and (5.19),  \n",
    "\n",
    "$$ U_2 = R_3I_2\\left(1 - \\frac{R_3}{R_1+R_3}\\right)$$"
   ]
  },
  {
   "cell_type": "markdown",
   "id": "d4ea5ab3",
   "metadata": {},
   "source": [
    "$$ U_2 = I_2\\,\\frac{R_1R_3+R_3^2 - R_3^2}{R_1+R_3}$$"
   ]
  },
  {
   "cell_type": "markdown",
   "id": "018fdedd",
   "metadata": {},
   "source": [
    "\\begin{equation}\\tag{5.22}\n",
    "    U_2 = I_2\\,\\frac{R_1R_3}{R_1+R_3} = I_2\\,\\frac{1}{G_1+G_3}\n",
    "\\end{equation}    "
   ]
  },
  {
   "cell_type": "markdown",
   "id": "f57fb734",
   "metadata": {},
   "source": [
    "Via equations (5.21) and (5.22),  \n",
    "\n",
    "\\begin{equation}\\tag{5.23}\n",
    "    G_{22} = G_1+G_3\n",
    "\\end{equation}    "
   ]
  },
  {
   "cell_type": "markdown",
   "id": "6784e525",
   "metadata": {},
   "source": [
    "Now, we will find $\\mathbf{G}$ and $\\mathbf{J}$ for the **right hand circuit**.  \n",
    "\n",
    "![Fig-P.2.9.2](Figures/Fig-P.2.9.2.png)"
   ]
  },
  {
   "cell_type": "markdown",
   "id": "60752805",
   "metadata": {},
   "source": [
    "First let's find $\\mathbf{J}$.  Under short-circuit conditions for the entire subcircuit,  \n",
    "\n",
    "$$ J_1 = -I_1$$\n",
    "\n",
    "$$ J_2 = I_2$$\n",
    "\n",
    "and,\n",
    "$$J:= J_2 = J_1 $$\n",
    "\n",
    "Finally,  \n",
    "\n",
    "$$\\mathbf{J} = \\begin{bmatrix}\\tag{5.r.1} -I_1\\\\I_2\\end{bmatrix}$$ "
   ]
  },
  {
   "cell_type": "markdown",
   "id": "0977e25a",
   "metadata": {},
   "source": [
    "Thus, under short-circuit conditions for the entire subcircuit,  \n",
    "$$-I_1=I_2 $$"
   ]
  },
  {
   "cell_type": "markdown",
   "id": "1a6b0446",
   "metadata": {},
   "source": [
    "Thus, $\\mathbf{J}=0$ implies that $I_1=I_2=0$."
   ]
  },
  {
   "cell_type": "markdown",
   "id": "bd4ad92e",
   "metadata": {},
   "source": [
    "Next, let's find $G_{11}$.  Via KVL,  \n",
    "\n",
    "\\begin{equation}\\tag{5.r.2}\n",
    "    U_1=U_{R_1}\n",
    "\\end{equation}    "
   ]
  },
  {
   "cell_type": "markdown",
   "id": "88e657be",
   "metadata": {},
   "source": [
    "\\begin{equation}\\tag{5.r.3}\n",
    "    U_2 =U_{R_2} = 0\n",
    "\\end{equation}    "
   ]
  },
  {
   "cell_type": "markdown",
   "id": "4b012640",
   "metadata": {},
   "source": [
    "and,\n",
    "\\begin{equation}\\tag{5.r.4}\n",
    "    U_{R_1} = E + U_{R_2} = E\n",
    "\\end{equation}    "
   ]
  },
  {
   "cell_type": "markdown",
   "id": "f6568d8f",
   "metadata": {},
   "source": [
    "Thus,\n",
    "\\begin{equation}\\tag{5.r.5}\n",
    "    U_1 = E\n",
    "\\end{equation}    "
   ]
  },
  {
   "cell_type": "markdown",
   "id": "2173b5d9",
   "metadata": {},
   "source": [
    "and,\n",
    "\\begin{equation}\\tag{5.r.6}\n",
    "    G_{11} = \\frac{I_1}{U_1}_{\\Big| U_2=0;\\;\\mathbf{J}=0} = \\frac{0}{E} = 0\n",
    "\\end{equation}    "
   ]
  },
  {
   "cell_type": "markdown",
   "id": "d7bfcbac",
   "metadata": {},
   "source": [
    "Now, let's find $G_{21}=G_{12}$.  Assuming $U_2=0$ and $\\mathbf{J}=0$ -- the same assumptions that the equation that gives $G_{21}$ makes -- equations (5.r.2) to, and including, (5.r.5) hold true.  Thus,  \n",
    "\n",
    "\\begin{equation}\\tag{5.r.7}\n",
    "    G_{21}=G_{12} = 0\n",
    "\\end{equation}    "
   ]
  },
  {
   "cell_type": "markdown",
   "id": "4b5594b7",
   "metadata": {},
   "source": [
    "Finding $G_{22}$ involves dividing by zero which means that there is no conductance matrix that characterizes the right hand circuit.  This goes hand in hand with there being no multiplicative inverse of $\\mathbf{R}$ in the case of the right hand circuit."
   ]
  },
  {
   "cell_type": "markdown",
   "id": "acf62112",
   "metadata": {},
   "source": [
    "#### Problem 6\n",
    "6. Find matrices $\\mathbf{R}$, $\\mathbf{G}$ and $\\mathbf{C}$ of the two-port shown. Find the expressions and values for $R_1=5\\Omega$, $R_2=20\\Omega$, and $R_3=10\\Omega$.  \n",
    "\n",
    "![Fig-P.2.9.6](Figures/Fig-P.2.9.6.png)"
   ]
  },
  {
   "cell_type": "markdown",
   "id": "22bf0c97",
   "metadata": {},
   "source": [
    "Assuming $I_2 = 0$, via KVL and Ohm's Law,  \n",
    "\n",
    "$$ R_1I_{1\\mathrm{l}} = I_{1\\mathrm{r}}(R_3+R_2)$$"
   ]
  },
  {
   "cell_type": "markdown",
   "id": "56c2b303",
   "metadata": {},
   "source": [
    "\\begin{align*}\\tag{6.1}\n",
    "    5\\Omega\\cdot I_{1\\mathrm{l}} &= I_{1\\mathrm{r}}(20\\Omega+10\\Omega) \\\\\n",
    "     &= 30\\Omega\\cdot I_{1\\mathrm{r}}\n",
    "\\end{align*}     "
   ]
  },
  {
   "cell_type": "markdown",
   "id": "64de27ba",
   "metadata": {},
   "source": [
    "Thus,\n",
    "\n",
    "\\begin{equation}\\tag{6.1}\n",
    "    I_{1\\mathrm{l}}=6\\cdot I_{1\\mathrm{r}}\n",
    "\\end{equation}    "
   ]
  },
  {
   "cell_type": "markdown",
   "id": "cff8bb4f",
   "metadata": {},
   "source": [
    "and,\n",
    "\\begin{equation}\\tag{6.2}\n",
    "    U_1 = R_1I_{1\\mathrm{l}} = 5\\Omega\\cdot I_{1\\mathrm{l}}\n",
    "\\end{equation}    "
   ]
  },
  {
   "cell_type": "markdown",
   "id": "cc34c44a",
   "metadata": {},
   "source": [
    "Via KCL,  \n",
    "\n",
    "\\begin{equation}\\tag{6.3}\n",
    "    I_1=I_{1\\mathrm{l}} + I_{1\\mathrm{r}}\n",
    "\\end{equation}    "
   ]
  },
  {
   "cell_type": "markdown",
   "id": "ae39c378",
   "metadata": {},
   "source": [
    "Via equations (6.1) and (6.3) and substitution,  \n",
    "\n",
    "\\begin{equation}\\tag{6.4}\n",
    "    I_1 = I_{1\\mathrm{l}} + \\frac{1}{6}\\,I_{1\\mathrm{l}} = I_{1\\mathrm{l}}\\,\\left(1+\\frac{1}{6}\\right) = I_{1\\mathrm{l}}\\,\\frac{7}{6}\n",
    "\\end{equation}     "
   ]
  },
  {
   "cell_type": "markdown",
   "id": "c45997ba",
   "metadata": {},
   "source": [
    "Thus,\n",
    "\\begin{equation}\\tag{6.4}\n",
    "    I_{1\\mathrm{l}} = \\frac{6}{7}\\,I_1\n",
    "\\end{equation}    "
   ]
  },
  {
   "cell_type": "markdown",
   "id": "a8f63134",
   "metadata": {},
   "source": [
    "And, via equations (6.4) and (6.2) and substitution,  \n",
    "\n",
    "\\begin{equation}\\tag{6.5}\n",
    "    U_1 = 5\\Omega\\,\\frac{6}{7}\\,I_1 = \\frac{30}{7}\\,\\Omega\\,I_1\n",
    "\\end{equation}    "
   ]
  },
  {
   "cell_type": "markdown",
   "id": "655adaee",
   "metadata": {},
   "source": [
    "Via equation (6.5) and the fact that,  \n",
    "\n",
    "$$ R_{11}=\\frac{U_1}{I_1}_{\\Big | I_2=0}$$"
   ]
  },
  {
   "cell_type": "markdown",
   "id": "c681fc06",
   "metadata": {},
   "source": [
    "\\begin{equation}\\tag{6.6}\n",
    "    R_{11} = \\frac{30}{7}\\,\\Omega\n",
    "\\end{equation}    "
   ]
  },
  {
   "cell_type": "markdown",
   "id": "017f56cb",
   "metadata": {},
   "source": [
    "Assuming $I_2=0$, via KVL and Ohm's Law,  \n",
    "\n",
    "\\begin{equation}\\tag{6.7}\n",
    "    U_2 = R_3I_{1\\mathrm{r}}\n",
    "\\end{equation}    "
   ]
  },
  {
   "cell_type": "markdown",
   "id": "17107135",
   "metadata": {},
   "source": [
    "Via equations (6.1) and (6.3) and substitution,  \n",
    "\n",
    "\\begin{equation}\\tag{6.8}\n",
    "    I_1 = I_{1\\mathrm{r}}(1 + 6) = 7I_{1\\mathrm{r}}\n",
    "\\end{equation}    "
   ]
  },
  {
   "cell_type": "markdown",
   "id": "99c044f0",
   "metadata": {},
   "source": [
    "Via equations (6.8) and (6.7) and substitution,  \n",
    "\n",
    "\\begin{equation}\\tag{6.9}\n",
    "    U_2 = R_3\\,\\frac{I_1}{7}\n",
    "\\end{equation}    "
   ]
  },
  {
   "cell_type": "markdown",
   "id": "c0bb66ee",
   "metadata": {},
   "source": [
    "Via equation (6.9) and the fact that:  \n",
    "\n",
    "$$ R_{21} = \\frac{U_2}{I_1}_{\\Big| I_2=0} = R_{12}$$"
   ]
  },
  {
   "cell_type": "markdown",
   "id": "4ae7c52c",
   "metadata": {},
   "source": [
    "\\begin{equation}\\tag{6.10}\n",
    "    R_{21} = R_{12} = \\frac{R_3}{7} = \\frac{10}{7}\\,\\Omega\n",
    "\\end{equation}    "
   ]
  },
  {
   "cell_type": "markdown",
   "id": "83cc18ef",
   "metadata": {},
   "source": [
    "Assuming $I_1=0$, via KVL and Ohm's Law,  \n",
    "\n",
    "\\begin{equation}\\tag{6.11}\n",
    "    U_2 = U_{R_2} = R_2I_{2\\mathrm{r}} = 20\\Omega\\,I_{2\\mathrm{r}}\n",
    "\\end{equation}    "
   ]
  },
  {
   "cell_type": "markdown",
   "id": "11ec1aab",
   "metadata": {},
   "source": [
    "and,\n",
    "\\begin{align*}\\tag{6.12}\n",
    "    U_2 &= U_{R_3} + U_{R_1} \\\\\n",
    "     &= R_3I_{2\\mathrm{l}} + R_1I_{2\\mathrm{l}} \\\\\n",
    "     &= I_{2\\mathrm{l}}(R_3+R_1) = I_{2\\mathrm{l}}15\\Omega\n",
    "\\end{align*}     "
   ]
  },
  {
   "cell_type": "markdown",
   "id": "4d0bf03f",
   "metadata": {},
   "source": [
    "Via equations (6.12) and (6.11) and equivalence principle,  \n",
    "\n",
    "$$ 20\\Omega\\,I_{2\\mathrm{r}} = 15\\Omega\\,I_{2\\mathrm{l}}$$"
   ]
  },
  {
   "cell_type": "markdown",
   "id": "c61acfa1",
   "metadata": {},
   "source": [
    "\\begin{equation}\\tag{6.13}\n",
    "    4I_{2\\mathrm{r}} = 3I_{2\\mathrm{l}}\n",
    "\\end{equation}    "
   ]
  },
  {
   "cell_type": "markdown",
   "id": "34f5ffbb",
   "metadata": {},
   "source": [
    "And, via KCL,  \n",
    "\n",
    "\\begin{equation}\\tag{6.3a}\n",
    "    I_2 = I_{2\\mathrm{l}} + I_{2\\mathrm{r}}\n",
    "\\end{equation}    "
   ]
  },
  {
   "cell_type": "markdown",
   "id": "ae5cc698",
   "metadata": {},
   "source": [
    "Via equations (6.3a) and (6.13),  \n",
    "\n",
    "\\begin{equation}\\tag{6.14}\n",
    "    I_2 = I_{2\\mathrm{r}}\\left(\\frac{4}{3} + 1\\right) = \\frac{7}{3}\\,I_{2\\mathrm{r}}\n",
    "\\end{equation}    "
   ]
  },
  {
   "cell_type": "markdown",
   "id": "8b78b980",
   "metadata": {},
   "source": [
    "Recall that:  \n",
    "\n",
    "\\begin{equation}\\tag{6.15}\n",
    "    R_{22}=\\frac{U_2}{I_2}_{\\Big| I_1=0}\n",
    "\\end{equation}    "
   ]
  },
  {
   "cell_type": "markdown",
   "id": "b51d2cf6",
   "metadata": {},
   "source": [
    "Via equations (6.11), (6.14), and (6.15),  \n",
    "\n",
    "\\begin{equation}\\tag{6.16}\n",
    "    R_{22} = \\frac{60}{7}\\,\\Omega\n",
    "\\end{equation}    "
   ]
  },
  {
   "cell_type": "markdown",
   "id": "fcb61ba0",
   "metadata": {},
   "source": [
    "Thus,\n",
    "$$ \\mathbf{R} = \\frac{1}{7}\\,\\Omega\\cdot\\begin{bmatrix}\\tag{6.17}\n",
    "30 &10 \\\\\n",
    "10 &60\n",
    "\\end{bmatrix} \n",
    "$$"
   ]
  },
  {
   "cell_type": "markdown",
   "id": "a392669a",
   "metadata": {},
   "source": [
    "Now, let's find $\\mathbf{G}$.  Assuming $U_2=0$, via KVL and Ohm's Law,  \n",
    "\n",
    "\\begin{equation}\\tag{6.G.1}\n",
    "    U_2= U_{R_2} = R_2(I_{1\\mathrm{r}}+I_{2\\mathrm{r}}) = 0\n",
    "\\end{equation}    "
   ]
  },
  {
   "cell_type": "markdown",
   "id": "15fda5d1",
   "metadata": {},
   "source": [
    "Thus,\n",
    "\\begin{equation}\\tag{6.G.1}\n",
    "    I_{1\\mathrm{r}} = -I_{2\\mathrm{r}}\n",
    "\\end{equation}    "
   ]
  },
  {
   "cell_type": "markdown",
   "id": "97bf5609",
   "metadata": {},
   "source": [
    "And,\n",
    "\\begin{equation}\\tag{6.G.2}\n",
    "    U_1 = R_1(I_{1\\mathrm{l}} + I_{2\\mathrm{l}}) = R_3(I_{1\\mathrm{r}} - I_{2\\mathrm{l}})\n",
    "\\end{equation}    "
   ]
  },
  {
   "cell_type": "markdown",
   "id": "5db6e675",
   "metadata": {},
   "source": [
    "\\begin{equation}\\tag{6.G.2a}\n",
    "    U_1 = R_1(I_{1\\mathrm{l}} + I_{2\\mathrm{l}})\n",
    "\\end{equation}"
   ]
  },
  {
   "cell_type": "markdown",
   "id": "e8bbfecb",
   "metadata": {},
   "source": [
    "\\begin{equation}\\tag{6.G.2b}\n",
    "    U_1 = R_3(I_{1\\mathrm{r}} - I_{2\\mathrm{l}})\n",
    "\\end{equation}"
   ]
  },
  {
   "cell_type": "markdown",
   "id": "5137ab98",
   "metadata": {},
   "source": [
    "Via equations (6.G.2.a) and (6.G.2.b) and equivalence principle,  \n",
    "\n",
    "\\begin{equation}\\tag{6.G.2c}\n",
    "    R_1(I_{1\\mathrm{l}} + I_{2\\mathrm{l}}) = R_3(I_{1\\mathrm{r}} - I_{2\\mathrm{l}})\n",
    "\\end{equation}"
   ]
  },
  {
   "cell_type": "markdown",
   "id": "cfd7ca51",
   "metadata": {},
   "source": [
    "Via KCL,\n",
    "\\begin{equation}\\tag{6.3a}\n",
    "    I_2 = I_{2\\mathrm{l}} + I_{2\\mathrm{r}}\n",
    "\\end{equation}    "
   ]
  },
  {
   "cell_type": "markdown",
   "id": "7d34e0e4",
   "metadata": {},
   "source": [
    "Via equations (6.G.1) and (6.G.2b),  \n",
    "\n",
    "\\begin{equation}\\tag{6.G.3}\n",
    "    U_1 = -R_3(I_{2\\mathrm{r}} + I_{2\\mathrm{l}})\n",
    "\\end{equation}    "
   ]
  },
  {
   "cell_type": "markdown",
   "id": "0461adf5",
   "metadata": {},
   "source": [
    "Via equations (6.G.3) and (6.3a),  \n",
    "\n",
    "\\begin{equation}\\tag{6.G.4}\n",
    "    U_1=-R_3I_2\n",
    "\\end{equation}    "
   ]
  },
  {
   "cell_type": "markdown",
   "id": "b9cc133f",
   "metadata": {},
   "source": [
    "Via equation (6.G.4) and the notion that,  \n",
    "\n",
    "$$ G_{12}=G_{21}=\\frac{I_2}{U_1}_{\\Big| U_2=0}$$"
   ]
  },
  {
   "cell_type": "markdown",
   "id": "d1311616",
   "metadata": {},
   "source": [
    "\\begin{equation}\\tag{6.G.5}\n",
    "    G_{12}=G_{21}=-\\frac{1}{R_3} = -G_3 = -0.1\\mathrm{S}\n",
    "\\end{equation}    "
   ]
  },
  {
   "cell_type": "markdown",
   "id": "95bc0afa",
   "metadata": {},
   "source": [
    "Now, let's rewrite equation (6.G.2c) to get $I_{2\\mathrm{l}}$ on one side of the equation.  \n",
    "\n",
    "$$ I_{2\\mathrm{l}}(R_1+R_3 )= R_3I_{1\\mathrm{r}} - R_1I_{1\\mathrm{l}}$$"
   ]
  },
  {
   "cell_type": "markdown",
   "id": "fc981f80",
   "metadata": {},
   "source": [
    "\\begin{equation}\\tag{6.G.2c}\n",
    "    I_{2\\mathrm{l}} = \\frac{R_3I_{1\\mathrm{r}} - R_1I_{1\\mathrm{l}}}{R_1+R_3}\n",
    "\\end{equation}    "
   ]
  },
  {
   "cell_type": "markdown",
   "id": "8e9e4385",
   "metadata": {},
   "source": [
    "Via the fact that $\\mathbf{G}$ is the multiplicative inverse of $\\mathbf{R}$,  \n",
    "\n",
    "$$ \\mathbf{RG} = \\begin{bmatrix}\\tag{6.G.6}\n",
    "1 &0 \\\\\n",
    "0 &1 \n",
    "\\end{bmatrix}\n",
    "$$"
   ]
  },
  {
   "cell_type": "markdown",
   "id": "ffcfed6a",
   "metadata": {},
   "source": [
    "and,\n",
    "$$\\begin{matrix}\\tag{6.G.6}\n",
    "    \\text{a:  }\\;\\frac{1}{7}\\,\\Omega\\,(30G_{11} + 10G_{21}) = 1 \\quad\\quad&\\text{b:  }\\;\\frac{1}{7}\\,\\Omega\\,(30G_{12} + 10G_{22}) = 0 \\\\\n",
    "    \\text{c:  }\\;\\frac{1}{7}\\,\\Omega\\,(10G_{11} + 60G_{21})=0 \\quad\\quad&\\text{d:  }\\;\\frac{1}{7}\\,\\Omega\\,(10G_{12} + 60G_{22})=1\n",
    "\\end{matrix}\n",
    "$$"
   ]
  },
  {
   "cell_type": "markdown",
   "id": "07cca3d6",
   "metadata": {},
   "source": [
    "Via equations (6.G.5) and (6.G.6c),  \n",
    "\n",
    "$$60G_{21} = -10G_{11} $$"
   ]
  },
  {
   "cell_type": "markdown",
   "id": "114eef83",
   "metadata": {},
   "source": [
    "\n",
    "\\begin{equation}\\tag{6.G.7}\n",
    "    G_{11} = -\\frac{1}{6}\\,G_{21} \\approxeq 16.67\\mathrm{mS}\n",
    "\\end{equation}    "
   ]
  },
  {
   "cell_type": "code",
   "execution_count": 3,
   "id": "da9afbf8",
   "metadata": {},
   "outputs": [
    {
     "data": {
      "text/plain": [
       "0.016666666666666666"
      ]
     },
     "execution_count": 3,
     "metadata": {},
     "output_type": "execute_result"
    }
   ],
   "source": [
    "0.1/6"
   ]
  },
  {
   "cell_type": "markdown",
   "id": "09f91f0a",
   "metadata": {},
   "source": [
    "Via equation (6.G.7) and (6.G.6a) and substitution,  \n",
    "\n",
    "$$ 30\\cdot16.67\\mathrm{mS} - 1\\mathrm{S} = 7\\mathrm{S}$$"
   ]
  },
  {
   "cell_type": "markdown",
   "id": "cc69b26c",
   "metadata": {},
   "source": [
    "The above equation is false, which means there is a lack of consistency with our approach.  *Discard what follows below.*"
   ]
  },
  {
   "cell_type": "code",
   "execution_count": 1,
   "id": "3374d6fb",
   "metadata": {},
   "outputs": [
    {
     "data": {
      "text/plain": [
       "42"
      ]
     },
     "execution_count": 1,
     "metadata": {},
     "output_type": "execute_result"
    }
   ],
   "source": [
    "7*6"
   ]
  },
  {
   "cell_type": "markdown",
   "id": "3cd5fc72",
   "metadata": {},
   "source": [
    "Via equations (6.G.7) and (6.G.6b) and substitution,  \n",
    "\n",
    "\\begin{equation}\\tag{6.G.8}\n",
    "    G_{12} = -\\frac{7}{170}\\,\\mathrm{S}\n",
    "\\end{equation}    "
   ]
  },
  {
   "cell_type": "markdown",
   "id": "a70022fb",
   "metadata": {},
   "source": [
    "Equation (6.G.8) contradicts equation (6.G.5).\n",
    "\n",
    "$$ -\\frac{7}{170}\\ne -0.1$$"
   ]
  },
  {
   "cell_type": "markdown",
   "id": "87ec5f40",
   "metadata": {},
   "source": [
    "Maybe the notion that $G_{12}=G_{21}$ is false when it comes to two-port, four-terminal circuits.  Let's test whether the notion that $G_{21}=-0.1\\mathrm{S}$ is consistent with equation 6.G.6.  Via equations (6.G.6c) and (6.G.5) and substitution,  \n",
    "\n",
    "$$ -3\\mathrm{S} = -10G_{22}$$"
   ]
  },
  {
   "cell_type": "markdown",
   "id": "76d48dc5",
   "metadata": {},
   "source": [
    "\\begin{equation}\\tag{6.G.9}\n",
    "    G_{22} = 0.3\\mathrm{S}\n",
    "\\end{equation}    "
   ]
  },
  {
   "cell_type": "markdown",
   "id": "e15f907e",
   "metadata": {},
   "source": [
    "Via equation (6.G.9) and (6.G.6d) and substitution,  \n",
    "\n",
    "\\begin{align*}\n",
    "    7\\mathrm{S} &= -10\\cdot 0.1\\mathrm{S} + 60\\cdot0.3\\mathrm{S} \\\\\n",
    "     &= (17)\\,\\mathrm{S}\n",
    "\\end{align*}     "
   ]
  },
  {
   "cell_type": "code",
   "execution_count": 2,
   "id": "e085de9a",
   "metadata": {},
   "outputs": [
    {
     "data": {
      "text/plain": [
       "18.0"
      ]
     },
     "execution_count": 2,
     "metadata": {},
     "output_type": "execute_result"
    }
   ],
   "source": [
    "0.3*60"
   ]
  },
  {
   "cell_type": "markdown",
   "id": "4e60e996",
   "metadata": {},
   "source": [
    "The abose equation is false, which means that there is a lack of consistency."
   ]
  }
 ],
 "metadata": {
  "kernelspec": {
   "display_name": "Python 3",
   "language": "python",
   "name": "python3"
  },
  "language_info": {
   "codemirror_mode": {
    "name": "ipython",
    "version": 3
   },
   "file_extension": ".py",
   "mimetype": "text/x-python",
   "name": "python",
   "nbconvert_exporter": "python",
   "pygments_lexer": "ipython3",
   "version": "3.8.10"
  }
 },
 "nbformat": 4,
 "nbformat_minor": 5
}
